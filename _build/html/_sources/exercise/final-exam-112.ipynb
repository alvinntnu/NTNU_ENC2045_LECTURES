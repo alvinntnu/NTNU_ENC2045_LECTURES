{
 "cells": [
  {
   "cell_type": "markdown",
   "metadata": {},
   "source": [
    "# Final Exam"
   ]
  },
  {
   "cell_type": "markdown",
   "metadata": {},
   "source": [
    "## Instructions\n",
    "\n",
    "- The final examination comprises **three** questions. Ensure to address all the questions by presenting your codes comprehensively and summarizing your solutions, outcomes, and analysis in a clear paragraph at the end of your answers for each question.\n",
    "\n",
    "- Everyone needs to work on the questions independently. You are NOT ALLOWED to discuss the questions with your peers. However, you are free to make use of any online resources, including LLMs.\n",
    "\n",
    "- All required datasets for the exam are accessible from [`demo_data/final`](https://www.dropbox.com/scl/fo/5pwj1elzuvx5pti9wx3k4/AJxUrG8ZF3PmjFkkCln4sQg?rlkey=lyxbdegvsx5e9y45j2d52e6oh&dl=0).\n",
    "\n",
    "- Similar to previous assignments, download the current notebook as your answer sheet and submit both your **notebook** (`*.ipynb`) and the **HTML** output (`*.html`) via Moodle.\n",
    "\n",
    "- Deadline for Final Submission: **24:00, Sunday, June 9**, via Moodle.\n",
    "\n",
    ":::{warning}\n",
    "Evaluation will primarily rely on the outputs embedded in the HTML version of your notebook file. Ensure all essential outputs from your code and your text for summarization are clearly formatted in the HTML file.\n",
    ":::\n",
    "\n",
    ":::{tip}\n",
    "If you have any questions regarding the descriptions of the tasks, please send me an email message. I will response promptly.\n",
    ":::\n"
   ]
  },
  {
   "cell_type": "markdown",
   "metadata": {},
   "source": [
    "------"
   ]
  },
  {
   "cell_type": "markdown",
   "metadata": {},
   "source": [
    "## Question 1 (35%)\n",
    "\n",
    "Please download the dataset from `demo_data/final/spoken_genre_dataset.csv`.\n",
    "\n",
    "This dataset contains utterances from different speakers, each labeled with its corresponding spoken genre. There are two types of spoken genres: `1` for *informative* and `0` for *entertaining* speech.\n",
    "\n",
    "Your task is to create a series of deep learning based classifiers to effectively predict the spoken genre of each utterance. In your experiments, please do the following:\n",
    "\n",
    "- Remember to randomize the data and split it into training and testing sets.\n",
    "- Consider models based on LSTM, bi-directional LSTM, and transformers.\n",
    "- Utilize pre-trained word embeddings in your models.\n",
    "- Fine-tune the hyperparameters for optimal performance.\n",
    "- Compare the performances of all the models created in your experiments.\n",
    "- Perform a qualitative analysis using LIME based on the best-performing classifier.\n",
    "- Report the model performance on the testing set.\n",
    "\n",
    "At the end of your answer, please include a clear paragraph summarizing the entire experimental process and your findings."
   ]
  },
  {
   "cell_type": "markdown",
   "metadata": {},
   "source": [
    "## Question 2 (35%)\n",
    "\n",
    "Please download the dataset from `demo_data/final/cmn.txt`.\n",
    "\n",
    "This dataset contains parallel sentence pairs in English and Chinese. Your task is to create a sequence-to-sequence model with attention to effectively translate English text into Chinese. In your experiment, please do the following:\n",
    "\n",
    "- Randomize the data and split it into training and testing sets.\n",
    "- Consider models based on LSTM and attention mechanisms.\n",
    "- Utilize pre-trained word embeddings in your models.\n",
    "- Choose one sentence from the data and illustrate the attention mechanism visually.\n",
    "- Report the model performance on the testing set.\n",
    "\n",
    "At the end of your answer, please include a clear paragraph summarizing the entire experimental process and your findings."
   ]
  },
  {
   "cell_type": "markdown",
   "metadata": {},
   "source": [
    "## Question 3 (30%)\n",
    "\n",
    "Please download the dataset from `demo_data/final/chinse_famous_quotes.txt`.\n",
    "\n",
    "This dataset contains 25 Chinese sentences. Your task is to create a Langchain-based application that utilizes the capabilities of LLMs to accomplish the following linguistic tasks on the dataset:\n",
    "\n",
    "- Tokenize each Chinese sentence into word tokens.\n",
    "- Provide an English gloss for each Chinese word token.\n",
    "- Present the results in the format of an embeded Python list (see below).\n",
    "- Evaluate the performance of the LLM.\n",
    "\n",
    "At the end of your answer, please include a clear paragraph summarizing the entire experimental process and your findings/observations.\n",
    "\n",
    "\n",
    "```{figure} ../images/final-chat-example.png\n",
    "---\n",
    "name: directive-fig\n",
    "---\n",
    "An example of a ChatGPT prompt and its responses\n",
    "```\n",
    "\n",
    "```\n",
    "[['比', 'compared to'], ['別人', 'others'], ['優秀', 'excellent'], ['，', ''], ['不', 'not'], ['會', 'will'], ['顯得', 'appear'], ['自己', 'oneself'], ['高貴', 'noble'], ['；', ''], ['真正', 'true'], ['的', ''], ['高貴', 'noble'], ['，', ''], ['是', 'is'], ['超越', 'surpass'], ['過去', 'the past'], ['的', ''], ['自己', 'oneself'], ['。', '']]\n",
    "\n",
    "```\n",
    "\n",
    ":::{important}\n",
    "You have the flexibility to utilize any LLMs accessible to you. Your response won't be assessed based on the model chosen. Instead, it will be evaluated on the functionality of the code as a potential application.\n",
    ":::\n"
   ]
  }
 ],
 "metadata": {
  "celltoolbar": "Tags",
  "kernelspec": {
   "display_name": "python-notes",
   "language": "python",
   "name": "python3"
  },
  "language_info": {
   "codemirror_mode": {
    "name": "ipython",
    "version": 3
   },
   "file_extension": ".py",
   "mimetype": "text/x-python",
   "name": "python",
   "nbconvert_exporter": "python",
   "pygments_lexer": "ipython3",
   "version": "3.9.18"
  },
  "toc": {
   "base_numbering": 1,
   "nav_menu": {},
   "number_sections": false,
   "sideBar": true,
   "skip_h1_title": false,
   "title_cell": "Table of Contents",
   "title_sidebar": "Contents",
   "toc_cell": false,
   "toc_position": {
    "height": "calc(100% - 180px)",
    "left": "10px",
    "top": "150px",
    "width": "165px"
   },
   "toc_section_display": true,
   "toc_window_display": true
  },
  "varInspector": {
   "cols": {
    "lenName": 16,
    "lenType": 16,
    "lenVar": 40
   },
   "kernels_config": {
    "python": {
     "delete_cmd_postfix": "",
     "delete_cmd_prefix": "del ",
     "library": "var_list.py",
     "varRefreshCmd": "print(var_dic_list())"
    },
    "r": {
     "delete_cmd_postfix": ") ",
     "delete_cmd_prefix": "rm(",
     "library": "var_list.r",
     "varRefreshCmd": "cat(var_dic_list()) "
    }
   },
   "types_to_exclude": [
    "module",
    "function",
    "builtin_function_or_method",
    "instance",
    "_Feature"
   ],
   "window_display": false
  }
 },
 "nbformat": 4,
 "nbformat_minor": 4
}
