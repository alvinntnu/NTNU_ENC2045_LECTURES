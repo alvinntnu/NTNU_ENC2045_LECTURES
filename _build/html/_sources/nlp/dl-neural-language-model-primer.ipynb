{
 "cells": [
  {
   "cell_type": "markdown",
   "metadata": {
    "slideshow": {
     "slide_type": "slide"
    }
   },
   "source": [
    "# Neural Language Model: A Start\n"
   ]
  },
  {
   "cell_type": "markdown",
   "metadata": {
    "slideshow": {
     "slide_type": "subslide"
    }
   },
   "source": [
    "- In this tutorial, we will look at a naive example of **neural language model**.\n",
    "- Given a corpus, we can build a neural language model, which will learn to predict the next word given a specified limited context."
   ]
  },
  {
   "cell_type": "markdown",
   "metadata": {
    "slideshow": {
     "slide_type": "subslide"
    }
   },
   "source": [
    "- Depending on the size of the **limited context**, we can implement different types of neural language model:\n",
    "    - **Bigram**-based neural language model: The model uses one preceding word for the next-word prediction.\n",
    "    - **Trigram**-based neural language model: The model uses two preceding words for the next-word prediction.\n",
    "    - **Line**-based neural language model: The model uses all the existing fore-going words in the \"sequence\" for the next-word prediction.\n",
    "    - **Discourse**-based neural language model: The model uses inter-sentential information for next-word prediction (e.g., BERT)."
   ]
  },
  {
   "cell_type": "markdown",
   "metadata": {
    "slideshow": {
     "slide_type": "subslide"
    }
   },
   "source": [
    "- This tutorial will demonstarte how to build a bigram-based language model.\n",
    "- In the Assignments, you need to extend the same rationale to other types of language models."
   ]
  },
  {
   "cell_type": "markdown",
   "metadata": {
    "slideshow": {
     "slide_type": "slide"
    }
   },
   "source": [
    "## Workflow of Neural Language Model"
   ]
  },
  {
   "cell_type": "markdown",
   "metadata": {
    "slideshow": {
     "slide_type": "subslide"
    }
   },
   "source": [
    "![](../images/neural-language-model-flowchart.png)"
   ]
  },
  {
   "cell_type": "markdown",
   "metadata": {},
   "source": [
    ":::{seealso}\n",
    ":class: dropdown\n",
    "\n",
    "We frequently encounter the need to train models on large datasets, which can be memory-intensive and difficult to load entirely into the local machine's memory at once. Therefore, it's essential to master techniques for optimizing the data loading process during model training.\n",
    "\n",
    "Tensorflow provides an effective Dataset API for this. Using TensorFlow Dataset API involves several steps to create and manipulate datasets efficiently. Here's a step-by-step guide:\n",
    "\n",
    "1. **Import TensorFlow:**\n",
    "   Make sure you have TensorFlow installed and import it into your Python script or notebook.\n",
    "\n",
    "   ```python\n",
    "   import tensorflow as tf\n",
    "   ```\n",
    "\n",
    "2. **Create Dataset from Data:**\n",
    "   There are different ways to create a dataset, such as from a list, NumPy array, tensors, or files.\n",
    "\n",
    "   ```python\n",
    "   # From a list\n",
    "   dataset = tf.data.Dataset.from_tensor_slices([1, 2, 3, 4, 5])\n",
    "\n",
    "   # From a NumPy array\n",
    "   import numpy as np\n",
    "   arr = np.array([1, 2, 3, 4, 5])\n",
    "   dataset = tf.data.Dataset.from_tensor_slices(arr)\n",
    "\n",
    "   # From tensors\n",
    "   tensor1 = tf.constant([1, 2, 3])\n",
    "   tensor2 = tf.constant([4, 5, 6])\n",
    "   dataset = tf.data.Dataset.from_tensors((tensor1, tensor2))\n",
    "\n",
    "   # From files\n",
    "   file_paths = ['file1.txt', 'file2.txt']\n",
    "   dataset = tf.data.TextLineDataset(file_paths)\n",
    "   ```\n",
    "\n",
    "3. **Transformations:**\n",
    "   Apply transformations to the dataset using methods like `map()`, `filter()`, `batch()`, `shuffle()`, etc.\n",
    "\n",
    "   ```python\n",
    "   # Map a function to each element\n",
    "   dataset = dataset.map(lambda x: x * 2)\n",
    "\n",
    "   # Filter elements\n",
    "   dataset = dataset.filter(lambda x: x > 0)\n",
    "\n",
    "   # Batch elements\n",
    "   batched_dataset = dataset.batch(32)\n",
    "\n",
    "   # Shuffle elements\n",
    "   shuffled_dataset = dataset.shuffle(buffer_size=1000)\n",
    "\n",
    "   # Repeat dataset\n",
    "   repeated_dataset = dataset.repeat(count=3)\n",
    "   ```\n",
    "\n",
    "4. **Iterate Over the Dataset:**\n",
    "   Use a `for` loop or iterator to iterate over the dataset and process the elements.\n",
    "\n",
    "   ```python\n",
    "   for item in dataset:\n",
    "       print(item)\n",
    "\n",
    "   # If you need to batch the dataset first\n",
    "   for batch in batched_dataset:\n",
    "       print(batch)\n",
    "   ```\n",
    "\n",
    "5. **Use in Model Training:**\n",
    "   Pass the dataset directly to the model's `fit()` method for training.\n",
    "\n",
    "   ```python\n",
    "   model.fit(dataset, epochs=10)\n",
    "   ```\n",
    "\n",
    "6. **Performance Optimization:**\n",
    "   For better performance, consider using prefetching, caching, and parallelism.\n",
    "\n",
    "   ```python\n",
    "   dataset = dataset.prefetch(buffer_size=tf.data.experimental.AUTOTUNE)\n",
    "   dataset = dataset.cache()\n",
    "   dataset = dataset.prefetch(tf.data.experimental.AUTOTUNE)\n",
    "   ```\n",
    "\n",
    "7. **Handling Complex Data:**\n",
    "   For more complex data processing, you can use `tf.py_function` to apply Python functions to each element of the dataset.\n",
    "\n",
    "   ```python\n",
    "   def my_function(x):\n",
    "       # Your custom Python code here\n",
    "       return x * 2\n",
    "\n",
    "   dataset = dataset.map(lambda x: tf.py_function(my_function, [x], tf.int32))\n",
    "   ```\n",
    "\n",
    "These are the basic steps to use TensorFlow Dataset API effectively. Adjustments can be made based on the specific requirements of your project and the characteristics of your data.\n",
    "\n",
    ":::"
   ]
  },
  {
   "cell_type": "markdown",
   "metadata": {
    "slideshow": {
     "slide_type": "slide"
    }
   },
   "source": [
    "## Bigram Model"
   ]
  },
  {
   "cell_type": "markdown",
   "metadata": {
    "slideshow": {
     "slide_type": "subslide"
    }
   },
   "source": [
    "- A bigram-based language model assumes that the next word (to be predicted) depends only on one preceding word."
   ]
  },
  {
   "cell_type": "code",
   "execution_count": 1,
   "metadata": {
    "slideshow": {
     "slide_type": "subslide"
    }
   },
   "outputs": [],
   "source": [
    "## Dependencies\n",
    "import numpy as np\n",
    "import tensorflow.keras as keras\n",
    "from tensorflow.keras.preprocessing.text import Tokenizer\n",
    "from tensorflow.keras.utils import to_categorical, plot_model\n",
    "from tensorflow.keras.models import Sequential\n",
    "from tensorflow.keras.layers import Dense, LSTM, Embedding"
   ]
  },
  {
   "cell_type": "markdown",
   "metadata": {
    "slideshow": {
     "slide_type": "slide"
    }
   },
   "source": [
    "### Tokenization\n",
    "\n",
    "- A quick reminder of important parameters for `Tokenzier()`:\n",
    "   - **`num_words`**: the maximum number of words to keep, based on word frequency. Only the most common `num_words-1` words will be kept.\n",
    "   - **`filters`**: a string where each element is a character that will be filtered from the texts. The default includes all punctuations, plus tabs and line breaks (except for the `'` character).\n",
    "   - **`lower`**: boolean. Whether to convert the texts to lowercase.\n",
    "   - **`split`**: string. Separator for word splitting.\n",
    "   - **`char_level`**: if True, every character will be treated as a token.\n",
    "   - **`oov_token`**: if given, it will be added to `word_index` and used to replace out-of-vocabulary words during `text_to_sequence` calls"
   ]
  },
  {
   "cell_type": "code",
   "execution_count": 2,
   "metadata": {
    "slideshow": {
     "slide_type": "subslide"
    }
   },
   "outputs": [
    {
     "name": "stdout",
     "output_type": "stream",
     "text": [
      "Vocabulary Size: 22\n",
      "{'and': 1, 'jack': 2, 'jill': 3, 'went': 4, 'up': 5, 'the': 6, 'hill': 7, 'to': 8, 'fetch': 9, 'a': 10, 'pail': 11, 'of': 12, 'water': 13, 'fell': 14, 'down': 15, 'broke': 16, 'his': 17, 'crown': 18, 'came': 19, 'tumbling': 20, 'after': 21}\n"
     ]
    }
   ],
   "source": [
    "# source text\n",
    "data = \"\"\" Jack and Jill went up the hill\\n\n",
    "\t\tTo fetch a pail of water\\n\n",
    "\t\tJack fell down and broke his crown\\n\n",
    "\t\tAnd Jill came tumbling after\\n \"\"\"\n",
    "\n",
    "data = [l.strip() for l in data.split('\\n') if l != \"\"]\n",
    "\n",
    "# integer encode text\n",
    "tokenizer = Tokenizer()\n",
    "tokenizer.fit_on_texts(data)\n",
    "\n",
    "# now the data consists of a sequence of word index integers\n",
    "encoded = tokenizer.texts_to_sequences(data)\n",
    "\n",
    "# determine the vocabulary size\n",
    "vocab_size = len(tokenizer.word_index) + 1\n",
    "print('Vocabulary Size: %d' % vocab_size)\n",
    "print(tokenizer.word_index)"
   ]
  },
  {
   "cell_type": "markdown",
   "metadata": {
    "slideshow": {
     "slide_type": "slide"
    }
   },
   "source": [
    "### Text-to-Sequences and Training-Testing Sets"
   ]
  },
  {
   "cell_type": "markdown",
   "metadata": {
    "slideshow": {
     "slide_type": "subslide"
    }
   },
   "source": [
    "- Principles for bigrams extraction\n",
    "    - When we create bigrams as the input sequences for network training, we need to make sure that we do not include **unmeaningful** bigrams, such as bigrams spanning the text boundaries, or sentence boundaries."
   ]
  },
  {
   "cell_type": "code",
   "execution_count": 3,
   "metadata": {
    "slideshow": {
     "slide_type": "subslide"
    }
   },
   "outputs": [
    {
     "name": "stdout",
     "output_type": "stream",
     "text": [
      "Total Sequences: 21\n"
     ]
    }
   ],
   "source": [
    "# create bigrams sequences\n",
    "\n",
    "## bigrams holder\n",
    "sequences = list()\n",
    "\n",
    "\n",
    "## Extract bigrams from each text\n",
    "for e in encoded:\n",
    "    for i in range(1, len(e)):\n",
    "        sequence = e[i - 1:i + 1]\n",
    "        sequences.append(sequence)\n",
    "print('Total Sequences: %d' % len(sequences))\n",
    "sequences = np.array(sequences)"
   ]
  },
  {
   "cell_type": "code",
   "execution_count": 4,
   "metadata": {
    "slideshow": {
     "slide_type": "subslide"
    }
   },
   "outputs": [
    {
     "data": {
      "text/plain": [
       "array([[2, 1],\n",
       "       [1, 3],\n",
       "       [3, 4],\n",
       "       [4, 5],\n",
       "       [5, 6]])"
      ]
     },
     "execution_count": 4,
     "metadata": {},
     "output_type": "execute_result"
    }
   ],
   "source": [
    "sequences[:5]"
   ]
  },
  {
   "cell_type": "markdown",
   "metadata": {
    "slideshow": {
     "slide_type": "subslide"
    }
   },
   "source": [
    "- A sequence contains both our input and also output of the network.\n",
    "- That is, for bigram-based LM, the first word is the input *X* and the second word is the expected output *y*."
   ]
  },
  {
   "cell_type": "code",
   "execution_count": 5,
   "metadata": {
    "slideshow": {
     "slide_type": "subslide"
    }
   },
   "outputs": [],
   "source": [
    "# split into X and y elements\n",
    "X, y = sequences[:, 0], sequences[:, 1]"
   ]
  },
  {
   "cell_type": "code",
   "execution_count": 6,
   "metadata": {
    "scrolled": true,
    "slideshow": {
     "slide_type": "subslide"
    }
   },
   "outputs": [
    {
     "name": "stdout",
     "output_type": "stream",
     "text": [
      "[[2 1]\n",
      " [1 3]\n",
      " [3 4]\n",
      " [4 5]\n",
      " [5 6]]\n",
      "[2 1 3 4 5]\n",
      "[1 3 4 5 6]\n"
     ]
    }
   ],
   "source": [
    "print(sequences[:5])\n",
    "print(X[:5])\n",
    "print(y[:5])\n"
   ]
  },
  {
   "cell_type": "markdown",
   "metadata": {
    "slideshow": {
     "slide_type": "slide"
    }
   },
   "source": [
    "### One-hot Representation of the Next-Word \n",
    "\n",
    "- Because the neural language model is going to be a multi-class classifier (for word prediction), we need to convert our `y` into one-hot encoding."
   ]
  },
  {
   "cell_type": "code",
   "execution_count": 7,
   "metadata": {
    "slideshow": {
     "slide_type": "subslide"
    }
   },
   "outputs": [],
   "source": [
    "# one hot encode outputs\n",
    "y = to_categorical(y, num_classes=vocab_size)"
   ]
  },
  {
   "cell_type": "code",
   "execution_count": 8,
   "metadata": {
    "slideshow": {
     "slide_type": "subslide"
    }
   },
   "outputs": [
    {
     "data": {
      "text/plain": [
       "(21, 22)"
      ]
     },
     "execution_count": 8,
     "metadata": {},
     "output_type": "execute_result"
    }
   ],
   "source": [
    "y.shape"
   ]
  },
  {
   "cell_type": "code",
   "execution_count": 9,
   "metadata": {
    "slideshow": {
     "slide_type": "subslide"
    }
   },
   "outputs": [
    {
     "name": "stdout",
     "output_type": "stream",
     "text": [
      "[[0. 1. 0. 0. 0. 0. 0. 0. 0. 0. 0. 0. 0. 0. 0. 0. 0. 0. 0. 0. 0. 0.]\n",
      " [0. 0. 0. 1. 0. 0. 0. 0. 0. 0. 0. 0. 0. 0. 0. 0. 0. 0. 0. 0. 0. 0.]\n",
      " [0. 0. 0. 0. 1. 0. 0. 0. 0. 0. 0. 0. 0. 0. 0. 0. 0. 0. 0. 0. 0. 0.]\n",
      " [0. 0. 0. 0. 0. 1. 0. 0. 0. 0. 0. 0. 0. 0. 0. 0. 0. 0. 0. 0. 0. 0.]\n",
      " [0. 0. 0. 0. 0. 0. 1. 0. 0. 0. 0. 0. 0. 0. 0. 0. 0. 0. 0. 0. 0. 0.]]\n"
     ]
    }
   ],
   "source": [
    "print(y[:5])"
   ]
  },
  {
   "cell_type": "markdown",
   "metadata": {
    "slideshow": {
     "slide_type": "slide"
    }
   },
   "source": [
    "### Define RNN Language Model"
   ]
  },
  {
   "cell_type": "code",
   "execution_count": 10,
   "metadata": {
    "slideshow": {
     "slide_type": "subslide"
    },
    "tags": [
     "hide-output"
    ]
   },
   "outputs": [
    {
     "name": "stdout",
     "output_type": "stream",
     "text": [
      "Model: \"sequential\"\n",
      "_________________________________________________________________\n",
      " Layer (type)                Output Shape              Param #   \n",
      "=================================================================\n",
      " embedding (Embedding)       (None, 1, 16)             352       \n",
      "                                                                 \n",
      " lstm (LSTM)                 (None, 64)                20736     \n",
      "                                                                 \n",
      " dense (Dense)               (None, 22)                1430      \n",
      "                                                                 \n",
      "=================================================================\n",
      "Total params: 22518 (87.96 KB)\n",
      "Trainable params: 22518 (87.96 KB)\n",
      "Non-trainable params: 0 (0.00 Byte)\n",
      "_________________________________________________________________\n",
      "None\n"
     ]
    }
   ],
   "source": [
    "# define model\n",
    "model = Sequential()\n",
    "model.add(Embedding(input_dim=vocab_size, output_dim=16, input_length=1))\n",
    "model.add(LSTM(64))  # LSTM Complexity\n",
    "model.add(Dense(vocab_size, activation='softmax'))\n",
    "print(model.summary())"
   ]
  },
  {
   "cell_type": "code",
   "execution_count": 11,
   "metadata": {
    "collapsed": true,
    "slideshow": {
     "slide_type": "subslide"
    },
    "tags": [
     "hide-output"
    ]
   },
   "outputs": [
    {
     "name": "stdout",
     "output_type": "stream",
     "text": [
      "Epoch 1/500\n",
      "1/1 - 1s - loss: 3.0912 - accuracy: 0.0000e+00 - 559ms/epoch - 559ms/step\n",
      "Epoch 2/500\n",
      "1/1 - 0s - loss: 3.0901 - accuracy: 0.0000e+00 - 2ms/epoch - 2ms/step\n",
      "Epoch 3/500\n",
      "1/1 - 0s - loss: 3.0890 - accuracy: 0.0000e+00 - 2ms/epoch - 2ms/step\n",
      "Epoch 4/500\n",
      "1/1 - 0s - loss: 3.0879 - accuracy: 0.0952 - 2ms/epoch - 2ms/step\n",
      "Epoch 5/500\n",
      "1/1 - 0s - loss: 3.0868 - accuracy: 0.0952 - 2ms/epoch - 2ms/step\n",
      "Epoch 6/500\n",
      "1/1 - 0s - loss: 3.0857 - accuracy: 0.1429 - 2ms/epoch - 2ms/step\n",
      "Epoch 7/500\n",
      "1/1 - 0s - loss: 3.0846 - accuracy: 0.2857 - 2ms/epoch - 2ms/step\n",
      "Epoch 8/500\n",
      "1/1 - 0s - loss: 3.0835 - accuracy: 0.3333 - 2ms/epoch - 2ms/step\n",
      "Epoch 9/500\n",
      "1/1 - 0s - loss: 3.0823 - accuracy: 0.4286 - 2ms/epoch - 2ms/step\n",
      "Epoch 10/500\n",
      "1/1 - 0s - loss: 3.0812 - accuracy: 0.4286 - 2ms/epoch - 2ms/step\n",
      "Epoch 11/500\n",
      "1/1 - 0s - loss: 3.0800 - accuracy: 0.3810 - 2ms/epoch - 2ms/step\n",
      "Epoch 12/500\n",
      "1/1 - 0s - loss: 3.0788 - accuracy: 0.3810 - 2ms/epoch - 2ms/step\n",
      "Epoch 13/500\n",
      "1/1 - 0s - loss: 3.0776 - accuracy: 0.4286 - 2ms/epoch - 2ms/step\n",
      "Epoch 14/500\n",
      "1/1 - 0s - loss: 3.0764 - accuracy: 0.4286 - 2ms/epoch - 2ms/step\n",
      "Epoch 15/500\n",
      "1/1 - 0s - loss: 3.0751 - accuracy: 0.4286 - 2ms/epoch - 2ms/step\n",
      "Epoch 16/500\n",
      "1/1 - 0s - loss: 3.0738 - accuracy: 0.4762 - 2ms/epoch - 2ms/step\n",
      "Epoch 17/500\n",
      "1/1 - 0s - loss: 3.0725 - accuracy: 0.4762 - 2ms/epoch - 2ms/step\n",
      "Epoch 18/500\n",
      "1/1 - 0s - loss: 3.0711 - accuracy: 0.5238 - 2ms/epoch - 2ms/step\n",
      "Epoch 19/500\n",
      "1/1 - 0s - loss: 3.0697 - accuracy: 0.5238 - 2ms/epoch - 2ms/step\n",
      "Epoch 20/500\n",
      "1/1 - 0s - loss: 3.0683 - accuracy: 0.5714 - 2ms/epoch - 2ms/step\n",
      "Epoch 21/500\n",
      "1/1 - 0s - loss: 3.0668 - accuracy: 0.5714 - 2ms/epoch - 2ms/step\n",
      "Epoch 22/500\n",
      "1/1 - 0s - loss: 3.0653 - accuracy: 0.5714 - 2ms/epoch - 2ms/step\n",
      "Epoch 23/500\n",
      "1/1 - 0s - loss: 3.0637 - accuracy: 0.5714 - 2ms/epoch - 2ms/step\n",
      "Epoch 24/500\n",
      "1/1 - 0s - loss: 3.0621 - accuracy: 0.5714 - 2ms/epoch - 2ms/step\n",
      "Epoch 25/500\n",
      "1/1 - 0s - loss: 3.0605 - accuracy: 0.5714 - 2ms/epoch - 2ms/step\n",
      "Epoch 26/500\n",
      "1/1 - 0s - loss: 3.0588 - accuracy: 0.5714 - 2ms/epoch - 2ms/step\n",
      "Epoch 27/500\n",
      "1/1 - 0s - loss: 3.0570 - accuracy: 0.5714 - 2ms/epoch - 2ms/step\n",
      "Epoch 28/500\n",
      "1/1 - 0s - loss: 3.0552 - accuracy: 0.5714 - 5ms/epoch - 5ms/step\n",
      "Epoch 29/500\n",
      "1/1 - 0s - loss: 3.0533 - accuracy: 0.5714 - 3ms/epoch - 3ms/step\n",
      "Epoch 30/500\n",
      "1/1 - 0s - loss: 3.0514 - accuracy: 0.5714 - 4ms/epoch - 4ms/step\n",
      "Epoch 31/500\n",
      "1/1 - 0s - loss: 3.0494 - accuracy: 0.4762 - 3ms/epoch - 3ms/step\n",
      "Epoch 32/500\n",
      "1/1 - 0s - loss: 3.0473 - accuracy: 0.4762 - 4ms/epoch - 4ms/step\n",
      "Epoch 33/500\n",
      "1/1 - 0s - loss: 3.0452 - accuracy: 0.4762 - 4ms/epoch - 4ms/step\n",
      "Epoch 34/500\n",
      "1/1 - 0s - loss: 3.0430 - accuracy: 0.4762 - 2ms/epoch - 2ms/step\n",
      "Epoch 35/500\n",
      "1/1 - 0s - loss: 3.0407 - accuracy: 0.4762 - 4ms/epoch - 4ms/step\n",
      "Epoch 36/500\n",
      "1/1 - 0s - loss: 3.0383 - accuracy: 0.4762 - 2ms/epoch - 2ms/step\n",
      "Epoch 37/500\n",
      "1/1 - 0s - loss: 3.0359 - accuracy: 0.4762 - 2ms/epoch - 2ms/step\n",
      "Epoch 38/500\n",
      "1/1 - 0s - loss: 3.0334 - accuracy: 0.4762 - 2ms/epoch - 2ms/step\n",
      "Epoch 39/500\n",
      "1/1 - 0s - loss: 3.0308 - accuracy: 0.4762 - 2ms/epoch - 2ms/step\n",
      "Epoch 40/500\n",
      "1/1 - 0s - loss: 3.0281 - accuracy: 0.4762 - 2ms/epoch - 2ms/step\n",
      "Epoch 41/500\n",
      "1/1 - 0s - loss: 3.0253 - accuracy: 0.4762 - 2ms/epoch - 2ms/step\n",
      "Epoch 42/500\n",
      "1/1 - 0s - loss: 3.0224 - accuracy: 0.4762 - 2ms/epoch - 2ms/step\n",
      "Epoch 43/500\n",
      "1/1 - 0s - loss: 3.0194 - accuracy: 0.4762 - 2ms/epoch - 2ms/step\n",
      "Epoch 44/500\n",
      "1/1 - 0s - loss: 3.0163 - accuracy: 0.4762 - 1ms/epoch - 1ms/step\n",
      "Epoch 45/500\n",
      "1/1 - 0s - loss: 3.0131 - accuracy: 0.4762 - 2ms/epoch - 2ms/step\n",
      "Epoch 46/500\n",
      "1/1 - 0s - loss: 3.0099 - accuracy: 0.4762 - 1ms/epoch - 1ms/step\n",
      "Epoch 47/500\n",
      "1/1 - 0s - loss: 3.0065 - accuracy: 0.4762 - 1ms/epoch - 1ms/step\n",
      "Epoch 48/500\n",
      "1/1 - 0s - loss: 3.0029 - accuracy: 0.4762 - 2ms/epoch - 2ms/step\n",
      "Epoch 49/500\n",
      "1/1 - 0s - loss: 2.9993 - accuracy: 0.4762 - 2ms/epoch - 2ms/step\n",
      "Epoch 50/500\n",
      "1/1 - 0s - loss: 2.9955 - accuracy: 0.4762 - 2ms/epoch - 2ms/step\n",
      "Epoch 51/500\n",
      "1/1 - 0s - loss: 2.9917 - accuracy: 0.4762 - 2ms/epoch - 2ms/step\n",
      "Epoch 52/500\n",
      "1/1 - 0s - loss: 2.9876 - accuracy: 0.4762 - 2ms/epoch - 2ms/step\n",
      "Epoch 53/500\n",
      "1/1 - 0s - loss: 2.9835 - accuracy: 0.4762 - 2ms/epoch - 2ms/step\n",
      "Epoch 54/500\n",
      "1/1 - 0s - loss: 2.9792 - accuracy: 0.4762 - 2ms/epoch - 2ms/step\n",
      "Epoch 55/500\n",
      "1/1 - 0s - loss: 2.9748 - accuracy: 0.4762 - 2ms/epoch - 2ms/step\n",
      "Epoch 56/500\n",
      "1/1 - 0s - loss: 2.9702 - accuracy: 0.4762 - 2ms/epoch - 2ms/step\n",
      "Epoch 57/500\n",
      "1/1 - 0s - loss: 2.9655 - accuracy: 0.4762 - 2ms/epoch - 2ms/step\n",
      "Epoch 58/500\n",
      "1/1 - 0s - loss: 2.9606 - accuracy: 0.4762 - 2ms/epoch - 2ms/step\n",
      "Epoch 59/500\n",
      "1/1 - 0s - loss: 2.9556 - accuracy: 0.4762 - 2ms/epoch - 2ms/step\n",
      "Epoch 60/500\n",
      "1/1 - 0s - loss: 2.9504 - accuracy: 0.4762 - 2ms/epoch - 2ms/step\n",
      "Epoch 61/500\n",
      "1/1 - 0s - loss: 2.9450 - accuracy: 0.4762 - 2ms/epoch - 2ms/step\n",
      "Epoch 62/500\n",
      "1/1 - 0s - loss: 2.9395 - accuracy: 0.4762 - 2ms/epoch - 2ms/step\n",
      "Epoch 63/500\n",
      "1/1 - 0s - loss: 2.9338 - accuracy: 0.4762 - 1ms/epoch - 1ms/step\n",
      "Epoch 64/500\n",
      "1/1 - 0s - loss: 2.9279 - accuracy: 0.5238 - 2ms/epoch - 2ms/step\n",
      "Epoch 65/500\n",
      "1/1 - 0s - loss: 2.9218 - accuracy: 0.5238 - 2ms/epoch - 2ms/step\n",
      "Epoch 66/500\n",
      "1/1 - 0s - loss: 2.9155 - accuracy: 0.5238 - 1ms/epoch - 1ms/step\n",
      "Epoch 67/500\n",
      "1/1 - 0s - loss: 2.9091 - accuracy: 0.5238 - 1ms/epoch - 1ms/step\n",
      "Epoch 68/500\n",
      "1/1 - 0s - loss: 2.9024 - accuracy: 0.5238 - 2ms/epoch - 2ms/step\n",
      "Epoch 69/500\n",
      "1/1 - 0s - loss: 2.8956 - accuracy: 0.5238 - 2ms/epoch - 2ms/step\n",
      "Epoch 70/500\n",
      "1/1 - 0s - loss: 2.8885 - accuracy: 0.5238 - 2ms/epoch - 2ms/step\n",
      "Epoch 71/500\n",
      "1/1 - 0s - loss: 2.8812 - accuracy: 0.5238 - 2ms/epoch - 2ms/step\n",
      "Epoch 72/500\n",
      "1/1 - 0s - loss: 2.8737 - accuracy: 0.5238 - 1ms/epoch - 1ms/step\n",
      "Epoch 73/500\n",
      "1/1 - 0s - loss: 2.8660 - accuracy: 0.5238 - 2ms/epoch - 2ms/step\n",
      "Epoch 74/500\n",
      "1/1 - 0s - loss: 2.8580 - accuracy: 0.5238 - 2ms/epoch - 2ms/step\n",
      "Epoch 75/500\n",
      "1/1 - 0s - loss: 2.8498 - accuracy: 0.5238 - 2ms/epoch - 2ms/step\n",
      "Epoch 76/500\n",
      "1/1 - 0s - loss: 2.8414 - accuracy: 0.5238 - 2ms/epoch - 2ms/step\n",
      "Epoch 77/500\n",
      "1/1 - 0s - loss: 2.8328 - accuracy: 0.5238 - 2ms/epoch - 2ms/step\n",
      "Epoch 78/500\n",
      "1/1 - 0s - loss: 2.8239 - accuracy: 0.5714 - 2ms/epoch - 2ms/step\n",
      "Epoch 79/500\n",
      "1/1 - 0s - loss: 2.8147 - accuracy: 0.5714 - 2ms/epoch - 2ms/step\n",
      "Epoch 80/500\n",
      "1/1 - 0s - loss: 2.8053 - accuracy: 0.5714 - 2ms/epoch - 2ms/step\n",
      "Epoch 81/500\n",
      "1/1 - 0s - loss: 2.7956 - accuracy: 0.5714 - 2ms/epoch - 2ms/step\n",
      "Epoch 82/500\n",
      "1/1 - 0s - loss: 2.7857 - accuracy: 0.5714 - 2ms/epoch - 2ms/step\n",
      "Epoch 83/500\n",
      "1/1 - 0s - loss: 2.7755 - accuracy: 0.5714 - 2ms/epoch - 2ms/step\n",
      "Epoch 84/500\n",
      "1/1 - 0s - loss: 2.7650 - accuracy: 0.5714 - 2ms/epoch - 2ms/step\n",
      "Epoch 85/500\n",
      "1/1 - 0s - loss: 2.7543 - accuracy: 0.6190 - 2ms/epoch - 2ms/step\n",
      "Epoch 86/500\n",
      "1/1 - 0s - loss: 2.7433 - accuracy: 0.6190 - 2ms/epoch - 2ms/step\n",
      "Epoch 87/500\n",
      "1/1 - 0s - loss: 2.7320 - accuracy: 0.6190 - 3ms/epoch - 3ms/step\n",
      "Epoch 88/500\n",
      "1/1 - 0s - loss: 2.7204 - accuracy: 0.6190 - 3ms/epoch - 3ms/step\n",
      "Epoch 89/500\n",
      "1/1 - 0s - loss: 2.7086 - accuracy: 0.6190 - 4ms/epoch - 4ms/step\n",
      "Epoch 90/500\n",
      "1/1 - 0s - loss: 2.6965 - accuracy: 0.6190 - 3ms/epoch - 3ms/step\n",
      "Epoch 91/500\n",
      "1/1 - 0s - loss: 2.6840 - accuracy: 0.6190 - 2ms/epoch - 2ms/step\n",
      "Epoch 92/500\n",
      "1/1 - 0s - loss: 2.6713 - accuracy: 0.6190 - 2ms/epoch - 2ms/step\n",
      "Epoch 93/500\n",
      "1/1 - 0s - loss: 2.6584 - accuracy: 0.6190 - 3ms/epoch - 3ms/step\n",
      "Epoch 94/500\n",
      "1/1 - 0s - loss: 2.6451 - accuracy: 0.6190 - 2ms/epoch - 2ms/step\n",
      "Epoch 95/500\n",
      "1/1 - 0s - loss: 2.6315 - accuracy: 0.6190 - 1ms/epoch - 1ms/step\n",
      "Epoch 96/500\n",
      "1/1 - 0s - loss: 2.6177 - accuracy: 0.6190 - 1ms/epoch - 1ms/step\n",
      "Epoch 97/500\n",
      "1/1 - 0s - loss: 2.6036 - accuracy: 0.6190 - 2ms/epoch - 2ms/step\n",
      "Epoch 98/500\n",
      "1/1 - 0s - loss: 2.5892 - accuracy: 0.6190 - 1ms/epoch - 1ms/step\n",
      "Epoch 99/500\n",
      "1/1 - 0s - loss: 2.5745 - accuracy: 0.6190 - 2ms/epoch - 2ms/step\n",
      "Epoch 100/500\n",
      "1/1 - 0s - loss: 2.5595 - accuracy: 0.6190 - 2ms/epoch - 2ms/step\n",
      "Epoch 101/500\n",
      "1/1 - 0s - loss: 2.5443 - accuracy: 0.6190 - 1ms/epoch - 1ms/step\n",
      "Epoch 102/500\n",
      "1/1 - 0s - loss: 2.5288 - accuracy: 0.6190 - 1ms/epoch - 1ms/step\n",
      "Epoch 103/500\n",
      "1/1 - 0s - loss: 2.5130 - accuracy: 0.6190 - 2ms/epoch - 2ms/step\n",
      "Epoch 104/500\n",
      "1/1 - 0s - loss: 2.4970 - accuracy: 0.6190 - 2ms/epoch - 2ms/step\n",
      "Epoch 105/500\n",
      "1/1 - 0s - loss: 2.4807 - accuracy: 0.6190 - 2ms/epoch - 2ms/step\n",
      "Epoch 106/500\n",
      "1/1 - 0s - loss: 2.4642 - accuracy: 0.6190 - 2ms/epoch - 2ms/step\n",
      "Epoch 107/500\n",
      "1/1 - 0s - loss: 2.4475 - accuracy: 0.6190 - 2ms/epoch - 2ms/step\n",
      "Epoch 108/500\n",
      "1/1 - 0s - loss: 2.4305 - accuracy: 0.6190 - 2ms/epoch - 2ms/step\n",
      "Epoch 109/500\n",
      "1/1 - 0s - loss: 2.4133 - accuracy: 0.6190 - 1ms/epoch - 1ms/step\n",
      "Epoch 110/500\n",
      "1/1 - 0s - loss: 2.3958 - accuracy: 0.6190 - 1ms/epoch - 1ms/step\n",
      "Epoch 111/500\n",
      "1/1 - 0s - loss: 2.3782 - accuracy: 0.6190 - 1ms/epoch - 1ms/step\n",
      "Epoch 112/500\n",
      "1/1 - 0s - loss: 2.3604 - accuracy: 0.6190 - 1ms/epoch - 1ms/step\n",
      "Epoch 113/500\n",
      "1/1 - 0s - loss: 2.3424 - accuracy: 0.6190 - 1ms/epoch - 1ms/step\n",
      "Epoch 114/500\n",
      "1/1 - 0s - loss: 2.3242 - accuracy: 0.6190 - 1ms/epoch - 1ms/step\n",
      "Epoch 115/500\n",
      "1/1 - 0s - loss: 2.3058 - accuracy: 0.6190 - 2ms/epoch - 2ms/step\n",
      "Epoch 116/500\n",
      "1/1 - 0s - loss: 2.2873 - accuracy: 0.6667 - 1ms/epoch - 1ms/step\n",
      "Epoch 117/500\n",
      "1/1 - 0s - loss: 2.2686 - accuracy: 0.6667 - 1ms/epoch - 1ms/step\n",
      "Epoch 118/500\n",
      "1/1 - 0s - loss: 2.2498 - accuracy: 0.6667 - 1ms/epoch - 1ms/step\n",
      "Epoch 119/500\n",
      "1/1 - 0s - loss: 2.2309 - accuracy: 0.6667 - 1ms/epoch - 1ms/step\n",
      "Epoch 120/500\n",
      "1/1 - 0s - loss: 2.2119 - accuracy: 0.6667 - 1ms/epoch - 1ms/step\n",
      "Epoch 121/500\n",
      "1/1 - 0s - loss: 2.1928 - accuracy: 0.6667 - 1ms/epoch - 1ms/step\n",
      "Epoch 122/500\n",
      "1/1 - 0s - loss: 2.1735 - accuracy: 0.6667 - 2ms/epoch - 2ms/step\n",
      "Epoch 123/500\n",
      "1/1 - 0s - loss: 2.1542 - accuracy: 0.6667 - 2ms/epoch - 2ms/step\n",
      "Epoch 124/500\n",
      "1/1 - 0s - loss: 2.1349 - accuracy: 0.6667 - 2ms/epoch - 2ms/step\n",
      "Epoch 125/500\n",
      "1/1 - 0s - loss: 2.1154 - accuracy: 0.6667 - 1ms/epoch - 1ms/step\n",
      "Epoch 126/500\n",
      "1/1 - 0s - loss: 2.0959 - accuracy: 0.6667 - 2ms/epoch - 2ms/step\n",
      "Epoch 127/500\n",
      "1/1 - 0s - loss: 2.0764 - accuracy: 0.6667 - 1ms/epoch - 1ms/step\n",
      "Epoch 128/500\n",
      "1/1 - 0s - loss: 2.0569 - accuracy: 0.6667 - 1ms/epoch - 1ms/step\n",
      "Epoch 129/500\n",
      "1/1 - 0s - loss: 2.0373 - accuracy: 0.6667 - 1ms/epoch - 1ms/step\n",
      "Epoch 130/500\n",
      "1/1 - 0s - loss: 2.0177 - accuracy: 0.6667 - 1ms/epoch - 1ms/step\n",
      "Epoch 131/500\n",
      "1/1 - 0s - loss: 1.9981 - accuracy: 0.6667 - 2ms/epoch - 2ms/step\n",
      "Epoch 132/500\n",
      "1/1 - 0s - loss: 1.9786 - accuracy: 0.6667 - 1ms/epoch - 1ms/step\n",
      "Epoch 133/500\n",
      "1/1 - 0s - loss: 1.9590 - accuracy: 0.6667 - 2ms/epoch - 2ms/step\n",
      "Epoch 134/500\n",
      "1/1 - 0s - loss: 1.9394 - accuracy: 0.6667 - 1ms/epoch - 1ms/step\n",
      "Epoch 135/500\n",
      "1/1 - 0s - loss: 1.9199 - accuracy: 0.6667 - 1ms/epoch - 1ms/step\n",
      "Epoch 136/500\n",
      "1/1 - 0s - loss: 1.9003 - accuracy: 0.6667 - 1ms/epoch - 1ms/step\n",
      "Epoch 137/500\n",
      "1/1 - 0s - loss: 1.8809 - accuracy: 0.6667 - 1ms/epoch - 1ms/step\n",
      "Epoch 138/500\n",
      "1/1 - 0s - loss: 1.8614 - accuracy: 0.7619 - 2ms/epoch - 2ms/step\n",
      "Epoch 139/500\n",
      "1/1 - 0s - loss: 1.8420 - accuracy: 0.7619 - 1ms/epoch - 1ms/step\n",
      "Epoch 140/500\n",
      "1/1 - 0s - loss: 1.8226 - accuracy: 0.7619 - 2ms/epoch - 2ms/step\n",
      "Epoch 141/500\n",
      "1/1 - 0s - loss: 1.8032 - accuracy: 0.7619 - 1ms/epoch - 1ms/step\n",
      "Epoch 142/500\n",
      "1/1 - 0s - loss: 1.7839 - accuracy: 0.8095 - 1ms/epoch - 1ms/step\n",
      "Epoch 143/500\n",
      "1/1 - 0s - loss: 1.7647 - accuracy: 0.8095 - 4ms/epoch - 4ms/step\n",
      "Epoch 144/500\n",
      "1/1 - 0s - loss: 1.7455 - accuracy: 0.8095 - 3ms/epoch - 3ms/step\n",
      "Epoch 145/500\n",
      "1/1 - 0s - loss: 1.7263 - accuracy: 0.8095 - 2ms/epoch - 2ms/step\n",
      "Epoch 146/500\n",
      "1/1 - 0s - loss: 1.7072 - accuracy: 0.8095 - 3ms/epoch - 3ms/step\n",
      "Epoch 147/500\n",
      "1/1 - 0s - loss: 1.6882 - accuracy: 0.8095 - 3ms/epoch - 3ms/step\n",
      "Epoch 148/500\n",
      "1/1 - 0s - loss: 1.6691 - accuracy: 0.8095 - 2ms/epoch - 2ms/step\n",
      "Epoch 149/500\n",
      "1/1 - 0s - loss: 1.6502 - accuracy: 0.8095 - 2ms/epoch - 2ms/step\n",
      "Epoch 150/500\n",
      "1/1 - 0s - loss: 1.6313 - accuracy: 0.8095 - 3ms/epoch - 3ms/step\n",
      "Epoch 151/500\n",
      "1/1 - 0s - loss: 1.6124 - accuracy: 0.8095 - 2ms/epoch - 2ms/step\n",
      "Epoch 152/500\n",
      "1/1 - 0s - loss: 1.5936 - accuracy: 0.8095 - 2ms/epoch - 2ms/step\n",
      "Epoch 153/500\n",
      "1/1 - 0s - loss: 1.5749 - accuracy: 0.8095 - 2ms/epoch - 2ms/step\n",
      "Epoch 154/500\n",
      "1/1 - 0s - loss: 1.5562 - accuracy: 0.8095 - 1ms/epoch - 1ms/step\n",
      "Epoch 155/500\n",
      "1/1 - 0s - loss: 1.5376 - accuracy: 0.8095 - 2ms/epoch - 2ms/step\n",
      "Epoch 156/500\n",
      "1/1 - 0s - loss: 1.5190 - accuracy: 0.8095 - 1ms/epoch - 1ms/step\n",
      "Epoch 157/500\n",
      "1/1 - 0s - loss: 1.5005 - accuracy: 0.8095 - 1ms/epoch - 1ms/step\n",
      "Epoch 158/500\n",
      "1/1 - 0s - loss: 1.4821 - accuracy: 0.8095 - 1ms/epoch - 1ms/step\n",
      "Epoch 159/500\n",
      "1/1 - 0s - loss: 1.4637 - accuracy: 0.8095 - 1ms/epoch - 1ms/step\n",
      "Epoch 160/500\n",
      "1/1 - 0s - loss: 1.4454 - accuracy: 0.8095 - 2ms/epoch - 2ms/step\n",
      "Epoch 161/500\n",
      "1/1 - 0s - loss: 1.4271 - accuracy: 0.8095 - 2ms/epoch - 2ms/step\n",
      "Epoch 162/500\n",
      "1/1 - 0s - loss: 1.4090 - accuracy: 0.8095 - 2ms/epoch - 2ms/step\n",
      "Epoch 163/500\n",
      "1/1 - 0s - loss: 1.3909 - accuracy: 0.8095 - 2ms/epoch - 2ms/step\n",
      "Epoch 164/500\n",
      "1/1 - 0s - loss: 1.3729 - accuracy: 0.8095 - 2ms/epoch - 2ms/step\n",
      "Epoch 165/500\n",
      "1/1 - 0s - loss: 1.3549 - accuracy: 0.8095 - 2ms/epoch - 2ms/step\n",
      "Epoch 166/500\n",
      "1/1 - 0s - loss: 1.3371 - accuracy: 0.8095 - 1ms/epoch - 1ms/step\n",
      "Epoch 167/500\n",
      "1/1 - 0s - loss: 1.3193 - accuracy: 0.8095 - 1ms/epoch - 1ms/step\n",
      "Epoch 168/500\n",
      "1/1 - 0s - loss: 1.3017 - accuracy: 0.8095 - 1ms/epoch - 1ms/step\n",
      "Epoch 169/500\n",
      "1/1 - 0s - loss: 1.2841 - accuracy: 0.8095 - 1ms/epoch - 1ms/step\n",
      "Epoch 170/500\n",
      "1/1 - 0s - loss: 1.2667 - accuracy: 0.8095 - 1ms/epoch - 1ms/step\n",
      "Epoch 171/500\n",
      "1/1 - 0s - loss: 1.2493 - accuracy: 0.8095 - 2ms/epoch - 2ms/step\n",
      "Epoch 172/500\n",
      "1/1 - 0s - loss: 1.2321 - accuracy: 0.8095 - 3ms/epoch - 3ms/step\n",
      "Epoch 173/500\n",
      "1/1 - 0s - loss: 1.2150 - accuracy: 0.8095 - 2ms/epoch - 2ms/step\n",
      "Epoch 174/500\n",
      "1/1 - 0s - loss: 1.1980 - accuracy: 0.8095 - 2ms/epoch - 2ms/step\n",
      "Epoch 175/500\n",
      "1/1 - 0s - loss: 1.1811 - accuracy: 0.8095 - 3ms/epoch - 3ms/step\n",
      "Epoch 176/500\n",
      "1/1 - 0s - loss: 1.1643 - accuracy: 0.8095 - 2ms/epoch - 2ms/step\n",
      "Epoch 177/500\n",
      "1/1 - 0s - loss: 1.1477 - accuracy: 0.8095 - 2ms/epoch - 2ms/step\n",
      "Epoch 178/500\n",
      "1/1 - 0s - loss: 1.1313 - accuracy: 0.8095 - 1ms/epoch - 1ms/step\n",
      "Epoch 179/500\n",
      "1/1 - 0s - loss: 1.1150 - accuracy: 0.8095 - 2ms/epoch - 2ms/step\n",
      "Epoch 180/500\n",
      "1/1 - 0s - loss: 1.0988 - accuracy: 0.8095 - 1ms/epoch - 1ms/step\n",
      "Epoch 181/500\n",
      "1/1 - 0s - loss: 1.0828 - accuracy: 0.8095 - 1ms/epoch - 1ms/step\n",
      "Epoch 182/500\n",
      "1/1 - 0s - loss: 1.0669 - accuracy: 0.8095 - 1ms/epoch - 1ms/step\n",
      "Epoch 183/500\n",
      "1/1 - 0s - loss: 1.0512 - accuracy: 0.8095 - 1ms/epoch - 1ms/step\n",
      "Epoch 184/500\n",
      "1/1 - 0s - loss: 1.0357 - accuracy: 0.8095 - 1ms/epoch - 1ms/step\n",
      "Epoch 185/500\n",
      "1/1 - 0s - loss: 1.0204 - accuracy: 0.8571 - 1ms/epoch - 1ms/step\n",
      "Epoch 186/500\n",
      "1/1 - 0s - loss: 1.0052 - accuracy: 0.8571 - 1ms/epoch - 1ms/step\n",
      "Epoch 187/500\n",
      "1/1 - 0s - loss: 0.9902 - accuracy: 0.8571 - 1ms/epoch - 1ms/step\n",
      "Epoch 188/500\n",
      "1/1 - 0s - loss: 0.9754 - accuracy: 0.8571 - 2ms/epoch - 2ms/step\n",
      "Epoch 189/500\n",
      "1/1 - 0s - loss: 0.9608 - accuracy: 0.8571 - 1ms/epoch - 1ms/step\n",
      "Epoch 190/500\n",
      "1/1 - 0s - loss: 0.9464 - accuracy: 0.8571 - 1ms/epoch - 1ms/step\n",
      "Epoch 191/500\n",
      "1/1 - 0s - loss: 0.9321 - accuracy: 0.8571 - 2ms/epoch - 2ms/step\n",
      "Epoch 192/500\n",
      "1/1 - 0s - loss: 0.9181 - accuracy: 0.8571 - 3ms/epoch - 3ms/step\n",
      "Epoch 193/500\n",
      "1/1 - 0s - loss: 0.9043 - accuracy: 0.8571 - 3ms/epoch - 3ms/step\n",
      "Epoch 194/500\n",
      "1/1 - 0s - loss: 0.8906 - accuracy: 0.8571 - 3ms/epoch - 3ms/step\n",
      "Epoch 195/500\n",
      "1/1 - 0s - loss: 0.8772 - accuracy: 0.8571 - 3ms/epoch - 3ms/step\n",
      "Epoch 196/500\n",
      "1/1 - 0s - loss: 0.8640 - accuracy: 0.8571 - 4ms/epoch - 4ms/step\n",
      "Epoch 197/500\n",
      "1/1 - 0s - loss: 0.8510 - accuracy: 0.8571 - 2ms/epoch - 2ms/step\n",
      "Epoch 198/500\n",
      "1/1 - 0s - loss: 0.8382 - accuracy: 0.8571 - 4ms/epoch - 4ms/step\n",
      "Epoch 199/500\n",
      "1/1 - 0s - loss: 0.8256 - accuracy: 0.8571 - 2ms/epoch - 2ms/step\n",
      "Epoch 200/500\n",
      "1/1 - 0s - loss: 0.8132 - accuracy: 0.8571 - 2ms/epoch - 2ms/step\n",
      "Epoch 201/500\n",
      "1/1 - 0s - loss: 0.8011 - accuracy: 0.8571 - 2ms/epoch - 2ms/step\n",
      "Epoch 202/500\n",
      "1/1 - 0s - loss: 0.7892 - accuracy: 0.8571 - 1ms/epoch - 1ms/step\n",
      "Epoch 203/500\n",
      "1/1 - 0s - loss: 0.7774 - accuracy: 0.8571 - 2ms/epoch - 2ms/step\n",
      "Epoch 204/500\n",
      "1/1 - 0s - loss: 0.7659 - accuracy: 0.8571 - 2ms/epoch - 2ms/step\n",
      "Epoch 205/500\n",
      "1/1 - 0s - loss: 0.7546 - accuracy: 0.8571 - 2ms/epoch - 2ms/step\n",
      "Epoch 206/500\n",
      "1/1 - 0s - loss: 0.7435 - accuracy: 0.8571 - 2ms/epoch - 2ms/step\n",
      "Epoch 207/500\n",
      "1/1 - 0s - loss: 0.7327 - accuracy: 0.8571 - 1ms/epoch - 1ms/step\n",
      "Epoch 208/500\n",
      "1/1 - 0s - loss: 0.7220 - accuracy: 0.8571 - 1ms/epoch - 1ms/step\n",
      "Epoch 209/500\n",
      "1/1 - 0s - loss: 0.7116 - accuracy: 0.8571 - 2ms/epoch - 2ms/step\n",
      "Epoch 210/500\n",
      "1/1 - 0s - loss: 0.7013 - accuracy: 0.8571 - 2ms/epoch - 2ms/step\n",
      "Epoch 211/500\n",
      "1/1 - 0s - loss: 0.6913 - accuracy: 0.8571 - 2ms/epoch - 2ms/step\n",
      "Epoch 212/500\n",
      "1/1 - 0s - loss: 0.6815 - accuracy: 0.8571 - 2ms/epoch - 2ms/step\n",
      "Epoch 213/500\n",
      "1/1 - 0s - loss: 0.6719 - accuracy: 0.8571 - 1ms/epoch - 1ms/step\n",
      "Epoch 214/500\n",
      "1/1 - 0s - loss: 0.6625 - accuracy: 0.8571 - 1ms/epoch - 1ms/step\n",
      "Epoch 215/500\n",
      "1/1 - 0s - loss: 0.6533 - accuracy: 0.8571 - 1ms/epoch - 1ms/step\n",
      "Epoch 216/500\n",
      "1/1 - 0s - loss: 0.6443 - accuracy: 0.8571 - 1ms/epoch - 1ms/step\n",
      "Epoch 217/500\n",
      "1/1 - 0s - loss: 0.6355 - accuracy: 0.8571 - 1ms/epoch - 1ms/step\n",
      "Epoch 218/500\n",
      "1/1 - 0s - loss: 0.6269 - accuracy: 0.8571 - 1ms/epoch - 1ms/step\n",
      "Epoch 219/500\n",
      "1/1 - 0s - loss: 0.6184 - accuracy: 0.8571 - 1ms/epoch - 1ms/step\n",
      "Epoch 220/500\n",
      "1/1 - 0s - loss: 0.6102 - accuracy: 0.8571 - 2ms/epoch - 2ms/step\n",
      "Epoch 221/500\n",
      "1/1 - 0s - loss: 0.6022 - accuracy: 0.8571 - 1ms/epoch - 1ms/step\n",
      "Epoch 222/500\n",
      "1/1 - 0s - loss: 0.5943 - accuracy: 0.8571 - 1ms/epoch - 1ms/step\n",
      "Epoch 223/500\n",
      "1/1 - 0s - loss: 0.5866 - accuracy: 0.8571 - 1ms/epoch - 1ms/step\n",
      "Epoch 224/500\n",
      "1/1 - 0s - loss: 0.5791 - accuracy: 0.8571 - 2ms/epoch - 2ms/step\n",
      "Epoch 225/500\n",
      "1/1 - 0s - loss: 0.5718 - accuracy: 0.8571 - 2ms/epoch - 2ms/step\n",
      "Epoch 226/500\n",
      "1/1 - 0s - loss: 0.5647 - accuracy: 0.8571 - 2ms/epoch - 2ms/step\n",
      "Epoch 227/500\n",
      "1/1 - 0s - loss: 0.5577 - accuracy: 0.8571 - 1ms/epoch - 1ms/step\n",
      "Epoch 228/500\n",
      "1/1 - 0s - loss: 0.5509 - accuracy: 0.8571 - 2ms/epoch - 2ms/step\n",
      "Epoch 229/500\n",
      "1/1 - 0s - loss: 0.5442 - accuracy: 0.8571 - 2ms/epoch - 2ms/step\n",
      "Epoch 230/500\n",
      "1/1 - 0s - loss: 0.5378 - accuracy: 0.8571 - 1ms/epoch - 1ms/step\n",
      "Epoch 231/500\n",
      "1/1 - 0s - loss: 0.5314 - accuracy: 0.8571 - 1ms/epoch - 1ms/step\n",
      "Epoch 232/500\n",
      "1/1 - 0s - loss: 0.5253 - accuracy: 0.8571 - 1ms/epoch - 1ms/step\n",
      "Epoch 233/500\n",
      "1/1 - 0s - loss: 0.5192 - accuracy: 0.8571 - 1ms/epoch - 1ms/step\n",
      "Epoch 234/500\n",
      "1/1 - 0s - loss: 0.5134 - accuracy: 0.8571 - 1ms/epoch - 1ms/step\n",
      "Epoch 235/500\n",
      "1/1 - 0s - loss: 0.5076 - accuracy: 0.8571 - 1ms/epoch - 1ms/step\n",
      "Epoch 236/500\n",
      "1/1 - 0s - loss: 0.5020 - accuracy: 0.8571 - 2ms/epoch - 2ms/step\n",
      "Epoch 237/500\n",
      "1/1 - 0s - loss: 0.4966 - accuracy: 0.8571 - 2ms/epoch - 2ms/step\n",
      "Epoch 238/500\n",
      "1/1 - 0s - loss: 0.4913 - accuracy: 0.8571 - 1ms/epoch - 1ms/step\n",
      "Epoch 239/500\n",
      "1/1 - 0s - loss: 0.4861 - accuracy: 0.8571 - 3ms/epoch - 3ms/step\n",
      "Epoch 240/500\n",
      "1/1 - 0s - loss: 0.4810 - accuracy: 0.8571 - 3ms/epoch - 3ms/step\n",
      "Epoch 241/500\n",
      "1/1 - 0s - loss: 0.4761 - accuracy: 0.8571 - 3ms/epoch - 3ms/step\n",
      "Epoch 242/500\n",
      "1/1 - 0s - loss: 0.4713 - accuracy: 0.8571 - 3ms/epoch - 3ms/step\n",
      "Epoch 243/500\n",
      "1/1 - 0s - loss: 0.4666 - accuracy: 0.8571 - 3ms/epoch - 3ms/step\n",
      "Epoch 244/500\n",
      "1/1 - 0s - loss: 0.4620 - accuracy: 0.8571 - 2ms/epoch - 2ms/step\n",
      "Epoch 245/500\n",
      "1/1 - 0s - loss: 0.4576 - accuracy: 0.8571 - 2ms/epoch - 2ms/step\n",
      "Epoch 246/500\n",
      "1/1 - 0s - loss: 0.4532 - accuracy: 0.8571 - 4ms/epoch - 4ms/step\n",
      "Epoch 247/500\n",
      "1/1 - 0s - loss: 0.4490 - accuracy: 0.8571 - 1ms/epoch - 1ms/step\n",
      "Epoch 248/500\n",
      "1/1 - 0s - loss: 0.4449 - accuracy: 0.8571 - 1ms/epoch - 1ms/step\n",
      "Epoch 249/500\n",
      "1/1 - 0s - loss: 0.4409 - accuracy: 0.8571 - 1ms/epoch - 1ms/step\n",
      "Epoch 250/500\n",
      "1/1 - 0s - loss: 0.4369 - accuracy: 0.8571 - 2ms/epoch - 2ms/step\n",
      "Epoch 251/500\n",
      "1/1 - 0s - loss: 0.4331 - accuracy: 0.8571 - 2ms/epoch - 2ms/step\n",
      "Epoch 252/500\n",
      "1/1 - 0s - loss: 0.4294 - accuracy: 0.8571 - 2ms/epoch - 2ms/step\n",
      "Epoch 253/500\n",
      "1/1 - 0s - loss: 0.4257 - accuracy: 0.8571 - 1ms/epoch - 1ms/step\n",
      "Epoch 254/500\n",
      "1/1 - 0s - loss: 0.4222 - accuracy: 0.8571 - 1ms/epoch - 1ms/step\n",
      "Epoch 255/500\n",
      "1/1 - 0s - loss: 0.4187 - accuracy: 0.8571 - 1ms/epoch - 1ms/step\n",
      "Epoch 256/500\n",
      "1/1 - 0s - loss: 0.4154 - accuracy: 0.8571 - 2ms/epoch - 2ms/step\n",
      "Epoch 257/500\n",
      "1/1 - 0s - loss: 0.4121 - accuracy: 0.8571 - 1ms/epoch - 1ms/step\n",
      "Epoch 258/500\n",
      "1/1 - 0s - loss: 0.4089 - accuracy: 0.8571 - 2ms/epoch - 2ms/step\n",
      "Epoch 259/500\n",
      "1/1 - 0s - loss: 0.4058 - accuracy: 0.8571 - 2ms/epoch - 2ms/step\n",
      "Epoch 260/500\n",
      "1/1 - 0s - loss: 0.4027 - accuracy: 0.8571 - 2ms/epoch - 2ms/step\n",
      "Epoch 261/500\n",
      "1/1 - 0s - loss: 0.3997 - accuracy: 0.8571 - 2ms/epoch - 2ms/step\n",
      "Epoch 262/500\n",
      "1/1 - 0s - loss: 0.3968 - accuracy: 0.8571 - 1ms/epoch - 1ms/step\n",
      "Epoch 263/500\n",
      "1/1 - 0s - loss: 0.3940 - accuracy: 0.8571 - 1ms/epoch - 1ms/step\n",
      "Epoch 264/500\n",
      "1/1 - 0s - loss: 0.3912 - accuracy: 0.8571 - 1ms/epoch - 1ms/step\n",
      "Epoch 265/500\n",
      "1/1 - 0s - loss: 0.3885 - accuracy: 0.8571 - 1ms/epoch - 1ms/step\n",
      "Epoch 266/500\n",
      "1/1 - 0s - loss: 0.3859 - accuracy: 0.8571 - 1ms/epoch - 1ms/step\n",
      "Epoch 267/500\n",
      "1/1 - 0s - loss: 0.3833 - accuracy: 0.8571 - 2ms/epoch - 2ms/step\n",
      "Epoch 268/500\n",
      "1/1 - 0s - loss: 0.3808 - accuracy: 0.8571 - 2ms/epoch - 2ms/step\n",
      "Epoch 269/500\n",
      "1/1 - 0s - loss: 0.3784 - accuracy: 0.8571 - 2ms/epoch - 2ms/step\n",
      "Epoch 270/500\n",
      "1/1 - 0s - loss: 0.3760 - accuracy: 0.8571 - 1ms/epoch - 1ms/step\n",
      "Epoch 271/500\n",
      "1/1 - 0s - loss: 0.3736 - accuracy: 0.8571 - 1ms/epoch - 1ms/step\n",
      "Epoch 272/500\n",
      "1/1 - 0s - loss: 0.3713 - accuracy: 0.8571 - 2ms/epoch - 2ms/step\n",
      "Epoch 273/500\n",
      "1/1 - 0s - loss: 0.3691 - accuracy: 0.8571 - 1ms/epoch - 1ms/step\n",
      "Epoch 274/500\n",
      "1/1 - 0s - loss: 0.3669 - accuracy: 0.8571 - 2ms/epoch - 2ms/step\n",
      "Epoch 275/500\n",
      "1/1 - 0s - loss: 0.3648 - accuracy: 0.8571 - 2ms/epoch - 2ms/step\n",
      "Epoch 276/500\n",
      "1/1 - 0s - loss: 0.3627 - accuracy: 0.8571 - 2ms/epoch - 2ms/step\n",
      "Epoch 277/500\n",
      "1/1 - 0s - loss: 0.3607 - accuracy: 0.8571 - 2ms/epoch - 2ms/step\n",
      "Epoch 278/500\n",
      "1/1 - 0s - loss: 0.3587 - accuracy: 0.8571 - 1ms/epoch - 1ms/step\n",
      "Epoch 279/500\n",
      "1/1 - 0s - loss: 0.3568 - accuracy: 0.8571 - 1ms/epoch - 1ms/step\n",
      "Epoch 280/500\n",
      "1/1 - 0s - loss: 0.3549 - accuracy: 0.8571 - 1ms/epoch - 1ms/step\n",
      "Epoch 281/500\n",
      "1/1 - 0s - loss: 0.3530 - accuracy: 0.8571 - 1ms/epoch - 1ms/step\n",
      "Epoch 282/500\n",
      "1/1 - 0s - loss: 0.3512 - accuracy: 0.8571 - 2ms/epoch - 2ms/step\n",
      "Epoch 283/500\n",
      "1/1 - 0s - loss: 0.3494 - accuracy: 0.8571 - 2ms/epoch - 2ms/step\n",
      "Epoch 284/500\n",
      "1/1 - 0s - loss: 0.3476 - accuracy: 0.8571 - 2ms/epoch - 2ms/step\n",
      "Epoch 285/500\n",
      "1/1 - 0s - loss: 0.3459 - accuracy: 0.8571 - 1ms/epoch - 1ms/step\n",
      "Epoch 286/500\n",
      "1/1 - 0s - loss: 0.3443 - accuracy: 0.8571 - 3ms/epoch - 3ms/step\n",
      "Epoch 287/500\n",
      "1/1 - 0s - loss: 0.3426 - accuracy: 0.8571 - 3ms/epoch - 3ms/step\n",
      "Epoch 288/500\n",
      "1/1 - 0s - loss: 0.3410 - accuracy: 0.8571 - 4ms/epoch - 4ms/step\n",
      "Epoch 289/500\n",
      "1/1 - 0s - loss: 0.3395 - accuracy: 0.8571 - 3ms/epoch - 3ms/step\n",
      "Epoch 290/500\n",
      "1/1 - 0s - loss: 0.3379 - accuracy: 0.8571 - 3ms/epoch - 3ms/step\n",
      "Epoch 291/500\n",
      "1/1 - 0s - loss: 0.3364 - accuracy: 0.8571 - 2ms/epoch - 2ms/step\n",
      "Epoch 292/500\n",
      "1/1 - 0s - loss: 0.3349 - accuracy: 0.8571 - 3ms/epoch - 3ms/step\n",
      "Epoch 293/500\n",
      "1/1 - 0s - loss: 0.3335 - accuracy: 0.8571 - 2ms/epoch - 2ms/step\n",
      "Epoch 294/500\n",
      "1/1 - 0s - loss: 0.3321 - accuracy: 0.8571 - 1ms/epoch - 1ms/step\n",
      "Epoch 295/500\n",
      "1/1 - 0s - loss: 0.3307 - accuracy: 0.8571 - 1ms/epoch - 1ms/step\n",
      "Epoch 296/500\n",
      "1/1 - 0s - loss: 0.3293 - accuracy: 0.8571 - 1ms/epoch - 1ms/step\n",
      "Epoch 297/500\n",
      "1/1 - 0s - loss: 0.3280 - accuracy: 0.8571 - 1ms/epoch - 1ms/step\n",
      "Epoch 298/500\n",
      "1/1 - 0s - loss: 0.3267 - accuracy: 0.8571 - 2ms/epoch - 2ms/step\n",
      "Epoch 299/500\n",
      "1/1 - 0s - loss: 0.3254 - accuracy: 0.8571 - 1ms/epoch - 1ms/step\n",
      "Epoch 300/500\n",
      "1/1 - 0s - loss: 0.3241 - accuracy: 0.8571 - 2ms/epoch - 2ms/step\n",
      "Epoch 301/500\n",
      "1/1 - 0s - loss: 0.3229 - accuracy: 0.8571 - 2ms/epoch - 2ms/step\n",
      "Epoch 302/500\n",
      "1/1 - 0s - loss: 0.3217 - accuracy: 0.8571 - 1ms/epoch - 1ms/step\n",
      "Epoch 303/500\n",
      "1/1 - 0s - loss: 0.3205 - accuracy: 0.8571 - 2ms/epoch - 2ms/step\n",
      "Epoch 304/500\n",
      "1/1 - 0s - loss: 0.3193 - accuracy: 0.8571 - 1ms/epoch - 1ms/step\n",
      "Epoch 305/500\n",
      "1/1 - 0s - loss: 0.3181 - accuracy: 0.8571 - 1ms/epoch - 1ms/step\n",
      "Epoch 306/500\n",
      "1/1 - 0s - loss: 0.3170 - accuracy: 0.8571 - 2ms/epoch - 2ms/step\n",
      "Epoch 307/500\n",
      "1/1 - 0s - loss: 0.3159 - accuracy: 0.8571 - 2ms/epoch - 2ms/step\n",
      "Epoch 308/500\n",
      "1/1 - 0s - loss: 0.3148 - accuracy: 0.8571 - 1ms/epoch - 1ms/step\n",
      "Epoch 309/500\n",
      "1/1 - 0s - loss: 0.3137 - accuracy: 0.8571 - 2ms/epoch - 2ms/step\n",
      "Epoch 310/500\n",
      "1/1 - 0s - loss: 0.3127 - accuracy: 0.8571 - 1ms/epoch - 1ms/step\n",
      "Epoch 311/500\n",
      "1/1 - 0s - loss: 0.3116 - accuracy: 0.8571 - 2ms/epoch - 2ms/step\n",
      "Epoch 312/500\n",
      "1/1 - 0s - loss: 0.3106 - accuracy: 0.8571 - 2ms/epoch - 2ms/step\n",
      "Epoch 313/500\n",
      "1/1 - 0s - loss: 0.3096 - accuracy: 0.8571 - 2ms/epoch - 2ms/step\n",
      "Epoch 314/500\n",
      "1/1 - 0s - loss: 0.3086 - accuracy: 0.8571 - 2ms/epoch - 2ms/step\n",
      "Epoch 315/500\n",
      "1/1 - 0s - loss: 0.3076 - accuracy: 0.8571 - 1ms/epoch - 1ms/step\n",
      "Epoch 316/500\n",
      "1/1 - 0s - loss: 0.3066 - accuracy: 0.8571 - 1ms/epoch - 1ms/step\n",
      "Epoch 317/500\n",
      "1/1 - 0s - loss: 0.3057 - accuracy: 0.8571 - 1ms/epoch - 1ms/step\n",
      "Epoch 318/500\n",
      "1/1 - 0s - loss: 0.3048 - accuracy: 0.8571 - 1ms/epoch - 1ms/step\n",
      "Epoch 319/500\n",
      "1/1 - 0s - loss: 0.3038 - accuracy: 0.8571 - 1ms/epoch - 1ms/step\n",
      "Epoch 320/500\n",
      "1/1 - 0s - loss: 0.3029 - accuracy: 0.8571 - 1ms/epoch - 1ms/step\n",
      "Epoch 321/500\n",
      "1/1 - 0s - loss: 0.3021 - accuracy: 0.8571 - 2ms/epoch - 2ms/step\n",
      "Epoch 322/500\n",
      "1/1 - 0s - loss: 0.3012 - accuracy: 0.8571 - 1ms/epoch - 1ms/step\n",
      "Epoch 323/500\n",
      "1/1 - 0s - loss: 0.3003 - accuracy: 0.8571 - 1ms/epoch - 1ms/step\n",
      "Epoch 324/500\n",
      "1/1 - 0s - loss: 0.2995 - accuracy: 0.8571 - 1ms/epoch - 1ms/step\n",
      "Epoch 325/500\n",
      "1/1 - 0s - loss: 0.2986 - accuracy: 0.8571 - 1ms/epoch - 1ms/step\n",
      "Epoch 326/500\n",
      "1/1 - 0s - loss: 0.2978 - accuracy: 0.8571 - 1ms/epoch - 1ms/step\n",
      "Epoch 327/500\n",
      "1/1 - 0s - loss: 0.2970 - accuracy: 0.8571 - 1ms/epoch - 1ms/step\n",
      "Epoch 328/500\n",
      "1/1 - 0s - loss: 0.2962 - accuracy: 0.8571 - 1ms/epoch - 1ms/step\n",
      "Epoch 329/500\n",
      "1/1 - 0s - loss: 0.2954 - accuracy: 0.8571 - 2ms/epoch - 2ms/step\n",
      "Epoch 330/500\n",
      "1/1 - 0s - loss: 0.2946 - accuracy: 0.8571 - 3ms/epoch - 3ms/step\n",
      "Epoch 331/500\n",
      "1/1 - 0s - loss: 0.2938 - accuracy: 0.8571 - 2ms/epoch - 2ms/step\n",
      "Epoch 332/500\n",
      "1/1 - 0s - loss: 0.2931 - accuracy: 0.8571 - 3ms/epoch - 3ms/step\n",
      "Epoch 333/500\n",
      "1/1 - 0s - loss: 0.2923 - accuracy: 0.8571 - 4ms/epoch - 4ms/step\n",
      "Epoch 334/500\n",
      "1/1 - 0s - loss: 0.2916 - accuracy: 0.8571 - 3ms/epoch - 3ms/step\n",
      "Epoch 335/500\n",
      "1/1 - 0s - loss: 0.2908 - accuracy: 0.8571 - 2ms/epoch - 2ms/step\n",
      "Epoch 336/500\n",
      "1/1 - 0s - loss: 0.2901 - accuracy: 0.8571 - 2ms/epoch - 2ms/step\n",
      "Epoch 337/500\n",
      "1/1 - 0s - loss: 0.2894 - accuracy: 0.8571 - 2ms/epoch - 2ms/step\n",
      "Epoch 338/500\n",
      "1/1 - 0s - loss: 0.2887 - accuracy: 0.8571 - 2ms/epoch - 2ms/step\n",
      "Epoch 339/500\n",
      "1/1 - 0s - loss: 0.2880 - accuracy: 0.8571 - 2ms/epoch - 2ms/step\n",
      "Epoch 340/500\n",
      "1/1 - 0s - loss: 0.2873 - accuracy: 0.8571 - 1ms/epoch - 1ms/step\n",
      "Epoch 341/500\n",
      "1/1 - 0s - loss: 0.2866 - accuracy: 0.8571 - 1ms/epoch - 1ms/step\n",
      "Epoch 342/500\n",
      "1/1 - 0s - loss: 0.2860 - accuracy: 0.8571 - 1ms/epoch - 1ms/step\n",
      "Epoch 343/500\n",
      "1/1 - 0s - loss: 0.2853 - accuracy: 0.8571 - 2ms/epoch - 2ms/step\n",
      "Epoch 344/500\n",
      "1/1 - 0s - loss: 0.2847 - accuracy: 0.8571 - 2ms/epoch - 2ms/step\n",
      "Epoch 345/500\n",
      "1/1 - 0s - loss: 0.2840 - accuracy: 0.8571 - 1ms/epoch - 1ms/step\n",
      "Epoch 346/500\n",
      "1/1 - 0s - loss: 0.2834 - accuracy: 0.8571 - 1ms/epoch - 1ms/step\n",
      "Epoch 347/500\n",
      "1/1 - 0s - loss: 0.2828 - accuracy: 0.8571 - 1ms/epoch - 1ms/step\n",
      "Epoch 348/500\n",
      "1/1 - 0s - loss: 0.2822 - accuracy: 0.8571 - 1ms/epoch - 1ms/step\n",
      "Epoch 349/500\n",
      "1/1 - 0s - loss: 0.2815 - accuracy: 0.8571 - 1ms/epoch - 1ms/step\n",
      "Epoch 350/500\n",
      "1/1 - 0s - loss: 0.2809 - accuracy: 0.8571 - 1ms/epoch - 1ms/step\n",
      "Epoch 351/500\n",
      "1/1 - 0s - loss: 0.2803 - accuracy: 0.8571 - 1ms/epoch - 1ms/step\n",
      "Epoch 352/500\n",
      "1/1 - 0s - loss: 0.2798 - accuracy: 0.8571 - 2ms/epoch - 2ms/step\n",
      "Epoch 353/500\n",
      "1/1 - 0s - loss: 0.2792 - accuracy: 0.8571 - 1ms/epoch - 1ms/step\n",
      "Epoch 354/500\n",
      "1/1 - 0s - loss: 0.2786 - accuracy: 0.8571 - 1ms/epoch - 1ms/step\n",
      "Epoch 355/500\n",
      "1/1 - 0s - loss: 0.2780 - accuracy: 0.8571 - 1ms/epoch - 1ms/step\n",
      "Epoch 356/500\n",
      "1/1 - 0s - loss: 0.2775 - accuracy: 0.8571 - 2ms/epoch - 2ms/step\n",
      "Epoch 357/500\n",
      "1/1 - 0s - loss: 0.2769 - accuracy: 0.8571 - 1ms/epoch - 1ms/step\n",
      "Epoch 358/500\n",
      "1/1 - 0s - loss: 0.2764 - accuracy: 0.8571 - 1ms/epoch - 1ms/step\n",
      "Epoch 359/500\n",
      "1/1 - 0s - loss: 0.2758 - accuracy: 0.8571 - 2ms/epoch - 2ms/step\n",
      "Epoch 360/500\n",
      "1/1 - 0s - loss: 0.2753 - accuracy: 0.8571 - 2ms/epoch - 2ms/step\n",
      "Epoch 361/500\n",
      "1/1 - 0s - loss: 0.2748 - accuracy: 0.8571 - 2ms/epoch - 2ms/step\n",
      "Epoch 362/500\n",
      "1/1 - 0s - loss: 0.2743 - accuracy: 0.8571 - 1ms/epoch - 1ms/step\n",
      "Epoch 363/500\n",
      "1/1 - 0s - loss: 0.2737 - accuracy: 0.8571 - 2ms/epoch - 2ms/step\n",
      "Epoch 364/500\n",
      "1/1 - 0s - loss: 0.2732 - accuracy: 0.8571 - 1ms/epoch - 1ms/step\n",
      "Epoch 365/500\n",
      "1/1 - 0s - loss: 0.2727 - accuracy: 0.8571 - 1ms/epoch - 1ms/step\n",
      "Epoch 366/500\n",
      "1/1 - 0s - loss: 0.2722 - accuracy: 0.8571 - 1ms/epoch - 1ms/step\n",
      "Epoch 367/500\n",
      "1/1 - 0s - loss: 0.2718 - accuracy: 0.8571 - 1ms/epoch - 1ms/step\n",
      "Epoch 368/500\n",
      "1/1 - 0s - loss: 0.2713 - accuracy: 0.8571 - 1ms/epoch - 1ms/step\n",
      "Epoch 369/500\n",
      "1/1 - 0s - loss: 0.2708 - accuracy: 0.8571 - 2ms/epoch - 2ms/step\n",
      "Epoch 370/500\n",
      "1/1 - 0s - loss: 0.2703 - accuracy: 0.8571 - 1ms/epoch - 1ms/step\n",
      "Epoch 371/500\n",
      "1/1 - 0s - loss: 0.2699 - accuracy: 0.8571 - 1ms/epoch - 1ms/step\n",
      "Epoch 372/500\n",
      "1/1 - 0s - loss: 0.2694 - accuracy: 0.8571 - 2ms/epoch - 2ms/step\n",
      "Epoch 373/500\n",
      "1/1 - 0s - loss: 0.2689 - accuracy: 0.8571 - 1ms/epoch - 1ms/step\n",
      "Epoch 374/500\n",
      "1/1 - 0s - loss: 0.2685 - accuracy: 0.8571 - 1ms/epoch - 1ms/step\n",
      "Epoch 375/500\n",
      "1/1 - 0s - loss: 0.2681 - accuracy: 0.8571 - 1ms/epoch - 1ms/step\n",
      "Epoch 376/500\n",
      "1/1 - 0s - loss: 0.2676 - accuracy: 0.8571 - 1ms/epoch - 1ms/step\n",
      "Epoch 377/500\n",
      "1/1 - 0s - loss: 0.2672 - accuracy: 0.8571 - 2ms/epoch - 2ms/step\n",
      "Epoch 378/500\n",
      "1/1 - 0s - loss: 0.2668 - accuracy: 0.8571 - 2ms/epoch - 2ms/step\n",
      "Epoch 379/500\n",
      "1/1 - 0s - loss: 0.2664 - accuracy: 0.8571 - 2ms/epoch - 2ms/step\n",
      "Epoch 380/500\n",
      "1/1 - 0s - loss: 0.2659 - accuracy: 0.8571 - 1ms/epoch - 1ms/step\n",
      "Epoch 381/500\n",
      "1/1 - 0s - loss: 0.2655 - accuracy: 0.8571 - 1ms/epoch - 1ms/step\n",
      "Epoch 382/500\n",
      "1/1 - 0s - loss: 0.2651 - accuracy: 0.8571 - 5ms/epoch - 5ms/step\n",
      "Epoch 383/500\n",
      "1/1 - 0s - loss: 0.2647 - accuracy: 0.8571 - 3ms/epoch - 3ms/step\n",
      "Epoch 384/500\n",
      "1/1 - 0s - loss: 0.2643 - accuracy: 0.8571 - 3ms/epoch - 3ms/step\n",
      "Epoch 385/500\n",
      "1/1 - 0s - loss: 0.2639 - accuracy: 0.8571 - 3ms/epoch - 3ms/step\n",
      "Epoch 386/500\n",
      "1/1 - 0s - loss: 0.2636 - accuracy: 0.8571 - 3ms/epoch - 3ms/step\n",
      "Epoch 387/500\n",
      "1/1 - 0s - loss: 0.2632 - accuracy: 0.8571 - 2ms/epoch - 2ms/step\n",
      "Epoch 388/500\n",
      "1/1 - 0s - loss: 0.2628 - accuracy: 0.8571 - 3ms/epoch - 3ms/step\n",
      "Epoch 389/500\n",
      "1/1 - 0s - loss: 0.2624 - accuracy: 0.8571 - 2ms/epoch - 2ms/step\n",
      "Epoch 390/500\n",
      "1/1 - 0s - loss: 0.2621 - accuracy: 0.8571 - 2ms/epoch - 2ms/step\n",
      "Epoch 391/500\n",
      "1/1 - 0s - loss: 0.2617 - accuracy: 0.8571 - 4ms/epoch - 4ms/step\n",
      "Epoch 392/500\n",
      "1/1 - 0s - loss: 0.2614 - accuracy: 0.8571 - 2ms/epoch - 2ms/step\n",
      "Epoch 393/500\n",
      "1/1 - 0s - loss: 0.2610 - accuracy: 0.8571 - 2ms/epoch - 2ms/step\n",
      "Epoch 394/500\n",
      "1/1 - 0s - loss: 0.2607 - accuracy: 0.8571 - 2ms/epoch - 2ms/step\n",
      "Epoch 395/500\n",
      "1/1 - 0s - loss: 0.2603 - accuracy: 0.8571 - 2ms/epoch - 2ms/step\n",
      "Epoch 396/500\n",
      "1/1 - 0s - loss: 0.2600 - accuracy: 0.8571 - 2ms/epoch - 2ms/step\n",
      "Epoch 397/500\n",
      "1/1 - 0s - loss: 0.2597 - accuracy: 0.8571 - 2ms/epoch - 2ms/step\n",
      "Epoch 398/500\n",
      "1/1 - 0s - loss: 0.2593 - accuracy: 0.8571 - 2ms/epoch - 2ms/step\n",
      "Epoch 399/500\n",
      "1/1 - 0s - loss: 0.2590 - accuracy: 0.8571 - 1ms/epoch - 1ms/step\n",
      "Epoch 400/500\n",
      "1/1 - 0s - loss: 0.2587 - accuracy: 0.8571 - 1ms/epoch - 1ms/step\n",
      "Epoch 401/500\n",
      "1/1 - 0s - loss: 0.2584 - accuracy: 0.8571 - 2ms/epoch - 2ms/step\n",
      "Epoch 402/500\n",
      "1/1 - 0s - loss: 0.2581 - accuracy: 0.8571 - 2ms/epoch - 2ms/step\n",
      "Epoch 403/500\n",
      "1/1 - 0s - loss: 0.2578 - accuracy: 0.8571 - 1ms/epoch - 1ms/step\n",
      "Epoch 404/500\n",
      "1/1 - 0s - loss: 0.2575 - accuracy: 0.8571 - 2ms/epoch - 2ms/step\n",
      "Epoch 405/500\n",
      "1/1 - 0s - loss: 0.2572 - accuracy: 0.8571 - 2ms/epoch - 2ms/step\n",
      "Epoch 406/500\n",
      "1/1 - 0s - loss: 0.2569 - accuracy: 0.8571 - 1ms/epoch - 1ms/step\n",
      "Epoch 407/500\n",
      "1/1 - 0s - loss: 0.2566 - accuracy: 0.8571 - 1ms/epoch - 1ms/step\n",
      "Epoch 408/500\n",
      "1/1 - 0s - loss: 0.2563 - accuracy: 0.8571 - 1ms/epoch - 1ms/step\n",
      "Epoch 409/500\n",
      "1/1 - 0s - loss: 0.2560 - accuracy: 0.8571 - 1ms/epoch - 1ms/step\n",
      "Epoch 410/500\n",
      "1/1 - 0s - loss: 0.2557 - accuracy: 0.8571 - 1ms/epoch - 1ms/step\n",
      "Epoch 411/500\n",
      "1/1 - 0s - loss: 0.2555 - accuracy: 0.8571 - 2ms/epoch - 2ms/step\n",
      "Epoch 412/500\n",
      "1/1 - 0s - loss: 0.2552 - accuracy: 0.8571 - 2ms/epoch - 2ms/step\n",
      "Epoch 413/500\n",
      "1/1 - 0s - loss: 0.2549 - accuracy: 0.8571 - 1ms/epoch - 1ms/step\n",
      "Epoch 414/500\n",
      "1/1 - 0s - loss: 0.2547 - accuracy: 0.8571 - 1ms/epoch - 1ms/step\n",
      "Epoch 415/500\n",
      "1/1 - 0s - loss: 0.2544 - accuracy: 0.8571 - 1ms/epoch - 1ms/step\n",
      "Epoch 416/500\n",
      "1/1 - 0s - loss: 0.2541 - accuracy: 0.8571 - 2ms/epoch - 2ms/step\n",
      "Epoch 417/500\n",
      "1/1 - 0s - loss: 0.2539 - accuracy: 0.8571 - 1ms/epoch - 1ms/step\n",
      "Epoch 418/500\n",
      "1/1 - 0s - loss: 0.2536 - accuracy: 0.8571 - 1ms/epoch - 1ms/step\n",
      "Epoch 419/500\n",
      "1/1 - 0s - loss: 0.2534 - accuracy: 0.8571 - 1ms/epoch - 1ms/step\n",
      "Epoch 420/500\n",
      "1/1 - 0s - loss: 0.2532 - accuracy: 0.8571 - 2ms/epoch - 2ms/step\n",
      "Epoch 421/500\n",
      "1/1 - 0s - loss: 0.2529 - accuracy: 0.8571 - 2ms/epoch - 2ms/step\n",
      "Epoch 422/500\n",
      "1/1 - 0s - loss: 0.2527 - accuracy: 0.8571 - 1ms/epoch - 1ms/step\n",
      "Epoch 423/500\n",
      "1/1 - 0s - loss: 0.2524 - accuracy: 0.8571 - 1ms/epoch - 1ms/step\n",
      "Epoch 424/500\n",
      "1/1 - 0s - loss: 0.2522 - accuracy: 0.8571 - 1ms/epoch - 1ms/step\n",
      "Epoch 425/500\n",
      "1/1 - 0s - loss: 0.2520 - accuracy: 0.8571 - 1ms/epoch - 1ms/step\n",
      "Epoch 426/500\n",
      "1/1 - 0s - loss: 0.2517 - accuracy: 0.8571 - 1ms/epoch - 1ms/step\n",
      "Epoch 427/500\n",
      "1/1 - 0s - loss: 0.2515 - accuracy: 0.8571 - 1ms/epoch - 1ms/step\n",
      "Epoch 428/500\n",
      "1/1 - 0s - loss: 0.2513 - accuracy: 0.8571 - 2ms/epoch - 2ms/step\n",
      "Epoch 429/500\n",
      "1/1 - 0s - loss: 0.2511 - accuracy: 0.8571 - 3ms/epoch - 3ms/step\n",
      "Epoch 430/500\n",
      "1/1 - 0s - loss: 0.2509 - accuracy: 0.8571 - 3ms/epoch - 3ms/step\n",
      "Epoch 431/500\n",
      "1/1 - 0s - loss: 0.2507 - accuracy: 0.8571 - 3ms/epoch - 3ms/step\n",
      "Epoch 432/500\n",
      "1/1 - 0s - loss: 0.2504 - accuracy: 0.8571 - 3ms/epoch - 3ms/step\n",
      "Epoch 433/500\n",
      "1/1 - 0s - loss: 0.2502 - accuracy: 0.8571 - 2ms/epoch - 2ms/step\n",
      "Epoch 434/500\n",
      "1/1 - 0s - loss: 0.2500 - accuracy: 0.8571 - 2ms/epoch - 2ms/step\n",
      "Epoch 435/500\n",
      "1/1 - 0s - loss: 0.2498 - accuracy: 0.8571 - 3ms/epoch - 3ms/step\n",
      "Epoch 436/500\n",
      "1/1 - 0s - loss: 0.2496 - accuracy: 0.8571 - 2ms/epoch - 2ms/step\n",
      "Epoch 437/500\n",
      "1/1 - 0s - loss: 0.2494 - accuracy: 0.8571 - 2ms/epoch - 2ms/step\n",
      "Epoch 438/500\n",
      "1/1 - 0s - loss: 0.2492 - accuracy: 0.8571 - 2ms/epoch - 2ms/step\n",
      "Epoch 439/500\n",
      "1/1 - 0s - loss: 0.2491 - accuracy: 0.8571 - 1ms/epoch - 1ms/step\n",
      "Epoch 440/500\n",
      "1/1 - 0s - loss: 0.2489 - accuracy: 0.8571 - 1ms/epoch - 1ms/step\n",
      "Epoch 441/500\n",
      "1/1 - 0s - loss: 0.2487 - accuracy: 0.8571 - 2ms/epoch - 2ms/step\n",
      "Epoch 442/500\n",
      "1/1 - 0s - loss: 0.2485 - accuracy: 0.8571 - 1ms/epoch - 1ms/step\n",
      "Epoch 443/500\n",
      "1/1 - 0s - loss: 0.2483 - accuracy: 0.8571 - 2ms/epoch - 2ms/step\n",
      "Epoch 444/500\n",
      "1/1 - 0s - loss: 0.2481 - accuracy: 0.8571 - 1ms/epoch - 1ms/step\n",
      "Epoch 445/500\n",
      "1/1 - 0s - loss: 0.2479 - accuracy: 0.8571 - 1ms/epoch - 1ms/step\n",
      "Epoch 446/500\n",
      "1/1 - 0s - loss: 0.2478 - accuracy: 0.8571 - 1ms/epoch - 1ms/step\n",
      "Epoch 447/500\n",
      "1/1 - 0s - loss: 0.2476 - accuracy: 0.8571 - 1ms/epoch - 1ms/step\n",
      "Epoch 448/500\n",
      "1/1 - 0s - loss: 0.2474 - accuracy: 0.8571 - 1ms/epoch - 1ms/step\n",
      "Epoch 449/500\n",
      "1/1 - 0s - loss: 0.2472 - accuracy: 0.8571 - 1ms/epoch - 1ms/step\n",
      "Epoch 450/500\n",
      "1/1 - 0s - loss: 0.2471 - accuracy: 0.8571 - 2ms/epoch - 2ms/step\n",
      "Epoch 451/500\n",
      "1/1 - 0s - loss: 0.2469 - accuracy: 0.8571 - 2ms/epoch - 2ms/step\n",
      "Epoch 452/500\n",
      "1/1 - 0s - loss: 0.2467 - accuracy: 0.8571 - 1ms/epoch - 1ms/step\n",
      "Epoch 453/500\n",
      "1/1 - 0s - loss: 0.2466 - accuracy: 0.8571 - 2ms/epoch - 2ms/step\n",
      "Epoch 454/500\n",
      "1/1 - 0s - loss: 0.2464 - accuracy: 0.8571 - 1ms/epoch - 1ms/step\n",
      "Epoch 455/500\n",
      "1/1 - 0s - loss: 0.2463 - accuracy: 0.8571 - 2ms/epoch - 2ms/step\n",
      "Epoch 456/500\n",
      "1/1 - 0s - loss: 0.2461 - accuracy: 0.8571 - 2ms/epoch - 2ms/step\n",
      "Epoch 457/500\n",
      "1/1 - 0s - loss: 0.2459 - accuracy: 0.8571 - 2ms/epoch - 2ms/step\n",
      "Epoch 458/500\n",
      "1/1 - 0s - loss: 0.2458 - accuracy: 0.8571 - 2ms/epoch - 2ms/step\n",
      "Epoch 459/500\n",
      "1/1 - 0s - loss: 0.2456 - accuracy: 0.8571 - 1ms/epoch - 1ms/step\n",
      "Epoch 460/500\n",
      "1/1 - 0s - loss: 0.2455 - accuracy: 0.8571 - 1ms/epoch - 1ms/step\n",
      "Epoch 461/500\n",
      "1/1 - 0s - loss: 0.2453 - accuracy: 0.8571 - 2ms/epoch - 2ms/step\n",
      "Epoch 462/500\n",
      "1/1 - 0s - loss: 0.2452 - accuracy: 0.8571 - 1ms/epoch - 1ms/step\n",
      "Epoch 463/500\n",
      "1/1 - 0s - loss: 0.2450 - accuracy: 0.8571 - 2ms/epoch - 2ms/step\n",
      "Epoch 464/500\n",
      "1/1 - 0s - loss: 0.2449 - accuracy: 0.8571 - 2ms/epoch - 2ms/step\n",
      "Epoch 465/500\n",
      "1/1 - 0s - loss: 0.2448 - accuracy: 0.8571 - 1ms/epoch - 1ms/step\n",
      "Epoch 466/500\n",
      "1/1 - 0s - loss: 0.2446 - accuracy: 0.8571 - 1ms/epoch - 1ms/step\n",
      "Epoch 467/500\n",
      "1/1 - 0s - loss: 0.2445 - accuracy: 0.8571 - 2ms/epoch - 2ms/step\n",
      "Epoch 468/500\n",
      "1/1 - 0s - loss: 0.2443 - accuracy: 0.8571 - 1ms/epoch - 1ms/step\n",
      "Epoch 469/500\n",
      "1/1 - 0s - loss: 0.2442 - accuracy: 0.8571 - 1ms/epoch - 1ms/step\n",
      "Epoch 470/500\n",
      "1/1 - 0s - loss: 0.2441 - accuracy: 0.8571 - 1ms/epoch - 1ms/step\n",
      "Epoch 471/500\n",
      "1/1 - 0s - loss: 0.2439 - accuracy: 0.8571 - 2ms/epoch - 2ms/step\n",
      "Epoch 472/500\n",
      "1/1 - 0s - loss: 0.2438 - accuracy: 0.8571 - 2ms/epoch - 2ms/step\n",
      "Epoch 473/500\n",
      "1/1 - 0s - loss: 0.2437 - accuracy: 0.8571 - 2ms/epoch - 2ms/step\n",
      "Epoch 474/500\n",
      "1/1 - 0s - loss: 0.2435 - accuracy: 0.8571 - 1ms/epoch - 1ms/step\n",
      "Epoch 475/500\n",
      "1/1 - 0s - loss: 0.2434 - accuracy: 0.8571 - 1ms/epoch - 1ms/step\n",
      "Epoch 476/500\n",
      "1/1 - 0s - loss: 0.2433 - accuracy: 0.8571 - 1ms/epoch - 1ms/step\n",
      "Epoch 477/500\n",
      "1/1 - 0s - loss: 0.2431 - accuracy: 0.8571 - 2ms/epoch - 2ms/step\n",
      "Epoch 478/500\n",
      "1/1 - 0s - loss: 0.2430 - accuracy: 0.8571 - 2ms/epoch - 2ms/step\n",
      "Epoch 479/500\n",
      "1/1 - 0s - loss: 0.2429 - accuracy: 0.8571 - 1ms/epoch - 1ms/step\n",
      "Epoch 480/500\n",
      "1/1 - 0s - loss: 0.2428 - accuracy: 0.8571 - 3ms/epoch - 3ms/step\n",
      "Epoch 481/500\n",
      "1/1 - 0s - loss: 0.2427 - accuracy: 0.8571 - 4ms/epoch - 4ms/step\n",
      "Epoch 482/500\n",
      "1/1 - 0s - loss: 0.2425 - accuracy: 0.8571 - 3ms/epoch - 3ms/step\n",
      "Epoch 483/500\n",
      "1/1 - 0s - loss: 0.2424 - accuracy: 0.8571 - 2ms/epoch - 2ms/step\n",
      "Epoch 484/500\n",
      "1/1 - 0s - loss: 0.2423 - accuracy: 0.8571 - 4ms/epoch - 4ms/step\n",
      "Epoch 485/500\n",
      "1/1 - 0s - loss: 0.2422 - accuracy: 0.8571 - 4ms/epoch - 4ms/step\n",
      "Epoch 486/500\n",
      "1/1 - 0s - loss: 0.2421 - accuracy: 0.8571 - 2ms/epoch - 2ms/step\n",
      "Epoch 487/500\n",
      "1/1 - 0s - loss: 0.2420 - accuracy: 0.8571 - 3ms/epoch - 3ms/step\n",
      "Epoch 488/500\n",
      "1/1 - 0s - loss: 0.2418 - accuracy: 0.8571 - 2ms/epoch - 2ms/step\n",
      "Epoch 489/500\n",
      "1/1 - 0s - loss: 0.2417 - accuracy: 0.8571 - 2ms/epoch - 2ms/step\n",
      "Epoch 490/500\n",
      "1/1 - 0s - loss: 0.2416 - accuracy: 0.8571 - 2ms/epoch - 2ms/step\n",
      "Epoch 491/500\n",
      "1/1 - 0s - loss: 0.2415 - accuracy: 0.8571 - 2ms/epoch - 2ms/step\n",
      "Epoch 492/500\n",
      "1/1 - 0s - loss: 0.2414 - accuracy: 0.8571 - 2ms/epoch - 2ms/step\n",
      "Epoch 493/500\n",
      "1/1 - 0s - loss: 0.2413 - accuracy: 0.8571 - 2ms/epoch - 2ms/step\n",
      "Epoch 494/500\n",
      "1/1 - 0s - loss: 0.2412 - accuracy: 0.8571 - 1ms/epoch - 1ms/step\n",
      "Epoch 495/500\n",
      "1/1 - 0s - loss: 0.2411 - accuracy: 0.8571 - 1ms/epoch - 1ms/step\n",
      "Epoch 496/500\n",
      "1/1 - 0s - loss: 0.2410 - accuracy: 0.8571 - 1ms/epoch - 1ms/step\n",
      "Epoch 497/500\n",
      "1/1 - 0s - loss: 0.2409 - accuracy: 0.8571 - 1ms/epoch - 1ms/step\n",
      "Epoch 498/500\n",
      "1/1 - 0s - loss: 0.2408 - accuracy: 0.8571 - 1ms/epoch - 1ms/step\n",
      "Epoch 499/500\n",
      "1/1 - 0s - loss: 0.2407 - accuracy: 0.8571 - 1ms/epoch - 1ms/step\n",
      "Epoch 500/500\n",
      "1/1 - 0s - loss: 0.2406 - accuracy: 0.8571 - 1ms/epoch - 1ms/step\n"
     ]
    },
    {
     "data": {
      "text/plain": [
       "<keras.src.callbacks.History at 0x16f059a90>"
      ]
     },
     "execution_count": 11,
     "metadata": {},
     "output_type": "execute_result"
    }
   ],
   "source": [
    "# compile network\n",
    "model.compile(loss='categorical_crossentropy',\n",
    "              optimizer='adam',\n",
    "              metrics=['accuracy'])\n",
    "# fit network\n",
    "model.fit(X, y, epochs=500, verbose=2)"
   ]
  },
  {
   "cell_type": "code",
   "execution_count": 17,
   "metadata": {
    "slideshow": {
     "slide_type": "subslide"
    }
   },
   "outputs": [
    {
     "data": {
      "image/png": "[encoded data removed]",
      "text/plain": [
       "<IPython.core.display.Image object>"
      ]
     },
     "execution_count": 17,
     "metadata": {},
     "output_type": "execute_result"
    }
   ],
   "source": [
    "plot_model(model,  show_shapes= True)"
   ]
  },
  {
   "cell_type": "markdown",
   "metadata": {
    "slideshow": {
     "slide_type": "slide"
    }
   },
   "source": [
    "### Text Generation Using the Model"
   ]
  },
  {
   "cell_type": "markdown",
   "metadata": {
    "slideshow": {
     "slide_type": "subslide"
    }
   },
   "source": [
    "- After we trained the bigram-based LM, we can use the model for text generation (e.g., a one-to-many sequence-to-sequence application).\n",
    "- We can implement a simple text generator: the model always outputs the next-word that has the highest predicted probability value from the neural LM.\n",
    "- At every time step, the model will use the newly predicted word as the input for another next-word prediction."
   ]
  },
  {
   "cell_type": "code",
   "execution_count": 13,
   "metadata": {
    "slideshow": {
     "slide_type": "subslide"
    }
   },
   "outputs": [],
   "source": [
    "# generate a sequence from the model\n",
    "def generate_seq(model, tokenizer, seed_text, n_words):\n",
    "    in_text, result = seed_text, seed_text\n",
    "    # generate a fixed number of words\n",
    "    for _ in range(n_words):\n",
    "        # encode the text as integer\n",
    "        encoded = tokenizer.texts_to_sequences([in_text])[0]\n",
    "        encoded = np.array(encoded)\n",
    "        \n",
    "        # predict a word in the vocabulary\n",
    "        yhat=np.argmax(model.predict(encoded), axis=-1)\n",
    "        \n",
    "        # map predicted word index to word\n",
    "        out_word = ''\n",
    "        for word, index in tokenizer.word_index.items():\n",
    "            if index == yhat:\n",
    "                out_word = word\n",
    "                break\n",
    "        # append to input\n",
    "        in_text, result = out_word, result + ' ' + out_word\n",
    "    return result"
   ]
  },
  {
   "cell_type": "markdown",
   "metadata": {
    "slideshow": {
     "slide_type": "subslide"
    }
   },
   "source": [
    "- In the above `generate_seq()`, we use a **greedy search**, which selects the most likely word at each time step in the output sequence. \n",
    "- While this approach features its efficiency, the quality of the final output sequences may not necessarily be optimal.\n"
   ]
  },
  {
   "cell_type": "code",
   "execution_count": 14,
   "metadata": {
    "slideshow": {
     "slide_type": "subslide"
    }
   },
   "outputs": [
    {
     "name": "stdout",
     "output_type": "stream",
     "text": [
      "1/1 [==============================] - 0s 144ms/step\n",
      "1/1 [==============================] - 0s 8ms/step\n",
      "1/1 [==============================] - 0s 8ms/step\n",
      "1/1 [==============================] - 0s 7ms/step\n",
      "1/1 [==============================] - 0s 8ms/step\n",
      "1/1 [==============================] - 0s 8ms/step\n",
      "1/1 [==============================] - 0s 7ms/step\n",
      "1/1 [==============================] - 0s 7ms/step\n",
      "1/1 [==============================] - 0s 8ms/step\n",
      "1/1 [==============================] - 0s 8ms/step\n",
      "Jill went up the hill and jill went up the hill\n"
     ]
    }
   ],
   "source": [
    "# evaluate\n",
    "print(generate_seq(model, tokenizer, 'Jill', 10))"
   ]
  },
  {
   "cell_type": "markdown",
   "metadata": {
    "slideshow": {
     "slide_type": "slide"
    }
   },
   "source": [
    "### Sampling Strategies for Text Generation"
   ]
  },
  {
   "cell_type": "markdown",
   "metadata": {
    "slideshow": {
     "slide_type": "subslide"
    }
   },
   "source": [
    "- Given a trained language model and a **seed** text chunk, we can generate new text by greedy-search like we've seen above.\n",
    "- But we may sometimes have to add a certain degree of **variation** to the robotic texts for linguistic **creativity**."
   ]
  },
  {
   "cell_type": "markdown",
   "metadata": {
    "slideshow": {
     "slide_type": "subslide"
    }
   },
   "source": [
    "- Possible alternatives:\n",
    "    - We can re-normalize the predicted probability distributions of all next-words to reduce probability differences between the highest and the lowest. (Please see Ch.8.1 Text Generation with LSTM in Chollet's Deep Learning with Python. You will need this strategy for the assignment.)\n",
    "    - We can use non-greedy search by keeping the top *k* probable candidates in the list for next-word prediction. (cf. **Beam Search** below) and determine the tokens by choosing the sequence of the maximum probability."
   ]
  },
  {
   "cell_type": "markdown",
   "metadata": {
    "slideshow": {
     "slide_type": "slide"
    }
   },
   "source": [
    "## Beam Search (skipped)"
   ]
  },
  {
   "cell_type": "markdown",
   "metadata": {
    "slideshow": {
     "slide_type": "skip"
    }
   },
   "source": [
    "### Searching in NLP"
   ]
  },
  {
   "cell_type": "markdown",
   "metadata": {
    "slideshow": {
     "slide_type": "skip"
    }
   },
   "source": [
    "- In the previous demonstration, when we generate the predicted next word, we adopt a naive approach, i.e., always choosing the word of the highest probability.\n",
    "- It is common in NLP for models to output a probability distribution over words in the vocabulary.\n",
    "- This step involves searching through all the possible output sequences based on their likelihood.\n",
    "- Choosing the next word of highest probability does not guarantee us the most optimal sequence.\n",
    "- The search problem is exponential in the length of the output sequence given the large size of vocabulary.\n"
   ]
  },
  {
   "cell_type": "markdown",
   "metadata": {
    "slideshow": {
     "slide_type": "skip"
    }
   },
   "source": [
    "### Beam Search Decoding"
   ]
  },
  {
   "cell_type": "markdown",
   "metadata": {
    "slideshow": {
     "slide_type": "skip"
    }
   },
   "source": [
    "The beam search expands all possible next steps and keeps the **$k$** most likely, where **$k$** is a researcher-specified parameter and controls the number of beams or parallel searches through the sequence of probabilities."
   ]
  },
  {
   "cell_type": "markdown",
   "metadata": {
    "slideshow": {
     "slide_type": "skip"
    }
   },
   "source": [
    "The search process can stop for each candidate independently either by:\n",
    "\n",
    "- reaching a maximum length\n",
    "- reaching an end-of-sequence token\n",
    "- reaching a threshold likelihood"
   ]
  },
  {
   "cell_type": "markdown",
   "metadata": {
    "slideshow": {
     "slide_type": "skip"
    }
   },
   "source": [
    "```{note]\n",
    "Please see Jason Brownlee's blog post [How to Implement a Beam Search Decoder for Natural Language Processing](https://machinelearningmastery.com/beam-search-decoder-natural-language-processing/) for the python implementation.\n",
    "\n",
    "The following codes are based on Jason's code.\n",
    "```"
   ]
  },
  {
   "cell_type": "markdown",
   "metadata": {
    "slideshow": {
     "slide_type": "skip"
    }
   },
   "source": [
    ":::{warning}\n",
    "The following codes may not work properly. In Beam Search, when the model predicts `None` as the next character, we should set it as a stopping condition. The following codes have not be optimized with respect to this.\n",
    ":::"
   ]
  },
  {
   "cell_type": "code",
   "execution_count": 15,
   "metadata": {
    "slideshow": {
     "slide_type": "skip"
    }
   },
   "outputs": [],
   "source": [
    "# generate a sequence from the model\n",
    "def generate_seq_beam(model, tokenizer, seed_text, n_words, k):\n",
    "    in_text = seed_text \n",
    "    sequences = [[[in_text], 0.0]]\n",
    "    # prepare id_2_word map\n",
    "    id_2_word = dict([(i,w) for (w, i) in tokenizer.word_index.items()])\n",
    "    \n",
    "    # start next-word generating\n",
    "    for _ in range(n_words):\n",
    "        all_candidates = list()        \n",
    "        #print(\"Next word \", _+1)\n",
    "        # temp list to hold all possible candidates\n",
    "        # `sequence + next words`\n",
    "\n",
    "\n",
    "        # for each existing sequence\n",
    "        # take the last word of the sequence\n",
    "        # find probs of all words in the next position\n",
    "        # save the top k\n",
    "        # all_candidates should have 3 * 22 = 66 candidates\n",
    "        \n",
    "        for i in range(len(sequences)):\n",
    "            # for the current sequence\n",
    "            seq, score = sequences[i]            \n",
    "            # next word probablity distribution\n",
    "            encoded = tokenizer.texts_to_sequences([seq[-1]])[0]\n",
    "            encoded = np.array(encoded)\n",
    "            model_pred_prob = model.predict(encoded).flatten()\n",
    "\n",
    "            # compute all probabilities for `curent_sequence + all_possible_next_word`\n",
    "            for j in range(len(model_pred_prob)):\n",
    "                candidate = [seq + [id_2_word.get(j+1)], score-np.log(model_pred_prob[j])]\n",
    "                all_candidates.append(candidate)\n",
    "\n",
    "            all_candidates= [[seq, score] for seq, score in all_candidates if seq[-1] is not None]\n",
    "\n",
    "            # order all candidates (seqence + nextword) by score\n",
    "            #print(\"all_condidates length:\", len(all_candidates))\n",
    "            ordered = sorted(all_candidates, key = lambda x:x[1]) # default ascending\n",
    "            # select k best\n",
    "            sequences = ordered[:k] ## choose top k\n",
    "\n",
    "    return sequences"
   ]
  },
  {
   "cell_type": "code",
   "execution_count": 16,
   "metadata": {
    "slideshow": {
     "slide_type": "skip"
    }
   },
   "outputs": [
    {
     "name": "stdout",
     "output_type": "stream",
     "text": [
      "1/1 [==============================] - 0s 8ms/step\n",
      "1/1 [==============================] - 0s 8ms/step\n",
      "1/1 [==============================] - 0s 7ms/step\n",
      "1/1 [==============================] - 0s 8ms/step\n",
      "1/1 [==============================] - 0s 8ms/step\n",
      "1/1 [==============================] - 0s 8ms/step\n",
      "1/1 [==============================] - 0s 7ms/step\n",
      "1/1 [==============================] - 0s 7ms/step\n",
      "1/1 [==============================] - 0s 8ms/step\n",
      "1/1 [==============================] - 0s 8ms/step\n",
      "1/1 [==============================] - 0s 7ms/step\n",
      "1/1 [==============================] - 0s 7ms/step\n",
      "1/1 [==============================] - 0s 7ms/step\n",
      "1/1 [==============================] - 0s 7ms/step\n",
      "1/1 [==============================] - 0s 8ms/step\n",
      "1/1 [==============================] - 0s 8ms/step\n",
      "1/1 [==============================] - 0s 7ms/step\n",
      "1/1 [==============================] - 0s 7ms/step\n",
      "1/1 [==============================] - 0s 7ms/step\n",
      "1/1 [==============================] - 0s 7ms/step\n",
      "1/1 [==============================] - 0s 8ms/step\n",
      "1/1 [==============================] - 0s 7ms/step\n",
      "1/1 [==============================] - 0s 7ms/step\n",
      "1/1 [==============================] - 0s 7ms/step\n",
      "1/1 [==============================] - 0s 10ms/step\n",
      "1/1 [==============================] - 0s 9ms/step\n",
      "1/1 [==============================] - 0s 8ms/step\n",
      "1/1 [==============================] - 0s 8ms/step\n",
      "1/1 [==============================] - 0s 7ms/step\n",
      "1/1 [==============================] - 0s 7ms/step\n",
      "1/1 [==============================] - 0s 7ms/step\n",
      "1/1 [==============================] - 0s 7ms/step\n",
      "1/1 [==============================] - 0s 7ms/step\n",
      "1/1 [==============================] - 0s 8ms/step\n",
      "1/1 [==============================] - 0s 8ms/step\n",
      "1/1 [==============================] - 0s 8ms/step\n",
      "1/1 [==============================] - 0s 7ms/step\n",
      "1/1 [==============================] - 0s 8ms/step\n",
      "1/1 [==============================] - 0s 8ms/step\n",
      "1/1 [==============================] - 0s 8ms/step\n",
      "1/1 [==============================] - 0s 7ms/step\n"
     ]
    },
    {
     "data": {
      "text/plain": [
       "[[['Jill', 'up', 'hill', 'jack', 'jack', 'jack'], 4.68290707655251],\n",
       " [['Jill', 'up', 'hill', 'jack', 'jack', 'down'], 4.72132352180779],\n",
       " [['Jill', 'up', 'hill', 'jack', 'jack', 'down', 'jack'], 4.762729896232486],\n",
       " [['Jill', 'up', 'hill', 'jack', 'jack', 'down', 'jack', 'jack'],\n",
       "  5.449550641700625],\n",
       " [['Jill', 'up', 'hill', 'jack', 'jack', 'down', 'jack', 'down'],\n",
       "  5.487967086955905],\n",
       " [['Jill', 'up', 'hill', 'jack', 'jack', 'down', 'jack', 'down', 'jack'],\n",
       "  5.529373461380601],\n",
       " [['Jill', 'up', 'hill', 'jack', 'jack', 'down', 'jack', 'jack', 'jack'],\n",
       "  6.136371387168765],\n",
       " [['Jill', 'up', 'hill', 'jack', 'jack', 'down', 'jack', 'jack', 'down'],\n",
       "  6.174787832424045],\n",
       " [['Jill',\n",
       "   'up',\n",
       "   'hill',\n",
       "   'jack',\n",
       "   'jack',\n",
       "   'down',\n",
       "   'jack',\n",
       "   'down',\n",
       "   'jack',\n",
       "   'jack'],\n",
       "  6.216194206848741],\n",
       " [['Jill',\n",
       "   'up',\n",
       "   'hill',\n",
       "   'jack',\n",
       "   'jack',\n",
       "   'down',\n",
       "   'jack',\n",
       "   'jack',\n",
       "   'down',\n",
       "   'jack'],\n",
       "  6.216194206848741]]"
      ]
     },
     "execution_count": 16,
     "metadata": {},
     "output_type": "execute_result"
    }
   ],
   "source": [
    "generate_seq_beam(model, tokenizer, 'Jill', 5, k =10)"
   ]
  },
  {
   "cell_type": "markdown",
   "metadata": {
    "slideshow": {
     "slide_type": "slide"
    }
   },
   "source": [
    "## References\n",
    "\n",
    "- Check [Ch 7 Neural Networks and Neural Language Models](https://web.stanford.edu/~jurafsky/slp3/) in Speech and Language Processing (3rd ed. draft).\n",
    "- Chollet (2017): Ch 8.1\n",
    "- Check Jason Brownlee's blog post [How to Develop Word-Based Neural Language Models in Python with Keras](https://machinelearningmastery.com/develop-word-based-neural-language-models-python-keras/)"
   ]
  }
 ],
 "metadata": {
  "celltoolbar": "Slideshow",
  "kernelspec": {
   "display_name": "python-notes",
   "language": "python",
   "name": "python3"
  },
  "language_info": {
   "codemirror_mode": {
    "name": "ipython",
    "version": 3
   },
   "file_extension": ".py",
   "mimetype": "text/x-python",
   "name": "python",
   "nbconvert_exporter": "python",
   "pygments_lexer": "ipython3",
   "version": "3.9.18"
  },
  "toc": {
   "base_numbering": "2",
   "nav_menu": {},
   "number_sections": true,
   "sideBar": false,
   "skip_h1_title": false,
   "title_cell": "Table of Contents",
   "title_sidebar": "Contents",
   "toc_cell": false,
   "toc_position": {
    "height": "47.7143px",
    "left": "752.848px",
    "top": "191px",
    "width": "159.366px"
   },
   "toc_section_display": false,
   "toc_window_display": false
  },
  "varInspector": {
   "cols": {
    "lenName": 16,
    "lenType": 16,
    "lenVar": 40
   },
   "kernels_config": {
    "python": {
     "delete_cmd_postfix": "",
     "delete_cmd_prefix": "del ",
     "library": "var_list.py",
     "varRefreshCmd": "print(var_dic_list())"
    },
    "r": {
     "delete_cmd_postfix": ") ",
     "delete_cmd_prefix": "rm(",
     "library": "var_list.r",
     "varRefreshCmd": "cat(var_dic_list()) "
    }
   },
   "types_to_exclude": [
    "module",
    "function",
    "builtin_function_or_method",
    "instance",
    "_Feature"
   ],
   "window_display": false
  }
 },
 "nbformat": 4,
 "nbformat_minor": 4
}
