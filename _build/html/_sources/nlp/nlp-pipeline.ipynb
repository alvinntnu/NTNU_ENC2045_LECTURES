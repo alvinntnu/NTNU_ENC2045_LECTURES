{
 "cells": [
  {
   "cell_type": "markdown",
   "metadata": {
    "slideshow": {
     "slide_type": "slide"
    }
   },
   "source": [
    " \n",
    " # NLP Pipeline"
   ]
  },
  {
   "cell_type": "markdown",
   "metadata": {
    "slideshow": {
     "slide_type": "slide"
    }
   },
   "source": [
    "## A General NLP Pipeline"
   ]
  },
  {
   "cell_type": "markdown",
   "metadata": {
    "slideshow": {
     "slide_type": "subslide"
    }
   },
   "source": [
    "![nlp-pipeline](../images/nlp-pipeline.png)"
   ]
  },
  {
   "cell_type": "markdown",
   "metadata": {
    "slideshow": {
     "slide_type": "subslide"
    }
   },
   "source": [
    "### Varations of the NLP Pipelines\n",
    "\n",
    "- The process may not always be linear.\n",
    "- There are loops in between.\n",
    "- These procedures may depend on specific task at hand."
   ]
  },
  {
   "cell_type": "markdown",
   "metadata": {
    "slideshow": {
     "slide_type": "slide"
    }
   },
   "source": [
    "## Data Collection"
   ]
  },
  {
   "cell_type": "markdown",
   "metadata": {
    "slideshow": {
     "slide_type": "subslide"
    }
   },
   "source": [
    "### Data Acquisition: Heart of ML System\n",
    "\n",
    "- Ideal Setting: We have everything needed.\n",
    "- Labels and Annotations\n",
    "- Very often we are dealing with less-than-ideal scenarios"
   ]
  },
  {
   "cell_type": "markdown",
   "metadata": {
    "slideshow": {
     "slide_type": "subslide"
    }
   },
   "source": [
    "### Less-than-ideal Scenarios\n",
    "\n",
    "- Initial datasets with limited annotations/labels\n",
    "- Initial datasets labeled based on regular expressions or heuristics\n",
    "- Public datasets (cf. [Google Dataset Search](https://datasetsearch.research.google.com/) or [kaggle](https://www.kaggle.com/))\n",
    "- Scrape data\n",
    "- Product intervention\n",
    "- Data augmentation"
   ]
  },
  {
   "cell_type": "markdown",
   "metadata": {
    "slideshow": {
     "slide_type": "subslide"
    }
   },
   "source": [
    "### Data Augmentation\n",
    "\n",
    "- It is a technique to exploit language properties to create texts that are syntactically similar to the source text data.\n",
    "- Types of strategies:\n",
    "    - synonym replacement\n",
    "    - Related word replacement (based on association metrics)\n",
    "    - Back translation\n",
    "    - Replacing entities\n",
    "    - Adding noise to data (e.g. spelling errors, random words)"
   ]
  },
  {
   "cell_type": "markdown",
   "metadata": {
    "slideshow": {
     "slide_type": "slide"
    }
   },
   "source": [
    "## Text Extraction and Cleanup"
   ]
  },
  {
   "cell_type": "markdown",
   "metadata": {
    "slideshow": {
     "slide_type": "subslide"
    }
   },
   "source": [
    "### Text Extraction\n",
    "\n",
    "- Extracting raw texts from the input data\n",
    "    - HTML\n",
    "    - PDF\n",
    "- Relevant vs. irrelevant information\n",
    "    - non-textual information\n",
    "    - markup\n",
    "    - metadata\n",
    "- Encoding format"
   ]
  },
  {
   "cell_type": "markdown",
   "metadata": {
    "slideshow": {
     "slide_type": "subslide"
    }
   },
   "source": [
    "#### Extracting texts from webpages"
   ]
  },
  {
   "cell_type": "code",
   "execution_count": 1,
   "metadata": {
    "slideshow": {
     "slide_type": "subslide"
    }
   },
   "outputs": [
    {
     "name": "stdout",
     "output_type": "stream",
     "text": [
      "['', '\\n', '\\n鳳梨議題延燒，媒體人黃創夏一句：「每位國人只要1天吃18公斤的鳳梨，連吃兩周就好，有很難嗎？」1天吃18公斤鳳梨難不難？引發網路論戰。', '\\n', '\\r\\n黃創夏今早在臉書貼文「真的，我是說錯了」指出，因為心有旁騖，錄影當中，有感而發，忘了自己都已經50多歲了，竟然還敢和學生時代時期般的邊心算還邊發言，一心多用之下造成口誤不察，被特定力量抓到話柄，讓他們嗨了好幾天，就當作是失言總要付出的代價，隨他們高興去吧‧‧‧', '\\n', '\\r\\n黃創夏說，2月27日中午錄影當時，「我還真的是說錯了，有錯當然要認！」因為當天他還只看到台灣一年的鳳梨總產量是「42萬公噸」，聽到某些特定力量把共產黨的「鳳梨突襲」當成「世界末日」般在鬼哭神號，覺得實在不必如此大驚小怪，因此才想到把一年42萬公噸換算成2300萬人的年均值是多少，覺得「一個人一年18公斤」的數字根本不是難題，「我真是錯了」。', '\\n', '\\r\\n他指出，因為下了節目他才知道，在那「一年42萬公噸總產量」的鳳梨當中，僅有約10%是要賣到大陸去，換言之，其實衝擊量的取用上，他真的錯了，應該是用「4萬公噸」去計算，除以2300萬人的話，衝擊量只有「一人才1.8公斤」，真的是只要在未來幾個月的鳳梨產季之內，每個人只要多吃一顆鳳梨，共產黨的「鳳梨之亂」毫無殺傷力。', '\\n', '\\r\\n黃創夏表示，事實也證明，真的才在短短幾天內，台灣的認購鳳梨潮之下，增購量已經超過「4萬公噸」了。', '\\n                    中國大陸對台下鳳梨禁令，事件超過5天，即使我方回函說明，要求能夠面對面視訊、溝通，卻仍遭「已讀不回」；雖然農委會說兩岸防...                  ', '\\n                    鳳梨議題延燒，媒體人黃創夏一句：「每位國人只要1天吃18公斤的鳳梨，連吃兩周就好，有很難嗎？」1天吃18公斤鳳梨難不難？...                  ', '\\n                    鳳梨銷陸禁令3月1日生效，財信傳媒董事長謝金河在臉書表示，台灣亟待重建食品加工產業鏈。                  ', '\\n                    中國大陸三月起暫停台灣鳳梨輸入。國民黨立委費鴻泰昨在立院質詢，民進黨政府是否將到世貿組織（WTO）提告？行政院長蘇貞昌表...                  ', '\\n                    中國大陸本月起宣布停止進口台灣鳳梨，行政院長蘇貞昌昨天表示，這次國人齊心合力，企業、民間團體、公民營行庫、各種機關都大量...                  ', '\\n                    大陸即日起暫停台灣鳳梨進口，政府紛紛呼籲「全民吃鳳梨」力挺農民。資深媒體人黃創夏日前在節目上表示，「42萬噸的鳳梨，除下2300萬人的話，我們每個人只要吃18公斤，四、五天之內就把它（鳳梨）解決了」，引起網友熱烈討論。                  ']\n"
     ]
    }
   ],
   "source": [
    "import requests \n",
    "from bs4 import BeautifulSoup\n",
    "import pandas as pd\n",
    " \n",
    " \n",
    "url = 'https://news.google.com/topics/CAAqJQgKIh9DQkFTRVFvSUwyMHZNRFptTXpJU0JYcG9MVlJYS0FBUAE?hl=zh-TW&gl=TW&ceid=TW%3Azh-Hant'\n",
    "r = requests.get(url)\n",
    "web_content = r.text\n",
    "soup = BeautifulSoup(web_content,'html.parser')\n",
    "title = soup.find_all('a', class_='DY5T1d')\n",
    "first_art_link = title[0]['href'].replace('.','https://news.google.com',1)\n",
    "\n",
    "#print(first_art_link)\n",
    "art_request = requests.get(first_art_link)\n",
    "art_request.encoding='utf8'\n",
    "soup_art = BeautifulSoup(art_request.text,'html.parser')\n",
    "\n",
    "art_content = soup_art.find_all('p')\n",
    "art_texts = [p.text for p in art_content]\n",
    "print(art_texts)\n"
   ]
  },
  {
   "cell_type": "markdown",
   "metadata": {
    "slideshow": {
     "slide_type": "subslide"
    }
   },
   "source": [
    "#### Extracting texts from scanned PDF"
   ]
  },
  {
   "cell_type": "code",
   "execution_count": 2,
   "metadata": {
    "scrolled": true,
    "slideshow": {
     "slide_type": "subslide"
    }
   },
   "outputs": [
    {
     "name": "stdout",
     "output_type": "stream",
     "text": [
      "Stellenbosch Papers in Linguistics, Vol. 15, 1986, 31-60 doi: 10.5774/15-0-96\n",
      "\n",
      "SPIL 14 (1986) 31- 6¢ 31\n",
      "\n",
      "THE LINGUISTIC THOUGHT OF J.R. FIRTH\n",
      "\n",
      "Nigel Love\n",
      "\n",
      "\"The study of the living votce of a\n",
      "man tn aectton ts a very btg job in-\n",
      "\n",
      "ii\n",
      "deed.\" --- J.R. Firth\n",
      "\n",
      "John Rupert Firth was born in 1890. After serving as Pro-\n",
      "fessor of English at the University of the Punjab from 1919\n",
      "to 1928, he took up a pest in the phonetics department of\n",
      "University College, London. In 1938 he moved to the lin-\n",
      "guistics department of the School of Oriental and African\n",
      "Studies in London, where from 1944 until his retirement in\n",
      "1956 he was Professor of Generali Linguistics. He died in\n",
      "1960. He was an influential teacher, some of whose doctrines\n",
      "(especially those concerning phonology) were widely propa-~\n",
      "gated and developed by his students in what came to be known\n",
      "\n",
      "as the \"London school” of linguistics.\n",
      "\n",
      "\"The business of linguistics\", according to Firth, \"is to\n",
      "\n",
      "1}\n",
      "\n",
      "describe languages\". In saying as much he would have the\n",
      "assent of most twentieth-century linguistic theorists.\n",
      "\n",
      "Where he parts company with many is in holding that this\n",
      "enterprise is not incompatible with, or even separable from,\n",
      "studying “the living voice of a man in action\"; and his\n",
      "chief interest as a linguistic thinker lies in his attempt\n",
      "to resist the idea that synchronic descriptive linguistics\n",
      "should treat what he calis “speech-events\" as no more than\n",
      "a means of access to what really interests the linguist:\n",
      "\n",
      "the Language-system underlying them.\n",
      "\n",
      "Languages, according to many theorists, are to be envisaged\n",
      "as systems of abstract entities. These entities are units\n",
      "\n",
      "of linguistic “form. Units of linguistic form are of two\n",
      "\f",
      "\n"
     ]
    }
   ],
   "source": [
    "from PIL import Image\n",
    "from pytesseract import image_to_string\n",
    "\n",
    "\n",
    "YOUR_DEMO_DATA_PATH = \"../../../RepositoryData/data/\"  # please change your file path\n",
    "filename = YOUR_DEMO_DATA_PATH+'pdf-firth-text.png'\n",
    "text = image_to_string(Image.open(filename))\n",
    "print(text)"
   ]
  },
  {
   "cell_type": "markdown",
   "metadata": {
    "slideshow": {
     "slide_type": "subslide"
    }
   },
   "source": [
    "#### Unicode normalization"
   ]
  },
  {
   "cell_type": "code",
   "execution_count": 5,
   "metadata": {
    "slideshow": {
     "slide_type": "subslide"
    }
   },
   "outputs": [
    {
     "name": "stdout",
     "output_type": "stream",
     "text": [
      "I feel really 😡. GOGOGO!! 💪💪💪  🤣🤣 ȀÆĎǦƓ\n",
      "b'I feel really \\xf0\\x9f\\x98\\xa1. GOGOGO!! \\xf0\\x9f\\x92\\xaa\\xf0\\x9f\\x92\\xaa\\xf0\\x9f\\x92\\xaa  \\xf0\\x9f\\xa4\\xa3\\xf0\\x9f\\xa4\\xa3 \\xc8\\x80\\xc3\\x86\\xc4\\x8e\\xc7\\xa6\\xc6\\x93'\n"
     ]
    }
   ],
   "source": [
    "text = 'I feel really 😡. GOGOGO!! 💪💪💪  🤣🤣 ȀÆĎǦƓ'\n",
    "print(text)\n",
    "text2 = text.encode('utf-8') # encode the strings in bytes\n",
    "print(text2)\n"
   ]
  },
  {
   "cell_type": "code",
   "execution_count": 15,
   "metadata": {
    "slideshow": {
     "slide_type": "subslide"
    }
   },
   "outputs": [
    {
     "data": {
      "text/plain": [
       "'I feel really . GOGOGO!!    ADG'"
      ]
     },
     "execution_count": 15,
     "metadata": {},
     "output_type": "execute_result"
    }
   ],
   "source": [
    "import unicodedata\n",
    "unicodedata.normalize('NFKD', text).encode('ascii', 'ignore').decode('utf-8', 'ignore')"
   ]
  },
  {
   "cell_type": "markdown",
   "metadata": {
    "slideshow": {
     "slide_type": "subslide"
    }
   },
   "source": [
    "- Please check [unicodedata documentation](https://docs.python.org/3/library/unicodedata.html) for more detail on character normalization.\n",
    "- Other useful libraries\n",
    "    - Spelling check: pyenchant, Microsoft REST API\n",
    "    - PDF:  PyPDF, PDFMiner\n",
    "    - OCR: pytesseract\n",
    " "
   ]
  },
  {
   "cell_type": "markdown",
   "metadata": {
    "slideshow": {
     "slide_type": "subslide"
    }
   },
   "source": [
    "### Cleanup\n",
    "\n",
    "- Preliminaries\n",
    "    - Sentence segmentation\n",
    "    - Word tokenization\n",
    "    "
   ]
  },
  {
   "cell_type": "markdown",
   "metadata": {
    "slideshow": {
     "slide_type": "subslide"
    }
   },
   "source": [
    "#### Segmentation and Tokenization"
   ]
  },
  {
   "cell_type": "code",
   "execution_count": 4,
   "metadata": {
    "slideshow": {
     "slide_type": "subslide"
    }
   },
   "outputs": [
    {
     "name": "stdout",
     "output_type": "stream",
     "text": [
      "\n",
      "Python is an interpreted, high-level and general-purpose programming language.\n",
      "['Python', 'is', 'an', 'interpreted', ',', 'high-level', 'and', 'general-purpose', 'programming', 'language', '.']\n",
      "Python's design philosophy emphasizes code readability with its notable use of significant whitespace.\n",
      "['Python', \"'s\", 'design', 'philosophy', 'emphasizes', 'code', 'readability', 'with', 'its', 'notable', 'use', 'of', 'significant', 'whitespace', '.']\n",
      "Its language constructs and object-oriented approach aim to help programmers write clear, logical code for small and large-scale projects.\n",
      "['Its', 'language', 'constructs', 'and', 'object-oriented', 'approach', 'aim', 'to', 'help', 'programmers', 'write', 'clear', ',', 'logical', 'code', 'for', 'small', 'and', 'large-scale', 'projects', '.']\n"
     ]
    }
   ],
   "source": [
    "from nltk.tokenize import sent_tokenize, word_tokenize\n",
    "\n",
    "text = '''\n",
    "Python is an interpreted, high-level and general-purpose programming language. Python's design philosophy emphasizes code readability with its notable use of significant whitespace. Its language constructs and object-oriented approach aim to help programmers write clear, logical code for small and large-scale projects.\n",
    "'''\n",
    "\n",
    "## sent segmentation\n",
    "sents = sent_tokenize(text)\n",
    "\n",
    "## word tokenization\n",
    "for sent in sents:\n",
    "    print(sent)\n",
    "    print(word_tokenize(sent))"
   ]
  },
  {
   "cell_type": "markdown",
   "metadata": {
    "slideshow": {
     "slide_type": "subslide"
    }
   },
   "source": [
    "- Frequent preprocessing\n",
    "    - Stopword removal\n",
    "    - Stemming and/or lemmatization\n",
    "    - Digits/Punctuaions removal\n",
    "    - Case normalization\n",
    "    "
   ]
  },
  {
   "cell_type": "markdown",
   "metadata": {
    "slideshow": {
     "slide_type": "subslide"
    }
   },
   "source": [
    "#### Removing stopwords, punctuations, digits"
   ]
  },
  {
   "cell_type": "code",
   "execution_count": 5,
   "metadata": {
    "scrolled": true,
    "slideshow": {
     "slide_type": "subslide"
    }
   },
   "outputs": [
    {
     "name": "stdout",
     "output_type": "stream",
     "text": [
      "['Mr.', 'John', \"O'Neil\", 'works', 'at', 'Wonderland', ',', 'located', 'at', '245', 'Goleta', 'Avenue', ',', 'CA.', ',', '74208', '.']\n",
      "Mr.\n",
      "John\n",
      "O'Neil\n",
      "works\n",
      "Wonderland\n",
      "located\n",
      "Goleta\n",
      "Avenue\n",
      "CA.\n"
     ]
    }
   ],
   "source": [
    "from nltk.corpus import stopwords\n",
    "from string import punctuation\n",
    "\n",
    "eng_stopwords = stopwords.words('english')\n",
    "\n",
    "text = \"Mr. John O'Neil works at Wonderland, located at 245 Goleta Avenue, CA., 74208.\"\n",
    "\n",
    "words = word_tokenize(text)\n",
    "\n",
    "print(words)\n",
    "\n",
    "# remove stopwords, punctuations, digits\n",
    "for w in words:\n",
    "    if w not in eng_stopwords and w not in punctuation and not w.isdigit():\n",
    "        print(w)"
   ]
  },
  {
   "cell_type": "markdown",
   "metadata": {
    "slideshow": {
     "slide_type": "subslide"
    }
   },
   "source": [
    "#### Stemming and lemmatization"
   ]
  },
  {
   "cell_type": "code",
   "execution_count": 6,
   "metadata": {
    "slideshow": {
     "slide_type": "subslide"
    }
   },
   "outputs": [
    {
     "name": "stdout",
     "output_type": "stream",
     "text": [
      "['car', 'revolut', 'better']\n"
     ]
    }
   ],
   "source": [
    "## Stemming\n",
    "from nltk.stem.porter import PorterStemmer\n",
    "stemmer = PorterStemmer()\n",
    "\n",
    "words = ['cars','revolution', 'better']\n",
    "print([stemmer.stem(w) for w in words])\n"
   ]
  },
  {
   "cell_type": "code",
   "execution_count": 7,
   "metadata": {
    "slideshow": {
     "slide_type": "subslide"
    }
   },
   "outputs": [
    {
     "name": "stdout",
     "output_type": "stream",
     "text": [
      "car\n",
      "revolution\n",
      "good\n"
     ]
    }
   ],
   "source": [
    "## Lemmatization\n",
    "from nltk.stem import WordNetLemmatizer\n",
    "lemmatizer = WordNetLemmatizer()\n",
    "\n",
    "## Wordnet requires POS of words\n",
    "poss = ['n','n','a']\n",
    "\n",
    "for w,p in zip(words,poss):\n",
    "    print(lemmatizer.lemmatize(w, pos=p))"
   ]
  },
  {
   "cell_type": "markdown",
   "metadata": {
    "slideshow": {
     "slide_type": "subslide"
    }
   },
   "source": [
    "- Task-specific preprocessing\n",
    "    - Unicode normalization\n",
    "    - Language detection\n",
    "    - Code mixing\n",
    "    - Transliteration (e.g., using piyin for Chinese words in English-Chinese code-switching texts)\n",
    "    "
   ]
  },
  {
   "cell_type": "markdown",
   "metadata": {
    "slideshow": {
     "slide_type": "subslide"
    }
   },
   "source": [
    "- Automatic annotations\n",
    "    - POS tagging\n",
    "    - Parsing\n",
    "    - Named Entity Recognition\n",
    "    - Coreference resolution\n",
    "    "
   ]
  },
  {
   "cell_type": "markdown",
   "metadata": {
    "slideshow": {
     "slide_type": "subslide"
    }
   },
   "source": [
    "### Important Reminders for Preprocessing\n",
    "\n",
    "- Not all steps are necessary\n",
    "- These steps are NOT sequential\n",
    "- These steps are task-dependent\n",
    "- Goals\n",
    "    - Text Normalization\n",
    "    - Text Tokenization\n",
    "    - Text Enrichment/Annotation"
   ]
  },
  {
   "cell_type": "markdown",
   "metadata": {
    "slideshow": {
     "slide_type": "slide"
    }
   },
   "source": [
    "## Feature Engineering"
   ]
  },
  {
   "cell_type": "markdown",
   "metadata": {
    "slideshow": {
     "slide_type": "subslide"
    }
   },
   "source": [
    "### What is feature engineering?\n",
    "\n",
    "- It refers to a process to feed the extracted and preprocessed texts into a machine-learning algorithm.\n",
    "- It aims at capturing the characteristics of the text into a numeric vector that can be understood by the ML algorithms. (Cf. *construct*, *operational definitions*, and *measurement* in experimental science)\n",
    "- In short, it concerns how to meaningfully represent texts quantitatively, i.e., text representation."
   ]
  },
  {
   "cell_type": "markdown",
   "metadata": {
    "slideshow": {
     "slide_type": "subslide"
    }
   },
   "source": [
    "### Feature Engineering for Classical ML\n",
    "\n",
    "- Word-based frequency lists\n",
    "- Bag-of-words representations\n",
    "- Domain-specific word frequency lists\n",
    "- Handcrafted features based on domain-specific knowledge"
   ]
  },
  {
   "cell_type": "markdown",
   "metadata": {
    "slideshow": {
     "slide_type": "subslide"
    }
   },
   "source": [
    "### Feature Engineering for DL\n",
    "\n",
    "- DL directly takes the texts as inputs to the model.\n",
    "- The DL model is capable of learning features from the texts (e.g., embeddings)\n",
    "- The price is that the model is often less interpretable.\n",
    "    "
   ]
  },
  {
   "cell_type": "markdown",
   "metadata": {
    "slideshow": {
     "slide_type": "subslide"
    }
   },
   "source": [
    "### Strengths and Weakness "
   ]
  },
  {
   "cell_type": "markdown",
   "metadata": {
    "slideshow": {
     "slide_type": "subslide"
    }
   },
   "source": [
    "![](../images/feature-engineer-strengths.png)"
   ]
  },
  {
   "cell_type": "markdown",
   "metadata": {
    "slideshow": {
     "slide_type": "subslide"
    }
   },
   "source": [
    "![](../images/feature-engineer-weakness.png)"
   ]
  },
  {
   "cell_type": "markdown",
   "metadata": {
    "slideshow": {
     "slide_type": "slide"
    }
   },
   "source": [
    "## Modeling"
   ]
  },
  {
   "cell_type": "markdown",
   "metadata": {
    "slideshow": {
     "slide_type": "subslide"
    }
   },
   "source": [
    "### From Simple to Complex\n",
    "\n",
    "- Start with heuristics or rules\n",
    "- Experiment with different ML models\n",
    "    - From heuristics to features\n",
    "    - From manual annotation to automatic extraction\n",
    "    - Feature importance (weights)\n",
    "- Find the most optimal model\n",
    "    - Ensemble and stacking\n",
    "    - Redo feature engineering\n",
    "    - Transfer learning\n",
    "    - Reapply heuristics"
   ]
  },
  {
   "cell_type": "markdown",
   "metadata": {
    "slideshow": {
     "slide_type": "slide"
    }
   },
   "source": [
    "## Evaluation"
   ]
  },
  {
   "cell_type": "markdown",
   "metadata": {
    "slideshow": {
     "slide_type": "subslide"
    }
   },
   "source": [
    "### Why evaluation?\n",
    "\n",
    "- We need to know how *good* the model we've built is -- \"Goodness\"\n",
    "- Factors relating to the evaluation methods\n",
    "    - Model building\n",
    "    - Deployment\n",
    "    - Production\n",
    "- ML metrics vs. Business metrics\n"
   ]
  },
  {
   "cell_type": "markdown",
   "metadata": {
    "slideshow": {
     "slide_type": "subslide"
    }
   },
   "source": [
    "### Intrinsic vs. Extrinsic Evaluation\n",
    "\n",
    "- Take spam-classification system as an example\n",
    "- Intrinsic:\n",
    "    - the precision and recall of the spam classification/prediction\n",
    "- Extrinsic:\n",
    "    - the amount of time users spent on a spam email\n",
    "    "
   ]
  },
  {
   "cell_type": "markdown",
   "metadata": {
    "slideshow": {
     "slide_type": "subslide"
    }
   },
   "source": [
    "### General Principles\n",
    "\n",
    "- Do intrinsic evaluation before extrinsic.\n",
    "- Extrinsic evaluation is more expensive because it often invovles project stakeholders outside the AI team.\n",
    "- Only when we get consistently good results in intrinsic evaluation should we go for extrinsic evaluation.\n",
    "- Bad results in intrinsic often implies bad results in extrinsic as well."
   ]
  },
  {
   "cell_type": "markdown",
   "metadata": {
    "slideshow": {
     "slide_type": "subslide"
    }
   },
   "source": [
    "### Common Intrinsic Metrics\n",
    "\n",
    "- Principles for Evaluation Metrics Selection\n",
    "- Data type of the labels (ground truths)\n",
    "    - Binary (e.g., sentiment)\n",
    "    - Ordinal (e.g., informational retrieval)\n",
    "    - Categorical (e.g., POS tags)\n",
    "    - Textual (e.g., named entity, machine translation, text generation)\n",
    "- Automatic vs. Human Evalation"
   ]
  },
  {
   "cell_type": "markdown",
   "metadata": {
    "slideshow": {
     "slide_type": "slide"
    }
   },
   "source": [
    "## Post-Modeling Phases"
   ]
  },
  {
   "cell_type": "markdown",
   "metadata": {
    "slideshow": {
     "slide_type": "subslide"
    }
   },
   "source": [
    "### Post-Modeling Phases\n",
    "\n",
    "- Deployment of the model in a  production environment (e.g., web service)\n",
    "- Monitoring system performance on a regular basis\n",
    "- Updating system with new-coming data"
   ]
  },
  {
   "cell_type": "markdown",
   "metadata": {
    "slideshow": {
     "slide_type": "skip"
    }
   },
   "source": [
    "## References"
   ]
  },
  {
   "cell_type": "markdown",
   "metadata": {
    "slideshow": {
     "slide_type": "skip"
    }
   },
   "source": [
    "- Chapter 2 of Practical Natural Language Processing. {cite}`vajjala2020`"
   ]
  },
  {
   "cell_type": "markdown",
   "metadata": {
    "slideshow": {
     "slide_type": "skip"
    }
   },
   "source": [
    "```{bibliography} ../book.bib\n",
    ":filter: docname in docnames\n",
    ":style: unsrt\n",
    "```"
   ]
  }
 ],
 "metadata": {
  "celltoolbar": "Slideshow",
  "kernelspec": {
   "display_name": "python-notes",
   "language": "python",
   "name": "python-notes"
  },
  "language_info": {
   "codemirror_mode": {
    "name": "ipython",
    "version": 3
   },
   "file_extension": ".py",
   "mimetype": "text/x-python",
   "name": "python",
   "nbconvert_exporter": "python",
   "pygments_lexer": "ipython3",
   "version": "3.7.0"
  },
  "toc": {
   "base_numbering": 1,
   "nav_menu": {},
   "number_sections": false,
   "sideBar": true,
   "skip_h1_title": false,
   "title_cell": "Table of Contents",
   "title_sidebar": "Contents",
   "toc_cell": false,
   "toc_position": {},
   "toc_section_display": true,
   "toc_window_display": false
  },
  "varInspector": {
   "cols": {
    "lenName": 16,
    "lenType": 16,
    "lenVar": 40
   },
   "kernels_config": {
    "python": {
     "delete_cmd_postfix": "",
     "delete_cmd_prefix": "del ",
     "library": "var_list.py",
     "varRefreshCmd": "print(var_dic_list())"
    },
    "r": {
     "delete_cmd_postfix": ") ",
     "delete_cmd_prefix": "rm(",
     "library": "var_list.r",
     "varRefreshCmd": "cat(var_dic_list()) "
    }
   },
   "types_to_exclude": [
    "module",
    "function",
    "builtin_function_or_method",
    "instance",
    "_Feature"
   ],
   "window_display": false
  }
 },
 "nbformat": 4,
 "nbformat_minor": 4
}
