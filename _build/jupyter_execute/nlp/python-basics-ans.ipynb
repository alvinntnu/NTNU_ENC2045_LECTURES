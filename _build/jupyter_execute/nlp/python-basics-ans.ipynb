{
 "cells": [
  {
   "cell_type": "markdown",
   "metadata": {},
   "source": [
    "# Assignment I: Python Basics"
   ]
  },
  {
   "cell_type": "markdown",
   "metadata": {},
   "source": [
    "In this course, we assume you have basic background knowledge with the language python. \n"
   ]
  },
  {
   "cell_type": "markdown",
   "metadata": {},
   "source": [
    "\n",
    "## \n",
    "What are the core default modules available in Python? List down a few of them.\n"
   ]
  },
  {
   "cell_type": "markdown",
   "metadata": {
    "tags": [
     "hide-input",
     "hide-output"
    ]
   },
   "source": [
    "```{admonition} Ans\n",
    ":class: tip\n",
    "Answers may vary.\n",
    "```\n"
   ]
  },
  {
   "cell_type": "markdown",
   "metadata": {},
   "source": [
    "## \n",
    "Assuming that you have not installed the modulel `numpy` in your system. How to install the module?"
   ]
  },
  {
   "cell_type": "markdown",
   "metadata": {
    "tags": [
     "hide-input",
     "hide-output"
    ]
   },
   "source": [
    "```{admonition} Ans\n",
    ":class: tip\n",
    "\n",
    "`pip install numpy`\n",
    "\n",
    "`conda install numpy`\n",
    "```\n",
    "\n"
   ]
  },
  {
   "cell_type": "markdown",
   "metadata": {},
   "source": [
    "## \n",
    "Demonstrate how to subset and slice a `list` in Python with examples."
   ]
  },
  {
   "cell_type": "code",
   "execution_count": null,
   "metadata": {
    "scrolled": true,
    "tags": [
     "hide-input",
     "hide-output"
    ]
   },
   "outputs": [],
   "source": [
    "l = [1, 2, 3, 4, 5]\n",
    "l[1:3]\n",
    "l[1:-2]\n",
    "l[-3:-1]  # negative indexes in slicing\n",
    "s = \"Hello World\"\n",
    "s[1:3]\n",
    "s[:-5]\n",
    "s[-5:]"
   ]
  },
  {
   "cell_type": "markdown",
   "metadata": {},
   "source": [
    "## \n",
    "What are the different ways to generate random numbers?\n",
    "\n",
    "    - Generate a random number between 0 and 1\n",
    "    - Generate a random integer between 0 and 100"
   ]
  },
  {
   "cell_type": "code",
   "execution_count": null,
   "metadata": {
    "scrolled": true,
    "tags": [
     "hide-input",
     "hide-output"
    ]
   },
   "outputs": [],
   "source": [
    "import random\n",
    "\n",
    "print(random.random())\n",
    "print(random.uniform(0, 1))\n",
    "print(random.randint(0, 100))"
   ]
  },
  {
   "cell_type": "markdown",
   "metadata": {},
   "source": [
    "## \n",
    "A `dict` is provided below. Please demonstrate how to sort the dictionary by (a) its key, and (b) its values in an descending order.\n",
    "\n",
    "```\n",
    "example = {'e':10, 'a':22, 'h':17}\n",
    "```\n",
    "\n",
    "The expected results:\n",
    "\n",
    "```\n",
    "## According to key:\n",
    "[('a', 22), ('e', 10), ('h', 17)]\n",
    "## According to value:\n",
    "[('a', 8), ('e', 10), ('h', 17)]\n",
    "```"
   ]
  },
  {
   "cell_type": "code",
   "execution_count": null,
   "metadata": {
    "scrolled": true,
    "tags": [
     "hide-input",
     "hide-output"
    ]
   },
   "outputs": [],
   "source": [
    "example = {'e': 10, 'a': 22, 'h': 17}\n",
    "print(sorted(example.items(), key=lambda x: x[0]))\n",
    "print(sorted(example.items(), key=lambda x: x[1]))"
   ]
  },
  {
   "cell_type": "markdown",
   "metadata": {},
   "source": [
    "## \n",
    "How do we remove the duplicate elements from the given list?\n",
    "\n",
    "```\n",
    "words = [‘one’, ‘one’, ‘two’, ‘three’, ‘three’, ‘two’]\n",
    "```\n"
   ]
  },
  {
   "cell_type": "code",
   "execution_count": null,
   "metadata": {
    "scrolled": true,
    "tags": [
     "hide-input",
     "hide-output"
    ]
   },
   "outputs": [],
   "source": [
    "words = [\"one\", \"one\", \"two\", \"three\", \"three\", \"two\"]\n",
    "list(set(words))"
   ]
  },
  {
   "cell_type": "markdown",
   "metadata": {},
   "source": [
    "## \n",
    "How to convert the strings `123` and `456.6` into  numbers?"
   ]
  },
  {
   "cell_type": "code",
   "execution_count": null,
   "metadata": {
    "scrolled": true,
    "tags": [
     "hide-input",
     "hide-output"
    ]
   },
   "outputs": [],
   "source": [
    "s1 = '123'\n",
    "s2 = '456.6'\n",
    "print(type(s1))\n",
    "print(type(s2))\n",
    "print(type(int(s1)))\n",
    "print(type(float(s2)))"
   ]
  },
  {
   "cell_type": "markdown",
   "metadata": {},
   "source": [
    "## \n",
    "How to get the current working directory of your project in Python?\n"
   ]
  },
  {
   "cell_type": "code",
   "execution_count": null,
   "metadata": {
    "scrolled": true,
    "tags": [
     "hide-input",
     "hide-output"
    ]
   },
   "outputs": [],
   "source": [
    "import os\n",
    "os.getcwd()"
   ]
  },
  {
   "cell_type": "markdown",
   "metadata": {},
   "source": [
    "(question-control)=\n",
    "## \n",
    "Use control structures of for-loop and if-condition to identify the elements from the `list` below whose values are the multiples of 3.\n",
    "\n",
    "```\n",
    "numbers = [0,4,8,9,15,7,29,33]\n",
    "```"
   ]
  },
  {
   "cell_type": "code",
   "execution_count": 34,
   "metadata": {
    "tags": [
     "hide-input",
     "hide-output"
    ]
   },
   "outputs": [
    {
     "name": "stdout",
     "output_type": "stream",
     "text": [
      "0\n",
      "9\n",
      "15\n",
      "33\n"
     ]
    }
   ],
   "source": [
    "numbers = [0,4,8,9,15,7,29,33]\n",
    "for n in numbers:\n",
    "    if n % 3 ==0:\n",
    "        print(n)"
   ]
  },
  {
   "cell_type": "markdown",
   "metadata": {},
   "source": [
    "## \n",
    "To achive the same goal as specified in the previous [question](question-control), please re-write the script with one line utilizing the **list comprehension** in python.\n",
    "\n",
    "For example:\n",
    "\n",
    "```\n",
    "numbers = [0,4,8,9,15,7,29,33]\n",
    "[XXXXXX number XXXXX]\n",
    "```\n",
    "\n",
    "And then you get the following output:\n",
    "\n",
    "```\n",
    "[0, 9, 15, 33]\n",
    "```"
   ]
  },
  {
   "cell_type": "code",
   "execution_count": 35,
   "metadata": {
    "tags": [
     "hide-input",
     "hide-output"
    ]
   },
   "outputs": [
    {
     "data": {
      "text/plain": [
       "[0, 9, 15, 33]"
      ]
     },
     "execution_count": 35,
     "metadata": {},
     "output_type": "execute_result"
    }
   ],
   "source": [
    "numbers = [0,4,8,9,15,7,29,33]\n",
    "\n",
    "[n for n in numbers if n % 3 == 0]"
   ]
  },
  {
   "cell_type": "markdown",
   "metadata": {},
   "source": [
    "## \n",
    "Given a `list` of `tuples` as shown below, please sort the `list` according to the second value of the tuples by **descending** order. If the second values are the same, the second criterion for sorting is the third values. Please note that the first value is string while the rest should be converted to numbers before sorting.\n",
    "\n",
    "```\n",
    "data= [('John', '20', '90'), ('Jony', '17', '91'), ('Jony', '17', '93'), ('Json', '21', '85'), ('Tom', '19', '80')]\n",
    "```\n",
    "\n",
    "The expected results:\n",
    "\n",
    "```\n",
    "[('Json', '21', '85'),\n",
    " ('John', '20', '90'),\n",
    " ('Tom', '19', '80'),\n",
    " ('Jony', '17', '93'),\n",
    " ('Jony', '17', '91')]\n",
    "```"
   ]
  },
  {
   "cell_type": "code",
   "execution_count": 39,
   "metadata": {
    "tags": [
     "hide-input",
     "hide-output"
    ]
   },
   "outputs": [
    {
     "data": {
      "text/plain": [
       "[('Json', '21', '85'),\n",
       " ('John', '20', '90'),\n",
       " ('Tom', '19', '80'),\n",
       " ('Jony', '17', '93'),\n",
       " ('Jony', '17', '91')]"
      ]
     },
     "execution_count": 39,
     "metadata": {},
     "output_type": "execute_result"
    }
   ],
   "source": [
    "data= [('John', '20', '90'), ('Jony', '17', '91'), ('Jony', '17', '93'), ('Json', '21', '85'), ('Tom', '19', '80')]\n",
    "\n",
    "sorted(data, key=lambda x:(x[1],x[2]), reverse= True)"
   ]
  },
  {
   "cell_type": "markdown",
   "metadata": {},
   "source": [
    "## \n",
    "Define a function which can iterate the numbers, which are divisible by 13, between a given range 0 and n, and print all line by line to the console."
   ]
  },
  {
   "cell_type": "code",
   "execution_count": 48,
   "metadata": {
    "tags": [
     "hide-input",
     "hide-output"
    ]
   },
   "outputs": [
    {
     "name": "stdout",
     "output_type": "stream",
     "text": [
      "Expected outputs of `generateNumbers(100)`:\n",
      "\n",
      "0\n",
      "13\n",
      "26\n",
      "39\n",
      "52\n",
      "65\n",
      "78\n",
      "91\n"
     ]
    }
   ],
   "source": [
    "\n",
    "def generateNumbers(n):\n",
    "    i = 0\n",
    "    while i<n:\n",
    "        j=i\n",
    "        i=i+1\n",
    "        if j%13==0:\n",
    "            print(j)\n",
    "            \n",
    "print(\"Expected outputs of `generateNumbers(100)`:\\n\")            \n",
    "generateNumbers(100)"
   ]
  },
  {
   "cell_type": "code",
   "execution_count": null,
   "metadata": {},
   "outputs": [],
   "source": []
  }
 ],
 "metadata": {
  "celltoolbar": "Tags",
  "kernelspec": {
   "display_name": "python-notes",
   "language": "python",
   "name": "python-notes"
  },
  "language_info": {
   "codemirror_mode": {
    "name": "ipython",
    "version": 3
   },
   "file_extension": ".py",
   "mimetype": "text/x-python",
   "name": "python",
   "nbconvert_exporter": "python",
   "pygments_lexer": "ipython3",
   "version": "3.7.0"
  },
  "toc": {
   "base_numbering": 1,
   "nav_menu": {},
   "number_sections": true,
   "sideBar": true,
   "skip_h1_title": false,
   "title_cell": "Table of Contents",
   "title_sidebar": "Contents",
   "toc_cell": false,
   "toc_position": {},
   "toc_section_display": true,
   "toc_window_display": true
  },
  "varInspector": {
   "cols": {
    "lenName": 16,
    "lenType": 16,
    "lenVar": 40
   },
   "kernels_config": {
    "python": {
     "delete_cmd_postfix": "",
     "delete_cmd_prefix": "del ",
     "library": "var_list.py",
     "varRefreshCmd": "print(var_dic_list())"
    },
    "r": {
     "delete_cmd_postfix": ") ",
     "delete_cmd_prefix": "rm(",
     "library": "var_list.r",
     "varRefreshCmd": "cat(var_dic_list()) "
    }
   },
   "types_to_exclude": [
    "module",
    "function",
    "builtin_function_or_method",
    "instance",
    "_Feature"
   ],
   "window_display": false
  }
 },
 "nbformat": 4,
 "nbformat_minor": 4
}