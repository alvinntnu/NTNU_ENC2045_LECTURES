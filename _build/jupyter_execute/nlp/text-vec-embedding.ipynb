{
 "cells": [
  {
   "cell_type": "markdown",
   "metadata": {
    "id": "PN7i0mxE4-n1",
    "slideshow": {
     "slide_type": "slide"
    }
   },
   "source": [
    "# Word Embeddings"
   ]
  },
  {
   "cell_type": "markdown",
   "metadata": {
    "cell_style": "center",
    "slideshow": {
     "slide_type": "subslide"
    }
   },
   "source": [
    "- The state-of-art method of vectorizing texts is to learn the numeric representations of words using deep learning methods.\n",
    "- These deep-learning based numeric representations of linguistic units are commonly referred to as **embeddings**.\n",
    "- Word embeddings can be learned either along with the target NLP task (e.g., the `Embedding` layer in RNN Language Model) or via an **unsupervised** method based on a large number of texts.\n",
    "- In this tutorial, we will look at two main algorithms in `word2vec` that allow us to learn the word embeddings in an **unsupervised** manner from a large collection of texts."
   ]
  },
  {
   "cell_type": "markdown",
   "metadata": {
    "cell_style": "center",
    "id": "AetOuNWeUgdf",
    "slideshow": {
     "slide_type": "subslide"
    }
   },
   "source": [
    "- Strengths of word embeddings\n",
    "    - They can be learned using **unsupervised** methods.\n",
    "    - They include quite a proportion of the lexical **semantics**.\n",
    "    - They can be learned by **batch**. We don't have to process the entire corpus and create the word-by-document matrix for vectorization. \n",
    "    - Therefore, it is less likely to run into the **memory** capacity issue for huge corpora."
   ]
  },
  {
   "cell_type": "markdown",
   "metadata": {
    "id": "V5rbI1nDN3e4",
    "slideshow": {
     "slide_type": "slide"
    }
   },
   "source": [
    "## Overview"
   ]
  },
  {
   "cell_type": "markdown",
   "metadata": {
    "id": "smKB4kusN6gq",
    "slideshow": {
     "slide_type": "subslide"
    }
   },
   "source": [
    "### What is `word2vec`?\n",
    "\n",
    "- `Word2vec` is one of the most popular techniques to learn word embeddings using a two-layer neural network.\n",
    "- The input is a **text corpus** and the output is a set of **word vectors**.\n",
    "- Research has shown that these embeddings include rich semantic information of words, which allow us to perform interesting **semantic computation** (See Mikolov et al's works in References)."
   ]
  },
  {
   "cell_type": "markdown",
   "metadata": {
    "slideshow": {
     "slide_type": "subslide"
    }
   },
   "source": [
    "### Basis of Word Embeddings: Distributional Semantics\n",
    "\n",
    "- \"*You shall know a word by the company it keeps*\" (Firth, 1975).\n",
    "- Word distributions show a considerable amount of **lexical semantics**.\n",
    "- Construction/Pattern distributions show a considerable amount of the **constructional semantics**.\n",
    "- Semantics of linguistic units are implicitly or explicitly embedded in their distributions (i.e., *occurrences* and *co-occurrences*) in language use (**Distributional Semantics**)."
   ]
  },
  {
   "cell_type": "markdown",
   "metadata": {
    "id": "smKB4kusN6gq",
    "slideshow": {
     "slide_type": "subslide"
    }
   },
   "source": [
    "### Main training algorithms of `word2vec`\n",
    "\n",
    "- Continuous Bag-of-Words (**CBOW**): The general language modeling task for embeddings training is to learn a model that is capable of using the ***context*** words to predict a ***target*** word.\n",
    "- **Skip-Gram**: The general language modeling task for embeddings training is to learn a model that is capable of using a ***target word*** to predict its ***context*** words."
   ]
  },
  {
   "cell_type": "markdown",
   "metadata": {
    "slideshow": {
     "slide_type": "subslide"
    }
   },
   "source": [
    "![](../images/word2vec.png)"
   ]
  },
  {
   "cell_type": "markdown",
   "metadata": {
    "id": "smKB4kusN6gq",
    "slideshow": {
     "slide_type": "subslide"
    }
   },
   "source": [
    "- Other variants of embeddings training:\n",
    "  - `fasttext` from Facebook\n",
    "  - `GloVe` from Stanford NLP Group\n",
    "- There are many ways to train work embeddings.\n",
    "  - `gensim`: Simplest and straightforward implementation of `word2vec`.\n",
    "  - Training based on deep learning packages (e.g., `keras`, `tensorflow`)\n",
    "  - `spacy` (It comes with the pre-trained embeddings models, using GloVe.)\n",
    "- See Sarkar (2019), Chapter 4, for more comprehensive reviews."
   ]
  },
  {
   "cell_type": "markdown",
   "metadata": {
    "id": "tCpLorbNUgdg",
    "slideshow": {
     "slide_type": "slide"
    }
   },
   "source": [
    "### An Intuitive Understanding of CBOW"
   ]
  },
  {
   "cell_type": "markdown",
   "metadata": {
    "id": "vnGI87ajUgdg",
    "slideshow": {
     "slide_type": "subslide"
    }
   },
   "source": [
    "![](../images/word2vec-text-to-sequences.gif)"
   ]
  },
  {
   "cell_type": "markdown",
   "metadata": {
    "id": "Eb5CU3A6Ugdg",
    "slideshow": {
     "slide_type": "subslide"
    }
   },
   "source": [
    "![](../images/word2vec-cbow.gif)"
   ]
  },
  {
   "cell_type": "markdown",
   "metadata": {
    "id": "TTSruGJAUgdh",
    "slideshow": {
     "slide_type": "slide"
    }
   },
   "source": [
    "### An Intuitive Understanding of Skip-gram"
   ]
  },
  {
   "cell_type": "markdown",
   "metadata": {
    "id": "yG0VdcUTUgdh",
    "slideshow": {
     "slide_type": "subslide"
    }
   },
   "source": [
    "![](../images/word2vec-skipgram.gif)"
   ]
  },
  {
   "cell_type": "markdown",
   "metadata": {
    "id": "0_TzMrSp4-n8",
    "slideshow": {
     "slide_type": "slide"
    }
   },
   "source": [
    "## Import necessary dependencies and settings"
   ]
  },
  {
   "cell_type": "code",
   "execution_count": 2,
   "metadata": {
    "executionInfo": {
     "elapsed": 625,
     "status": "ok",
     "timestamp": 1616208971433,
     "user": {
      "displayName": "Alvin Chen",
      "photoUrl": "",
      "userId": "12962786962925949010"
     },
     "user_tz": -480
    },
    "id": "40rl_pdC4-n9",
    "slideshow": {
     "slide_type": "subslide"
    }
   },
   "outputs": [],
   "source": [
    "import pandas as pd\n",
    "import numpy as np\n",
    "import re\n",
    "import nltk\n",
    "import matplotlib.pyplot as plt\n",
    "import matplotlib\n",
    "matplotlib.rcParams['figure.dpi'] = 300\n",
    "pd.options.display.max_colwidth = 200"
   ]
  },
  {
   "cell_type": "code",
   "execution_count": 3,
   "metadata": {
    "colab": {
     "base_uri": "https://localhost:8080/"
    },
    "executionInfo": {
     "elapsed": 113993,
     "status": "ok",
     "timestamp": 1616207264957,
     "user": {
      "displayName": "Alvin Chen",
      "photoUrl": "",
      "userId": "12962786962925949010"
     },
     "user_tz": -480
    },
    "id": "HUGWcWsg5T1W",
    "outputId": "bf8defaa-ac12-4c46-99db-e04272d42142",
    "slideshow": {
     "slide_type": "skip"
    },
    "tags": [
     "hide-output"
    ]
   },
   "outputs": [],
   "source": [
    "# # Google Colab Adhoc Setting\n",
    "# !nvidia-smi\n",
    "# nltk.download(['gutenberg','punkt','stopwords'])\n",
    "# !pip show spacy\n",
    "# !pip install --upgrade spacy\n",
    "# #!python -m spacy download en_core_web_trf\n",
    "# !python -m spacy download en_core_web_lg"
   ]
  },
  {
   "cell_type": "markdown",
   "metadata": {
    "id": "s3YAk7p14-n9",
    "slideshow": {
     "slide_type": "slide"
    }
   },
   "source": [
    "## Sample Corpus: A Naive Example"
   ]
  },
  {
   "cell_type": "code",
   "execution_count": 4,
   "metadata": {
    "colab": {
     "base_uri": "https://localhost:8080/",
     "height": 294
    },
    "executionInfo": {
     "elapsed": 631,
     "status": "ok",
     "timestamp": 1616210967197,
     "user": {
      "displayName": "Alvin Chen",
      "photoUrl": "",
      "userId": "12962786962925949010"
     },
     "user_tz": -480
    },
    "id": "d7NxP0hD4-n9",
    "outputId": "3c444759-ac9f-4731-c1df-b2c57e542a8b",
    "slideshow": {
     "slide_type": "subslide"
    }
   },
   "outputs": [
    {
     "data": {
      "text/html": [
       "<div>\n",
       "<style scoped>\n",
       "    .dataframe tbody tr th:only-of-type {\n",
       "        vertical-align: middle;\n",
       "    }\n",
       "\n",
       "    .dataframe tbody tr th {\n",
       "        vertical-align: top;\n",
       "    }\n",
       "\n",
       "    .dataframe thead th {\n",
       "        text-align: right;\n",
       "    }\n",
       "</style>\n",
       "<table border=\"1\" class=\"dataframe\">\n",
       "  <thead>\n",
       "    <tr style=\"text-align: right;\">\n",
       "      <th></th>\n",
       "      <th>Document</th>\n",
       "      <th>Category</th>\n",
       "    </tr>\n",
       "  </thead>\n",
       "  <tbody>\n",
       "    <tr>\n",
       "      <th>0</th>\n",
       "      <td>The sky is blue and beautiful.</td>\n",
       "      <td>weather</td>\n",
       "    </tr>\n",
       "    <tr>\n",
       "      <th>1</th>\n",
       "      <td>Love this blue and beautiful sky!</td>\n",
       "      <td>weather</td>\n",
       "    </tr>\n",
       "    <tr>\n",
       "      <th>2</th>\n",
       "      <td>The quick brown fox jumps over the lazy dog.</td>\n",
       "      <td>animals</td>\n",
       "    </tr>\n",
       "    <tr>\n",
       "      <th>3</th>\n",
       "      <td>A king's breakfast has sausages, ham, bacon, eggs, toast and beans</td>\n",
       "      <td>food</td>\n",
       "    </tr>\n",
       "    <tr>\n",
       "      <th>4</th>\n",
       "      <td>I love green eggs, ham, sausages and bacon!</td>\n",
       "      <td>food</td>\n",
       "    </tr>\n",
       "    <tr>\n",
       "      <th>5</th>\n",
       "      <td>The brown fox is quick and the blue dog is lazy!</td>\n",
       "      <td>animals</td>\n",
       "    </tr>\n",
       "    <tr>\n",
       "      <th>6</th>\n",
       "      <td>The sky is very blue and the sky is very beautiful today</td>\n",
       "      <td>weather</td>\n",
       "    </tr>\n",
       "    <tr>\n",
       "      <th>7</th>\n",
       "      <td>The dog is lazy but the brown fox is quick!</td>\n",
       "      <td>animals</td>\n",
       "    </tr>\n",
       "  </tbody>\n",
       "</table>\n",
       "</div>"
      ],
      "text/plain": [
       "                                                             Document Category\n",
       "0                                      The sky is blue and beautiful.  weather\n",
       "1                                   Love this blue and beautiful sky!  weather\n",
       "2                        The quick brown fox jumps over the lazy dog.  animals\n",
       "3  A king's breakfast has sausages, ham, bacon, eggs, toast and beans     food\n",
       "4                         I love green eggs, ham, sausages and bacon!     food\n",
       "5                    The brown fox is quick and the blue dog is lazy!  animals\n",
       "6            The sky is very blue and the sky is very beautiful today  weather\n",
       "7                         The dog is lazy but the brown fox is quick!  animals"
      ]
     },
     "execution_count": 4,
     "metadata": {},
     "output_type": "execute_result"
    }
   ],
   "source": [
    "corpus = [\n",
    "    'The sky is blue and beautiful.', 'Love this blue and beautiful sky!',\n",
    "    'The quick brown fox jumps over the lazy dog.',\n",
    "    \"A king's breakfast has sausages, ham, bacon, eggs, toast and beans\",\n",
    "    'I love green eggs, ham, sausages and bacon!',\n",
    "    'The brown fox is quick and the blue dog is lazy!',\n",
    "    'The sky is very blue and the sky is very beautiful today',\n",
    "    'The dog is lazy but the brown fox is quick!'\n",
    "]\n",
    "labels = [\n",
    "    'weather', 'weather', 'animals', 'food', 'food', 'animals', 'weather',\n",
    "    'animals'\n",
    "]\n",
    "\n",
    "corpus = np.array(corpus)\n",
    "corpus_df = pd.DataFrame({'Document': corpus, 'Category': labels})\n",
    "corpus_df = corpus_df[['Document', 'Category']]\n",
    "corpus_df"
   ]
  },
  {
   "cell_type": "markdown",
   "metadata": {
    "id": "W10xDdtQ4-n_",
    "slideshow": {
     "slide_type": "slide"
    }
   },
   "source": [
    "### Simple text pre-processing\n",
    "\n",
    "- Usually for unsupervised `word2vec` learning, we don't really need much text preprocessing.\n",
    "- So we keep our preprocessing to the minimum.\n",
    "    - Remove only symbols/punctuations, as well as redundant whitespaces.\n",
    "    - Perform word tokenization, which would also determine the base units for embeddings learning.\n"
   ]
  },
  {
   "cell_type": "markdown",
   "metadata": {
    "slideshow": {
     "slide_type": "subslide"
    }
   },
   "source": [
    "### Suggestions\n",
    "\n",
    "- If you are using `keras` to build the network for embeddings training, please prepare your input corpus data for `Tokenizer()`in the format where each **token** is delimited by a **whitespace**.\n",
    "- If you are using `gensim` to train word embeddings, please tokenize your corpus data first. That is, the `gensim` only requires a tokenized version of the corpus and it will learn the word embeddings for you. "
   ]
  },
  {
   "cell_type": "code",
   "execution_count": 5,
   "metadata": {
    "executionInfo": {
     "elapsed": 603,
     "status": "ok",
     "timestamp": 1616210971687,
     "user": {
      "displayName": "Alvin Chen",
      "photoUrl": "",
      "userId": "12962786962925949010"
     },
     "user_tz": -480
    },
    "id": "zgBhzGnv4-n_",
    "slideshow": {
     "slide_type": "subslide"
    }
   },
   "outputs": [],
   "source": [
    "wpt = nltk.WordPunctTokenizer()\n",
    "# stop_words = nltk.corpus.stopwords.words('english')\n",
    "def preprocess_document(doc):\n",
    "    # lower case and remove special characters\\whitespaces\n",
    "    doc = re.sub(r'[^a-zA-Z\\s]', '', doc, re.I | re.A)\n",
    "    doc = doc.lower()\n",
    "    doc = doc.strip()\n",
    "    # tokenize document\n",
    "    tokens = wpt.tokenize(doc)\n",
    "    doc = ' '.join(tokens)\n",
    "    return doc\n",
    "\n",
    "corpus_norm = [preprocess_document(text) for text in corpus]\n",
    "corpus_tokens = [preprocess_document(text).split(' ') for text in corpus]"
   ]
  },
  {
   "cell_type": "code",
   "execution_count": 6,
   "metadata": {
    "colab": {
     "base_uri": "https://localhost:8080/"
    },
    "executionInfo": {
     "elapsed": 596,
     "status": "ok",
     "timestamp": 1616210974076,
     "user": {
      "displayName": "Alvin Chen",
      "photoUrl": "",
      "userId": "12962786962925949010"
     },
     "user_tz": -480
    },
    "id": "x1RVepWs4-oA",
    "outputId": "823a3f0e-a469-4bf1-b30b-6bd4609e5f38",
    "slideshow": {
     "slide_type": "subslide"
    }
   },
   "outputs": [
    {
     "name": "stdout",
     "output_type": "stream",
     "text": [
      "['the sky is blue and beautiful', 'love this blue and beautiful sky', 'the quick brown fox jumps over the lazy dog', 'a kings breakfast has sausages ham bacon eggs toast and beans', 'i love green eggs ham sausages and bacon', 'the brown fox is quick and the blue dog is lazy', 'the sky is very blue and the sky is very beautiful today', 'the dog is lazy but the brown fox is quick']\n",
      "[['the', 'sky', 'is', 'blue', 'and', 'beautiful'], ['love', 'this', 'blue', 'and', 'beautiful', 'sky'], ['the', 'quick', 'brown', 'fox', 'jumps', 'over', 'the', 'lazy', 'dog'], ['a', 'kings', 'breakfast', 'has', 'sausages', 'ham', 'bacon', 'eggs', 'toast', 'and', 'beans'], ['i', 'love', 'green', 'eggs', 'ham', 'sausages', 'and', 'bacon'], ['the', 'brown', 'fox', 'is', 'quick', 'and', 'the', 'blue', 'dog', 'is', 'lazy'], ['the', 'sky', 'is', 'very', 'blue', 'and', 'the', 'sky', 'is', 'very', 'beautiful', 'today'], ['the', 'dog', 'is', 'lazy', 'but', 'the', 'brown', 'fox', 'is', 'quick']]\n"
     ]
    }
   ],
   "source": [
    "print(corpus_norm)\n",
    "print(corpus_tokens)"
   ]
  },
  {
   "cell_type": "markdown",
   "metadata": {
    "id": "iMA5QBfF4-oO",
    "slideshow": {
     "slide_type": "slide"
    }
   },
   "source": [
    "### Training Embeddings Using word2vec\n",
    "\n",
    "- The expected inputs of `gensim.model.word2vec` is token-based corpus object."
   ]
  },
  {
   "cell_type": "code",
   "execution_count": 11,
   "metadata": {
    "executionInfo": {
     "elapsed": 611,
     "status": "ok",
     "timestamp": 1616211031062,
     "user": {
      "displayName": "Alvin Chen",
      "photoUrl": "",
      "userId": "12962786962925949010"
     },
     "user_tz": -480
    },
    "id": "dvV1OtS44-oO",
    "slideshow": {
     "slide_type": "subslide"
    }
   },
   "outputs": [
    {
     "name": "stdout",
     "output_type": "stream",
     "text": [
      "CPU times: user 906 ms, sys: 549 ms, total: 1.45 s\n",
      "Wall time: 1.23 s\n"
     ]
    }
   ],
   "source": [
    "%%time\n",
    "\n",
    "from gensim.models import word2vec\n",
    "\n",
    "# Set values for various parameters\n",
    "feature_size = 10  \n",
    "window_context = 5  \n",
    "min_word_count = 1  \n",
    "\n",
    "w2v_model = word2vec.Word2Vec(\n",
    "    corpus_tokens,\n",
    "    vector_size=feature_size,        # Word embeddings dimensionality\n",
    "    window=window_context,    # Context window size\n",
    "    min_count=min_word_count, # Minimum word count\n",
    "    sg=1,                     # `1` for skip-gram; otherwise CBOW.\n",
    "    seed = 123,               # random seed\n",
    "    workers=1,                # number of cores to use\n",
    "    negative = 5,             # how many negative samples should be drawn\n",
    "    cbow_mean = 1,            # whether to use the average of context word embeddings or sum(concat)\n",
    "    epochs=10000,               # number of epochs for the entire corpus\n",
    "    batch_words=10000,        # batch size\n",
    ")"
   ]
  },
  {
   "cell_type": "markdown",
   "metadata": {
    "id": "tFZF5zOF4-oO",
    "slideshow": {
     "slide_type": "slide"
    }
   },
   "source": [
    "### Visualizing Word Embeddings\n",
    "\n",
    "- Embeddings represent words in multidimensional space.\n",
    "- We can inspect the quality of embeddings using dimensional reduction and visualize words in a 2D plot."
   ]
  },
  {
   "cell_type": "code",
   "execution_count": 24,
   "metadata": {
    "colab": {
     "base_uri": "https://localhost:8080/",
     "height": 374
    },
    "executionInfo": {
     "elapsed": 1060,
     "status": "ok",
     "timestamp": 1616211033458,
     "user": {
      "displayName": "Alvin Chen",
      "photoUrl": "",
      "userId": "12962786962925949010"
     },
     "user_tz": -480
    },
    "id": "37AYSsub4-oO",
    "outputId": "2086c38a-feeb-4a2d-ee26-15abdd4ca1c5",
    "slideshow": {
     "slide_type": "subslide"
    }
   },
   "outputs": [
    {
     "data": {
      "image/png": "[encoded data removed]",
      "text/plain": [
       "<Figure size 864x432 with 1 Axes>"
      ]
     },
     "metadata": {
      "needs_background": "light"
     },
     "output_type": "display_data"
    }
   ],
   "source": [
    "from sklearn.manifold import TSNE\n",
    "\n",
    "words = w2v_model.wv.index_to_key ## get the word forms of voculary\n",
    "wvs = w2v_model.wv[words] ## get embeddings of all word forms\n",
    "\n",
    "tsne = TSNE(n_components=2, random_state=0, n_iter=5000, perplexity=2)\n",
    "np.set_printoptions(suppress=True)\n",
    "T = tsne.fit_transform(wvs)\n",
    "labels = words\n",
    "\n",
    "plt.figure(figsize=(12, 6))\n",
    "plt.scatter(T[:, 0], T[:, 1], c='orange', edgecolors='r')\n",
    "for label, x, y in zip(labels, T[:, 0], T[:, 1]):\n",
    "    plt.annotate(label,\n",
    "                 xy=(x + 1, y + 1),\n",
    "                 xytext=(0, 0),\n",
    "                 textcoords='offset points')"
   ]
  },
  {
   "cell_type": "markdown",
   "metadata": {
    "id": "xfICQPTY4-oO",
    "slideshow": {
     "slide_type": "subslide"
    }
   },
   "source": [
    "- All trained word embeddings are included in `w2v_model.wv`.\n",
    "- We can extract all word forms in the vocabulary from `w2v_model.wv.index2word`.\n",
    "- We can easily extract embeddings for any specific words from `w2v_model.wv`."
   ]
  },
  {
   "cell_type": "code",
   "execution_count": 26,
   "metadata": {
    "slideshow": {
     "slide_type": "subslide"
    }
   },
   "outputs": [
    {
     "data": {
      "text/plain": [
       "['the', 'is', 'and', 'sky', 'blue']"
      ]
     },
     "execution_count": 26,
     "metadata": {},
     "output_type": "execute_result"
    }
   ],
   "source": [
    "w2v_model.wv.index_to_key[:5]"
   ]
  },
  {
   "cell_type": "code",
   "execution_count": 27,
   "metadata": {
    "colab": {
     "base_uri": "https://localhost:8080/"
    },
    "executionInfo": {
     "elapsed": 611,
     "status": "ok",
     "timestamp": 1616211046318,
     "user": {
      "displayName": "Alvin Chen",
      "photoUrl": "",
      "userId": "12962786962925949010"
     },
     "user_tz": -480
    },
    "id": "XG-Adb934-oP",
    "outputId": "42e70ffc-90fc-4231-de65-c9e69443214d",
    "slideshow": {
     "slide_type": "subslide"
    }
   },
   "outputs": [
    {
     "data": {
      "text/plain": [
       "[array([-1.0949969 ,  0.28954926, -1.114496  , -0.42258066,  0.66788393,\n",
       "        -1.3750594 , -0.70987606,  0.11280105,  0.05580178, -0.6932866 ],\n",
       "       dtype=float32),\n",
       " array([-0.88506925,  0.9598221 , -1.5771676 , -0.1170712 ,  0.42075434,\n",
       "        -1.6401567 , -0.19193946,  0.34415627,  0.61294013, -0.7693054 ],\n",
       "       dtype=float32),\n",
       " array([-0.8441105 ,  0.55627626, -0.44809738, -0.00006142, -0.5046599 ,\n",
       "         0.58909607, -0.5197542 , -0.83424497,  0.6392552 ,  0.27922842],\n",
       "       dtype=float32),\n",
       " array([-1.9151906 ,  0.02310654, -0.37337798,  1.1486837 , -1.944635  ,\n",
       "        -0.89013064, -0.15339209,  0.06195976,  0.87404585, -0.88589054],\n",
       "       dtype=float32),\n",
       " array([-0.49760106,  0.33475614, -1.5774511 ,  0.16075088, -1.2333795 ,\n",
       "        -0.64314014, -0.9123499 ,  0.9150968 , -0.01311138, -0.1773322 ],\n",
       "       dtype=float32)]"
      ]
     },
     "execution_count": 27,
     "metadata": {},
     "output_type": "execute_result"
    }
   ],
   "source": [
    "[w2v_model.wv[w] for w in w2v_model.wv.index_to_key[:5]]"
   ]
  },
  {
   "cell_type": "markdown",
   "metadata": {
    "id": "QzfBJp0t4-oP",
    "slideshow": {
     "slide_type": "slide"
    }
   },
   "source": [
    "### From Word Embeddings to Document Embeddings\n",
    "\n",
    "- With word embeddings, we can compute the **average embeddings** for the entire document, i.e., the ***document embeddings***.\n",
    "- These document embeddings are also assumed to have included considerable semantic information of the document.\n",
    "- We can for example use them for document classification/clustering."
   ]
  },
  {
   "cell_type": "code",
   "execution_count": 32,
   "metadata": {
    "id": "pEdaZ8FX4-oP",
    "slideshow": {
     "slide_type": "subslide"
    }
   },
   "outputs": [],
   "source": [
    "def average_word_vectors(words, model, vocabulary, num_features):\n",
    "\n",
    "    feature_vector = np.zeros((num_features, ), dtype=\"float64\")\n",
    "    nwords = 0.\n",
    "\n",
    "    for word in words:\n",
    "        if word in vocabulary:\n",
    "            nwords = nwords + 1.\n",
    "            feature_vector = np.add(feature_vector, model.wv[word])\n",
    "\n",
    "    if nwords:\n",
    "        feature_vector = np.divide(feature_vector, nwords)\n",
    "\n",
    "    return feature_vector\n",
    "\n",
    "\n",
    "def averaged_word_vectorizer(corpus, model, num_features):\n",
    "    vocabulary = set(model.wv.index_to_key)\n",
    "    features = [\n",
    "        average_word_vectors(tokenized_sentence, model, vocabulary,\n",
    "                             num_features) for tokenized_sentence in corpus\n",
    "    ]\n",
    "    return np.array(features)"
   ]
  },
  {
   "cell_type": "code",
   "execution_count": 33,
   "metadata": {
    "colab": {
     "base_uri": "https://localhost:8080/",
     "height": 349
    },
    "executionInfo": {
     "elapsed": 266464,
     "status": "ok",
     "timestamp": 1616205237650,
     "user": {
      "displayName": "Alvin Chen",
      "photoUrl": "",
      "userId": "12962786962925949010"
     },
     "user_tz": -480
    },
    "id": "zmdt8TjK4-oP",
    "outputId": "86e11e65-4c2f-4955-e9f8-ce63c68ae48f",
    "slideshow": {
     "slide_type": "subslide"
    }
   },
   "outputs": [
    {
     "data": {
      "text/html": [
       "<div>\n",
       "<style scoped>\n",
       "    .dataframe tbody tr th:only-of-type {\n",
       "        vertical-align: middle;\n",
       "    }\n",
       "\n",
       "    .dataframe tbody tr th {\n",
       "        vertical-align: top;\n",
       "    }\n",
       "\n",
       "    .dataframe thead th {\n",
       "        text-align: right;\n",
       "    }\n",
       "</style>\n",
       "<table border=\"1\" class=\"dataframe\">\n",
       "  <thead>\n",
       "    <tr style=\"text-align: right;\">\n",
       "      <th></th>\n",
       "      <th>0</th>\n",
       "      <th>1</th>\n",
       "      <th>2</th>\n",
       "      <th>3</th>\n",
       "      <th>4</th>\n",
       "      <th>5</th>\n",
       "      <th>6</th>\n",
       "      <th>7</th>\n",
       "      <th>8</th>\n",
       "      <th>9</th>\n",
       "    </tr>\n",
       "  </thead>\n",
       "  <tbody>\n",
       "    <tr>\n",
       "      <th>the sky is blue and beautiful</th>\n",
       "      <td>-1.025673</td>\n",
       "      <td>0.385626</td>\n",
       "      <td>-1.049794</td>\n",
       "      <td>0.510430</td>\n",
       "      <td>-0.660862</td>\n",
       "      <td>-0.868236</td>\n",
       "      <td>-0.548901</td>\n",
       "      <td>0.089492</td>\n",
       "      <td>0.567460</td>\n",
       "      <td>-0.425037</td>\n",
       "    </tr>\n",
       "    <tr>\n",
       "      <th>love this blue and beautiful sky</th>\n",
       "      <td>-1.204774</td>\n",
       "      <td>0.458085</td>\n",
       "      <td>-0.833338</td>\n",
       "      <td>1.104553</td>\n",
       "      <td>-0.919012</td>\n",
       "      <td>-0.179183</td>\n",
       "      <td>-0.639440</td>\n",
       "      <td>0.066505</td>\n",
       "      <td>0.541388</td>\n",
       "      <td>-0.689463</td>\n",
       "    </tr>\n",
       "    <tr>\n",
       "      <th>the quick brown fox jumps over the lazy dog</th>\n",
       "      <td>-0.392979</td>\n",
       "      <td>-0.568204</td>\n",
       "      <td>-1.745686</td>\n",
       "      <td>-0.445058</td>\n",
       "      <td>0.459197</td>\n",
       "      <td>-1.097641</td>\n",
       "      <td>-0.019236</td>\n",
       "      <td>-0.410119</td>\n",
       "      <td>0.395439</td>\n",
       "      <td>-1.143568</td>\n",
       "    </tr>\n",
       "    <tr>\n",
       "      <th>a kings breakfast has sausages ham bacon eggs toast and beans</th>\n",
       "      <td>0.403289</td>\n",
       "      <td>0.133352</td>\n",
       "      <td>0.090500</td>\n",
       "      <td>-0.387340</td>\n",
       "      <td>-0.589835</td>\n",
       "      <td>0.508636</td>\n",
       "      <td>-1.155621</td>\n",
       "      <td>-0.795676</td>\n",
       "      <td>1.076691</td>\n",
       "      <td>-1.408591</td>\n",
       "    </tr>\n",
       "    <tr>\n",
       "      <th>i love green eggs ham sausages and bacon</th>\n",
       "      <td>-0.260290</td>\n",
       "      <td>-0.112252</td>\n",
       "      <td>-0.215950</td>\n",
       "      <td>0.544712</td>\n",
       "      <td>-0.439302</td>\n",
       "      <td>1.108033</td>\n",
       "      <td>-1.191799</td>\n",
       "      <td>-0.361297</td>\n",
       "      <td>0.810694</td>\n",
       "      <td>-1.341653</td>\n",
       "    </tr>\n",
       "    <tr>\n",
       "      <th>the brown fox is quick and the blue dog is lazy</th>\n",
       "      <td>-0.655273</td>\n",
       "      <td>-0.112480</td>\n",
       "      <td>-1.412061</td>\n",
       "      <td>-0.171668</td>\n",
       "      <td>0.275225</td>\n",
       "      <td>-1.128703</td>\n",
       "      <td>-0.291054</td>\n",
       "      <td>-0.052113</td>\n",
       "      <td>0.424552</td>\n",
       "      <td>-0.763964</td>\n",
       "    </tr>\n",
       "    <tr>\n",
       "      <th>the sky is very blue and the sky is very beautiful today</th>\n",
       "      <td>-1.168732</td>\n",
       "      <td>0.556899</td>\n",
       "      <td>-0.959907</td>\n",
       "      <td>0.521333</td>\n",
       "      <td>-0.719075</td>\n",
       "      <td>-1.211951</td>\n",
       "      <td>-0.400086</td>\n",
       "      <td>0.057257</td>\n",
       "      <td>0.723485</td>\n",
       "      <td>-0.610505</td>\n",
       "    </tr>\n",
       "    <tr>\n",
       "      <th>the dog is lazy but the brown fox is quick</th>\n",
       "      <td>-0.651009</td>\n",
       "      <td>-0.233851</td>\n",
       "      <td>-1.622870</td>\n",
       "      <td>-0.251843</td>\n",
       "      <td>0.412877</td>\n",
       "      <td>-1.314846</td>\n",
       "      <td>-0.215856</td>\n",
       "      <td>-0.195488</td>\n",
       "      <td>0.437747</td>\n",
       "      <td>-0.867432</td>\n",
       "    </tr>\n",
       "  </tbody>\n",
       "</table>\n",
       "</div>"
      ],
      "text/plain": [
       "                                                                      0  \\\n",
       "the sky is blue and beautiful                                 -1.025673   \n",
       "love this blue and beautiful sky                              -1.204774   \n",
       "the quick brown fox jumps over the lazy dog                   -0.392979   \n",
       "a kings breakfast has sausages ham bacon eggs toast and beans  0.403289   \n",
       "i love green eggs ham sausages and bacon                      -0.260290   \n",
       "the brown fox is quick and the blue dog is lazy               -0.655273   \n",
       "the sky is very blue and the sky is very beautiful today      -1.168732   \n",
       "the dog is lazy but the brown fox is quick                    -0.651009   \n",
       "\n",
       "                                                                      1  \\\n",
       "the sky is blue and beautiful                                  0.385626   \n",
       "love this blue and beautiful sky                               0.458085   \n",
       "the quick brown fox jumps over the lazy dog                   -0.568204   \n",
       "a kings breakfast has sausages ham bacon eggs toast and beans  0.133352   \n",
       "i love green eggs ham sausages and bacon                      -0.112252   \n",
       "the brown fox is quick and the blue dog is lazy               -0.112480   \n",
       "the sky is very blue and the sky is very beautiful today       0.556899   \n",
       "the dog is lazy but the brown fox is quick                    -0.233851   \n",
       "\n",
       "                                                                      2  \\\n",
       "the sky is blue and beautiful                                 -1.049794   \n",
       "love this blue and beautiful sky                              -0.833338   \n",
       "the quick brown fox jumps over the lazy dog                   -1.745686   \n",
       "a kings breakfast has sausages ham bacon eggs toast and beans  0.090500   \n",
       "i love green eggs ham sausages and bacon                      -0.215950   \n",
       "the brown fox is quick and the blue dog is lazy               -1.412061   \n",
       "the sky is very blue and the sky is very beautiful today      -0.959907   \n",
       "the dog is lazy but the brown fox is quick                    -1.622870   \n",
       "\n",
       "                                                                      3  \\\n",
       "the sky is blue and beautiful                                  0.510430   \n",
       "love this blue and beautiful sky                               1.104553   \n",
       "the quick brown fox jumps over the lazy dog                   -0.445058   \n",
       "a kings breakfast has sausages ham bacon eggs toast and beans -0.387340   \n",
       "i love green eggs ham sausages and bacon                       0.544712   \n",
       "the brown fox is quick and the blue dog is lazy               -0.171668   \n",
       "the sky is very blue and the sky is very beautiful today       0.521333   \n",
       "the dog is lazy but the brown fox is quick                    -0.251843   \n",
       "\n",
       "                                                                      4  \\\n",
       "the sky is blue and beautiful                                 -0.660862   \n",
       "love this blue and beautiful sky                              -0.919012   \n",
       "the quick brown fox jumps over the lazy dog                    0.459197   \n",
       "a kings breakfast has sausages ham bacon eggs toast and beans -0.589835   \n",
       "i love green eggs ham sausages and bacon                      -0.439302   \n",
       "the brown fox is quick and the blue dog is lazy                0.275225   \n",
       "the sky is very blue and the sky is very beautiful today      -0.719075   \n",
       "the dog is lazy but the brown fox is quick                     0.412877   \n",
       "\n",
       "                                                                      5  \\\n",
       "the sky is blue and beautiful                                 -0.868236   \n",
       "love this blue and beautiful sky                              -0.179183   \n",
       "the quick brown fox jumps over the lazy dog                   -1.097641   \n",
       "a kings breakfast has sausages ham bacon eggs toast and beans  0.508636   \n",
       "i love green eggs ham sausages and bacon                       1.108033   \n",
       "the brown fox is quick and the blue dog is lazy               -1.128703   \n",
       "the sky is very blue and the sky is very beautiful today      -1.211951   \n",
       "the dog is lazy but the brown fox is quick                    -1.314846   \n",
       "\n",
       "                                                                      6  \\\n",
       "the sky is blue and beautiful                                 -0.548901   \n",
       "love this blue and beautiful sky                              -0.639440   \n",
       "the quick brown fox jumps over the lazy dog                   -0.019236   \n",
       "a kings breakfast has sausages ham bacon eggs toast and beans -1.155621   \n",
       "i love green eggs ham sausages and bacon                      -1.191799   \n",
       "the brown fox is quick and the blue dog is lazy               -0.291054   \n",
       "the sky is very blue and the sky is very beautiful today      -0.400086   \n",
       "the dog is lazy but the brown fox is quick                    -0.215856   \n",
       "\n",
       "                                                                      7  \\\n",
       "the sky is blue and beautiful                                  0.089492   \n",
       "love this blue and beautiful sky                               0.066505   \n",
       "the quick brown fox jumps over the lazy dog                   -0.410119   \n",
       "a kings breakfast has sausages ham bacon eggs toast and beans -0.795676   \n",
       "i love green eggs ham sausages and bacon                      -0.361297   \n",
       "the brown fox is quick and the blue dog is lazy               -0.052113   \n",
       "the sky is very blue and the sky is very beautiful today       0.057257   \n",
       "the dog is lazy but the brown fox is quick                    -0.195488   \n",
       "\n",
       "                                                                      8  \\\n",
       "the sky is blue and beautiful                                  0.567460   \n",
       "love this blue and beautiful sky                               0.541388   \n",
       "the quick brown fox jumps over the lazy dog                    0.395439   \n",
       "a kings breakfast has sausages ham bacon eggs toast and beans  1.076691   \n",
       "i love green eggs ham sausages and bacon                       0.810694   \n",
       "the brown fox is quick and the blue dog is lazy                0.424552   \n",
       "the sky is very blue and the sky is very beautiful today       0.723485   \n",
       "the dog is lazy but the brown fox is quick                     0.437747   \n",
       "\n",
       "                                                                      9  \n",
       "the sky is blue and beautiful                                 -0.425037  \n",
       "love this blue and beautiful sky                              -0.689463  \n",
       "the quick brown fox jumps over the lazy dog                   -1.143568  \n",
       "a kings breakfast has sausages ham bacon eggs toast and beans -1.408591  \n",
       "i love green eggs ham sausages and bacon                      -1.341653  \n",
       "the brown fox is quick and the blue dog is lazy               -0.763964  \n",
       "the sky is very blue and the sky is very beautiful today      -0.610505  \n",
       "the dog is lazy but the brown fox is quick                    -0.867432  "
      ]
     },
     "execution_count": 33,
     "metadata": {},
     "output_type": "execute_result"
    }
   ],
   "source": [
    "w2v_feature_array = averaged_word_vectorizer(corpus=corpus_tokens,\n",
    "                                             model=w2v_model,\n",
    "                                             num_features=feature_size)\n",
    "pd.DataFrame(w2v_feature_array, index=corpus_norm)"
   ]
  },
  {
   "cell_type": "markdown",
   "metadata": {
    "id": "OV6jabEQ4-oP",
    "slideshow": {
     "slide_type": "subslide"
    }
   },
   "source": [
    "- Let's cluster these documents based on their **document embeddings**."
   ]
  },
  {
   "cell_type": "code",
   "execution_count": 34,
   "metadata": {
    "slideshow": {
     "slide_type": "subslide"
    }
   },
   "outputs": [
    {
     "data": {
      "text/html": [
       "<div>\n",
       "<style scoped>\n",
       "    .dataframe tbody tr th:only-of-type {\n",
       "        vertical-align: middle;\n",
       "    }\n",
       "\n",
       "    .dataframe tbody tr th {\n",
       "        vertical-align: top;\n",
       "    }\n",
       "\n",
       "    .dataframe thead th {\n",
       "        text-align: right;\n",
       "    }\n",
       "</style>\n",
       "<table border=\"1\" class=\"dataframe\">\n",
       "  <thead>\n",
       "    <tr style=\"text-align: right;\">\n",
       "      <th></th>\n",
       "      <th>0</th>\n",
       "      <th>1</th>\n",
       "      <th>2</th>\n",
       "      <th>3</th>\n",
       "      <th>4</th>\n",
       "      <th>5</th>\n",
       "      <th>6</th>\n",
       "      <th>7</th>\n",
       "    </tr>\n",
       "  </thead>\n",
       "  <tbody>\n",
       "    <tr>\n",
       "      <th>0</th>\n",
       "      <td>1.000000</td>\n",
       "      <td>0.901241</td>\n",
       "      <td>0.561713</td>\n",
       "      <td>0.202711</td>\n",
       "      <td>0.330573</td>\n",
       "      <td>0.767413</td>\n",
       "      <td>0.983230</td>\n",
       "      <td>0.708357</td>\n",
       "    </tr>\n",
       "    <tr>\n",
       "      <th>1</th>\n",
       "      <td>0.901241</td>\n",
       "      <td>1.000000</td>\n",
       "      <td>0.313854</td>\n",
       "      <td>0.301785</td>\n",
       "      <td>0.583546</td>\n",
       "      <td>0.509708</td>\n",
       "      <td>0.864261</td>\n",
       "      <td>0.437844</td>\n",
       "    </tr>\n",
       "    <tr>\n",
       "      <th>2</th>\n",
       "      <td>0.561713</td>\n",
       "      <td>0.313854</td>\n",
       "      <td>1.000000</td>\n",
       "      <td>0.208633</td>\n",
       "      <td>0.144338</td>\n",
       "      <td>0.942269</td>\n",
       "      <td>0.561763</td>\n",
       "      <td>0.966901</td>\n",
       "    </tr>\n",
       "    <tr>\n",
       "      <th>3</th>\n",
       "      <td>0.202711</td>\n",
       "      <td>0.301785</td>\n",
       "      <td>0.208633</td>\n",
       "      <td>1.000000</td>\n",
       "      <td>0.822919</td>\n",
       "      <td>0.156876</td>\n",
       "      <td>0.196729</td>\n",
       "      <td>0.138610</td>\n",
       "    </tr>\n",
       "    <tr>\n",
       "      <th>4</th>\n",
       "      <td>0.330573</td>\n",
       "      <td>0.583546</td>\n",
       "      <td>0.144338</td>\n",
       "      <td>0.822919</td>\n",
       "      <td>1.000000</td>\n",
       "      <td>0.145031</td>\n",
       "      <td>0.266458</td>\n",
       "      <td>0.103276</td>\n",
       "    </tr>\n",
       "    <tr>\n",
       "      <th>5</th>\n",
       "      <td>0.767413</td>\n",
       "      <td>0.509708</td>\n",
       "      <td>0.942269</td>\n",
       "      <td>0.156876</td>\n",
       "      <td>0.145031</td>\n",
       "      <td>1.000000</td>\n",
       "      <td>0.766367</td>\n",
       "      <td>0.994382</td>\n",
       "    </tr>\n",
       "    <tr>\n",
       "      <th>6</th>\n",
       "      <td>0.983230</td>\n",
       "      <td>0.864261</td>\n",
       "      <td>0.561763</td>\n",
       "      <td>0.196729</td>\n",
       "      <td>0.266458</td>\n",
       "      <td>0.766367</td>\n",
       "      <td>1.000000</td>\n",
       "      <td>0.711530</td>\n",
       "    </tr>\n",
       "    <tr>\n",
       "      <th>7</th>\n",
       "      <td>0.708357</td>\n",
       "      <td>0.437844</td>\n",
       "      <td>0.966901</td>\n",
       "      <td>0.138610</td>\n",
       "      <td>0.103276</td>\n",
       "      <td>0.994382</td>\n",
       "      <td>0.711530</td>\n",
       "      <td>1.000000</td>\n",
       "    </tr>\n",
       "  </tbody>\n",
       "</table>\n",
       "</div>"
      ],
      "text/plain": [
       "          0         1         2         3         4         5         6  \\\n",
       "0  1.000000  0.901241  0.561713  0.202711  0.330573  0.767413  0.983230   \n",
       "1  0.901241  1.000000  0.313854  0.301785  0.583546  0.509708  0.864261   \n",
       "2  0.561713  0.313854  1.000000  0.208633  0.144338  0.942269  0.561763   \n",
       "3  0.202711  0.301785  0.208633  1.000000  0.822919  0.156876  0.196729   \n",
       "4  0.330573  0.583546  0.144338  0.822919  1.000000  0.145031  0.266458   \n",
       "5  0.767413  0.509708  0.942269  0.156876  0.145031  1.000000  0.766367   \n",
       "6  0.983230  0.864261  0.561763  0.196729  0.266458  0.766367  1.000000   \n",
       "7  0.708357  0.437844  0.966901  0.138610  0.103276  0.994382  0.711530   \n",
       "\n",
       "          7  \n",
       "0  0.708357  \n",
       "1  0.437844  \n",
       "2  0.966901  \n",
       "3  0.138610  \n",
       "4  0.103276  \n",
       "5  0.994382  \n",
       "6  0.711530  \n",
       "7  1.000000  "
      ]
     },
     "execution_count": 34,
     "metadata": {},
     "output_type": "execute_result"
    }
   ],
   "source": [
    "from sklearn.metrics.pairwise import cosine_similarity\n",
    "import pandas as pd\n",
    "\n",
    "similarity_doc_matrix = cosine_similarity(w2v_feature_array)\n",
    "similarity_doc_df = pd.DataFrame(similarity_doc_matrix)\n",
    "similarity_doc_df"
   ]
  },
  {
   "cell_type": "code",
   "execution_count": 35,
   "metadata": {
    "slideshow": {
     "slide_type": "subslide"
    }
   },
   "outputs": [
    {
     "data": {
      "text/plain": [
       "<matplotlib.lines.Line2D at 0x15b363790>"
      ]
     },
     "execution_count": 35,
     "metadata": {},
     "output_type": "execute_result"
    },
    {
     "data": {
      "image/png": "[encoded data removed]",
      "text/plain": [
       "<Figure size 432x288 with 1 Axes>"
      ]
     },
     "metadata": {
      "needs_background": "light"
     },
     "output_type": "display_data"
    }
   ],
   "source": [
    "from scipy.cluster.hierarchy import dendrogram, linkage\n",
    "\n",
    "Z = linkage(similarity_doc_matrix, 'ward')\n",
    "plt.title('Hierarchical Clustering Dendrogram')\n",
    "plt.xlabel('Data point')\n",
    "plt.ylabel('Distance')\n",
    "dendrogram(Z,\n",
    "           labels=corpus_norm,\n",
    "           leaf_rotation=0,\n",
    "           leaf_font_size=8,\n",
    "           orientation='right',\n",
    "           color_threshold=0.5)\n",
    "plt.axvline(x=0.5, c='k', ls='--', lw=0.5)"
   ]
  },
  {
   "cell_type": "code",
   "execution_count": 36,
   "metadata": {
    "colab": {
     "base_uri": "https://localhost:8080/",
     "height": 294
    },
    "executionInfo": {
     "elapsed": 266463,
     "status": "ok",
     "timestamp": 1616205237651,
     "user": {
      "displayName": "Alvin Chen",
      "photoUrl": "",
      "userId": "12962786962925949010"
     },
     "user_tz": -480
    },
    "id": "C1MY-W4D4-oQ",
    "outputId": "15e12d0c-ea97-4beb-8b9b-4a92f00e9f68",
    "slideshow": {
     "slide_type": "skip"
    }
   },
   "outputs": [
    {
     "data": {
      "image/png": "[encoded data removed]",
      "text/plain": [
       "<Figure size 576x432 with 1 Axes>"
      ]
     },
     "metadata": {
      "needs_background": "light"
     },
     "output_type": "display_data"
    }
   ],
   "source": [
    "## Other Clustering Methods\n",
    "\n",
    "from sklearn.cluster import AffinityPropagation\n",
    "\n",
    "ap = AffinityPropagation()\n",
    "ap.fit(w2v_feature_array)\n",
    "cluster_labels = ap.labels_\n",
    "cluster_labels = pd.DataFrame(cluster_labels, columns=['ClusterLabel'])\n",
    "pd.concat([corpus_df, cluster_labels], axis=1)\n",
    "\n",
    "## PCA Plotting\n",
    "from sklearn.decomposition import PCA\n",
    "\n",
    "pca = PCA(n_components=2, random_state=0)\n",
    "pcs = pca.fit_transform(w2v_feature_array)\n",
    "labels = ap.labels_\n",
    "categories = list(corpus_df['Category'])\n",
    "plt.figure(figsize=(8, 6))\n",
    "\n",
    "for i in range(len(labels)):\n",
    "    label = labels[i]\n",
    "    color = 'orange' if label == 0 else 'blue' if label == 1 else 'green'\n",
    "    annotation_label = categories[i]\n",
    "    x, y = pcs[i]\n",
    "    plt.scatter(x, y, c=color, edgecolors='k')\n",
    "    plt.annotate(annotation_label,\n",
    "                 xy=(x + 1e-4, y + 1e-3),\n",
    "                 xytext=(0, 0),\n",
    "                 textcoords='offset points')"
   ]
  },
  {
   "cell_type": "markdown",
   "metadata": {
    "id": "XsHYCElN4-oQ",
    "slideshow": {
     "slide_type": "slide"
    }
   },
   "source": [
    "## Using Pre-trained Embeddings:  GloVe in `spacy`"
   ]
  },
  {
   "cell_type": "code",
   "execution_count": 38,
   "metadata": {
    "colab": {
     "base_uri": "https://localhost:8080/"
    },
    "executionInfo": {
     "elapsed": 270618,
     "status": "ok",
     "timestamp": 1616205241810,
     "user": {
      "displayName": "Alvin Chen",
      "photoUrl": "",
      "userId": "12962786962925949010"
     },
     "user_tz": -480
    },
    "id": "iI3A8TVr4-oQ",
    "outputId": "a45ccee9-5b48-40a3-aa90-04307d05e3cd",
    "slideshow": {
     "slide_type": "subslide"
    }
   },
   "outputs": [
    {
     "name": "stdout",
     "output_type": "stream",
     "text": [
      "Total word vectors: 0\n"
     ]
    }
   ],
   "source": [
    "import spacy\n",
    "\n",
    "\n",
    "nlp = spacy.load('en_core_web_sm',disable=['parse','entity'])\n",
    "\n",
    "total_vectors = len(nlp.vocab.vectors)\n",
    "print('Total word vectors:', total_vectors)"
   ]
  },
  {
   "cell_type": "code",
   "execution_count": 39,
   "metadata": {
    "slideshow": {
     "slide_type": "subslide"
    }
   },
   "outputs": [
    {
     "name": "stdout",
     "output_type": "stream",
     "text": [
      "3.5.4\n"
     ]
    }
   ],
   "source": [
    "print(spacy.__version__)"
   ]
  },
  {
   "cell_type": "markdown",
   "metadata": {
    "id": "9UODudJG4-oR",
    "slideshow": {
     "slide_type": "slide"
    }
   },
   "source": [
    "### Visualize GloVe word embeddings\n",
    "\n",
    "- Let's extract the GloVe pretrained embeddings for all the words in our simple corpus.\n",
    "- And we visualize their embeddings in a 2D plot via dimensional reduction."
   ]
  },
  {
   "cell_type": "markdown",
   "metadata": {
    "id": "9UODudJG4-oR",
    "slideshow": {
     "slide_type": "subslide"
    }
   },
   "source": [
    ":::{warning}\n",
    "When using pre-trained embeddings, there are two important things:\n",
    "- Be very careful of the **tokenization** methods used in your text preprocessing. If you use a very different word tokenization method, you may find a lot of **unknown** words that are not included in the pretrained model.\n",
    "- Always check the **proportion of the unknown words** when vectorizing your corpus texts with pre-trained embeddings.\n",
    ":::"
   ]
  },
  {
   "cell_type": "code",
   "execution_count": 42,
   "metadata": {
    "colab": {
     "base_uri": "https://localhost:8080/",
     "height": 711
    },
    "executionInfo": {
     "elapsed": 270881,
     "status": "ok",
     "timestamp": 1616205242075,
     "user": {
      "displayName": "Alvin Chen",
      "photoUrl": "",
      "userId": "12962786962925949010"
     },
     "user_tz": -480
    },
    "id": "9rGLuaAx4-oR",
    "outputId": "d58c7154-0f5f-438e-8b9f-91865df6df8f",
    "slideshow": {
     "slide_type": "subslide"
    }
   },
   "outputs": [
    {
     "data": {
      "text/html": [
       "<div>\n",
       "<style scoped>\n",
       "    .dataframe tbody tr th:only-of-type {\n",
       "        vertical-align: middle;\n",
       "    }\n",
       "\n",
       "    .dataframe tbody tr th {\n",
       "        vertical-align: top;\n",
       "    }\n",
       "\n",
       "    .dataframe thead th {\n",
       "        text-align: right;\n",
       "    }\n",
       "</style>\n",
       "<table border=\"1\" class=\"dataframe\">\n",
       "  <thead>\n",
       "    <tr style=\"text-align: right;\">\n",
       "      <th></th>\n",
       "      <th>0</th>\n",
       "      <th>1</th>\n",
       "      <th>2</th>\n",
       "      <th>3</th>\n",
       "      <th>4</th>\n",
       "      <th>5</th>\n",
       "      <th>6</th>\n",
       "      <th>7</th>\n",
       "      <th>8</th>\n",
       "      <th>9</th>\n",
       "      <th>...</th>\n",
       "      <th>86</th>\n",
       "      <th>87</th>\n",
       "      <th>88</th>\n",
       "      <th>89</th>\n",
       "      <th>90</th>\n",
       "      <th>91</th>\n",
       "      <th>92</th>\n",
       "      <th>93</th>\n",
       "      <th>94</th>\n",
       "      <th>95</th>\n",
       "    </tr>\n",
       "  </thead>\n",
       "  <tbody>\n",
       "    <tr>\n",
       "      <th>eggs</th>\n",
       "      <td>-1.297392</td>\n",
       "      <td>1.158260</td>\n",
       "      <td>-0.816274</td>\n",
       "      <td>1.056100</td>\n",
       "      <td>0.815064</td>\n",
       "      <td>-0.748527</td>\n",
       "      <td>1.410166</td>\n",
       "      <td>0.772055</td>\n",
       "      <td>0.981865</td>\n",
       "      <td>-0.946172</td>\n",
       "      <td>...</td>\n",
       "      <td>-0.929507</td>\n",
       "      <td>0.640614</td>\n",
       "      <td>-0.525295</td>\n",
       "      <td>0.420553</td>\n",
       "      <td>-1.224993</td>\n",
       "      <td>-0.113389</td>\n",
       "      <td>1.944303</td>\n",
       "      <td>0.202356</td>\n",
       "      <td>0.006850</td>\n",
       "      <td>0.784401</td>\n",
       "    </tr>\n",
       "    <tr>\n",
       "      <th>beautiful</th>\n",
       "      <td>-1.981197</td>\n",
       "      <td>-1.085511</td>\n",
       "      <td>-0.495878</td>\n",
       "      <td>0.908991</td>\n",
       "      <td>-0.765072</td>\n",
       "      <td>0.368210</td>\n",
       "      <td>0.533828</td>\n",
       "      <td>0.598339</td>\n",
       "      <td>0.157835</td>\n",
       "      <td>-1.119861</td>\n",
       "      <td>...</td>\n",
       "      <td>0.119182</td>\n",
       "      <td>0.332911</td>\n",
       "      <td>-1.044088</td>\n",
       "      <td>0.527054</td>\n",
       "      <td>0.264596</td>\n",
       "      <td>0.141068</td>\n",
       "      <td>1.396086</td>\n",
       "      <td>0.909145</td>\n",
       "      <td>-0.375545</td>\n",
       "      <td>0.587217</td>\n",
       "    </tr>\n",
       "    <tr>\n",
       "      <th>a</th>\n",
       "      <td>0.445624</td>\n",
       "      <td>0.040820</td>\n",
       "      <td>-1.044201</td>\n",
       "      <td>0.977903</td>\n",
       "      <td>0.343366</td>\n",
       "      <td>0.434702</td>\n",
       "      <td>-0.532973</td>\n",
       "      <td>0.914784</td>\n",
       "      <td>0.640789</td>\n",
       "      <td>1.057252</td>\n",
       "      <td>...</td>\n",
       "      <td>0.890635</td>\n",
       "      <td>-0.494442</td>\n",
       "      <td>-0.669522</td>\n",
       "      <td>0.849890</td>\n",
       "      <td>-0.475511</td>\n",
       "      <td>-0.044901</td>\n",
       "      <td>-1.019666</td>\n",
       "      <td>-0.434723</td>\n",
       "      <td>-0.855158</td>\n",
       "      <td>-0.277925</td>\n",
       "    </tr>\n",
       "    <tr>\n",
       "      <th>sausages</th>\n",
       "      <td>-1.551236</td>\n",
       "      <td>1.381497</td>\n",
       "      <td>-0.690470</td>\n",
       "      <td>0.578089</td>\n",
       "      <td>1.516763</td>\n",
       "      <td>-0.319808</td>\n",
       "      <td>1.896638</td>\n",
       "      <td>0.390757</td>\n",
       "      <td>0.864699</td>\n",
       "      <td>-0.613225</td>\n",
       "      <td>...</td>\n",
       "      <td>-0.803906</td>\n",
       "      <td>-0.313376</td>\n",
       "      <td>-0.481047</td>\n",
       "      <td>-0.324135</td>\n",
       "      <td>-1.256292</td>\n",
       "      <td>0.100420</td>\n",
       "      <td>1.357908</td>\n",
       "      <td>0.602705</td>\n",
       "      <td>0.325189</td>\n",
       "      <td>0.501014</td>\n",
       "    </tr>\n",
       "    <tr>\n",
       "      <th>sky</th>\n",
       "      <td>-1.052380</td>\n",
       "      <td>-0.623966</td>\n",
       "      <td>-1.247646</td>\n",
       "      <td>0.173334</td>\n",
       "      <td>-0.280415</td>\n",
       "      <td>0.423770</td>\n",
       "      <td>1.136191</td>\n",
       "      <td>1.594746</td>\n",
       "      <td>-0.112143</td>\n",
       "      <td>0.024372</td>\n",
       "      <td>...</td>\n",
       "      <td>-0.081687</td>\n",
       "      <td>-0.557614</td>\n",
       "      <td>-1.442796</td>\n",
       "      <td>1.067169</td>\n",
       "      <td>-0.304729</td>\n",
       "      <td>-0.230831</td>\n",
       "      <td>1.200994</td>\n",
       "      <td>0.827422</td>\n",
       "      <td>0.558651</td>\n",
       "      <td>1.421518</td>\n",
       "    </tr>\n",
       "    <tr>\n",
       "      <th>jumps</th>\n",
       "      <td>-0.809289</td>\n",
       "      <td>1.028575</td>\n",
       "      <td>0.142154</td>\n",
       "      <td>1.195198</td>\n",
       "      <td>-0.892427</td>\n",
       "      <td>-0.613777</td>\n",
       "      <td>1.158633</td>\n",
       "      <td>0.491403</td>\n",
       "      <td>0.826156</td>\n",
       "      <td>-0.908024</td>\n",
       "      <td>...</td>\n",
       "      <td>-0.968901</td>\n",
       "      <td>0.572921</td>\n",
       "      <td>0.224079</td>\n",
       "      <td>-0.167506</td>\n",
       "      <td>0.545909</td>\n",
       "      <td>0.819458</td>\n",
       "      <td>-0.053826</td>\n",
       "      <td>0.179755</td>\n",
       "      <td>-0.520523</td>\n",
       "      <td>1.177554</td>\n",
       "    </tr>\n",
       "    <tr>\n",
       "      <th>bacon</th>\n",
       "      <td>-1.484836</td>\n",
       "      <td>-0.526327</td>\n",
       "      <td>-0.839054</td>\n",
       "      <td>-0.176428</td>\n",
       "      <td>0.484847</td>\n",
       "      <td>0.140633</td>\n",
       "      <td>0.748910</td>\n",
       "      <td>1.224433</td>\n",
       "      <td>0.124089</td>\n",
       "      <td>0.034701</td>\n",
       "      <td>...</td>\n",
       "      <td>0.007322</td>\n",
       "      <td>-0.371588</td>\n",
       "      <td>-1.953568</td>\n",
       "      <td>1.160531</td>\n",
       "      <td>-0.463557</td>\n",
       "      <td>-0.028599</td>\n",
       "      <td>1.411305</td>\n",
       "      <td>0.775448</td>\n",
       "      <td>0.868626</td>\n",
       "      <td>1.153851</td>\n",
       "    </tr>\n",
       "    <tr>\n",
       "      <th>i</th>\n",
       "      <td>-1.993811</td>\n",
       "      <td>-0.266061</td>\n",
       "      <td>-0.210171</td>\n",
       "      <td>-0.306936</td>\n",
       "      <td>-0.040057</td>\n",
       "      <td>-0.104719</td>\n",
       "      <td>2.012425</td>\n",
       "      <td>0.467140</td>\n",
       "      <td>0.367587</td>\n",
       "      <td>-0.688097</td>\n",
       "      <td>...</td>\n",
       "      <td>-0.367412</td>\n",
       "      <td>-0.188884</td>\n",
       "      <td>0.805614</td>\n",
       "      <td>0.037096</td>\n",
       "      <td>1.218038</td>\n",
       "      <td>-0.012631</td>\n",
       "      <td>0.766386</td>\n",
       "      <td>-0.338247</td>\n",
       "      <td>-0.670582</td>\n",
       "      <td>1.593813</td>\n",
       "    </tr>\n",
       "    <tr>\n",
       "      <th>quick</th>\n",
       "      <td>-0.808211</td>\n",
       "      <td>-1.721902</td>\n",
       "      <td>-0.849621</td>\n",
       "      <td>-0.323724</td>\n",
       "      <td>-0.733217</td>\n",
       "      <td>-0.200044</td>\n",
       "      <td>0.316565</td>\n",
       "      <td>1.306867</td>\n",
       "      <td>-0.375950</td>\n",
       "      <td>-0.764119</td>\n",
       "      <td>...</td>\n",
       "      <td>-0.344666</td>\n",
       "      <td>0.631241</td>\n",
       "      <td>-0.250259</td>\n",
       "      <td>1.216615</td>\n",
       "      <td>1.283587</td>\n",
       "      <td>0.036267</td>\n",
       "      <td>1.192510</td>\n",
       "      <td>1.531458</td>\n",
       "      <td>-1.331324</td>\n",
       "      <td>0.637828</td>\n",
       "    </tr>\n",
       "    <tr>\n",
       "      <th>dog</th>\n",
       "      <td>-1.680668</td>\n",
       "      <td>-1.266374</td>\n",
       "      <td>-0.712555</td>\n",
       "      <td>0.221439</td>\n",
       "      <td>0.285816</td>\n",
       "      <td>0.239243</td>\n",
       "      <td>1.299264</td>\n",
       "      <td>1.068364</td>\n",
       "      <td>-0.166650</td>\n",
       "      <td>-0.593021</td>\n",
       "      <td>...</td>\n",
       "      <td>0.311112</td>\n",
       "      <td>-0.469987</td>\n",
       "      <td>-2.129951</td>\n",
       "      <td>1.172860</td>\n",
       "      <td>-1.284266</td>\n",
       "      <td>-1.117903</td>\n",
       "      <td>1.596463</td>\n",
       "      <td>0.511931</td>\n",
       "      <td>0.220327</td>\n",
       "      <td>1.620028</td>\n",
       "    </tr>\n",
       "    <tr>\n",
       "      <th>beans</th>\n",
       "      <td>-1.068852</td>\n",
       "      <td>1.167118</td>\n",
       "      <td>-0.484017</td>\n",
       "      <td>0.891425</td>\n",
       "      <td>1.399791</td>\n",
       "      <td>-0.477653</td>\n",
       "      <td>1.326169</td>\n",
       "      <td>0.747473</td>\n",
       "      <td>1.092705</td>\n",
       "      <td>-0.092148</td>\n",
       "      <td>...</td>\n",
       "      <td>-1.138134</td>\n",
       "      <td>-0.107772</td>\n",
       "      <td>0.300590</td>\n",
       "      <td>0.501320</td>\n",
       "      <td>-0.806155</td>\n",
       "      <td>0.883533</td>\n",
       "      <td>1.994725</td>\n",
       "      <td>0.569794</td>\n",
       "      <td>0.480497</td>\n",
       "      <td>0.148873</td>\n",
       "    </tr>\n",
       "    <tr>\n",
       "      <th>lazy</th>\n",
       "      <td>-1.349924</td>\n",
       "      <td>-1.008392</td>\n",
       "      <td>-0.377253</td>\n",
       "      <td>-0.534368</td>\n",
       "      <td>-0.737286</td>\n",
       "      <td>0.438626</td>\n",
       "      <td>0.275777</td>\n",
       "      <td>0.426540</td>\n",
       "      <td>-0.384914</td>\n",
       "      <td>-1.091949</td>\n",
       "      <td>...</td>\n",
       "      <td>-0.174180</td>\n",
       "      <td>0.558309</td>\n",
       "      <td>-0.641799</td>\n",
       "      <td>1.153933</td>\n",
       "      <td>1.125221</td>\n",
       "      <td>0.256873</td>\n",
       "      <td>0.825007</td>\n",
       "      <td>1.489886</td>\n",
       "      <td>0.163207</td>\n",
       "      <td>0.548744</td>\n",
       "    </tr>\n",
       "    <tr>\n",
       "      <th>has</th>\n",
       "      <td>-0.816400</td>\n",
       "      <td>-0.586754</td>\n",
       "      <td>-1.149105</td>\n",
       "      <td>0.388758</td>\n",
       "      <td>0.561820</td>\n",
       "      <td>1.324211</td>\n",
       "      <td>0.726742</td>\n",
       "      <td>0.121942</td>\n",
       "      <td>0.886533</td>\n",
       "      <td>1.260011</td>\n",
       "      <td>...</td>\n",
       "      <td>-1.520276</td>\n",
       "      <td>0.172569</td>\n",
       "      <td>1.202618</td>\n",
       "      <td>-0.608210</td>\n",
       "      <td>-0.100047</td>\n",
       "      <td>-0.234273</td>\n",
       "      <td>0.720248</td>\n",
       "      <td>0.204601</td>\n",
       "      <td>-1.233299</td>\n",
       "      <td>-0.132075</td>\n",
       "    </tr>\n",
       "    <tr>\n",
       "      <th>ham</th>\n",
       "      <td>-0.952584</td>\n",
       "      <td>-0.859383</td>\n",
       "      <td>-0.512346</td>\n",
       "      <td>-0.397440</td>\n",
       "      <td>-0.272660</td>\n",
       "      <td>0.141939</td>\n",
       "      <td>-0.206824</td>\n",
       "      <td>1.338140</td>\n",
       "      <td>0.240586</td>\n",
       "      <td>-0.777376</td>\n",
       "      <td>...</td>\n",
       "      <td>0.466846</td>\n",
       "      <td>-0.185779</td>\n",
       "      <td>-1.645292</td>\n",
       "      <td>0.239415</td>\n",
       "      <td>-0.960014</td>\n",
       "      <td>0.846002</td>\n",
       "      <td>0.562277</td>\n",
       "      <td>0.380782</td>\n",
       "      <td>0.955904</td>\n",
       "      <td>0.844923</td>\n",
       "    </tr>\n",
       "    <tr>\n",
       "      <th>today</th>\n",
       "      <td>-0.818719</td>\n",
       "      <td>-1.463490</td>\n",
       "      <td>-0.576256</td>\n",
       "      <td>-1.777408</td>\n",
       "      <td>-0.816109</td>\n",
       "      <td>-1.116335</td>\n",
       "      <td>-0.125725</td>\n",
       "      <td>2.077141</td>\n",
       "      <td>-0.168442</td>\n",
       "      <td>-0.217695</td>\n",
       "      <td>...</td>\n",
       "      <td>2.928388</td>\n",
       "      <td>1.940016</td>\n",
       "      <td>-0.906605</td>\n",
       "      <td>1.027404</td>\n",
       "      <td>-1.825106</td>\n",
       "      <td>0.496492</td>\n",
       "      <td>0.637674</td>\n",
       "      <td>0.839445</td>\n",
       "      <td>0.745934</td>\n",
       "      <td>-0.141063</td>\n",
       "    </tr>\n",
       "    <tr>\n",
       "      <th>toast</th>\n",
       "      <td>-0.511126</td>\n",
       "      <td>-1.450968</td>\n",
       "      <td>-0.677772</td>\n",
       "      <td>-0.366755</td>\n",
       "      <td>-0.637132</td>\n",
       "      <td>-0.223210</td>\n",
       "      <td>-0.398685</td>\n",
       "      <td>1.043328</td>\n",
       "      <td>0.483847</td>\n",
       "      <td>-0.570177</td>\n",
       "      <td>...</td>\n",
       "      <td>0.803359</td>\n",
       "      <td>0.164432</td>\n",
       "      <td>-1.173489</td>\n",
       "      <td>0.853854</td>\n",
       "      <td>-1.316678</td>\n",
       "      <td>0.347120</td>\n",
       "      <td>0.963565</td>\n",
       "      <td>1.096257</td>\n",
       "      <td>0.741654</td>\n",
       "      <td>0.422103</td>\n",
       "    </tr>\n",
       "    <tr>\n",
       "      <th>very</th>\n",
       "      <td>0.179364</td>\n",
       "      <td>-0.142232</td>\n",
       "      <td>-1.542073</td>\n",
       "      <td>-0.390681</td>\n",
       "      <td>0.221738</td>\n",
       "      <td>-0.352646</td>\n",
       "      <td>1.095366</td>\n",
       "      <td>0.634386</td>\n",
       "      <td>0.249361</td>\n",
       "      <td>-0.077876</td>\n",
       "      <td>...</td>\n",
       "      <td>0.737402</td>\n",
       "      <td>-0.546005</td>\n",
       "      <td>-0.673379</td>\n",
       "      <td>0.705251</td>\n",
       "      <td>1.651500</td>\n",
       "      <td>-0.794369</td>\n",
       "      <td>0.578590</td>\n",
       "      <td>1.237230</td>\n",
       "      <td>-1.189028</td>\n",
       "      <td>-1.221863</td>\n",
       "    </tr>\n",
       "    <tr>\n",
       "      <th>and</th>\n",
       "      <td>-0.749836</td>\n",
       "      <td>-0.864052</td>\n",
       "      <td>-1.123196</td>\n",
       "      <td>0.288821</td>\n",
       "      <td>-0.685820</td>\n",
       "      <td>2.549688</td>\n",
       "      <td>-0.118120</td>\n",
       "      <td>0.279010</td>\n",
       "      <td>-0.123277</td>\n",
       "      <td>1.001370</td>\n",
       "      <td>...</td>\n",
       "      <td>0.707131</td>\n",
       "      <td>1.457647</td>\n",
       "      <td>-0.714177</td>\n",
       "      <td>-0.498196</td>\n",
       "      <td>-0.281577</td>\n",
       "      <td>0.980062</td>\n",
       "      <td>-0.475814</td>\n",
       "      <td>0.466685</td>\n",
       "      <td>-0.855074</td>\n",
       "      <td>-0.479473</td>\n",
       "    </tr>\n",
       "    <tr>\n",
       "      <th>the</th>\n",
       "      <td>0.171047</td>\n",
       "      <td>-0.199269</td>\n",
       "      <td>-0.745276</td>\n",
       "      <td>0.178762</td>\n",
       "      <td>-0.363477</td>\n",
       "      <td>0.347444</td>\n",
       "      <td>-1.003620</td>\n",
       "      <td>0.021227</td>\n",
       "      <td>0.238515</td>\n",
       "      <td>1.270073</td>\n",
       "      <td>...</td>\n",
       "      <td>1.609505</td>\n",
       "      <td>-0.592565</td>\n",
       "      <td>-0.546699</td>\n",
       "      <td>1.053596</td>\n",
       "      <td>-0.962386</td>\n",
       "      <td>0.352104</td>\n",
       "      <td>-0.288018</td>\n",
       "      <td>-0.706722</td>\n",
       "      <td>-0.514224</td>\n",
       "      <td>-0.020832</td>\n",
       "    </tr>\n",
       "    <tr>\n",
       "      <th>green</th>\n",
       "      <td>-1.185332</td>\n",
       "      <td>-1.172187</td>\n",
       "      <td>-0.342883</td>\n",
       "      <td>0.147804</td>\n",
       "      <td>-0.441741</td>\n",
       "      <td>-0.421923</td>\n",
       "      <td>-0.664020</td>\n",
       "      <td>0.015956</td>\n",
       "      <td>0.544560</td>\n",
       "      <td>-1.225485</td>\n",
       "      <td>...</td>\n",
       "      <td>0.885219</td>\n",
       "      <td>1.026413</td>\n",
       "      <td>-0.446825</td>\n",
       "      <td>1.726705</td>\n",
       "      <td>0.148405</td>\n",
       "      <td>0.407081</td>\n",
       "      <td>0.922681</td>\n",
       "      <td>1.281653</td>\n",
       "      <td>-1.018726</td>\n",
       "      <td>0.706706</td>\n",
       "    </tr>\n",
       "    <tr>\n",
       "      <th>brown</th>\n",
       "      <td>-0.876515</td>\n",
       "      <td>-1.404033</td>\n",
       "      <td>-0.920570</td>\n",
       "      <td>0.893428</td>\n",
       "      <td>0.632113</td>\n",
       "      <td>-0.000901</td>\n",
       "      <td>-0.270705</td>\n",
       "      <td>1.450482</td>\n",
       "      <td>1.094554</td>\n",
       "      <td>-1.343019</td>\n",
       "      <td>...</td>\n",
       "      <td>0.900336</td>\n",
       "      <td>0.143640</td>\n",
       "      <td>-0.650320</td>\n",
       "      <td>0.453211</td>\n",
       "      <td>-0.052952</td>\n",
       "      <td>0.508944</td>\n",
       "      <td>1.487840</td>\n",
       "      <td>0.490526</td>\n",
       "      <td>0.128303</td>\n",
       "      <td>1.059052</td>\n",
       "    </tr>\n",
       "    <tr>\n",
       "      <th>blue</th>\n",
       "      <td>-1.241533</td>\n",
       "      <td>-1.403888</td>\n",
       "      <td>-0.906116</td>\n",
       "      <td>0.713846</td>\n",
       "      <td>0.730656</td>\n",
       "      <td>-0.184642</td>\n",
       "      <td>-0.275212</td>\n",
       "      <td>1.047278</td>\n",
       "      <td>0.211378</td>\n",
       "      <td>-0.573579</td>\n",
       "      <td>...</td>\n",
       "      <td>0.483817</td>\n",
       "      <td>1.536532</td>\n",
       "      <td>-0.535280</td>\n",
       "      <td>0.327238</td>\n",
       "      <td>-0.723836</td>\n",
       "      <td>0.332048</td>\n",
       "      <td>0.652643</td>\n",
       "      <td>1.130325</td>\n",
       "      <td>-0.458007</td>\n",
       "      <td>0.830703</td>\n",
       "    </tr>\n",
       "    <tr>\n",
       "      <th>fox</th>\n",
       "      <td>-1.063213</td>\n",
       "      <td>-1.183251</td>\n",
       "      <td>0.301696</td>\n",
       "      <td>0.807676</td>\n",
       "      <td>-0.038768</td>\n",
       "      <td>0.154243</td>\n",
       "      <td>0.943619</td>\n",
       "      <td>1.364023</td>\n",
       "      <td>0.090330</td>\n",
       "      <td>-0.779429</td>\n",
       "      <td>...</td>\n",
       "      <td>-0.005095</td>\n",
       "      <td>-0.514685</td>\n",
       "      <td>-1.359398</td>\n",
       "      <td>1.482487</td>\n",
       "      <td>-0.727252</td>\n",
       "      <td>-0.679084</td>\n",
       "      <td>1.143468</td>\n",
       "      <td>0.792078</td>\n",
       "      <td>0.315267</td>\n",
       "      <td>1.307671</td>\n",
       "    </tr>\n",
       "    <tr>\n",
       "      <th>is</th>\n",
       "      <td>-0.686803</td>\n",
       "      <td>1.201411</td>\n",
       "      <td>-0.365061</td>\n",
       "      <td>0.023410</td>\n",
       "      <td>-0.911158</td>\n",
       "      <td>-0.636755</td>\n",
       "      <td>0.201880</td>\n",
       "      <td>0.615606</td>\n",
       "      <td>1.178941</td>\n",
       "      <td>0.296924</td>\n",
       "      <td>...</td>\n",
       "      <td>-0.182100</td>\n",
       "      <td>0.782834</td>\n",
       "      <td>-0.252753</td>\n",
       "      <td>-0.966379</td>\n",
       "      <td>0.038495</td>\n",
       "      <td>-0.473968</td>\n",
       "      <td>-0.116784</td>\n",
       "      <td>-0.699781</td>\n",
       "      <td>-0.844511</td>\n",
       "      <td>0.400906</td>\n",
       "    </tr>\n",
       "    <tr>\n",
       "      <th>but</th>\n",
       "      <td>-0.617007</td>\n",
       "      <td>-1.335470</td>\n",
       "      <td>-1.274921</td>\n",
       "      <td>0.456699</td>\n",
       "      <td>0.492685</td>\n",
       "      <td>0.975719</td>\n",
       "      <td>-0.089738</td>\n",
       "      <td>0.473519</td>\n",
       "      <td>0.433252</td>\n",
       "      <td>1.396277</td>\n",
       "      <td>...</td>\n",
       "      <td>0.546477</td>\n",
       "      <td>0.888823</td>\n",
       "      <td>-0.181895</td>\n",
       "      <td>-0.218617</td>\n",
       "      <td>-0.720275</td>\n",
       "      <td>0.372221</td>\n",
       "      <td>-0.464548</td>\n",
       "      <td>0.677568</td>\n",
       "      <td>-1.169354</td>\n",
       "      <td>-0.445014</td>\n",
       "    </tr>\n",
       "    <tr>\n",
       "      <th>this</th>\n",
       "      <td>-0.923892</td>\n",
       "      <td>-0.346465</td>\n",
       "      <td>-0.935396</td>\n",
       "      <td>0.642046</td>\n",
       "      <td>0.873360</td>\n",
       "      <td>0.107631</td>\n",
       "      <td>1.653424</td>\n",
       "      <td>0.126784</td>\n",
       "      <td>-0.441882</td>\n",
       "      <td>0.085917</td>\n",
       "      <td>...</td>\n",
       "      <td>1.577924</td>\n",
       "      <td>0.150236</td>\n",
       "      <td>0.281095</td>\n",
       "      <td>-0.267720</td>\n",
       "      <td>-0.851461</td>\n",
       "      <td>-0.777931</td>\n",
       "      <td>0.251027</td>\n",
       "      <td>-0.263745</td>\n",
       "      <td>-0.962156</td>\n",
       "      <td>0.877665</td>\n",
       "    </tr>\n",
       "    <tr>\n",
       "      <th>over</th>\n",
       "      <td>-0.440351</td>\n",
       "      <td>-0.957340</td>\n",
       "      <td>-0.288660</td>\n",
       "      <td>-0.784095</td>\n",
       "      <td>-0.453102</td>\n",
       "      <td>-0.260627</td>\n",
       "      <td>-0.156899</td>\n",
       "      <td>1.161451</td>\n",
       "      <td>0.216041</td>\n",
       "      <td>-0.119296</td>\n",
       "      <td>...</td>\n",
       "      <td>0.818817</td>\n",
       "      <td>-0.112223</td>\n",
       "      <td>0.002978</td>\n",
       "      <td>0.198639</td>\n",
       "      <td>-0.664964</td>\n",
       "      <td>1.044688</td>\n",
       "      <td>-0.332886</td>\n",
       "      <td>1.113894</td>\n",
       "      <td>-0.737988</td>\n",
       "      <td>-1.248392</td>\n",
       "    </tr>\n",
       "    <tr>\n",
       "      <th>kings</th>\n",
       "      <td>-0.871058</td>\n",
       "      <td>1.877413</td>\n",
       "      <td>-0.446523</td>\n",
       "      <td>0.939120</td>\n",
       "      <td>1.882271</td>\n",
       "      <td>-0.894365</td>\n",
       "      <td>1.959913</td>\n",
       "      <td>0.237614</td>\n",
       "      <td>1.054103</td>\n",
       "      <td>-0.776251</td>\n",
       "      <td>...</td>\n",
       "      <td>-0.663307</td>\n",
       "      <td>0.486514</td>\n",
       "      <td>0.542900</td>\n",
       "      <td>-0.114815</td>\n",
       "      <td>-0.053794</td>\n",
       "      <td>0.501748</td>\n",
       "      <td>1.782944</td>\n",
       "      <td>0.394344</td>\n",
       "      <td>-0.109745</td>\n",
       "      <td>0.131947</td>\n",
       "    </tr>\n",
       "    <tr>\n",
       "      <th>love</th>\n",
       "      <td>-2.062335</td>\n",
       "      <td>-0.436482</td>\n",
       "      <td>-0.819275</td>\n",
       "      <td>0.988686</td>\n",
       "      <td>0.089922</td>\n",
       "      <td>-0.325258</td>\n",
       "      <td>1.581294</td>\n",
       "      <td>1.765489</td>\n",
       "      <td>0.431824</td>\n",
       "      <td>-0.991082</td>\n",
       "      <td>...</td>\n",
       "      <td>-0.014793</td>\n",
       "      <td>-0.220141</td>\n",
       "      <td>-1.260573</td>\n",
       "      <td>-0.073471</td>\n",
       "      <td>-0.762526</td>\n",
       "      <td>-0.953943</td>\n",
       "      <td>0.655179</td>\n",
       "      <td>1.407103</td>\n",
       "      <td>0.392512</td>\n",
       "      <td>0.337918</td>\n",
       "    </tr>\n",
       "    <tr>\n",
       "      <th>breakfast</th>\n",
       "      <td>-0.829254</td>\n",
       "      <td>-0.406226</td>\n",
       "      <td>-0.967018</td>\n",
       "      <td>0.675861</td>\n",
       "      <td>-0.075334</td>\n",
       "      <td>0.707547</td>\n",
       "      <td>0.685737</td>\n",
       "      <td>2.209723</td>\n",
       "      <td>0.268043</td>\n",
       "      <td>-0.333843</td>\n",
       "      <td>...</td>\n",
       "      <td>-0.162341</td>\n",
       "      <td>-1.037519</td>\n",
       "      <td>-1.418477</td>\n",
       "      <td>0.797511</td>\n",
       "      <td>-0.989848</td>\n",
       "      <td>-0.342162</td>\n",
       "      <td>1.093951</td>\n",
       "      <td>0.917619</td>\n",
       "      <td>0.077850</td>\n",
       "      <td>0.654152</td>\n",
       "    </tr>\n",
       "  </tbody>\n",
       "</table>\n",
       "<p>30 rows × 96 columns</p>\n",
       "</div>"
      ],
      "text/plain": [
       "                 0         1         2         3         4         5   \\\n",
       "eggs      -1.297392  1.158260 -0.816274  1.056100  0.815064 -0.748527   \n",
       "beautiful -1.981197 -1.085511 -0.495878  0.908991 -0.765072  0.368210   \n",
       "a          0.445624  0.040820 -1.044201  0.977903  0.343366  0.434702   \n",
       "sausages  -1.551236  1.381497 -0.690470  0.578089  1.516763 -0.319808   \n",
       "sky       -1.052380 -0.623966 -1.247646  0.173334 -0.280415  0.423770   \n",
       "jumps     -0.809289  1.028575  0.142154  1.195198 -0.892427 -0.613777   \n",
       "bacon     -1.484836 -0.526327 -0.839054 -0.176428  0.484847  0.140633   \n",
       "i         -1.993811 -0.266061 -0.210171 -0.306936 -0.040057 -0.104719   \n",
       "quick     -0.808211 -1.721902 -0.849621 -0.323724 -0.733217 -0.200044   \n",
       "dog       -1.680668 -1.266374 -0.712555  0.221439  0.285816  0.239243   \n",
       "beans     -1.068852  1.167118 -0.484017  0.891425  1.399791 -0.477653   \n",
       "lazy      -1.349924 -1.008392 -0.377253 -0.534368 -0.737286  0.438626   \n",
       "has       -0.816400 -0.586754 -1.149105  0.388758  0.561820  1.324211   \n",
       "ham       -0.952584 -0.859383 -0.512346 -0.397440 -0.272660  0.141939   \n",
       "today     -0.818719 -1.463490 -0.576256 -1.777408 -0.816109 -1.116335   \n",
       "toast     -0.511126 -1.450968 -0.677772 -0.366755 -0.637132 -0.223210   \n",
       "very       0.179364 -0.142232 -1.542073 -0.390681  0.221738 -0.352646   \n",
       "and       -0.749836 -0.864052 -1.123196  0.288821 -0.685820  2.549688   \n",
       "the        0.171047 -0.199269 -0.745276  0.178762 -0.363477  0.347444   \n",
       "green     -1.185332 -1.172187 -0.342883  0.147804 -0.441741 -0.421923   \n",
       "brown     -0.876515 -1.404033 -0.920570  0.893428  0.632113 -0.000901   \n",
       "blue      -1.241533 -1.403888 -0.906116  0.713846  0.730656 -0.184642   \n",
       "fox       -1.063213 -1.183251  0.301696  0.807676 -0.038768  0.154243   \n",
       "is        -0.686803  1.201411 -0.365061  0.023410 -0.911158 -0.636755   \n",
       "but       -0.617007 -1.335470 -1.274921  0.456699  0.492685  0.975719   \n",
       "this      -0.923892 -0.346465 -0.935396  0.642046  0.873360  0.107631   \n",
       "over      -0.440351 -0.957340 -0.288660 -0.784095 -0.453102 -0.260627   \n",
       "kings     -0.871058  1.877413 -0.446523  0.939120  1.882271 -0.894365   \n",
       "love      -2.062335 -0.436482 -0.819275  0.988686  0.089922 -0.325258   \n",
       "breakfast -0.829254 -0.406226 -0.967018  0.675861 -0.075334  0.707547   \n",
       "\n",
       "                 6         7         8         9   ...        86        87  \\\n",
       "eggs       1.410166  0.772055  0.981865 -0.946172  ... -0.929507  0.640614   \n",
       "beautiful  0.533828  0.598339  0.157835 -1.119861  ...  0.119182  0.332911   \n",
       "a         -0.532973  0.914784  0.640789  1.057252  ...  0.890635 -0.494442   \n",
       "sausages   1.896638  0.390757  0.864699 -0.613225  ... -0.803906 -0.313376   \n",
       "sky        1.136191  1.594746 -0.112143  0.024372  ... -0.081687 -0.557614   \n",
       "jumps      1.158633  0.491403  0.826156 -0.908024  ... -0.968901  0.572921   \n",
       "bacon      0.748910  1.224433  0.124089  0.034701  ...  0.007322 -0.371588   \n",
       "i          2.012425  0.467140  0.367587 -0.688097  ... -0.367412 -0.188884   \n",
       "quick      0.316565  1.306867 -0.375950 -0.764119  ... -0.344666  0.631241   \n",
       "dog        1.299264  1.068364 -0.166650 -0.593021  ...  0.311112 -0.469987   \n",
       "beans      1.326169  0.747473  1.092705 -0.092148  ... -1.138134 -0.107772   \n",
       "lazy       0.275777  0.426540 -0.384914 -1.091949  ... -0.174180  0.558309   \n",
       "has        0.726742  0.121942  0.886533  1.260011  ... -1.520276  0.172569   \n",
       "ham       -0.206824  1.338140  0.240586 -0.777376  ...  0.466846 -0.185779   \n",
       "today     -0.125725  2.077141 -0.168442 -0.217695  ...  2.928388  1.940016   \n",
       "toast     -0.398685  1.043328  0.483847 -0.570177  ...  0.803359  0.164432   \n",
       "very       1.095366  0.634386  0.249361 -0.077876  ...  0.737402 -0.546005   \n",
       "and       -0.118120  0.279010 -0.123277  1.001370  ...  0.707131  1.457647   \n",
       "the       -1.003620  0.021227  0.238515  1.270073  ...  1.609505 -0.592565   \n",
       "green     -0.664020  0.015956  0.544560 -1.225485  ...  0.885219  1.026413   \n",
       "brown     -0.270705  1.450482  1.094554 -1.343019  ...  0.900336  0.143640   \n",
       "blue      -0.275212  1.047278  0.211378 -0.573579  ...  0.483817  1.536532   \n",
       "fox        0.943619  1.364023  0.090330 -0.779429  ... -0.005095 -0.514685   \n",
       "is         0.201880  0.615606  1.178941  0.296924  ... -0.182100  0.782834   \n",
       "but       -0.089738  0.473519  0.433252  1.396277  ...  0.546477  0.888823   \n",
       "this       1.653424  0.126784 -0.441882  0.085917  ...  1.577924  0.150236   \n",
       "over      -0.156899  1.161451  0.216041 -0.119296  ...  0.818817 -0.112223   \n",
       "kings      1.959913  0.237614  1.054103 -0.776251  ... -0.663307  0.486514   \n",
       "love       1.581294  1.765489  0.431824 -0.991082  ... -0.014793 -0.220141   \n",
       "breakfast  0.685737  2.209723  0.268043 -0.333843  ... -0.162341 -1.037519   \n",
       "\n",
       "                 88        89        90        91        92        93  \\\n",
       "eggs      -0.525295  0.420553 -1.224993 -0.113389  1.944303  0.202356   \n",
       "beautiful -1.044088  0.527054  0.264596  0.141068  1.396086  0.909145   \n",
       "a         -0.669522  0.849890 -0.475511 -0.044901 -1.019666 -0.434723   \n",
       "sausages  -0.481047 -0.324135 -1.256292  0.100420  1.357908  0.602705   \n",
       "sky       -1.442796  1.067169 -0.304729 -0.230831  1.200994  0.827422   \n",
       "jumps      0.224079 -0.167506  0.545909  0.819458 -0.053826  0.179755   \n",
       "bacon     -1.953568  1.160531 -0.463557 -0.028599  1.411305  0.775448   \n",
       "i          0.805614  0.037096  1.218038 -0.012631  0.766386 -0.338247   \n",
       "quick     -0.250259  1.216615  1.283587  0.036267  1.192510  1.531458   \n",
       "dog       -2.129951  1.172860 -1.284266 -1.117903  1.596463  0.511931   \n",
       "beans      0.300590  0.501320 -0.806155  0.883533  1.994725  0.569794   \n",
       "lazy      -0.641799  1.153933  1.125221  0.256873  0.825007  1.489886   \n",
       "has        1.202618 -0.608210 -0.100047 -0.234273  0.720248  0.204601   \n",
       "ham       -1.645292  0.239415 -0.960014  0.846002  0.562277  0.380782   \n",
       "today     -0.906605  1.027404 -1.825106  0.496492  0.637674  0.839445   \n",
       "toast     -1.173489  0.853854 -1.316678  0.347120  0.963565  1.096257   \n",
       "very      -0.673379  0.705251  1.651500 -0.794369  0.578590  1.237230   \n",
       "and       -0.714177 -0.498196 -0.281577  0.980062 -0.475814  0.466685   \n",
       "the       -0.546699  1.053596 -0.962386  0.352104 -0.288018 -0.706722   \n",
       "green     -0.446825  1.726705  0.148405  0.407081  0.922681  1.281653   \n",
       "brown     -0.650320  0.453211 -0.052952  0.508944  1.487840  0.490526   \n",
       "blue      -0.535280  0.327238 -0.723836  0.332048  0.652643  1.130325   \n",
       "fox       -1.359398  1.482487 -0.727252 -0.679084  1.143468  0.792078   \n",
       "is        -0.252753 -0.966379  0.038495 -0.473968 -0.116784 -0.699781   \n",
       "but       -0.181895 -0.218617 -0.720275  0.372221 -0.464548  0.677568   \n",
       "this       0.281095 -0.267720 -0.851461 -0.777931  0.251027 -0.263745   \n",
       "over       0.002978  0.198639 -0.664964  1.044688 -0.332886  1.113894   \n",
       "kings      0.542900 -0.114815 -0.053794  0.501748  1.782944  0.394344   \n",
       "love      -1.260573 -0.073471 -0.762526 -0.953943  0.655179  1.407103   \n",
       "breakfast -1.418477  0.797511 -0.989848 -0.342162  1.093951  0.917619   \n",
       "\n",
       "                 94        95  \n",
       "eggs       0.006850  0.784401  \n",
       "beautiful -0.375545  0.587217  \n",
       "a         -0.855158 -0.277925  \n",
       "sausages   0.325189  0.501014  \n",
       "sky        0.558651  1.421518  \n",
       "jumps     -0.520523  1.177554  \n",
       "bacon      0.868626  1.153851  \n",
       "i         -0.670582  1.593813  \n",
       "quick     -1.331324  0.637828  \n",
       "dog        0.220327  1.620028  \n",
       "beans      0.480497  0.148873  \n",
       "lazy       0.163207  0.548744  \n",
       "has       -1.233299 -0.132075  \n",
       "ham        0.955904  0.844923  \n",
       "today      0.745934 -0.141063  \n",
       "toast      0.741654  0.422103  \n",
       "very      -1.189028 -1.221863  \n",
       "and       -0.855074 -0.479473  \n",
       "the       -0.514224 -0.020832  \n",
       "green     -1.018726  0.706706  \n",
       "brown      0.128303  1.059052  \n",
       "blue      -0.458007  0.830703  \n",
       "fox        0.315267  1.307671  \n",
       "is        -0.844511  0.400906  \n",
       "but       -1.169354 -0.445014  \n",
       "this      -0.962156  0.877665  \n",
       "over      -0.737988 -1.248392  \n",
       "kings     -0.109745  0.131947  \n",
       "love       0.392512  0.337918  \n",
       "breakfast  0.077850  0.654152  \n",
       "\n",
       "[30 rows x 96 columns]"
      ]
     },
     "execution_count": 42,
     "metadata": {},
     "output_type": "execute_result"
    }
   ],
   "source": [
    "# get vocab of the corpus\n",
    "unique_words = set(sum(corpus_tokens,[]))\n",
    "\n",
    "# extract pre-trained embeddings of all words\n",
    "word_glove_vectors = np.array([nlp(word).vector for word in unique_words])\n",
    "pd.DataFrame(word_glove_vectors, index=list(unique_words))"
   ]
  },
  {
   "cell_type": "code",
   "execution_count": 45,
   "metadata": {
    "colab": {
     "base_uri": "https://localhost:8080/",
     "height": 374
    },
    "executionInfo": {
     "elapsed": 271464,
     "status": "ok",
     "timestamp": 1616205242660,
     "user": {
      "displayName": "Alvin Chen",
      "photoUrl": "",
      "userId": "12962786962925949010"
     },
     "user_tz": -480
    },
    "id": "9i1jyYy54-oR",
    "outputId": "ee90474c-38ae-4103-f0b2-0cbc81ce01c3",
    "scrolled": false,
    "slideshow": {
     "slide_type": "subslide"
    }
   },
   "outputs": [
    {
     "data": {
      "image/png": "[encoded data removed]",
      "text/plain": [
       "<Figure size 864x432 with 1 Axes>"
      ]
     },
     "metadata": {
      "needs_background": "light"
     },
     "output_type": "display_data"
    }
   ],
   "source": [
    "from sklearn.manifold import TSNE\n",
    "\n",
    "tsne = TSNE(n_components=2, random_state=0, n_iter=5000, perplexity=1)\n",
    "np.set_printoptions(suppress=True)\n",
    "T = tsne.fit_transform(word_glove_vectors)\n",
    "labels = unique_words\n",
    "\n",
    "plt.figure(figsize=(12, 6))\n",
    "plt.scatter(T[:, 0], T[:, 1], c='orange', edgecolors='r')\n",
    "for label, x, y in zip(labels, T[:, 0], T[:, 1]):\n",
    "    plt.annotate(label,\n",
    "                 xy=(x + 1, y + 1),\n",
    "                 xytext=(0, 0),\n",
    "                 textcoords='offset points')\n",
    "    "
   ]
  },
  {
   "cell_type": "markdown",
   "metadata": {
    "slideshow": {
     "slide_type": "subslide"
    }
   },
   "source": [
    "- It is clear to see that when embeddings are trained based on a larger corpus, they reflect more lexical semantic contents.\n",
    "- Semantically similar words are indeed closer to each other in the 2D plot."
   ]
  },
  {
   "cell_type": "markdown",
   "metadata": {
    "id": "Ak-s9P9x4-oR",
    "slideshow": {
     "slide_type": "skip"
    }
   },
   "source": [
    "- We can of course perform the document-level clustering again using the GloVe embeddings.\n",
    "- The good thing about `spacy` is that it can compute the document average embeddings automatically."
   ]
  },
  {
   "cell_type": "code",
   "execution_count": 46,
   "metadata": {
    "colab": {
     "base_uri": "https://localhost:8080/",
     "height": 294
    },
    "executionInfo": {
     "elapsed": 271462,
     "status": "ok",
     "timestamp": 1616205242661,
     "user": {
      "displayName": "Alvin Chen",
      "photoUrl": "",
      "userId": "12962786962925949010"
     },
     "user_tz": -480
    },
    "id": "8HqCtKkB4-oR",
    "outputId": "911b9e66-2882-4ad8-961f-8aee1e0cd151",
    "scrolled": true,
    "slideshow": {
     "slide_type": "skip"
    }
   },
   "outputs": [
    {
     "name": "stderr",
     "output_type": "stream",
     "text": [
      "/Users/alvinchen/anaconda3/envs/python-notes/lib/python3.9/site-packages/sklearn/cluster/_kmeans.py:1412: FutureWarning: The default value of `n_init` will change from 10 to 'auto' in 1.4. Set the value of `n_init` explicitly to suppress the warning\n",
      "  super()._check_params_vs_input(X, default_n_init=10)\n"
     ]
    },
    {
     "data": {
      "text/html": [
       "<div>\n",
       "<style scoped>\n",
       "    .dataframe tbody tr th:only-of-type {\n",
       "        vertical-align: middle;\n",
       "    }\n",
       "\n",
       "    .dataframe tbody tr th {\n",
       "        vertical-align: top;\n",
       "    }\n",
       "\n",
       "    .dataframe thead th {\n",
       "        text-align: right;\n",
       "    }\n",
       "</style>\n",
       "<table border=\"1\" class=\"dataframe\">\n",
       "  <thead>\n",
       "    <tr style=\"text-align: right;\">\n",
       "      <th></th>\n",
       "      <th>Document</th>\n",
       "      <th>Category</th>\n",
       "      <th>ClusterLabel</th>\n",
       "    </tr>\n",
       "  </thead>\n",
       "  <tbody>\n",
       "    <tr>\n",
       "      <th>0</th>\n",
       "      <td>The sky is blue and beautiful.</td>\n",
       "      <td>weather</td>\n",
       "      <td>1</td>\n",
       "    </tr>\n",
       "    <tr>\n",
       "      <th>1</th>\n",
       "      <td>Love this blue and beautiful sky!</td>\n",
       "      <td>weather</td>\n",
       "      <td>2</td>\n",
       "    </tr>\n",
       "    <tr>\n",
       "      <th>2</th>\n",
       "      <td>The quick brown fox jumps over the lazy dog.</td>\n",
       "      <td>animals</td>\n",
       "      <td>1</td>\n",
       "    </tr>\n",
       "    <tr>\n",
       "      <th>3</th>\n",
       "      <td>A king's breakfast has sausages, ham, bacon, eggs, toast and beans</td>\n",
       "      <td>food</td>\n",
       "      <td>0</td>\n",
       "    </tr>\n",
       "    <tr>\n",
       "      <th>4</th>\n",
       "      <td>I love green eggs, ham, sausages and bacon!</td>\n",
       "      <td>food</td>\n",
       "      <td>0</td>\n",
       "    </tr>\n",
       "    <tr>\n",
       "      <th>5</th>\n",
       "      <td>The brown fox is quick and the blue dog is lazy!</td>\n",
       "      <td>animals</td>\n",
       "      <td>1</td>\n",
       "    </tr>\n",
       "    <tr>\n",
       "      <th>6</th>\n",
       "      <td>The sky is very blue and the sky is very beautiful today</td>\n",
       "      <td>weather</td>\n",
       "      <td>1</td>\n",
       "    </tr>\n",
       "    <tr>\n",
       "      <th>7</th>\n",
       "      <td>The dog is lazy but the brown fox is quick!</td>\n",
       "      <td>animals</td>\n",
       "      <td>1</td>\n",
       "    </tr>\n",
       "  </tbody>\n",
       "</table>\n",
       "</div>"
      ],
      "text/plain": [
       "                                                             Document  \\\n",
       "0                                      The sky is blue and beautiful.   \n",
       "1                                   Love this blue and beautiful sky!   \n",
       "2                        The quick brown fox jumps over the lazy dog.   \n",
       "3  A king's breakfast has sausages, ham, bacon, eggs, toast and beans   \n",
       "4                         I love green eggs, ham, sausages and bacon!   \n",
       "5                    The brown fox is quick and the blue dog is lazy!   \n",
       "6            The sky is very blue and the sky is very beautiful today   \n",
       "7                         The dog is lazy but the brown fox is quick!   \n",
       "\n",
       "  Category  ClusterLabel  \n",
       "0  weather             1  \n",
       "1  weather             2  \n",
       "2  animals             1  \n",
       "3     food             0  \n",
       "4     food             0  \n",
       "5  animals             1  \n",
       "6  weather             1  \n",
       "7  animals             1  "
      ]
     },
     "execution_count": 46,
     "metadata": {},
     "output_type": "execute_result"
    }
   ],
   "source": [
    "doc_glove_vectors = np.array([nlp(str(doc)).vector for doc in corpus_norm])\n",
    "\n",
    "import sklearn\n",
    "from sklearn.cluster import KMeans\n",
    "km = KMeans(n_clusters=3, random_state=0)\n",
    "km.fit_transform(doc_glove_vectors)\n",
    "cluster_labels = km.labels_\n",
    "cluster_labels = pd.DataFrame(cluster_labels, columns=['ClusterLabel'])\n",
    "pd.concat([corpus_df, cluster_labels], axis=1)"
   ]
  },
  {
   "cell_type": "markdown",
   "metadata": {
    "id": "_zmG6aRL4-oS",
    "slideshow": {
     "slide_type": "slide"
    }
   },
   "source": [
    "## `fasttext`\n",
    "\n",
    "- This section shows a quick example how to train word embeddings based on the `nltk.corpus.brown` using another algorithm, i.e., `fasttext`.\n",
    "- The FastText model was introduced by Facebook in 2016 as an improved and extended version of the `word2vec` (See Bojanowski et al [2017] in References below).\n",
    "- We will focus more on the implementation. Please see the Bojanowski et al (2017) as well as Sarkar (2019) Chapter 4 for more comprehensive descriptions of the method.\n",
    "- Pretrained FastText Embeddings are available [here](https://fasttext.cc/docs/en/english-vectors.html)."
   ]
  },
  {
   "cell_type": "code",
   "execution_count": 47,
   "metadata": {
    "colab": {
     "base_uri": "https://localhost:8080/"
    },
    "executionInfo": {
     "elapsed": 532668,
     "status": "ok",
     "timestamp": 1616205503869,
     "user": {
      "displayName": "Alvin Chen",
      "photoUrl": "",
      "userId": "12962786962925949010"
     },
     "user_tz": -480
    },
    "id": "TWpYZPHj4-oS",
    "outputId": "345a09ba-91c1-4010-bb94-9243a339a2ec",
    "slideshow": {
     "slide_type": "subslide"
    }
   },
   "outputs": [],
   "source": [
    "from gensim.models.fasttext import FastText\n",
    "from nltk.corpus import brown\n",
    "\n",
    "brown_tokens = [brown.words(fileids=f) for f in brown.fileids()]"
   ]
  },
  {
   "cell_type": "code",
   "execution_count": 56,
   "metadata": {
    "colab": {
     "base_uri": "https://localhost:8080/"
    },
    "executionInfo": {
     "elapsed": 532668,
     "status": "ok",
     "timestamp": 1616205503869,
     "user": {
      "displayName": "Alvin Chen",
      "photoUrl": "",
      "userId": "12962786962925949010"
     },
     "user_tz": -480
    },
    "id": "TWpYZPHj4-oS",
    "outputId": "345a09ba-91c1-4010-bb94-9243a339a2ec",
    "slideshow": {
     "slide_type": "subslide"
    }
   },
   "outputs": [
    {
     "name": "stdout",
     "output_type": "stream",
     "text": [
      "CPU times: user 5min 34s, sys: 5.79 s, total: 5min 39s\n",
      "Wall time: 2min 2s\n"
     ]
    }
   ],
   "source": [
    "%%time\n",
    "# Set values for various parameters\n",
    "feature_size = 128  # Word vector dimensionality\n",
    "window_context = 5  # Context window size\n",
    "min_word_count = 5  # Minimum word count\n",
    "\n",
    "ft_model = FastText(brown_tokens,\n",
    "                    vector_size=feature_size,\n",
    "                    window=window_context,\n",
    "                    min_count=min_word_count,\n",
    "                    sg=1,\n",
    "                    epochs=50)"
   ]
  },
  {
   "cell_type": "markdown",
   "metadata": {},
   "source": [
    ":::{tip}\n",
    "\n",
    "Please check the documentation for more detailed use:\n",
    "\n",
    "```\n",
    "help(FastText)\n",
    "```\n",
    "\n",
    ":::"
   ]
  },
  {
   "cell_type": "markdown",
   "metadata": {
    "slideshow": {
     "slide_type": "subslide"
    }
   },
   "source": [
    "- We can use the trained embeddings model to identify words that are similar to a set of seed words.\n",
    "- And then we plot all these words (i.e., the seed words and their semantic neighbors) in one 2D plot based on the dimensional reduction of their embeddings."
   ]
  },
  {
   "cell_type": "code",
   "execution_count": 57,
   "metadata": {
    "colab": {
     "base_uri": "https://localhost:8080/"
    },
    "executionInfo": {
     "elapsed": 532667,
     "status": "ok",
     "timestamp": 1616205503870,
     "user": {
      "displayName": "Alvin Chen",
      "photoUrl": "",
      "userId": "12962786962925949010"
     },
     "user_tz": -480
    },
    "id": "9uG7SyG54-oS",
    "outputId": "76492d70-1cb6-4cfe-a561-229839c2b535",
    "slideshow": {
     "slide_type": "subslide"
    }
   },
   "outputs": [
    {
     "data": {
      "text/plain": [
       "{'think': ['know', 'Think', 'tell', \"don't\", 'feel'],\n",
       " 'say': ['said', 'think', 'do', 'believe', 'despise'],\n",
       " 'news': ['newspapers',\n",
       "  'newspaperman',\n",
       "  'newspaper',\n",
       "  'forthcoming',\n",
       "  'inspector'],\n",
       " 'report': ['reports', 'reporting', 'Report', 'reporter', 'reported'],\n",
       " 'nation': ['nations', 'national', 'nationalism', \"nation's\", 'nationally'],\n",
       " 'democracy': ['democratic',\n",
       "  'cultural',\n",
       "  'constitutional',\n",
       "  'constitution',\n",
       "  'bureaucracy']}"
      ]
     },
     "execution_count": 57,
     "metadata": {},
     "output_type": "execute_result"
    }
   ],
   "source": [
    "# view similar words based on gensim's model\n",
    "similar_words = {\n",
    "    search_term:\n",
    "    [item[0] for item in ft_model.wv.most_similar([search_term], topn=5)]\n",
    "    for search_term in\n",
    "    ['think', 'say','news', 'report','nation', 'democracy']\n",
    "}\n",
    "similar_words"
   ]
  },
  {
   "cell_type": "code",
   "execution_count": 58,
   "metadata": {
    "colab": {
     "base_uri": "https://localhost:8080/",
     "height": 592
    },
    "executionInfo": {
     "elapsed": 533459,
     "status": "ok",
     "timestamp": 1616205504664,
     "user": {
      "displayName": "Alvin Chen",
      "photoUrl": "",
      "userId": "12962786962925949010"
     },
     "user_tz": -480
    },
    "id": "MWXtfm-b4-oS",
    "outputId": "c942ea6b-5c12-4844-edd9-db07108dbd12",
    "slideshow": {
     "slide_type": "subslide"
    }
   },
   "outputs": [
    {
     "data": {
      "image/png": "[encoded data removed]",
      "text/plain": [
       "<Figure size 864x720 with 1 Axes>"
      ]
     },
     "metadata": {
      "needs_background": "light"
     },
     "output_type": "display_data"
    }
   ],
   "source": [
    "from sklearn.decomposition import PCA\n",
    "\n",
    "words = sum([[k] + v for k, v in similar_words.items()], [])\n",
    "wvs = ft_model.wv[words]\n",
    "\n",
    "pca = PCA(n_components=2)\n",
    "np.set_printoptions(suppress=True)\n",
    "P = pca.fit_transform(wvs)\n",
    "labels = words\n",
    "\n",
    "plt.figure(figsize=(12, 10))\n",
    "plt.scatter(P[:, 0], P[:, 1], c='lightgreen', edgecolors='g')\n",
    "for label, x, y in zip(labels, P[:, 0], P[:, 1]):\n",
    "    plt.annotate(label,\n",
    "                 xy=(x + 0.03, y + 0.03),\n",
    "                 xytext=(0, 0),\n",
    "                 textcoords='offset points')"
   ]
  },
  {
   "cell_type": "code",
   "execution_count": 59,
   "metadata": {
    "colab": {
     "base_uri": "https://localhost:8080/"
    },
    "executionInfo": {
     "elapsed": 533457,
     "status": "ok",
     "timestamp": 1616205504664,
     "user": {
      "displayName": "Alvin Chen",
      "photoUrl": "",
      "userId": "12962786962925949010"
     },
     "user_tz": -480
    },
    "id": "Qjgm2KsY4-oS",
    "outputId": "36bc2a56-f783-4dc7-9d71-f26ef7625022",
    "slideshow": {
     "slide_type": "subslide"
    }
   },
   "outputs": [
    {
     "data": {
      "text/plain": [
       "array([-0.2523766 ,  1.2344824 ,  0.28590804, -0.18874285, -0.12484555,\n",
       "       -0.49433994,  0.1602066 , -0.31401044,  0.22249952, -0.16373059,\n",
       "        0.5416111 ,  0.17930526,  0.33985358,  0.33994997, -0.27761728,\n",
       "        0.295529  ,  0.30032286, -0.16337612,  0.2726979 ,  0.286383  ,\n",
       "        0.05036034, -0.4099072 ,  1.1245147 , -0.43144313, -0.12164368,\n",
       "       -0.43757993,  0.3907696 , -0.506607  ,  0.8151896 , -0.1673889 ,\n",
       "       -0.12556757,  0.4687364 ,  0.38069835,  0.29146397,  0.17975552,\n",
       "        0.00345719,  0.3428171 , -0.5179925 ,  0.25784668, -0.2876231 ,\n",
       "        0.2736586 , -0.32872424, -0.41551793, -0.39329693,  0.16495731,\n",
       "        0.22620523,  0.22976732, -0.30155176,  0.12755516, -0.05715791,\n",
       "       -0.47991446,  0.6938182 , -0.69235647, -0.27857274,  0.20222324,\n",
       "       -0.5334721 ,  0.5623266 ,  0.2074901 , -0.0281765 , -0.15348567,\n",
       "        1.3333222 ,  0.5020892 , -0.2768525 ,  0.11414671,  0.194682  ,\n",
       "       -0.33986622,  0.47148588, -0.3239075 , -0.31997842,  0.41093224,\n",
       "        0.511632  , -0.0720844 , -0.13437022, -0.58273226,  0.36699748,\n",
       "       -0.10058013, -0.41690606, -0.12419936,  0.3415619 ,  0.05605935,\n",
       "       -0.31064925, -0.09939189, -0.20340547,  0.7773749 ,  0.3970421 ,\n",
       "        0.00630904, -0.29208088,  0.06216234, -0.01027498,  0.10407776,\n",
       "        0.63741744,  0.05946476,  0.23245631,  0.09461077,  0.44289067,\n",
       "        0.40805987, -0.08794071,  0.02890253,  0.3359511 , -0.28606507,\n",
       "       -0.7213146 ,  0.6503062 ,  0.36324272,  0.3368714 , -0.01722197,\n",
       "        0.25369242,  0.44865412, -0.03442893, -0.644235  ,  0.28318068,\n",
       "       -0.7213056 ,  0.02290851,  0.22658262,  0.03600961, -0.38349828,\n",
       "        0.01788636, -0.01218169,  0.7510187 , -0.40153882, -0.21668746,\n",
       "       -0.04060327,  0.5902806 , -0.05519979, -0.20750351,  0.3325783 ,\n",
       "        0.11138923, -0.12826458, -0.91107947], dtype=float32)"
      ]
     },
     "execution_count": 59,
     "metadata": {},
     "output_type": "execute_result"
    }
   ],
   "source": [
    "ft_model.wv['democracy']"
   ]
  },
  {
   "cell_type": "code",
   "execution_count": 60,
   "metadata": {
    "colab": {
     "base_uri": "https://localhost:8080/"
    },
    "executionInfo": {
     "elapsed": 533456,
     "status": "ok",
     "timestamp": 1616205504665,
     "user": {
      "displayName": "Alvin Chen",
      "photoUrl": "",
      "userId": "12962786962925949010"
     },
     "user_tz": -480
    },
    "id": "hpM71x_v4-oT",
    "outputId": "47e33cd1-1692-4cac-eb32-dab8b24b5e78",
    "slideshow": {
     "slide_type": "subslide"
    }
   },
   "outputs": [
    {
     "name": "stdout",
     "output_type": "stream",
     "text": [
      "0.2915468\n",
      "0.1772014\n"
     ]
    }
   ],
   "source": [
    "print(ft_model.wv.similarity(w1='taiwan', w2='freedom'))\n",
    "print(ft_model.wv.similarity(w1='china', w2='freedom'))"
   ]
  },
  {
   "cell_type": "markdown",
   "metadata": {
    "slideshow": {
     "slide_type": "slide"
    }
   },
   "source": [
    "## Wrap-up\n",
    "\n",
    "- Two fundamental deep-learning-based models of word representation learning: CBOW and Skip-Gram.\n",
    "- From word embeddings to document embeddings\n",
    "- More advanced representation learning models: GloVe and FastText.\n",
    "- What is more challenging is how to assess the quality of the learned representations (embeddings). Usually embedding models can be evaluated based on their performance on semantics related tasks, such as word similarity and analogy. For those who are interested, you can start with the following two papers on Chinese embeddings:\n",
    "    - Chi-Yen Chen, Wei-Yun Ma. 2018. \"[Word Embedding Evaluation Datasets and Wikipedia Title Embedding for Chinese](http://www.lrec-conf.org/proceedings/lrec2018/pdf/159.pdf),\" Language Resources and Evaluation Conference. \n",
    "    - Chi-Yen Chen, Wei-Yun Ma. 2017. \"[Embedding Wikipedia Title Based on Its Wikipedia Text and Categories](https://ieeexplore.ieee.org/document/8300566),\" International Conference on Asian Language Processing.\n"
   ]
  },
  {
   "cell_type": "markdown",
   "metadata": {
    "id": "yh0MNAcVPpUV",
    "slideshow": {
     "slide_type": "slide"
    }
   },
   "source": [
    "## References\n",
    "\n",
    "- Sarkar (2020) Ch 4 Feature Engineering for Text Representation\n",
    "- Major Readings:\n",
    "    - Harris,Zellig. 1956. [Distributional structure](http://www.tandfonline.com/doi/pdf/10.1080/00437956.1954.11659520).\n",
    "    - Bengio, Yoshuan, et. al. 2003. [A Neural Probabilistic Language Model](http://www.jmlr.org/papers/volume3/bengio03a/bengio03a.pdf).\n",
    "    - Collobert, Ronana and Jason Weston. 2008. [A Unified Architecture for Natural Language Processing: Deep Neural Networks with Multitask Learning](https://ronan.collobert.com/pub/matos/2008_nlp_icml.pdf).\n",
    "    - Schwenk, Holger. 2007.[Continuous space language models](https://pdfs.semanticscholar.org/0fcc/184b3b90405ec3ceafd6a4007c749df7c363.pdf).\n",
    "    - Mikolov, Tomas, et al. 2013. [Efficient estimation of word representations in vector space](https://arxiv.org/abs/1301.3781). arXiv preprint arXiv:1301.3781. \n",
    "    - Mikolov, Tomas, et al. 2013. [Distributed representations of words and phrases and their compositionally](https://papers.nips.cc/paper/5021-distributed-representations-of-words-and-phrases-and-their-compositionality.pdf). *Advances in neural information processing systems*. 2013.\n",
    "    - Baroni, Marco, et. al. 2014. [Don’t count, predict! A systematic comparison of context-counting vs. context-predicting semantic vectors](https://www.aclweb.org/anthology/P14-1023/). *ACL*(1).\n",
    "    - Pennington, Jeffrey, et al. 2014. [GloVe: Global Vectors for Word Representation](https://nlp.stanford.edu/pubs/glove.pdf). *EMNLP*. Vol. 14.\n",
    "    - Bojanowski, P., Grave, E., Joulin, A., & Mikolov, T. (2017). [Enriching word vectors with subword information](https://doi.org/10.1162/tacl_a_00051). *Transactions of the Association for Computational Linguistics*, 5, 135-146.\n",
    "- [GloVe Project Official Website](https://nlp.stanford.edu/projects/glove/): You can download their pre-trained GloVe models.\n",
    "- [FastText Project Website](https://fasttext.cc/docs/en/english-vectors.html): You can download the English pre-trained FastText models.\n"
   ]
  }
 ],
 "metadata": {
  "accelerator": "GPU",
  "anaconda-cloud": {},
  "celltoolbar": "Slideshow",
  "colab": {
   "collapsed_sections": [
    "GaxWHlB-4-oA",
    "PFWU2B0Z4-oN",
    "iMA5QBfF4-oO",
    "tFZF5zOF4-oO",
    "xfICQPTY4-oO",
    "QzfBJp0t4-oP",
    "OV6jabEQ4-oP",
    "XsHYCElN4-oQ"
   ],
   "name": "text-vec-embedding.ipynb",
   "provenance": [],
   "toc_visible": true
  },
  "kernelspec": {
   "display_name": "python-notes",
   "language": "python",
   "name": "python3"
  },
  "language_info": {
   "codemirror_mode": {
    "name": "ipython",
    "version": 3
   },
   "file_extension": ".py",
   "mimetype": "text/x-python",
   "name": "python",
   "nbconvert_exporter": "python",
   "pygments_lexer": "ipython3",
   "version": "3.9.18"
  },
  "toc": {
   "base_numbering": "3",
   "nav_menu": {},
   "number_sections": true,
   "sideBar": true,
   "skip_h1_title": false,
   "title_cell": "Table of Contents",
   "title_sidebar": "Contents",
   "toc_cell": false,
   "toc_position": {
    "height": "706px",
    "left": "91px",
    "top": "0px",
    "width": "165px"
   },
   "toc_section_display": true,
   "toc_window_display": false
  },
  "varInspector": {
   "cols": {
    "lenName": 16,
    "lenType": 16,
    "lenVar": 40
   },
   "kernels_config": {
    "python": {
     "delete_cmd_postfix": "",
     "delete_cmd_prefix": "del ",
     "library": "var_list.py",
     "varRefreshCmd": "print(var_dic_list())"
    },
    "r": {
     "delete_cmd_postfix": ") ",
     "delete_cmd_prefix": "rm(",
     "library": "var_list.r",
     "varRefreshCmd": "cat(var_dic_list()) "
    }
   },
   "types_to_exclude": [
    "module",
    "function",
    "builtin_function_or_method",
    "instance",
    "_Feature"
   ],
   "window_display": false
  }
 },
 "nbformat": 4,
 "nbformat_minor": 1
}