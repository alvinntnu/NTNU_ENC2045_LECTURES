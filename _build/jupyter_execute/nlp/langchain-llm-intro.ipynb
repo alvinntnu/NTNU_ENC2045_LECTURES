{
 "cells": [
  {
   "cell_type": "markdown",
   "metadata": {},
   "source": [
    "# Large Language Model (Under Construction...)"
   ]
  },
  {
   "cell_type": "markdown",
   "metadata": {},
   "source": [
    "- Transfer Learning based on BERT\n",
    "- Large Language Models (OpenAI)\n",
    "- Prompt Engeering\n",
    "- LLM and Retrieval-Augmented Generation (RAG)\n",
    "- Multimodal Processing (A YouTube-based Application)"
   ]
  }
 ],
 "metadata": {
  "language_info": {
   "name": "python"
  }
 },
 "nbformat": 4,
 "nbformat_minor": 2
}