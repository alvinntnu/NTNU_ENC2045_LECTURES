{
 "cells": [
  {
   "cell_type": "markdown",
   "metadata": {},
   "source": [
    "# Classification Models"
   ]
  },
  {
   "cell_type": "markdown",
   "metadata": {},
   "source": [
    "- Before the era of deep learning, probability-based classifiers are commonly used in many classfic NLP tasks.\n",
    "- There are two types of probability-based models:\n",
    "    - **Generative**:\n",
    "        - Training is based on the **joint** probability of the data and the class, i.e., $P(c,d)$\n",
    "        - Examples: n-gram models, Naive Bayes, HMM, probablistic context-free grammars.\n",
    "    \n",
    "    - **Distriminative**: \n",
    "        - Training is based on the **conditional** Probablity of the class given the data, i.e., $P(c|d)$.\n",
    "        - Examples: Logistic regression, maximum entropy models, CRF, SVM, perceptron.\n",
    "    \n",
    "- Strengths of discriminative models:\n",
    "    - They give high accuracy performance.\n",
    "    - They make it easier to include linguistically relevant features.\n",
    "- Other classification models:\n",
    "    - Tree-based methods (Decision tree)\n",
    "    - Neural Network"
   ]
  },
  {
   "cell_type": "markdown",
   "metadata": {},
   "source": [
    "## Naive Bayes"
   ]
  },
  {
   "cell_type": "markdown",
   "metadata": {},
   "source": [
    "![](../images/naive-bayes.png)"
   ]
  },
  {
   "cell_type": "markdown",
   "metadata": {},
   "source": [
    "````{margin}\n",
    "```{note}\n",
    "In Bayes, the $P(Y)$ is referred to as the **prior probability** of Y and the $P(Y|X)$ is referred to as the **posterior probability** of Y.\n",
    "```\n",
    "````\n",
    "\n",
    "- Naive Bayes features the Bayes Theorem:\n",
    "\n",
    "$$\n",
    "P(Y|X) = P(Y) \\frac{P(X|Y)}{P(X)} \n",
    "$$ (naive_bayes1)"
   ]
  },
  {
   "cell_type": "markdown",
   "metadata": {},
   "source": [
    "- In naive bayes, given a document $d$ and a class $c$, the goal is to find the maximum joint probability $P(c,d)$. And according bayes rule, the goal is simiplied to find the maximum of $P(c|d)$:\n",
    "\n",
    "$$\n",
    "P(c,d) = P(d|c)\\times P(c) = P(c|d) \\times P(d)\\\\\n",
    "P(c|d) = \\frac{P(d|c)\\times P(c)}{P(d)}\n",
    "$$ (navie_bayes2)"
   ]
  },
  {
   "cell_type": "markdown",
   "metadata": {},
   "source": [
    "- Because the $P(d)$ is a constant for all classes estimation, we can drop the denominator. And now the goal is to find out the class $c$ that maximizes the **posterior** probability of the class, i.e., $P(c|d)$.\n",
    "\n",
    "$$\n",
    "C_{MAP} = \\underset{c \\in C}{\\arg\\max}P(c|d)\\\\\n",
    "C_{MAP}= \\underset{c \\in C}{\\arg\\max}\\frac{P(d|c)\\times P(c)}{P(d)} \\\\\n",
    "= \\underset{c \\in C}{\\arg\\max}P(d|c)\\times P(c) \\\\\n",
    "$$ (naive_bayes3)\n"
   ]
  },
  {
   "cell_type": "markdown",
   "metadata": {},
   "source": [
    "````{margin}\n",
    "```{note}\n",
    "In naive Bayes, the probabilities $𝑃(C=c_i)$ and $𝑃(𝑋𝑖|C=c_i)$ are parameters. The standard, maximum likelihood, approach is to calculate the probabilities using MLE estimators. For example, for $𝑃(C=c_i)$ we  count the cases where $C=c_i$ and divide by the sample size, same for conditional probabilities $𝑃(𝑋𝑖|C=c_i)$. Bayesian maximum a posteriori estimate $P(C=c_i|Xi)$ would need from you to assume prior distributions for the parameters. \n",
    "```\n",
    "````\n",
    "\n",
    "- A document needs to be vectorized through feature engineering into a numeric representation, i.e., a set of **n** features from the document, $\\{x_1, x_2, ..., x_n\\}$\n",
    "- Given a class $c$ and a set of **n** features from the document, $\\{x_1, x_2, ..., x_n\\}$, we can denote the posterior probability of each class $c$ as follows:\n",
    "\n",
    "$$\n",
    "C_{MAP}= \\underset{c \\in C}{\\arg\\max}  P(d|c) \\times P(c) \\\\\n",
    "= \\underset{c \\in C}{\\arg\\max} P(x_1,x_2,...,x_n|c) \\times P(c) \\\\\n",
    "$$ (naive_bayes4)\n",
    "\n",
    "- Important assumptions in Naive Bayes:\n",
    "    - Bag of Words Assumption: Assume position doesn't matter\n",
    "    - Conditional Independence: Assume the feature probabilities $P(x_i|c)$ are independent given the label $c$.\n",
    "\n",
    "$$\n",
    "P(x_1,x_2,...,x_n|c)=P(x_1|c)\\times P(x_2|c)\\times P(x_3|c) \\times ... \\times P(x_n|c)\n",
    "$$ (naive_bayes5)\n",
    "\n",
    "- Then we can simply the equation:\n",
    "\n",
    "$$\n",
    "C_{MAP} = \\underset{c \\in C}{\\arg\\max} P(x_1,x_2,...,x_n|c) \\times P(c) \\\\\n",
    "= \\underset{c \\in C}{\\arg\\max} P(c) \\prod_{x\\in X}P(x|c)\n",
    "$$ (naive_bayes6)\n",
    "\n",
    "- Multinomial Naive Bayes is an extenstion of the Naive Bayes for predicting and classifying data points, where the number of distinct labels or outcomes are more than two.\n",
    "\n",
    "- In Naive Bayes, each feature $x_i$ of the document is in the form of a probability value of an observed event given the class, $P(x_i|c)$\n",
    "\n",
    "- Issues of Smoothing\n",
    "    - For unseen features in a new document, e.g., $P(x|c)$, this would render the entire posterior probability of the class to be zero. \n",
    "    - Laplace smoothing (Add-one)\n",
    "    - Lidstone smooting (Self-defined $\\alpha$ < 1)"
   ]
  },
  {
   "cell_type": "markdown",
   "metadata": {},
   "source": [
    "## Logistic Regression"
   ]
  },
  {
   "cell_type": "markdown",
   "metadata": {},
   "source": [
    "- Logistic Regression is also a form of probabilistic statistical classification model.\n",
    "- The model is trained by maximizing directly the probability of the class given the observed data, i.e., $P(c|d)$.\n",
    "- Logistic Regression is similar to linear regression, whose predicted values are numeric."
   ]
  },
  {
   "cell_type": "markdown",
   "metadata": {},
   "source": [
    "- A document needs to be vectorized through feature engineering into a numeric representation, i.e., a set of **n** features from the document, $\\{x_1, x_2, ..., x_n\\}$\n",
    "\n",
    "- Then the logistic regression models the probability of the class given these observed values:\n",
    "\n",
    "$$\n",
    "y = \\beta_0 + \\beta_1x_1 + \\beta_2 x_2 + ... + \\beta_ix_i\n",
    "= \\sum_{i}\\beta_ix_i\n",
    "$$"
   ]
  },
  {
   "cell_type": "markdown",
   "metadata": {},
   "source": [
    "````{margin}\n",
    "```{note}\n",
    "For example, we would hope that our model can give us values between 0 and 1, which represent the probability of the class given the observed data.\n",
    "```\n",
    "````\n",
    "\n",
    "- But the $y$ is not a probability value yet. It could be any number ($-\\infty$ to $\\infty$) based on the current model. In order to apply a linear modeling approach, the dependent variable $y$ often needs to be transformed with a so-called **link function**.\n",
    "- Link functions tranform the predicted $y$ into a range more appropriate for linear modeling.\n",
    "- For binary logistic regression, the **inverse logit transformation** is used, transforming y from the range of $-\\infty$ to $\\infty$ to into probabily values ranging from 0 to 1.\n",
    "\n",
    "$$\n",
    "\\frac{1}{1+e^y}\n",
    "$$"
   ]
  },
  {
   "cell_type": "markdown",
   "metadata": {},
   "source": [
    "- And we can re-formulate the model equation as:\n",
    "\n",
    "$$\n",
    "P(c|d) = P(c|x_1,x_2,...,x_i)\\\\= \\frac{1}{1+e^{\\sum_{i}\\beta_ix_i}}\n",
    "$$\n",
    "- The model will then determine the class of the document by choosing the class that maximizes the conditional probability of $P(c|d)$.\n",
    "\n",
    "- Each feature $x_i$ of the document is a function that chracterizes the relevant linguistic properties of the document. These features can be all manually annotated or created automatically.\n",
    "- These features are often in simple forms that are of binary values or numeric values within a range:\n",
    "    $$ \n",
    "    x_i = f_i(c,x_i) = [C = c_i \\wedge contains(w_i) ] = \\{0, 1\\}\n",
    "    $$\n",
    "   "
   ]
  },
  {
   "cell_type": "markdown",
   "metadata": {},
   "source": [
    "## Other Discriminative Models"
   ]
  },
  {
   "cell_type": "markdown",
   "metadata": {},
   "source": [
    "There are many more ways to learn the weights (i.e., $\\beta_i$) in the discriminative models. Different algorithms may prioritize different link functions to train the model parameters.\n",
    "\n",
    "In this course, we will not cover all the details of these variants. Please refer to machine learning courses for more details on these algorithms.\n",
    "\n",
    "- **Maximum Entropy Model (Maxent)**\n",
    "    - Maxent is very similar to logistic regression, and differs in mainly its way of parameterization (e.g., feature functions, link functions)\n",
    "    - Maxent uses a *softmax* function to transform values into probabilities.\n",
    "    \n",
    "$$\n",
    "p(c|d,\\beta) = \\frac{e^{\\sum_{i}\\beta_ix_i}}{\\sum_{c'}{e^{\\sum_{i}\\beta_ix_i}}}\\\\\n",
    "= \\frac{y_c}{\\sum_{c'}{y_{c'}}}\n",
    "$$\n",
    "\n",
    "- **Support Vector Machine (SVM)**\n",
    "    - finds optimal model parameters that can maximize the margins of the classes on the hyperplane.\n",
    "    - SVM has a **cost function**, which controls the compromise of the training errors and margins. A smaller cost creates a softer margin, allowing more misclassifcations; a larger cost creates a narrower margin, allowing fewer misclassifications.\n",
    "\n",
    "- **Perceptron**\n",
    "    - finds a currently misclassified example, and nudge weights in the direction of its correct classification."
   ]
  },
  {
   "cell_type": "markdown",
   "metadata": {},
   "source": [
    "## Other Classification Models"
   ]
  },
  {
   "cell_type": "markdown",
   "metadata": {
    "hide_input": false
   },
   "source": [
    "- There are other classification models that are not probabilistic\n",
    "    - **Decision Tree**\n",
    "        - It uses a split condition to predict class labels based on one or multiple input features.\n",
    "        - The classification process starts from the root node of the tree; at each node, the classifier will check which input feature will most effectively split the data into sub-groups. \n"
   ]
  },
  {
   "cell_type": "markdown",
   "metadata": {},
   "source": [
    "## Emsemble Methods"
   ]
  },
  {
   "cell_type": "markdown",
   "metadata": {},
   "source": [
    "- Bagging \n",
    "    - Take subsets of data (e.g., bootstrap samples) and train a model on each subset in parallel\n",
    "    - The subsets are allowed to simultaneously vote on the outcome\n",
    "    - The final outcome is often an average aggregation.\n",
    "    - Example: **Random Forests**\n",
    "- Boosting\n",
    "    - Utilize sequential modeling by improving one model from the errors of the previous model\n",
    "    - Often use the output of one model as an input into the next in a form of sequential processing\n",
    "    - Example: **Gradient boosting machines**"
   ]
  },
  {
   "cell_type": "markdown",
   "metadata": {},
   "source": [
    "## Conclusion\n",
    "\n",
    "- Feature engineering is a lot more important than algorithm selection.\n",
    "- With good feature representations of the data, usually it does not really mather which machine learning algorithm we choose.\n",
    "- Generally, discriminative models out-perform generative models.\n",
    "- Maybe one day the optimal algorithm can be determined *automatically* via machine learning as well!!\n",
    "- Please see [Google's AutoML effort: Google AI Introduces Model Search, An Open Source Platform for Finding Optimal Machine Learning Models](https://www.marktechpost.com/2021/02/28/google-ai-introduces-model-search-an-open-source-platform-for-finding-optimal-machine-learning-ml-models/?fbclid=IwAR3FkqJzXGIqG-X25BXslDZ077F9s4onOaQzlosc9u7qeto9LNd7prt_PNE)."
   ]
  },
  {
   "cell_type": "markdown",
   "metadata": {},
   "source": [
    "## References\n",
    "\n",
    "- NLTK Book, Chapter 6.\n",
    "- Sarkar (2020), Chapter 5."
   ]
  }
 ],
 "metadata": {
  "kernelspec": {
   "display_name": "python-notes",
   "language": "python",
   "name": "python-notes"
  },
  "language_info": {
   "codemirror_mode": {
    "name": "ipython",
    "version": 3
   },
   "file_extension": ".py",
   "mimetype": "text/x-python",
   "name": "python",
   "nbconvert_exporter": "python",
   "pygments_lexer": "ipython3",
   "version": "3.7.0"
  },
  "toc": {
   "base_numbering": 1,
   "nav_menu": {},
   "number_sections": false,
   "sideBar": true,
   "skip_h1_title": false,
   "title_cell": "Table of Contents",
   "title_sidebar": "Contents",
   "toc_cell": false,
   "toc_position": {},
   "toc_section_display": true,
   "toc_window_display": true
  },
  "varInspector": {
   "cols": {
    "lenName": 16,
    "lenType": 16,
    "lenVar": 40
   },
   "kernels_config": {
    "python": {
     "delete_cmd_postfix": "",
     "delete_cmd_prefix": "del ",
     "library": "var_list.py",
     "varRefreshCmd": "print(var_dic_list())"
    },
    "r": {
     "delete_cmd_postfix": ") ",
     "delete_cmd_prefix": "rm(",
     "library": "var_list.r",
     "varRefreshCmd": "cat(var_dic_list()) "
    }
   },
   "types_to_exclude": [
    "module",
    "function",
    "builtin_function_or_method",
    "instance",
    "_Feature"
   ],
   "window_display": false
  }
 },
 "nbformat": 4,
 "nbformat_minor": 4
}