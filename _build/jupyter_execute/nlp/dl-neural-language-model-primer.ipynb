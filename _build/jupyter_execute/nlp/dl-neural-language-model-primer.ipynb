{
 "cells": [
  {
   "cell_type": "markdown",
   "metadata": {
    "slideshow": {
     "slide_type": "slide"
    }
   },
   "source": [
    "# Neural Language Model: A Start\n"
   ]
  },
  {
   "cell_type": "markdown",
   "metadata": {
    "slideshow": {
     "slide_type": "subslide"
    }
   },
   "source": [
    "- In this tutorial, we will look at a naive example of **neural language model**.\n",
    "- Given a corpus, we can build a neural language model, which will learn to predict the next word given a specified limited context.\n",
    "- Depending on the size of the **limited context**, we can implement different types of neural language model:\n",
    "    - Bigram-based neural language model: The LM model only uses one preceding word for the next-word prediction.\n",
    "    - Trigram-based neural language model: The model will use two preceding words for the next-word prediction.\n",
    "    - *Line*-based neural language model: The model with use all the existing fore-going words for the next-word prediction"
   ]
  },
  {
   "cell_type": "markdown",
   "metadata": {
    "slideshow": {
     "slide_type": "subslide"
    }
   },
   "source": [
    "- This tutorial will demonstarte how to build a bigram-based language model.\n",
    "- In the Assignments, you need to extend the same rationale to other types of language models."
   ]
  },
  {
   "cell_type": "markdown",
   "metadata": {
    "slideshow": {
     "slide_type": "slide"
    }
   },
   "source": [
    "## Workflow of Neural Language Model"
   ]
  },
  {
   "cell_type": "markdown",
   "metadata": {
    "slideshow": {
     "slide_type": "subslide"
    }
   },
   "source": [
    "![](../images/neural-language-model-flowchart.png)"
   ]
  },
  {
   "cell_type": "markdown",
   "metadata": {
    "slideshow": {
     "slide_type": "slide"
    }
   },
   "source": [
    "## Bigram Model"
   ]
  },
  {
   "cell_type": "markdown",
   "metadata": {
    "slideshow": {
     "slide_type": "subslide"
    }
   },
   "source": [
    "- A bigram-based language model assumes that the next word (to be predicted) depends only on the previous word."
   ]
  },
  {
   "cell_type": "code",
   "execution_count": 1,
   "metadata": {
    "slideshow": {
     "slide_type": "subslide"
    }
   },
   "outputs": [],
   "source": [
    "## Dependencies\n",
    "import numpy as np\n",
    "import tensorflow.keras as keras\n",
    "from tensorflow.keras.preprocessing.text import Tokenizer\n",
    "from tensorflow.keras.utils import to_categorical, plot_model\n",
    "from tensorflow.keras.models import Sequential\n",
    "from tensorflow.keras.layers import Dense, LSTM, Embedding"
   ]
  },
  {
   "cell_type": "markdown",
   "metadata": {
    "slideshow": {
     "slide_type": "slide"
    }
   },
   "source": [
    "### Tokenization\n",
    "\n",
    "- A quick reminder of important parameters for `Tokenzier()`:\n",
    "   - `num_words`: the maximum number of words to keep, based on word frequency. Only the most common `num_words-1` words will be kept.\n",
    "   - `filters`: a string where each element is a character that will be filtered from the texts. The default is all punctuation, plus tabs and line breaks, minus the `'` character.\n",
    "   - `lower`: boolean. Whether to convert the texts to lowercase.\n",
    "   - `split`: str. Separator for word splitting.\n",
    "   - `char_level`: if True, every character will be treated as a token.\n",
    "   - `oov_token`: if given, it will be added to word_index and used to replace out-of-vocabulary words during text_to_sequence calls"
   ]
  },
  {
   "cell_type": "code",
   "execution_count": 2,
   "metadata": {
    "slideshow": {
     "slide_type": "subslide"
    }
   },
   "outputs": [
    {
     "name": "stdout",
     "output_type": "stream",
     "text": [
      "Vocabulary Size: 22\n",
      "{'and': 1, 'jack': 2, 'jill': 3, 'went': 4, 'up': 5, 'the': 6, 'hill': 7, 'to': 8, 'fetch': 9, 'a': 10, 'pail': 11, 'of': 12, 'water': 13, 'fell': 14, 'down': 15, 'broke': 16, 'his': 17, 'crown': 18, 'came': 19, 'tumbling': 20, 'after': 21}\n"
     ]
    }
   ],
   "source": [
    "# source text\n",
    "data = \"\"\" Jack and Jill went up the hill\\n\n",
    "\t\tTo fetch a pail of water\\n\n",
    "\t\tJack fell down and broke his crown\\n\n",
    "\t\tAnd Jill came tumbling after\\n \"\"\"\n",
    "\n",
    "data = [l.strip() for l in data.split('\\n') if l != \"\"]\n",
    "\n",
    "# integer encode text\n",
    "tokenizer = Tokenizer()\n",
    "tokenizer.fit_on_texts(data)\n",
    "\n",
    "# now the data consists of a sequence of word index integers\n",
    "encoded = tokenizer.texts_to_sequences(data)\n",
    "\n",
    "# determine the vocabulary size\n",
    "vocab_size = len(tokenizer.word_index) + 1\n",
    "print('Vocabulary Size: %d' % vocab_size)\n",
    "print(tokenizer.word_index)"
   ]
  },
  {
   "cell_type": "markdown",
   "metadata": {
    "slideshow": {
     "slide_type": "slide"
    }
   },
   "source": [
    "### Text-to-Sequences and Training-Testing Sets"
   ]
  },
  {
   "cell_type": "markdown",
   "metadata": {
    "slideshow": {
     "slide_type": "subslide"
    }
   },
   "source": [
    "- Principles for bigrams extraction\n",
    "    - When we create bigrams as the input sequences for network training, we need to make sure that we do not include **unmeaningful** bigrams, such as bigrams spanning the text boundaries, or sentence boundaries."
   ]
  },
  {
   "cell_type": "code",
   "execution_count": 3,
   "metadata": {
    "slideshow": {
     "slide_type": "subslide"
    }
   },
   "outputs": [
    {
     "name": "stdout",
     "output_type": "stream",
     "text": [
      "Total Sequences: 21\n"
     ]
    }
   ],
   "source": [
    "# create bigrams sequences\n",
    "\n",
    "## bigrams holder\n",
    "sequences = list()\n",
    "\n",
    "\n",
    "## Extract bigrams from each text\n",
    "for e in encoded:\n",
    "    for i in range(1, len(e)):\n",
    "        sequence = e[i - 1:i + 1]\n",
    "        sequences.append(sequence)\n",
    "print('Total Sequences: %d' % len(sequences))\n",
    "sequences = np.array(sequences)"
   ]
  },
  {
   "cell_type": "code",
   "execution_count": 4,
   "metadata": {
    "slideshow": {
     "slide_type": "subslide"
    }
   },
   "outputs": [
    {
     "data": {
      "text/plain": [
       "array([[2, 1],\n",
       "       [1, 3],\n",
       "       [3, 4],\n",
       "       [4, 5],\n",
       "       [5, 6]])"
      ]
     },
     "execution_count": 4,
     "metadata": {},
     "output_type": "execute_result"
    }
   ],
   "source": [
    "sequences[:5]"
   ]
  },
  {
   "cell_type": "markdown",
   "metadata": {
    "slideshow": {
     "slide_type": "subslide"
    }
   },
   "source": [
    "- A sequence contains both our input and also output of the network.\n",
    "- That is, for bigram-based LM, the first word is the input *X* and the second word is the expected output *y*."
   ]
  },
  {
   "cell_type": "code",
   "execution_count": 5,
   "metadata": {
    "slideshow": {
     "slide_type": "subslide"
    }
   },
   "outputs": [],
   "source": [
    "# split into X and y elements\n",
    "X, y = sequences[:, 0], sequences[:, 1]"
   ]
  },
  {
   "cell_type": "code",
   "execution_count": 6,
   "metadata": {
    "scrolled": true,
    "slideshow": {
     "slide_type": "subslide"
    }
   },
   "outputs": [
    {
     "name": "stdout",
     "output_type": "stream",
     "text": [
      "[[2 1]\n",
      " [1 3]\n",
      " [3 4]\n",
      " [4 5]\n",
      " [5 6]]\n",
      "[2 1 3 4 5]\n",
      "[1 3 4 5 6]\n"
     ]
    }
   ],
   "source": [
    "print(sequences[:5])\n",
    "print(X[:5])\n",
    "print(y[:5])\n"
   ]
  },
  {
   "cell_type": "markdown",
   "metadata": {
    "slideshow": {
     "slide_type": "slide"
    }
   },
   "source": [
    "### One-hot Representation of the Next-Word \n",
    "\n",
    "- Because the neural language model is going to be a multi-class classifier (for word prediction), we need to convert our `y` into one-hot encoding."
   ]
  },
  {
   "cell_type": "code",
   "execution_count": 7,
   "metadata": {
    "slideshow": {
     "slide_type": "subslide"
    }
   },
   "outputs": [],
   "source": [
    "# one hot encode outputs\n",
    "y = to_categorical(y, num_classes=vocab_size)"
   ]
  },
  {
   "cell_type": "code",
   "execution_count": 8,
   "metadata": {
    "slideshow": {
     "slide_type": "subslide"
    }
   },
   "outputs": [
    {
     "data": {
      "text/plain": [
       "(21, 22)"
      ]
     },
     "execution_count": 8,
     "metadata": {},
     "output_type": "execute_result"
    }
   ],
   "source": [
    "y.shape"
   ]
  },
  {
   "cell_type": "code",
   "execution_count": 9,
   "metadata": {
    "slideshow": {
     "slide_type": "subslide"
    }
   },
   "outputs": [
    {
     "name": "stdout",
     "output_type": "stream",
     "text": [
      "[[0. 1. 0. 0. 0. 0. 0. 0. 0. 0. 0. 0. 0. 0. 0. 0. 0. 0. 0. 0. 0. 0.]\n",
      " [0. 0. 0. 1. 0. 0. 0. 0. 0. 0. 0. 0. 0. 0. 0. 0. 0. 0. 0. 0. 0. 0.]\n",
      " [0. 0. 0. 0. 1. 0. 0. 0. 0. 0. 0. 0. 0. 0. 0. 0. 0. 0. 0. 0. 0. 0.]\n",
      " [0. 0. 0. 0. 0. 1. 0. 0. 0. 0. 0. 0. 0. 0. 0. 0. 0. 0. 0. 0. 0. 0.]\n",
      " [0. 0. 0. 0. 0. 0. 1. 0. 0. 0. 0. 0. 0. 0. 0. 0. 0. 0. 0. 0. 0. 0.]]\n"
     ]
    }
   ],
   "source": [
    "print(y[:5])"
   ]
  },
  {
   "cell_type": "markdown",
   "metadata": {
    "slideshow": {
     "slide_type": "slide"
    }
   },
   "source": [
    "### Define RNN Language Model"
   ]
  },
  {
   "cell_type": "code",
   "execution_count": 10,
   "metadata": {
    "slideshow": {
     "slide_type": "subslide"
    },
    "tags": [
     "hide-output"
    ]
   },
   "outputs": [
    {
     "name": "stdout",
     "output_type": "stream",
     "text": [
      "Model: \"sequential\"\n",
      "_________________________________________________________________\n",
      "Layer (type)                 Output Shape              Param #   \n",
      "=================================================================\n",
      "embedding (Embedding)        (None, 1, 10)             220       \n",
      "_________________________________________________________________\n",
      "lstm (LSTM)                  (None, 50)                12200     \n",
      "_________________________________________________________________\n",
      "dense (Dense)                (None, 22)                1122      \n",
      "=================================================================\n",
      "Total params: 13,542\n",
      "Trainable params: 13,542\n",
      "Non-trainable params: 0\n",
      "_________________________________________________________________\n",
      "None\n"
     ]
    }
   ],
   "source": [
    "# define model\n",
    "model = Sequential()\n",
    "model.add(Embedding(input_dim=vocab_size, output_dim=10, input_length=1))\n",
    "model.add(LSTM(50))  # LSTM Complexity\n",
    "model.add(Dense(vocab_size, activation='softmax'))\n",
    "print(model.summary())"
   ]
  },
  {
   "cell_type": "code",
   "execution_count": 11,
   "metadata": {
    "slideshow": {
     "slide_type": "subslide"
    },
    "tags": [
     "hide-output"
    ]
   },
   "outputs": [
    {
     "name": "stdout",
     "output_type": "stream",
     "text": [
      "Epoch 1/500\n",
      "1/1 - 2s - loss: 3.0898 - accuracy: 0.2381\n",
      "Epoch 2/500\n",
      "1/1 - 0s - loss: 3.0889 - accuracy: 0.2381\n",
      "Epoch 3/500\n",
      "1/1 - 0s - loss: 3.0881 - accuracy: 0.2381\n",
      "Epoch 4/500\n",
      "1/1 - 0s - loss: 3.0872 - accuracy: 0.2381\n",
      "Epoch 5/500\n",
      "1/1 - 0s - loss: 3.0863 - accuracy: 0.2857\n",
      "Epoch 6/500\n",
      "1/1 - 0s - loss: 3.0855 - accuracy: 0.2857\n",
      "Epoch 7/500\n",
      "1/1 - 0s - loss: 3.0846 - accuracy: 0.2857\n",
      "Epoch 8/500\n",
      "1/1 - 0s - loss: 3.0837 - accuracy: 0.3333\n",
      "Epoch 9/500\n",
      "1/1 - 0s - loss: 3.0828 - accuracy: 0.3333\n",
      "Epoch 10/500\n",
      "1/1 - 0s - loss: 3.0819 - accuracy: 0.3333\n",
      "Epoch 11/500\n",
      "1/1 - 0s - loss: 3.0810 - accuracy: 0.3333\n",
      "Epoch 12/500\n",
      "1/1 - 0s - loss: 3.0800 - accuracy: 0.3333\n",
      "Epoch 13/500\n",
      "1/1 - 0s - loss: 3.0791 - accuracy: 0.3333\n",
      "Epoch 14/500\n",
      "1/1 - 0s - loss: 3.0781 - accuracy: 0.3333\n",
      "Epoch 15/500\n",
      "1/1 - 0s - loss: 3.0771 - accuracy: 0.3333\n",
      "Epoch 16/500\n",
      "1/1 - 0s - loss: 3.0760 - accuracy: 0.3333\n",
      "Epoch 17/500\n",
      "1/1 - 0s - loss: 3.0750 - accuracy: 0.3333\n",
      "Epoch 18/500\n",
      "1/1 - 0s - loss: 3.0739 - accuracy: 0.3333\n",
      "Epoch 19/500\n",
      "1/1 - 0s - loss: 3.0728 - accuracy: 0.3333\n",
      "Epoch 20/500\n",
      "1/1 - 0s - loss: 3.0717 - accuracy: 0.3333\n",
      "Epoch 21/500\n",
      "1/1 - 0s - loss: 3.0706 - accuracy: 0.3333\n",
      "Epoch 22/500\n",
      "1/1 - 0s - loss: 3.0694 - accuracy: 0.2857\n",
      "Epoch 23/500\n",
      "1/1 - 0s - loss: 3.0682 - accuracy: 0.2381\n",
      "Epoch 24/500\n",
      "1/1 - 0s - loss: 3.0669 - accuracy: 0.2381\n",
      "Epoch 25/500\n",
      "1/1 - 0s - loss: 3.0657 - accuracy: 0.2381\n",
      "Epoch 26/500\n",
      "1/1 - 0s - loss: 3.0644 - accuracy: 0.2381\n",
      "Epoch 27/500\n",
      "1/1 - 0s - loss: 3.0630 - accuracy: 0.2381\n",
      "Epoch 28/500\n",
      "1/1 - 0s - loss: 3.0617 - accuracy: 0.2381\n",
      "Epoch 29/500\n",
      "1/1 - 0s - loss: 3.0602 - accuracy: 0.2381\n",
      "Epoch 30/500\n",
      "1/1 - 0s - loss: 3.0588 - accuracy: 0.2381\n",
      "Epoch 31/500\n",
      "1/1 - 0s - loss: 3.0573 - accuracy: 0.2381\n",
      "Epoch 32/500\n",
      "1/1 - 0s - loss: 3.0557 - accuracy: 0.2381\n",
      "Epoch 33/500\n",
      "1/1 - 0s - loss: 3.0542 - accuracy: 0.2381\n",
      "Epoch 34/500\n",
      "1/1 - 0s - loss: 3.0525 - accuracy: 0.2381\n",
      "Epoch 35/500\n",
      "1/1 - 0s - loss: 3.0509 - accuracy: 0.2381\n",
      "Epoch 36/500\n",
      "1/1 - 0s - loss: 3.0491 - accuracy: 0.2381\n",
      "Epoch 37/500\n",
      "1/1 - 0s - loss: 3.0474 - accuracy: 0.2381\n",
      "Epoch 38/500\n",
      "1/1 - 0s - loss: 3.0455 - accuracy: 0.2381\n",
      "Epoch 39/500\n",
      "1/1 - 0s - loss: 3.0436 - accuracy: 0.2381\n",
      "Epoch 40/500\n",
      "1/1 - 0s - loss: 3.0417 - accuracy: 0.2381\n",
      "Epoch 41/500\n",
      "1/1 - 0s - loss: 3.0397 - accuracy: 0.2381\n",
      "Epoch 42/500\n",
      "1/1 - 0s - loss: 3.0377 - accuracy: 0.2381\n",
      "Epoch 43/500\n",
      "1/1 - 0s - loss: 3.0355 - accuracy: 0.2381\n",
      "Epoch 44/500\n",
      "1/1 - 0s - loss: 3.0334 - accuracy: 0.2381\n",
      "Epoch 45/500\n",
      "1/1 - 0s - loss: 3.0311 - accuracy: 0.1905\n",
      "Epoch 46/500\n",
      "1/1 - 0s - loss: 3.0288 - accuracy: 0.1905\n",
      "Epoch 47/500\n",
      "1/1 - 0s - loss: 3.0264 - accuracy: 0.2381\n",
      "Epoch 48/500\n",
      "1/1 - 0s - loss: 3.0240 - accuracy: 0.2381\n",
      "Epoch 49/500\n",
      "1/1 - 0s - loss: 3.0215 - accuracy: 0.2381\n",
      "Epoch 50/500\n",
      "1/1 - 0s - loss: 3.0189 - accuracy: 0.2381\n",
      "Epoch 51/500\n",
      "1/1 - 0s - loss: 3.0162 - accuracy: 0.2381\n",
      "Epoch 52/500\n",
      "1/1 - 0s - loss: 3.0135 - accuracy: 0.2381\n",
      "Epoch 53/500\n",
      "1/1 - 0s - loss: 3.0106 - accuracy: 0.2381\n",
      "Epoch 54/500\n",
      "1/1 - 0s - loss: 3.0077 - accuracy: 0.2381\n",
      "Epoch 55/500\n",
      "1/1 - 0s - loss: 3.0047 - accuracy: 0.2381\n",
      "Epoch 56/500\n",
      "1/1 - 0s - loss: 3.0017 - accuracy: 0.2381\n",
      "Epoch 57/500\n",
      "1/1 - 0s - loss: 2.9985 - accuracy: 0.2381\n",
      "Epoch 58/500\n",
      "1/1 - 0s - loss: 2.9952 - accuracy: 0.2381\n",
      "Epoch 59/500\n",
      "1/1 - 0s - loss: 2.9919 - accuracy: 0.2381\n",
      "Epoch 60/500\n",
      "1/1 - 0s - loss: 2.9884 - accuracy: 0.2381\n",
      "Epoch 61/500\n",
      "1/1 - 0s - loss: 2.9849 - accuracy: 0.2381\n",
      "Epoch 62/500\n",
      "1/1 - 0s - loss: 2.9812 - accuracy: 0.2381\n",
      "Epoch 63/500\n",
      "1/1 - 0s - loss: 2.9774 - accuracy: 0.2381\n",
      "Epoch 64/500\n",
      "1/1 - 0s - loss: 2.9736 - accuracy: 0.2381\n",
      "Epoch 65/500\n",
      "1/1 - 0s - loss: 2.9696 - accuracy: 0.2381\n",
      "Epoch 66/500\n",
      "1/1 - 0s - loss: 2.9655 - accuracy: 0.2381\n",
      "Epoch 67/500\n",
      "1/1 - 0s - loss: 2.9613 - accuracy: 0.2381\n",
      "Epoch 68/500\n",
      "1/1 - 0s - loss: 2.9570 - accuracy: 0.2381\n",
      "Epoch 69/500\n",
      "1/1 - 0s - loss: 2.9526 - accuracy: 0.2381\n",
      "Epoch 70/500\n",
      "1/1 - 0s - loss: 2.9480 - accuracy: 0.2857\n",
      "Epoch 71/500\n",
      "1/1 - 0s - loss: 2.9433 - accuracy: 0.2857\n",
      "Epoch 72/500\n",
      "1/1 - 0s - loss: 2.9385 - accuracy: 0.2857\n",
      "Epoch 73/500\n",
      "1/1 - 0s - loss: 2.9336 - accuracy: 0.2857\n",
      "Epoch 74/500\n",
      "1/1 - 0s - loss: 2.9285 - accuracy: 0.2857\n",
      "Epoch 75/500\n",
      "1/1 - 0s - loss: 2.9233 - accuracy: 0.2857\n",
      "Epoch 76/500\n",
      "1/1 - 0s - loss: 2.9179 - accuracy: 0.2857\n",
      "Epoch 77/500\n",
      "1/1 - 0s - loss: 2.9125 - accuracy: 0.2857\n",
      "Epoch 78/500\n",
      "1/1 - 0s - loss: 2.9068 - accuracy: 0.2857\n",
      "Epoch 79/500\n",
      "1/1 - 0s - loss: 2.9010 - accuracy: 0.2857\n",
      "Epoch 80/500\n",
      "1/1 - 0s - loss: 2.8951 - accuracy: 0.2857\n",
      "Epoch 81/500\n",
      "1/1 - 0s - loss: 2.8890 - accuracy: 0.2857\n",
      "Epoch 82/500\n",
      "1/1 - 0s - loss: 2.8828 - accuracy: 0.2857\n",
      "Epoch 83/500\n",
      "1/1 - 0s - loss: 2.8764 - accuracy: 0.2857\n",
      "Epoch 84/500\n",
      "1/1 - 0s - loss: 2.8698 - accuracy: 0.2857\n",
      "Epoch 85/500\n",
      "1/1 - 0s - loss: 2.8631 - accuracy: 0.2857\n",
      "Epoch 86/500\n",
      "1/1 - 0s - loss: 2.8562 - accuracy: 0.2857\n",
      "Epoch 87/500\n",
      "1/1 - 0s - loss: 2.8492 - accuracy: 0.2857\n",
      "Epoch 88/500\n",
      "1/1 - 0s - loss: 2.8420 - accuracy: 0.2857\n",
      "Epoch 89/500\n",
      "1/1 - 0s - loss: 2.8346 - accuracy: 0.2857\n",
      "Epoch 90/500\n",
      "1/1 - 0s - loss: 2.8270 - accuracy: 0.2857\n",
      "Epoch 91/500\n",
      "1/1 - 0s - loss: 2.8193 - accuracy: 0.2857\n",
      "Epoch 92/500\n",
      "1/1 - 0s - loss: 2.8114 - accuracy: 0.2857\n",
      "Epoch 93/500\n",
      "1/1 - 0s - loss: 2.8033 - accuracy: 0.2857\n",
      "Epoch 94/500\n",
      "1/1 - 0s - loss: 2.7951 - accuracy: 0.2857\n",
      "Epoch 95/500\n",
      "1/1 - 0s - loss: 2.7866 - accuracy: 0.2857\n",
      "Epoch 96/500\n",
      "1/1 - 0s - loss: 2.7780 - accuracy: 0.2857\n",
      "Epoch 97/500\n",
      "1/1 - 0s - loss: 2.7692 - accuracy: 0.2857\n",
      "Epoch 98/500\n",
      "1/1 - 0s - loss: 2.7602 - accuracy: 0.2857\n",
      "Epoch 99/500\n",
      "1/1 - 0s - loss: 2.7510 - accuracy: 0.2857\n",
      "Epoch 100/500\n",
      "1/1 - 0s - loss: 2.7416 - accuracy: 0.2857\n",
      "Epoch 101/500\n",
      "1/1 - 0s - loss: 2.7321 - accuracy: 0.2857\n",
      "Epoch 102/500\n",
      "1/1 - 0s - loss: 2.7224 - accuracy: 0.2857\n",
      "Epoch 103/500\n",
      "1/1 - 0s - loss: 2.7124 - accuracy: 0.2857\n",
      "Epoch 104/500\n",
      "1/1 - 0s - loss: 2.7023 - accuracy: 0.2857\n",
      "Epoch 105/500\n",
      "1/1 - 0s - loss: 2.6920 - accuracy: 0.2857\n",
      "Epoch 106/500\n",
      "1/1 - 0s - loss: 2.6816 - accuracy: 0.2857\n",
      "Epoch 107/500\n",
      "1/1 - 0s - loss: 2.6709 - accuracy: 0.2857\n",
      "Epoch 108/500\n",
      "1/1 - 0s - loss: 2.6601 - accuracy: 0.2857\n",
      "Epoch 109/500\n",
      "1/1 - 0s - loss: 2.6491 - accuracy: 0.2857\n",
      "Epoch 110/500\n",
      "1/1 - 0s - loss: 2.6379 - accuracy: 0.2857\n",
      "Epoch 111/500\n",
      "1/1 - 0s - loss: 2.6266 - accuracy: 0.2857\n",
      "Epoch 112/500\n",
      "1/1 - 0s - loss: 2.6151 - accuracy: 0.2857\n",
      "Epoch 113/500\n",
      "1/1 - 0s - loss: 2.6034 - accuracy: 0.2857\n",
      "Epoch 114/500\n",
      "1/1 - 0s - loss: 2.5915 - accuracy: 0.2857\n",
      "Epoch 115/500\n",
      "1/1 - 0s - loss: 2.5795 - accuracy: 0.2857\n",
      "Epoch 116/500\n",
      "1/1 - 0s - loss: 2.5673 - accuracy: 0.2857\n",
      "Epoch 117/500\n",
      "1/1 - 0s - loss: 2.5550 - accuracy: 0.2857\n",
      "Epoch 118/500\n",
      "1/1 - 0s - loss: 2.5426 - accuracy: 0.2857\n",
      "Epoch 119/500\n",
      "1/1 - 0s - loss: 2.5300 - accuracy: 0.2857\n",
      "Epoch 120/500\n",
      "1/1 - 0s - loss: 2.5172 - accuracy: 0.2857\n",
      "Epoch 121/500\n",
      "1/1 - 0s - loss: 2.5044 - accuracy: 0.3333\n",
      "Epoch 122/500\n",
      "1/1 - 0s - loss: 2.4914 - accuracy: 0.3333\n",
      "Epoch 123/500\n",
      "1/1 - 0s - loss: 2.4782 - accuracy: 0.3333\n",
      "Epoch 124/500\n",
      "1/1 - 0s - loss: 2.4650 - accuracy: 0.3333\n",
      "Epoch 125/500\n",
      "1/1 - 0s - loss: 2.4517 - accuracy: 0.3810\n",
      "Epoch 126/500\n",
      "1/1 - 0s - loss: 2.4382 - accuracy: 0.3810\n",
      "Epoch 127/500\n",
      "1/1 - 0s - loss: 2.4247 - accuracy: 0.4286\n",
      "Epoch 128/500\n",
      "1/1 - 0s - loss: 2.4111 - accuracy: 0.4286\n",
      "Epoch 129/500\n",
      "1/1 - 0s - loss: 2.3974 - accuracy: 0.4286\n",
      "Epoch 130/500\n",
      "1/1 - 0s - loss: 2.3836 - accuracy: 0.4286\n",
      "Epoch 131/500\n",
      "1/1 - 0s - loss: 2.3697 - accuracy: 0.4762\n",
      "Epoch 132/500\n",
      "1/1 - 0s - loss: 2.3558 - accuracy: 0.4762\n",
      "Epoch 133/500\n",
      "1/1 - 0s - loss: 2.3419 - accuracy: 0.4762\n",
      "Epoch 134/500\n",
      "1/1 - 0s - loss: 2.3278 - accuracy: 0.5238\n",
      "Epoch 135/500\n",
      "1/1 - 0s - loss: 2.3138 - accuracy: 0.5238\n",
      "Epoch 136/500\n",
      "1/1 - 0s - loss: 2.2997 - accuracy: 0.5238\n",
      "Epoch 137/500\n",
      "1/1 - 0s - loss: 2.2856 - accuracy: 0.5238\n",
      "Epoch 138/500\n",
      "1/1 - 0s - loss: 2.2714 - accuracy: 0.5238\n",
      "Epoch 139/500\n",
      "1/1 - 0s - loss: 2.2572 - accuracy: 0.5238\n",
      "Epoch 140/500\n",
      "1/1 - 0s - loss: 2.2431 - accuracy: 0.5238\n",
      "Epoch 141/500\n",
      "1/1 - 0s - loss: 2.2289 - accuracy: 0.5238\n",
      "Epoch 142/500\n",
      "1/1 - 0s - loss: 2.2147 - accuracy: 0.5238\n",
      "Epoch 143/500\n",
      "1/1 - 0s - loss: 2.2005 - accuracy: 0.5238\n",
      "Epoch 144/500\n",
      "1/1 - 0s - loss: 2.1863 - accuracy: 0.5238\n",
      "Epoch 145/500\n",
      "1/1 - 0s - loss: 2.1721 - accuracy: 0.5238\n",
      "Epoch 146/500\n",
      "1/1 - 0s - loss: 2.1579 - accuracy: 0.5238\n"
     ]
    },
    {
     "name": "stdout",
     "output_type": "stream",
     "text": [
      "Epoch 147/500\n",
      "1/1 - 0s - loss: 2.1438 - accuracy: 0.5238\n",
      "Epoch 148/500\n",
      "1/1 - 0s - loss: 2.1296 - accuracy: 0.5238\n",
      "Epoch 149/500\n",
      "1/1 - 0s - loss: 2.1155 - accuracy: 0.5238\n",
      "Epoch 150/500\n",
      "1/1 - 0s - loss: 2.1014 - accuracy: 0.5238\n",
      "Epoch 151/500\n",
      "1/1 - 0s - loss: 2.0874 - accuracy: 0.5238\n",
      "Epoch 152/500\n",
      "1/1 - 0s - loss: 2.0733 - accuracy: 0.5238\n",
      "Epoch 153/500\n",
      "1/1 - 0s - loss: 2.0593 - accuracy: 0.5238\n",
      "Epoch 154/500\n",
      "1/1 - 0s - loss: 2.0454 - accuracy: 0.5238\n",
      "Epoch 155/500\n",
      "1/1 - 0s - loss: 2.0314 - accuracy: 0.5238\n",
      "Epoch 156/500\n",
      "1/1 - 0s - loss: 2.0175 - accuracy: 0.5238\n",
      "Epoch 157/500\n",
      "1/1 - 0s - loss: 2.0037 - accuracy: 0.5238\n",
      "Epoch 158/500\n",
      "1/1 - 0s - loss: 1.9898 - accuracy: 0.5714\n",
      "Epoch 159/500\n",
      "1/1 - 0s - loss: 1.9760 - accuracy: 0.5714\n",
      "Epoch 160/500\n",
      "1/1 - 0s - loss: 1.9622 - accuracy: 0.5714\n",
      "Epoch 161/500\n",
      "1/1 - 0s - loss: 1.9485 - accuracy: 0.5714\n",
      "Epoch 162/500\n",
      "1/1 - 0s - loss: 1.9348 - accuracy: 0.5714\n",
      "Epoch 163/500\n",
      "1/1 - 0s - loss: 1.9211 - accuracy: 0.5714\n",
      "Epoch 164/500\n",
      "1/1 - 0s - loss: 1.9075 - accuracy: 0.5714\n",
      "Epoch 165/500\n",
      "1/1 - 0s - loss: 1.8939 - accuracy: 0.5714\n",
      "Epoch 166/500\n",
      "1/1 - 0s - loss: 1.8803 - accuracy: 0.5714\n",
      "Epoch 167/500\n",
      "1/1 - 0s - loss: 1.8668 - accuracy: 0.5714\n",
      "Epoch 168/500\n",
      "1/1 - 0s - loss: 1.8533 - accuracy: 0.6190\n",
      "Epoch 169/500\n",
      "1/1 - 0s - loss: 1.8398 - accuracy: 0.6190\n",
      "Epoch 170/500\n",
      "1/1 - 0s - loss: 1.8263 - accuracy: 0.6190\n",
      "Epoch 171/500\n",
      "1/1 - 0s - loss: 1.8129 - accuracy: 0.6190\n",
      "Epoch 172/500\n",
      "1/1 - 0s - loss: 1.7995 - accuracy: 0.6190\n",
      "Epoch 173/500\n",
      "1/1 - 0s - loss: 1.7861 - accuracy: 0.6190\n",
      "Epoch 174/500\n",
      "1/1 - 0s - loss: 1.7728 - accuracy: 0.6190\n",
      "Epoch 175/500\n",
      "1/1 - 0s - loss: 1.7595 - accuracy: 0.6190\n",
      "Epoch 176/500\n",
      "1/1 - 0s - loss: 1.7462 - accuracy: 0.6667\n",
      "Epoch 177/500\n",
      "1/1 - 0s - loss: 1.7329 - accuracy: 0.6667\n",
      "Epoch 178/500\n",
      "1/1 - 0s - loss: 1.7196 - accuracy: 0.6667\n",
      "Epoch 179/500\n",
      "1/1 - 0s - loss: 1.7064 - accuracy: 0.6667\n",
      "Epoch 180/500\n",
      "1/1 - 0s - loss: 1.6932 - accuracy: 0.6667\n",
      "Epoch 181/500\n",
      "1/1 - 0s - loss: 1.6800 - accuracy: 0.6667\n",
      "Epoch 182/500\n",
      "1/1 - 0s - loss: 1.6668 - accuracy: 0.6667\n",
      "Epoch 183/500\n",
      "1/1 - 0s - loss: 1.6537 - accuracy: 0.6667\n",
      "Epoch 184/500\n",
      "1/1 - 0s - loss: 1.6406 - accuracy: 0.6667\n",
      "Epoch 185/500\n",
      "1/1 - 0s - loss: 1.6275 - accuracy: 0.6667\n",
      "Epoch 186/500\n",
      "1/1 - 0s - loss: 1.6144 - accuracy: 0.6667\n",
      "Epoch 187/500\n",
      "1/1 - 0s - loss: 1.6013 - accuracy: 0.6667\n",
      "Epoch 188/500\n",
      "1/1 - 0s - loss: 1.5883 - accuracy: 0.7143\n",
      "Epoch 189/500\n",
      "1/1 - 0s - loss: 1.5753 - accuracy: 0.7619\n",
      "Epoch 190/500\n",
      "1/1 - 0s - loss: 1.5623 - accuracy: 0.7619\n",
      "Epoch 191/500\n",
      "1/1 - 0s - loss: 1.5493 - accuracy: 0.7619\n",
      "Epoch 192/500\n",
      "1/1 - 0s - loss: 1.5364 - accuracy: 0.7619\n",
      "Epoch 193/500\n",
      "1/1 - 0s - loss: 1.5235 - accuracy: 0.7619\n",
      "Epoch 194/500\n",
      "1/1 - 0s - loss: 1.5106 - accuracy: 0.7619\n",
      "Epoch 195/500\n",
      "1/1 - 0s - loss: 1.4977 - accuracy: 0.7619\n",
      "Epoch 196/500\n",
      "1/1 - 0s - loss: 1.4849 - accuracy: 0.7619\n",
      "Epoch 197/500\n",
      "1/1 - 0s - loss: 1.4721 - accuracy: 0.7619\n",
      "Epoch 198/500\n",
      "1/1 - 0s - loss: 1.4593 - accuracy: 0.7619\n",
      "Epoch 199/500\n",
      "1/1 - 0s - loss: 1.4466 - accuracy: 0.7619\n",
      "Epoch 200/500\n",
      "1/1 - 0s - loss: 1.4338 - accuracy: 0.8095\n",
      "Epoch 201/500\n",
      "1/1 - 0s - loss: 1.4212 - accuracy: 0.8095\n",
      "Epoch 202/500\n",
      "1/1 - 0s - loss: 1.4085 - accuracy: 0.8095\n",
      "Epoch 203/500\n",
      "1/1 - 0s - loss: 1.3959 - accuracy: 0.8095\n",
      "Epoch 204/500\n",
      "1/1 - 0s - loss: 1.3833 - accuracy: 0.8095\n",
      "Epoch 205/500\n",
      "1/1 - 0s - loss: 1.3708 - accuracy: 0.8095\n",
      "Epoch 206/500\n",
      "1/1 - 0s - loss: 1.3583 - accuracy: 0.8095\n",
      "Epoch 207/500\n",
      "1/1 - 0s - loss: 1.3459 - accuracy: 0.8095\n",
      "Epoch 208/500\n",
      "1/1 - 0s - loss: 1.3335 - accuracy: 0.8095\n",
      "Epoch 209/500\n",
      "1/1 - 0s - loss: 1.3211 - accuracy: 0.8095\n",
      "Epoch 210/500\n",
      "1/1 - 0s - loss: 1.3088 - accuracy: 0.8095\n",
      "Epoch 211/500\n",
      "1/1 - 0s - loss: 1.2966 - accuracy: 0.8095\n",
      "Epoch 212/500\n",
      "1/1 - 0s - loss: 1.2844 - accuracy: 0.8095\n",
      "Epoch 213/500\n",
      "1/1 - 0s - loss: 1.2722 - accuracy: 0.8095\n",
      "Epoch 214/500\n",
      "1/1 - 0s - loss: 1.2601 - accuracy: 0.8095\n",
      "Epoch 215/500\n",
      "1/1 - 0s - loss: 1.2481 - accuracy: 0.8095\n",
      "Epoch 216/500\n",
      "1/1 - 0s - loss: 1.2361 - accuracy: 0.8095\n",
      "Epoch 217/500\n",
      "1/1 - 0s - loss: 1.2242 - accuracy: 0.8095\n",
      "Epoch 218/500\n",
      "1/1 - 0s - loss: 1.2123 - accuracy: 0.8095\n",
      "Epoch 219/500\n",
      "1/1 - 0s - loss: 1.2005 - accuracy: 0.8095\n",
      "Epoch 220/500\n",
      "1/1 - 0s - loss: 1.1888 - accuracy: 0.8095\n",
      "Epoch 221/500\n",
      "1/1 - 0s - loss: 1.1772 - accuracy: 0.8095\n",
      "Epoch 222/500\n",
      "1/1 - 0s - loss: 1.1656 - accuracy: 0.8095\n",
      "Epoch 223/500\n",
      "1/1 - 0s - loss: 1.1541 - accuracy: 0.8095\n",
      "Epoch 224/500\n",
      "1/1 - 0s - loss: 1.1427 - accuracy: 0.8095\n",
      "Epoch 225/500\n",
      "1/1 - 0s - loss: 1.1313 - accuracy: 0.8571\n",
      "Epoch 226/500\n",
      "1/1 - 0s - loss: 1.1200 - accuracy: 0.8571\n",
      "Epoch 227/500\n",
      "1/1 - 0s - loss: 1.1088 - accuracy: 0.8571\n",
      "Epoch 228/500\n",
      "1/1 - 0s - loss: 1.0977 - accuracy: 0.8571\n",
      "Epoch 229/500\n",
      "1/1 - 0s - loss: 1.0867 - accuracy: 0.8571\n",
      "Epoch 230/500\n",
      "1/1 - 0s - loss: 1.0757 - accuracy: 0.8571\n",
      "Epoch 231/500\n",
      "1/1 - 0s - loss: 1.0649 - accuracy: 0.8571\n",
      "Epoch 232/500\n",
      "1/1 - 0s - loss: 1.0541 - accuracy: 0.8571\n",
      "Epoch 233/500\n",
      "1/1 - 0s - loss: 1.0434 - accuracy: 0.8571\n",
      "Epoch 234/500\n",
      "1/1 - 0s - loss: 1.0328 - accuracy: 0.8571\n",
      "Epoch 235/500\n",
      "1/1 - 0s - loss: 1.0223 - accuracy: 0.8571\n",
      "Epoch 236/500\n",
      "1/1 - 0s - loss: 1.0119 - accuracy: 0.8571\n",
      "Epoch 237/500\n",
      "1/1 - 0s - loss: 1.0015 - accuracy: 0.8571\n",
      "Epoch 238/500\n",
      "1/1 - 0s - loss: 0.9913 - accuracy: 0.8571\n",
      "Epoch 239/500\n",
      "1/1 - 0s - loss: 0.9812 - accuracy: 0.8571\n",
      "Epoch 240/500\n",
      "1/1 - 0s - loss: 0.9711 - accuracy: 0.8571\n",
      "Epoch 241/500\n",
      "1/1 - 0s - loss: 0.9612 - accuracy: 0.8571\n",
      "Epoch 242/500\n",
      "1/1 - 0s - loss: 0.9513 - accuracy: 0.8571\n",
      "Epoch 243/500\n",
      "1/1 - 0s - loss: 0.9416 - accuracy: 0.8571\n",
      "Epoch 244/500\n",
      "1/1 - 0s - loss: 0.9319 - accuracy: 0.8571\n",
      "Epoch 245/500\n",
      "1/1 - 0s - loss: 0.9223 - accuracy: 0.8571\n",
      "Epoch 246/500\n",
      "1/1 - 0s - loss: 0.9129 - accuracy: 0.8571\n",
      "Epoch 247/500\n",
      "1/1 - 0s - loss: 0.9035 - accuracy: 0.8571\n",
      "Epoch 248/500\n",
      "1/1 - 0s - loss: 0.8943 - accuracy: 0.8571\n",
      "Epoch 249/500\n",
      "1/1 - 0s - loss: 0.8851 - accuracy: 0.8571\n",
      "Epoch 250/500\n",
      "1/1 - 0s - loss: 0.8760 - accuracy: 0.8571\n",
      "Epoch 251/500\n",
      "1/1 - 0s - loss: 0.8671 - accuracy: 0.8571\n",
      "Epoch 252/500\n",
      "1/1 - 0s - loss: 0.8582 - accuracy: 0.8571\n",
      "Epoch 253/500\n",
      "1/1 - 0s - loss: 0.8495 - accuracy: 0.8571\n",
      "Epoch 254/500\n",
      "1/1 - 0s - loss: 0.8408 - accuracy: 0.8571\n",
      "Epoch 255/500\n",
      "1/1 - 0s - loss: 0.8322 - accuracy: 0.8571\n",
      "Epoch 256/500\n",
      "1/1 - 0s - loss: 0.8238 - accuracy: 0.8571\n",
      "Epoch 257/500\n",
      "1/1 - 0s - loss: 0.8154 - accuracy: 0.8571\n",
      "Epoch 258/500\n",
      "1/1 - 0s - loss: 0.8071 - accuracy: 0.8571\n",
      "Epoch 259/500\n",
      "1/1 - 0s - loss: 0.7990 - accuracy: 0.8571\n",
      "Epoch 260/500\n",
      "1/1 - 0s - loss: 0.7909 - accuracy: 0.8571\n",
      "Epoch 261/500\n",
      "1/1 - 0s - loss: 0.7829 - accuracy: 0.8571\n",
      "Epoch 262/500\n",
      "1/1 - 0s - loss: 0.7750 - accuracy: 0.8571\n",
      "Epoch 263/500\n",
      "1/1 - 0s - loss: 0.7673 - accuracy: 0.8571\n",
      "Epoch 264/500\n",
      "1/1 - 0s - loss: 0.7596 - accuracy: 0.8571\n",
      "Epoch 265/500\n",
      "1/1 - 0s - loss: 0.7520 - accuracy: 0.8571\n",
      "Epoch 266/500\n",
      "1/1 - 0s - loss: 0.7445 - accuracy: 0.8571\n",
      "Epoch 267/500\n",
      "1/1 - 0s - loss: 0.7371 - accuracy: 0.8571\n",
      "Epoch 268/500\n",
      "1/1 - 0s - loss: 0.7298 - accuracy: 0.8571\n",
      "Epoch 269/500\n",
      "1/1 - 0s - loss: 0.7226 - accuracy: 0.8571\n",
      "Epoch 270/500\n",
      "1/1 - 0s - loss: 0.7155 - accuracy: 0.8571\n",
      "Epoch 271/500\n",
      "1/1 - 0s - loss: 0.7085 - accuracy: 0.8571\n",
      "Epoch 272/500\n",
      "1/1 - 0s - loss: 0.7016 - accuracy: 0.8571\n",
      "Epoch 273/500\n",
      "1/1 - 0s - loss: 0.6948 - accuracy: 0.8571\n",
      "Epoch 274/500\n",
      "1/1 - 0s - loss: 0.6880 - accuracy: 0.8571\n",
      "Epoch 275/500\n",
      "1/1 - 0s - loss: 0.6814 - accuracy: 0.8571\n",
      "Epoch 276/500\n",
      "1/1 - 0s - loss: 0.6748 - accuracy: 0.8571\n",
      "Epoch 277/500\n",
      "1/1 - 0s - loss: 0.6683 - accuracy: 0.8571\n",
      "Epoch 278/500\n",
      "1/1 - 0s - loss: 0.6620 - accuracy: 0.8571\n",
      "Epoch 279/500\n",
      "1/1 - 0s - loss: 0.6557 - accuracy: 0.8571\n",
      "Epoch 280/500\n",
      "1/1 - 0s - loss: 0.6494 - accuracy: 0.8571\n",
      "Epoch 281/500\n",
      "1/1 - 0s - loss: 0.6433 - accuracy: 0.8571\n",
      "Epoch 282/500\n",
      "1/1 - 0s - loss: 0.6373 - accuracy: 0.8571\n",
      "Epoch 283/500\n",
      "1/1 - 0s - loss: 0.6313 - accuracy: 0.8571\n",
      "Epoch 284/500\n",
      "1/1 - 0s - loss: 0.6255 - accuracy: 0.8571\n",
      "Epoch 285/500\n",
      "1/1 - 0s - loss: 0.6197 - accuracy: 0.8571\n",
      "Epoch 286/500\n",
      "1/1 - 0s - loss: 0.6140 - accuracy: 0.8571\n",
      "Epoch 287/500\n",
      "1/1 - 0s - loss: 0.6084 - accuracy: 0.8571\n",
      "Epoch 288/500\n",
      "1/1 - 0s - loss: 0.6028 - accuracy: 0.8571\n",
      "Epoch 289/500\n",
      "1/1 - 0s - loss: 0.5974 - accuracy: 0.8571\n",
      "Epoch 290/500\n",
      "1/1 - 0s - loss: 0.5920 - accuracy: 0.8571\n"
     ]
    },
    {
     "name": "stdout",
     "output_type": "stream",
     "text": [
      "Epoch 291/500\n",
      "1/1 - 0s - loss: 0.5867 - accuracy: 0.8571\n",
      "Epoch 292/500\n",
      "1/1 - 0s - loss: 0.5815 - accuracy: 0.8571\n",
      "Epoch 293/500\n",
      "1/1 - 0s - loss: 0.5763 - accuracy: 0.8571\n",
      "Epoch 294/500\n",
      "1/1 - 0s - loss: 0.5712 - accuracy: 0.8571\n",
      "Epoch 295/500\n",
      "1/1 - 0s - loss: 0.5663 - accuracy: 0.8571\n",
      "Epoch 296/500\n",
      "1/1 - 0s - loss: 0.5613 - accuracy: 0.8571\n",
      "Epoch 297/500\n",
      "1/1 - 0s - loss: 0.5565 - accuracy: 0.8571\n",
      "Epoch 298/500\n",
      "1/1 - 0s - loss: 0.5517 - accuracy: 0.8571\n",
      "Epoch 299/500\n",
      "1/1 - 0s - loss: 0.5470 - accuracy: 0.8571\n",
      "Epoch 300/500\n",
      "1/1 - 0s - loss: 0.5424 - accuracy: 0.8571\n",
      "Epoch 301/500\n",
      "1/1 - 0s - loss: 0.5378 - accuracy: 0.8571\n",
      "Epoch 302/500\n",
      "1/1 - 0s - loss: 0.5333 - accuracy: 0.8571\n",
      "Epoch 303/500\n",
      "1/1 - 0s - loss: 0.5289 - accuracy: 0.8571\n",
      "Epoch 304/500\n",
      "1/1 - 0s - loss: 0.5245 - accuracy: 0.8571\n",
      "Epoch 305/500\n",
      "1/1 - 0s - loss: 0.5203 - accuracy: 0.8571\n",
      "Epoch 306/500\n",
      "1/1 - 0s - loss: 0.5160 - accuracy: 0.8571\n",
      "Epoch 307/500\n",
      "1/1 - 0s - loss: 0.5119 - accuracy: 0.8571\n",
      "Epoch 308/500\n",
      "1/1 - 0s - loss: 0.5078 - accuracy: 0.8571\n",
      "Epoch 309/500\n",
      "1/1 - 0s - loss: 0.5038 - accuracy: 0.8571\n",
      "Epoch 310/500\n",
      "1/1 - 0s - loss: 0.4998 - accuracy: 0.8571\n",
      "Epoch 311/500\n",
      "1/1 - 0s - loss: 0.4959 - accuracy: 0.8571\n",
      "Epoch 312/500\n",
      "1/1 - 0s - loss: 0.4921 - accuracy: 0.8571\n",
      "Epoch 313/500\n",
      "1/1 - 0s - loss: 0.4883 - accuracy: 0.8571\n",
      "Epoch 314/500\n",
      "1/1 - 0s - loss: 0.4846 - accuracy: 0.8571\n",
      "Epoch 315/500\n",
      "1/1 - 0s - loss: 0.4809 - accuracy: 0.8571\n",
      "Epoch 316/500\n",
      "1/1 - 0s - loss: 0.4773 - accuracy: 0.8571\n",
      "Epoch 317/500\n",
      "1/1 - 0s - loss: 0.4738 - accuracy: 0.8571\n",
      "Epoch 318/500\n",
      "1/1 - 0s - loss: 0.4703 - accuracy: 0.8571\n",
      "Epoch 319/500\n",
      "1/1 - 0s - loss: 0.4668 - accuracy: 0.8571\n",
      "Epoch 320/500\n",
      "1/1 - 0s - loss: 0.4635 - accuracy: 0.8571\n",
      "Epoch 321/500\n",
      "1/1 - 0s - loss: 0.4602 - accuracy: 0.8571\n",
      "Epoch 322/500\n",
      "1/1 - 0s - loss: 0.4569 - accuracy: 0.8571\n",
      "Epoch 323/500\n",
      "1/1 - 0s - loss: 0.4537 - accuracy: 0.8571\n",
      "Epoch 324/500\n",
      "1/1 - 0s - loss: 0.4505 - accuracy: 0.8571\n",
      "Epoch 325/500\n",
      "1/1 - 0s - loss: 0.4474 - accuracy: 0.8571\n",
      "Epoch 326/500\n",
      "1/1 - 0s - loss: 0.4443 - accuracy: 0.8571\n",
      "Epoch 327/500\n",
      "1/1 - 0s - loss: 0.4413 - accuracy: 0.8571\n",
      "Epoch 328/500\n",
      "1/1 - 0s - loss: 0.4384 - accuracy: 0.8571\n",
      "Epoch 329/500\n",
      "1/1 - 0s - loss: 0.4354 - accuracy: 0.8571\n",
      "Epoch 330/500\n",
      "1/1 - 0s - loss: 0.4326 - accuracy: 0.8571\n",
      "Epoch 331/500\n",
      "1/1 - 0s - loss: 0.4298 - accuracy: 0.8571\n",
      "Epoch 332/500\n",
      "1/1 - 0s - loss: 0.4270 - accuracy: 0.8571\n",
      "Epoch 333/500\n",
      "1/1 - 0s - loss: 0.4243 - accuracy: 0.8571\n",
      "Epoch 334/500\n",
      "1/1 - 0s - loss: 0.4216 - accuracy: 0.8571\n",
      "Epoch 335/500\n",
      "1/1 - 0s - loss: 0.4189 - accuracy: 0.8571\n",
      "Epoch 336/500\n",
      "1/1 - 0s - loss: 0.4164 - accuracy: 0.8571\n",
      "Epoch 337/500\n",
      "1/1 - 0s - loss: 0.4138 - accuracy: 0.8571\n",
      "Epoch 338/500\n",
      "1/1 - 0s - loss: 0.4113 - accuracy: 0.8571\n",
      "Epoch 339/500\n",
      "1/1 - 0s - loss: 0.4088 - accuracy: 0.8571\n",
      "Epoch 340/500\n",
      "1/1 - 0s - loss: 0.4064 - accuracy: 0.8571\n",
      "Epoch 341/500\n",
      "1/1 - 0s - loss: 0.4040 - accuracy: 0.8571\n",
      "Epoch 342/500\n",
      "1/1 - 0s - loss: 0.4017 - accuracy: 0.8571\n",
      "Epoch 343/500\n",
      "1/1 - 0s - loss: 0.3994 - accuracy: 0.8571\n",
      "Epoch 344/500\n",
      "1/1 - 0s - loss: 0.3971 - accuracy: 0.8571\n",
      "Epoch 345/500\n",
      "1/1 - 0s - loss: 0.3948 - accuracy: 0.8571\n",
      "Epoch 346/500\n",
      "1/1 - 0s - loss: 0.3927 - accuracy: 0.8571\n",
      "Epoch 347/500\n",
      "1/1 - 0s - loss: 0.3905 - accuracy: 0.8571\n",
      "Epoch 348/500\n",
      "1/1 - 0s - loss: 0.3884 - accuracy: 0.8571\n",
      "Epoch 349/500\n",
      "1/1 - 0s - loss: 0.3863 - accuracy: 0.8571\n",
      "Epoch 350/500\n",
      "1/1 - 0s - loss: 0.3842 - accuracy: 0.8571\n",
      "Epoch 351/500\n",
      "1/1 - 0s - loss: 0.3822 - accuracy: 0.8571\n",
      "Epoch 352/500\n",
      "1/1 - 0s - loss: 0.3802 - accuracy: 0.8571\n",
      "Epoch 353/500\n",
      "1/1 - 0s - loss: 0.3783 - accuracy: 0.8571\n",
      "Epoch 354/500\n",
      "1/1 - 0s - loss: 0.3763 - accuracy: 0.8571\n",
      "Epoch 355/500\n",
      "1/1 - 0s - loss: 0.3744 - accuracy: 0.8571\n",
      "Epoch 356/500\n",
      "1/1 - 0s - loss: 0.3726 - accuracy: 0.8571\n",
      "Epoch 357/500\n",
      "1/1 - 0s - loss: 0.3707 - accuracy: 0.8571\n",
      "Epoch 358/500\n",
      "1/1 - 0s - loss: 0.3689 - accuracy: 0.8571\n",
      "Epoch 359/500\n",
      "1/1 - 0s - loss: 0.3672 - accuracy: 0.8571\n",
      "Epoch 360/500\n",
      "1/1 - 0s - loss: 0.3654 - accuracy: 0.8571\n",
      "Epoch 361/500\n",
      "1/1 - 0s - loss: 0.3637 - accuracy: 0.8571\n",
      "Epoch 362/500\n",
      "1/1 - 0s - loss: 0.3620 - accuracy: 0.8571\n",
      "Epoch 363/500\n",
      "1/1 - 0s - loss: 0.3604 - accuracy: 0.8571\n",
      "Epoch 364/500\n",
      "1/1 - 0s - loss: 0.3587 - accuracy: 0.8571\n",
      "Epoch 365/500\n",
      "1/1 - 0s - loss: 0.3571 - accuracy: 0.8571\n",
      "Epoch 366/500\n",
      "1/1 - 0s - loss: 0.3556 - accuracy: 0.8571\n",
      "Epoch 367/500\n",
      "1/1 - 0s - loss: 0.3540 - accuracy: 0.8571\n",
      "Epoch 368/500\n",
      "1/1 - 0s - loss: 0.3525 - accuracy: 0.8571\n",
      "Epoch 369/500\n",
      "1/1 - 0s - loss: 0.3510 - accuracy: 0.8571\n",
      "Epoch 370/500\n",
      "1/1 - 0s - loss: 0.3495 - accuracy: 0.8571\n",
      "Epoch 371/500\n",
      "1/1 - 0s - loss: 0.3480 - accuracy: 0.8571\n",
      "Epoch 372/500\n",
      "1/1 - 0s - loss: 0.3466 - accuracy: 0.8571\n",
      "Epoch 373/500\n",
      "1/1 - 0s - loss: 0.3452 - accuracy: 0.8571\n",
      "Epoch 374/500\n",
      "1/1 - 0s - loss: 0.3438 - accuracy: 0.8571\n",
      "Epoch 375/500\n",
      "1/1 - 0s - loss: 0.3424 - accuracy: 0.8571\n",
      "Epoch 376/500\n",
      "1/1 - 0s - loss: 0.3411 - accuracy: 0.8571\n",
      "Epoch 377/500\n",
      "1/1 - 0s - loss: 0.3398 - accuracy: 0.8571\n",
      "Epoch 378/500\n",
      "1/1 - 0s - loss: 0.3385 - accuracy: 0.8571\n",
      "Epoch 379/500\n",
      "1/1 - 0s - loss: 0.3372 - accuracy: 0.8571\n",
      "Epoch 380/500\n",
      "1/1 - 0s - loss: 0.3359 - accuracy: 0.8571\n",
      "Epoch 381/500\n",
      "1/1 - 0s - loss: 0.3347 - accuracy: 0.8571\n",
      "Epoch 382/500\n",
      "1/1 - 0s - loss: 0.3335 - accuracy: 0.8571\n",
      "Epoch 383/500\n",
      "1/1 - 0s - loss: 0.3322 - accuracy: 0.8571\n",
      "Epoch 384/500\n",
      "1/1 - 0s - loss: 0.3311 - accuracy: 0.8571\n",
      "Epoch 385/500\n",
      "1/1 - 0s - loss: 0.3299 - accuracy: 0.8571\n",
      "Epoch 386/500\n",
      "1/1 - 0s - loss: 0.3287 - accuracy: 0.8571\n",
      "Epoch 387/500\n",
      "1/1 - 0s - loss: 0.3276 - accuracy: 0.8571\n",
      "Epoch 388/500\n",
      "1/1 - 0s - loss: 0.3265 - accuracy: 0.8571\n",
      "Epoch 389/500\n",
      "1/1 - 0s - loss: 0.3254 - accuracy: 0.8571\n",
      "Epoch 390/500\n",
      "1/1 - 0s - loss: 0.3243 - accuracy: 0.8571\n",
      "Epoch 391/500\n",
      "1/1 - 0s - loss: 0.3233 - accuracy: 0.8571\n",
      "Epoch 392/500\n",
      "1/1 - 0s - loss: 0.3222 - accuracy: 0.8571\n",
      "Epoch 393/500\n",
      "1/1 - 0s - loss: 0.3212 - accuracy: 0.8571\n",
      "Epoch 394/500\n",
      "1/1 - 0s - loss: 0.3202 - accuracy: 0.8571\n",
      "Epoch 395/500\n",
      "1/1 - 0s - loss: 0.3192 - accuracy: 0.8571\n",
      "Epoch 396/500\n",
      "1/1 - 0s - loss: 0.3182 - accuracy: 0.8571\n",
      "Epoch 397/500\n",
      "1/1 - 0s - loss: 0.3172 - accuracy: 0.8571\n",
      "Epoch 398/500\n",
      "1/1 - 0s - loss: 0.3162 - accuracy: 0.8571\n",
      "Epoch 399/500\n",
      "1/1 - 0s - loss: 0.3153 - accuracy: 0.8571\n",
      "Epoch 400/500\n",
      "1/1 - 0s - loss: 0.3144 - accuracy: 0.8571\n",
      "Epoch 401/500\n",
      "1/1 - 0s - loss: 0.3134 - accuracy: 0.8571\n",
      "Epoch 402/500\n",
      "1/1 - 0s - loss: 0.3125 - accuracy: 0.8571\n",
      "Epoch 403/500\n",
      "1/1 - 0s - loss: 0.3117 - accuracy: 0.8571\n",
      "Epoch 404/500\n",
      "1/1 - 0s - loss: 0.3108 - accuracy: 0.8571\n",
      "Epoch 405/500\n",
      "1/1 - 0s - loss: 0.3099 - accuracy: 0.8571\n",
      "Epoch 406/500\n",
      "1/1 - 0s - loss: 0.3091 - accuracy: 0.8571\n",
      "Epoch 407/500\n",
      "1/1 - 0s - loss: 0.3082 - accuracy: 0.8571\n",
      "Epoch 408/500\n",
      "1/1 - 0s - loss: 0.3074 - accuracy: 0.8571\n",
      "Epoch 409/500\n",
      "1/1 - 0s - loss: 0.3066 - accuracy: 0.8571\n",
      "Epoch 410/500\n",
      "1/1 - 0s - loss: 0.3058 - accuracy: 0.8571\n",
      "Epoch 411/500\n",
      "1/1 - 0s - loss: 0.3050 - accuracy: 0.8571\n",
      "Epoch 412/500\n",
      "1/1 - 0s - loss: 0.3042 - accuracy: 0.8571\n",
      "Epoch 413/500\n",
      "1/1 - 0s - loss: 0.3034 - accuracy: 0.8571\n",
      "Epoch 414/500\n",
      "1/1 - 0s - loss: 0.3027 - accuracy: 0.8571\n",
      "Epoch 415/500\n",
      "1/1 - 0s - loss: 0.3019 - accuracy: 0.8571\n",
      "Epoch 416/500\n",
      "1/1 - 0s - loss: 0.3012 - accuracy: 0.8571\n",
      "Epoch 417/500\n",
      "1/1 - 0s - loss: 0.3004 - accuracy: 0.8571\n",
      "Epoch 418/500\n",
      "1/1 - 0s - loss: 0.2997 - accuracy: 0.8571\n",
      "Epoch 419/500\n",
      "1/1 - 0s - loss: 0.2990 - accuracy: 0.8571\n",
      "Epoch 420/500\n",
      "1/1 - 0s - loss: 0.2983 - accuracy: 0.8571\n",
      "Epoch 421/500\n",
      "1/1 - 0s - loss: 0.2976 - accuracy: 0.8571\n",
      "Epoch 422/500\n",
      "1/1 - 0s - loss: 0.2969 - accuracy: 0.8571\n",
      "Epoch 423/500\n",
      "1/1 - 0s - loss: 0.2963 - accuracy: 0.8571\n",
      "Epoch 424/500\n",
      "1/1 - 0s - loss: 0.2956 - accuracy: 0.8571\n",
      "Epoch 425/500\n",
      "1/1 - 0s - loss: 0.2950 - accuracy: 0.8571\n",
      "Epoch 426/500\n",
      "1/1 - 0s - loss: 0.2943 - accuracy: 0.8571\n",
      "Epoch 427/500\n",
      "1/1 - 0s - loss: 0.2937 - accuracy: 0.8571\n",
      "Epoch 428/500\n",
      "1/1 - 0s - loss: 0.2931 - accuracy: 0.8571\n",
      "Epoch 429/500\n",
      "1/1 - 0s - loss: 0.2924 - accuracy: 0.8571\n",
      "Epoch 430/500\n",
      "1/1 - 0s - loss: 0.2918 - accuracy: 0.8571\n",
      "Epoch 431/500\n",
      "1/1 - 0s - loss: 0.2912 - accuracy: 0.8571\n",
      "Epoch 432/500\n",
      "1/1 - 0s - loss: 0.2906 - accuracy: 0.8571\n",
      "Epoch 433/500\n",
      "1/1 - 0s - loss: 0.2900 - accuracy: 0.8571\n",
      "Epoch 434/500\n",
      "1/1 - 0s - loss: 0.2895 - accuracy: 0.8571\n"
     ]
    },
    {
     "name": "stdout",
     "output_type": "stream",
     "text": [
      "Epoch 435/500\n",
      "1/1 - 0s - loss: 0.2889 - accuracy: 0.8571\n",
      "Epoch 436/500\n",
      "1/1 - 0s - loss: 0.2883 - accuracy: 0.8571\n",
      "Epoch 437/500\n",
      "1/1 - 0s - loss: 0.2878 - accuracy: 0.8571\n",
      "Epoch 438/500\n",
      "1/1 - 0s - loss: 0.2872 - accuracy: 0.8571\n",
      "Epoch 439/500\n",
      "1/1 - 0s - loss: 0.2867 - accuracy: 0.8571\n",
      "Epoch 440/500\n",
      "1/1 - 0s - loss: 0.2861 - accuracy: 0.8571\n",
      "Epoch 441/500\n",
      "1/1 - 0s - loss: 0.2856 - accuracy: 0.8571\n",
      "Epoch 442/500\n",
      "1/1 - 0s - loss: 0.2851 - accuracy: 0.8571\n",
      "Epoch 443/500\n",
      "1/1 - 0s - loss: 0.2846 - accuracy: 0.8571\n",
      "Epoch 444/500\n",
      "1/1 - 0s - loss: 0.2840 - accuracy: 0.8571\n",
      "Epoch 445/500\n",
      "1/1 - 0s - loss: 0.2835 - accuracy: 0.8571\n",
      "Epoch 446/500\n",
      "1/1 - 0s - loss: 0.2830 - accuracy: 0.8571\n",
      "Epoch 447/500\n",
      "1/1 - 0s - loss: 0.2826 - accuracy: 0.8571\n",
      "Epoch 448/500\n",
      "1/1 - 0s - loss: 0.2821 - accuracy: 0.8571\n",
      "Epoch 449/500\n",
      "1/1 - 0s - loss: 0.2816 - accuracy: 0.8571\n",
      "Epoch 450/500\n",
      "1/1 - 0s - loss: 0.2811 - accuracy: 0.8571\n",
      "Epoch 451/500\n",
      "1/1 - 0s - loss: 0.2806 - accuracy: 0.8571\n",
      "Epoch 452/500\n",
      "1/1 - 0s - loss: 0.2802 - accuracy: 0.8571\n",
      "Epoch 453/500\n",
      "1/1 - 0s - loss: 0.2797 - accuracy: 0.8571\n",
      "Epoch 454/500\n",
      "1/1 - 0s - loss: 0.2793 - accuracy: 0.8571\n",
      "Epoch 455/500\n",
      "1/1 - 0s - loss: 0.2788 - accuracy: 0.8571\n",
      "Epoch 456/500\n",
      "1/1 - 0s - loss: 0.2784 - accuracy: 0.8571\n",
      "Epoch 457/500\n",
      "1/1 - 0s - loss: 0.2780 - accuracy: 0.8571\n",
      "Epoch 458/500\n",
      "1/1 - 0s - loss: 0.2775 - accuracy: 0.8571\n",
      "Epoch 459/500\n",
      "1/1 - 0s - loss: 0.2771 - accuracy: 0.8571\n",
      "Epoch 460/500\n",
      "1/1 - 0s - loss: 0.2767 - accuracy: 0.8571\n",
      "Epoch 461/500\n",
      "1/1 - 0s - loss: 0.2763 - accuracy: 0.8571\n",
      "Epoch 462/500\n",
      "1/1 - 0s - loss: 0.2759 - accuracy: 0.8571\n",
      "Epoch 463/500\n",
      "1/1 - 0s - loss: 0.2754 - accuracy: 0.8571\n",
      "Epoch 464/500\n",
      "1/1 - 0s - loss: 0.2750 - accuracy: 0.8571\n",
      "Epoch 465/500\n",
      "1/1 - 0s - loss: 0.2747 - accuracy: 0.8571\n",
      "Epoch 466/500\n",
      "1/1 - 0s - loss: 0.2743 - accuracy: 0.8571\n",
      "Epoch 467/500\n",
      "1/1 - 0s - loss: 0.2739 - accuracy: 0.8571\n",
      "Epoch 468/500\n",
      "1/1 - 0s - loss: 0.2735 - accuracy: 0.8571\n",
      "Epoch 469/500\n",
      "1/1 - 0s - loss: 0.2731 - accuracy: 0.8571\n",
      "Epoch 470/500\n",
      "1/1 - 0s - loss: 0.2727 - accuracy: 0.8571\n",
      "Epoch 471/500\n",
      "1/1 - 0s - loss: 0.2724 - accuracy: 0.8571\n",
      "Epoch 472/500\n",
      "1/1 - 0s - loss: 0.2720 - accuracy: 0.8571\n",
      "Epoch 473/500\n",
      "1/1 - 0s - loss: 0.2716 - accuracy: 0.8571\n",
      "Epoch 474/500\n",
      "1/1 - 0s - loss: 0.2713 - accuracy: 0.8571\n",
      "Epoch 475/500\n",
      "1/1 - 0s - loss: 0.2709 - accuracy: 0.8571\n",
      "Epoch 476/500\n",
      "1/1 - 0s - loss: 0.2706 - accuracy: 0.8571\n",
      "Epoch 477/500\n",
      "1/1 - 0s - loss: 0.2702 - accuracy: 0.8571\n",
      "Epoch 478/500\n",
      "1/1 - 0s - loss: 0.2699 - accuracy: 0.8571\n",
      "Epoch 479/500\n",
      "1/1 - 0s - loss: 0.2696 - accuracy: 0.8571\n",
      "Epoch 480/500\n",
      "1/1 - 0s - loss: 0.2692 - accuracy: 0.8571\n",
      "Epoch 481/500\n",
      "1/1 - 0s - loss: 0.2689 - accuracy: 0.8571\n",
      "Epoch 482/500\n",
      "1/1 - 0s - loss: 0.2686 - accuracy: 0.8571\n",
      "Epoch 483/500\n",
      "1/1 - 0s - loss: 0.2682 - accuracy: 0.8571\n",
      "Epoch 484/500\n",
      "1/1 - 0s - loss: 0.2679 - accuracy: 0.8571\n",
      "Epoch 485/500\n",
      "1/1 - 0s - loss: 0.2676 - accuracy: 0.8571\n",
      "Epoch 486/500\n",
      "1/1 - 0s - loss: 0.2673 - accuracy: 0.8571\n",
      "Epoch 487/500\n",
      "1/1 - 0s - loss: 0.2670 - accuracy: 0.8571\n",
      "Epoch 488/500\n",
      "1/1 - 0s - loss: 0.2667 - accuracy: 0.8571\n",
      "Epoch 489/500\n",
      "1/1 - 0s - loss: 0.2664 - accuracy: 0.8571\n",
      "Epoch 490/500\n",
      "1/1 - 0s - loss: 0.2661 - accuracy: 0.8571\n",
      "Epoch 491/500\n",
      "1/1 - 0s - loss: 0.2658 - accuracy: 0.8571\n",
      "Epoch 492/500\n",
      "1/1 - 0s - loss: 0.2655 - accuracy: 0.8571\n",
      "Epoch 493/500\n",
      "1/1 - 0s - loss: 0.2652 - accuracy: 0.8571\n",
      "Epoch 494/500\n",
      "1/1 - 0s - loss: 0.2649 - accuracy: 0.8571\n",
      "Epoch 495/500\n",
      "1/1 - 0s - loss: 0.2646 - accuracy: 0.8571\n",
      "Epoch 496/500\n",
      "1/1 - 0s - loss: 0.2643 - accuracy: 0.8571\n",
      "Epoch 497/500\n",
      "1/1 - 0s - loss: 0.2640 - accuracy: 0.8571\n",
      "Epoch 498/500\n",
      "1/1 - 0s - loss: 0.2638 - accuracy: 0.8571\n",
      "Epoch 499/500\n",
      "1/1 - 0s - loss: 0.2635 - accuracy: 0.8571\n",
      "Epoch 500/500\n",
      "1/1 - 0s - loss: 0.2632 - accuracy: 0.8571\n"
     ]
    },
    {
     "data": {
      "text/plain": [
       "<tensorflow.python.keras.callbacks.History at 0x7ff300c072e8>"
      ]
     },
     "execution_count": 11,
     "metadata": {},
     "output_type": "execute_result"
    }
   ],
   "source": [
    "# compile network\n",
    "model.compile(loss='categorical_crossentropy',\n",
    "              optimizer='adam',\n",
    "              metrics=['accuracy'])\n",
    "# fit network\n",
    "model.fit(X, y, epochs=500, verbose=2)"
   ]
  },
  {
   "cell_type": "code",
   "execution_count": 12,
   "metadata": {
    "slideshow": {
     "slide_type": "subslide"
    }
   },
   "outputs": [
    {
     "data": {
      "image/png": "[encoded data removed]",
      "text/plain": [
       "<IPython.core.display.Image object>"
      ]
     },
     "execution_count": 12,
     "metadata": {
      "filenames": {
       "image/png": "/Users/Alvin/GoogleDrive/_MySyncDrive/Repository/ENC2045/_build/jupyter_execute/nlp/dl-neural-language-model-primer_24_0.png"
      }
     },
     "output_type": "execute_result"
    }
   ],
   "source": [
    "plot_model(model)"
   ]
  },
  {
   "cell_type": "markdown",
   "metadata": {
    "slideshow": {
     "slide_type": "slide"
    }
   },
   "source": [
    "### Text Generation Using the Model"
   ]
  },
  {
   "cell_type": "markdown",
   "metadata": {
    "slideshow": {
     "slide_type": "subslide"
    }
   },
   "source": [
    "- After we trained the bigram-based LM, we can use the model for text generation.\n",
    "- we can implement a simple text generator: the model always outputs the next-word that has the highest predicted probability values.\n",
    "- At every timestep, the model will use the newly predicted word as the input for another next-word prediction."
   ]
  },
  {
   "cell_type": "code",
   "execution_count": 13,
   "metadata": {
    "slideshow": {
     "slide_type": "subslide"
    }
   },
   "outputs": [],
   "source": [
    "# generate a sequence from the model\n",
    "def generate_seq(model, tokenizer, seed_text, n_words):\n",
    "    in_text, result = seed_text, seed_text\n",
    "    # generate a fixed number of words\n",
    "    for _ in range(n_words):\n",
    "        # encode the text as integer\n",
    "        encoded = tokenizer.texts_to_sequences([in_text])[0]\n",
    "        encoded = np.array(encoded)\n",
    "        \n",
    "        # predict a word in the vocabulary\n",
    "        yhat=np.argmax(model.predict(encoded), axis=-1)\n",
    "        \n",
    "        # map predicted word index to word\n",
    "        out_word = ''\n",
    "        for word, index in tokenizer.word_index.items():\n",
    "            if index == yhat:\n",
    "                out_word = word\n",
    "                break\n",
    "        # append to input\n",
    "        in_text, result = out_word, result + ' ' + out_word\n",
    "    return result"
   ]
  },
  {
   "cell_type": "markdown",
   "metadata": {
    "slideshow": {
     "slide_type": "subslide"
    }
   },
   "source": [
    "```{tip}\n",
    "When we generate the output sequence, we use a **greedy search**, which selects the most likely word at each time step in the output sequence. While this approach features its efficiency, the quality of the final output sequences may not be necessarily optimal.\n",
    "```"
   ]
  },
  {
   "cell_type": "code",
   "execution_count": 19,
   "metadata": {
    "slideshow": {
     "slide_type": "subslide"
    }
   },
   "outputs": [
    {
     "name": "stdout",
     "output_type": "stream",
     "text": [
      "Jill came tumbling after and jill came tumbling after and jill\n"
     ]
    }
   ],
   "source": [
    "# evaluate\n",
    "print(generate_seq(model, tokenizer, 'Jill', 10))"
   ]
  },
  {
   "cell_type": "markdown",
   "metadata": {
    "slideshow": {
     "slide_type": "slide"
    }
   },
   "source": [
    "### Sampling Strategies for Text Generation"
   ]
  },
  {
   "cell_type": "markdown",
   "metadata": {
    "slideshow": {
     "slide_type": "subslide"
    }
   },
   "source": [
    "- Given a trained language model and a seed text chunk, we can generate new text by greedy-search like we've seen above.\n",
    "- But we may sometimes like to add a bit vibe to the robotic texts.\n",
    "- Possible alternatives:\n",
    "    - We can re-normalize the predicted probability distributions of all next-words to reduce probability differences between the highest and the lowest. (Please see Ch.8.1 Text Generation with LSTM in Chollet's Deep Learning with Python. You will need this for the assignment.)\n",
    "    - We can use non-greedy search by keeping the top *k* probable candidates in the list for next-word prediction. (cf. **Beam Search** below)."
   ]
  },
  {
   "cell_type": "markdown",
   "metadata": {
    "slideshow": {
     "slide_type": "slide"
    }
   },
   "source": [
    "## Beam Search (skipped)"
   ]
  },
  {
   "cell_type": "markdown",
   "metadata": {
    "slideshow": {
     "slide_type": "subslide"
    }
   },
   "source": [
    "### Searching in NLP"
   ]
  },
  {
   "cell_type": "markdown",
   "metadata": {
    "slideshow": {
     "slide_type": "subslide"
    }
   },
   "source": [
    "- In the previous demonstration, when we generate the predicted next word, we adopt a naive approach, i.e., always choosing the word of the highest probability.\n",
    "- It is common in NLP for models to output a probability distribution over words in the vocabulary.\n",
    "- This step involves searching through all the possible output sequences based on their likelihood.\n",
    "- Choosing the next word of highest probability does not guarantee us the most optimal sequence.\n",
    "- The search problem is exponential in the length of the output sequence given the large size of vocabulary.\n"
   ]
  },
  {
   "cell_type": "markdown",
   "metadata": {
    "slideshow": {
     "slide_type": "slide"
    }
   },
   "source": [
    "### Beam Search Decoding"
   ]
  },
  {
   "cell_type": "markdown",
   "metadata": {
    "slideshow": {
     "slide_type": "subslide"
    }
   },
   "source": [
    "The beam search expands all possible next steps and keeps the **$k$** most likely, where **$k$** is a researcher-specified parameter and controls the number of beams or parallel searches through the sequence of probabilities."
   ]
  },
  {
   "cell_type": "markdown",
   "metadata": {
    "slideshow": {
     "slide_type": "subslide"
    }
   },
   "source": [
    "The search process can stop for each candidate independently either by:\n",
    "\n",
    "- reaching a maximum length\n",
    "- reaching an end-of-sequence token\n",
    "- reaching a threshold likelihood"
   ]
  },
  {
   "cell_type": "markdown",
   "metadata": {
    "slideshow": {
     "slide_type": "subslide"
    }
   },
   "source": [
    "```{note]\n",
    "Please see Jason Brownlee's blog post [How to Implement a Beam Search Decoder for Natural Language Processing](https://machinelearningmastery.com/beam-search-decoder-natural-language-processing/) for the python implementation.\n",
    "\n",
    "The following codes are based on Jason's code.\n",
    "```"
   ]
  },
  {
   "cell_type": "markdown",
   "metadata": {
    "slideshow": {
     "slide_type": "subslide"
    }
   },
   "source": [
    ":::{warning}\n",
    "The following codes may not work properly. In Beam Search, when the model predicts `None` as the next character, we should set it as a stopping condition. The following codes have not be optimized with respect to this.\n",
    ":::"
   ]
  },
  {
   "cell_type": "code",
   "execution_count": 15,
   "metadata": {
    "slideshow": {
     "slide_type": "subslide"
    }
   },
   "outputs": [],
   "source": [
    "# generate a sequence from the model\n",
    "def generate_seq_beam(model, tokenizer, seed_text, n_words, k):\n",
    "    in_text = seed_text \n",
    "    sequences = [[[in_text], 0.0]]\n",
    "    # prepare id_2_word map\n",
    "    id_2_word = dict([(i,w) for (w, i) in tokenizer.word_index.items()])\n",
    "    \n",
    "    # start next-word generating\n",
    "    for _ in range(n_words):\n",
    "        all_candidates = list()        \n",
    "        #print(\"Next word \", _+1)\n",
    "        # temp list to hold all possible candidates\n",
    "        # `sequence + next words`\n",
    "\n",
    "\n",
    "        # for each existing sequence\n",
    "        # take the last word of the sequence\n",
    "        # find probs of all words in the next position\n",
    "        # save the top k\n",
    "        # all_candidates should have 3 * 22 = 66 candidates\n",
    "        \n",
    "        for i in range(len(sequences)):\n",
    "            # for the current sequence\n",
    "            seq, score = sequences[i]            \n",
    "            # next word probablity distribution\n",
    "            encoded = tokenizer.texts_to_sequences([seq[-1]])[0]\n",
    "            encoded = np.array(encoded)\n",
    "            model_pred_prob = model.predict(encoded).flatten()\n",
    "\n",
    "            # compute all probabilities for `curent_sequence + all_possible_next_word`\n",
    "            for j in range(len(model_pred_prob)):\n",
    "                candidate = [seq + [id_2_word.get(j+1)], score-np.log(model_pred_prob[j])]\n",
    "                all_candidates.append(candidate)\n",
    "\n",
    "            all_candidates= [[seq, score] for seq, score in all_candidates if seq[-1] is not None]\n",
    "\n",
    "            # order all candidates (seqence + nextword) by score\n",
    "            #print(\"all_condidates length:\", len(all_candidates))\n",
    "            ordered = sorted(all_candidates, key = lambda x:x[1]) # default ascending\n",
    "            # select k best\n",
    "            sequences = ordered[:k] ## choose top k\n",
    "\n",
    "    return sequences"
   ]
  },
  {
   "cell_type": "code",
   "execution_count": 16,
   "metadata": {
    "slideshow": {
     "slide_type": "subslide"
    }
   },
   "outputs": [
    {
     "data": {
      "text/plain": [
       "[[['Jill', 'tumbling', 'a', 'of', 'fell', 'broke'], 5.70021602883935],\n",
       " [['Jill', 'tumbling', 'a', 'of', 'fell', 'pail'], 9.975788600742817],\n",
       " [['Jill', 'tumbling', 'a', 'of', 'fell', 'pail', 'water'],\n",
       "  10.006022842600942],\n",
       " [['Jill', 'tumbling', 'a', 'of', 'fell', 'came'], 10.572875507175922],\n",
       " [['Jill', 'tumbling', 'a', 'of', 'fell', 'came', 'after'], 10.62351381778717],\n",
       " [['Jill', 'tumbling', 'a', 'of', 'fell', 'tumbling'], 10.633405216038227],\n",
       " [['Jill', 'tumbling', 'a', 'of', 'fell', 'up'], 10.789379127323627],\n",
       " [['Jill', 'tumbling', 'a', 'of', 'fell', 'up', 'hill'], 10.838647928088903],\n",
       " [['Jill', 'tumbling', 'a', 'of', 'fell', 'of'], 11.02272368222475],\n",
       " [['Jill', 'tumbling', 'a', 'of', 'fell', 'of', 'fell'], 11.054580122232437]]"
      ]
     },
     "execution_count": 16,
     "metadata": {},
     "output_type": "execute_result"
    }
   ],
   "source": [
    "generate_seq_beam(model, tokenizer, 'Jill', 5, k =10)"
   ]
  },
  {
   "cell_type": "markdown",
   "metadata": {
    "slideshow": {
     "slide_type": "slide"
    }
   },
   "source": [
    "## References\n",
    "\n",
    "- Chollet (2017): Ch 8.1\n",
    "- Check Jason Brownlee's blog post [How to Develop Word-Based Neural Language Models in Python with Keras](https://machinelearningmastery.com/develop-word-based-neural-language-models-python-keras/)"
   ]
  }
 ],
 "metadata": {
  "celltoolbar": "Slideshow",
  "kernelspec": {
   "display_name": "python-notes",
   "language": "python",
   "name": "python-notes"
  },
  "language_info": {
   "codemirror_mode": {
    "name": "ipython",
    "version": 3
   },
   "file_extension": ".py",
   "mimetype": "text/x-python",
   "name": "python",
   "nbconvert_exporter": "python",
   "pygments_lexer": "ipython3",
   "version": "3.7.0"
  },
  "toc": {
   "base_numbering": "2",
   "nav_menu": {},
   "number_sections": true,
   "sideBar": true,
   "skip_h1_title": false,
   "title_cell": "Table of Contents",
   "title_sidebar": "Contents",
   "toc_cell": false,
   "toc_position": {},
   "toc_section_display": true,
   "toc_window_display": false
  },
  "varInspector": {
   "cols": {
    "lenName": 16,
    "lenType": 16,
    "lenVar": 40
   },
   "kernels_config": {
    "python": {
     "delete_cmd_postfix": "",
     "delete_cmd_prefix": "del ",
     "library": "var_list.py",
     "varRefreshCmd": "print(var_dic_list())"
    },
    "r": {
     "delete_cmd_postfix": ") ",
     "delete_cmd_prefix": "rm(",
     "library": "var_list.r",
     "varRefreshCmd": "cat(var_dic_list()) "
    }
   },
   "types_to_exclude": [
    "module",
    "function",
    "builtin_function_or_method",
    "instance",
    "_Feature"
   ],
   "window_display": false
  }
 },
 "nbformat": 4,
 "nbformat_minor": 4
}