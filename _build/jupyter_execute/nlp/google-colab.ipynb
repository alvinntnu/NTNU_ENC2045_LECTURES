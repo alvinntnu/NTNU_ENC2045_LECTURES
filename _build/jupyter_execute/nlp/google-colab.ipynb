{
 "cells": [
  {
   "cell_type": "markdown",
   "metadata": {
    "id": "5Zbl7xHo2krD"
   },
   "source": [
    "# Google Colab"
   ]
  },
  {
   "cell_type": "markdown",
   "metadata": {
    "id": "MCdhAoTp2krL"
   },
   "source": [
    "- As we are working with more and more data, we may need GPU computing for quicker processing.\n",
    "- This lecture note shows how we can capitalize on the free GPU computing provided by Google Colab and speed up the Chinese word segmentation of `ckip-transformers`."
   ]
  },
  {
   "cell_type": "markdown",
   "metadata": {
    "id": "VRJzH_XU2krM"
   },
   "source": [
    "## Setup Google Drive"
   ]
  },
  {
   "cell_type": "markdown",
   "metadata": {
    "id": "k7-itI8Q2krM"
   },
   "source": [
    "- Create a working directory under your Google Drive, named `ENC2045_DEMO_DATA`.\n",
    "- Save the corpus files needed in that Google Drive directory.\n",
    "- We can access the files on our Google Drive from Google Colab. This can be useful when you need to load your own data in Google Colab."
   ]
  },
  {
   "cell_type": "markdown",
   "metadata": {
    "id": "u6ZDiqI42krN"
   },
   "source": [
    "## Run Notebook in Google Colab"
   ]
  },
  {
   "cell_type": "markdown",
   "metadata": {
    "id": "YDk4haec2krN"
   },
   "source": [
    "- Click on the button on top of the lecture notes website to open this notebook in Google Colab."
   ]
  },
  {
   "cell_type": "markdown",
   "metadata": {
    "id": "lOVRwJrT2krT"
   },
   "source": [
    "## Setting Google Colab Environment"
   ]
  },
  {
   "cell_type": "markdown",
   "metadata": {
    "id": "7JytQ18V2krT"
   },
   "source": [
    "- GPU Setting:\n",
    "    - [Runtime] -> [Change runtime type]\n",
    "    - For [Hardware accelerator], choose [GPU]"
   ]
  },
  {
   "cell_type": "code",
   "execution_count": 9,
   "metadata": {
    "colab": {
     "base_uri": "https://localhost:8080/"
    },
    "executionInfo": {
     "elapsed": 632,
     "status": "ok",
     "timestamp": 1616585249579,
     "user": {
      "displayName": "Alvin Chen",
      "photoUrl": "",
      "userId": "12962786962925949010"
     },
     "user_tz": -480
    },
    "id": "p5sQvibk-lQ3",
    "outputId": "226bef45-6f5f-4ac1-edc7-e836fcb319d2"
   },
   "outputs": [
    {
     "name": "stdout",
     "output_type": "stream",
     "text": [
      "Wed Mar 24 11:27:29 2021       \n",
      "+-----------------------------------------------------------------------------+\n",
      "| NVIDIA-SMI 460.56       Driver Version: 460.32.03    CUDA Version: 11.2     |\n",
      "|-------------------------------+----------------------+----------------------+\n",
      "| GPU  Name        Persistence-M| Bus-Id        Disp.A | Volatile Uncorr. ECC |\n",
      "| Fan  Temp  Perf  Pwr:Usage/Cap|         Memory-Usage | GPU-Util  Compute M. |\n",
      "|                               |                      |               MIG M. |\n",
      "|===============================+======================+======================|\n",
      "|   0  Tesla T4            Off  | 00000000:00:04.0 Off |                    0 |\n",
      "| N/A   67C    P0    31W /  70W |  10734MiB / 15109MiB |      0%      Default |\n",
      "|                               |                      |                  N/A |\n",
      "+-------------------------------+----------------------+----------------------+\n",
      "                                                                               \n",
      "+-----------------------------------------------------------------------------+\n",
      "| Processes:                                                                  |\n",
      "|  GPU   GI   CI        PID   Type   Process name                  GPU Memory |\n",
      "|        ID   ID                                                   Usage      |\n",
      "|=============================================================================|\n",
      "+-----------------------------------------------------------------------------+\n"
     ]
    }
   ],
   "source": [
    "!nvidia-smi"
   ]
  },
  {
   "cell_type": "markdown",
   "metadata": {
    "id": "uzIfdRSO2krX"
   },
   "source": [
    "- Install modules that are not installed in the current Google Colab"
   ]
  },
  {
   "cell_type": "code",
   "execution_count": 1,
   "metadata": {
    "colab": {
     "base_uri": "https://localhost:8080/"
    },
    "executionInfo": {
     "elapsed": 7180,
     "status": "ok",
     "timestamp": 1616584854330,
     "user": {
      "displayName": "Alvin Chen",
      "photoUrl": "",
      "userId": "12962786962925949010"
     },
     "user_tz": -480
    },
    "id": "KCimeBx82krX",
    "outputId": "bf6bcc58-20d2-4dbe-8391-980c4b5d925b",
    "tags": [
     "remove-output"
    ]
   },
   "outputs": [
    {
     "name": "stdout",
     "output_type": "stream",
     "text": [
      "Collecting ckip-transformers\n",
      "  Downloading https://files.pythonhosted.org/packages/ed/94/ae6a7d7b7e0785ee47663e879982ecff1906b2614a5bc441e73857b94145/ckip_transformers-0.2.3-py3-none-any.whl\n",
      "Requirement already satisfied: torch>=1.5.0 in /usr/local/lib/python3.7/dist-packages (from ckip-transformers) (1.8.0+cu101)\n",
      "Collecting transformers>=3.5.0\n",
      "\u001b[?25l  Downloading https://files.pythonhosted.org/packages/ed/d5/f4157a376b8a79489a76ce6cfe147f4f3be1e029b7144fa7b8432e8acb26/transformers-4.4.2-py3-none-any.whl (2.0MB)\n",
      "\u001b[K     |████████████████████████████████| 2.0MB 12.8MB/s \n",
      "\u001b[?25hRequirement already satisfied: tqdm>=4.27 in /usr/local/lib/python3.7/dist-packages (from ckip-transformers) (4.41.1)\n",
      "Requirement already satisfied: numpy in /usr/local/lib/python3.7/dist-packages (from torch>=1.5.0->ckip-transformers) (1.19.5)\n",
      "Requirement already satisfied: typing-extensions in /usr/local/lib/python3.7/dist-packages (from torch>=1.5.0->ckip-transformers) (3.7.4.3)\n",
      "Requirement already satisfied: regex!=2019.12.17 in /usr/local/lib/python3.7/dist-packages (from transformers>=3.5.0->ckip-transformers) (2019.12.20)\n",
      "Collecting sacremoses\n",
      "\u001b[?25l  Downloading https://files.pythonhosted.org/packages/7d/34/09d19aff26edcc8eb2a01bed8e98f13a1537005d31e95233fd48216eed10/sacremoses-0.0.43.tar.gz (883kB)\n",
      "\u001b[K     |████████████████████████████████| 890kB 51.9MB/s \n",
      "\u001b[?25hRequirement already satisfied: requests in /usr/local/lib/python3.7/dist-packages (from transformers>=3.5.0->ckip-transformers) (2.23.0)\n",
      "Requirement already satisfied: filelock in /usr/local/lib/python3.7/dist-packages (from transformers>=3.5.0->ckip-transformers) (3.0.12)\n",
      "Collecting tokenizers<0.11,>=0.10.1\n",
      "\u001b[?25l  Downloading https://files.pythonhosted.org/packages/71/23/2ddc317b2121117bf34dd00f5b0de194158f2a44ee2bf5e47c7166878a97/tokenizers-0.10.1-cp37-cp37m-manylinux2010_x86_64.whl (3.2MB)\n",
      "\u001b[K     |████████████████████████████████| 3.2MB 56.6MB/s \n",
      "\u001b[?25hRequirement already satisfied: importlib-metadata; python_version < \"3.8\" in /usr/local/lib/python3.7/dist-packages (from transformers>=3.5.0->ckip-transformers) (3.7.2)\n",
      "Requirement already satisfied: packaging in /usr/local/lib/python3.7/dist-packages (from transformers>=3.5.0->ckip-transformers) (20.9)\n",
      "Requirement already satisfied: six in /usr/local/lib/python3.7/dist-packages (from sacremoses->transformers>=3.5.0->ckip-transformers) (1.15.0)\n",
      "Requirement already satisfied: click in /usr/local/lib/python3.7/dist-packages (from sacremoses->transformers>=3.5.0->ckip-transformers) (7.1.2)\n",
      "Requirement already satisfied: joblib in /usr/local/lib/python3.7/dist-packages (from sacremoses->transformers>=3.5.0->ckip-transformers) (1.0.1)\n",
      "Requirement already satisfied: certifi>=2017.4.17 in /usr/local/lib/python3.7/dist-packages (from requests->transformers>=3.5.0->ckip-transformers) (2020.12.5)\n",
      "Requirement already satisfied: idna<3,>=2.5 in /usr/local/lib/python3.7/dist-packages (from requests->transformers>=3.5.0->ckip-transformers) (2.10)\n",
      "Requirement already satisfied: chardet<4,>=3.0.2 in /usr/local/lib/python3.7/dist-packages (from requests->transformers>=3.5.0->ckip-transformers) (3.0.4)\n",
      "Requirement already satisfied: urllib3!=1.25.0,!=1.25.1,<1.26,>=1.21.1 in /usr/local/lib/python3.7/dist-packages (from requests->transformers>=3.5.0->ckip-transformers) (1.24.3)\n",
      "Requirement already satisfied: zipp>=0.5 in /usr/local/lib/python3.7/dist-packages (from importlib-metadata; python_version < \"3.8\"->transformers>=3.5.0->ckip-transformers) (3.4.1)\n",
      "Requirement already satisfied: pyparsing>=2.0.2 in /usr/local/lib/python3.7/dist-packages (from packaging->transformers>=3.5.0->ckip-transformers) (2.4.7)\n",
      "Building wheels for collected packages: sacremoses\n",
      "  Building wheel for sacremoses (setup.py) ... \u001b[?25l\u001b[?25hdone\n",
      "  Created wheel for sacremoses: filename=sacremoses-0.0.43-cp37-none-any.whl size=893262 sha256=becb597660b6f2d76afbd63dc0edb32385a77c7c6318a4ace6ad68116035b953\n",
      "  Stored in directory: /root/.cache/pip/wheels/29/3c/fd/7ce5c3f0666dab31a50123635e6fb5e19ceb42ce38d4e58f45\n",
      "Successfully built sacremoses\n",
      "Installing collected packages: sacremoses, tokenizers, transformers, ckip-transformers\n",
      "Successfully installed ckip-transformers-0.2.3 sacremoses-0.0.43 tokenizers-0.10.1 transformers-4.4.2\n"
     ]
    }
   ],
   "source": [
    "## Google Drive Setting\n",
    "!pip install ckip-transformers"
   ]
  },
  {
   "cell_type": "markdown",
   "metadata": {
    "id": "KdzK7il_2krT"
   },
   "source": [
    "- Mount Our Google Drive\n",
    "    - After we run the above codes, get the authorization code and copy-paste it to the box."
   ]
  },
  {
   "cell_type": "code",
   "execution_count": 2,
   "metadata": {
    "colab": {
     "base_uri": "https://localhost:8080/"
    },
    "executionInfo": {
     "elapsed": 20082,
     "status": "ok",
     "timestamp": 1616584876818,
     "user": {
      "displayName": "Alvin Chen",
      "photoUrl": "",
      "userId": "12962786962925949010"
     },
     "user_tz": -480
    },
    "id": "IFKR7rT12krV",
    "outputId": "78b0e80a-3974-41d6-a0b4-a9950e87f7f7"
   },
   "outputs": [
    {
     "name": "stdout",
     "output_type": "stream",
     "text": [
      "Mounted at /content/drive\n"
     ]
    }
   ],
   "source": [
    "from google.colab import drive\n",
    "drive.mount('/content/drive')"
   ]
  },
  {
   "cell_type": "markdown",
   "metadata": {
    "id": "H8sDx0r02krW"
   },
   "source": [
    "- Change Colab working directory to the `ENC2045_demo_data` of the Google Drive"
   ]
  },
  {
   "cell_type": "code",
   "execution_count": 3,
   "metadata": {
    "colab": {
     "base_uri": "https://localhost:8080/"
    },
    "executionInfo": {
     "elapsed": 680,
     "status": "ok",
     "timestamp": 1616584906956,
     "user": {
      "displayName": "Alvin Chen",
      "photoUrl": "",
      "userId": "12962786962925949010"
     },
     "user_tz": -480
    },
    "id": "62EwQTs02krW",
    "outputId": "f744c71e-6ac3-4704-afee-d08c9a749e52"
   },
   "outputs": [
    {
     "name": "stdout",
     "output_type": "stream",
     "text": [
      "/content/drive/MyDrive/ENC2045_demo_data\n"
     ]
    }
   ],
   "source": [
    "import os\n",
    "os.chdir('/content/drive/MyDrive/ENC2045_demo_data')\n",
    "print(os.getcwd())\n"
   ]
  },
  {
   "cell_type": "markdown",
   "metadata": {
    "id": "U-zJpXzN2krX"
   },
   "source": [
    "## Try `ckip-transformers` with GPU"
   ]
  },
  {
   "cell_type": "markdown",
   "metadata": {
    "id": "J7CeRi7j2krX"
   },
   "source": [
    "### Initialize the `ckip-transformers`"
   ]
  },
  {
   "cell_type": "code",
   "execution_count": 4,
   "metadata": {
    "colab": {
     "base_uri": "https://localhost:8080/",
     "height": 511,
     "referenced_widgets": [
      "2c552db6ec044420bfd8dfab81678661",
      "0b3a66aaf1d54258831668ba0ef1d1db",
      "7ed1d2e9ddac494dbdcf03cf57f7b399",
      "e7aa77c6f8c6465e80bd3a93449cb1df",
      "1ddca58795cd4edc96dafe3db78bc929",
      "4ebcbdb56ae64ea089d48384dbeff7ff",
      "83e81230c9f1480cb2b4d3dcbc4c7fcd",
      "4feed531286d4bdcadcd567d4ee8f3c9",
      "7c0900461dea45b2b0dcc5f3324807be",
      "9327109a8ecd4627b780e02e7bd35ce8",
      "1117cbbf543a439bae3bcbad4410d8de",
      "9d40a2a30a134b9cb489ae5698d56877",
      "032f2639a19f45d791da443a727c990b",
      "f84f3a6136054f3082c7e526d984823d",
      "bdf8e2e0c8b644e19cb65c1a8bc1f37f",
      "6e924deec99445b29847ed9e9c4d96d3",
      "3a2e8c8f52ff4c82a0b650680c1af736",
      "30b1516a7da345c8950581b8e2a09963",
      "ad4efe5cdb7e4f0789b3a6822da6fb42",
      "6c20837e82e44590b51253d74a0503e9",
      "d6d1884adb5a4519b997e39644f997f6",
      "0c920e63402a4715a7101dad53739225",
      "9cb1398c6984470c82820145ada1d17e",
      "94247a04563d4583bdd056ad9db46b37",
      "cd3587570fed4d3389756b7b1b40f8c6",
      "ad06eea5acd648ecb11732df2889a86d",
      "3c69c158a1284d25809ba78dedce06ac",
      "07b8bfaf0a864f91b32e67635a60a640",
      "446b48cd6e2146698048966dca0420a2",
      "9ff052977fb44e3d8ebcc173953064d9",
      "f2fd6ff71bf6494d8c1d977cdbba9ee0",
      "18cc486defd34f8099d133fc694fba46",
      "5fca914a6fe3421288aa76a7fe9332c0",
      "ffdc4c1a9cab45f5a9e2816314d2a662",
      "5513ce60ec844f31b5182b48b0c0c0aa",
      "d8a067fc64404ef88dcdec3c7fea5175",
      "efed856d0d984b088d6d601d9ff9ea9e",
      "a8c17f6549fc440081c11f109e143d38",
      "73aca0305bb94e0990965b530d43ab6b",
      "6cc79967efd245f182a8b67ea2a62775",
      "5bcba89a612747d2a7826418fcd5dc38",
      "bb56eacfe9124609a26d568024828a8d",
      "362439e243cd4ca0aa4e35832adc5601",
      "a451a916cb5a4c119e544948d1dc0ec9",
      "cd70015db0144dfaae5411ccfcb4013f",
      "512bd55c847a480fa11c0f57120f393f",
      "d93301fcee404f18b99010f6bc917a3f",
      "7576def9e2f5496894a61704aedb1699",
      "1fe9cf255be240b9be1eaeffb88b43e5",
      "ef6a28bc35464259a42953fc602b1c3e",
      "4255445126b749918bf70a12c3f8fdb0",
      "6fd79f012d0949feb0987b232ee7d323",
      "9fb65957809a4bb2bcd5110a3f7c54b2",
      "0c8e71ba986640a9a6f1f523f4d39d03",
      "7829afcd1ae44278a47c3926a588a98d",
      "a6302d8b52334f58a5a30820699d27fb",
      "78a27f7f792546f991350f59e7ccaa74",
      "b61781fcf30645ae94b2aab69d275b6b",
      "4645f8d18ceb49e0af4b2490add750f3",
      "220ee69ab37741af9d1f4e03f9d71815",
      "96dabcd15cd2489c99e1c951a764dea5",
      "256f598f0a1644fe82170aa880ec97d2",
      "8022545ca4014701b74f7625b79eebad",
      "98ece79d7dda4e559befd241526329c9",
      "82f3989b24a14a679964f4c1cfe3bfb8",
      "ff250cd993204dd8ad235cdab3450b3d",
      "19f390652f174cb2a09cde12f2cceaf8",
      "03eb7901e22a42f6bbe1745c62e096dd",
      "d2634dc143654b3490952bc1abe499fb",
      "f0a091f286374f2f8ec1eb8355f958f1",
      "dfaa3bcc1060410b9887feee0627a170",
      "37afeaa3634c4dc4915ea58a32ab545b",
      "119fa8008dbe4237bc58ee0764c74aa8",
      "76f067a3b6de47789405b1b3cfc06a4e",
      "69702f2b54cd478d9ca57ae959b8eb01",
      "5be0ef9e340c4dd2a23df869abd474b5",
      "069a2c74ef434b50976065e9354d0913",
      "00cddef261f240f89ae3fe4523ff02dd",
      "66e7854b0acf40ac8f4d77a05d1e9691",
      "948acae844b84221a1bc4cdd64188e98"
     ]
    },
    "executionInfo": {
     "elapsed": 47464,
     "status": "ok",
     "timestamp": 1616584956965,
     "user": {
      "displayName": "Alvin Chen",
      "photoUrl": "",
      "userId": "12962786962925949010"
     },
     "user_tz": -480
    },
    "id": "5-ZXcxsH2krY",
    "outputId": "45943b98-11e3-40b8-a989-a910ebe1691a",
    "tags": [
     "remove-output"
    ]
   },
   "outputs": [
    {
     "data": {
      "application/vnd.jupyter.widget-view+json": {
       "model_id": "2c552db6ec044420bfd8dfab81678661",
       "version_major": 2,
       "version_minor": 0
      },
      "text/plain": [
       "HBox(children=(FloatProgress(value=0.0, description='Downloading', max=804.0, style=ProgressStyle(description_…"
      ]
     },
     "metadata": {
      "tags": []
     },
     "output_type": "display_data"
    },
    {
     "name": "stdout",
     "output_type": "stream",
     "text": [
      "\n"
     ]
    },
    {
     "data": {
      "application/vnd.jupyter.widget-view+json": {
       "model_id": "7c0900461dea45b2b0dcc5f3324807be",
       "version_major": 2,
       "version_minor": 0
      },
      "text/plain": [
       "HBox(children=(FloatProgress(value=0.0, description='Downloading', max=406802935.0, style=ProgressStyle(descri…"
      ]
     },
     "metadata": {
      "tags": []
     },
     "output_type": "display_data"
    },
    {
     "name": "stdout",
     "output_type": "stream",
     "text": [
      "\n"
     ]
    },
    {
     "data": {
      "application/vnd.jupyter.widget-view+json": {
       "model_id": "3a2e8c8f52ff4c82a0b650680c1af736",
       "version_major": 2,
       "version_minor": 0
      },
      "text/plain": [
       "HBox(children=(FloatProgress(value=0.0, description='Downloading', max=109540.0, style=ProgressStyle(descripti…"
      ]
     },
     "metadata": {
      "tags": []
     },
     "output_type": "display_data"
    },
    {
     "name": "stdout",
     "output_type": "stream",
     "text": [
      "\n"
     ]
    },
    {
     "data": {
      "application/vnd.jupyter.widget-view+json": {
       "model_id": "cd3587570fed4d3389756b7b1b40f8c6",
       "version_major": 2,
       "version_minor": 0
      },
      "text/plain": [
       "HBox(children=(FloatProgress(value=0.0, description='Downloading', max=112.0, style=ProgressStyle(description_…"
      ]
     },
     "metadata": {
      "tags": []
     },
     "output_type": "display_data"
    },
    {
     "name": "stdout",
     "output_type": "stream",
     "text": [
      "\n"
     ]
    },
    {
     "data": {
      "application/vnd.jupyter.widget-view+json": {
       "model_id": "5fca914a6fe3421288aa76a7fe9332c0",
       "version_major": 2,
       "version_minor": 0
      },
      "text/plain": [
       "HBox(children=(FloatProgress(value=0.0, description='Downloading', max=301.0, style=ProgressStyle(description_…"
      ]
     },
     "metadata": {
      "tags": []
     },
     "output_type": "display_data"
    },
    {
     "name": "stdout",
     "output_type": "stream",
     "text": [
      "\n"
     ]
    },
    {
     "data": {
      "application/vnd.jupyter.widget-view+json": {
       "model_id": "5bcba89a612747d2a7826418fcd5dc38",
       "version_major": 2,
       "version_minor": 0
      },
      "text/plain": [
       "HBox(children=(FloatProgress(value=0.0, description='Downloading', max=2860.0, style=ProgressStyle(description…"
      ]
     },
     "metadata": {
      "tags": []
     },
     "output_type": "display_data"
    },
    {
     "name": "stdout",
     "output_type": "stream",
     "text": [
      "\n"
     ]
    },
    {
     "data": {
      "application/vnd.jupyter.widget-view+json": {
       "model_id": "1fe9cf255be240b9be1eaeffb88b43e5",
       "version_major": 2,
       "version_minor": 0
      },
      "text/plain": [
       "HBox(children=(FloatProgress(value=0.0, description='Downloading', max=406981303.0, style=ProgressStyle(descri…"
      ]
     },
     "metadata": {
      "tags": []
     },
     "output_type": "display_data"
    },
    {
     "name": "stdout",
     "output_type": "stream",
     "text": [
      "\n"
     ]
    },
    {
     "data": {
      "application/vnd.jupyter.widget-view+json": {
       "model_id": "78a27f7f792546f991350f59e7ccaa74",
       "version_major": 2,
       "version_minor": 0
      },
      "text/plain": [
       "HBox(children=(FloatProgress(value=0.0, description='Downloading', max=109540.0, style=ProgressStyle(descripti…"
      ]
     },
     "metadata": {
      "tags": []
     },
     "output_type": "display_data"
    },
    {
     "name": "stdout",
     "output_type": "stream",
     "text": [
      "\n"
     ]
    },
    {
     "data": {
      "application/vnd.jupyter.widget-view+json": {
       "model_id": "82f3989b24a14a679964f4c1cfe3bfb8",
       "version_major": 2,
       "version_minor": 0
      },
      "text/plain": [
       "HBox(children=(FloatProgress(value=0.0, description='Downloading', max=112.0, style=ProgressStyle(description_…"
      ]
     },
     "metadata": {
      "tags": []
     },
     "output_type": "display_data"
    },
    {
     "name": "stdout",
     "output_type": "stream",
     "text": [
      "\n"
     ]
    },
    {
     "data": {
      "application/vnd.jupyter.widget-view+json": {
       "model_id": "119fa8008dbe4237bc58ee0764c74aa8",
       "version_major": 2,
       "version_minor": 0
      },
      "text/plain": [
       "HBox(children=(FloatProgress(value=0.0, description='Downloading', max=301.0, style=ProgressStyle(description_…"
      ]
     },
     "metadata": {
      "tags": []
     },
     "output_type": "display_data"
    },
    {
     "name": "stdout",
     "output_type": "stream",
     "text": [
      "\n"
     ]
    }
   ],
   "source": [
    "import ckip_transformers\n",
    "from ckip_transformers.nlp import CkipWordSegmenter, CkipPosTagger\n",
    "# Initialize drivers\n",
    "ws_driver = CkipWordSegmenter(level=3, device=0)\n",
    "pos_driver = CkipPosTagger(level=3, device=0)\n"
   ]
  },
  {
   "cell_type": "code",
   "execution_count": 5,
   "metadata": {
    "executionInfo": {
     "elapsed": 607,
     "status": "ok",
     "timestamp": 1616584978584,
     "user": {
      "displayName": "Alvin Chen",
      "photoUrl": "",
      "userId": "12962786962925949010"
     },
     "user_tz": -480
    },
    "id": "wdDb208F2krY"
   },
   "outputs": [],
   "source": [
    "def my_tokenizer(doc):\n",
    "    # `doc`: a list of corpus documents (each element is a document long string)\n",
    "    cur_ws = ws_driver(doc, use_delim = True, delim_set='\\n')\n",
    "    cur_pos = pos_driver(cur_ws)\n",
    "    doc_seg = [[(x,y) for (x,y) in zip(w,p)]  for (w,p) in zip(cur_ws, cur_pos)]\n",
    "    return doc_seg"
   ]
  },
  {
   "cell_type": "markdown",
   "metadata": {
    "id": "hfUgFpWK2krY"
   },
   "source": [
    "### Tokenization Chinese Texts"
   ]
  },
  {
   "cell_type": "code",
   "execution_count": 6,
   "metadata": {
    "colab": {
     "base_uri": "https://localhost:8080/"
    },
    "executionInfo": {
     "elapsed": 1006,
     "status": "ok",
     "timestamp": 1616584984026,
     "user": {
      "displayName": "Alvin Chen",
      "photoUrl": "",
      "userId": "12962786962925949010"
     },
     "user_tz": -480
    },
    "id": "OSrPYnK52krY",
    "outputId": "c72e1f02-2389-4de5-935f-6433f8b90b1b"
   },
   "outputs": [
    {
     "data": {
      "text/plain": [
       "0    部分回應在B117 \\n謝謝各位的留言，我都有看完\\n好的不好的，我都接受謝謝大家🙇‍♀️\\...\n",
       "1    https://i.imgur.com/REIEzSd.jpg\\n\\n身高195公分的男大生...\n",
       "2    看過這麼多在Dcard、PTT上的感情渣事和創作文\\n從沒想過如此荒謬像八點檔的事情居然會發...\n",
       "3    剛剛吃小火鍋，跟店員說不要金針菇（怕卡牙縫），於是店員幫我換其他配料..…\\n\\n沒想到餐一...\n",
       "4    已經約好見面，到了當天晚上七點半才回，我是被耍了嗎 \\n如下圖\\n\\n\\nhttps://i...\n",
       "5    嗨！巨砲哥 答應你的文來了😆\\n這是一段與約砲小哥哥談心的奇幻旅程\\n\\n可憐的我情人節當天...\n",
       "6    https://i.imgur.com/HCTwyAH.jpg\\n（圖片非本人）\\n今天逛街...\n",
       "7    https://i.imgur.com/RWJLK2v.jpg\\n\\n因為馬鞍很寬\\n想請問...\n",
       "8    手機排版請見諒😖🙏🏻（圖多）\\n先說這不是我第一次訂購訂製蛋糕\\n也了解訂製蛋糕不可能跟圖上...\n",
       "9    https://i.imgur.com/6Yk9etg.jpg\\n想在這裡問大家有沒有接到這...\n",
       "Name: content, dtype: object"
      ]
     },
     "execution_count": 6,
     "metadata": {
      "tags": []
     },
     "output_type": "execute_result"
    }
   ],
   "source": [
    "import pandas as pd\n",
    "\n",
    "df = pd.read_csv('dcard-top100.csv')\n",
    "df.head()\n",
    "corpus = df['content']\n",
    "corpus[:10]"
   ]
  },
  {
   "cell_type": "code",
   "execution_count": 7,
   "metadata": {
    "colab": {
     "base_uri": "https://localhost:8080/"
    },
    "executionInfo": {
     "elapsed": 249342,
     "status": "ok",
     "timestamp": 1616585235340,
     "user": {
      "displayName": "Alvin Chen",
      "photoUrl": "",
      "userId": "12962786962925949010"
     },
     "user_tz": -480
    },
    "id": "1KLwqAAs3eGO",
    "outputId": "d07b075d-5d2f-4bc6-9e5e-eb88da9f98d4"
   },
   "outputs": [
    {
     "name": "stderr",
     "output_type": "stream",
     "text": [
      "Tokenization: 100%|██████████| 100/100 [00:00<00:00, 406.53it/s]\n",
      "Inference: 100%|██████████| 16/16 [02:28<00:00,  9.28s/it]\n",
      "Tokenization: 100%|██████████| 100/100 [00:00<00:00, 1249.52it/s]\n",
      "Inference: 100%|██████████| 10/10 [01:39<00:00,  9.93s/it]\n"
     ]
    },
    {
     "name": "stdout",
     "output_type": "stream",
     "text": [
      "CPU times: user 2min 4s, sys: 2min 4s, total: 4min 9s\n",
      "Wall time: 4min 8s\n"
     ]
    }
   ],
   "source": [
    "%%time\n",
    "corpus_seg = my_tokenizer(corpus)"
   ]
  },
  {
   "cell_type": "code",
   "execution_count": 8,
   "metadata": {
    "colab": {
     "base_uri": "https://localhost:8080/"
    },
    "executionInfo": {
     "elapsed": 630,
     "status": "ok",
     "timestamp": 1616585241434,
     "user": {
      "displayName": "Alvin Chen",
      "photoUrl": "",
      "userId": "12962786962925949010"
     },
     "user_tz": -480
    },
    "id": "1VzaOffM_QmF",
    "outputId": "a8dc9d06-27c0-4481-da14-fba1c8c86839"
   },
   "outputs": [
    {
     "data": {
      "text/plain": [
       "[('部分', 'Neqa'),\n",
       " ('回應', 'VC'),\n",
       " ('在', 'P'),\n",
       " ('B117 \\n', 'FW'),\n",
       " ('謝謝', 'VJ'),\n",
       " ('各位', 'Nh'),\n",
       " ('的', 'DE'),\n",
       " ('留言', 'Na'),\n",
       " ('，', 'COMMACATEGORY'),\n",
       " ('我', 'Nh'),\n",
       " ('都', 'D'),\n",
       " ('有', 'D'),\n",
       " ('看完', 'VC'),\n",
       " ('\\n', 'WHITESPACE'),\n",
       " ('好', 'VH'),\n",
       " ('的', 'DE'),\n",
       " ('不', 'D'),\n",
       " ('好', 'VH'),\n",
       " ('的', 'T'),\n",
       " ('，', 'COMMACATEGORY'),\n",
       " ('我', 'Nh'),\n",
       " ('都', 'D'),\n",
       " ('接受', 'VC'),\n",
       " ('謝謝', 'VJ'),\n",
       " ('大家', 'Nh'),\n",
       " ('🙇', 'FW'),\n",
       " ('\\u200d♀️\\n', 'DASHCATEGORY'),\n",
       " ('\\n', 'WHITESPACE'),\n",
       " ('\\n', 'WHITESPACE'),\n",
       " ('（', 'PARENTHESISCATEGORY'),\n",
       " ('第三', 'Neu'),\n",
       " ('次', 'Nf'),\n",
       " ('更新', 'VC'),\n",
       " ('在', 'P'),\n",
       " ('這邊', 'Ncd'),\n",
       " ('）', 'PARENTHESISCATEGORY'),\n",
       " ('\\n', 'WHITESPACE'),\n",
       " ('B258 ', 'FW'),\n",
       " ('這邊', 'Ncd'),\n",
       " ('也', 'D'),\n",
       " ('有', 'V_2'),\n",
       " ('講到', 'VE'),\n",
       " ('怎麼', 'D'),\n",
       " ('逃生', 'VA'),\n",
       " ('\\n', 'WHITESPACE'),\n",
       " ('很多', 'Neqa'),\n",
       " ('人', 'Na'),\n",
       " ('好奇', 'VH'),\n",
       " ('我', 'Nh'),\n",
       " ('是', 'SHI')]"
      ]
     },
     "execution_count": 8,
     "metadata": {
      "tags": []
     },
     "output_type": "execute_result"
    }
   ],
   "source": [
    "corpus_seg[0][:50]"
   ]
  }
 ],
 "metadata": {
  "celltoolbar": "Tags",
  "kernelspec": {
   "display_name": "Python 3",
   "language": "python",
   "name": "python3"
  },
  "language_info": {
   "codemirror_mode": {
    "name": "ipython",
    "version": 3
   },
   "file_extension": ".py",
   "mimetype": "text/x-python",
   "name": "python",
   "nbconvert_exporter": "python",
   "pygments_lexer": "ipython3",
   "version": "3.7.6"
  },
  "toc": {
   "base_numbering": 1,
   "nav_menu": {},
   "number_sections": false,
   "sideBar": true,
   "skip_h1_title": false,
   "title_cell": "Table of Contents",
   "title_sidebar": "Contents",
   "toc_cell": false,
   "toc_position": {},
   "toc_section_display": true,
   "toc_window_display": false
  },
  "varInspector": {
   "cols": {
    "lenName": 16,
    "lenType": 16,
    "lenVar": 40
   },
   "kernels_config": {
    "python": {
     "delete_cmd_postfix": "",
     "delete_cmd_prefix": "del ",
     "library": "var_list.py",
     "varRefreshCmd": "print(var_dic_list())"
    },
    "r": {
     "delete_cmd_postfix": ") ",
     "delete_cmd_prefix": "rm(",
     "library": "var_list.r",
     "varRefreshCmd": "cat(var_dic_list()) "
    }
   },
   "types_to_exclude": [
    "module",
    "function",
    "builtin_function_or_method",
    "instance",
    "_Feature"
   ],
   "window_display": false
  }
 },
 "nbformat": 4,
 "nbformat_minor": 1
}