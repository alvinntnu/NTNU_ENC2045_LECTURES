{
 "cells": [
  {
   "cell_type": "markdown",
   "metadata": {
    "id": "5Zbl7xHo2krD"
   },
   "source": [
    "# Google Colab"
   ]
  },
  {
   "cell_type": "markdown",
   "metadata": {
    "id": "MCdhAoTp2krL"
   },
   "source": [
    "- As we are working with more and more data, we may need GPU computing for quicker processing.\n",
    "- This lecture note shows how we can capitalize on the free GPU computing provided by Google Colab and speed up the Chinese word segmentation of `ckip-transformers`."
   ]
  },
  {
   "cell_type": "markdown",
   "metadata": {
    "id": "VRJzH_XU2krM"
   },
   "source": [
    "## Prepare Google Drive"
   ]
  },
  {
   "cell_type": "markdown",
   "metadata": {
    "id": "k7-itI8Q2krM"
   },
   "source": [
    "- Create a working directory under your Google Drive, named `ENC2045_DEMO_DATA`.\n",
    "- Save the corpus files needed in that Google Drive directory.\n",
    "- We can access the files on our Google Drive from Google Colab. This can be useful when you need to load your own data in Google Colab."
   ]
  },
  {
   "cell_type": "markdown",
   "metadata": {
    "id": "bSOM3_LWDwk8"
   },
   "source": [
    ":::{note}\n",
    "\n",
    "You can of course name the directory in which ever ways you like. The key is that we need to put the data files on the Google Drive so that we can access these files through Google Colab.\n",
    "\n",
    ":::"
   ]
  },
  {
   "cell_type": "markdown",
   "metadata": {
    "id": "u6ZDiqI42krN"
   },
   "source": [
    "## Run Notebook in Google Colab"
   ]
  },
  {
   "cell_type": "markdown",
   "metadata": {
    "id": "YDk4haec2krN"
   },
   "source": [
    "- Click on the button on top of the lecture notes website to open this notebook in Google Colab."
   ]
  },
  {
   "cell_type": "markdown",
   "metadata": {
    "id": "lOVRwJrT2krT"
   },
   "source": [
    "## Setting Google Colab Environment"
   ]
  },
  {
   "cell_type": "markdown",
   "metadata": {
    "id": "j61a3cBbDwk-"
   },
   "source": [
    "- Important Steps for Google Colab Environment Setting\n",
    "    - Change the Runtime for GPU\n",
    "    - Install Modules\n",
    "    - Mount Google Drive\n",
    "    - Set Working Directory"
   ]
  },
  {
   "cell_type": "markdown",
   "metadata": {
    "id": "7JytQ18V2krT"
   },
   "source": [
    "## Change Runtime for GPU"
   ]
  },
  {
   "cell_type": "markdown",
   "metadata": {
    "id": "PSajqGlKDwk-"
   },
   "source": [
    "- [Runtime] -> [Change runtime type]\n",
    "- For [Hardware accelerator], choose [GPU]"
   ]
  },
  {
   "cell_type": "code",
   "execution_count": 1,
   "metadata": {
    "colab": {
     "base_uri": "https://localhost:8080/"
    },
    "executionInfo": {
     "elapsed": 995,
     "status": "ok",
     "timestamp": 1616670353949,
     "user": {
      "displayName": "Alvin Chen",
      "photoUrl": "",
      "userId": "12962786962925949010"
     },
     "user_tz": -480
    },
    "id": "p5sQvibk-lQ3",
    "outputId": "ec1796ad-f744-4c97-855d-67db02edd00b"
   },
   "outputs": [
    {
     "name": "stdout",
     "output_type": "stream",
     "text": [
      "Thu Mar 25 11:05:53 2021       \n",
      "+-----------------------------------------------------------------------------+\n",
      "| NVIDIA-SMI 460.56       Driver Version: 460.32.03    CUDA Version: 11.2     |\n",
      "|-------------------------------+----------------------+----------------------+\n",
      "| GPU  Name        Persistence-M| Bus-Id        Disp.A | Volatile Uncorr. ECC |\n",
      "| Fan  Temp  Perf  Pwr:Usage/Cap|         Memory-Usage | GPU-Util  Compute M. |\n",
      "|                               |                      |               MIG M. |\n",
      "|===============================+======================+======================|\n",
      "|   0  Tesla P100-PCIE...  Off  | 00000000:00:04.0 Off |                    0 |\n",
      "| N/A   34C    P0    26W / 250W |      0MiB / 16280MiB |      0%      Default |\n",
      "|                               |                      |                  N/A |\n",
      "+-------------------------------+----------------------+----------------------+\n",
      "                                                                               \n",
      "+-----------------------------------------------------------------------------+\n",
      "| Processes:                                                                  |\n",
      "|  GPU   GI   CI        PID   Type   Process name                  GPU Memory |\n",
      "|        ID   ID                                                   Usage      |\n",
      "|=============================================================================|\n",
      "|  No running processes found                                                 |\n",
      "+-----------------------------------------------------------------------------+\n"
     ]
    }
   ],
   "source": [
    "!nvidia-smi"
   ]
  },
  {
   "cell_type": "markdown",
   "metadata": {
    "id": "7siOYJUXDwlA"
   },
   "source": [
    "## Install Modules"
   ]
  },
  {
   "cell_type": "markdown",
   "metadata": {
    "id": "uzIfdRSO2krX"
   },
   "source": [
    "- Google Colab has been pre-instralled with several popular modules for machine learning and deep learning (e.g., `nltk`, `sklearn`, `tensorflow`, `pytorch`,`numpy`, `spacy`).\n",
    "- We can check the pre-installed modules here."
   ]
  },
  {
   "cell_type": "code",
   "execution_count": 2,
   "metadata": {
    "colab": {
     "base_uri": "https://localhost:8080/"
    },
    "executionInfo": {
     "elapsed": 1468,
     "status": "ok",
     "timestamp": 1616670358820,
     "user": {
      "displayName": "Alvin Chen",
      "photoUrl": "",
      "userId": "12962786962925949010"
     },
     "user_tz": -480
    },
    "id": "iBcIwGHqDwlA",
    "outputId": "dde635c5-03a8-4f10-f77c-26023cd9ab93"
   },
   "outputs": [
    {
     "name": "stdout",
     "output_type": "stream",
     "text": [
      "Package                       Version       \n",
      "----------------------------- --------------\n",
      "absl-py                       0.10.0        \n",
      "alabaster                     0.7.12        \n",
      "albumentations                0.1.12        \n",
      "altair                        4.1.0         \n",
      "appdirs                       1.4.4         \n",
      "argon2-cffi                   20.1.0        \n",
      "asgiref                       3.3.1         \n",
      "astor                         0.8.1         \n",
      "astropy                       4.2           \n",
      "astunparse                    1.6.3         \n",
      "async-generator               1.10          \n",
      "atari-py                      0.2.6         \n",
      "atomicwrites                  1.4.0         \n",
      "attrs                         20.3.0        \n",
      "audioread                     2.1.9         \n",
      "autograd                      1.3           \n",
      "Babel                         2.9.0         \n",
      "backcall                      0.2.0         \n",
      "beautifulsoup4                4.6.3         \n",
      "bleach                        3.3.0         \n",
      "blis                          0.4.1         \n",
      "bokeh                         2.1.1         \n",
      "Bottleneck                    1.3.2         \n",
      "branca                        0.4.2         \n",
      "bs4                           0.0.1         \n",
      "CacheControl                  0.12.6        \n",
      "cachetools                    4.2.1         \n",
      "catalogue                     1.0.0         \n",
      "certifi                       2020.12.5     \n",
      "cffi                          1.14.5        \n",
      "chainer                       7.4.0         \n",
      "chardet                       3.0.4         \n",
      "click                         7.1.2         \n",
      "cloudpickle                   1.3.0         \n",
      "cmake                         3.12.0        \n",
      "cmdstanpy                     0.9.5         \n",
      "colorlover                    0.3.0         \n",
      "community                     1.0.0b1       \n",
      "contextlib2                   0.5.5         \n",
      "convertdate                   2.3.1         \n",
      "coverage                      3.7.1         \n",
      "coveralls                     0.5           \n",
      "crcmod                        1.7           \n",
      "cufflinks                     0.17.3        \n",
      "cupy-cuda101                  7.4.0         \n",
      "cvxopt                        1.2.6         \n",
      "cvxpy                         1.0.31        \n",
      "cycler                        0.10.0        \n",
      "cymem                         2.0.5         \n",
      "Cython                        0.29.22       \n",
      "daft                          0.0.4         \n",
      "dask                          2.12.0        \n",
      "datascience                   0.10.6        \n",
      "debugpy                       1.0.0         \n",
      "decorator                     4.4.2         \n",
      "defusedxml                    0.7.1         \n",
      "descartes                     1.1.0         \n",
      "dill                          0.3.3         \n",
      "distributed                   1.25.3        \n",
      "Django                        3.1.7         \n",
      "dlib                          19.18.0       \n",
      "dm-tree                       0.1.5         \n",
      "docopt                        0.6.2         \n",
      "docutils                      0.16          \n",
      "dopamine-rl                   1.0.5         \n",
      "earthengine-api               0.1.255       \n",
      "easydict                      1.9           \n",
      "ecos                          2.0.7.post1   \n",
      "editdistance                  0.5.3         \n",
      "en-core-web-sm                2.2.5         \n",
      "entrypoints                   0.3           \n",
      "ephem                         3.7.7.1       \n",
      "et-xmlfile                    1.0.1         \n",
      "fa2                           0.3.5         \n",
      "fancyimpute                   0.4.3         \n",
      "fastai                        1.0.61        \n",
      "fastdtw                       0.3.4         \n",
      "fastprogress                  1.0.0         \n",
      "fastrlock                     0.5           \n",
      "fbprophet                     0.7.1         \n",
      "feather-format                0.4.1         \n",
      "filelock                      3.0.12        \n",
      "firebase-admin                4.4.0         \n",
      "fix-yahoo-finance             0.0.22        \n",
      "Flask                         1.1.2         \n",
      "flatbuffers                   1.12          \n",
      "folium                        0.8.3         \n",
      "future                        0.16.0        \n",
      "gast                          0.3.3         \n",
      "GDAL                          2.2.2         \n",
      "gdown                         3.6.4         \n",
      "gensim                        3.6.0         \n",
      "geographiclib                 1.50          \n",
      "geopy                         1.17.0        \n",
      "gin-config                    0.4.0         \n",
      "glob2                         0.7           \n",
      "google                        2.0.3         \n",
      "google-api-core               1.26.1        \n",
      "google-api-python-client      1.12.8        \n",
      "google-auth                   1.27.1        \n",
      "google-auth-httplib2          0.0.4         \n",
      "google-auth-oauthlib          0.4.3         \n",
      "google-cloud-bigquery         1.21.0        \n",
      "google-cloud-bigquery-storage 1.1.0         \n",
      "google-cloud-core             1.0.3         \n",
      "google-cloud-datastore        1.8.0         \n",
      "google-cloud-firestore        1.7.0         \n",
      "google-cloud-language         1.2.0         \n",
      "google-cloud-storage          1.18.1        \n",
      "google-cloud-translate        1.5.0         \n",
      "google-colab                  1.0.0         \n",
      "google-pasta                  0.2.0         \n",
      "google-resumable-media        0.4.1         \n",
      "googleapis-common-protos      1.53.0        \n",
      "googledrivedownloader         0.4           \n",
      "graphviz                      0.10.1        \n",
      "grpcio                        1.32.0        \n",
      "gspread                       3.0.1         \n",
      "gspread-dataframe             3.0.8         \n",
      "gym                           0.17.3        \n",
      "h5py                          2.10.0        \n",
      "HeapDict                      1.0.1         \n",
      "hijri-converter               2.1.1         \n",
      "holidays                      0.10.5.2      \n",
      "holoviews                     1.13.5        \n",
      "html5lib                      1.0.1         \n",
      "httpimport                    0.5.18        \n",
      "httplib2                      0.17.4        \n",
      "httplib2shim                  0.0.3         \n",
      "humanize                      0.5.1         \n",
      "hyperopt                      0.1.2         \n",
      "ideep4py                      2.0.0.post3   \n",
      "idna                          2.10          \n",
      "image                         1.5.33        \n",
      "imageio                       2.4.1         \n",
      "imagesize                     1.2.0         \n",
      "imbalanced-learn              0.4.3         \n",
      "imblearn                      0.0           \n",
      "imgaug                        0.2.9         \n",
      "importlib-metadata            3.7.2         \n",
      "importlib-resources           5.1.2         \n",
      "imutils                       0.5.4         \n",
      "inflect                       2.1.0         \n",
      "iniconfig                     1.1.1         \n",
      "intel-openmp                  2021.1.2      \n",
      "intervaltree                  2.1.0         \n",
      "ipykernel                     4.10.1        \n",
      "ipython                       5.5.0         \n",
      "ipython-genutils              0.2.0         \n",
      "ipython-sql                   0.3.9         \n",
      "ipywidgets                    7.6.3         \n",
      "itsdangerous                  1.1.0         \n",
      "jax                           0.2.10        \n",
      "jaxlib                        0.1.62+cuda110\n",
      "jdcal                         1.4.1         \n",
      "jedi                          0.18.0        \n",
      "jieba                         0.42.1        \n",
      "Jinja2                        2.11.3        \n",
      "joblib                        1.0.1         \n",
      "jpeg4py                       0.1.4         \n",
      "jsonschema                    2.6.0         \n",
      "jupyter                       1.0.0         \n",
      "jupyter-client                5.3.5         \n",
      "jupyter-console               5.2.0         \n",
      "jupyter-core                  4.7.1         \n",
      "jupyterlab-pygments           0.1.2         \n",
      "jupyterlab-widgets            1.0.0         \n",
      "kaggle                        1.5.10        \n",
      "kapre                         0.1.3.1       \n",
      "Keras                         2.4.3         \n",
      "Keras-Preprocessing           1.1.2         \n",
      "keras-vis                     0.4.1         \n",
      "kiwisolver                    1.3.1         \n",
      "knnimpute                     0.1.0         \n",
      "korean-lunar-calendar         0.2.1         \n",
      "librosa                       0.8.0         \n",
      "lightgbm                      2.2.3         \n",
      "llvmlite                      0.34.0        \n",
      "lmdb                          0.99          \n",
      "lucid                         0.3.8         \n",
      "LunarCalendar                 0.0.9         \n",
      "lxml                          4.2.6         \n",
      "Markdown                      3.3.4         \n",
      "MarkupSafe                    1.1.1         \n",
      "matplotlib                    3.2.2         \n",
      "matplotlib-venn               0.11.6        \n",
      "missingno                     0.4.2         \n",
      "mistune                       0.8.4         \n",
      "mizani                        0.6.0         \n",
      "mkl                           2019.0        \n",
      "mlxtend                       0.14.0        \n",
      "more-itertools                8.7.0         \n",
      "moviepy                       0.2.3.5       \n",
      "mpmath                        1.2.1         \n",
      "msgpack                       1.0.2         \n",
      "multiprocess                  0.70.11.1     \n",
      "multitasking                  0.0.9         \n",
      "murmurhash                    1.0.5         \n",
      "music21                       5.5.0         \n",
      "natsort                       5.5.0         \n",
      "nbclient                      0.5.3         \n",
      "nbconvert                     5.6.1         \n",
      "nbformat                      5.1.2         \n",
      "nest-asyncio                  1.5.1         \n",
      "networkx                      2.5           \n",
      "nibabel                       3.0.2         \n",
      "nltk                          3.2.5         \n",
      "notebook                      5.3.1         \n",
      "np-utils                      0.5.12.1      \n",
      "numba                         0.51.2        \n",
      "numexpr                       2.7.3         \n",
      "numpy                         1.19.5        \n",
      "nvidia-ml-py3                 7.352.0       \n",
      "oauth2client                  4.1.3         \n",
      "oauthlib                      3.1.0         \n",
      "okgrade                       0.4.3         \n",
      "opencv-contrib-python         4.1.2.30      \n",
      "opencv-python                 4.1.2.30      \n",
      "openpyxl                      2.5.9         \n",
      "opt-einsum                    3.3.0         \n",
      "osqp                          0.6.2.post0   \n",
      "packaging                     20.9          \n",
      "palettable                    3.3.0         \n",
      "pandas                        1.1.5         \n",
      "pandas-datareader             0.9.0         \n",
      "pandas-gbq                    0.13.3        \n",
      "pandas-profiling              1.4.1         \n",
      "pandocfilters                 1.4.3         \n",
      "panel                         0.9.7         \n",
      "param                         1.10.1        \n",
      "parso                         0.8.1         \n",
      "pathlib                       1.0.1         \n",
      "patsy                         0.5.1         \n",
      "pexpect                       4.8.0         \n",
      "pickleshare                   0.7.5         \n",
      "Pillow                        7.0.0         \n",
      "pip                           19.3.1        \n",
      "pip-tools                     4.5.1         \n",
      "plac                          1.1.3         \n",
      "plotly                        4.4.1         \n",
      "plotnine                      0.6.0         \n",
      "pluggy                        0.7.1         \n",
      "pooch                         1.3.0         \n",
      "portpicker                    1.3.1         \n",
      "prefetch-generator            1.0.1         \n",
      "preshed                       3.0.5         \n",
      "prettytable                   2.1.0         \n",
      "progressbar2                  3.38.0        \n",
      "prometheus-client             0.9.0         \n",
      "promise                       2.3           \n",
      "prompt-toolkit                1.0.18        \n",
      "protobuf                      3.12.4        \n",
      "psutil                        5.4.8         \n",
      "psycopg2                      2.7.6.1       \n",
      "ptyprocess                    0.7.0         \n",
      "py                            1.10.0        \n",
      "pyarrow                       3.0.0         \n",
      "pyasn1                        0.4.8         \n",
      "pyasn1-modules                0.2.8         \n",
      "pycocotools                   2.0.2         \n",
      "pycparser                     2.20          \n",
      "pyct                          0.4.8         \n",
      "pydata-google-auth            1.1.0         \n",
      "pydot                         1.3.0         \n",
      "pydot-ng                      2.0.0         \n",
      "pydotplus                     2.0.2         \n",
      "PyDrive                       1.3.1         \n",
      "pyemd                         0.5.1         \n",
      "pyerfa                        1.7.2         \n",
      "pyglet                        1.5.0         \n",
      "Pygments                      2.6.1         \n",
      "pygobject                     3.26.1        \n",
      "pymc3                         3.7           \n",
      "PyMeeus                       0.5.9         \n",
      "pymongo                       3.11.3        \n",
      "pymystem3                     0.2.0         \n",
      "pynndescent                   0.5.2         \n",
      "PyOpenGL                      3.1.5         \n",
      "pyparsing                     2.4.7         \n",
      "pyrsistent                    0.17.3        \n",
      "pysndfile                     1.3.8         \n",
      "PySocks                       1.7.1         \n",
      "pystan                        2.19.1.1      \n",
      "pytest                        3.6.4         \n",
      "python-apt                    0.0.0         \n",
      "python-chess                  0.23.11       \n",
      "python-dateutil               2.8.1         \n",
      "python-louvain                0.15          \n",
      "python-slugify                4.0.1         \n",
      "python-utils                  2.5.6         \n",
      "pytz                          2018.9        \n",
      "pyviz-comms                   2.0.1         \n",
      "PyWavelets                    1.1.1         \n",
      "PyYAML                        3.13          \n",
      "pyzmq                         22.0.3        \n",
      "qdldl                         0.1.5.post0   \n",
      "qtconsole                     5.0.3         \n",
      "QtPy                          1.9.0         \n",
      "regex                         2019.12.20    \n",
      "requests                      2.23.0        \n",
      "requests-oauthlib             1.3.0         \n",
      "resampy                       0.2.2         \n",
      "retrying                      1.3.3         \n",
      "rpy2                          3.4.2         \n",
      "rsa                           4.7.2         \n",
      "scikit-image                  0.16.2        \n",
      "scikit-learn                  0.22.2.post1  \n",
      "scipy                         1.4.1         \n",
      "screen-resolution-extra       0.0.0         \n",
      "scs                           2.1.2         \n",
      "seaborn                       0.11.1        \n",
      "Send2Trash                    1.5.0         \n",
      "setuptools                    54.1.2        \n",
      "setuptools-git                1.2           \n",
      "Shapely                       1.7.1         \n",
      "simplegeneric                 0.8.1         \n",
      "six                           1.15.0        \n",
      "sklearn                       0.0           \n",
      "sklearn-pandas                1.8.0         \n",
      "smart-open                    4.2.0         \n",
      "snowballstemmer               2.1.0         \n",
      "sortedcontainers              2.3.0         \n",
      "SoundFile                     0.10.3.post1  \n",
      "spacy                         2.2.4         \n",
      "Sphinx                        1.8.5         \n",
      "sphinxcontrib-serializinghtml 1.1.4         \n",
      "sphinxcontrib-websupport      1.2.4         \n",
      "SQLAlchemy                    1.3.23        \n",
      "sqlparse                      0.4.1         \n",
      "srsly                         1.0.5         \n",
      "statsmodels                   0.10.2        \n",
      "sympy                         1.7.1         \n",
      "tables                        3.4.4         \n",
      "tabulate                      0.8.9         \n",
      "tblib                         1.7.0         \n",
      "tensorboard                   2.4.1         \n",
      "tensorboard-plugin-wit        1.8.0         \n",
      "tensorflow                    2.4.1         \n",
      "tensorflow-datasets           4.0.1         \n",
      "tensorflow-estimator          2.4.0         \n",
      "tensorflow-gcs-config         2.4.0         \n",
      "tensorflow-hub                0.11.0        \n",
      "tensorflow-metadata           0.28.0        \n",
      "tensorflow-probability        0.12.1        \n",
      "termcolor                     1.1.0         \n",
      "terminado                     0.9.2         \n",
      "testpath                      0.4.4         \n",
      "text-unidecode                1.3           \n",
      "textblob                      0.15.3        \n",
      "textgenrnn                    1.4.1         \n",
      "Theano                        1.0.5         \n",
      "thinc                         7.4.0         \n",
      "tifffile                      2021.3.17     \n",
      "toml                          0.10.2        \n",
      "toolz                         0.11.1        \n",
      "torch                         1.8.0+cu101   \n",
      "torchsummary                  1.5.1         \n",
      "torchtext                     0.9.0         \n",
      "torchvision                   0.9.0+cu101   \n",
      "tornado                       5.1.1         \n",
      "tqdm                          4.41.1        \n",
      "traitlets                     5.0.5         \n",
      "tweepy                        3.10.0        \n",
      "typeguard                     2.7.1         \n",
      "typing-extensions             3.7.4.3       \n",
      "tzlocal                       1.5.1         \n",
      "umap-learn                    0.5.1         \n",
      "uritemplate                   3.0.1         \n",
      "urllib3                       1.24.3        \n",
      "vega-datasets                 0.9.0         \n",
      "wasabi                        0.8.2         \n",
      "wcwidth                       0.2.5         \n",
      "webencodings                  0.5.1         \n",
      "Werkzeug                      1.0.1         \n",
      "wheel                         0.36.2        \n",
      "widgetsnbextension            3.5.1         \n",
      "wordcloud                     1.5.0         \n",
      "wrapt                         1.12.1        \n",
      "xarray                        0.15.1        \n",
      "xgboost                       0.90          \n",
      "xkit                          0.0.0         \n",
      "xlrd                          1.1.0         \n",
      "xlwt                          1.3.0         \n",
      "yellowbrick                   0.9.1         \n",
      "zict                          2.0.0         \n",
      "zipp                          3.4.1         \n"
     ]
    }
   ],
   "source": [
    "!pip list"
   ]
  },
  {
   "cell_type": "markdown",
   "metadata": {
    "id": "FGaKl_WcDwlB"
   },
   "source": [
    "- We only need to install modules that are not pre-installed in Google Colab (e.g., `ckip-transformers`).\n",
    "- This installation has to be done every time we work with Google Colab. But don't worry. It's quick.\n",
    "- This is how we install the package on Google Colab, exactly the same as we do in our terminal."
   ]
  },
  {
   "cell_type": "code",
   "execution_count": 3,
   "metadata": {
    "colab": {
     "base_uri": "https://localhost:8080/"
    },
    "executionInfo": {
     "elapsed": 7133,
     "status": "ok",
     "timestamp": 1616670369661,
     "user": {
      "displayName": "Alvin Chen",
      "photoUrl": "",
      "userId": "12962786962925949010"
     },
     "user_tz": -480
    },
    "id": "KCimeBx82krX",
    "outputId": "eb30db92-321c-4c4a-eaa0-9a5377102238",
    "tags": [
     "remove-output"
    ]
   },
   "outputs": [
    {
     "name": "stdout",
     "output_type": "stream",
     "text": [
      "Collecting ckip-transformers\n",
      "  Downloading https://files.pythonhosted.org/packages/ed/94/ae6a7d7b7e0785ee47663e879982ecff1906b2614a5bc441e73857b94145/ckip_transformers-0.2.3-py3-none-any.whl\n",
      "Requirement already satisfied: tqdm>=4.27 in /usr/local/lib/python3.7/dist-packages (from ckip-transformers) (4.41.1)\n",
      "Collecting transformers>=3.5.0\n",
      "\u001b[?25l  Downloading https://files.pythonhosted.org/packages/ed/d5/f4157a376b8a79489a76ce6cfe147f4f3be1e029b7144fa7b8432e8acb26/transformers-4.4.2-py3-none-any.whl (2.0MB)\n",
      "\u001b[K     |████████████████████████████████| 2.0MB 12.4MB/s \n",
      "\u001b[?25hRequirement already satisfied: torch>=1.5.0 in /usr/local/lib/python3.7/dist-packages (from ckip-transformers) (1.8.0+cu101)\n",
      "Requirement already satisfied: numpy>=1.17 in /usr/local/lib/python3.7/dist-packages (from transformers>=3.5.0->ckip-transformers) (1.19.5)\n",
      "Requirement already satisfied: packaging in /usr/local/lib/python3.7/dist-packages (from transformers>=3.5.0->ckip-transformers) (20.9)\n",
      "Collecting sacremoses\n",
      "\u001b[?25l  Downloading https://files.pythonhosted.org/packages/7d/34/09d19aff26edcc8eb2a01bed8e98f13a1537005d31e95233fd48216eed10/sacremoses-0.0.43.tar.gz (883kB)\n",
      "\u001b[K     |████████████████████████████████| 890kB 49.5MB/s \n",
      "\u001b[?25hCollecting tokenizers<0.11,>=0.10.1\n",
      "\u001b[?25l  Downloading https://files.pythonhosted.org/packages/71/23/2ddc317b2121117bf34dd00f5b0de194158f2a44ee2bf5e47c7166878a97/tokenizers-0.10.1-cp37-cp37m-manylinux2010_x86_64.whl (3.2MB)\n",
      "\u001b[K     |████████████████████████████████| 3.2MB 55.1MB/s \n",
      "\u001b[?25hRequirement already satisfied: filelock in /usr/local/lib/python3.7/dist-packages (from transformers>=3.5.0->ckip-transformers) (3.0.12)\n",
      "Requirement already satisfied: importlib-metadata; python_version < \"3.8\" in /usr/local/lib/python3.7/dist-packages (from transformers>=3.5.0->ckip-transformers) (3.7.2)\n",
      "Requirement already satisfied: requests in /usr/local/lib/python3.7/dist-packages (from transformers>=3.5.0->ckip-transformers) (2.23.0)\n",
      "Requirement already satisfied: regex!=2019.12.17 in /usr/local/lib/python3.7/dist-packages (from transformers>=3.5.0->ckip-transformers) (2019.12.20)\n",
      "Requirement already satisfied: typing-extensions in /usr/local/lib/python3.7/dist-packages (from torch>=1.5.0->ckip-transformers) (3.7.4.3)\n",
      "Requirement already satisfied: pyparsing>=2.0.2 in /usr/local/lib/python3.7/dist-packages (from packaging->transformers>=3.5.0->ckip-transformers) (2.4.7)\n",
      "Requirement already satisfied: six in /usr/local/lib/python3.7/dist-packages (from sacremoses->transformers>=3.5.0->ckip-transformers) (1.15.0)\n",
      "Requirement already satisfied: click in /usr/local/lib/python3.7/dist-packages (from sacremoses->transformers>=3.5.0->ckip-transformers) (7.1.2)\n",
      "Requirement already satisfied: joblib in /usr/local/lib/python3.7/dist-packages (from sacremoses->transformers>=3.5.0->ckip-transformers) (1.0.1)\n",
      "Requirement already satisfied: zipp>=0.5 in /usr/local/lib/python3.7/dist-packages (from importlib-metadata; python_version < \"3.8\"->transformers>=3.5.0->ckip-transformers) (3.4.1)\n",
      "Requirement already satisfied: urllib3!=1.25.0,!=1.25.1,<1.26,>=1.21.1 in /usr/local/lib/python3.7/dist-packages (from requests->transformers>=3.5.0->ckip-transformers) (1.24.3)\n",
      "Requirement already satisfied: chardet<4,>=3.0.2 in /usr/local/lib/python3.7/dist-packages (from requests->transformers>=3.5.0->ckip-transformers) (3.0.4)\n",
      "Requirement already satisfied: certifi>=2017.4.17 in /usr/local/lib/python3.7/dist-packages (from requests->transformers>=3.5.0->ckip-transformers) (2020.12.5)\n",
      "Requirement already satisfied: idna<3,>=2.5 in /usr/local/lib/python3.7/dist-packages (from requests->transformers>=3.5.0->ckip-transformers) (2.10)\n",
      "Building wheels for collected packages: sacremoses\n",
      "  Building wheel for sacremoses (setup.py) ... \u001b[?25l\u001b[?25hdone\n",
      "  Created wheel for sacremoses: filename=sacremoses-0.0.43-cp37-none-any.whl size=893262 sha256=3a46f95a7091e1ac13053aec4e7cb31f6b18ec4d14e1bcf4fd76c8eee82bbab0\n",
      "  Stored in directory: /root/.cache/pip/wheels/29/3c/fd/7ce5c3f0666dab31a50123635e6fb5e19ceb42ce38d4e58f45\n",
      "Successfully built sacremoses\n",
      "Installing collected packages: sacremoses, tokenizers, transformers, ckip-transformers\n",
      "Successfully installed ckip-transformers-0.2.3 sacremoses-0.0.43 tokenizers-0.10.1 transformers-4.4.2\n"
     ]
    }
   ],
   "source": [
    "## Google Drive Setting\n",
    "!pip install ckip-transformers"
   ]
  },
  {
   "cell_type": "markdown",
   "metadata": {
    "id": "KdzK7il_2krT"
   },
   "source": [
    "## Mount Google Drive\n",
    "    "
   ]
  },
  {
   "cell_type": "markdown",
   "metadata": {
    "id": "PpiBuepyDwlB"
   },
   "source": [
    "- To mount our Google Drive to the current Google Colab server, we need the following codes."
   ]
  },
  {
   "cell_type": "code",
   "execution_count": 4,
   "metadata": {
    "colab": {
     "base_uri": "https://localhost:8080/"
    },
    "executionInfo": {
     "elapsed": 22417,
     "status": "ok",
     "timestamp": 1616670394565,
     "user": {
      "displayName": "Alvin Chen",
      "photoUrl": "",
      "userId": "12962786962925949010"
     },
     "user_tz": -480
    },
    "id": "IFKR7rT12krV",
    "outputId": "28ff65e1-f222-48a5-a2c4-ddbe4b2c080f"
   },
   "outputs": [
    {
     "name": "stdout",
     "output_type": "stream",
     "text": [
      "Mounted at /content/drive\n"
     ]
    }
   ],
   "source": [
    "from google.colab import drive\n",
    "drive.mount('/content/drive')"
   ]
  },
  {
   "cell_type": "markdown",
   "metadata": {
    "id": "_mYu7riIDwlC"
   },
   "source": [
    "- After we run the above codes, we need to click on the link presented, log in with our Google Account in the new window and get the authorization code.\n",
    "- Then copy the authorization code from the new window and paste it back to the text box in the notebook window."
   ]
  },
  {
   "cell_type": "markdown",
   "metadata": {
    "id": "I0wagfzrDwlC"
   },
   "source": [
    "## Set Working Directory"
   ]
  },
  {
   "cell_type": "markdown",
   "metadata": {
    "id": "H8sDx0r02krW"
   },
   "source": [
    "- Change Colab working directory to the `ENC2045_demo_data` of the Google Drive"
   ]
  },
  {
   "cell_type": "code",
   "execution_count": 5,
   "metadata": {
    "colab": {
     "base_uri": "https://localhost:8080/"
    },
    "executionInfo": {
     "elapsed": 612,
     "status": "ok",
     "timestamp": 1616670397413,
     "user": {
      "displayName": "Alvin Chen",
      "photoUrl": "",
      "userId": "12962786962925949010"
     },
     "user_tz": -480
    },
    "id": "62EwQTs02krW",
    "outputId": "cd43526e-da93-41e9-c87d-9725fe1b04c8"
   },
   "outputs": [
    {
     "name": "stdout",
     "output_type": "stream",
     "text": [
      "/content/drive/MyDrive/ENC2045_demo_data\n"
     ]
    }
   ],
   "source": [
    "import os\n",
    "os.chdir('/content/drive/MyDrive/ENC2045_demo_data')\n",
    "print(os.getcwd())\n"
   ]
  },
  {
   "cell_type": "markdown",
   "metadata": {
    "id": "U-zJpXzN2krX"
   },
   "source": [
    "## Try `ckip-transformers` with GPU"
   ]
  },
  {
   "cell_type": "markdown",
   "metadata": {
    "id": "J7CeRi7j2krX"
   },
   "source": [
    "### Initialize the `ckip-transformers`"
   ]
  },
  {
   "cell_type": "code",
   "execution_count": 6,
   "metadata": {
    "colab": {
     "base_uri": "https://localhost:8080/",
     "height": 511,
     "referenced_widgets": [
      "a3899070d9964e58a1c1de99b801f612",
      "f363ee5232474c9fa2ba282f18f7ee86",
      "c52433b731c54f55bbc198e897cb2279",
      "e906f49154094782ba7d16a075eaae6e",
      "95a3c5b7d7a949e3875c178a8a78cc5b",
      "b6288314396a473ba3cbfb753200663c",
      "8cb7c69f41fb45629dc33320576f8bf9",
      "b9649c0f21034b77b1834e17990f37b9",
      "3910347cbc0b4c65a7c1f2b8cbdf3578",
      "3779ea28f7704b1c93ab29ee1f6beaed",
      "83b3cdef315045d68a984bf5c44b4751",
      "9e786f7df9ea4b88ada542f842559bfc",
      "4ed982f84b754b9ebff90e4cebec0714",
      "e45104f1542e4f8fa8516e3e696534eb",
      "b27d57564ce647468aa90ecc3904e74d",
      "c5a79db1c79846a0a16a245d61fced72",
      "6e0082b714c14e36a071ed29de0ef3bd",
      "e0ee5c7aea3e430883454e35063ce1c3",
      "2729476af2ee43e7b33f34fec09e7cc0",
      "26c5a81078ac49e88896d8f9e4cf0bae",
      "6e435a2635714bcdb51b6f20850c6964",
      "3653af60d3e3464e9f9e84460e73a011",
      "fb8f35a9117741b6b5f7efd02b209100",
      "b72f69328b814507a40525e8e2dfae6f",
      "b9c8cd121c464fa58faffd04b66cb6d8",
      "91e5f5dd7f73428b8861c0eb545c2cde",
      "d7094fcd9aab4506b26f2c0b638559a3",
      "0d75880677af4951b2acb5b01dac74d6",
      "516d86e5523149e180c54f4f0ffb75c5",
      "ecf33a7dfa06445d9978121180771066",
      "5f6aedbaeeea49d89a4616d82b2991cb",
      "1177dc0d4be54360bb3fe1cf5dab54cd",
      "4f8aae9c7e584a84b050655c6f89f713",
      "b26d0020275a400a85861bbdc88d463b",
      "d34c79a40f974f32a14338b2647f09a5",
      "000a3396269d4161a26059cf4c470f29",
      "f2f86344a96945d184c1d269da8b3c2e",
      "33afe7f338f84979931c48ad65059120",
      "eccca5c5653b4cc289211aeafb511860",
      "d9ad52e0942743e083f5ebe4afe1f674",
      "68d17f7230e74bf7b8eaa6df240eed83",
      "956aa3bca1b240d5932c516317025983",
      "3ea001c3556c4ee98430b0f756e8ecd8",
      "5a2bdcd5586d481f9a2925aec51504b5",
      "dca5df01c5ea4e8bad580603f3f86c7c",
      "0dfb9c0dc673497b966637a7cae0bc98",
      "8c72387903db4310bd665b88e3c23dcd",
      "d06f4b1f50904234812ea9999ab5b86e",
      "1fdd1b112f67428cb6efb4818e635dec",
      "f991d5c02fbf4fec87bbf6ded150086b",
      "221f6d69e2f148d59d484f8d208a5ad2",
      "9bbfa78fd2f9469894f3aa0346039557",
      "9f34aac48c844e38bdedb8df42a3ab28",
      "dfce6ac1265b4378878758e58dc142b7",
      "4ce5d459582b466ebc1275083f0a1c98",
      "f4a551ab3d6f4c17933934499a6c7ae6",
      "aaa67d5d34f44f6991ea3030c3deb38e",
      "5b9d8dc6151f422a8099e59afab712e7",
      "75aae8c999894fd089465e633790afa3",
      "b2a9742baf5447e3ba18f026b3faf592",
      "2724651931544103ad58121ed42a3537",
      "32725015f63c44be8970ddf29cde529b",
      "58ebea81e0b04902a8a0ec04483de4db",
      "694f90397bcb476c88b3f95262f66c25",
      "1a8f49201cea4cbeaca920ddfdd30686",
      "a8bb0dd586664c34b515646a0256ad7e",
      "d7685f924410455baa9d1d7218c1628a",
      "c61d979f7a124667954a6d04f5c1a2e7",
      "0ea1adae51c340b8933eec878c67b4ec",
      "c2b352c4320247a090e614a0cb31d7f9",
      "ced4ea145c25443b9a9cd73f9b40102b",
      "7895dcbf69c44e5fb84ad1af84b0e204",
      "e1d3085e22ac421d81c5126ea7e7d6c8",
      "5038225c7ea74ceebba41fb56b1a5c61",
      "e0b1d1de56bc450d807da98834d1337e",
      "48500755ef9a45788112e14f0112601a",
      "d089e1f9ee944148997c4c05e431ac4f",
      "0587b13968da4c0388abe50cfd013bb4",
      "bd2422ddcc98450e874dd9682b185de8",
      "6063fa7bbf4a43c2a7f5a6bc50dc9b0d"
     ]
    },
    "executionInfo": {
     "elapsed": 47920,
     "status": "ok",
     "timestamp": 1616670447889,
     "user": {
      "displayName": "Alvin Chen",
      "photoUrl": "",
      "userId": "12962786962925949010"
     },
     "user_tz": -480
    },
    "id": "5-ZXcxsH2krY",
    "outputId": "1af2d2b7-96c7-456d-e993-32ac55415000",
    "tags": [
     "remove-output"
    ]
   },
   "outputs": [
    {
     "data": {
      "application/vnd.jupyter.widget-view+json": {
       "model_id": "a3899070d9964e58a1c1de99b801f612",
       "version_major": 2,
       "version_minor": 0
      },
      "text/plain": [
       "HBox(children=(FloatProgress(value=0.0, description='Downloading', max=804.0, style=ProgressStyle(description_…"
      ]
     },
     "metadata": {
      "tags": []
     },
     "output_type": "display_data"
    },
    {
     "name": "stdout",
     "output_type": "stream",
     "text": [
      "\n"
     ]
    },
    {
     "data": {
      "application/vnd.jupyter.widget-view+json": {
       "model_id": "3910347cbc0b4c65a7c1f2b8cbdf3578",
       "version_major": 2,
       "version_minor": 0
      },
      "text/plain": [
       "HBox(children=(FloatProgress(value=0.0, description='Downloading', max=406802935.0, style=ProgressStyle(descri…"
      ]
     },
     "metadata": {
      "tags": []
     },
     "output_type": "display_data"
    },
    {
     "name": "stdout",
     "output_type": "stream",
     "text": [
      "\n"
     ]
    },
    {
     "data": {
      "application/vnd.jupyter.widget-view+json": {
       "model_id": "6e0082b714c14e36a071ed29de0ef3bd",
       "version_major": 2,
       "version_minor": 0
      },
      "text/plain": [
       "HBox(children=(FloatProgress(value=0.0, description='Downloading', max=109540.0, style=ProgressStyle(descripti…"
      ]
     },
     "metadata": {
      "tags": []
     },
     "output_type": "display_data"
    },
    {
     "name": "stdout",
     "output_type": "stream",
     "text": [
      "\n"
     ]
    },
    {
     "data": {
      "application/vnd.jupyter.widget-view+json": {
       "model_id": "b9c8cd121c464fa58faffd04b66cb6d8",
       "version_major": 2,
       "version_minor": 0
      },
      "text/plain": [
       "HBox(children=(FloatProgress(value=0.0, description='Downloading', max=112.0, style=ProgressStyle(description_…"
      ]
     },
     "metadata": {
      "tags": []
     },
     "output_type": "display_data"
    },
    {
     "name": "stdout",
     "output_type": "stream",
     "text": [
      "\n"
     ]
    },
    {
     "data": {
      "application/vnd.jupyter.widget-view+json": {
       "model_id": "4f8aae9c7e584a84b050655c6f89f713",
       "version_major": 2,
       "version_minor": 0
      },
      "text/plain": [
       "HBox(children=(FloatProgress(value=0.0, description='Downloading', max=301.0, style=ProgressStyle(description_…"
      ]
     },
     "metadata": {
      "tags": []
     },
     "output_type": "display_data"
    },
    {
     "name": "stdout",
     "output_type": "stream",
     "text": [
      "\n"
     ]
    },
    {
     "data": {
      "application/vnd.jupyter.widget-view+json": {
       "model_id": "68d17f7230e74bf7b8eaa6df240eed83",
       "version_major": 2,
       "version_minor": 0
      },
      "text/plain": [
       "HBox(children=(FloatProgress(value=0.0, description='Downloading', max=2860.0, style=ProgressStyle(description…"
      ]
     },
     "metadata": {
      "tags": []
     },
     "output_type": "display_data"
    },
    {
     "name": "stdout",
     "output_type": "stream",
     "text": [
      "\n"
     ]
    },
    {
     "data": {
      "application/vnd.jupyter.widget-view+json": {
       "model_id": "1fdd1b112f67428cb6efb4818e635dec",
       "version_major": 2,
       "version_minor": 0
      },
      "text/plain": [
       "HBox(children=(FloatProgress(value=0.0, description='Downloading', max=406981303.0, style=ProgressStyle(descri…"
      ]
     },
     "metadata": {
      "tags": []
     },
     "output_type": "display_data"
    },
    {
     "name": "stdout",
     "output_type": "stream",
     "text": [
      "\n"
     ]
    },
    {
     "data": {
      "application/vnd.jupyter.widget-view+json": {
       "model_id": "aaa67d5d34f44f6991ea3030c3deb38e",
       "version_major": 2,
       "version_minor": 0
      },
      "text/plain": [
       "HBox(children=(FloatProgress(value=0.0, description='Downloading', max=109540.0, style=ProgressStyle(descripti…"
      ]
     },
     "metadata": {
      "tags": []
     },
     "output_type": "display_data"
    },
    {
     "name": "stdout",
     "output_type": "stream",
     "text": [
      "\n"
     ]
    },
    {
     "data": {
      "application/vnd.jupyter.widget-view+json": {
       "model_id": "1a8f49201cea4cbeaca920ddfdd30686",
       "version_major": 2,
       "version_minor": 0
      },
      "text/plain": [
       "HBox(children=(FloatProgress(value=0.0, description='Downloading', max=112.0, style=ProgressStyle(description_…"
      ]
     },
     "metadata": {
      "tags": []
     },
     "output_type": "display_data"
    },
    {
     "name": "stdout",
     "output_type": "stream",
     "text": [
      "\n"
     ]
    },
    {
     "data": {
      "application/vnd.jupyter.widget-view+json": {
       "model_id": "e1d3085e22ac421d81c5126ea7e7d6c8",
       "version_major": 2,
       "version_minor": 0
      },
      "text/plain": [
       "HBox(children=(FloatProgress(value=0.0, description='Downloading', max=301.0, style=ProgressStyle(description_…"
      ]
     },
     "metadata": {
      "tags": []
     },
     "output_type": "display_data"
    },
    {
     "name": "stdout",
     "output_type": "stream",
     "text": [
      "\n"
     ]
    }
   ],
   "source": [
    "import ckip_transformers\n",
    "from ckip_transformers.nlp import CkipWordSegmenter, CkipPosTagger\n",
    "# Initialize drivers\n",
    "ws_driver = CkipWordSegmenter(level=3, device=0)\n",
    "pos_driver = CkipPosTagger(level=3, device=0)\n"
   ]
  },
  {
   "cell_type": "code",
   "execution_count": 7,
   "metadata": {
    "executionInfo": {
     "elapsed": 631,
     "status": "ok",
     "timestamp": 1616670476075,
     "user": {
      "displayName": "Alvin Chen",
      "photoUrl": "",
      "userId": "12962786962925949010"
     },
     "user_tz": -480
    },
    "id": "wdDb208F2krY"
   },
   "outputs": [],
   "source": [
    "def my_tokenizer(doc):\n",
    "    # `doc`: a list of corpus documents (each element is a document long string)\n",
    "    cur_ws = ws_driver(doc, use_delim = True, delim_set='\\n')\n",
    "    cur_pos = pos_driver(cur_ws)\n",
    "    doc_seg = [[(x,y) for (x,y) in zip(w,p)]  for (w,p) in zip(cur_ws, cur_pos)]\n",
    "    return doc_seg"
   ]
  },
  {
   "cell_type": "markdown",
   "metadata": {
    "id": "hfUgFpWK2krY"
   },
   "source": [
    "### Tokenization Chinese Texts"
   ]
  },
  {
   "cell_type": "code",
   "execution_count": 8,
   "metadata": {
    "colab": {
     "base_uri": "https://localhost:8080/"
    },
    "executionInfo": {
     "elapsed": 1036,
     "status": "ok",
     "timestamp": 1616670479216,
     "user": {
      "displayName": "Alvin Chen",
      "photoUrl": "",
      "userId": "12962786962925949010"
     },
     "user_tz": -480
    },
    "id": "OSrPYnK52krY",
    "outputId": "cdf9ce72-28d7-4a0b-d5bd-935bb56fc569"
   },
   "outputs": [
    {
     "data": {
      "text/plain": [
       "0    部分回應在B117 \\n謝謝各位的留言，我都有看完\\n好的不好的，我都接受謝謝大家🙇‍♀️\\...\n",
       "1    https://i.imgur.com/REIEzSd.jpg\\n\\n身高195公分的男大生...\n",
       "2    看過這麼多在Dcard、PTT上的感情渣事和創作文\\n從沒想過如此荒謬像八點檔的事情居然會發...\n",
       "3    剛剛吃小火鍋，跟店員說不要金針菇（怕卡牙縫），於是店員幫我換其他配料..…\\n\\n沒想到餐一...\n",
       "4    已經約好見面，到了當天晚上七點半才回，我是被耍了嗎 \\n如下圖\\n\\n\\nhttps://i...\n",
       "5    嗨！巨砲哥 答應你的文來了😆\\n這是一段與約砲小哥哥談心的奇幻旅程\\n\\n可憐的我情人節當天...\n",
       "6    https://i.imgur.com/HCTwyAH.jpg\\n（圖片非本人）\\n今天逛街...\n",
       "7    https://i.imgur.com/RWJLK2v.jpg\\n\\n因為馬鞍很寬\\n想請問...\n",
       "8    手機排版請見諒😖🙏🏻（圖多）\\n先說這不是我第一次訂購訂製蛋糕\\n也了解訂製蛋糕不可能跟圖上...\n",
       "9    https://i.imgur.com/6Yk9etg.jpg\\n想在這裡問大家有沒有接到這...\n",
       "Name: content, dtype: object"
      ]
     },
     "execution_count": 8,
     "metadata": {
      "tags": []
     },
     "output_type": "execute_result"
    }
   ],
   "source": [
    "import pandas as pd\n",
    "\n",
    "df = pd.read_csv('dcard-top100.csv')\n",
    "df.head()\n",
    "corpus = df['content']\n",
    "corpus[:10]"
   ]
  },
  {
   "cell_type": "code",
   "execution_count": 9,
   "metadata": {
    "colab": {
     "base_uri": "https://localhost:8080/"
    },
    "executionInfo": {
     "elapsed": 112479,
     "status": "ok",
     "timestamp": 1616670594056,
     "user": {
      "displayName": "Alvin Chen",
      "photoUrl": "",
      "userId": "12962786962925949010"
     },
     "user_tz": -480
    },
    "id": "1KLwqAAs3eGO",
    "outputId": "696f3bae-c227-45cd-9921-e145e6de4bc1"
   },
   "outputs": [
    {
     "name": "stderr",
     "output_type": "stream",
     "text": [
      "Tokenization: 100%|██████████| 100/100 [00:00<00:00, 425.12it/s]\n",
      "Inference: 100%|██████████| 16/16 [01:08<00:00,  4.28s/it]\n",
      "Tokenization: 100%|██████████| 100/100 [00:00<00:00, 1240.91it/s]\n",
      "Inference: 100%|██████████| 10/10 [00:42<00:00,  4.24s/it]\n"
     ]
    },
    {
     "name": "stdout",
     "output_type": "stream",
     "text": [
      "CPU times: user 1min 3s, sys: 49 s, total: 1min 52s\n",
      "Wall time: 1min 51s\n"
     ]
    }
   ],
   "source": [
    "%%time\n",
    "corpus_seg = my_tokenizer(corpus)"
   ]
  },
  {
   "cell_type": "code",
   "execution_count": 10,
   "metadata": {
    "colab": {
     "base_uri": "https://localhost:8080/"
    },
    "executionInfo": {
     "elapsed": 631,
     "status": "ok",
     "timestamp": 1616671393730,
     "user": {
      "displayName": "Alvin Chen",
      "photoUrl": "",
      "userId": "12962786962925949010"
     },
     "user_tz": -480
    },
    "id": "1VzaOffM_QmF",
    "outputId": "57655f54-6e1c-4691-fb67-f1726ae7431b"
   },
   "outputs": [
    {
     "data": {
      "text/plain": [
       "[('部分', 'Neqa'),\n",
       " ('回應', 'VC'),\n",
       " ('在', 'P'),\n",
       " ('B117 \\n', 'FW'),\n",
       " ('謝謝', 'VJ'),\n",
       " ('各位', 'Nh'),\n",
       " ('的', 'DE'),\n",
       " ('留言', 'Na'),\n",
       " ('，', 'COMMACATEGORY'),\n",
       " ('我', 'Nh'),\n",
       " ('都', 'D'),\n",
       " ('有', 'D'),\n",
       " ('看完', 'VC'),\n",
       " ('\\n', 'WHITESPACE'),\n",
       " ('好', 'VH'),\n",
       " ('的', 'DE'),\n",
       " ('不', 'D'),\n",
       " ('好', 'VH'),\n",
       " ('的', 'T'),\n",
       " ('，', 'COMMACATEGORY'),\n",
       " ('我', 'Nh'),\n",
       " ('都', 'D'),\n",
       " ('接受', 'VC'),\n",
       " ('謝謝', 'VJ'),\n",
       " ('大家', 'Nh'),\n",
       " ('🙇', 'FW'),\n",
       " ('\\u200d♀️\\n', 'DASHCATEGORY'),\n",
       " ('\\n', 'WHITESPACE'),\n",
       " ('\\n', 'WHITESPACE'),\n",
       " ('（', 'PARENTHESISCATEGORY'),\n",
       " ('第三', 'Neu'),\n",
       " ('次', 'Nf'),\n",
       " ('更新', 'VC'),\n",
       " ('在', 'P'),\n",
       " ('這邊', 'Ncd'),\n",
       " ('）', 'PARENTHESISCATEGORY'),\n",
       " ('\\n', 'WHITESPACE'),\n",
       " ('B258 ', 'FW'),\n",
       " ('這邊', 'Ncd'),\n",
       " ('也', 'D'),\n",
       " ('有', 'V_2'),\n",
       " ('講到', 'VE'),\n",
       " ('怎麼', 'D'),\n",
       " ('逃生', 'VA'),\n",
       " ('\\n', 'WHITESPACE'),\n",
       " ('很多', 'Neqa'),\n",
       " ('人', 'Na'),\n",
       " ('好奇', 'VH'),\n",
       " ('我', 'Nh'),\n",
       " ('是', 'SHI')]"
      ]
     },
     "execution_count": 10,
     "metadata": {
      "tags": []
     },
     "output_type": "execute_result"
    }
   ],
   "source": [
    "corpus_seg[0][:50]"
   ]
  }
 ],
 "metadata": {
  "kernelspec": {
   "display_name": "Python 3",
   "language": "python",
   "name": "python3"
  },
  "language_info": {
   "codemirror_mode": {
    "name": "ipython",
    "version": 3
   },
   "file_extension": ".py",
   "mimetype": "text/x-python",
   "name": "python",
   "nbconvert_exporter": "python",
   "pygments_lexer": "ipython3",
   "version": "3.7.6"
  },
  "toc": {
   "base_numbering": 1,
   "nav_menu": {},
   "number_sections": false,
   "sideBar": true,
   "skip_h1_title": false,
   "title_cell": "Table of Contents",
   "title_sidebar": "Contents",
   "toc_cell": false,
   "toc_position": {},
   "toc_section_display": true,
   "toc_window_display": false
  },
  "varInspector": {
   "cols": {
    "lenName": 16,
    "lenType": 16,
    "lenVar": 40
   },
   "kernels_config": {
    "python": {
     "delete_cmd_postfix": "",
     "delete_cmd_prefix": "del ",
     "library": "var_list.py",
     "varRefreshCmd": "print(var_dic_list())"
    },
    "r": {
     "delete_cmd_postfix": ") ",
     "delete_cmd_prefix": "rm(",
     "library": "var_list.r",
     "varRefreshCmd": "cat(var_dic_list()) "
    }
   },
   "types_to_exclude": [
    "module",
    "function",
    "builtin_function_or_method",
    "instance",
    "_Feature"
   ],
   "window_display": false
  }
 },
 "nbformat": 4,
 "nbformat_minor": 1
}