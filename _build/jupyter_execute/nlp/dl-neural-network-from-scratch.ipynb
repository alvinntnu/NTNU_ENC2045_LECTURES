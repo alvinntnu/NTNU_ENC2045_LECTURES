{
 "cells": [
  {
   "cell_type": "markdown",
   "metadata": {
    "slideshow": {
     "slide_type": "slide"
    }
   },
   "source": [
    "# Neural Network From Scratch"
   ]
  },
  {
   "cell_type": "markdown",
   "metadata": {
    "hide_input": true,
    "slideshow": {
     "slide_type": "subslide"
    }
   },
   "source": [
    "- This lecture note introduces fundamentals of the mechanism for neural network, or deep learning."
   ]
  },
  {
   "cell_type": "markdown",
   "metadata": {
    "slideshow": {
     "slide_type": "subslide"
    }
   },
   "source": [
    "- We will break our discussions into three main parts:\n",
    "    - Building A Neural Network (How does the network work?)\n",
    "        - Forward Propagation\n",
    "        - Weights, Biases, and Activation functions\n",
    "        - Matrix multiplication\n",
    "    - Learning and Training (How does it learn?)\n",
    "        - Loss Function\n",
    "        - Gradients\n",
    "        - Derivatives and Partial Derivatives\n",
    "        - Gradient Descent\n",
    "    - Gradient Descent (More on how does it learn.)\n",
    "        - Batch\n",
    "        - Mini-batch\n",
    "        - Stochastic gradient descent"
   ]
  },
  {
   "cell_type": "code",
   "execution_count": 1,
   "metadata": {
    "slideshow": {
     "slide_type": "skip"
    }
   },
   "outputs": [],
   "source": [
    "## Loading Dependencies\n",
    "import numpy as np\n",
    "import matplotlib.pylab as plt"
   ]
  },
  {
   "cell_type": "markdown",
   "metadata": {
    "slideshow": {
     "slide_type": "slide"
    }
   },
   "source": [
    "## Workflow of Neural Network"
   ]
  },
  {
   "cell_type": "markdown",
   "metadata": {
    "slideshow": {
     "slide_type": "subslide"
    }
   },
   "source": [
    "![](../images/nn-flowchart.png)"
   ]
  },
  {
   "cell_type": "markdown",
   "metadata": {
    "slideshow": {
     "slide_type": "slide"
    }
   },
   "source": [
    "## Neural Network Overview"
   ]
  },
  {
   "cell_type": "markdown",
   "metadata": {
    "slideshow": {
     "slide_type": "slide"
    }
   },
   "source": [
    "### Deep Learning"
   ]
  },
  {
   "cell_type": "markdown",
   "metadata": {
    "slideshow": {
     "slide_type": "subslide"
    }
   },
   "source": [
    "![](../images/neural-network-propagation.gif)"
   ]
  },
  {
   "cell_type": "markdown",
   "metadata": {
    "slideshow": {
     "slide_type": "subslide"
    }
   },
   "source": [
    "### Forward Propagation\n",
    "- Neural network is a type of machine learning algorithm modeled on human brains and nervous system.\n",
    "- The model is believed to process information in a similar way to the human brain:\n",
    "    - inputs and weights as the **dendrites**\n",
    "    - neuron operations of weighted sums and activation as **neurons**\n",
    "    - outputs as **axons**\n",
    "- A neural network often consists of a large number of elements, known as **nodes**, working in parallel to solve a specific problem. These nodes are often organized into different **layers**.\n",
    "- Each layer of the network transforms the input values into the output values based on the weights (parameters) of the nodes.\n",
    "- The data transformation from the input to the output is in general referred to as **forward propagation** of the network."
   ]
  },
  {
   "cell_type": "markdown",
   "metadata": {
    "slideshow": {
     "slide_type": "subslide"
    }
   },
   "source": [
    "### Backward Propagation\n",
    "\n",
    "- When the predicted output is compared with the true label, we can evaluate the network performance by computing the **loss** of the network.\n",
    "- Then we determine the proportion of the losses that may be attributed to each model parameter. This process goes from the losses of the predicted output backward to the original inputs. This step is referred to as the **back propagation** of the network."
   ]
  },
  {
   "cell_type": "markdown",
   "metadata": {
    "slideshow": {
     "slide_type": "subslide"
    }
   },
   "source": [
    "### Neurons\n",
    "\n",
    "- Neural network consists of neurons, which allow us to model non-linear relationships between input and output data.\n",
    "- Given an input vector, traditional linear transformation can only model a linear relationship between X and y: \n",
    "\n",
    "$$ \n",
    "\\hat{y} = w_0 + w_1 x_1 + w_2x_2 + w_3x_3 +...+w_nx_n\n",
    "$$\n",
    "\n",
    "- A neron is like a linear transformation but with an extra **activation function**.\n",
    "- This mechanism of activation function in each neuron will ultimately determine the output of the neuron.\n",
    "\n",
    "$$\\begin{align}\n",
    "\\textit{Neuron Output Value} & =  h(\\hat{y}) \\\\\n",
    "& = h(w_0 + w_1 x_1 + w_2x_2 + w_3x_3 +...+w_nx_n)\n",
    "\\end{align}$$"
   ]
  },
  {
   "cell_type": "markdown",
   "metadata": {
    "slideshow": {
     "slide_type": "subslide"
    }
   },
   "source": [
    "![](../images/neuron.png)"
   ]
  },
  {
   "cell_type": "markdown",
   "metadata": {
    "slideshow": {
     "slide_type": "subslide"
    }
   },
   "source": [
    "### Activation Functions\n",
    "\n",
    "- In neural network, the activation function of a node determines whether the node would activate the output given the **weighted sum of the input values**. \n",
    "\n",
    "- Different types of activation functions may determine the cut-offs for output activation in different ways."
   ]
  },
  {
   "cell_type": "markdown",
   "metadata": {
    "slideshow": {
     "slide_type": "subslide"
    }
   },
   "source": [
    "- **Sigmoid** function: This function converts the $y$ values into values within the range of 0 and 1 (i.e., a probability-like value).\n",
    "\n",
    "$$ h(y) = \\frac{1}{1 + \\exp(-y)}$$"
   ]
  },
  {
   "cell_type": "markdown",
   "metadata": {
    "slideshow": {
     "slide_type": "subslide"
    }
   },
   "source": [
    "- **Step** function: This function converts the $y$ values into binary ones, with only the positive values activated.\n",
    "\n",
    "$$ h(y)= \\left\\{ \n",
    "     \\begin{array}\\\\\n",
    "     0 & (y \\leq 0) \\\\\n",
    "     1 & (y > 0)\n",
    "     \\end{array}\n",
    "\\right.\n",
    "$$"
   ]
  },
  {
   "cell_type": "markdown",
   "metadata": {
    "slideshow": {
     "slide_type": "subslide"
    }
   },
   "source": [
    "- **ReLU** (Rectified Linear Unit) function: This function converts the $y$ values by passing only positive values and zero for negative $y$.\n",
    "\n",
    "$$ h(y)= \\left\\{ \n",
    "     \\begin{array}\\\\\n",
    "     y & (y > 0) \\\\\n",
    "     0 & (y \\leq 0)\n",
    "     \\end{array}\n",
    "\\right.\n",
    "$$"
   ]
  },
  {
   "cell_type": "markdown",
   "metadata": {
    "slideshow": {
     "slide_type": "subslide"
    }
   },
   "source": [
    "- **Softmax** function: This function converts the $y$ values into normalized probability values.\n",
    "\n",
    "$$\n",
    "h(y_k) = \\frac{\\exp(y_k)}{\\sum_{i = 1}^{n} \\exp({y_i})}\n",
    "$$"
   ]
  },
  {
   "cell_type": "markdown",
   "metadata": {
    "slideshow": {
     "slide_type": "slide"
    }
   },
   "source": [
    "### Activation Functions in Python"
   ]
  },
  {
   "cell_type": "code",
   "execution_count": 2,
   "metadata": {
    "slideshow": {
     "slide_type": "subslide"
    }
   },
   "outputs": [],
   "source": [
    "def step_function(x):\n",
    "    y = x > 0\n",
    "    return y.astype(np.int)\n",
    "\n",
    "\n",
    "def sigmoid(x):\n",
    "    return 1 / (1 + np.exp(-x))\n",
    "\n",
    "\n",
    "def relu(x):\n",
    "    return np.maximum(0, x)\n",
    "\n",
    "\n",
    "# def softmax(x):\n",
    "#     exp_x = np.exp(x)\n",
    "#     sum_exp_x = np.sum(exp_x)\n",
    "#     y = exp_x/sum_exp_x\n",
    "#     return y\n",
    "\n",
    "\n",
    "def softmax(x):\n",
    "    c = np.max(x)\n",
    "    exp_x = np.exp(x - c)  # avoid overflow issues\n",
    "    sum_exp_x = np.sum(exp_x)\n",
    "    y = exp_x / sum_exp_x\n",
    "    return y"
   ]
  },
  {
   "cell_type": "code",
   "execution_count": 3,
   "metadata": {
    "slideshow": {
     "slide_type": "subslide"
    }
   },
   "outputs": [
    {
     "data": {
      "image/png": "[encoded data removed]",
      "text/plain": [
       "<Figure size 432x288 with 1 Axes>"
      ]
     },
     "metadata": {
      "filenames": {
       "image/png": "/Users/Alvin/GoogleDrive/_MySyncDrive/Repository/ENC2045/_build/jupyter_execute/nlp/dl-neural-network-from-scratch_20_0.png"
      },
      "needs_background": "light"
     },
     "output_type": "display_data"
    }
   ],
   "source": [
    "# step function\n",
    "x = np.arange(-5.0, 5.0, 0.1)\n",
    "plt.plot(x, step_function(x))\n",
    "plt.ylim(-0.1, 1.1)\n",
    "plt.show()"
   ]
  },
  {
   "cell_type": "code",
   "execution_count": 4,
   "metadata": {
    "slideshow": {
     "slide_type": "subslide"
    }
   },
   "outputs": [
    {
     "data": {
      "image/png": "[encoded data removed]",
      "text/plain": [
       "<Figure size 432x288 with 1 Axes>"
      ]
     },
     "metadata": {
      "filenames": {
       "image/png": "/Users/Alvin/GoogleDrive/_MySyncDrive/Repository/ENC2045/_build/jupyter_execute/nlp/dl-neural-network-from-scratch_21_0.png"
      },
      "needs_background": "light"
     },
     "output_type": "display_data"
    }
   ],
   "source": [
    "## sigmoid function\n",
    "plt.plot(x, sigmoid(x))\n",
    "plt.ylim(-0.1, 1.1)\n",
    "plt.show()"
   ]
  },
  {
   "cell_type": "code",
   "execution_count": 5,
   "metadata": {
    "scrolled": true,
    "slideshow": {
     "slide_type": "subslide"
    }
   },
   "outputs": [
    {
     "data": {
      "image/png": "[encoded data removed]",
      "text/plain": [
       "<Figure size 432x288 with 1 Axes>"
      ]
     },
     "metadata": {
      "filenames": {
       "image/png": "/Users/Alvin/GoogleDrive/_MySyncDrive/Repository/ENC2045/_build/jupyter_execute/nlp/dl-neural-network-from-scratch_22_0.png"
      },
      "needs_background": "light"
     },
     "output_type": "display_data"
    }
   ],
   "source": [
    "# ReLU\n",
    "plt.plot(x, relu(x))\n",
    "plt.ylim(-1, 6)\n",
    "plt.show()"
   ]
  },
  {
   "cell_type": "code",
   "execution_count": 6,
   "metadata": {
    "slideshow": {
     "slide_type": "subslide"
    }
   },
   "outputs": [
    {
     "name": "stdout",
     "output_type": "stream",
     "text": [
      "[0.   0.01 0.05 0.95]\n"
     ]
    }
   ],
   "source": [
    "x = [2, 5, 7, 10]\n",
    "print(np.round(softmax(x),2))"
   ]
  },
  {
   "cell_type": "markdown",
   "metadata": {
    "slideshow": {
     "slide_type": "slide"
    }
   },
   "source": [
    "### From Nodes to Layers\n",
    "\n",
    "- A neural network can be defined in terms of **depths** and **widths** of its layers.\n",
    "    - **Depth**: How many layers does the network have?\n",
    "    - **Width**: How many neurons does each layer have?\n",
    "- A network can consist of several layers.\n",
    "- Each layer can have various numbers of neurons.\n",
    "- For each layer, the shape of the input tensor, the number of its neurons, and the shape of its output are inter-connected. These settings will determine the number of parameters (i.e., **weights**) needed to train.\n"
   ]
  },
  {
   "cell_type": "markdown",
   "metadata": {
    "slideshow": {
     "slide_type": "subslide"
    }
   },
   "source": [
    "![](../images/neural-network-dense-layer.gif)"
   ]
  },
  {
   "cell_type": "markdown",
   "metadata": {
    "slideshow": {
     "slide_type": "subslide"
    }
   },
   "source": [
    "### Layer, Parameters, and Matrix Mutiplication\n",
    "\n",
    "- Each layer transforms the input values into the output values based on its layer parameters.\n",
    "- Mathematically, these values transformation is a matrix multiplication, running in parallel for all nodes of the layer.\n",
    "- In Deep Learning, the input and output values are represented as a multi-dimensional tensor.\n",
    "    - A 1D tensor is a vector.\n",
    "    - A 2D tensor is a two-dimensional array.\n",
    "    - A 3D tensor is a three-dimensional array."
   ]
  },
  {
   "cell_type": "markdown",
   "metadata": {
    "slideshow": {
     "slide_type": "subslide"
    }
   },
   "source": [
    "![](../images/neural-network-dense-layer-1.gif)"
   ]
  },
  {
   "cell_type": "markdown",
   "metadata": {
    "slideshow": {
     "slide_type": "subslide"
    }
   },
   "source": [
    "![](../images/neural-network-dense-layer-2.gif)"
   ]
  },
  {
   "cell_type": "markdown",
   "metadata": {
    "slideshow": {
     "slide_type": "slide"
    }
   },
   "source": [
    "### Types of Neural Networks"
   ]
  },
  {
   "cell_type": "markdown",
   "metadata": {
    "slideshow": {
     "slide_type": "subslide"
    }
   },
   "source": [
    "- **Multi-Layer Perceptron** (Fully Connected Network)\n",
    "    - Input Layer, one or more hidden layers, and output layer.\n",
    "    - A hidden layer consists of neurons (perceptrons) which process certain aspect of the features and send the processed information into the next hidden layer.\n",
    "    "
   ]
  },
  {
   "cell_type": "markdown",
   "metadata": {
    "slideshow": {
     "slide_type": "subslide"
    }
   },
   "source": [
    "- **Convolutional Neural Network (CNN)**\n",
    "    - Mainly for image and audio processing\n",
    "    - Convolution Layer, Pooling Layer, Fully Connected Layer"
   ]
  },
  {
   "cell_type": "markdown",
   "metadata": {
    "slideshow": {
     "slide_type": "subslide"
    }
   },
   "source": [
    "- **Recurrent Neural Network (RNN)**\n",
    "    - Preferred methods in NLP\n",
    "    - Most fully-connected networks do not remember the steps from previous situations and therefore do not learn to make decisions based on **context** in training.\n",
    "    - RNN stores the past information and all its decisions are taken from what it has learned from the past.\n",
    "    - RNN is effective in dealing with time-series data (e.g., text, speech)."
   ]
  },
  {
   "cell_type": "markdown",
   "metadata": {
    "slideshow": {
     "slide_type": "subslide"
    }
   },
   "source": [
    "![](../images/s2s-rnn.jpeg)"
   ]
  },
  {
   "cell_type": "markdown",
   "metadata": {
    "slideshow": {
     "slide_type": "slide"
    }
   },
   "source": [
    "## Building a Neural Network Model in Python"
   ]
  },
  {
   "cell_type": "markdown",
   "metadata": {
    "slideshow": {
     "slide_type": "subslide"
    }
   },
   "source": [
    "### Packages in Focus\n",
    "\n",
    "- `tensorflow`: It is an open source machine learning library used for numerical computational tasks developed by Google.\n",
    "- `tensorflow.keras`: It is a high level API built on top of Tensorflow. It originated as an independent library and now has been incorporated as part of Tensorflow 2+."
   ]
  },
  {
   "cell_type": "markdown",
   "metadata": {
    "slideshow": {
     "slide_type": "subslide"
    }
   },
   "source": [
    "- Usually we need to define the architecture of the neural network model in terms of **depths** and **widths** of the layers.\n",
    "- After we define the structure of the network and initialize the values for all parameters, the training requires an iterative processing involving:\n",
    "    - **Forward Propagation**: It refers to the process of transforming the data values by moving the input data through the network to get output.\n",
    "    - Define your **loss function**.\n",
    "    - Calculate **Total Error** based on the loss function.\n",
    "    - Calculate **Gradients** via **Back Propagation**\n",
    "    - Update the **weights** based on gradients.\n",
    "    - Iterate the process until the stop-condition is reached."
   ]
  },
  {
   "cell_type": "markdown",
   "metadata": {
    "slideshow": {
     "slide_type": "slide"
    }
   },
   "source": [
    "### Create Model"
   ]
  },
  {
   "cell_type": "markdown",
   "metadata": {
    "slideshow": {
     "slide_type": "subslide"
    }
   },
   "source": [
    "- In `tensorflow.keras`, we can create models in two ways:\n",
    "    - Sequential API (`keras.Sequential`)\n",
    "    - Functional API (`keras.model`)"
   ]
  },
  {
   "cell_type": "code",
   "execution_count": 7,
   "metadata": {
    "slideshow": {
     "slide_type": "subslide"
    }
   },
   "outputs": [],
   "source": [
    "import tensorflow as tf\n",
    "import tensorflow.keras as keras\n",
    "from tensorflow.keras import layers\n",
    "\n",
    "## Sequential API to create model\n",
    "model = keras.Sequential()\n",
    "model.add(keras.Input(shape=(2)))\n",
    "model.add(layers.Dense(4, activation=\"relu\", name=\"dense_layer_1\"))\n",
    "model.add(layers.Dense(2, activation=\"relu\", name=\"dense_layer_2\"))\n",
    "\n",
    "# Sequential API (Another alternative)\n",
    "# model = keras.Sequential(\n",
    "#     [\n",
    "#         keras.Input(shape=(2)),\n",
    "#         layers.Dense(4, activation=\"relu\"),\n",
    "#         layers.Dense(2, activation=\"relu\")\n",
    "#     ]\n",
    "# )"
   ]
  },
  {
   "cell_type": "code",
   "execution_count": 8,
   "metadata": {
    "slideshow": {
     "slide_type": "subslide"
    }
   },
   "outputs": [],
   "source": [
    "# Functional API (A bit more flexible)\n",
    "inputs = keras.Input(shape=(2,))\n",
    "x = layers.Dense(4, activation=\"relu\", name=\"dense_layer_1\")(inputs)\n",
    "outputs = layers.Dense(2, activation=\"relu\", name=\"dense_layer_2\")(x)\n",
    "model = keras.Model(inputs=inputs, outputs=outputs)"
   ]
  },
  {
   "cell_type": "markdown",
   "metadata": {
    "slideshow": {
     "slide_type": "subslide"
    }
   },
   "source": [
    ":::{tip}\n",
    "If you create the model using the `Sequential()` method, you will not be able to check the `model.summary()` or `plot_model()` until the model has been compiled and fitted.\n",
    ":::"
   ]
  },
  {
   "cell_type": "markdown",
   "metadata": {
    "slideshow": {
     "slide_type": "subslide"
    }
   },
   "source": [
    "- Two ways to inspect the model architecture:\n",
    "    - `model.summary()`: A printed summary of the model structure\n",
    "    - `tensorflow.keras.utils.plot_model(model)`: A visual representation of the model structure"
   ]
  },
  {
   "cell_type": "code",
   "execution_count": 9,
   "metadata": {
    "scrolled": false,
    "slideshow": {
     "slide_type": "subslide"
    }
   },
   "outputs": [
    {
     "name": "stdout",
     "output_type": "stream",
     "text": [
      "Model: \"model\"\n",
      "_________________________________________________________________\n",
      "Layer (type)                 Output Shape              Param #   \n",
      "=================================================================\n",
      "input_2 (InputLayer)         [(None, 2)]               0         \n",
      "_________________________________________________________________\n",
      "dense_layer_1 (Dense)        (None, 4)                 12        \n",
      "_________________________________________________________________\n",
      "dense_layer_2 (Dense)        (None, 2)                 10        \n",
      "=================================================================\n",
      "Total params: 22\n",
      "Trainable params: 22\n",
      "Non-trainable params: 0\n",
      "_________________________________________________________________\n",
      "None\n"
     ]
    }
   ],
   "source": [
    "print(model.summary())"
   ]
  },
  {
   "cell_type": "code",
   "execution_count": 10,
   "metadata": {
    "slideshow": {
     "slide_type": "subslide"
    }
   },
   "outputs": [
    {
     "data": {
      "image/png": "[encoded data removed]",
      "text/plain": [
       "<IPython.core.display.Image object>"
      ]
     },
     "execution_count": 10,
     "metadata": {
      "filenames": {
       "image/png": "/Users/Alvin/GoogleDrive/_MySyncDrive/Repository/ENC2045/_build/jupyter_execute/nlp/dl-neural-network-from-scratch_44_0.png"
      }
     },
     "output_type": "execute_result"
    }
   ],
   "source": [
    "keras.utils.plot_model(model, show_shapes=True, show_layer_names=True)"
   ]
  },
  {
   "cell_type": "markdown",
   "metadata": {
    "slideshow": {
     "slide_type": "subslide"
    }
   },
   "source": [
    ":::{note}\n",
    "If you see error messages when running the `plot_model()`, please follow the instructions provided in the error messages and install:\n",
    "\n",
    "- `pip install pydot`\n",
    "- Install [graphviz](https://graphviz.gitlab.io/download/) (choose the installation methods depending on your OS).\n",
    ":::"
   ]
  },
  {
   "cell_type": "markdown",
   "metadata": {
    "slideshow": {
     "slide_type": "slide"
    }
   },
   "source": [
    "### Useful Modules in keras"
   ]
  },
  {
   "cell_type": "markdown",
   "metadata": {
    "slideshow": {
     "slide_type": "subslide"
    }
   },
   "source": [
    "#### `keras.utils`:\n",
    "    \n",
    "- `to_categorical()`: To convert a class/label list into a one-hot encoding matrix\n",
    "- `plot_model()`: Plot the model structure"
   ]
  },
  {
   "cell_type": "code",
   "execution_count": 11,
   "metadata": {
    "slideshow": {
     "slide_type": "subslide"
    }
   },
   "outputs": [],
   "source": [
    "from keras.utils import to_categorical\n",
    "\n",
    "labels = [\"X\", \"X\", \"Y\", \"Y\", \"Z\", \"Z\"]"
   ]
  },
  {
   "cell_type": "code",
   "execution_count": 12,
   "metadata": {
    "slideshow": {
     "slide_type": "subslide"
    }
   },
   "outputs": [],
   "source": [
    "## Text Labels to Sequences\n",
    "labels_dict = {x: i for i, x in enumerate(set(labels))}\n",
    "labels_int = [labels_dict[l] for l in labels]"
   ]
  },
  {
   "cell_type": "code",
   "execution_count": 13,
   "metadata": {
    "slideshow": {
     "slide_type": "subslide"
    }
   },
   "outputs": [
    {
     "name": "stdout",
     "output_type": "stream",
     "text": [
      "[2, 2, 0, 0, 1, 1]\n"
     ]
    }
   ],
   "source": [
    "print(labels_int)"
   ]
  },
  {
   "cell_type": "code",
   "execution_count": 14,
   "metadata": {
    "slideshow": {
     "slide_type": "subslide"
    }
   },
   "outputs": [
    {
     "data": {
      "text/plain": [
       "array([[0., 0., 1.],\n",
       "       [0., 0., 1.],\n",
       "       [1., 0., 0.],\n",
       "       [1., 0., 0.],\n",
       "       [0., 1., 0.],\n",
       "       [0., 1., 0.]], dtype=float32)"
      ]
     },
     "execution_count": 14,
     "metadata": {},
     "output_type": "execute_result"
    }
   ],
   "source": [
    "## Sequences to One-Hot Encoding\n",
    "to_categorical(labels_int)"
   ]
  },
  {
   "cell_type": "markdown",
   "metadata": {
    "slideshow": {
     "slide_type": "subslide"
    }
   },
   "source": [
    "####  `keras.layers`\n",
    "\n",
    "- `Dense`\n",
    "- `SimpleRNN`, `LSTM`, `GRU`\n",
    "- `Dropout`, `Flatten`\n",
    "- `Attention`, `AdditiveAttention`"
   ]
  },
  {
   "cell_type": "markdown",
   "metadata": {
    "slideshow": {
     "slide_type": "subslide"
    }
   },
   "source": [
    "#### Other modules\n",
    "\n",
    "- `keras.losses`: Loss functions\n",
    "- `keras.optimizers`: Optimization is an important process which optimizes the input weights by comparing the prediction and the loss function.\n",
    "    - `keras.optimizers.RMSprop`\n",
    "    - `keras.optimizers.Adam`\n",
    "    - `keras.optimziers.SGD`\n",
    "- `keras.metrics`: Metrics for model evaluation"
   ]
  },
  {
   "cell_type": "markdown",
   "metadata": {
    "slideshow": {
     "slide_type": "slide"
    }
   },
   "source": [
    "## A Quick Example of Model Training"
   ]
  },
  {
   "cell_type": "markdown",
   "metadata": {
    "slideshow": {
     "slide_type": "subslide"
    }
   },
   "source": [
    "![](../images/keras-workflow.png)"
   ]
  },
  {
   "cell_type": "markdown",
   "metadata": {
    "slideshow": {
     "slide_type": "subslide"
    }
   },
   "source": [
    "- Steps for Model Training\n",
    "    - Create model\n",
    "    - Compile model\n",
    "    - Fit model\n",
    "    - Evaluate model\n",
    "    - Predict "
   ]
  },
  {
   "cell_type": "markdown",
   "metadata": {
    "slideshow": {
     "slide_type": "slide"
    }
   },
   "source": [
    "### Data"
   ]
  },
  {
   "cell_type": "markdown",
   "metadata": {
    "slideshow": {
     "slide_type": "subslide"
    }
   },
   "source": [
    "- We create random samples, where each sample is characterized by two random numbers (e.g., grades in subjects)\n",
    "- Each sample is also labeled with a binary class label (e.g., fail or pass)\n",
    "- We create three datasets: **training**, **validation**, and **testing** sets."
   ]
  },
  {
   "cell_type": "code",
   "execution_count": 15,
   "metadata": {
    "slideshow": {
     "slide_type": "subslide"
    }
   },
   "outputs": [],
   "source": [
    "import numpy\n",
    "numpy.random.seed(123)\n",
    "\n",
    "# train set\n",
    "x_train = np.random.random((100, 2))\n",
    "y_train = np.random.randint(0, 2, (100, ))\n",
    "\n",
    "# val set\n",
    "x_val = np.random.random((100, 2))\n",
    "y_val = np.random.randint(0, 2, (100, ))\n",
    "\n",
    "# test set\n",
    "x_test = np.random.random((100, 2))\n",
    "y_test = np.random.randint(0, 2, (100, ))"
   ]
  },
  {
   "cell_type": "code",
   "execution_count": 16,
   "metadata": {
    "slideshow": {
     "slide_type": "subslide"
    }
   },
   "outputs": [
    {
     "name": "stdout",
     "output_type": "stream",
     "text": [
      "(100, 2)\n",
      "(100,)\n"
     ]
    }
   ],
   "source": [
    "print(x_train.shape)\n",
    "print(y_train.shape)"
   ]
  },
  {
   "cell_type": "code",
   "execution_count": 17,
   "metadata": {
    "slideshow": {
     "slide_type": "subslide"
    }
   },
   "outputs": [
    {
     "name": "stdout",
     "output_type": "stream",
     "text": [
      "[[0.69646919 0.28613933]\n",
      " [0.22685145 0.55131477]\n",
      " [0.71946897 0.42310646]\n",
      " [0.9807642  0.68482974]\n",
      " [0.4809319  0.39211752]]\n",
      "[1 1 0 1 0]\n"
     ]
    }
   ],
   "source": [
    "print(x_train[:5, ])\n",
    "print(y_train[:5])"
   ]
  },
  {
   "cell_type": "markdown",
   "metadata": {
    "slideshow": {
     "slide_type": "slide"
    }
   },
   "source": [
    "### Model Training"
   ]
  },
  {
   "cell_type": "code",
   "execution_count": 18,
   "metadata": {
    "slideshow": {
     "slide_type": "subslide"
    }
   },
   "outputs": [],
   "source": [
    "# create\n",
    "model = keras.Sequential()\n",
    "model.add(layers.Dense(16))\n",
    "model.add(layers.Dense(16))\n",
    "model.add(layers.Dense(1, activation='sigmoid'))"
   ]
  },
  {
   "cell_type": "code",
   "execution_count": 19,
   "metadata": {
    "slideshow": {
     "slide_type": "subslide"
    }
   },
   "outputs": [],
   "source": [
    "# compile\n",
    "model.compile(loss='binary_crossentropy',\n",
    "              optimizer='adam',\n",
    "              metrics=['accuracy'])"
   ]
  },
  {
   "cell_type": "markdown",
   "metadata": {
    "slideshow": {
     "slide_type": "subslide"
    }
   },
   "source": [
    "- **epochs**: the number of times that the entire training set is passed forward and backward through the neural network.\n",
    "- **batch_size**: the number of samples that are used for parameter updates each time"
   ]
  },
  {
   "cell_type": "markdown",
   "metadata": {
    "slideshow": {
     "slide_type": "subslide"
    }
   },
   "source": [
    "If we specify `batch_size = 10` and `epochs=50`, the model will try to train the model parameters (i.e., all the weights in the layers) by running through the entire training set **50** times (epochs, or iterations).\n",
    "\n",
    "And in each epoch, the model will update the model parameters according to the average loss values based on a batch of **10** samples."
   ]
  },
  {
   "cell_type": "code",
   "execution_count": 20,
   "metadata": {
    "scrolled": false,
    "slideshow": {
     "slide_type": "subslide"
    }
   },
   "outputs": [
    {
     "name": "stdout",
     "output_type": "stream",
     "text": [
      "Epoch 1/50\n",
      "10/10 [==============================] - 1s 86ms/step - loss: 0.6997 - accuracy: 0.3376 - val_loss: 0.6911 - val_accuracy: 0.5400\n",
      "Epoch 2/50\n",
      "10/10 [==============================] - 0s 4ms/step - loss: 0.6917 - accuracy: 0.5062 - val_loss: 0.6913 - val_accuracy: 0.5400\n",
      "Epoch 3/50\n",
      "10/10 [==============================] - 0s 5ms/step - loss: 0.6910 - accuracy: 0.4957 - val_loss: 0.6921 - val_accuracy: 0.5400\n",
      "Epoch 4/50\n",
      "10/10 [==============================] - 0s 5ms/step - loss: 0.6793 - accuracy: 0.5484 - val_loss: 0.6939 - val_accuracy: 0.5300\n",
      "Epoch 5/50\n",
      "10/10 [==============================] - 0s 5ms/step - loss: 0.6794 - accuracy: 0.5812 - val_loss: 0.6958 - val_accuracy: 0.5000\n",
      "Epoch 6/50\n",
      "10/10 [==============================] - 0s 5ms/step - loss: 0.6743 - accuracy: 0.5921 - val_loss: 0.6975 - val_accuracy: 0.4900\n",
      "Epoch 7/50\n",
      "10/10 [==============================] - 0s 5ms/step - loss: 0.6790 - accuracy: 0.6535 - val_loss: 0.6995 - val_accuracy: 0.4900\n",
      "Epoch 8/50\n",
      "10/10 [==============================] - 0s 5ms/step - loss: 0.6763 - accuracy: 0.6364 - val_loss: 0.7013 - val_accuracy: 0.4800\n",
      "Epoch 9/50\n",
      "10/10 [==============================] - 0s 5ms/step - loss: 0.6511 - accuracy: 0.7032 - val_loss: 0.7039 - val_accuracy: 0.4800\n",
      "Epoch 10/50\n",
      "10/10 [==============================] - 0s 5ms/step - loss: 0.6616 - accuracy: 0.6824 - val_loss: 0.7060 - val_accuracy: 0.5000\n",
      "Epoch 11/50\n",
      "10/10 [==============================] - 0s 5ms/step - loss: 0.6790 - accuracy: 0.6366 - val_loss: 0.7062 - val_accuracy: 0.4900\n",
      "Epoch 12/50\n",
      "10/10 [==============================] - 0s 5ms/step - loss: 0.6699 - accuracy: 0.6657 - val_loss: 0.7081 - val_accuracy: 0.5100\n",
      "Epoch 13/50\n",
      "10/10 [==============================] - 0s 5ms/step - loss: 0.6844 - accuracy: 0.6199 - val_loss: 0.7096 - val_accuracy: 0.5100\n",
      "Epoch 14/50\n",
      "10/10 [==============================] - 0s 14ms/step - loss: 0.6855 - accuracy: 0.5852 - val_loss: 0.7112 - val_accuracy: 0.5100\n",
      "Epoch 15/50\n",
      "10/10 [==============================] - 0s 5ms/step - loss: 0.6518 - accuracy: 0.6616 - val_loss: 0.7129 - val_accuracy: 0.5200\n",
      "Epoch 16/50\n",
      "10/10 [==============================] - 0s 5ms/step - loss: 0.6643 - accuracy: 0.6389 - val_loss: 0.7153 - val_accuracy: 0.5200\n",
      "Epoch 17/50\n",
      "10/10 [==============================] - 0s 5ms/step - loss: 0.6764 - accuracy: 0.6525 - val_loss: 0.7154 - val_accuracy: 0.5000\n",
      "Epoch 18/50\n",
      "10/10 [==============================] - 0s 5ms/step - loss: 0.6586 - accuracy: 0.6863 - val_loss: 0.7161 - val_accuracy: 0.5200\n",
      "Epoch 19/50\n",
      "10/10 [==============================] - 0s 5ms/step - loss: 0.6697 - accuracy: 0.6427 - val_loss: 0.7168 - val_accuracy: 0.5000\n",
      "Epoch 20/50\n",
      "10/10 [==============================] - 0s 5ms/step - loss: 0.6518 - accuracy: 0.6655 - val_loss: 0.7185 - val_accuracy: 0.4900\n",
      "Epoch 21/50\n",
      "10/10 [==============================] - 0s 5ms/step - loss: 0.6440 - accuracy: 0.6860 - val_loss: 0.7206 - val_accuracy: 0.4700\n",
      "Epoch 22/50\n",
      "10/10 [==============================] - 0s 5ms/step - loss: 0.6604 - accuracy: 0.6367 - val_loss: 0.7220 - val_accuracy: 0.4600\n",
      "Epoch 23/50\n",
      "10/10 [==============================] - 0s 6ms/step - loss: 0.6407 - accuracy: 0.6394 - val_loss: 0.7224 - val_accuracy: 0.4700\n",
      "Epoch 24/50\n",
      "10/10 [==============================] - 0s 5ms/step - loss: 0.6724 - accuracy: 0.6203 - val_loss: 0.7222 - val_accuracy: 0.4800\n",
      "Epoch 25/50\n",
      "10/10 [==============================] - 0s 5ms/step - loss: 0.6508 - accuracy: 0.6723 - val_loss: 0.7243 - val_accuracy: 0.4800\n",
      "Epoch 26/50\n",
      "10/10 [==============================] - 0s 5ms/step - loss: 0.6792 - accuracy: 0.6169 - val_loss: 0.7237 - val_accuracy: 0.4800\n",
      "Epoch 27/50\n",
      "10/10 [==============================] - 0s 5ms/step - loss: 0.6614 - accuracy: 0.6422 - val_loss: 0.7250 - val_accuracy: 0.4700\n",
      "Epoch 28/50\n",
      "10/10 [==============================] - 0s 5ms/step - loss: 0.6683 - accuracy: 0.6476 - val_loss: 0.7256 - val_accuracy: 0.4700\n",
      "Epoch 29/50\n",
      "10/10 [==============================] - 0s 5ms/step - loss: 0.6396 - accuracy: 0.6592 - val_loss: 0.7274 - val_accuracy: 0.4800\n",
      "Epoch 30/50\n",
      "10/10 [==============================] - 0s 5ms/step - loss: 0.6718 - accuracy: 0.6091 - val_loss: 0.7271 - val_accuracy: 0.4700\n",
      "Epoch 31/50\n",
      "10/10 [==============================] - 0s 5ms/step - loss: 0.6512 - accuracy: 0.6806 - val_loss: 0.7280 - val_accuracy: 0.4800\n",
      "Epoch 32/50\n",
      "10/10 [==============================] - 0s 5ms/step - loss: 0.6797 - accuracy: 0.5858 - val_loss: 0.7282 - val_accuracy: 0.4500\n",
      "Epoch 33/50\n",
      "10/10 [==============================] - 0s 5ms/step - loss: 0.6614 - accuracy: 0.6706 - val_loss: 0.7285 - val_accuracy: 0.4700\n",
      "Epoch 34/50\n",
      "10/10 [==============================] - 0s 5ms/step - loss: 0.6433 - accuracy: 0.6490 - val_loss: 0.7300 - val_accuracy: 0.4600\n",
      "Epoch 35/50\n",
      "10/10 [==============================] - 0s 5ms/step - loss: 0.6572 - accuracy: 0.6759 - val_loss: 0.7303 - val_accuracy: 0.4500\n",
      "Epoch 36/50\n",
      "10/10 [==============================] - 0s 6ms/step - loss: 0.6303 - accuracy: 0.6519 - val_loss: 0.7326 - val_accuracy: 0.4500\n",
      "Epoch 37/50\n",
      "10/10 [==============================] - 0s 5ms/step - loss: 0.6508 - accuracy: 0.6324 - val_loss: 0.7323 - val_accuracy: 0.4500\n",
      "Epoch 38/50\n",
      "10/10 [==============================] - 0s 6ms/step - loss: 0.6421 - accuracy: 0.6576 - val_loss: 0.7326 - val_accuracy: 0.4400\n",
      "Epoch 39/50\n",
      "10/10 [==============================] - 0s 6ms/step - loss: 0.6607 - accuracy: 0.6177 - val_loss: 0.7329 - val_accuracy: 0.4400\n",
      "Epoch 40/50\n",
      "10/10 [==============================] - 0s 5ms/step - loss: 0.6569 - accuracy: 0.6079 - val_loss: 0.7328 - val_accuracy: 0.4500\n",
      "Epoch 41/50\n",
      "10/10 [==============================] - 0s 5ms/step - loss: 0.6322 - accuracy: 0.6820 - val_loss: 0.7356 - val_accuracy: 0.4400\n",
      "Epoch 42/50\n",
      "10/10 [==============================] - 0s 5ms/step - loss: 0.6385 - accuracy: 0.6392 - val_loss: 0.7358 - val_accuracy: 0.4400\n",
      "Epoch 43/50\n",
      "10/10 [==============================] - 0s 5ms/step - loss: 0.6280 - accuracy: 0.6713 - val_loss: 0.7356 - val_accuracy: 0.4400\n",
      "Epoch 44/50\n",
      "10/10 [==============================] - 0s 5ms/step - loss: 0.6279 - accuracy: 0.7073 - val_loss: 0.7354 - val_accuracy: 0.4400\n",
      "Epoch 45/50\n",
      "10/10 [==============================] - 0s 5ms/step - loss: 0.6087 - accuracy: 0.7034 - val_loss: 0.7365 - val_accuracy: 0.4500\n",
      "Epoch 46/50\n",
      "10/10 [==============================] - 0s 5ms/step - loss: 0.6637 - accuracy: 0.6078 - val_loss: 0.7361 - val_accuracy: 0.4500\n",
      "Epoch 47/50\n",
      "10/10 [==============================] - 0s 5ms/step - loss: 0.6464 - accuracy: 0.6225 - val_loss: 0.7366 - val_accuracy: 0.4500\n",
      "Epoch 48/50\n",
      "10/10 [==============================] - 0s 5ms/step - loss: 0.6956 - accuracy: 0.5252 - val_loss: 0.7362 - val_accuracy: 0.4500\n",
      "Epoch 49/50\n",
      "10/10 [==============================] - 0s 5ms/step - loss: 0.6373 - accuracy: 0.6198 - val_loss: 0.7377 - val_accuracy: 0.4500\n",
      "Epoch 50/50\n",
      "10/10 [==============================] - 0s 14ms/step - loss: 0.6593 - accuracy: 0.6320 - val_loss: 0.7385 - val_accuracy: 0.4500\n"
     ]
    }
   ],
   "source": [
    "# fit\n",
    "history = model.fit(x_train,\n",
    "                    y_train,\n",
    "                    batch_size=10,\n",
    "                    epochs=50,\n",
    "                    validation_data=(x_val, y_val))"
   ]
  },
  {
   "cell_type": "code",
   "execution_count": 21,
   "metadata": {
    "scrolled": true,
    "slideshow": {
     "slide_type": "subslide"
    }
   },
   "outputs": [
    {
     "name": "stdout",
     "output_type": "stream",
     "text": [
      "Model: \"sequential_1\"\n",
      "_________________________________________________________________\n",
      "Layer (type)                 Output Shape              Param #   \n",
      "=================================================================\n",
      "dense (Dense)                (10, 16)                  48        \n",
      "_________________________________________________________________\n",
      "dense_1 (Dense)              (10, 16)                  272       \n",
      "_________________________________________________________________\n",
      "dense_2 (Dense)              (10, 1)                   17        \n",
      "=================================================================\n",
      "Total params: 337\n",
      "Trainable params: 337\n",
      "Non-trainable params: 0\n",
      "_________________________________________________________________\n"
     ]
    }
   ],
   "source": [
    "model.summary()"
   ]
  },
  {
   "cell_type": "code",
   "execution_count": 22,
   "metadata": {
    "slideshow": {
     "slide_type": "subslide"
    }
   },
   "outputs": [
    {
     "data": {
      "image/png": "[encoded data removed]",
      "text/plain": [
       "<IPython.core.display.Image object>"
      ]
     },
     "execution_count": 22,
     "metadata": {
      "filenames": {
       "image/png": "/Users/Alvin/GoogleDrive/_MySyncDrive/Repository/ENC2045/_build/jupyter_execute/nlp/dl-neural-network-from-scratch_69_0.png"
      }
     },
     "output_type": "execute_result"
    }
   ],
   "source": [
    "keras.utils.plot_model(model, show_shapes=True)"
   ]
  },
  {
   "cell_type": "code",
   "execution_count": 23,
   "metadata": {
    "slideshow": {
     "slide_type": "subslide"
    }
   },
   "outputs": [
    {
     "data": {
      "image/png": "[encoded data removed]",
      "text/plain": [
       "<Figure size 432x288 with 1 Axes>"
      ]
     },
     "metadata": {
      "filenames": {
       "image/png": "/Users/Alvin/GoogleDrive/_MySyncDrive/Repository/ENC2045/_build/jupyter_execute/nlp/dl-neural-network-from-scratch_70_0.png"
      },
      "needs_background": "light"
     },
     "output_type": "display_data"
    }
   ],
   "source": [
    "## Plot history from model.fit()\n",
    "from matplotlib import pyplot as plt\n",
    "plt.plot(history.history['accuracy'])\n",
    "plt.plot(history.history['val_accuracy'])\n",
    "plt.title('model accuracy')\n",
    "plt.ylabel('accuracy')\n",
    "plt.xlabel('epoch')\n",
    "plt.legend(['train', 'val'], loc='upper left')\n",
    "plt.show()"
   ]
  },
  {
   "cell_type": "markdown",
   "metadata": {
    "slideshow": {
     "slide_type": "slide"
    }
   },
   "source": [
    "### Evaluation and Prediction"
   ]
  },
  {
   "cell_type": "code",
   "execution_count": 52,
   "metadata": {
    "slideshow": {
     "slide_type": "subslide"
    }
   },
   "outputs": [
    {
     "name": "stdout",
     "output_type": "stream",
     "text": [
      "4/4 [==============================] - 0s 1ms/step - loss: 0.7735 - accuracy: 0.4600\n"
     ]
    },
    {
     "data": {
      "text/plain": [
       "[0.7735220193862915, 0.46000000834465027]"
      ]
     },
     "execution_count": 52,
     "metadata": {},
     "output_type": "execute_result"
    }
   ],
   "source": [
    "## Evaludate\n",
    "model.evaluate(x_test, y_test)"
   ]
  },
  {
   "cell_type": "code",
   "execution_count": 53,
   "metadata": {
    "slideshow": {
     "slide_type": "subslide"
    }
   },
   "outputs": [
    {
     "data": {
      "text/plain": [
       "array([[0.508847  ],\n",
       "       [0.5800214 ],\n",
       "       [0.6604538 ],\n",
       "       [0.39268616],\n",
       "       [0.4000779 ]], dtype=float32)"
      ]
     },
     "execution_count": 53,
     "metadata": {},
     "output_type": "execute_result"
    }
   ],
   "source": [
    "## Predict\n",
    "x_new = numpy.random.random((5, 2))\n",
    "model.predict(x_new)"
   ]
  },
  {
   "cell_type": "markdown",
   "metadata": {
    "slideshow": {
     "slide_type": "slide"
    }
   },
   "source": [
    "\n",
    "## Learning and Training"
   ]
  },
  {
   "cell_type": "markdown",
   "metadata": {
    "slideshow": {
     "slide_type": "subslide"
    }
   },
   "source": [
    "### How does the neural network learn the parameters?\n",
    "\n",
    "- Forward propagation shows how the network takes the input values, transforms them, and produces the predicted output values based on the network parameters (i.e., weights).\n",
    "- The network needs to learn the weights that best produce the output values according to some **loss function**, i.e., how different is the prediction from the true label?\n",
    "- Crucially, we need to compute the differences between the **predicted** outputs of the network and the **true** target outputs. \n",
    "- The model should aim to minimize these differences, which are commonly referred to as **errors** of the model.\n"
   ]
  },
  {
   "cell_type": "markdown",
   "metadata": {
    "slideshow": {
     "slide_type": "subslide"
    }
   },
   "source": [
    "### Loss Functions\n",
    "\n",
    "- If the target ouputs are numeric values, we can evaluate the errors (i.e., the differences between the actual model outputs and the target outputs) using the **mean square error** function.\n",
    "    - Mean Square Error: $E = \\frac{1}{2}\\sum(y_k - t_k)^2$\n",
    "- If the target outputs are labels, we can evaluate the errors (i.e., the differences between the actual model labels and the target labels) using the **cross entory error** function.\n",
    "    - Cross Entropy Error: $E= -\\sum_{k}t_k\\log(y_k)$\n",
    "- The function used to compute the errors of the model is referred to as the **loss function**."
   ]
  },
  {
   "cell_type": "markdown",
   "metadata": {
    "slideshow": {
     "slide_type": "subslide"
    }
   },
   "source": [
    "### Principles for Loss Functions\n",
    "\n",
    "Problem Type | Last-Layer Activation | Loss Function in Keras| `y` Encoding |\n",
    "--|--|--|--|\n",
    "Binary Classification | sigmoid | `binary_crossentropy()`| Integer Encoding |\n",
    "Binary Classification | softmax | `SparseCategoricalCrossentropy(from_logits=False)`| Integer Encoding |\n",
    "Multiclass Classification | softmax | `categorical_crossentropy()`| One-hot Encoding |\n",
    "Regression|None|`mes`| Floating-point|"
   ]
  },
  {
   "cell_type": "markdown",
   "metadata": {
    "slideshow": {
     "slide_type": "slide"
    }
   },
   "source": [
    "## Categorical Variables Encoding"
   ]
  },
  {
   "cell_type": "markdown",
   "metadata": {
    "slideshow": {
     "slide_type": "subslide"
    }
   },
   "source": [
    "### What's wrong with categorical variables?\n",
    "\n",
    "- Before we look at the examples of loss computation, we need to talk about the ways of encoding **categorical** labels.\n",
    "- Remember, machine doesn't understand characters. If we have class labels like male/female, positive/negative, or each word tokens, we may need to convert these strings into machine-readable numerical values.\n",
    "- This step is called **encoding**.\n",
    "- Most importantly, machine learning and deep learning both require input and output variables to be **numbers**."
   ]
  },
  {
   "cell_type": "markdown",
   "metadata": {
    "slideshow": {
     "slide_type": "subslide"
    }
   },
   "source": [
    "### Three Ways of Encodings\n",
    "\n",
    "- **Integer** (Sequence) Encoding: Each unique label is mapped to an integer\n",
    "- **One-hot** Encoding: Each unique label is mapped to a binary vector\n",
    "- **Embeddings** Encoding: Each unique label is mapped to a learned vectorized representation (i.e., embeddings)"
   ]
  },
  {
   "cell_type": "markdown",
   "metadata": {
    "slideshow": {
     "slide_type": "subslide"
    }
   },
   "source": [
    "### Steps\n",
    "\n",
    "- Given a corpus, we can create its **vocabulary** (at the word-token level, or sometimes at the character level).\n",
    "- We can associate every word type with a **unique integer index** (i.e., integer encoding).\n",
    "- We can further turn this integer index $i$ into a **binary vector** of size $N$ (the size of vocabulary). The vector is all zeros except for the $i$th entry, which is 1 (i.e., one-hot encoding).\n",
    "- We can turn the integer index into a **dense, low-dimensional floating-point vectors** (i.e., embedding encoding).\n",
    "    - Learn embeddings jointly with the main task (i.e., `Embedding` layer)\n",
    "    - Use pretrained word embeddings that were precomputed using a different machine learning task."
   ]
  },
  {
   "cell_type": "code",
   "execution_count": 26,
   "metadata": {
    "slideshow": {
     "slide_type": "subslide"
    }
   },
   "outputs": [
    {
     "name": "stdout",
     "output_type": "stream",
     "text": [
      "{'male': 0, 'female': 1}\n",
      "[0, 1, 1, 0]\n",
      "[[1. 0.]\n",
      " [0. 1.]\n",
      " [0. 1.]\n",
      " [1. 0.]]\n"
     ]
    }
   ],
   "source": [
    "## Given Label\n",
    "labels = ['male', 'female', 'female', 'male']\n",
    "\n",
    "## Create Dictionary\n",
    "labels_dict = { x:i for i,x in enumerate(set(labels))}\n",
    "print(labels_dict)\n",
    "\n",
    "## Integer Encoding\n",
    "labels_int = [labels_dict[l] for l in labels]\n",
    "print(labels_int)\n",
    "\n",
    "## One-hot Encoding\n",
    "labels_oh = keras.utils.to_categorical(labels_int)\n",
    "print(labels_oh)"
   ]
  },
  {
   "cell_type": "code",
   "execution_count": 27,
   "metadata": {
    "slideshow": {
     "slide_type": "skip"
    }
   },
   "outputs": [
    {
     "name": "stdout",
     "output_type": "stream",
     "text": [
      "[[1]\n",
      " [0]\n",
      " [0]\n",
      " [1]]\n",
      "[[0. 1.]\n",
      " [1. 0.]\n",
      " [1. 0.]\n",
      " [0. 1.]]\n"
     ]
    }
   ],
   "source": [
    "###########################################\n",
    "## Integer Encoding and One-hot Encoding ##\n",
    "## Using sklearn                         ##\n",
    "###########################################\n",
    "\n",
    "## Integer Encoding\n",
    "from sklearn.preprocessing import OrdinalEncoder\n",
    "labels = ['male', 'female', 'female', 'male']\n",
    "labels = np.array(labels).reshape(-1, 1)\n",
    "\n",
    "oe = OrdinalEncoder(dtype='int16')\n",
    "labels_int = oe.fit_transform(labels)\n",
    "print(labels_int)\n",
    "\n",
    "## One-hot Encoding\n",
    "from sklearn.preprocessing import OneHotEncoder\n",
    "\n",
    "ohe = OneHotEncoder()\n",
    "labels_ohe = ohe.fit_transform(labels)\n",
    "\n",
    "print(labels_ohe.toarray())"
   ]
  },
  {
   "cell_type": "markdown",
   "metadata": {
    "slideshow": {
     "slide_type": "slide"
    }
   },
   "source": [
    "### One-hot Encoding and Loss Function\n",
    "\n",
    "- With one-hot encoding, we can convert any categorical variable into a numeric vector. \n",
    "- And if we specify our network output to be a vector of the same size, we can compute the differences between the output vector and the true numeric vector."
   ]
  },
  {
   "cell_type": "markdown",
   "metadata": {
    "slideshow": {
     "slide_type": "subslide"
    }
   },
   "source": [
    "- When the target class label is a binary one (e.g., name-gender prediction):\n",
    "\n",
    "![](../images/neural-network-loss-binary.jpeg)"
   ]
  },
  {
   "cell_type": "markdown",
   "metadata": {
    "slideshow": {
     "slide_type": "subslide"
    }
   },
   "source": [
    "- When the target class label is a multi-level one (e.g., next-word prediction):\n",
    "![](../images/neural-network-loss-multicat.jpeg)"
   ]
  },
  {
   "cell_type": "markdown",
   "metadata": {
    "slideshow": {
     "slide_type": "slide"
    }
   },
   "source": [
    "## Examples of Loss Errors (skipped)"
   ]
  },
  {
   "cell_type": "markdown",
   "metadata": {
    "slideshow": {
     "slide_type": "skip"
    }
   },
   "source": [
    "### Error based on One Sample\n",
    "\n",
    "- The following is a simple example showing how to compute the loss for a case of prediction."
   ]
  },
  {
   "cell_type": "code",
   "execution_count": 28,
   "metadata": {
    "slideshow": {
     "slide_type": "skip"
    }
   },
   "outputs": [],
   "source": [
    "def mean_square_error(y, t):\n",
    "    return (0.5 * np.sum((y - t)**2))\n",
    "\n",
    "\n",
    "def cross_entropy_error(y, t):\n",
    "    delta = 1e-7  # avoid log(0)\n",
    "    return -np.sum(t * np.log(y + delta))"
   ]
  },
  {
   "cell_type": "code",
   "execution_count": 29,
   "metadata": {
    "slideshow": {
     "slide_type": "skip"
    }
   },
   "outputs": [
    {
     "name": "stdout",
     "output_type": "stream",
     "text": [
      "0.40625\n",
      "2.302584092994546\n"
     ]
    }
   ],
   "source": [
    "## mean square error\n",
    "y = [0.1, 0.05]  # predicted values\n",
    "t = [1, 0]  # true label\n",
    "print(mean_square_error(np.array(y), np.array(t)))\n",
    "print(cross_entropy_error(np.array(y), np.array(t)))"
   ]
  },
  {
   "cell_type": "markdown",
   "metadata": {
    "slideshow": {
     "slide_type": "skip"
    }
   },
   "source": [
    "### Errors based on Batch Samples\n",
    "\n",
    "- The following is a simple example showing how to compute the average loss of a sample of batch size N cases."
   ]
  },
  {
   "cell_type": "markdown",
   "metadata": {
    "slideshow": {
     "slide_type": "skip"
    }
   },
   "source": [
    "- If the training is based on a sample of batch size *N*, we can compute the average loss (or total errors) of the batch sample:\n",
    "\n",
    "$$ E = - \\frac{1}{N}\\sum_n\\sum_k t_{nk}\\log y_{nk}$$"
   ]
  },
  {
   "cell_type": "markdown",
   "metadata": {
    "slideshow": {
     "slide_type": "skip"
    }
   },
   "source": [
    "- We can revise the `cross_entropy_error()` function to work with outputs from a min-batch sample."
   ]
  },
  {
   "cell_type": "code",
   "execution_count": 30,
   "metadata": {
    "slideshow": {
     "slide_type": "skip"
    }
   },
   "outputs": [],
   "source": [
    "# adjust the function to for batch sample outputs\n",
    "def cross_entropy_error(y, t):\n",
    "    if y.ndim == 1:\n",
    "        t = t.reshape(1, t.size)\n",
    "        y = y.reshape(1, y.size)\n",
    "    batch_size = y.shape[0]\n",
    "    return -np.sum(t * np.log(y + 1e-7)) / batch_size"
   ]
  },
  {
   "cell_type": "markdown",
   "metadata": {
    "slideshow": {
     "slide_type": "skip"
    }
   },
   "source": [
    "- When the labels uses one-hot encoding, the function can be simplified as follows:"
   ]
  },
  {
   "cell_type": "code",
   "execution_count": 31,
   "metadata": {
    "slideshow": {
     "slide_type": "skip"
    }
   },
   "outputs": [],
   "source": [
    "def cross_entropy_error(y, t):\n",
    "    if y.ndim == 1:\n",
    "        t = t.reshape(1, t.size)\n",
    "        y = y.reshape(1, y.size)\n",
    "    batch_size = y.shape[0]\n",
    "    # because for one-hot labels\n",
    "    # cross-entropy sums only the values of the true labels `1`\n",
    "    return -np.sum(np.log(y[np.arange(batch_size), t] + 1e-7)) / batch_size"
   ]
  },
  {
   "cell_type": "markdown",
   "metadata": {
    "slideshow": {
     "slide_type": "slide"
    }
   },
   "source": [
    "## Gradient Descent"
   ]
  },
  {
   "cell_type": "markdown",
   "metadata": {
    "slideshow": {
     "slide_type": "subslide"
    }
   },
   "source": [
    "### How do we adjust the model parameters?\n",
    "\n",
    "- With the **Loss Function**, we can now perform the most important step in model training &mdash; adjusting the **weights** (i.e., **parameters**) of the model.\n",
    "- The mechanism behind the neural network training steps is that we need to figure out:\n",
    "    - how the change of a specific **parameter** (i.e., weight) in the model may lead to the change (i.e., decrease) of the values from the **Loss Function**? (i.e., How much does a change in a specific weight affect the total error?)\n",
    "- Then we would know how much of the total error each parameter in the model is responsible for.\n",
    "- These are the bases for parameter adjustments.\n",
    "- All we need to do is the adjust the weights **in proportion to** the changes that the parameter is responsible for.\n",
    "- This optimization method to finding a combination of weights that minimize the loss function is called **Gradient Descent**."
   ]
  },
  {
   "cell_type": "markdown",
   "metadata": {
    "slideshow": {
     "slide_type": "subslide"
    }
   },
   "source": [
    "### Gradients\n",
    "\n",
    "- The error that a specific weight is responsible for is referred to as the **gradient** of the parameter.\n",
    "- Mathematically, the gradient of a weight is the **partial derivative** of a weight in relation to the **loss function**.\n",
    "- Then we adjust the weight in proportion to its gradient:\n",
    "\n",
    "$$\n",
    "{W}_{new} = W_{original} + \\eta \\times \\textit{Gradient}_{W_{original}}\n",
    "$$\n",
    "\n",
    "- The $\\eta$ is a hyperparameter in deep learning. This parameter controls how fast the model learns. This $\\eta$ is referred to as the **learning rates**."
   ]
  },
  {
   "cell_type": "markdown",
   "metadata": {
    "slideshow": {
     "slide_type": "slide"
    }
   },
   "source": [
    "### Intuition of Gradients: An Example (skipped)"
   ]
  },
  {
   "cell_type": "markdown",
   "metadata": {
    "slideshow": {
     "slide_type": "skip"
    }
   },
   "source": [
    "- Let's assume that we are training a model with two parameters, $x_0$ and $x_1$, and the loss function is $f(x_0, x_1)$.\n",
    "    - When a function includes more than one parameters, we can compute the partial derivative of the function with respect to each parameter.\n",
    "    - When all partial derivatives are concatenated into a vector, this vector is called the **gradient**.\n",
    "    - That is, for the above loss function with two parameters (e.g., $f(x_0, x_1) = \\beta x_0 + \\beta x_1$), we can calculate the partial derivatives of each parameter all at once,and represent them in a vector, which is referred to as **gradient**, i.e:\n",
    "$$\n",
    "(\\frac{\\partial f}{\\partial x_0}, \\frac{\\partial f}{\\partial x_1})\n",
    "$$"
   ]
  },
  {
   "cell_type": "markdown",
   "metadata": {
    "slideshow": {
     "slide_type": "skip"
    }
   },
   "source": [
    "- Each parameter estimation value pair, $(x_0,x_1)$, should correspond to a gradient.\n",
    "\n",
    "- Intuitive understanding of the gradient:\n",
    "    - The gradient of a specific $(x_0,x_1)$ indicates how the changes of the parameter values $(x_0,x_1)$ may contribute to the change of $f(x_0,x_1)$. \n",
    "    - The gradient of a specific $(x_0,x_1)$ is a **vector** with the direction pointing at the **global minimum** of the loss function.\n",
    "    - The farther the $(x_0,x_1)$ is way from the global minimum, the larger the gradient vector.\n",
    "    \n",
    "- In Deep Learning, the training goes as follows:\n",
    "    - We initialize the parameters $x_0,x_1$ with some values $p_0, p_1$;\n",
    "    - We compute the loss function $f(x_0,x_1)$\n",
    "    - We compute the gradient of $f(x_0,x_1)$ when the parameter $x_0 = p_0$ and $x_1 = p_1$\n",
    "    - We use the gradient to determine how to update/modify all the model parameters, i.e., \n",
    "    \n",
    "$$\n",
    "x_0 = x_0 + \\eta\\frac{\\partial f}{\\partial x_0} \\\\\n",
    "x_1 = x_1 + \\eta\\frac{\\partial f}{\\partial x_1} \n",
    "$$\n",
    "\n",
    "- The $\\eta$ is again **learning rate**."
   ]
  },
  {
   "cell_type": "markdown",
   "metadata": {
    "slideshow": {
     "slide_type": "subslide"
    }
   },
   "source": [
    "### Types of Gradient Descent\n",
    "\n",
    "- **Batch** Gradient Descent: Update the model weights after one epoch of the entire training set.\n",
    "- **Stochastic** Gradient Descent (SGD): Update the model weights after every instance of the training set (online).\n",
    "- **Mini-batch** Gradient Descent: Update the model weights after a subset of the training set. (Recommended!)"
   ]
  },
  {
   "cell_type": "markdown",
   "metadata": {
    "slideshow": {
     "slide_type": "subslide"
    }
   },
   "source": [
    "### Gradients in Python (skipped)"
   ]
  },
  {
   "cell_type": "markdown",
   "metadata": {
    "slideshow": {
     "slide_type": "skip"
    }
   },
   "source": [
    "In the following graph, each vector represents the gradient at a specific $(x_0, x_1)$, i.e., when $x_0 = p_0$ and $x_1 = p_1$:"
   ]
  },
  {
   "cell_type": "code",
   "execution_count": 32,
   "metadata": {
    "code_folding": [
     7
    ],
    "slideshow": {
     "slide_type": "skip"
    },
    "tags": [
     "remove-input"
    ]
   },
   "outputs": [
    {
     "data": {
      "image/png": "[encoded data removed]",
      "text/plain": [
       "<Figure size 432x288 with 1 Axes>"
      ]
     },
     "metadata": {
      "filenames": {
       "image/png": "/Users/Alvin/GoogleDrive/_MySyncDrive/Repository/ENC2045/_build/jupyter_execute/nlp/dl-neural-network-from-scratch_106_0.png"
      },
      "needs_background": "light"
     },
     "output_type": "display_data"
    }
   ],
   "source": [
    "from mpl_toolkits.mplot3d import Axes3D\n",
    "\n",
    "\n",
    "def _numerical_gradient_no_batch(f, x):\n",
    "    h = 1e-4  # 0.0001\n",
    "    grad = np.zeros_like(x)\n",
    "\n",
    "    for idx in range(x.size):\n",
    "        tmp_val = x[idx]\n",
    "        x[idx] = float(tmp_val) + h\n",
    "        fxh1 = f(x)  # f(x+h)\n",
    "\n",
    "        x[idx] = tmp_val - h\n",
    "        fxh2 = f(x)  # f(x-h)\n",
    "        grad[idx] = (fxh1 - fxh2) / (2 * h)\n",
    "\n",
    "        x[idx] = tmp_val  # 値を元に戻す\n",
    "\n",
    "    return grad\n",
    "\n",
    "\n",
    "def numerical_gradient(f, X):\n",
    "    if X.ndim == 1:\n",
    "        return _numerical_gradient_no_batch(f, X)\n",
    "    else:\n",
    "        grad = np.zeros_like(X)\n",
    "\n",
    "        for idx, x in enumerate(X):\n",
    "            grad[idx] = _numerical_gradient_no_batch(f, x)\n",
    "\n",
    "        return grad\n",
    "\n",
    "\n",
    "def function_2(x):\n",
    "    if x.ndim == 1:\n",
    "        return np.sum(x**2)\n",
    "    else:\n",
    "        return np.sum(x**2, axis=1)\n",
    "\n",
    "\n",
    "def tangent_line(f, x):\n",
    "    d = numerical_gradient(f, x)\n",
    "    print(d)\n",
    "    y = f(x) - d * x\n",
    "    return lambda t: d * t + y\n",
    "\n",
    "\n",
    "if __name__ == '__main__':\n",
    "    x0 = np.arange(-2, 2.5, 0.25)\n",
    "    x1 = np.arange(-2, 2.5, 0.25)\n",
    "    X, Y = np.meshgrid(x0, x1)\n",
    "\n",
    "    X = X.flatten()\n",
    "    Y = Y.flatten()\n",
    "\n",
    "    grad = numerical_gradient(function_2, np.array([X, Y]).T).T\n",
    "\n",
    "    plt.figure()\n",
    "    plt.quiver(X, Y, -grad[0], -grad[1], angles=\"xy\", color=\"#666666\")\n",
    "    plt.xlim([-2, 2])\n",
    "    plt.ylim([-2, 2])\n",
    "    plt.xlabel('x0')\n",
    "    plt.ylabel('x1')\n",
    "    plt.grid()\n",
    "    plt.draw()\n",
    "    plt.show()"
   ]
  },
  {
   "cell_type": "markdown",
   "metadata": {
    "slideshow": {
     "slide_type": "slide"
    }
   },
   "source": [
    "## Overfitting and Underfitting\n"
   ]
  },
  {
   "cell_type": "markdown",
   "metadata": {
    "slideshow": {
     "slide_type": "subslide"
    }
   },
   "source": [
    "### Optimization vs. Generalization\n",
    "\n",
    "- ML is always dealing with the tension between **optimization** and **generalization**.\n",
    "    - Optimization: the process of adjusting a model to get the best performance possible on the training data (i.e., to minimize the *bias* of the model)\n",
    "    - Generalization: the performance of the model on data it has never seen before (i.e., to minimize the **variation** of the model performance on different datasets.)"
   ]
  },
  {
   "cell_type": "markdown",
   "metadata": {
    "slideshow": {
     "slide_type": "subslide"
    }
   },
   "source": [
    "### Overfitting/Underfitting\n",
    "\n",
    "- During the training stage, if both the losses on training data and validation data are dropping, the model is **underfit** and in a way to be better fit. (Great bias, Small variation)\n",
    "- During the training, if the loss on the validation data stalls while that of the training data still drops, the model starts to **overfit**. (Small bias, Great variation)"
   ]
  },
  {
   "cell_type": "markdown",
   "metadata": {
    "slideshow": {
     "slide_type": "subslide"
    }
   },
   "source": [
    "### How to Deal With Overfitting?\n",
    "\n",
    "- Get more training data\n",
    "- Reduce the capacity of the network (e.g., number of layers/nodes)\n",
    "- Add weight **Regularization**\n",
    "- Add **dropout**"
   ]
  },
  {
   "cell_type": "markdown",
   "metadata": {
    "slideshow": {
     "slide_type": "subslide"
    }
   },
   "source": [
    "### Regularization\n",
    "\n",
    "- What is **regularization**?\n",
    "    - Modulate the quantity of information that the model is allowed to store\n",
    "    - Add constraints on what information the model is allowed to store\n",
    "- Weight regularization is to add to the loss function of the network a **cost** associated with having large weights.\n",
    "- That is, large weights will have greater penalties to the loss function, hence discouraged.\n",
    "- Common methods:\n",
    "    - L1 regularization: the cost added is proportional to the **absolute values** of the weights (`keras.regularizer.l1()`)\n",
    "    - L2 regularization: the cost added is propositional to the **square values** of the weights (`keras/regularizer.l2()`)"
   ]
  },
  {
   "cell_type": "markdown",
   "metadata": {
    "slideshow": {
     "slide_type": "subslide"
    }
   },
   "source": [
    "### Dropout\n",
    "\n",
    "- Dropout consists of randomly dropping out a number of output features of the applied layer during training.\n",
    "- The dropout rate is the **fraction** of the features that are **zeroed out**. \n",
    "- The dropout rate is usually set between 0.2 and 0.5.\n",
    "- In `keras`, it can an independent layer, `keras.layers.dropout()`, or paremters to be set within specific layers (e.g., `keras.layers.LSTM()`)."
   ]
  },
  {
   "cell_type": "markdown",
   "metadata": {
    "slideshow": {
     "slide_type": "subslide"
    }
   },
   "source": [
    "### Heuristics for Regularization\n",
    "\n",
    "- Applying dropout before a recurrent layer hinders learning rather than helping with regularization.\n",
    "- The same dropout mask (the same pattern of dropped units) should be applied at every time step, instead of a dropout mask that varies randomly from timestep to timestep. (Yarin Gal)\n",
    "- In order to regularize the representations formed by the recurrent gates of layers (e.g., LSTM and GRU), a temporally constant dropout mask should be applied to the inner activations of the layer (a recurrent dropout mask). (Yarin Gal)"
   ]
  },
  {
   "cell_type": "markdown",
   "metadata": {
    "slideshow": {
     "slide_type": "slide"
    }
   },
   "source": [
    "## Some Math (Skipped)"
   ]
  },
  {
   "cell_type": "markdown",
   "metadata": {
    "slideshow": {
     "slide_type": "skip"
    }
   },
   "source": [
    "The following presents some important mathematical constructs related to the understanding of neural network.\n"
   ]
  },
  {
   "cell_type": "markdown",
   "metadata": {
    "slideshow": {
     "slide_type": "skip"
    }
   },
   "source": [
    "### Chain Rule and Back Propagation"
   ]
  },
  {
   "cell_type": "markdown",
   "metadata": {
    "slideshow": {
     "slide_type": "skip"
    }
   },
   "source": [
    "- Because there are many parameters in a network, we can compute the gradients (or partial derivatives) of all the weights using the chain rules of derivatives.\n",
    "- Specifically, the total error is essentially broken up and distributed back through the network to every single weight with the help of chain rule:\n",
    "\n",
    "$$\\frac{\\partial z}{\\partial x} = \\frac{\\partial z}{\\partial y}.\\frac{\\partial y}{\\partial x}$$\n",
    "\n",
    "- This process is referred to as **back propagation**: moving back through the network, back-propagating the total errors to every single weight, and updating the weights.\n",
    "- The principle of weights-updating: the larger the gradient, the more the adjustments.\n",
    "\n",
    "$$W_1 = W_1 - \\eta \\frac{\\partial E}{\\partial W_1}$$\n",
    "\n",
    "- The above adjustment formula suggests that the weight updates are proportional to the partial derivatives of the weight. \n",
    "- The **$\\eta$** in the formula controls the amount of adjustment, which is referred to as the **learning rate**."
   ]
  },
  {
   "cell_type": "markdown",
   "metadata": {
    "slideshow": {
     "slide_type": "skip"
    }
   },
   "source": [
    "### Elementwise Operations of Matrix"
   ]
  },
  {
   "cell_type": "markdown",
   "metadata": {
    "slideshow": {
     "slide_type": "skip"
    }
   },
   "source": [
    "- A two-dimensional matrix\n",
    "\n",
    "$$ x = \n",
    "\\begin{pmatrix}\n",
    "1&2 \\\\\n",
    "3&4 \\\\\n",
    "5&6 \\\\\n",
    "\\end{pmatrix}\n",
    "$$"
   ]
  },
  {
   "cell_type": "code",
   "execution_count": 33,
   "metadata": {
    "slideshow": {
     "slide_type": "skip"
    }
   },
   "outputs": [
    {
     "data": {
      "text/plain": [
       "array([[1, 2],\n",
       "       [3, 4],\n",
       "       [4, 6]])"
      ]
     },
     "execution_count": 33,
     "metadata": {},
     "output_type": "execute_result"
    }
   ],
   "source": [
    "x = np.array([[1, 2], [3, 4], [4, 6]])\n",
    "x"
   ]
  },
  {
   "cell_type": "code",
   "execution_count": 34,
   "metadata": {
    "slideshow": {
     "slide_type": "skip"
    }
   },
   "outputs": [
    {
     "name": "stdout",
     "output_type": "stream",
     "text": [
      "[[2 3]\n",
      " [4 5]\n",
      " [5 7]]\n",
      "[[ 5 10]\n",
      " [15 20]\n",
      " [20 30]]\n",
      "[[0.2 0.4]\n",
      " [0.6 0.8]\n",
      " [0.8 1.2]]\n"
     ]
    }
   ],
   "source": [
    "print(x + 1)\n",
    "print(x * 5)\n",
    "print(x / 5)"
   ]
  },
  {
   "cell_type": "markdown",
   "metadata": {
    "slideshow": {
     "slide_type": "skip"
    }
   },
   "source": [
    "- Matrix Elementwise Multiplication\n",
    "\n",
    "\n",
    "$$\\begin{pmatrix}\n",
    "1&2 \\\\\n",
    "3&4 \\\\\n",
    "\\end{pmatrix}\n",
    "\\begin{pmatrix}\n",
    "5&6 \\\\\n",
    "7&8\n",
    "\\end{pmatrix} =\n",
    "\\begin{pmatrix}\n",
    "5&12 \\\\\n",
    "21&32\n",
    "\\end{pmatrix}\n",
    "$$\n",
    "\n"
   ]
  },
  {
   "cell_type": "code",
   "execution_count": 35,
   "metadata": {
    "slideshow": {
     "slide_type": "skip"
    }
   },
   "outputs": [
    {
     "name": "stdout",
     "output_type": "stream",
     "text": [
      "[[1 2]\n",
      " [3 4]]\n",
      "[[5 6]\n",
      " [7 8]]\n",
      "[[ 5 12]\n",
      " [21 32]]\n"
     ]
    }
   ],
   "source": [
    "x = np.array([[1, 2], [3, 4]])\n",
    "y = np.array([[5, 6], [7, 8]])\n",
    "print(x)\n",
    "print(y)\n",
    "print(x * y)"
   ]
  },
  {
   "cell_type": "markdown",
   "metadata": {
    "slideshow": {
     "slide_type": "skip"
    }
   },
   "source": [
    "### Broadcast"
   ]
  },
  {
   "cell_type": "markdown",
   "metadata": {
    "slideshow": {
     "slide_type": "skip"
    }
   },
   "source": [
    "In matrix elementwise computation, the smaller tensor will be **broadcasted** to match the shape of the larger tensor.\n",
    "\n",
    "- Axes (called broadcast axes) are added to the smaller tensor to match the `ndim` of the larger tensor.\n",
    "- The smaller tensor is repeated alongside these new axes to match the full shape of the larger tensor."
   ]
  },
  {
   "cell_type": "markdown",
   "metadata": {
    "slideshow": {
     "slide_type": "skip"
    }
   },
   "source": [
    "$$\\begin{pmatrix}\n",
    "1&2 \\\\\n",
    "3&4 \\\\\n",
    "\\end{pmatrix}\n",
    "\\begin{pmatrix}\n",
    "10&20\n",
    "\\end{pmatrix} =\n",
    "\\begin{pmatrix}\n",
    "10&40 \\\\\n",
    "30&80\n",
    "\\end{pmatrix}\n",
    "$$"
   ]
  },
  {
   "cell_type": "code",
   "execution_count": 36,
   "metadata": {
    "slideshow": {
     "slide_type": "skip"
    }
   },
   "outputs": [
    {
     "name": "stdout",
     "output_type": "stream",
     "text": [
      "(2, 2)\n",
      "(2,)\n",
      "[[10 40]\n",
      " [30 80]]\n",
      "(2, 2)\n"
     ]
    }
   ],
   "source": [
    "x = np.array([[1, 2], [3, 4]])\n",
    "y = np.array([10, 20])\n",
    "print(x.shape)\n",
    "print(y.shape)\n",
    "xy = x * y\n",
    "print(xy)\n",
    "print(xy.shape)"
   ]
  },
  {
   "cell_type": "markdown",
   "metadata": {
    "slideshow": {
     "slide_type": "skip"
    }
   },
   "source": [
    "### Matrices Dot Production"
   ]
  },
  {
   "cell_type": "markdown",
   "metadata": {
    "slideshow": {
     "slide_type": "skip"
    }
   },
   "source": [
    "![](../images/matrices-dot-product.png)\n",
    "(Source: Chollet [2018], Ch 2., Figure 2.5)"
   ]
  },
  {
   "cell_type": "markdown",
   "metadata": {
    "slideshow": {
     "slide_type": "skip"
    }
   },
   "source": [
    "- The most common applications may be the **dot product** between two matrices. \n",
    "- You can take the dot product of two matrices x and y (`dot(x, y)`) if and only if `x.shape[1] == y.shape[0]`. The result is a matrix with shape (`x.shape[0]`, `y.shape[1]`), where the coefficients are the vector products between the rows of $x$ and the columns of $y$. "
   ]
  },
  {
   "cell_type": "markdown",
   "metadata": {
    "slideshow": {
     "slide_type": "skip"
    }
   },
   "source": [
    "$$\\begin{pmatrix}\n",
    "1&2 \\\\\n",
    "3&4 \\\\\n",
    "5&6\n",
    "\\end{pmatrix}\n",
    "\\begin{pmatrix}\n",
    "5&6&7 \\\\\n",
    "8&9&10\n",
    "\\end{pmatrix} =\n",
    "\\begin{pmatrix}\n",
    "21&24&27 \\\\\n",
    "47&54&62 \\\\\n",
    "73&84&95\n",
    "\\end{pmatrix}\n",
    "$$"
   ]
  },
  {
   "cell_type": "code",
   "execution_count": 37,
   "metadata": {
    "slideshow": {
     "slide_type": "skip"
    }
   },
   "outputs": [
    {
     "name": "stdout",
     "output_type": "stream",
     "text": [
      "[[21 24 27]\n",
      " [47 54 61]\n",
      " [73 84 95]]\n"
     ]
    }
   ],
   "source": [
    "x = np.array([[1, 2], [3, 4], [5, 6]])\n",
    "y = np.array([[5, 6, 7], [8, 9, 10]])\n",
    "\n",
    "xy_dot = np.dot(x, y)\n",
    "print(xy_dot)"
   ]
  },
  {
   "cell_type": "markdown",
   "metadata": {
    "slideshow": {
     "slide_type": "skip"
    }
   },
   "source": [
    "### Matrices Dot Production and Forward Propagation"
   ]
  },
  {
   "cell_type": "markdown",
   "metadata": {
    "slideshow": {
     "slide_type": "skip"
    }
   },
   "source": [
    "- For example, let's assume that we have a word, one-hot encoded as [0,1,0,0,0,0].\n",
    "- An embedding model consists of parameters like the two-dimensional tensor shown below.\n",
    "- The output of the model is the dot product of the input word vector and the model parameter tensor."
   ]
  },
  {
   "cell_type": "markdown",
   "metadata": {
    "slideshow": {
     "slide_type": "skip"
    }
   },
   "source": [
    "$$\n",
    "\\begin{pmatrix}\n",
    "-2.8&1.6&0.9&0.7&-0.7&-1.8 \\\\\n",
    "0.3&-2.3&0.8&1.8&1.5&0.7\\\\\n",
    "0.9&0.3&-1.6&-2.8&0.5&0.4\\\\\n",
    "1.8&-0.5&-1.6&-2.8&-1.7&1.7\n",
    "\\end{pmatrix}\n",
    "\\begin{pmatrix}\n",
    "0\\\\\n",
    "1\\\\\n",
    "0\\\\\n",
    "0\\\\\n",
    "0\\\\\n",
    "0\\\\\n",
    "\\end{pmatrix}=\n",
    "\\begin{pmatrix}\n",
    "1.6 \\\\\n",
    "-2.3 \\\\\n",
    "0.3\\\\\n",
    "-0.5\n",
    "\\end{pmatrix}\n",
    "$$"
   ]
  },
  {
   "cell_type": "code",
   "execution_count": 38,
   "metadata": {
    "slideshow": {
     "slide_type": "skip"
    }
   },
   "outputs": [
    {
     "name": "stdout",
     "output_type": "stream",
     "text": [
      "[[0]\n",
      " [1]\n",
      " [0]\n",
      " [0]\n",
      " [0]\n",
      " [0]]\n"
     ]
    }
   ],
   "source": [
    "word_one_hot = np.array([0, 1, 0, 0, 0, 0]).reshape(6, 1)\n",
    "word_one_hot.shape\n",
    "print(word_one_hot)\n",
    "model_parameters = np.array([[-2.8, 1.6, 0.9, 0.7, -0.7, -1.8],\n",
    "                             [0.3, -2.3, 0.8, 1.8, 1.5, 0.7],\n",
    "                             [0.9, 0.3, -1.6, -2.8, 0.5, 0.4],\n",
    "                             [1.8, -0.5, -1.6, -2.8, -1.7, 1.7]])"
   ]
  },
  {
   "cell_type": "code",
   "execution_count": 39,
   "metadata": {
    "slideshow": {
     "slide_type": "skip"
    }
   },
   "outputs": [
    {
     "data": {
      "text/plain": [
       "array([[ 1.6],\n",
       "       [-2.3],\n",
       "       [ 0.3],\n",
       "       [-0.5]])"
      ]
     },
     "execution_count": 39,
     "metadata": {},
     "output_type": "execute_result"
    }
   ],
   "source": [
    "np.dot(model_parameters, word_one_hot)"
   ]
  },
  {
   "cell_type": "markdown",
   "metadata": {
    "slideshow": {
     "slide_type": "skip"
    }
   },
   "source": [
    "### Derivatives"
   ]
  },
  {
   "cell_type": "markdown",
   "metadata": {
    "slideshow": {
     "slide_type": "skip"
    }
   },
   "source": [
    "- Given a normal function, $f(x) = y $ , if the $x$ value changes, $y$ will change as well.\n",
    "- So if we increase $x$ by a small factor $h$, this results in a small change to $y$, i.e., $f(x+h) - f(x)$.\n",
    "- We can then compute the change of $y$ relative to the small change of $x$, i.e., $\\frac{f(x+h) - f(x)}{h}$\n",
    "- When $h$ is very very small around a certain point $p$, we can then estimate the change of $y$ at the point when  $x = p$, i.e., $\\lim_{h \\to 0} \\frac{f(x+h) - f(x)}{h}$"
   ]
  },
  {
   "cell_type": "markdown",
   "metadata": {
    "slideshow": {
     "slide_type": "skip"
    }
   },
   "source": [
    "- This instantaneous change of $y$ is called the **derivetaive** of $x$ in $p$. \n",
    "    - If it is negative, it means a small change of $x$ around $p$ will result in a decrease of $f(x)$ \n",
    "    - If it is positive, a small change in $x$ will result in an increase of $f(x)$. \n",
    "    - The absolute value (i.e., the magnitude) of the derivative indicates how quickly this increase or decrease will happen.\n",
    "- This can be mathematically represented as follows:\n",
    "\n",
    "$$\n",
    "\\frac{\\partial f}{\\partial x}= \\lim_{h \\to 0} \\frac{f(x+h) - f(x)}{h}\n",
    "$$"
   ]
  },
  {
   "cell_type": "markdown",
   "metadata": {
    "slideshow": {
     "slide_type": "skip"
    }
   },
   "source": [
    "- The **derivative** turns out to be the **slope of the tangent line** at $x = p$.\n",
    "- If we are trying to update $x$ by a factor $h$ in order to minimize $f(x)$, and we know the derivative of $\\frac{\\partial f}{\\partial x}$, we have everything we need: \n",
    "    - The derivative completely describes how $f(x)$ evolves when we change $x$. \n",
    "    - If we want to reduce the value of $f(x)$, we just need to move $x$ a little in the opposite direction from the derivative.\n",
    "- In Deep Learning, the $f(x)$ is often the **loss function**, and $x$ is often the parameter of the model.\n",
    "    - We initialize the parameter $x$ with some value $p$;\n",
    "    - We compute the loss function $f(x)$\n",
    "    - We compute the derivative of $f(x)$ when the parameter $x = p$\n",
    "    - We use the derivative to determine how to update/modify the parameter, i.e., $x_{new} = x_{old} + \\eta\\frac{\\partial f}{\\partial x} $\n",
    "    - The $\\eta$ is commonly referred to as the **learning rate**."
   ]
  },
  {
   "cell_type": "code",
   "execution_count": 40,
   "metadata": {
    "slideshow": {
     "slide_type": "skip"
    }
   },
   "outputs": [],
   "source": [
    "def numerical_diff(f, x):\n",
    "    h = 1e-4\n",
    "    return (f(x + h) - f(x - h)) / (2 * h)"
   ]
  },
  {
   "cell_type": "code",
   "execution_count": 41,
   "metadata": {
    "slideshow": {
     "slide_type": "skip"
    }
   },
   "outputs": [],
   "source": [
    "def tangent_line(f, x):\n",
    "    d = numerical_diff(f, x)  ## change of y when a very small change in x\n",
    "    #print(d)\n",
    "    # d turns out to be the slope of the tangent line\n",
    "    y = f(x) - d * x\n",
    "    return lambda t: d * t + y"
   ]
  },
  {
   "cell_type": "markdown",
   "metadata": {
    "slideshow": {
     "slide_type": "skip"
    }
   },
   "source": [
    "- Take the derivates of the following function when x = 5 and 10:\n",
    "\n",
    "$$y = 4x^2 + 2x$$"
   ]
  },
  {
   "cell_type": "code",
   "execution_count": 42,
   "metadata": {
    "slideshow": {
     "slide_type": "skip"
    }
   },
   "outputs": [],
   "source": [
    "def fun_x(x):\n",
    "    return 4.0 * x**2 + 2.0 * x"
   ]
  },
  {
   "cell_type": "code",
   "execution_count": 43,
   "metadata": {
    "slideshow": {
     "slide_type": "skip"
    }
   },
   "outputs": [],
   "source": [
    "# plot the function\n",
    "x = np.arange(0.0, 20.0, 0.1)\n",
    "y = fun_x(x)\n",
    "tf5 = tangent_line(fun_x, 5)\n",
    "y5 = tf5(x)\n",
    "\n",
    "tf10 = tangent_line(fun_x, 10)\n",
    "y10 = tf10(x)"
   ]
  },
  {
   "cell_type": "code",
   "execution_count": 44,
   "metadata": {
    "slideshow": {
     "slide_type": "skip"
    }
   },
   "outputs": [
    {
     "data": {
      "image/png": "[encoded data removed]",
      "text/plain": [
       "<Figure size 432x288 with 1 Axes>"
      ]
     },
     "metadata": {
      "filenames": {
       "image/png": "/Users/Alvin/GoogleDrive/_MySyncDrive/Repository/ENC2045/_build/jupyter_execute/nlp/dl-neural-network-from-scratch_147_0.png"
      },
      "needs_background": "light"
     },
     "output_type": "display_data"
    }
   ],
   "source": [
    "plt.xlabel(\"x\")\n",
    "plt.ylabel(\"f(x)\")\n",
    "plt.plot(x, y)\n",
    "plt.plot(x, y5)\n",
    "plt.show()"
   ]
  },
  {
   "cell_type": "code",
   "execution_count": 45,
   "metadata": {
    "slideshow": {
     "slide_type": "skip"
    }
   },
   "outputs": [
    {
     "data": {
      "image/png": "[encoded data removed]",
      "text/plain": [
       "<Figure size 432x288 with 1 Axes>"
      ]
     },
     "metadata": {
      "filenames": {
       "image/png": "/Users/Alvin/GoogleDrive/_MySyncDrive/Repository/ENC2045/_build/jupyter_execute/nlp/dl-neural-network-from-scratch_148_0.png"
      },
      "needs_background": "light"
     },
     "output_type": "display_data"
    }
   ],
   "source": [
    "plt.xlabel(\"x\")\n",
    "plt.ylabel(\"f(x)\")\n",
    "plt.plot(x, y)\n",
    "plt.plot(x, y10)\n",
    "plt.show()"
   ]
  },
  {
   "cell_type": "code",
   "execution_count": 46,
   "metadata": {
    "slideshow": {
     "slide_type": "skip"
    }
   },
   "outputs": [
    {
     "name": "stdout",
     "output_type": "stream",
     "text": [
      "41.99999999997317\n",
      "81.99999999987995\n"
     ]
    }
   ],
   "source": [
    "print(\n",
    "    numerical_diff(fun_x, 5)\n",
    ")  # small change of x when x = 5 will slighly change y in positive direction\n",
    "print(\n",
    "    numerical_diff(fun_x, 10)\n",
    ")  ## small change of x when x = 10 will greatly change y in positive direction"
   ]
  },
  {
   "cell_type": "markdown",
   "metadata": {
    "slideshow": {
     "slide_type": "skip"
    }
   },
   "source": [
    "- In python, we use the **numerical differentiation** method to find the derivative of $f(x)$ when x = 5 and 10.\n",
    "- We can use the **analytic differentiation** method and derive the **derivatie function** $f'(x)$ first:\n",
    "\n",
    "$$\n",
    "f'(x) = \\frac{\\partial f}{\\partial x}= 4x^2 + 2x = 8x + 2\n",
    "$$\n",
    "\n",
    "- Numerical differentiation produces derivatives with errors; analytic differentiation produces exact derivatives."
   ]
  },
  {
   "cell_type": "markdown",
   "metadata": {
    "slideshow": {
     "slide_type": "skip"
    }
   },
   "source": [
    "### Partial Derivatives"
   ]
  },
  {
   "cell_type": "markdown",
   "metadata": {
    "slideshow": {
     "slide_type": "skip"
    }
   },
   "source": [
    "- When a function has many parameters, we can take the derivate of the function with respect to one particular parameter. \n",
    "- This parameter-specific derivative is called **partial derivative**.\n",
    "- Take the partial derivatives of the following function:\n",
    "\n",
    "$$ f(x_0, x_1)=x_0^2 + x_1^2 $$\n",
    "\n",
    "- Once if we have defined the function for the model (e.g., the Loss Function), we can calculate to what extent the change in weights would affect the change in the function.\n",
    "- The partial derivative refers to how a change in a specific weight $x_1$ affects the function, i.e., the Loss Function or the total error.\n",
    "\n",
    "$$\\frac{\\partial f}{\\partial x_1}$$"
   ]
  },
  {
   "cell_type": "code",
   "execution_count": 47,
   "metadata": {
    "slideshow": {
     "slide_type": "skip"
    }
   },
   "outputs": [],
   "source": [
    "## fun_2 has two variables/weights\n",
    "def fun_2(x):\n",
    "    return x[0]**2 + x[1]**2"
   ]
  },
  {
   "cell_type": "markdown",
   "metadata": {
    "slideshow": {
     "slide_type": "skip"
    }
   },
   "source": [
    "- When $x_0=3$ and $x_1=4$, compute the partial derivative of $x_0$, $\\frac{\\partial f}{\\partial x_0}$"
   ]
  },
  {
   "cell_type": "code",
   "execution_count": 48,
   "metadata": {
    "slideshow": {
     "slide_type": "skip"
    }
   },
   "outputs": [
    {
     "data": {
      "text/plain": [
       "6.00000000000378"
      ]
     },
     "execution_count": 48,
     "metadata": {},
     "output_type": "execute_result"
    }
   ],
   "source": [
    "def fun_2_tmp1(x0):\n",
    "    return x0**2 + 4.0**2\n",
    "\n",
    "\n",
    "numerical_diff(fun_2_tmp1, 3.0)"
   ]
  },
  {
   "cell_type": "markdown",
   "metadata": {
    "slideshow": {
     "slide_type": "skip"
    }
   },
   "source": [
    "- When $x_0=3$ and $x_1=4$, compute the partial derivative of $x_1$, $\\frac{\\partial f}{\\partial x_1}$"
   ]
  },
  {
   "cell_type": "code",
   "execution_count": 49,
   "metadata": {
    "slideshow": {
     "slide_type": "skip"
    }
   },
   "outputs": [
    {
     "data": {
      "text/plain": [
       "7.999999999999119"
      ]
     },
     "execution_count": 49,
     "metadata": {},
     "output_type": "execute_result"
    }
   ],
   "source": [
    "def fun_2_tmp2(x1):\n",
    "    return 3.0**2 + x1**2\n",
    "\n",
    "\n",
    "numerical_diff(fun_2_tmp2, 4.0)"
   ]
  },
  {
   "cell_type": "markdown",
   "metadata": {
    "slideshow": {
     "slide_type": "slide"
    }
   },
   "source": [
    "## References\n",
    "\n",
    "- I highly recommend the following two books for deep learning with Python:\n",
    "    - [Deep Learning：用Python進行深度學習的基礎理論實作](https://www.books.com.tw/products/0010761759)\n",
    "    - [Deep Learning 2｜用Python進行自然語言處理的基礎理論實作](https://www.books.com.tw/products/0010817138?loc=P_br_r0vq68ygz_D_2aabd0_B_1)\n",
    "- This post collections a comprehensive list of learning resourcess for deep learning: [史上最完整機器學習自學攻略！我不相信有人看完這份不會把它加進我的最愛](https://buzzorange.com/techorange/2017/08/21/the-best-ai-lesson/).\n",
    "- Taylor, Michael. (2017). Neural Networks: A Visual Introduction for Beginners. (cf. Course Data) \n"
   ]
  }
 ],
 "metadata": {
  "celltoolbar": "Slideshow",
  "kernelspec": {
   "display_name": "python-notes",
   "language": "python",
   "name": "python-notes"
  },
  "language_info": {
   "codemirror_mode": {
    "name": "ipython",
    "version": 3
   },
   "file_extension": ".py",
   "mimetype": "text/x-python",
   "name": "python",
   "nbconvert_exporter": "python",
   "pygments_lexer": "ipython3",
   "version": "3.7.0"
  },
  "toc": {
   "base_numbering": 1,
   "nav_menu": {},
   "number_sections": true,
   "sideBar": true,
   "skip_h1_title": false,
   "title_cell": "Table of Contents",
   "title_sidebar": "Contents",
   "toc_cell": false,
   "toc_position": {
    "height": "calc(100% - 180px)",
    "left": "10px",
    "top": "150px",
    "width": "292.552px"
   },
   "toc_section_display": true,
   "toc_window_display": true
  },
  "varInspector": {
   "cols": {
    "lenName": 16,
    "lenType": 16,
    "lenVar": 40
   },
   "kernels_config": {
    "python": {
     "delete_cmd_postfix": "",
     "delete_cmd_prefix": "del ",
     "library": "var_list.py",
     "varRefreshCmd": "print(var_dic_list())"
    },
    "r": {
     "delete_cmd_postfix": ") ",
     "delete_cmd_prefix": "rm(",
     "library": "var_list.r",
     "varRefreshCmd": "cat(var_dic_list()) "
    }
   },
   "types_to_exclude": [
    "module",
    "function",
    "builtin_function_or_method",
    "instance",
    "_Feature"
   ],
   "window_display": false
  }
 },
 "nbformat": 4,
 "nbformat_minor": 4
}