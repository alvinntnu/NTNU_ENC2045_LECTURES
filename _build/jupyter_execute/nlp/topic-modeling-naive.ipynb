{
 "cells": [
  {
   "cell_type": "markdown",
   "metadata": {
    "slideshow": {
     "slide_type": "slide"
    }
   },
   "source": [
    "# Topic Modeling: A Naive Example"
   ]
  },
  {
   "cell_type": "markdown",
   "metadata": {},
   "source": [
    "```{contents}\n",
    "\n",
    "```"
   ]
  },
  {
   "cell_type": "markdown",
   "metadata": {
    "slideshow": {
     "slide_type": "slide"
    }
   },
   "source": [
    "## What is Topic Modeling?"
   ]
  },
  {
   "cell_type": "markdown",
   "metadata": {
    "slideshow": {
     "slide_type": "subslide"
    }
   },
   "source": [
    "- Topic modeling is an **unsupervised** learning method, whose objective is to extract the underlying semantic patterns among a collection of texts. These underlying semantic structures are commonly referred to as **topics** of the corpus.\n",
    "- In particular, topic modeling first extracts features from the words in the documents and use mathematical structures and frameworks like matrix factorization and SVD (Singular Value Decomposition) to identify clusters of words that share greater semantic coherence.\n",
    "- These clusters of words form the notions of *topics*.\n",
    "- Meanwhile, the mathematical framework will also determine the distribution of these **topics** for each document.\n"
   ]
  },
  {
   "cell_type": "markdown",
   "metadata": {
    "slideshow": {
     "slide_type": "subslide"
    }
   },
   "source": [
    "- In short, an intuitive understanding of Topic Modeling:\n",
    "    - Each **document** consists of several **topics** (a distribution of different topics).\n",
    "    - Each topic is connected to particular groups of **words** (a distribution of different words).\n",
    "    - With our current data collection, we use the mathmeatical algorithm (i.e., Latent Dirichlet Allocation) to learn these document-by-topic and topic-by-word distributions in an unsupervised way."
   ]
  },
  {
   "cell_type": "markdown",
   "metadata": {},
   "source": [
    "- Potential applications of LDA\n",
    "    - Topic discovery and document classication\n",
    "    - Information retrievel based on topic clusters\n",
    "    - Content recommendation by modeling the topics of interest to a user\n",
    "    - Understanding trends over time"
   ]
  },
  {
   "cell_type": "markdown",
   "metadata": {
    "slideshow": {
     "slide_type": "subslide"
    }
   },
   "source": [
    "## Flowchart for Topic Modeling"
   ]
  },
  {
   "cell_type": "markdown",
   "metadata": {
    "slideshow": {
     "slide_type": "subslide"
    }
   },
   "source": [
    "![](../images/topic-modeling-pipeline.jpeg)"
   ]
  },
  {
   "cell_type": "markdown",
   "metadata": {
    "slideshow": {
     "slide_type": "slide"
    }
   },
   "source": [
    "## Data Preparation and Preprocessing"
   ]
  },
  {
   "cell_type": "markdown",
   "metadata": {
    "slideshow": {
     "slide_type": "subslide"
    }
   },
   "source": [
    "### Import Necessary Dependencies and Settings"
   ]
  },
  {
   "cell_type": "code",
   "execution_count": 25,
   "metadata": {
    "slideshow": {
     "slide_type": "subslide"
    }
   },
   "outputs": [],
   "source": [
    "import warnings\n",
    "warnings.filterwarnings('ignore') ## silent non-critical warnings\n",
    "\n",
    "import pandas as pd\n",
    "import numpy as np\n",
    "import re\n",
    "import nltk\n",
    "import matplotlib.pyplot as plt\n",
    "from sklearn.feature_extraction.text import CountVectorizer\n",
    "from sklearn.decomposition import LatentDirichletAllocation\n",
    "from sklearn.cluster import KMeans\n",
    "from sklearn.decomposition import LatentDirichletAllocation\n",
    "from sklearn.model_selection import GridSearchCV\n",
    "\n",
    "pd.options.display.max_colwidth = 100\n",
    "# %matplotlib inline"
   ]
  },
  {
   "cell_type": "markdown",
   "metadata": {
    "slideshow": {
     "slide_type": "subslide"
    }
   },
   "source": [
    "### Simple Corpus\n"
   ]
  },
  {
   "cell_type": "markdown",
   "metadata": {
    "slideshow": {
     "slide_type": "subslide"
    }
   },
   "source": [
    "- We will be using again a simple corpus for illustration.\n",
    "- It is a corpus consisting of eight documents, each of which consists of a simple sentence.\n",
    "- Please note that usually for the task of topic modeling, we do not have the topic categories for the documents in the corpus. "
   ]
  },
  {
   "cell_type": "code",
   "execution_count": 2,
   "metadata": {
    "slideshow": {
     "slide_type": "subslide"
    }
   },
   "outputs": [
    {
     "data": {
      "text/html": [
       "<div>\n",
       "<style scoped>\n",
       "    .dataframe tbody tr th:only-of-type {\n",
       "        vertical-align: middle;\n",
       "    }\n",
       "\n",
       "    .dataframe tbody tr th {\n",
       "        vertical-align: top;\n",
       "    }\n",
       "\n",
       "    .dataframe thead th {\n",
       "        text-align: right;\n",
       "    }\n",
       "</style>\n",
       "<table border=\"1\" class=\"dataframe\">\n",
       "  <thead>\n",
       "    <tr style=\"text-align: right;\">\n",
       "      <th></th>\n",
       "      <th>Document</th>\n",
       "    </tr>\n",
       "  </thead>\n",
       "  <tbody>\n",
       "    <tr>\n",
       "      <th>0</th>\n",
       "      <td>The sky is blue and beautiful.</td>\n",
       "    </tr>\n",
       "    <tr>\n",
       "      <th>1</th>\n",
       "      <td>Love this blue and beautiful sky!</td>\n",
       "    </tr>\n",
       "    <tr>\n",
       "      <th>2</th>\n",
       "      <td>The quick brown fox jumps over the lazy dog.</td>\n",
       "    </tr>\n",
       "    <tr>\n",
       "      <th>3</th>\n",
       "      <td>A king's breakfast has sausages, ham, bacon, eggs, toast and beans</td>\n",
       "    </tr>\n",
       "    <tr>\n",
       "      <th>4</th>\n",
       "      <td>I love green eggs, ham, sausages and bacon!</td>\n",
       "    </tr>\n",
       "    <tr>\n",
       "      <th>5</th>\n",
       "      <td>The brown fox is quick and the blue dog is lazy!</td>\n",
       "    </tr>\n",
       "    <tr>\n",
       "      <th>6</th>\n",
       "      <td>The sky is very blue and the sky is very beautiful today</td>\n",
       "    </tr>\n",
       "    <tr>\n",
       "      <th>7</th>\n",
       "      <td>The dog is lazy but the brown fox is quick!</td>\n",
       "    </tr>\n",
       "  </tbody>\n",
       "</table>\n",
       "</div>"
      ],
      "text/plain": [
       "                                                             Document\n",
       "0                                      The sky is blue and beautiful.\n",
       "1                                   Love this blue and beautiful sky!\n",
       "2                        The quick brown fox jumps over the lazy dog.\n",
       "3  A king's breakfast has sausages, ham, bacon, eggs, toast and beans\n",
       "4                         I love green eggs, ham, sausages and bacon!\n",
       "5                    The brown fox is quick and the blue dog is lazy!\n",
       "6            The sky is very blue and the sky is very beautiful today\n",
       "7                         The dog is lazy but the brown fox is quick!"
      ]
     },
     "execution_count": 2,
     "metadata": {},
     "output_type": "execute_result"
    }
   ],
   "source": [
    "corpus = [\n",
    "    'The sky is blue and beautiful.', 'Love this blue and beautiful sky!',\n",
    "    'The quick brown fox jumps over the lazy dog.',\n",
    "    \"A king's breakfast has sausages, ham, bacon, eggs, toast and beans\",\n",
    "    'I love green eggs, ham, sausages and bacon!',\n",
    "    'The brown fox is quick and the blue dog is lazy!',\n",
    "    'The sky is very blue and the sky is very beautiful today',\n",
    "    'The dog is lazy but the brown fox is quick!'\n",
    "]\n",
    "\n",
    "corpus = np.array(corpus)\n",
    "corpus_df = pd.DataFrame({'Document': corpus})\n",
    "corpus_df = corpus_df[['Document']]\n",
    "corpus_df"
   ]
  },
  {
   "cell_type": "markdown",
   "metadata": {
    "slideshow": {
     "slide_type": "subslide"
    }
   },
   "source": [
    "### Simple Text Pre-processing"
   ]
  },
  {
   "cell_type": "markdown",
   "metadata": {
    "slideshow": {
     "slide_type": "subslide"
    }
   },
   "source": [
    "- Depending on the nature of the raw corpus data, we may need to implement more specific steps in text preprocessing.\n",
    "- In our current naive example, we may consider:\n",
    "    - removing symbols and punctuations\n",
    "    - normalizing the letter case\n",
    "    - stripping unnecessary/redundant whitespaces\n",
    "    - removing stopwords (which requires an intermediate tokenization step)\n"
   ]
  },
  {
   "cell_type": "markdown",
   "metadata": {
    "slideshow": {
     "slide_type": "subslide"
    }
   },
   "source": [
    ":::{tip}\n",
    "\n",
    "Other important considerations in text preprocessing include:\n",
    "- whether to remove hyphens\n",
    "- whether to lemmatize word forms\n",
    "- whether to stemmatize word forms\n",
    "- whether to remove short word tokens (e.g., disyllabic or multisyllabic words)\n",
    "- whether to remove unknown words (e.g., words not listed in WordNet)\n",
    "- whether to remove functional words (e.g., including only content words, such as nouns, verbs, adjectives)\n",
    ":::"
   ]
  },
  {
   "cell_type": "code",
   "execution_count": 3,
   "metadata": {
    "slideshow": {
     "slide_type": "subslide"
    }
   },
   "outputs": [],
   "source": [
    "## Initialize word-tokenizer\n",
    "wpt = nltk.WordPunctTokenizer()\n",
    "\n",
    "## Prepare English stopword list\n",
    "stop_words = nltk.corpus.stopwords.words('english')\n",
    "\n",
    "\n",
    "def normalize_document(doc):\n",
    "    doc = re.sub(r'[^a-zA-Z\\s]', '', doc, re.I | re.A) ## punks, symbols\n",
    "    doc = doc.lower() ## casing\n",
    "    doc = doc.strip() ## redundant spaces\n",
    "    tokens = wpt.tokenize(doc) ## word-tokenize\n",
    "    filtered_tokens = [token for token in tokens if token not in stop_words] ## stopwords\n",
    "    doc = ' '.join(filtered_tokens) ## concat\n",
    "    return doc\n",
    "\n",
    "## Vectorize the function (applicable to a list)\n",
    "normalize_corpus = np.vectorize(normalize_document)"
   ]
  },
  {
   "cell_type": "code",
   "execution_count": 4,
   "metadata": {
    "slideshow": {
     "slide_type": "subslide"
    }
   },
   "outputs": [
    {
     "data": {
      "text/plain": [
       "array(['sky blue beautiful', 'love blue beautiful sky',\n",
       "       'quick brown fox jumps lazy dog',\n",
       "       'kings breakfast sausages ham bacon eggs toast beans',\n",
       "       'love green eggs ham sausages bacon',\n",
       "       'brown fox quick blue dog lazy', 'sky blue sky beautiful today',\n",
       "       'dog lazy brown fox quick'], dtype='<U51')"
      ]
     },
     "execution_count": 4,
     "metadata": {},
     "output_type": "execute_result"
    }
   ],
   "source": [
    "## proprocess corpus\n",
    "norm_corpus = normalize_corpus(corpus)\n",
    "norm_corpus"
   ]
  },
  {
   "cell_type": "markdown",
   "metadata": {
    "slideshow": {
     "slide_type": "subslide"
    }
   },
   "source": [
    "- The `norm_corpus` will be the input for our next step, text vectorization."
   ]
  },
  {
   "cell_type": "markdown",
   "metadata": {
    "slideshow": {
     "slide_type": "slide"
    }
   },
   "source": [
    "## Text Vectorization"
   ]
  },
  {
   "cell_type": "markdown",
   "metadata": {
    "slideshow": {
     "slide_type": "subslide"
    }
   },
   "source": [
    "### Bag of Words Model"
   ]
  },
  {
   "cell_type": "markdown",
   "metadata": {
    "slideshow": {
     "slide_type": "subslide"
    }
   },
   "source": [
    "- In topic modeling, the simplest method of text vectorization involves using the naive Bag-of-Words (BOW) model.\n",
    "- Key characteristics of the BOW model:\n",
    "    - It converts texts into numeric representations by tallying the frequency of words in the corpus vocabulary.\n",
    "    - Sequential word order is disregarded in this approach.\n",
    "    - Various filtering techniques can be applied to the document-by-word matrix. (For more details, refer to the lecture notes on [Lecture Notes: Text Vectorization](../nlp/text-vec-traditional.ipynb))\n",
    "- For topic modeling, it's advisable to utilize the **count-based** vectorizer. Most topic modeling algorithms will handle weightings during mathematical computations."
   ]
  },
  {
   "cell_type": "markdown",
   "metadata": {},
   "source": [
    ":::{warning}\n",
    "- We should use `CountVectorizer` instead of `TfidfVectorizer` when fitting LDA  because LDA is based on term count and document count. \n",
    "- Fitting LDA with `TfidfVectorizer` will result in rare words being dis-proportionally sampled. \n",
    "- As a result, they will have greater impact and influence on the final topic distribution.\n",
    ":::"
   ]
  },
  {
   "cell_type": "code",
   "execution_count": 5,
   "metadata": {
    "slideshow": {
     "slide_type": "subslide"
    }
   },
   "outputs": [
    {
     "data": {
      "text/plain": [
       "<8x20 sparse matrix of type '<class 'numpy.int64'>'\n",
       "\twith 42 stored elements in Compressed Sparse Row format>"
      ]
     },
     "execution_count": 5,
     "metadata": {},
     "output_type": "execute_result"
    }
   ],
   "source": [
    "## Countvectorize\n",
    "cv = CountVectorizer(min_df=0., max_df=1.)\n",
    "cv_matrix = cv.fit_transform(norm_corpus)\n",
    "cv_matrix"
   ]
  },
  {
   "cell_type": "code",
   "execution_count": 6,
   "metadata": {
    "slideshow": {
     "slide_type": "subslide"
    }
   },
   "outputs": [
    {
     "data": {
      "text/plain": [
       "array([[0, 0, 1, 1, 0, 0, 0, 0, 0, 0, 0, 0, 0, 0, 0, 0, 0, 1, 0, 0],\n",
       "       [0, 0, 1, 1, 0, 0, 0, 0, 0, 0, 0, 0, 0, 0, 1, 0, 0, 1, 0, 0],\n",
       "       [0, 0, 0, 0, 0, 1, 1, 0, 1, 0, 0, 1, 0, 1, 0, 1, 0, 0, 0, 0],\n",
       "       [1, 1, 0, 0, 1, 0, 0, 1, 0, 0, 1, 0, 1, 0, 0, 0, 1, 0, 1, 0],\n",
       "       [1, 0, 0, 0, 0, 0, 0, 1, 0, 1, 1, 0, 0, 0, 1, 0, 1, 0, 0, 0],\n",
       "       [0, 0, 0, 1, 0, 1, 1, 0, 1, 0, 0, 0, 0, 1, 0, 1, 0, 0, 0, 0],\n",
       "       [0, 0, 1, 1, 0, 0, 0, 0, 0, 0, 0, 0, 0, 0, 0, 0, 0, 2, 0, 1],\n",
       "       [0, 0, 0, 0, 0, 1, 1, 0, 1, 0, 0, 0, 0, 1, 0, 1, 0, 0, 0, 0]])"
      ]
     },
     "execution_count": 6,
     "metadata": {},
     "output_type": "execute_result"
    }
   ],
   "source": [
    "## Inspect BOA matrix\n",
    "## warning might give a memory error if data is too big\n",
    "cv_matrix = cv_matrix.toarray()\n",
    "cv_matrix"
   ]
  },
  {
   "cell_type": "code",
   "execution_count": 7,
   "metadata": {
    "slideshow": {
     "slide_type": "subslide"
    }
   },
   "outputs": [
    {
     "data": {
      "text/html": [
       "<div>\n",
       "<style scoped>\n",
       "    .dataframe tbody tr th:only-of-type {\n",
       "        vertical-align: middle;\n",
       "    }\n",
       "\n",
       "    .dataframe tbody tr th {\n",
       "        vertical-align: top;\n",
       "    }\n",
       "\n",
       "    .dataframe thead th {\n",
       "        text-align: right;\n",
       "    }\n",
       "</style>\n",
       "<table border=\"1\" class=\"dataframe\">\n",
       "  <thead>\n",
       "    <tr style=\"text-align: right;\">\n",
       "      <th></th>\n",
       "      <th>bacon</th>\n",
       "      <th>beans</th>\n",
       "      <th>beautiful</th>\n",
       "      <th>blue</th>\n",
       "      <th>breakfast</th>\n",
       "      <th>brown</th>\n",
       "      <th>dog</th>\n",
       "      <th>eggs</th>\n",
       "      <th>fox</th>\n",
       "      <th>green</th>\n",
       "      <th>ham</th>\n",
       "      <th>jumps</th>\n",
       "      <th>kings</th>\n",
       "      <th>lazy</th>\n",
       "      <th>love</th>\n",
       "      <th>quick</th>\n",
       "      <th>sausages</th>\n",
       "      <th>sky</th>\n",
       "      <th>toast</th>\n",
       "      <th>today</th>\n",
       "    </tr>\n",
       "  </thead>\n",
       "  <tbody>\n",
       "    <tr>\n",
       "      <th>0</th>\n",
       "      <td>0</td>\n",
       "      <td>0</td>\n",
       "      <td>1</td>\n",
       "      <td>1</td>\n",
       "      <td>0</td>\n",
       "      <td>0</td>\n",
       "      <td>0</td>\n",
       "      <td>0</td>\n",
       "      <td>0</td>\n",
       "      <td>0</td>\n",
       "      <td>0</td>\n",
       "      <td>0</td>\n",
       "      <td>0</td>\n",
       "      <td>0</td>\n",
       "      <td>0</td>\n",
       "      <td>0</td>\n",
       "      <td>0</td>\n",
       "      <td>1</td>\n",
       "      <td>0</td>\n",
       "      <td>0</td>\n",
       "    </tr>\n",
       "    <tr>\n",
       "      <th>1</th>\n",
       "      <td>0</td>\n",
       "      <td>0</td>\n",
       "      <td>1</td>\n",
       "      <td>1</td>\n",
       "      <td>0</td>\n",
       "      <td>0</td>\n",
       "      <td>0</td>\n",
       "      <td>0</td>\n",
       "      <td>0</td>\n",
       "      <td>0</td>\n",
       "      <td>0</td>\n",
       "      <td>0</td>\n",
       "      <td>0</td>\n",
       "      <td>0</td>\n",
       "      <td>1</td>\n",
       "      <td>0</td>\n",
       "      <td>0</td>\n",
       "      <td>1</td>\n",
       "      <td>0</td>\n",
       "      <td>0</td>\n",
       "    </tr>\n",
       "    <tr>\n",
       "      <th>2</th>\n",
       "      <td>0</td>\n",
       "      <td>0</td>\n",
       "      <td>0</td>\n",
       "      <td>0</td>\n",
       "      <td>0</td>\n",
       "      <td>1</td>\n",
       "      <td>1</td>\n",
       "      <td>0</td>\n",
       "      <td>1</td>\n",
       "      <td>0</td>\n",
       "      <td>0</td>\n",
       "      <td>1</td>\n",
       "      <td>0</td>\n",
       "      <td>1</td>\n",
       "      <td>0</td>\n",
       "      <td>1</td>\n",
       "      <td>0</td>\n",
       "      <td>0</td>\n",
       "      <td>0</td>\n",
       "      <td>0</td>\n",
       "    </tr>\n",
       "    <tr>\n",
       "      <th>3</th>\n",
       "      <td>1</td>\n",
       "      <td>1</td>\n",
       "      <td>0</td>\n",
       "      <td>0</td>\n",
       "      <td>1</td>\n",
       "      <td>0</td>\n",
       "      <td>0</td>\n",
       "      <td>1</td>\n",
       "      <td>0</td>\n",
       "      <td>0</td>\n",
       "      <td>1</td>\n",
       "      <td>0</td>\n",
       "      <td>1</td>\n",
       "      <td>0</td>\n",
       "      <td>0</td>\n",
       "      <td>0</td>\n",
       "      <td>1</td>\n",
       "      <td>0</td>\n",
       "      <td>1</td>\n",
       "      <td>0</td>\n",
       "    </tr>\n",
       "    <tr>\n",
       "      <th>4</th>\n",
       "      <td>1</td>\n",
       "      <td>0</td>\n",
       "      <td>0</td>\n",
       "      <td>0</td>\n",
       "      <td>0</td>\n",
       "      <td>0</td>\n",
       "      <td>0</td>\n",
       "      <td>1</td>\n",
       "      <td>0</td>\n",
       "      <td>1</td>\n",
       "      <td>1</td>\n",
       "      <td>0</td>\n",
       "      <td>0</td>\n",
       "      <td>0</td>\n",
       "      <td>1</td>\n",
       "      <td>0</td>\n",
       "      <td>1</td>\n",
       "      <td>0</td>\n",
       "      <td>0</td>\n",
       "      <td>0</td>\n",
       "    </tr>\n",
       "    <tr>\n",
       "      <th>5</th>\n",
       "      <td>0</td>\n",
       "      <td>0</td>\n",
       "      <td>0</td>\n",
       "      <td>1</td>\n",
       "      <td>0</td>\n",
       "      <td>1</td>\n",
       "      <td>1</td>\n",
       "      <td>0</td>\n",
       "      <td>1</td>\n",
       "      <td>0</td>\n",
       "      <td>0</td>\n",
       "      <td>0</td>\n",
       "      <td>0</td>\n",
       "      <td>1</td>\n",
       "      <td>0</td>\n",
       "      <td>1</td>\n",
       "      <td>0</td>\n",
       "      <td>0</td>\n",
       "      <td>0</td>\n",
       "      <td>0</td>\n",
       "    </tr>\n",
       "    <tr>\n",
       "      <th>6</th>\n",
       "      <td>0</td>\n",
       "      <td>0</td>\n",
       "      <td>1</td>\n",
       "      <td>1</td>\n",
       "      <td>0</td>\n",
       "      <td>0</td>\n",
       "      <td>0</td>\n",
       "      <td>0</td>\n",
       "      <td>0</td>\n",
       "      <td>0</td>\n",
       "      <td>0</td>\n",
       "      <td>0</td>\n",
       "      <td>0</td>\n",
       "      <td>0</td>\n",
       "      <td>0</td>\n",
       "      <td>0</td>\n",
       "      <td>0</td>\n",
       "      <td>2</td>\n",
       "      <td>0</td>\n",
       "      <td>1</td>\n",
       "    </tr>\n",
       "    <tr>\n",
       "      <th>7</th>\n",
       "      <td>0</td>\n",
       "      <td>0</td>\n",
       "      <td>0</td>\n",
       "      <td>0</td>\n",
       "      <td>0</td>\n",
       "      <td>1</td>\n",
       "      <td>1</td>\n",
       "      <td>0</td>\n",
       "      <td>1</td>\n",
       "      <td>0</td>\n",
       "      <td>0</td>\n",
       "      <td>0</td>\n",
       "      <td>0</td>\n",
       "      <td>1</td>\n",
       "      <td>0</td>\n",
       "      <td>1</td>\n",
       "      <td>0</td>\n",
       "      <td>0</td>\n",
       "      <td>0</td>\n",
       "      <td>0</td>\n",
       "    </tr>\n",
       "  </tbody>\n",
       "</table>\n",
       "</div>"
      ],
      "text/plain": [
       "   bacon  beans  beautiful  blue  breakfast  brown  dog  eggs  fox  green  \\\n",
       "0      0      0          1     1          0      0    0     0    0      0   \n",
       "1      0      0          1     1          0      0    0     0    0      0   \n",
       "2      0      0          0     0          0      1    1     0    1      0   \n",
       "3      1      1          0     0          1      0    0     1    0      0   \n",
       "4      1      0          0     0          0      0    0     1    0      1   \n",
       "5      0      0          0     1          0      1    1     0    1      0   \n",
       "6      0      0          1     1          0      0    0     0    0      0   \n",
       "7      0      0          0     0          0      1    1     0    1      0   \n",
       "\n",
       "   ham  jumps  kings  lazy  love  quick  sausages  sky  toast  today  \n",
       "0    0      0      0     0     0      0         0    1      0      0  \n",
       "1    0      0      0     0     1      0         0    1      0      0  \n",
       "2    0      1      0     1     0      1         0    0      0      0  \n",
       "3    1      0      1     0     0      0         1    0      1      0  \n",
       "4    1      0      0     0     1      0         1    0      0      0  \n",
       "5    0      0      0     1     0      1         0    0      0      0  \n",
       "6    0      0      0     0     0      0         0    2      0      1  \n",
       "7    0      0      0     1     0      1         0    0      0      0  "
      ]
     },
     "execution_count": 7,
     "metadata": {},
     "output_type": "execute_result"
    }
   ],
   "source": [
    "## Check all lexical features\n",
    "vocab = cv.get_feature_names_out()\n",
    "\n",
    "## View BOA in df\n",
    "pd.DataFrame(cv_matrix, columns=vocab)"
   ]
  },
  {
   "cell_type": "markdown",
   "metadata": {
    "slideshow": {
     "slide_type": "slide"
    }
   },
   "source": [
    "## Latent Dirichlet Allocation"
   ]
  },
  {
   "cell_type": "markdown",
   "metadata": {
    "slideshow": {
     "slide_type": "subslide"
    }
   },
   "source": [
    "### Intuition of LDA"
   ]
  },
  {
   "cell_type": "markdown",
   "metadata": {
    "slideshow": {
     "slide_type": "subslide"
    }
   },
   "source": [
    "- Latent Dirichlet Allocation (LDA) is a method used to uncover the underlying themes or topics in a collection of documents. \n",
    "- In LDA, a \"topic\" represents a distribution of words across the entire vocabulary of the corpus. Essentially, it tells us which words are likely to co-occur together within a topic. \n",
    "- Specifically, LDA operates by assuming that each document is generated based on two crucial probabilistic models: document-by-topic and topic-by-word models. "
   ]
  },
  {
   "cell_type": "markdown",
   "metadata": {
    "slideshow": {
     "slide_type": "subslide"
    }
   },
   "source": [
    "- LDA provides us with two main matrices:\n",
    "    - the Topic by Word Matrix, which shows the likelihood of words being associated with specific topics;\n",
    "    - the Document by Topic Matrix, which indicates the likelihood of documents being associated with specific topics.    "
   ]
  },
  {
   "cell_type": "markdown",
   "metadata": {
    "slideshow": {
     "slide_type": "subslide"
    }
   },
   "source": [
    "- To understand a topic, we look at the ranked list of the most probable words within that topic. However, since common words often rank high across multiple topics, it can be challenging to distinguish between them. \n",
    "- To overcome this, LDA offers insights into both the frequency of words within each topic and the exclusivity (i.e., the association) of words to a particular topic, helping us understand how strongly each word relates to its assigned topic."
   ]
  },
  {
   "cell_type": "markdown",
   "metadata": {
    "slideshow": {
     "slide_type": "subslide"
    }
   },
   "source": [
    "### Building LDA Model"
   ]
  },
  {
   "cell_type": "code",
   "execution_count": 8,
   "metadata": {
    "slideshow": {
     "slide_type": "subslide"
    }
   },
   "outputs": [
    {
     "name": "stdout",
     "output_type": "stream",
     "text": [
      "CPU times: user 1.81 s, sys: 1.87 ms, total: 1.81 s\n",
      "Wall time: 1.83 s\n"
     ]
    }
   ],
   "source": [
    "%%time \n",
    "\n",
    "lda = LatentDirichletAllocation(n_components=3,  ## Number of topics to generate by the LDA model.\n",
    "                                max_iter=10000,  ## Maximum number of iterations for the optimization algorithm.\n",
    "                                random_state=0)  ## Random Seed\n",
    "\n",
    "doc_topic_matrix = lda.fit_transform(cv_matrix)  # Fit the LDA model"
   ]
  },
  {
   "cell_type": "markdown",
   "metadata": {
    "slideshow": {
     "slide_type": "subslide"
    }
   },
   "source": [
    "### Model Performance Metrics"
   ]
  },
  {
   "cell_type": "markdown",
   "metadata": {
    "slideshow": {
     "slide_type": "subslide"
    }
   },
   "source": [
    "- In topic modeling, we can diagnose the model performance using **perplexity** and **log-likelihood**.\n",
    "    - The higher the log-likelihood, the better.\n",
    "    - The lower the perplexity, the better."
   ]
  },
  {
   "cell_type": "code",
   "execution_count": 9,
   "metadata": {
    "slideshow": {
     "slide_type": "subslide"
    }
   },
   "outputs": [
    {
     "name": "stdout",
     "output_type": "stream",
     "text": [
      "-138.9126330364425\n",
      "25.292966412842105\n"
     ]
    }
   ],
   "source": [
    "## log-likelihood\n",
    "print(lda.score(cv_matrix))\n",
    "\n",
    "## perplexity\n",
    "print(lda.perplexity(cv_matrix))"
   ]
  },
  {
   "cell_type": "markdown",
   "metadata": {
    "slideshow": {
     "slide_type": "slide"
    }
   },
   "source": [
    "## Interpretation"
   ]
  },
  {
   "cell_type": "markdown",
   "metadata": {
    "slideshow": {
     "slide_type": "subslide"
    }
   },
   "source": [
    "- To properly interpret the results provided by LDA, we need to get the two important probabilistic models:\n",
    "    - **Document-by-Topic** Matrix: This is the matrix returned by the `LatentDirichletAllocation` object when we `fit_transform()` the model with the data.\n",
    "    - **Word-by-Topic** Matrix: We can retrieve this matrix from a fitted `LatentDirichletAllocation` object. i.e., `LatentDirichletAllocation.components_`"
   ]
  },
  {
   "cell_type": "markdown",
   "metadata": {},
   "source": [
    "- We have 8 documents and our vocabulary size is 20 (words).\n",
    "- We can check the shapes of the two matrices."
   ]
  },
  {
   "cell_type": "code",
   "execution_count": 10,
   "metadata": {},
   "outputs": [
    {
     "name": "stdout",
     "output_type": "stream",
     "text": [
      "(8, 3)\n",
      "(3, 20)\n"
     ]
    }
   ],
   "source": [
    "print(doc_topic_matrix.shape) ## doc-by-topic matrix\n",
    "print(lda.components_.shape) ## topic-by-word- matrix\n"
   ]
  },
  {
   "cell_type": "markdown",
   "metadata": {
    "slideshow": {
     "slide_type": "subslide"
    }
   },
   "source": [
    "### Document-by-Topic Matrix"
   ]
  },
  {
   "cell_type": "markdown",
   "metadata": {
    "slideshow": {
     "slide_type": "subslide"
    }
   },
   "source": [
    "- In **Document-by-Topic** matrix, we can see how each document in the corpus (**row**) is connected to each **topic**.\n",
    "- In particular, the numbers refer to the probability value of a specific document being connected to a particular topic."
   ]
  },
  {
   "cell_type": "code",
   "execution_count": 11,
   "metadata": {
    "slideshow": {
     "slide_type": "subslide"
    }
   },
   "outputs": [
    {
     "data": {
      "text/html": [
       "<div>\n",
       "<style scoped>\n",
       "    .dataframe tbody tr th:only-of-type {\n",
       "        vertical-align: middle;\n",
       "    }\n",
       "\n",
       "    .dataframe tbody tr th {\n",
       "        vertical-align: top;\n",
       "    }\n",
       "\n",
       "    .dataframe thead th {\n",
       "        text-align: right;\n",
       "    }\n",
       "</style>\n",
       "<table border=\"1\" class=\"dataframe\">\n",
       "  <thead>\n",
       "    <tr style=\"text-align: right;\">\n",
       "      <th></th>\n",
       "      <th>T1</th>\n",
       "      <th>T2</th>\n",
       "      <th>T3</th>\n",
       "    </tr>\n",
       "  </thead>\n",
       "  <tbody>\n",
       "    <tr>\n",
       "      <th>0</th>\n",
       "      <td>0.832191</td>\n",
       "      <td>0.083480</td>\n",
       "      <td>0.084329</td>\n",
       "    </tr>\n",
       "    <tr>\n",
       "      <th>1</th>\n",
       "      <td>0.863554</td>\n",
       "      <td>0.069100</td>\n",
       "      <td>0.067346</td>\n",
       "    </tr>\n",
       "    <tr>\n",
       "      <th>2</th>\n",
       "      <td>0.047794</td>\n",
       "      <td>0.047776</td>\n",
       "      <td>0.904430</td>\n",
       "    </tr>\n",
       "    <tr>\n",
       "      <th>3</th>\n",
       "      <td>0.037243</td>\n",
       "      <td>0.925559</td>\n",
       "      <td>0.037198</td>\n",
       "    </tr>\n",
       "    <tr>\n",
       "      <th>4</th>\n",
       "      <td>0.049121</td>\n",
       "      <td>0.903076</td>\n",
       "      <td>0.047802</td>\n",
       "    </tr>\n",
       "    <tr>\n",
       "      <th>5</th>\n",
       "      <td>0.054902</td>\n",
       "      <td>0.047778</td>\n",
       "      <td>0.897321</td>\n",
       "    </tr>\n",
       "    <tr>\n",
       "      <th>6</th>\n",
       "      <td>0.888287</td>\n",
       "      <td>0.055697</td>\n",
       "      <td>0.056016</td>\n",
       "    </tr>\n",
       "    <tr>\n",
       "      <th>7</th>\n",
       "      <td>0.055704</td>\n",
       "      <td>0.055689</td>\n",
       "      <td>0.888607</td>\n",
       "    </tr>\n",
       "  </tbody>\n",
       "</table>\n",
       "</div>"
      ],
      "text/plain": [
       "         T1        T2        T3\n",
       "0  0.832191  0.083480  0.084329\n",
       "1  0.863554  0.069100  0.067346\n",
       "2  0.047794  0.047776  0.904430\n",
       "3  0.037243  0.925559  0.037198\n",
       "4  0.049121  0.903076  0.047802\n",
       "5  0.054902  0.047778  0.897321\n",
       "6  0.888287  0.055697  0.056016\n",
       "7  0.055704  0.055689  0.888607"
      ]
     },
     "execution_count": 11,
     "metadata": {},
     "output_type": "execute_result"
    }
   ],
   "source": [
    "## doc-topic matrix\n",
    "doc_topic_df = pd.DataFrame(doc_topic_matrix, columns=['T1', 'T2', 'T3'])\n",
    "doc_topic_df"
   ]
  },
  {
   "cell_type": "markdown",
   "metadata": {
    "slideshow": {
     "slide_type": "subslide"
    }
   },
   "source": [
    "### Topic-by-Word Matrix"
   ]
  },
  {
   "cell_type": "markdown",
   "metadata": {
    "slideshow": {
     "slide_type": "subslide"
    }
   },
   "source": [
    "- In **Topic-by-Word** matrix, we can see how each topic (**row**) is connected to each word in the BOW.\n",
    "- In particular, the numbers refer to the importance of the word with respect to each topic."
   ]
  },
  {
   "cell_type": "code",
   "execution_count": 12,
   "metadata": {
    "slideshow": {
     "slide_type": "subslide"
    }
   },
   "outputs": [],
   "source": [
    "topic_word_matrix = lda.components_"
   ]
  },
  {
   "cell_type": "code",
   "execution_count": 13,
   "metadata": {
    "slideshow": {
     "slide_type": "subslide"
    }
   },
   "outputs": [
    {
     "data": {
      "text/html": [
       "<div>\n",
       "<style scoped>\n",
       "    .dataframe tbody tr th:only-of-type {\n",
       "        vertical-align: middle;\n",
       "    }\n",
       "\n",
       "    .dataframe tbody tr th {\n",
       "        vertical-align: top;\n",
       "    }\n",
       "\n",
       "    .dataframe thead th {\n",
       "        text-align: right;\n",
       "    }\n",
       "</style>\n",
       "<table border=\"1\" class=\"dataframe\">\n",
       "  <thead>\n",
       "    <tr style=\"text-align: right;\">\n",
       "      <th></th>\n",
       "      <th>bacon</th>\n",
       "      <th>beans</th>\n",
       "      <th>beautiful</th>\n",
       "      <th>blue</th>\n",
       "      <th>breakfast</th>\n",
       "      <th>brown</th>\n",
       "      <th>dog</th>\n",
       "      <th>eggs</th>\n",
       "      <th>fox</th>\n",
       "      <th>green</th>\n",
       "      <th>ham</th>\n",
       "      <th>jumps</th>\n",
       "      <th>kings</th>\n",
       "      <th>lazy</th>\n",
       "      <th>love</th>\n",
       "      <th>quick</th>\n",
       "      <th>sausages</th>\n",
       "      <th>sky</th>\n",
       "      <th>toast</th>\n",
       "      <th>today</th>\n",
       "    </tr>\n",
       "  </thead>\n",
       "  <tbody>\n",
       "    <tr>\n",
       "      <th>0</th>\n",
       "      <td>0.333699</td>\n",
       "      <td>0.333647</td>\n",
       "      <td>3.332365</td>\n",
       "      <td>3.373774</td>\n",
       "      <td>0.333647</td>\n",
       "      <td>0.333891</td>\n",
       "      <td>0.333891</td>\n",
       "      <td>0.333699</td>\n",
       "      <td>0.333891</td>\n",
       "      <td>0.333793</td>\n",
       "      <td>0.333699</td>\n",
       "      <td>0.333814</td>\n",
       "      <td>0.333647</td>\n",
       "      <td>0.333891</td>\n",
       "      <td>1.330416</td>\n",
       "      <td>0.333891</td>\n",
       "      <td>0.333699</td>\n",
       "      <td>4.332439</td>\n",
       "      <td>0.333647</td>\n",
       "      <td>1.332558</td>\n",
       "    </tr>\n",
       "    <tr>\n",
       "      <th>1</th>\n",
       "      <td>2.332696</td>\n",
       "      <td>1.332774</td>\n",
       "      <td>0.333853</td>\n",
       "      <td>0.334283</td>\n",
       "      <td>1.332774</td>\n",
       "      <td>0.333761</td>\n",
       "      <td>0.333761</td>\n",
       "      <td>2.332696</td>\n",
       "      <td>0.333761</td>\n",
       "      <td>1.332543</td>\n",
       "      <td>2.332696</td>\n",
       "      <td>0.333767</td>\n",
       "      <td>1.332774</td>\n",
       "      <td>0.333761</td>\n",
       "      <td>1.335461</td>\n",
       "      <td>0.333761</td>\n",
       "      <td>2.332696</td>\n",
       "      <td>0.333812</td>\n",
       "      <td>1.332774</td>\n",
       "      <td>0.333744</td>\n",
       "    </tr>\n",
       "    <tr>\n",
       "      <th>2</th>\n",
       "      <td>0.333606</td>\n",
       "      <td>0.333579</td>\n",
       "      <td>0.333782</td>\n",
       "      <td>1.291942</td>\n",
       "      <td>0.333579</td>\n",
       "      <td>3.332347</td>\n",
       "      <td>3.332347</td>\n",
       "      <td>0.333606</td>\n",
       "      <td>3.332347</td>\n",
       "      <td>0.333664</td>\n",
       "      <td>0.333606</td>\n",
       "      <td>1.332419</td>\n",
       "      <td>0.333579</td>\n",
       "      <td>3.332347</td>\n",
       "      <td>0.334123</td>\n",
       "      <td>3.332347</td>\n",
       "      <td>0.333606</td>\n",
       "      <td>0.333749</td>\n",
       "      <td>0.333579</td>\n",
       "      <td>0.333698</td>\n",
       "    </tr>\n",
       "  </tbody>\n",
       "</table>\n",
       "</div>"
      ],
      "text/plain": [
       "      bacon     beans  beautiful      blue  breakfast     brown       dog  \\\n",
       "0  0.333699  0.333647   3.332365  3.373774   0.333647  0.333891  0.333891   \n",
       "1  2.332696  1.332774   0.333853  0.334283   1.332774  0.333761  0.333761   \n",
       "2  0.333606  0.333579   0.333782  1.291942   0.333579  3.332347  3.332347   \n",
       "\n",
       "       eggs       fox     green       ham     jumps     kings      lazy  \\\n",
       "0  0.333699  0.333891  0.333793  0.333699  0.333814  0.333647  0.333891   \n",
       "1  2.332696  0.333761  1.332543  2.332696  0.333767  1.332774  0.333761   \n",
       "2  0.333606  3.332347  0.333664  0.333606  1.332419  0.333579  3.332347   \n",
       "\n",
       "       love     quick  sausages       sky     toast     today  \n",
       "0  1.330416  0.333891  0.333699  4.332439  0.333647  1.332558  \n",
       "1  1.335461  0.333761  2.332696  0.333812  1.332774  0.333744  \n",
       "2  0.334123  3.332347  0.333606  0.333749  0.333579  0.333698  "
      ]
     },
     "execution_count": 13,
     "metadata": {},
     "output_type": "execute_result"
    }
   ],
   "source": [
    "pd.DataFrame(topic_word_matrix, columns=vocab)"
   ]
  },
  {
   "cell_type": "markdown",
   "metadata": {
    "slideshow": {
     "slide_type": "subslide"
    }
   },
   "source": [
    "- We can transpose the matrix for clarity of inspection (With each topic on the column)."
   ]
  },
  {
   "cell_type": "code",
   "execution_count": 14,
   "metadata": {
    "slideshow": {
     "slide_type": "subslide"
    }
   },
   "outputs": [
    {
     "data": {
      "text/html": [
       "<div>\n",
       "<style scoped>\n",
       "    .dataframe tbody tr th:only-of-type {\n",
       "        vertical-align: middle;\n",
       "    }\n",
       "\n",
       "    .dataframe tbody tr th {\n",
       "        vertical-align: top;\n",
       "    }\n",
       "\n",
       "    .dataframe thead th {\n",
       "        text-align: right;\n",
       "    }\n",
       "</style>\n",
       "<table border=\"1\" class=\"dataframe\">\n",
       "  <thead>\n",
       "    <tr style=\"text-align: right;\">\n",
       "      <th></th>\n",
       "      <th>0</th>\n",
       "      <th>1</th>\n",
       "      <th>2</th>\n",
       "    </tr>\n",
       "  </thead>\n",
       "  <tbody>\n",
       "    <tr>\n",
       "      <th>bacon</th>\n",
       "      <td>0.333699</td>\n",
       "      <td>2.332696</td>\n",
       "      <td>0.333606</td>\n",
       "    </tr>\n",
       "    <tr>\n",
       "      <th>beans</th>\n",
       "      <td>0.333647</td>\n",
       "      <td>1.332774</td>\n",
       "      <td>0.333579</td>\n",
       "    </tr>\n",
       "    <tr>\n",
       "      <th>beautiful</th>\n",
       "      <td>3.332365</td>\n",
       "      <td>0.333853</td>\n",
       "      <td>0.333782</td>\n",
       "    </tr>\n",
       "    <tr>\n",
       "      <th>blue</th>\n",
       "      <td>3.373774</td>\n",
       "      <td>0.334283</td>\n",
       "      <td>1.291942</td>\n",
       "    </tr>\n",
       "    <tr>\n",
       "      <th>breakfast</th>\n",
       "      <td>0.333647</td>\n",
       "      <td>1.332774</td>\n",
       "      <td>0.333579</td>\n",
       "    </tr>\n",
       "    <tr>\n",
       "      <th>brown</th>\n",
       "      <td>0.333891</td>\n",
       "      <td>0.333761</td>\n",
       "      <td>3.332347</td>\n",
       "    </tr>\n",
       "    <tr>\n",
       "      <th>dog</th>\n",
       "      <td>0.333891</td>\n",
       "      <td>0.333761</td>\n",
       "      <td>3.332347</td>\n",
       "    </tr>\n",
       "    <tr>\n",
       "      <th>eggs</th>\n",
       "      <td>0.333699</td>\n",
       "      <td>2.332696</td>\n",
       "      <td>0.333606</td>\n",
       "    </tr>\n",
       "    <tr>\n",
       "      <th>fox</th>\n",
       "      <td>0.333891</td>\n",
       "      <td>0.333761</td>\n",
       "      <td>3.332347</td>\n",
       "    </tr>\n",
       "    <tr>\n",
       "      <th>green</th>\n",
       "      <td>0.333793</td>\n",
       "      <td>1.332543</td>\n",
       "      <td>0.333664</td>\n",
       "    </tr>\n",
       "    <tr>\n",
       "      <th>ham</th>\n",
       "      <td>0.333699</td>\n",
       "      <td>2.332696</td>\n",
       "      <td>0.333606</td>\n",
       "    </tr>\n",
       "    <tr>\n",
       "      <th>jumps</th>\n",
       "      <td>0.333814</td>\n",
       "      <td>0.333767</td>\n",
       "      <td>1.332419</td>\n",
       "    </tr>\n",
       "    <tr>\n",
       "      <th>kings</th>\n",
       "      <td>0.333647</td>\n",
       "      <td>1.332774</td>\n",
       "      <td>0.333579</td>\n",
       "    </tr>\n",
       "    <tr>\n",
       "      <th>lazy</th>\n",
       "      <td>0.333891</td>\n",
       "      <td>0.333761</td>\n",
       "      <td>3.332347</td>\n",
       "    </tr>\n",
       "    <tr>\n",
       "      <th>love</th>\n",
       "      <td>1.330416</td>\n",
       "      <td>1.335461</td>\n",
       "      <td>0.334123</td>\n",
       "    </tr>\n",
       "    <tr>\n",
       "      <th>quick</th>\n",
       "      <td>0.333891</td>\n",
       "      <td>0.333761</td>\n",
       "      <td>3.332347</td>\n",
       "    </tr>\n",
       "    <tr>\n",
       "      <th>sausages</th>\n",
       "      <td>0.333699</td>\n",
       "      <td>2.332696</td>\n",
       "      <td>0.333606</td>\n",
       "    </tr>\n",
       "    <tr>\n",
       "      <th>sky</th>\n",
       "      <td>4.332439</td>\n",
       "      <td>0.333812</td>\n",
       "      <td>0.333749</td>\n",
       "    </tr>\n",
       "    <tr>\n",
       "      <th>toast</th>\n",
       "      <td>0.333647</td>\n",
       "      <td>1.332774</td>\n",
       "      <td>0.333579</td>\n",
       "    </tr>\n",
       "    <tr>\n",
       "      <th>today</th>\n",
       "      <td>1.332558</td>\n",
       "      <td>0.333744</td>\n",
       "      <td>0.333698</td>\n",
       "    </tr>\n",
       "  </tbody>\n",
       "</table>\n",
       "</div>"
      ],
      "text/plain": [
       "                  0         1         2\n",
       "bacon      0.333699  2.332696  0.333606\n",
       "beans      0.333647  1.332774  0.333579\n",
       "beautiful  3.332365  0.333853  0.333782\n",
       "blue       3.373774  0.334283  1.291942\n",
       "breakfast  0.333647  1.332774  0.333579\n",
       "brown      0.333891  0.333761  3.332347\n",
       "dog        0.333891  0.333761  3.332347\n",
       "eggs       0.333699  2.332696  0.333606\n",
       "fox        0.333891  0.333761  3.332347\n",
       "green      0.333793  1.332543  0.333664\n",
       "ham        0.333699  2.332696  0.333606\n",
       "jumps      0.333814  0.333767  1.332419\n",
       "kings      0.333647  1.332774  0.333579\n",
       "lazy       0.333891  0.333761  3.332347\n",
       "love       1.330416  1.335461  0.334123\n",
       "quick      0.333891  0.333761  3.332347\n",
       "sausages   0.333699  2.332696  0.333606\n",
       "sky        4.332439  0.333812  0.333749\n",
       "toast      0.333647  1.332774  0.333579\n",
       "today      1.332558  0.333744  0.333698"
      ]
     },
     "execution_count": 14,
     "metadata": {},
     "output_type": "execute_result"
    }
   ],
   "source": [
    "pd.DataFrame(np.transpose(topic_word_matrix), index=vocab)"
   ]
  },
  {
   "cell_type": "markdown",
   "metadata": {
    "slideshow": {
     "slide_type": "subslide"
    }
   },
   "source": [
    "### Interpreting the Meanings of Topics"
   ]
  },
  {
   "cell_type": "markdown",
   "metadata": {
    "slideshow": {
     "slide_type": "subslide"
    }
   },
   "source": [
    "- This is the most crucial step in topic modeling. The LDA does not give us a label for each topic.\n",
    "- It is the analyst who determines the **meanings** of the topics.\n",
    "- These decisions are based on the words under each topic that show high importance weights."
   ]
  },
  {
   "cell_type": "code",
   "execution_count": 15,
   "metadata": {
    "code_folding": [],
    "slideshow": {
     "slide_type": "subslide"
    }
   },
   "outputs": [],
   "source": [
    "## customized function\n",
    "\n",
    "def get_topics_meanings(tw_m,\n",
    "                        vocab,\n",
    "                        display_weights=False,\n",
    "                        topn=5,\n",
    "                        weight_cutoff=0.6):\n",
    "    \"\"\"\n",
    "    This function sorts the words importance under each topic and \n",
    "    allows selecting words based on ranks or a cutoff on weights.\n",
    "\n",
    "    Parameters:\n",
    "    - tw_m : array-like\n",
    "        Topic by Word matrix containing the weights of each word in each topic.\n",
    "    - vocab : list\n",
    "        List of words in the vocabulary.\n",
    "    - display_weights : bool, optional (default=False)\n",
    "        Flag to indicate whether to display words with their weights.\n",
    "    - topn : int, optional (default=5)\n",
    "        Number of top words to display for each topic if display_weights is False.\n",
    "    - weight_cutoff : float, optional (default=0.6)\n",
    "        Weight cutoff threshold for displaying words if display_weights is True.\n",
    "    \"\"\"\n",
    "    for i, topic_weights in enumerate(tw_m):\n",
    "        topic = [(token, np.round(weight, 2)) for token, weight in zip(vocab, topic_weights)]\n",
    "        topic = sorted(topic, key=lambda x: -x[1])\n",
    "        if display_weights:\n",
    "            topic = [item for item in topic if item[1] > weight_cutoff]\n",
    "            print(f\"Topic #{i} :\\n{topic}\")\n",
    "            print(\"=\" * 20)\n",
    "        else:\n",
    "            topic_topn = topic[:topn]\n",
    "            topic_topn = ' '.join([word for word, weight in topic_topn])\n",
    "            print(f\"Topic #{i} :\\n{topic_topn}\")\n",
    "            print('=' * 20)\n"
   ]
  },
  {
   "cell_type": "markdown",
   "metadata": {
    "slideshow": {
     "slide_type": "subslide"
    }
   },
   "source": [
    "- To use the above function:\n",
    "  - If we are to display the weights of words, then we need to specify the `weight_cutoff`.\n",
    "  - If we are to display only the top N words, then we need to specify the `topn`."
   ]
  },
  {
   "cell_type": "code",
   "execution_count": 16,
   "metadata": {
    "scrolled": true,
    "slideshow": {
     "slide_type": "subslide"
    }
   },
   "outputs": [
    {
     "name": "stdout",
     "output_type": "stream",
     "text": [
      "Topic #0 :\n",
      "[('sky', 4.33), ('blue', 3.37), ('beautiful', 3.33)]\n",
      "====================\n",
      "Topic #1 :\n",
      "[('bacon', 2.33), ('eggs', 2.33), ('ham', 2.33), ('sausages', 2.33)]\n",
      "====================\n",
      "Topic #2 :\n",
      "[('brown', 3.33), ('dog', 3.33), ('fox', 3.33), ('lazy', 3.33), ('quick', 3.33)]\n",
      "====================\n"
     ]
    }
   ],
   "source": [
    "get_topics_meanings(topic_word_matrix,\n",
    "                    vocab,\n",
    "                    display_weights=True,\n",
    "                    weight_cutoff=2)"
   ]
  },
  {
   "cell_type": "code",
   "execution_count": 17,
   "metadata": {
    "slideshow": {
     "slide_type": "subslide"
    }
   },
   "outputs": [
    {
     "name": "stdout",
     "output_type": "stream",
     "text": [
      "Topic #0 :\n",
      "sky blue beautiful love today\n",
      "====================\n",
      "Topic #1 :\n",
      "bacon eggs ham sausages love\n",
      "====================\n",
      "Topic #2 :\n",
      "brown dog fox lazy quick\n",
      "====================\n"
     ]
    }
   ],
   "source": [
    "get_topics_meanings(topic_word_matrix, \n",
    "                    vocab, \n",
    "                    display_weights=False, \n",
    "                    topn=5)"
   ]
  },
  {
   "cell_type": "markdown",
   "metadata": {
    "slideshow": {
     "slide_type": "slide"
    }
   },
   "source": [
    "## Topics in Documents"
   ]
  },
  {
   "cell_type": "markdown",
   "metadata": {
    "slideshow": {
     "slide_type": "subslide"
    }
   },
   "source": [
    "- After we determine the meanings of the topics, we can now analyze how each document is associated to these topics.\n",
    "- That is, we can now look at the **Document-by-Topic** Matrix."
   ]
  },
  {
   "cell_type": "code",
   "execution_count": 18,
   "metadata": {
    "slideshow": {
     "slide_type": "subslide"
    }
   },
   "outputs": [
    {
     "data": {
      "text/html": [
       "<div>\n",
       "<style scoped>\n",
       "    .dataframe tbody tr th:only-of-type {\n",
       "        vertical-align: middle;\n",
       "    }\n",
       "\n",
       "    .dataframe tbody tr th {\n",
       "        vertical-align: top;\n",
       "    }\n",
       "\n",
       "    .dataframe thead th {\n",
       "        text-align: right;\n",
       "    }\n",
       "</style>\n",
       "<table border=\"1\" class=\"dataframe\">\n",
       "  <thead>\n",
       "    <tr style=\"text-align: right;\">\n",
       "      <th></th>\n",
       "      <th>weather</th>\n",
       "      <th>food</th>\n",
       "      <th>animal</th>\n",
       "      <th>corpus</th>\n",
       "    </tr>\n",
       "  </thead>\n",
       "  <tbody>\n",
       "    <tr>\n",
       "      <th>0</th>\n",
       "      <td>0.832191</td>\n",
       "      <td>0.083480</td>\n",
       "      <td>0.084329</td>\n",
       "      <td>sky blue beautiful</td>\n",
       "    </tr>\n",
       "    <tr>\n",
       "      <th>1</th>\n",
       "      <td>0.863554</td>\n",
       "      <td>0.069100</td>\n",
       "      <td>0.067346</td>\n",
       "      <td>love blue beautiful sky</td>\n",
       "    </tr>\n",
       "    <tr>\n",
       "      <th>2</th>\n",
       "      <td>0.047794</td>\n",
       "      <td>0.047776</td>\n",
       "      <td>0.904430</td>\n",
       "      <td>quick brown fox jumps lazy dog</td>\n",
       "    </tr>\n",
       "    <tr>\n",
       "      <th>3</th>\n",
       "      <td>0.037243</td>\n",
       "      <td>0.925559</td>\n",
       "      <td>0.037198</td>\n",
       "      <td>kings breakfast sausages ham bacon eggs toast beans</td>\n",
       "    </tr>\n",
       "    <tr>\n",
       "      <th>4</th>\n",
       "      <td>0.049121</td>\n",
       "      <td>0.903076</td>\n",
       "      <td>0.047802</td>\n",
       "      <td>love green eggs ham sausages bacon</td>\n",
       "    </tr>\n",
       "    <tr>\n",
       "      <th>5</th>\n",
       "      <td>0.054902</td>\n",
       "      <td>0.047778</td>\n",
       "      <td>0.897321</td>\n",
       "      <td>brown fox quick blue dog lazy</td>\n",
       "    </tr>\n",
       "    <tr>\n",
       "      <th>6</th>\n",
       "      <td>0.888287</td>\n",
       "      <td>0.055697</td>\n",
       "      <td>0.056016</td>\n",
       "      <td>sky blue sky beautiful today</td>\n",
       "    </tr>\n",
       "    <tr>\n",
       "      <th>7</th>\n",
       "      <td>0.055704</td>\n",
       "      <td>0.055689</td>\n",
       "      <td>0.888607</td>\n",
       "      <td>dog lazy brown fox quick</td>\n",
       "    </tr>\n",
       "  </tbody>\n",
       "</table>\n",
       "</div>"
      ],
      "text/plain": [
       "    weather      food    animal  \\\n",
       "0  0.832191  0.083480  0.084329   \n",
       "1  0.863554  0.069100  0.067346   \n",
       "2  0.047794  0.047776  0.904430   \n",
       "3  0.037243  0.925559  0.037198   \n",
       "4  0.049121  0.903076  0.047802   \n",
       "5  0.054902  0.047778  0.897321   \n",
       "6  0.888287  0.055697  0.056016   \n",
       "7  0.055704  0.055689  0.888607   \n",
       "\n",
       "                                                corpus  \n",
       "0                                   sky blue beautiful  \n",
       "1                              love blue beautiful sky  \n",
       "2                       quick brown fox jumps lazy dog  \n",
       "3  kings breakfast sausages ham bacon eggs toast beans  \n",
       "4                   love green eggs ham sausages bacon  \n",
       "5                        brown fox quick blue dog lazy  \n",
       "6                         sky blue sky beautiful today  \n",
       "7                             dog lazy brown fox quick  "
      ]
     },
     "execution_count": 18,
     "metadata": {},
     "output_type": "execute_result"
    }
   ],
   "source": [
    "## interpretation of TOPICS\n",
    "topics = ['weather', 'food', 'animal']\n",
    "\n",
    "## Checking\n",
    "doc_topic_df.columns = topics\n",
    "doc_topic_df['corpus'] = norm_corpus\n",
    "doc_topic_df"
   ]
  },
  {
   "cell_type": "markdown",
   "metadata": {
    "slideshow": {
     "slide_type": "subslide"
    }
   },
   "source": [
    "- We can visualize the topics distribution for each document using stack plot."
   ]
  },
  {
   "cell_type": "code",
   "execution_count": 19,
   "metadata": {},
   "outputs": [
    {
     "data": {
      "image/png": "[encoded data removed]",
      "text/plain": [
       "<Figure size 1080x576 with 1 Axes>"
      ]
     },
     "metadata": {
      "needs_background": "light"
     },
     "output_type": "display_data"
    }
   ],
   "source": [
    "## create stacked bar plot\n",
    "x_axis = ['DOC' + str(i) for i in range(len(norm_corpus))]\n",
    "y_axis = doc_topic_df[['weather', 'food', 'animal']]\n",
    "\n",
    "fig, ax = plt.subplots(figsize=(15, 8))\n",
    "\n",
    "# Create stacked bar plot\n",
    "bottom = np.zeros(len(x_axis))\n",
    "for col in y_axis.columns:\n",
    "    ax.bar(x_axis, y_axis[col], bottom=bottom, label=col)\n",
    "    bottom += np.array(y_axis[col])\n",
    "\n",
    "# Move the legend outside of the chart\n",
    "ax.legend(loc='center left', bbox_to_anchor=(1, 0.5))\n",
    "\n",
    "plt.show()"
   ]
  },
  {
   "cell_type": "markdown",
   "metadata": {
    "slideshow": {
     "slide_type": "skip"
    }
   },
   "source": [
    "## Clustering documents using topic model features"
   ]
  },
  {
   "cell_type": "markdown",
   "metadata": {},
   "source": [
    "- We can use the topic distributions of each document as our features to further group the documents into clusters.\n",
    "- Here is a quick example of k-means clustering."
   ]
  },
  {
   "cell_type": "code",
   "execution_count": 21,
   "metadata": {
    "scrolled": true,
    "slideshow": {
     "slide_type": "skip"
    }
   },
   "outputs": [
    {
     "data": {
      "text/html": [
       "<div>\n",
       "<style scoped>\n",
       "    .dataframe tbody tr th:only-of-type {\n",
       "        vertical-align: middle;\n",
       "    }\n",
       "\n",
       "    .dataframe tbody tr th {\n",
       "        vertical-align: top;\n",
       "    }\n",
       "\n",
       "    .dataframe thead th {\n",
       "        text-align: right;\n",
       "    }\n",
       "</style>\n",
       "<table border=\"1\" class=\"dataframe\">\n",
       "  <thead>\n",
       "    <tr style=\"text-align: right;\">\n",
       "      <th></th>\n",
       "      <th>Document</th>\n",
       "      <th>ClusterLabel</th>\n",
       "    </tr>\n",
       "  </thead>\n",
       "  <tbody>\n",
       "    <tr>\n",
       "      <th>0</th>\n",
       "      <td>The sky is blue and beautiful.</td>\n",
       "      <td>2</td>\n",
       "    </tr>\n",
       "    <tr>\n",
       "      <th>1</th>\n",
       "      <td>Love this blue and beautiful sky!</td>\n",
       "      <td>2</td>\n",
       "    </tr>\n",
       "    <tr>\n",
       "      <th>2</th>\n",
       "      <td>The quick brown fox jumps over the lazy dog.</td>\n",
       "      <td>1</td>\n",
       "    </tr>\n",
       "    <tr>\n",
       "      <th>3</th>\n",
       "      <td>A king's breakfast has sausages, ham, bacon, eggs, toast and beans</td>\n",
       "      <td>0</td>\n",
       "    </tr>\n",
       "    <tr>\n",
       "      <th>4</th>\n",
       "      <td>I love green eggs, ham, sausages and bacon!</td>\n",
       "      <td>0</td>\n",
       "    </tr>\n",
       "    <tr>\n",
       "      <th>5</th>\n",
       "      <td>The brown fox is quick and the blue dog is lazy!</td>\n",
       "      <td>1</td>\n",
       "    </tr>\n",
       "    <tr>\n",
       "      <th>6</th>\n",
       "      <td>The sky is very blue and the sky is very beautiful today</td>\n",
       "      <td>2</td>\n",
       "    </tr>\n",
       "    <tr>\n",
       "      <th>7</th>\n",
       "      <td>The dog is lazy but the brown fox is quick!</td>\n",
       "      <td>1</td>\n",
       "    </tr>\n",
       "  </tbody>\n",
       "</table>\n",
       "</div>"
      ],
      "text/plain": [
       "                                                             Document  \\\n",
       "0                                      The sky is blue and beautiful.   \n",
       "1                                   Love this blue and beautiful sky!   \n",
       "2                        The quick brown fox jumps over the lazy dog.   \n",
       "3  A king's breakfast has sausages, ham, bacon, eggs, toast and beans   \n",
       "4                         I love green eggs, ham, sausages and bacon!   \n",
       "5                    The brown fox is quick and the blue dog is lazy!   \n",
       "6            The sky is very blue and the sky is very beautiful today   \n",
       "7                         The dog is lazy but the brown fox is quick!   \n",
       "\n",
       "   ClusterLabel  \n",
       "0             2  \n",
       "1             2  \n",
       "2             1  \n",
       "3             0  \n",
       "4             0  \n",
       "5             1  \n",
       "6             2  \n",
       "7             1  "
      ]
     },
     "execution_count": 21,
     "metadata": {},
     "output_type": "execute_result"
    }
   ],
   "source": [
    "## initialize kmeans\n",
    "km = KMeans(n_clusters=3, random_state=0)\n",
    "\n",
    "## fit kmeans\n",
    "km.fit_transform(doc_topic_matrix)\n",
    "\n",
    "## get cluster labels\n",
    "\n",
    "cluster_labels = km.labels_\n",
    "\n",
    "## check results\n",
    "cluster_labels = pd.DataFrame(cluster_labels, columns=['ClusterLabel'])\n",
    "pd.concat([corpus_df, cluster_labels], axis=1)"
   ]
  },
  {
   "cell_type": "markdown",
   "metadata": {
    "slideshow": {
     "slide_type": "slide"
    }
   },
   "source": [
    "## Visualizing Topic Models"
   ]
  },
  {
   "cell_type": "code",
   "execution_count": 22,
   "metadata": {
    "slideshow": {
     "slide_type": "subslide"
    }
   },
   "outputs": [],
   "source": [
    "import pyLDAvis\n",
    "import pyLDAvis.gensim\n",
    "import pyLDAvis.lda_model ## for sklearn LDA; if gensim, use `pyLDAvis.gensim`\n",
    "import dill\n",
    "import warnings\n",
    "warnings.filterwarnings('ignore')\n",
    "%matplotlib inline\n",
    "\n",
    "pyLDAvis.enable_notebook()"
   ]
  },
  {
   "cell_type": "code",
   "execution_count": 23,
   "metadata": {
    "tags": [
     "remove-input"
    ]
   },
   "outputs": [
    {
     "data": {
      "text/html": [
       "<style>.container { max-width:100% !important; }</style>"
      ],
      "text/plain": [
       "<IPython.core.display.HTML object>"
      ]
     },
     "metadata": {},
     "output_type": "display_data"
    },
    {
     "data": {
      "text/html": [
       "<style>.output_result { max-width:100% !important; }</style>"
      ],
      "text/plain": [
       "<IPython.core.display.HTML object>"
      ]
     },
     "metadata": {},
     "output_type": "display_data"
    },
    {
     "data": {
      "text/html": [
       "<style>.output_area { max-width:100% !important; }</style>"
      ],
      "text/plain": [
       "<IPython.core.display.HTML object>"
      ]
     },
     "metadata": {},
     "output_type": "display_data"
    },
    {
     "data": {
      "text/html": [
       "<style>.input_area { max-width:100% !important; }</style>"
      ],
      "text/plain": [
       "<IPython.core.display.HTML object>"
      ]
     },
     "metadata": {},
     "output_type": "display_data"
    }
   ],
   "source": [
    "## This block is to fix the pyLDAvis style issue\n",
    "from IPython.core.display import display, HTML\n",
    "display(HTML(\"<style>.container { max-width:100% !important; }</style>\"))\n",
    "display(HTML(\"<style>.output_result { max-width:100% !important; }</style>\"))\n",
    "display(HTML(\"<style>.output_area { max-width:100% !important; }</style>\"))\n",
    "display(HTML(\"<style>.input_area { max-width:100% !important; }</style>\"))\n"
   ]
  },
  {
   "cell_type": "code",
   "execution_count": 24,
   "metadata": {
    "scrolled": true,
    "slideshow": {
     "slide_type": "subslide"
    }
   },
   "outputs": [
    {
     "data": {
      "text/html": [
       "\n",
       "<link rel=\"stylesheet\" type=\"text/css\" href=\"https://cdn.jsdelivr.net/gh/bmabey/pyLDAvis@3.4.0/pyLDAvis/js/ldavis.v1.0.0.css\">\n",
       "\n",
       "\n",
       "<div id=\"ldavis_el5706061172182241688164155\" style=\"background-color:white;\"></div>\n",
       "<script type=\"text/javascript\">\n",
       "\n",
       "var ldavis_el5706061172182241688164155_data = {\"mdsDat\": {\"x\": [-0.008445793833628968, 0.1346209365077882, -0.12617514267415922], \"y\": [0.16901844967086976, -0.08524624913297574, -0.08377220053789404], \"topics\": [1, 2, 3], \"cluster\": [1, 1, 1], \"Freq\": [38.69857956361474, 33.674475344649736, 27.62694509173552]}, \"tinfo\": {\"Term\": [\"sky\", \"beautiful\", \"blue\", \"lazy\", \"brown\", \"dog\", \"fox\", \"quick\", \"bacon\", \"sausages\", \"ham\", \"eggs\", \"today\", \"love\", \"kings\", \"beans\", \"breakfast\", \"toast\", \"green\", \"jumps\", \"quick\", \"brown\", \"dog\", \"fox\", \"lazy\", \"jumps\", \"blue\", \"today\", \"green\", \"toast\", \"breakfast\", \"beans\", \"kings\", \"love\", \"sausages\", \"bacon\", \"eggs\", \"ham\", \"beautiful\", \"sky\", \"bacon\", \"eggs\", \"sausages\", \"ham\", \"breakfast\", \"beans\", \"kings\", \"toast\", \"green\", \"love\", \"today\", \"jumps\", \"beautiful\", \"brown\", \"dog\", \"fox\", \"lazy\", \"quick\", \"sky\", \"blue\", \"sky\", \"beautiful\", \"blue\", \"today\", \"love\", \"green\", \"kings\", \"breakfast\", \"toast\", \"beans\", \"jumps\", \"sausages\", \"bacon\", \"eggs\", \"ham\", \"lazy\", \"fox\", \"quick\", \"dog\", \"brown\"], \"Freq\": [3.0, 2.0, 3.0, 2.0, 2.0, 2.0, 2.0, 2.0, 2.0, 2.0, 2.0, 2.0, 1.0, 2.0, 1.0, 1.0, 1.0, 1.0, 1.0, 1.0, 2.347269745904943, 2.347269745904943, 2.347269745904943, 2.347269745904943, 2.347269745904943, 0.9385419225967806, 0.9100303130835469, 0.23505339441456768, 0.2350291466569901, 0.23496968562811427, 0.23496968562811427, 0.23496968562811427, 0.23496968562811427, 0.23535274903672884, 0.23498814448787408, 0.23498814448787408, 0.23498814448787408, 0.23498814448787408, 0.23511251824933246, 0.23508911832772747, 1.634277741376904, 1.634277741376904, 1.634277741376904, 1.634277741376904, 0.9337359955049813, 0.9337359955049813, 0.9337359955049813, 0.9337359955049813, 0.9335746009613621, 0.9356188717354832, 0.23381967072922324, 0.2338355879726243, 0.23389603446125906, 0.23383196198973596, 0.23383196198973596, 0.23383196198973596, 0.23383196198973596, 0.23383196198973596, 0.23386718998892939, 0.2341976848742828, 2.751100663223356, 2.1160530513150566, 2.1423479111851953, 0.8461748182314354, 0.8448145411986039, 0.21195876118035797, 0.2118660813317044, 0.2118660813317044, 0.2118660813317044, 0.2118660813317044, 0.2119720351945211, 0.2118987506916116, 0.2118987506916116, 0.2118987506916116, 0.2118987506916116, 0.21202105596489695, 0.21202105596489695, 0.21202105596489695, 0.21202105596489695, 0.21202105596489695], \"Total\": [3.0, 2.0, 3.0, 2.0, 2.0, 2.0, 2.0, 2.0, 2.0, 2.0, 2.0, 2.0, 1.0, 2.0, 1.0, 1.0, 1.0, 1.0, 1.0, 1.0, 2.793122763859576, 2.793122763859576, 2.793122763859576, 2.793122763859576, 2.793122763859576, 1.384349545763926, 3.286575909143025, 1.3150478833752262, 1.3805625087987101, 1.3805717624648, 1.3805717624648, 1.3805717624648, 1.3805717624648, 2.0157861619708157, 2.0811646365563896, 2.0811646365563896, 2.0811646365563896, 2.0811646365563896, 2.585061604025648, 3.220056971540013, 2.0811646365563896, 2.0811646365563896, 2.0811646365563896, 2.0811646365563896, 1.3805717624648, 1.3805717624648, 1.3805717624648, 1.3805717624648, 1.3805625087987101, 2.0157861619708157, 1.3150478833752262, 1.384349545763926, 2.585061604025648, 2.793122763859576, 2.793122763859576, 2.793122763859576, 2.793122763859576, 2.793122763859576, 3.220056971540013, 3.286575909143025, 3.220056971540013, 2.585061604025648, 3.286575909143025, 1.3150478833752262, 2.0157861619708157, 1.3805625087987101, 1.3805717624648, 1.3805717624648, 1.3805717624648, 1.3805717624648, 1.384349545763926, 2.0811646365563896, 2.0811646365563896, 2.0811646365563896, 2.0811646365563896, 2.793122763859576, 2.793122763859576, 2.793122763859576, 2.793122763859576, 2.793122763859576], \"Category\": [\"Default\", \"Default\", \"Default\", \"Default\", \"Default\", \"Default\", \"Default\", \"Default\", \"Default\", \"Default\", \"Default\", \"Default\", \"Default\", \"Default\", \"Default\", \"Default\", \"Default\", \"Default\", \"Default\", \"Default\", \"Topic1\", \"Topic1\", \"Topic1\", \"Topic1\", \"Topic1\", \"Topic1\", \"Topic1\", \"Topic1\", \"Topic1\", \"Topic1\", \"Topic1\", \"Topic1\", \"Topic1\", \"Topic1\", \"Topic1\", \"Topic1\", \"Topic1\", \"Topic1\", \"Topic1\", \"Topic1\", \"Topic2\", \"Topic2\", \"Topic2\", \"Topic2\", \"Topic2\", \"Topic2\", \"Topic2\", \"Topic2\", \"Topic2\", \"Topic2\", \"Topic2\", \"Topic2\", \"Topic2\", \"Topic2\", \"Topic2\", \"Topic2\", \"Topic2\", \"Topic2\", \"Topic2\", \"Topic2\", \"Topic3\", \"Topic3\", \"Topic3\", \"Topic3\", \"Topic3\", \"Topic3\", \"Topic3\", \"Topic3\", \"Topic3\", \"Topic3\", \"Topic3\", \"Topic3\", \"Topic3\", \"Topic3\", \"Topic3\", \"Topic3\", \"Topic3\", \"Topic3\", \"Topic3\", \"Topic3\"], \"logprob\": [20.0, 19.0, 18.0, 17.0, 16.0, 15.0, 14.0, 13.0, 12.0, 11.0, 10.0, 9.0, 8.0, 7.0, 6.0, 5.0, 4.0, 3.0, 2.0, 1.0, -1.9586, -1.9586, -1.9586, -1.9586, -1.9586, -2.8753, -2.9061, -4.2598, -4.2599, -4.2601, -4.2601, -4.2601, -4.2601, -4.2585, -4.2601, -4.2601, -4.2601, -4.2601, -4.2595, -4.2596, -2.1816, -2.1816, -2.1816, -2.1816, -2.7413, -2.7413, -2.7413, -2.7413, -2.7415, -2.7393, -4.126, -4.1259, -4.1256, -4.1259, -4.1259, -4.1259, -4.1259, -4.1259, -4.1258, -4.1244, -1.4628, -1.7253, -1.7129, -2.6419, -2.6435, -4.0262, -4.0266, -4.0266, -4.0266, -4.0266, -4.0261, -4.0265, -4.0265, -4.0265, -4.0265, -4.0259, -4.0259, -4.0259, -4.0259, -4.0259], \"loglift\": [20.0, 19.0, 18.0, 17.0, 16.0, 15.0, 14.0, 13.0, 12.0, 11.0, 10.0, 9.0, 8.0, 7.0, 6.0, 5.0, 4.0, 3.0, 2.0, 1.0, 0.7755, 0.7755, 0.7755, 0.7755, 0.7755, 0.5607, -0.3348, -0.7724, -0.8212, -0.8214, -0.8214, -0.8214, -0.8214, -1.1983, -1.2318, -1.2318, -1.2318, -1.2318, -1.4481, -1.6678, 0.8467, 0.8467, 0.8467, 0.8467, 0.6974, 0.6974, 0.6974, 0.6974, 0.6972, 0.3209, -0.6386, -0.6899, -1.3142, -1.3919, -1.3919, -1.3919, -1.3919, -1.3919, -1.534, -1.553, 1.129, 1.0862, 0.8584, 0.8455, 0.4167, -0.5875, -0.5879, -0.5879, -0.5879, -0.5879, -0.5902, -0.9982, -0.9982, -0.9982, -0.9982, -1.2919, -1.2919, -1.2919, -1.2919, -1.2919]}, \"token.table\": {\"Topic\": [2, 2, 3, 1, 3, 2, 1, 1, 2, 1, 2, 2, 1, 2, 1, 2, 3, 1, 2, 3, 2, 3], \"Freq\": [0.961000376841551, 0.7243375731621895, 0.7736759529774659, 0.30426803690067517, 0.6085360738013503, 0.7243375731621895, 0.7160444309423665, 0.7160444309423665, 0.961000376841551, 0.7160444309423665, 0.72434242826871, 0.961000376841551, 0.7223609117075772, 0.7243375731621895, 0.7160444309423665, 0.4960843659241658, 0.4960843659241658, 0.7160444309423665, 0.961000376841551, 0.9316605347405487, 0.7243375731621895, 0.760428584116178], \"Term\": [\"bacon\", \"beans\", \"beautiful\", \"blue\", \"blue\", \"breakfast\", \"brown\", \"dog\", \"eggs\", \"fox\", \"green\", \"ham\", \"jumps\", \"kings\", \"lazy\", \"love\", \"love\", \"quick\", \"sausages\", \"sky\", \"toast\", \"today\"]}, \"R\": 20, \"lambda.step\": 0.01, \"plot.opts\": {\"xlab\": \"PC1\", \"ylab\": \"PC2\"}, \"topic.order\": [3, 2, 1]};\n",
       "\n",
       "function LDAvis_load_lib(url, callback){\n",
       "  var s = document.createElement('script');\n",
       "  s.src = url;\n",
       "  s.async = true;\n",
       "  s.onreadystatechange = s.onload = callback;\n",
       "  s.onerror = function(){console.warn(\"failed to load library \" + url);};\n",
       "  document.getElementsByTagName(\"head\")[0].appendChild(s);\n",
       "}\n",
       "\n",
       "if(typeof(LDAvis) !== \"undefined\"){\n",
       "   // already loaded: just create the visualization\n",
       "   !function(LDAvis){\n",
       "       new LDAvis(\"#\" + \"ldavis_el5706061172182241688164155\", ldavis_el5706061172182241688164155_data);\n",
       "   }(LDAvis);\n",
       "}else if(typeof define === \"function\" && define.amd){\n",
       "   // require.js is available: use it to load d3/LDAvis\n",
       "   require.config({paths: {d3: \"https://d3js.org/d3.v5\"}});\n",
       "   require([\"d3\"], function(d3){\n",
       "      window.d3 = d3;\n",
       "      LDAvis_load_lib(\"https://cdn.jsdelivr.net/gh/bmabey/pyLDAvis@3.4.0/pyLDAvis/js/ldavis.v3.0.0.js\", function(){\n",
       "        new LDAvis(\"#\" + \"ldavis_el5706061172182241688164155\", ldavis_el5706061172182241688164155_data);\n",
       "      });\n",
       "    });\n",
       "}else{\n",
       "    // require.js not available: dynamically load d3 & LDAvis\n",
       "    LDAvis_load_lib(\"https://d3js.org/d3.v5.js\", function(){\n",
       "         LDAvis_load_lib(\"https://cdn.jsdelivr.net/gh/bmabey/pyLDAvis@3.4.0/pyLDAvis/js/ldavis.v3.0.0.js\", function(){\n",
       "                 new LDAvis(\"#\" + \"ldavis_el5706061172182241688164155\", ldavis_el5706061172182241688164155_data);\n",
       "            })\n",
       "         });\n",
       "}\n",
       "</script>"
      ],
      "text/plain": [
       "PreparedData(topic_coordinates=              x         y  topics  cluster       Freq\n",
       "topic                                                \n",
       "2     -0.008446  0.169018       1        1  38.698580\n",
       "1      0.134621 -0.085246       2        1  33.674475\n",
       "0     -0.126175 -0.083772       3        1  27.626945, topic_info=         Term      Freq     Total Category  logprob  loglift\n",
       "17        sky  3.000000  3.000000  Default  20.0000  20.0000\n",
       "2   beautiful  2.000000  2.000000  Default  19.0000  19.0000\n",
       "3        blue  3.000000  3.000000  Default  18.0000  18.0000\n",
       "13       lazy  2.000000  2.000000  Default  17.0000  17.0000\n",
       "5       brown  2.000000  2.000000  Default  16.0000  16.0000\n",
       "..        ...       ...       ...      ...      ...      ...\n",
       "13       lazy  0.212021  2.793123   Topic3  -4.0259  -1.2919\n",
       "8         fox  0.212021  2.793123   Topic3  -4.0259  -1.2919\n",
       "15      quick  0.212021  2.793123   Topic3  -4.0259  -1.2919\n",
       "6         dog  0.212021  2.793123   Topic3  -4.0259  -1.2919\n",
       "5       brown  0.212021  2.793123   Topic3  -4.0259  -1.2919\n",
       "\n",
       "[80 rows x 6 columns], token_table=      Topic      Freq       Term\n",
       "term                            \n",
       "0         2  0.961000      bacon\n",
       "1         2  0.724338      beans\n",
       "2         3  0.773676  beautiful\n",
       "3         1  0.304268       blue\n",
       "3         3  0.608536       blue\n",
       "4         2  0.724338  breakfast\n",
       "5         1  0.716044      brown\n",
       "6         1  0.716044        dog\n",
       "7         2  0.961000       eggs\n",
       "8         1  0.716044        fox\n",
       "9         2  0.724342      green\n",
       "10        2  0.961000        ham\n",
       "11        1  0.722361      jumps\n",
       "12        2  0.724338      kings\n",
       "13        1  0.716044       lazy\n",
       "14        2  0.496084       love\n",
       "14        3  0.496084       love\n",
       "15        1  0.716044      quick\n",
       "16        2  0.961000   sausages\n",
       "17        3  0.931661        sky\n",
       "18        2  0.724338      toast\n",
       "19        3  0.760429      today, R=20, lambda_step=0.01, plot_opts={'xlab': 'PC1', 'ylab': 'PC2'}, topic_order=[3, 2, 1])"
      ]
     },
     "execution_count": 24,
     "metadata": {},
     "output_type": "execute_result"
    }
   ],
   "source": [
    "cv_matrix = cv.fit_transform(norm_corpus)\n",
    "pyLDAvis.lda_model.prepare(lda, cv_matrix, cv, mds='mmds')"
   ]
  },
  {
   "cell_type": "markdown",
   "metadata": {
    "slideshow": {
     "slide_type": "slide"
    }
   },
   "source": [
    "## Hyperparameter Tuning"
   ]
  },
  {
   "cell_type": "markdown",
   "metadata": {
    "slideshow": {
     "slide_type": "subslide"
    }
   },
   "source": [
    "- One thing we haven't made explicit is that the **number of topics** so far has been pre-determined before the analysis.\n",
    "- How to find the optimal number of topics can be challenging in topic modeling.\n",
    "- We can take this as a hyperparameter of the model and use **Grid Search** to find the most optimal number of topics.\n",
    "- Similarly, we can fine tune the other hyperparameters of LDA as well (e.g., `learning_decay`)."
   ]
  },
  {
   "cell_type": "markdown",
   "metadata": {
    "slideshow": {
     "slide_type": "subslide"
    }
   },
   "source": [
    "- `learning_method`: The default is `batch`; that is, use all training data for parameter estimation. If it is `online`, the model will update the parameters on a token by token basis.\n",
    "- `learning_decay`: If the `learning_method` is `online`, we can specify a parameter that controls learning rate in the online learning method (usually set between [0.5, 1.0]). "
   ]
  },
  {
   "cell_type": "markdown",
   "metadata": {
    "slideshow": {
     "slide_type": "subslide"
    }
   },
   "source": [
    ":::{tip}\n",
    "\n",
    "Doing Grid Search with LDA models can be very slow. There are some other topic modeling algorithms that are a lot faster. Please refer to Sarkar (2019) Chapter 6 for more information.\n",
    "\n",
    ":::"
   ]
  },
  {
   "cell_type": "markdown",
   "metadata": {
    "slideshow": {
     "slide_type": "subslide"
    }
   },
   "source": [
    "### Grid Search for Topic Number"
   ]
  },
  {
   "cell_type": "code",
   "execution_count": 26,
   "metadata": {
    "slideshow": {
     "slide_type": "subslide"
    }
   },
   "outputs": [
    {
     "name": "stdout",
     "output_type": "stream",
     "text": [
      "Fitting 5 folds for each of 10 candidates, totalling 50 fits\n",
      "CPU times: user 2.11 s, sys: 13.2 ms, total: 2.12 s\n",
      "Wall time: 14.2 s\n"
     ]
    }
   ],
   "source": [
    "%%time\n",
    "\n",
    "## Prepare hyperparameters dict\n",
    "search_params = {'n_components': range(3,8), 'learning_decay': [.5, .7]}\n",
    "\n",
    "## Initialize LDA\n",
    "model = LatentDirichletAllocation(learning_method='batch', ## `online` for large datasets\n",
    "                                  max_iter=10000,\n",
    "                                  random_state=0)\n",
    "\n",
    "## Gridsearch\n",
    "gridsearch = GridSearchCV(model,\n",
    "                          param_grid=search_params,\n",
    "                          n_jobs=-1,\n",
    "                          verbose=1)\n",
    "gridsearch.fit(cv_matrix)\n",
    "\n",
    "## Save the best model\n",
    "best_lda = gridsearch.best_estimator_"
   ]
  },
  {
   "cell_type": "code",
   "execution_count": 27,
   "metadata": {
    "slideshow": {
     "slide_type": "subslide"
    }
   },
   "outputs": [
    {
     "name": "stdout",
     "output_type": "stream",
     "text": [
      "Best Model's Params:  {'learning_decay': 0.5, 'n_components': 3}\n",
      "Best Log Likelihood Score:  -50.410868132698795\n",
      "Best Model Perplexity:  25.292966412842105\n"
     ]
    }
   ],
   "source": [
    "# What did we find?\n",
    "print(\"Best Model's Params: \", gridsearch.best_params_)\n",
    "print(\"Best Log Likelihood Score: \", gridsearch.best_score_)\n",
    "print('Best Model Perplexity: ', best_lda.perplexity(cv_matrix))"
   ]
  },
  {
   "cell_type": "markdown",
   "metadata": {
    "slideshow": {
     "slide_type": "subslide"
    }
   },
   "source": [
    "### Examining the Grid Search Results"
   ]
  },
  {
   "cell_type": "code",
   "execution_count": 28,
   "metadata": {
    "scrolled": true,
    "slideshow": {
     "slide_type": "subslide"
    }
   },
   "outputs": [
    {
     "data": {
      "text/html": [
       "<div>\n",
       "<style scoped>\n",
       "    .dataframe tbody tr th:only-of-type {\n",
       "        vertical-align: middle;\n",
       "    }\n",
       "\n",
       "    .dataframe tbody tr th {\n",
       "        vertical-align: top;\n",
       "    }\n",
       "\n",
       "    .dataframe thead th {\n",
       "        text-align: right;\n",
       "    }\n",
       "</style>\n",
       "<table border=\"1\" class=\"dataframe\">\n",
       "  <thead>\n",
       "    <tr style=\"text-align: right;\">\n",
       "      <th></th>\n",
       "      <th>mean_fit_time</th>\n",
       "      <th>std_fit_time</th>\n",
       "      <th>mean_score_time</th>\n",
       "      <th>std_score_time</th>\n",
       "      <th>param_learning_decay</th>\n",
       "      <th>param_n_components</th>\n",
       "      <th>params</th>\n",
       "      <th>split0_test_score</th>\n",
       "      <th>split1_test_score</th>\n",
       "      <th>split2_test_score</th>\n",
       "      <th>split3_test_score</th>\n",
       "      <th>split4_test_score</th>\n",
       "      <th>mean_test_score</th>\n",
       "      <th>std_test_score</th>\n",
       "      <th>rank_test_score</th>\n",
       "    </tr>\n",
       "  </thead>\n",
       "  <tbody>\n",
       "    <tr>\n",
       "      <th>0</th>\n",
       "      <td>2.534712</td>\n",
       "      <td>0.342016</td>\n",
       "      <td>0.000322</td>\n",
       "      <td>0.000025</td>\n",
       "      <td>0.5</td>\n",
       "      <td>3</td>\n",
       "      <td>{'learning_decay': 0.5, 'n_components': 3}</td>\n",
       "      <td>-45.022883</td>\n",
       "      <td>-73.947625</td>\n",
       "      <td>-60.589126</td>\n",
       "      <td>-37.947911</td>\n",
       "      <td>-34.546796</td>\n",
       "      <td>-50.410868</td>\n",
       "      <td>14.789188</td>\n",
       "      <td>1</td>\n",
       "    </tr>\n",
       "    <tr>\n",
       "      <th>1</th>\n",
       "      <td>2.991487</td>\n",
       "      <td>0.781605</td>\n",
       "      <td>0.000419</td>\n",
       "      <td>0.000197</td>\n",
       "      <td>0.5</td>\n",
       "      <td>4</td>\n",
       "      <td>{'learning_decay': 0.5, 'n_components': 4}</td>\n",
       "      <td>-49.145599</td>\n",
       "      <td>-82.726223</td>\n",
       "      <td>-65.081852</td>\n",
       "      <td>-42.126564</td>\n",
       "      <td>-37.038050</td>\n",
       "      <td>-55.223657</td>\n",
       "      <td>16.689926</td>\n",
       "      <td>3</td>\n",
       "    </tr>\n",
       "    <tr>\n",
       "      <th>2</th>\n",
       "      <td>2.830407</td>\n",
       "      <td>0.823932</td>\n",
       "      <td>0.000411</td>\n",
       "      <td>0.000164</td>\n",
       "      <td>0.5</td>\n",
       "      <td>5</td>\n",
       "      <td>{'learning_decay': 0.5, 'n_components': 5}</td>\n",
       "      <td>-50.024617</td>\n",
       "      <td>-86.998110</td>\n",
       "      <td>-70.381182</td>\n",
       "      <td>-44.942218</td>\n",
       "      <td>-42.224895</td>\n",
       "      <td>-58.914204</td>\n",
       "      <td>17.163750</td>\n",
       "      <td>5</td>\n",
       "    </tr>\n",
       "    <tr>\n",
       "      <th>3</th>\n",
       "      <td>2.613521</td>\n",
       "      <td>0.476992</td>\n",
       "      <td>0.000515</td>\n",
       "      <td>0.000262</td>\n",
       "      <td>0.5</td>\n",
       "      <td>6</td>\n",
       "      <td>{'learning_decay': 0.5, 'n_components': 6}</td>\n",
       "      <td>-52.609495</td>\n",
       "      <td>-93.522521</td>\n",
       "      <td>-73.924983</td>\n",
       "      <td>-47.956165</td>\n",
       "      <td>-49.996366</td>\n",
       "      <td>-63.601906</td>\n",
       "      <td>17.621249</td>\n",
       "      <td>7</td>\n",
       "    </tr>\n",
       "    <tr>\n",
       "      <th>4</th>\n",
       "      <td>2.508645</td>\n",
       "      <td>0.242184</td>\n",
       "      <td>0.000381</td>\n",
       "      <td>0.000128</td>\n",
       "      <td>0.5</td>\n",
       "      <td>7</td>\n",
       "      <td>{'learning_decay': 0.5, 'n_components': 7}</td>\n",
       "      <td>-54.878310</td>\n",
       "      <td>-99.846527</td>\n",
       "      <td>-77.129032</td>\n",
       "      <td>-50.917763</td>\n",
       "      <td>-46.861191</td>\n",
       "      <td>-65.926565</td>\n",
       "      <td>19.934270</td>\n",
       "      <td>9</td>\n",
       "    </tr>\n",
       "    <tr>\n",
       "      <th>5</th>\n",
       "      <td>2.602352</td>\n",
       "      <td>0.392834</td>\n",
       "      <td>0.000512</td>\n",
       "      <td>0.000230</td>\n",
       "      <td>0.7</td>\n",
       "      <td>3</td>\n",
       "      <td>{'learning_decay': 0.7, 'n_components': 3}</td>\n",
       "      <td>-45.022883</td>\n",
       "      <td>-73.947625</td>\n",
       "      <td>-60.589126</td>\n",
       "      <td>-37.947911</td>\n",
       "      <td>-34.546796</td>\n",
       "      <td>-50.410868</td>\n",
       "      <td>14.789188</td>\n",
       "      <td>1</td>\n",
       "    </tr>\n",
       "    <tr>\n",
       "      <th>6</th>\n",
       "      <td>2.955229</td>\n",
       "      <td>0.633029</td>\n",
       "      <td>0.000425</td>\n",
       "      <td>0.000211</td>\n",
       "      <td>0.7</td>\n",
       "      <td>4</td>\n",
       "      <td>{'learning_decay': 0.7, 'n_components': 4}</td>\n",
       "      <td>-49.145599</td>\n",
       "      <td>-82.726223</td>\n",
       "      <td>-65.081852</td>\n",
       "      <td>-42.126564</td>\n",
       "      <td>-37.038050</td>\n",
       "      <td>-55.223657</td>\n",
       "      <td>16.689926</td>\n",
       "      <td>3</td>\n",
       "    </tr>\n",
       "    <tr>\n",
       "      <th>7</th>\n",
       "      <td>2.843962</td>\n",
       "      <td>0.751603</td>\n",
       "      <td>0.000349</td>\n",
       "      <td>0.000029</td>\n",
       "      <td>0.7</td>\n",
       "      <td>5</td>\n",
       "      <td>{'learning_decay': 0.7, 'n_components': 5}</td>\n",
       "      <td>-50.024617</td>\n",
       "      <td>-86.998110</td>\n",
       "      <td>-70.381182</td>\n",
       "      <td>-44.942218</td>\n",
       "      <td>-42.224895</td>\n",
       "      <td>-58.914204</td>\n",
       "      <td>17.163750</td>\n",
       "      <td>5</td>\n",
       "    </tr>\n",
       "    <tr>\n",
       "      <th>8</th>\n",
       "      <td>2.597273</td>\n",
       "      <td>0.372056</td>\n",
       "      <td>0.000321</td>\n",
       "      <td>0.000039</td>\n",
       "      <td>0.7</td>\n",
       "      <td>6</td>\n",
       "      <td>{'learning_decay': 0.7, 'n_components': 6}</td>\n",
       "      <td>-52.609495</td>\n",
       "      <td>-93.522521</td>\n",
       "      <td>-73.924983</td>\n",
       "      <td>-47.956165</td>\n",
       "      <td>-49.996366</td>\n",
       "      <td>-63.601906</td>\n",
       "      <td>17.621249</td>\n",
       "      <td>7</td>\n",
       "    </tr>\n",
       "    <tr>\n",
       "      <th>9</th>\n",
       "      <td>2.111250</td>\n",
       "      <td>0.215773</td>\n",
       "      <td>0.000330</td>\n",
       "      <td>0.000028</td>\n",
       "      <td>0.7</td>\n",
       "      <td>7</td>\n",
       "      <td>{'learning_decay': 0.7, 'n_components': 7}</td>\n",
       "      <td>-54.878310</td>\n",
       "      <td>-99.846527</td>\n",
       "      <td>-77.129032</td>\n",
       "      <td>-50.917763</td>\n",
       "      <td>-46.861191</td>\n",
       "      <td>-65.926565</td>\n",
       "      <td>19.934270</td>\n",
       "      <td>9</td>\n",
       "    </tr>\n",
       "  </tbody>\n",
       "</table>\n",
       "</div>"
      ],
      "text/plain": [
       "   mean_fit_time  std_fit_time  mean_score_time  std_score_time  \\\n",
       "0       2.534712      0.342016         0.000322        0.000025   \n",
       "1       2.991487      0.781605         0.000419        0.000197   \n",
       "2       2.830407      0.823932         0.000411        0.000164   \n",
       "3       2.613521      0.476992         0.000515        0.000262   \n",
       "4       2.508645      0.242184         0.000381        0.000128   \n",
       "5       2.602352      0.392834         0.000512        0.000230   \n",
       "6       2.955229      0.633029         0.000425        0.000211   \n",
       "7       2.843962      0.751603         0.000349        0.000029   \n",
       "8       2.597273      0.372056         0.000321        0.000039   \n",
       "9       2.111250      0.215773         0.000330        0.000028   \n",
       "\n",
       "  param_learning_decay param_n_components  \\\n",
       "0                  0.5                  3   \n",
       "1                  0.5                  4   \n",
       "2                  0.5                  5   \n",
       "3                  0.5                  6   \n",
       "4                  0.5                  7   \n",
       "5                  0.7                  3   \n",
       "6                  0.7                  4   \n",
       "7                  0.7                  5   \n",
       "8                  0.7                  6   \n",
       "9                  0.7                  7   \n",
       "\n",
       "                                       params  split0_test_score  \\\n",
       "0  {'learning_decay': 0.5, 'n_components': 3}         -45.022883   \n",
       "1  {'learning_decay': 0.5, 'n_components': 4}         -49.145599   \n",
       "2  {'learning_decay': 0.5, 'n_components': 5}         -50.024617   \n",
       "3  {'learning_decay': 0.5, 'n_components': 6}         -52.609495   \n",
       "4  {'learning_decay': 0.5, 'n_components': 7}         -54.878310   \n",
       "5  {'learning_decay': 0.7, 'n_components': 3}         -45.022883   \n",
       "6  {'learning_decay': 0.7, 'n_components': 4}         -49.145599   \n",
       "7  {'learning_decay': 0.7, 'n_components': 5}         -50.024617   \n",
       "8  {'learning_decay': 0.7, 'n_components': 6}         -52.609495   \n",
       "9  {'learning_decay': 0.7, 'n_components': 7}         -54.878310   \n",
       "\n",
       "   split1_test_score  split2_test_score  split3_test_score  split4_test_score  \\\n",
       "0         -73.947625         -60.589126         -37.947911         -34.546796   \n",
       "1         -82.726223         -65.081852         -42.126564         -37.038050   \n",
       "2         -86.998110         -70.381182         -44.942218         -42.224895   \n",
       "3         -93.522521         -73.924983         -47.956165         -49.996366   \n",
       "4         -99.846527         -77.129032         -50.917763         -46.861191   \n",
       "5         -73.947625         -60.589126         -37.947911         -34.546796   \n",
       "6         -82.726223         -65.081852         -42.126564         -37.038050   \n",
       "7         -86.998110         -70.381182         -44.942218         -42.224895   \n",
       "8         -93.522521         -73.924983         -47.956165         -49.996366   \n",
       "9         -99.846527         -77.129032         -50.917763         -46.861191   \n",
       "\n",
       "   mean_test_score  std_test_score  rank_test_score  \n",
       "0       -50.410868       14.789188                1  \n",
       "1       -55.223657       16.689926                3  \n",
       "2       -58.914204       17.163750                5  \n",
       "3       -63.601906       17.621249                7  \n",
       "4       -65.926565       19.934270                9  \n",
       "5       -50.410868       14.789188                1  \n",
       "6       -55.223657       16.689926                3  \n",
       "7       -58.914204       17.163750                5  \n",
       "8       -63.601906       17.621249                7  \n",
       "9       -65.926565       19.934270                9  "
      ]
     },
     "execution_count": 28,
     "metadata": {},
     "output_type": "execute_result"
    }
   ],
   "source": [
    "cv_results_df = pd.DataFrame(gridsearch.cv_results_)\n",
    "cv_results_df"
   ]
  },
  {
   "cell_type": "code",
   "execution_count": 29,
   "metadata": {
    "slideshow": {
     "slide_type": "subslide"
    }
   },
   "outputs": [
    {
     "data": {
      "text/plain": [
       "<Axes: xlabel='param_n_components', ylabel='mean_test_score'>"
      ]
     },
     "execution_count": 29,
     "metadata": {},
     "output_type": "execute_result"
    },
    {
     "data": {
      "image/png": "[encoded data removed]",
      "text/plain": [
       "<Figure size 900x600 with 1 Axes>"
      ]
     },
     "metadata": {},
     "output_type": "display_data"
    }
   ],
   "source": [
    "import seaborn as sns\n",
    "sns.set_theme(rc={\"figure.dpi\":150, 'savefig.dpi':150})\n",
    "sns.pointplot(x=\"param_n_components\",\n",
    "              y=\"mean_test_score\",\n",
    "              hue=\"param_learning_decay\",\n",
    "              data=cv_results_df)"
   ]
  },
  {
   "cell_type": "code",
   "execution_count": 30,
   "metadata": {
    "slideshow": {
     "slide_type": "subslide"
    }
   },
   "outputs": [
    {
     "name": "stdout",
     "output_type": "stream",
     "text": [
      "Topic #0 :\n",
      "[('sky', 4.33), ('blue', 3.37), ('beautiful', 3.33)]\n",
      "====================\n",
      "Topic #1 :\n",
      "[('bacon', 2.33), ('eggs', 2.33), ('ham', 2.33), ('sausages', 2.33)]\n",
      "====================\n",
      "Topic #2 :\n",
      "[('brown', 3.33), ('dog', 3.33), ('fox', 3.33), ('lazy', 3.33), ('quick', 3.33)]\n",
      "====================\n"
     ]
    }
   ],
   "source": [
    "get_topics_meanings(best_lda.components_,\n",
    "                    vocab,\n",
    "                    display_weights=True,\n",
    "                    weight_cutoff=2)"
   ]
  },
  {
   "cell_type": "markdown",
   "metadata": {
    "slideshow": {
     "slide_type": "slide"
    }
   },
   "source": [
    "## Topic Prediction"
   ]
  },
  {
   "cell_type": "markdown",
   "metadata": {
    "slideshow": {
     "slide_type": "subslide"
    }
   },
   "source": [
    "- We can use our LDA to make predictions of topics for new documents.\n",
    "- We need to perform the same procedures with the new document as we did with the training data:\n",
    "    - text preprocessing\n",
    "    - count-vectorization"
   ]
  },
  {
   "cell_type": "code",
   "execution_count": 32,
   "metadata": {
    "slideshow": {
     "slide_type": "subslide"
    }
   },
   "outputs": [
    {
     "data": {
      "text/plain": [
       "(2, 20)"
      ]
     },
     "execution_count": 32,
     "metadata": {},
     "output_type": "execute_result"
    }
   ],
   "source": [
    "new_texts = ['The sky is so blue', 'Love burger with ham']\n",
    "\n",
    "## normalize\n",
    "new_texts_norm = normalize_corpus(new_texts)\n",
    "\n",
    "## vectorize\n",
    "new_texts_cv = cv.transform(new_texts_norm)\n",
    "\n",
    "## Check\n",
    "new_texts_cv.shape"
   ]
  },
  {
   "cell_type": "code",
   "execution_count": 33,
   "metadata": {
    "slideshow": {
     "slide_type": "subslide"
    }
   },
   "outputs": [
    {
     "data": {
      "text/html": [
       "<div>\n",
       "<style scoped>\n",
       "    .dataframe tbody tr th:only-of-type {\n",
       "        vertical-align: middle;\n",
       "    }\n",
       "\n",
       "    .dataframe tbody tr th {\n",
       "        vertical-align: top;\n",
       "    }\n",
       "\n",
       "    .dataframe thead th {\n",
       "        text-align: right;\n",
       "    }\n",
       "</style>\n",
       "<table border=\"1\" class=\"dataframe\">\n",
       "  <thead>\n",
       "    <tr style=\"text-align: right;\">\n",
       "      <th></th>\n",
       "      <th>weather</th>\n",
       "      <th>food</th>\n",
       "      <th>animal</th>\n",
       "      <th>predicted_topic</th>\n",
       "      <th>corpus</th>\n",
       "    </tr>\n",
       "  </thead>\n",
       "  <tbody>\n",
       "    <tr>\n",
       "      <th>0</th>\n",
       "      <td>0.775601</td>\n",
       "      <td>0.111301</td>\n",
       "      <td>0.113098</td>\n",
       "      <td>weather</td>\n",
       "      <td>sky blue</td>\n",
       "    </tr>\n",
       "    <tr>\n",
       "      <th>1</th>\n",
       "      <td>0.123415</td>\n",
       "      <td>0.764965</td>\n",
       "      <td>0.111620</td>\n",
       "      <td>food</td>\n",
       "      <td>love burger ham</td>\n",
       "    </tr>\n",
       "  </tbody>\n",
       "</table>\n",
       "</div>"
      ],
      "text/plain": [
       "    weather      food    animal predicted_topic           corpus\n",
       "0  0.775601  0.111301  0.113098         weather         sky blue\n",
       "1  0.123415  0.764965  0.111620            food  love burger ham"
      ]
     },
     "execution_count": 33,
     "metadata": {},
     "output_type": "execute_result"
    }
   ],
   "source": [
    "## Applied our trained LDA\n",
    "new_texts_doc_topic_matrix = best_lda.transform(new_texts_cv)\n",
    "\n",
    "## Check results\n",
    "topics = ['weather', 'food', 'animal']\n",
    "\n",
    "\n",
    "new_texts_doc_topic_df = pd.DataFrame(new_texts_doc_topic_matrix,\n",
    "                                      columns=topics)\n",
    "new_texts_doc_topic_df['predicted_topic'] = [\n",
    "    topics[i] for i in np.argmax(new_texts_doc_topic_df.values, axis=1)\n",
    "]\n",
    "\n",
    "new_texts_doc_topic_df['corpus'] = new_texts_norm\n",
    "new_texts_doc_topic_df"
   ]
  },
  {
   "cell_type": "markdown",
   "metadata": {
    "slideshow": {
     "slide_type": "skip"
    }
   },
   "source": [
    "## Additional Notes"
   ]
  },
  {
   "cell_type": "markdown",
   "metadata": {
    "slideshow": {
     "slide_type": "skip"
    }
   },
   "source": [
    "- We can calculate a metric to evaluate the coherence of each topic.\n",
    "- The coherence computation is implemented in `gensim`. To apply the coherence comptuation to a `sklearn`-trained LDA, we need `tmtoolkit` (`tmtoolkit.topicmod.evaluate.metric_coherence_gensim`).\n",
    "\n",
    "- I leave notes here in case in the future we need to compute the coherence metrics.\n",
    "\n",
    ":::{warning}\n",
    "\n",
    "`tmtoolkit` does not support `spacy` 3+. Also, `tmtoolkit` will downgrade several important packages to lower versions. Please use it with caution. I would suggest creating another virtual environment for this.\n",
    "\n",
    ":::"
   ]
  },
  {
   "cell_type": "markdown",
   "metadata": {
    "slideshow": {
     "slide_type": "skip"
    }
   },
   "source": [
    "- The following codes demonstrate how to find the optimal topic number based on the coherence scores of the topic models."
   ]
  },
  {
   "cell_type": "code",
   "execution_count": null,
   "metadata": {},
   "outputs": [],
   "source": [
    "# Step 5: Calculate Coherence\n",
    "coherence_model = CoherenceModel(topics=top_words_per_topic, texts=tokenized_text, dictionary=feature_names, coherence='c_v')\n",
    "coherence_score = coherence_model.get_coherence()\n"
   ]
  },
  {
   "cell_type": "code",
   "execution_count": 34,
   "metadata": {
    "slideshow": {
     "slide_type": "skip"
    }
   },
   "outputs": [],
   "source": [
    "import tmtoolkit\n",
    "from tmtoolkit.topicmod.evaluate import metric_coherence_gensim\n",
    "def topic_model_coherence_generator(topic_num_start=2,\n",
    "                                    topic_num_end=6,\n",
    "                                    norm_corpus='',\n",
    "                                    cv_matrix='',\n",
    "                                    cv=''):\n",
    "    norm_corpus_tokens = [doc.split() for doc in norm_corpus]\n",
    "    models = []\n",
    "    coherence_scores = []\n",
    "\n",
    "    for i in range(topic_num_start, topic_num_end):\n",
    "        print(i)\n",
    "        cur_lda = LatentDirichletAllocation(n_components=i,\n",
    "                                            max_iter=10000,\n",
    "                                            random_state=0)\n",
    "        cur_lda.fit_transform(cv_matrix)\n",
    "        cur_coherence_score = metric_coherence_gensim(\n",
    "            measure='c_v',\n",
    "            top_n=5,\n",
    "            topic_word_distrib=cur_lda.components_,\n",
    "            dtm=cv.fit_transform(norm_corpus),\n",
    "            vocab=np.array(cv.get_feature_names_out()),\n",
    "            texts=norm_corpus_tokens)\n",
    "        models.append(cur_lda)\n",
    "        coherence_scores.append(np.mean(cur_coherence_score))\n",
    "    return models, coherence_scores"
   ]
  },
  {
   "cell_type": "code",
   "execution_count": 35,
   "metadata": {
    "slideshow": {
     "slide_type": "skip"
    }
   },
   "outputs": [
    {
     "name": "stdout",
     "output_type": "stream",
     "text": [
      "2\n",
      "3\n",
      "4\n",
      "5\n",
      "6\n",
      "7\n",
      "8\n",
      "9\n",
      "CPU times: user 17.5 s, sys: 463 ms, total: 18 s\n",
      "Wall time: 45.8 s\n"
     ]
    }
   ],
   "source": [
    "%%time\n",
    "ts = 2\n",
    "te = 10\n",
    "models, coherence_scores = topic_model_coherence_generator(\n",
    "    ts, te, norm_corpus=norm_corpus, cv=cv, cv_matrix=cv_matrix)"
   ]
  },
  {
   "cell_type": "code",
   "execution_count": 36,
   "metadata": {
    "slideshow": {
     "slide_type": "skip"
    }
   },
   "outputs": [
    {
     "data": {
      "text/plain": [
       "[0.6517493196892892,\n",
       " 0.8866946211961687,\n",
       " 0.765479848024043,\n",
       " 0.8341252576008902,\n",
       " 0.8572203857656319,\n",
       " 0.7066394264220808,\n",
       " 0.6391495323490347,\n",
       " 0.6086551968156503]"
      ]
     },
     "execution_count": 36,
     "metadata": {},
     "output_type": "execute_result"
    }
   ],
   "source": [
    "coherence_scores"
   ]
  },
  {
   "cell_type": "code",
   "execution_count": 37,
   "metadata": {
    "slideshow": {
     "slide_type": "skip"
    }
   },
   "outputs": [
    {
     "data": {
      "text/html": [
       "<div>\n",
       "<style scoped>\n",
       "    .dataframe tbody tr th:only-of-type {\n",
       "        vertical-align: middle;\n",
       "    }\n",
       "\n",
       "    .dataframe tbody tr th {\n",
       "        vertical-align: top;\n",
       "    }\n",
       "\n",
       "    .dataframe thead th {\n",
       "        text-align: right;\n",
       "    }\n",
       "</style>\n",
       "<table border=\"1\" class=\"dataframe\">\n",
       "  <thead>\n",
       "    <tr style=\"text-align: right;\">\n",
       "      <th></th>\n",
       "      <th>TOPIC_NUMBER</th>\n",
       "      <th>COHERENCE_SCORE</th>\n",
       "    </tr>\n",
       "  </thead>\n",
       "  <tbody>\n",
       "    <tr>\n",
       "      <th>1</th>\n",
       "      <td>3</td>\n",
       "      <td>0.8867</td>\n",
       "    </tr>\n",
       "    <tr>\n",
       "      <th>4</th>\n",
       "      <td>6</td>\n",
       "      <td>0.8572</td>\n",
       "    </tr>\n",
       "    <tr>\n",
       "      <th>3</th>\n",
       "      <td>5</td>\n",
       "      <td>0.8341</td>\n",
       "    </tr>\n",
       "    <tr>\n",
       "      <th>2</th>\n",
       "      <td>4</td>\n",
       "      <td>0.7655</td>\n",
       "    </tr>\n",
       "    <tr>\n",
       "      <th>5</th>\n",
       "      <td>7</td>\n",
       "      <td>0.7066</td>\n",
       "    </tr>\n",
       "    <tr>\n",
       "      <th>0</th>\n",
       "      <td>2</td>\n",
       "      <td>0.6517</td>\n",
       "    </tr>\n",
       "    <tr>\n",
       "      <th>6</th>\n",
       "      <td>8</td>\n",
       "      <td>0.6391</td>\n",
       "    </tr>\n",
       "    <tr>\n",
       "      <th>7</th>\n",
       "      <td>9</td>\n",
       "      <td>0.6087</td>\n",
       "    </tr>\n",
       "  </tbody>\n",
       "</table>\n",
       "</div>"
      ],
      "text/plain": [
       "  TOPIC_NUMBER  COHERENCE_SCORE\n",
       "1            3           0.8867\n",
       "4            6           0.8572\n",
       "3            5           0.8341\n",
       "2            4           0.7655\n",
       "5            7           0.7066\n",
       "0            2           0.6517\n",
       "6            8           0.6391\n",
       "7            9           0.6087"
      ]
     },
     "execution_count": 37,
     "metadata": {},
     "output_type": "execute_result"
    }
   ],
   "source": [
    "coherence_df = pd.DataFrame({\n",
    "    'TOPIC_NUMBER': [str(i) for i in range(ts, te)],\n",
    "    'COHERENCE_SCORE': np.round(coherence_scores, 4)\n",
    "})\n",
    "\n",
    "coherence_df.sort_values(by=[\"COHERENCE_SCORE\"], ascending=False)"
   ]
  },
  {
   "cell_type": "code",
   "execution_count": 38,
   "metadata": {
    "scrolled": false,
    "slideshow": {
     "slide_type": "skip"
    }
   },
   "outputs": [
    {
     "data": {
      "image/png": "[encoded data removed]",
      "text/plain": [
       "<Figure size 960x720 with 1 Axes>"
      ]
     },
     "metadata": {
      "image/png": {
       "height": 720,
       "width": 960
      }
     },
     "output_type": "display_data"
    },
    {
     "data": {
      "text/plain": [
       "<Figure Size: (960 x 720)>"
      ]
     },
     "execution_count": 38,
     "metadata": {},
     "output_type": "execute_result"
    }
   ],
   "source": [
    "import plotnine\n",
    "from plotnine import ggplot, aes, geom_point, geom_line, labs\n",
    "plotnine.options.dpi = 150\n",
    "\n",
    "g = (ggplot(coherence_df) + aes(x=\"TOPIC_NUMBER\", y=\"COHERENCE_SCORE\") +\n",
    "     geom_point(stat=\"identity\") + geom_line(group=1, color=\"lightgrey\") +\n",
    "     labs(x=\"Number of Topics\", y=\"Average Coherence Score\"))\n",
    "g"
   ]
  },
  {
   "cell_type": "markdown",
   "metadata": {},
   "source": [
    "## Challenges\n",
    "\n",
    "- There are several challenges and limications with LDA:\n",
    "\n",
    "    - Choosing the number of topics\n",
    "    - Interpretability\n",
    "    - Scalability\n",
    "    - Polysemy and context\n",
    "\n",
    "- Maybe we can combine this exploratory method of topic model with LLM by feeding the key terms of topics to the LLM to prompt for more comprehensive desciption and interpretation of the topics.\n",
    "\n",
    "\n"
   ]
  },
  {
   "cell_type": "markdown",
   "metadata": {
    "slideshow": {
     "slide_type": "slide"
    }
   },
   "source": [
    "## References\n",
    "\n",
    "- Sarkar (2019), Chapter 6: Text Summarization and Topic Models\n",
    "- [Latent Dirichlet Allocation (LDA) and Topic Modeling: Models, Applications, and a Survey](https://arxiv.org/abs/1711.04305)"
   ]
  }
 ],
 "metadata": {
  "celltoolbar": "Slideshow",
  "kernelspec": {
   "display_name": "python-notes-2023",
   "language": "python",
   "name": "python3"
  },
  "language_info": {
   "codemirror_mode": {
    "name": "ipython",
    "version": 3
   },
   "file_extension": ".py",
   "mimetype": "text/x-python",
   "name": "python",
   "nbconvert_exporter": "python",
   "pygments_lexer": "ipython3",
   "version": "3.9.18"
  },
  "toc": {
   "base_numbering": "2",
   "nav_menu": {},
   "number_sections": true,
   "sideBar": true,
   "skip_h1_title": false,
   "title_cell": "Table of Contents",
   "title_sidebar": "Contents",
   "toc_cell": false,
   "toc_position": {
    "height": "47.6px",
    "left": "1274.24px",
    "top": "111.6px",
    "width": "344px"
   },
   "toc_section_display": true,
   "toc_window_display": false
  },
  "varInspector": {
   "cols": {
    "lenName": 16,
    "lenType": 16,
    "lenVar": 40
   },
   "kernels_config": {
    "python": {
     "delete_cmd_postfix": "",
     "delete_cmd_prefix": "del ",
     "library": "var_list.py",
     "varRefreshCmd": "print(var_dic_list())"
    },
    "r": {
     "delete_cmd_postfix": ") ",
     "delete_cmd_prefix": "rm(",
     "library": "var_list.r",
     "varRefreshCmd": "cat(var_dic_list()) "
    }
   },
   "types_to_exclude": [
    "module",
    "function",
    "builtin_function_or_method",
    "instance",
    "_Feature"
   ],
   "window_display": false
  }
 },
 "nbformat": 4,
 "nbformat_minor": 4
}