{
 "cells": [
  {
   "cell_type": "markdown",
   "metadata": {
    "id": "2tpGvesTAvJ_"
   },
   "source": [
    "# Machine Learning: A Simple Example"
   ]
  },
  {
   "cell_type": "markdown",
   "metadata": {
    "id": "JE5iqqmBAvKB"
   },
   "source": [
    ":::{contents}\n",
    ":::"
   ]
  },
  {
   "cell_type": "markdown",
   "metadata": {
    "id": "amOUdmYGAvKC"
   },
   "source": [
    "## A Quick Example: Name Gender Prediction"
   ]
  },
  {
   "cell_type": "markdown",
   "metadata": {
    "id": "F_egUD7-AvKC"
   },
   "source": [
    "Let's assume that we have collected a list of personal names and we have their corresponding gender labels, i.e., whether the name is a male or female one.\n",
    "\n",
    "The goal of this example is to create a classifier that would automatically classify a given name into either male or female."
   ]
  },
  {
   "cell_type": "markdown",
   "metadata": {
    "id": "uKxJ3BsmAvKC"
   },
   "source": [
    "### Prepare Data"
   ]
  },
  {
   "cell_type": "markdown",
   "metadata": {
    "id": "kYK-K3aKAvKC"
   },
   "source": [
    "- We use the data provided in NLTK. Please download the corpus data if necessary.\n",
    "- We load the corpus, `nltk.corpus.names` and randomize it before we proceed."
   ]
  },
  {
   "cell_type": "code",
   "execution_count": 1,
   "metadata": {
    "executionInfo": {
     "elapsed": 2552,
     "status": "ok",
     "timestamp": 1709699348697,
     "user": {
      "displayName": "Alvin Chen",
      "userId": "06244732172561186175"
     },
     "user_tz": -480
    },
    "id": "Lx8CxG-CAvKD"
   },
   "outputs": [],
   "source": [
    "import numpy as np\n",
    "import nltk\n",
    "from nltk.corpus import names\n",
    "from nltk.classify import apply_features\n",
    "import random"
   ]
  },
  {
   "cell_type": "code",
   "execution_count": 2,
   "metadata": {
    "colab": {
     "base_uri": "https://localhost:8080/"
    },
    "executionInfo": {
     "elapsed": 17,
     "status": "ok",
     "timestamp": 1709699348697,
     "user": {
      "displayName": "Alvin Chen",
      "userId": "06244732172561186175"
     },
     "user_tz": -480
    },
    "id": "E_QGmQzaAvKD",
    "outputId": "9cd79a4c-eea3-4fef-f2c4-4d9cba269573"
   },
   "outputs": [
    {
     "name": "stderr",
     "output_type": "stream",
     "text": [
      "[nltk_data] Downloading package names to /root/nltk_data...\n",
      "[nltk_data]   Unzipping corpora/names.zip.\n"
     ]
    },
    {
     "data": {
      "text/plain": [
       "True"
      ]
     },
     "execution_count": 2,
     "metadata": {},
     "output_type": "execute_result"
    }
   ],
   "source": [
    "## Colab Only\n",
    "nltk.download(\"names\")"
   ]
  },
  {
   "cell_type": "code",
   "execution_count": 3,
   "metadata": {
    "executionInfo": {
     "elapsed": 15,
     "status": "ok",
     "timestamp": 1709699348697,
     "user": {
      "displayName": "Alvin Chen",
      "userId": "06244732172561186175"
     },
     "user_tz": -480
    },
    "id": "HpjsYDQSAvKE"
   },
   "outputs": [],
   "source": [
    "labeled_names = ([(name, 'male') for name in names.words('male.txt')] +\n",
    "                 [(name, 'female') for name in names.words('female.txt')])\n",
    "random.shuffle(labeled_names)"
   ]
  },
  {
   "cell_type": "markdown",
   "metadata": {
    "id": "9mQ_MDBUAvKE"
   },
   "source": [
    "### Feature Engineering"
   ]
  },
  {
   "cell_type": "markdown",
   "metadata": {
    "id": "bfgKKbFBAvKE"
   },
   "source": [
    "- Now our **base unit** for classification is a name.\n",
    "- In **feature engineering**, our goal is to transform the texts (i.e., names) into vectorized representations.\n",
    "- To start with, let's represent each text (name) by using its last character as the features."
   ]
  },
  {
   "cell_type": "code",
   "execution_count": 4,
   "metadata": {
    "colab": {
     "base_uri": "https://localhost:8080/"
    },
    "executionInfo": {
     "elapsed": 16,
     "status": "ok",
     "timestamp": 1709699348698,
     "user": {
      "displayName": "Alvin Chen",
      "userId": "06244732172561186175"
     },
     "user_tz": -480
    },
    "id": "zxNPCbaYAvKE",
    "outputId": "f47eff4a-ba29-4480-c36b-2b12df13de9f"
   },
   "outputs": [
    {
     "data": {
      "text/plain": [
       "{'last_letter': 'k'}"
      ]
     },
     "execution_count": 4,
     "metadata": {},
     "output_type": "execute_result"
    }
   ],
   "source": [
    "def text_vectorizer(word):\n",
    "    return {'last_letter': word[-1]}\n",
    "\n",
    "\n",
    "text_vectorizer('Shrek')"
   ]
  },
  {
   "cell_type": "markdown",
   "metadata": {
    "id": "b1kv35WTAvKF"
   },
   "source": [
    "### Train-Test Split"
   ]
  },
  {
   "cell_type": "markdown",
   "metadata": {
    "id": "B0t6wk1kAvKF"
   },
   "source": [
    "- We then apply the feature engineering method to every text in the data and split the data into **training** and **testing** sets."
   ]
  },
  {
   "cell_type": "code",
   "execution_count": 5,
   "metadata": {
    "executionInfo": {
     "elapsed": 14,
     "status": "ok",
     "timestamp": 1709699348698,
     "user": {
      "displayName": "Alvin Chen",
      "userId": "06244732172561186175"
     },
     "user_tz": -480
    },
    "id": "_SfKSRIuAvKF"
   },
   "outputs": [],
   "source": [
    "featuresets = [(text_vectorizer(n), gender) for (n, gender) in labeled_names]\n",
    "train_set, test_set = featuresets[500:], featuresets[:500]"
   ]
  },
  {
   "cell_type": "markdown",
   "metadata": {
    "id": "b8J0wv9XAvKF"
   },
   "source": [
    "- Now all the training/testing tokens are included in a **list**.\n",
    "- Each training token (i.e., base unit) is encoded as a **tuple** of `(feature dictionary, string)`, where we have its features represented as a **dictionary**, and its label as a **string**."
   ]
  },
  {
   "cell_type": "code",
   "execution_count": 6,
   "metadata": {
    "colab": {
     "base_uri": "https://localhost:8080/"
    },
    "executionInfo": {
     "elapsed": 14,
     "status": "ok",
     "timestamp": 1709699348698,
     "user": {
      "displayName": "Alvin Chen",
      "userId": "06244732172561186175"
     },
     "user_tz": -480
    },
    "id": "1LyHAEMhAvKF",
    "outputId": "9e8998eb-d224-4306-e248-5384d0c7d873"
   },
   "outputs": [
    {
     "data": {
      "text/plain": [
       "[({'last_letter': 'd'}, 'male'),\n",
       " ({'last_letter': 'g'}, 'male'),\n",
       " ({'last_letter': 'i'}, 'male'),\n",
       " ({'last_letter': 'a'}, 'female'),\n",
       " ({'last_letter': 'a'}, 'female')]"
      ]
     },
     "execution_count": 6,
     "metadata": {},
     "output_type": "execute_result"
    }
   ],
   "source": [
    "train_set[:5]"
   ]
  },
  {
   "cell_type": "markdown",
   "metadata": {
    "id": "rPJw5lppAvKF"
   },
   "source": [
    "- Please note that in `NLTK`, we can use the `apply_features` to create training and testing datasets.\n",
    "- When you have a very large feature set, this can be more effective in terms of memory management."
   ]
  },
  {
   "cell_type": "markdown",
   "metadata": {
    "id": "_HqY5qqhAvKF"
   },
   "source": [
    "- This is our earlier method of creating training and testing sets:\n",
    "\n",
    "```\n",
    "featuresets = [(text_vectorizer(n), gender) for (n, gender) in labeled_names]\n",
    "train_set, test_set = featuresets[500:], featuresets[:500]\n",
    "```"
   ]
  },
  {
   "cell_type": "code",
   "execution_count": 7,
   "metadata": {
    "executionInfo": {
     "elapsed": 13,
     "status": "ok",
     "timestamp": 1709699348698,
     "user": {
      "displayName": "Alvin Chen",
      "userId": "06244732172561186175"
     },
     "user_tz": -480
    },
    "id": "1gKcTXHzAvKF"
   },
   "outputs": [],
   "source": [
    "# train_set = apply_features(text_vectorizer, labeled_names[500:])\n",
    "# test_set = apply_features(text_vectorizer, labeled_names[:500])"
   ]
  },
  {
   "cell_type": "markdown",
   "metadata": {
    "id": "rCJH26pVAvKF"
   },
   "source": [
    "### Train the Model"
   ]
  },
  {
   "cell_type": "markdown",
   "metadata": {
    "id": "85Wg5cT1AvKF"
   },
   "source": [
    "- A good start is to try the simple Naive Bayes Classifier."
   ]
  },
  {
   "cell_type": "code",
   "execution_count": 8,
   "metadata": {
    "executionInfo": {
     "elapsed": 13,
     "status": "ok",
     "timestamp": 1709699348698,
     "user": {
      "displayName": "Alvin Chen",
      "userId": "06244732172561186175"
     },
     "user_tz": -480
    },
    "id": "HQcYzSqiAvKF"
   },
   "outputs": [],
   "source": [
    "classifier = nltk.NaiveBayesClassifier.train(train_set)"
   ]
  },
  {
   "cell_type": "markdown",
   "metadata": {
    "id": "BV2Xsru3AvKF"
   },
   "source": [
    "### Evaluate the Model"
   ]
  },
  {
   "cell_type": "markdown",
   "metadata": {
    "id": "yqHmR4RgAvKF"
   },
   "source": [
    "- After we train the model, we need to evaluate its performance on the testing dataset.\n",
    "- Model evaluation usually involves comparing the predictions provided by the model with the correct answers/labels.\n",
    "- The evaluation results are often summarized in a **confusion matrix**."
   ]
  },
  {
   "cell_type": "markdown",
   "metadata": {
    "id": "0NDBIFfRAvKG"
   },
   "source": [
    "![](../images/confusion-matrix.jpeg)"
   ]
  },
  {
   "cell_type": "markdown",
   "metadata": {
    "id": "0nGeMHD2AvKG"
   },
   "source": [
    "- Confusion Matrix:\n",
    "    - **True positives** are relevant items that we correctly identified as relevant.\n",
    "    - **True negatives** are irrelevant items that we correctly identified as irrelevant.\n",
    "    - **False positives** (or Type I errors) are irrelevant items that we incorrectly identified as relevant.\n",
    "    - **False negatives** (or Type II errors) are relevant items that we incorrectly identified as irrelevant.\n",
    "    "
   ]
  },
  {
   "cell_type": "markdown",
   "metadata": {
    "id": "_wPGP1oiAvKG"
   },
   "source": [
    "- Given these four numbers, we can define the following model evaluation metrics:\n",
    "    - **Accuracy**: How many items were correctly classified, i.e., $\\frac{TP + TN}{N}$\n",
    "    - **Precision**: How many of the items identified by the classifier as relevant are indeed relevant, i.e., $\\frac{TP}{TP+FP}$.\n",
    "    - **Recall**: How many of the true relevant items were successfully identified by the classifier, i.e., $\\frac{TP}{TP+FN}$.\n",
    "    - **F-Measure (or F-Score)**: the harmonic mean of the precision and recall,i.e.:\n",
    "        \n",
    "\n",
    "    $$\n",
    "    F= \\frac{(2 × Precision × Recall)}{(Precision + Recall)}\n",
    "    $$"
   ]
  },
  {
   "cell_type": "markdown",
   "metadata": {
    "id": "x-s2laDwAvKG"
   },
   "source": [
    ":::{note}\n",
    "\n",
    "When dealing with imbalanced class distributions, we need to take into account the baseline performance in our model evaluation. For example. if the distribution of `Class 0` and `Class 1` is 9:1, then a naive classifier might as well classify all cases as `Class 0`, yielding a high-**precision** performance (i.e., Precision = 90%).\n",
    "\n",
    "Given this baseline, to better evaluate the classifier on imbalanced dataset, probably the classifier's **recall rates** are more important.\n",
    "\n",
    ":::"
   ]
  },
  {
   "cell_type": "markdown",
   "metadata": {
    "id": "TI7ppd2sAvKG"
   },
   "source": [
    ":::{note}\n",
    "\n",
    "**Precision, Recall, and F-measure**\n",
    "\n",
    "In machine learning, precision and recall are two important metrics used to evaluate the performance of a classifier. Precision measures the proportion of correctly predicted positive instances among all instances predicted as positive, while recall measures the proportion of correctly predicted positive instances among all actual positive instances. Sometimes, it's challenging to optimize both precision and recall simultaneously during model training because increasing one may lead to a decrease in the other. For example, making the classifier more conservative can improve precision but lower recall, and vice versa. This trade-off between precision and recall highlights the importance of using a metric that considers both aspects simultaneously, such as the F measure. The F measure combines precision and recall into a single score, providing a balanced assessment of a classifier's performance without favoring one metric over the other. Therefore, in scenarios where precision and recall cannot be optimized simultaneously, the F measure becomes crucial for evaluating the classifier's effectiveness.\n",
    ":::"
   ]
  },
  {
   "cell_type": "code",
   "execution_count": 9,
   "metadata": {
    "colab": {
     "base_uri": "https://localhost:8080/"
    },
    "executionInfo": {
     "elapsed": 13,
     "status": "ok",
     "timestamp": 1709699348698,
     "user": {
      "displayName": "Alvin Chen",
      "userId": "06244732172561186175"
     },
     "user_tz": -480
    },
    "id": "i4CW8nYfAvKG",
    "outputId": "d483a108-6267-4818-870e-c442be6eecd7"
   },
   "outputs": [
    {
     "name": "stdout",
     "output_type": "stream",
     "text": [
      "Accuracy: 0.74\n"
     ]
    }
   ],
   "source": [
    "print('Accuracy: {:4.2f}'.format(nltk.classify.accuracy(classifier, test_set)))"
   ]
  },
  {
   "cell_type": "code",
   "execution_count": 10,
   "metadata": {
    "executionInfo": {
     "elapsed": 12,
     "status": "ok",
     "timestamp": 1709699348698,
     "user": {
      "displayName": "Alvin Chen",
      "userId": "06244732172561186175"
     },
     "user_tz": -480
    },
    "id": "YWbWTMX8AvKG"
   },
   "outputs": [],
   "source": [
    "## Compute the Confusion Matrix\n",
    "t_f = [feature for (feature, label) in test_set]  # features of test set\n",
    "t_l = [label for (feature, label) in test_set]  # labels of test set\n",
    "t_l_pr = [classifier.classify(f) for f in t_f]  # predicted labels of test set\n",
    "cm = nltk.ConfusionMatrix(t_l, t_l_pr)"
   ]
  },
  {
   "cell_type": "code",
   "execution_count": 11,
   "metadata": {
    "colab": {
     "base_uri": "https://localhost:8080/"
    },
    "executionInfo": {
     "elapsed": 12,
     "status": "ok",
     "timestamp": 1709699348698,
     "user": {
      "displayName": "Alvin Chen",
      "userId": "06244732172561186175"
     },
     "user_tz": -480
    },
    "id": "AX5RnI5mAvKG",
    "outputId": "46844f0e-3be6-41ab-a291-8402bc3c7a97"
   },
   "outputs": [
    {
     "name": "stdout",
     "output_type": "stream",
     "text": [
      "       |   f     |\n",
      "       |   e     |\n",
      "       |   m   m |\n",
      "       |   a   a |\n",
      "       |   l   l |\n",
      "       |   e   e |\n",
      "-------+---------+\n",
      "female |<246> 60 |\n",
      "  male |  71<123>|\n",
      "-------+---------+\n",
      "(row = reference; col = test)\n",
      "\n",
      "       |      f        |\n",
      "       |      e        |\n",
      "       |      m      m |\n",
      "       |      a      a |\n",
      "       |      l      l |\n",
      "       |      e      e |\n",
      "-------+---------------+\n",
      "female | <49.2%> 12.0% |\n",
      "  male |  14.2% <24.6%>|\n",
      "-------+---------------+\n",
      "(row = reference; col = test)\n",
      "\n"
     ]
    }
   ],
   "source": [
    "cm = nltk.ConfusionMatrix(t_l, t_l_pr)\n",
    "print(cm.pretty_format(sort_by_count=True, show_percents=False, truncate=9))\n",
    "print(cm.pretty_format(sort_by_count=True, show_percents=True, truncate=9))"
   ]
  },
  {
   "cell_type": "code",
   "execution_count": 12,
   "metadata": {
    "executionInfo": {
     "elapsed": 11,
     "status": "ok",
     "timestamp": 1709699348698,
     "user": {
      "displayName": "Alvin Chen",
      "userId": "06244732172561186175"
     },
     "user_tz": -480
    },
    "id": "6SGKusZ9AvKG"
   },
   "outputs": [],
   "source": [
    "## wrap as a function\n",
    "def createCM(classifier, test_set):\n",
    "    t_f = [feature for (feature, label) in test_set]\n",
    "    t_l = [label for (feature, label) in test_set]\n",
    "    t_l_pr = [classifier.classify(f) for f in t_f]\n",
    "    cm = nltk.ConfusionMatrix(t_l, t_l_pr)\n",
    "    print(cm.pretty_format(sort_by_count=True, show_percents=True, truncate=9))"
   ]
  },
  {
   "cell_type": "code",
   "execution_count": 13,
   "metadata": {
    "colab": {
     "base_uri": "https://localhost:8080/"
    },
    "executionInfo": {
     "elapsed": 11,
     "status": "ok",
     "timestamp": 1709699348698,
     "user": {
      "displayName": "Alvin Chen",
      "userId": "06244732172561186175"
     },
     "user_tz": -480
    },
    "id": "pCaR2P3fAvKG",
    "outputId": "cd6ed692-a394-4011-bfbb-bde21b939f47"
   },
   "outputs": [
    {
     "name": "stdout",
     "output_type": "stream",
     "text": [
      "       |      f        |\n",
      "       |      e        |\n",
      "       |      m      m |\n",
      "       |      a      a |\n",
      "       |      l      l |\n",
      "       |      e      e |\n",
      "-------+---------------+\n",
      "female | <49.2%> 12.0% |\n",
      "  male |  14.2% <24.6%>|\n",
      "-------+---------------+\n",
      "(row = reference; col = test)\n",
      "\n"
     ]
    }
   ],
   "source": [
    "createCM(classifier, test_set)"
   ]
  },
  {
   "cell_type": "markdown",
   "metadata": {
    "id": "Q8JtDgkeAvKG"
   },
   "source": [
    "- We can also get confusion matrix statistics from `sklearn`:\n",
    "    - `confusion_matrix`\n",
    "    - `ConfusionMatrixDisplay`\n",
    "    - `classification_report`"
   ]
  },
  {
   "cell_type": "code",
   "execution_count": 14,
   "metadata": {
    "colab": {
     "base_uri": "https://localhost:8080/",
     "height": 484
    },
    "executionInfo": {
     "elapsed": 11,
     "status": "ok",
     "timestamp": 1709699348698,
     "user": {
      "displayName": "Alvin Chen",
      "userId": "06244732172561186175"
     },
     "user_tz": -480
    },
    "id": "aR_AF1IjAvKG",
    "outputId": "5a461826-67dc-490a-8cba-42ec5df4c737"
   },
   "outputs": [
    {
     "name": "stdout",
     "output_type": "stream",
     "text": [
      "[[246  60]\n",
      " [ 71 123]]\n"
     ]
    },
    {
     "data": {
      "image/png": "[encoded data removed]",
      "text/plain": [
       "<Figure size 640x480 with 2 Axes>"
      ]
     },
     "metadata": {},
     "output_type": "display_data"
    }
   ],
   "source": [
    "from sklearn.metrics import classification_report, confusion_matrix, ConfusionMatrixDisplay\n",
    "import matplotlib.pyplot as plt\n",
    "\n",
    "## label names\n",
    "target_names = ['female', 'male']\n",
    "## confusion matrix\n",
    "cm = confusion_matrix(y_true = t_l, y_pred = t_l_pr, labels = target_names)\n",
    "print(cm)\n",
    "## plotting\n",
    "disp = ConfusionMatrixDisplay(confusion_matrix= cm,\n",
    "                              display_labels= target_names)\n",
    "\n",
    "disp.plot()\n",
    "plt.show()\n",
    "\n",
    "\n"
   ]
  },
  {
   "cell_type": "code",
   "execution_count": 15,
   "metadata": {
    "colab": {
     "base_uri": "https://localhost:8080/"
    },
    "executionInfo": {
     "elapsed": 9,
     "status": "ok",
     "timestamp": 1709699348698,
     "user": {
      "displayName": "Alvin Chen",
      "userId": "06244732172561186175"
     },
     "user_tz": -480
    },
    "id": "YrMK5ELnAvKH",
    "outputId": "20cc01ff-5153-4674-d7ce-6dc1c1144afa"
   },
   "outputs": [
    {
     "name": "stdout",
     "output_type": "stream",
     "text": [
      "              precision    recall  f1-score   support\n",
      "\n",
      "      female       0.78      0.80      0.79       306\n",
      "        male       0.67      0.63      0.65       194\n",
      "\n",
      "    accuracy                           0.74       500\n",
      "   macro avg       0.72      0.72      0.72       500\n",
      "weighted avg       0.74      0.74      0.74       500\n",
      "\n"
     ]
    }
   ],
   "source": [
    "## confusion matrix report\n",
    "print(classification_report(y_true = t_l, y_pred = t_l_pr, target_names= ['female','male']))"
   ]
  },
  {
   "cell_type": "code",
   "execution_count": 16,
   "metadata": {
    "colab": {
     "base_uri": "https://localhost:8080/"
    },
    "executionInfo": {
     "elapsed": 9,
     "status": "ok",
     "timestamp": 1709699348698,
     "user": {
      "displayName": "Alvin Chen",
      "userId": "06244732172561186175"
     },
     "user_tz": -480
    },
    "id": "P208nSK_AvKH",
    "outputId": "ec6ee1c3-9520-4dc0-eb5d-65cadc87d0b3"
   },
   "outputs": [
    {
     "name": "stdout",
     "output_type": "stream",
     "text": [
      "0.792\n",
      "0.77\n",
      "0.7882\n"
     ]
    }
   ],
   "source": [
    "## Accuracy\n",
    "print((272+124)/500)\n",
    "\n",
    "## macro F measures\n",
    "print((0.84 + 0.70)/2)\n",
    "\n",
    "## weighted F measures\n",
    "print(0.84*(315/(315+185)) + 0.70 * (185/(315+185)))"
   ]
  },
  {
   "cell_type": "markdown",
   "metadata": {
    "id": "Wt3sqHOGAvKQ"
   },
   "source": [
    ":::{note}\n",
    ":class: dropdown\n",
    "\n",
    "- The **macro-averaged** F1 score (or macro F1 score) is computed using the arithmetic mean (aka unweighted mean) of all the per-class F1 scores. This method treats all classes equally regardless of their class distributions.\n",
    "\n",
    "- The **weighted-averaged** F1 score is calculated by taking the mean of all per-class F1 scores while considering each class’s distribution in the dataset. The \"weight\" essentially refers to the proportion of each class’s token numbers relative to the sum of the entire dataset.\n",
    "\n",
    "- Which metrics should be more crucial to your evaluation?\n",
    "\n",
    "    - If you're dealing with an imbalanced dataset where all classes are equally important, go for the **macro-averaged** F1 score.\n",
    "    - If your dataset is imbalanced, but you want to give more importance to classes with more examples, go for the **weighted-averaged** F1 score.\n",
    "    - If you have a balanced dataset and want a straightforward metric for overall performance, you can use accuracy, which is sometimes referred to as **micro** F1 score.\n",
    ":::"
   ]
  },
  {
   "cell_type": "markdown",
   "metadata": {
    "id": "jGr9Q2FcAvKQ"
   },
   "source": [
    "### Model Prediction"
   ]
  },
  {
   "cell_type": "markdown",
   "metadata": {
    "id": "rEIoqHGpAvKQ"
   },
   "source": [
    "- After we obtain a classifier, we can use it for (new) case predictions."
   ]
  },
  {
   "cell_type": "code",
   "execution_count": 17,
   "metadata": {
    "colab": {
     "base_uri": "https://localhost:8080/"
    },
    "executionInfo": {
     "elapsed": 8,
     "status": "ok",
     "timestamp": 1709699348698,
     "user": {
      "displayName": "Alvin Chen",
      "userId": "06244732172561186175"
     },
     "user_tz": -480
    },
    "id": "tzZWgB8ZAvKQ",
    "outputId": "d8c99e9e-ce26-4690-e347-7cbd915b9424"
   },
   "outputs": [
    {
     "name": "stdout",
     "output_type": "stream",
     "text": [
      "male\n",
      "female\n"
     ]
    }
   ],
   "source": [
    "print(classifier.classify(text_vectorizer('Alvino')))\n",
    "print(classifier.classify(text_vectorizer('Trinity')))\n"
   ]
  },
  {
   "cell_type": "markdown",
   "metadata": {
    "id": "DsHUCBG1AvKQ"
   },
   "source": [
    "### Post-hoc Analysis (Interpreting the model)"
   ]
  },
  {
   "cell_type": "markdown",
   "metadata": {
    "id": "N656mxrpAvKQ"
   },
   "source": [
    "- One of the most important steps after model training is to examine which features contribute the most to the classifier prediction of the class."
   ]
  },
  {
   "cell_type": "code",
   "execution_count": 18,
   "metadata": {
    "colab": {
     "base_uri": "https://localhost:8080/"
    },
    "executionInfo": {
     "elapsed": 7,
     "status": "ok",
     "timestamp": 1709699348698,
     "user": {
      "displayName": "Alvin Chen",
      "userId": "06244732172561186175"
     },
     "user_tz": -480
    },
    "id": "_hLjcdqUAvKQ",
    "outputId": "d3bc8407-d550-4a38-9667-0dd7e7c86d4c"
   },
   "outputs": [
    {
     "name": "stdout",
     "output_type": "stream",
     "text": [
      "Most Informative Features\n",
      "             last_letter = 'a'            female : male   =     34.3 : 1.0\n",
      "             last_letter = 'k'              male : female =     31.4 : 1.0\n",
      "             last_letter = 'v'              male : female =     18.8 : 1.0\n",
      "             last_letter = 'f'              male : female =     16.7 : 1.0\n",
      "             last_letter = 'p'              male : female =     12.6 : 1.0\n",
      "             last_letter = 'd'              male : female =     10.6 : 1.0\n",
      "             last_letter = 'm'              male : female =      8.8 : 1.0\n",
      "             last_letter = 'o'              male : female =      8.0 : 1.0\n",
      "             last_letter = 'r'              male : female =      7.1 : 1.0\n",
      "             last_letter = 'g'              male : female =      5.5 : 1.0\n"
     ]
    }
   ],
   "source": [
    "classifier.show_most_informative_features(10)"
   ]
  },
  {
   "cell_type": "markdown",
   "metadata": {
    "id": "BWuu-QqyAvKQ"
   },
   "source": [
    "## How can we improve the model/classifier?"
   ]
  },
  {
   "cell_type": "markdown",
   "metadata": {
    "id": "aQiojXjvAvKQ"
   },
   "source": [
    "In the following, we will talk about methods that we may consider to further improve the model training.\n",
    "\n",
    "- Feature Engineering\n",
    "- Error Analysis\n",
    "- Cross Validation\n",
    "- Try Different Machine-Learning Algorithms\n",
    "- (Ensemble Methods)"
   ]
  },
  {
   "cell_type": "markdown",
   "metadata": {
    "id": "9JdoA6QXAvKQ"
   },
   "source": [
    "### More Sophisticated Feature Engineering"
   ]
  },
  {
   "cell_type": "markdown",
   "metadata": {
    "id": "x1SAWEXtAvKR"
   },
   "source": [
    "- We can extract more useful features from the names.\n",
    "- Use the following features for vectorized representations of names:\n",
    "    - The first/last letter\n",
    "    - Frequencies of all 26 alphabets in the names"
   ]
  },
  {
   "cell_type": "code",
   "execution_count": 19,
   "metadata": {
    "executionInfo": {
     "elapsed": 6,
     "status": "ok",
     "timestamp": 1709699348698,
     "user": {
      "displayName": "Alvin Chen",
      "userId": "06244732172561186175"
     },
     "user_tz": -480
    },
    "id": "2W18uLuwAvKR"
   },
   "outputs": [],
   "source": [
    "## refine out text vectorizer\n",
    "def text_vectorizer2(name):\n",
    "    features = {}\n",
    "    features[\"first_letter\"] = name[0].lower()\n",
    "    features[\"last_letter\"] = name[-1].lower()\n",
    "    for letter in 'abcdefghijklmnopqrstuvwxyz':\n",
    "        features[\"count({})\".format(letter)] = name.lower().count(letter)\n",
    "        features[\"has({})\".format(letter)] = (letter in name.lower())\n",
    "    return features\n"
   ]
  },
  {
   "cell_type": "code",
   "execution_count": 20,
   "metadata": {
    "colab": {
     "base_uri": "https://localhost:8080/"
    },
    "executionInfo": {
     "elapsed": 7,
     "status": "ok",
     "timestamp": 1709699348699,
     "user": {
      "displayName": "Alvin Chen",
      "userId": "06244732172561186175"
     },
     "user_tz": -480
    },
    "id": "Rtq1QOKYAvKR",
    "outputId": "8e1be8aa-0b95-4522-e41c-8a251650d3b5"
   },
   "outputs": [
    {
     "data": {
      "text/plain": [
       "{'first_letter': 'a',\n",
       " 'last_letter': 'n',\n",
       " 'count(a)': 1,\n",
       " 'has(a)': True,\n",
       " 'count(b)': 0,\n",
       " 'has(b)': False,\n",
       " 'count(c)': 0,\n",
       " 'has(c)': False,\n",
       " 'count(d)': 0,\n",
       " 'has(d)': False,\n",
       " 'count(e)': 0,\n",
       " 'has(e)': False,\n",
       " 'count(f)': 0,\n",
       " 'has(f)': False,\n",
       " 'count(g)': 0,\n",
       " 'has(g)': False,\n",
       " 'count(h)': 0,\n",
       " 'has(h)': False,\n",
       " 'count(i)': 1,\n",
       " 'has(i)': True,\n",
       " 'count(j)': 0,\n",
       " 'has(j)': False,\n",
       " 'count(k)': 0,\n",
       " 'has(k)': False,\n",
       " 'count(l)': 1,\n",
       " 'has(l)': True,\n",
       " 'count(m)': 0,\n",
       " 'has(m)': False,\n",
       " 'count(n)': 1,\n",
       " 'has(n)': True,\n",
       " 'count(o)': 0,\n",
       " 'has(o)': False,\n",
       " 'count(p)': 0,\n",
       " 'has(p)': False,\n",
       " 'count(q)': 0,\n",
       " 'has(q)': False,\n",
       " 'count(r)': 0,\n",
       " 'has(r)': False,\n",
       " 'count(s)': 0,\n",
       " 'has(s)': False,\n",
       " 'count(t)': 0,\n",
       " 'has(t)': False,\n",
       " 'count(u)': 0,\n",
       " 'has(u)': False,\n",
       " 'count(v)': 1,\n",
       " 'has(v)': True,\n",
       " 'count(w)': 0,\n",
       " 'has(w)': False,\n",
       " 'count(x)': 0,\n",
       " 'has(x)': False,\n",
       " 'count(y)': 0,\n",
       " 'has(y)': False,\n",
       " 'count(z)': 0,\n",
       " 'has(z)': False}"
      ]
     },
     "execution_count": 20,
     "metadata": {},
     "output_type": "execute_result"
    }
   ],
   "source": [
    "text_vectorizer2('Alvin')"
   ]
  },
  {
   "cell_type": "code",
   "execution_count": 21,
   "metadata": {
    "colab": {
     "base_uri": "https://localhost:8080/"
    },
    "executionInfo": {
     "elapsed": 6,
     "status": "ok",
     "timestamp": 1709699348699,
     "user": {
      "displayName": "Alvin Chen",
      "userId": "06244732172561186175"
     },
     "user_tz": -480
    },
    "id": "kEPBVM_8AvKR",
    "outputId": "078ba087-6084-4bc2-f713-0c1254d0e93a",
    "scrolled": true
   },
   "outputs": [
    {
     "data": {
      "text/plain": [
       "{'first_letter': 'j',\n",
       " 'last_letter': 'n',\n",
       " 'count(a)': 0,\n",
       " 'has(a)': False,\n",
       " 'count(b)': 0,\n",
       " 'has(b)': False,\n",
       " 'count(c)': 0,\n",
       " 'has(c)': False,\n",
       " 'count(d)': 0,\n",
       " 'has(d)': False,\n",
       " 'count(e)': 0,\n",
       " 'has(e)': False,\n",
       " 'count(f)': 0,\n",
       " 'has(f)': False,\n",
       " 'count(g)': 0,\n",
       " 'has(g)': False,\n",
       " 'count(h)': 1,\n",
       " 'has(h)': True,\n",
       " 'count(i)': 0,\n",
       " 'has(i)': False,\n",
       " 'count(j)': 1,\n",
       " 'has(j)': True,\n",
       " 'count(k)': 0,\n",
       " 'has(k)': False,\n",
       " 'count(l)': 0,\n",
       " 'has(l)': False,\n",
       " 'count(m)': 0,\n",
       " 'has(m)': False,\n",
       " 'count(n)': 1,\n",
       " 'has(n)': True,\n",
       " 'count(o)': 1,\n",
       " 'has(o)': True,\n",
       " 'count(p)': 0,\n",
       " 'has(p)': False,\n",
       " 'count(q)': 0,\n",
       " 'has(q)': False,\n",
       " 'count(r)': 0,\n",
       " 'has(r)': False,\n",
       " 'count(s)': 0,\n",
       " 'has(s)': False,\n",
       " 'count(t)': 0,\n",
       " 'has(t)': False,\n",
       " 'count(u)': 0,\n",
       " 'has(u)': False,\n",
       " 'count(v)': 0,\n",
       " 'has(v)': False,\n",
       " 'count(w)': 0,\n",
       " 'has(w)': False,\n",
       " 'count(x)': 0,\n",
       " 'has(x)': False,\n",
       " 'count(y)': 0,\n",
       " 'has(y)': False,\n",
       " 'count(z)': 0,\n",
       " 'has(z)': False}"
      ]
     },
     "execution_count": 21,
     "metadata": {},
     "output_type": "execute_result"
    }
   ],
   "source": [
    "text_vectorizer2('John')"
   ]
  },
  {
   "cell_type": "code",
   "execution_count": 22,
   "metadata": {
    "executionInfo": {
     "elapsed": 6,
     "status": "ok",
     "timestamp": 1709699348699,
     "user": {
      "displayName": "Alvin Chen",
      "userId": "06244732172561186175"
     },
     "user_tz": -480
    },
    "id": "4u8VoHORAvKR"
   },
   "outputs": [],
   "source": [
    "## more sophisticated feature engineering\n",
    "train_set = apply_features(text_vectorizer2, labeled_names[500:])\n",
    "test_set = apply_features(text_vectorizer2, labeled_names[:500])\n"
   ]
  },
  {
   "cell_type": "code",
   "execution_count": 23,
   "metadata": {
    "executionInfo": {
     "elapsed": 932,
     "status": "ok",
     "timestamp": 1709699349626,
     "user": {
      "displayName": "Alvin Chen",
      "userId": "06244732172561186175"
     },
     "user_tz": -480
    },
    "id": "yc9oc7j7AvKR"
   },
   "outputs": [],
   "source": [
    "## train the model\n",
    "classifier = nltk.NaiveBayesClassifier.train(train_set)"
   ]
  },
  {
   "cell_type": "code",
   "execution_count": 24,
   "metadata": {
    "colab": {
     "base_uri": "https://localhost:8080/"
    },
    "executionInfo": {
     "elapsed": 3,
     "status": "ok",
     "timestamp": 1709699349626,
     "user": {
      "displayName": "Alvin Chen",
      "userId": "06244732172561186175"
     },
     "user_tz": -480
    },
    "id": "7dJtUx8DAvKR",
    "outputId": "51a5e073-239e-4d63-e259-58c5d33965af"
   },
   "outputs": [
    {
     "name": "stdout",
     "output_type": "stream",
     "text": [
      "0.76\n"
     ]
    }
   ],
   "source": [
    "## evaluate the model\n",
    "print(nltk.classify.accuracy(classifier, test_set))"
   ]
  },
  {
   "cell_type": "code",
   "execution_count": 25,
   "metadata": {
    "colab": {
     "base_uri": "https://localhost:8080/"
    },
    "executionInfo": {
     "elapsed": 2,
     "status": "ok",
     "timestamp": 1709699349626,
     "user": {
      "displayName": "Alvin Chen",
      "userId": "06244732172561186175"
     },
     "user_tz": -480
    },
    "id": "AtZFPxBhAvKR",
    "outputId": "c1498b0f-0fd2-4285-af6b-e9b59a2a1027"
   },
   "outputs": [
    {
     "name": "stdout",
     "output_type": "stream",
     "text": [
      "Most Informative Features\n",
      "             last_letter = 'a'            female : male   =     34.3 : 1.0\n",
      "             last_letter = 'k'              male : female =     31.4 : 1.0\n",
      "             last_letter = 'v'              male : female =     18.8 : 1.0\n",
      "             last_letter = 'f'              male : female =     16.7 : 1.0\n",
      "             last_letter = 'p'              male : female =     12.6 : 1.0\n",
      "             last_letter = 'd'              male : female =     10.6 : 1.0\n",
      "                count(v) = 2              female : male   =      9.2 : 1.0\n",
      "             last_letter = 'm'              male : female =      8.8 : 1.0\n",
      "             last_letter = 'o'              male : female =      8.0 : 1.0\n",
      "             last_letter = 'r'              male : female =      7.1 : 1.0\n",
      "             last_letter = 'g'              male : female =      5.5 : 1.0\n",
      "             last_letter = 'w'              male : female =      5.1 : 1.0\n",
      "            first_letter = 'w'              male : female =      4.6 : 1.0\n",
      "             last_letter = 's'              male : female =      4.5 : 1.0\n",
      "                count(a) = 3              female : male   =      4.4 : 1.0\n",
      "                count(w) = 1                male : female =      4.3 : 1.0\n",
      "                  has(w) = True             male : female =      4.3 : 1.0\n",
      "             last_letter = 'j'              male : female =      4.0 : 1.0\n",
      "                count(o) = 2                male : female =      3.7 : 1.0\n",
      "             last_letter = 'i'            female : male   =      3.7 : 1.0\n"
     ]
    }
   ],
   "source": [
    "## Post-hoc analysis\n",
    "classifier.show_most_informative_features(n=20)"
   ]
  },
  {
   "cell_type": "markdown",
   "metadata": {
    "id": "ijYHMaX7AvKR"
   },
   "source": [
    "### Train-Development-Test Data Splits for Error Analysis"
   ]
  },
  {
   "cell_type": "markdown",
   "metadata": {
    "id": "3O6tzsiCAvKR"
   },
   "source": [
    "- Normally we have **training**-**testing** splits of data\n",
    "- Sometimes we can use **development (dev)** set for error analysis and feature engineering.\n",
    "- This dev set should be independent of training and testing sets."
   ]
  },
  {
   "cell_type": "markdown",
   "metadata": {
    "id": "krh1WhjOAvKR"
   },
   "source": [
    "- Now let's train the model on the **training set** and first check the classifier's performance on the **dev** set.\n",
    "- We then identify the errors the classifier made in the **dev** set.\n",
    "- We perform **error analysis** for potential model improvement.\n",
    "- We only test our **final model** on the testing set. (Note: Testing set can only be used **once**.)"
   ]
  },
  {
   "cell_type": "code",
   "execution_count": 26,
   "metadata": {
    "colab": {
     "base_uri": "https://localhost:8080/"
    },
    "executionInfo": {
     "elapsed": 1011,
     "status": "ok",
     "timestamp": 1709699350636,
     "user": {
      "displayName": "Alvin Chen",
      "userId": "06244732172561186175"
     },
     "user_tz": -480
    },
    "id": "GuLY62FeAvKR",
    "outputId": "47478ace-39de-4116-badf-719af11e8283"
   },
   "outputs": [
    {
     "name": "stdout",
     "output_type": "stream",
     "text": [
      "0.78\n"
     ]
    }
   ],
   "source": [
    "## train-dev-test split\n",
    "train_names = labeled_names[1500:]\n",
    "devtest_names = labeled_names[500:1500]\n",
    "test_names = labeled_names[:500]\n",
    "\n",
    "## Feature engineering\n",
    "train_set = [(text_vectorizer2(n), gender) for (n, gender) in train_names]\n",
    "devtest_set = [(text_vectorizer2(n), gender) for (n, gender) in devtest_names]\n",
    "test_set = [(text_vectorizer2(n), gender) for (n, gender) in test_names]\n",
    "\n",
    "## Train the model\n",
    "classifier = nltk.NaiveBayesClassifier.train(train_set)\n",
    "\n",
    "## Evaluate the model on dev set\n",
    "print(nltk.classify.accuracy(classifier, devtest_set))"
   ]
  },
  {
   "cell_type": "code",
   "execution_count": 27,
   "metadata": {
    "executionInfo": {
     "elapsed": 11,
     "status": "ok",
     "timestamp": 1709699350636,
     "user": {
      "displayName": "Alvin Chen",
      "userId": "06244732172561186175"
     },
     "user_tz": -480
    },
    "id": "uahxjZ3qAvKR"
   },
   "outputs": [],
   "source": [
    "## identify error cases\n",
    "\n",
    "errors = []\n",
    "for (name, tag) in devtest_names:\n",
    "    guess = classifier.classify(text_vectorizer2(name))\n",
    "    if guess != tag:\n",
    "        errors.append((tag, guess, name))"
   ]
  },
  {
   "cell_type": "code",
   "execution_count": 28,
   "metadata": {
    "executionInfo": {
     "elapsed": 11,
     "status": "ok",
     "timestamp": 1709699350636,
     "user": {
      "displayName": "Alvin Chen",
      "userId": "06244732172561186175"
     },
     "user_tz": -480
    },
    "id": "PgIy57q-AvKR"
   },
   "outputs": [],
   "source": [
    "## save error cases for post-hoc analysis\n",
    "import csv\n",
    "\n",
    "with open('error-analysis.csv', 'w') as f:\n",
    "\n",
    "    # using csv.writer method from CSV package\n",
    "    write = csv.writer(f)\n",
    "    write.writerow(['tag', 'guess', 'name'])\n",
    "    write.writerows(errors)"
   ]
  },
  {
   "cell_type": "markdown",
   "metadata": {
    "id": "obLfb4x_AvKR"
   },
   "source": [
    "- Ideally, we can inspect the errors in a spreadsheet and come up with better rules (features) that could help improve the classifier."
   ]
  },
  {
   "cell_type": "code",
   "execution_count": 29,
   "metadata": {
    "colab": {
     "base_uri": "https://localhost:8080/",
     "height": 676
    },
    "executionInfo": {
     "elapsed": 11,
     "status": "ok",
     "timestamp": 1709699350636,
     "user": {
      "displayName": "Alvin Chen",
      "userId": "06244732172561186175"
     },
     "user_tz": -480
    },
    "id": "_t9p_OOLAvKR",
    "outputId": "022b8794-65d5-4633-a73e-9f1256257202"
   },
   "outputs": [
    {
     "data": {
      "application/vnd.google.colaboratory.intrinsic+json": {
       "summary": "{\n  \"name\": \"pd\",\n  \"rows\": 20,\n  \"fields\": [\n    {\n      \"column\": \"tag\",\n      \"properties\": {\n        \"dtype\": \"category\",\n        \"num_unique_values\": 2,\n        \"samples\": [\n          \"female\",\n          \"male\"\n        ],\n        \"semantic_type\": \"\",\n        \"description\": \"\"\n      }\n    },\n    {\n      \"column\": \"guess\",\n      \"properties\": {\n        \"dtype\": \"category\",\n        \"num_unique_values\": 2,\n        \"samples\": [\n          \"male\",\n          \"female\"\n        ],\n        \"semantic_type\": \"\",\n        \"description\": \"\"\n      }\n    },\n    {\n      \"column\": \"name\",\n      \"properties\": {\n        \"dtype\": \"string\",\n        \"num_unique_values\": 20,\n        \"samples\": [\n          \"Barri\",\n          \"Hesther\"\n        ],\n        \"semantic_type\": \"\",\n        \"description\": \"\"\n      }\n    }\n  ]\n}",
       "type": "dataframe"
      },
      "text/html": [
       "\n",
       "  <div id=\"df-88e545ef-12dc-4335-83b9-d49b152ea39a\" class=\"colab-df-container\">\n",
       "    <div>\n",
       "<style scoped>\n",
       "    .dataframe tbody tr th:only-of-type {\n",
       "        vertical-align: middle;\n",
       "    }\n",
       "\n",
       "    .dataframe tbody tr th {\n",
       "        vertical-align: top;\n",
       "    }\n",
       "\n",
       "    .dataframe thead th {\n",
       "        text-align: right;\n",
       "    }\n",
       "</style>\n",
       "<table border=\"1\" class=\"dataframe\">\n",
       "  <thead>\n",
       "    <tr style=\"text-align: right;\">\n",
       "      <th></th>\n",
       "      <th>tag</th>\n",
       "      <th>guess</th>\n",
       "      <th>name</th>\n",
       "    </tr>\n",
       "  </thead>\n",
       "  <tbody>\n",
       "    <tr>\n",
       "      <th>0</th>\n",
       "      <td>male</td>\n",
       "      <td>female</td>\n",
       "      <td>Barri</td>\n",
       "    </tr>\n",
       "    <tr>\n",
       "      <th>1</th>\n",
       "      <td>female</td>\n",
       "      <td>male</td>\n",
       "      <td>Dorolice</td>\n",
       "    </tr>\n",
       "    <tr>\n",
       "      <th>2</th>\n",
       "      <td>female</td>\n",
       "      <td>male</td>\n",
       "      <td>Gwennie</td>\n",
       "    </tr>\n",
       "    <tr>\n",
       "      <th>3</th>\n",
       "      <td>female</td>\n",
       "      <td>male</td>\n",
       "      <td>Honey</td>\n",
       "    </tr>\n",
       "    <tr>\n",
       "      <th>4</th>\n",
       "      <td>female</td>\n",
       "      <td>male</td>\n",
       "      <td>Rosaleen</td>\n",
       "    </tr>\n",
       "    <tr>\n",
       "      <th>5</th>\n",
       "      <td>male</td>\n",
       "      <td>female</td>\n",
       "      <td>Max</td>\n",
       "    </tr>\n",
       "    <tr>\n",
       "      <th>6</th>\n",
       "      <td>male</td>\n",
       "      <td>female</td>\n",
       "      <td>Sinclare</td>\n",
       "    </tr>\n",
       "    <tr>\n",
       "      <th>7</th>\n",
       "      <td>male</td>\n",
       "      <td>female</td>\n",
       "      <td>Costa</td>\n",
       "    </tr>\n",
       "    <tr>\n",
       "      <th>8</th>\n",
       "      <td>male</td>\n",
       "      <td>female</td>\n",
       "      <td>Archie</td>\n",
       "    </tr>\n",
       "    <tr>\n",
       "      <th>9</th>\n",
       "      <td>female</td>\n",
       "      <td>male</td>\n",
       "      <td>Margaux</td>\n",
       "    </tr>\n",
       "    <tr>\n",
       "      <th>210</th>\n",
       "      <td>female</td>\n",
       "      <td>male</td>\n",
       "      <td>Fortune</td>\n",
       "    </tr>\n",
       "    <tr>\n",
       "      <th>211</th>\n",
       "      <td>male</td>\n",
       "      <td>female</td>\n",
       "      <td>Gayle</td>\n",
       "    </tr>\n",
       "    <tr>\n",
       "      <th>212</th>\n",
       "      <td>male</td>\n",
       "      <td>female</td>\n",
       "      <td>Parke</td>\n",
       "    </tr>\n",
       "    <tr>\n",
       "      <th>213</th>\n",
       "      <td>male</td>\n",
       "      <td>female</td>\n",
       "      <td>Matthias</td>\n",
       "    </tr>\n",
       "    <tr>\n",
       "      <th>214</th>\n",
       "      <td>male</td>\n",
       "      <td>female</td>\n",
       "      <td>Lazar</td>\n",
       "    </tr>\n",
       "    <tr>\n",
       "      <th>215</th>\n",
       "      <td>male</td>\n",
       "      <td>female</td>\n",
       "      <td>Nate</td>\n",
       "    </tr>\n",
       "    <tr>\n",
       "      <th>216</th>\n",
       "      <td>male</td>\n",
       "      <td>female</td>\n",
       "      <td>Avi</td>\n",
       "    </tr>\n",
       "    <tr>\n",
       "      <th>217</th>\n",
       "      <td>female</td>\n",
       "      <td>male</td>\n",
       "      <td>Hesther</td>\n",
       "    </tr>\n",
       "    <tr>\n",
       "      <th>218</th>\n",
       "      <td>female</td>\n",
       "      <td>male</td>\n",
       "      <td>Tori</td>\n",
       "    </tr>\n",
       "    <tr>\n",
       "      <th>219</th>\n",
       "      <td>female</td>\n",
       "      <td>male</td>\n",
       "      <td>Norry</td>\n",
       "    </tr>\n",
       "  </tbody>\n",
       "</table>\n",
       "</div>\n",
       "    <div class=\"colab-df-buttons\">\n",
       "\n",
       "  <div class=\"colab-df-container\">\n",
       "    <button class=\"colab-df-convert\" onclick=\"convertToInteractive('df-88e545ef-12dc-4335-83b9-d49b152ea39a')\"\n",
       "            title=\"Convert this dataframe to an interactive table.\"\n",
       "            style=\"display:none;\">\n",
       "\n",
       "  <svg xmlns=\"http://www.w3.org/2000/svg\" height=\"24px\" viewBox=\"0 -960 960 960\">\n",
       "    <path d=\"M120-120v-720h720v720H120Zm60-500h600v-160H180v160Zm220 220h160v-160H400v160Zm0 220h160v-160H400v160ZM180-400h160v-160H180v160Zm440 0h160v-160H620v160ZM180-180h160v-160H180v160Zm440 0h160v-160H620v160Z\"/>\n",
       "  </svg>\n",
       "    </button>\n",
       "\n",
       "  <style>\n",
       "    .colab-df-container {\n",
       "      display:flex;\n",
       "      gap: 12px;\n",
       "    }\n",
       "\n",
       "    .colab-df-convert {\n",
       "      background-color: #E8F0FE;\n",
       "      border: none;\n",
       "      border-radius: 50%;\n",
       "      cursor: pointer;\n",
       "      display: none;\n",
       "      fill: #1967D2;\n",
       "      height: 32px;\n",
       "      padding: 0 0 0 0;\n",
       "      width: 32px;\n",
       "    }\n",
       "\n",
       "    .colab-df-convert:hover {\n",
       "      background-color: #E2EBFA;\n",
       "      box-shadow: 0px 1px 2px rgba(60, 64, 67, 0.3), 0px 1px 3px 1px rgba(60, 64, 67, 0.15);\n",
       "      fill: #174EA6;\n",
       "    }\n",
       "\n",
       "    .colab-df-buttons div {\n",
       "      margin-bottom: 4px;\n",
       "    }\n",
       "\n",
       "    [theme=dark] .colab-df-convert {\n",
       "      background-color: #3B4455;\n",
       "      fill: #D2E3FC;\n",
       "    }\n",
       "\n",
       "    [theme=dark] .colab-df-convert:hover {\n",
       "      background-color: #434B5C;\n",
       "      box-shadow: 0px 1px 3px 1px rgba(0, 0, 0, 0.15);\n",
       "      filter: drop-shadow(0px 1px 2px rgba(0, 0, 0, 0.3));\n",
       "      fill: #FFFFFF;\n",
       "    }\n",
       "  </style>\n",
       "\n",
       "    <script>\n",
       "      const buttonEl =\n",
       "        document.querySelector('#df-88e545ef-12dc-4335-83b9-d49b152ea39a button.colab-df-convert');\n",
       "      buttonEl.style.display =\n",
       "        google.colab.kernel.accessAllowed ? 'block' : 'none';\n",
       "\n",
       "      async function convertToInteractive(key) {\n",
       "        const element = document.querySelector('#df-88e545ef-12dc-4335-83b9-d49b152ea39a');\n",
       "        const dataTable =\n",
       "          await google.colab.kernel.invokeFunction('convertToInteractive',\n",
       "                                                    [key], {});\n",
       "        if (!dataTable) return;\n",
       "\n",
       "        const docLinkHtml = 'Like what you see? Visit the ' +\n",
       "          '<a target=\"_blank\" href=https://colab.research.google.com/notebooks/data_table.ipynb>data table notebook</a>'\n",
       "          + ' to learn more about interactive tables.';\n",
       "        element.innerHTML = '';\n",
       "        dataTable['output_type'] = 'display_data';\n",
       "        await google.colab.output.renderOutput(dataTable, element);\n",
       "        const docLink = document.createElement('div');\n",
       "        docLink.innerHTML = docLinkHtml;\n",
       "        element.appendChild(docLink);\n",
       "      }\n",
       "    </script>\n",
       "  </div>\n",
       "\n",
       "\n",
       "<div id=\"df-af7555c0-877e-49f3-b5b5-209af65b3b57\">\n",
       "  <button class=\"colab-df-quickchart\" onclick=\"quickchart('df-af7555c0-877e-49f3-b5b5-209af65b3b57')\"\n",
       "            title=\"Suggest charts\"\n",
       "            style=\"display:none;\">\n",
       "\n",
       "<svg xmlns=\"http://www.w3.org/2000/svg\" height=\"24px\"viewBox=\"0 0 24 24\"\n",
       "     width=\"24px\">\n",
       "    <g>\n",
       "        <path d=\"M19 3H5c-1.1 0-2 .9-2 2v14c0 1.1.9 2 2 2h14c1.1 0 2-.9 2-2V5c0-1.1-.9-2-2-2zM9 17H7v-7h2v7zm4 0h-2V7h2v10zm4 0h-2v-4h2v4z\"/>\n",
       "    </g>\n",
       "</svg>\n",
       "  </button>\n",
       "\n",
       "<style>\n",
       "  .colab-df-quickchart {\n",
       "      --bg-color: #E8F0FE;\n",
       "      --fill-color: #1967D2;\n",
       "      --hover-bg-color: #E2EBFA;\n",
       "      --hover-fill-color: #174EA6;\n",
       "      --disabled-fill-color: #AAA;\n",
       "      --disabled-bg-color: #DDD;\n",
       "  }\n",
       "\n",
       "  [theme=dark] .colab-df-quickchart {\n",
       "      --bg-color: #3B4455;\n",
       "      --fill-color: #D2E3FC;\n",
       "      --hover-bg-color: #434B5C;\n",
       "      --hover-fill-color: #FFFFFF;\n",
       "      --disabled-bg-color: #3B4455;\n",
       "      --disabled-fill-color: #666;\n",
       "  }\n",
       "\n",
       "  .colab-df-quickchart {\n",
       "    background-color: var(--bg-color);\n",
       "    border: none;\n",
       "    border-radius: 50%;\n",
       "    cursor: pointer;\n",
       "    display: none;\n",
       "    fill: var(--fill-color);\n",
       "    height: 32px;\n",
       "    padding: 0;\n",
       "    width: 32px;\n",
       "  }\n",
       "\n",
       "  .colab-df-quickchart:hover {\n",
       "    background-color: var(--hover-bg-color);\n",
       "    box-shadow: 0 1px 2px rgba(60, 64, 67, 0.3), 0 1px 3px 1px rgba(60, 64, 67, 0.15);\n",
       "    fill: var(--button-hover-fill-color);\n",
       "  }\n",
       "\n",
       "  .colab-df-quickchart-complete:disabled,\n",
       "  .colab-df-quickchart-complete:disabled:hover {\n",
       "    background-color: var(--disabled-bg-color);\n",
       "    fill: var(--disabled-fill-color);\n",
       "    box-shadow: none;\n",
       "  }\n",
       "\n",
       "  .colab-df-spinner {\n",
       "    border: 2px solid var(--fill-color);\n",
       "    border-color: transparent;\n",
       "    border-bottom-color: var(--fill-color);\n",
       "    animation:\n",
       "      spin 1s steps(1) infinite;\n",
       "  }\n",
       "\n",
       "  @keyframes spin {\n",
       "    0% {\n",
       "      border-color: transparent;\n",
       "      border-bottom-color: var(--fill-color);\n",
       "      border-left-color: var(--fill-color);\n",
       "    }\n",
       "    20% {\n",
       "      border-color: transparent;\n",
       "      border-left-color: var(--fill-color);\n",
       "      border-top-color: var(--fill-color);\n",
       "    }\n",
       "    30% {\n",
       "      border-color: transparent;\n",
       "      border-left-color: var(--fill-color);\n",
       "      border-top-color: var(--fill-color);\n",
       "      border-right-color: var(--fill-color);\n",
       "    }\n",
       "    40% {\n",
       "      border-color: transparent;\n",
       "      border-right-color: var(--fill-color);\n",
       "      border-top-color: var(--fill-color);\n",
       "    }\n",
       "    60% {\n",
       "      border-color: transparent;\n",
       "      border-right-color: var(--fill-color);\n",
       "    }\n",
       "    80% {\n",
       "      border-color: transparent;\n",
       "      border-right-color: var(--fill-color);\n",
       "      border-bottom-color: var(--fill-color);\n",
       "    }\n",
       "    90% {\n",
       "      border-color: transparent;\n",
       "      border-bottom-color: var(--fill-color);\n",
       "    }\n",
       "  }\n",
       "</style>\n",
       "\n",
       "  <script>\n",
       "    async function quickchart(key) {\n",
       "      const quickchartButtonEl =\n",
       "        document.querySelector('#' + key + ' button');\n",
       "      quickchartButtonEl.disabled = true;  // To prevent multiple clicks.\n",
       "      quickchartButtonEl.classList.add('colab-df-spinner');\n",
       "      try {\n",
       "        const charts = await google.colab.kernel.invokeFunction(\n",
       "            'suggestCharts', [key], {});\n",
       "      } catch (error) {\n",
       "        console.error('Error during call to suggestCharts:', error);\n",
       "      }\n",
       "      quickchartButtonEl.classList.remove('colab-df-spinner');\n",
       "      quickchartButtonEl.classList.add('colab-df-quickchart-complete');\n",
       "    }\n",
       "    (() => {\n",
       "      let quickchartButtonEl =\n",
       "        document.querySelector('#df-af7555c0-877e-49f3-b5b5-209af65b3b57 button');\n",
       "      quickchartButtonEl.style.display =\n",
       "        google.colab.kernel.accessAllowed ? 'block' : 'none';\n",
       "    })();\n",
       "  </script>\n",
       "</div>\n",
       "\n",
       "    </div>\n",
       "  </div>\n"
      ],
      "text/plain": [
       "        tag   guess      name\n",
       "0      male  female     Barri\n",
       "1    female    male  Dorolice\n",
       "2    female    male   Gwennie\n",
       "3    female    male     Honey\n",
       "4    female    male  Rosaleen\n",
       "5      male  female       Max\n",
       "6      male  female  Sinclare\n",
       "7      male  female     Costa\n",
       "8      male  female    Archie\n",
       "9    female    male   Margaux\n",
       "210  female    male   Fortune\n",
       "211    male  female     Gayle\n",
       "212    male  female     Parke\n",
       "213    male  female  Matthias\n",
       "214    male  female     Lazar\n",
       "215    male  female      Nate\n",
       "216    male  female       Avi\n",
       "217  female    male   Hesther\n",
       "218  female    male      Tori\n",
       "219  female    male     Norry"
      ]
     },
     "execution_count": 29,
     "metadata": {},
     "output_type": "execute_result"
    }
   ],
   "source": [
    "import pandas as pd\n",
    "## check first and last N rows\n",
    "pd.read_csv('error-analysis.csv').iloc[[*range(10), *range(-10, 0)],]"
   ]
  },
  {
   "cell_type": "markdown",
   "metadata": {
    "id": "AZERuhSTAvKS"
   },
   "source": [
    "### Cross Validation"
   ]
  },
  {
   "cell_type": "markdown",
   "metadata": {
    "id": "L-tlu2moAvKS"
   },
   "source": [
    "- We can also check our average model performance using the cross-validation method on the training dataset before the real testing of the model.\n",
    "- This method is often useful if you need to fine-tune the hyperparameters during the model training stage."
   ]
  },
  {
   "cell_type": "markdown",
   "metadata": {
    "id": "gIrwl--QAvKS"
   },
   "source": [
    "---\n",
    "\n",
    "![](../images/ml-kfold.png)\n",
    "(Source: https://scikit-learn.org/stable/modules/cross_validation.html)\n",
    "\n",
    "---"
   ]
  },
  {
   "cell_type": "code",
   "execution_count": 30,
   "metadata": {
    "colab": {
     "base_uri": "https://localhost:8080/"
    },
    "executionInfo": {
     "elapsed": 4791,
     "status": "ok",
     "timestamp": 1709699355417,
     "user": {
      "displayName": "Alvin Chen",
      "userId": "06244732172561186175"
     },
     "user_tz": -480
    },
    "id": "BtzOjOYdAvKS",
    "outputId": "beb67405-1222-46b3-b688-59769f5c2b97"
   },
   "outputs": [
    {
     "name": "stdout",
     "output_type": "stream",
     "text": [
      "accuracy: 0.75\n",
      "accuracy: 0.79\n",
      "accuracy: 0.77\n",
      "accuracy: 0.78\n",
      "accuracy: 0.79\n",
      "accuracy: 0.76\n",
      "accuracy: 0.79\n",
      "accuracy: 0.79\n",
      "accuracy: 0.77\n",
      "accuracy: 0.75\n"
     ]
    }
   ],
   "source": [
    "import sklearn.model_selection\n",
    "kf = sklearn.model_selection.KFold(n_splits=10)\n",
    "acc_kf = []  ## accuracy holder\n",
    "\n",
    "## Cross-validation\n",
    "for train_index, test_index in kf.split(train_set):\n",
    "    #print(\"TRAIN:\", train_index, \"TEST:\", test_index)\n",
    "    classifier = nltk.NaiveBayesClassifier.train(\n",
    "        train_set[train_index[0]:train_index[len(train_index) - 1]])\n",
    "    cur_fold_acc = nltk.classify.util.accuracy(\n",
    "        classifier, train_set[test_index[0]:test_index[len(test_index) - 1]])\n",
    "    acc_kf.append(cur_fold_acc)\n",
    "    print('accuracy:', np.round(cur_fold_acc, 2))"
   ]
  },
  {
   "cell_type": "code",
   "execution_count": 31,
   "metadata": {
    "colab": {
     "base_uri": "https://localhost:8080/"
    },
    "executionInfo": {
     "elapsed": 6,
     "status": "ok",
     "timestamp": 1709699355417,
     "user": {
      "displayName": "Alvin Chen",
      "userId": "06244732172561186175"
     },
     "user_tz": -480
    },
    "id": "uBadrvejAvKS",
    "outputId": "89005351-f081-4b78-ab30-2a45220a0b65"
   },
   "outputs": [
    {
     "data": {
      "text/plain": [
       "0.7752579137003371"
      ]
     },
     "execution_count": 31,
     "metadata": {},
     "output_type": "execute_result"
    }
   ],
   "source": [
    "np.mean(acc_kf)"
   ]
  },
  {
   "cell_type": "markdown",
   "metadata": {
    "id": "_NA2zFKAAvKS"
   },
   "source": [
    "### Try Different Machine Learning Algorithms"
   ]
  },
  {
   "cell_type": "markdown",
   "metadata": {
    "id": "DHuyvUGFAvKS"
   },
   "source": [
    "- There are many ML algorithms for classification tasks.\n",
    "- Here we will demonstrate a few more classifiers implemented in NLTK, including:\n",
    "    - Maximum Entropy Classifier (Logistic Regression)\n",
    "    - Decision Tree Classifier\n",
    "- Also, in NLTK, we can use the classification methods provided in `sklearn` as well, including:\n",
    "    - Naive Bayes\n",
    "    - Logistic Regression\n",
    "    - Support Vector Machine"
   ]
  },
  {
   "cell_type": "markdown",
   "metadata": {
    "id": "EdZ-er8yAvKS"
   },
   "source": [
    "- When we try another ML algorithm, we do the following:\n",
    "    - train the model\n",
    "    - check model performance (accuracy and confusion matrix)\n",
    "    - check the most informative features\n",
    "    - obtain average performance using *k*-fold cross validation"
   ]
  },
  {
   "cell_type": "markdown",
   "metadata": {
    "id": "w-hsKUEDAvKS"
   },
   "source": [
    "#### Try Maxent Classifier"
   ]
  },
  {
   "cell_type": "markdown",
   "metadata": {
    "id": "E1al_wpcAvKS"
   },
   "source": [
    "- Maxent is memory hungry, slower, and it requires `numpy`.\n"
   ]
  },
  {
   "cell_type": "code",
   "execution_count": 32,
   "metadata": {
    "colab": {
     "base_uri": "https://localhost:8080/"
    },
    "executionInfo": {
     "elapsed": 149852,
     "status": "ok",
     "timestamp": 1709699505266,
     "user": {
      "displayName": "Alvin Chen",
      "userId": "06244732172561186175"
     },
     "user_tz": -480
    },
    "id": "uS0jgIZoAvKS",
    "outputId": "a5a0facf-5158-42c0-ef66-ad8833202735"
   },
   "outputs": [
    {
     "name": "stdout",
     "output_type": "stream",
     "text": [
      "CPU times: user 2min 17s, sys: 321 ms, total: 2min 17s\n",
      "Wall time: 2min 30s\n"
     ]
    }
   ],
   "source": [
    "%%time\n",
    "from nltk.classify import MaxentClassifier\n",
    "\n",
    "## Train Maxent model\n",
    "classifier_maxent = MaxentClassifier.train(train_set,\n",
    "                                           algorithm='iis',\n",
    "                                           trace=0,\n",
    "                                           max_iter=10000,\n",
    "                                           min_lldelta=0.001)"
   ]
  },
  {
   "cell_type": "markdown",
   "metadata": {
    "id": "CPOImHPuAvKS"
   },
   "source": [
    "```{note}\n",
    "The default algorithm for training is `iis` (Improved Iterative Scaling). Another alternative is `gis` (General Iterative Scaling), which is faster.\n",
    "```"
   ]
  },
  {
   "cell_type": "code",
   "execution_count": 33,
   "metadata": {
    "colab": {
     "base_uri": "https://localhost:8080/"
    },
    "executionInfo": {
     "elapsed": 171428,
     "status": "ok",
     "timestamp": 1709699676690,
     "user": {
      "displayName": "Alvin Chen",
      "userId": "06244732172561186175"
     },
     "user_tz": -480
    },
    "id": "49pL8CJfAvKS",
    "outputId": "af3baea1-5bb7-468e-9b80-e849f22f0200"
   },
   "outputs": [
    {
     "name": "stdout",
     "output_type": "stream",
     "text": [
      "accuracy: 0.6645962732919255\n",
      "accuracy: 0.6909937888198758\n",
      "accuracy: 0.703416149068323\n",
      "accuracy: 0.6987577639751553\n",
      "accuracy: 0.7107309486780715\n",
      "accuracy: 0.687402799377916\n",
      "accuracy: 0.6982892690513219\n",
      "accuracy: 0.7371695178849145\n",
      "accuracy: 0.6827371695178849\n",
      "accuracy: 0.7278382581648523\n",
      "CPU times: user 2min 41s, sys: 386 ms, total: 2min 41s\n",
      "Wall time: 2min 51s\n"
     ]
    }
   ],
   "source": [
    "%%time\n",
    "## Cross validation on training\n",
    "for train_index, test_index in kf.split(train_set):\n",
    "    #print(\"TRAIN:\", train_index, \"TEST:\", test_index)\n",
    "    classifier = MaxentClassifier.train(\n",
    "        train_set[train_index[0]:train_index[len(train_index) - 1]],\n",
    "        algorithm='gis',\n",
    "        trace=0,\n",
    "        max_iter=100,\n",
    "        min_lldelta=0.01) ## set smaller value for `min_lldelta`\n",
    "    print(\n",
    "        'accuracy:',\n",
    "        nltk.classify.util.accuracy(\n",
    "            classifier,\n",
    "            train_set[test_index[0]:test_index[len(test_index) - 1]]))"
   ]
  },
  {
   "cell_type": "code",
   "execution_count": 34,
   "metadata": {
    "colab": {
     "base_uri": "https://localhost:8080/"
    },
    "executionInfo": {
     "elapsed": 20,
     "status": "ok",
     "timestamp": 1709699676690,
     "user": {
      "displayName": "Alvin Chen",
      "userId": "06244732172561186175"
     },
     "user_tz": -480
    },
    "id": "OYhp0riJAvKS",
    "outputId": "9ede1cfa-59d1-4af1-e4b6-87933b9b231b"
   },
   "outputs": [
    {
     "name": "stdout",
     "output_type": "stream",
     "text": [
      "       |      f        |\n",
      "       |      e        |\n",
      "       |      m      m |\n",
      "       |      a      a |\n",
      "       |      l      l |\n",
      "       |      e      e |\n",
      "-------+---------------+\n",
      "female | <52.2%>  9.0% |\n",
      "  male |  12.6% <26.2%>|\n",
      "-------+---------------+\n",
      "(row = reference; col = test)\n",
      "\n"
     ]
    }
   ],
   "source": [
    "## evaluate the model\n",
    "createCM(classifier_maxent, test_set)"
   ]
  },
  {
   "cell_type": "code",
   "execution_count": 35,
   "metadata": {
    "colab": {
     "base_uri": "https://localhost:8080/"
    },
    "executionInfo": {
     "elapsed": 4,
     "status": "ok",
     "timestamp": 1709699676691,
     "user": {
      "displayName": "Alvin Chen",
      "userId": "06244732172561186175"
     },
     "user_tz": -480
    },
    "id": "hxVhOjW6AvKT",
    "outputId": "08929091-8d0f-4154-a856-fc0ff43bac50"
   },
   "outputs": [
    {
     "name": "stdout",
     "output_type": "stream",
     "text": [
      "  -3.144 last_letter=='a' and label is 'male'\n",
      "  -2.263 last_letter=='k' and label is 'female'\n",
      "  -2.106 last_letter=='v' and label is 'female'\n",
      "  -2.056 count(v)==2 and label is 'male'\n",
      "  -1.622 last_letter=='f' and label is 'female'\n",
      "   1.420 count(j)==2 and label is 'female'\n",
      "  -1.396 last_letter=='p' and label is 'female'\n",
      "  -1.373 last_letter=='d' and label is 'female'\n",
      "  -1.218 last_letter=='m' and label is 'female'\n",
      "  -1.129 last_letter=='i' and label is 'male'\n",
      "   1.040 last_letter=='c' and label is 'male'\n",
      "  -1.037 count(y)==2 and label is 'male'\n",
      "  -1.035 last_letter=='o' and label is 'female'\n",
      "  -1.026 last_letter=='r' and label is 'female'\n",
      "  -0.896 count(e)==4 and label is 'male'\n",
      "  -0.888 last_letter=='b' and label is 'female'\n",
      "  -0.870 last_letter=='g' and label is 'female'\n",
      "   0.747 count(g)==3 and label is 'male'\n",
      "  -0.696 last_letter=='s' and label is 'female'\n",
      "  -0.681 count(e)==3 and label is 'male'\n"
     ]
    }
   ],
   "source": [
    "## posthoc analysis\n",
    "classifier_maxent.show_most_informative_features(n=20)"
   ]
  },
  {
   "cell_type": "markdown",
   "metadata": {
    "id": "VJpIEOMdAvKT"
   },
   "source": [
    "#### Try Decision Tree"
   ]
  },
  {
   "cell_type": "markdown",
   "metadata": {
    "id": "ifkLBPz4AvKT"
   },
   "source": [
    "- Parameters:\n",
    "    - `binary`: whether the features are binary\n",
    "    - `entropy_cutoff`: a value used during tree refinement process\n",
    "        - entropy = 1 -> high-level uncertainty\n",
    "        - entropy = 0 -> perfect model prediction\n",
    "    - `depth_cutoff`: to control the depth of the tree\n",
    "    - `support_cutoff`: the minimum number of instances that are required to make a decision about a feature."
   ]
  },
  {
   "cell_type": "code",
   "execution_count": 36,
   "metadata": {
    "colab": {
     "base_uri": "https://localhost:8080/"
    },
    "executionInfo": {
     "elapsed": 19251,
     "status": "ok",
     "timestamp": 1709699695939,
     "user": {
      "displayName": "Alvin Chen",
      "userId": "06244732172561186175"
     },
     "user_tz": -480
    },
    "id": "fY-O0vJDAvKT",
    "outputId": "a37b59ed-e33a-4074-bceb-0cf2e2fa550d"
   },
   "outputs": [
    {
     "name": "stdout",
     "output_type": "stream",
     "text": [
      "CPU times: user 18.9 s, sys: 44 ms, total: 18.9 s\n",
      "Wall time: 19.1 s\n"
     ]
    }
   ],
   "source": [
    "%%time\n",
    "## Train decision tree model\n",
    "from nltk.classify import DecisionTreeClassifier\n",
    "classifier_dt = DecisionTreeClassifier.train(train_set,\n",
    "                                             binary=True,\n",
    "                                             entropy_cutoff=0.7,\n",
    "                                             depth_cutoff=5,\n",
    "                                             support_cutoff=5)"
   ]
  },
  {
   "cell_type": "code",
   "execution_count": 37,
   "metadata": {
    "colab": {
     "base_uri": "https://localhost:8080/"
    },
    "executionInfo": {
     "elapsed": 182858,
     "status": "ok",
     "timestamp": 1709699878777,
     "user": {
      "displayName": "Alvin Chen",
      "userId": "06244732172561186175"
     },
     "user_tz": -480
    },
    "id": "y6HXLqfKAvKT",
    "outputId": "da8819f4-d125-47c5-f2c7-32b4700d3cbb"
   },
   "outputs": [
    {
     "name": "stdout",
     "output_type": "stream",
     "text": [
      "accuracy: 0.7080745341614907\n",
      "accuracy: 0.7282608695652174\n",
      "accuracy: 0.6987577639751553\n",
      "accuracy: 0.6894409937888198\n",
      "accuracy: 0.7480559875583204\n",
      "accuracy: 0.7231726283048211\n",
      "accuracy: 0.7620528771384136\n",
      "accuracy: 0.7433903576982893\n",
      "accuracy: 0.6982892690513219\n",
      "accuracy: 0.7122861586314152\n",
      "CPU times: user 2min 59s, sys: 408 ms, total: 3min\n",
      "Wall time: 3min 2s\n"
     ]
    }
   ],
   "source": [
    "%%time\n",
    "## cross-validation on training\n",
    "for train_index, test_index in kf.split(train_set):\n",
    "    #print(\"TRAIN:\", train_index, \"TEST:\", test_index)\n",
    "    classifier = DecisionTreeClassifier.train(\n",
    "        train_set[train_index[0]:train_index[len(train_index) - 1]],\n",
    "        binary=True,\n",
    "        entropy_cutoff=0.7,\n",
    "        depth_cutoff=5,\n",
    "        support_cutoff=5)\n",
    "    print(\n",
    "        'accuracy:',\n",
    "        nltk.classify.util.accuracy(\n",
    "            classifier,\n",
    "            train_set[test_index[0]:test_index[len(test_index) - 1]]))"
   ]
  },
  {
   "cell_type": "code",
   "execution_count": 38,
   "metadata": {
    "colab": {
     "base_uri": "https://localhost:8080/"
    },
    "executionInfo": {
     "elapsed": 21,
     "status": "ok",
     "timestamp": 1709699878778,
     "user": {
      "displayName": "Alvin Chen",
      "userId": "06244732172561186175"
     },
     "user_tz": -480
    },
    "id": "YZ7mcTP4AvKT",
    "outputId": "0274442e-25b0-484d-f141-31b730eb889a"
   },
   "outputs": [
    {
     "name": "stdout",
     "output_type": "stream",
     "text": [
      "       |      f        |\n",
      "       |      e        |\n",
      "       |      m      m |\n",
      "       |      a      a |\n",
      "       |      l      l |\n",
      "       |      e      e |\n",
      "-------+---------------+\n",
      "female | <53.0%>  8.2% |\n",
      "  male |  22.6% <16.2%>|\n",
      "-------+---------------+\n",
      "(row = reference; col = test)\n",
      "\n"
     ]
    }
   ],
   "source": [
    "## evaluate the model on test data\n",
    "createCM(classifier_dt, test_set)"
   ]
  },
  {
   "cell_type": "code",
   "execution_count": 39,
   "metadata": {
    "colab": {
     "base_uri": "https://localhost:8080/"
    },
    "executionInfo": {
     "elapsed": 3,
     "status": "ok",
     "timestamp": 1709699878778,
     "user": {
      "displayName": "Alvin Chen",
      "userId": "06244732172561186175"
     },
     "user_tz": -480
    },
    "id": "QVbm6QzzAvKT",
    "outputId": "0d92994b-c3d1-465d-dda7-9cc836cf8ee6"
   },
   "outputs": [
    {
     "name": "stdout",
     "output_type": "stream",
     "text": [
      "last_letter=d? ........................................ male\n",
      "else: ................................................. male\n",
      "  last_letter=r? ...................................... female\n",
      "    count(n)=2? ....................................... female\n",
      "      has(e)=False? ................................... male\n",
      "      else: ........................................... female\n",
      "        count(a)=1? ................................... male\n",
      "        else: ......................................... female\n",
      "    else: ............................................. male\n",
      "  else: ............................................... male\n",
      "    last_letter=s? .................................... female\n",
      "      first_letter=p? ................................. male\n",
      "        has(n)=False? ................................. female\n",
      "        else: ......................................... male\n",
      "      else: ........................................... female\n",
      "        count(o)=2? ................................... female\n",
      "        else: ......................................... male\n",
      "    else: ............................................. male\n",
      "      last_letter=o? .................................. male\n",
      "      else: ........................................... female\n",
      "        last_letter=n? ................................ male\n",
      "        else: ......................................... female\n",
      "\n"
     ]
    }
   ],
   "source": [
    "## posthoc\n",
    "print(classifier_dt.pretty_format(depth=5))"
   ]
  },
  {
   "cell_type": "markdown",
   "metadata": {
    "id": "UwPNjOmSAvKT"
   },
   "source": [
    "## Try `sklearn` Classifiers"
   ]
  },
  {
   "cell_type": "markdown",
   "metadata": {
    "id": "azOO7LjBAvKT"
   },
   "source": [
    "- `sklearn` is a very useful module for machine learning. We will talk more about this module in our later lectures.\n",
    "- This package provides a lot more ML algorithms for classification tasks."
   ]
  },
  {
   "cell_type": "markdown",
   "metadata": {
    "id": "_Mx21CQMAvKT"
   },
   "source": [
    "### Naive Bayes in `sklearn`"
   ]
  },
  {
   "cell_type": "code",
   "execution_count": 40,
   "metadata": {
    "colab": {
     "base_uri": "https://localhost:8080/"
    },
    "executionInfo": {
     "elapsed": 440,
     "status": "ok",
     "timestamp": 1709699879215,
     "user": {
      "displayName": "Alvin Chen",
      "userId": "06244732172561186175"
     },
     "user_tz": -480
    },
    "id": "ArZ-GQWTAvKT",
    "outputId": "3b2416bd-908a-49b6-c8fc-ef8e7ad77fa8"
   },
   "outputs": [
    {
     "data": {
      "text/plain": [
       "<SklearnClassifier(MultinomialNB())>"
      ]
     },
     "execution_count": 40,
     "metadata": {},
     "output_type": "execute_result"
    }
   ],
   "source": [
    "from nltk.classify.scikitlearn import SklearnClassifier\n",
    "from sklearn.naive_bayes import MultinomialNB\n",
    "\n",
    "\n",
    "## Using sklearn naive bayes in nltk\n",
    "sk_classifier = SklearnClassifier(MultinomialNB())\n",
    "sk_classifier.train(train_set)"
   ]
  },
  {
   "cell_type": "code",
   "execution_count": 41,
   "metadata": {
    "colab": {
     "base_uri": "https://localhost:8080/"
    },
    "executionInfo": {
     "elapsed": 2,
     "status": "ok",
     "timestamp": 1709699879215,
     "user": {
      "displayName": "Alvin Chen",
      "userId": "06244732172561186175"
     },
     "user_tz": -480
    },
    "id": "T4lR7WKDAvKT",
    "outputId": "65725e98-cf5d-4288-d658-2929547f695c"
   },
   "outputs": [
    {
     "data": {
      "text/plain": [
       "0.746"
      ]
     },
     "execution_count": 41,
     "metadata": {},
     "output_type": "execute_result"
    }
   ],
   "source": [
    "## evaluate model\n",
    "nltk.classify.accuracy(sk_classifier, test_set)"
   ]
  },
  {
   "cell_type": "markdown",
   "metadata": {
    "id": "AV1Kz5N0AvKU"
   },
   "source": [
    "### Logistic Regression in `sklearn`"
   ]
  },
  {
   "cell_type": "code",
   "execution_count": 42,
   "metadata": {
    "colab": {
     "base_uri": "https://localhost:8080/"
    },
    "executionInfo": {
     "elapsed": 625,
     "status": "ok",
     "timestamp": 1709699879839,
     "user": {
      "displayName": "Alvin Chen",
      "userId": "06244732172561186175"
     },
     "user_tz": -480
    },
    "id": "DVvByCLfAvKU",
    "outputId": "0d269adc-78c2-4d71-8ae4-f0ffa7a57e9b"
   },
   "outputs": [
    {
     "data": {
      "text/plain": [
       "0.78"
      ]
     },
     "execution_count": 42,
     "metadata": {},
     "output_type": "execute_result"
    }
   ],
   "source": [
    "from sklearn.linear_model import LogisticRegression\n",
    "\n",
    "## using sklearn logistic regression in nltk\n",
    "sk_classifier = SklearnClassifier(LogisticRegression(max_iter=500))\n",
    "sk_classifier.train(train_set)\n",
    "\n",
    "## evaluate the model\n",
    "nltk.classify.accuracy(sk_classifier, test_set)\n",
    "# createCM(sk_classifier, test_set)"
   ]
  },
  {
   "cell_type": "markdown",
   "metadata": {
    "id": "KtupQVrSAvKU"
   },
   "source": [
    "### Support Vector Machine in `sklearn`"
   ]
  },
  {
   "cell_type": "markdown",
   "metadata": {
    "id": "2yfcoAMaAvKU"
   },
   "source": [
    "- `sklearn` provides several implementations for Support Vector Machines.\n",
    "- Please see its documentation for more detail: [Support Vector Machine](https://scikit-learn.org/stable/modules/svm.html)"
   ]
  },
  {
   "cell_type": "code",
   "execution_count": 43,
   "metadata": {
    "colab": {
     "base_uri": "https://localhost:8080/"
    },
    "executionInfo": {
     "elapsed": 3627,
     "status": "ok",
     "timestamp": 1709699883465,
     "user": {
      "displayName": "Alvin Chen",
      "userId": "06244732172561186175"
     },
     "user_tz": -480
    },
    "id": "OogVs8gjAvKU",
    "outputId": "38fc2c1f-fe3e-4cd1-ae02-429e2462e7dd"
   },
   "outputs": [
    {
     "data": {
      "text/plain": [
       "0.81"
      ]
     },
     "execution_count": 43,
     "metadata": {},
     "output_type": "execute_result"
    }
   ],
   "source": [
    "from sklearn.svm import SVC\n",
    "\n",
    "## using sklearn SVM in nltk\n",
    "sk_classifier = SklearnClassifier(SVC())\n",
    "sk_classifier.train(train_set)\n",
    "\n",
    "## evaluate the model\n",
    "nltk.classify.accuracy(sk_classifier, test_set)\n",
    "# createCM(sk_classifier, test_set)\n",
    "\n"
   ]
  },
  {
   "cell_type": "code",
   "execution_count": 44,
   "metadata": {
    "colab": {
     "base_uri": "https://localhost:8080/"
    },
    "executionInfo": {
     "elapsed": 1222,
     "status": "ok",
     "timestamp": 1709699884685,
     "user": {
      "displayName": "Alvin Chen",
      "userId": "06244732172561186175"
     },
     "user_tz": -480
    },
    "id": "zcLugEY8AvKU",
    "outputId": "e440875c-53ff-49bf-853c-fb1fbe953cd4"
   },
   "outputs": [
    {
     "data": {
      "text/plain": [
       "0.774"
      ]
     },
     "execution_count": 44,
     "metadata": {},
     "output_type": "execute_result"
    }
   ],
   "source": [
    "from sklearn.svm import LinearSVC\n",
    "\n",
    "## using sklearn linear SVM in nltk\n",
    "sk_classifier = SklearnClassifier(LinearSVC(max_iter=2000, dual=True))\n",
    "sk_classifier.train(train_set)\n",
    "\n",
    "## evaluate model\n",
    "nltk.classify.accuracy(sk_classifier, test_set)"
   ]
  },
  {
   "cell_type": "code",
   "execution_count": 45,
   "metadata": {
    "colab": {
     "base_uri": "https://localhost:8080/"
    },
    "executionInfo": {
     "elapsed": 5487,
     "status": "ok",
     "timestamp": 1709699890170,
     "user": {
      "displayName": "Alvin Chen",
      "userId": "06244732172561186175"
     },
     "user_tz": -480
    },
    "id": "b504AqJ-AvKU",
    "outputId": "be11c9f7-b64d-48a8-cdd4-35be8d7cacca"
   },
   "outputs": [
    {
     "data": {
      "text/plain": [
       "0.8"
      ]
     },
     "execution_count": 45,
     "metadata": {},
     "output_type": "execute_result"
    }
   ],
   "source": [
    "from sklearn.svm import NuSVC\n",
    "\n",
    "## using sklearn linear nuSVM in nltk\n",
    "sk_classifier = SklearnClassifier(NuSVC())\n",
    "sk_classifier.train(train_set)\n",
    "## evaluate model\n",
    "nltk.classify.accuracy(sk_classifier, test_set)"
   ]
  },
  {
   "cell_type": "markdown",
   "metadata": {
    "id": "ddwSDwI2AvKU"
   },
   "source": [
    "## Remaining Issues"
   ]
  },
  {
   "cell_type": "markdown",
   "metadata": {
    "id": "hsgFpxlSAvKU"
   },
   "source": [
    "1. **Feature Engineering**: Feature engineering is highlighted as a crucial aspect of the machine learning process. This involves selecting, extracting, and transforming features from the raw data to create meaningful representations that can improve the performance of the model.\n",
    "\n",
    "2. **Linguistically Motivated Features**: There is a suggestion to include more linguistically motivated features during the feature engineering process. This implies that domain-specific knowledge and linguistic insights can be valuable in designing features that capture relevant information from the data.\n",
    "\n",
    "3. **Text Vectorization Quality**: The quality of text vectorization is emphasized as it greatly influences the performance of the classifier. Text vectorization converts textual data into numerical representations that machine learning algorithms can work with. Ensuring accurate and informative vectorization is crucial for effective modeling.\n",
    "\n",
    "4. **Hyperparameter Tuning**: Every machine learning algorithm requires setting hyperparameters, which can significantly impact the model's performance. Tuning these hyperparameters to optimal values is essential for achieving the best possible performance from the model.\n",
    "\n",
    "5. **Systematic Hyperparameter Optimization**: There is a need for a more systematic approach to finding the optimal combinations of hyperparameters for a given machine learning algorithm. This suggests the importance of methods such as grid search or randomized search to systematically explore the hyperparameter space and identify the best settings.\n",
    "\n",
    "6. **Importance of Sklearn**: We will come back to these issues when discussing machine learning with `sklearn`."
   ]
  },
  {
   "cell_type": "markdown",
   "metadata": {
    "id": "TP7RmsvGAvKU"
   },
   "source": [
    "## References\n",
    "\n",
    "- NLTK Book, [Chapter 6 Learning to Classify Texts](https://www.nltk.org/book/ch06.html)\n",
    "- Géron (2019), Chapter 3 Classification"
   ]
  }
 ],
 "metadata": {
  "celltoolbar": "Slideshow",
  "colab": {
   "provenance": []
  },
  "kernelspec": {
   "display_name": "python-notes-2023",
   "language": "python",
   "name": "python3"
  },
  "language_info": {
   "codemirror_mode": {
    "name": "ipython",
    "version": 3
   },
   "file_extension": ".py",
   "mimetype": "text/x-python",
   "name": "python",
   "nbconvert_exporter": "python",
   "pygments_lexer": "ipython3",
   "version": "3.9.18"
  },
  "toc": {
   "base_numbering": "2",
   "nav_menu": {},
   "number_sections": true,
   "sideBar": true,
   "skip_h1_title": false,
   "title_cell": "Table of Contents",
   "title_sidebar": "Contents",
   "toc_cell": false,
   "toc_position": {
    "height": "706px",
    "left": "1519.67px",
    "top": "85px",
    "width": "165px"
   },
   "toc_section_display": true,
   "toc_window_display": false
  },
  "varInspector": {
   "cols": {
    "lenName": 16,
    "lenType": 16,
    "lenVar": 40
   },
   "kernels_config": {
    "python": {
     "delete_cmd_postfix": "",
     "delete_cmd_prefix": "del ",
     "library": "var_list.py",
     "varRefreshCmd": "print(var_dic_list())"
    },
    "r": {
     "delete_cmd_postfix": ") ",
     "delete_cmd_prefix": "rm(",
     "library": "var_list.r",
     "varRefreshCmd": "cat(var_dic_list()) "
    }
   },
   "types_to_exclude": [
    "module",
    "function",
    "builtin_function_or_method",
    "instance",
    "_Feature"
   ],
   "window_display": false
  }
 },
 "nbformat": 4,
 "nbformat_minor": 0
}