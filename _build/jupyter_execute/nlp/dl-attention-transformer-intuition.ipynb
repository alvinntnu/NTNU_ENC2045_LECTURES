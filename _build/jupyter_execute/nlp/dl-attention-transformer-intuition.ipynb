{
 "cells": [
  {
   "cell_type": "markdown",
   "metadata": {
    "id": "SbJeO-bEYTkC",
    "slideshow": {
     "slide_type": "slide"
    }
   },
   "source": [
    "# Attention and Transformers: Intuitions"
   ]
  },
  {
   "cell_type": "code",
   "execution_count": 1,
   "metadata": {
    "colab": {
     "base_uri": "https://localhost:8080/"
    },
    "executionInfo": {
     "elapsed": 2947,
     "status": "ok",
     "timestamp": 1621911448467,
     "user": {
      "displayName": "Alvin Chen",
      "photoUrl": "",
      "userId": "12962786962925949010"
     },
     "user_tz": -480
    },
    "id": "xZ_7LqYYYl5v",
    "outputId": "2536fcb6-2cb5-450a-af83-4eabfc713b57",
    "slideshow": {
     "slide_type": "skip"
    }
   },
   "outputs": [],
   "source": [
    "# ## Run this notebook on Google Coalb\n",
    "# ## Google Colab Setting\n",
    "# !pip install -U transformers"
   ]
  },
  {
   "cell_type": "markdown",
   "metadata": {
    "id": "yG-ivNKJYTkE",
    "slideshow": {
     "slide_type": "subslide"
    }
   },
   "source": [
    "- The state-of-the-art NLP features the use of **Attention** or its sophisticated application, **Transformers**.\n",
    "- The **Attention Mechanism** can be seen as an important architecture in deep learning (sequence models in particular) that allows the model to learn things from the **co-occurring contexts** of words.\n",
    "- Most importantly, this mechanism enables the network to effectively learn the **long distance dependency** relations in languages, which have long been a difficult task in traditional statistical NLP.\n",
    "- In this unit, we will provide an intuitive understanding of the Attention Mechanism and its extended application, Transformers, in deep learning."
   ]
  },
  {
   "cell_type": "markdown",
   "metadata": {},
   "source": [
    ":::{contents}\n",
    ":::"
   ]
  },
  {
   "cell_type": "markdown",
   "metadata": {
    "id": "MllPeWacYTkF",
    "slideshow": {
     "slide_type": "slide"
    }
   },
   "source": [
    "## Sequence-to-Sequence Models\n",
    "\n",
    "- The Attention Mechanism shows its most effective power in Sequence-to-Sequence models, esp. when both the input and output sequences are of **variable** lengths.\n",
    "- A typical application of Sequence-to-Sequence model is **machine translation**.\n",
    "- This type of model is also referred to as **Encoder-Decoder** models, where Encoder and Decoder are two independent RNN's trained at the same time.\n",
    "- In this unit, we will use Machine Translation as the example for illustration."
   ]
  },
  {
   "cell_type": "markdown",
   "metadata": {
    "id": "ta_eo0coYTkF",
    "slideshow": {
     "slide_type": "subslide"
    }
   },
   "source": [
    "![](../images/seq2seq-vanilla-rnn.jpeg)"
   ]
  },
  {
   "cell_type": "markdown",
   "metadata": {
    "id": "WKjKny58YTkF",
    "slideshow": {
     "slide_type": "slide"
    }
   },
   "source": [
    "### Vanilla Encoder-Decoder Model"
   ]
  },
  {
   "cell_type": "markdown",
   "metadata": {
    "cell_style": "split",
    "id": "CPHjfp4RYTkG",
    "slideshow": {
     "slide_type": "subslide"
    }
   },
   "source": [
    "![](../images/seq2seq-enc-dec-1.gif)"
   ]
  },
  {
   "cell_type": "markdown",
   "metadata": {
    "cell_style": "split",
    "id": "_kgQCsP3YTkG",
    "slideshow": {
     "slide_type": "fragment"
    }
   },
   "source": [
    "- In Vanilla Encoder-Decoder model, the Encoder processes one input token at a time and produces one hidden state (h) at each time step.\n",
    "- Each hidden state is passed to the next time step, along with the next input token (i.e., \"recurrent\").\n",
    "- At the last time step of the Encoder, it passes the hidden state of the **last** time step to the Decoder.\n",
    "- Then the Decoder takes in the last hidden state from the Encoder and produces one hidden state at a time. \n",
    "- Each Decoder's hidden state is passed to Dense Layer to get the output token.\n",
    "- The Decoder passes both the hidden state and the output token to the next time step and produces another hidden state and output token (i.e., \"recurrent\").\n",
    "- The Decoder stops decoding when the stopping condition is reached."
   ]
  },
  {
   "cell_type": "markdown",
   "metadata": {
    "id": "XpQeWSI2YTkG",
    "slideshow": {
     "slide_type": "slide"
    }
   },
   "source": [
    "### Teacher Forcing"
   ]
  },
  {
   "cell_type": "markdown",
   "metadata": {
    "id": "P-I_N8W2YTkH",
    "slideshow": {
     "slide_type": "subslide"
    }
   },
   "source": [
    "- Both Encoder and Decoder is an RNN cell, which takes two inputs at each time step: the **input token vector** of the current time step and the **hidden state** from the previous time step.\n",
    "- The training and testing for Decoder deserves more attention."
   ]
  },
  {
   "cell_type": "markdown",
   "metadata": {
    "id": "se7worwiYTkH",
    "slideshow": {
     "slide_type": "subslide"
    }
   },
   "source": [
    "- During the **training** stage, the Decoder takes the previous return state $h_{t-1}$ and the current correct $y_t$ as the input vector. This is referred to as **teacher forcing**.\n",
    "- During the **testing** stage, the Decoder would have to decode the output one at a time, taking the previous hidden state $h_{t-1}$ and the previous predicted output vector $\\hat{y}_{t-1}$ as its inputs. That is, no **teacher-forcing** during the testing stage.\n",
    "![](../images/seq2seq-vanilla-rnn-teacher-forcing.jpeg)"
   ]
  },
  {
   "cell_type": "markdown",
   "metadata": {
    "id": "BM8nj9QtYTkH",
    "slideshow": {
     "slide_type": "slide"
    }
   },
   "source": [
    "### Peeky Encoder-Decoder Model"
   ]
  },
  {
   "cell_type": "markdown",
   "metadata": {
    "id": "46Yyi0u1YTkH",
    "slideshow": {
     "slide_type": "subslide"
    }
   },
   "source": [
    "![](../images/seq2seq-peeky.jpeg)"
   ]
  },
  {
   "cell_type": "markdown",
   "metadata": {
    "id": "GqmPjJujYTkI",
    "slideshow": {
     "slide_type": "subslide"
    }
   },
   "source": [
    "- In the vanilla Encoder-Decoder model, Decoder can only access the **last hidden state** from Encoder.\n",
    "- A variant of the seq-to-seq model is to make available Encoder's last hidden state $h_{t}$ to Decoder at every decoding time step.\n",
    "- An intuitive understanding of this **peeky** approach is that during the decoding stage (i.e., translation), the **contexts** from the source input sequence are always available to all decoding steps."
   ]
  },
  {
   "cell_type": "markdown",
   "metadata": {
    "id": "mGiYnUw-YTkI",
    "slideshow": {
     "slide_type": "slide"
    }
   },
   "source": [
    "## Attention-based Encoder-Decoder Model"
   ]
  },
  {
   "cell_type": "markdown",
   "metadata": {
    "cell_style": "split",
    "id": "zc7I7b8rYTkI",
    "slideshow": {
     "slide_type": "subslide"
    }
   },
   "source": [
    "- Compared to Peeky Encoder-Decoder Model, the Attention-based Encoder-Decoder Model goes one step further by allowing Decoder to access not only Encoder's last hidden state, but Encoder's **hidden states at all time steps**.\n",
    "- This is where the Attention mechanism comes in."
   ]
  },
  {
   "cell_type": "markdown",
   "metadata": {
    "cell_style": "split",
    "id": "lgMo7JkdYTkI",
    "slideshow": {
     "slide_type": "fragment"
    }
   },
   "source": [
    "![](../images/seq2seq-enc-dec-2.gif)"
   ]
  },
  {
   "cell_type": "markdown",
   "metadata": {
    "id": "JF66gIa7YTkI",
    "slideshow": {
     "slide_type": "subslide"
    }
   },
   "source": [
    "- Attention Mechanism can be seen as a much more sophisticated design of the Peeky approach.\n",
    "- The key is how Decoder makes use of Encoder's hidden states.\n",
    "- The Attention Mechanism takes care of this important step."
   ]
  },
  {
   "cell_type": "markdown",
   "metadata": {
    "cell_style": "split",
    "id": "QnrWF7eRYTkJ",
    "slideshow": {
     "slide_type": "slide"
    }
   },
   "source": [
    "### Attention Intuition\n",
    "\n",
    "- When Decoder is translating/decoding, we would expect Decoder to focus on the parts of the input that are relevant to this decoding time step.\n",
    "- That is, when decoding the translation of $\\hat{Y}_{t}$, it is very likely that its translation is more relevant to some of the input words and less relevant to the others."
   ]
  },
  {
   "cell_type": "markdown",
   "metadata": {
    "cell_style": "split",
    "hide_input": true,
    "id": "fusnSMHPYTkK",
    "slideshow": {
     "slide_type": "fragment"
    }
   },
   "source": [
    "![](../images/seq2seq-enc-dec-attn.gif)"
   ]
  },
  {
   "cell_type": "markdown",
   "metadata": {
    "cell_style": "split",
    "id": "wyAyx4ixYTkK",
    "slideshow": {
     "slide_type": "subslide"
    }
   },
   "source": [
    "- With the Attention Mechanism, Decoder is capable of accessing the hidden states ($[h_1, h_2, ...,h_t]$) from all the time steps of the Encoder. \n",
    "- We only need to decide which hidden state **$h_t$** is more relevant to the decoding step (i.e., we need some **attention weights**)."
   ]
  },
  {
   "cell_type": "markdown",
   "metadata": {
    "cell_style": "split",
    "hide_input": true,
    "id": "1J8Q1XOBYTkK",
    "slideshow": {
     "slide_type": "fragment"
    }
   },
   "source": [
    "![](../images/seq2seq-enc-dec-attn.gif)"
   ]
  },
  {
   "cell_type": "markdown",
   "metadata": {
    "cell_style": "split",
    "id": "o__bU3-5YTkK",
    "slideshow": {
     "slide_type": "subslide"
    }
   },
   "source": [
    "- The Attention Mechanism does just that:\n",
    "    - First the Attention Layer determines the \"relevance\" of each Encoder's hidden state **$h_t$** to the Decoder's previous hidden state.\n",
    "    - Second, the Attention Layer transforms all the hidden states of the Encoder into a **Context Vector** by taking the weighted sum of all the Encoder's hidden states."
   ]
  },
  {
   "cell_type": "markdown",
   "metadata": {
    "cell_style": "split",
    "hide_input": true,
    "id": "IL83Gq03YTkL",
    "slideshow": {
     "slide_type": "fragment"
    }
   },
   "source": [
    "![](../images/seq2seq-enc-dec-attn.gif)"
   ]
  },
  {
   "cell_type": "markdown",
   "metadata": {
    "id": "Hl2QRu4cYTkL",
    "slideshow": {
     "slide_type": "subslide"
    }
   },
   "source": [
    "- Finally, to decode the next output token, we can utilize both the Decoder's hidden state and the Context vector for next-word translation.\n",
    "\n",
    "![](../images/seq2seq-attention-weights.jpeg)"
   ]
  },
  {
   "cell_type": "markdown",
   "metadata": {
    "id": "b5rON5ybYTkL",
    "slideshow": {
     "slide_type": "subslide"
    }
   },
   "source": [
    "### Attention Weights\n",
    "\n",
    "- There are many proposals regarding how to compute the attention weights. \n",
    "- In the current Tensorflow implementation, there are three types of [Attention layers](https://keras.io/api/layers/attention_layers/):\n",
    "    - `Attention` Layer: Luong's style attention (i.e., simple dot-product) [Luong et al., 2015](https://arxiv.org/pdf/1508.4025.pdf)\n",
    "    - `AdditiveAttention` Layer: Bahdanau's style attention [Bahdanau et al., 2015](https://arxiv.org/pdf/1409.0473.pdf)\n",
    "    - `MultiHeadAttention` Layer: transformer's style attention [“Attention is All you Need” (Vaswani, et al., 2017)](http://papers.nips.cc/paper/7181-attention-is-all-you-need.pdf)\n",
    "- The **Attention** layer then will transform all Encoder's hidden states into one **Context Vector**, indicating how relevant the decoding step is to all the Encoder's hidden states respectively.\n",
    "- In short, the Context Vector is a weighted sum of the Encoder's hidden states, using the **Attention Weights**."
   ]
  },
  {
   "cell_type": "markdown",
   "metadata": {
    "id": "kTbD0JsqYTkL",
    "slideshow": {
     "slide_type": "slide"
    }
   },
   "source": [
    "### Attention Layer in `tensorflow.keras`"
   ]
  },
  {
   "cell_type": "markdown",
   "metadata": {
    "id": "4Ym5kPrfYTkM",
    "slideshow": {
     "slide_type": "subslide"
    }
   },
   "source": [
    "- `tensorflow` has implemented three types of Attention layers:\n",
    "    - `Attention`: Dot-product attention layer, a.k.a. Luong-style attention.\n",
    "    - `AdditiveAttention`: Additive attention layer, a.k.a. Bahdanau-style attention.\n",
    "    - `MultiheadAttention`: Multi-head attention."
   ]
  },
  {
   "cell_type": "markdown",
   "metadata": {
    "id": "njuRwGceYTkM",
    "slideshow": {
     "slide_type": "subslide"
    }
   },
   "source": [
    "- When using the `Attention` layer, we need to specify which tensor (**query**) is attending to which tensor (**key**):\n",
    "    - `query` tensor: The tensor which is compared to every other vector to establish the weights.\n",
    "    - `value` tensor: The tensor which is used to compute the weighted sum of the Attention output, i.e., the Context Vector.\n",
    "    - `key` tensor: By default, it is the same as `value` tensor.\n",
    "\n",
    "- In our Decoder-Encoder Model, the **query** tensor is the Decoder's hidden state at the decoding time step; the **key** and **value** tensors are Encoder's hidden states (at all time steps).\n",
    "- The Attention layer returns a **Context Vector**, whose shape is the same as the **query** tensor."
   ]
  },
  {
   "cell_type": "markdown",
   "metadata": {
    "id": "lBagwtZ0YTkM",
    "slideshow": {
     "slide_type": "skip"
    }
   },
   "source": [
    ":::{note}    \n",
    "In Self-Attention layers, the Query is all the input vectors, and the Key is also the input vectors. \n",
    ":::"
   ]
  },
  {
   "cell_type": "markdown",
   "metadata": {
    "id": "z9ZCkajTYTkM",
    "slideshow": {
     "slide_type": "slide"
    }
   },
   "source": [
    "## Self-Attention"
   ]
  },
  {
   "cell_type": "markdown",
   "metadata": {
    "id": "FJd6viE9YTkM",
    "slideshow": {
     "slide_type": "subslide"
    }
   },
   "source": [
    "- Self-Attention is an extended application of the **Attention Mechansim**.\n",
    "- Given an input sequence, [$x_1, x_2, ..., x_t$], we can also check how each token is connected to each other, i.e., the pair-wise similarity in-between tokens.\n",
    "- This is the idea of **Self-Attention**."
   ]
  },
  {
   "cell_type": "markdown",
   "metadata": {
    "cell_style": "split",
    "id": "eh153jucYTkM",
    "slideshow": {
     "slide_type": "subslide"
    }
   },
   "source": [
    "- Self-attention operation is fundamental to the state-of-the-art NLP models.\n",
    "- It is a simple **sequence-to-sequence** (same lengths) operation: a sequence of vectors (**input vectors**) goes in, and a sequence of vectors comes out.\n",
    "- The self-attention operation builds upon the assumption that among all the input vectors, some are more connected to each other (e.g., syntactic/semantic long-distance dependency in \"*The cat walks on the street*\").\n",
    "- Therefore, when the Self-Attention layer transforms an input vector, it may give more weights to those input vectors that are more similar to this input vector."
   ]
  },
  {
   "cell_type": "markdown",
   "metadata": {
    "cell_style": "split",
    "id": "C15kscpnYTkN",
    "slideshow": {
     "slide_type": "fragment"
    }
   },
   "source": [
    "![](../images/seq2seq-self-atten.gif)"
   ]
  },
  {
   "cell_type": "markdown",
   "metadata": {
    "cell_style": "split",
    "id": "CIFNU9uVYTkN",
    "slideshow": {
     "slide_type": "subslide"
    }
   },
   "source": [
    "- How do we know which input vectors are more similar or more connected to each other? The simplest way is to compute the **dot-product** of the two vectors (i.e., similar to Cosine Similarity).\n",
    "- Therefore, in Self-Attention, each input vector (**Query**) is compared to all the other input vectors (**Keys**) to get the weights or similarity measures.\n",
    "- And each output vector is a weighted sum over all the input vectors, weighted by the similarity measures (the pairwise dot-products of the input vectors)."
   ]
  },
  {
   "cell_type": "markdown",
   "metadata": {
    "cell_style": "split",
    "id": "VURn84iDYTkN",
    "slideshow": {
     "slide_type": "fragment"
    }
   },
   "source": [
    "![](../images/seq2seq-self-atten.gif)"
   ]
  },
  {
   "cell_type": "markdown",
   "metadata": {
    "cell_style": "split",
    "id": "f9wpEyiGYTkN",
    "slideshow": {
     "slide_type": "subslide"
    }
   },
   "source": [
    "- For instance, in the following example, the word $walks$ may be more relevant to *who* is doing the walking (i.e., $cats$), or, *where* the agent is walking (i.e, $street$), and less relevant to grammatical words like $the$.\n",
    "- Therefore, an effective Self-Attention layer should transform the output vector of $walks$ (i.e., the weighted sum) by assigning higher weights on these relevant tokens (as indicated by the widths of the arrows) and lower weights on those irrelevant tokens."
   ]
  },
  {
   "cell_type": "markdown",
   "metadata": {
    "cell_style": "split",
    "id": "xQJFlMtMYTkN",
    "slideshow": {
     "slide_type": "fragment"
    }
   },
   "source": [
    "![](../images/seq2seq-self-atten.gif)"
   ]
  },
  {
   "cell_type": "markdown",
   "metadata": {
    "id": "GAyC0gc0YTkN",
    "slideshow": {
     "slide_type": "subslide"
    }
   },
   "source": [
    "- Simply put, the Self-Attention layer transforms each input vector into the output vector by taking into consideration how each input vector (**query**) is connected to the rest of the input vectors (**keys** and **values**).\n",
    "- Each transformed vector in the Self-Attention output is a weighted sum of all the input vectors."
   ]
  },
  {
   "cell_type": "markdown",
   "metadata": {
    "id": "xB-xTdTXaqd8",
    "slideshow": {
     "slide_type": "slide"
    }
   },
   "source": [
    "## From Self-Attention to Transformers"
   ]
  },
  {
   "cell_type": "markdown",
   "metadata": {
    "id": "caXJ4v3WYTkO",
    "slideshow": {
     "slide_type": "subslide"
    }
   },
   "source": [
    "- Now we see **Self-Attention** can be a powerful and effective mechanism to automatically model the long-distance dependency relationships in-between the tokens of an input sequence.\n",
    "- This turns out to be an important building block for **Transformers**."
   ]
  },
  {
   "cell_type": "markdown",
   "metadata": {
    "cell_style": "center",
    "id": "KhTp8vP-aqd9",
    "slideshow": {
     "slide_type": "subslide"
    }
   },
   "source": [
    "- A **transformer** is an architecture that builds upon self-attention layers.\n",
    "- Peter Bloem's definition of transformers:\n",
    "\n",
    "    \"*Any architecture designed to process a connected set of units--such as the tokens in a sequence or the pixels in an image--where the only interaction between units is through self-attention.*\""
   ]
  },
  {
   "cell_type": "markdown",
   "metadata": {
    "cell_style": "split",
    "id": "8S4iRy3Haqd9",
    "slideshow": {
     "slide_type": "subslide"
    }
   },
   "source": [
    "![](../images/transformer-block.svg)\n",
    "(Source: http://peterbloem.nl/blog/transformers)"
   ]
  },
  {
   "cell_type": "markdown",
   "metadata": {
    "cell_style": "split",
    "id": "8oI-1xd4aqd-",
    "slideshow": {
     "slide_type": "fragment"
    }
   },
   "source": [
    "- A transformer block combines the self-attention layer with a local feedforward network and add normalization and residual connections.\n",
    "- Normalization and residual connections are standard tricks used to help neural network train faster and more accurately.\n",
    "- A transformer block can also have **multiheaded attention layers** to keep track of different types of long-distance relationships between input tokens."
   ]
  },
  {
   "cell_type": "markdown",
   "metadata": {},
   "source": [
    ":::{tip}\n",
    "In 2017, Google researchers introduced **transformer blocks** in their paper titled “[Attention is All You Need](https://arxiv.org/abs/1706.03762)” by Vaswani et al. This approach largely replaced RNNs and served as the foundation for the powerful LLMs we use today. Transformers are built on the concept of self-attention, enabling the model to weigh the importance of different words in a sentence based on their relevance to each other.\n",
    "\n",
    "In their paper, the Transformer architecture was depicted as shown below. It comprises an **Encoder**, which processes the input text, and a **Decoder**, responsible for generating the next word in the sequence.\n",
    "\n",
    "![](../images/transformer-block-attentionyouallneed.png)\n",
    "(Source: Vaswani et al. 2017, Figure 1)\n",
    ":::"
   ]
  },
  {
   "cell_type": "markdown",
   "metadata": {
    "id": "geHE-2Vbaqd_",
    "slideshow": {
     "slide_type": "slide"
    }
   },
   "source": [
    "### Token Positions"
   ]
  },
  {
   "cell_type": "markdown",
   "metadata": {
    "id": "-CN3CtxQaqeA",
    "slideshow": {
     "slide_type": "subslide"
    }
   },
   "source": [
    "- The above operation of Transformers (or Self-Attention) does not take into account the relative positions of tokens in each sequence. \n",
    "- The output sequence may therefore be the same no matter how the tokens of the input sequence vary in order. (The model is **permutation invariant**).\n",
    "- To fix this, most transformers models create **position embeddings** or **position encodings** for each token of the sequence to represent the position of the word/token in the current sequence.\n",
    "- The position embeddings are added to word/token embeddings via concatenation."
   ]
  },
  {
   "cell_type": "markdown",
   "metadata": {
    "id": "5w8atJWTYTkP",
    "slideshow": {
     "slide_type": "subslide"
    }
   },
   "source": [
    "![](../images/transformers-classifier.svg)\n",
    "(Source: http://peterbloem.nl/blog/transformers)"
   ]
  },
  {
   "cell_type": "markdown",
   "metadata": {
    "id": "BW9F6Igsaqd-",
    "slideshow": {
     "slide_type": "slide"
    }
   },
   "source": [
    "## From Transformers to Classifiers"
   ]
  },
  {
   "cell_type": "markdown",
   "metadata": {
    "cell_style": "split",
    "id": "xriIskCYaqd_",
    "slideshow": {
     "slide_type": "subslide"
    }
   },
   "source": [
    "![](../images/transformers-classifier.svg)\n",
    "(Source: http://peterbloem.nl/blog/transformers)"
   ]
  },
  {
   "cell_type": "markdown",
   "metadata": {
    "cell_style": "split",
    "id": "HqvQ0KG9aqd-",
    "slideshow": {
     "slide_type": "fragment"
    }
   },
   "source": [
    "- With the transformer blocks, the most common way to build a classifier is to have an architecture consisting of **a large chain of transformer blocks**.\n",
    "- All we need to do is work out how to feed the input sequences into the architecture and how to transform the final output sequence into a single **classification**."
   ]
  },
  {
   "cell_type": "markdown",
   "metadata": {
    "id": "-8a88YWKaqd_",
    "slideshow": {
     "slide_type": "subslide"
    }
   },
   "source": [
    "- The trick in the classifier is to apply **global average pooling** to the final output sequence, and map the result to a **softmaxed** class vector.\n",
    "    - The output sequence is averaged to produce a single vector (similar to the *document embeddings*).\n",
    "    - This vector is then projected down to a vector with one element per class and softmaxed into probabilities."
   ]
  },
  {
   "cell_type": "markdown",
   "metadata": {
    "id": "jK_nzvhxYTkQ",
    "slideshow": {
     "slide_type": "slide"
    }
   },
   "source": [
    "## Transfer Learning"
   ]
  },
  {
   "cell_type": "markdown",
   "metadata": {
    "id": "caB-tpSCYTkQ",
    "slideshow": {
     "slide_type": "subslide"
    }
   },
   "source": [
    "### Machine Learning\n",
    "\n",
    "- A traditional machine learning model is trained for performance on a specific task.\n",
    "- To deal with a different task requires another set of labeled data and another round of training and optimization.\n",
    "- Therefore, every new task requires a sufficient amount of labeled data."
   ]
  },
  {
   "cell_type": "markdown",
   "metadata": {
    "id": "txVGnLSEYTkQ",
    "slideshow": {
     "slide_type": "subslide"
    }
   },
   "source": [
    "### Transfer Learning Intuition\n",
    "\n",
    "- **Transfer Learning** is the concept of learning a **fundamental representation of the data** that can be adapted to different tasks.\n",
    "- The learning of this fundamental general-purpose representation often relies on a large amount of data that are available relatively cheaply.\n",
    "- Two important considerations for effective transfer learning:\n",
    "    - The knowledge distillation step, called **pre-training**, should be based on an abundant amount of data.\n",
    "    - Adaptation, often called **fine-tuning**, should be done with data that shares similarities with the data used for pre-training."
   ]
  },
  {
   "cell_type": "markdown",
   "metadata": {
    "id": "gRwlFXyQYTkQ",
    "slideshow": {
     "slide_type": "subslide"
    }
   },
   "source": [
    "### Examples of Transfer Learning in NLP\n",
    "\n",
    "- We can build the sentiment classifier using the pre-trained word embeddings (e.g., GloVe, Fasttext).\n",
    "- We can apply advanced language model (i.e., BERT) for sentiment classification.\n",
    "- This two-step sequential learning of **pre-training** and **fine-tuning** is the most common form of transfer learning."
   ]
  },
  {
   "cell_type": "markdown",
   "metadata": {
    "id": "gRwlFXyQYTkQ",
    "slideshow": {
     "slide_type": "subslide"
    }
   },
   "source": [
    "- Important considerations:\n",
    "    - When applying the pre-trained models to your data, always check the proportion of the unknown/unseen tokens.\n",
    "    - The weights learned by the pre-trained model can be **frozen** during the fine-tuning of the task-specific model or those weights can be updated or **fine-tuned**. This is a non-trivial decision.\n",
    "    - Generally, fine-tuning the weights of the pre-trained model is only recommended when the source and target tasks are similar."
   ]
  },
  {
   "cell_type": "markdown",
   "metadata": {
    "id": "ghMJKAXraqeA",
    "slideshow": {
     "slide_type": "slide"
    }
   },
   "source": [
    "## Famous Transformers-based Models"
   ]
  },
  {
   "cell_type": "markdown",
   "metadata": {
    "id": "PjJtfC-YaqeA",
    "slideshow": {
     "slide_type": "slide"
    }
   },
   "source": [
    "### BERT (Bi-directional Encoder Representations from Transformers)"
   ]
  },
  {
   "cell_type": "markdown",
   "metadata": {
    "id": "2bxd8psiaqeA",
    "slideshow": {
     "slide_type": "subslide"
    }
   },
   "source": [
    "- Prior embeddings models are mostly context-free; BERT, however, is claimed to be considering contexts in its language model. \n",
    "- BERT was developed by Google Research in May 2019.\n",
    "- The paper: [BERT: Pre-training of Deep Bidirectional Transformers for Language Understanding](https://arxiv.org/abs/1810.04805).\n",
    "- BERT refers to Bi-directional Encoder Representations from Transformers.\n",
    "- BERT consists of a simple stacks of **transformer** blocks.\n",
    "- It is pre-trained on a large general-domain corpus consisting of 800M words from English books and 2.5B words of Wikipedia articles."
   ]
  },
  {
   "cell_type": "markdown",
   "metadata": {
    "id": "u30F3IhcaqeB",
    "slideshow": {
     "slide_type": "subslide"
    }
   },
   "source": [
    "- BERT is a neural network built to accomplish two language-modeling tasks:\n",
    "    - **Masking**: A certain number of words in the input sequences are randomly masked out and the model is to learn to predict which words have been modified and what the original words are for each input sequence.\n",
    "    - **Next Sequence Classification**: Two sequences (around 256 words) are sampled from the corpus which may follow each other directly in the corpus, or are taken from random places. The model needs to learn which case it would be.\n",
    "- BERT utilizes **WordPiece** tokenization. Each token is somewhere in between word-level and character level sequences."
   ]
  },
  {
   "cell_type": "code",
   "execution_count": 1,
   "metadata": {
    "colab": {
     "base_uri": "https://localhost:8080/"
    },
    "executionInfo": {
     "elapsed": 1652,
     "status": "ok",
     "timestamp": 1621911450116,
     "user": {
      "displayName": "Alvin Chen",
      "photoUrl": "",
      "userId": "12962786962925949010"
     },
     "user_tz": -480
    },
    "id": "X9D6m1WLYTkR",
    "outputId": "3286b80a-8e33-4196-88c2-fe28a5f7faff",
    "slideshow": {
     "slide_type": "subslide"
    }
   },
   "outputs": [
    {
     "data": {
      "application/vnd.jupyter.widget-view+json": {
       "model_id": "91eb2c395ee24e3f93834f52d5ed28f7",
       "version_major": 2,
       "version_minor": 0
      },
      "text/plain": [
       "Downloading tokenizer_config.json:   0%|          | 0.00/48.0 [00:00<?, ?B/s]"
      ]
     },
     "metadata": {},
     "output_type": "display_data"
    },
    {
     "data": {
      "text/plain": [
       "['don', \"'\", 't', 'like', 'it', '!']"
      ]
     },
     "execution_count": 1,
     "metadata": {},
     "output_type": "execute_result"
    }
   ],
   "source": [
    "from transformers import BertTokenizer\n",
    "tokenizer = BertTokenizer.from_pretrained(\"bert-base-uncased\")\n",
    "tokenizer.tokenize(\"Don't like it!\")"
   ]
  },
  {
   "cell_type": "markdown",
   "metadata": {
    "id": "K5UZiU9CYTkS",
    "slideshow": {
     "slide_type": "subslide"
    }
   },
   "source": [
    "![](../images/bert-tokenizer.jpeg)"
   ]
  },
  {
   "cell_type": "markdown",
   "metadata": {
    "id": "pS_VYhWYYTkS",
    "slideshow": {
     "slide_type": "subslide"
    }
   },
   "source": [
    ":::{tip}\n",
    "In `transformers`, if you want to build a BERT-based sequence classifier, you may need to not only tokenize input texts into sequences but also get the attention masks of each input text. This can be done via the function call `BertTokenizer.encode_plus()`.\n",
    ":::"
   ]
  },
  {
   "cell_type": "markdown",
   "metadata": {
    "id": "viqjQMrBaqeB",
    "slideshow": {
     "slide_type": "subslide"
    }
   },
   "source": [
    "- With this pretrained BERT, we can add signle task-specific layer after the stack of transformer blocks, which maps the general purpose representation to a task specific output (e.g., binary classification).\n",
    "- The model can then be fine-tuned for that particular task at hand. (i.e., **transfer learning**)"
   ]
  },
  {
   "cell_type": "markdown",
   "metadata": {
    "id": "gobvpz67aqeB",
    "slideshow": {
     "slide_type": "subslide"
    }
   },
   "source": [
    "- Statistics of the large BERT model:\n",
    "    - Transformer blocks: 24\n",
    "    - Sequence length: 256(?) Word-pieces\n",
    "    - Embedding dimension: 1024\n",
    "    - Attention heads: 16\n",
    "    - Parameter number: 340M"
   ]
  },
  {
   "cell_type": "markdown",
   "metadata": {
    "id": "Rud6k6nHfHSz",
    "slideshow": {
     "slide_type": "slide"
    }
   },
   "source": [
    "#### English Examples\n",
    "\n",
    "- In this example, we load the pre-trained English BERT model using `transformers`, which is the go-to package for transformer-based NLP models in Python.\n",
    "- Depending on the architecture of the network, BERT comes in many different variants. `transformers` allows the users to access a lot of pre-trained language models available on its official [Hugging Face website](https://huggingface.co/models)."
   ]
  },
  {
   "cell_type": "code",
   "execution_count": 11,
   "metadata": {
    "executionInfo": {
     "elapsed": 4094,
     "status": "ok",
     "timestamp": 1621911454207,
     "user": {
      "displayName": "Alvin Chen",
      "photoUrl": "",
      "userId": "12962786962925949010"
     },
     "user_tz": -480
    },
    "id": "4_5ACiHnaqeC",
    "slideshow": {
     "slide_type": "subslide"
    }
   },
   "outputs": [],
   "source": [
    "import textwrap\n",
    "\n",
    "from transformers import AutoModelForMaskedLM, AutoTokenizer\n",
    "import torch\n",
    "\n",
    "tokenizer_dbert = AutoTokenizer.from_pretrained(\"distilbert-base-cased\")\n",
    "model_dbert = AutoModelForMaskedLM.from_pretrained(\"distilbert-base-cased\")"
   ]
  },
  {
   "cell_type": "code",
   "execution_count": 3,
   "metadata": {
    "colab": {
     "base_uri": "https://localhost:8080/"
    },
    "executionInfo": {
     "elapsed": 9,
     "status": "ok",
     "timestamp": 1621911454208,
     "user": {
      "displayName": "Alvin Chen",
      "photoUrl": "",
      "userId": "12962786962925949010"
     },
     "user_tz": -480
    },
    "id": "XDXIn6zsaqeE",
    "outputId": "c525072b-2f35-4af6-f187-23cabe02e417",
    "slideshow": {
     "slide_type": "subslide"
    }
   },
   "outputs": [
    {
     "name": "stdout",
     "output_type": "stream",
     "text": [
      "CPU times: user 25.6 ms, sys: 20.1 ms, total: 45.6 ms\n",
      "Wall time: 34.4 ms\n"
     ]
    }
   ],
   "source": [
    "%%time\n",
    "text = f\"China has been very {tokenizer_dbert.mask_token} toward Taiwan.\"\n",
    "input = tokenizer_dbert.encode(text, return_tensors=\"pt\")\n",
    "\n",
    "mask_token_index = torch.where(input == tokenizer_dbert.mask_token_id)[1]\n",
    "token_logits = model_dbert(input).logits\n",
    "mask_token_logits = token_logits[0, mask_token_index, :]\n",
    "top_5_tokens = torch.topk(mask_token_logits, 5, dim=1).indices[0].tolist()"
   ]
  },
  {
   "cell_type": "code",
   "execution_count": 4,
   "metadata": {
    "colab": {
     "base_uri": "https://localhost:8080/"
    },
    "executionInfo": {
     "elapsed": 8,
     "status": "ok",
     "timestamp": 1621911454209,
     "user": {
      "displayName": "Alvin Chen",
      "photoUrl": "",
      "userId": "12962786962925949010"
     },
     "user_tz": -480
    },
    "id": "Dz8S6uJ0e3bV",
    "outputId": "429bd9e9-a6ef-4a55-a722-479484916adc",
    "slideshow": {
     "slide_type": "subslide"
    }
   },
   "outputs": [
    {
     "name": "stdout",
     "output_type": "stream",
     "text": [
      "China has been very hostile toward Taiwan.\n",
      "China has been very aggressive toward Taiwan.\n",
      "China has been very favorable toward Taiwan.\n",
      "China has been very positive toward Taiwan.\n",
      "China has been very tolerant toward Taiwan.\n"
     ]
    }
   ],
   "source": [
    "for token in top_5_tokens:\n",
    "    print(text.replace(tokenizer_dbert.mask_token, tokenizer_dbert.decode([token])))"
   ]
  },
  {
   "cell_type": "markdown",
   "metadata": {
    "id": "FzGZZfO7hIKy",
    "slideshow": {
     "slide_type": "slide"
    }
   },
   "source": [
    "#### Chinese examples"
   ]
  },
  {
   "cell_type": "code",
   "execution_count": 5,
   "metadata": {
    "executionInfo": {
     "elapsed": 1775,
     "status": "ok",
     "timestamp": 1621911455979,
     "user": {
      "displayName": "Alvin Chen",
      "photoUrl": "",
      "userId": "12962786962925949010"
     },
     "user_tz": -480
    },
    "id": "LaHMcCROhLgy",
    "slideshow": {
     "slide_type": "subslide"
    }
   },
   "outputs": [
    {
     "data": {
      "application/vnd.jupyter.widget-view+json": {
       "model_id": "a10259f459bf45edb67b5ad5c5a505e5",
       "version_major": 2,
       "version_minor": 0
      },
      "text/plain": [
       "Downloading tokenizer_config.json:   0%|          | 0.00/174 [00:00<?, ?B/s]"
      ]
     },
     "metadata": {},
     "output_type": "display_data"
    },
    {
     "data": {
      "application/vnd.jupyter.widget-view+json": {
       "model_id": "5877eddedd4f4d069d0e7e7911b9b676",
       "version_major": 2,
       "version_minor": 0
      },
      "text/plain": [
       "Downloading config.json:   0%|          | 0.00/729 [00:00<?, ?B/s]"
      ]
     },
     "metadata": {},
     "output_type": "display_data"
    },
    {
     "data": {
      "application/vnd.jupyter.widget-view+json": {
       "model_id": "c2e2c4ab76b448e3aceead298debace3",
       "version_major": 2,
       "version_minor": 0
      },
      "text/plain": [
       "Downloading vocab.txt:   0%|          | 0.00/110k [00:00<?, ?B/s]"
      ]
     },
     "metadata": {},
     "output_type": "display_data"
    },
    {
     "data": {
      "application/vnd.jupyter.widget-view+json": {
       "model_id": "ec26682923954d8cbf788c953c2a2f01",
       "version_major": 2,
       "version_minor": 0
      },
      "text/plain": [
       "Downloading (…)cial_tokens_map.json:   0%|          | 0.00/112 [00:00<?, ?B/s]"
      ]
     },
     "metadata": {},
     "output_type": "display_data"
    },
    {
     "data": {
      "application/vnd.jupyter.widget-view+json": {
       "model_id": "56554b804433422db6c92c0f76b6d8f7",
       "version_major": 2,
       "version_minor": 0
      },
      "text/plain": [
       "Downloading pytorch_model.bin:   0%|          | 0.00/16.2M [00:00<?, ?B/s]"
      ]
     },
     "metadata": {},
     "output_type": "display_data"
    }
   ],
   "source": [
    "from transformers import AutoModelForMaskedLM, AutoTokenizer\n",
    "import torch\n",
    "\n",
    "tokenizer_zh_albert = AutoTokenizer.from_pretrained(\n",
    "    \"ckiplab/albert-tiny-chinese\")\n",
    "model_zh_albert = AutoModelForMaskedLM.from_pretrained(\n",
    "    \"ckiplab/albert-tiny-chinese\")"
   ]
  },
  {
   "cell_type": "code",
   "execution_count": 6,
   "metadata": {
    "colab": {
     "base_uri": "https://localhost:8080/"
    },
    "executionInfo": {
     "elapsed": 331,
     "status": "ok",
     "timestamp": 1621911604760,
     "user": {
      "displayName": "Alvin Chen",
      "photoUrl": "",
      "userId": "12962786962925949010"
     },
     "user_tz": -480
    },
    "id": "x73savm1hNcB",
    "outputId": "f99fa81d-4993-4ba3-d1f1-17fd76b8257d",
    "slideshow": {
     "slide_type": "subslide"
    }
   },
   "outputs": [
    {
     "name": "stdout",
     "output_type": "stream",
     "text": [
      "CPU times: user 7.81 ms, sys: 7 ms, total: 14.8 ms\n",
      "Wall time: 9.84 ms\n"
     ]
    }
   ],
   "source": [
    "%%time\n",
    "text = f\"疫情持續{tokenizer_zh_albert.mask_token}，考驗北市醫療量能。\"\n",
    "input = tokenizer_zh_albert.encode(text, return_tensors=\"pt\")\n",
    "\n",
    "mask_token_index = torch.where(input == tokenizer_zh_albert.mask_token_id)[1]\n",
    "token_logits = model_zh_albert(input).logits\n",
    "mask_token_logits = token_logits[0, mask_token_index, :]\n",
    "top_5_tokens = torch.topk(mask_token_logits, 5, dim=1).indices[0].tolist()"
   ]
  },
  {
   "cell_type": "code",
   "execution_count": 8,
   "metadata": {
    "colab": {
     "base_uri": "https://localhost:8080/"
    },
    "executionInfo": {
     "elapsed": 308,
     "status": "ok",
     "timestamp": 1621911610158,
     "user": {
      "displayName": "Alvin Chen",
      "photoUrl": "",
      "userId": "12962786962925949010"
     },
     "user_tz": -480
    },
    "id": "nTaM7VsZhzxn",
    "outputId": "eb62d779-ef3a-40c3-cc0e-bc8807962c10",
    "slideshow": {
     "slide_type": "subslide"
    }
   },
   "outputs": [
    {
     "name": "stdout",
     "output_type": "stream",
     "text": [
      "疫情持續大，考驗北市醫療量能。\n",
      "疫情持續熱，考驗北市醫療量能。\n",
      "疫情持續[UNK]，考驗北市醫療量能。\n",
      "疫情持續高，考驗北市醫療量能。\n",
      "疫情持續了，考驗北市醫療量能。\n"
     ]
    }
   ],
   "source": [
    "for token in top_5_tokens:\n",
    "    print(\n",
    "        text.replace(tokenizer_zh_albert.mask_token,\n",
    "                     tokenizer_zh_albert.decode([token])))"
   ]
  },
  {
   "cell_type": "markdown",
   "metadata": {
    "id": "psquPQAUaqeF",
    "slideshow": {
     "slide_type": "slide"
    }
   },
   "source": [
    "### GPT-2 (Generative Pre-Training 2)"
   ]
  },
  {
   "cell_type": "markdown",
   "metadata": {
    "id": "ejcIY-UkaqeF",
    "slideshow": {
     "slide_type": "subslide"
    }
   },
   "source": [
    "- GPT-2 is famous (notorious) in the news media as the \"[malicious writing AI](https://www.bbc.com/news/technology-47249163)\".\n",
    "- Different from BERT, GPT-2 is fundamentally a language **generation** model (i.e., a Decoder-oriented generative model).\n",
    "- Compared to BERT, GPT-2 features its the linguistic diversity of their training data (e.g., posts and links via the social media site *Reddit* with a minimum level of social support, i.e., 按讚數).\n",
    "- Statistics of GPT-2:\n",
    "    - Transformer blocks: 48\n",
    "    - Sequence length: 1024\n",
    "    - Ebmedding dimension: 1600\n",
    "    - Attention heads: 36\n",
    "    - Parameter number: 1.5B"
   ]
  },
  {
   "cell_type": "markdown",
   "metadata": {
    "id": "JJ11mr3ZfOBo",
    "slideshow": {
     "slide_type": "slide"
    }
   },
   "source": [
    "#### English Examples\n",
    "\n",
    "- Let's look at a simple example of English GPT-2, where we use the model to create a sample texts based on a short prompt."
   ]
  },
  {
   "cell_type": "code",
   "execution_count": 9,
   "metadata": {
    "executionInfo": {
     "elapsed": 3980,
     "status": "ok",
     "timestamp": 1621911459956,
     "user": {
      "displayName": "Alvin Chen",
      "photoUrl": "",
      "userId": "12962786962925949010"
     },
     "user_tz": -480
    },
    "id": "kAp_2GgDaqeG",
    "scrolled": true,
    "slideshow": {
     "slide_type": "subslide"
    }
   },
   "outputs": [],
   "source": [
    "from transformers import AutoTokenizer, AutoModelWithLMHead, AutoModelForCausalLM\n",
    "\n",
    "tokenizer_en_gpt2 = AutoTokenizer.from_pretrained(\"gpt2\")\n",
    "model_en_gpt2 = AutoModelForCausalLM.from_pretrained(\"gpt2\",\n",
    "                                                     output_hidden_states=True)\n"
   ]
  },
  {
   "cell_type": "code",
   "execution_count": null,
   "metadata": {},
   "outputs": [],
   "source": [
    "## Access llmama \n",
    "## You have to provide access_token in hugginface and obtain consent from meta\n",
    "\n",
    "# ## Set env var OPENAI_API_KEY or load from a .env file:\n",
    "# from dotenv import load_dotenv\n",
    "# import os\n",
    "# load_dotenv('/Users/alvinchen/.env')\n",
    "# access_token = os.getenv('ACCESS_TOKEN')\n",
    "# tokenizer_llama2 = AutoTokenizer.from_pretrained(\"meta-llama/Meta-Llama-Guard-2-8B\",use_auth_token=access_token)\n",
    "# model_llama2 = AutoModelForCausalLM.from_pretrained(\"meta-llama/Meta-Llama-Guard-2-8B\",\n",
    "#                                                      output_hidden_states=True, use_auth_token=access_token)"
   ]
  },
  {
   "cell_type": "code",
   "execution_count": 12,
   "metadata": {
    "colab": {
     "base_uri": "https://localhost:8080/"
    },
    "executionInfo": {
     "elapsed": 5310,
     "status": "ok",
     "timestamp": 1621911465255,
     "user": {
      "displayName": "Alvin Chen",
      "photoUrl": "",
      "userId": "12962786962925949010"
     },
     "user_tz": -480
    },
    "id": "T7cfi-CwaqeH",
    "outputId": "b316baf0-ef38-4c99-e2cb-93d3573f6d4a",
    "slideshow": {
     "slide_type": "subslide"
    }
   },
   "outputs": [
    {
     "name": "stderr",
     "output_type": "stream",
     "text": [
      "The attention mask and the pad token id were not set. As a consequence, you may observe unexpected behavior. Please pass your input's `attention_mask` to obtain reliable results.\n",
      "Setting `pad_token_id` to `eos_token_id`:50256 for open-end generation.\n"
     ]
    },
    {
     "name": "stdout",
     "output_type": "stream",
     "text": [
      " Taiwan and China are two independent\n",
      "countries that do not share the same\n",
      "territorial boundaries and are both\n",
      "sovereign states. Hong Kong, China's\n",
      "capital and home, is also a sovereign\n",
      "state.  Hong Kong has claimed\n",
      "sovereignty over most of China's\n",
      "territory since it was founded in 1909.\n",
      "The mainland has been divided and\n",
      "squabble over its \"right to self-\n",
      "determination\" continues to rage in the\n",
      "city, which is now in the hands of the\n",
      "mainland for over 700 years. Hong Kong\n",
      "is now\n",
      "CPU times: user 5.85 s, sys: 435 ms, total: 6.29 s\n",
      "Wall time: 11.4 s\n"
     ]
    }
   ],
   "source": [
    "%%time\n",
    "text = \"Taiwan and China are two independent countries\"\n",
    "\n",
    "# Tokenize the input string\n",
    "input = tokenizer_en_gpt2.encode(text, return_tensors=\"pt\")\n",
    "\n",
    "# Run the model\n",
    "output = model_en_gpt2.generate(input,\n",
    "                                max_length=100,\n",
    "                                do_sample=True,\n",
    "                                top_p=0.95,\n",
    "                                top_k=60)\n",
    "\n",
    "# Print the output\n",
    "print(textwrap.fill('\\n' + tokenizer_en_gpt2.decode(output[0]), 40))"
   ]
  },
  {
   "cell_type": "markdown",
   "metadata": {
    "id": "wZ4xi99ffymi",
    "slideshow": {
     "slide_type": "slide"
    }
   },
   "source": [
    "#### Chinese"
   ]
  },
  {
   "cell_type": "code",
   "execution_count": 13,
   "metadata": {
    "executionInfo": {
     "elapsed": 3064,
     "status": "ok",
     "timestamp": 1621911468308,
     "user": {
      "displayName": "Alvin Chen",
      "photoUrl": "",
      "userId": "12962786962925949010"
     },
     "user_tz": -480
    },
    "id": "PNpYoEnsf320",
    "slideshow": {
     "slide_type": "subslide"
    }
   },
   "outputs": [
    {
     "data": {
      "application/vnd.jupyter.widget-view+json": {
       "model_id": "ac8824732519470dad6e7b105fa98e64",
       "version_major": 2,
       "version_minor": 0
      },
      "text/plain": [
       "Downloading tokenizer_config.json:   0%|          | 0.00/174 [00:00<?, ?B/s]"
      ]
     },
     "metadata": {},
     "output_type": "display_data"
    },
    {
     "data": {
      "application/vnd.jupyter.widget-view+json": {
       "model_id": "41d144dec9254e2e9d28dd70f280f10f",
       "version_major": 2,
       "version_minor": 0
      },
      "text/plain": [
       "Downloading config.json:   0%|          | 0.00/758 [00:00<?, ?B/s]"
      ]
     },
     "metadata": {},
     "output_type": "display_data"
    },
    {
     "data": {
      "application/vnd.jupyter.widget-view+json": {
       "model_id": "9ce1c092c3a9429da759782810452f1f",
       "version_major": 2,
       "version_minor": 0
      },
      "text/plain": [
       "Downloading vocab.txt:   0%|          | 0.00/110k [00:00<?, ?B/s]"
      ]
     },
     "metadata": {},
     "output_type": "display_data"
    },
    {
     "data": {
      "application/vnd.jupyter.widget-view+json": {
       "model_id": "935dee784bb744daae9aed1ef669dfb5",
       "version_major": 2,
       "version_minor": 0
      },
      "text/plain": [
       "Downloading (…)cial_tokens_map.json:   0%|          | 0.00/112 [00:00<?, ?B/s]"
      ]
     },
     "metadata": {},
     "output_type": "display_data"
    },
    {
     "data": {
      "application/vnd.jupyter.widget-view+json": {
       "model_id": "da76028d41274b65a0f09ceb4170c8d4",
       "version_major": 2,
       "version_minor": 0
      },
      "text/plain": [
       "Downloading pytorch_model.bin:   0%|          | 0.00/421M [00:00<?, ?B/s]"
      ]
     },
     "metadata": {},
     "output_type": "display_data"
    }
   ],
   "source": [
    "from transformers import AutoTokenizer, AutoModelWithLMHead, AutoModelForCausalLM\n",
    "\n",
    "tokenizer_zh_gpt2 = AutoTokenizer.from_pretrained(\"ckiplab/gpt2-base-chinese\")\n",
    "\n",
    "#model = AutoModelWithLMHead.from_pretrained(\"gpt2-xl\")\n",
    "model_zh_gpt2 = AutoModelForCausalLM.from_pretrained(\"ckiplab/gpt2-base-chinese\", output_hidden_states=True)"
   ]
  },
  {
   "cell_type": "code",
   "execution_count": 14,
   "metadata": {
    "colab": {
     "base_uri": "https://localhost:8080/"
    },
    "executionInfo": {
     "elapsed": 26748,
     "status": "ok",
     "timestamp": 1621911495044,
     "user": {
      "displayName": "Alvin Chen",
      "photoUrl": "",
      "userId": "12962786962925949010"
     },
     "user_tz": -480
    },
    "id": "5lgjulZ_gFQn",
    "outputId": "8ccb9b1a-4919-4af4-caec-31f80ad59fc7",
    "slideshow": {
     "slide_type": "subslide"
    }
   },
   "outputs": [
    {
     "name": "stderr",
     "output_type": "stream",
     "text": [
      "The attention mask and the pad token id were not set. As a consequence, you may observe unexpected behavior. Please pass your input's `attention_mask` to obtain reliable results.\n",
      "Setting `pad_token_id` to `eos_token_id`:102 for open-end generation.\n"
     ]
    }
   ],
   "source": [
    "#text = \"老太太把眼鏡往下一移，從眼鏡上面朝屋內四處張望了一圈，然後又把眼鏡往上抬著，從眼鏡下面往屋外瞧。她平時很少、甚至從來沒有透過眼鏡去找像一個小男孩這樣小傢伙。對她來說，自己這副做工考究的眼鏡是地位的象徵，它的裝飾價值遠遠超出了實用價值，其實，即使戴上兩片爐蓋也照樣看得一清二楚。\"\n",
    "\n",
    "text = \"最近疫情逐漸升溫，許多地方出錯破口，政府\"\n",
    "# Tokenize the input string\n",
    "input = tokenizer_zh_gpt2.encode(text, add_special_tokens=False,return_tensors=\"pt\")\n",
    "\n",
    "# Run the model\n",
    "output = model_zh_gpt2.generate(input, max_length=500, \n",
    "                                do_sample=True,top_p=0.95, top_k=60)\n",
    "\n"
   ]
  },
  {
   "cell_type": "code",
   "execution_count": 13,
   "metadata": {
    "colab": {
     "base_uri": "https://localhost:8080/"
    },
    "executionInfo": {
     "elapsed": 17,
     "status": "ok",
     "timestamp": 1621911495045,
     "user": {
      "displayName": "Alvin Chen",
      "photoUrl": "",
      "userId": "12962786962925949010"
     },
     "user_tz": -480
    },
    "id": "BBj6lvEaqzBM",
    "outputId": "aa5917f7-5d73-40e9-8d0d-11f435a64f8b",
    "slideshow": {
     "slide_type": "subslide"
    }
   },
   "outputs": [
    {
     "name": "stdout",
     "output_type": "stream",
     "text": [
      " 最 近 疫 情 逐 漸 升 溫 ， 許 多 地 方 出 錯 破 口 ， 政 府\n",
      "亦 有 不 少 地 方 被 出 錯 破 口 ， 但 卻 有 部 分 地 方 的\n",
      "缺 口 ， 且 沒 有 設 防 疫 口 ， 並 且 都 遭 到 部 分 區 域\n",
      "中 的 區 域 中 不 得 不 的 地 方 出 錯 的 影 響 。 但 是 ，\n",
      "為 提 高 警 覺 ， 疫 情 在 當 地 的 不 滿 ， 部 分 區 域 亦\n",
      "有 部 分 發 生 錯 誤 ， 政 府 對 於 區 域 中 所 有 區 域 均\n",
      "未 設 防 疫 口 ， 且 其 有 些 區 域 皆 沒 有 防 疫 口 。 雖\n",
      "然 世 界 衛 生 組 織 對 於 區 域 中 一 致 性 的 反 應 非 常\n",
      "有 限 ， 但 是 並 無 法 制 定 出 有 關 警 戒 的 規 定 ， 但\n",
      "防 疫 部 門 指 出 一 般 而 言 區 域 內 一 致 性 防 疫 的 狀\n",
      "況 不 適 合 出 現 。 在 2010 年 ， 有 學 者 表 示 當 地 的\n",
      "大 部 分 市 區 因 為 沒 有 任 何 地 方 被 出 錯 的 反 應 ，\n",
      "有 可 能 發 生 錯 誤 ， 但 也 有 人 質 疑 區 域 中 的 不 安\n",
      "全 及 可 怕 的 不 確 定 性 ， 但 也 有 人 認 為 事 件 不 是\n",
      "地 方 政 府 能 否 同 意 。 當 地 一 致 性 防 疫 是 一 個 非\n",
      "常 重 要 的 環 節 ， 因 為 不 是 傳 統 的 一 種 區 域 ， 因\n",
      "此 不 應 被 視 為 是 一 個 非 常 重 要 的 保 護 措 施 ， 例\n",
      "如 「 區 域 中 出 錯 」 的 問 題 。 但 政 府 未 能 制 定 出\n",
      "一 致 性 的 防 疫 措 施 。 自 2001 年 以 來 ， 美 國 境 內\n",
      "各 地 區 的 大 部 分 區 域 都 被 出 錯 。 當 地 的 國 民 ，\n",
      "可 以 在 發 生 錯 誤 的 情 況 下 在 一 定 時 間 內 出 錯 。\n",
      "當 地 出 錯 ， 可 以 在 一 定 時 間 內 出 錯 ， 而 國 內 出\n",
      "錯 的 狀 況 可 以 被 視 為 無 害 的 。 這 種 現 象 也 有 一\n",
      "些 是 人 力 資 源 與 環 境 汙 染 。 為 了 防 範 大 規 模 人\n",
      "口 感 染 ， 區 域 裡 的 不 同 情 況 通 常 不 適 合 出 錯 。\n",
      "另 外\n"
     ]
    }
   ],
   "source": [
    "\n",
    "# Print the output\n",
    "print(textwrap.fill('\\n'+ tokenizer_zh_gpt2.decode(output[0]), 40))"
   ]
  },
  {
   "cell_type": "markdown",
   "metadata": {},
   "source": [
    "## Large Langage Models\n",
    "\n",
    "- The field of Large Language Models (LLMs) has been rapidly evolving in recent months, with astonishing capabilities and a wide range of applications. These models have been utilized for tasks ranging from writing articles to composing music, and even solving complex scientific problems. Recently, the releases of Gemini 1.5 and Claude 3 have intensified competition in this area, leading to increasingly sophisticated specifications for various LLMs.\n",
    "\n",
    "- To address this evolving landscape, the article by \n",
    "ChiChieh Huang, [LLM 規格比較 | 盤點 ChatGPT, Gemini, Claude, Mistral, llama 等模型](https://medium.com/@cch.chichieh/llm-%E8%A6%8F%E6%A0%BC%E6%AF%94%E8%BC%83-%E7%9B%A4%E9%BB%9E-chatgpt-gemini-claude-mistral-llama-%E7%AD%89%E6%A8%A1%E5%9E%8B-c9ac7835adb3), is very comprehensive. It provides a comparison table, covering specifications of the LLMs from leading manufacturers such as OpenAI, Google, Anthropic, Meta, and Mistral AI. \n",
    "\n",
    "- These comparison tables provide a clear overview and help understand the key specifications of LLMs across various dimensions, including Model Size, Training Data, and Context Window, among others.\n"
   ]
  },
  {
   "cell_type": "markdown",
   "metadata": {},
   "source": [
    "\n",
    "![](https://github.com/wsxqaza12/Comparison-of-LLM-Specifications/blob/main/poster/poster_March.png?raw=true)\n",
    "(Source: [Github Comparison-of-LLM-Specifications](https://github.com/wsxqaza12/Comparison-of-LLM-Specifications))\n",
    "\n",
    "![](https://github.com/wsxqaza12/Comparison-of-LLM-Specifications/blob/main/poster/poster_April.png?raw=true)\n",
    "(Source: [Github Comparison-of-LLM-Specifications](https://github.com/wsxqaza12/Comparison-of-LLM-Specifications))"
   ]
  },
  {
   "cell_type": "markdown",
   "metadata": {
    "id": "fny-ISh8aqeH",
    "slideshow": {
     "slide_type": "slide"
    }
   },
   "source": [
    "## Prospect"
   ]
  },
  {
   "cell_type": "markdown",
   "metadata": {
    "id": "JtKg5fY7aqeI",
    "slideshow": {
     "slide_type": "subslide"
    }
   },
   "source": [
    "The future prospects of Large Language Models (LLMs), particularly transformer-based models, appear promising and multifaceted:\n",
    "\n",
    "1. **Increasing Complexity for Effectiveness**: There is a trend indicating that the effectiveness of transformer-based models increases with their complexity. This can be observed in models like [Transformer-XL](https://arxiv.org/abs/1901.02860), which suggests that more complex architectures lead to better performance in language understanding and generation tasks.\n",
    "\n",
    "2. **Hardware Limitations**: The current limitations on the performance of transformer-based models appear to be primarily dictated by hardware constraints. As hardware capabilities continue to advance, there is potential for even more powerful and efficient LLMs to be developed.\n",
    "\n",
    "3. **Versatility of Transformers**: Transformers, as a class of models, are highly versatile and adaptable. They have the potential to be applied in a wide range of fields beyond natural language processing, including computer vision, speech recognition, and reinforcement learning, among others.\n",
    "\n",
    "4. **Unraveling Linguistic Dependencies**: Linguists and researchers are eagerly anticipating further exploration into how transformer-based models learn and represent morpho-syntactic and semantic long-distance dependencies. Understanding these mechanisms could provide valuable insights into human language processing and cognition.\n",
    "\n",
    "Overall, the future of LLMs appears bright, with ongoing advancements in architecture, hardware, and interdisciplinary applications driving further innovation and exploration in the field."
   ]
  },
  {
   "cell_type": "markdown",
   "metadata": {
    "id": "TqK_I67faqeI",
    "slideshow": {
     "slide_type": "slide"
    }
   },
   "source": [
    "## References"
   ]
  },
  {
   "cell_type": "markdown",
   "metadata": {
    "id": "c1gBhGfFaqeI",
    "slideshow": {
     "slide_type": "subslide"
    }
   },
   "source": [
    "- Important Works:\n",
    "    - Sequence to Sequence Models \n",
    "        - Sutskever et al. 2014. [Sequence to sequence learning with neural network](https://papers.nips.cc/paper/2014/file/a14ac55a4f27472c5d894ec1c3c743d2-Paper.pdf).\n",
    "        - Cho et al. 2014. [Learning Phrase Representations using RNN Encoder–Decoderfor Statistical Machine Translation](http://emnlp2014.org/papers/pdf/EMNLP2014179.pdf).\n",
    "    - Attention\n",
    "        - Bahdanau et al. 2014. [Neural Machine Translation by Jointly Learning to Align and Translate](https://arxiv.org/abs/1409.0473).\n",
    "        - Luong et al. 2015. [Effective Approaches to Attention-based Neural Machine Translation](https://arxiv.org/abs/1508.04025).\n",
    "        - Vaswani et al. 2017. [Attention is All You Need](https://arxiv.org/abs/1706.03762)\n",
    "- This lecture is Peter Bloem's blog post: [Transformers from Scratch](http://peterbloem.nl/blog/transformers).\n",
    "- Jay Alammar's blog post: [Visualizing A Neural Machine Translation Model](https://jalammar.github.io/visualizing-neural-machine-translation-mechanics-of-seq2seq-models-with-attention/)\n",
    "- Jay Alammar's blog post: [The Illustrated Transformer](https://jalammar.github.io/illustrated-transformer/)\n",
    "- Jay Alammar's blog post: [The Illustrated BERT, ELMo, and co. (How NLP Cracked Transfer Learning)](http://jalammar.github.io/illustrated-bert/)\n",
    "- Please see a very nice review of Lilian Weng's [Attention? Attention!](https://lilianweng.github.io/lil-log/2018/06/24/attention-attention.html).\n"
   ]
  }
 ],
 "metadata": {
  "accelerator": "GPU",
  "celltoolbar": "Slideshow",
  "colab": {
   "collapsed_sections": [],
   "name": "dl-attention-transformer-intuition.ipynb",
   "provenance": [],
   "toc_visible": true
  },
  "kernelspec": {
   "display_name": "python-notes",
   "language": "python",
   "name": "python3"
  },
  "language_info": {
   "codemirror_mode": {
    "name": "ipython",
    "version": 3
   },
   "file_extension": ".py",
   "mimetype": "text/x-python",
   "name": "python",
   "nbconvert_exporter": "python",
   "pygments_lexer": "ipython3",
   "version": "3.9.18"
  },
  "toc": {
   "base_numbering": 1,
   "nav_menu": {},
   "number_sections": true,
   "sideBar": true,
   "skip_h1_title": false,
   "title_cell": "Table of Contents",
   "title_sidebar": "Contents",
   "toc_cell": false,
   "toc_position": {
    "height": "calc(100% - 180px)",
    "left": "10px",
    "top": "150px",
    "width": "307.865px"
   },
   "toc_section_display": true,
   "toc_window_display": false
  },
  "varInspector": {
   "cols": {
    "lenName": 16,
    "lenType": 16,
    "lenVar": 40
   },
   "kernels_config": {
    "python": {
     "delete_cmd_postfix": "",
     "delete_cmd_prefix": "del ",
     "library": "var_list.py",
     "varRefreshCmd": "print(var_dic_list())"
    },
    "r": {
     "delete_cmd_postfix": ") ",
     "delete_cmd_prefix": "rm(",
     "library": "var_list.r",
     "varRefreshCmd": "cat(var_dic_list()) "
    }
   },
   "types_to_exclude": [
    "module",
    "function",
    "builtin_function_or_method",
    "instance",
    "_Feature"
   ],
   "window_display": false
  }
 },
 "nbformat": 4,
 "nbformat_minor": 1
}