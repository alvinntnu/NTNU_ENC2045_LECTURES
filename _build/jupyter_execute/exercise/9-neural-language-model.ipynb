{
 "cells": [
  {
   "cell_type": "markdown",
   "metadata": {
    "id": "ggd6uPyDuWup"
   },
   "source": [
    "# Assignment IV: Neural Language Model"
   ]
  },
  {
   "cell_type": "markdown",
   "metadata": {
    "id": "fz0nULnHuWux"
   },
   "source": [
    "## Question 1\n",
    "\n",
    "Use the same simple dataset (as shown below) discussed in class and create a simple **trigram-based** neural language using sequence models.\n",
    "\n",
    "\n",
    "```\n",
    "# source text\n",
    "data = \"\"\" Jack and Jill went up the hill\\n\n",
    "\t\tTo fetch a pail of water\\n\n",
    "\t\tJack fell down and broke his crown\\n\n",
    "\t\tAnd Jill came tumbling after\\n \"\"\"\n",
    "```"
   ]
  },
  {
   "cell_type": "markdown",
   "metadata": {
    "id": "1gr0NI5fuWu3"
   },
   "source": [
    "## Question 2\n",
    "\n",
    "Use the same simple dataset and create a simple line-based neural language model using sequence models.\n",
    "\n",
    "For example, given the first line, `Jack and Jill went up the hill`, you need to include all possible sequences from this line as inputs for your neural language model training, including all bigrams, trigrams, ..., ngrams combinations (see below)\n",
    "\n",
    "```\n",
    "# source text\n",
    "data = \"\"\"Jack and Jill went up the hill\\n\n",
    "\t\tTo fetch a pail of water\\n\n",
    "\t\tJack fell down and broke his crown\\n\n",
    "\t\tAnd Jill came tumbling after\\n\"\"\"\n",
    "```\n",
    "\n",
    "```\n",
    "## seqeunces as inputs from line 2\n",
    "['To', 'fetch']\n",
    "['To', 'fetch', 'a']\n",
    "['To', 'fetch', 'a', 'pail']\n",
    "['To', 'fetch', 'a', 'pail', 'of']\n",
    "['To', 'fetch', 'a', 'pail', 'of', 'water']\n",
    "\n",
    "```"
   ]
  },
  {
   "cell_type": "markdown",
   "metadata": {
    "id": "0uVw-gMPuWu9"
   },
   "source": [
    "## Question 3\n",
    "\n",
    "Use the Brown corpus (`nltk.corpus.brown`) to create a trigram-based neural language model.\n",
    "\n",
    "Please use the language model to generate 50-word text sequences using the seed text \"The news\". Provide a few examples from your trained model.\n",
    "\n",
    "A few important notes in data preprocessing:\n",
    "\n",
    "- When preparing the input sequences of trigrams for model training, please make sure the trigram does not span across \"sentence boundaries\". You can utilize the sentence tokenization annotations provided by the `ntlk.corpus.brown.sents()`.\n",
    "- The neural language model will be trained based on all trigrams that fulfill the above criterion in the entire Brown corpus.\n",
    "\n",
    ":::{warning}\n",
    "Even though the `brown` corpus is a small-size one, the input sequences of all observed trigrams may still require considerable amount of memory for processing. Some of you may not have enough memory space to store the entire inputs and outputs data. Please find your own solutions if you encounter this memory issue. (Hint: Use `generator()`).\n",
    ":::\n",
    "\n",
    ":::{warning}\n",
    "When you use your trigram-based neural language model to generate sequences, please add **randomness** to the sampling of the next word. If you always ask the language model to choose the next word of highest predicted probability value, your text would be very repetitive. Please consult Ch. 8.1.4 of François Chollet's Deep Learning with Python (one of the course textbooks) for the implementation of **temperature** for this exercise.\n",
    ":::"
   ]
  },
  {
   "cell_type": "markdown",
   "metadata": {},
   "source": [
    "- Examples of the 50-word text sequences created by the language model:"
   ]
  },
  {
   "cell_type": "code",
   "execution_count": 16,
   "metadata": {
    "tags": [
     "hide-input"
    ]
   },
   "outputs": [
    {
     "name": "stdout",
     "output_type": "stream",
     "text": [
      "The news that was the first time was that the public interest in the first time he was '' and the in the of the state to the of the world of these theories '' and a few days '' he said that a note of the characteristics of the time of\n",
      "\n",
      "\n",
      "The news of rayburn's commitment well known that mine '' he said '' he said he was in his own life and of the most part of the women have been the of her and mother '' said mrs buck have not been as a result of a group of the and\n",
      "\n",
      "\n",
      "The news that is the basic truth in the next day to relax the emotional stimulation and fear that the author of the western world '' and said it was not a little more than the most of the state of the quarrel obtained a qualification that most of these forces as\n",
      "\n",
      "\n",
      "The news and a little of the time we are never trying to find out what he has a small boy and a series of a new crisis the book was not a tax bill was not at the time of the white house would be to the extent to which he\n",
      "\n",
      "\n",
      "The news of the church must be well to the extent of the most important element of the '' the end of the whole world '' he said he was in the of the '' of the and of the state of the is the of his new ideas that had been\n",
      "\n",
      "\n"
     ]
    },
    {
     "data": {
      "text/plain": [
       "[None, None, None, None, None]"
      ]
     },
     "execution_count": 16,
     "metadata": {},
     "output_type": "execute_result"
    }
   ],
   "source": [
    "[print(s+'\\n'*2) for s in generated_sequences]"
   ]
  }
 ],
 "metadata": {
  "accelerator": "GPU",
  "celltoolbar": "Tags",
  "colab": {
   "collapsed_sections": [],
   "name": "10-neural-language-model-ans.ipynb",
   "provenance": [],
   "toc_visible": true
  },
  "kernelspec": {
   "display_name": "python-notes",
   "language": "python",
   "name": "python-notes"
  },
  "language_info": {
   "codemirror_mode": {
    "name": "ipython",
    "version": 3
   },
   "file_extension": ".py",
   "mimetype": "text/x-python",
   "name": "python",
   "nbconvert_exporter": "python",
   "pygments_lexer": "ipython3",
   "version": "3.7.0"
  },
  "toc": {
   "base_numbering": 1,
   "nav_menu": {},
   "number_sections": false,
   "sideBar": true,
   "skip_h1_title": false,
   "title_cell": "Table of Contents",
   "title_sidebar": "Contents",
   "toc_cell": false,
   "toc_position": {},
   "toc_section_display": true,
   "toc_window_display": true
  },
  "varInspector": {
   "cols": {
    "lenName": 16,
    "lenType": 16,
    "lenVar": 40
   },
   "kernels_config": {
    "python": {
     "delete_cmd_postfix": "",
     "delete_cmd_prefix": "del ",
     "library": "var_list.py",
     "varRefreshCmd": "print(var_dic_list())"
    },
    "r": {
     "delete_cmd_postfix": ") ",
     "delete_cmd_prefix": "rm(",
     "library": "var_list.r",
     "varRefreshCmd": "cat(var_dic_list()) "
    }
   },
   "types_to_exclude": [
    "module",
    "function",
    "builtin_function_or_method",
    "instance",
    "_Feature"
   ],
   "window_display": false
  }
 },
 "nbformat": 4,
 "nbformat_minor": 1
}