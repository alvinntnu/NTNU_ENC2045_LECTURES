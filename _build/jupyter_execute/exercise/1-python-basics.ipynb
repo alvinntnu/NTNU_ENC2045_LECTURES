{
 "cells": [
  {
   "cell_type": "markdown",
   "metadata": {},
   "source": [
    "# Assignment I: Python Basics"
   ]
  },
  {
   "cell_type": "markdown",
   "metadata": {},
   "source": [
    "In this course, we assume you have basic working knowledge of the language python. Please finish the exercises in this assignment by writing programs in python. All these exercises cover the necessary knowledge needed for more advanced tasks in our course.\n"
   ]
  },
  {
   "cell_type": "markdown",
   "metadata": {},
   "source": [
    "```{note}\n",
    "Please use default modules provided by python and avoid using non-default modules which require additional installation.\n",
    "```"
   ]
  },
  {
   "cell_type": "markdown",
   "metadata": {},
   "source": [
    "\n",
    "## \n",
    "What are the core default modules available in Python? List down a few of them and explain their functionalities.\n"
   ]
  },
  {
   "cell_type": "markdown",
   "metadata": {
    "tags": [
     "hide-input",
     "hide-output"
    ]
   },
   "source": [
    "```{admonition} Ans\n",
    ":class: tip\n",
    "Answers may vary.\n",
    "```\n"
   ]
  },
  {
   "cell_type": "markdown",
   "metadata": {},
   "source": [
    "## \n",
    "Assuming that you have not installed the modulel `numpy` in your system. How to install the module?"
   ]
  },
  {
   "cell_type": "markdown",
   "metadata": {},
   "source": [
    "## \n",
    "In Jupyter Notebook, how to get the documentation for the python objects you are working with?"
   ]
  },
  {
   "cell_type": "markdown",
   "metadata": {},
   "source": [
    "## \n",
    "Demonstrate how to subset and slice a `list` in Python with examples."
   ]
  },
  {
   "cell_type": "markdown",
   "metadata": {},
   "source": [
    "## \n",
    "What are the different ways to generate random numbers? Demonstrate at least the following two ways of random number generation.\n",
    "\n",
    "- Generate a random number between 0 and 1\n",
    "- Generate a random integer between 0 and 100"
   ]
  },
  {
   "cell_type": "markdown",
   "metadata": {},
   "source": [
    "## \n",
    "A `dict` is provided below. Please demonstrate how to sort the dictionary by (a) its key, and (b) its values in an descending order.\n",
    "\n",
    "```\n",
    "example = {'e':10, 'a':22, 'h':17}\n",
    "```\n",
    "\n",
    "The expected results:\n",
    "\n",
    "```\n",
    "## According to key:\n",
    "[('h', 17), ('e', 10), ('a', 22)]\n",
    "## According to value:\n",
    "[('a', 22), ('h', 17), ('e', 10)]\n",
    "```"
   ]
  },
  {
   "cell_type": "markdown",
   "metadata": {},
   "source": [
    "## \n",
    "How do we remove the duplicate elements from the `list` given below?\n",
    "\n",
    "```\n",
    "words = [‘one’, ‘one’, ‘two’, ‘three’, ‘three’, ‘two’]\n",
    "```\n",
    "\n",
    "The expected output:\n",
    "\n",
    "```\n",
    "['two', 'one', 'three']\n",
    "```"
   ]
  },
  {
   "cell_type": "markdown",
   "metadata": {},
   "source": [
    "## \n",
    "How to convert the strings `123` and `456.6` into  numbers?"
   ]
  },
  {
   "cell_type": "markdown",
   "metadata": {},
   "source": [
    "## \n",
    "How to get the full path to the current working directory of your project in Python?\n"
   ]
  },
  {
   "cell_type": "markdown",
   "metadata": {},
   "source": [
    "## \n",
    "How to get all the names of the files in the current working directory that have the file extension of `.txt`?"
   ]
  },
  {
   "cell_type": "markdown",
   "metadata": {},
   "source": [
    "(question-control)=\n",
    "## \n",
    "Use control structures of `for-loop` and `if-condition` to identify the elements from the `list` below whose values are divisible by 13 but are not a multiple of 5.\n",
    "\n",
    "```\n",
    "numbers = range(100,200)\n",
    "```\n",
    "\n",
    "The expected results:\n",
    "\n",
    "```\n",
    "104\n",
    "117\n",
    "143\n",
    "156\n",
    "169\n",
    "182\n",
    "```\n"
   ]
  },
  {
   "cell_type": "markdown",
   "metadata": {},
   "source": [
    "## \n",
    "To achieve the same goal as specified in the previous [question](question-control), please re-write the script with only one line utilizing the **list comprehension** in python.\n",
    "\n",
    "For example:\n",
    "\n",
    "```\n",
    "numbers = range(100,200)\n",
    "[XXXXXX number XXXXX] # list comprehension\n",
    "```\n",
    "\n",
    "The expected results are as follows:\n",
    "\n",
    "```\n",
    "[104, 117, 143, 156, 169, 182]\n",
    "```"
   ]
  },
  {
   "cell_type": "markdown",
   "metadata": {},
   "source": [
    "## \n",
    "Given a `list` of `tuples` as shown below, please sort the `list` according to the second value of the tuples by **descending** order. If the second values are the same, the next sorting criterion is based on the third values of the tuples. Please note that the first value is a string while the rest should be converted to numbers before sorting.\n",
    "\n",
    "The input `list`:\n",
    "\n",
    "```\n",
    "data= [('John', '20', '90'), ('Jony', '17', '91'), ('Jony', '17', '93'), ('Json', '21', '85'), ('Tom', '19', '80')]\n",
    "```\n",
    "\n",
    "The expected results:\n",
    "\n",
    "```\n",
    "[('Json', '21', '85'),\n",
    " ('John', '20', '90'),\n",
    " ('Tom', '19', '80'),\n",
    " ('Jony', '17', '93'),\n",
    " ('Jony', '17', '91')]\n",
    "```"
   ]
  },
  {
   "cell_type": "markdown",
   "metadata": {},
   "source": [
    "## \n",
    "Define a function which can iterate the numbers, which are divisible by 13, between a given range 0 and n, and print all numbers in one line, separated by commas.\n",
    "\n",
    "Expected outputs of `generateNumbers(100)`:\n",
    "\n",
    "`0,13,26,39,52,65,78,91`\n"
   ]
  },
  {
   "cell_type": "markdown",
   "metadata": {},
   "source": [
    "## \n",
    "Write a program which accepts the following sequence of words separated by whitespace as input and print the words composed of digits only.\n",
    "\n",
    "```\n",
    "s = '2 cats and 3 dogs.'\n",
    "```\n",
    "\n",
    "The expected output:\n",
    "\n",
    "```\n",
    "['2', '3']\n",
    "```"
   ]
  },
  {
   "cell_type": "markdown",
   "metadata": {},
   "source": [
    "## \n",
    "Define a function which can compute the sum of two numbers.\n",
    "\n",
    "For example, you define a function `addNums()`:\n",
    "\n",
    "\n",
    "The expected results of `addNums(1,4)`:\n",
    "\n",
    "```\n",
    "5\n",
    "```"
   ]
  },
  {
   "cell_type": "markdown",
   "metadata": {},
   "source": [
    "## \n",
    "Write a program that accepts as input a long string, where a series of words are separated by commas and prints the words in a comma-separated sequence after sorting them alphabetically.\n",
    "\n",
    "The input long string:\n",
    "\n",
    "```\n",
    "s = \"without,hello,bag,world\"\n",
    "```\n",
    "\n",
    "The expected output:\n",
    "\n",
    "```\n",
    "bag,hello,without,world\n",
    "```"
   ]
  },
  {
   "cell_type": "markdown",
   "metadata": {},
   "source": [
    "## \n",
    "Write a program that accepts an input string and computes the total number of upper case letters and lower case letters in the entire string.\n",
    "\n",
    "The input string:\n",
    "\n",
    "```\n",
    "\n",
    "s = \"\"\"\n",
    "Hello world!\n",
    "Then, the output should be:\n",
    "UPPER CASE 1\n",
    "LOWER CASE 9\n",
    "\"\"\"\n",
    "```\n",
    "\n",
    "The expected Outputs:\n",
    "\n",
    "```\n",
    "UPPER CASE: 20\n",
    "LOWER CASE: 29\n",
    "```"
   ]
  },
  {
   "cell_type": "markdown",
   "metadata": {},
   "source": [
    "## \n",
    "Explain what the following code chunk is doing in your own words step by step (i.e., line by line). Please paraphrase the scripts as clearly as possible."
   ]
  },
  {
   "cell_type": "code",
   "execution_count": 36,
   "metadata": {},
   "outputs": [
    {
     "data": {
      "text/plain": [
       "[4, 16, 36, 64, 100]"
      ]
     },
     "execution_count": 36,
     "metadata": {},
     "output_type": "execute_result"
    }
   ],
   "source": [
    "li = [1,2,3,4,5,6,7,8,9,10]\n",
    "evenNumbers = map(lambda x: x**2, filter(lambda x: x%2==0, li))\n",
    "[n for n in evenNumbers]\n"
   ]
  },
  {
   "cell_type": "markdown",
   "metadata": {},
   "source": [
    "## \n",
    "Write a program that accepts a long string and identifies strings that are possibly emails.\n",
    "\n",
    "The input string:\n",
    "\n",
    "```\n",
    "s = \"\"\"\n",
    "This is a short text with example@ntnu.edu.tw emails that we will use as@gmail.com examples. Some emails are complex like alvin-chen@my_domain.org and some sentences do not have any email address, like the emoticon here --> @.@.\n",
    "\"\"\"\n",
    "```\n",
    "\n",
    "The expected output:\n",
    "\n",
    "```\n",
    "['example@ntnu.edu.tw', 'as@gmail.com', 'alvin-chen@my_domain.org']\n",
    "```"
   ]
  }
 ],
 "metadata": {
  "celltoolbar": "Tags",
  "kernelspec": {
   "display_name": "python-notes",
   "language": "python",
   "name": "python-notes"
  },
  "language_info": {
   "codemirror_mode": {
    "name": "ipython",
    "version": 3
   },
   "file_extension": ".py",
   "mimetype": "text/x-python",
   "name": "python",
   "nbconvert_exporter": "python",
   "pygments_lexer": "ipython3",
   "version": "3.7.0"
  },
  "toc": {
   "base_numbering": 1,
   "nav_menu": {},
   "number_sections": true,
   "sideBar": true,
   "skip_h1_title": false,
   "title_cell": "Table of Contents",
   "title_sidebar": "Contents",
   "toc_cell": false,
   "toc_position": {},
   "toc_section_display": true,
   "toc_window_display": true
  },
  "varInspector": {
   "cols": {
    "lenName": 16,
    "lenType": 16,
    "lenVar": 40
   },
   "kernels_config": {
    "python": {
     "delete_cmd_postfix": "",
     "delete_cmd_prefix": "del ",
     "library": "var_list.py",
     "varRefreshCmd": "print(var_dic_list())"
    },
    "r": {
     "delete_cmd_postfix": ") ",
     "delete_cmd_prefix": "rm(",
     "library": "var_list.r",
     "varRefreshCmd": "cat(var_dic_list()) "
    }
   },
   "types_to_exclude": [
    "module",
    "function",
    "builtin_function_or_method",
    "instance",
    "_Feature"
   ],
   "window_display": false
  }
 },
 "nbformat": 4,
 "nbformat_minor": 4
}