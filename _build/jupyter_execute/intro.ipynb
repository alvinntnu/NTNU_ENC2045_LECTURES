{
 "cells": [
  {
   "cell_type": "markdown",
   "metadata": {},
   "source": [
    "# ENC2045 Computational Linguistics"
   ]
  },
  {
   "cell_type": "code",
   "execution_count": 6,
   "metadata": {
    "tags": [
     "remove-input"
    ]
   },
   "outputs": [
    {
     "name": "stdout",
     "output_type": "stream",
     "text": [
      "Last Updated: 2021-07-20\n"
     ]
    }
   ],
   "source": [
    "from datetime import datetime\n",
    "print('Last Updated: '+ datetime.today().strftime('%Y-%m-%d'))"
   ]
  },
  {
   "cell_type": "markdown",
   "metadata": {},
   "source": [
    "\n",
    "```{admonition} Contributing to the Lecture Notes!\n",
    ":class: tip\n",
    "This website now supports [Hypothe.is](https://web.hypothes.is/), which is an amazing tool for website annotations. If you would like to contribute to the lecture notes (e.g., error corrections), please leave your comments and suggestions as annotations. Corrections of the materials will be made on a regular basis. And your contributions will be greatly appreciated:)\n",
    "```\n"
   ]
  },
  {
   "cell_type": "markdown",
   "metadata": {},
   "source": [
    "## Introduction\n",
    "\n",
    "Computational Linguistics (CL) is now a very active sub-discipline in applied linguistics. Its main focus is on the computational text analytics, which is essentially about leveraging computational tools, techniques, and algorithms to process and understand natural language data (in spoken or textual formats). Therefore, this course aims to introduce useful strategies and common workflows that have been widely adopted by data scientists to extract useful insights from natural language data. In this course, we will focus on textual data.\n",
    "\n",
    "## Course Objectives\n",
    "\n",
    "A selective collection of potential topics may include:\n",
    "\n",
    "<i class=\"fa fa-check fa-1x\" style=\"color:DarkTurquoise;margin-right:5px\"></i> A Pipeline for Natural Language Processing\n",
    "\n",
    "-   Text Normalization\n",
    "-   Text Tokenization\n",
    "-   Parsing and Chunking\n",
    "\n",
    "<i class=\"fa fa-check fa-1x\" style=\"color:DarkTurquoise;margin-right:5px\"></i> Chinese Processing\n",
    "\n",
    "-   Issues for Chinese Language Processing (Word Segmentation)\n",
    "\n",
    "<i class=\"fa fa-check fa-1x\" style=\"color:DarkTurquoise;margin-right:5px\"></i> Machine Learning Basics\n",
    "\n",
    "-   Feature Engineering and Text Vectorization\n",
    "-   Traditional Machine Learning\n",
    "-   Classification Models (Naive Bayes, SVM, Logistic Regression)\n",
    "\n",
    "<i class=\"fa fa-check fa-1x\" style=\"color:DarkTurquoise;margin-right:5px\"></i>\n",
    "Common Computational Tasks\n",
    "\n",
    "-   Sentiment Analysis\n",
    "-   Tex Clustering and Topic Modeling\n",
    "\n",
    "<i class=\"fa fa-check fa-1x\" style=\"color:DarkTurquoise;margin-right:5px\"></i>\n",
    "Deep Learning NLP\n",
    "\n",
    "-   Neural Language Model\n",
    "-   Sequence Models\n",
    "-   RNN\n",
    "-   LSTM/GRU\n",
    "-   Sequence-to-sequence Model\n",
    "-   Attention-based Models\n",
    "-   Explainable Artificial Intelligence and Computational Linguistics\n",
    "\n",
    "This course is extremely hands-on and will guide the students through classic examples of many task-oriented implementations via in-class theme-based tutorial sessions. The main coding language used in this course is Python. We will make extensive use of the language. It is assumed that you know or will quickly learn how to code in **Python**. In fact, this course assumes that every enrolled student has working knowledge of Python. (If you are not sure whether you fulfill the prerequisite, please contact the instructor first.)\n",
    "\n",
    "A test on Python Basics will be conducted on the second week of the class to ensure that every enrolled student fulfills the prerequisite. (To be more specific, you are assumed to have already had working knowledge of all the concepts included in the book, Lean Python: Learn Just Enough Python to Build Useful Tools). Those who fail on the Python basics test are NOT advised to take this course.\n",
    "\n",
    "Please note that this course is designed specifically for linguistics majors in humanities. For computer science majors, this course will not feature a thorough description of the mathematical operations behind the algorithms. We focus more on the practical implementation."
   ]
  },
  {
   "cell_type": "markdown",
   "metadata": {},
   "source": [
    "## Course Website\n",
    "\n",
    "All the course materials will be available on the [course website ENC2045](https://alvinntnu.github.io/NTNU_ENC2045/). You may need a password to access the course materials/data. If you are an officially enrolled student, please ask the instructor for the passcode.\n",
    "\n",
    "We will also have a Moodle course site for assignment submission.\n",
    "\n",
    "Please read the FAQ of the course website before course registration."
   ]
  },
  {
   "cell_type": "markdown",
   "metadata": {},
   "source": [
    "## Major Readings\n",
    "\n",
    "The course materials are mainly based on the following readings.\n",
    "\n",
    "````{panels}\n",
    "\n",
    "```{image} images/book-nltk.jpg \n",
    ":alt: ntlk \n",
    ":width: 100% \n",
    ":align: center\n",
    "```\n",
    "\n",
    "---\n",
    "\n",
    "```{image} images/book-pnlp.jpg \n",
    ":alt: ntlk \n",
    ":width: 100%\n",
    ":align: center\n",
    "```\n",
    "\n",
    "---\n",
    "\n",
    "```{image} images/book-text-analytics.jpg \n",
    ":alt: text-analytics \n",
    ":width: 100%\n",
    ":align: center\n",
    "```\n",
    "---\n",
    "\n",
    "```{image} images/book-sklearn.jpg \n",
    ":alt: sklearn \n",
    ":width: 100%\n",
    ":align: center\n",
    "```\n",
    "---\n",
    "\n",
    "```{image} images/book-dl.jpg \n",
    ":alt: dl \n",
    ":width: 100%\n",
    ":align: center\n",
    "```\n",
    "````"
   ]
  },
  {
   "cell_type": "markdown",
   "metadata": {},
   "source": [
    "## Recommended Books\n",
    "\n",
    "Also, there are many other useful reference books, which are listed as follows in terms of three categories:\n",
    "\n",
    "-   Python Basics {cite}`gerrard2016lean`\n",
    "-   Data Analysis with Python {cite}`mckinney2012python,geron2019hands`\n",
    "-   Natural Language Processing with Python {cite}`sarkar2019text,bird2009natural,vajjala2020,perkins2014python,srinivasa2018natural`\n",
    "-   Deep Learning {cite}`francois2017deep`"
   ]
  },
  {
   "cell_type": "markdown",
   "metadata": {},
   "source": [
    "## Online Resources\n",
    "\n",
    "In addition to books, there are many wonderful on-line resources, esp. professional blogs, providing useful tutorials and intuitive understanding of many complex ideas in NLP and AI development. Among them, here is a list of my favorites:\n",
    "\n",
    "-   [Toward Data Science](https://towardsdatascience.com/)\n",
    "-   [LeeMeng](https://leemeng.tw/)\n",
    "-   [Dipanzan Sarkar’s articles](https://towardsdatascience.com/@dipanzan.sarkar)\n",
    "-   [Python Graph Libraries](https://python-graph-gallery.com/)\n",
    "-   [KGPTalkie NLP](https://kgptalkie.com/category/natural-language-processing-nlp/)\n",
    "-   [Jason Brownlee’s Blog: Machine Learning Mastery](https://machinelearningmastery.com/)\n",
    "-   [Jay Alammar’s Blog](https://jalammar.github.io/)\n",
    "-   [Chris McCormich’s Blog](https://mccormickml.com/)\n",
    "-   [GLUE: General Language Understanding Evaluation Benchmark](https://gluebenchmark.com/)\n",
    "-   [SuperGLUE](https://super.gluebenchmark.com/)"
   ]
  },
  {
   "cell_type": "markdown",
   "metadata": {},
   "source": [
    "## YouTube Channels <i class=\"fa fa-youtube\"></i>\n",
    "\n",
    "-   [Chris McCormick AI](https://www.youtube.com/channel/UCoRX98PLOsaN8PtekB9kWrw/videos)\n",
    "-   [Corey Schafer](https://www.youtube.com/channel/UCCezIgC97PvUuR4_gbFUs5g)\n",
    "-   [Edureka!](https://www.youtube.com/channel/UCkw4JCwteGrDHIsyIIKo4tQ)\n",
    "-   [Deeplearning.ai](https://www.youtube.com/channel/UCcIXc5mJsHVYTZR1maL5l9w)\n",
    "-   [Free Code Camp](https://www.youtube.com/c/Freecodecamp/videos)\n",
    "-   [Giant Neural Network](https://www.youtube.com/watch?v=ZzWaow1Rvho&list=PLxt59R_fWVzT9bDxA76AHm3ig0Gg9S3So)\n",
    "-   [Tech with Tim](https://www.youtube.com/channel/UC4JX40jDee_tINbkjycV4Sg)\n",
    "-   [PyData](https://www.youtube.com/user/PyDataTV/featured)\n",
    "-   [Python Programmer](https://www.youtube.com/channel/UC68KSmHePPePCjW4v57VPQg)\n",
    "-   [Keith Galli](https://www.youtube.com/channel/UCq6XkhO5SZ66N04IcPbqNcw)\n",
    "-   [Data Science Dojo](https://www.youtube.com/c/Datasciencedojo/featured)\n",
    "-   [Calculus: Single Variable by Professor Robert Ghrist](https://www.youtube.com/playlist?list=PLKc2XOQp0dMwj9zAXD5LlWpriIXIrGaNb)"
   ]
  },
  {
   "cell_type": "markdown",
   "metadata": {},
   "source": [
    "## Environment Setup\n",
    "\n",
    "1.  We assume that you have created and set up your python environment as follows:\n",
    "    -   Install the python with [Anaconda](https://www.anaconda.com/products/individual)\n",
    "    -   Create a conda environment named `python-notes` with `python 3.7`\n",
    "    -   Run the notebooks provided in the course materials in this self-defined conda environment\n",
    "2.  We will use `jupyter notebook` for python scripting in this course. All the assignments have to be submitted in the format of jupyter notebooks. (See [Jupyter Notebook installation documentation](https://jupyter.org/install)).\n",
    "3.  We assume you have created a conda virtual environment, named, `python-notes`, for all the scripting, and you are able to run the notebooks in the conda environment kernel in Jupyter.\n",
    "4.  You can also run the notebooks directly in Google Colab, or alternatively download the `.ipynb` notebook files onto your hard drive or Google Drive for further changes.\n",
    "\n",
    "``` {.tip}\n",
    "If you cannot find the conda environment kernal in your Jupyter Notebook. Please instal the module `ipykernel`. For more details on how to use specific conda environments in Jupyter, please see [this article](https://medium.com/@nrk25693/how-to-add-your-conda-environment-to-your-jupyter-notebook-in-just-4-steps-abeab8b8d084).\n",
    "```\n",
    "\n",
    "When you run the installation of the python modules and other packages in the terminal, please remember to change the arguments of the parameters when you follow the instructions provided online.\n",
    "\n",
    "For example, when you create the conda environment:\n",
    "\n",
    "`conda create --name XXX`\n",
    "\n",
    "You need to specify the conda environment name `XXX` on your own.\n",
    "\n",
    "Similarly, when you add the self-defined conda environment to the notebook kernel list:\n",
    "\n",
    "`python -m ipykernel install --user --name=XXX`\n",
    "\n",
    "You need to specify the conda environment name `XXX`.\n",
    "\n",
    ":::{warning}\n",
    "\n",
    "There are several important things here:\n",
    "\n",
    "- You need to install the relevant modules AFTER you activate the conda environment in the terminal.\n",
    "- You need to add the kernel name with `python -m ipykernel install --user --name=XXX` within the conda enviroment as well.\n",
    "- In other words, you need to install the module `ipykernel` in the target conda environment as well.\n",
    "- After a few trial-and-errors, I think the best environment setting is that you **only** add the kernel name (conda environment) to `ipykernel` within the conda environment. **Do not** add the conda environment **again** in your base python environment.\n",
    "- What's even better is to install `jupyter` in your conda environment (`python-notes`) and run your notebook from this `python-notes` as well.\n",
    "\n",
    ":::\n",
    "\n",
    "For Windows users, it is highly recommended to run the installation of python-related modules in `Anaconda Prompt` instead of `cmd`."
   ]
  },
  {
   "cell_type": "markdown",
   "metadata": {},
   "source": [
    "## Windows Users\n",
    "\n",
    "Because some of the window's users are suffering from the problem that the notebook cannot find the correct path of your `python-notes` environment. Could you please try the following?\n",
    "\n",
    "```{tip}\n",
    "We assume you run the following steps in Anaconda Powershell Prompt.\n",
    "```\n",
    "\n",
    "- Create the new conda environment, `python-notes` (if you have done this, ignore)\n",
    "\n",
    "```\n",
    "$ conda create --name python-notes python=3.7\n",
    "```\n",
    "\n",
    "- Activate the newly-created `python-notes` conda environment\n",
    "\n",
    "```\n",
    "$ conda activate python-notes\n",
    "```\n",
    "\n",
    "- Within the `python-notes` environment, install the module `ipykernel`\n",
    "\n",
    "```\n",
    "$ conda install ipykernel\n",
    "```\n",
    "\n",
    "- Deactivate the conda environment\n",
    "\n",
    "```\n",
    "$ conda deactivate\n",
    "```\n",
    "\n",
    "- Install the module `nb_conda_kernels` in your Anaconda base python (This is crucial to the use of self-defined conda environments in notebook.)\n",
    "\n",
    "```\n",
    "$ conda install nb_conda_kernels\n",
    "```\n",
    "\n",
    "- Then check if the system detects your `python-notes` environment\n",
    "\n",
    "```\n",
    "$ python -m nb_conda_kernels list\n",
    "```\n",
    "\n",
    ":::{note}\n",
    "Ideally, you should see your `python-notes` popping up in the results like:\n",
    "```\n",
    "conda-env-python-notes-py    c:\\users\\alvinchen\\anaconda3\\envs\\python-notes\\share\\jupyter\\kernels\\python3\n",
    "```\n",
    ":::\n",
    "\n",
    "\n",
    "- If you see the new conda environment name, then it should work. Next, initiate your jupyter notebook\n",
    "\n",
    "```\n",
    "$ jupyter notebook\n",
    "```\n",
    "\n",
    "- Now you should be able to see you conda environment `python-notes` in your notebook, but the kernel name would be something like `python [conda evn: python-notes]`. \n",
    "\n"
   ]
  },
  {
   "cell_type": "markdown",
   "metadata": {},
   "source": [
    "## Module Requirements\n",
    "\n",
    "Not all modules used in this course come with the default installation of the python environment. Please remember to install these packages in use if you get a module-not-found type of errors.\n",
    "\n",
    "The following is a list of packages we will use (non-exhaustive):\n",
    "\n",
    "-   `beautifulsoup4`\n",
    "-   `ckip-transformers`\n",
    "-   `gensim`\n",
    "-   `jieba`\n",
    "-   `jupyter`\n",
    "-   `jupyter-nbextensions-configurator`\n",
    "-   `Keras`\n",
    "-   `matplotlib`\n",
    "-   `nltk`\n",
    "-   `numpy`\n",
    "-   `pandas`\n",
    "-   `scikit-learn`\n",
    "-   `seaborn`\n",
    "-   `spacy`\n",
    "-   `scipy`\n",
    "-   `tensorflow`\n",
    "-   `transformers`\n",
    "\n",
    "Please google these packages for more details on their installation."
   ]
  },
  {
   "cell_type": "markdown",
   "metadata": {},
   "source": [
    "## Coding Assignments Reminders\n",
    "\n",
    "1.  You have to submit your assignments via Moodle.\n",
    "2.  Please name your files in the following format: `Assignment-X-NAME.ipynb` and `Assignment-X-NAME.html`.\n",
    "3.  Please always submit both the Jupyter notebook file and its HTML version.\n",
    "\n",
    "``` {.{.{warning}}}\n",
    "Unless otherwise specified in class, all assignments will be due on the date/time given on Moodle. Late work within **7 calendar days** of the original due date will be accepted by the instructor at the instructor's discretion. After that, no late work will not be accepted.\n",
    "```"
   ]
  },
  {
   "cell_type": "markdown",
   "metadata": {},
   "source": [
    "## References\n",
    "\n",
    "``` {bibliography} ./book.bib\n",
    ":filter: docname in docnames\n",
    ":style: unsrt\n",
    "```"
   ]
  }
 ],
 "metadata": {
  "celltoolbar": "Tags",
  "kernelspec": {
   "display_name": "python-notes",
   "language": "python",
   "name": "python-notes"
  },
  "language_info": {
   "codemirror_mode": {
    "name": "ipython",
    "version": 3
   },
   "file_extension": ".py",
   "mimetype": "text/x-python",
   "name": "python",
   "nbconvert_exporter": "python",
   "pygments_lexer": "ipython3",
   "version": "3.7.0"
  },
  "toc": {
   "base_numbering": 1,
   "nav_menu": {},
   "number_sections": false,
   "sideBar": true,
   "skip_h1_title": false,
   "title_cell": "Table of Contents",
   "title_sidebar": "Contents",
   "toc_cell": false,
   "toc_position": {},
   "toc_section_display": true,
   "toc_window_display": false
  },
  "varInspector": {
   "cols": {
    "lenName": 16,
    "lenType": 16,
    "lenVar": 40
   },
   "kernels_config": {
    "python": {
     "delete_cmd_postfix": "",
     "delete_cmd_prefix": "del ",
     "library": "var_list.py",
     "varRefreshCmd": "print(var_dic_list())"
    },
    "r": {
     "delete_cmd_postfix": ") ",
     "delete_cmd_prefix": "rm(",
     "library": "var_list.r",
     "varRefreshCmd": "cat(var_dic_list()) "
    }
   },
   "types_to_exclude": [
    "module",
    "function",
    "builtin_function_or_method",
    "instance",
    "_Feature"
   ],
   "window_display": false
  }
 },
 "nbformat": 4,
 "nbformat_minor": 4
}