{
 "cells": [
  {
   "cell_type": "markdown",
   "metadata": {
    "id": "95ZQauPmhOaD"
   },
   "source": [
    "# Student Sample 2"
   ]
  },
  {
   "cell_type": "markdown",
   "metadata": {
    "id": "ULPn13dJgkdl"
   },
   "source": [
    "## 石晴方"
   ]
  },
  {
   "cell_type": "markdown",
   "metadata": {
    "id": "a9oCdfh6gic0"
   },
   "source": [
    "## Assignment IV: Chinese Language Processing"
   ]
  },
  {
   "cell_type": "markdown",
   "metadata": {
    "id": "VuUIAOAbgic5"
   },
   "source": [
    "## Question 1\n",
    "\n",
    "The csv file `dcard-top100.csv` includes top 100 posts from Dcard, which a on-line discussion forum for school life in Taiwan. The texts are in the `content` column.\n",
    "\n",
    "Please preprocess the data by:\n",
    "- removing symbols, punctuations, emoticons or other non-linguistic symbols\n",
    "- removing stopwords (Please use the stopword list provided in `demo_data/stopwords/tomlinNTUB-chinese-stopwords.txt`)\n",
    "- performing word segmentation on the corpus using `ckip-transformer`\n",
    "- creating a word frequency list of this tiny corpus\n",
    "\n",
    "```{warning}\n",
    "Please note that the preprocessing steps are important. Removal of characters from texts may have a lot to do with the word segmentation performance.\n",
    "```"
   ]
  },
  {
   "cell_type": "code",
   "execution_count": null,
   "metadata": {
    "id": "Z1Ml69P2gic6"
   },
   "outputs": [],
   "source": [
    "## read file ##\n",
    "with open(\"dcard-top100.csv\", 'r', encoding='utf-8') as f:\n",
    "    dcard = f.read().split('\\n')"
   ]
  },
  {
   "cell_type": "code",
   "execution_count": null,
   "metadata": {
    "id": "YbspHB3vgic7"
   },
   "outputs": [],
   "source": [
    "## remove special characters ##\n",
    "import re\n",
    "\n",
    "def remove_special_characters(text):\n",
    "    url = r'(http|ftp|https)://([\\w_-]+(?:(?:\\.[\\w_-]+)+))([\\w.,@?^=%&:/~+#-]*[\\w@?^=%&/~+#-])?'\n",
    "    pattern = r'[^a-zA-Z0-9\\w]'\n",
    "    \n",
    "    text = re.sub(url, '', text) # remove url\n",
    "    text = re.sub(pattern, '', text) # remove special characters\n",
    "    \n",
    "    return text\n",
    "\n",
    "dcard_new = [remove_special_characters(sent) for sent in dcard]"
   ]
  },
  {
   "cell_type": "code",
   "execution_count": null,
   "metadata": {
    "id": "hv0YiOdIgic7"
   },
   "outputs": [],
   "source": [
    "import ckip_transformers\n",
    "from ckip_transformers.nlp import CkipWordSegmenter, CkipPosTagger, CkipNerChunker"
   ]
  },
  {
   "cell_type": "code",
   "execution_count": null,
   "metadata": {
    "id": "6mO1_qmHgic7"
   },
   "outputs": [],
   "source": [
    "## Initialize drivers ##\n",
    "\n",
    "# %%time\n",
    "# ws_driver = CkipWordSegmenter(level=3, device=-1)"
   ]
  },
  {
   "cell_type": "code",
   "execution_count": null,
   "metadata": {
    "id": "-95tntuagic8"
   },
   "outputs": [],
   "source": [
    "## paragraph breaks ##\n",
    "text = [p for p in dcard_new if len(p) != 0]"
   ]
  },
  {
   "cell_type": "code",
   "execution_count": null,
   "metadata": {
    "id": "VdIwKvxmgic8"
   },
   "outputs": [],
   "source": [
    "## Run pipeline ##\n",
    "## Enable sentence segmentation ##\n",
    "# ws = ws_driver(text, use_delim=True)\n",
    "import pickle\n",
    "with open('ws.pkl', 'rb') as f:\n",
    "    ws = pickle.load(f)"
   ]
  },
  {
   "cell_type": "code",
   "execution_count": null,
   "metadata": {
    "id": "IzodjA6Ugic8"
   },
   "outputs": [],
   "source": [
    "## remove stopwords ##\n",
    "stopwords = [line.strip() for line in open(\"tomlinNTUB-chinese-stopwords.txt\", 'r', encoding='utf-8').readlines()]\n",
    "\n",
    "ws_nostopwords = []\n",
    "for sent in ws:\n",
    "    for w in sent:\n",
    "        if w not in stopwords and len(w) >= 2: # get 雙字詞\n",
    "            ws_nostopwords.append(w)"
   ]
  },
  {
   "cell_type": "code",
   "execution_count": null,
   "metadata": {
    "id": "WwZc02ougic8"
   },
   "outputs": [],
   "source": [
    "## make frequency list##\n",
    "def count_freq(corpus):\n",
    "    word_freq = {}\n",
    "\n",
    "    for word in corpus:\n",
    "        if word not in word_freq:\n",
    "            word_freq[word] = 1\n",
    "        else:\n",
    "            word_freq[word] += 1\n",
    "    return word_freq\n",
    "\n",
    "dcard_freq = count_freq(ws_nostopwords)\n",
    "\n",
    "sorted_dcard_freq = sorted(dcard_freq.items(), key=lambda dcard_freq: dcard_freq[1], reverse = True)"
   ]
  },
  {
   "cell_type": "code",
   "execution_count": null,
   "metadata": {
    "id": "ld5XT6SAgic9"
   },
   "outputs": [],
   "source": [
    "## build dataframe ##\n",
    "import pandas as pd\n",
    "dcards_df = pd.DataFrame(sorted_dcard_freq)\n",
    "dcards_df.columns = ['LEMMA', 'FREQ']"
   ]
  },
  {
   "cell_type": "code",
   "execution_count": null,
   "metadata": {
    "id": "H9BZs7lFgic9",
    "outputId": "ff8bb114-0064-4d97-b0ab-403bbd6d690e",
    "tags": [
     "hide-input"
    ]
   },
   "outputs": [
    {
     "data": {
      "text/html": [
       "<div>\n",
       "<style scoped>\n",
       "    .dataframe tbody tr th:only-of-type {\n",
       "        vertical-align: middle;\n",
       "    }\n",
       "\n",
       "    .dataframe tbody tr th {\n",
       "        vertical-align: top;\n",
       "    }\n",
       "\n",
       "    .dataframe thead th {\n",
       "        text-align: right;\n",
       "    }\n",
       "</style>\n",
       "<table border=\"1\" class=\"dataframe\">\n",
       "  <thead>\n",
       "    <tr style=\"text-align: right;\">\n",
       "      <th></th>\n",
       "      <th>LEMMA</th>\n",
       "      <th>FREQ</th>\n",
       "    </tr>\n",
       "  </thead>\n",
       "  <tbody>\n",
       "    <tr>\n",
       "      <th>0</th>\n",
       "      <td>真的</td>\n",
       "      <td>117</td>\n",
       "    </tr>\n",
       "    <tr>\n",
       "      <th>1</th>\n",
       "      <td>沒有</td>\n",
       "      <td>95</td>\n",
       "    </tr>\n",
       "    <tr>\n",
       "      <th>2</th>\n",
       "      <td>覺得</td>\n",
       "      <td>91</td>\n",
       "    </tr>\n",
       "    <tr>\n",
       "      <th>3</th>\n",
       "      <td>知道</td>\n",
       "      <td>70</td>\n",
       "    </tr>\n",
       "    <tr>\n",
       "      <th>4</th>\n",
       "      <td>看到</td>\n",
       "      <td>68</td>\n",
       "    </tr>\n",
       "    <tr>\n",
       "      <th>5</th>\n",
       "      <td>現在</td>\n",
       "      <td>64</td>\n",
       "    </tr>\n",
       "    <tr>\n",
       "      <th>6</th>\n",
       "      <td>喜歡</td>\n",
       "      <td>56</td>\n",
       "    </tr>\n",
       "    <tr>\n",
       "      <th>7</th>\n",
       "      <td>朋友</td>\n",
       "      <td>54</td>\n",
       "    </tr>\n",
       "    <tr>\n",
       "      <th>8</th>\n",
       "      <td>一直</td>\n",
       "      <td>53</td>\n",
       "    </tr>\n",
       "    <tr>\n",
       "      <th>9</th>\n",
       "      <td>其實</td>\n",
       "      <td>52</td>\n",
       "    </tr>\n",
       "    <tr>\n",
       "      <th>10</th>\n",
       "      <td>不會</td>\n",
       "      <td>51</td>\n",
       "    </tr>\n",
       "    <tr>\n",
       "      <th>11</th>\n",
       "      <td>分享</td>\n",
       "      <td>49</td>\n",
       "    </tr>\n",
       "    <tr>\n",
       "      <th>12</th>\n",
       "      <td>男友</td>\n",
       "      <td>46</td>\n",
       "    </tr>\n",
       "    <tr>\n",
       "      <th>13</th>\n",
       "      <td>發現</td>\n",
       "      <td>44</td>\n",
       "    </tr>\n",
       "    <tr>\n",
       "      <th>14</th>\n",
       "      <td>一下</td>\n",
       "      <td>42</td>\n",
       "    </tr>\n",
       "    <tr>\n",
       "      <th>15</th>\n",
       "      <td>已經</td>\n",
       "      <td>41</td>\n",
       "    </tr>\n",
       "    <tr>\n",
       "      <th>16</th>\n",
       "      <td>時間</td>\n",
       "      <td>41</td>\n",
       "    </tr>\n",
       "    <tr>\n",
       "      <th>17</th>\n",
       "      <td>工作</td>\n",
       "      <td>41</td>\n",
       "    </tr>\n",
       "    <tr>\n",
       "      <th>18</th>\n",
       "      <td>很多</td>\n",
       "      <td>40</td>\n",
       "    </tr>\n",
       "    <tr>\n",
       "      <th>19</th>\n",
       "      <td>第一</td>\n",
       "      <td>39</td>\n",
       "    </tr>\n",
       "    <tr>\n",
       "      <th>20</th>\n",
       "      <td>感覺</td>\n",
       "      <td>39</td>\n",
       "    </tr>\n",
       "  </tbody>\n",
       "</table>\n",
       "</div>"
      ],
      "text/plain": [
       "   LEMMA  FREQ\n",
       "0     真的   117\n",
       "1     沒有    95\n",
       "2     覺得    91\n",
       "3     知道    70\n",
       "4     看到    68\n",
       "5     現在    64\n",
       "6     喜歡    56\n",
       "7     朋友    54\n",
       "8     一直    53\n",
       "9     其實    52\n",
       "10    不會    51\n",
       "11    分享    49\n",
       "12    男友    46\n",
       "13    發現    44\n",
       "14    一下    42\n",
       "15    已經    41\n",
       "16    時間    41\n",
       "17    工作    41\n",
       "18    很多    40\n",
       "19    第一    39\n",
       "20    感覺    39"
      ]
     },
     "execution_count": 10,
     "metadata": {
      "tags": []
     },
     "output_type": "execute_result"
    }
   ],
   "source": [
    "dcards_df[:21]"
   ]
  },
  {
   "cell_type": "markdown",
   "metadata": {
    "id": "13SP5XfKgic-"
   },
   "source": [
    "## Question 2"
   ]
  },
  {
   "cell_type": "markdown",
   "metadata": {
    "id": "15Enojq4gic_"
   },
   "source": [
    "Use `ckip-transformer` to extract all named entities and create a frequency list of the named entities.\n",
    "\n",
    "In particular, please identify named entities of organizations (`ORG`) and geographical names (`GPE`) and provide their frequencies in the Dcard Corpus."
   ]
  },
  {
   "cell_type": "code",
   "execution_count": null,
   "metadata": {
    "id": "tqpehMMPgic_"
   },
   "outputs": [],
   "source": [
    "## get ner ##\n",
    "# ner = ner_driver(text, use_delim=True)\n",
    "with open('ner.pkl', 'rb') as f:\n",
    "    ner = pickle.load(f)"
   ]
  },
  {
   "cell_type": "code",
   "execution_count": null,
   "metadata": {
    "id": "_-L5RPB5gic_"
   },
   "outputs": [],
   "source": [
    "matched_words = []\n",
    "for sent in ner:\n",
    "    for w in sent:\n",
    "        if w.ner in ('ORG', 'GPE') :\n",
    "            matched_words.append(w.word)"
   ]
  },
  {
   "cell_type": "code",
   "execution_count": null,
   "metadata": {
    "id": "wTRNg-kogidA"
   },
   "outputs": [],
   "source": [
    "## make frequency list##\n",
    "dcard_ner_freq = count_freq(matched_words)\n",
    "sorted_dcard_ner_freq = sorted(dcard_ner_freq.items(), key=lambda dcard_ner_freq: dcard_ner_freq[1], reverse = True)"
   ]
  },
  {
   "cell_type": "code",
   "execution_count": null,
   "metadata": {
    "id": "3BaVOO8OgidA"
   },
   "outputs": [],
   "source": [
    "## build dataframe ##\n",
    "ner_df = pd.DataFrame(sorted_dcard_ner_freq)\n",
    "ner_df.columns = ['LEMMA', 'FREQ']"
   ]
  },
  {
   "cell_type": "code",
   "execution_count": null,
   "metadata": {
    "id": "vi1FYhklgidA",
    "outputId": "4c6698ae-5af5-4b41-d6db-ebd52e35397a",
    "tags": [
     "hide-input"
    ]
   },
   "outputs": [
    {
     "data": {
      "text/html": [
       "<div>\n",
       "<style scoped>\n",
       "    .dataframe tbody tr th:only-of-type {\n",
       "        vertical-align: middle;\n",
       "    }\n",
       "\n",
       "    .dataframe tbody tr th {\n",
       "        vertical-align: top;\n",
       "    }\n",
       "\n",
       "    .dataframe thead th {\n",
       "        text-align: right;\n",
       "    }\n",
       "</style>\n",
       "<table border=\"1\" class=\"dataframe\">\n",
       "  <thead>\n",
       "    <tr style=\"text-align: right;\">\n",
       "      <th></th>\n",
       "      <th>LEMMA</th>\n",
       "      <th>FREQ</th>\n",
       "    </tr>\n",
       "  </thead>\n",
       "  <tbody>\n",
       "    <tr>\n",
       "      <th>0</th>\n",
       "      <td>台灣</td>\n",
       "      <td>23</td>\n",
       "    </tr>\n",
       "    <tr>\n",
       "      <th>1</th>\n",
       "      <td>日本</td>\n",
       "      <td>16</td>\n",
       "    </tr>\n",
       "    <tr>\n",
       "      <th>2</th>\n",
       "      <td>台南</td>\n",
       "      <td>7</td>\n",
       "    </tr>\n",
       "    <tr>\n",
       "      <th>3</th>\n",
       "      <td>韓國</td>\n",
       "      <td>6</td>\n",
       "    </tr>\n",
       "    <tr>\n",
       "      <th>4</th>\n",
       "      <td>台</td>\n",
       "      <td>5</td>\n",
       "    </tr>\n",
       "    <tr>\n",
       "      <th>5</th>\n",
       "      <td>聖圭</td>\n",
       "      <td>5</td>\n",
       "    </tr>\n",
       "    <tr>\n",
       "      <th>6</th>\n",
       "      <td>英國</td>\n",
       "      <td>5</td>\n",
       "    </tr>\n",
       "    <tr>\n",
       "      <th>7</th>\n",
       "      <td>沖繩</td>\n",
       "      <td>4</td>\n",
       "    </tr>\n",
       "    <tr>\n",
       "      <th>8</th>\n",
       "      <td>SHINee</td>\n",
       "      <td>4</td>\n",
       "    </tr>\n",
       "    <tr>\n",
       "      <th>9</th>\n",
       "      <td>台中</td>\n",
       "      <td>3</td>\n",
       "    </tr>\n",
       "    <tr>\n",
       "      <th>10</th>\n",
       "      <td>台北</td>\n",
       "      <td>3</td>\n",
       "    </tr>\n",
       "    <tr>\n",
       "      <th>11</th>\n",
       "      <td>德國</td>\n",
       "      <td>3</td>\n",
       "    </tr>\n",
       "    <tr>\n",
       "      <th>12</th>\n",
       "      <td>武林</td>\n",
       "      <td>3</td>\n",
       "    </tr>\n",
       "    <tr>\n",
       "      <th>13</th>\n",
       "      <td>台大</td>\n",
       "      <td>2</td>\n",
       "    </tr>\n",
       "    <tr>\n",
       "      <th>14</th>\n",
       "      <td>杜克大學</td>\n",
       "      <td>2</td>\n",
       "    </tr>\n",
       "    <tr>\n",
       "      <th>15</th>\n",
       "      <td>東京</td>\n",
       "      <td>2</td>\n",
       "    </tr>\n",
       "    <tr>\n",
       "      <th>16</th>\n",
       "      <td>板橋</td>\n",
       "      <td>2</td>\n",
       "    </tr>\n",
       "    <tr>\n",
       "      <th>17</th>\n",
       "      <td>巴黎</td>\n",
       "      <td>2</td>\n",
       "    </tr>\n",
       "    <tr>\n",
       "      <th>18</th>\n",
       "      <td>April</td>\n",
       "      <td>2</td>\n",
       "    </tr>\n",
       "    <tr>\n",
       "      <th>19</th>\n",
       "      <td>鳳梨大學</td>\n",
       "      <td>2</td>\n",
       "    </tr>\n",
       "    <tr>\n",
       "      <th>20</th>\n",
       "      <td>中國</td>\n",
       "      <td>2</td>\n",
       "    </tr>\n",
       "  </tbody>\n",
       "</table>\n",
       "</div>"
      ],
      "text/plain": [
       "     LEMMA  FREQ\n",
       "0       台灣    23\n",
       "1       日本    16\n",
       "2       台南     7\n",
       "3       韓國     6\n",
       "4        台     5\n",
       "5       聖圭     5\n",
       "6       英國     5\n",
       "7       沖繩     4\n",
       "8   SHINee     4\n",
       "9       台中     3\n",
       "10      台北     3\n",
       "11      德國     3\n",
       "12      武林     3\n",
       "13      台大     2\n",
       "14    杜克大學     2\n",
       "15      東京     2\n",
       "16      板橋     2\n",
       "17      巴黎     2\n",
       "18   April     2\n",
       "19    鳳梨大學     2\n",
       "20      中國     2"
      ]
     },
     "execution_count": 15,
     "metadata": {
      "tags": []
     },
     "output_type": "execute_result"
    }
   ],
   "source": [
    "ner_df[:21]"
   ]
  },
  {
   "cell_type": "markdown",
   "metadata": {
    "id": "jx3Ff-kGgidA"
   },
   "source": [
    "## Question 3\n",
    "\n",
    "In this exercise, please work with `spacy` for Chinese processing. (Use the model `zh_core_web_trf`)\n",
    "\n",
    "Please process the same Dcard Corpus (from the csv file) by:\n",
    "\n",
    "- performing the word tokenization\n",
    "- identifying all nouns and verbs (i.e., words whose tags start with N or V)\n",
    "- identifying all words with at least two characters\n",
    "- removing all words that contain alphabets or digits\n",
    "- removing all words that are included in the `stopword_list` (cf. Question 1)\n",
    "\n",
    "Based on the above text-preprocessing criteria, your goal is to create a word frequency list and visualize the result in a Word Cloud.\n",
    "\n",
    "```{note}\n",
    "`spacy` uses the `jieba` for Chinese word segmentation. There may be more tagging errors. In the expected results presented below, I did not use any self-defined dictionary. For this exercise, please ignore any tagging errors out of the module for the moment.\n",
    "```\n",
    "\n",
    "```{tip}\n",
    "Please check the module `wordcloud` for the visualization.\n",
    "```"
   ]
  },
  {
   "cell_type": "code",
   "execution_count": null,
   "metadata": {
    "id": "5pv2tgyhgidB"
   },
   "outputs": [],
   "source": [
    "import spacy\n",
    "from spacy.lang.zh.examples import sentences \n",
    "nlp = spacy.load('zh_core_web_trf')"
   ]
  },
  {
   "cell_type": "code",
   "execution_count": null,
   "metadata": {
    "id": "pDVtFsYtgidB"
   },
   "outputs": [],
   "source": [
    "## get nouns and verbs ##\n",
    "# text_tagged = [nlp(sent) for sent in dcard]\n",
    "\n",
    "# nouns_verbs = []\n",
    "# for sent in text_tagged:\n",
    "#     for word in sent:\n",
    "#         if word.pos_ in ('VERB', 'NOUN') and len(word.text) >= 2 and re.findall(r'[a-zA-Z0-9]', word.text) == [] and word.text not in stopwords:\n",
    "#             nouns_verbs.append(word.text)\n",
    "        "
   ]
  },
  {
   "cell_type": "code",
   "execution_count": null,
   "metadata": {
    "id": "lFWp6hs8gidB"
   },
   "outputs": [],
   "source": [
    "with open('text_tagged.pkl', 'rb') as f:\n",
    "    text_tagged = pickle.load(f)"
   ]
  },
  {
   "cell_type": "code",
   "execution_count": null,
   "metadata": {
    "id": "wrdYGTa1gidB"
   },
   "outputs": [],
   "source": [
    "with open('nouns_verbs.pkl', 'rb') as f:\n",
    "    nouns_verbs = pickle.load(f)"
   ]
  },
  {
   "cell_type": "code",
   "execution_count": null,
   "metadata": {
    "id": "5z3hvShagidC"
   },
   "outputs": [],
   "source": [
    "## make frequency list##\n",
    "nouns_verbs_freq = count_freq(nouns_verbs)\n",
    "sorted_nouns_verbs_freq = sorted(nouns_verbs_freq.items(), key=lambda nouns_verbs_freq: nouns_verbs_freq[1], reverse = True)"
   ]
  },
  {
   "cell_type": "code",
   "execution_count": null,
   "metadata": {
    "id": "yX61CRgogidC"
   },
   "outputs": [],
   "source": [
    "## build dataframe ##\n",
    "nouns_verbs_df = pd.DataFrame(sorted_nouns_verbs_freq)\n",
    "nouns_verbs_df.columns = ['N-V', 'FREQ']"
   ]
  },
  {
   "cell_type": "code",
   "execution_count": null,
   "metadata": {
    "id": "_vL7VP2JgidC",
    "outputId": "01bb40d3-bdb2-4b28-c99e-b54af38bb08a",
    "tags": [
     "hide-input"
    ]
   },
   "outputs": [
    {
     "data": {
      "text/html": [
       "<div>\n",
       "<style scoped>\n",
       "    .dataframe tbody tr th:only-of-type {\n",
       "        vertical-align: middle;\n",
       "    }\n",
       "\n",
       "    .dataframe tbody tr th {\n",
       "        vertical-align: top;\n",
       "    }\n",
       "\n",
       "    .dataframe thead th {\n",
       "        text-align: right;\n",
       "    }\n",
       "</style>\n",
       "<table border=\"1\" class=\"dataframe\">\n",
       "  <thead>\n",
       "    <tr style=\"text-align: right;\">\n",
       "      <th></th>\n",
       "      <th>N-V</th>\n",
       "      <th>FREQ</th>\n",
       "    </tr>\n",
       "  </thead>\n",
       "  <tbody>\n",
       "    <tr>\n",
       "      <th>0</th>\n",
       "      <td>知道</td>\n",
       "      <td>70</td>\n",
       "    </tr>\n",
       "    <tr>\n",
       "      <th>1</th>\n",
       "      <td>看到</td>\n",
       "      <td>68</td>\n",
       "    </tr>\n",
       "    <tr>\n",
       "      <th>2</th>\n",
       "      <td>朋友</td>\n",
       "      <td>55</td>\n",
       "    </tr>\n",
       "    <tr>\n",
       "      <th>3</th>\n",
       "      <td>喜歡</td>\n",
       "      <td>55</td>\n",
       "    </tr>\n",
       "    <tr>\n",
       "      <th>4</th>\n",
       "      <td>分享</td>\n",
       "      <td>52</td>\n",
       "    </tr>\n",
       "    <tr>\n",
       "      <th>5</th>\n",
       "      <td>沒有</td>\n",
       "      <td>51</td>\n",
       "    </tr>\n",
       "    <tr>\n",
       "      <th>6</th>\n",
       "      <td>男友</td>\n",
       "      <td>46</td>\n",
       "    </tr>\n",
       "    <tr>\n",
       "      <th>7</th>\n",
       "      <td>工作</td>\n",
       "      <td>41</td>\n",
       "    </tr>\n",
       "    <tr>\n",
       "      <th>8</th>\n",
       "      <td>時間</td>\n",
       "      <td>38</td>\n",
       "    </tr>\n",
       "    <tr>\n",
       "      <th>9</th>\n",
       "      <td>感覺</td>\n",
       "      <td>38</td>\n",
       "    </tr>\n",
       "    <tr>\n",
       "      <th>10</th>\n",
       "      <td>==</td>\n",
       "      <td>38</td>\n",
       "    </tr>\n",
       "    <tr>\n",
       "      <th>11</th>\n",
       "      <td>發現</td>\n",
       "      <td>37</td>\n",
       "    </tr>\n",
       "    <tr>\n",
       "      <th>12</th>\n",
       "      <td>感情</td>\n",
       "      <td>36</td>\n",
       "    </tr>\n",
       "    <tr>\n",
       "      <th>13</th>\n",
       "      <td>希望</td>\n",
       "      <td>35</td>\n",
       "    </tr>\n",
       "    <tr>\n",
       "      <th>14</th>\n",
       "      <td>蛋糕</td>\n",
       "      <td>34</td>\n",
       "    </tr>\n",
       "    <tr>\n",
       "      <th>15</th>\n",
       "      <td>今天</td>\n",
       "      <td>33</td>\n",
       "    </tr>\n",
       "    <tr>\n",
       "      <th>16</th>\n",
       "      <td>出去</td>\n",
       "      <td>30</td>\n",
       "    </tr>\n",
       "    <tr>\n",
       "      <th>17</th>\n",
       "      <td>關係</td>\n",
       "      <td>30</td>\n",
       "    </tr>\n",
       "    <tr>\n",
       "      <th>18</th>\n",
       "      <td>想要</td>\n",
       "      <td>30</td>\n",
       "    </tr>\n",
       "    <tr>\n",
       "      <th>19</th>\n",
       "      <td>公司</td>\n",
       "      <td>29</td>\n",
       "    </tr>\n",
       "    <tr>\n",
       "      <th>20</th>\n",
       "      <td>當時</td>\n",
       "      <td>29</td>\n",
       "    </tr>\n",
       "  </tbody>\n",
       "</table>\n",
       "</div>"
      ],
      "text/plain": [
       "   N-V  FREQ\n",
       "0   知道    70\n",
       "1   看到    68\n",
       "2   朋友    55\n",
       "3   喜歡    55\n",
       "4   分享    52\n",
       "5   沒有    51\n",
       "6   男友    46\n",
       "7   工作    41\n",
       "8   時間    38\n",
       "9   感覺    38\n",
       "10  ==    38\n",
       "11  發現    37\n",
       "12  感情    36\n",
       "13  希望    35\n",
       "14  蛋糕    34\n",
       "15  今天    33\n",
       "16  出去    30\n",
       "17  關係    30\n",
       "18  想要    30\n",
       "19  公司    29\n",
       "20  當時    29"
      ]
     },
     "execution_count": 22,
     "metadata": {
      "tags": []
     },
     "output_type": "execute_result"
    }
   ],
   "source": [
    "nouns_verbs_df[:21]"
   ]
  },
  {
   "cell_type": "code",
   "execution_count": null,
   "metadata": {
    "id": "e9ciey_2gidC"
   },
   "outputs": [],
   "source": [
    "## make wordcloud ##\n",
    "import matplotlib\n",
    "import matplotlib.pyplot as plt \n",
    "from wordcloud import WordCloud, STOPWORDS, ImageColorGenerator # 製作文字雲"
   ]
  },
  {
   "cell_type": "code",
   "execution_count": null,
   "metadata": {
    "id": "qEJTnnTFgidD",
    "outputId": "5d3aeefb-e46e-469d-8863-86b88d5af64a"
   },
   "outputs": [
    {
     "data": {
      "text/plain": [
       "<wordcloud.wordcloud.WordCloud at 0x7fe578346bd0>"
      ]
     },
     "execution_count": 24,
     "metadata": {
      "tags": []
     },
     "output_type": "execute_result"
    }
   ],
   "source": [
    "# !wget -O taipei_sans_tc_beta.ttf https://drive.google.com/uc?id=1eGAsTN1HBpJAkeVM57_C7ccp7hbgSz3_&export=download 下載台北思源黑體\n",
    "wordcloud = WordCloud(font_path = 'taipei_sans_tc_beta.ttf', background_color='white')\n",
    "wordcloud.generate_from_frequencies(frequencies = nouns_verbs_freq)"
   ]
  },
  {
   "cell_type": "code",
   "execution_count": null,
   "metadata": {
    "id": "OGrUVuxQgidD",
    "outputId": "c93f7bbe-4e46-40d9-fccd-b5ce51f8d7d3",
    "tags": [
     "hide-input"
    ]
   },
   "outputs": [
    {
     "data": {
      "image/png": "[encoded data removed]",
      "text/plain": [
       "<Figure size 504x360 with 1 Axes>"
      ]
     },
     "metadata": {
      "needs_background": "light",
      "tags": []
     },
     "output_type": "display_data"
    }
   ],
   "source": [
    "plt.figure(figsize=(7,5))\n",
    "plt.imshow(wordcloud)\n",
    "plt.axis(\"off\")\n",
    "plt.show()"
   ]
  },
  {
   "cell_type": "markdown",
   "metadata": {
    "id": "FKWbmybtgidE"
   },
   "source": [
    "## Question 4\n",
    "\n",
    "Following Question 3, after you process each article with `spacy`, please extract all the `subject` + `predicate` word pairs from the corpus.\n",
    "\n",
    "To simplify the task, please extract word token pairs whose dependency relation is `nsubj`, with the predicate being the head and subject being the dependent.\n",
    "\n",
    "- Remove words that include alphabets and digits"
   ]
  },
  {
   "cell_type": "code",
   "execution_count": null,
   "metadata": {
    "id": "oB58t5vWgidE"
   },
   "outputs": [],
   "source": [
    "from spacy.symbols import nsubj\n",
    "\n",
    "sub_pred = []\n",
    "for sent in text_tagged:\n",
    "    for word in sent:\n",
    "        if word.dep == nsubj:\n",
    "            sub_pred.append(f\"{word.text}_{word.head}\")\n",
    "        "
   ]
  },
  {
   "cell_type": "code",
   "execution_count": null,
   "metadata": {
    "id": "3nCoVFmugidE"
   },
   "outputs": [],
   "source": [
    "## make frequency list##\n",
    "sub_pred_freq = count_freq(sub_pred)\n",
    "sorted_sub_pred_freq = sorted(sub_pred_freq.items(), key=lambda sub_pred_freq: sub_pred_freq[1], reverse = True)"
   ]
  },
  {
   "cell_type": "code",
   "execution_count": null,
   "metadata": {
    "id": "ZNm3jOGMgidE"
   },
   "outputs": [],
   "source": [
    "## build dataframe ##\n",
    "sub_pred_df = pd.DataFrame(sorted_sub_pred_freq)\n",
    "sub_pred_df.columns = ['SUBJ-PRED', 'FREQ']"
   ]
  },
  {
   "cell_type": "code",
   "execution_count": null,
   "metadata": {
    "id": "WDocVRNngidE",
    "outputId": "89713802-d98d-4f86-b0ae-4c96ede1ce1c",
    "tags": [
     "hide-input"
    ]
   },
   "outputs": [
    {
     "data": {
      "text/html": [
       "<div>\n",
       "<style scoped>\n",
       "    .dataframe tbody tr th:only-of-type {\n",
       "        vertical-align: middle;\n",
       "    }\n",
       "\n",
       "    .dataframe tbody tr th {\n",
       "        vertical-align: top;\n",
       "    }\n",
       "\n",
       "    .dataframe thead th {\n",
       "        text-align: right;\n",
       "    }\n",
       "</style>\n",
       "<table border=\"1\" class=\"dataframe\">\n",
       "  <thead>\n",
       "    <tr style=\"text-align: right;\">\n",
       "      <th></th>\n",
       "      <th>SUBJ-PRED</th>\n",
       "      <th>FREQ</th>\n",
       "    </tr>\n",
       "  </thead>\n",
       "  <tbody>\n",
       "    <tr>\n",
       "      <th>0</th>\n",
       "      <td>我_喜歡</td>\n",
       "      <td>21</td>\n",
       "    </tr>\n",
       "    <tr>\n",
       "      <th>1</th>\n",
       "      <td>我_想</td>\n",
       "      <td>20</td>\n",
       "    </tr>\n",
       "    <tr>\n",
       "      <th>2</th>\n",
       "      <td>他_說</td>\n",
       "      <td>19</td>\n",
       "    </tr>\n",
       "    <tr>\n",
       "      <th>3</th>\n",
       "      <td>我_覺</td>\n",
       "      <td>19</td>\n",
       "    </tr>\n",
       "    <tr>\n",
       "      <th>4</th>\n",
       "      <td>我_知道</td>\n",
       "      <td>16</td>\n",
       "    </tr>\n",
       "    <tr>\n",
       "      <th>5</th>\n",
       "      <td>我_看</td>\n",
       "      <td>12</td>\n",
       "    </tr>\n",
       "    <tr>\n",
       "      <th>6</th>\n",
       "      <td>我_看到</td>\n",
       "      <td>12</td>\n",
       "    </tr>\n",
       "    <tr>\n",
       "      <th>7</th>\n",
       "      <td>我_用</td>\n",
       "      <td>10</td>\n",
       "    </tr>\n",
       "    <tr>\n",
       "      <th>8</th>\n",
       "      <td>我_說</td>\n",
       "      <td>9</td>\n",
       "    </tr>\n",
       "    <tr>\n",
       "      <th>9</th>\n",
       "      <td>我_愛</td>\n",
       "      <td>9</td>\n",
       "    </tr>\n",
       "    <tr>\n",
       "      <th>10</th>\n",
       "      <td>大家_好</td>\n",
       "      <td>8</td>\n",
       "    </tr>\n",
       "    <tr>\n",
       "      <th>11</th>\n",
       "      <td>你_有</td>\n",
       "      <td>7</td>\n",
       "    </tr>\n",
       "    <tr>\n",
       "      <th>12</th>\n",
       "      <td>我_去</td>\n",
       "      <td>6</td>\n",
       "    </tr>\n",
       "    <tr>\n",
       "      <th>13</th>\n",
       "      <td>我_問</td>\n",
       "      <td>6</td>\n",
       "    </tr>\n",
       "    <tr>\n",
       "      <th>14</th>\n",
       "      <td>他_要</td>\n",
       "      <td>6</td>\n",
       "    </tr>\n",
       "    <tr>\n",
       "      <th>15</th>\n",
       "      <td>他_覺</td>\n",
       "      <td>6</td>\n",
       "    </tr>\n",
       "    <tr>\n",
       "      <th>16</th>\n",
       "      <td>我_決定</td>\n",
       "      <td>6</td>\n",
       "    </tr>\n",
       "    <tr>\n",
       "      <th>17</th>\n",
       "      <td>我_有</td>\n",
       "      <td>5</td>\n",
       "    </tr>\n",
       "    <tr>\n",
       "      <th>18</th>\n",
       "      <td>我_在</td>\n",
       "      <td>5</td>\n",
       "    </tr>\n",
       "    <tr>\n",
       "      <th>19</th>\n",
       "      <td>他_有</td>\n",
       "      <td>5</td>\n",
       "    </tr>\n",
       "    <tr>\n",
       "      <th>20</th>\n",
       "      <td>我_要</td>\n",
       "      <td>5</td>\n",
       "    </tr>\n",
       "  </tbody>\n",
       "</table>\n",
       "</div>"
      ],
      "text/plain": [
       "   SUBJ-PRED  FREQ\n",
       "0       我_喜歡    21\n",
       "1        我_想    20\n",
       "2        他_說    19\n",
       "3        我_覺    19\n",
       "4       我_知道    16\n",
       "5        我_看    12\n",
       "6       我_看到    12\n",
       "7        我_用    10\n",
       "8        我_說     9\n",
       "9        我_愛     9\n",
       "10      大家_好     8\n",
       "11       你_有     7\n",
       "12       我_去     6\n",
       "13       我_問     6\n",
       "14       他_要     6\n",
       "15       他_覺     6\n",
       "16      我_決定     6\n",
       "17       我_有     5\n",
       "18       我_在     5\n",
       "19       他_有     5\n",
       "20       我_要     5"
      ]
     },
     "execution_count": 29,
     "metadata": {
      "tags": []
     },
     "output_type": "execute_result"
    }
   ],
   "source": [
    "sub_pred_df[:21]"
   ]
  }
 ],
 "metadata": {
  "celltoolbar": "Tags",
  "colab": {
   "collapsed_sections": [],
   "name": "Assignment-4-2.ipynb",
   "provenance": []
  },
  "kernelspec": {
   "display_name": "Python 3",
   "language": "python",
   "name": "python3"
  },
  "language_info": {
   "codemirror_mode": {
    "name": "ipython",
    "version": 3
   },
   "file_extension": ".py",
   "mimetype": "text/x-python",
   "name": "python",
   "nbconvert_exporter": "python",
   "pygments_lexer": "ipython3",
   "version": "3.7.6"
  },
  "toc": {
   "base_numbering": 1,
   "nav_menu": {},
   "number_sections": false,
   "sideBar": true,
   "skip_h1_title": false,
   "title_cell": "Table of Contents",
   "title_sidebar": "Contents",
   "toc_cell": false,
   "toc_position": {},
   "toc_section_display": true,
   "toc_window_display": true
  },
  "varInspector": {
   "cols": {
    "lenName": 16,
    "lenType": 16,
    "lenVar": 40
   },
   "kernels_config": {
    "python": {
     "delete_cmd_postfix": "",
     "delete_cmd_prefix": "del ",
     "library": "var_list.py",
     "varRefreshCmd": "print(var_dic_list())"
    },
    "r": {
     "delete_cmd_postfix": ") ",
     "delete_cmd_prefix": "rm(",
     "library": "var_list.r",
     "varRefreshCmd": "cat(var_dic_list()) "
    }
   },
   "types_to_exclude": [
    "module",
    "function",
    "builtin_function_or_method",
    "instance",
    "_Feature"
   ],
   "window_display": false
  }
 },
 "nbformat": 4,
 "nbformat_minor": 1
}
