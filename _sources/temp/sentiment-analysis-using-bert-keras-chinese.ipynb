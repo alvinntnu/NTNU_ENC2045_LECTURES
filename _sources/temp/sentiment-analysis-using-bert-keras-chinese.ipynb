{
 "cells": [
  {
   "cell_type": "markdown",
   "metadata": {},
   "source": [
    "# Sentiment Analysis Using BERT on Chinese Dataset"
   ]
  },
  {
   "cell_type": "markdown",
   "metadata": {},
   "source": [
    "In this tutorial, we show how to perform text classification of spammed mails using the pre-trained BERT model.\n",
    "\n",
    "This example also shows the effectiveness of **transfer learning**."
   ]
  },
  {
   "cell_type": "markdown",
   "metadata": {},
   "source": [
    "## BERT in Short"
   ]
  },
  {
   "cell_type": "markdown",
   "metadata": {},
   "source": [
    "- BERT is a model with absolute position embeddings so it’s usually advised to pad the inputs on the right rather than the left.\n",
    "\n",
    "- The BERT model was proposed in [BERT: Pre-training of Deep Bidirectional Transformers for Language Understanding](https://arxiv.org/abs/1810.04805) by Jacob Devlin, Ming-Wei Chang, Kenton Lee and Kristina Toutanova. \n",
    "- It’s a bidirectional transformer pretrained using a combination of masked language modeling objective and next sentence prediction on a large corpus comprising the Toronto Book Corpus and Wikipedia.\n",
    "- In particular, BERT was trained with the masked language modeling (MLM) and next sentence prediction (NSP) objectives. It is efficient at predicting masked tokens and at NLU in general, but is not optimal for text generation.\n",
    "- The size of the large BERT model:\n",
    "    - Transformer blocks: 24\n",
    "    - Embedding dimension: 1024\n",
    "    - Attention heads: 16\n",
    "    - Total number of parameters: 340M\n",
    "\n",
    "- The size of GPT-2 Model:\n",
    "    - Transformer blocks: 48\n",
    "    - Sequence length: 1024\n",
    "    - Embedding dimension: 1600\n",
    "    - Total number of parameters: 1.5B"
   ]
  },
  {
   "cell_type": "markdown",
   "metadata": {},
   "source": [
    "## Setup"
   ]
  },
  {
   "cell_type": "code",
   "execution_count": 1,
   "metadata": {},
   "outputs": [],
   "source": [
    "import tensorflow as tf\n",
    "import tensorflow.keras as keras\n",
    "import pandas as pd\n",
    "import sklearn\n",
    "import unicodedata\n",
    "import numpy as np\n",
    "import re"
   ]
  },
  {
   "cell_type": "markdown",
   "metadata": {},
   "source": [
    "## Data Loading"
   ]
  },
  {
   "cell_type": "code",
   "execution_count": 17,
   "metadata": {},
   "outputs": [],
   "source": [
    "# def unicode_to_ascii(s):\n",
    "#     return ''.join(c for c in unicodedata.normalize('NFD', s) if unicodedata.category(c) != 'Mn')\n",
    "\n",
    "# def clean_stopwords_shortwords(w):\n",
    "#     stopwords_list=stopwords.words('english')\n",
    "#     words = w.split() \n",
    "#     clean_words = [word for word in words if (word not in stopwords_list) and len(word) > 2]\n",
    "#     return \" \".join(clean_words) \n",
    "\n",
    "# def preprocess_sentence(w):\n",
    "#     w = unicode_to_ascii(w.lower().strip())\n",
    "#     w = re.sub(r\"([?.!,¿])\", r\" \", w)\n",
    "#     w = re.sub(r'[\" \"]+', \" \", w)\n",
    "#     w = re.sub(r\"[^a-zA-Z?.!,¿]+\", \" \", w)\n",
    "#     w=clean_stopwords_shortwords(w)\n",
    "#     w=re.sub(r'@\\w+', '',w)\n",
    "#     return w"
   ]
  },
  {
   "cell_type": "code",
   "execution_count": 2,
   "metadata": {
    "scrolled": true
   },
   "outputs": [
    {
     "data": {
      "text/html": [
       "<div>\n",
       "<style scoped>\n",
       "    .dataframe tbody tr th:only-of-type {\n",
       "        vertical-align: middle;\n",
       "    }\n",
       "\n",
       "    .dataframe tbody tr th {\n",
       "        vertical-align: top;\n",
       "    }\n",
       "\n",
       "    .dataframe thead th {\n",
       "        text-align: right;\n",
       "    }\n",
       "</style>\n",
       "<table border=\"1\" class=\"dataframe\">\n",
       "  <thead>\n",
       "    <tr style=\"text-align: right;\">\n",
       "      <th></th>\n",
       "      <th>reviewID</th>\n",
       "      <th>title_CH</th>\n",
       "      <th>title_EN</th>\n",
       "      <th>genre</th>\n",
       "      <th>rating</th>\n",
       "      <th>reviews</th>\n",
       "      <th>reviews_sentiword_seg</th>\n",
       "    </tr>\n",
       "  </thead>\n",
       "  <tbody>\n",
       "    <tr>\n",
       "      <th>0</th>\n",
       "      <td>Review_1</td>\n",
       "      <td>紫羅蘭永恆花園外傳－永遠與自動手記人偶－</td>\n",
       "      <td>Violet Evergarden - Eternity and the Auto Memo...</td>\n",
       "      <td>動畫</td>\n",
       "      <td>negative</td>\n",
       "      <td>唉，踩雷了，浪費時間，不推 唉，踩雷了，浪費時間，不推</td>\n",
       "      <td>唉 ， 踩 雷 了 ， 浪費 時間 ， 不 推 唉 ， 踩 雷 了 ， 浪費 時間 ， 不 推</td>\n",
       "    </tr>\n",
       "    <tr>\n",
       "      <th>1</th>\n",
       "      <td>Review_2</td>\n",
       "      <td>復仇者聯盟：終局之戰</td>\n",
       "      <td>Avengers: Endgame</td>\n",
       "      <td>動作_冒險</td>\n",
       "      <td>negative</td>\n",
       "      <td>片長三個小時，只有最後半小時能看，前面真的鋪陳太久，我旁邊的都看到打呼</td>\n",
       "      <td>片長 三個 小時 ， 只有 最後 半 小時 能 看 ， 前面 真的 鋪陳 太久 ， 我 旁邊...</td>\n",
       "    </tr>\n",
       "    <tr>\n",
       "      <th>2</th>\n",
       "      <td>Review_3</td>\n",
       "      <td>復仇者聯盟：終局之戰</td>\n",
       "      <td>Avengers: Endgame</td>\n",
       "      <td>動作_冒險</td>\n",
       "      <td>negative</td>\n",
       "      <td>史上之最，劇情拖太長，邊看邊想睡覺......  1.浩克竟然學會跟旁人一起合照。 2.索爾...</td>\n",
       "      <td>史上 之 最 ， 劇情 拖 太長 ， 邊看邊 想 睡覺 . . . . . . 1. 浩克 ...</td>\n",
       "    </tr>\n",
       "    <tr>\n",
       "      <th>3</th>\n",
       "      <td>Review_4</td>\n",
       "      <td>復仇者聯盟：終局之戰</td>\n",
       "      <td>Avengers: Endgame</td>\n",
       "      <td>動作_冒險</td>\n",
       "      <td>negative</td>\n",
       "      <td>難看死ㄌ 難看死了 難看死ㄌ 看到睡著 拖戲拖很長 爛到爆</td>\n",
       "      <td>難看 死 ㄌ 難看 死 了 難看 死 ㄌ 看到 睡著 拖戲 拖 很長 爛 到 爆</td>\n",
       "    </tr>\n",
       "    <tr>\n",
       "      <th>4</th>\n",
       "      <td>Review_5</td>\n",
       "      <td>復仇者聯盟：終局之戰</td>\n",
       "      <td>Avengers: Endgame</td>\n",
       "      <td>動作_冒險</td>\n",
       "      <td>negative</td>\n",
       "      <td>連續三度睡著，真的演的太好睡了</td>\n",
       "      <td>連續 三度 睡著 ， 真的 演 的 太 好 睡 了</td>\n",
       "    </tr>\n",
       "  </tbody>\n",
       "</table>\n",
       "</div>"
      ],
      "text/plain": [
       "   reviewID              title_CH  \\\n",
       "0  Review_1  紫羅蘭永恆花園外傳－永遠與自動手記人偶－   \n",
       "1  Review_2            復仇者聯盟：終局之戰   \n",
       "2  Review_3            復仇者聯盟：終局之戰   \n",
       "3  Review_4            復仇者聯盟：終局之戰   \n",
       "4  Review_5            復仇者聯盟：終局之戰   \n",
       "\n",
       "                                            title_EN  genre    rating  \\\n",
       "0  Violet Evergarden - Eternity and the Auto Memo...     動畫  negative   \n",
       "1                                  Avengers: Endgame  動作_冒險  negative   \n",
       "2                                  Avengers: Endgame  動作_冒險  negative   \n",
       "3                                  Avengers: Endgame  動作_冒險  negative   \n",
       "4                                  Avengers: Endgame  動作_冒險  negative   \n",
       "\n",
       "                                             reviews  \\\n",
       "0                        唉，踩雷了，浪費時間，不推 唉，踩雷了，浪費時間，不推   \n",
       "1                片長三個小時，只有最後半小時能看，前面真的鋪陳太久，我旁邊的都看到打呼   \n",
       "2  史上之最，劇情拖太長，邊看邊想睡覺......  1.浩克竟然學會跟旁人一起合照。 2.索爾...   \n",
       "3                      難看死ㄌ 難看死了 難看死ㄌ 看到睡著 拖戲拖很長 爛到爆   \n",
       "4                                    連續三度睡著，真的演的太好睡了   \n",
       "\n",
       "                               reviews_sentiword_seg  \n",
       "0    唉 ， 踩 雷 了 ， 浪費 時間 ， 不 推 唉 ， 踩 雷 了 ， 浪費 時間 ， 不 推  \n",
       "1  片長 三個 小時 ， 只有 最後 半 小時 能 看 ， 前面 真的 鋪陳 太久 ， 我 旁邊...  \n",
       "2  史上 之 最 ， 劇情 拖 太長 ， 邊看邊 想 睡覺 . . . . . . 1. 浩克 ...  \n",
       "3           難看 死 ㄌ 難看 死 了 難看 死 ㄌ 看到 睡著 拖戲 拖 很長 爛 到 爆  \n",
       "4                          連續 三度 睡著 ， 真的 演 的 太 好 睡 了  "
      ]
     },
     "execution_count": 2,
     "metadata": {},
     "output_type": "execute_result"
    }
   ],
   "source": [
    "csv_file='../../../RepositoryData/data/marc_movie_review_metadata.csv'\n",
    "csv_data=pd.read_csv(csv_file,encoding='utf-8')\n",
    "csv_data.head()"
   ]
  },
  {
   "cell_type": "markdown",
   "metadata": {},
   "source": [
    "## Data Preprocessing"
   ]
  },
  {
   "cell_type": "code",
   "execution_count": 3,
   "metadata": {},
   "outputs": [
    {
     "name": "stdout",
     "output_type": "stream",
     "text": [
      "File has 3200 rows and 7 columns\n"
     ]
    }
   ],
   "source": [
    "print('File has {} rows and {} columns'.format(csv_data.shape[0],csv_data.shape[1]))"
   ]
  },
  {
   "cell_type": "code",
   "execution_count": 48,
   "metadata": {},
   "outputs": [],
   "source": [
    "# csv_data = csv_data.loc[:, ~csv_data.columns.str.contains('Unnamed: 2', case=False)] \n",
    "# csv_data = csv_data.loc[:, ~csv_data.columns.str.contains('Unnamed: 3', case=False)] \n",
    "# csv_data = csv_data.loc[:, ~csv_data.columns.str.contains('Unnamed: 4', case=False)] \n",
    "# csv_data.head()\n",
    "# csv_data=csv_data.dropna() \n",
    "# csv_data=csv_data.reset_index(drop=True)  # Reset index after dropping the columns/rows with NaN values"
   ]
  },
  {
   "cell_type": "code",
   "execution_count": 4,
   "metadata": {},
   "outputs": [],
   "source": [
    "csv_data.rename(columns={'rating':'label','reviews':'text'}, inplace=True)"
   ]
  },
  {
   "cell_type": "code",
   "execution_count": 5,
   "metadata": {},
   "outputs": [],
   "source": [
    "csv_data = sklearn.utils.shuffle(csv_data)                                                         # Shuffle the dataset\n",
    "#print('Available labels: ',data.label.unique())                              # Print all the unique labels in the dataset\n",
    "# csv_data['text']=csv_data['text'].map(preprocess_sentence)                           # Clean the text column using preprocess_sentence function defined above"
   ]
  },
  {
   "cell_type": "code",
   "execution_count": 6,
   "metadata": {},
   "outputs": [
    {
     "name": "stdout",
     "output_type": "stream",
     "text": [
      "File has 3200 rows and 7 columns\n"
     ]
    },
    {
     "data": {
      "text/html": [
       "<div>\n",
       "<style scoped>\n",
       "    .dataframe tbody tr th:only-of-type {\n",
       "        vertical-align: middle;\n",
       "    }\n",
       "\n",
       "    .dataframe tbody tr th {\n",
       "        vertical-align: top;\n",
       "    }\n",
       "\n",
       "    .dataframe thead th {\n",
       "        text-align: right;\n",
       "    }\n",
       "</style>\n",
       "<table border=\"1\" class=\"dataframe\">\n",
       "  <thead>\n",
       "    <tr style=\"text-align: right;\">\n",
       "      <th></th>\n",
       "      <th>reviewID</th>\n",
       "      <th>title_CH</th>\n",
       "      <th>title_EN</th>\n",
       "      <th>genre</th>\n",
       "      <th>label</th>\n",
       "      <th>text</th>\n",
       "      <th>reviews_sentiword_seg</th>\n",
       "    </tr>\n",
       "  </thead>\n",
       "  <tbody>\n",
       "    <tr>\n",
       "      <th>1694</th>\n",
       "      <td>Review_1695</td>\n",
       "      <td>萬萬沒想到</td>\n",
       "      <td>Chhichhore</td>\n",
       "      <td>劇情_喜劇</td>\n",
       "      <td>positive</td>\n",
       "      <td>看完這部以後,我人生中最好看的劇又增加了一部,上一部是三個傻瓜,誠心推薦</td>\n",
       "      <td>看完 這部 以後 , 我 人生 中 最 好看 的 劇 又 增加 了 一部 , 上一部 是 三...</td>\n",
       "    </tr>\n",
       "    <tr>\n",
       "      <th>2819</th>\n",
       "      <td>Review_2820</td>\n",
       "      <td>證人</td>\n",
       "      <td>Innocent Witness</td>\n",
       "      <td>劇情</td>\n",
       "      <td>positive</td>\n",
       "      <td>之於驚奇隊長，我會選擇證人，劇情太多層了</td>\n",
       "      <td>之於 驚奇隊長 ， 我 會 選擇 證人 ， 劇情 太多 層 了</td>\n",
       "    </tr>\n",
       "    <tr>\n",
       "      <th>2833</th>\n",
       "      <td>Review_2834</td>\n",
       "      <td>返校</td>\n",
       "      <td>Detention</td>\n",
       "      <td>懸疑/驚悚</td>\n",
       "      <td>positive</td>\n",
       "      <td>好看 一堆中國人和韓粉別來亂刷負評阿 事實也是抹滅不了阿</td>\n",
       "      <td>好看 一堆 中國 人 和 韓粉 別來 亂 刷 負評 阿 事實 也是 抹滅 不了 阿</td>\n",
       "    </tr>\n",
       "    <tr>\n",
       "      <th>2904</th>\n",
       "      <td>Review_2905</td>\n",
       "      <td>你的情歌</td>\n",
       "      <td>Your love song</td>\n",
       "      <td>劇情</td>\n",
       "      <td>positive</td>\n",
       "      <td>演員演技實力都很好，劇情架構也很棒！</td>\n",
       "      <td>演員 演技 實力 都 很 好 ， 劇情 架構 也 很棒 ！</td>\n",
       "    </tr>\n",
       "    <tr>\n",
       "      <th>2304</th>\n",
       "      <td>Review_2305</td>\n",
       "      <td>肥龍過江</td>\n",
       "      <td>Enter The Fat Dragon</td>\n",
       "      <td>動作_喜劇</td>\n",
       "      <td>positive</td>\n",
       "      <td>超想看 《肥龍過江》，因為這部電影感覺好看、好笑、很有意思，非看不可！🙋</td>\n",
       "      <td>超 想 看 《 肥 龍 過 江 》 ， 因為 這部 電影 感覺 好看 、 好笑 、 很 有 ...</td>\n",
       "    </tr>\n",
       "  </tbody>\n",
       "</table>\n",
       "</div>"
      ],
      "text/plain": [
       "         reviewID title_CH              title_EN  genre     label  \\\n",
       "1694  Review_1695    萬萬沒想到            Chhichhore  劇情_喜劇  positive   \n",
       "2819  Review_2820       證人      Innocent Witness     劇情  positive   \n",
       "2833  Review_2834       返校             Detention  懸疑/驚悚  positive   \n",
       "2904  Review_2905     你的情歌        Your love song     劇情  positive   \n",
       "2304  Review_2305     肥龍過江  Enter The Fat Dragon  動作_喜劇  positive   \n",
       "\n",
       "                                      text  \\\n",
       "1694  看完這部以後,我人生中最好看的劇又增加了一部,上一部是三個傻瓜,誠心推薦   \n",
       "2819                  之於驚奇隊長，我會選擇證人，劇情太多層了   \n",
       "2833          好看 一堆中國人和韓粉別來亂刷負評阿 事實也是抹滅不了阿   \n",
       "2904                    演員演技實力都很好，劇情架構也很棒！   \n",
       "2304  超想看 《肥龍過江》，因為這部電影感覺好看、好笑、很有意思，非看不可！🙋   \n",
       "\n",
       "                                  reviews_sentiword_seg  \n",
       "1694  看完 這部 以後 , 我 人生 中 最 好看 的 劇 又 增加 了 一部 , 上一部 是 三...  \n",
       "2819                    之於 驚奇隊長 ， 我 會 選擇 證人 ， 劇情 太多 層 了  \n",
       "2833          好看 一堆 中國 人 和 韓粉 別來 亂 刷 負評 阿 事實 也是 抹滅 不了 阿  \n",
       "2904                      演員 演技 實力 都 很 好 ， 劇情 架構 也 很棒 ！  \n",
       "2304  超 想 看 《 肥 龍 過 江 》 ， 因為 這部 電影 感覺 好看 、 好笑 、 很 有 ...  "
      ]
     },
     "execution_count": 6,
     "metadata": {},
     "output_type": "execute_result"
    }
   ],
   "source": [
    "print('File has {} rows and {} columns'.format(csv_data.shape[0],csv_data.shape[1]))\n",
    "csv_data.head()"
   ]
  },
  {
   "cell_type": "markdown",
   "metadata": {},
   "source": [
    "## BERT Tokenizer"
   ]
  },
  {
   "cell_type": "markdown",
   "metadata": {},
   "source": [
    "- You can find more pre-trained models supported by HuggingFace [here](https://huggingface.co/models?filter=zh).\n",
    "- CKIP has also released their BERT models. Please see [here](https://huggingface.co/ckiplab). \n",
    "    - It seems that CKIP only releases the `pytorch` version of the pre-trained models. They are not using Tensorflow unfortunately. \n",
    "    - But the general Chinese models come with both versions `bert-base-chinese`. So we will use this general one.\n"
   ]
  },
  {
   "cell_type": "markdown",
   "metadata": {},
   "source": [
    "```{tip}\n",
    "In `transformers`, there are several predefined tensorflow models that use BERT for classification. Please see Hugginface transformers's [BERT](https://huggingface.co/transformers/model_doc/bert.html) documentation.\n",
    "```"
   ]
  },
  {
   "cell_type": "markdown",
   "metadata": {},
   "source": [
    "dd"
   ]
  },
  {
   "cell_type": "code",
   "execution_count": 7,
   "metadata": {},
   "outputs": [
    {
     "data": {
      "application/vnd.jupyter.widget-view+json": {
       "model_id": "52af120dd3764011b23724c32e0f9e52",
       "version_major": 2,
       "version_minor": 0
      },
      "text/plain": [
       "HBox(children=(HTML(value='Downloading'), FloatProgress(value=0.0, max=109540.0), HTML(value='')))"
      ]
     },
     "metadata": {},
     "output_type": "display_data"
    },
    {
     "name": "stdout",
     "output_type": "stream",
     "text": [
      "\n"
     ]
    }
   ],
   "source": [
    "num_classes = len(csv_data.label.unique())\n",
    "MAX_LEN = 50\n",
    "\n",
    "from transformers import *\n",
    "from transformers import BertTokenizer, TFBertModel, BertConfig\n",
    "bert_tokenizer = BertTokenizer.from_pretrained(\"bert-base-chinese\",\n",
    "                                              add_special_tokens=True,\n",
    "#                                               max_length=MAX_LEN,\n",
    "                                              pad_to_max_length=True,)"
   ]
  },
  {
   "cell_type": "code",
   "execution_count": 8,
   "metadata": {},
   "outputs": [
    {
     "data": {
      "application/vnd.jupyter.widget-view+json": {
       "model_id": "d0d87a46f99543ff8b3268536d62a85c",
       "version_major": 2,
       "version_minor": 0
      },
      "text/plain": [
       "HBox(children=(HTML(value='Downloading'), FloatProgress(value=0.0, max=624.0), HTML(value='')))"
      ]
     },
     "metadata": {},
     "output_type": "display_data"
    },
    {
     "name": "stdout",
     "output_type": "stream",
     "text": [
      "\n"
     ]
    },
    {
     "data": {
      "application/vnd.jupyter.widget-view+json": {
       "model_id": "5803bf7b74c9496e90c540a7f1ca0299",
       "version_major": 2,
       "version_minor": 0
      },
      "text/plain": [
       "HBox(children=(HTML(value='Downloading'), FloatProgress(value=0.0, max=478309336.0), HTML(value='')))"
      ]
     },
     "metadata": {},
     "output_type": "display_data"
    },
    {
     "name": "stdout",
     "output_type": "stream",
     "text": [
      "\n"
     ]
    },
    {
     "name": "stderr",
     "output_type": "stream",
     "text": [
      "Some weights of the model checkpoint at bert-base-chinese were not used when initializing TFBertForSequenceClassification: ['nsp___cls', 'mlm___cls']\n",
      "- This IS expected if you are initializing TFBertForSequenceClassification from the checkpoint of a model trained on another task or with another architecture (e.g. initializing a BertForSequenceClassification model from a BertForPretraining model).\n",
      "- This IS NOT expected if you are initializing TFBertForSequenceClassification from the checkpoint of a model that you expect to be exactly identical (initializing a BertForSequenceClassification model from a BertForSequenceClassification model).\n",
      "Some weights of TFBertForSequenceClassification were not initialized from the model checkpoint at bert-base-chinese and are newly initialized: ['dropout_37', 'classifier']\n",
      "You should probably TRAIN this model on a down-stream task to be able to use it for predictions and inference.\n"
     ]
    }
   ],
   "source": [
    "bert_model = TFBertForSequenceClassification.from_pretrained('bert-base-chinese',num_labels=num_classes)"
   ]
  },
  {
   "cell_type": "code",
   "execution_count": 9,
   "metadata": {},
   "outputs": [
    {
     "name": "stdout",
     "output_type": "stream",
     "text": [
      "['天', '阿', '，', '這', '電', '影', '實', '在', '是', '.', '.', '.', '無', '言', '啊', '！']\n"
     ]
    }
   ],
   "source": [
    "sent= '天阿，這電影實在是...無言啊！'\n",
    "tokens=bert_tokenizer.tokenize(sent)\n",
    "print(tokens)"
   ]
  },
  {
   "cell_type": "markdown",
   "metadata": {},
   "source": [
    "Parameters of `TFBertForSequenceClassification` model:\n",
    "- `input_ids`: The input ids are often the only required parameters to be passed to the model as input. They are token indices, numerical representations of tokens building the sequences that will be used as input by the model. This can be obtained by the BERT Tokenizer.\n",
    "input_ids (Numpy array or tf.Tensor of shape (batch_size, sequence_length))\n",
    "Indices of input sequence tokens in the vocabulary.\n",
    "- `batch_size` : Number of examples or sentences batch\n",
    "sequence_length : A number of tokens in a sentence.\n",
    "2. attention_mask (Numpy array or tf.Tensor of shape (batch_size, sequence_length)) –\n",
    "Mask to avoid performing attention on padding token indices. Mask values selected in [0, 1]: 1 for tokens that are not masked, 0 for tokens that are marked (0 if the token is added by padding).\n",
    "This argument indicates to the model which tokens should be attended to, and which should not.\n",
    "If we have 2 sentences and the sequence length of one sentence is 8 and another one is 10, then we need to make them of equal length and for that, padding is required. To distinguish between the padded and nonpadded input attention mask is used.\n",
    "3. labels (tf.Tensor of shape (batch_size,), optional) – Labels for computing the sequence classification/regression loss.\n",
    "Indices should be in [0, ..., num_classes- 1]. If num_classes == 1 a regression loss is computed (Mean-Square loss), If num_classes > 1 a classification loss is computed (Cross-Entropy).\n",
    "These tokens can then be converted into IDs which are understandable by the model. This can be done by directly feeding the sentence to the tokenizer."
   ]
  },
  {
   "cell_type": "code",
   "execution_count": 11,
   "metadata": {
    "scrolled": true
   },
   "outputs": [],
   "source": [
    "tokenized_sequence= bert_tokenizer.encode_plus(sent,add_special_tokens = True, max_length =30,padding = True,\n",
    "return_attention_mask = True)"
   ]
  },
  {
   "cell_type": "code",
   "execution_count": 12,
   "metadata": {},
   "outputs": [
    {
     "data": {
      "text/plain": [
       "{'input_ids': [101, 1921, 7350, 8024, 6857, 7442, 2512, 2179, 1762, 3221, 119, 119, 119, 4192, 6241, 1557, 8013, 102], 'token_type_ids': [0, 0, 0, 0, 0, 0, 0, 0, 0, 0, 0, 0, 0, 0, 0, 0, 0, 0], 'attention_mask': [1, 1, 1, 1, 1, 1, 1, 1, 1, 1, 1, 1, 1, 1, 1, 1, 1, 1]}"
      ]
     },
     "execution_count": 12,
     "metadata": {},
     "output_type": "execute_result"
    }
   ],
   "source": [
    "tokenized_sequence"
   ]
  },
  {
   "cell_type": "code",
   "execution_count": 31,
   "metadata": {},
   "outputs": [
    {
     "data": {
      "text/plain": [
       "'[CLS] 天 阿 ， 這 電 影 實 在 是... 無 言 啊 ！ [SEP]'"
      ]
     },
     "execution_count": 31,
     "metadata": {},
     "output_type": "execute_result"
    }
   ],
   "source": [
    "bert_tokenizer.decode(tokenized_sequence['input_ids'])"
   ]
  },
  {
   "cell_type": "markdown",
   "metadata": {},
   "source": [
    "## From Text to BERT Input"
   ]
  },
  {
   "cell_type": "code",
   "execution_count": 13,
   "metadata": {},
   "outputs": [
    {
     "data": {
      "text/html": [
       "<div>\n",
       "<style scoped>\n",
       "    .dataframe tbody tr th:only-of-type {\n",
       "        vertical-align: middle;\n",
       "    }\n",
       "\n",
       "    .dataframe tbody tr th {\n",
       "        vertical-align: top;\n",
       "    }\n",
       "\n",
       "    .dataframe thead th {\n",
       "        text-align: right;\n",
       "    }\n",
       "</style>\n",
       "<table border=\"1\" class=\"dataframe\">\n",
       "  <thead>\n",
       "    <tr style=\"text-align: right;\">\n",
       "      <th></th>\n",
       "      <th>reviewID</th>\n",
       "      <th>title_CH</th>\n",
       "      <th>title_EN</th>\n",
       "      <th>genre</th>\n",
       "      <th>label</th>\n",
       "      <th>text</th>\n",
       "      <th>reviews_sentiword_seg</th>\n",
       "      <th>label_num</th>\n",
       "    </tr>\n",
       "  </thead>\n",
       "  <tbody>\n",
       "    <tr>\n",
       "      <th>1694</th>\n",
       "      <td>Review_1695</td>\n",
       "      <td>萬萬沒想到</td>\n",
       "      <td>Chhichhore</td>\n",
       "      <td>劇情_喜劇</td>\n",
       "      <td>positive</td>\n",
       "      <td>看完這部以後,我人生中最好看的劇又增加了一部,上一部是三個傻瓜,誠心推薦</td>\n",
       "      <td>看完 這部 以後 , 我 人生 中 最 好看 的 劇 又 增加 了 一部 , 上一部 是 三...</td>\n",
       "      <td>1</td>\n",
       "    </tr>\n",
       "    <tr>\n",
       "      <th>2819</th>\n",
       "      <td>Review_2820</td>\n",
       "      <td>證人</td>\n",
       "      <td>Innocent Witness</td>\n",
       "      <td>劇情</td>\n",
       "      <td>positive</td>\n",
       "      <td>之於驚奇隊長，我會選擇證人，劇情太多層了</td>\n",
       "      <td>之於 驚奇隊長 ， 我 會 選擇 證人 ， 劇情 太多 層 了</td>\n",
       "      <td>1</td>\n",
       "    </tr>\n",
       "    <tr>\n",
       "      <th>2833</th>\n",
       "      <td>Review_2834</td>\n",
       "      <td>返校</td>\n",
       "      <td>Detention</td>\n",
       "      <td>懸疑/驚悚</td>\n",
       "      <td>positive</td>\n",
       "      <td>好看 一堆中國人和韓粉別來亂刷負評阿 事實也是抹滅不了阿</td>\n",
       "      <td>好看 一堆 中國 人 和 韓粉 別來 亂 刷 負評 阿 事實 也是 抹滅 不了 阿</td>\n",
       "      <td>1</td>\n",
       "    </tr>\n",
       "    <tr>\n",
       "      <th>2904</th>\n",
       "      <td>Review_2905</td>\n",
       "      <td>你的情歌</td>\n",
       "      <td>Your love song</td>\n",
       "      <td>劇情</td>\n",
       "      <td>positive</td>\n",
       "      <td>演員演技實力都很好，劇情架構也很棒！</td>\n",
       "      <td>演員 演技 實力 都 很 好 ， 劇情 架構 也 很棒 ！</td>\n",
       "      <td>1</td>\n",
       "    </tr>\n",
       "    <tr>\n",
       "      <th>2304</th>\n",
       "      <td>Review_2305</td>\n",
       "      <td>肥龍過江</td>\n",
       "      <td>Enter The Fat Dragon</td>\n",
       "      <td>動作_喜劇</td>\n",
       "      <td>positive</td>\n",
       "      <td>超想看 《肥龍過江》，因為這部電影感覺好看、好笑、很有意思，非看不可！🙋</td>\n",
       "      <td>超 想 看 《 肥 龍 過 江 》 ， 因為 這部 電影 感覺 好看 、 好笑 、 很 有 ...</td>\n",
       "      <td>1</td>\n",
       "    </tr>\n",
       "  </tbody>\n",
       "</table>\n",
       "</div>"
      ],
      "text/plain": [
       "         reviewID title_CH              title_EN  genre     label  \\\n",
       "1694  Review_1695    萬萬沒想到            Chhichhore  劇情_喜劇  positive   \n",
       "2819  Review_2820       證人      Innocent Witness     劇情  positive   \n",
       "2833  Review_2834       返校             Detention  懸疑/驚悚  positive   \n",
       "2904  Review_2905     你的情歌        Your love song     劇情  positive   \n",
       "2304  Review_2305     肥龍過江  Enter The Fat Dragon  動作_喜劇  positive   \n",
       "\n",
       "                                      text  \\\n",
       "1694  看完這部以後,我人生中最好看的劇又增加了一部,上一部是三個傻瓜,誠心推薦   \n",
       "2819                  之於驚奇隊長，我會選擇證人，劇情太多層了   \n",
       "2833          好看 一堆中國人和韓粉別來亂刷負評阿 事實也是抹滅不了阿   \n",
       "2904                    演員演技實力都很好，劇情架構也很棒！   \n",
       "2304  超想看 《肥龍過江》，因為這部電影感覺好看、好笑、很有意思，非看不可！🙋   \n",
       "\n",
       "                                  reviews_sentiword_seg  label_num  \n",
       "1694  看完 這部 以後 , 我 人生 中 最 好看 的 劇 又 增加 了 一部 , 上一部 是 三...          1  \n",
       "2819                    之於 驚奇隊長 ， 我 會 選擇 證人 ， 劇情 太多 層 了          1  \n",
       "2833          好看 一堆 中國 人 和 韓粉 別來 亂 刷 負評 阿 事實 也是 抹滅 不了 阿          1  \n",
       "2904                      演員 演技 實力 都 很 好 ， 劇情 架構 也 很棒 ！          1  \n",
       "2304  超 想 看 《 肥 龍 過 江 》 ， 因為 這部 電影 感覺 好看 、 好笑 、 很 有 ...          1  "
      ]
     },
     "execution_count": 13,
     "metadata": {},
     "output_type": "execute_result"
    }
   ],
   "source": [
    "csv_data['label_num'] = csv_data['label'].map({'negative':0,'positive':1})\n",
    "csv_data.head()"
   ]
  },
  {
   "cell_type": "code",
   "execution_count": 14,
   "metadata": {},
   "outputs": [
    {
     "data": {
      "text/plain": [
       "(3200, 3200)"
      ]
     },
     "execution_count": 14,
     "metadata": {},
     "output_type": "execute_result"
    }
   ],
   "source": [
    "sentences=csv_data['text']\n",
    "labels=csv_data['label_num']\n",
    "len(sentences),len(labels)"
   ]
  },
  {
   "cell_type": "code",
   "execution_count": 15,
   "metadata": {},
   "outputs": [],
   "source": [
    "input_ids=[]\n",
    "attention_masks=[]\n",
    "segment_ids =[] \n",
    "\n",
    "MAX_LEN = 50\n",
    "for sent in sentences:\n",
    "    bert_inp=bert_tokenizer.encode_plus(\n",
    "        sent,add_special_tokens = True, \n",
    "        max_length =MAX_LEN,\n",
    "        pad_to_max_length = True,\n",
    "        padding='max_length',\n",
    "        return_attention_mask = True,\n",
    "        truncation=True\n",
    "    )\n",
    "    input_ids.append(bert_inp['input_ids'])\n",
    "    attention_masks.append(bert_inp['attention_mask'])\n",
    "    segment_ids.append(bert_inp['token_type_ids'])\n",
    "\n",
    "## alvin's note:\n",
    "## according to the warning, we should use `padding='max_length'` and specificay `max_length = 50`\n",
    "## to make it work"
   ]
  },
  {
   "cell_type": "code",
   "execution_count": 16,
   "metadata": {
    "scrolled": true
   },
   "outputs": [],
   "source": [
    "input_ids=np.asarray(input_ids).astype('int32')\n",
    "attention_masks=np.array(attention_masks)\n",
    "segment_ids=np.array(segment_ids)\n",
    "labels=np.array(labels)"
   ]
  },
  {
   "cell_type": "code",
   "execution_count": 17,
   "metadata": {},
   "outputs": [
    {
     "data": {
      "text/plain": [
       "(3200, 3200, 3200, 3200)"
      ]
     },
     "execution_count": 17,
     "metadata": {},
     "output_type": "execute_result"
    }
   ],
   "source": [
    "len(input_ids),len(attention_masks),len(labels), len(segment_ids)\n"
   ]
  },
  {
   "cell_type": "markdown",
   "metadata": {},
   "source": [
    "- BERT Tokenizer returns a dictionary from which we can get the input ids and the attention masks.\n",
    "- Convert all the encoding to NumPy arrays.\n",
    "- Arguments of BERT Tokenizer:\n",
    "    - text (str, List[str], List[List[str]]) – The sequence or batch of sequences to be encoded. Each sequence can be a string or a list of strings (pretokenized string). If the sequences are provided as list of strings (pretokenized), you must set is_split_into_words=True (to lift the ambiguity with a batch of sequences).\n",
    "    - add_special_tokens (bool, optional, defaults to True) – Whether or not to encode the sequences with the special tokens relative to their model.\n",
    "    - max_length (int, optional) — Controls the maximum length to use by one of the truncation/padding parameters. (max_length≤512)\n",
    "    - padding (bool, optional, defaults to True) – Whether or not to pad the sequences to the maximum length.\n",
    "    - return_attention_mask (bool, optional) –"
   ]
  },
  {
   "cell_type": "code",
   "execution_count": null,
   "metadata": {},
   "outputs": [],
   "source": []
  },
  {
   "cell_type": "markdown",
   "metadata": {},
   "source": [
    "## Train-Test Split"
   ]
  },
  {
   "cell_type": "code",
   "execution_count": 25,
   "metadata": {},
   "outputs": [
    {
     "name": "stdout",
     "output_type": "stream",
     "text": [
      "Train inp shape (2560, 50) Val input shape (640, 50)\n",
      "Train label shape (2560,) Val label shape (640,)\n",
      "Train attention mask shape (2560, 50) Val attention mask shape (640, 50)\n"
     ]
    }
   ],
   "source": [
    "import sklearn.model_selection\n",
    "train_inp,val_inp,train_label,val_label,train_mask,val_mask, train_seg, val_seg =sklearn.model_selection.train_test_split(input_ids,labels,attention_masks, segment_ids, test_size=0.2)\n",
    "\n",
    "print('Train inp shape {} Val input shape {}\\nTrain label shape {} Val label shape {}\\nTrain attention mask shape {} Val attention mask shape {}'.format(train_inp.shape,val_inp.shape,train_label.shape,val_label.shape,train_mask.shape,val_mask.shape))"
   ]
  },
  {
   "cell_type": "markdown",
   "metadata": {},
   "source": [
    "## Model Setup"
   ]
  },
  {
   "cell_type": "code",
   "execution_count": 27,
   "metadata": {},
   "outputs": [],
   "source": [
    "\n",
    "import os\n",
    "path = \"./sentiment-analysis-using-bert-keras-chinese/models/\"\n",
    "\n",
    "if not os.path.exists(path):\n",
    "    os.mkdir(path)\n",
    "\n",
    "## Callbacks\n",
    "## The model will automatically create the `log_dir` but not `model_save_path`"
   ]
  },
  {
   "cell_type": "code",
   "execution_count": 28,
   "metadata": {},
   "outputs": [
    {
     "name": "stdout",
     "output_type": "stream",
     "text": [
      "Model: \"tf_bert_for_sequence_classification\"\n",
      "_________________________________________________________________\n",
      "Layer (type)                 Output Shape              Param #   \n",
      "=================================================================\n",
      "bert (TFBertMainLayer)       multiple                  102267648 \n",
      "_________________________________________________________________\n",
      "dropout_37 (Dropout)         multiple                  0         \n",
      "_________________________________________________________________\n",
      "classifier (Dense)           multiple                  1538      \n",
      "=================================================================\n",
      "Total params: 102,269,186\n",
      "Trainable params: 102,269,186\n",
      "Non-trainable params: 0\n",
      "_________________________________________________________________\n",
      "\n",
      "Bert Model None\n"
     ]
    }
   ],
   "source": [
    "log_dir='./sentiment-analysis-using-bert-keras-chinese/tensorboard_data/tb_bert'\n",
    "model_save_path='./sentiment-analysis-using-bert-keras-chinese/models/bert_model.h5'\n",
    "\n",
    "\n",
    "callbacks = [tf.keras.callbacks.ModelCheckpoint(filepath=model_save_path,save_weights_only=True,monitor='val_loss',mode='min',save_best_only=True),keras.callbacks.TensorBoard(log_dir=log_dir)]\n",
    "\n",
    "print('\\nBert Model',bert_model.summary())\n",
    "\n",
    "loss = tf.keras.losses.SparseCategoricalCrossentropy(from_logits=True)\n",
    "metric = tf.keras.metrics.SparseCategoricalAccuracy('accuracy')\n",
    "optimizer = tf.keras.optimizers.Adam(learning_rate=2e-5,epsilon=1e-08)\n",
    "\n",
    "bert_model.compile(loss=loss,optimizer=optimizer,metrics=[metric])"
   ]
  },
  {
   "cell_type": "markdown",
   "metadata": {},
   "source": [
    "## Model Training"
   ]
  },
  {
   "cell_type": "code",
   "execution_count": 29,
   "metadata": {
    "scrolled": true
   },
   "outputs": [
    {
     "name": "stdout",
     "output_type": "stream",
     "text": [
      " 1/80 [..............................] - ETA: 0s - loss: 0.8381 - accuracy: 0.3750WARNING:tensorflow:From /Users/Alvin/opt/anaconda3/lib/python3.7/site-packages/tensorflow/python/ops/summary_ops_v2.py:1277: stop (from tensorflow.python.eager.profiler) is deprecated and will be removed after 2020-07-01.\n",
      "Instructions for updating:\n",
      "use `tf.profiler.experimental.stop` instead.\n",
      "80/80 [==============================] - 846s 11s/step - loss: 0.4073 - accuracy: 0.8152 - val_loss: 0.2520 - val_accuracy: 0.8984\n"
     ]
    }
   ],
   "source": [
    "history=bert_model.fit([train_inp,train_mask],\n",
    "                       train_label,\n",
    "                       batch_size=32,\n",
    "                       epochs=1,\n",
    "                       validation_data=([val_inp,val_mask],val_label),\n",
    "                       callbacks=callbacks)"
   ]
  },
  {
   "cell_type": "code",
   "execution_count": 31,
   "metadata": {},
   "outputs": [],
   "source": [
    "bert_model.save_weights(model_save_path)"
   ]
  },
  {
   "cell_type": "markdown",
   "metadata": {},
   "source": [
    "## Model Evaluation Using Tensorbaord"
   ]
  },
  {
   "cell_type": "code",
   "execution_count": 144,
   "metadata": {},
   "outputs": [],
   "source": [
    "# %load_ext tensorboard"
   ]
  },
  {
   "cell_type": "code",
   "execution_count": null,
   "metadata": {
    "scrolled": true
   },
   "outputs": [],
   "source": [
    "# %tensorboard --logdir {log_dir}"
   ]
  },
  {
   "cell_type": "markdown",
   "metadata": {},
   "source": [
    "## Model Evaluation: Metrics"
   ]
  },
  {
   "cell_type": "code",
   "execution_count": 42,
   "metadata": {},
   "outputs": [
    {
     "name": "stderr",
     "output_type": "stream",
     "text": [
      "Some layers from the model checkpoint at bert-base-chinese were not used when initializing TFBertForSequenceClassification: ['nsp___cls', 'mlm___cls']\n",
      "- This IS expected if you are initializing TFBertForSequenceClassification from the checkpoint of a model trained on another task or with another architecture (e.g. initializing a BertForSequenceClassification model from a BertForPreTraining model).\n",
      "- This IS NOT expected if you are initializing TFBertForSequenceClassification from the checkpoint of a model that you expect to be exactly identical (initializing a BertForSequenceClassification model from a BertForSequenceClassification model).\n",
      "Some layers of TFBertForSequenceClassification were not initialized from the model checkpoint at bert-base-chinese and are newly initialized: ['classifier', 'dropout_75']\n",
      "You should probably TRAIN this model on a down-stream task to be able to use it for predictions and inference.\n"
     ]
    }
   ],
   "source": [
    "# model_save_path='./sentiment-analysis-using-bert-keras/models/bert_model.h5'\n",
    "\n",
    "\n",
    "trained_model = TFBertForSequenceClassification.from_pretrained('bert-base-chinese',num_labels=2)\n",
    "trained_model.compile(loss=loss,optimizer=optimizer, metrics=[metric])\n",
    "trained_model.load_weights(model_save_path)\n",
    "\n"
   ]
  },
  {
   "cell_type": "code",
   "execution_count": 32,
   "metadata": {
    "code_folding": [
     0
    ]
   },
   "outputs": [],
   "source": [
    "def plot_confusion_matrix(cm,\n",
    "                          target_names,\n",
    "                          title='Confusion matrix',\n",
    "                          cmap=None,\n",
    "                          normalize=True):\n",
    "    \"\"\"\n",
    "    given a sklearn confusion matrix (cm), make a nice plot\n",
    "\n",
    "    Arguments\n",
    "    ---------\n",
    "    cm:           confusion matrix from sklearn.metrics.confusion_matrix\n",
    "\n",
    "    target_names: given classification classes such as [0, 1, 2]\n",
    "                  the class names, for example: ['high', 'medium', 'low']\n",
    "\n",
    "    title:        the text to display at the top of the matrix\n",
    "\n",
    "    cmap:         the gradient of the values displayed from matplotlib.pyplot.cm\n",
    "                  see http://matplotlib.org/examples/color/colormaps_reference.html\n",
    "                  plt.get_cmap('jet') or plt.cm.Blues\n",
    "\n",
    "    normalize:    If False, plot the raw numbers\n",
    "                  If True, plot the proportions\n",
    "\n",
    "    Usage\n",
    "    -----\n",
    "    plot_confusion_matrix(cm           = cm,                  # confusion matrix created by\n",
    "                                                              # sklearn.metrics.confusion_matrix\n",
    "                          normalize    = True,                # show proportions\n",
    "                          target_names = y_labels_vals,       # list of names of the classes\n",
    "                          title        = best_estimator_name) # title of graph\n",
    "\n",
    "    Citiation\n",
    "    ---------\n",
    "    http://scikit-learn.org/stable/auto_examples/model_selection/plot_confusion_matrix.html\n",
    "\n",
    "    \"\"\"\n",
    "    import matplotlib.pyplot as plt\n",
    "    import numpy as np\n",
    "    import itertools\n",
    "\n",
    "    accuracy = np.trace(cm) / float(np.sum(cm))\n",
    "    misclass = 1 - accuracy\n",
    "\n",
    "    if cmap is None:\n",
    "        cmap = plt.get_cmap('Blues')\n",
    "\n",
    "    plt.figure(figsize=(8, 6), dpi=150)\n",
    "    plt.imshow(cm, interpolation='nearest', cmap=cmap)\n",
    "    plt.title(title)\n",
    "    plt.colorbar()\n",
    "\n",
    "    if target_names is not None:\n",
    "        tick_marks = np.arange(len(target_names))\n",
    "        plt.xticks(tick_marks, target_names, rotation=45)\n",
    "        plt.yticks(tick_marks, target_names)\n",
    "\n",
    "    if normalize:\n",
    "        cm = cm.astype('float') / cm.sum(axis=1)[:, np.newaxis]\n",
    "\n",
    "\n",
    "    thresh = cm.max() / 1.5 if normalize else cm.max() / 2\n",
    "    for i, j in itertools.product(range(cm.shape[0]), range(cm.shape[1])):\n",
    "        if normalize:\n",
    "            plt.text(j, i, \"{:0.4f}\".format(cm[i, j]),\n",
    "                     horizontalalignment=\"center\",\n",
    "                     color=\"white\" if cm[i, j] > thresh else \"black\")\n",
    "        else:\n",
    "            plt.text(j, i, \"{:,}\".format(cm[i, j]),\n",
    "                     horizontalalignment=\"center\",\n",
    "                     color=\"white\" if cm[i, j] > thresh else \"black\")\n",
    "\n",
    "\n",
    "    plt.tight_layout()\n",
    "    plt.ylabel('True label')\n",
    "    plt.xlabel('Predicted label\\naccuracy={:0.4f}; misclass={:0.4f}'.format(accuracy, misclass))\n",
    "    plt.show()"
   ]
  },
  {
   "cell_type": "code",
   "execution_count": 33,
   "metadata": {},
   "outputs": [
    {
     "name": "stdout",
     "output_type": "stream",
     "text": [
      "F1 score 0.882032667876588\n",
      "Classification Report\n",
      "              precision    recall  f1-score   support\n",
      "\n",
      "    positive       0.86      0.97      0.91       343\n",
      "    negative       0.96      0.82      0.88       297\n",
      "\n",
      "    accuracy                           0.90       640\n",
      "   macro avg       0.91      0.89      0.90       640\n",
      "weighted avg       0.90      0.90      0.90       640\n",
      "\n",
      "Training and saving built model.....\n"
     ]
    }
   ],
   "source": [
    "preds = bert_model.predict([val_inp,val_mask],batch_size=32)\n",
    "pred_labels = preds[0].argmax(axis=1)\n",
    "f1 = sklearn.metrics.f1_score(val_label,pred_labels)\n",
    "print('F1 score',f1)\n",
    "print('Classification Report')\n",
    "\n",
    "target_names=csv_data.label.unique()\n",
    "print(sklearn.metrics.classification_report(val_label,pred_labels,target_names=target_names))\n",
    "\n",
    "print('Training and saving built model.....')"
   ]
  },
  {
   "cell_type": "code",
   "execution_count": 34,
   "metadata": {},
   "outputs": [
    {
     "data": {
      "image/png": "[encoded data removed]",
      "text/plain": [
       "<Figure size 1200x900 with 2 Axes>"
      ]
     },
     "metadata": {
      "needs_background": "light"
     },
     "output_type": "display_data"
    }
   ],
   "source": [
    "cm = sklearn.metrics.confusion_matrix(val_label, pred_labels, normalize=None)\n",
    "plot_confusion_matrix(cm,\n",
    "                      normalize    = False,\n",
    "                      target_names = ['ham', 'spam'],\n",
    "                      title        = \"Confusion Matrix\")"
   ]
  },
  {
   "cell_type": "code",
   "execution_count": 44,
   "metadata": {
    "scrolled": true
   },
   "outputs": [
    {
     "name": "stdout",
     "output_type": "stream",
     "text": [
      "20/20 [==============================] - 1s 2ms/step - loss: 0.0000e+00 - accuracy: 0.8781\n"
     ]
    },
    {
     "data": {
      "text/plain": [
       "[0.0, 0.878125011920929]"
      ]
     },
     "execution_count": 44,
     "metadata": {},
     "output_type": "execute_result"
    }
   ],
   "source": [
    "trained_model.evaluate([val_inp,val_mask],batch_size=32)"
   ]
  },
  {
   "cell_type": "markdown",
   "metadata": {},
   "source": [
    "## Custom Model with BERT"
   ]
  },
  {
   "cell_type": "code",
   "execution_count": 36,
   "metadata": {},
   "outputs": [
    {
     "name": "stderr",
     "output_type": "stream",
     "text": [
      "Some weights of the model checkpoint at bert-base-chinese were not used when initializing TFBertModel: ['nsp___cls', 'mlm___cls']\n",
      "- This IS expected if you are initializing TFBertModel from the checkpoint of a model trained on another task or with another architecture (e.g. initializing a BertForSequenceClassification model from a BertForPretraining model).\n",
      "- This IS NOT expected if you are initializing TFBertModel from the checkpoint of a model that you expect to be exactly identical (initializing a BertForSequenceClassification model from a BertForSequenceClassification model).\n",
      "All the weights of TFBertModel were initialized from the model checkpoint at bert-base-chinese.\n",
      "If your task is similar to the task the model of the checkpoint was trained on, you can already use TFBertModel for predictions without further training.\n"
     ]
    },
    {
     "name": "stdout",
     "output_type": "stream",
     "text": [
      "Model: \"tf_bert_model\"\n",
      "_________________________________________________________________\n",
      "Layer (type)                 Output Shape              Param #   \n",
      "=================================================================\n",
      "bert (TFBertMainLayer)       multiple                  102267648 \n",
      "=================================================================\n",
      "Total params: 102,267,648\n",
      "Trainable params: 102,267,648\n",
      "Non-trainable params: 0\n",
      "_________________________________________________________________\n"
     ]
    }
   ],
   "source": [
    "from transformers import TFBertModel\n",
    "\n",
    "bert_custom = TFBertModel.from_pretrained('bert-base-chinese')\n",
    "bert_custom.summary()"
   ]
  },
  {
   "cell_type": "markdown",
   "metadata": {},
   "source": [
    "### Define Model Structure"
   ]
  },
  {
   "cell_type": "code",
   "execution_count": 37,
   "metadata": {},
   "outputs": [],
   "source": [
    "inp_ids = keras.layers.Input((MAX_LEN,), dtype=tf.int64, name=\"input_ids\")\n",
    "att_mask = keras.layers.Input((MAX_LEN,), dtype=tf.int64, name=\"attention_mask\")\n",
    "seg_ids = keras.layers.Input((MAX_LEN,), dtype=tf.int64, name=\"token_type_ids\")\n",
    "\n",
    "inp_dict = {\"input_ids\": inp_ids,\n",
    "           \"attention_mask\": att_mask,\n",
    "           \"token_type_ids\": seg_ids}\n",
    "outputs = bert_custom(inp_dict) ## get the pooled output of each input sequence for fine-tuning"
   ]
  },
  {
   "cell_type": "code",
   "execution_count": 38,
   "metadata": {},
   "outputs": [
    {
     "data": {
      "text/plain": [
       "(<tf.Tensor 'tf_bert_model/bert/encoder/layer_._11/output/LayerNorm/batchnorm/add_1:0' shape=(None, 50, 768) dtype=float32>,\n",
       " <tf.Tensor 'tf_bert_model/bert/pooler/dense/Tanh:0' shape=(None, 768) dtype=float32>)"
      ]
     },
     "execution_count": 38,
     "metadata": {},
     "output_type": "execute_result"
    }
   ],
   "source": [
    "## The output of the each input token includes special token [SEP] and [CLS].\n",
    "## The second one is [CLS], which is the pooled output of the entire input sequence\n",
    "outputs"
   ]
  },
  {
   "cell_type": "code",
   "execution_count": 39,
   "metadata": {},
   "outputs": [
    {
     "name": "stdout",
     "output_type": "stream",
     "text": [
      "Model: \"functional_1\"\n",
      "__________________________________________________________________________________________________\n",
      "Layer (type)                    Output Shape         Param #     Connected to                     \n",
      "==================================================================================================\n",
      "attention_mask (InputLayer)     [(None, 50)]         0                                            \n",
      "__________________________________________________________________________________________________\n",
      "input_ids (InputLayer)          [(None, 50)]         0                                            \n",
      "__________________________________________________________________________________________________\n",
      "token_type_ids (InputLayer)     [(None, 50)]         0                                            \n",
      "__________________________________________________________________________________________________\n",
      "tf_bert_model (TFBertModel)     ((None, 50, 768), (N 102267648   attention_mask[0][0]             \n",
      "                                                                 input_ids[0][0]                  \n",
      "                                                                 token_type_ids[0][0]             \n",
      "__________________________________________________________________________________________________\n",
      "dropout_75 (Dropout)            (None, 768)          0           tf_bert_model[0][1]              \n",
      "__________________________________________________________________________________________________\n",
      "dense (Dense)                   (None, 200)          153800      dropout_75[0][0]                 \n",
      "__________________________________________________________________________________________________\n",
      "dropout_76 (Dropout)            (None, 200)          0           dense[0][0]                      \n",
      "__________________________________________________________________________________________________\n",
      "dense_1 (Dense)                 (None, 2)            402         dropout_76[0][0]                 \n",
      "==================================================================================================\n",
      "Total params: 102,421,850\n",
      "Trainable params: 102,421,850\n",
      "Non-trainable params: 0\n",
      "__________________________________________________________________________________________________\n"
     ]
    }
   ],
   "source": [
    "x = keras.layers.Dropout(0.2)(outputs[1])\n",
    "x = keras.layers.Dense(200, activation='relu')(x)\n",
    "x = keras.layers.Dropout(0.2)(x)\n",
    "x = keras.layers.Dense(2, activation=\"sigmoid\")(x)\n",
    "custom_model = keras.models.Model(inputs=inp_dict, outputs=x)\n",
    "custom_model.summary()"
   ]
  },
  {
   "cell_type": "code",
   "execution_count": 40,
   "metadata": {},
   "outputs": [],
   "source": [
    "## Fine tune BERT on IMDB\n",
    "\n",
    "input_dict = {\"input_ids\": train_inp,\n",
    "           \"attention_mask\": train_mask,\n",
    "           \"token_type_ids\": train_seg}\n",
    "val_dict = {\"input_ids\": val_inp,\n",
    "           \"attention_mask\": val_mask,\n",
    "           \"token_type_ids\": val_seg}"
   ]
  },
  {
   "cell_type": "code",
   "execution_count": 41,
   "metadata": {},
   "outputs": [
    {
     "name": "stdout",
     "output_type": "stream",
     "text": [
      "Model: \"functional_1\"\n",
      "__________________________________________________________________________________________________\n",
      "Layer (type)                    Output Shape         Param #     Connected to                     \n",
      "==================================================================================================\n",
      "attention_mask (InputLayer)     [(None, 50)]         0                                            \n",
      "__________________________________________________________________________________________________\n",
      "input_ids (InputLayer)          [(None, 50)]         0                                            \n",
      "__________________________________________________________________________________________________\n",
      "token_type_ids (InputLayer)     [(None, 50)]         0                                            \n",
      "__________________________________________________________________________________________________\n",
      "tf_bert_model (TFBertModel)     ((None, 50, 768), (N 102267648   attention_mask[0][0]             \n",
      "                                                                 input_ids[0][0]                  \n",
      "                                                                 token_type_ids[0][0]             \n",
      "__________________________________________________________________________________________________\n",
      "dropout_75 (Dropout)            (None, 768)          0           tf_bert_model[0][1]              \n",
      "__________________________________________________________________________________________________\n",
      "dense (Dense)                   (None, 200)          153800      dropout_75[0][0]                 \n",
      "__________________________________________________________________________________________________\n",
      "dropout_76 (Dropout)            (None, 200)          0           dense[0][0]                      \n",
      "__________________________________________________________________________________________________\n",
      "dense_1 (Dense)                 (None, 2)            402         dropout_76[0][0]                 \n",
      "==================================================================================================\n",
      "Total params: 102,421,850\n",
      "Trainable params: 154,202\n",
      "Non-trainable params: 102,267,648\n",
      "__________________________________________________________________________________________________\n"
     ]
    }
   ],
   "source": [
    "bert_custom.trainable=False\n",
    "optimizer = tf.keras.optimizers.Adam() ## standard learning rate\n",
    "custom_model.compile(loss=loss,optimizer=optimizer,metrics=[metric])\n",
    "custom_model.summary()"
   ]
  },
  {
   "cell_type": "code",
   "execution_count": 42,
   "metadata": {},
   "outputs": [
    {
     "name": "stdout",
     "output_type": "stream",
     "text": [
      "Epoch 1/3\n",
      "80/80 [==============================] - 300s 4s/step - loss: 0.6673 - accuracy: 0.5791 - val_loss: 0.6193 - val_accuracy: 0.6016\n",
      "Epoch 2/3\n",
      "80/80 [==============================] - 293s 4s/step - loss: 0.5916 - accuracy: 0.6922 - val_loss: 0.4886 - val_accuracy: 0.8234\n",
      "Epoch 3/3\n",
      "80/80 [==============================] - 297s 4s/step - loss: 0.5164 - accuracy: 0.7898 - val_loss: 0.4812 - val_accuracy: 0.8313\n"
     ]
    }
   ],
   "source": [
    "custom_history = custom_model.fit(input_dict, train_label, batch_size=32,\n",
    "                       epochs=3,\n",
    "                       validation_data=(val_dict,val_label))"
   ]
  },
  {
   "cell_type": "markdown",
   "metadata": {},
   "source": [
    "## References"
   ]
  },
  {
   "cell_type": "markdown",
   "metadata": {},
   "source": [
    "- [BERT Text Classification Using Keras](https://swatimeena989.medium.com/bert-text-classification-using-keras-903671e0207d)\n",
    "- [The Illustrated BERT, ELMo, and co. (How NLP Cracked Transfer Learning)](http://jalammar.github.io/illustrated-bert/)\n",
    "- [Text Extraction with BERT](https://keras.io/examples/nlp/text_extraction_with_bert/#text-extraction-with-bert)"
   ]
  }
 ],
 "metadata": {
  "kernelspec": {
   "display_name": "python-notes",
   "language": "python",
   "name": "python-notes"
  },
  "language_info": {
   "codemirror_mode": {
    "name": "ipython",
    "version": 3
   },
   "file_extension": ".py",
   "mimetype": "text/x-python",
   "name": "python",
   "nbconvert_exporter": "python",
   "pygments_lexer": "ipython3",
   "version": "3.7.6"
  },
  "toc": {
   "base_numbering": 1,
   "nav_menu": {},
   "number_sections": false,
   "sideBar": true,
   "skip_h1_title": false,
   "title_cell": "Table of Contents",
   "title_sidebar": "Contents",
   "toc_cell": false,
   "toc_position": {},
   "toc_section_display": true,
   "toc_window_display": false
  },
  "varInspector": {
   "cols": {
    "lenName": 16,
    "lenType": 16,
    "lenVar": 40
   },
   "kernels_config": {
    "python": {
     "delete_cmd_postfix": "",
     "delete_cmd_prefix": "del ",
     "library": "var_list.py",
     "varRefreshCmd": "print(var_dic_list())"
    },
    "r": {
     "delete_cmd_postfix": ") ",
     "delete_cmd_prefix": "rm(",
     "library": "var_list.r",
     "varRefreshCmd": "cat(var_dic_list()) "
    }
   },
   "types_to_exclude": [
    "module",
    "function",
    "builtin_function_or_method",
    "instance",
    "_Feature"
   ],
   "window_display": false
  }
 },
 "nbformat": 4,
 "nbformat_minor": 4
}
