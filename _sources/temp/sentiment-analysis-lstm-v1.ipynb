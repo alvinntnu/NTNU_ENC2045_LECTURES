{
 "cells": [
  {
   "cell_type": "markdown",
   "metadata": {},
   "source": [
    "# Sentiment Analysis with LSTM (imdb)"
   ]
  },
  {
   "cell_type": "markdown",
   "metadata": {},
   "source": [
    "- This tutorial shows how to build a deep learning classifier for binary sentiment classification. \n",
    "- We will demonstrate three alternatives of dealing with the textual data:\n",
    "    - Building a sequence model using self-trained embedding layer\n",
    "    - Building a sequence model using pre-trained embeddings (GloVe)"
   ]
  },
  {
   "cell_type": "code",
   "execution_count": 1,
   "metadata": {},
   "outputs": [],
   "source": [
    "import numpy as np\n",
    "import tensorflow\n",
    "from tensorflow import keras\n",
    "from keras.datasets import imdb\n",
    "from keras.preprocessing import sequence\n",
    "from keras.preprocessing.text import Tokenizer\n",
    "import pandas as pd"
   ]
  },
  {
   "cell_type": "markdown",
   "metadata": {},
   "source": [
    "## Loading Data"
   ]
  },
  {
   "cell_type": "code",
   "execution_count": 2,
   "metadata": {},
   "outputs": [],
   "source": [
    "imdb = pd.read_csv('../../../RepositoryData/data/kaggle-IMDB-dataset/IMDB-Dataset.csv')"
   ]
  },
  {
   "cell_type": "code",
   "execution_count": 3,
   "metadata": {},
   "outputs": [
    {
     "data": {
      "text/html": [
       "<div>\n",
       "<style scoped>\n",
       "    .dataframe tbody tr th:only-of-type {\n",
       "        vertical-align: middle;\n",
       "    }\n",
       "\n",
       "    .dataframe tbody tr th {\n",
       "        vertical-align: top;\n",
       "    }\n",
       "\n",
       "    .dataframe thead th {\n",
       "        text-align: right;\n",
       "    }\n",
       "</style>\n",
       "<table border=\"1\" class=\"dataframe\">\n",
       "  <thead>\n",
       "    <tr style=\"text-align: right;\">\n",
       "      <th></th>\n",
       "      <th>review</th>\n",
       "      <th>sentiment</th>\n",
       "    </tr>\n",
       "  </thead>\n",
       "  <tbody>\n",
       "    <tr>\n",
       "      <th>0</th>\n",
       "      <td>One of the other reviewers has mentioned that ...</td>\n",
       "      <td>positive</td>\n",
       "    </tr>\n",
       "    <tr>\n",
       "      <th>1</th>\n",
       "      <td>A wonderful little production. &lt;br /&gt;&lt;br /&gt;The...</td>\n",
       "      <td>positive</td>\n",
       "    </tr>\n",
       "    <tr>\n",
       "      <th>2</th>\n",
       "      <td>I thought this was a wonderful way to spend ti...</td>\n",
       "      <td>positive</td>\n",
       "    </tr>\n",
       "    <tr>\n",
       "      <th>3</th>\n",
       "      <td>Basically there's a family where a little boy ...</td>\n",
       "      <td>negative</td>\n",
       "    </tr>\n",
       "    <tr>\n",
       "      <th>4</th>\n",
       "      <td>Petter Mattei's \"Love in the Time of Money\" is...</td>\n",
       "      <td>positive</td>\n",
       "    </tr>\n",
       "  </tbody>\n",
       "</table>\n",
       "</div>"
      ],
      "text/plain": [
       "                                              review sentiment\n",
       "0  One of the other reviewers has mentioned that ...  positive\n",
       "1  A wonderful little production. <br /><br />The...  positive\n",
       "2  I thought this was a wonderful way to spend ti...  positive\n",
       "3  Basically there's a family where a little boy ...  negative\n",
       "4  Petter Mattei's \"Love in the Time of Money\" is...  positive"
      ]
     },
     "execution_count": 3,
     "metadata": {},
     "output_type": "execute_result"
    }
   ],
   "source": [
    "imdb.head()"
   ]
  },
  {
   "cell_type": "code",
   "execution_count": 4,
   "metadata": {},
   "outputs": [],
   "source": [
    "from sklearn.model_selection import train_test_split\n",
    "\n",
    "train_data, test_data = train_test_split(imdb, test_size = 0.5, random_state=123)"
   ]
  },
  {
   "cell_type": "code",
   "execution_count": 5,
   "metadata": {},
   "outputs": [
    {
     "name": "stdout",
     "output_type": "stream",
     "text": [
      "(25000, 2)\n",
      "(25000, 2)\n"
     ]
    }
   ],
   "source": [
    "## check train/test data\n",
    "print(train_data.shape)\n",
    "print(test_data.shape)"
   ]
  },
  {
   "cell_type": "code",
   "execution_count": 6,
   "metadata": {},
   "outputs": [
    {
     "name": "stdout",
     "output_type": "stream",
     "text": [
      "positive    12574\n",
      "negative    12426\n",
      "Name: sentiment, dtype: int64\n",
      "negative    12574\n",
      "positive    12426\n",
      "Name: sentiment, dtype: int64\n"
     ]
    }
   ],
   "source": [
    "## check class distribution for train/test\n",
    "print(train_data.sentiment.value_counts())\n",
    "print(test_data.sentiment.value_counts())"
   ]
  },
  {
   "cell_type": "markdown",
   "metadata": {},
   "source": [
    "## Cleaning Data"
   ]
  },
  {
   "cell_type": "markdown",
   "metadata": {},
   "source": [
    "- Usually in deep learning NLP, we don't have to spend a lot of time preprocessing/cleaning the textual data. \n",
    "- The main concerns are often related to removal of irrelevant tokens or normalizing the texts (in casing, contractions, etc.)\n",
    "- Because in this tutorial, we are going to demonstrate the use of pre-trained word embeddings. In other words, we need to map each word token to the pre-trained word embedding matrix. \n",
    "- If we have the same tokenization as the pre-trained model, we can reduce the percentage of unknown words."
   ]
  },
  {
   "cell_type": "code",
   "execution_count": 7,
   "metadata": {},
   "outputs": [],
   "source": [
    "import TAWP\n",
    "import re\n",
    "from TAWP.contractions import CONTRACTION_MAP\n",
    "\n",
    "def expand_contractions(text, contraction_mapping=CONTRACTION_MAP):\n",
    "    ## create a regex pattern of all contracted forms\n",
    "    contractions_pattern = re.compile('({})'.format('|'.join(\n",
    "        contraction_mapping.keys())),\n",
    "                                      flags=re.IGNORECASE | re.DOTALL)\n",
    "\n",
    "    def expand_match(contraction):\n",
    "        match = contraction.group(0)  # the whole matched contraction\n",
    "\n",
    "        # if the matched contraction (=keys) exists in the dict,\n",
    "        # get its corresponding uncontracted form (=values)\n",
    "        expanded_contraction = contraction_mapping.get(match)\\\n",
    "                                if contraction_mapping.get(match)\\\n",
    "                                else contraction_mapping.get(match.lower())\n",
    "\n",
    "        return expanded_contraction\n",
    "\n",
    "    # find each contraction in the pattern,\n",
    "    # find it from text,\n",
    "    # and replace it using the output of\n",
    "    # expand_match\n",
    "    expanded_text = contractions_pattern.sub(expand_match, text)\n",
    "    expanded_text = re.sub(\"'\", \"\", expanded_text)\n",
    "    return expanded_text"
   ]
  },
  {
   "cell_type": "code",
   "execution_count": 8,
   "metadata": {},
   "outputs": [],
   "source": [
    "def normalize(text):\n",
    "    text = expand_contractions(text)\n",
    "    text = re.sub(r'<.+?>',\"\", text)\n",
    "    text = re.sub(r'\\s+',' ', text)\n",
    "    return text\n",
    "    \n",
    "normalize_corpus = np.vectorize(normalize)"
   ]
  },
  {
   "cell_type": "markdown",
   "metadata": {},
   "source": [
    "## X and y"
   ]
  },
  {
   "cell_type": "code",
   "execution_count": 9,
   "metadata": {},
   "outputs": [
    {
     "name": "stdout",
     "output_type": "stream",
     "text": [
      "CPU times: user 1min 44s, sys: 1.36 s, total: 1min 45s\n",
      "Wall time: 1min 45s\n"
     ]
    }
   ],
   "source": [
    "%%time\n",
    "X_train = normalize_corpus([X for (X,y) in zip(train_data.review, train_data.sentiment)])\n",
    "# y_train = np.array([1 if y in ['positive'] else 0 for (X,y) in zip(train_data.review, train_data.sentiment)])\n",
    "\n",
    "X_test = normalize_corpus([X for (X,y) in zip(test_data.review, test_data.sentiment)])\n",
    "# y_test = np.array([1 if y in ['positive'] else 0 for (X,y) in zip(test_data.review, test_data.sentiment)])"
   ]
  },
  {
   "cell_type": "code",
   "execution_count": 10,
   "metadata": {},
   "outputs": [],
   "source": [
    "y_train = np.array([1 if y in ['positive'] else 0 for (X,y) in zip(train_data.review, train_data.sentiment)])\n",
    "y_test = np.array([1 if y in ['positive'] else 0 for (X,y) in zip(test_data.review, test_data.sentiment)])\n",
    "# y_train = np.array([y for (X,y) in zip(train_data.review, train_data.sentiment)])\n",
    "# y_test = np.array([y for (X,y) in zip(test_data.review, test_data.sentiment)])"
   ]
  },
  {
   "cell_type": "code",
   "execution_count": 11,
   "metadata": {},
   "outputs": [
    {
     "name": "stdout",
     "output_type": "stream",
     "text": [
      "1    12574\n",
      "0    12426\n",
      "dtype: int64\n",
      "0    12574\n",
      "1    12426\n",
      "dtype: int64\n"
     ]
    }
   ],
   "source": [
    "print(pd.value_counts(y_train))\n",
    "print(pd.value_counts(y_test))"
   ]
  },
  {
   "cell_type": "code",
   "execution_count": 12,
   "metadata": {},
   "outputs": [
    {
     "data": {
      "text/plain": [
       "array(['This is a great show, and will make you cry, this group people really loved each other in real life and it shows time and time again. Email me and let us chat. I have been to Australia and they real do talk like this.I want you to enjoy Five Mile Creek and pass on these great stories of right and wrong, and friendship to your kids. I have all 40 Episodes on DVD-R that I have collected over the last 5 years. See my Five Mile Creek tribute at www.mikeandvicki.com and hear the extended theme music. let us talk about them.These people are so cool!',\n",
       "       'This film was really different from what I had imagined but exceeded my expectations nevertheless. This film has the exactly right mixture of comedy, drama, political criticism and satire (not necessarily in that order). Without being patronizing or wisenheimer it reveals the open and subtle problems of our capitalist democratic high technology society. It makes you laugh instantly and remain in thought afterwards. For those of you who liked \"wag the dog\" and wished to have humane and manlike politicians this film should definitely be the choice!\"politicians are a lot like diapers: they should be changed frequently and for the same reasons.\"'],\n",
       "      dtype='<U12685')"
      ]
     },
     "execution_count": 12,
     "metadata": {},
     "output_type": "execute_result"
    }
   ],
   "source": [
    "X_train[:2]"
   ]
  },
  {
   "cell_type": "code",
   "execution_count": 13,
   "metadata": {},
   "outputs": [
    {
     "data": {
      "text/plain": [
       "array([1, 1])"
      ]
     },
     "execution_count": 13,
     "metadata": {},
     "output_type": "execute_result"
    }
   ],
   "source": [
    "y_train[:2]"
   ]
  },
  {
   "cell_type": "markdown",
   "metadata": {},
   "source": [
    "## Text to Sequences"
   ]
  },
  {
   "cell_type": "markdown",
   "metadata": {},
   "source": [
    "### Tokenizer"
   ]
  },
  {
   "cell_type": "code",
   "execution_count": 14,
   "metadata": {},
   "outputs": [],
   "source": [
    "NUM_WORDS = 10000\n",
    "tokenizer = Tokenizer(num_words= NUM_WORDS, lower=True)\n",
    "tokenizer.fit_on_texts(X_train)"
   ]
  },
  {
   "cell_type": "markdown",
   "metadata": {},
   "source": [
    "### Vocabulary"
   ]
  },
  {
   "cell_type": "code",
   "execution_count": 15,
   "metadata": {},
   "outputs": [
    {
     "name": "stdout",
     "output_type": "stream",
     "text": [
      "10001\n"
     ]
    }
   ],
   "source": [
    "VOCAB_SIZE = tokenizer.num_words+1\n",
    "print(VOCAB_SIZE)"
   ]
  },
  {
   "cell_type": "markdown",
   "metadata": {},
   "source": [
    "### Word Index"
   ]
  },
  {
   "cell_type": "code",
   "execution_count": 16,
   "metadata": {},
   "outputs": [],
   "source": [
    "w2id = tokenizer.word_index\n",
    "id2w = {id:w for (w,id) in w2id.items()}"
   ]
  },
  {
   "cell_type": "code",
   "execution_count": 17,
   "metadata": {},
   "outputs": [
    {
     "data": {
      "text/plain": [
       "[('the', 1),\n",
       " ('and', 2),\n",
       " ('a', 3),\n",
       " ('of', 4),\n",
       " ('is', 5),\n",
       " ('to', 6),\n",
       " ('it', 7),\n",
       " ('in', 8),\n",
       " ('i', 9),\n",
       " ('this', 10)]"
      ]
     },
     "execution_count": 17,
     "metadata": {},
     "output_type": "execute_result"
    }
   ],
   "source": [
    "list(w2id.items())[:10]"
   ]
  },
  {
   "cell_type": "code",
   "execution_count": 18,
   "metadata": {},
   "outputs": [
    {
     "data": {
      "text/plain": [
       "[(1, 'the'),\n",
       " (2, 'and'),\n",
       " (3, 'a'),\n",
       " (4, 'of'),\n",
       " (5, 'is'),\n",
       " (6, 'to'),\n",
       " (7, 'it'),\n",
       " (8, 'in'),\n",
       " (9, 'i'),\n",
       " (10, 'this')]"
      ]
     },
     "execution_count": 18,
     "metadata": {},
     "output_type": "execute_result"
    }
   ],
   "source": [
    "list(id2w.items())[:10]"
   ]
  },
  {
   "cell_type": "markdown",
   "metadata": {},
   "source": [
    "### Text to Sequences"
   ]
  },
  {
   "cell_type": "code",
   "execution_count": 19,
   "metadata": {},
   "outputs": [],
   "source": [
    "X_train_seq = tokenizer.texts_to_sequences(X_train)\n",
    "X_test_seq = tokenizer.texts_to_sequences(X_test)"
   ]
  },
  {
   "cell_type": "markdown",
   "metadata": {},
   "source": [
    "### Check Text Lengths Distribution"
   ]
  },
  {
   "cell_type": "code",
   "execution_count": 20,
   "metadata": {},
   "outputs": [
    {
     "data": {
      "text/plain": [
       "<seaborn.axisgrid.FacetGrid at 0x7feb982f29b0>"
      ]
     },
     "execution_count": 20,
     "metadata": {},
     "output_type": "execute_result"
    },
    {
     "data": {
      "image/png": "[encoded data removed]",
      "text/plain": [
       "<Figure size 360x360 with 1 Axes>"
      ]
     },
     "metadata": {
      "needs_background": "light"
     },
     "output_type": "display_data"
    }
   ],
   "source": [
    "X_train_len = [len(text) for text in X_train_seq]\n",
    "import seaborn as sns\n",
    "sns.displot(X_train_len)"
   ]
  },
  {
   "cell_type": "markdown",
   "metadata": {},
   "source": [
    "### Padding/Truncating"
   ]
  },
  {
   "cell_type": "code",
   "execution_count": 21,
   "metadata": {},
   "outputs": [],
   "source": [
    "MAX_LEN = 250"
   ]
  },
  {
   "cell_type": "code",
   "execution_count": 22,
   "metadata": {},
   "outputs": [
    {
     "data": {
      "text/plain": [
       "(25000, 250)"
      ]
     },
     "execution_count": 22,
     "metadata": {},
     "output_type": "execute_result"
    }
   ],
   "source": [
    "X_train_seq_pad = sequence.pad_sequences(X_train_seq, maxlen = MAX_LEN, truncating='pre', padding='pre' )\n",
    "X_train_seq_pad.shape"
   ]
  },
  {
   "cell_type": "code",
   "execution_count": 23,
   "metadata": {},
   "outputs": [
    {
     "data": {
      "text/plain": [
       "(25000, 250)"
      ]
     },
     "execution_count": 23,
     "metadata": {},
     "output_type": "execute_result"
    }
   ],
   "source": [
    "X_test_seq_pad = sequence.pad_sequences(X_test_seq, maxlen = MAX_LEN, truncating='pre', padding='pre' )\n",
    "X_test_seq_pad.shape"
   ]
  },
  {
   "cell_type": "code",
   "execution_count": null,
   "metadata": {},
   "outputs": [],
   "source": []
  },
  {
   "cell_type": "code",
   "execution_count": 24,
   "metadata": {},
   "outputs": [],
   "source": [
    "# # Deep Learn with Python Version\n",
    "# max_features = 10000 # vocab size\n",
    "# max_len = 200 # text length to consider\n",
    "# batch_size = 128\n",
    "\n",
    "# (train_data, train_labels), (test_data, test_labels) = imdb.load_data(num_words=max_features)"
   ]
  },
  {
   "cell_type": "code",
   "execution_count": 25,
   "metadata": {},
   "outputs": [],
   "source": [
    "# print(train_data[0]) # first train doc\n",
    "# print(train_labels[0]) # first train label"
   ]
  },
  {
   "cell_type": "code",
   "execution_count": 26,
   "metadata": {},
   "outputs": [],
   "source": [
    "# # check class\n",
    "# print(type(train_data))\n",
    "# print(type(train_labels))\n",
    "# # check dtype\n",
    "# print(train_data.dtype)\n",
    "# print(train_labels.dtype)\n",
    "\n",
    "# # check shape\n",
    "# print(train_data.shape)\n",
    "# print(test_data.shape)"
   ]
  },
  {
   "cell_type": "code",
   "execution_count": 27,
   "metadata": {},
   "outputs": [],
   "source": [
    "# ## vectorize labels\n",
    "# y_train = np.asarray(train_labels).astype('float32')\n",
    "# y_test = np.asarray(test_labels).astype('float32')\n",
    "# print(type(y_train))\n",
    "# print(y_train.dtype)"
   ]
  },
  {
   "cell_type": "markdown",
   "metadata": {},
   "source": [
    "## Padding Text Length"
   ]
  },
  {
   "cell_type": "code",
   "execution_count": 28,
   "metadata": {},
   "outputs": [],
   "source": [
    "# ## Padding Texts Lengths\n",
    "# train_data = sequence.pad_sequences(train_data, maxlen=max_len)\n",
    "# test_data = sequence.pad_sequences(test_data, maxlen=max_len)\n",
    "# print(train_data.shape)\n",
    "# print(test_data.shape)"
   ]
  },
  {
   "cell_type": "markdown",
   "metadata": {},
   "source": [
    "## Loading Pre-trained Embeddings from Spacy"
   ]
  },
  {
   "cell_type": "markdown",
   "metadata": {},
   "source": [
    "- For `spacy` language models, not all the versions provide the word vectors as part of the language model package.\n",
    "- For English language models, the medium and large language models come with the word vectors.\n",
    "- We extract the spacy word embedding matrix and map the words in our current corpus vocabulary to get the word vectors.\n",
    "- It is possible that words in our vocabulary do not have a match in spacy language model."
   ]
  },
  {
   "cell_type": "code",
   "execution_count": 29,
   "metadata": {},
   "outputs": [
    {
     "name": "stdout",
     "output_type": "stream",
     "text": [
      "CPU times: user 2.63 s, sys: 974 ms, total: 3.6 s\n",
      "Wall time: 1min 34s\n"
     ]
    }
   ],
   "source": [
    "%%time\n",
    "# Use the N-dimensional word vectors trained on the Common Crawl using the GloVe model\n",
    "# Provided by spaCy (lg = 300 dimensions)\n",
    "\n",
    "import spacy\n",
    "nlp = spacy.load('en_core_web_lg', disable=['parser', 'tag','entity'])"
   ]
  },
  {
   "cell_type": "code",
   "execution_count": 30,
   "metadata": {},
   "outputs": [
    {
     "data": {
      "text/plain": [
       "(10001, 300)"
      ]
     },
     "execution_count": 30,
     "metadata": {},
     "output_type": "execute_result"
    }
   ],
   "source": [
    "## initialize word embedding matrix\n",
    "EMBED_DIM = 300\n",
    "embedding_matrix = np.zeros((VOCAB_SIZE, EMBED_DIM))\n",
    "embedding_matrix.shape"
   ]
  },
  {
   "cell_type": "code",
   "execution_count": 31,
   "metadata": {},
   "outputs": [
    {
     "data": {
      "text/plain": [
       "83309"
      ]
     },
     "execution_count": 31,
     "metadata": {},
     "output_type": "execute_result"
    }
   ],
   "source": [
    "unk_cnt = 0\n",
    "unk_set = set()\n",
    "len(w2id)"
   ]
  },
  {
   "cell_type": "code",
   "execution_count": 32,
   "metadata": {},
   "outputs": [],
   "source": [
    "spacy_w2v = {}\n",
    "spacy_w2v = {nlp.vocab.strings[wid]:wvec for (wid, wvec) in nlp.vocab.vectors.items()}"
   ]
  },
  {
   "cell_type": "code",
   "execution_count": 33,
   "metadata": {},
   "outputs": [
    {
     "data": {
      "text/plain": [
       "array([ 0.27204  , -0.06203  , -0.1884   ,  0.023225 , -0.018158 ,\n",
       "        0.0067192, -0.13877  ,  0.17708  ,  0.17709  ,  2.5882   ],\n",
       "      dtype=float32)"
      ]
     },
     "execution_count": 33,
     "metadata": {},
     "output_type": "execute_result"
    }
   ],
   "source": [
    "spacy_w2v['the'][:10]"
   ]
  },
  {
   "cell_type": "code",
   "execution_count": 34,
   "metadata": {},
   "outputs": [
    {
     "data": {
      "text/plain": [
       "array([ 0.27204  , -0.06203  , -0.1884   ,  0.023225 , -0.018158 ,\n",
       "        0.0067192, -0.13877  ,  0.17708  ,  0.17709  ,  2.5882   ],\n",
       "      dtype=float32)"
      ]
     },
     "execution_count": 34,
     "metadata": {},
     "output_type": "execute_result"
    }
   ],
   "source": [
    "nlp('the').vector[:10]"
   ]
  },
  {
   "cell_type": "code",
   "execution_count": 35,
   "metadata": {},
   "outputs": [
    {
     "name": "stdout",
     "output_type": "stream",
     "text": [
      "None\n"
     ]
    }
   ],
   "source": [
    "print(spacy_w2v.get('次'))"
   ]
  },
  {
   "cell_type": "code",
   "execution_count": 36,
   "metadata": {},
   "outputs": [
    {
     "data": {
      "text/plain": [
       "1"
      ]
     },
     "execution_count": 36,
     "metadata": {},
     "output_type": "execute_result"
    }
   ],
   "source": [
    "w2id['the']"
   ]
  },
  {
   "cell_type": "code",
   "execution_count": 37,
   "metadata": {},
   "outputs": [
    {
     "name": "stdout",
     "output_type": "stream",
     "text": [
      "Total Unkown Words in IMDB: 38\n",
      "CPU times: user 24.9 ms, sys: 1.56 ms, total: 26.5 ms\n",
      "Wall time: 25.2 ms\n"
     ]
    }
   ],
   "source": [
    "%%time\n",
    "unk_cnt = 0\n",
    "unk_set = set()\n",
    "\n",
    "for word in list(w2id.keys())[:10000]:\n",
    "    cur_word_vec = spacy_w2v.get(word)\n",
    "    \n",
    "    if cur_word_vec is not None:\n",
    "        cur_word_id = w2id[word]\n",
    "        embedding_matrix[cur_word_id]=cur_word_vec\n",
    "\n",
    "    else:\n",
    "        unk_cnt +=1\n",
    "        unk_set.add(word)\n",
    "print(\"Total Unkown Words in IMDB:\", unk_cnt)"
   ]
  },
  {
   "cell_type": "code",
   "execution_count": 38,
   "metadata": {
    "scrolled": true
   },
   "outputs": [
    {
     "name": "stdout",
     "output_type": "stream",
     "text": [
      "{'bergmans', 'lubitsch', 'argentos', 'lumet', 'northfork', 'otoole', 'sydow', 'milland', 'preminger', 'ustinov', 'altmans', 'lupino', 'austens', 'keatons', 'fulcis', 'widmark', 'spielbergs', 'hitchcocks', 'harron', 'bernsen', 'branaghs', 'matthau', 'naschy', 'ratso', 'it´s', '\\x97', 'mattei', 'eastwoods', 'dudikoff', 'wynorski', 'sirk', 'gielgud', 'atwill', 'mclaglen', 'gwtw', 'blondell', 'seagals', 'rosemarys'}\n"
     ]
    }
   ],
   "source": [
    "print(unk_set)"
   ]
  },
  {
   "cell_type": "code",
   "execution_count": 39,
   "metadata": {},
   "outputs": [],
   "source": [
    "del spacy_w2v"
   ]
  },
  {
   "cell_type": "markdown",
   "metadata": {},
   "source": [
    "## Loading Pre-trained GloVe Embeddings "
   ]
  },
  {
   "cell_type": "markdown",
   "metadata": {},
   "source": [
    "- Download the GloVe pre-trained embeddings from its [official website](https://nlp.stanford.edu/projects/glove/)\n",
    "- Unzip the file and use the version you are interested.\n",
    "- They differ in terms of the number of embedding dimensions."
   ]
  },
  {
   "cell_type": "code",
   "execution_count": null,
   "metadata": {},
   "outputs": [],
   "source": []
  },
  {
   "cell_type": "markdown",
   "metadata": {},
   "source": [
    "## Model Defining"
   ]
  },
  {
   "cell_type": "code",
   "execution_count": 40,
   "metadata": {},
   "outputs": [],
   "source": [
    "## Model Building\n",
    "\n",
    "from keras.models import Sequential\n",
    "from keras.layers import Dense, Embedding, Dropout, SpatialDropout1D, Input, Bidirectional, LSTM\n",
    "\n",
    "LSTM_DIM = 64 # total LSTM units"
   ]
  },
  {
   "cell_type": "code",
   "execution_count": 41,
   "metadata": {},
   "outputs": [],
   "source": [
    "def build_model_lstm():\n",
    "    model = Sequential()\n",
    "#     model.add(Input(shape=(MAX_LEN,)))\n",
    "    model.add(Embedding(VOCAB_SIZE, EMBED_DIM, mask_zero=True))\n",
    "    model.add(SpatialDropout1D(0.2))\n",
    "    model.add(LSTM(LSTM_DIM, dropout=0.2, recurrent_dropout=0.2))\n",
    "    model.add(Dense(1, activation=\"sigmoid\"))\n",
    "    return model\n",
    "def build_model_lstm_pretrained_emb(train_emb=False):\n",
    "    model = Sequential()\n",
    "#     model.add(Input(shape=(MAX_LEN,)))\n",
    "\n",
    "    model.add(Embedding(VOCAB_SIZE, EMBED_DIM, mask_zero=True,\n",
    "                        weights=[embedding_matrix], trainable=train_emb))\n",
    "    model.add(SpatialDropout1D(0.2))\n",
    "    model.add(LSTM(LSTM_DIM, dropout=0.2, recurrent_dropout=0.2))\n",
    "    model.add(Dense(1, activation=\"sigmoid\"))\n",
    "    return model\n",
    "\n",
    "def build_model_bilstm_pretrain_emb(train_emb=False):\n",
    "    model = Sequential()\n",
    "    model.add(Embedding(VOCAB_SIZE, EMBED_DIM, mask_zero=True, \n",
    "                       weights=[embedding_matrix], trainable=train_emb))\n",
    "    model.add(Bidirectional(LSTM(LSTM_DIM, return_sequences=True, dropout=0.5)))\n",
    "    model.add(Bidirectional(LSTM(LSTM_DIM, dropout=0.25)))\n",
    "    model.add(Dense(1, activation=\"sigmoid\"))\n",
    "    return model"
   ]
  },
  {
   "cell_type": "code",
   "execution_count": 42,
   "metadata": {},
   "outputs": [],
   "source": [
    "model1 = build_model_lstm()"
   ]
  },
  {
   "cell_type": "code",
   "execution_count": 44,
   "metadata": {},
   "outputs": [],
   "source": [
    "model2_1 = build_model_lstm_pretrained_emb(train_emb=False)\n",
    "model2_2 = build_model_lstm_pretrained_emb(train_emb=True)\n",
    "model3_1 = build_model_bilstm_pretrain_emb(train_emb=False)\n",
    "model3_2 = build_model_bilstm_pretrain_emb(train_emb=True)"
   ]
  },
  {
   "cell_type": "code",
   "execution_count": 45,
   "metadata": {},
   "outputs": [],
   "source": [
    "model1.compile(loss=\"binary_crossentropy\", optimizer=\"adam\",\n",
    "              metrics=[\"accuracy\", \"Precision\", \"Recall\"])"
   ]
  },
  {
   "cell_type": "code",
   "execution_count": 46,
   "metadata": {},
   "outputs": [],
   "source": [
    "model2_1.compile(loss=\"binary_crossentropy\", optimizer=\"adam\",\n",
    "              metrics=[\"accuracy\", \"Precision\", \"Recall\"])\n",
    "model2_2.compile(loss=\"binary_crossentropy\", optimizer=\"adam\",\n",
    "              metrics=[\"accuracy\", \"Precision\", \"Recall\"])"
   ]
  },
  {
   "cell_type": "code",
   "execution_count": 47,
   "metadata": {},
   "outputs": [],
   "source": [
    "model3_1.compile(loss=\"binary_crossentropy\", optimizer=\"adam\",\n",
    "              metrics=[\"accuracy\", \"Precision\", \"Recall\"])\n",
    "model3_2.compile(loss=\"binary_crossentropy\", optimizer=\"adam\",\n",
    "              metrics=[\"accuracy\", \"Precision\", \"Recall\"])"
   ]
  },
  {
   "cell_type": "code",
   "execution_count": 48,
   "metadata": {},
   "outputs": [
    {
     "name": "stdout",
     "output_type": "stream",
     "text": [
      "Model: \"sequential_1\"\n",
      "_________________________________________________________________\n",
      "Layer (type)                 Output Shape              Param #   \n",
      "=================================================================\n",
      "embedding_1 (Embedding)      (None, None, 300)         3000300   \n",
      "_________________________________________________________________\n",
      "spatial_dropout1d_1 (Spatial (None, None, 300)         0         \n",
      "_________________________________________________________________\n",
      "lstm_1 (LSTM)                (None, 64)                93440     \n",
      "_________________________________________________________________\n",
      "dense_1 (Dense)              (None, 1)                 65        \n",
      "=================================================================\n",
      "Total params: 3,093,805\n",
      "Trainable params: 93,505\n",
      "Non-trainable params: 3,000,300\n",
      "_________________________________________________________________\n"
     ]
    }
   ],
   "source": [
    "model2_1.summary()"
   ]
  },
  {
   "cell_type": "markdown",
   "metadata": {},
   "source": [
    "## Model Fitting"
   ]
  },
  {
   "cell_type": "code",
   "execution_count": 49,
   "metadata": {},
   "outputs": [],
   "source": [
    "EPOCH= 10\n",
    "BATCH_SIZE = 256"
   ]
  },
  {
   "cell_type": "code",
   "execution_count": 50,
   "metadata": {},
   "outputs": [
    {
     "name": "stdout",
     "output_type": "stream",
     "text": [
      "Epoch 1/10\n",
      "79/79 [==============================] - 89s 1s/step - loss: 0.5891 - accuracy: 0.6652 - precision: 0.6797 - recall: 0.5965 - val_loss: 0.3201 - val_accuracy: 0.8696 - val_precision: 0.8798 - val_recall: 0.8582\n",
      "Epoch 2/10\n",
      "79/79 [==============================] - 79s 1s/step - loss: 0.2407 - accuracy: 0.9071 - precision: 0.9099 - recall: 0.9054 - val_loss: 0.3272 - val_accuracy: 0.8688 - val_precision: 0.8282 - val_recall: 0.9329\n",
      "Epoch 3/10\n",
      "79/79 [==============================] - 77s 980ms/step - loss: 0.1729 - accuracy: 0.9391 - precision: 0.9360 - recall: 0.9434 - val_loss: 0.3755 - val_accuracy: 0.8604 - val_precision: 0.8067 - val_recall: 0.9503\n",
      "Epoch 4/10\n",
      "79/79 [==============================] - 78s 981ms/step - loss: 0.1314 - accuracy: 0.9531 - precision: 0.9487 - recall: 0.9588 - val_loss: 0.3883 - val_accuracy: 0.8624 - val_precision: 0.9055 - val_recall: 0.8113\n",
      "Epoch 5/10\n",
      "79/79 [==============================] - 77s 969ms/step - loss: 0.0973 - accuracy: 0.9690 - precision: 0.9696 - recall: 0.9684 - val_loss: 0.4763 - val_accuracy: 0.8578 - val_precision: 0.8153 - val_recall: 0.9277\n",
      "Epoch 6/10\n",
      "79/79 [==============================] - 77s 970ms/step - loss: 0.0911 - accuracy: 0.9688 - precision: 0.9674 - recall: 0.9705 - val_loss: 0.4560 - val_accuracy: 0.8626 - val_precision: 0.8692 - val_recall: 0.8558\n",
      "Epoch 7/10\n",
      "79/79 [==============================] - 77s 976ms/step - loss: 0.0645 - accuracy: 0.9800 - precision: 0.9803 - recall: 0.9799 - val_loss: 0.5410 - val_accuracy: 0.8586 - val_precision: 0.8752 - val_recall: 0.8387\n",
      "Epoch 8/10\n",
      "79/79 [==============================] - 77s 971ms/step - loss: 0.0448 - accuracy: 0.9875 - precision: 0.9888 - recall: 0.9864 - val_loss: 0.5722 - val_accuracy: 0.8624 - val_precision: 0.8749 - val_recall: 0.8478\n",
      "Epoch 9/10\n",
      "79/79 [==============================] - 77s 975ms/step - loss: 0.1117 - accuracy: 0.9598 - precision: 0.9628 - recall: 0.9577 - val_loss: 0.5688 - val_accuracy: 0.8582 - val_precision: 0.8714 - val_recall: 0.8427\n",
      "Epoch 10/10\n",
      "79/79 [==============================] - 79s 1s/step - loss: 0.0519 - accuracy: 0.9832 - precision: 0.9849 - recall: 0.9816 - val_loss: 0.5477 - val_accuracy: 0.8618 - val_precision: 0.8637 - val_recall: 0.8613\n"
     ]
    }
   ],
   "source": [
    "## Model fitting\n",
    "history1 = model1.fit(X_train_seq_pad, y_train,\n",
    "                   epochs=EPOCH,\n",
    "                   batch_size= BATCH_SIZE,\n",
    "                   validation_split=0.2)\n",
    "\n",
    "# Comment out to skip"
   ]
  },
  {
   "cell_type": "code",
   "execution_count": 51,
   "metadata": {},
   "outputs": [
    {
     "name": "stdout",
     "output_type": "stream",
     "text": [
      "Epoch 1/10\n",
      "79/79 [==============================] - 63s 756ms/step - loss: 0.6273 - accuracy: 0.6275 - precision: 0.6289 - recall: 0.6402 - val_loss: 0.4815 - val_accuracy: 0.7852 - val_precision: 0.8613 - val_recall: 0.6834\n",
      "Epoch 2/10\n",
      "79/79 [==============================] - 59s 749ms/step - loss: 0.4640 - accuracy: 0.7882 - precision: 0.8053 - recall: 0.7588 - val_loss: 0.4126 - val_accuracy: 0.8226 - val_precision: 0.7964 - val_recall: 0.8701\n",
      "Epoch 3/10\n",
      "79/79 [==============================] - 60s 761ms/step - loss: 0.4186 - accuracy: 0.8139 - precision: 0.8106 - recall: 0.8263 - val_loss: 0.4275 - val_accuracy: 0.8290 - val_precision: 0.8324 - val_recall: 0.8268\n",
      "Epoch 4/10\n",
      "79/79 [==============================] - 62s 781ms/step - loss: 0.3907 - accuracy: 0.8287 - precision: 0.8351 - recall: 0.8229 - val_loss: 0.3448 - val_accuracy: 0.8502 - val_precision: 0.8461 - val_recall: 0.8586\n",
      "Epoch 5/10\n",
      "79/79 [==============================] - 60s 763ms/step - loss: 0.3513 - accuracy: 0.8499 - precision: 0.8576 - recall: 0.8457 - val_loss: 0.3557 - val_accuracy: 0.8510 - val_precision: 0.8488 - val_recall: 0.8566\n",
      "Epoch 6/10\n",
      "79/79 [==============================] - 60s 760ms/step - loss: 0.3449 - accuracy: 0.8486 - precision: 0.8534 - recall: 0.8442 - val_loss: 0.3282 - val_accuracy: 0.8596 - val_precision: 0.8745 - val_recall: 0.8419\n",
      "Epoch 7/10\n",
      "79/79 [==============================] - 62s 785ms/step - loss: 0.3263 - accuracy: 0.8592 - precision: 0.8634 - recall: 0.8561 - val_loss: 0.3385 - val_accuracy: 0.8540 - val_precision: 0.8130 - val_recall: 0.9221\n",
      "Epoch 8/10\n",
      "79/79 [==============================] - 71s 895ms/step - loss: 0.3131 - accuracy: 0.8667 - precision: 0.8652 - recall: 0.8696 - val_loss: 0.3263 - val_accuracy: 0.8670 - val_precision: 0.8849 - val_recall: 0.8458\n",
      "Epoch 9/10\n",
      "79/79 [==============================] - 66s 834ms/step - loss: 0.3023 - accuracy: 0.8734 - precision: 0.8783 - recall: 0.8720 - val_loss: 0.3066 - val_accuracy: 0.8680 - val_precision: 0.8933 - val_recall: 0.8379\n",
      "Epoch 10/10\n",
      "79/79 [==============================] - 66s 840ms/step - loss: 0.2849 - accuracy: 0.8789 - precision: 0.8785 - recall: 0.8762 - val_loss: 0.3113 - val_accuracy: 0.8756 - val_precision: 0.8511 - val_recall: 0.9126\n"
     ]
    }
   ],
   "source": [
    "## Model fitting\n",
    "history2_1 = model2_1.fit(X_train_seq_pad, y_train,\n",
    "                   epochs=EPOCH,\n",
    "                   batch_size= BATCH_SIZE,\n",
    "                   validation_split=0.2)\n",
    "\n",
    "# Comment out to skip"
   ]
  },
  {
   "cell_type": "code",
   "execution_count": 52,
   "metadata": {},
   "outputs": [
    {
     "name": "stdout",
     "output_type": "stream",
     "text": [
      "Epoch 1/10\n",
      "79/79 [==============================] - 178s 2s/step - loss: 0.5951 - accuracy: 0.6543 - precision: 0.6592 - recall: 0.6480 - val_loss: 0.4429 - val_accuracy: 0.8008 - val_precision: 0.7555 - val_recall: 0.8935\n",
      "Epoch 2/10\n",
      "79/79 [==============================] - 158s 2s/step - loss: 0.4037 - accuracy: 0.8161 - precision: 0.8113 - recall: 0.8258 - val_loss: 0.3704 - val_accuracy: 0.8474 - val_precision: 0.8486 - val_recall: 0.8482\n",
      "Epoch 3/10\n",
      "79/79 [==============================] - 166s 2s/step - loss: 0.3923 - accuracy: 0.8210 - precision: 0.8176 - recall: 0.8292 - val_loss: 0.4165 - val_accuracy: 0.8106 - val_precision: 0.7929 - val_recall: 0.8443\n",
      "Epoch 4/10\n",
      "79/79 [==============================] - 159s 2s/step - loss: 0.3724 - accuracy: 0.8366 - precision: 0.8322 - recall: 0.8425 - val_loss: 0.3814 - val_accuracy: 0.8280 - val_precision: 0.8940 - val_recall: 0.7469\n",
      "Epoch 5/10\n",
      "79/79 [==============================] - 157s 2s/step - loss: 0.3656 - accuracy: 0.8411 - precision: 0.8601 - recall: 0.8176 - val_loss: 0.3670 - val_accuracy: 0.8552 - val_precision: 0.8441 - val_recall: 0.8737\n",
      "Epoch 6/10\n",
      "79/79 [==============================] - 161s 2s/step - loss: 0.3303 - accuracy: 0.8593 - precision: 0.8663 - recall: 0.8551 - val_loss: 0.3332 - val_accuracy: 0.8596 - val_precision: 0.8676 - val_recall: 0.8510\n",
      "Epoch 7/10\n",
      "79/79 [==============================] - 171s 2s/step - loss: 0.3216 - accuracy: 0.8623 - precision: 0.8713 - recall: 0.8531 - val_loss: 0.3161 - val_accuracy: 0.8664 - val_precision: 0.8403 - val_recall: 0.9070\n",
      "Epoch 8/10\n",
      "79/79 [==============================] - 172s 2s/step - loss: 0.3035 - accuracy: 0.8746 - precision: 0.8784 - recall: 0.8687 - val_loss: 0.3060 - val_accuracy: 0.8768 - val_precision: 0.8732 - val_recall: 0.8836\n",
      "Epoch 9/10\n",
      "79/79 [==============================] - 169s 2s/step - loss: 0.2966 - accuracy: 0.8749 - precision: 0.8793 - recall: 0.8710 - val_loss: 0.3007 - val_accuracy: 0.8792 - val_precision: 0.8694 - val_recall: 0.8943\n",
      "Epoch 10/10\n",
      "79/79 [==============================] - 166s 2s/step - loss: 0.2829 - accuracy: 0.8801 - precision: 0.8789 - recall: 0.8839 - val_loss: 0.2940 - val_accuracy: 0.8764 - val_precision: 0.8495 - val_recall: 0.9170\n"
     ]
    }
   ],
   "source": [
    "history3_1 = model3_1.fit(X_train_seq_pad, y_train,\n",
    "                   epochs=EPOCH,\n",
    "                   batch_size= BATCH_SIZE,\n",
    "                   validation_split=0.2)"
   ]
  },
  {
   "cell_type": "markdown",
   "metadata": {},
   "source": [
    "## Model Evaluation"
   ]
  },
  {
   "cell_type": "code",
   "execution_count": 53,
   "metadata": {},
   "outputs": [],
   "source": [
    "import matplotlib.pyplot as plt\n",
    "import matplotlib\n",
    "import pandas as pd\n",
    "# Plotting results\n",
    "def plot1(history):\n",
    "\n",
    "    matplotlib.rcParams['figure.dpi'] = 100\n",
    "    acc = history.history['accuracy']\n",
    "    val_acc = history.history['val_accuracy']\n",
    "    loss = history.history['loss']\n",
    "    val_loss = history.history['val_loss']\n",
    "\n",
    "    epochs = range(1, len(acc)+1)\n",
    "    ## Accuracy plot\n",
    "    plt.plot(epochs, acc, 'bo', label='Training acc')\n",
    "    plt.plot(epochs, val_acc, 'b', label='Validation acc')\n",
    "    plt.title('Training and validation accuracy')\n",
    "    plt.legend()\n",
    "    ## Loss plot\n",
    "    plt.figure()\n",
    "\n",
    "    plt.plot(epochs, loss, 'bo', label='Training loss')\n",
    "    plt.plot(epochs, val_loss, 'b', label='Validation loss')\n",
    "    plt.title('Training and validation loss')\n",
    "    plt.legend()\n",
    "    plt.show()\n",
    "\n",
    "    \n",
    "def plot2(history):\n",
    "    pd.DataFrame(history.history).plot(figsize=(8,5))\n",
    "    plt.grid(True)\n",
    "    #plt.gca().set_ylim(0,1)\n",
    "    plt.show()"
   ]
  },
  {
   "cell_type": "code",
   "execution_count": 55,
   "metadata": {},
   "outputs": [
    {
     "data": {
      "image/png": "[encoded data removed]",
      "text/plain": [
       "<Figure size 600x400 with 1 Axes>"
      ]
     },
     "metadata": {
      "needs_background": "light"
     },
     "output_type": "display_data"
    },
    {
     "data": {
      "image/png": "[encoded data removed]",
      "text/plain": [
       "<Figure size 600x400 with 1 Axes>"
      ]
     },
     "metadata": {
      "needs_background": "light"
     },
     "output_type": "display_data"
    }
   ],
   "source": [
    "plot1(history1)"
   ]
  },
  {
   "cell_type": "code",
   "execution_count": 57,
   "metadata": {},
   "outputs": [
    {
     "data": {
      "image/png": "[encoded data removed]",
      "text/plain": [
       "<Figure size 600x400 with 1 Axes>"
      ]
     },
     "metadata": {
      "needs_background": "light"
     },
     "output_type": "display_data"
    },
    {
     "data": {
      "image/png": "[encoded data removed]",
      "text/plain": [
       "<Figure size 600x400 with 1 Axes>"
      ]
     },
     "metadata": {
      "needs_background": "light"
     },
     "output_type": "display_data"
    },
    {
     "data": {
      "image/png": "[encoded data removed]",
      "text/plain": [
       "<Figure size 600x400 with 1 Axes>"
      ]
     },
     "metadata": {
      "needs_background": "light"
     },
     "output_type": "display_data"
    },
    {
     "data": {
      "image/png": "[encoded data removed]",
      "text/plain": [
       "<Figure size 600x400 with 1 Axes>"
      ]
     },
     "metadata": {
      "needs_background": "light"
     },
     "output_type": "display_data"
    }
   ],
   "source": [
    "plot1(history2_1)\n",
    "plot1(history3_1)"
   ]
  },
  {
   "cell_type": "markdown",
   "metadata": {},
   "source": [
    "## Model Saving"
   ]
  },
  {
   "cell_type": "code",
   "execution_count": 58,
   "metadata": {},
   "outputs": [],
   "source": [
    "# # model.save('../data/sent-analysis-lstm-v1.h5')\n",
    "# import keras\n",
    "# model = keras.models.load_model('../data/sent-analysis-lstm-v1.h5')"
   ]
  },
  {
   "cell_type": "markdown",
   "metadata": {},
   "source": [
    "## Model Prediction"
   ]
  },
  {
   "cell_type": "code",
   "execution_count": 59,
   "metadata": {},
   "outputs": [],
   "source": [
    "# y_pred = model3_1.predict_classes(X_test_seq_pad)"
   ]
  },
  {
   "cell_type": "code",
   "execution_count": null,
   "metadata": {},
   "outputs": [],
   "source": []
  },
  {
   "cell_type": "code",
   "execution_count": 60,
   "metadata": {
    "scrolled": true
   },
   "outputs": [],
   "source": [
    "## Prediction and model performance\n",
    "y_pred = (model3_1.predict(X_test_seq_pad) > 0.5).astype(\"int32\")\n"
   ]
  },
  {
   "cell_type": "code",
   "execution_count": 61,
   "metadata": {},
   "outputs": [
    {
     "data": {
      "text/plain": [
       "array([[0],\n",
       "       [1],\n",
       "       [1],\n",
       "       [0],\n",
       "       [0],\n",
       "       [0],\n",
       "       [1],\n",
       "       [0],\n",
       "       [0],\n",
       "       [1]], dtype=int32)"
      ]
     },
     "execution_count": 61,
     "metadata": {},
     "output_type": "execute_result"
    }
   ],
   "source": [
    "y_pred[:10]"
   ]
  },
  {
   "cell_type": "code",
   "execution_count": 62,
   "metadata": {},
   "outputs": [],
   "source": [
    "# functions from Text Analytics with Python book\n",
    "def get_metrics(true_labels, predicted_labels):\n",
    "    \n",
    "    print('Accuracy:', np.round(\n",
    "                        metrics.accuracy_score(true_labels, \n",
    "                                               predicted_labels),\n",
    "                        4))\n",
    "    print('Precision:', np.round(\n",
    "                        metrics.precision_score(true_labels, \n",
    "                                               predicted_labels,\n",
    "                                               average='weighted'),\n",
    "                        4))\n",
    "    print('Recall:', np.round(\n",
    "                        metrics.recall_score(true_labels, \n",
    "                                               predicted_labels,\n",
    "                                               average='weighted'),\n",
    "                        4))\n",
    "    print('F1 Score:', np.round(\n",
    "                        metrics.f1_score(true_labels, \n",
    "                                               predicted_labels,\n",
    "                                               average='weighted'),\n",
    "                        4))\n",
    "\n",
    "def display_confusion_matrix(true_labels, predicted_labels, classes=[1,0]):\n",
    "    \n",
    "    total_classes = len(classes)\n",
    "    level_labels = [total_classes*[0], list(range(total_classes))]\n",
    "\n",
    "    cm = metrics.confusion_matrix(y_true=true_labels, y_pred=predicted_labels, \n",
    "                                  labels=classes)\n",
    "    cm_frame = pd.DataFrame(data=cm, \n",
    "                            columns=pd.MultiIndex(levels=[['Predicted:'], classes], \n",
    "                                                  codes=level_labels), \n",
    "                            index=pd.MultiIndex(levels=[['Actual:'], classes], \n",
    "                                                codes=level_labels)) \n",
    "    print(cm_frame) \n",
    "def display_classification_report(true_labels, predicted_labels, classes=[1,0]):\n",
    "\n",
    "    report = metrics.classification_report(y_true=true_labels, \n",
    "                                           y_pred=predicted_labels, \n",
    "                                           labels=classes) \n",
    "    print(report)\n",
    "    \n",
    "    \n",
    "    \n",
    "def display_model_performance_metrics(true_labels, predicted_labels, classes=[1,0]):\n",
    "    print('Model Performance metrics:')\n",
    "    print('-'*30)\n",
    "    get_metrics(true_labels=true_labels, predicted_labels=predicted_labels)\n",
    "    print('\\nModel Classification report:')\n",
    "    print('-'*30)\n",
    "    display_classification_report(true_labels=true_labels, predicted_labels=predicted_labels, \n",
    "                                  classes=classes)\n",
    "    print('\\nPrediction Confusion Matrix:')\n",
    "    print('-'*30)\n",
    "    display_confusion_matrix(true_labels=true_labels, predicted_labels=predicted_labels, \n",
    "                             classes=classes)\n",
    "from sklearn import metrics\n",
    "import pandas as pd"
   ]
  },
  {
   "cell_type": "code",
   "execution_count": 63,
   "metadata": {},
   "outputs": [
    {
     "name": "stdout",
     "output_type": "stream",
     "text": [
      "Model Performance metrics:\n",
      "------------------------------\n",
      "Accuracy: 0.8859\n",
      "Precision: 0.8874\n",
      "Recall: 0.8859\n",
      "F1 Score: 0.8858\n",
      "\n",
      "Model Classification report:\n",
      "------------------------------\n",
      "              precision    recall  f1-score   support\n",
      "\n",
      "           0       0.91      0.86      0.88     12574\n",
      "           1       0.86      0.92      0.89     12426\n",
      "\n",
      "    accuracy                           0.89     25000\n",
      "   macro avg       0.89      0.89      0.89     25000\n",
      "weighted avg       0.89      0.89      0.89     25000\n",
      "\n",
      "\n",
      "Prediction Confusion Matrix:\n",
      "------------------------------\n",
      "          Predicted:       \n",
      "                   0      1\n",
      "Actual: 0      10762   1812\n",
      "        1       1040  11386\n"
     ]
    }
   ],
   "source": [
    "display_model_performance_metrics(y_test, y_pred.flatten(), classes=[0,1])"
   ]
  }
 ],
 "metadata": {
  "kernelspec": {
   "display_name": "python-notes",
   "language": "python",
   "name": "python-notes"
  },
  "language_info": {
   "codemirror_mode": {
    "name": "ipython",
    "version": 3
   },
   "file_extension": ".py",
   "mimetype": "text/x-python",
   "name": "python",
   "nbconvert_exporter": "python",
   "pygments_lexer": "ipython3",
   "version": "3.7.6"
  },
  "toc": {
   "base_numbering": 1,
   "nav_menu": {},
   "number_sections": false,
   "sideBar": true,
   "skip_h1_title": false,
   "title_cell": "Table of Contents",
   "title_sidebar": "Contents",
   "toc_cell": false,
   "toc_position": {},
   "toc_section_display": true,
   "toc_window_display": true
  },
  "varInspector": {
   "cols": {
    "lenName": 16,
    "lenType": 16,
    "lenVar": 40
   },
   "kernels_config": {
    "python": {
     "delete_cmd_postfix": "",
     "delete_cmd_prefix": "del ",
     "library": "var_list.py",
     "varRefreshCmd": "print(var_dic_list())"
    },
    "r": {
     "delete_cmd_postfix": ") ",
     "delete_cmd_prefix": "rm(",
     "library": "var_list.r",
     "varRefreshCmd": "cat(var_dic_list()) "
    }
   },
   "types_to_exclude": [
    "module",
    "function",
    "builtin_function_or_method",
    "instance",
    "_Feature"
   ],
   "window_display": false
  }
 },
 "nbformat": 4,
 "nbformat_minor": 4
}
