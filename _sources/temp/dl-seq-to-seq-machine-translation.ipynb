{
 "cells": [
  {
   "cell_type": "markdown",
   "metadata": {},
   "source": [
    "# Encoder-Decoder Sequence Model"
   ]
  },
  {
   "cell_type": "markdown",
   "metadata": {},
   "source": [
    "- This tutorial shows how to create a encoder-decoder sequence model for character-based translation.\n",
    "- The input sequences are English sequences.\n",
    "- The target sequences are Chinese sequences."
   ]
  },
  {
   "cell_type": "markdown",
   "metadata": {},
   "source": [
    "## Set up Dependencies"
   ]
  },
  {
   "cell_type": "code",
   "execution_count": 1,
   "metadata": {},
   "outputs": [],
   "source": [
    "import tensorflow\n",
    "from tensorflow import keras\n",
    "from keras.models import Model\n",
    "from keras.layers import Input, LSTM, Dense, Masking, Embedding, TimeDistributed\n",
    "import numpy as np"
   ]
  },
  {
   "cell_type": "code",
   "execution_count": 2,
   "metadata": {},
   "outputs": [
    {
     "name": "stdout",
     "output_type": "stream",
     "text": [
      "Tensorflow Version:  2.4.1\n"
     ]
    }
   ],
   "source": [
    "print('Tensorflow Version: ', tensorflow.__version__)"
   ]
  },
  {
   "cell_type": "markdown",
   "metadata": {},
   "source": [
    "## DL Hyperparameters"
   ]
  },
  {
   "cell_type": "code",
   "execution_count": 3,
   "metadata": {},
   "outputs": [],
   "source": [
    "batch_size = 256  # Batch size for training.\n",
    "epochs = 100 # Number of epochs to train for.\n",
    "latent_dim = 256  # Latent dimensionality of the encoding space.\n",
    "num_samples = 10000  # Number of samples to train on.\n",
    "embed_dim = 64"
   ]
  },
  {
   "cell_type": "markdown",
   "metadata": {},
   "source": [
    "## Data Preprocessing"
   ]
  },
  {
   "cell_type": "markdown",
   "metadata": {},
   "source": [
    "- Load the data\n",
    "- Pad the target sequences with sequence-initial and sequence-final characters\n",
    "- Create dictionary of two languages\n",
    "- Find max_len and "
   ]
  },
  {
   "cell_type": "code",
   "execution_count": 4,
   "metadata": {},
   "outputs": [
    {
     "name": "stdout",
     "output_type": "stream",
     "text": [
      "Number of lines: 19578\n",
      "Number of samples: 10000\n",
      "Number of unique input tokens (char): 73\n",
      "Number of unique output tokens (char): 2640\n",
      "Max sequence length for inputs: 31\n",
      "Max sequence length for outputs: 22\n"
     ]
    }
   ],
   "source": [
    "# Path to the data txt file on disk.\n",
    "data_path = '../../../RepositoryData/data/cmn.txt'\n",
    "\n",
    "# Vectorize the data.\n",
    "input_texts = []\n",
    "target_texts = []\n",
    "input_characters = set()\n",
    "target_characters = set()\n",
    "\n",
    "with open(data_path, 'r', encoding='utf-8') as f:\n",
    "    lines = f.read().split('\\n')\n",
    "for line in lines[: min(num_samples, len(lines) - 1)]:\n",
    "    input_text, target_text = line.split('\\t')\n",
    "    # We use \"tab\" as the \"start sequence\" character\n",
    "    # for the targets, and \"\\n\" as \"end sequence\" character.\n",
    "    target_text = '\\t' + target_text + '\\n'\n",
    "    input_texts.append(input_text)\n",
    "    target_texts.append(target_text)\n",
    "    for char in input_text:\n",
    "        if char not in input_characters:\n",
    "            input_characters.add(char)\n",
    "    for char in target_text:\n",
    "        if char not in target_characters:\n",
    "            target_characters.add(char)\n",
    "\n",
    "# Sort Dictionary\n",
    "input_characters = sorted(list(input_characters))\n",
    "target_characters = sorted(list(target_characters))\n",
    "num_encoder_tokens = len(input_characters)\n",
    "num_decoder_tokens = len(target_characters)\n",
    "\n",
    "# Find maxinum sent lengths \n",
    "max_encoder_seq_length = max([len(txt) for txt in input_texts])\n",
    "max_decoder_seq_length = max([len(txt) for txt in target_texts])\n",
    "\n",
    "print('Number of lines:', len(lines))\n",
    "print('Number of samples:', len(input_texts))\n",
    "print('Number of unique input tokens (char):', num_encoder_tokens)\n",
    "print('Number of unique output tokens (char):', num_decoder_tokens)\n",
    "print('Max sequence length for inputs:', max_encoder_seq_length)\n",
    "print('Max sequence length for outputs:', max_decoder_seq_length)"
   ]
  },
  {
   "cell_type": "markdown",
   "metadata": {},
   "source": [
    "## Keras Processing"
   ]
  },
  {
   "cell_type": "markdown",
   "metadata": {},
   "source": [
    "### Text to Sequences"
   ]
  },
  {
   "cell_type": "code",
   "execution_count": 5,
   "metadata": {},
   "outputs": [],
   "source": [
    "## input texts\n",
    "input_tokenizer = keras.preprocessing.text.Tokenizer(oov_token='UNK', char_level=True, filters=None, lower=False)\n",
    "input_tokenizer.fit_on_texts(input_texts)\n",
    "encoder_input_sequences = input_tokenizer.texts_to_sequences(input_texts)\n",
    "input_maxlen = np.max([len(l) for l in encoder_input_sequences])\n",
    "encoder_input_sequences = keras.preprocessing.sequence.pad_sequences(encoder_input_sequences, padding='post', maxlen=input_maxlen)\n",
    "\n",
    "## target texts\n",
    "\n",
    "target_tokenizer = keras.preprocessing.text.Tokenizer(oov_token='UNK', char_level=True, filters=None, lower=False)\n",
    "target_tokenizer.fit_on_texts(target_texts)\n",
    "target_sequences = target_tokenizer.texts_to_sequences(target_texts)\n",
    "target_maxlen = np.max([len(l) for l in target_sequences])\n",
    "decoder_sequences = keras.preprocessing.sequence.pad_sequences(target_sequences, padding='post', maxlen = target_maxlen)"
   ]
  },
  {
   "cell_type": "code",
   "execution_count": 6,
   "metadata": {},
   "outputs": [
    {
     "name": "stdout",
     "output_type": "stream",
     "text": [
      "(10000, 31)\n",
      "(10000, 22)\n"
     ]
    }
   ],
   "source": [
    "# Shapes of Input and Target Sequences\n",
    "print(encoder_input_sequences.shape)\n",
    "print(decoder_sequences.shape)"
   ]
  },
  {
   "cell_type": "code",
   "execution_count": 7,
   "metadata": {},
   "outputs": [
    {
     "name": "stdout",
     "output_type": "stream",
     "text": [
      "75\n",
      "2642\n"
     ]
    }
   ],
   "source": [
    "# ### vocab size\n",
    "input_vsize = max(input_tokenizer.index_word.keys()) + 1\n",
    "target_vsize = max(target_tokenizer.index_word.keys()) + 1\n",
    "print(input_vsize)\n",
    "print(target_vsize)"
   ]
  },
  {
   "cell_type": "code",
   "execution_count": 8,
   "metadata": {},
   "outputs": [
    {
     "name": "stdout",
     "output_type": "stream",
     "text": [
      "73\n",
      "2640\n"
     ]
    }
   ],
   "source": [
    "print(num_encoder_tokens)\n",
    "print(num_decoder_tokens)\n",
    "\n",
    "## The differences between the tokenizer vocab size and the num_encoder_tokens\n",
    "## came from the padding and unknown character"
   ]
  },
  {
   "cell_type": "markdown",
   "metadata": {},
   "source": [
    "### One-hot Encoding"
   ]
  },
  {
   "cell_type": "code",
   "execution_count": 9,
   "metadata": {},
   "outputs": [],
   "source": [
    "encoder_input_data = keras.utils.to_categorical(encoder_input_sequences, num_classes=input_vsize)\n",
    "decoder_data = keras.utils.to_categorical(decoder_sequences, num_classes=target_vsize)\n",
    "\n",
    "decoder_input_data = decoder_data[:, :-1, :]\n",
    "decoder_target_data = decoder_data[:,1:,:]"
   ]
  },
  {
   "cell_type": "code",
   "execution_count": 10,
   "metadata": {},
   "outputs": [
    {
     "name": "stdout",
     "output_type": "stream",
     "text": [
      "(10000, 31, 75)\n",
      "(10000, 21, 2642)\n",
      "(10000, 21, 2642)\n"
     ]
    }
   ],
   "source": [
    "print(encoder_input_data.shape)\n",
    "print(decoder_input_data.shape)\n",
    "print(decoder_target_data.shape)"
   ]
  },
  {
   "cell_type": "markdown",
   "metadata": {},
   "source": [
    "### Indices of Word Tokens"
   ]
  },
  {
   "cell_type": "code",
   "execution_count": 11,
   "metadata": {},
   "outputs": [],
   "source": [
    "reverse_input_char_index = dict(\n",
    "    (char, i) for char, i in enumerate(input_tokenizer.word_index))\n",
    "\n",
    "reverse_target_char_index = dict(\n",
    "    (char, i) for char, i in enumerate(target_tokenizer.word_index))\n",
    "\n",
    "input_token_index = dict(\n",
    "    (i, char) for char, i in enumerate(input_tokenizer.word_index))\n",
    "\n",
    "target_token_index = dict(\n",
    "    (i, char) for char, i in enumerate(target_tokenizer.word_index))"
   ]
  },
  {
   "cell_type": "code",
   "execution_count": 12,
   "metadata": {},
   "outputs": [
    {
     "data": {
      "text/plain": [
       "array([30,  8, 12,  0,  0,  0,  0,  0,  0,  0,  0,  0,  0,  0,  0,  0,  0,\n",
       "        0,  0,  0,  0,  0,  0,  0,  0,  0,  0,  0,  0,  0,  0],\n",
       "      dtype=int32)"
      ]
     },
     "execution_count": 12,
     "metadata": {},
     "output_type": "execute_result"
    }
   ],
   "source": [
    "encoder_input_sequences[0]"
   ]
  },
  {
   "cell_type": "code",
   "execution_count": 13,
   "metadata": {},
   "outputs": [
    {
     "data": {
      "text/plain": [
       "array([[0., 0., 0., 0., 0., 0., 0., 0., 0., 0., 0., 0., 0., 0., 0., 0.,\n",
       "        0., 0., 0., 0., 0., 0., 0., 0., 0., 0., 0., 0., 0., 0., 1., 0.,\n",
       "        0., 0., 0., 0., 0., 0., 0., 0., 0., 0., 0., 0., 0., 0., 0., 0.,\n",
       "        0., 0., 0., 0., 0., 0., 0., 0., 0., 0., 0., 0., 0., 0., 0., 0.,\n",
       "        0., 0., 0., 0., 0., 0., 0., 0., 0., 0., 0.],\n",
       "       [0., 0., 0., 0., 0., 0., 0., 0., 1., 0., 0., 0., 0., 0., 0., 0.,\n",
       "        0., 0., 0., 0., 0., 0., 0., 0., 0., 0., 0., 0., 0., 0., 0., 0.,\n",
       "        0., 0., 0., 0., 0., 0., 0., 0., 0., 0., 0., 0., 0., 0., 0., 0.,\n",
       "        0., 0., 0., 0., 0., 0., 0., 0., 0., 0., 0., 0., 0., 0., 0., 0.,\n",
       "        0., 0., 0., 0., 0., 0., 0., 0., 0., 0., 0.],\n",
       "       [0., 0., 0., 0., 0., 0., 0., 0., 0., 0., 0., 0., 1., 0., 0., 0.,\n",
       "        0., 0., 0., 0., 0., 0., 0., 0., 0., 0., 0., 0., 0., 0., 0., 0.,\n",
       "        0., 0., 0., 0., 0., 0., 0., 0., 0., 0., 0., 0., 0., 0., 0., 0.,\n",
       "        0., 0., 0., 0., 0., 0., 0., 0., 0., 0., 0., 0., 0., 0., 0., 0.,\n",
       "        0., 0., 0., 0., 0., 0., 0., 0., 0., 0., 0.],\n",
       "       [1., 0., 0., 0., 0., 0., 0., 0., 0., 0., 0., 0., 0., 0., 0., 0.,\n",
       "        0., 0., 0., 0., 0., 0., 0., 0., 0., 0., 0., 0., 0., 0., 0., 0.,\n",
       "        0., 0., 0., 0., 0., 0., 0., 0., 0., 0., 0., 0., 0., 0., 0., 0.,\n",
       "        0., 0., 0., 0., 0., 0., 0., 0., 0., 0., 0., 0., 0., 0., 0., 0.,\n",
       "        0., 0., 0., 0., 0., 0., 0., 0., 0., 0., 0.],\n",
       "       [1., 0., 0., 0., 0., 0., 0., 0., 0., 0., 0., 0., 0., 0., 0., 0.,\n",
       "        0., 0., 0., 0., 0., 0., 0., 0., 0., 0., 0., 0., 0., 0., 0., 0.,\n",
       "        0., 0., 0., 0., 0., 0., 0., 0., 0., 0., 0., 0., 0., 0., 0., 0.,\n",
       "        0., 0., 0., 0., 0., 0., 0., 0., 0., 0., 0., 0., 0., 0., 0., 0.,\n",
       "        0., 0., 0., 0., 0., 0., 0., 0., 0., 0., 0.]], dtype=float32)"
      ]
     },
     "execution_count": 13,
     "metadata": {},
     "output_type": "execute_result"
    }
   ],
   "source": [
    "encoder_input_data[0,:5,:]"
   ]
  },
  {
   "cell_type": "markdown",
   "metadata": {},
   "source": [
    "## Masking"
   ]
  },
  {
   "cell_type": "markdown",
   "metadata": {},
   "source": [
    "- When we transform the tokens of the input sequences into one-hot encoding, we padded each sequence to a uniform length. The model however has to be informed that some parts of the input sequence are actually padding and should be ignored.\n",
    "- This mechanism is **masking**.\n",
    "- In Keras, there are three ways to introduce input masks:\n",
    "    - Add a `keras.layers.Masking` layer.\n",
    "    - Configure a `keras.layers.Embedding` layer with `mask_zero=True`.\n",
    "    - Pass a `mask` argument manually when calling layers that support this argument (e.g. RNN layers).\n",
    "- In other words, mask-generating layers include `Embedding` and `Masking`"
   ]
  },
  {
   "cell_type": "code",
   "execution_count": 14,
   "metadata": {},
   "outputs": [],
   "source": [
    "def mask_data(data_onehot, mask_value):\n",
    "    for i in range(data_onehot.shape[0]):\n",
    "        for t in range(data_onehot.shape[1]):\n",
    "            if data_onehot[i, t, 0] == 1.0: \n",
    "                data_onehot[i,t,:] = mask_value\n",
    "    return data_onehot"
   ]
  },
  {
   "cell_type": "code",
   "execution_count": 15,
   "metadata": {},
   "outputs": [],
   "source": [
    "mask_value = 9999.0"
   ]
  },
  {
   "cell_type": "code",
   "execution_count": 16,
   "metadata": {},
   "outputs": [],
   "source": [
    "encoder_input_data = mask_data(encoder_input_data, mask_value)\n",
    "decoder_input_data = mask_data(decoder_input_data, mask_value)\n",
    "decoder_target_data = mask_data(decoder_target_data, mask_value)"
   ]
  },
  {
   "cell_type": "code",
   "execution_count": null,
   "metadata": {},
   "outputs": [],
   "source": []
  },
  {
   "cell_type": "code",
   "execution_count": null,
   "metadata": {},
   "outputs": [],
   "source": []
  },
  {
   "cell_type": "code",
   "execution_count": 17,
   "metadata": {},
   "outputs": [
    {
     "data": {
      "text/plain": [
       "(10, 31, 75)"
      ]
     },
     "execution_count": 17,
     "metadata": {},
     "output_type": "execute_result"
    }
   ],
   "source": [
    "m = keras.layers.Masking(mask_value=mask_value, input_shape=(input_maxlen, input_vsize))\n",
    "m2 =keras.layers.Masking(mask_value=mask_value, input_shape=(target_maxlen-1, input_vsize))\n",
    "rnn = keras.layers.SimpleRNN(4,return_sequences=True)\n",
    "\n",
    "x = encoder_input_data[0:10,:,:]\n",
    "y = decoder_target_data[0:10,:,:]\n",
    "x.shape"
   ]
  },
  {
   "cell_type": "code",
   "execution_count": 18,
   "metadata": {},
   "outputs": [
    {
     "data": {
      "text/plain": [
       "<tf.Tensor: shape=(10, 31), dtype=bool, numpy=\n",
       "array([[ True,  True,  True, False, False, False, False, False, False,\n",
       "        False, False, False, False, False, False, False, False, False,\n",
       "        False, False, False, False, False, False, False, False, False,\n",
       "        False, False, False, False],\n",
       "       [ True,  True,  True, False, False, False, False, False, False,\n",
       "        False, False, False, False, False, False, False, False, False,\n",
       "        False, False, False, False, False, False, False, False, False,\n",
       "        False, False, False, False],\n",
       "       [ True,  True,  True,  True, False, False, False, False, False,\n",
       "        False, False, False, False, False, False, False, False, False,\n",
       "        False, False, False, False, False, False, False, False, False,\n",
       "        False, False, False, False],\n",
       "       [ True,  True,  True,  True,  True, False, False, False, False,\n",
       "        False, False, False, False, False, False, False, False, False,\n",
       "        False, False, False, False, False, False, False, False, False,\n",
       "        False, False, False, False],\n",
       "       [ True,  True,  True,  True,  True,  True, False, False, False,\n",
       "        False, False, False, False, False, False, False, False, False,\n",
       "        False, False, False, False, False, False, False, False, False,\n",
       "        False, False, False, False],\n",
       "       [ True,  True,  True,  True,  True,  True, False, False, False,\n",
       "        False, False, False, False, False, False, False, False, False,\n",
       "        False, False, False, False, False, False, False, False, False,\n",
       "        False, False, False, False],\n",
       "       [ True,  True,  True,  True,  True,  True, False, False, False,\n",
       "        False, False, False, False, False, False, False, False, False,\n",
       "        False, False, False, False, False, False, False, False, False,\n",
       "        False, False, False, False],\n",
       "       [ True,  True,  True,  True,  True,  True, False, False, False,\n",
       "        False, False, False, False, False, False, False, False, False,\n",
       "        False, False, False, False, False, False, False, False, False,\n",
       "        False, False, False, False],\n",
       "       [ True,  True,  True,  True,  True,  True,  True, False, False,\n",
       "        False, False, False, False, False, False, False, False, False,\n",
       "        False, False, False, False, False, False, False, False, False,\n",
       "        False, False, False, False],\n",
       "       [ True,  True,  True,  True,  True,  True,  True, False, False,\n",
       "        False, False, False, False, False, False, False, False, False,\n",
       "        False, False, False, False, False, False, False, False, False,\n",
       "        False, False, False, False]])>"
      ]
     },
     "execution_count": 18,
     "metadata": {},
     "output_type": "execute_result"
    }
   ],
   "source": [
    "m.compute_mask(x)"
   ]
  },
  {
   "cell_type": "code",
   "execution_count": 19,
   "metadata": {},
   "outputs": [
    {
     "data": {
      "text/plain": [
       "<tf.Tensor: shape=(10, 21), dtype=bool, numpy=\n",
       "array([[ True,  True,  True, False, False, False, False, False, False,\n",
       "        False, False, False, False, False, False, False, False, False,\n",
       "        False, False, False],\n",
       "       [ True,  True,  True,  True, False, False, False, False, False,\n",
       "        False, False, False, False, False, False, False, False, False,\n",
       "        False, False, False],\n",
       "       [ True,  True,  True,  True,  True,  True, False, False, False,\n",
       "        False, False, False, False, False, False, False, False, False,\n",
       "        False, False, False],\n",
       "       [ True,  True,  True,  True, False, False, False, False, False,\n",
       "        False, False, False, False, False, False, False, False, False,\n",
       "        False, False, False],\n",
       "       [ True,  True,  True,  True, False, False, False, False, False,\n",
       "        False, False, False, False, False, False, False, False, False,\n",
       "        False, False, False],\n",
       "       [ True,  True,  True,  True,  True, False, False, False, False,\n",
       "        False, False, False, False, False, False, False, False, False,\n",
       "        False, False, False],\n",
       "       [ True,  True,  True,  True,  True, False, False, False, False,\n",
       "        False, False, False, False, False, False, False, False, False,\n",
       "        False, False, False],\n",
       "       [ True,  True,  True,  True,  True, False, False, False, False,\n",
       "        False, False, False, False, False, False, False, False, False,\n",
       "        False, False, False],\n",
       "       [ True,  True,  True,  True, False, False, False, False, False,\n",
       "        False, False, False, False, False, False, False, False, False,\n",
       "        False, False, False],\n",
       "       [ True,  True,  True,  True,  True, False, False, False, False,\n",
       "        False, False, False, False, False, False, False, False, False,\n",
       "        False, False, False]])>"
      ]
     },
     "execution_count": 19,
     "metadata": {},
     "output_type": "execute_result"
    }
   ],
   "source": [
    "m2.compute_mask(y)"
   ]
  },
  {
   "cell_type": "code",
   "execution_count": 20,
   "metadata": {},
   "outputs": [
    {
     "data": {
      "text/plain": [
       "<tf.Tensor: shape=(10, 31, 4), dtype=float32, numpy=\n",
       "array([[[ 0.14816982, -0.16599253, -0.22141117, -0.06057087],\n",
       "        [ 0.32000637,  0.26512524,  0.3412334 ,  0.0637099 ],\n",
       "        [ 0.16340728, -0.04491207, -0.40289825, -0.4774525 ],\n",
       "        ...,\n",
       "        [ 1.        ,  1.        ,  1.        ,  1.        ],\n",
       "        [ 1.        ,  1.        ,  1.        ,  1.        ],\n",
       "        [ 1.        ,  1.        ,  1.        ,  1.        ]],\n",
       "\n",
       "       [[ 0.14816982, -0.16599253, -0.22141117, -0.06057087],\n",
       "        [ 0.32000637,  0.26512524,  0.3412334 ,  0.0637099 ],\n",
       "        [ 0.16340728, -0.04491207, -0.40289825, -0.4774525 ],\n",
       "        ...,\n",
       "        [ 1.        ,  1.        ,  1.        ,  1.        ],\n",
       "        [ 1.        ,  1.        ,  1.        ,  1.        ],\n",
       "        [ 1.        ,  1.        ,  1.        ,  1.        ]],\n",
       "\n",
       "       [[-0.05615494, -0.04008067,  0.18389933,  0.17612678],\n",
       "        [ 0.03687924, -0.4187034 ,  0.18879606, -0.19240986],\n",
       "        [ 0.34884685,  0.03837245,  0.22668396,  0.44631562],\n",
       "        ...,\n",
       "        [ 1.        ,  1.        ,  1.        ,  1.        ],\n",
       "        [ 1.        ,  1.        ,  1.        ,  1.        ],\n",
       "        [ 1.        ,  1.        ,  1.        ,  1.        ]],\n",
       "\n",
       "       ...,\n",
       "\n",
       "       [[ 0.01585389,  0.00161451,  0.04529971,  0.20349777],\n",
       "        [-0.17945413,  0.11243507,  0.11884038,  0.0316926 ],\n",
       "        [-0.17474458, -0.14842537,  0.03834807,  0.11125197],\n",
       "        ...,\n",
       "        [ 1.        ,  1.        ,  1.        ,  1.        ],\n",
       "        [ 1.        ,  1.        ,  1.        ,  1.        ],\n",
       "        [ 1.        ,  1.        ,  1.        ,  1.        ]],\n",
       "\n",
       "       [[ 0.05691866,  0.25341693, -0.23322143,  0.03071775],\n",
       "        [-0.3160441 ,  0.44903257,  0.01691053, -0.02678193],\n",
       "        [-0.3050232 , -0.08788906, -0.24717423, -0.31426468],\n",
       "        ...,\n",
       "        [ 1.        ,  1.        ,  1.        ,  1.        ],\n",
       "        [ 1.        ,  1.        ,  1.        ,  1.        ],\n",
       "        [ 1.        ,  1.        ,  1.        ,  1.        ]],\n",
       "\n",
       "       [[ 0.14816982, -0.16599253, -0.22141117, -0.06057087],\n",
       "        [ 0.12858567,  0.11516521,  0.3430786 , -0.12306018],\n",
       "        [ 0.19746946, -0.10745381, -0.05423119, -0.01843244],\n",
       "        ...,\n",
       "        [ 1.        ,  1.        ,  1.        ,  1.        ],\n",
       "        [ 1.        ,  1.        ,  1.        ,  1.        ],\n",
       "        [ 1.        ,  1.        ,  1.        ,  1.        ]]],\n",
       "      dtype=float32)>"
      ]
     },
     "execution_count": 20,
     "metadata": {},
     "output_type": "execute_result"
    }
   ],
   "source": [
    "rnn(x)"
   ]
  },
  {
   "cell_type": "code",
   "execution_count": 21,
   "metadata": {},
   "outputs": [],
   "source": [
    "xm = m(x)\n",
    "y3 = rnn(xm) "
   ]
  },
  {
   "cell_type": "code",
   "execution_count": 22,
   "metadata": {},
   "outputs": [
    {
     "data": {
      "text/plain": [
       "<tf.Tensor: shape=(10, 31, 4), dtype=float32, numpy=\n",
       "array([[[ 0.14816982, -0.16599253, -0.22141117, -0.06057087],\n",
       "        [ 0.32000637,  0.26512524,  0.3412334 ,  0.0637099 ],\n",
       "        [ 0.16340728, -0.04491207, -0.40289825, -0.4774525 ],\n",
       "        ...,\n",
       "        [ 0.16340728, -0.04491207, -0.40289825, -0.4774525 ],\n",
       "        [ 0.16340728, -0.04491207, -0.40289825, -0.4774525 ],\n",
       "        [ 0.16340728, -0.04491207, -0.40289825, -0.4774525 ]],\n",
       "\n",
       "       [[ 0.14816982, -0.16599253, -0.22141117, -0.06057087],\n",
       "        [ 0.32000637,  0.26512524,  0.3412334 ,  0.0637099 ],\n",
       "        [ 0.16340728, -0.04491207, -0.40289825, -0.4774525 ],\n",
       "        ...,\n",
       "        [ 0.16340728, -0.04491207, -0.40289825, -0.4774525 ],\n",
       "        [ 0.16340728, -0.04491207, -0.40289825, -0.4774525 ],\n",
       "        [ 0.16340728, -0.04491207, -0.40289825, -0.4774525 ]],\n",
       "\n",
       "       [[-0.05615494, -0.04008067,  0.18389933,  0.17612678],\n",
       "        [ 0.03687924, -0.4187034 ,  0.18879606, -0.19240986],\n",
       "        [ 0.34884685,  0.03837245,  0.22668396,  0.44631562],\n",
       "        ...,\n",
       "        [ 0.06905785, -0.21393095, -0.01305255, -0.50635785],\n",
       "        [ 0.06905785, -0.21393095, -0.01305255, -0.50635785],\n",
       "        [ 0.06905785, -0.21393095, -0.01305255, -0.50635785]],\n",
       "\n",
       "       ...,\n",
       "\n",
       "       [[ 0.01585389,  0.00161451,  0.04529971,  0.20349777],\n",
       "        [-0.17945413,  0.11243507,  0.11884038,  0.0316926 ],\n",
       "        [-0.17474458, -0.14842537,  0.03834807,  0.11125197],\n",
       "        ...,\n",
       "        [-0.20024464, -0.22502896,  0.00432108,  0.19347385],\n",
       "        [-0.20024464, -0.22502896,  0.00432108,  0.19347385],\n",
       "        [-0.20024464, -0.22502896,  0.00432108,  0.19347385]],\n",
       "\n",
       "       [[ 0.05691866,  0.25341693, -0.23322143,  0.03071775],\n",
       "        [-0.3160441 ,  0.44903257,  0.01691053, -0.02678193],\n",
       "        [-0.3050232 , -0.08788906, -0.24717423, -0.31426468],\n",
       "        ...,\n",
       "        [-0.55215764, -0.28789163, -0.28832716, -0.15030584],\n",
       "        [-0.55215764, -0.28789163, -0.28832716, -0.15030584],\n",
       "        [-0.55215764, -0.28789163, -0.28832716, -0.15030584]],\n",
       "\n",
       "       [[ 0.14816982, -0.16599253, -0.22141117, -0.06057087],\n",
       "        [ 0.12858567,  0.11516521,  0.3430786 , -0.12306018],\n",
       "        [ 0.19746946, -0.10745381, -0.05423119, -0.01843244],\n",
       "        ...,\n",
       "        [-0.05408412,  0.40682283, -0.33904046, -0.20348547],\n",
       "        [-0.05408412,  0.40682283, -0.33904046, -0.20348547],\n",
       "        [-0.05408412,  0.40682283, -0.33904046, -0.20348547]]],\n",
       "      dtype=float32)>"
      ]
     },
     "execution_count": 22,
     "metadata": {},
     "output_type": "execute_result"
    }
   ],
   "source": [
    "y3"
   ]
  },
  {
   "cell_type": "code",
   "execution_count": 23,
   "metadata": {},
   "outputs": [],
   "source": [
    "y3= rnn(x, mask = m.compute_mask(x)) "
   ]
  },
  {
   "cell_type": "code",
   "execution_count": 24,
   "metadata": {},
   "outputs": [
    {
     "data": {
      "text/plain": [
       "TensorShape([10, 31, 4])"
      ]
     },
     "execution_count": 24,
     "metadata": {},
     "output_type": "execute_result"
    }
   ],
   "source": [
    "y3.shape"
   ]
  },
  {
   "cell_type": "code",
   "execution_count": 25,
   "metadata": {},
   "outputs": [
    {
     "data": {
      "text/plain": [
       "<tf.Tensor: shape=(10, 20), dtype=float32, numpy=\n",
       "array([[-0.00916335,  0.01065375, -0.01683874,  0.00293613, -0.00306671,\n",
       "        -0.00900294, -0.01325979,  0.00847459,  0.00098329,  0.00260774,\n",
       "         0.00106453, -0.00344031,  0.00258073, -0.02108549, -0.0107327 ,\n",
       "         0.01032057,  0.00834448, -0.00095362, -0.0114363 , -0.02187069],\n",
       "       [ 0.00753907, -0.00324938,  0.00867322, -0.00021645,  0.0217069 ,\n",
       "         0.00393624,  0.01737534,  0.00599626,  0.00728418, -0.00307482,\n",
       "        -0.02476303, -0.01224907,  0.01909652,  0.0139475 , -0.00128347,\n",
       "        -0.00395513,  0.00204056, -0.01693863, -0.0018502 ,  0.01027759],\n",
       "       [-0.02621715,  0.00676758, -0.0287354 , -0.0222695 , -0.02038768,\n",
       "        -0.02552703, -0.0286587 ,  0.00960191,  0.01144543,  0.00691038,\n",
       "        -0.01996661, -0.01753541,  0.00819357, -0.03501952, -0.02013698,\n",
       "         0.01003911, -0.00467653, -0.00586881, -0.03479849, -0.04502106],\n",
       "       [-0.02621715,  0.00676758, -0.0287354 , -0.0222695 , -0.02038768,\n",
       "        -0.02552703, -0.0286587 ,  0.00960191,  0.01144543,  0.00691038,\n",
       "        -0.01996661, -0.01753541,  0.00819357, -0.03501952, -0.02013698,\n",
       "         0.01003911, -0.00467653, -0.00586881, -0.03479849, -0.04502106],\n",
       "       [-0.02621715,  0.00676758, -0.0287354 , -0.0222695 , -0.02038768,\n",
       "        -0.02552703, -0.0286587 ,  0.00960191,  0.01144543,  0.00691038,\n",
       "        -0.01996661, -0.01753541,  0.00819357, -0.03501952, -0.02013698,\n",
       "         0.01003911, -0.00467653, -0.00586881, -0.03479849, -0.04502106],\n",
       "       [-0.02621715,  0.00676758, -0.0287354 , -0.0222695 , -0.02038768,\n",
       "        -0.02552703, -0.0286587 ,  0.00960191,  0.01144543,  0.00691038,\n",
       "        -0.01996661, -0.01753541,  0.00819357, -0.03501952, -0.02013698,\n",
       "         0.01003911, -0.00467653, -0.00586881, -0.03479849, -0.04502106],\n",
       "       [-0.02621715,  0.00676758, -0.0287354 , -0.0222695 , -0.02038768,\n",
       "        -0.02552703, -0.0286587 ,  0.00960191,  0.01144543,  0.00691038,\n",
       "        -0.01996661, -0.01753541,  0.00819357, -0.03501952, -0.02013698,\n",
       "         0.01003911, -0.00467653, -0.00586881, -0.03479849, -0.04502106],\n",
       "       [-0.02621715,  0.00676758, -0.0287354 , -0.0222695 , -0.02038768,\n",
       "        -0.02552703, -0.0286587 ,  0.00960191,  0.01144543,  0.00691038,\n",
       "        -0.01996661, -0.01753541,  0.00819357, -0.03501952, -0.02013698,\n",
       "         0.01003911, -0.00467653, -0.00586881, -0.03479849, -0.04502106],\n",
       "       [-0.02621715,  0.00676758, -0.0287354 , -0.0222695 , -0.02038768,\n",
       "        -0.02552703, -0.0286587 ,  0.00960191,  0.01144543,  0.00691038,\n",
       "        -0.01996661, -0.01753541,  0.00819357, -0.03501952, -0.02013698,\n",
       "         0.01003911, -0.00467653, -0.00586881, -0.03479849, -0.04502106],\n",
       "       [-0.02621715,  0.00676758, -0.0287354 , -0.0222695 , -0.02038768,\n",
       "        -0.02552703, -0.0286587 ,  0.00960191,  0.01144543,  0.00691038,\n",
       "        -0.01996661, -0.01753541,  0.00819357, -0.03501952, -0.02013698,\n",
       "         0.01003911, -0.00467653, -0.00586881, -0.03479849, -0.04502106]],\n",
       "      dtype=float32)>"
      ]
     },
     "execution_count": 25,
     "metadata": {},
     "output_type": "execute_result"
    }
   ],
   "source": [
    "dense = TimeDistributed(Dense(target_vsize))\n",
    "dense(y3, mask=m2.compute_mask(y3))[0,0:10,0:20]"
   ]
  },
  {
   "cell_type": "markdown",
   "metadata": {},
   "source": [
    "## History Plotting Function"
   ]
  },
  {
   "cell_type": "code",
   "execution_count": 26,
   "metadata": {},
   "outputs": [],
   "source": [
    "import matplotlib.pyplot as plt\n",
    "import matplotlib\n",
    "import pandas as pd\n",
    "# Plotting results\n",
    "def plot1(history):\n",
    "\n",
    "    matplotlib.rcParams['figure.dpi'] = 100\n",
    "    acc = history.history['accuracy']\n",
    "    val_acc = history.history['val_accuracy']\n",
    "    loss = history.history['loss']\n",
    "    val_loss = history.history['val_loss']\n",
    "\n",
    "    epochs = range(1, len(acc)+1)\n",
    "    ## Accuracy plot\n",
    "    plt.plot(epochs, acc, 'bo', label='Training acc')\n",
    "    plt.plot(epochs, val_acc, 'b', label='Validation acc')\n",
    "    plt.title('Training and validation accuracy')\n",
    "    plt.legend()\n",
    "    ## Loss plot\n",
    "    plt.figure()\n",
    "\n",
    "    plt.plot(epochs, loss, 'bo', label='Training loss')\n",
    "    plt.plot(epochs, val_loss, 'b', label='Validation loss')\n",
    "    plt.title('Training and validation loss')\n",
    "    plt.legend()\n",
    "    plt.show()\n",
    "\n",
    "    \n",
    "def plot2(history):\n",
    "    pd.DataFrame(history.history).plot(figsize=(8,5))\n",
    "    plt.grid(True)\n",
    "    #plt.gca().set_ylim(0,1)\n",
    "    plt.show()"
   ]
  },
  {
   "cell_type": "markdown",
   "metadata": {},
   "source": [
    "## Define Model Architecture Using One-Hot Encoding"
   ]
  },
  {
   "cell_type": "markdown",
   "metadata": {},
   "source": [
    "- Because this is a sequence (input) to sequence (target) model, we need to define two models:\n",
    "    - **Encoder**: This is the sequence model to process the input sequences.\n",
    "    - **Decoder**: This is the sequence model that takes the output of **Encoder** and create the target sequences."
   ]
  },
  {
   "cell_type": "markdown",
   "metadata": {},
   "source": [
    "### Encoder\n",
    "\n",
    "- In the Encoder, it crunches one token (one-hot encoding vector) at a time from the input sequence and output the hidden state and cell state of the last token of the input sequence.\n",
    "- This output will be the input of the **Decoder**.\n",
    "- That is, in the LSTM of the Encoder, we only use the hidden states and cell states from the LAST TIME STEP.\n",
    "- The output of the Encoder is two tensors, from the encoder's LSTM."
   ]
  },
  {
   "cell_type": "code",
   "execution_count": 33,
   "metadata": {},
   "outputs": [],
   "source": [
    "## Define Model\n",
    "\n",
    "## Set up encoder\n",
    "# Define an input sequence and process it.\n",
    "encoder_inputs = Input(shape=(input_maxlen, input_vsize)) # one char at a time, with vocab_size dimension, i.e., one-hot encoding\n",
    "encoder_mask = Masking(mask_value=mask_value, input_shape= (input_maxlen, input_vsize))\n",
    "encoder = LSTM(latent_dim, return_state=True)\n",
    "encoder_outputs, state_h, state_c = encoder(encoder_inputs,mask= encoder_mask.compute_mask(encoder_inputs))\n",
    "\n",
    "\n",
    "# We discard `encoder_outputs` and only keep the states.\n",
    "## By default, in LSTM, when return_outputs=False, the `encoder_outputs` = `state_h`.\n",
    "encoder_states = [state_h, state_c] # Two tensors, states_h and states_c, from LSTM"
   ]
  },
  {
   "cell_type": "markdown",
   "metadata": {},
   "source": [
    "### Decoder"
   ]
  },
  {
   "cell_type": "markdown",
   "metadata": {},
   "source": [
    "- Now the LSTM of **Decoder** crunches one token at a time from the decoder input sequence.\n",
    "- The Decoder's LSTM is initialized with the Encoder's output, i.e., the last hidden state and cell state from Encoder's LSTM.\n",
    "- We then take the all the output hidden states of the Decoder's LSTM and add a dense layer for character prediction."
   ]
  },
  {
   "cell_type": "code",
   "execution_count": 34,
   "metadata": {},
   "outputs": [],
   "source": [
    "# Set up the decoder, using `encoder_states` as initial state.\n",
    "decoder_inputs = Input(shape=(target_maxlen-1, target_vsize)) # one word at a time, with vocab_size dimension,\n",
    "decoder_mask = Masking(mask_value=mask_value, input_shape= (target_maxlen-1, target_vsize))\n",
    "\n",
    "# We set up our decoder to return full output sequences, (i.e, `return_sequences=True`)\n",
    "# and to return internal states as well. We don't use the\n",
    "# return states in the training model, but we will use them in inference.\n",
    "decoder_lstm = LSTM(latent_dim, return_sequences=True, return_state=True)\n",
    "decoder_outputs, _, _ = decoder_lstm(decoder_inputs,\n",
    "                                     initial_state=encoder_states,\n",
    "                                     mask= decoder_mask.compute_mask(decoder_inputs))\n",
    "\n",
    "## softmax the decoder outputs to get prob of target language word\n",
    "decoder_dense = Dense(target_vsize, activation='softmax')\n",
    "decoder_time = TimeDistributed(decoder_dense)\n",
    "decoder_outputs_pred = decoder_time(decoder_outputs, mask = decoder_mask.compute_mask(decoder_inputs))\n",
    "\n",
    "### Note: This output Dense layer does not need to be wrapped within TimeDistributed.\n",
    "### because the Dense layer takes in the decoder LSTM's outputs as the inputs.\n",
    "\n",
    "### In training, the decoder LSTM's inputs would be the entire target sequences\n",
    "###    and its outputs would be the all the hidden states h's.\n",
    "###    and Dense Layer softmax all h's into one-hot of the target language characters\n",
    "\n",
    "### In inferencing, the decoder LSTM's inputs would be one single character of the previous predicted target char\n",
    "###    and its output would be the all the hidden states h's (but in fact only one becuase intput has only 1 char)\n",
    "###    and Dense Layer softmax the h into one-hot of the target language character."
   ]
  },
  {
   "cell_type": "code",
   "execution_count": 35,
   "metadata": {},
   "outputs": [],
   "source": [
    "# Define the model that will turn\n",
    "# `encoder_input_data` & `decoder_input_data` into `decoder_target_data`\n",
    "model = Model([encoder_inputs, decoder_inputs], decoder_outputs_pred)"
   ]
  },
  {
   "cell_type": "code",
   "execution_count": 36,
   "metadata": {},
   "outputs": [
    {
     "data": {
      "image/png": "[encoded data removed]",
      "text/plain": [
       "<IPython.core.display.Image object>"
      ]
     },
     "execution_count": 36,
     "metadata": {},
     "output_type": "execute_result"
    }
   ],
   "source": [
    "from keras.utils import plot_model\n",
    "\n",
    "plot_model(model, show_shapes=True)"
   ]
  },
  {
   "cell_type": "code",
   "execution_count": 37,
   "metadata": {},
   "outputs": [
    {
     "name": "stdout",
     "output_type": "stream",
     "text": [
      "Epoch 1/100\n",
      "17/32 [==============>...............] - ETA: 24s - loss: 9909986.5882 - accuracy: 4.0191e-04"
     ]
    },
    {
     "ename": "KeyboardInterrupt",
     "evalue": "",
     "output_type": "error",
     "traceback": [
      "\u001b[0;31m---------------------------------------------------------------------------\u001b[0m",
      "\u001b[0;31mKeyboardInterrupt\u001b[0m                         Traceback (most recent call last)",
      "\u001b[0;32m<ipython-input-37-c36352810744>\u001b[0m in \u001b[0;36m<module>\u001b[0;34m\u001b[0m\n\u001b[1;32m      5\u001b[0m           \u001b[0mbatch_size\u001b[0m\u001b[0;34m=\u001b[0m\u001b[0mbatch_size\u001b[0m\u001b[0;34m,\u001b[0m\u001b[0;34m\u001b[0m\u001b[0m\n\u001b[1;32m      6\u001b[0m           \u001b[0mepochs\u001b[0m\u001b[0;34m=\u001b[0m\u001b[0mepochs\u001b[0m\u001b[0;34m,\u001b[0m\u001b[0;34m\u001b[0m\u001b[0m\n\u001b[0;32m----> 7\u001b[0;31m           validation_split=0.2)\n\u001b[0m",
      "\u001b[0;32m~/opt/anaconda3/envs/python-notes/lib/python3.7/site-packages/tensorflow/python/keras/engine/training.py\u001b[0m in \u001b[0;36mfit\u001b[0;34m(self, x, y, batch_size, epochs, verbose, callbacks, validation_split, validation_data, shuffle, class_weight, sample_weight, initial_epoch, steps_per_epoch, validation_steps, validation_batch_size, validation_freq, max_queue_size, workers, use_multiprocessing)\u001b[0m\n\u001b[1;32m   1098\u001b[0m                 _r=1):\n\u001b[1;32m   1099\u001b[0m               \u001b[0mcallbacks\u001b[0m\u001b[0;34m.\u001b[0m\u001b[0mon_train_batch_begin\u001b[0m\u001b[0;34m(\u001b[0m\u001b[0mstep\u001b[0m\u001b[0;34m)\u001b[0m\u001b[0;34m\u001b[0m\u001b[0m\n\u001b[0;32m-> 1100\u001b[0;31m               \u001b[0mtmp_logs\u001b[0m \u001b[0;34m=\u001b[0m \u001b[0mself\u001b[0m\u001b[0;34m.\u001b[0m\u001b[0mtrain_function\u001b[0m\u001b[0;34m(\u001b[0m\u001b[0miterator\u001b[0m\u001b[0;34m)\u001b[0m\u001b[0;34m\u001b[0m\u001b[0m\n\u001b[0m\u001b[1;32m   1101\u001b[0m               \u001b[0;32mif\u001b[0m \u001b[0mdata_handler\u001b[0m\u001b[0;34m.\u001b[0m\u001b[0mshould_sync\u001b[0m\u001b[0;34m:\u001b[0m\u001b[0;34m\u001b[0m\u001b[0m\n\u001b[1;32m   1102\u001b[0m                 \u001b[0mcontext\u001b[0m\u001b[0;34m.\u001b[0m\u001b[0masync_wait\u001b[0m\u001b[0;34m(\u001b[0m\u001b[0;34m)\u001b[0m\u001b[0;34m\u001b[0m\u001b[0m\n",
      "\u001b[0;32m~/opt/anaconda3/envs/python-notes/lib/python3.7/site-packages/tensorflow/python/eager/def_function.py\u001b[0m in \u001b[0;36m__call__\u001b[0;34m(self, *args, **kwds)\u001b[0m\n\u001b[1;32m    826\u001b[0m     \u001b[0mtracing_count\u001b[0m \u001b[0;34m=\u001b[0m \u001b[0mself\u001b[0m\u001b[0;34m.\u001b[0m\u001b[0mexperimental_get_tracing_count\u001b[0m\u001b[0;34m(\u001b[0m\u001b[0;34m)\u001b[0m\u001b[0;34m\u001b[0m\u001b[0m\n\u001b[1;32m    827\u001b[0m     \u001b[0;32mwith\u001b[0m \u001b[0mtrace\u001b[0m\u001b[0;34m.\u001b[0m\u001b[0mTrace\u001b[0m\u001b[0;34m(\u001b[0m\u001b[0mself\u001b[0m\u001b[0;34m.\u001b[0m\u001b[0m_name\u001b[0m\u001b[0;34m)\u001b[0m \u001b[0;32mas\u001b[0m \u001b[0mtm\u001b[0m\u001b[0;34m:\u001b[0m\u001b[0;34m\u001b[0m\u001b[0m\n\u001b[0;32m--> 828\u001b[0;31m       \u001b[0mresult\u001b[0m \u001b[0;34m=\u001b[0m \u001b[0mself\u001b[0m\u001b[0;34m.\u001b[0m\u001b[0m_call\u001b[0m\u001b[0;34m(\u001b[0m\u001b[0;34m*\u001b[0m\u001b[0margs\u001b[0m\u001b[0;34m,\u001b[0m \u001b[0;34m**\u001b[0m\u001b[0mkwds\u001b[0m\u001b[0;34m)\u001b[0m\u001b[0;34m\u001b[0m\u001b[0m\n\u001b[0m\u001b[1;32m    829\u001b[0m       \u001b[0mcompiler\u001b[0m \u001b[0;34m=\u001b[0m \u001b[0;34m\"xla\"\u001b[0m \u001b[0;32mif\u001b[0m \u001b[0mself\u001b[0m\u001b[0;34m.\u001b[0m\u001b[0m_experimental_compile\u001b[0m \u001b[0;32melse\u001b[0m \u001b[0;34m\"nonXla\"\u001b[0m\u001b[0;34m\u001b[0m\u001b[0m\n\u001b[1;32m    830\u001b[0m       \u001b[0mnew_tracing_count\u001b[0m \u001b[0;34m=\u001b[0m \u001b[0mself\u001b[0m\u001b[0;34m.\u001b[0m\u001b[0mexperimental_get_tracing_count\u001b[0m\u001b[0;34m(\u001b[0m\u001b[0;34m)\u001b[0m\u001b[0;34m\u001b[0m\u001b[0m\n",
      "\u001b[0;32m~/opt/anaconda3/envs/python-notes/lib/python3.7/site-packages/tensorflow/python/eager/def_function.py\u001b[0m in \u001b[0;36m_call\u001b[0;34m(self, *args, **kwds)\u001b[0m\n\u001b[1;32m    853\u001b[0m       \u001b[0;31m# In this case we have created variables on the first call, so we run the\u001b[0m\u001b[0;34m\u001b[0m\u001b[0;34m\u001b[0m\u001b[0m\n\u001b[1;32m    854\u001b[0m       \u001b[0;31m# defunned version which is guaranteed to never create variables.\u001b[0m\u001b[0;34m\u001b[0m\u001b[0;34m\u001b[0m\u001b[0m\n\u001b[0;32m--> 855\u001b[0;31m       \u001b[0;32mreturn\u001b[0m \u001b[0mself\u001b[0m\u001b[0;34m.\u001b[0m\u001b[0m_stateless_fn\u001b[0m\u001b[0;34m(\u001b[0m\u001b[0;34m*\u001b[0m\u001b[0margs\u001b[0m\u001b[0;34m,\u001b[0m \u001b[0;34m**\u001b[0m\u001b[0mkwds\u001b[0m\u001b[0;34m)\u001b[0m  \u001b[0;31m# pylint: disable=not-callable\u001b[0m\u001b[0;34m\u001b[0m\u001b[0m\n\u001b[0m\u001b[1;32m    856\u001b[0m     \u001b[0;32melif\u001b[0m \u001b[0mself\u001b[0m\u001b[0;34m.\u001b[0m\u001b[0m_stateful_fn\u001b[0m \u001b[0;32mis\u001b[0m \u001b[0;32mnot\u001b[0m \u001b[0;32mNone\u001b[0m\u001b[0;34m:\u001b[0m\u001b[0;34m\u001b[0m\u001b[0m\n\u001b[1;32m    857\u001b[0m       \u001b[0;31m# Release the lock early so that multiple threads can perform the call\u001b[0m\u001b[0;34m\u001b[0m\u001b[0;34m\u001b[0m\u001b[0m\n",
      "\u001b[0;32m~/opt/anaconda3/envs/python-notes/lib/python3.7/site-packages/tensorflow/python/eager/function.py\u001b[0m in \u001b[0;36m__call__\u001b[0;34m(self, *args, **kwargs)\u001b[0m\n\u001b[1;32m   2941\u001b[0m        filtered_flat_args) = self._maybe_define_function(args, kwargs)\n\u001b[1;32m   2942\u001b[0m     return graph_function._call_flat(\n\u001b[0;32m-> 2943\u001b[0;31m         filtered_flat_args, captured_inputs=graph_function.captured_inputs)  # pylint: disable=protected-access\n\u001b[0m\u001b[1;32m   2944\u001b[0m \u001b[0;34m\u001b[0m\u001b[0m\n\u001b[1;32m   2945\u001b[0m   \u001b[0;34m@\u001b[0m\u001b[0mproperty\u001b[0m\u001b[0;34m\u001b[0m\u001b[0m\n",
      "\u001b[0;32m~/opt/anaconda3/envs/python-notes/lib/python3.7/site-packages/tensorflow/python/eager/function.py\u001b[0m in \u001b[0;36m_call_flat\u001b[0;34m(self, args, captured_inputs, cancellation_manager)\u001b[0m\n\u001b[1;32m   1917\u001b[0m       \u001b[0;31m# No tape is watching; skip to running the function.\u001b[0m\u001b[0;34m\u001b[0m\u001b[0;34m\u001b[0m\u001b[0m\n\u001b[1;32m   1918\u001b[0m       return self._build_call_outputs(self._inference_function.call(\n\u001b[0;32m-> 1919\u001b[0;31m           ctx, args, cancellation_manager=cancellation_manager))\n\u001b[0m\u001b[1;32m   1920\u001b[0m     forward_backward = self._select_forward_and_backward_functions(\n\u001b[1;32m   1921\u001b[0m         \u001b[0margs\u001b[0m\u001b[0;34m,\u001b[0m\u001b[0;34m\u001b[0m\u001b[0m\n",
      "\u001b[0;32m~/opt/anaconda3/envs/python-notes/lib/python3.7/site-packages/tensorflow/python/eager/function.py\u001b[0m in \u001b[0;36mcall\u001b[0;34m(self, ctx, args, cancellation_manager)\u001b[0m\n\u001b[1;32m    558\u001b[0m               \u001b[0minputs\u001b[0m\u001b[0;34m=\u001b[0m\u001b[0margs\u001b[0m\u001b[0;34m,\u001b[0m\u001b[0;34m\u001b[0m\u001b[0m\n\u001b[1;32m    559\u001b[0m               \u001b[0mattrs\u001b[0m\u001b[0;34m=\u001b[0m\u001b[0mattrs\u001b[0m\u001b[0;34m,\u001b[0m\u001b[0;34m\u001b[0m\u001b[0m\n\u001b[0;32m--> 560\u001b[0;31m               ctx=ctx)\n\u001b[0m\u001b[1;32m    561\u001b[0m         \u001b[0;32melse\u001b[0m\u001b[0;34m:\u001b[0m\u001b[0;34m\u001b[0m\u001b[0m\n\u001b[1;32m    562\u001b[0m           outputs = execute.execute_with_cancellation(\n",
      "\u001b[0;32m~/opt/anaconda3/envs/python-notes/lib/python3.7/site-packages/tensorflow/python/eager/execute.py\u001b[0m in \u001b[0;36mquick_execute\u001b[0;34m(op_name, num_outputs, inputs, attrs, ctx, name)\u001b[0m\n\u001b[1;32m     58\u001b[0m     \u001b[0mctx\u001b[0m\u001b[0;34m.\u001b[0m\u001b[0mensure_initialized\u001b[0m\u001b[0;34m(\u001b[0m\u001b[0;34m)\u001b[0m\u001b[0;34m\u001b[0m\u001b[0m\n\u001b[1;32m     59\u001b[0m     tensors = pywrap_tfe.TFE_Py_Execute(ctx._handle, device_name, op_name,\n\u001b[0;32m---> 60\u001b[0;31m                                         inputs, attrs, num_outputs)\n\u001b[0m\u001b[1;32m     61\u001b[0m   \u001b[0;32mexcept\u001b[0m \u001b[0mcore\u001b[0m\u001b[0;34m.\u001b[0m\u001b[0m_NotOkStatusException\u001b[0m \u001b[0;32mas\u001b[0m \u001b[0me\u001b[0m\u001b[0;34m:\u001b[0m\u001b[0;34m\u001b[0m\u001b[0m\n\u001b[1;32m     62\u001b[0m     \u001b[0;32mif\u001b[0m \u001b[0mname\u001b[0m \u001b[0;32mis\u001b[0m \u001b[0;32mnot\u001b[0m \u001b[0;32mNone\u001b[0m\u001b[0;34m:\u001b[0m\u001b[0;34m\u001b[0m\u001b[0m\n",
      "\u001b[0;31mKeyboardInterrupt\u001b[0m: "
     ]
    }
   ],
   "source": [
    "# Run training\n",
    "model.compile(optimizer='rmsprop', loss='categorical_crossentropy',\n",
    "              metrics=['accuracy'])\n",
    "history = model.fit([encoder_input_data, decoder_input_data], decoder_target_data,\n",
    "          batch_size=batch_size,\n",
    "          epochs=epochs,\n",
    "          validation_split=0.2)"
   ]
  },
  {
   "cell_type": "code",
   "execution_count": null,
   "metadata": {},
   "outputs": [],
   "source": [
    "plot1(history)"
   ]
  },
  {
   "cell_type": "code",
   "execution_count": null,
   "metadata": {},
   "outputs": [],
   "source": [
    "model.summary()"
   ]
  },
  {
   "cell_type": "code",
   "execution_count": null,
   "metadata": {},
   "outputs": [],
   "source": [
    "ff"
   ]
  },
  {
   "cell_type": "markdown",
   "metadata": {},
   "source": [
    "## Save and Load Models"
   ]
  },
  {
   "cell_type": "markdown",
   "metadata": {},
   "source": [
    "### Save Model"
   ]
  },
  {
   "cell_type": "code",
   "execution_count": null,
   "metadata": {},
   "outputs": [],
   "source": [
    "# # Save model\n",
    "# model.save('keras_models/s2s-cmn.h5')"
   ]
  },
  {
   "cell_type": "markdown",
   "metadata": {},
   "source": [
    "### Load Trained Model"
   ]
  },
  {
   "cell_type": "code",
   "execution_count": null,
   "metadata": {},
   "outputs": [],
   "source": [
    "## If the model is loaded via external files\n",
    "## Load the encoder_model, decoder_model this way\n",
    "from keras.models import load_model\n",
    "model.load_weights('keras_models/s2s-cmn.h5'')\n"
   ]
  },
  {
   "cell_type": "markdown",
   "metadata": {},
   "source": [
    "## Define Inference Model"
   ]
  },
  {
   "cell_type": "markdown",
   "metadata": {},
   "source": [
    "### Inference Encoder Model"
   ]
  },
  {
   "cell_type": "markdown",
   "metadata": {},
   "source": [
    "- When using the trained model (Encoder-Decoder), we need to define Encoder and Decoder for inferencing.\n",
    "- For **Encoder Model**:\n",
    "    - We use the input layer of the trained model's Encoder, which includes the encoder_input_data (input sequences one-hot)\n",
    "    - We use the output last_h and last_c from the trained model's Encoder LSTM.\n",
    "    "
   ]
  },
  {
   "cell_type": "code",
   "execution_count": null,
   "metadata": {},
   "outputs": [],
   "source": [
    "## Create Inference model\n",
    "encoder_inputs = model.input[0] #input_1\n",
    "encoder_outputs, state_h_enc, state_c_enc = model.layers[2].output # trained encoder's lstm outputs\n",
    "encoder_states = [state_h_enc, state_c_enc]\n",
    "encoder_model = Model(encoder_inputs, encoder_states)"
   ]
  },
  {
   "cell_type": "code",
   "execution_count": null,
   "metadata": {},
   "outputs": [],
   "source": [
    "plot_model(encoder_model, show_shapes=True)"
   ]
  },
  {
   "cell_type": "markdown",
   "metadata": {},
   "source": [
    "### Inference Decoder Model"
   ]
  },
  {
   "cell_type": "markdown",
   "metadata": {},
   "source": [
    "- For **Decoder Model**:\n",
    "    - We use the input layer of the trained model's Decoder, which includes the decoder_input_data (target sequences one-hot)\n",
    "    - We create two more Inputs, representing the Encoder's LSTM output, [last_h and last_c]\n",
    "    - We use the trained Decoder's LSTM. In the training stage, the decoder LSTM takes in the output of Encoder's last_h and last_c as well as the entire decoder_inputs (complete target sequences). It outputs directly the predicted h's at each time step.\n",
    "    - But in inferencing stage, the Inference Decoder decodes one token at a time, and returns the predicted h, as well as the last_h and last_c. These last_h and last_c will turn out to be the initial states of the Inference Decoder."
   ]
  },
  {
   "cell_type": "code",
   "execution_count": null,
   "metadata": {},
   "outputs": [],
   "source": [
    "decoder_inputs = model.input[1] #input_2\n",
    "decoder_state_input_h = Input(shape=(latent_dim,),name='input_3') # state_h\n",
    "decoder_state_input_c = Input(shape=(latent_dim,),name='input_4') # state_c\n",
    "decoder_states_inputs = [decoder_state_input_h, decoder_state_input_c] # concat state_h and state_c\n",
    "\n",
    "decoder_lstm = model.layers[3] ## trained decoder's LSTM\n",
    "\n",
    "## In training, we use `decoder_ouputs` only.\n",
    "\n",
    "## In inferencing, we need `decoder_c, and decoder_h`\n",
    "## because these c and h form the basis for next decoder input\n",
    "decoder_lstm_outputs, state_h_dec, state_c_dec = decoder_lstm(\n",
    "    decoder_inputs, initial_state=decoder_states_inputs)\n",
    "decoder_states = [state_h_dec, state_c_dec]\n",
    "decoder_dense = model.layers[4] ## output Dense Layer\n",
    "decoder_outputs=decoder_dense(decoder_lstm_outputs)\n",
    "\n",
    "\n",
    "## Inference Model\n",
    "decoder_model = Model(\n",
    "    [decoder_inputs] + decoder_states_inputs, # target sentence + encoder output h+c\n",
    "    [decoder_outputs] + decoder_states) # decoder predicted char + decoder predicted h+c"
   ]
  },
  {
   "cell_type": "code",
   "execution_count": null,
   "metadata": {},
   "outputs": [],
   "source": [
    "plot_model(decoder_model, show_shapes=True)"
   ]
  },
  {
   "cell_type": "code",
   "execution_count": null,
   "metadata": {},
   "outputs": [],
   "source": [
    "decoder_model.summary()"
   ]
  },
  {
   "cell_type": "markdown",
   "metadata": {},
   "source": [
    "### Decode Sequence"
   ]
  },
  {
   "cell_type": "markdown",
   "metadata": {},
   "source": [
    "- Get the outputs [`last_h`, `last_c`] from the Inference Encoder given the input sequence.\n",
    "- In the decoding stage, initialize the `target_seq` with `\\t` and the initial states of Inference Decoder to be [`last_h`, `last_c`] from Inference Encoder.\n",
    "- During the decoding stage:\n",
    "    - Inference Decoder takes in one `target_seq` and [`last_h`, `last_c`] to predict next `target_seq`.\n",
    "    - At the same time, Inference Decoder returns its [`last_h`, `last_c`].\n",
    "    - These predicted `target_set` and [`last_h`, `last_c`] are recycled to be the inputs of next-round Inference Decoder.\n"
   ]
  },
  {
   "cell_type": "code",
   "execution_count": null,
   "metadata": {},
   "outputs": [],
   "source": [
    "def decode_sequence(input_seq):\n",
    "    \n",
    "    # Encode the input as state vectors.\n",
    "    states_value = encoder_model.predict(input_seq) # output: [encoder_last_h, encoder_last_c]\n",
    "\n",
    "    # Generate empty target sequence of length 1.\n",
    "    target_seq = np.zeros((1, 1, num_decoder_tokens))\n",
    "    \n",
    "    # Populate the first character of target sequence with the start character.\n",
    "    target_seq[0, 0, target_token_index['\\t']] = 1.0\n",
    "\n",
    "    # Sampling loop for a batch of sequences\n",
    "    # (to simplify, here we assume a batch of size 1).\n",
    "    stop_condition = False\n",
    "    decoded_sentence = ''\n",
    "    \n",
    "    \n",
    "    # Within the WHILE-LOOP\n",
    "    ## Update `target_seq`, `states_value, i.e., [h,c]`\n",
    "    while not stop_condition:\n",
    "        # inference starts at the first target char\n",
    "        # first target char + encoder output h + c\n",
    "        output_tokens, h, c = decoder_model.predict(\n",
    "            [target_seq] + states_value)\n",
    "\n",
    "        # Sample a token\n",
    "        ## Choose the output char of the argmax prob\n",
    "        ## one-hot decode the char and append to the `decoded_sentence`\n",
    "        sampled_token_index = np.argmax(output_tokens[0, -1, :])\n",
    "        sampled_char = reverse_target_char_index[sampled_token_index]\n",
    "        decoded_sentence += sampled_char\n",
    "\n",
    "        # Exit condition: either hit max length\n",
    "        # or find stop character.\n",
    "        if (sampled_char == '\\n' or\n",
    "           len(decoded_sentence) > max_decoder_seq_length):\n",
    "            stop_condition = True\n",
    "\n",
    "        # Update the target sequence (of length 1).\n",
    "        ## everytime the target_seq is the cur_t char, one char a time\n",
    "        ## the shape should be [1, ,1 vocab_size]\n",
    "        target_seq = np.zeros((1, 1, num_decoder_tokens))\n",
    "        target_seq[0, 0, sampled_token_index] = 1.0\n",
    "\n",
    "        # Update states\n",
    "        ## the h and c output from decoder at cur_t\n",
    "        states_value = [h, c]\n",
    "\n",
    "    return decoded_sentence"
   ]
  },
  {
   "cell_type": "markdown",
   "metadata": {},
   "source": [
    "### Try Inference Decoder"
   ]
  },
  {
   "cell_type": "code",
   "execution_count": null,
   "metadata": {
    "scrolled": true
   },
   "outputs": [],
   "source": [
    "for seq_index in range(20):\n",
    "    # Take one sequence (part of the training set)\n",
    "    # for trying out decoding.\n",
    "    input_seq = encoder_input_data[seq_index: seq_index + 1]\n",
    "    decoded_sentence = decode_sequence(input_seq)\n",
    "    print('-')\n",
    "    print('Input sentence:', input_texts[seq_index])\n",
    "    print('Decoded sentence:', decoded_sentence)"
   ]
  },
  {
   "cell_type": "markdown",
   "metadata": {},
   "source": [
    "## End-to-End Implementation"
   ]
  },
  {
   "cell_type": "code",
   "execution_count": null,
   "metadata": {},
   "outputs": [],
   "source": [
    "## in_texts: a list of input sequences\n",
    "def trans(in_texts):\n",
    "    ## Input tensor dimensions: [input_batch_size, input_sequence_length, input_vecob/char_size]\n",
    "    in_texts_onehot = np.zeros(\n",
    "        (len(in_texts), max_encoder_seq_length, num_encoder_tokens),\n",
    "     \n",
    "        dtype='float32')\n",
    "    \n",
    "    ## Ont-hot encoding in_texts\n",
    "    for i, text in enumerate(in_texts):\n",
    "        ## One-hot encode input_text\n",
    "        for t, char in enumerate(text):\n",
    "            in_texts_onehot[i, t, input_token_index[char]] = 1.\n",
    "        ## End of encoder_input_data\n",
    "        in_texts_onehot[i, t + 1:, input_token_index[' ']] = 1. \n",
    "    \n",
    "    # Char Holder\n",
    "    target_texts = []\n",
    "    \n",
    "    \n",
    "    ## Decoding Sequence\n",
    "    for seq_index in range(len(in_texts)):\n",
    "        input_seq = in_texts_onehot[seq_index: seq_index + 1]\n",
    "        target_texts.append(decode_sequence(input_seq))\n",
    "    \n",
    "    \n",
    "    return target_texts"
   ]
  },
  {
   "cell_type": "code",
   "execution_count": null,
   "metadata": {},
   "outputs": [],
   "source": [
    "trans(['How are you?', 'Ok!', 'Hurry!',\"How's the weather?\", \"My name is Alvin.\"])"
   ]
  },
  {
   "cell_type": "markdown",
   "metadata": {},
   "source": [
    "## References"
   ]
  },
  {
   "cell_type": "markdown",
   "metadata": {},
   "source": [
    "- Character-based machine translation using seq-to-seq model\n",
    "- This is based on keras official code example:[Character-level recurrent sequence-to-sequence model](https://keras.io/examples/nlp/lstm_seq2seq/)\n",
    "- Other useful tutorials:\n",
    "    - [Day 18:機器翻譯(Machine Translation](https://ithelp.ithome.com.tw/articles/10194403)\n",
    "- Machine Translation Datasets: \n",
    "    - [English to French sentence pairs](http://www.manythings.org/anki/fra-eng.zip)\n",
    "    - [Paired Datasets of Other languages](http://www.manythings.org/anki/)\n",
    "- Readings\n",
    "    - [Sequence to Sequence Learning with Neural Networks](https://arxiv.org/abs/1409.3215)\n",
    "    - [Learning Phrase Representations using RNN Encoder-Decoder for Statistical Machine Translation](https://arxiv.org/abs/1406.1078)"
   ]
  },
  {
   "cell_type": "markdown",
   "metadata": {},
   "source": [
    "## Manual Processing"
   ]
  },
  {
   "cell_type": "markdown",
   "metadata": {},
   "source": [
    "### Token Indices"
   ]
  },
  {
   "cell_type": "code",
   "execution_count": null,
   "metadata": {},
   "outputs": [],
   "source": [
    "# Create char index dictionary\n",
    "## char as the key and index as the value\n",
    "input_token_index = dict(\n",
    "    [(char, i) for i, char in enumerate(input_characters)])\n",
    "target_token_index = dict(\n",
    "    [(char, i) for i, char in enumerate(target_characters)])"
   ]
  },
  {
   "cell_type": "code",
   "execution_count": null,
   "metadata": {},
   "outputs": [],
   "source": [
    "# Reverse-lookup token index to decode sequences back to\n",
    "# something readable.\n",
    "reverse_input_char_index = dict(\n",
    "    (i, char) for char, i in input_token_index.items())\n",
    "reverse_target_char_index = dict(\n",
    "    (i, char) for char, i in target_token_index.items())"
   ]
  },
  {
   "cell_type": "code",
   "execution_count": null,
   "metadata": {},
   "outputs": [],
   "source": [
    "input_token_index.get('H')"
   ]
  },
  {
   "cell_type": "code",
   "execution_count": null,
   "metadata": {},
   "outputs": [],
   "source": [
    "reverse_input_char_index"
   ]
  },
  {
   "cell_type": "code",
   "execution_count": null,
   "metadata": {},
   "outputs": [],
   "source": [
    "input_token_index"
   ]
  },
  {
   "cell_type": "code",
   "execution_count": null,
   "metadata": {},
   "outputs": [],
   "source": [
    "reverse_input_char_index.get(28)"
   ]
  },
  {
   "cell_type": "markdown",
   "metadata": {},
   "source": [
    "### One-Hot Encoding of Tokens in Sequences"
   ]
  },
  {
   "cell_type": "markdown",
   "metadata": {},
   "source": [
    "- For each token of the input and target sequences, convert it into a one-hot encoding vector.\n",
    "- The size of the one-hot vector is the vocabulary size of the input/target language."
   ]
  },
  {
   "cell_type": "code",
   "execution_count": null,
   "metadata": {},
   "outputs": [],
   "source": [
    "## Text to One-Hot Encoding\n",
    "\n",
    "## Input Data Shape, 3D: (batch_size, max_encoder_seq_length, num_encoder_tokens)\n",
    "\n",
    "# Initialize encoder/decoder\n",
    "## Both input output are three dimensional tensors,\n",
    "## consisting of each sentence, with all words encoded in one-hot.\n",
    "\n",
    "## Input tensor dimensions: [input_batch_size, input_sequence_length, input_vecob/char_size]\n",
    "encoder_input_data = np.zeros(\n",
    "    (len(input_texts), max_encoder_seq_length, num_encoder_tokens),\n",
    "    dtype='float32')\n",
    "\n",
    "## Output tensor dimensions: [output_batch_size, output_sequence_length, output_vecob/char_size]\n",
    "decoder_input_data = np.zeros(\n",
    "    (len(input_texts), max_decoder_seq_length, num_decoder_tokens),\n",
    "    dtype='float32')\n",
    "decoder_target_data = np.zeros(\n",
    "    (len(input_texts), max_decoder_seq_length, num_decoder_tokens),\n",
    "    dtype='float32')"
   ]
  },
  {
   "cell_type": "code",
   "execution_count": null,
   "metadata": {},
   "outputs": [],
   "source": [
    "print(encoder_input_data.shape)\n",
    "print(decoder_input_data.shape)\n",
    "print(decoder_target_data.shape)"
   ]
  },
  {
   "cell_type": "code",
   "execution_count": null,
   "metadata": {
    "scrolled": true
   },
   "outputs": [],
   "source": [
    "print(input_texts[:10])\n",
    "print(target_texts[:10])"
   ]
  },
  {
   "cell_type": "code",
   "execution_count": null,
   "metadata": {},
   "outputs": [],
   "source": [
    "input_texts_len = [len(i) for i in input_texts]"
   ]
  },
  {
   "cell_type": "code",
   "execution_count": null,
   "metadata": {},
   "outputs": [],
   "source": [
    "input_texts_len[np.argmax(input_texts_len)]"
   ]
  },
  {
   "cell_type": "code",
   "execution_count": null,
   "metadata": {},
   "outputs": [],
   "source": [
    "# One-hot encode input and output texts\n",
    "for i, (input_text, target_text) in enumerate(zip(input_texts, target_texts)):\n",
    "    \n",
    "    ## One-hot encode input_text\n",
    "    for t, char in enumerate(input_text):\n",
    "        encoder_input_data[i, t, input_token_index[char]] = 1.\n",
    "    \n",
    "    ## End of encoder_input_data\n",
    "    encoder_input_data[i, t + 1:, input_token_index[' ']] = 1. \n",
    "#     encoder_input_data[i,t+1:,:] = -1.0\n",
    "#     encoder_input_data[i,t+1:t+2,input_token_index[' ']] = 1.0\n",
    "    \n",
    "    ## One-hot encode target_text\n",
    "    for t, char in enumerate(target_text):\n",
    "        # decoder_target_data is ahead of decoder_input_data by one timestep\n",
    "        decoder_input_data[i, t, target_token_index[char]] = 1.\n",
    "        \n",
    "        # When t > 0, this is the starting character of decoder_target_data\n",
    "        if t > 0:\n",
    "            # decoder_target_data will be ahead by one timestep\n",
    "            # and will not include the start character.\n",
    "            decoder_target_data[i, t - 1, target_token_index[char]] = 1.\n",
    "    \n",
    "    ## End of decoder_input_data and decoder_output_data\n",
    "    decoder_input_data[i, t + 1:, target_token_index[' ']] = 1.\n",
    "    decoder_target_data[i, t:, target_token_index[' ']] = 1.\n",
    "#     decoder_input_data[i, t+1:, :] = -1.\n",
    "#     decoder_target_data[i, t:, :] = -1.\n",
    "\n"
   ]
  },
  {
   "cell_type": "code",
   "execution_count": null,
   "metadata": {},
   "outputs": [],
   "source": [
    "input_texts[0]\n",
    "len(input_texts[0])"
   ]
  },
  {
   "cell_type": "code",
   "execution_count": null,
   "metadata": {},
   "outputs": [],
   "source": [
    "## Check input\n",
    "[reverse_input_char_index.get(np.argmax(i)) for i in encoder_input_data[0]]"
   ]
  },
  {
   "cell_type": "code",
   "execution_count": null,
   "metadata": {},
   "outputs": [],
   "source": [
    "target_texts[0]"
   ]
  },
  {
   "cell_type": "code",
   "execution_count": null,
   "metadata": {},
   "outputs": [],
   "source": [
    "print(len(target_texts[0]))"
   ]
  },
  {
   "cell_type": "code",
   "execution_count": null,
   "metadata": {},
   "outputs": [],
   "source": [
    "np.argmax(decoder_input_data[0, 9,:])"
   ]
  },
  {
   "cell_type": "code",
   "execution_count": null,
   "metadata": {},
   "outputs": [],
   "source": [
    "[reverse_target_char_index.get(np.argmax(i)) for i in decoder_input_data[0]]"
   ]
  },
  {
   "cell_type": "code",
   "execution_count": null,
   "metadata": {},
   "outputs": [],
   "source": [
    "## Check output\n",
    "[reverse_target_char_index.get(np.argmax(i)) for i in decoder_target_data[0]]"
   ]
  },
  {
   "cell_type": "code",
   "execution_count": null,
   "metadata": {},
   "outputs": [],
   "source": [
    "# check  sequence\n",
    "print([reverse_input_char_index.get(np.argmax(i)) for i in list(encoder_input_data[0,:,:])])\n",
    "print([reverse_target_char_index.get(np.argmax(i)) for i in list(decoder_input_data[0,:,:])])\n",
    "print([reverse_target_char_index.get(np.argmax(i)) for i in list(decoder_target_data[0,:,:])])\n"
   ]
  },
  {
   "cell_type": "code",
   "execution_count": null,
   "metadata": {},
   "outputs": [],
   "source": [
    "encoder_input_data[0,0:10,:]"
   ]
  },
  {
   "cell_type": "markdown",
   "metadata": {},
   "source": [
    "### Text-to-Sequences Encoding"
   ]
  },
  {
   "cell_type": "code",
   "execution_count": null,
   "metadata": {},
   "outputs": [],
   "source": [
    "## Text to Sequence\n",
    "## Input Data Shape: 2D; (Batch_size, max_encoder_seq_length)\n",
    "## Input tensor dimensions: [input_batch_size, input_sequence_length, input_vecob/char_size]\n",
    "encoder_input_data_sequence = np.zeros(\n",
    "    (len(input_texts), max_encoder_seq_length),\n",
    "    dtype='float32')\n",
    "\n",
    "## Output tensor dimensions: [output_batch_size, output_sequence_length, output_vecob/char_size]\n",
    "decoder_input_data_sequence = np.zeros(\n",
    "    (len(input_texts), max_decoder_seq_length),\n",
    "    dtype='float32')\n",
    "decoder_target_data_sequence = np.zeros(\n",
    "    (len(input_texts), max_decoder_seq_length),\n",
    "    dtype='float32')"
   ]
  },
  {
   "cell_type": "code",
   "execution_count": null,
   "metadata": {},
   "outputs": [],
   "source": [
    "## Text to Sequences\n",
    "for i, (input_text, target_text) in enumerate(zip(input_texts, target_texts)):\n",
    "    \n",
    "    ## One-hot encode input_text\n",
    "    for t, char in enumerate(input_text):\n",
    "        encoder_input_data_sequence[i, t] = input_token_index[char]\n",
    "    \n",
    "    ## End of encoder_input_data\n",
    "#     encoder_input_data_seqeunce[i, t:t + 1, input_token_index[' ']] = 1. \n",
    "\n",
    "    ## One-hot encode target_text\n",
    "    for t, char in enumerate(target_text):\n",
    "        # decoder_target_data is ahead of decoder_input_data by one timestep\n",
    "        decoder_input_data_sequence[i, t] = target_token_index[char]\n",
    "        \n",
    "        # When t > 0, this is the starting character of decoder_target_data\n",
    "        if t > 0:\n",
    "            # decoder_target_data will be ahead by one timestep\n",
    "            # and will not include the start character.\n",
    "            decoder_target_data_sequence[i, t - 1] = target_token_index[char]\n",
    "    \n",
    "    ## End of decoder_input_data and decoder_output_data\n",
    "    decoder_input_data[i, t + 1:, target_token_index[' ']] = 1.\n",
    "    decoder_target_data[i, t:, target_token_index[' ']] = 1.\n",
    "#     decoder_input_data[i, t+1:, :] = -1.\n",
    "#     decoder_target_data[i, t:, :] = -1.\n",
    "#     decoder_input_data[i, t:t+1, target_token_index[' ']] = 1.\n",
    "#     decoder_target_data[i, t, target_token_index[' ']] = 1.\n"
   ]
  },
  {
   "cell_type": "code",
   "execution_count": null,
   "metadata": {
    "scrolled": true
   },
   "outputs": [],
   "source": [
    "encoder_input_data_sequence[0:10,:]"
   ]
  }
 ],
 "metadata": {
  "kernelspec": {
   "display_name": "python-notes",
   "language": "python",
   "name": "python-notes"
  },
  "language_info": {
   "codemirror_mode": {
    "name": "ipython",
    "version": 3
   },
   "file_extension": ".py",
   "mimetype": "text/x-python",
   "name": "python",
   "nbconvert_exporter": "python",
   "pygments_lexer": "ipython3",
   "version": "3.7.0"
  },
  "toc": {
   "base_numbering": 1,
   "nav_menu": {},
   "number_sections": false,
   "sideBar": true,
   "skip_h1_title": false,
   "title_cell": "Table of Contents",
   "title_sidebar": "Contents",
   "toc_cell": false,
   "toc_position": {},
   "toc_section_display": true,
   "toc_window_display": true
  },
  "varInspector": {
   "cols": {
    "lenName": 16,
    "lenType": 16,
    "lenVar": 40
   },
   "kernels_config": {
    "python": {
     "delete_cmd_postfix": "",
     "delete_cmd_prefix": "del ",
     "library": "var_list.py",
     "varRefreshCmd": "print(var_dic_list())"
    },
    "r": {
     "delete_cmd_postfix": ") ",
     "delete_cmd_prefix": "rm(",
     "library": "var_list.r",
     "varRefreshCmd": "cat(var_dic_list()) "
    }
   },
   "types_to_exclude": [
    "module",
    "function",
    "builtin_function_or_method",
    "instance",
    "_Feature"
   ],
   "window_display": false
  }
 },
 "nbformat": 4,
 "nbformat_minor": 4
}
