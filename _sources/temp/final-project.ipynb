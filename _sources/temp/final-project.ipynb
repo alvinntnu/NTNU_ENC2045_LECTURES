{
 "cells": [
  {
   "cell_type": "markdown",
   "id": "3a34efaa",
   "metadata": {},
   "source": [
    "# Final Exam"
   ]
  },
  {
   "cell_type": "markdown",
   "id": "e25e7fd7",
   "metadata": {},
   "source": [
    "The second half of the semester has been quite unsettling to most of us. Also, I understand that the materials in the second half of the semester are more challenging in many ways as well. As you are still working on the remaining coding assignments, I would like to give you information on the final exam so that you can plan ahead. \n",
    "\n",
    "For the final exam, I like to have it as a project-based task instead of dealing with assigned questions like you did with the coding assignments. Simply put, I would like all of you to apply what you have learned to a practical task by \n",
    "specifically creating a deep-learning based classifier for a particular NLP task. If you have an on-going thesis project, this would be a good chance to combine both as well. \n",
    "\n",
    "This document gives instructions for this project-based final exam."
   ]
  },
  {
   "cell_type": "markdown",
   "id": "d9996624",
   "metadata": {},
   "source": [
    "## General Description\n",
    "\n",
    "Please define an NLP task you are interested in and find a proper dataset for your own task. It is recommended that you use an existing (i.e., publicly available) datasets for this project. The NLP task has to be a classification task (either binary or multi-class classification), and you are expected to create a classifier based on the deep learning sequence model.\n",
    "\n",
    "Your final project will be presented as a **jupyter notebook** with both your project *reports* as well as all the python *codes* for data processing and analysis. Also, please include the **dataset file(s)** along with the jupyter notebook."
   ]
  },
  {
   "cell_type": "markdown",
   "id": "2829903d",
   "metadata": {},
   "source": [
    "## Content of Your Project Report"
   ]
  },
  {
   "cell_type": "markdown",
   "id": "cd1cf64f",
   "metadata": {},
   "source": [
    "The requirements of the final project report are much the same as a typical research paper. The purpose of the report is to show the reader a clear and comprehensive overview of:\n",
    "\n",
    "- how you define your NLP task, \n",
    "- how you process the data,\n",
    "- how you build the model,\n",
    "- how you evaluate the model,\n",
    "- how you make generalizations/conclusions from the model.\n",
    "\n",
    "More specifically, you are expected to cover the following content organized in sections in your notebook:\n",
    "\n",
    "- **Problem**: Briefly explain what problem you are tackling, why it is important, and what the existing approaches are and their limitations.\n",
    "- **Data**: Briefly describe the dataset you use in the project (i.e., where you get the dataset, who is the data provider, how big the data is, other relevant corpus metadata/profiles), and provide a few examples. \n",
    "- **Approach**: Describe your classifier, i.e., the architecture of the sequence model, esp. how you design/arrange types of layers in your model. A model summary and plot are required.\n",
    "- **Results**: Present your most important results. Presenting many numbers in an unorganized way is not helping. Be selective and coherent. Clearly specify what evaluation metrics you use, and what is being compared. And most importantly, explain the numbers in your own words.\n",
    "- **Analysis**: Provide interesting analysis and interpretations of the results. Make it clear what the reader can or should conclude from your results.\n",
    "- **Conclusions**: Briefly draw main conclusions from your work, and outline future work, if possible.\n",
    "- **References**: List important papers/references that are relevant to your project (in APA format).\n",
    "\n",
    "\n",
    ":::{tip}\n",
    "As you need to include your textual reports in the notebook, you need to have basic understanding of the **markdown** language. If you are still not familiar with the markdown cells, please check Jupyter Notebook documentations on [Markdown Cells](https://jupyter-notebook.readthedocs.io/en/stable/examples/Notebook/Working%20With%20Markdown%20Cells.html)\n",
    ":::\n"
   ]
  },
  {
   "cell_type": "markdown",
   "id": "30f8cc1c",
   "metadata": {},
   "source": [
    "## Submission\n",
    "\n",
    "- You need to submit three files for the final project:\n",
    "    - **Jupyter Notebook**: The notebook should include both your project reports and the python codes.\n",
    "    - **HTML**: The HTML version of the Jupyter notebook.\n",
    "    - **Dataset**: The file should include all the data sets you use in the project. The file should be the direct file used in your codes.\n",
    "- I would assume that if we have both your notebook and dataset under the same directory, we can run your ENTIRE notebook from the top to the end to replicate all the outputs shown in your notebook. Please re-start the kernel and run the entire notebook before submitting your package.\n",
    "- Please submit all files via Moodle like you did with the course assignments.\n",
    "- Project Due: **9:00am, Fri., June 25.**\n",
    "    "
   ]
  }
 ],
 "metadata": {
  "kernelspec": {
   "display_name": "python-notes",
   "language": "python",
   "name": "python-notes"
  },
  "language_info": {
   "codemirror_mode": {
    "name": "ipython",
    "version": 3
   },
   "file_extension": ".py",
   "mimetype": "text/x-python",
   "name": "python",
   "nbconvert_exporter": "python",
   "pygments_lexer": "ipython3",
   "version": "3.7.0"
  },
  "toc": {
   "base_numbering": 1,
   "nav_menu": {},
   "number_sections": false,
   "sideBar": true,
   "skip_h1_title": true,
   "title_cell": "Table of Contents",
   "title_sidebar": "Contents",
   "toc_cell": false,
   "toc_position": {},
   "toc_section_display": true,
   "toc_window_display": false
  },
  "varInspector": {
   "cols": {
    "lenName": 16,
    "lenType": 16,
    "lenVar": 40
   },
   "kernels_config": {
    "python": {
     "delete_cmd_postfix": "",
     "delete_cmd_prefix": "del ",
     "library": "var_list.py",
     "varRefreshCmd": "print(var_dic_list())"
    },
    "r": {
     "delete_cmd_postfix": ") ",
     "delete_cmd_prefix": "rm(",
     "library": "var_list.r",
     "varRefreshCmd": "cat(var_dic_list()) "
    }
   },
   "types_to_exclude": [
    "module",
    "function",
    "builtin_function_or_method",
    "instance",
    "_Feature"
   ],
   "window_display": false
  }
 },
 "nbformat": 4,
 "nbformat_minor": 5
}
