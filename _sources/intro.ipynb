{
 "cells": [
  {
   "cell_type": "markdown",
   "metadata": {
    "id": "448C7L55TyZc",
    "slideshow": {
     "slide_type": "slide"
    }
   },
   "source": [
    "# ENC2045 Computational Linguistics"
   ]
  },
  {
   "cell_type": "code",
   "execution_count": 1,
   "metadata": {
    "id": "--mVyDgITyZf",
    "outputId": "c7be1676-ac43-49ac-e5b8-ca64ee84636c",
    "slideshow": {
     "slide_type": "skip"
    },
    "tags": [
     "remove-input"
    ]
   },
   "outputs": [
    {
     "name": "stdout",
     "output_type": "stream",
     "text": [
      "Last Updated: 2024-02-23\n"
     ]
    }
   ],
   "source": [
    "from datetime import datetime\n",
    "print('Last Updated: '+ datetime.today().strftime('%Y-%m-%d'))"
   ]
  },
  {
   "cell_type": "markdown",
   "metadata": {
    "id": "TN_cuOscTyZg",
    "slideshow": {
     "slide_type": "subslide"
    }
   },
   "source": [
    ":::{attention}\n",
    "We're updating the course materials as we progress through the Spring 2024 schedule. Typically, the lecture notes for each topic will be finalized and revised during its scheduled week on the syllabus.\n",
    ":::"
   ]
  },
  {
   "cell_type": "markdown",
   "metadata": {
    "id": "uyHDMtBSTyZh",
    "slideshow": {
     "slide_type": "subslide"
    }
   },
   "source": [
    "```{admonition} Contributing to the Lecture Notes!\n",
    ":class: note\n",
    "This website now supports [Hypothe.is](https://web.hypothes.is/), which is an amazing tool for website annotations. If you would like to contribute to the lecture notes (e.g., error corrections), please leave your comments and suggestions as annotations. Corrections of the materials will be made on a regular basis. And your contributions are always greatly appreciated:)\n",
    "```"
   ]
  },
  {
   "cell_type": "markdown",
   "metadata": {},
   "source": [
    "```{contents}\n",
    "```"
   ]
  },
  {
   "cell_type": "markdown",
   "metadata": {
    "id": "OiHu_jvwTyZh",
    "slideshow": {
     "slide_type": "slide"
    }
   },
   "source": [
    "## Course Syllabus"
   ]
  },
  {
   "cell_type": "markdown",
   "metadata": {
    "id": "OiHu_jvwTyZh",
    "slideshow": {
     "slide_type": "slide"
    }
   },
   "source": [
    "### Introduction\n",
    "\n",
    "Computational Linguistics (CL) is now a very active sub-discipline in applied linguistics. Its main focus is on the computational text analytics, which is essentially about leveraging computational tools, techniques, and algorithms to process and understand natural language data (in spoken, textual, or even multimodal formats). Therefore, this course aims to introduce fundamental concepts, useful strategies and common workflows that have been widely adopted by data scientists to extract useful insights from natural language data. In this course, we will mainly focus on **textual** data."
   ]
  },
  {
   "cell_type": "markdown",
   "metadata": {
    "id": "OiHu_jvwTyZh",
    "slideshow": {
     "slide_type": "slide"
    }
   },
   "source": [
    "### Course Objectives\n",
    "\n",
    "A selective collection of potential topics may include:\n",
    "\n",
    "::::{grid}\n",
    ":gutter: 3\n",
    "\n",
    ":::{grid-item-card} <i class=\"fa fa-check fa-1x\" style=\"color:DarkTurquoise;margin-right:5px\"></i> A Pipeline for Natural Language Processing\n",
    ":columns: 6\n",
    "\n",
    "-   Text Normalization\n",
    "-   Text Tokenization\n",
    "-   Parsing and Chunking\n",
    ":::\n",
    "\n",
    "\n",
    ":::{grid-item-card} <i class=\"fa fa-check fa-1x\" style=\"color:DarkTurquoise;margin-right:5px\"></i> Chinese Processing\n",
    ":columns: 6\n",
    "\n",
    "-   Issues for Chinese Language Processing (Word Segmentation)\n",
    "-   Different word segmentation tools/packages\n",
    ":::\n",
    "\n",
    "\n",
    ":::{grid-item-card} <i class=\"fa fa-check fa-1x\" style=\"color:DarkTurquoise;margin-right:5px\"></i> Machine Learning Basics\n",
    ":columns: 6\n",
    "\n",
    "-   Feature Engineering and Text Vectorization\n",
    "-   Traditional Machine Learning\n",
    "-   Classification Models (Naive Bayes, SVM, Logistic Regression)\n",
    ":::\n",
    "\n",
    ":::{grid-item-card} <i class=\"fa fa-check fa-1x\" style=\"color:DarkTurquoise;margin-right:5px\"></i> Common Computational Tasks\n",
    ":columns: 6\n",
    "\n",
    "-   Sentiment Analysis\n",
    "-   Tex Clustering and Topic Modeling\n",
    "-   Emsemble Learning\n",
    ":::\n",
    "\n",
    ":::{grid-item-card} <i class=\"fa fa-check fa-1x\" style=\"color:DarkTurquoise;margin-right:5px\"></i> Deep Learning NLP\n",
    ":columns: 6\n",
    "\n",
    "-   Neural Language Model\n",
    "-   Sequence Models (RNN, LSTM, GRU)\n",
    "-   Sequence-to-sequence Model\n",
    "-   Attention-based Models\n",
    "-   Explainable Artificial Intelligence and Computational Linguistics\n",
    ":::\n",
    "\n",
    ":::{grid-item-card} <i class=\"fa fa-check fa-1x\" style=\"color:DarkTurquoise;margin-right:5px\"></i> Large Language Models\n",
    ":columns: 6\n",
    "\n",
    "-   Generative AI\n",
    "-   Applications of LLM (e.g., BERT, ChatGPT)\n",
    "-   Transfer Learning and Fine-Tuning\n",
    "-   Prompt Engineering\n",
    "-   Retrieval-Augmentated Generation\n",
    "-   Multimodal Data Processing \n",
    ":::\n",
    "::::\n",
    "\n",
    "This course is extremely hands-on and will guide the students through classic examples of many task-oriented implementations via in-class theme-based tutorial sessions. The main coding language used in this course is Python. \n",
    "\n",
    "It is assumed that you know or will quickly learn how to code in **Python** <i class=\"fa-brands fa-python\"></i>. In fact, this course assumes that every enrolled student has considerable working knowledge of Python. (If you are not sure whether you fulfill the prerequisite, please contact the instructor first).\n",
    "\n",
    "To be more specific, you are assumed to have already had working knowledge of all the concepts included in the book, *Lean Python: Learn Just Enough Python to Build Useful Tools*. If the materials covered in the book are all very novel to you, I would strongly advise you not to take this course.\n",
    "\n",
    "On the other hand, please note that this course is designed specifically for linguistics majors in humanities. For computer science majors, this course will not feature a thorough description of the mathematical operations behind the algorithms. Nor will we focus on the most recent developments in the field of deep learning based NLP. We focus more on the fundamentals and their practical implementations.\n",
    "\n",
    "### Course Website\n",
    "\n",
    "All the course materials will be available on the [course website ENC2045](https://alvinntnu.github.io/NTNU_ENC2045/). You may need a password to access the course materials/data. If you are an officially enrolled student, please ask the instructor for the passcode.\n",
    "\n",
    "We will also have a Moodle course site for assignment submission.\n",
    "\n",
    "Please read the FAQ of the course website before course registration."
   ]
  },
  {
   "cell_type": "markdown",
   "metadata": {
    "id": "WMYseTN1TyZi"
   },
   "source": [
    "## Readings\n",
    "\n",
    "### Major Readings\n",
    "\n",
    "The course materials are mainly based on the following readings.\n",
    "\n",
    "::::{grid}\n",
    "\n",
    ":::{grid-item-card}\n",
    ":columns: 4\n",
    "```{image} images/book-nltk.jpg\n",
    ":alt: ntlk\n",
    ":width: 100%\n",
    ":align: center\n",
    "```\n",
    ":::\n",
    "\n",
    ":::{grid-item-card}\n",
    ":columns: 4\n",
    "```{image} images/book-pnlp.jpg\n",
    ":alt: ntlk\n",
    ":width: 100%\n",
    ":align: center\n",
    "```\n",
    ":::\n",
    "\n",
    ":::{grid-item-card}\n",
    ":columns: 4\n",
    "```{image} images/book-text-analytics.jpg\n",
    ":alt: text-analytics\n",
    ":width: 100%\n",
    ":align: center\n",
    "```\n",
    ":::\n",
    "::::\n",
    "\n",
    "\n",
    "::::{grid}\n",
    "\n",
    "\n",
    ":::{grid-item-card}\n",
    ":columns: 4\n",
    "```{image} images/book-sklearn.jpg\n",
    ":alt: sklearn\n",
    ":width: 100%\n",
    ":align: center\n",
    "```\n",
    ":::\n",
    "\n",
    ":::{grid-item-card}\n",
    ":columns: 4\n",
    "```{image} images/book-dl.jpg\n",
    ":alt: dl\n",
    ":width: 100%\n",
    ":align: center\n",
    "```\n",
    ":::\n",
    "::::\n",
    "\n",
    "### Recommended Books\n",
    "\n",
    "Also, there are many other useful reference books, which are listed as follows in terms of three categories:\n",
    "\n",
    "-   Python Basics {cite}`gerrard2016lean`\n",
    "-   Data Analysis with Python {cite}`mckinney2012python,geron2019hands`\n",
    "-   Natural Language Processing with Python {cite}`sarkar2019text,bird2009natural,vajjala2020,perkins2014python,srinivasa2018natural`\n",
    "-   Deep Learning {cite}`francois2017deep`\n",
    "-   The Oxford Handbook of Computational Linguistics (Second edition) {cite}`mitkov2022oxford`\n",
    "\n",
    "### Online Resources\n",
    "\n",
    "In addition to books, there are many wonderful on-line resources, esp. professional blogs, providing useful tutorials and intuitive understanding of many complex ideas in NLP and AI development. Among them, here is a list of my favorites:\n",
    "\n",
    "-   [Toward Data Science](https://towardsdatascience.com/)\n",
    "-   [LeeMeng](https://leemeng.tw/)\n",
    "-   [Dipanzan Sarkar’s articles](https://towardsdatascience.com/@dipanzan.sarkar)\n",
    "-   [Python Graph Libraries](https://python-graph-gallery.com/)\n",
    "-   [KGPTalkie NLP](https://kgptalkie.com/category/natural-language-processing-nlp/)\n",
    "-   [Jason Brownlee’s Blog: Machine Learning Mastery](https://machinelearningmastery.com/)\n",
    "-   [Jay Alammar’s Blog](https://jalammar.github.io/)\n",
    "-   [Chris McCormich’s Blog](https://mccormickml.com/)\n",
    "-   [GLUE: General Language Understanding Evaluation Benchmark](https://gluebenchmark.com/)\n",
    "-   [SuperGLUE](https://super.gluebenchmark.com/)\n",
    "\n",
    "### YouTube Channels <i class=\"fa-brands fa-square-youtube\"></i>\n",
    "\n",
    "-   [Chris McCormick AI](https://www.youtube.com/channel/UCoRX98PLOsaN8PtekB9kWrw/videos)\n",
    "-   [Corey Schafer](https://www.youtube.com/channel/UCCezIgC97PvUuR4_gbFUs5g)\n",
    "-   [Edureka!](https://www.youtube.com/channel/UCkw4JCwteGrDHIsyIIKo4tQ)\n",
    "-   [Deeplearning.ai](https://www.youtube.com/channel/UCcIXc5mJsHVYTZR1maL5l9w)\n",
    "-   [Free Code Camp](https://www.youtube.com/c/Freecodecamp/videos)\n",
    "-   [Giant Neural Network](https://www.youtube.com/watch?v=ZzWaow1Rvho&list=PLxt59R_fWVzT9bDxA76AHm3ig0Gg9S3So)\n",
    "-   [Tech with Tim](https://www.youtube.com/channel/UC4JX40jDee_tINbkjycV4Sg)\n",
    "-   [PyData](https://www.youtube.com/user/PyDataTV/featured)\n",
    "-   [Python Programmer](https://www.youtube.com/channel/UC68KSmHePPePCjW4v57VPQg)\n",
    "-   [Keith Galli](https://www.youtube.com/channel/UCq6XkhO5SZ66N04IcPbqNcw)\n",
    "-   [Data Science Dojo](https://www.youtube.com/c/Datasciencedojo/featured)\n",
    "-   [Calculus: Single Variable by Professor Robert Ghrist](https://www.youtube.com/playlist?list=PLKc2XOQp0dMwj9zAXD5LlWpriIXIrGaNb)"
   ]
  },
  {
   "cell_type": "markdown",
   "metadata": {
    "id": "csAan5rNTyZk"
   },
   "source": [
    "## Python Setup\n",
    "\n",
    "### Notebooks\n",
    "\n",
    "In this class, I will use Jupyter Notebook for code demonstrations and tutorials. It's important for you to set up Python environments similarly.\n",
    "\n",
    "Please note that many alternative IDE applications also support jupyter notebooks files. Another great option for Python developers is [Visual Studio Code](https://code.visualstudio.com/). \n",
    "\n",
    "In this class, we will mainly use Jupyter notebook files (`*.ipyrnb`), including all your coding assignments. You can run these files either with the default Jupyter notebook from the terminal or with other third-party IDEs that support notebook files, such as Visual Studio Code. Additionally, running the course materials on Google Colab is recommended.\n",
    "\n",
    "### Conda Environment\n",
    "\n",
    ":::{attention}\n",
    "The following installation codes are terminal codes.   \n",
    ":::\n",
    "\n",
    "1.  We assume that you have created and set up your python environment as follows:\n",
    "\n",
    "    -   Install the python with [Anaconda](https://www.anaconda.com/products/individual).\n",
    "\n",
    "    -   Create a conda environment named `python-notes` with `python 3.9`:\n",
    "\n",
    "        ```bash\n",
    "        conda create --name python-notes python=3.9\n",
    "        ```\n",
    "\n",
    "    -   Activate the conda environment:\n",
    "\n",
    "        ```bash\n",
    "        conda activate python-notes\n",
    "        ```\n",
    "\n",
    "    -   Install Jupyter notebook in the newly created conda environment:\n",
    "\n",
    "        ```bash\n",
    "        pip install notebook\n",
    "        ````\n",
    "\n",
    "    -   Install ipykernel package in the newly created conda enviornment:\n",
    "\n",
    "        ```bash\n",
    "        pip install ipykernel\n",
    "        ```\n",
    "\n",
    "    -   Add this new conda environment to IPython kernel list:\n",
    "\n",
    "        ```bash\n",
    "        python -m ipykernel install --user --name=python-notes\n",
    "        ```\n",
    "\n",
    "    -   Run the notebooks provided in the course materials in this newly created conda environment:\n",
    "\n",
    "        ```bash\n",
    "        jupyter notebook\n",
    "        ```   \n",
    "\n",
    "2. In this course, we'll use `jupyter notebook` for Python scripting, and all assignments must be submitted in this format. (Refer to the [Jupyter Notebook installation documentation](https://jupyter.org/install) if needed).\n",
    "\n",
    "3. You're expected to have set up a Conda virtual environment named `python-notes` for scripting and be able to run notebooks using this environment's kernel in Jupyter.\n",
    "\n",
    "4. Alternatively, you can run the notebooks directly in Google Colab, or download the `.ipynb` files to your hard drive or Google Drive for further modifications."
   ]
  },
  {
   "cell_type": "markdown",
   "metadata": {},
   "source": [
    "```{tip}\n",
    "If you cannot find the conda environment kernal in your Jupyter Notebook. Please install the module `ipykernel`. For more details on how to use specific conda environments in Jupyter Notebook, please see [this article](https://medium.com/@nrk25693/how-to-add-your-conda-environment-to-your-jupyter-notebook-in-just-4-steps-abeab8b8d084).\n",
    "```"
   ]
  },
  {
   "cell_type": "markdown",
   "metadata": {},
   "source": [
    ":::{admonition} Set your parameters!!\n",
    ":class: warning, dropdown\n",
    "\n",
    "When you run the installation of the python modules and other packages in the terminal, please remember to change the arguments of the parameters when you follow the instructions provided online.\n",
    "\n",
    "For example, when you create the conda environment:\n",
    "\n",
    "```bash\n",
    "conda create --name XXX python=3.9\n",
    "```\n",
    "\n",
    "You need to specify the conda environment name `XXX` on your own.\n",
    "\n",
    "Similarly, when you add the self-defined conda environment to the notebook kernel list:\n",
    "\n",
    "```bash\n",
    "python -m ipykernel install --user --name=XXX\n",
    "```\n",
    "\n",
    "You need to specify the conda environment name `XXX`.\n",
    ":::\n"
   ]
  },
  {
   "cell_type": "markdown",
   "metadata": {},
   "source": [
    ":::{admonition} Installation tips!\n",
    ":class: tip, dropdown\n",
    "\n",
    "There are several important things here:\n",
    "\n",
    "- You need to activate the conda environment (`python-notes`) in the terminal before installing the necessary modules.\n",
    "- You need to add the kernel name with `python -m ipykernel install --user --name=XXX` within the conda enviroment as well (i.e., actviate the conda environment first).\n",
    "- In summary, activate the Conda environment `python-notes`, install the `ipykernel` module, and add the `python-notes` kernel to the IPython kernel list.\n",
    "- After a few trial-and-errors, I think the best environment setting is that you **only** add the kernel name (conda environment) to `ipykernel` within the `python-notes` conda environment. **Do not** add the conda environment **again** in your base python environment.\n",
    "- Make sure to install `jupyter` in your Conda environment (`python-notes`) and run your notebook from this `python-notes` environment.\n",
    "- Rule of thumb: Activate the newly created conda environment first!!\n",
    "- For Windows users, it's strongly advised to install python-related modules in `Anaconda Prompt` rather than `cmd`.\n",
    "\n",
    "::::\n",
    "\n"
   ]
  },
  {
   "cell_type": "markdown",
   "metadata": {
    "id": "Qj82iUoRTyZk"
   },
   "source": [
    "::::{admonition} Notes for Windows Users\n",
    ":class: info, dropdown\n",
    "Because some of the Window's users are suffering from the problem that the notebook cannot find the correct path of your `python-notes` environment. Could you please try the following?\n",
    "\n",
    "```{attention}\n",
    "We assume you run the following steps in Anaconda Powershell Prompt.\n",
    "```\n",
    "\n",
    "- Create the new conda environment, `python-notes` (if you have done this, ignore)\n",
    "\n",
    "    ```bash\n",
    "    $ conda create --name python-notes python=3.9\n",
    "    ```\n",
    "\n",
    "- Activate the newly-created `python-notes` conda environment\n",
    "\n",
    "    ```bash\n",
    "    $ conda activate python-notes\n",
    "    ```\n",
    "\n",
    "- Within the `python-notes` environment, install the module `ipykernel`\n",
    "\n",
    "    ```bash\n",
    "    $ conda install -c conda-forge ipykernel\n",
    "    ```\n",
    "\n",
    "- Within the `python-notes` environment, install Jupyter notebook:\n",
    "\n",
    "    ```bash\n",
    "    conda install -c conda-froge notebook\n",
    "    ````\n",
    "\n",
    "-   Add this new conda environment to IPython kernel list:\n",
    "\n",
    "    ```bash\n",
    "    python -m ipykernel install --user --name=python-notes\n",
    "    ```\n",
    "\n",
    "- Deactivate the conda environment\n",
    "\n",
    "    ```bash\n",
    "    $ conda deactivate\n",
    "    ```\n",
    "\n",
    "- Install the module `nb_conda_kernels` in your Anaconda base python (This is crucial to the use of self-defined conda environments in notebook.)\n",
    "\n",
    "    ```bash\n",
    "    $ conda install nb_conda_kernels\n",
    "    ```\n",
    "\n",
    "- Then check if the system detects your `python-notes` environment\n",
    "\n",
    "    ```bash\n",
    "    $ python -m nb_conda_kernels list\n",
    "    ```\n",
    "\n",
    ":::{note}\n",
    "Ideally, you should see your `python-notes` popping up in the results like:\n",
    "```\n",
    "conda-env-python-notes-py    c:\\users\\alvinchen\\anaconda3\\envs\\python-notes\\share\\jupyter\\kernels\\python3\n",
    "```\n",
    ":::\n",
    "\n",
    "\n",
    "- If you see the new conda environment name, then it should work. Next, initiate your jupyter notebook\n",
    "\n",
    "    ```bash\n",
    "    $ jupyter notebook\n",
    "    ```\n",
    "\n",
    "- Now you should be able to see you conda environment `python-notes` in your notebook, but the kernel name would be something like `python [conda evn: python-notes]`.\n",
    "\n",
    "::::"
   ]
  },
  {
   "cell_type": "markdown",
   "metadata": {
    "id": "BXT-VWVCTyZl"
   },
   "source": [
    "### Module Requirements\n",
    "\n",
    "Not all modules used in this course come with the default installation of the Python environment. Please remember to install these packages in use if you get a module-not-found type of errors.\n",
    "\n",
    "The following is a list of packages we will use (non-exhaustive):\n",
    "\n",
    "-   `beautifulsoup4`\n",
    "-   `ckip-transformers`\n",
    "-   `gensim`\n",
    "-   `jieba`\n",
    "-   `jupyter`\n",
    "-   `jupyter-nbextensions-configurator`\n",
    "-   `Keras`\n",
    "-   `matplotlib`\n",
    "-   `nltk`\n",
    "-   `numpy`\n",
    "-   `pandas`\n",
    "-   `scikit-learn`\n",
    "-   `seaborn`\n",
    "-   `spacy`\n",
    "-   `scipy`\n",
    "-   `tensorflow`\n",
    "-   `transformers`\n",
    "\n",
    "Please google these packages for more details on their installation."
   ]
  },
  {
   "cell_type": "markdown",
   "metadata": {
    "id": "32ooOcANTyZl"
   },
   "source": [
    "## Coding Assignments Reminders\n",
    "\n",
    "1.  You have to submit your assignments via Moodle.\n",
    "2.  Please name your files in the following format: `Assignment-X-NAME.ipynb` and `Assignment-X-NAME.html`.\n",
    "3.  Please always submit both the Jupyter notebook file and its HTML version.\n",
    "4. On the assignment due date, students will present their solutions to the exercises, with each presentation limited to 20-30 minutes. \n",
    "5. The class will be divided into small groups for these exercise/assignment presentations, with the group size determined by the final enrollment. (Each group is expected to make two presentations throughout the semester.)\n",
    "\n",
    "```{attention}\n",
    "Unless otherwise specified in class, all assignments will be due on the date/time given on Moodle. The due is usually a week after the topic is finished. Late work within **7 calendar days** of the original due date will be accepted by the instructor at the instructor's discretion. After that, no late work will be accepted.\n",
    "```"
   ]
  },
  {
   "cell_type": "markdown",
   "metadata": {},
   "source": [
    "## Annotated Bibliography\n",
    "\n",
    "1. Find a minimum of THREE articles published in the section of [ArXiv in Computation and Language](https://arxiv.org/list/cs.CL/recent) over the last five years and compile an annotated bibliography.\n",
    "2. For each source reference in the annotated bibliography, provide a succinct summary and evaluation.\n",
    "3. The annotations should offer a compact overview of the content, as well as assess the relevance and contributions of the study to a specific topic or field, along with its quality.\n",
    "4. Each annotation should be concise yet critical, comprising no more than 250 words for each source. Your annotations should provide a comprehensive overview of the study's contributions, enabling readers who haven't read the paper to grasp its significance. Remember, plagiarism is strictly prohibited.\n",
    "5. It's advisable to choose articles related to a specific topic. For inspiration on potential topics, please refer to Part 3 Language Processing Tasks and/or Part 4 NLP Applications in the Oxford Handbook of Computational Linguistics {cite}`mitkov2022oxford`.\n",
    "6. The deadline for the annotated bibliography will be announced after the midterm exam.\n",
    "7. Submission guidelines:\n",
    "    - Please submit your document (i.e., annotated bibliography) along with the full-text PDFs of the articles reviewed.\n",
    "    - You can include your notes and highlights in the PDFs.\n",
    "    - All submissions need to be made online through Moodle. No printed copies are needed.\n",
    "    - Please check the deadline on Moodle."
   ]
  },
  {
   "cell_type": "markdown",
   "metadata": {
    "id": "xZ-ktDPCUcXG"
   },
   "source": [
    "## Google Colab\n",
    "\n",
    "- The course materials are being revised so that all the codes can be executed directly on Google Colab. Ideally, it is hoped that students do not have to go through the painful experience of installing python as their start of the NLP <i class=\"fa-regular fa-face-laugh-squint\"></i>!\n",
    "- Right now, we can check the packages available on Google Colab with the following commands:"
   ]
  },
  {
   "cell_type": "code",
   "execution_count": null,
   "metadata": {
    "colab": {
     "base_uri": "https://localhost:8080/"
    },
    "executionInfo": {
     "elapsed": 3854,
     "status": "ok",
     "timestamp": 1698463571613,
     "user": {
      "displayName": "Alvin Chen",
      "userId": "06244732172561186175"
     },
     "user_tz": -480
    },
    "id": "usb9wYWLUCo7",
    "outputId": "f8602fc9-1965-4f93-f85c-a9147f6080ec"
   },
   "outputs": [],
   "source": [
    "## -------------------- ##\n",
    "## Colab Only           ##\n",
    "## -------------------- ##\n",
    "\n",
    "!pip list | wc\n",
    "!pip list -v"
   ]
  },
  {
   "cell_type": "markdown",
   "metadata": {},
   "source": [
    "- To execute the code provided in the course materials on Google Colab, you might have to install certain packages not present in the default Colab environment.\n",
    "\n",
    "- Installing packages or modules in Google Colab is simple and can be accomplished using the `!pip` command, enabling you to execute shell commands directly within a Colab notebook."
   ]
  },
  {
   "cell_type": "code",
   "execution_count": null,
   "metadata": {},
   "outputs": [],
   "source": [
    "## -------------------- ##\n",
    "## Colab Only           ##\n",
    "## -------------------- ##\n",
    "\n",
    "! pip install requests_html\n",
    "! pip install pytesseract"
   ]
  },
  {
   "cell_type": "markdown",
   "metadata": {},
   "source": [
    "- We expect everyone to create a directory named `ENC2045_demo_data` at the root of their own Google Drive. All datasets intended for future tutorials should be downloaded and stored in this designated folder. This setup allows easy access to the datasets on Google Colab using the provided code snippet:\n"
   ]
  },
  {
   "cell_type": "code",
   "execution_count": null,
   "metadata": {},
   "outputs": [],
   "source": [
    "## -------------------- ##\n",
    "## Colab Only           ##\n",
    "## -------------------- ##\n",
    "\n",
    "from google.colab import drive\n",
    "drive.mount('/content/drive')"
   ]
  },
  {
   "cell_type": "markdown",
   "metadata": {},
   "source": [
    "- Once you've mounted Google Drive on Google Colab, the path to access the course materials will be: `/content/drive/MyDrive/ENC2045_demo_data/`."
   ]
  },
  {
   "cell_type": "markdown",
   "metadata": {},
   "source": [
    "## Other Logistics\n",
    "\n",
    "Please refer to [Course Website ENC2045](https://alvinntnu.github.io/NTNU_ENC2045/) for a tentative course schedule and the grading policies."
   ]
  },
  {
   "cell_type": "markdown",
   "metadata": {},
   "source": [
    "## Disclaimer\n",
    "\n",
    "While I strive to cover the basics of computational linguistics to the best of my ability, please note that I am not an expert in Python. Therefore, there may be more advanced packages or more efficient algorithms available that can accomplish the tasks discussed in class. However, it is our intention that the fundamentals covered in this course will provide you with a solid foundation to delve into the latest advancements in the field."
   ]
  },
  {
   "cell_type": "markdown",
   "metadata": {
    "id": "KyF8_NfwTyZl"
   },
   "source": [
    "## References\n",
    "\n",
    "```{bibliography}\n",
    ":filter: docname in docnames\n",
    ":style: unsrt\n",
    "```"
   ]
  }
 ],
 "metadata": {
  "celltoolbar": "Slideshow",
  "colab": {
   "provenance": []
  },
  "kernelspec": {
   "display_name": "Python 3",
   "language": "python",
   "name": "python3"
  },
  "language_info": {
   "codemirror_mode": {
    "name": "ipython",
    "version": 3
   },
   "file_extension": ".py",
   "mimetype": "text/x-python",
   "name": "python",
   "nbconvert_exporter": "python",
   "pygments_lexer": "ipython3",
   "version": "3.9.18"
  },
  "toc": {
   "base_numbering": 1,
   "nav_menu": {},
   "number_sections": false,
   "sideBar": true,
   "skip_h1_title": false,
   "title_cell": "Table of Contents",
   "title_sidebar": "Contents",
   "toc_cell": false,
   "toc_position": {},
   "toc_section_display": true,
   "toc_window_display": false
  },
  "varInspector": {
   "cols": {
    "lenName": 16,
    "lenType": 16,
    "lenVar": 40
   },
   "kernels_config": {
    "python": {
     "delete_cmd_postfix": "",
     "delete_cmd_prefix": "del ",
     "library": "var_list.py",
     "varRefreshCmd": "print(var_dic_list())"
    },
    "r": {
     "delete_cmd_postfix": ") ",
     "delete_cmd_prefix": "rm(",
     "library": "var_list.r",
     "varRefreshCmd": "cat(var_dic_list()) "
    }
   },
   "types_to_exclude": [
    "module",
    "function",
    "builtin_function_or_method",
    "instance",
    "_Feature"
   ],
   "window_display": false
  }
 },
 "nbformat": 4,
 "nbformat_minor": 1
}
