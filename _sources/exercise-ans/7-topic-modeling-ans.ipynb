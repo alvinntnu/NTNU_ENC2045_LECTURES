{
 "cells": [
  {
   "cell_type": "markdown",
   "metadata": {},
   "source": [
    "# Assignment VII: Topic Modeling"
   ]
  },
  {
   "cell_type": "markdown",
   "metadata": {},
   "source": [
    "## Question 1\n",
    "\n",
    "Perform an analysis of Topic Modeling on the corpus, `nltk.corpus.movive_reviews`, and provide the topic distributions of the movie reviews. Please report your topic distributions of positive and negative reviews respectively. (But please note that the topic modeling analysis should take the entire corpus as the input.)\n",
    "\n",
    "Some heuristics for data preprocessing/vectorization:\n",
    "\n",
    "- Include in the bag-of-words representation only words whose lengths are >= 3\n",
    "- Include in the bag-of-words representation only words that are nouns (`NN` or `NNS`) or verbs (`VB.`)\n",
    "- Lemmatize all words in the bag-of-words representation using WordNet\n",
    "- Remove words on the stopwords list in `nltk.corpus.stopwords.words('english')`\n",
    "- Play with the `min_df` and `max_df` to find a better structure of CountVectorizer for the topic modeling\n",
    "\n",
    "\n",
    ":::{warning}\n",
    "\n",
    "As this is an unsupervised learning, it is ok if you get different results. Please base your interpretations of the topics by examining closely their respective associated words in your LDA model.\n",
    "\n",
    ":::"
   ]
  },
  {
   "cell_type": "code",
   "execution_count": 1,
   "metadata": {
    "tags": [
     "remove-input",
     "remove-output"
    ]
   },
   "outputs": [],
   "source": [
    "import nltk, random, re\n",
    "from nltk.corpus import movie_reviews\n",
    "import pandas as pd\n",
    "import matplotlib.pyplot as plt\n",
    "import numpy as np"
   ]
  },
  {
   "cell_type": "code",
   "execution_count": 2,
   "metadata": {
    "tags": [
     "remove-input",
     "remove-output"
    ]
   },
   "outputs": [
    {
     "name": "stdout",
     "output_type": "stream",
     "text": [
      "2000\n",
      "['neg', 'pos']\n",
      "['plot', ':', 'two', 'teen', 'couples', 'go', 'to', ...]\n",
      "['neg/cv000_29416.txt', 'neg/cv001_19502.txt', 'neg/cv002_17424.txt', 'neg/cv003_12683.txt', 'neg/cv004_12641.txt', 'neg/cv005_29357.txt', 'neg/cv006_17022.txt', 'neg/cv007_4992.txt', 'neg/cv008_29326.txt', 'neg/cv009_29417.txt']\n",
      "Number of Reviews/Documents: 2000\n",
      "Corpus Size (words): 1583820\n",
      "Sample Text of Doc 1:\n",
      "------------------------------\n",
      "most movies seem to release a third movie just so it can be called a trilogy . rocky iii seems to kind of fit in that category , but manages to be slightly unique . the rocky formula of \" rocky loses fight / rocky trains / rocky wins fight\n",
      "Counter({'pos': 1000, 'neg': 1000})\n"
     ]
    }
   ],
   "source": [
    "print(len(movie_reviews.fileids()))\n",
    "print(movie_reviews.categories())\n",
    "print(movie_reviews.words()[:100])\n",
    "print(movie_reviews.fileids()[:10])\n",
    "documents = [(list(movie_reviews.words(fileid)), category)\n",
    "             for category in movie_reviews.categories()\n",
    "             for fileid in movie_reviews.fileids(category)]\n",
    "random.seed(123)\n",
    "random.shuffle(documents)\n",
    "print('Number of Reviews/Documents: {}'.format(len(documents)))\n",
    "print('Corpus Size (words): {}'.format(np.sum([len(d) for (d,l) in documents])))\n",
    "print('Sample Text of Doc 1:')\n",
    "print('-'*30)\n",
    "print(' '.join(documents[0][0][:50])) # first 50 words of the first document\n",
    "## Check Sentiment Distribution of the Current Dataset\n",
    "from collections import Counter\n",
    "sentiment_distr = Counter([label for (words, label) in documents])\n",
    "print(sentiment_distr)"
   ]
  },
  {
   "cell_type": "code",
   "execution_count": 3,
   "metadata": {
    "tags": [
     "remove-input",
     "remove-output"
    ]
   },
   "outputs": [],
   "source": [
    "## Data Preprocessing\n",
    "\n",
    "\n",
    "## POS Tagging\n",
    "corpus_pos = [nltk.pos_tag(words) for (words,tag) in documents]\n",
    "corpus_sentiment = [tag for (_,tag) in documents]"
   ]
  },
  {
   "cell_type": "code",
   "execution_count": 4,
   "metadata": {
    "tags": [
     "remove-input",
     "remove-output"
    ]
   },
   "outputs": [],
   "source": [
    "## POS Filtering and Word Lengths Cutoff\n",
    "norm_corpus = [[(w,t) for (w,t) in doc if len(w)>=3 and re.match(r'^(VB.+?|NN|NNS)$', t)] for doc in corpus_pos]"
   ]
  },
  {
   "cell_type": "code",
   "execution_count": 5,
   "metadata": {
    "tags": [
     "remove-input",
     "remove-output"
    ]
   },
   "outputs": [
    {
     "data": {
      "text/plain": [
       "[[('movies', 'NNS'),\n",
       "  ('seem', 'VBP'),\n",
       "  ('movie', 'NN'),\n",
       "  ('called', 'VBN'),\n",
       "  ('trilogy', 'NN'),\n",
       "  ('iii', 'NN'),\n",
       "  ('seems', 'VBZ'),\n",
       "  ('kind', 'NN'),\n",
       "  ('fit', 'NN'),\n",
       "  ('category', 'NN'),\n",
       "  ('manages', 'VBZ'),\n",
       "  ('formula', 'NN'),\n",
       "  ('loses', 'NNS'),\n",
       "  ('fight', 'VBD'),\n",
       "  ('trains', 'NNS'),\n",
       "  ('wins', 'NNS'),\n",
       "  ('carried', 'VBN'),\n",
       "  ('letter', 'NN'),\n",
       "  ('tradition', 'NN'),\n",
       "  ('showing', 'VBG'),\n",
       "  ('minutes', 'NNS'),\n",
       "  ('rocky', 'NN'),\n",
       "  ('film', 'NN'),\n",
       "  ('used', 'VBN'),\n",
       "  ('movie', 'NN'),\n",
       "  ('begins', 'VBZ'),\n",
       "  ('series', 'NN'),\n",
       "  ('clips', 'NNS'),\n",
       "  ('showing', 'VBG'),\n",
       "  ('rocky', 'NN'),\n",
       "  ('stallone', 'NN'),\n",
       "  ('has', 'VBZ'),\n",
       "  ('become', 'VBN'),\n",
       "  ('showing', 'VBG'),\n",
       "  ('appearance', 'NN'),\n",
       "  ('street', 'NN'),\n",
       "  ('moves', 'VBZ'),\n",
       "  ('being', 'VBG'),\n",
       "  ('fight', 'NN'),\n",
       "  ('thunderlips', 'NNS'),\n",
       "  ('hogan', 'NN'),\n",
       "  ('ass', 'NN'),\n",
       "  ('known', 'VBN'),\n",
       "  ('clubber', 'NN'),\n",
       "  ('lang', 'NN'),\n",
       "  ('trash', 'NN'),\n",
       "  ('talks', 'NNS'),\n",
       "  ('decision', 'NN'),\n",
       "  ('boxing', 'VBG'),\n",
       "  ('pities', 'VBZ'),\n",
       "  ('fool', 'NN'),\n",
       "  ('coming', 'VBG'),\n",
       "  ('fighting', 'VBG'),\n",
       "  ('trainer', 'NN'),\n",
       "  ('meredith', 'NN'),\n",
       "  ('tells', 'VBZ'),\n",
       "  ('stallion', 'NN'),\n",
       "  ('doesn', 'NN'),\n",
       "  ('listen', 'NN'),\n",
       "  ('gets', 'VBZ'),\n",
       "  ('ass', 'NN'),\n",
       "  ('kicked', 'VBD'),\n",
       "  ('line', 'NN'),\n",
       "  ('things', 'NNS'),\n",
       "  ('happen', 'VBP'),\n",
       "  ('trainer', 'NN'),\n",
       "  ('dies', 'NNS'),\n",
       "  ('causing', 'VBG'),\n",
       "  ('rocky', 'NN'),\n",
       "  ('opponent', 'NN'),\n",
       "  ('apollo', 'NN'),\n",
       "  ('creed', 'NN'),\n",
       "  ('wife', 'NN'),\n",
       "  ('complains', 'NNS'),\n",
       "  ('husband', 'NN'),\n",
       "  ('fight', 'NN'),\n",
       "  ('ensues', 'NNS'),\n",
       "  ('clubber', 'NN'),\n",
       "  ('rocky', 'NN'),\n",
       "  ('guess', 'NN'),\n",
       "  ('wins', 'VBZ'),\n",
       "  ('winner', 'NN'),\n",
       "  ('name', 'NN'),\n",
       "  ('rhymes', 'VBZ'),\n",
       "  ('movie', 'NN'),\n",
       "  ('entertaning', 'VBG'),\n",
       "  ('clubber', 'NN'),\n",
       "  ('lang', 'NN'),\n",
       "  ('performance', 'NN'),\n",
       "  ('aspect', 'NN'),\n",
       "  ('has', 'VBZ'),\n",
       "  ('been', 'VBN'),\n",
       "  ('toned', 'VBN'),\n",
       "  ('action', 'NN'),\n",
       "  ('seems', 'VBZ'),\n",
       "  ('point', 'NN'),\n",
       "  ('film', 'NN'),\n",
       "  ('like', 'VBP'),\n",
       "  ('fighting', 'VBG'),\n",
       "  ('scenes', 'NNS'),\n",
       "  ('match', 'NN'),\n",
       "  ('liked', 'VBD'),\n",
       "  ('films', 'NNS'),\n",
       "  ('rent', 'NN'),\n",
       "  ('seeing', 'VBG'),\n",
       "  ('are', 'VBP'),\n",
       "  ('fan', 'NN'),\n",
       "  ('series', 'NN'),\n",
       "  ('stand', 'VBP'),\n",
       "  ('shouting', 'VBG'),\n",
       "  ('adrianne', 'NN'),\n",
       "  ('time', 'NN'),\n",
       "  ('see', 'VBP'),\n",
       "  ('something', 'NN')]]"
      ]
     },
     "execution_count": 5,
     "metadata": {},
     "output_type": "execute_result"
    }
   ],
   "source": [
    "norm_corpus[:1]"
   ]
  },
  {
   "cell_type": "code",
   "execution_count": 6,
   "metadata": {
    "tags": [
     "remove-input",
     "remove-output"
    ]
   },
   "outputs": [],
   "source": [
    "## Remove Digits and Symbols\n",
    "## Lemmatizae Words\n",
    "\n",
    "from nltk.stem import PorterStemmer, WordNetLemmatizer\n",
    "from nltk.corpus import wordnet\n",
    "stop_words = nltk.corpus.stopwords.words('english')\n",
    "\n",
    "ps=PorterStemmer()\n",
    "wnl = WordNetLemmatizer()\n",
    "\n",
    "def get_wordnet_pos(tag):\n",
    "    if tag.startswith('J'):\n",
    "        return wordnet.ADJ\n",
    "    elif tag.startswith('V'):\n",
    "        return wordnet.VERB\n",
    "    elif tag.startswith('R'):\n",
    "        return wordnet.ADV\n",
    "    return wordnet.NOUN\n",
    "\n",
    "\n",
    "norm_corpus2 = [' '.join([wnl.lemmatize(w, pos = get_wordnet_pos(t[0])) for (w, t) in doc if not re.match(r'[^a-z]+', w) and w not in stop_words]) for doc in norm_corpus]"
   ]
  },
  {
   "cell_type": "code",
   "execution_count": 7,
   "metadata": {
    "tags": [
     "remove-input",
     "remove-output"
    ]
   },
   "outputs": [
    {
     "data": {
      "text/plain": [
       "'movie seem movie call trilogy iii seem kind fit category manage formula loses fight train win carry letter tradition show minute rocky film use movie begin series clip show rocky stallone become show appearance street move fight thunderlips hogan as know clubber lang trash talk decision box pity fool come fight trainer meredith tell stallion listen get as kick line thing happen trainer dy cause rocky opponent apollo creed wife complains husband fight ensues clubber rocky guess win winner name rhyme movie entertaning clubber lang performance aspect tone action seem point film like fight scene match like film rent see fan series stand shout adrianne time see something'"
      ]
     },
     "execution_count": 7,
     "metadata": {},
     "output_type": "execute_result"
    }
   ],
   "source": [
    "norm_corpus2[0]"
   ]
  },
  {
   "cell_type": "code",
   "execution_count": 8,
   "metadata": {
    "tags": [
     "remove-input",
     "remove-output"
    ]
   },
   "outputs": [],
   "source": [
    "# ## normalize corpus\n",
    "# stop_words = nltk.corpus.stopwords.words('english')\n",
    "\n",
    "# def normalize_document(doc):\n",
    "#     # lower case and remove special characters\\whitespaces\n",
    "#     doc = re.sub(r'[^a-zA-Z\\s]', '', doc, re.I|re.A)\n",
    "#     doc = doc.lower()\n",
    "#     doc = doc.strip()\n",
    "#     # tokeanize document\n",
    "#     tokens = wpt.tokenize(doc)\n",
    "#     # filter stopwords out of document\n",
    "#     filtered_tokens = [token for token in tokens if token not in stop_words]\n",
    "#     # re-create document from filtered tokens\n",
    "#     doc = ' '.join(filtered_tokens)\n",
    "#     return doc\n",
    "\n",
    "# normalize_corpus = np.vectorize(normalize_document)\n",
    "# a"
   ]
  },
  {
   "cell_type": "code",
   "execution_count": 9,
   "metadata": {
    "tags": [
     "remove-input",
     "remove-output"
    ]
   },
   "outputs": [
    {
     "data": {
      "text/plain": [
       "['movie seem movie call trilogy iii seem kind fit category manage formula loses fight train win carry letter tradition show minute rocky film use movie begin series clip show rocky stallone become show appearance street move fight thunderlips hogan as know clubber lang trash talk decision box pity fool come fight trainer meredith tell stallion listen get as kick line thing happen trainer dy cause rocky opponent apollo creed wife complains husband fight ensues clubber rocky guess win winner name rhyme movie entertaning clubber lang performance aspect tone action seem point film like fight scene match like film rent see fan series stand shout adrianne time see something',\n",
       " 'happen put lawrence suit life get lawrence coma comedian think get put layer clothing go jogging degree heat end coma happen put lawrence suit movie get audience coma momma house lawrence play agent master disguise naughty man escape jail seek girlfriend nia thing worth look movie flee aunt momma ella mitchell fbi follow order sum money steal bank robbery send man jail momma call emergency sense chance criminal lawrence go momma comedy begin momma house definition gimmick movie plot sum martin lawrence dress woman description script plot chalkboard lawrence woman middle board circle sort clich situation point woman play basketball woman take dump woman kung leave board movie slip coma paul giamatti part negotiator play lawrence partner enjoy work life comedy hell performer planet make material work awful']"
      ]
     },
     "execution_count": 9,
     "metadata": {},
     "output_type": "execute_result"
    }
   ],
   "source": [
    "norm_corpus2[:2]"
   ]
  },
  {
   "cell_type": "code",
   "execution_count": null,
   "metadata": {
    "tags": [
     "remove-input",
     "remove-output"
    ]
   },
   "outputs": [],
   "source": []
  },
  {
   "cell_type": "code",
   "execution_count": 10,
   "metadata": {
    "tags": [
     "remove-input",
     "remove-output"
    ]
   },
   "outputs": [
    {
     "data": {
      "text/plain": [
       "<2000x2671 sparse matrix of type '<class 'numpy.int64'>'\n",
       "\twith 241055 stored elements in Compressed Sparse Row format>"
      ]
     },
     "execution_count": 10,
     "metadata": {},
     "output_type": "execute_result"
    }
   ],
   "source": [
    "from sklearn.feature_extraction.text import CountVectorizer\n",
    "# get bag of words features in sparse format\n",
    "cv = CountVectorizer(min_df=20, max_df=0.6)\n",
    "cv_matrix = cv.fit_transform(norm_corpus2)\n",
    "cv_matrix"
   ]
  },
  {
   "cell_type": "code",
   "execution_count": 11,
   "metadata": {
    "tags": [
     "remove-input",
     "remove-output"
    ]
   },
   "outputs": [
    {
     "data": {
      "text/html": [
       "<div>\n",
       "<style scoped>\n",
       "    .dataframe tbody tr th:only-of-type {\n",
       "        vertical-align: middle;\n",
       "    }\n",
       "\n",
       "    .dataframe tbody tr th {\n",
       "        vertical-align: top;\n",
       "    }\n",
       "\n",
       "    .dataframe thead th {\n",
       "        text-align: right;\n",
       "    }\n",
       "</style>\n",
       "<table border=\"1\" class=\"dataframe\">\n",
       "  <thead>\n",
       "    <tr style=\"text-align: right;\">\n",
       "      <th></th>\n",
       "      <th>abandon</th>\n",
       "      <th>ability</th>\n",
       "      <th>absence</th>\n",
       "      <th>absorb</th>\n",
       "      <th>abuse</th>\n",
       "      <th>abyss</th>\n",
       "      <th>academy</th>\n",
       "      <th>accent</th>\n",
       "      <th>accept</th>\n",
       "      <th>accident</th>\n",
       "      <th>...</th>\n",
       "      <th>write</th>\n",
       "      <th>writer</th>\n",
       "      <th>writing</th>\n",
       "      <th>yawn</th>\n",
       "      <th>yeah</th>\n",
       "      <th>year</th>\n",
       "      <th>yell</th>\n",
       "      <th>york</th>\n",
       "      <th>youth</th>\n",
       "      <th>zone</th>\n",
       "    </tr>\n",
       "  </thead>\n",
       "  <tbody>\n",
       "    <tr>\n",
       "      <th>0</th>\n",
       "      <td>0</td>\n",
       "      <td>0</td>\n",
       "      <td>0</td>\n",
       "      <td>0</td>\n",
       "      <td>0</td>\n",
       "      <td>0</td>\n",
       "      <td>0</td>\n",
       "      <td>0</td>\n",
       "      <td>0</td>\n",
       "      <td>0</td>\n",
       "      <td>...</td>\n",
       "      <td>0</td>\n",
       "      <td>0</td>\n",
       "      <td>0</td>\n",
       "      <td>0</td>\n",
       "      <td>0</td>\n",
       "      <td>0</td>\n",
       "      <td>0</td>\n",
       "      <td>0</td>\n",
       "      <td>0</td>\n",
       "      <td>0</td>\n",
       "    </tr>\n",
       "    <tr>\n",
       "      <th>1</th>\n",
       "      <td>0</td>\n",
       "      <td>0</td>\n",
       "      <td>0</td>\n",
       "      <td>0</td>\n",
       "      <td>0</td>\n",
       "      <td>0</td>\n",
       "      <td>0</td>\n",
       "      <td>0</td>\n",
       "      <td>0</td>\n",
       "      <td>0</td>\n",
       "      <td>...</td>\n",
       "      <td>0</td>\n",
       "      <td>0</td>\n",
       "      <td>0</td>\n",
       "      <td>0</td>\n",
       "      <td>0</td>\n",
       "      <td>0</td>\n",
       "      <td>0</td>\n",
       "      <td>0</td>\n",
       "      <td>0</td>\n",
       "      <td>0</td>\n",
       "    </tr>\n",
       "    <tr>\n",
       "      <th>2</th>\n",
       "      <td>0</td>\n",
       "      <td>1</td>\n",
       "      <td>0</td>\n",
       "      <td>0</td>\n",
       "      <td>0</td>\n",
       "      <td>0</td>\n",
       "      <td>0</td>\n",
       "      <td>0</td>\n",
       "      <td>0</td>\n",
       "      <td>0</td>\n",
       "      <td>...</td>\n",
       "      <td>0</td>\n",
       "      <td>0</td>\n",
       "      <td>0</td>\n",
       "      <td>0</td>\n",
       "      <td>1</td>\n",
       "      <td>0</td>\n",
       "      <td>0</td>\n",
       "      <td>0</td>\n",
       "      <td>0</td>\n",
       "      <td>0</td>\n",
       "    </tr>\n",
       "    <tr>\n",
       "      <th>3</th>\n",
       "      <td>0</td>\n",
       "      <td>0</td>\n",
       "      <td>0</td>\n",
       "      <td>0</td>\n",
       "      <td>0</td>\n",
       "      <td>0</td>\n",
       "      <td>0</td>\n",
       "      <td>0</td>\n",
       "      <td>0</td>\n",
       "      <td>0</td>\n",
       "      <td>...</td>\n",
       "      <td>1</td>\n",
       "      <td>0</td>\n",
       "      <td>0</td>\n",
       "      <td>0</td>\n",
       "      <td>0</td>\n",
       "      <td>3</td>\n",
       "      <td>0</td>\n",
       "      <td>1</td>\n",
       "      <td>0</td>\n",
       "      <td>0</td>\n",
       "    </tr>\n",
       "    <tr>\n",
       "      <th>4</th>\n",
       "      <td>0</td>\n",
       "      <td>0</td>\n",
       "      <td>0</td>\n",
       "      <td>0</td>\n",
       "      <td>0</td>\n",
       "      <td>0</td>\n",
       "      <td>0</td>\n",
       "      <td>0</td>\n",
       "      <td>0</td>\n",
       "      <td>0</td>\n",
       "      <td>...</td>\n",
       "      <td>0</td>\n",
       "      <td>0</td>\n",
       "      <td>0</td>\n",
       "      <td>0</td>\n",
       "      <td>0</td>\n",
       "      <td>1</td>\n",
       "      <td>0</td>\n",
       "      <td>0</td>\n",
       "      <td>0</td>\n",
       "      <td>0</td>\n",
       "    </tr>\n",
       "    <tr>\n",
       "      <th>...</th>\n",
       "      <td>...</td>\n",
       "      <td>...</td>\n",
       "      <td>...</td>\n",
       "      <td>...</td>\n",
       "      <td>...</td>\n",
       "      <td>...</td>\n",
       "      <td>...</td>\n",
       "      <td>...</td>\n",
       "      <td>...</td>\n",
       "      <td>...</td>\n",
       "      <td>...</td>\n",
       "      <td>...</td>\n",
       "      <td>...</td>\n",
       "      <td>...</td>\n",
       "      <td>...</td>\n",
       "      <td>...</td>\n",
       "      <td>...</td>\n",
       "      <td>...</td>\n",
       "      <td>...</td>\n",
       "      <td>...</td>\n",
       "      <td>...</td>\n",
       "    </tr>\n",
       "    <tr>\n",
       "      <th>1995</th>\n",
       "      <td>0</td>\n",
       "      <td>0</td>\n",
       "      <td>0</td>\n",
       "      <td>0</td>\n",
       "      <td>0</td>\n",
       "      <td>0</td>\n",
       "      <td>0</td>\n",
       "      <td>0</td>\n",
       "      <td>0</td>\n",
       "      <td>0</td>\n",
       "      <td>...</td>\n",
       "      <td>1</td>\n",
       "      <td>1</td>\n",
       "      <td>0</td>\n",
       "      <td>0</td>\n",
       "      <td>1</td>\n",
       "      <td>3</td>\n",
       "      <td>0</td>\n",
       "      <td>0</td>\n",
       "      <td>0</td>\n",
       "      <td>0</td>\n",
       "    </tr>\n",
       "    <tr>\n",
       "      <th>1996</th>\n",
       "      <td>0</td>\n",
       "      <td>0</td>\n",
       "      <td>0</td>\n",
       "      <td>0</td>\n",
       "      <td>0</td>\n",
       "      <td>0</td>\n",
       "      <td>0</td>\n",
       "      <td>0</td>\n",
       "      <td>0</td>\n",
       "      <td>0</td>\n",
       "      <td>...</td>\n",
       "      <td>1</td>\n",
       "      <td>0</td>\n",
       "      <td>0</td>\n",
       "      <td>0</td>\n",
       "      <td>0</td>\n",
       "      <td>2</td>\n",
       "      <td>0</td>\n",
       "      <td>0</td>\n",
       "      <td>0</td>\n",
       "      <td>0</td>\n",
       "    </tr>\n",
       "    <tr>\n",
       "      <th>1997</th>\n",
       "      <td>0</td>\n",
       "      <td>0</td>\n",
       "      <td>0</td>\n",
       "      <td>0</td>\n",
       "      <td>0</td>\n",
       "      <td>0</td>\n",
       "      <td>0</td>\n",
       "      <td>0</td>\n",
       "      <td>0</td>\n",
       "      <td>0</td>\n",
       "      <td>...</td>\n",
       "      <td>2</td>\n",
       "      <td>1</td>\n",
       "      <td>0</td>\n",
       "      <td>0</td>\n",
       "      <td>0</td>\n",
       "      <td>0</td>\n",
       "      <td>0</td>\n",
       "      <td>0</td>\n",
       "      <td>0</td>\n",
       "      <td>0</td>\n",
       "    </tr>\n",
       "    <tr>\n",
       "      <th>1998</th>\n",
       "      <td>0</td>\n",
       "      <td>0</td>\n",
       "      <td>0</td>\n",
       "      <td>0</td>\n",
       "      <td>0</td>\n",
       "      <td>0</td>\n",
       "      <td>0</td>\n",
       "      <td>0</td>\n",
       "      <td>0</td>\n",
       "      <td>0</td>\n",
       "      <td>...</td>\n",
       "      <td>0</td>\n",
       "      <td>0</td>\n",
       "      <td>0</td>\n",
       "      <td>0</td>\n",
       "      <td>0</td>\n",
       "      <td>1</td>\n",
       "      <td>0</td>\n",
       "      <td>0</td>\n",
       "      <td>0</td>\n",
       "      <td>0</td>\n",
       "    </tr>\n",
       "    <tr>\n",
       "      <th>1999</th>\n",
       "      <td>0</td>\n",
       "      <td>0</td>\n",
       "      <td>0</td>\n",
       "      <td>0</td>\n",
       "      <td>0</td>\n",
       "      <td>0</td>\n",
       "      <td>0</td>\n",
       "      <td>0</td>\n",
       "      <td>0</td>\n",
       "      <td>0</td>\n",
       "      <td>...</td>\n",
       "      <td>2</td>\n",
       "      <td>0</td>\n",
       "      <td>0</td>\n",
       "      <td>0</td>\n",
       "      <td>0</td>\n",
       "      <td>1</td>\n",
       "      <td>0</td>\n",
       "      <td>0</td>\n",
       "      <td>0</td>\n",
       "      <td>0</td>\n",
       "    </tr>\n",
       "  </tbody>\n",
       "</table>\n",
       "<p>2000 rows × 2671 columns</p>\n",
       "</div>"
      ],
      "text/plain": [
       "      abandon  ability  absence  absorb  abuse  abyss  academy  accent  \\\n",
       "0           0        0        0       0      0      0        0       0   \n",
       "1           0        0        0       0      0      0        0       0   \n",
       "2           0        1        0       0      0      0        0       0   \n",
       "3           0        0        0       0      0      0        0       0   \n",
       "4           0        0        0       0      0      0        0       0   \n",
       "...       ...      ...      ...     ...    ...    ...      ...     ...   \n",
       "1995        0        0        0       0      0      0        0       0   \n",
       "1996        0        0        0       0      0      0        0       0   \n",
       "1997        0        0        0       0      0      0        0       0   \n",
       "1998        0        0        0       0      0      0        0       0   \n",
       "1999        0        0        0       0      0      0        0       0   \n",
       "\n",
       "      accept  accident  ...  write  writer  writing  yawn  yeah  year  yell  \\\n",
       "0          0         0  ...      0       0        0     0     0     0     0   \n",
       "1          0         0  ...      0       0        0     0     0     0     0   \n",
       "2          0         0  ...      0       0        0     0     1     0     0   \n",
       "3          0         0  ...      1       0        0     0     0     3     0   \n",
       "4          0         0  ...      0       0        0     0     0     1     0   \n",
       "...      ...       ...  ...    ...     ...      ...   ...   ...   ...   ...   \n",
       "1995       0         0  ...      1       1        0     0     1     3     0   \n",
       "1996       0         0  ...      1       0        0     0     0     2     0   \n",
       "1997       0         0  ...      2       1        0     0     0     0     0   \n",
       "1998       0         0  ...      0       0        0     0     0     1     0   \n",
       "1999       0         0  ...      2       0        0     0     0     1     0   \n",
       "\n",
       "      york  youth  zone  \n",
       "0        0      0     0  \n",
       "1        0      0     0  \n",
       "2        0      0     0  \n",
       "3        1      0     0  \n",
       "4        0      0     0  \n",
       "...    ...    ...   ...  \n",
       "1995     0      0     0  \n",
       "1996     0      0     0  \n",
       "1997     0      0     0  \n",
       "1998     0      0     0  \n",
       "1999     0      0     0  \n",
       "\n",
       "[2000 rows x 2671 columns]"
      ]
     },
     "execution_count": 11,
     "metadata": {},
     "output_type": "execute_result"
    }
   ],
   "source": [
    "\n",
    "vocab = cv.get_feature_names()\n",
    "# show document feature vectors\n",
    "pd.DataFrame(cv_matrix.toarray(), columns=vocab)"
   ]
  },
  {
   "cell_type": "code",
   "execution_count": 12,
   "metadata": {
    "tags": [
     "remove-input",
     "remove-output"
    ]
   },
   "outputs": [
    {
     "name": "stdout",
     "output_type": "stream",
     "text": [
      "CPU times: user 4min 41s, sys: 20.2 s, total: 5min 1s\n",
      "Wall time: 14min 53s\n"
     ]
    }
   ],
   "source": [
    "%%time\n",
    "from sklearn.decomposition import LatentDirichletAllocation\n",
    "\n",
    "num_of_topic = 4\n",
    "lda = LatentDirichletAllocation(n_components=num_of_topic, max_iter=1000, random_state=0,\n",
    "                               max_doc_update_iter=50, learning_method='online',\n",
    "                               batch_size=50, learning_offset = 50, n_jobs = -1)\n",
    "doc_topic_matrix = lda.fit_transform(cv_matrix)"
   ]
  },
  {
   "cell_type": "code",
   "execution_count": 13,
   "metadata": {
    "tags": [
     "remove-input",
     "remove-output"
    ]
   },
   "outputs": [],
   "source": [
    "topic_word_matrix = lda.components_"
   ]
  },
  {
   "cell_type": "code",
   "execution_count": 14,
   "metadata": {
    "tags": [
     "remove-input",
     "remove-output"
    ]
   },
   "outputs": [
    {
     "data": {
      "text/html": [
       "<div>\n",
       "<style scoped>\n",
       "    .dataframe tbody tr th:only-of-type {\n",
       "        vertical-align: middle;\n",
       "    }\n",
       "\n",
       "    .dataframe tbody tr th {\n",
       "        vertical-align: top;\n",
       "    }\n",
       "\n",
       "    .dataframe thead th {\n",
       "        text-align: right;\n",
       "    }\n",
       "</style>\n",
       "<table border=\"1\" class=\"dataframe\">\n",
       "  <thead>\n",
       "    <tr style=\"text-align: right;\">\n",
       "      <th></th>\n",
       "      <th>0</th>\n",
       "      <th>1</th>\n",
       "      <th>2</th>\n",
       "      <th>3</th>\n",
       "    </tr>\n",
       "  </thead>\n",
       "  <tbody>\n",
       "    <tr>\n",
       "      <th>abandon</th>\n",
       "      <td>38.372332</td>\n",
       "      <td>0.277083</td>\n",
       "      <td>19.148534</td>\n",
       "      <td>12.180082</td>\n",
       "    </tr>\n",
       "    <tr>\n",
       "      <th>ability</th>\n",
       "      <td>60.175386</td>\n",
       "      <td>0.266181</td>\n",
       "      <td>65.400346</td>\n",
       "      <td>62.075002</td>\n",
       "    </tr>\n",
       "    <tr>\n",
       "      <th>absence</th>\n",
       "      <td>12.659379</td>\n",
       "      <td>6.344827</td>\n",
       "      <td>6.897791</td>\n",
       "      <td>2.178752</td>\n",
       "    </tr>\n",
       "    <tr>\n",
       "      <th>absorb</th>\n",
       "      <td>20.410531</td>\n",
       "      <td>0.276773</td>\n",
       "      <td>7.103845</td>\n",
       "      <td>2.205141</td>\n",
       "    </tr>\n",
       "    <tr>\n",
       "      <th>abuse</th>\n",
       "      <td>13.406716</td>\n",
       "      <td>0.258951</td>\n",
       "      <td>29.133532</td>\n",
       "      <td>0.260695</td>\n",
       "    </tr>\n",
       "    <tr>\n",
       "      <th>...</th>\n",
       "      <td>...</td>\n",
       "      <td>...</td>\n",
       "      <td>...</td>\n",
       "      <td>...</td>\n",
       "    </tr>\n",
       "    <tr>\n",
       "      <th>year</th>\n",
       "      <td>665.076112</td>\n",
       "      <td>48.295147</td>\n",
       "      <td>643.953045</td>\n",
       "      <td>376.499673</td>\n",
       "    </tr>\n",
       "    <tr>\n",
       "      <th>yell</th>\n",
       "      <td>4.737740</td>\n",
       "      <td>4.688164</td>\n",
       "      <td>27.708165</td>\n",
       "      <td>1.865288</td>\n",
       "    </tr>\n",
       "    <tr>\n",
       "      <th>york</th>\n",
       "      <td>83.837184</td>\n",
       "      <td>0.260956</td>\n",
       "      <td>108.441622</td>\n",
       "      <td>71.343064</td>\n",
       "    </tr>\n",
       "    <tr>\n",
       "      <th>youth</th>\n",
       "      <td>23.456108</td>\n",
       "      <td>2.729870</td>\n",
       "      <td>19.220925</td>\n",
       "      <td>9.635706</td>\n",
       "    </tr>\n",
       "    <tr>\n",
       "      <th>zone</th>\n",
       "      <td>7.247424</td>\n",
       "      <td>0.256150</td>\n",
       "      <td>10.314256</td>\n",
       "      <td>9.128202</td>\n",
       "    </tr>\n",
       "  </tbody>\n",
       "</table>\n",
       "<p>2671 rows × 4 columns</p>\n",
       "</div>"
      ],
      "text/plain": [
       "                  0          1           2           3\n",
       "abandon   38.372332   0.277083   19.148534   12.180082\n",
       "ability   60.175386   0.266181   65.400346   62.075002\n",
       "absence   12.659379   6.344827    6.897791    2.178752\n",
       "absorb    20.410531   0.276773    7.103845    2.205141\n",
       "abuse     13.406716   0.258951   29.133532    0.260695\n",
       "...             ...        ...         ...         ...\n",
       "year     665.076112  48.295147  643.953045  376.499673\n",
       "yell       4.737740   4.688164   27.708165    1.865288\n",
       "york      83.837184   0.260956  108.441622   71.343064\n",
       "youth     23.456108   2.729870   19.220925    9.635706\n",
       "zone       7.247424   0.256150   10.314256    9.128202\n",
       "\n",
       "[2671 rows x 4 columns]"
      ]
     },
     "execution_count": 14,
     "metadata": {},
     "output_type": "execute_result"
    }
   ],
   "source": [
    "## Topic By Word (transpose)\n",
    "pd.DataFrame(np.transpose(topic_word_matrix), index=vocab)\n"
   ]
  },
  {
   "cell_type": "code",
   "execution_count": 15,
   "metadata": {
    "tags": [
     "remove-input",
     "remove-output"
    ]
   },
   "outputs": [],
   "source": [
    "## This function sorts the words importances under each topic\n",
    "## and the selectional criteria include (a) ranks based on weights, or (b) cutoff on weights\n",
    "def get_topics_meanings(tw_m, vocab, display_weights=False, topn = 5, weight_cutoff=0.6):\n",
    "    for i, topic_weights in enumerate(tw_m): ## for each topic row\n",
    "        topic = [(token, np.round(weight,2)) for token, weight in zip(vocab, topic_weights)] ## zip (word, importance_weight)\n",
    "        topic = sorted(topic, key=lambda x: -x[1]) ## rank words according to weights                  \n",
    "        if display_weights:\n",
    "            topic = [item for item in topic if item[1] > weight_cutoff] ## output words whose weights > 0.6\n",
    "            print(f\"Topic #{i} :\\n{topic}\")\n",
    "            print(\"=\"*20)\n",
    "        else:\n",
    "            topic_topn = topic[:topn]\n",
    "            topic_topn = ' '.join([word for word,weight in topic_topn])\n",
    "            print(f\"Topic #{i} :\\n{topic_topn}\")\n",
    "            print('='*20)"
   ]
  },
  {
   "cell_type": "code",
   "execution_count": 16,
   "metadata": {
    "tags": [
     "remove-input",
     "remove-output"
    ]
   },
   "outputs": [],
   "source": [
    "## Permanent Setting Version\n",
    "plt.rcParams['font.sans-serif']=[\"PingFang HK\"]\n",
    "def plot_top_words(model, feature_names, n_top_words, title, fig_grid=[2,2]):\n",
    "    fig, axes = plt.subplots(fig_grid[0], fig_grid[1], figsize=(30, 15), sharex=True)\n",
    "    axes = axes.flatten()\n",
    "    for topic_idx, topic in enumerate(model.components_):\n",
    "        top_features_ind = topic.argsort()[:-n_top_words - 1:-1]\n",
    "        top_features = [feature_names[i] for i in top_features_ind]\n",
    "        weights = topic[top_features_ind]\n",
    "\n",
    "        ax = axes[topic_idx]\n",
    "        ax.barh(top_features, weights, height=0.7)\n",
    "        ax.set_title(f'Topic {topic_idx +1}',\n",
    "                     fontdict={'fontsize': 30})\n",
    "        ax.invert_yaxis()\n",
    "        ax.tick_params(axis='both', which='major', labelsize=20)\n",
    "        for i in 'top right left'.split():\n",
    "            ax.spines[i].set_visible(False)\n",
    "        fig.suptitle(title, fontsize=40)\n",
    "\n",
    "    plt.subplots_adjust(top=0.90, bottom=0.05, wspace=0.90, hspace=0.3)\n",
    "    plt.show()"
   ]
  },
  {
   "cell_type": "code",
   "execution_count": 17,
   "metadata": {
    "tags": [
     "hide-input"
    ]
   },
   "outputs": [
    {
     "data": {
      "image/png": "[encoded data removed]",
      "text/plain": [
       "<Figure size 2160x1080 with 4 Axes>"
      ]
     },
     "metadata": {
      "needs_background": "light"
     },
     "output_type": "display_data"
    }
   ],
   "source": [
    "plot_top_words(lda, vocab, 20, \"Words Associated with Topics\", fig_grid=[2,2])"
   ]
  },
  {
   "cell_type": "code",
   "execution_count": 18,
   "metadata": {
    "tags": [
     "remove-input",
     "remove-output"
    ]
   },
   "outputs": [
    {
     "name": "stdout",
     "output_type": "stream",
     "text": [
      "Topic #0 :\n",
      "life story love year man scene world way family take\n",
      "====================\n",
      "Topic #1 :\n",
      "horror scream killer vampire murphy sequel murder witch summer wood\n",
      "====================\n",
      "Topic #2 :\n",
      "scene play go thing plot way see end seem comedy\n",
      "====================\n",
      "Topic #3 :\n",
      "action effect star scene look alien war plot go see\n",
      "====================\n"
     ]
    }
   ],
   "source": [
    "get_topics_meanings(topic_word_matrix, vocab, display_weights=False, topn=10)\n"
   ]
  },
  {
   "cell_type": "code",
   "execution_count": 19,
   "metadata": {
    "tags": [
     "remove-input",
     "remove-output"
    ]
   },
   "outputs": [],
   "source": [
    "topics = ['LOVE_FAMILY (T0)', \"HORROR(T1)\", \"PLOT(T2)\",\"EFFECT(T3)\"]\n",
    "doc_topic_label = [topics[np.argmax(i)] for i in doc_topic_matrix]\n",
    "\n",
    "doc_topic_df = pd.DataFrame({\"REVIEW_SENTIMENT\": corpus_sentiment, \"TOPIC\": doc_topic_label})"
   ]
  },
  {
   "cell_type": "code",
   "execution_count": 20,
   "metadata": {
    "tags": [
     "remove-input",
     "remove-output"
    ]
   },
   "outputs": [],
   "source": [
    "import plotnine\n",
    "from plotnine import ggplot, aes, geom_line, geom_bar, labs\n",
    "from plotnine import scale_fill_brewer\n",
    "plotnine.options.dpi=200\n",
    "\n",
    "g =(\n",
    "    ggplot(doc_topic_df)\n",
    "    + aes(x=\"TOPIC\", fill=\"REVIEW_SENTIMENT\") \n",
    "    + geom_bar(position=\"dodge\")\n",
    "    + labs(y = \"Number of Documents\")\n",
    "    + scale_fill_brewer(palette=18, name=\"Review Sentiments\", labels=[\"Negative Reviews\",\"Positive Reviews\"])\n",
    "    \n",
    ")\n"
   ]
  },
  {
   "cell_type": "code",
   "execution_count": 21,
   "metadata": {
    "tags": [
     "hide-input"
    ]
   },
   "outputs": [
    {
     "data": {
      "image/png": "[encoded data removed]",
      "text/plain": [
       "<Figure size 1280x960 with 1 Axes>"
      ]
     },
     "metadata": {},
     "output_type": "display_data"
    },
    {
     "data": {
      "text/plain": [
       "<ggplot: (8790600018531)>"
      ]
     },
     "execution_count": 21,
     "metadata": {},
     "output_type": "execute_result"
    }
   ],
   "source": [
    "g"
   ]
  },
  {
   "cell_type": "markdown",
   "metadata": {},
   "source": [
    "## Question 2\n",
    "\n",
    "Use the `demo_data/dcard-top100.csv` dataset (the same one used in the previous Assignment) and perform topic modeling on the dataset to explore the main topics of this small corpus.\n",
    "\n",
    "To increase the interpretability of the topic modeling results, please word-segment the corpus data using `ckip-transformers` and then include word tokens whose POS indicate they are either nouns or verbs. However, please exclude pronouns and numerals. Also, before word segmentation, please preprocess the texts by removing alphabets, digits, and symbols first.\n",
    "\n",
    "Please report (a) the meanings of the topics and their associated top 20 words in the corpus, and (b) the distribution of the topics in the entire corpus."
   ]
  },
  {
   "cell_type": "markdown",
   "metadata": {
    "tags": [
     "remove-input",
     "remove-output"
    ]
   },
   "source": [
    "### Import necessary dependencies and settings"
   ]
  },
  {
   "cell_type": "code",
   "execution_count": 1,
   "metadata": {
    "tags": [
     "remove-input",
     "remove-output"
    ]
   },
   "outputs": [],
   "source": [
    "import warnings\n",
    "warnings.filterwarnings(\"ignore\", category=DeprecationWarning)\n"
   ]
  },
  {
   "cell_type": "code",
   "execution_count": 2,
   "metadata": {
    "tags": [
     "remove-input",
     "remove-output"
    ]
   },
   "outputs": [],
   "source": [
    "import pandas as pd\n",
    "import numpy as np\n",
    "import re\n",
    "import matplotlib.pyplot as plt\n",
    "import random\n",
    "\n",
    "pd.options.display.max_colwidth = 200\n",
    "%matplotlib inline"
   ]
  },
  {
   "cell_type": "markdown",
   "metadata": {
    "tags": [
     "remove-input",
     "remove-output"
    ]
   },
   "source": [
    "### Sample corpus of text documents"
   ]
  },
  {
   "cell_type": "code",
   "execution_count": 3,
   "metadata": {
    "tags": [
     "remove-input",
     "remove-output"
    ]
   },
   "outputs": [
    {
     "data": {
      "text/html": [
       "<div>\n",
       "<style scoped>\n",
       "    .dataframe tbody tr th:only-of-type {\n",
       "        vertical-align: middle;\n",
       "    }\n",
       "\n",
       "    .dataframe tbody tr th {\n",
       "        vertical-align: top;\n",
       "    }\n",
       "\n",
       "    .dataframe thead th {\n",
       "        text-align: right;\n",
       "    }\n",
       "</style>\n",
       "<table border=\"1\" class=\"dataframe\">\n",
       "  <thead>\n",
       "    <tr style=\"text-align: right;\">\n",
       "      <th></th>\n",
       "      <th>ID</th>\n",
       "      <th>title</th>\n",
       "      <th>content</th>\n",
       "    </tr>\n",
       "  </thead>\n",
       "  <tbody>\n",
       "    <tr>\n",
       "      <th>0</th>\n",
       "      <td>235443715</td>\n",
       "      <td>三更 21歲這年我差點被活活燒死</td>\n",
       "      <td>部分回應在B117 \\n謝謝各位的留言，我都有看完\\n好的不好的，我都接受謝謝大家🙇‍♀️\\n\\n\\n（第三次更新在這邊）\\nB258 這邊也有講到怎麼逃生\\n很多人好奇我是怎麼踹門的，\\n在這邊跟大家說一下，\\n因為這台車本來就很老舊，\\n加上我文章說的我有停在路邊檢查，\\n之前有在練空手道，所以比較知道怎麼施力😥\\n謝謝大家的關心，其他比較有問題的我會在留言一一回覆！\\n\\n後續處理的...</td>\n",
       "    </tr>\n",
       "    <tr>\n",
       "      <th>1</th>\n",
       "      <td>235442609</td>\n",
       "      <td>超狂學經歷！195公分帥家教徵學生</td>\n",
       "      <td>https://i.imgur.com/REIEzSd.jpg\\n\\n身高195公分的男大生楊承翰在家教社團PO文徵學生的文章被網友推爆了，網友們看到他的學經歷及成績不禁大讚根本就是學霸王，而他不只擁有高顏質，還是籃球系隊成員，超乎常人的學經歷及證書考試成績，瞬間讓網友都跪著朝聖，直呼「天哪好厲害的帥哥」、「這個當家教太可惜了」。\\n\\n21歲台大學生楊承翰日前在臉書社團「家教補教學校兼全...</td>\n",
       "    </tr>\n",
       "    <tr>\n",
       "      <th>2</th>\n",
       "      <td>235441998</td>\n",
       "      <td>我的模特界時間管理大師前男友</td>\n",
       "      <td>看過這麼多在Dcard、PTT上的感情渣事和創作文\\n從沒想過如此荒謬像八點檔的事情居然會發生在自己的身上\\n\\n本來以為與我交往一年的男友，是因為遠距離的關係分手，但就在我難過發文之後，我的IG私訊被各種匿名爆料塞爆，才發現交往一年的他幾乎是個我完全不認識的人（除了我被無數次劈腿，還有他幻謊症的部分，可能還有妄想症...）\\n\\n \\n接下來的故事全部都是真真切切發生的事情，因為整段故事...</td>\n",
       "    </tr>\n",
       "    <tr>\n",
       "      <th>3</th>\n",
       "      <td>235441259</td>\n",
       "      <td>豆皮加爆</td>\n",
       "      <td>剛剛吃小火鍋，跟店員說不要金針菇（怕卡牙縫），於是店員幫我換其他配料..…\\n\\n沒想到餐一上桌竟是豆皮加爆~\\n\\n真是超開心的~有人也跟我一樣喜歡吃豆皮的嗎？\\n\\nhttps://i.imgur.com/XIma4y2.jpg</td>\n",
       "    </tr>\n",
       "    <tr>\n",
       "      <th>4</th>\n",
       "      <td>235442693</td>\n",
       "      <td>這樣女生該追嗎</td>\n",
       "      <td>已經約好見面，到了當天晚上七點半才回，我是被耍了嗎 \\n如下圖\\n\\n\\nhttps://i.imgur.com/81HRQpQ.jpg\\nhttps://i.imgur.com/6lmTX1P.jpg\\nhttps://i.imgur.com/bV4X0Fz.jpg</td>\n",
       "    </tr>\n",
       "  </tbody>\n",
       "</table>\n",
       "</div>"
      ],
      "text/plain": [
       "          ID              title  \\\n",
       "0  235443715   三更 21歲這年我差點被活活燒死   \n",
       "1  235442609  超狂學經歷！195公分帥家教徵學生   \n",
       "2  235441998     我的模特界時間管理大師前男友   \n",
       "3  235441259               豆皮加爆   \n",
       "4  235442693            這樣女生該追嗎   \n",
       "\n",
       "                                                                                                                                                                                                   content  \n",
       "0  部分回應在B117 \\n謝謝各位的留言，我都有看完\\n好的不好的，我都接受謝謝大家🙇‍♀️\\n\\n\\n（第三次更新在這邊）\\nB258 這邊也有講到怎麼逃生\\n很多人好奇我是怎麼踹門的，\\n在這邊跟大家說一下，\\n因為這台車本來就很老舊，\\n加上我文章說的我有停在路邊檢查，\\n之前有在練空手道，所以比較知道怎麼施力😥\\n謝謝大家的關心，其他比較有問題的我會在留言一一回覆！\\n\\n後續處理的...  \n",
       "1  https://i.imgur.com/REIEzSd.jpg\\n\\n身高195公分的男大生楊承翰在家教社團PO文徵學生的文章被網友推爆了，網友們看到他的學經歷及成績不禁大讚根本就是學霸王，而他不只擁有高顏質，還是籃球系隊成員，超乎常人的學經歷及證書考試成績，瞬間讓網友都跪著朝聖，直呼「天哪好厲害的帥哥」、「這個當家教太可惜了」。\\n\\n21歲台大學生楊承翰日前在臉書社團「家教補教學校兼全...  \n",
       "2  看過這麼多在Dcard、PTT上的感情渣事和創作文\\n從沒想過如此荒謬像八點檔的事情居然會發生在自己的身上\\n\\n本來以為與我交往一年的男友，是因為遠距離的關係分手，但就在我難過發文之後，我的IG私訊被各種匿名爆料塞爆，才發現交往一年的他幾乎是個我完全不認識的人（除了我被無數次劈腿，還有他幻謊症的部分，可能還有妄想症...）\\n\\n \\n接下來的故事全部都是真真切切發生的事情，因為整段故事...  \n",
       "3                                                                                     剛剛吃小火鍋，跟店員說不要金針菇（怕卡牙縫），於是店員幫我換其他配料..…\\n\\n沒想到餐一上桌竟是豆皮加爆~\\n\\n真是超開心的~有人也跟我一樣喜歡吃豆皮的嗎？\\n\\nhttps://i.imgur.com/XIma4y2.jpg  \n",
       "4                                                                   已經約好見面，到了當天晚上七點半才回，我是被耍了嗎 \\n如下圖\\n\\n\\nhttps://i.imgur.com/81HRQpQ.jpg\\nhttps://i.imgur.com/6lmTX1P.jpg\\nhttps://i.imgur.com/bV4X0Fz.jpg  "
      ]
     },
     "execution_count": 3,
     "metadata": {},
     "output_type": "execute_result"
    }
   ],
   "source": [
    "corpus_df = pd.read_csv('../../../RepositoryData/data/dcard-top100.csv')\n",
    "corpus_df.head()"
   ]
  },
  {
   "cell_type": "code",
   "execution_count": 4,
   "metadata": {
    "tags": [
     "remove-input",
     "remove-output"
    ]
   },
   "outputs": [],
   "source": [
    "corpus = corpus_df['content']\n",
    "# remove url first\n",
    "corpus = [re.sub(r'(?:http(s)?:\\/\\/)?[\\w.-]+(?:\\.[\\w\\.-]+)+[\\w\\-\\._~:/?#[\\]@!\\$&\\'\\(\\)\\*\\+,;=.]+', '\\n', doc) for doc in corpus]\n",
    "\n",
    "corpus = [re.sub(r'\\n+','\\n', doc) for doc in corpus] "
   ]
  },
  {
   "cell_type": "code",
   "execution_count": 5,
   "metadata": {
    "scrolled": true,
    "tags": [
     "remove-input",
     "remove-output"
    ]
   },
   "outputs": [
    {
     "data": {
      "text/plain": [
       "ID                                                                                    235443810\n",
       "title                                                                                 優質cosplay\n",
       "content    https://megapx-assets.dcard.tw/images/57a22cb7-3880-4e83-97a1-510a691bd1d9/1280.jpeg\n",
       "Name: 65, dtype: object"
      ]
     },
     "execution_count": 5,
     "metadata": {},
     "output_type": "execute_result"
    }
   ],
   "source": [
    "corpus_df.iloc[65,]"
   ]
  },
  {
   "cell_type": "code",
   "execution_count": 6,
   "metadata": {
    "tags": [
     "remove-input",
     "remove-output"
    ]
   },
   "outputs": [
    {
     "data": {
      "text/plain": [
       "array([], dtype='<U4276')"
      ]
     },
     "execution_count": 6,
     "metadata": {},
     "output_type": "execute_result"
    }
   ],
   "source": [
    "## check each doc integrity, i.e., no empty strings\n",
    "\n",
    "corpus_line_num = [len(doc) for doc in corpus]\n",
    "corpus[np.argmin(corpus_line_num)]\n",
    "\n",
    "ind =[i for i in range(len(corpus_line_num)) if corpus_line_num[i]==0]\n",
    "np.array(corpus)[ind]"
   ]
  },
  {
   "cell_type": "code",
   "execution_count": 7,
   "metadata": {
    "tags": [
     "remove-input",
     "remove-output"
    ]
   },
   "outputs": [],
   "source": [
    "## Perform the word segmentation in Google Colab.\n",
    "## Load results\n",
    "import pickle\n",
    "with open('dcard_seg.pickle', 'rb') as f:\n",
    "    dcard_seg = pickle.load(f)"
   ]
  },
  {
   "cell_type": "code",
   "execution_count": 8,
   "metadata": {
    "tags": [
     "remove-input",
     "remove-output"
    ]
   },
   "outputs": [],
   "source": [
    "## Prepare words for topic modeling\n",
    "## From each document, keep only words tagged as N and V excluding numerals pronouns\n",
    "norm_words = [[(w,p) for (w,p) in text if re.match(r'^[NV](?!(h|eu))',p)] for text in dcard_seg]\n",
    "norm_corpus = [' '.join([w for w,p in text]) for text in norm_words]\n",
    "\n",
    "# norm_corpus = [' '.join([w for (w,t) in doc if t in ['Na','VC']]) for doc in dcard_seg]# if len(doc)>0]"
   ]
  },
  {
   "cell_type": "code",
   "execution_count": 9,
   "metadata": {
    "tags": [
     "remove-input",
     "remove-output"
    ]
   },
   "outputs": [
    {
     "data": {
      "text/plain": [
       "''"
      ]
     },
     "execution_count": 9,
     "metadata": {},
     "output_type": "execute_result"
    }
   ],
   "source": [
    "norm_corpus[65]"
   ]
  },
  {
   "cell_type": "code",
   "execution_count": 10,
   "metadata": {
    "tags": [
     "remove-input",
     "remove-output"
    ]
   },
   "outputs": [
    {
     "data": {
      "text/plain": [
       "[(65, '')]"
      ]
     },
     "execution_count": 10,
     "metadata": {},
     "output_type": "execute_result"
    }
   ],
   "source": [
    "# check any zero documents\n",
    "[(i,doc) for i, doc in enumerate(norm_corpus) if len(doc)==0]"
   ]
  },
  {
   "cell_type": "code",
   "execution_count": 11,
   "metadata": {
    "tags": [
     "remove-input",
     "remove-output"
    ]
   },
   "outputs": [],
   "source": [
    "### Remove Empty Document\n",
    "\n",
    "\n",
    "corpus_df2 = corpus_df.drop(index=[65])\n",
    "del norm_corpus[65]"
   ]
  },
  {
   "cell_type": "code",
   "execution_count": 12,
   "metadata": {
    "tags": [
     "remove-input",
     "remove-output"
    ]
   },
   "outputs": [
    {
     "data": {
      "text/html": [
       "<div>\n",
       "<style scoped>\n",
       "    .dataframe tbody tr th:only-of-type {\n",
       "        vertical-align: middle;\n",
       "    }\n",
       "\n",
       "    .dataframe tbody tr th {\n",
       "        vertical-align: top;\n",
       "    }\n",
       "\n",
       "    .dataframe thead th {\n",
       "        text-align: right;\n",
       "    }\n",
       "</style>\n",
       "<table border=\"1\" class=\"dataframe\">\n",
       "  <thead>\n",
       "    <tr style=\"text-align: right;\">\n",
       "      <th></th>\n",
       "      <th>ID</th>\n",
       "      <th>title</th>\n",
       "      <th>content</th>\n",
       "    </tr>\n",
       "  </thead>\n",
       "  <tbody>\n",
       "    <tr>\n",
       "      <th>0</th>\n",
       "      <td>235443715</td>\n",
       "      <td>三更 21歲這年我差點被活活燒死</td>\n",
       "      <td>部分回應在B117 \\n謝謝各位的留言，我都有看完\\n好的不好的，我都接受謝謝大家🙇‍♀️\\n\\n\\n（第三次更新在這邊）\\nB258 這邊也有講到怎麼逃生\\n很多人好奇我是怎麼踹門的，\\n在這邊跟大家說一下，\\n因為這台車本來就很老舊，\\n加上我文章說的我有停在路邊檢查，\\n之前有在練空手道，所以比較知道怎麼施力😥\\n謝謝大家的關心，其他比較有問題的我會在留言一一回覆！\\n\\n後續處理的...</td>\n",
       "    </tr>\n",
       "    <tr>\n",
       "      <th>1</th>\n",
       "      <td>235442609</td>\n",
       "      <td>超狂學經歷！195公分帥家教徵學生</td>\n",
       "      <td>https://i.imgur.com/REIEzSd.jpg\\n\\n身高195公分的男大生楊承翰在家教社團PO文徵學生的文章被網友推爆了，網友們看到他的學經歷及成績不禁大讚根本就是學霸王，而他不只擁有高顏質，還是籃球系隊成員，超乎常人的學經歷及證書考試成績，瞬間讓網友都跪著朝聖，直呼「天哪好厲害的帥哥」、「這個當家教太可惜了」。\\n\\n21歲台大學生楊承翰日前在臉書社團「家教補教學校兼全...</td>\n",
       "    </tr>\n",
       "    <tr>\n",
       "      <th>2</th>\n",
       "      <td>235441998</td>\n",
       "      <td>我的模特界時間管理大師前男友</td>\n",
       "      <td>看過這麼多在Dcard、PTT上的感情渣事和創作文\\n從沒想過如此荒謬像八點檔的事情居然會發生在自己的身上\\n\\n本來以為與我交往一年的男友，是因為遠距離的關係分手，但就在我難過發文之後，我的IG私訊被各種匿名爆料塞爆，才發現交往一年的他幾乎是個我完全不認識的人（除了我被無數次劈腿，還有他幻謊症的部分，可能還有妄想症...）\\n\\n \\n接下來的故事全部都是真真切切發生的事情，因為整段故事...</td>\n",
       "    </tr>\n",
       "    <tr>\n",
       "      <th>3</th>\n",
       "      <td>235441259</td>\n",
       "      <td>豆皮加爆</td>\n",
       "      <td>剛剛吃小火鍋，跟店員說不要金針菇（怕卡牙縫），於是店員幫我換其他配料..…\\n\\n沒想到餐一上桌竟是豆皮加爆~\\n\\n真是超開心的~有人也跟我一樣喜歡吃豆皮的嗎？\\n\\nhttps://i.imgur.com/XIma4y2.jpg</td>\n",
       "    </tr>\n",
       "    <tr>\n",
       "      <th>4</th>\n",
       "      <td>235442693</td>\n",
       "      <td>這樣女生該追嗎</td>\n",
       "      <td>已經約好見面，到了當天晚上七點半才回，我是被耍了嗎 \\n如下圖\\n\\n\\nhttps://i.imgur.com/81HRQpQ.jpg\\nhttps://i.imgur.com/6lmTX1P.jpg\\nhttps://i.imgur.com/bV4X0Fz.jpg</td>\n",
       "    </tr>\n",
       "    <tr>\n",
       "      <th>5</th>\n",
       "      <td>235441122</td>\n",
       "      <td>深夜被約砲哥開導4小時哭了</td>\n",
       "      <td>嗨！巨砲哥 答應你的文來了😆\\n這是一段與約砲小哥哥談心的奇幻旅程\\n\\n可憐的我情人節當天被前男友提分手\\n原本說好228連假要一起出去玩直接泡湯\\n昨天晚上一整個很鬱卒 \\n但又不想一直丟負能量給身邊朋友\\n所以就上wootalk找人聊聊\\n結果就遇到這個傳說中的暖男(?)巨砲哥\\nhttps://i.imgur.com/nlzrqS3.jpg\\n\\n劈頭就問胸部多大⋯\\n本來想按離開...</td>\n",
       "    </tr>\n",
       "    <tr>\n",
       "      <th>6</th>\n",
       "      <td>235442321</td>\n",
       "      <td>這樣真很暴露？？？</td>\n",
       "      <td>https://i.imgur.com/HCTwyAH.jpg\\n（圖片非本人）\\n今天逛街買了一件此類型的白色，但他有點透，所以裡面有配一件白色小可愛，但男友說還是太暴露！？想問各位男性朋友 可以接受女友穿這件衣服嗎？🤔</td>\n",
       "    </tr>\n",
       "    <tr>\n",
       "      <th>7</th>\n",
       "      <td>235442924</td>\n",
       "      <td>泳衣+裙會很怪嗎</td>\n",
       "      <td>https://i.imgur.com/RWJLK2v.jpg\\n\\n因為馬鞍很寬\\n想請問女孩們會覺得加這種裙式沙龍好嗎？\\n怕會不會很奇怪\\n看模特兒穿又覺得蠻好看的\\n怕實際穿出去會怪怪的</td>\n",
       "    </tr>\n",
       "    <tr>\n",
       "      <th>8</th>\n",
       "      <td>235441419</td>\n",
       "      <td>關於一個860的訂製蛋糕：）</td>\n",
       "      <td>手機排版請見諒😖🙏🏻（圖多）\\n先說這不是我第一次訂購訂製蛋糕\\n也了解訂製蛋糕不可能跟圖上一樣完美\\n看到這間的ig上照片都很漂亮才選擇這間的\\n\\nhttps://i.imgur.com/fETTnah.jpg\\n這張是訂購時給的參考圖\\n\\nhttps://i.imgur.com/XsBjPYR.jpg\\n這張是我拿到後打開的樣子\\n\\n以下附上對話記錄\\nhttps://i.img...</td>\n",
       "    </tr>\n",
       "    <tr>\n",
       "      <th>9</th>\n",
       "      <td>235440762</td>\n",
       "      <td>有女生提醒我男友吃早餐</td>\n",
       "      <td>https://i.imgur.com/6Yk9etg.jpg\\n想在這裡問大家有沒有接到這種電話⋯\\n我男友前幾個月有接到一次，電話內容就只有女生用嗲嗲的聲音提醒我男友吃早餐這樣而已。電話掛了之後男友也有跟我說是他不認識的。\\n\\n但因為自己心裡存有懷疑，隔天在上班的時候有叫男同事用我手機打過去問（男友有給我她的手機號碼截圖\\n\\n男同事一開始就問她是不是那位提醒自己吃早餐的那個女生，後...</td>\n",
       "    </tr>\n",
       "  </tbody>\n",
       "</table>\n",
       "</div>"
      ],
      "text/plain": [
       "          ID              title  \\\n",
       "0  235443715   三更 21歲這年我差點被活活燒死   \n",
       "1  235442609  超狂學經歷！195公分帥家教徵學生   \n",
       "2  235441998     我的模特界時間管理大師前男友   \n",
       "3  235441259               豆皮加爆   \n",
       "4  235442693            這樣女生該追嗎   \n",
       "5  235441122      深夜被約砲哥開導4小時哭了   \n",
       "6  235442321          這樣真很暴露？？？   \n",
       "7  235442924           泳衣+裙會很怪嗎   \n",
       "8  235441419     關於一個860的訂製蛋糕：）   \n",
       "9  235440762        有女生提醒我男友吃早餐   \n",
       "\n",
       "                                                                                                                                                                                                   content  \n",
       "0  部分回應在B117 \\n謝謝各位的留言，我都有看完\\n好的不好的，我都接受謝謝大家🙇‍♀️\\n\\n\\n（第三次更新在這邊）\\nB258 這邊也有講到怎麼逃生\\n很多人好奇我是怎麼踹門的，\\n在這邊跟大家說一下，\\n因為這台車本來就很老舊，\\n加上我文章說的我有停在路邊檢查，\\n之前有在練空手道，所以比較知道怎麼施力😥\\n謝謝大家的關心，其他比較有問題的我會在留言一一回覆！\\n\\n後續處理的...  \n",
       "1  https://i.imgur.com/REIEzSd.jpg\\n\\n身高195公分的男大生楊承翰在家教社團PO文徵學生的文章被網友推爆了，網友們看到他的學經歷及成績不禁大讚根本就是學霸王，而他不只擁有高顏質，還是籃球系隊成員，超乎常人的學經歷及證書考試成績，瞬間讓網友都跪著朝聖，直呼「天哪好厲害的帥哥」、「這個當家教太可惜了」。\\n\\n21歲台大學生楊承翰日前在臉書社團「家教補教學校兼全...  \n",
       "2  看過這麼多在Dcard、PTT上的感情渣事和創作文\\n從沒想過如此荒謬像八點檔的事情居然會發生在自己的身上\\n\\n本來以為與我交往一年的男友，是因為遠距離的關係分手，但就在我難過發文之後，我的IG私訊被各種匿名爆料塞爆，才發現交往一年的他幾乎是個我完全不認識的人（除了我被無數次劈腿，還有他幻謊症的部分，可能還有妄想症...）\\n\\n \\n接下來的故事全部都是真真切切發生的事情，因為整段故事...  \n",
       "3                                                                                     剛剛吃小火鍋，跟店員說不要金針菇（怕卡牙縫），於是店員幫我換其他配料..…\\n\\n沒想到餐一上桌竟是豆皮加爆~\\n\\n真是超開心的~有人也跟我一樣喜歡吃豆皮的嗎？\\n\\nhttps://i.imgur.com/XIma4y2.jpg  \n",
       "4                                                                   已經約好見面，到了當天晚上七點半才回，我是被耍了嗎 \\n如下圖\\n\\n\\nhttps://i.imgur.com/81HRQpQ.jpg\\nhttps://i.imgur.com/6lmTX1P.jpg\\nhttps://i.imgur.com/bV4X0Fz.jpg  \n",
       "5  嗨！巨砲哥 答應你的文來了😆\\n這是一段與約砲小哥哥談心的奇幻旅程\\n\\n可憐的我情人節當天被前男友提分手\\n原本說好228連假要一起出去玩直接泡湯\\n昨天晚上一整個很鬱卒 \\n但又不想一直丟負能量給身邊朋友\\n所以就上wootalk找人聊聊\\n結果就遇到這個傳說中的暖男(?)巨砲哥\\nhttps://i.imgur.com/nlzrqS3.jpg\\n\\n劈頭就問胸部多大⋯\\n本來想按離開...  \n",
       "6                                                                                          https://i.imgur.com/HCTwyAH.jpg\\n（圖片非本人）\\n今天逛街買了一件此類型的白色，但他有點透，所以裡面有配一件白色小可愛，但男友說還是太暴露！？想問各位男性朋友 可以接受女友穿這件衣服嗎？🤔  \n",
       "7                                                                                                        https://i.imgur.com/RWJLK2v.jpg\\n\\n因為馬鞍很寬\\n想請問女孩們會覺得加這種裙式沙龍好嗎？\\n怕會不會很奇怪\\n看模特兒穿又覺得蠻好看的\\n怕實際穿出去會怪怪的  \n",
       "8  手機排版請見諒😖🙏🏻（圖多）\\n先說這不是我第一次訂購訂製蛋糕\\n也了解訂製蛋糕不可能跟圖上一樣完美\\n看到這間的ig上照片都很漂亮才選擇這間的\\n\\nhttps://i.imgur.com/fETTnah.jpg\\n這張是訂購時給的參考圖\\n\\nhttps://i.imgur.com/XsBjPYR.jpg\\n這張是我拿到後打開的樣子\\n\\n以下附上對話記錄\\nhttps://i.img...  \n",
       "9  https://i.imgur.com/6Yk9etg.jpg\\n想在這裡問大家有沒有接到這種電話⋯\\n我男友前幾個月有接到一次，電話內容就只有女生用嗲嗲的聲音提醒我男友吃早餐這樣而已。電話掛了之後男友也有跟我說是他不認識的。\\n\\n但因為自己心裡存有懷疑，隔天在上班的時候有叫男同事用我手機打過去問（男友有給我她的手機號碼截圖\\n\\n男同事一開始就問她是不是那位提醒自己吃早餐的那個女生，後...  "
      ]
     },
     "execution_count": 12,
     "metadata": {},
     "output_type": "execute_result"
    }
   ],
   "source": [
    "corpus_df2.iloc[0:10]"
   ]
  },
  {
   "cell_type": "code",
   "execution_count": 13,
   "metadata": {
    "tags": [
     "remove-input",
     "remove-output"
    ]
   },
   "outputs": [
    {
     "name": "stdout",
     "output_type": "stream",
     "text": [
      "(100, 3)\n",
      "(99, 3)\n",
      "99\n"
     ]
    }
   ],
   "source": [
    "print(corpus_df.shape)\n",
    "print(corpus_df2.shape)\n",
    "print(len(norm_corpus))"
   ]
  },
  {
   "cell_type": "code",
   "execution_count": 14,
   "metadata": {
    "tags": [
     "remove-input",
     "remove-output"
    ]
   },
   "outputs": [
    {
     "data": {
      "text/html": [
       "<div>\n",
       "<style scoped>\n",
       "    .dataframe tbody tr th:only-of-type {\n",
       "        vertical-align: middle;\n",
       "    }\n",
       "\n",
       "    .dataframe tbody tr th {\n",
       "        vertical-align: top;\n",
       "    }\n",
       "\n",
       "    .dataframe thead th {\n",
       "        text-align: right;\n",
       "    }\n",
       "</style>\n",
       "<table border=\"1\" class=\"dataframe\">\n",
       "  <thead>\n",
       "    <tr style=\"text-align: right;\">\n",
       "      <th></th>\n",
       "      <th>ID</th>\n",
       "      <th>title</th>\n",
       "      <th>content</th>\n",
       "      <th>Normalized</th>\n",
       "    </tr>\n",
       "  </thead>\n",
       "  <tbody>\n",
       "    <tr>\n",
       "      <th>0</th>\n",
       "      <td>235443715</td>\n",
       "      <td>三更 21歲這年我差點被活活燒死</td>\n",
       "      <td>部分回應在B117 \\n謝謝各位的留言，我都有看完\\n好的不好的，我都接受謝謝大家🙇‍♀️\\n\\n\\n（第三次更新在這邊）\\nB258 這邊也有講到怎麼逃生\\n很多人好奇我是怎麼踹門的，\\n在這邊跟大家說一下，\\n因為這台車本來就很老舊，\\n加上我文章說的我有停在路邊檢查，\\n之前有在練空手道，所以比較知道怎麼施力😥\\n謝謝大家的關心，其他比較有問題的我會在留言一一回覆！\\n\\n後續處理的...</td>\n",
       "      <td>部分 回應 謝謝 各位 留言 有 看完 好 好 接受 謝謝 次 更新 這邊 這邊 有 講到 逃生 很多 人 好奇 踹 門 這邊 說 一下 這 台 車 老舊 文章 說 有 停 路 邊 檢查 之前 有 練 空手道 知道 施力 謝謝 關心 其他 有 問題 留言 回覆 處理 部分 租 車 公司 有 很多 間 公司 當時 租 車 地方 新莊 中原路 平台 上 訂 租 車 公司 平台 講 家人 主動 ...</td>\n",
       "    </tr>\n",
       "    <tr>\n",
       "      <th>1</th>\n",
       "      <td>235442609</td>\n",
       "      <td>超狂學經歷！195公分帥家教徵學生</td>\n",
       "      <td>https://i.imgur.com/REIEzSd.jpg\\n\\n身高195公分的男大生楊承翰在家教社團PO文徵學生的文章被網友推爆了，網友們看到他的學經歷及成績不禁大讚根本就是學霸王，而他不只擁有高顏質，還是籃球系隊成員，超乎常人的學經歷及證書考試成績，瞬間讓網友都跪著朝聖，直呼「天哪好厲害的帥哥」、「這個當家教太可惜了」。\\n\\n21歲台大學生楊承翰日前在臉書社團「家教補教學校兼全...</td>\n",
       "      <td>身高 公分 男 大生 楊承翰 家教 社團 學生 文章 網友 推爆 網友 們 看到 學經歷 成績 大讚 學霸王 擁有 高顏質 籃球 系隊 成員 超乎 常人 學經歷 證書 考試 成績 瞬間 讓 網友 跪 朝聖 呼 天 厲害 帥哥 這 個 當 家教 可惜 歲 台大 學生 楊承翰 日前 臉書 社團 家教 補教 學校 兼 全職 打工 師訓 交流 發文 想 時薪 元 找 家教 學生 授課 內容 為 英...</td>\n",
       "    </tr>\n",
       "    <tr>\n",
       "      <th>2</th>\n",
       "      <td>235441998</td>\n",
       "      <td>我的模特界時間管理大師前男友</td>\n",
       "      <td>看過這麼多在Dcard、PTT上的感情渣事和創作文\\n從沒想過如此荒謬像八點檔的事情居然會發生在自己的身上\\n\\n本來以為與我交往一年的男友，是因為遠距離的關係分手，但就在我難過發文之後，我的IG私訊被各種匿名爆料塞爆，才發現交往一年的他幾乎是個我完全不認識的人（除了我被無數次劈腿，還有他幻謊症的部分，可能還有妄想症...）\\n\\n \\n接下來的故事全部都是真真切切發生的事情，因為整段故事...</td>\n",
       "      <td>看過 這麼多 上 感情 渣事 創作 文 想 如此 荒謬 八點檔 事情 發生 身 上 以為 交往 年 男友 遠 距離 關係 分手 難過 發文 之後 私訊 各 種 匿名 爆料 塞爆 發現 交往 年 個 認識 人 無數 次 劈腿 有 幻謊症 部分 有 妄想症 故事 全部 真真切切 發生 事情 整 段 故事 複雜 牽扯 太多 人 確定 分成 篇 今天 認識到 在一起 故事 開始 講起 整 篇 故事...</td>\n",
       "    </tr>\n",
       "    <tr>\n",
       "      <th>3</th>\n",
       "      <td>235441259</td>\n",
       "      <td>豆皮加爆</td>\n",
       "      <td>剛剛吃小火鍋，跟店員說不要金針菇（怕卡牙縫），於是店員幫我換其他配料..…\\n\\n沒想到餐一上桌竟是豆皮加爆~\\n\\n真是超開心的~有人也跟我一樣喜歡吃豆皮的嗎？\\n\\nhttps://i.imgur.com/XIma4y2.jpg</td>\n",
       "      <td>吃 小 火鍋 店員 說 要 金針菇 怕 卡 牙縫 店員 換 其他 配料 餐 上桌 竟是 豆皮 加 爆 開心 有 人 一樣 喜歡 吃 豆皮</td>\n",
       "    </tr>\n",
       "    <tr>\n",
       "      <th>4</th>\n",
       "      <td>235442693</td>\n",
       "      <td>這樣女生該追嗎</td>\n",
       "      <td>已經約好見面，到了當天晚上七點半才回，我是被耍了嗎 \\n如下圖\\n\\n\\nhttps://i.imgur.com/81HRQpQ.jpg\\nhttps://i.imgur.com/6lmTX1P.jpg\\nhttps://i.imgur.com/bV4X0Fz.jpg</td>\n",
       "      <td>約好 見面 到 當天 晚上 七點半 回 耍 下圖</td>\n",
       "    </tr>\n",
       "    <tr>\n",
       "      <th>...</th>\n",
       "      <td>...</td>\n",
       "      <td>...</td>\n",
       "      <td>...</td>\n",
       "      <td>...</td>\n",
       "    </tr>\n",
       "    <tr>\n",
       "      <th>95</th>\n",
       "      <td>235444562</td>\n",
       "      <td>主題：💟愛情塔羅💟 他要的感情關係vs 我要的感情關係為何？兩個人的近期發展（曖昧/交往中/斷聯/復合）</td>\n",
       "      <td>🤗感謝我們之間的連結帶領你來到這裡！ \\n\\n主題：💟愛情塔羅💟 他要的感情關係vs 我要的感情關係為何？兩個人的近期發展（曖昧/交往中/斷聯/復合）\\n\\n本次的大眾占卜適合處在曖昧、交往中、剛斷聯、分手、期待的你，有時候一份感情的重要核心正是在於雙方要的是不是一樣的東西，不見得得要完全相同，但至少如果理解彼此的感情需求，在相處上也能夠更融洽嘍！\\n\\n⭐️請閉上眼睛，深呼吸，腦子專心裡...</td>\n",
       "      <td>感謝 之間 連結 帶領 來到 這裡 主題 愛情 塔羅 感情 關係 感情 關係 何 個 人 近期 發展 曖昧 交往 中 斷聯 復合 本 次 占卜 適合 處在 曖昧 交往 中 斷聯 分手 期待 份 感情 重要 核心 在於 一樣 東西 相同 理解 感情 需求 相處 上 融洽 請 閉上 眼睛 深呼吸 腦子 專心 裡 想 感情 關係 什麼 相同 想想 樣子 有 個 人 相處 點滴 張開 眼睛 組 牌...</td>\n",
       "    </tr>\n",
       "    <tr>\n",
       "      <th>96</th>\n",
       "      <td>235441027</td>\n",
       "      <td>#分享 老花古董包 LV 方盒子｜Celine 化妝箱</td>\n",
       "      <td>近期購入的兩款古董包 可能因為是新歡 所以都讓我愛不釋手(๑•̀ •́)و✧\\n不過正是古董包的緣故 包況總有些不盡理想的狀況 帶有小瑕疵的部分 我自己都可以接受\\n為了比較包包的容量 文內有帶到一小部分的what’s in my bag 也有實揹照的部分*ˊᵕˋ\\n\\n\\n\\n𓎘𓎘𓎘 Louis Vuitton monogram 開口笑方盒子\\n（名字是參考小紅書介紹）\\n\\n購入價格：...</td>\n",
       "      <td>近期 購入 款 古董包 新歡 讓 愛不釋手 古董包 緣故 包況 有 些 理想 狀況 帶有 小 瑕疵 部分 接受 包包 容量 文 內 有 帶到 小 部分 有 實 揹照 部分 開口 笑 方 盒子 名字 參考 小紅 書 介紹 購入 價格 購入 方式 代購 賣場 尺寸 公分 容量 暗層 這 款 愛 想 買給 媽媽 當作 生日 禮物 藏 房間 每 天 看 好 喜歡 後來 購入 送給 媽媽 這 款 留...</td>\n",
       "    </tr>\n",
       "    <tr>\n",
       "      <th>97</th>\n",
       "      <td>235447320</td>\n",
       "      <td>在公車上遇到的超尷尬事件</td>\n",
       "      <td>剛剛在公車上有一個阿伯下車前跟我說：妹妹你很有愛心欸 讓位置給別人 不像有些人都在裝睡\\n講完這句話還瞄了一眼旁邊的女生\\n我當下就笑笑的\\n可是阿伯\\n那個女生\\n-\\n-\\n-\\n是我朋友(^_^;)\\n幸好阿伯講完就下車了⋯\\nhttps://i.imgur.com/htuMwVw.jpg</td>\n",
       "      <td>公車 上 有 個 阿伯 下車 前 說 妹妹 有 愛心 讓 位置 給 有 些 人 裝睡 講完 這 句 話 瞄 眼 旁邊 女生 笑笑 阿伯 那 個 女生 朋友 阿伯 講完 下車</td>\n",
       "    </tr>\n",
       "    <tr>\n",
       "      <th>98</th>\n",
       "      <td>235440749</td>\n",
       "      <td>#大眾占卜 🥺。他現在對我的想法是?他的下一步是什麼?我能為這段關係做什麼樣的努力❣</td>\n",
       "      <td>大家好這裡是金魚🙏\\n這次的占卜適合斷聯、曖昧、復合的族群\\n\\n再上圖之前先置入我的IG\\nhttps://www.instagram.com/goldenfishtarot\\n\\n【大眾占卜集合多人能量請選擇有感應的部分聆聽即可】\\n喜歡有聲版請點連結\\n喜歡文字下面附上文案\\nhttps://youtu.be/xkJHmyl_M7g\\n\\nhttps://i.imgur.com/Ux...</td>\n",
       "      <td>好 這裡 金魚 這 次 占卜 適合 斷聯 曖昧 復合 族群 上 圖 之前 置入 占卜 集合 多 人 能量 請 選擇 有 感應 部分 聆聽 喜歡 請 點 連結 喜歡 文字 下面 附上 文案 組 這 個 對象 之前 感情 坎坷 劈腿 騙 錢 這 有 可能 關 久 遇見 願意 心房 打開 相處 過程 中 知道 什麼 無私 愛 這 種 感情 原生 家庭 感受到 防備 讓 受傷 熱情 有 正向 感染...</td>\n",
       "    </tr>\n",
       "    <tr>\n",
       "      <th>99</th>\n",
       "      <td>235442177</td>\n",
       "      <td>所以，你要當我女朋友嗎？</td>\n",
       "      <td>「所以，你要當我女朋友嗎？」我看進她的眼睛，隱約反射出自己的倒影。躺在床上的我們呼吸有些紊亂，午後的陽光肆無忌憚的灑在身上，有點溫暖。\\n\\n我們的故事，從英國開始。\\n\\n\\n大學畢業後我跑到英國念碩士，人生地不熟的地方，一個認識的人也沒有，頭幾週的生活常常是一個人吃飯、逛街、看劇度過，再加上那時還沒走出前女友劈腿的陰影，那段時間說實在還滿煎熬的。\\n\\n幸好後來認識了跟我住在同個宿舍的...</td>\n",
       "      <td>當 女朋友 看進 眼睛 反射出 倒影 躺 床 上 呼吸 紊亂 午後 陽光 肆無忌憚 灑 身 上 溫暖 故事 英國 開始 大學 畢業 後 跑到 英國 念 碩士 人生地不熟 地方 個 認識 人 沒有 週 生活 個 人 吃飯 逛街 看劇 度過 加上 那時 走出 前 女友 劈腿 陰影 那 段 時間 說 實在 煎熬 後來 認識 住在 同 個 宿舍 台灣人 知道 身邊 有 有 這樣 朋友 人脈 感覺 ...</td>\n",
       "    </tr>\n",
       "  </tbody>\n",
       "</table>\n",
       "<p>99 rows × 4 columns</p>\n",
       "</div>"
      ],
      "text/plain": [
       "           ID                                                 title  \\\n",
       "0   235443715                                      三更 21歲這年我差點被活活燒死   \n",
       "1   235442609                                     超狂學經歷！195公分帥家教徵學生   \n",
       "2   235441998                                        我的模特界時間管理大師前男友   \n",
       "3   235441259                                                  豆皮加爆   \n",
       "4   235442693                                               這樣女生該追嗎   \n",
       "..        ...                                                   ...   \n",
       "95  235444562  主題：💟愛情塔羅💟 他要的感情關係vs 我要的感情關係為何？兩個人的近期發展（曖昧/交往中/斷聯/復合）   \n",
       "96  235441027                           #分享 老花古董包 LV 方盒子｜Celine 化妝箱   \n",
       "97  235447320                                          在公車上遇到的超尷尬事件   \n",
       "98  235440749            #大眾占卜 🥺。他現在對我的想法是?他的下一步是什麼?我能為這段關係做什麼樣的努力❣   \n",
       "99  235442177                                          所以，你要當我女朋友嗎？   \n",
       "\n",
       "                                                                                                                                                                                                    content  \\\n",
       "0   部分回應在B117 \\n謝謝各位的留言，我都有看完\\n好的不好的，我都接受謝謝大家🙇‍♀️\\n\\n\\n（第三次更新在這邊）\\nB258 這邊也有講到怎麼逃生\\n很多人好奇我是怎麼踹門的，\\n在這邊跟大家說一下，\\n因為這台車本來就很老舊，\\n加上我文章說的我有停在路邊檢查，\\n之前有在練空手道，所以比較知道怎麼施力😥\\n謝謝大家的關心，其他比較有問題的我會在留言一一回覆！\\n\\n後續處理的...   \n",
       "1   https://i.imgur.com/REIEzSd.jpg\\n\\n身高195公分的男大生楊承翰在家教社團PO文徵學生的文章被網友推爆了，網友們看到他的學經歷及成績不禁大讚根本就是學霸王，而他不只擁有高顏質，還是籃球系隊成員，超乎常人的學經歷及證書考試成績，瞬間讓網友都跪著朝聖，直呼「天哪好厲害的帥哥」、「這個當家教太可惜了」。\\n\\n21歲台大學生楊承翰日前在臉書社團「家教補教學校兼全...   \n",
       "2   看過這麼多在Dcard、PTT上的感情渣事和創作文\\n從沒想過如此荒謬像八點檔的事情居然會發生在自己的身上\\n\\n本來以為與我交往一年的男友，是因為遠距離的關係分手，但就在我難過發文之後，我的IG私訊被各種匿名爆料塞爆，才發現交往一年的他幾乎是個我完全不認識的人（除了我被無數次劈腿，還有他幻謊症的部分，可能還有妄想症...）\\n\\n \\n接下來的故事全部都是真真切切發生的事情，因為整段故事...   \n",
       "3                                                                                      剛剛吃小火鍋，跟店員說不要金針菇（怕卡牙縫），於是店員幫我換其他配料..…\\n\\n沒想到餐一上桌竟是豆皮加爆~\\n\\n真是超開心的~有人也跟我一樣喜歡吃豆皮的嗎？\\n\\nhttps://i.imgur.com/XIma4y2.jpg   \n",
       "4                                                                    已經約好見面，到了當天晚上七點半才回，我是被耍了嗎 \\n如下圖\\n\\n\\nhttps://i.imgur.com/81HRQpQ.jpg\\nhttps://i.imgur.com/6lmTX1P.jpg\\nhttps://i.imgur.com/bV4X0Fz.jpg   \n",
       "..                                                                                                                                                                                                      ...   \n",
       "95  🤗感謝我們之間的連結帶領你來到這裡！ \\n\\n主題：💟愛情塔羅💟 他要的感情關係vs 我要的感情關係為何？兩個人的近期發展（曖昧/交往中/斷聯/復合）\\n\\n本次的大眾占卜適合處在曖昧、交往中、剛斷聯、分手、期待的你，有時候一份感情的重要核心正是在於雙方要的是不是一樣的東西，不見得得要完全相同，但至少如果理解彼此的感情需求，在相處上也能夠更融洽嘍！\\n\\n⭐️請閉上眼睛，深呼吸，腦子專心裡...   \n",
       "96  近期購入的兩款古董包 可能因為是新歡 所以都讓我愛不釋手(๑•̀ •́)و✧\\n不過正是古董包的緣故 包況總有些不盡理想的狀況 帶有小瑕疵的部分 我自己都可以接受\\n為了比較包包的容量 文內有帶到一小部分的what’s in my bag 也有實揹照的部分*ˊᵕˋ\\n\\n\\n\\n𓎘𓎘𓎘 Louis Vuitton monogram 開口笑方盒子\\n（名字是參考小紅書介紹）\\n\\n購入價格：...   \n",
       "97                                                     剛剛在公車上有一個阿伯下車前跟我說：妹妹你很有愛心欸 讓位置給別人 不像有些人都在裝睡\\n講完這句話還瞄了一眼旁邊的女生\\n我當下就笑笑的\\n可是阿伯\\n那個女生\\n-\\n-\\n-\\n是我朋友(^_^;)\\n幸好阿伯講完就下車了⋯\\nhttps://i.imgur.com/htuMwVw.jpg   \n",
       "98  大家好這裡是金魚🙏\\n這次的占卜適合斷聯、曖昧、復合的族群\\n\\n再上圖之前先置入我的IG\\nhttps://www.instagram.com/goldenfishtarot\\n\\n【大眾占卜集合多人能量請選擇有感應的部分聆聽即可】\\n喜歡有聲版請點連結\\n喜歡文字下面附上文案\\nhttps://youtu.be/xkJHmyl_M7g\\n\\nhttps://i.imgur.com/Ux...   \n",
       "99  「所以，你要當我女朋友嗎？」我看進她的眼睛，隱約反射出自己的倒影。躺在床上的我們呼吸有些紊亂，午後的陽光肆無忌憚的灑在身上，有點溫暖。\\n\\n我們的故事，從英國開始。\\n\\n\\n大學畢業後我跑到英國念碩士，人生地不熟的地方，一個認識的人也沒有，頭幾週的生活常常是一個人吃飯、逛街、看劇度過，再加上那時還沒走出前女友劈腿的陰影，那段時間說實在還滿煎熬的。\\n\\n幸好後來認識了跟我住在同個宿舍的...   \n",
       "\n",
       "                                                                                                                                                                                                 Normalized  \n",
       "0   部分 回應 謝謝 各位 留言 有 看完 好 好 接受 謝謝 次 更新 這邊 這邊 有 講到 逃生 很多 人 好奇 踹 門 這邊 說 一下 這 台 車 老舊 文章 說 有 停 路 邊 檢查 之前 有 練 空手道 知道 施力 謝謝 關心 其他 有 問題 留言 回覆 處理 部分 租 車 公司 有 很多 間 公司 當時 租 車 地方 新莊 中原路 平台 上 訂 租 車 公司 平台 講 家人 主動 ...  \n",
       "1   身高 公分 男 大生 楊承翰 家教 社團 學生 文章 網友 推爆 網友 們 看到 學經歷 成績 大讚 學霸王 擁有 高顏質 籃球 系隊 成員 超乎 常人 學經歷 證書 考試 成績 瞬間 讓 網友 跪 朝聖 呼 天 厲害 帥哥 這 個 當 家教 可惜 歲 台大 學生 楊承翰 日前 臉書 社團 家教 補教 學校 兼 全職 打工 師訓 交流 發文 想 時薪 元 找 家教 學生 授課 內容 為 英...  \n",
       "2   看過 這麼多 上 感情 渣事 創作 文 想 如此 荒謬 八點檔 事情 發生 身 上 以為 交往 年 男友 遠 距離 關係 分手 難過 發文 之後 私訊 各 種 匿名 爆料 塞爆 發現 交往 年 個 認識 人 無數 次 劈腿 有 幻謊症 部分 有 妄想症 故事 全部 真真切切 發生 事情 整 段 故事 複雜 牽扯 太多 人 確定 分成 篇 今天 認識到 在一起 故事 開始 講起 整 篇 故事...  \n",
       "3                                                                                                                                      吃 小 火鍋 店員 說 要 金針菇 怕 卡 牙縫 店員 換 其他 配料 餐 上桌 竟是 豆皮 加 爆 開心 有 人 一樣 喜歡 吃 豆皮  \n",
       "4                                                                                                                                                                                  約好 見面 到 當天 晚上 七點半 回 耍 下圖  \n",
       "..                                                                                                                                                                                                      ...  \n",
       "95  感謝 之間 連結 帶領 來到 這裡 主題 愛情 塔羅 感情 關係 感情 關係 何 個 人 近期 發展 曖昧 交往 中 斷聯 復合 本 次 占卜 適合 處在 曖昧 交往 中 斷聯 分手 期待 份 感情 重要 核心 在於 一樣 東西 相同 理解 感情 需求 相處 上 融洽 請 閉上 眼睛 深呼吸 腦子 專心 裡 想 感情 關係 什麼 相同 想想 樣子 有 個 人 相處 點滴 張開 眼睛 組 牌...  \n",
       "96  近期 購入 款 古董包 新歡 讓 愛不釋手 古董包 緣故 包況 有 些 理想 狀況 帶有 小 瑕疵 部分 接受 包包 容量 文 內 有 帶到 小 部分 有 實 揹照 部分 開口 笑 方 盒子 名字 參考 小紅 書 介紹 購入 價格 購入 方式 代購 賣場 尺寸 公分 容量 暗層 這 款 愛 想 買給 媽媽 當作 生日 禮物 藏 房間 每 天 看 好 喜歡 後來 購入 送給 媽媽 這 款 留...  \n",
       "97                                                                                                                   公車 上 有 個 阿伯 下車 前 說 妹妹 有 愛心 讓 位置 給 有 些 人 裝睡 講完 這 句 話 瞄 眼 旁邊 女生 笑笑 阿伯 那 個 女生 朋友 阿伯 講完 下車  \n",
       "98  好 這裡 金魚 這 次 占卜 適合 斷聯 曖昧 復合 族群 上 圖 之前 置入 占卜 集合 多 人 能量 請 選擇 有 感應 部分 聆聽 喜歡 請 點 連結 喜歡 文字 下面 附上 文案 組 這 個 對象 之前 感情 坎坷 劈腿 騙 錢 這 有 可能 關 久 遇見 願意 心房 打開 相處 過程 中 知道 什麼 無私 愛 這 種 感情 原生 家庭 感受到 防備 讓 受傷 熱情 有 正向 感染...  \n",
       "99  當 女朋友 看進 眼睛 反射出 倒影 躺 床 上 呼吸 紊亂 午後 陽光 肆無忌憚 灑 身 上 溫暖 故事 英國 開始 大學 畢業 後 跑到 英國 念 碩士 人生地不熟 地方 個 認識 人 沒有 週 生活 個 人 吃飯 逛街 看劇 度過 加上 那時 走出 前 女友 劈腿 陰影 那 段 時間 說 實在 煎熬 後來 認識 住在 同 個 宿舍 台灣人 知道 身邊 有 有 這樣 朋友 人脈 感覺 ...  \n",
       "\n",
       "[99 rows x 4 columns]"
      ]
     },
     "execution_count": 14,
     "metadata": {},
     "output_type": "execute_result"
    }
   ],
   "source": [
    "corpus_df2['Normalized'] = norm_corpus\n",
    "corpus_df2"
   ]
  },
  {
   "cell_type": "code",
   "execution_count": 15,
   "metadata": {
    "tags": [
     "remove-input",
     "remove-output"
    ]
   },
   "outputs": [
    {
     "data": {
      "text/plain": [
       "'晚上 好 今天 分享 個 春天 日系 妝容 給 剛好 剪 頭髮 換 個 髮型 喜歡 次 頭髮 打 薄 有 日系 感覺 這 次 分享 個 妝容 剛好 剪 頭髮 前後 覺得 好看 變 回去 囉嗦 有 興趣 看 下去 今天 分享 個 妝 附上 久違 素顏 給 對比 組 分享 封面 妝容 剪完 髮 這 組 分享 大愛 橘色 妝容 讓 整體 柔和 眼線筆 睫毛膏 選擇 帶有 顏色 附上 彩妝品 眼妝 教學 眼影 這 個 打底色 腮紅 做 打底 腮紅 不均 上 眼睛 好用 斑駁 不均 手 上 眼影 這 盤 發色 好 沾取 量 少 慢慢 堆疊 艾杜紗  眼線筆 失手 眼線 膠筆 鉛 丹橘 芯 細 好 畫 試 手 上 感覺 持 妝 不錯 之後 出門 更新 持久性 艾杜紗 睫毛 底膏 勃根地粉 低調 粉色 明顯 擦 感覺 溫溫柔柔 沒 什麼 濃密 作用 上 睫毛膏 艾杜紗 愛 潤唇蜜 亮橘 上 嘴 薄 透 自然感 橘 嚇人 日常 建議 裸色 打底 畫 唇型 疊加 這 個 眼妝 部分 眼影 塗 整 個 眼窩 塗 雙眼皮 折 後 疊擦 眼尾處 最後 眼 中 疊擦 美 眼影 塗滿 整 個 眼下 中間 處 疊加 一點 亮 橘 這 個 眼妝 完成 剪髮 前 組 今年 春天 日本 流行 紫粉色 為 基底 整體 給 人 感覺 成熟 沈穩 附上 彩妝品 眼妝 教學 眼影 這 盤 組合 裡 攜帶型 迷你 眼影 排 眼影 這 顆 單色 眼影 閃片 美 隨便 擦 隨便 美  拿來 打亮 眼頭 眼下 金 上眼 混 白色 珠光 那 種 嚇人 金色 大 亮片 細緻 推 新手 買 直接 塗 打 底色 手 上 眼皮 中央 瞬間 升級 妝感 眼線 阻力 經典 復古 棕 眼線 說 這 隻 摯愛 眼線液 眼線筆 暈 用 很多 拿 這 隻 畫 內 眼線 暈 眼妝 乾淨 整 天 秘密 棕色 上 眼 黑色 死黑 深 深 咖啡 腮紅 倩碧 小花 腮紅 紫羅蘭 小花 腮紅 發色 好 需要 上 層 紅  細白 管 擦起來 偏 粉 乾燥 玫瑰色 粉顏 色調 恰到好處 眼妝 部分 眼影 塗 整 個 眼窩 塗 雙眼皮 折中 後方 暈染 開 小 刷子 沾取 打亮 眼頭 眼下 想要 加強 眼皮 閃度 疊  中央 眼影 塗 中後 部分 之後 尾 地方 疊擦 這 個 眼妝 鬆散 小 刷子 完成 今天 個 日系 妝容 分享 這 希望 喜歡 有 問題 留言 謝謝 觀看 妝容 實拍 小 影片 習慣 這 個 髮型'"
      ]
     },
     "execution_count": 15,
     "metadata": {},
     "output_type": "execute_result"
    }
   ],
   "source": [
    "## check `norm_corpus`\n",
    "len(norm_corpus)\n",
    "norm_corpus[10]"
   ]
  },
  {
   "cell_type": "markdown",
   "metadata": {
    "tags": [
     "remove-input",
     "remove-output"
    ]
   },
   "source": [
    "### Bag of Words Model"
   ]
  },
  {
   "cell_type": "markdown",
   "metadata": {
    "tags": [
     "remove-input",
     "remove-output"
    ]
   },
   "source": [
    "- Bag-of-words model is the simplest way to vectorize texts into numeric representations.\n",
    "- In short, it is a method to represent a text using its word frequency list.\n",
    "- The sequential order of words in the text is therefore naively ignored."
   ]
  },
  {
   "cell_type": "code",
   "execution_count": 16,
   "metadata": {
    "tags": [
     "remove-input",
     "remove-output"
    ]
   },
   "outputs": [
    {
     "data": {
      "text/plain": [
       "<99x595 sparse matrix of type '<class 'numpy.int64'>'\n",
       "\twith 3587 stored elements in Compressed Sparse Row format>"
      ]
     },
     "execution_count": 16,
     "metadata": {},
     "output_type": "execute_result"
    }
   ],
   "source": [
    "from sklearn.feature_extraction.text import CountVectorizer\n",
    "# get bag of words features in sparse format\n",
    "cv = CountVectorizer(min_df=3, max_df=0.7,token_pattern=r'[^\\s]{2,}') ## include two-syllable words\n",
    "cv_matrix = cv.fit_transform(norm_corpus)\n",
    "cv_matrix"
   ]
  },
  {
   "cell_type": "code",
   "execution_count": 17,
   "metadata": {
    "tags": [
     "remove-input",
     "remove-output"
    ]
   },
   "outputs": [
    {
     "data": {
      "text/html": [
       "<div>\n",
       "<style scoped>\n",
       "    .dataframe tbody tr th:only-of-type {\n",
       "        vertical-align: middle;\n",
       "    }\n",
       "\n",
       "    .dataframe tbody tr th {\n",
       "        vertical-align: top;\n",
       "    }\n",
       "\n",
       "    .dataframe thead th {\n",
       "        text-align: right;\n",
       "    }\n",
       "</style>\n",
       "<table border=\"1\" class=\"dataframe\">\n",
       "  <thead>\n",
       "    <tr style=\"text-align: right;\">\n",
       "      <th></th>\n",
       "      <th>一下</th>\n",
       "      <th>一些</th>\n",
       "      <th>一切</th>\n",
       "      <th>一半</th>\n",
       "      <th>一樣</th>\n",
       "      <th>一陣子</th>\n",
       "      <th>一點</th>\n",
       "      <th>一點點</th>\n",
       "      <th>上來</th>\n",
       "      <th>上班</th>\n",
       "      <th>...</th>\n",
       "      <th>顏色</th>\n",
       "      <th>願意</th>\n",
       "      <th>類似</th>\n",
       "      <th>風格</th>\n",
       "      <th>食物</th>\n",
       "      <th>香氣</th>\n",
       "      <th>驕傲</th>\n",
       "      <th>體重</th>\n",
       "      <th>麻煩</th>\n",
       "      <th>黑色</th>\n",
       "    </tr>\n",
       "  </thead>\n",
       "  <tbody>\n",
       "    <tr>\n",
       "      <th>0</th>\n",
       "      <td>1</td>\n",
       "      <td>0</td>\n",
       "      <td>0</td>\n",
       "      <td>0</td>\n",
       "      <td>0</td>\n",
       "      <td>0</td>\n",
       "      <td>1</td>\n",
       "      <td>0</td>\n",
       "      <td>0</td>\n",
       "      <td>0</td>\n",
       "      <td>...</td>\n",
       "      <td>0</td>\n",
       "      <td>0</td>\n",
       "      <td>0</td>\n",
       "      <td>0</td>\n",
       "      <td>0</td>\n",
       "      <td>0</td>\n",
       "      <td>0</td>\n",
       "      <td>0</td>\n",
       "      <td>0</td>\n",
       "      <td>0</td>\n",
       "    </tr>\n",
       "    <tr>\n",
       "      <th>1</th>\n",
       "      <td>0</td>\n",
       "      <td>0</td>\n",
       "      <td>0</td>\n",
       "      <td>0</td>\n",
       "      <td>0</td>\n",
       "      <td>0</td>\n",
       "      <td>0</td>\n",
       "      <td>0</td>\n",
       "      <td>0</td>\n",
       "      <td>0</td>\n",
       "      <td>...</td>\n",
       "      <td>0</td>\n",
       "      <td>0</td>\n",
       "      <td>0</td>\n",
       "      <td>0</td>\n",
       "      <td>0</td>\n",
       "      <td>0</td>\n",
       "      <td>0</td>\n",
       "      <td>0</td>\n",
       "      <td>0</td>\n",
       "      <td>0</td>\n",
       "    </tr>\n",
       "    <tr>\n",
       "      <th>2</th>\n",
       "      <td>4</td>\n",
       "      <td>1</td>\n",
       "      <td>3</td>\n",
       "      <td>0</td>\n",
       "      <td>2</td>\n",
       "      <td>1</td>\n",
       "      <td>0</td>\n",
       "      <td>0</td>\n",
       "      <td>0</td>\n",
       "      <td>0</td>\n",
       "      <td>...</td>\n",
       "      <td>0</td>\n",
       "      <td>1</td>\n",
       "      <td>0</td>\n",
       "      <td>0</td>\n",
       "      <td>2</td>\n",
       "      <td>0</td>\n",
       "      <td>0</td>\n",
       "      <td>0</td>\n",
       "      <td>0</td>\n",
       "      <td>0</td>\n",
       "    </tr>\n",
       "    <tr>\n",
       "      <th>3</th>\n",
       "      <td>0</td>\n",
       "      <td>0</td>\n",
       "      <td>0</td>\n",
       "      <td>0</td>\n",
       "      <td>1</td>\n",
       "      <td>0</td>\n",
       "      <td>0</td>\n",
       "      <td>0</td>\n",
       "      <td>0</td>\n",
       "      <td>0</td>\n",
       "      <td>...</td>\n",
       "      <td>0</td>\n",
       "      <td>0</td>\n",
       "      <td>0</td>\n",
       "      <td>0</td>\n",
       "      <td>0</td>\n",
       "      <td>0</td>\n",
       "      <td>0</td>\n",
       "      <td>0</td>\n",
       "      <td>0</td>\n",
       "      <td>0</td>\n",
       "    </tr>\n",
       "    <tr>\n",
       "      <th>4</th>\n",
       "      <td>0</td>\n",
       "      <td>0</td>\n",
       "      <td>0</td>\n",
       "      <td>0</td>\n",
       "      <td>0</td>\n",
       "      <td>0</td>\n",
       "      <td>0</td>\n",
       "      <td>0</td>\n",
       "      <td>0</td>\n",
       "      <td>0</td>\n",
       "      <td>...</td>\n",
       "      <td>0</td>\n",
       "      <td>0</td>\n",
       "      <td>0</td>\n",
       "      <td>0</td>\n",
       "      <td>0</td>\n",
       "      <td>0</td>\n",
       "      <td>0</td>\n",
       "      <td>0</td>\n",
       "      <td>0</td>\n",
       "      <td>0</td>\n",
       "    </tr>\n",
       "    <tr>\n",
       "      <th>...</th>\n",
       "      <td>...</td>\n",
       "      <td>...</td>\n",
       "      <td>...</td>\n",
       "      <td>...</td>\n",
       "      <td>...</td>\n",
       "      <td>...</td>\n",
       "      <td>...</td>\n",
       "      <td>...</td>\n",
       "      <td>...</td>\n",
       "      <td>...</td>\n",
       "      <td>...</td>\n",
       "      <td>...</td>\n",
       "      <td>...</td>\n",
       "      <td>...</td>\n",
       "      <td>...</td>\n",
       "      <td>...</td>\n",
       "      <td>...</td>\n",
       "      <td>...</td>\n",
       "      <td>...</td>\n",
       "      <td>...</td>\n",
       "      <td>...</td>\n",
       "    </tr>\n",
       "    <tr>\n",
       "      <th>94</th>\n",
       "      <td>0</td>\n",
       "      <td>0</td>\n",
       "      <td>0</td>\n",
       "      <td>0</td>\n",
       "      <td>1</td>\n",
       "      <td>0</td>\n",
       "      <td>0</td>\n",
       "      <td>0</td>\n",
       "      <td>0</td>\n",
       "      <td>0</td>\n",
       "      <td>...</td>\n",
       "      <td>0</td>\n",
       "      <td>0</td>\n",
       "      <td>0</td>\n",
       "      <td>0</td>\n",
       "      <td>0</td>\n",
       "      <td>0</td>\n",
       "      <td>0</td>\n",
       "      <td>0</td>\n",
       "      <td>0</td>\n",
       "      <td>0</td>\n",
       "    </tr>\n",
       "    <tr>\n",
       "      <th>95</th>\n",
       "      <td>0</td>\n",
       "      <td>1</td>\n",
       "      <td>0</td>\n",
       "      <td>0</td>\n",
       "      <td>1</td>\n",
       "      <td>0</td>\n",
       "      <td>0</td>\n",
       "      <td>0</td>\n",
       "      <td>0</td>\n",
       "      <td>0</td>\n",
       "      <td>...</td>\n",
       "      <td>0</td>\n",
       "      <td>0</td>\n",
       "      <td>0</td>\n",
       "      <td>0</td>\n",
       "      <td>0</td>\n",
       "      <td>0</td>\n",
       "      <td>0</td>\n",
       "      <td>0</td>\n",
       "      <td>0</td>\n",
       "      <td>0</td>\n",
       "    </tr>\n",
       "    <tr>\n",
       "      <th>96</th>\n",
       "      <td>0</td>\n",
       "      <td>0</td>\n",
       "      <td>0</td>\n",
       "      <td>0</td>\n",
       "      <td>0</td>\n",
       "      <td>0</td>\n",
       "      <td>0</td>\n",
       "      <td>0</td>\n",
       "      <td>0</td>\n",
       "      <td>0</td>\n",
       "      <td>...</td>\n",
       "      <td>0</td>\n",
       "      <td>0</td>\n",
       "      <td>0</td>\n",
       "      <td>0</td>\n",
       "      <td>0</td>\n",
       "      <td>0</td>\n",
       "      <td>0</td>\n",
       "      <td>0</td>\n",
       "      <td>0</td>\n",
       "      <td>0</td>\n",
       "    </tr>\n",
       "    <tr>\n",
       "      <th>97</th>\n",
       "      <td>1</td>\n",
       "      <td>2</td>\n",
       "      <td>0</td>\n",
       "      <td>0</td>\n",
       "      <td>0</td>\n",
       "      <td>0</td>\n",
       "      <td>0</td>\n",
       "      <td>0</td>\n",
       "      <td>0</td>\n",
       "      <td>0</td>\n",
       "      <td>...</td>\n",
       "      <td>0</td>\n",
       "      <td>4</td>\n",
       "      <td>0</td>\n",
       "      <td>0</td>\n",
       "      <td>0</td>\n",
       "      <td>0</td>\n",
       "      <td>0</td>\n",
       "      <td>0</td>\n",
       "      <td>1</td>\n",
       "      <td>0</td>\n",
       "    </tr>\n",
       "    <tr>\n",
       "      <th>98</th>\n",
       "      <td>1</td>\n",
       "      <td>0</td>\n",
       "      <td>0</td>\n",
       "      <td>1</td>\n",
       "      <td>0</td>\n",
       "      <td>0</td>\n",
       "      <td>0</td>\n",
       "      <td>0</td>\n",
       "      <td>0</td>\n",
       "      <td>0</td>\n",
       "      <td>...</td>\n",
       "      <td>0</td>\n",
       "      <td>0</td>\n",
       "      <td>0</td>\n",
       "      <td>0</td>\n",
       "      <td>0</td>\n",
       "      <td>0</td>\n",
       "      <td>0</td>\n",
       "      <td>0</td>\n",
       "      <td>0</td>\n",
       "      <td>0</td>\n",
       "    </tr>\n",
       "  </tbody>\n",
       "</table>\n",
       "<p>99 rows × 595 columns</p>\n",
       "</div>"
      ],
      "text/plain": [
       "    一下  一些  一切  一半  一樣  一陣子  一點  一點點  上來  上班  ...  顏色  願意  類似  風格  食物  香氣  驕傲  \\\n",
       "0    1   0   0   0   0    0   1    0   0   0  ...   0   0   0   0   0   0   0   \n",
       "1    0   0   0   0   0    0   0    0   0   0  ...   0   0   0   0   0   0   0   \n",
       "2    4   1   3   0   2    1   0    0   0   0  ...   0   1   0   0   2   0   0   \n",
       "3    0   0   0   0   1    0   0    0   0   0  ...   0   0   0   0   0   0   0   \n",
       "4    0   0   0   0   0    0   0    0   0   0  ...   0   0   0   0   0   0   0   \n",
       "..  ..  ..  ..  ..  ..  ...  ..  ...  ..  ..  ...  ..  ..  ..  ..  ..  ..  ..   \n",
       "94   0   0   0   0   1    0   0    0   0   0  ...   0   0   0   0   0   0   0   \n",
       "95   0   1   0   0   1    0   0    0   0   0  ...   0   0   0   0   0   0   0   \n",
       "96   0   0   0   0   0    0   0    0   0   0  ...   0   0   0   0   0   0   0   \n",
       "97   1   2   0   0   0    0   0    0   0   0  ...   0   4   0   0   0   0   0   \n",
       "98   1   0   0   1   0    0   0    0   0   0  ...   0   0   0   0   0   0   0   \n",
       "\n",
       "    體重  麻煩  黑色  \n",
       "0    0   0   0  \n",
       "1    0   0   0  \n",
       "2    0   0   0  \n",
       "3    0   0   0  \n",
       "4    0   0   0  \n",
       "..  ..  ..  ..  \n",
       "94   0   0   0  \n",
       "95   0   0   0  \n",
       "96   0   0   0  \n",
       "97   0   1   0  \n",
       "98   0   0   0  \n",
       "\n",
       "[99 rows x 595 columns]"
      ]
     },
     "execution_count": 17,
     "metadata": {},
     "output_type": "execute_result"
    }
   ],
   "source": [
    "# get all unique words in the corpus\n",
    "vocab = np.array(cv.get_feature_names())\n",
    "# show document feature vectors\n",
    "pd.DataFrame(cv_matrix.toarray(), columns=vocab)"
   ]
  },
  {
   "cell_type": "markdown",
   "metadata": {
    "tags": [
     "remove-input",
     "remove-output"
    ]
   },
   "source": [
    "### Latent Dirichlet Allocation"
   ]
  },
  {
   "cell_type": "code",
   "execution_count": 18,
   "metadata": {
    "tags": [
     "remove-input",
     "remove-output"
    ]
   },
   "outputs": [],
   "source": [
    "num_of_topic = 4"
   ]
  },
  {
   "cell_type": "code",
   "execution_count": 19,
   "metadata": {
    "tags": [
     "remove-input",
     "remove-output"
    ]
   },
   "outputs": [
    {
     "name": "stdout",
     "output_type": "stream",
     "text": [
      "CPU times: user 15.8 s, sys: 1.35 s, total: 17.2 s\n",
      "Wall time: 17.5 s\n"
     ]
    }
   ],
   "source": [
    "%%time\n",
    "from sklearn.decomposition import LatentDirichletAllocation\n",
    "\n",
    "\n",
    "# lda = LatentDirichletAllocation(n_components=num_of_topic, max_iter=1000, random_state=0,\n",
    "#                                max_doc_update_iter=50, learning_method='online',\n",
    "#                                batch_size=50, learning_offset = 50, n_jobs = -1)\n",
    "\n",
    "lda = LatentDirichletAllocation(n_components=num_of_topic, max_iter=1000,\n",
    "                                random_state=0, \n",
    "                                learning_method='online',\n",
    "                                n_jobs = -1)\n",
    "\n",
    "\n",
    "dt_matrix = lda.fit_transform(cv_matrix) # document matrix"
   ]
  },
  {
   "cell_type": "code",
   "execution_count": 20,
   "metadata": {
    "tags": [
     "remove-input",
     "remove-output"
    ]
   },
   "outputs": [
    {
     "data": {
      "text/html": [
       "<div>\n",
       "<style scoped>\n",
       "    .dataframe tbody tr th:only-of-type {\n",
       "        vertical-align: middle;\n",
       "    }\n",
       "\n",
       "    .dataframe tbody tr th {\n",
       "        vertical-align: top;\n",
       "    }\n",
       "\n",
       "    .dataframe thead th {\n",
       "        text-align: right;\n",
       "    }\n",
       "</style>\n",
       "<table border=\"1\" class=\"dataframe\">\n",
       "  <thead>\n",
       "    <tr style=\"text-align: right;\">\n",
       "      <th></th>\n",
       "      <th>T1</th>\n",
       "      <th>T2</th>\n",
       "      <th>T3</th>\n",
       "      <th>T4</th>\n",
       "    </tr>\n",
       "  </thead>\n",
       "  <tbody>\n",
       "    <tr>\n",
       "      <th>0</th>\n",
       "      <td>0.001887</td>\n",
       "      <td>0.994276</td>\n",
       "      <td>0.001967</td>\n",
       "      <td>0.001870</td>\n",
       "    </tr>\n",
       "    <tr>\n",
       "      <th>1</th>\n",
       "      <td>0.003474</td>\n",
       "      <td>0.003543</td>\n",
       "      <td>0.989530</td>\n",
       "      <td>0.003453</td>\n",
       "    </tr>\n",
       "    <tr>\n",
       "      <th>2</th>\n",
       "      <td>0.000773</td>\n",
       "      <td>0.997631</td>\n",
       "      <td>0.000816</td>\n",
       "      <td>0.000780</td>\n",
       "    </tr>\n",
       "    <tr>\n",
       "      <th>3</th>\n",
       "      <td>0.036680</td>\n",
       "      <td>0.886619</td>\n",
       "      <td>0.038683</td>\n",
       "      <td>0.038018</td>\n",
       "    </tr>\n",
       "    <tr>\n",
       "      <th>4</th>\n",
       "      <td>0.063401</td>\n",
       "      <td>0.065730</td>\n",
       "      <td>0.064439</td>\n",
       "      <td>0.806431</td>\n",
       "    </tr>\n",
       "    <tr>\n",
       "      <th>...</th>\n",
       "      <td>...</td>\n",
       "      <td>...</td>\n",
       "      <td>...</td>\n",
       "      <td>...</td>\n",
       "    </tr>\n",
       "    <tr>\n",
       "      <th>94</th>\n",
       "      <td>0.005005</td>\n",
       "      <td>0.984705</td>\n",
       "      <td>0.005271</td>\n",
       "      <td>0.005019</td>\n",
       "    </tr>\n",
       "    <tr>\n",
       "      <th>95</th>\n",
       "      <td>0.004151</td>\n",
       "      <td>0.004085</td>\n",
       "      <td>0.987756</td>\n",
       "      <td>0.004009</td>\n",
       "    </tr>\n",
       "    <tr>\n",
       "      <th>96</th>\n",
       "      <td>0.902191</td>\n",
       "      <td>0.033857</td>\n",
       "      <td>0.031917</td>\n",
       "      <td>0.032035</td>\n",
       "    </tr>\n",
       "    <tr>\n",
       "      <th>97</th>\n",
       "      <td>0.001459</td>\n",
       "      <td>0.995595</td>\n",
       "      <td>0.001473</td>\n",
       "      <td>0.001473</td>\n",
       "    </tr>\n",
       "    <tr>\n",
       "      <th>98</th>\n",
       "      <td>0.002750</td>\n",
       "      <td>0.002836</td>\n",
       "      <td>0.002780</td>\n",
       "      <td>0.991635</td>\n",
       "    </tr>\n",
       "  </tbody>\n",
       "</table>\n",
       "<p>99 rows × 4 columns</p>\n",
       "</div>"
      ],
      "text/plain": [
       "          T1        T2        T3        T4\n",
       "0   0.001887  0.994276  0.001967  0.001870\n",
       "1   0.003474  0.003543  0.989530  0.003453\n",
       "2   0.000773  0.997631  0.000816  0.000780\n",
       "3   0.036680  0.886619  0.038683  0.038018\n",
       "4   0.063401  0.065730  0.064439  0.806431\n",
       "..       ...       ...       ...       ...\n",
       "94  0.005005  0.984705  0.005271  0.005019\n",
       "95  0.004151  0.004085  0.987756  0.004009\n",
       "96  0.902191  0.033857  0.031917  0.032035\n",
       "97  0.001459  0.995595  0.001473  0.001473\n",
       "98  0.002750  0.002836  0.002780  0.991635\n",
       "\n",
       "[99 rows x 4 columns]"
      ]
     },
     "execution_count": 20,
     "metadata": {},
     "output_type": "execute_result"
    }
   ],
   "source": [
    "features = pd.DataFrame(dt_matrix, columns = [\"T\"+str(n) for n in range(1,num_of_topic+1)])\n",
    "features"
   ]
  },
  {
   "cell_type": "markdown",
   "metadata": {
    "tags": [
     "remove-input",
     "remove-output"
    ]
   },
   "source": [
    "### Show topics and their weights"
   ]
  },
  {
   "cell_type": "code",
   "execution_count": 21,
   "metadata": {
    "tags": [
     "remove-input",
     "remove-output"
    ]
   },
   "outputs": [],
   "source": [
    "# tt_matrix = lda.components_ # topic matrix\n",
    "# for topic_weights in tt_matrix:\n",
    "#     topic = [(token, weight) for token, weight in zip(vocab, topic_weights)]\n",
    "#     topic = sorted(topic, key=lambda x: -x[1])\n",
    "#     topic = [item for item in topic if item[1] > 0.6]\n",
    "#     print(topic)\n",
    "#     print()\n"
   ]
  },
  {
   "cell_type": "code",
   "execution_count": 22,
   "metadata": {
    "tags": [
     "remove-input",
     "remove-output"
    ]
   },
   "outputs": [],
   "source": [
    "topic_terms = lda.components_\n",
    "top_terms = 20\n",
    "topic_keywords_idxs = np.argsort(-np.absolute(topic_terms), axis=1)[:,:top_terms]\n",
    "topic_keywords = vocab[topic_keywords_idxs]\n",
    "topics = [', '.join(w) for w in topic_keywords]\n",
    "pd.set_option('display.max_colwidth', None)\n",
    "topics_df = pd.DataFrame(topics,\n",
    "                        columns = ['Keywords per Topic'],\n",
    "                        index = [\"Topic\"+str(n) for n in range(1,num_of_topic+1)])"
   ]
  },
  {
   "cell_type": "code",
   "execution_count": 23,
   "metadata": {
    "scrolled": true,
    "tags": [
     "remove-input",
     "remove-output"
    ]
   },
   "outputs": [
    {
     "data": {
      "text/html": [
       "<div>\n",
       "<style scoped>\n",
       "    .dataframe tbody tr th:only-of-type {\n",
       "        vertical-align: middle;\n",
       "    }\n",
       "\n",
       "    .dataframe tbody tr th {\n",
       "        vertical-align: top;\n",
       "    }\n",
       "\n",
       "    .dataframe thead th {\n",
       "        text-align: right;\n",
       "    }\n",
       "</style>\n",
       "<table border=\"1\" class=\"dataframe\">\n",
       "  <thead>\n",
       "    <tr style=\"text-align: right;\">\n",
       "      <th></th>\n",
       "      <th>Keywords per Topic</th>\n",
       "    </tr>\n",
       "  </thead>\n",
       "  <tbody>\n",
       "    <tr>\n",
       "      <th>Topic1</th>\n",
       "      <td>顏色, 唇膏, 眼影, 味道, 分享, 今天, 感覺, 一下, 腮紅, 妝容, 眼妝, 什麼, 喜歡, 附上, 粉底, 唇釉, 質地, 頭髮, 妝感, 乾淨</td>\n",
       "    </tr>\n",
       "    <tr>\n",
       "      <th>Topic2</th>\n",
       "      <td>覺得, 時候, 什麼, 開始, 現在, 看到, 知道, 朋友, 工作, 這樣, 喜歡, 感情, 很多, 男友, 時間, 想要, 發現, 希望, 後來, 關係</td>\n",
       "    </tr>\n",
       "    <tr>\n",
       "      <th>Topic3</th>\n",
       "      <td>蛋糕, 穿搭, 衣服, 草莓, 洋裝, 店家, 分享, 包包, 覺得, 故事, 鞋子, 搭配, 發現, 一樣, 這樣, 現在, 購入, 黑色, 背心, 大學</td>\n",
       "    </tr>\n",
       "    <tr>\n",
       "      <th>Topic4</th>\n",
       "      <td>這樣, 知道, 覺得, 訊息, 看到, 開始, 沒有, 直接, 部分, 今天, 寶寶, 成功, 準備, 見面, 宿舍, 變成, 可愛, 喜歡, 感覺, 離開</td>\n",
       "    </tr>\n",
       "  </tbody>\n",
       "</table>\n",
       "</div>"
      ],
      "text/plain": [
       "                                                                    Keywords per Topic\n",
       "Topic1  顏色, 唇膏, 眼影, 味道, 分享, 今天, 感覺, 一下, 腮紅, 妝容, 眼妝, 什麼, 喜歡, 附上, 粉底, 唇釉, 質地, 頭髮, 妝感, 乾淨\n",
       "Topic2  覺得, 時候, 什麼, 開始, 現在, 看到, 知道, 朋友, 工作, 這樣, 喜歡, 感情, 很多, 男友, 時間, 想要, 發現, 希望, 後來, 關係\n",
       "Topic3  蛋糕, 穿搭, 衣服, 草莓, 洋裝, 店家, 分享, 包包, 覺得, 故事, 鞋子, 搭配, 發現, 一樣, 這樣, 現在, 購入, 黑色, 背心, 大學\n",
       "Topic4  這樣, 知道, 覺得, 訊息, 看到, 開始, 沒有, 直接, 部分, 今天, 寶寶, 成功, 準備, 見面, 宿舍, 變成, 可愛, 喜歡, 感覺, 離開"
      ]
     },
     "execution_count": 23,
     "metadata": {},
     "output_type": "execute_result"
    }
   ],
   "source": [
    "topics_df"
   ]
  },
  {
   "cell_type": "code",
   "execution_count": 24,
   "metadata": {
    "tags": [
     "remove-input",
     "remove-output"
    ]
   },
   "outputs": [],
   "source": [
    "pd.options.display.float_format = '{:,.5f}'.format\n",
    "pd.set_option('display.max_colwidth', 200)\n",
    "\n",
    "\n",
    "dt_df = pd.DataFrame(dt_matrix,\n",
    "                    columns=[\"Topic\"+str(n) for n in range(1,num_of_topic+1)])\n",
    "\n",
    "max_contrib_topics = dt_df.max(axis=0)\n",
    "dominant_topics = max_contrib_topics.index\n",
    "contrib_perc = max_contrib_topics.values\n",
    "document_numbers = [dt_df[dt_df[t]==max_contrib_topics.loc[t]].index[0]\n",
    "                    for t in dominant_topics]\n",
    "documents = [norm_corpus[i] for i in document_numbers]\n",
    "\n",
    "documents_df = pd.DataFrame({'Dominant Topic': dominant_topics,\n",
    "                            'Contribution%': contrib_perc,\n",
    "                            'DOCID': document_numbers,\n",
    "                            'Topic': topics_df['Keywords per Topic'],\n",
    "                            'Text': documents})"
   ]
  },
  {
   "cell_type": "code",
   "execution_count": 25,
   "metadata": {
    "tags": [
     "remove-input",
     "remove-output"
    ]
   },
   "outputs": [
    {
     "data": {
      "text/html": [
       "<div>\n",
       "<style scoped>\n",
       "    .dataframe tbody tr th:only-of-type {\n",
       "        vertical-align: middle;\n",
       "    }\n",
       "\n",
       "    .dataframe tbody tr th {\n",
       "        vertical-align: top;\n",
       "    }\n",
       "\n",
       "    .dataframe thead th {\n",
       "        text-align: right;\n",
       "    }\n",
       "</style>\n",
       "<table border=\"1\" class=\"dataframe\">\n",
       "  <thead>\n",
       "    <tr style=\"text-align: right;\">\n",
       "      <th></th>\n",
       "      <th>Dominant Topic</th>\n",
       "      <th>Contribution%</th>\n",
       "      <th>DOCID</th>\n",
       "      <th>Topic</th>\n",
       "      <th>Text</th>\n",
       "    </tr>\n",
       "  </thead>\n",
       "  <tbody>\n",
       "    <tr>\n",
       "      <th>Topic1</th>\n",
       "      <td>Topic1</td>\n",
       "      <td>0.99306</td>\n",
       "      <td>10</td>\n",
       "      <td>顏色, 唇膏, 眼影, 味道, 分享, 今天, 感覺, 一下, 腮紅, 妝容, 眼妝, 什麼, 喜歡, 附上, 粉底, 唇釉, 質地, 頭髮, 妝感, 乾淨</td>\n",
       "      <td>晚上 好 今天 分享 個 春天 日系 妝容 給 剛好 剪 頭髮 換 個 髮型 喜歡 次 頭髮 打 薄 有 日系 感覺 這 次 分享 個 妝容 剛好 剪 頭髮 前後 覺得 好看 變 回去 囉嗦 有 興趣 看 下去 今天 分享 個 妝 附上 久違 素顏 給 對比 組 分享 封面 妝容 剪完 髮 這 組 分享 大愛 橘色 妝容 讓 整體 柔和 眼線筆 睫毛膏 選擇 帶有 顏色 附上 彩妝品 眼妝...</td>\n",
       "    </tr>\n",
       "    <tr>\n",
       "      <th>Topic2</th>\n",
       "      <td>Topic2</td>\n",
       "      <td>0.99846</td>\n",
       "      <td>39</td>\n",
       "      <td>覺得, 時候, 什麼, 開始, 現在, 看到, 知道, 朋友, 工作, 這樣, 喜歡, 感情, 很多, 男友, 時間, 想要, 發現, 希望, 後來, 關係</td>\n",
       "      <td>好 今天 想要 分享 個 故事 次 這裡 發文 有 違反 版 內 規則 刪除 謝謝 單身 年 前 段 戀情 遇上 個 情緒 勒索 男子 感情 恐懼 解脫 時候 放 鞭炮 心情 慶祝 這時 決定 當 新 時代 獨立 女性 讓 活 漂亮 讓 生活 過 精彩 飛往 距離 台灣 多 公里 遠 地方 工作 國外 生活 新鮮 挑戰 有 待 國外 遊子 們 人 國外 打拼 時候 所有 情緒 加倍 放大 ...</td>\n",
       "    </tr>\n",
       "    <tr>\n",
       "      <th>Topic3</th>\n",
       "      <td>Topic3</td>\n",
       "      <td>0.99488</td>\n",
       "      <td>33</td>\n",
       "      <td>蛋糕, 穿搭, 衣服, 草莓, 洋裝, 店家, 分享, 包包, 覺得, 故事, 鞋子, 搭配, 發現, 一樣, 這樣, 現在, 購入, 黑色, 背心, 大學</td>\n",
       "      <td>大年初三 吃到 發霉 檸檬 蛋糕 跪 求 心理 陰影 面積 知道 喜歡 吃 甜點 男友 簡稱 特別 初二 時候 新竹 帶 艾  蛋糕 蛋塔 巧克力 蛋糕 有 喜歡 檸檬 蛋糕 家 拜年 初三 下午茶 時間 興高采烈 捧 檸檬 蛋糕 分享給 家人 切 塊 給 弟弟 爸爸 切片 蛋糕 盛起 時 發現 蛋糕 盤子 上 有 綠綠 當時 以為是 小心 製作 蛋糕 時 沾染到 食用 色素 不疑 有 吃...</td>\n",
       "    </tr>\n",
       "    <tr>\n",
       "      <th>Topic4</th>\n",
       "      <td>Topic4</td>\n",
       "      <td>0.99294</td>\n",
       "      <td>66</td>\n",
       "      <td>這樣, 知道, 覺得, 訊息, 看到, 開始, 沒有, 直接, 部分, 今天, 寶寶, 成功, 準備, 見面, 宿舍, 變成, 可愛, 喜歡, 感覺, 離開</td>\n",
       "      <td>訊息 凍結 今天 離開 天 個 南部 讀書 個 一樣 北部 北部人 當初 遊戲 相遇 找 後來 聊 聊 發現 學長 火象 星座 合 聊 個 月 後 發現 有 感覺 南下 讀書 見面 機會 更少 南下 找 約出來 吃 個 飯 提升 感情 這 次 約 見面 約 見面 失敗 生氣 這 次 順利 等到 知道 喜歡 人 多 地方 努力 找 一些 人 約會 景點 有 些 地方 無聊 無聊 有 好 努力...</td>\n",
       "    </tr>\n",
       "  </tbody>\n",
       "</table>\n",
       "</div>"
      ],
      "text/plain": [
       "       Dominant Topic  Contribution%  DOCID  \\\n",
       "Topic1         Topic1        0.99306     10   \n",
       "Topic2         Topic2        0.99846     39   \n",
       "Topic3         Topic3        0.99488     33   \n",
       "Topic4         Topic4        0.99294     66   \n",
       "\n",
       "                                                                                 Topic  \\\n",
       "Topic1  顏色, 唇膏, 眼影, 味道, 分享, 今天, 感覺, 一下, 腮紅, 妝容, 眼妝, 什麼, 喜歡, 附上, 粉底, 唇釉, 質地, 頭髮, 妝感, 乾淨   \n",
       "Topic2  覺得, 時候, 什麼, 開始, 現在, 看到, 知道, 朋友, 工作, 這樣, 喜歡, 感情, 很多, 男友, 時間, 想要, 發現, 希望, 後來, 關係   \n",
       "Topic3  蛋糕, 穿搭, 衣服, 草莓, 洋裝, 店家, 分享, 包包, 覺得, 故事, 鞋子, 搭配, 發現, 一樣, 這樣, 現在, 購入, 黑色, 背心, 大學   \n",
       "Topic4  這樣, 知道, 覺得, 訊息, 看到, 開始, 沒有, 直接, 部分, 今天, 寶寶, 成功, 準備, 見面, 宿舍, 變成, 可愛, 喜歡, 感覺, 離開   \n",
       "\n",
       "                                                                                                                                                                                                           Text  \n",
       "Topic1  晚上 好 今天 分享 個 春天 日系 妝容 給 剛好 剪 頭髮 換 個 髮型 喜歡 次 頭髮 打 薄 有 日系 感覺 這 次 分享 個 妝容 剛好 剪 頭髮 前後 覺得 好看 變 回去 囉嗦 有 興趣 看 下去 今天 分享 個 妝 附上 久違 素顏 給 對比 組 分享 封面 妝容 剪完 髮 這 組 分享 大愛 橘色 妝容 讓 整體 柔和 眼線筆 睫毛膏 選擇 帶有 顏色 附上 彩妝品 眼妝...  \n",
       "Topic2  好 今天 想要 分享 個 故事 次 這裡 發文 有 違反 版 內 規則 刪除 謝謝 單身 年 前 段 戀情 遇上 個 情緒 勒索 男子 感情 恐懼 解脫 時候 放 鞭炮 心情 慶祝 這時 決定 當 新 時代 獨立 女性 讓 活 漂亮 讓 生活 過 精彩 飛往 距離 台灣 多 公里 遠 地方 工作 國外 生活 新鮮 挑戰 有 待 國外 遊子 們 人 國外 打拼 時候 所有 情緒 加倍 放大 ...  \n",
       "Topic3  大年初三 吃到 發霉 檸檬 蛋糕 跪 求 心理 陰影 面積 知道 喜歡 吃 甜點 男友 簡稱 特別 初二 時候 新竹 帶 艾  蛋糕 蛋塔 巧克力 蛋糕 有 喜歡 檸檬 蛋糕 家 拜年 初三 下午茶 時間 興高采烈 捧 檸檬 蛋糕 分享給 家人 切 塊 給 弟弟 爸爸 切片 蛋糕 盛起 時 發現 蛋糕 盤子 上 有 綠綠 當時 以為是 小心 製作 蛋糕 時 沾染到 食用 色素 不疑 有 吃...  \n",
       "Topic4  訊息 凍結 今天 離開 天 個 南部 讀書 個 一樣 北部 北部人 當初 遊戲 相遇 找 後來 聊 聊 發現 學長 火象 星座 合 聊 個 月 後 發現 有 感覺 南下 讀書 見面 機會 更少 南下 找 約出來 吃 個 飯 提升 感情 這 次 約 見面 約 見面 失敗 生氣 這 次 順利 等到 知道 喜歡 人 多 地方 努力 找 一些 人 約會 景點 有 些 地方 無聊 無聊 有 好 努力...  "
      ]
     },
     "execution_count": 25,
     "metadata": {},
     "output_type": "execute_result"
    }
   ],
   "source": [
    "documents_df"
   ]
  },
  {
   "cell_type": "code",
   "execution_count": 26,
   "metadata": {
    "tags": [
     "remove-input",
     "remove-output"
    ]
   },
   "outputs": [
    {
     "data": {
      "text/html": [
       "\n",
       "<link rel=\"stylesheet\" type=\"text/css\" href=\"https://cdn.jsdelivr.net/gh/bmabey/pyLDAvis@3.2.2/pyLDAvis/js/ldavis.v1.0.0.css\">\n",
       "\n",
       "\n",
       "<div id=\"ldavis_el77331404293668455127611122443\"></div>\n",
       "<script type=\"text/javascript\">\n",
       "\n",
       "var ldavis_el77331404293668455127611122443_data = {\"mdsDat\": {\"x\": [0.043410505548275184, 0.13935036029305778, -0.09100852183960749, -0.09175234400172547], \"y\": [-0.11056233016695574, 0.054583853671294, 0.1453595577265029, -0.08938108123084117], \"topics\": [1, 2, 3, 4], \"cluster\": [1, 1, 1, 1], \"Freq\": [62.074001654105345, 18.17230334710967, 12.069841059311717, 7.683853939473269]}, \"tinfo\": {\"Term\": [\"\\u86cb\\u7cd5\", \"\\u9019\\u6a23\", \"\\u4eca\\u5929\", \"\\u77e5\\u9053\", \"\\u958b\\u59cb\", \"\\u89ba\\u5f97\", \"\\u7a7f\\u642d\", \"\\u5206\\u4eab\", \"\\u770b\\u5230\", \"\\u984f\\u8272\", \"\\u6c92\\u6709\", \"\\u8863\\u670d\", \"\\u8a0a\\u606f\", \"\\u4e00\\u4e0b\", \"\\u76f4\\u63a5\", \"\\u5507\\u818f\", \"\\u773c\\u5f71\", \"\\u5473\\u9053\", \"\\u611f\\u89ba\", \"\\u90e8\\u5206\", \"\\u8349\\u8393\", \"\\u898b\\u9762\", \"\\u6d0b\\u88dd\", \"\\u5e97\\u5bb6\", \"\\u816e\\u7d05\", \"\\u5305\\u5305\", \"\\u559c\\u6b61\", \"\\u8b8a\\u6210\", \"\\u599d\\u5bb9\", \"\\u773c\\u599d\", \"\\u5de5\\u4f5c\", \"\\u5206\\u624b\", \"\\u5c0d\\u8c61\", \"\\u611f\\u60c5\", \"\\u6c92\\u8fa6\\u6cd5\", \"\\u8ddd\\u96e2\", \"\\u804a\\u5929\", \"\\u540c\\u4e8b\", \"\\u95dc\\u4fc2\", \"\\u9019\\u908a\", \"\\u56de\\u4f86\", \"\\u6628\\u5929\", \"\\u672a\\u4f86\", \"\\u51fa\\u73fe\", \"\\u5360\\u535c\", \"\\u610f\\u601d\", \"\\u516c\\u958b\", \"\\u7c89\\u7d72\", \"\\u4ee5\\u5f8c\", \"\\u75ab\\u60c5\", \"\\u5e33\\u865f\", \"\\u6d88\\u5931\", \"\\u7ffb\\u8b6f\", \"\\u65e9\\u4e0a\", \"\\u65e5\\u672c\", \"\\u56de\\u5230\", \"\\u59ca\\u59ca\", \"\\u4e4b\\u9593\", \"\\u5927\\u90e8\\u5206\", \"\\u8f9b\\u82e6\", \"\\u5728\\u4e00\\u8d77\", \"\\u6642\\u5019\", \"\\u6210\\u54e1\", \"\\u6c7a\\u5b9a\", \"\\u51fa\\u53bb\", \"\\u7d50\\u679c\", \"\\u4e8b\\u60c5\", \"\\u53f0\\u7063\", \"\\u60f3\\u8981\", \"\\u751f\\u65e5\", \"\\u4ec0\\u9ebc\", \"\\u73fe\\u5728\", \"\\u89ba\\u5f97\", \"\\u5f88\\u591a\", \"\\u958b\\u59cb\", \"\\u770b\\u5230\", \"\\u5973\\u751f\", \"\\u670b\\u53cb\", \"\\u516c\\u53f8\", \"\\u77e5\\u9053\", \"\\u5f8c\\u4f86\", \"\\u6642\\u9593\", \"\\u5e0c\\u671b\", \"\\u7537\\u53cb\", \"\\u9019\\u6a23\", \"\\u7576\\u6642\", \"\\u767c\\u73fe\", \"\\u6700\\u5f8c\", \"\\u559c\\u6b61\", \"\\u4e4b\\u5f8c\", \"\\u5176\\u4ed6\", \"\\u96fb\\u8a71\", \"\\u4e00\\u4e0b\", \"\\u4e4b\\u524d\", \"\\u7a7f\\u642d\", \"\\u8349\\u8393\", \"\\u6d0b\\u88dd\", \"\\u5e97\\u5bb6\", \"\\u86cb\\u7cd5\", \"\\u978b\\u5b50\", \"\\u8863\\u670d\", \"\\u4e0a\\u8863\", \"\\u6eab\\u67d4\", \"\\u5c3a\\u5bf8\", \"\\u80cc\\u5fc3\", \"\\u8cfc\\u5165\", \"\\u9ed1\\u8272\", \"\\u8a62\\u554f\", \"\\u5973\\u5b50\", \"\\u6dd8\\u5bf6\", \"\\u5c0f\\u59d0\", \"\\u642d\\u914d\", \"\\u98a8\\u683c\", \"\\u505a\\u5b8c\", \"\\u896f\\u886b\", \"\\u5927\\u5b78\", \"\\u5916\\u5957\", \"\\u8932\\u5b50\", \"\\u5305\\u5305\", \"\\u6574\\u9ad4\", \"\\u614b\\u5ea6\", \"\\u5403\\u5230\", \"\\u5b78\\u751f\", \"\\u63d0\\u4f9b\", \"\\u8655\\u7406\", \"\\u8fd1\\u671f\", \"\\u6545\\u4e8b\", \"\\u5c6c\\u65bc\", \"\\u5206\\u4eab\", \"\\u4e00\\u6a23\", \"\\u984f\\u8272\", \"\\u767c\\u73fe\", \"\\u8b1d\\u8b1d\", \"\\u7537\\u53cb\", \"\\u89ba\\u5f97\", \"\\u9019\\u6a23\", \"\\u73fe\\u5728\", \"\\u559c\\u6b61\", \"\\u958b\\u59cb\", \"\\u77e5\\u9053\", \"\\u5507\\u818f\", \"\\u773c\\u5f71\", \"\\u5473\\u9053\", \"\\u816e\\u7d05\", \"\\u599d\\u5bb9\", \"\\u773c\\u599d\", \"\\u7c89\\u5e95\", \"\\u5507\\u91c9\", \"\\u8cea\\u5730\", \"\\u599d\\u611f\", \"\\u597d\\u7269\", \"\\u776b\\u6bdb\\u818f\", \"\\u8cea\\u611f\", \"\\u982d\\u9aee\", \"\\u64e6\\u8d77\\u4f86\", \"\\u690d\\u6751\\u79c0\", \"\\u5fc3\\u5f97\", \"\\u76ae\\u819a\", \"\\u5916\\u89c0\", \"\\u7cbe\\u83ef\", \"\\u4e7e\\u6de8\", \"\\u71d2\\u5230\", \"\\u5305\\u88dd\", \"\\u5bb9\\u6613\", \"\\u5316\\u599d\", \"\\u97d3\\u570b\", \"\\u65b0\\u6b61\", \"\\u4e0b\\u8eca\", \"\\u984f\\u8272\", \"\\u6ed1\\u9806\", \"\\u5e73\\u6642\", \"\\u4ee5\\u524d\", \"\\u4eca\\u5929\", \"\\u9644\\u4e0a\", \"\\u5206\\u4eab\", \"\\u611f\\u89ba\", \"\\u4e00\\u4e0b\", \"\\u821e\\u53f0\", \"\\u7db2\\u53cb\", \"\\u767d\\u8272\", \"\\u559c\\u6b61\", \"\\u4ec0\\u9ebc\", \"\\u90e8\\u5206\", \"\\u4e4b\\u524d\", \"\\u5bf6\\u5bf6\", \"\\u5c08\\u696d\", \"\\u6210\\u529f\", \"\\u610f\\u5916\", \"\\u904b\\u52d5\", \"\\u8eab\\u6750\", \"\\u8212\\u670d\", \"\\u7761\\u89ba\", \"\\u8a0a\\u606f\", \"\\u5617\\u8a66\", \"\\u5fae\\u535a\", \"\\u9072\\u5230\", \"\\u5bbf\\u820d\", \"\\u6d17\\u6fa1\", \"\\u6e96\\u5099\", \"\\u5e73\\u5e38\", \"\\u9732\\u51fa\", \"\\u9019\\u9ebc\\u591a\", \"\\u7559\\u5728\", \"\\u666f\\u9ede\", \"\\u7b49\\u5230\", \"\\u600e\\u9ebc\\u6a23\", \"\\u773c\\u775b\", \"\\u5973\\u5b69\", \"\\u7761\\u8457\", \"\\u8b8a\\u6210\", \"\\u97d3\\u7db2\", \"\\u96e2\\u958b\", \"\\u5fcd\\u4e0d\\u4f4f\", \"\\u7d93\\u5178\", \"\\u751f\\u6c23\", \"\\u7d50\\u5a5a\", \"\\u898b\\u9762\", \"\\u76f4\\u63a5\", \"\\u6c92\\u6709\", \"\\u9019\\u6a23\", \"\\u90e8\\u5206\", \"\\u53ef\\u611b\", \"\\u77e5\\u9053\", \"\\u4eca\\u5929\", \"\\u770b\\u5230\", \"\\u89ba\\u5f97\", \"\\u958b\\u59cb\", \"\\u8a8d\\u8b58\", \"\\u559c\\u6b61\", \"\\u611f\\u89ba\", \"\\u6642\\u9593\", \"\\u5f71\\u7247\", \"\\u670b\\u53cb\", \"\\u4ec0\\u9ebc\", \"\\u5f8c\\u4f86\", \"\\u767c\\u73fe\"], \"Freq\": [26.0, 57.0, 29.0, 64.0, 65.0, 84.0, 18.0, 36.0, 62.0, 20.0, 32.0, 18.0, 13.0, 36.0, 28.0, 12.0, 12.0, 12.0, 35.0, 31.0, 14.0, 16.0, 13.0, 13.0, 9.0, 17.0, 51.0, 12.0, 9.0, 9.0, 38.57644130870633, 18.404683354071928, 15.592820567880795, 30.945393755284112, 13.664061195167411, 12.714152052525801, 12.714135138082366, 11.754326694087306, 26.148143666660328, 11.750327633368986, 11.737344234280837, 11.729343986554486, 10.795023022872941, 10.780563694770894, 9.835461895781716, 9.832644508749024, 9.830787268518552, 9.826258581658744, 8.868530439575052, 8.862051851230712, 8.844134846105845, 9.70680637259963, 7.91026414029367, 7.908872584113023, 17.51250357339442, 7.8706499615175405, 17.5357391482373, 6.956780549865584, 6.956749719313239, 6.953223070746335, 15.58594121088027, 62.67809046332986, 14.632181899688797, 14.63185375820556, 13.675499925441217, 13.566023354040002, 22.206564036842863, 22.31330010518484, 28.915881015808825, 13.67101904434692, 54.622324546456035, 47.83692487189396, 63.58273064134006, 30.637066007767658, 50.121045337558385, 47.12981101237358, 21.349121495569133, 39.62026379670236, 23.27132858611144, 46.84073958482416, 26.17974093333155, 29.188163343436873, 26.25346599686049, 30.297471496633303, 37.42792724411182, 21.92249286503922, 27.96719501997139, 23.70937934683243, 31.60822226376313, 24.912643678057705, 20.867492775732693, 20.894205848812156, 23.450625901415435, 21.86239990782176, 18.277898632145398, 13.974429077593522, 13.117146857679815, 13.116990302025014, 25.165188510920192, 9.676676445808607, 17.385137530382444, 7.095971177799459, 6.210244937554454, 5.375920744383277, 8.796577223133488, 8.822731146451781, 8.816592271226334, 3.652646711028742, 3.6171636395712055, 2.794776590971878, 2.79418094857553, 9.655243948842147, 2.7833329750247096, 2.7820198609256135, 7.0001545448991855, 8.61670432851257, 5.385821300755284, 4.542190685942056, 12.26814758775839, 7.960439658146339, 8.239114669955205, 3.491255226784187, 6.698062843511389, 4.517681582018497, 6.539311715287131, 5.357229180497229, 10.645997332726912, 4.510328631278474, 12.389609469999307, 9.589641947770756, 7.26614316149368, 9.646448074841674, 7.760839786614293, 8.552319064614633, 10.719079743120774, 9.372756466880125, 9.25787410765243, 8.372459750869279, 8.554070274517805, 7.0632195197244405, 11.785933288882077, 11.78551333970528, 11.778004002276749, 9.303378350186446, 8.47670643295669, 8.473835390425643, 6.822691268823564, 5.9965549915065255, 5.995704580231815, 5.994376415463535, 5.065093847808388, 4.341114797588699, 3.5147505059102415, 5.99494380206828, 2.6881095434120983, 2.688100078804901, 2.6874541011141186, 2.684171855711969, 2.6830413072950767, 2.682438178946558, 5.919926771167422, 3.516671631917488, 5.170947336551957, 4.013580955709896, 5.1680047240304985, 3.923718376063938, 2.689231848230777, 2.6880582778285844, 12.445932851419176, 2.570462635011934, 2.6314519921899078, 5.75050992882966, 10.782046744277274, 7.515193961155501, 11.142987711308503, 9.880563009567416, 9.748707623664737, 4.698050470574699, 4.336922687318047, 4.190578988632764, 7.769796375376122, 7.91061851585344, 5.810106241170106, 5.32534869901772, 4.723022974406975, 2.4500879341664366, 4.716109679723778, 3.175589542456998, 2.45436071840994, 2.451228512002106, 2.273185560740055, 2.3307336988883653, 6.99750031475682, 2.4531975787698506, 2.102052006187939, 2.4579612641823734, 3.9684137776251407, 2.3058111180153014, 3.9706316387927103, 1.7020173732371904, 1.7019485445879363, 1.7027168646543311, 1.7015892208530308, 1.7011909357702981, 1.7048710846047994, 1.7026658845343037, 3.0914902567079734, 2.4872618748975097, 1.7019939783013482, 3.961311213607938, 2.461879752148128, 3.2162121086947884, 0.9443138617101728, 0.9428134381121233, 3.215195483606475, 1.7054165399405494, 3.96925259573841, 6.247657224862548, 6.248926039121247, 8.876374553890198, 5.6304514935305505, 3.9080478590676626, 8.00265917987924, 5.045627033337192, 6.926878881132599, 7.740974692735141, 6.47661599660431, 3.213966124029247, 3.7270905950526663, 3.458556590656109, 3.2161441635708172, 2.8060845828759726, 2.707359120235312, 2.6334244895478864, 2.58408193737715, 2.560744003990418], \"Total\": [26.0, 57.0, 29.0, 64.0, 65.0, 84.0, 18.0, 36.0, 62.0, 20.0, 32.0, 18.0, 13.0, 36.0, 28.0, 12.0, 12.0, 12.0, 35.0, 31.0, 14.0, 16.0, 13.0, 13.0, 9.0, 17.0, 51.0, 12.0, 9.0, 9.0, 39.22824715372175, 19.075333811417398, 16.203577249261595, 32.3121976008173, 14.283010265119408, 13.324900098786003, 13.324897327896835, 12.365311458028067, 27.514466988065884, 12.364603614559796, 12.362958761186693, 12.362128506681906, 11.40577924885653, 11.403951566808498, 10.44621940605607, 10.445828540782616, 10.445734911044442, 10.444947839146964, 9.485418369219794, 9.484747754501155, 9.48294796599936, 10.43288918089183, 8.526006006424309, 8.525513318260678, 18.94988714586514, 8.520792513579643, 18.985309931052605, 7.567540157072467, 7.5675350562387, 7.566784834427581, 17.030403984879637, 70.6857436003456, 16.10399116964398, 16.10395970162566, 15.144750883046196, 15.018605996540272, 25.281207850566187, 25.500685473795734, 33.889610270910865, 15.144192536967333, 68.62992133329365, 59.78261088480072, 84.55066259366241, 37.46889795194146, 65.35954439800057, 62.25882032647488, 25.26939558969377, 51.751930082319, 28.048834775465, 64.70526667312257, 32.45187714986059, 37.69714522194965, 33.34436285758471, 39.98850220274072, 57.62236238941098, 27.870763532590523, 40.38171007343429, 32.329583259111466, 51.4775689850612, 35.65744692833206, 26.94958732914279, 27.621134410439197, 36.95456133041202, 33.715745553569995, 18.91378805293931, 14.613263302626798, 13.752892889938012, 13.752910820914138, 26.753865443942356, 10.312277563540041, 18.883147475067684, 7.731854788411581, 6.870765749029721, 6.011526492014193, 10.205392135506118, 10.279567612312922, 10.27919332141144, 4.2915686652551415, 4.2943638256415095, 3.4311567781073347, 3.431226662254294, 11.8969349195104, 3.4306100890997637, 3.4307599486205103, 8.702486518353547, 11.142447417639236, 6.969928246931133, 6.107845216772099, 17.688205588618708, 11.961454173028397, 12.397535679133114, 5.269650090169313, 10.19787211397714, 7.070272044674869, 10.539213729115017, 8.626829192232421, 25.34953029961129, 7.070146352813177, 36.07436706660215, 34.379250655355754, 20.145317399561776, 40.38171007343429, 25.531212336377795, 39.98850220274072, 84.55066259366241, 57.62236238941098, 59.78261088480072, 51.4775689850612, 65.35954439800057, 64.70526667312257, 12.430222457247952, 12.430239405365839, 12.431044896376653, 9.948932793627552, 9.121802210399578, 9.121479462114975, 7.467594713433527, 6.640416369746978, 6.640450463572553, 6.640663091459672, 5.8175378234943, 4.986239582651704, 4.159153097790196, 7.396294387807493, 3.3319653765639283, 3.3319651317393038, 3.3320674344916683, 3.3323377341725826, 3.3327734107132887, 3.3320291993595954, 7.61202996867215, 5.019282532470162, 7.533579650161936, 5.997352911034906, 7.732273664948766, 6.0110855264925, 4.192069577673537, 4.291521486855435, 20.145317399561776, 4.196894581515306, 4.300584918262774, 11.477152684642041, 29.512246225552857, 18.057912129125526, 36.07436706660215, 35.50093094672482, 36.95456133041202, 11.033352487561771, 9.28694691014971, 9.522023370627807, 51.4775689850612, 68.62992133329365, 31.38813828287058, 33.715745553569995, 5.384747752712946, 3.119267644842119, 7.106530265131239, 4.837864371544087, 3.978407698473978, 3.9792325861825297, 3.962415807052154, 4.110517353792379, 13.383619205475824, 4.838719153676978, 4.171558666742621, 5.036268062971782, 8.467010561708358, 5.010726732779929, 9.326964378225775, 4.18134380406816, 4.1813267887459205, 4.2804598986401174, 4.2807675815564, 4.280875688864089, 5.102189881309466, 5.107625436470453, 9.408993798384282, 7.5979365403854615, 5.240217061298178, 12.304925044911283, 7.9138867839943, 10.569205196993478, 3.2605675110869377, 3.2607102036657127, 11.37228802602657, 6.099592511811315, 16.143257375362207, 28.967937606943472, 32.16864748388995, 57.62236238941098, 31.38813828287058, 17.570744302782444, 64.70526667312257, 29.512246225552857, 62.25882032647488, 84.55066259366241, 65.35954439800057, 14.427906250058905, 51.4775689850612, 35.50093094672482, 37.69714522194965, 20.827037570820373, 51.751930082319, 68.62992133329365, 32.45187714986059, 40.38171007343429], \"Category\": [\"Default\", \"Default\", \"Default\", \"Default\", \"Default\", \"Default\", \"Default\", \"Default\", \"Default\", \"Default\", \"Default\", \"Default\", \"Default\", \"Default\", \"Default\", \"Default\", \"Default\", \"Default\", \"Default\", \"Default\", \"Default\", \"Default\", \"Default\", \"Default\", \"Default\", \"Default\", \"Default\", \"Default\", \"Default\", \"Default\", \"Topic1\", \"Topic1\", \"Topic1\", \"Topic1\", \"Topic1\", \"Topic1\", \"Topic1\", \"Topic1\", \"Topic1\", \"Topic1\", \"Topic1\", \"Topic1\", \"Topic1\", \"Topic1\", \"Topic1\", \"Topic1\", \"Topic1\", \"Topic1\", \"Topic1\", \"Topic1\", \"Topic1\", \"Topic1\", \"Topic1\", \"Topic1\", \"Topic1\", \"Topic1\", \"Topic1\", \"Topic1\", \"Topic1\", \"Topic1\", \"Topic1\", \"Topic1\", \"Topic1\", \"Topic1\", \"Topic1\", \"Topic1\", \"Topic1\", \"Topic1\", \"Topic1\", \"Topic1\", \"Topic1\", \"Topic1\", \"Topic1\", \"Topic1\", \"Topic1\", \"Topic1\", \"Topic1\", \"Topic1\", \"Topic1\", \"Topic1\", \"Topic1\", \"Topic1\", \"Topic1\", \"Topic1\", \"Topic1\", \"Topic1\", \"Topic1\", \"Topic1\", \"Topic1\", \"Topic1\", \"Topic1\", \"Topic1\", \"Topic1\", \"Topic1\", \"Topic2\", \"Topic2\", \"Topic2\", \"Topic2\", \"Topic2\", \"Topic2\", \"Topic2\", \"Topic2\", \"Topic2\", \"Topic2\", \"Topic2\", \"Topic2\", \"Topic2\", \"Topic2\", \"Topic2\", \"Topic2\", \"Topic2\", \"Topic2\", \"Topic2\", \"Topic2\", \"Topic2\", \"Topic2\", \"Topic2\", \"Topic2\", \"Topic2\", \"Topic2\", \"Topic2\", \"Topic2\", \"Topic2\", \"Topic2\", \"Topic2\", \"Topic2\", \"Topic2\", \"Topic2\", \"Topic2\", \"Topic2\", \"Topic2\", \"Topic2\", \"Topic2\", \"Topic2\", \"Topic2\", \"Topic2\", \"Topic2\", \"Topic2\", \"Topic2\", \"Topic2\", \"Topic3\", \"Topic3\", \"Topic3\", \"Topic3\", \"Topic3\", \"Topic3\", \"Topic3\", \"Topic3\", \"Topic3\", \"Topic3\", \"Topic3\", \"Topic3\", \"Topic3\", \"Topic3\", \"Topic3\", \"Topic3\", \"Topic3\", \"Topic3\", \"Topic3\", \"Topic3\", \"Topic3\", \"Topic3\", \"Topic3\", \"Topic3\", \"Topic3\", \"Topic3\", \"Topic3\", \"Topic3\", \"Topic3\", \"Topic3\", \"Topic3\", \"Topic3\", \"Topic3\", \"Topic3\", \"Topic3\", \"Topic3\", \"Topic3\", \"Topic3\", \"Topic3\", \"Topic3\", \"Topic3\", \"Topic3\", \"Topic3\", \"Topic3\", \"Topic4\", \"Topic4\", \"Topic4\", \"Topic4\", \"Topic4\", \"Topic4\", \"Topic4\", \"Topic4\", \"Topic4\", \"Topic4\", \"Topic4\", \"Topic4\", \"Topic4\", \"Topic4\", \"Topic4\", \"Topic4\", \"Topic4\", \"Topic4\", \"Topic4\", \"Topic4\", \"Topic4\", \"Topic4\", \"Topic4\", \"Topic4\", \"Topic4\", \"Topic4\", \"Topic4\", \"Topic4\", \"Topic4\", \"Topic4\", \"Topic4\", \"Topic4\", \"Topic4\", \"Topic4\", \"Topic4\", \"Topic4\", \"Topic4\", \"Topic4\", \"Topic4\", \"Topic4\", \"Topic4\", \"Topic4\", \"Topic4\", \"Topic4\", \"Topic4\", \"Topic4\", \"Topic4\", \"Topic4\", \"Topic4\", \"Topic4\", \"Topic4\", \"Topic4\"], \"logprob\": [30.0, 29.0, 28.0, 27.0, 26.0, 25.0, 24.0, 23.0, 22.0, 21.0, 20.0, 19.0, 18.0, 17.0, 16.0, 15.0, 14.0, 13.0, 12.0, 11.0, 10.0, 9.0, 8.0, 7.0, 6.0, 5.0, 4.0, 3.0, 2.0, 1.0, -4.5055, -5.2455, -5.4113, -4.7259, -5.5434, -5.6154, -5.6154, -5.6939, -4.8944, -5.6943, -5.6954, -5.696, -5.779, -5.7804, -5.8721, -5.8724, -5.8726, -5.8731, -5.9756, -5.9764, -5.9784, -5.8853, -6.09, -6.0901, -5.2952, -6.095, -5.2939, -6.2184, -6.2184, -6.2189, -5.4118, -4.0201, -5.4749, -5.4749, -5.5425, -5.5506, -5.0577, -5.053, -4.7937, -5.5429, -4.1577, -4.2903, -4.0058, -4.7359, -4.2437, -4.3052, -5.0971, -4.4788, -5.0109, -4.3114, -4.8931, -4.7844, -4.8903, -4.7471, -4.5357, -5.0706, -4.8271, -4.9923, -4.7047, -4.9428, -5.1199, -5.1187, -5.0032, -5.0734, -4.024, -4.2925, -4.3558, -4.3558, -3.7042, -4.66, -4.0741, -4.9702, -5.1035, -5.2478, -4.7553, -4.7524, -4.7531, -5.6343, -5.644, -5.902, -5.9022, -4.6622, -5.9061, -5.9065, -4.9838, -4.776, -5.2459, -5.4163, -4.4227, -4.8552, -4.8208, -5.6794, -5.0279, -5.4217, -5.0519, -5.2513, -4.5645, -5.4233, -4.4128, -4.669, -4.9465, -4.6631, -4.8806, -4.7835, -4.5577, -4.6919, -4.7042, -4.8048, -4.7833, -4.9748, -4.0536, -4.0536, -4.0543, -4.2901, -4.3832, -4.3835, -4.6003, -4.7293, -4.7295, -4.7297, -4.8981, -5.0524, -5.2635, -4.7296, -5.5317, -5.5317, -5.5319, -5.5331, -5.5336, -5.5338, -4.7422, -5.263, -4.8775, -5.1308, -4.878, -5.1535, -5.5313, -5.5317, -3.9991, -5.5764, -5.553, -4.7712, -4.1426, -4.5036, -4.1097, -4.2299, -4.2434, -4.9734, -5.0534, -5.0877, -4.4703, -4.4523, -4.7609, -4.848, -4.5165, -5.1728, -4.5179, -4.9134, -5.1711, -5.1723, -5.2477, -5.2227, -4.1234, -5.1715, -5.326, -5.1696, -4.6906, -5.2335, -4.69, -5.5371, -5.5372, -5.5367, -5.5374, -5.5376, -5.5354, -5.5367, -4.9403, -5.1577, -5.5371, -4.6924, -5.168, -4.9007, -6.1262, -6.1278, -4.901, -5.5351, -4.6903, -4.2367, -4.2365, -3.8855, -4.3407, -4.7059, -3.9892, -4.4504, -4.1335, -4.0224, -4.2007, -4.9014, -4.7533, -4.8281, -4.9007, -5.0371, -5.073, -5.1006, -5.1196, -5.1286], \"loglift\": [30.0, 29.0, 28.0, 27.0, 26.0, 25.0, 24.0, 23.0, 22.0, 21.0, 20.0, 19.0, 18.0, 17.0, 16.0, 15.0, 14.0, 13.0, 12.0, 11.0, 10.0, 9.0, 8.0, 7.0, 6.0, 5.0, 4.0, 3.0, 2.0, 1.0, 0.4601, 0.4411, 0.4384, 0.4336, 0.4325, 0.4299, 0.4299, 0.4262, 0.4259, 0.4259, 0.4249, 0.4243, 0.4218, 0.4206, 0.4166, 0.4163, 0.4162, 0.4158, 0.4096, 0.4089, 0.4071, 0.4047, 0.4019, 0.4018, 0.398, 0.3975, 0.3974, 0.3927, 0.3927, 0.3923, 0.3882, 0.3566, 0.381, 0.381, 0.3748, 0.3751, 0.3472, 0.3433, 0.3181, 0.3745, 0.2486, 0.2539, 0.1918, 0.2755, 0.2114, 0.1984, 0.3083, 0.2097, 0.2901, 0.1538, 0.2621, 0.221, 0.2378, 0.1993, 0.0453, 0.2368, 0.1095, 0.1667, -0.0109, 0.1183, 0.2211, 0.1977, 0.0221, 0.0436, 1.6711, 1.6606, 1.6579, 1.6579, 1.6441, 1.6417, 1.6226, 1.6194, 1.6042, 1.5935, 1.5567, 1.5524, 1.5518, 1.5441, 1.5337, 1.5001, 1.4999, 1.4965, 1.4962, 1.4957, 1.4876, 1.4482, 1.4474, 1.4091, 1.3394, 1.2981, 1.2967, 1.2936, 1.2849, 1.2574, 1.228, 1.2288, 0.8377, 1.2558, 0.6365, 0.4285, 0.6855, 0.2735, 0.5145, 0.1629, -0.3601, -0.1108, -0.16, -0.1109, -0.3282, -0.5097, 2.0612, 2.0612, 2.0605, 2.0474, 2.0411, 2.0408, 2.0241, 2.0125, 2.0123, 2.0121, 1.976, 1.9759, 1.9461, 1.9044, 1.8997, 1.8997, 1.8995, 1.8982, 1.8976, 1.8976, 1.8631, 1.7587, 1.7381, 1.7128, 1.7115, 1.6879, 1.6705, 1.6466, 1.6329, 1.6242, 1.6232, 1.4234, 1.1075, 1.2378, 0.9397, 0.8355, 0.7819, 1.2607, 1.353, 1.2937, 0.2236, -0.0461, 0.4276, 0.269, 2.4349, 2.3246, 2.156, 2.1451, 2.083, 2.0815, 2.0104, 1.9987, 1.9176, 1.8868, 1.8807, 1.8487, 1.8082, 1.7899, 1.7121, 1.6672, 1.6672, 1.6442, 1.6435, 1.6432, 1.4699, 1.4675, 1.453, 1.4494, 1.4415, 1.4326, 1.3984, 1.3763, 1.3269, 1.3252, 1.3028, 1.2916, 1.1631, 1.0321, 0.9275, 0.6955, 0.8478, 1.0629, 0.476, 0.7998, 0.3702, 0.1752, 0.2543, 1.0644, -0.0595, 0.2373, 0.1046, 0.5616, -0.3844, -0.6944, 0.0357, -0.192]}, \"token.table\": {\"Topic\": [1, 2, 3, 4, 1, 2, 3, 4, 2, 1, 3, 1, 2, 3, 4, 1, 2, 3, 4, 1, 1, 3, 1, 2, 4, 1, 2, 3, 4, 1, 3, 4, 1, 3, 1, 2, 1, 2, 3, 1, 1, 2, 3, 1, 2, 1, 1, 2, 3, 1, 1, 2, 2, 3, 1, 3, 1, 1, 2, 3, 4, 1, 2, 1, 2, 1, 3, 3, 3, 1, 2, 3, 4, 2, 4, 1, 1, 1, 3, 1, 2, 3, 1, 2, 4, 1, 2, 1, 2, 3, 4, 1, 3, 3, 3, 3, 1, 2, 2, 3, 1, 3, 1, 4, 4, 4, 1, 2, 2, 1, 2, 1, 1, 2, 3, 4, 1, 1, 2, 4, 1, 3, 2, 1, 3, 4, 1, 2, 3, 1, 2, 4, 1, 4, 3, 3, 4, 1, 3, 4, 1, 2, 3, 1, 4, 1, 1, 4, 1, 2, 3, 4, 1, 2, 2, 4, 1, 2, 1, 2, 2, 3, 4, 3, 1, 2, 4, 1, 2, 3, 4, 2, 3, 1, 3, 1, 1, 1, 2, 3, 4, 1, 2, 3, 4, 1, 4, 1, 2, 3, 4, 1, 2, 3, 4, 1, 3, 1, 2, 1, 2, 3, 4, 1, 2, 1, 2, 4, 1, 2, 1, 2, 4, 2, 2, 3, 2, 3, 1, 2, 3, 4, 1, 2, 1, 2, 4, 1, 2, 4, 1, 4, 1, 2, 3, 4, 1, 1, 2, 4, 1, 2, 3, 3, 1, 2, 3, 4, 1, 2, 3, 4, 3, 3, 1, 2, 3, 4, 1, 4, 1, 4, 3, 1, 2, 3, 4, 2, 1, 3, 4, 3, 1, 3, 1, 2, 4, 1, 4, 3, 4, 2, 3, 1, 1, 2, 4, 3, 3, 4, 1, 3, 4, 2, 1, 2, 3, 1, 2, 2, 3, 1, 2, 1, 2, 1, 4, 1, 2, 3, 4, 1, 4, 2, 1, 4, 1, 2, 3, 4, 1, 4, 3, 3, 2, 3, 1, 2, 4, 1, 1, 2, 3, 1, 2, 3, 4, 1, 1, 4, 2, 4, 1, 4, 1, 2, 3, 4, 1, 2, 4, 1, 4, 1, 2, 3, 4, 1, 4, 1, 2, 4, 1, 2, 4, 2, 1, 3, 1, 4, 3, 4, 2, 3, 2, 2, 3], \"Freq\": [0.6223859564819672, 0.027060258977476832, 0.2706025897747683, 0.08118077693243049, 0.581746245736869, 0.2908731228684345, 0.05817462457368689, 0.05817462457368689, 0.9053455078452227, 0.2330175913281373, 0.6990527739844119, 0.6525141188126723, 0.14829866336651643, 0.14829866336651643, 0.029659732673303286, 0.7011158160102581, 0.1402231632020516, 0.08413389792123097, 0.056089265280820644, 0.9250033504556886, 0.13137100144318545, 0.7882260086591127, 0.8702115868054657, 0.03955507212752117, 0.07911014425504234, 0.8013997237866347, 0.043712712206543713, 0.11656723255078323, 0.043712712206543713, 0.44049510500302386, 0.37272662731025097, 0.16942119423193225, 0.43564812086979254, 0.5227777450437511, 0.9488247802759046, 0.8744418277374036, 0.8199984129151298, 0.035652104909353464, 0.14260841963741386, 0.9573285254852525, 0.7792327111922409, 0.1113189587417487, 0.1113189587417487, 0.9244126963931979, 0.06602947831379985, 0.9645779303391457, 0.3326461688945242, 0.3326461688945242, 0.3049256548199805, 0.9436269990319244, 0.28267423594495067, 0.6784181662678817, 0.26547804534820435, 0.6636951133705109, 0.2586561322921377, 0.6466403307303441, 0.9572841246472978, 0.5122150686909028, 0.17073835623030095, 0.05691278541010032, 0.2276511416404013, 0.8627219069309723, 0.11764389639967804, 0.18976592048597862, 0.5692977614579359, 0.9704567524022298, 0.965325127535957, 0.965388997765113, 0.9035577990764787, 0.6216299765299019, 0.15540749413247548, 0.15540749413247548, 0.07770374706623774, 0.41333252385193414, 0.41333252385193414, 0.9706414323465838, 0.9388798034044776, 0.9394962100843599, 0.058718513130272494, 0.1434734999517823, 0.7173674997589116, 0.9001512045062591, 0.08974688975574015, 0.8077220078016614, 0.08974688975574015, 0.9250039739464672, 0.9314534497790168, 0.2632293635738283, 0.2632293635738283, 0.13161468178691416, 0.2632293635738283, 0.8310448077580826, 0.15829424909677764, 0.859470131815448, 0.8770196739060364, 0.9035242290361626, 0.9481014566193086, 0.052672303145517144, 0.6864177077104, 0.29417901759017145, 0.333480458740401, 0.666960917480802, 0.47242175627957816, 0.47242175627957816, 0.9285486023892016, 0.6411761438000071, 0.987436277426278, 0.8743228866230071, 0.8317355012311897, 0.28287957564049715, 0.7071989391012428, 0.9941815612401101, 0.7797419945028543, 0.08997023013494473, 0.05998015342329649, 0.05998015342329649, 0.9490719586640203, 0.23915756437609098, 0.23915756437609098, 0.47831512875218196, 0.23252650953441725, 0.6975795286032518, 0.9452544388080244, 0.7202176473247296, 0.14404352946494592, 0.14404352946494592, 0.8273528631603035, 0.13344401018714575, 0.053377604074858295, 0.8011863190512445, 0.09244457527514359, 0.09244457527514359, 0.47943710247798293, 0.47943710247798293, 0.9003419225390534, 0.613390151622189, 0.3066950758110945, 0.3915713916136477, 0.19578569580682384, 0.3915713916136477, 0.855719489488852, 0.11803027441225544, 0.02950756860306386, 0.20670277692816613, 0.6201083307844983, 0.9573199446035313, 0.9593900230176821, 0.030948065258634905, 0.5351972326729326, 0.08450482621151569, 0.2816827540383856, 0.08450482621151569, 0.32264476614756527, 0.6452895322951305, 0.2814312928227662, 0.7035782320569155, 0.9314461143194737, 0.06209640762129824, 0.2828745467448235, 0.7071863668620587, 0.840552635418765, 0.08405526354187651, 0.08405526354187651, 0.9003694999657331, 0.5522784775311863, 0.4339330894887893, 0.039448462680799025, 0.08360187528493622, 0.6688150022794898, 0.16720375056987244, 0.08360187528493622, 0.23854565900477437, 0.7156369770143232, 0.9498737307217998, 0.052770762817877764, 0.9383599205533949, 0.9707066217208331, 0.8912688300514954, 0.07073562143265837, 0.014147124286531672, 0.028294248573063344, 0.7692890225309257, 0.05305441534696039, 0.10610883069392078, 0.07958162302044058, 0.4671941316125185, 0.4671941316125185, 0.7423541407152554, 0.15465711264901155, 0.06186284505960462, 0.03093142252980231, 0.7729180329385621, 0.11593770494078431, 0.07729180329385621, 0.05796885247039216, 0.9644233646817939, 0.9003695661226754, 0.9314479344161414, 0.06209652896107609, 0.6528095410451059, 0.09325850586358657, 0.062172337242391046, 0.18651701172717314, 0.9801855309303705, 0.9452556712276259, 0.39914369844120573, 0.19957184922060286, 0.39914369844120573, 0.9585072578279964, 0.8743406944100159, 0.4288640802937109, 0.10721602007342773, 0.4288640802937109, 0.8732651088923109, 0.23827141248778902, 0.714814237463367, 0.19923166180244203, 0.7969266472097681, 0.8029090615077777, 0.1505454490327083, 0.033454544229490735, 0.016727272114745367, 0.9244467782501885, 0.06603191273215632, 0.5275983149801012, 0.17586610499336708, 0.2637991574900506, 0.7502156456848706, 0.2250646937054612, 0.025007188189495686, 0.4672059302207761, 0.4672059302207761, 0.7893576354402498, 0.10763967756003406, 0.07175978504002271, 0.03587989252001136, 0.9488918664946984, 0.693383216042161, 0.24763686287220038, 0.07429105886166011, 0.2100393920654845, 0.31505908809822675, 0.420078784130969, 0.9002688920860232, 0.5178138742056864, 0.10356277484113728, 0.13808369978818305, 0.20712554968227456, 0.7549131151785374, 0.06424792469604573, 0.06424792469604573, 0.11243386821808005, 0.8770507057793736, 0.9653876814970985, 0.42512516064011885, 0.10628129016002971, 0.10628129016002971, 0.31884387048008916, 0.5724953689717576, 0.38166357931450506, 0.2432783793206459, 0.4865567586412918, 0.8022077426678288, 0.7263705478169828, 0.1081828475472102, 0.046364077520232944, 0.12363754005395453, 0.9516866716290975, 0.3919885473738394, 0.1959942736869197, 0.3919885473738394, 0.9373834907520668, 0.9574006643212396, 0.9003522539888275, 0.49183613400252046, 0.16394537800084014, 0.3278907560016803, 0.9321770611217233, 0.06658407579440881, 0.6133633089354541, 0.30668165446772705, 0.5383900703185346, 0.43071205625482767, 0.9383056960049095, 0.9756172734467053, 0.8818867399213035, 0.0979874155468115, 0.9046196397833385, 0.2523712928411599, 0.5047425856823198, 0.3625371349740997, 0.45317141871762456, 0.18126856748704984, 0.9580337882150826, 0.2846512156511614, 0.66418616985271, 0.09488373855038715, 0.037377776385072656, 0.9344444096268164, 0.9002736446583339, 0.05295727321519612, 0.1637238607903827, 0.8186193039519135, 0.11490968677641725, 0.8043678074349208, 0.7433444019987171, 0.2477814673329057, 0.7569426192148753, 0.13009951267755668, 0.035481685275697276, 0.09461782740185941, 0.44830922845930476, 0.5230274332025222, 0.9320601188055773, 0.7624113859178347, 0.20793037797759129, 0.6266839110183037, 0.31334195550915184, 0.03916774443864398, 0.03916774443864398, 0.6501461789325088, 0.3250730894662544, 0.903553159972224, 0.96173425357322, 0.8755232067562599, 0.0972803563062511, 0.9756170705688365, 0.25130473736880715, 0.5026094747376143, 0.9250956850459383, 0.11591744518372961, 0.579587225918648, 0.23183489036745922, 0.6421118202331693, 0.15618936167833847, 0.034708747039630776, 0.15618936167833847, 0.9705123086897456, 0.4672395133605599, 0.4672395133605599, 0.25135684318718166, 0.5027136863743633, 0.3971194493606537, 0.3971194493606537, 0.44602836504133175, 0.1911550135891422, 0.1911550135891422, 0.1911550135891422, 0.7649992125944128, 0.13769985826699432, 0.09179990551132954, 0.9449574295325158, 0.03634451652048138, 0.2768869382156048, 0.16613216292936286, 0.4430191011449677, 0.11075477528624192, 0.66230145687693, 0.28384348151868427, 0.7602873831301878, 0.14481664440575007, 0.07240832220287503, 0.2391585375942175, 0.2391585375942175, 0.478317075188435, 0.969717886120121, 0.3327186065121603, 0.6654372130243206, 0.6318007998436892, 0.2527203199374757, 0.8112170345586527, 0.1352028390931088, 0.3474752897242648, 0.5956719252415967, 0.8744800260257029, 0.8755550867258333, 0.09728389852509259], \"Term\": [\"\\u4e00\\u4e0b\", \"\\u4e00\\u4e0b\", \"\\u4e00\\u4e0b\", \"\\u4e00\\u4e0b\", \"\\u4e00\\u6a23\", \"\\u4e00\\u6a23\", \"\\u4e00\\u6a23\", \"\\u4e00\\u6a23\", \"\\u4e0a\\u8863\", \"\\u4e0b\\u8eca\", \"\\u4e0b\\u8eca\", \"\\u4e4b\\u524d\", \"\\u4e4b\\u524d\", \"\\u4e4b\\u524d\", \"\\u4e4b\\u524d\", \"\\u4e4b\\u5f8c\", \"\\u4e4b\\u5f8c\", \"\\u4e4b\\u5f8c\", \"\\u4e4b\\u5f8c\", \"\\u4e4b\\u9593\", \"\\u4e7e\\u6de8\", \"\\u4e7e\\u6de8\", \"\\u4e8b\\u60c5\", \"\\u4e8b\\u60c5\", \"\\u4e8b\\u60c5\", \"\\u4ec0\\u9ebc\", \"\\u4ec0\\u9ebc\", \"\\u4ec0\\u9ebc\", \"\\u4ec0\\u9ebc\", \"\\u4eca\\u5929\", \"\\u4eca\\u5929\", \"\\u4eca\\u5929\", \"\\u4ee5\\u524d\", \"\\u4ee5\\u524d\", \"\\u4ee5\\u5f8c\", \"\\u505a\\u5b8c\", \"\\u516c\\u53f8\", \"\\u516c\\u53f8\", \"\\u516c\\u53f8\", \"\\u516c\\u958b\", \"\\u5176\\u4ed6\", \"\\u5176\\u4ed6\", \"\\u5176\\u4ed6\", \"\\u51fa\\u53bb\", \"\\u51fa\\u53bb\", \"\\u51fa\\u73fe\", \"\\u5206\\u4eab\", \"\\u5206\\u4eab\", \"\\u5206\\u4eab\", \"\\u5206\\u624b\", \"\\u5305\\u5305\", \"\\u5305\\u5305\", \"\\u5305\\u88dd\", \"\\u5305\\u88dd\", \"\\u5316\\u599d\", \"\\u5316\\u599d\", \"\\u5360\\u535c\", \"\\u53ef\\u611b\", \"\\u53ef\\u611b\", \"\\u53ef\\u611b\", \"\\u53ef\\u611b\", \"\\u53f0\\u7063\", \"\\u53f0\\u7063\", \"\\u5403\\u5230\", \"\\u5403\\u5230\", \"\\u540c\\u4e8b\", \"\\u5473\\u9053\", \"\\u5507\\u818f\", \"\\u5507\\u91c9\", \"\\u559c\\u6b61\", \"\\u559c\\u6b61\", \"\\u559c\\u6b61\", \"\\u559c\\u6b61\", \"\\u5617\\u8a66\", \"\\u5617\\u8a66\", \"\\u56de\\u4f86\", \"\\u56de\\u5230\", \"\\u5728\\u4e00\\u8d77\", \"\\u5728\\u4e00\\u8d77\", \"\\u5916\\u5957\", \"\\u5916\\u5957\", \"\\u5916\\u89c0\", \"\\u5927\\u5b78\", \"\\u5927\\u5b78\", \"\\u5927\\u5b78\", \"\\u5927\\u90e8\\u5206\", \"\\u5973\\u5b50\", \"\\u5973\\u5b69\", \"\\u5973\\u5b69\", \"\\u5973\\u5b69\", \"\\u5973\\u5b69\", \"\\u5973\\u751f\", \"\\u5973\\u751f\", \"\\u597d\\u7269\", \"\\u599d\\u5bb9\", \"\\u599d\\u611f\", \"\\u59ca\\u59ca\", \"\\u59ca\\u59ca\", \"\\u5b78\\u751f\", \"\\u5b78\\u751f\", \"\\u5bb9\\u6613\", \"\\u5bb9\\u6613\", \"\\u5bbf\\u820d\", \"\\u5bbf\\u820d\", \"\\u5bf6\\u5bf6\", \"\\u5c08\\u696d\", \"\\u5c0d\\u8c61\", \"\\u5c0f\\u59d0\", \"\\u5c3a\\u5bf8\", \"\\u5c6c\\u65bc\", \"\\u5c6c\\u65bc\", \"\\u5de5\\u4f5c\", \"\\u5e0c\\u671b\", \"\\u5e0c\\u671b\", \"\\u5e0c\\u671b\", \"\\u5e0c\\u671b\", \"\\u5e33\\u865f\", \"\\u5e73\\u5e38\", \"\\u5e73\\u5e38\", \"\\u5e73\\u5e38\", \"\\u5e73\\u6642\", \"\\u5e73\\u6642\", \"\\u5e97\\u5bb6\", \"\\u5f71\\u7247\", \"\\u5f71\\u7247\", \"\\u5f71\\u7247\", \"\\u5f88\\u591a\", \"\\u5f88\\u591a\", \"\\u5f88\\u591a\", \"\\u5f8c\\u4f86\", \"\\u5f8c\\u4f86\", \"\\u5f8c\\u4f86\", \"\\u5fae\\u535a\", \"\\u5fae\\u535a\", \"\\u5fc3\\u5f97\", \"\\u5fcd\\u4e0d\\u4f4f\", \"\\u5fcd\\u4e0d\\u4f4f\", \"\\u600e\\u9ebc\\u6a23\", \"\\u600e\\u9ebc\\u6a23\", \"\\u600e\\u9ebc\\u6a23\", \"\\u60f3\\u8981\", \"\\u60f3\\u8981\", \"\\u60f3\\u8981\", \"\\u610f\\u5916\", \"\\u610f\\u5916\", \"\\u610f\\u601d\", \"\\u611f\\u60c5\", \"\\u611f\\u60c5\", \"\\u611f\\u89ba\", \"\\u611f\\u89ba\", \"\\u611f\\u89ba\", \"\\u611f\\u89ba\", \"\\u614b\\u5ea6\", \"\\u614b\\u5ea6\", \"\\u6210\\u529f\", \"\\u6210\\u529f\", \"\\u6210\\u54e1\", \"\\u6210\\u54e1\", \"\\u63d0\\u4f9b\", \"\\u63d0\\u4f9b\", \"\\u642d\\u914d\", \"\\u642d\\u914d\", \"\\u642d\\u914d\", \"\\u64e6\\u8d77\\u4f86\", \"\\u6545\\u4e8b\", \"\\u6545\\u4e8b\", \"\\u6545\\u4e8b\", \"\\u6574\\u9ad4\", \"\\u6574\\u9ad4\", \"\\u6574\\u9ad4\", \"\\u6574\\u9ad4\", \"\\u65b0\\u6b61\", \"\\u65b0\\u6b61\", \"\\u65e5\\u672c\", \"\\u65e5\\u672c\", \"\\u65e9\\u4e0a\", \"\\u6628\\u5929\", \"\\u6642\\u5019\", \"\\u6642\\u5019\", \"\\u6642\\u5019\", \"\\u6642\\u5019\", \"\\u6642\\u9593\", \"\\u6642\\u9593\", \"\\u6642\\u9593\", \"\\u6642\\u9593\", \"\\u666f\\u9ede\", \"\\u666f\\u9ede\", \"\\u6700\\u5f8c\", \"\\u6700\\u5f8c\", \"\\u6700\\u5f8c\", \"\\u6700\\u5f8c\", \"\\u670b\\u53cb\", \"\\u670b\\u53cb\", \"\\u670b\\u53cb\", \"\\u670b\\u53cb\", \"\\u672a\\u4f86\", \"\\u690d\\u6751\\u79c0\", \"\\u6c7a\\u5b9a\", \"\\u6c7a\\u5b9a\", \"\\u6c92\\u6709\", \"\\u6c92\\u6709\", \"\\u6c92\\u6709\", \"\\u6c92\\u6709\", \"\\u6c92\\u8fa6\\u6cd5\", \"\\u6d0b\\u88dd\", \"\\u6d17\\u6fa1\", \"\\u6d17\\u6fa1\", \"\\u6d17\\u6fa1\", \"\\u6d88\\u5931\", \"\\u6dd8\\u5bf6\", \"\\u6e96\\u5099\", \"\\u6e96\\u5099\", \"\\u6e96\\u5099\", \"\\u6eab\\u67d4\", \"\\u6ed1\\u9806\", \"\\u6ed1\\u9806\", \"\\u71d2\\u5230\", \"\\u71d2\\u5230\", \"\\u73fe\\u5728\", \"\\u73fe\\u5728\", \"\\u73fe\\u5728\", \"\\u73fe\\u5728\", \"\\u751f\\u65e5\", \"\\u751f\\u65e5\", \"\\u751f\\u6c23\", \"\\u751f\\u6c23\", \"\\u751f\\u6c23\", \"\\u7537\\u53cb\", \"\\u7537\\u53cb\", \"\\u7537\\u53cb\", \"\\u7559\\u5728\", \"\\u7559\\u5728\", \"\\u7576\\u6642\", \"\\u7576\\u6642\", \"\\u7576\\u6642\", \"\\u7576\\u6642\", \"\\u75ab\\u60c5\", \"\\u767c\\u73fe\", \"\\u767c\\u73fe\", \"\\u767c\\u73fe\", \"\\u767d\\u8272\", \"\\u767d\\u8272\", \"\\u767d\\u8272\", \"\\u76ae\\u819a\", \"\\u76f4\\u63a5\", \"\\u76f4\\u63a5\", \"\\u76f4\\u63a5\", \"\\u76f4\\u63a5\", \"\\u770b\\u5230\", \"\\u770b\\u5230\", \"\\u770b\\u5230\", \"\\u770b\\u5230\", \"\\u773c\\u599d\", \"\\u773c\\u5f71\", \"\\u773c\\u775b\", \"\\u773c\\u775b\", \"\\u773c\\u775b\", \"\\u773c\\u775b\", \"\\u7761\\u8457\", \"\\u7761\\u8457\", \"\\u7761\\u89ba\", \"\\u7761\\u89ba\", \"\\u776b\\u6bdb\\u818f\", \"\\u77e5\\u9053\", \"\\u77e5\\u9053\", \"\\u77e5\\u9053\", \"\\u77e5\\u9053\", \"\\u7a7f\\u642d\", \"\\u7b49\\u5230\", \"\\u7b49\\u5230\", \"\\u7b49\\u5230\", \"\\u7c89\\u5e95\", \"\\u7c89\\u7d72\", \"\\u7cbe\\u83ef\", \"\\u7d50\\u5a5a\", \"\\u7d50\\u5a5a\", \"\\u7d50\\u5a5a\", \"\\u7d50\\u679c\", \"\\u7d50\\u679c\", \"\\u7d93\\u5178\", \"\\u7d93\\u5178\", \"\\u7db2\\u53cb\", \"\\u7db2\\u53cb\", \"\\u7ffb\\u8b6f\", \"\\u804a\\u5929\", \"\\u80cc\\u5fc3\", \"\\u80cc\\u5fc3\", \"\\u816e\\u7d05\", \"\\u8212\\u670d\", \"\\u8212\\u670d\", \"\\u821e\\u53f0\", \"\\u821e\\u53f0\", \"\\u821e\\u53f0\", \"\\u8349\\u8393\", \"\\u8655\\u7406\", \"\\u8655\\u7406\", \"\\u8655\\u7406\", \"\\u86cb\\u7cd5\", \"\\u86cb\\u7cd5\", \"\\u8863\\u670d\", \"\\u8863\\u670d\", \"\\u8932\\u5b50\", \"\\u8932\\u5b50\", \"\\u896f\\u886b\", \"\\u896f\\u886b\", \"\\u898b\\u9762\", \"\\u898b\\u9762\", \"\\u89ba\\u5f97\", \"\\u89ba\\u5f97\", \"\\u89ba\\u5f97\", \"\\u89ba\\u5f97\", \"\\u8a0a\\u606f\", \"\\u8a0a\\u606f\", \"\\u8a62\\u554f\", \"\\u8a8d\\u8b58\", \"\\u8a8d\\u8b58\", \"\\u8b1d\\u8b1d\", \"\\u8b1d\\u8b1d\", \"\\u8b1d\\u8b1d\", \"\\u8b1d\\u8b1d\", \"\\u8b8a\\u6210\", \"\\u8b8a\\u6210\", \"\\u8cea\\u5730\", \"\\u8cea\\u611f\", \"\\u8cfc\\u5165\", \"\\u8cfc\\u5165\", \"\\u8ddd\\u96e2\", \"\\u8eab\\u6750\", \"\\u8eab\\u6750\", \"\\u8f9b\\u82e6\", \"\\u8fd1\\u671f\", \"\\u8fd1\\u671f\", \"\\u8fd1\\u671f\", \"\\u9019\\u6a23\", \"\\u9019\\u6a23\", \"\\u9019\\u6a23\", \"\\u9019\\u6a23\", \"\\u9019\\u908a\", \"\\u9019\\u9ebc\\u591a\", \"\\u9019\\u9ebc\\u591a\", \"\\u904b\\u52d5\", \"\\u904b\\u52d5\", \"\\u9072\\u5230\", \"\\u9072\\u5230\", \"\\u90e8\\u5206\", \"\\u90e8\\u5206\", \"\\u90e8\\u5206\", \"\\u90e8\\u5206\", \"\\u958b\\u59cb\", \"\\u958b\\u59cb\", \"\\u958b\\u59cb\", \"\\u95dc\\u4fc2\", \"\\u95dc\\u4fc2\", \"\\u9644\\u4e0a\", \"\\u9644\\u4e0a\", \"\\u9644\\u4e0a\", \"\\u9644\\u4e0a\", \"\\u96e2\\u958b\", \"\\u96e2\\u958b\", \"\\u96fb\\u8a71\", \"\\u96fb\\u8a71\", \"\\u96fb\\u8a71\", \"\\u9732\\u51fa\", \"\\u9732\\u51fa\", \"\\u9732\\u51fa\", \"\\u978b\\u5b50\", \"\\u97d3\\u570b\", \"\\u97d3\\u570b\", \"\\u97d3\\u7db2\", \"\\u97d3\\u7db2\", \"\\u982d\\u9aee\", \"\\u982d\\u9aee\", \"\\u984f\\u8272\", \"\\u984f\\u8272\", \"\\u98a8\\u683c\", \"\\u9ed1\\u8272\", \"\\u9ed1\\u8272\"]}, \"R\": 30, \"lambda.step\": 0.01, \"plot.opts\": {\"xlab\": \"PC1\", \"ylab\": \"PC2\"}, \"topic.order\": [2, 3, 1, 4]};\n",
       "\n",
       "function LDAvis_load_lib(url, callback){\n",
       "  var s = document.createElement('script');\n",
       "  s.src = url;\n",
       "  s.async = true;\n",
       "  s.onreadystatechange = s.onload = callback;\n",
       "  s.onerror = function(){console.warn(\"failed to load library \" + url);};\n",
       "  document.getElementsByTagName(\"head\")[0].appendChild(s);\n",
       "}\n",
       "\n",
       "if(typeof(LDAvis) !== \"undefined\"){\n",
       "   // already loaded: just create the visualization\n",
       "   !function(LDAvis){\n",
       "       new LDAvis(\"#\" + \"ldavis_el77331404293668455127611122443\", ldavis_el77331404293668455127611122443_data);\n",
       "   }(LDAvis);\n",
       "}else if(typeof define === \"function\" && define.amd){\n",
       "   // require.js is available: use it to load d3/LDAvis\n",
       "   require.config({paths: {d3: \"https://d3js.org/d3.v5\"}});\n",
       "   require([\"d3\"], function(d3){\n",
       "      window.d3 = d3;\n",
       "      LDAvis_load_lib(\"https://cdn.jsdelivr.net/gh/bmabey/pyLDAvis@3.2.2/pyLDAvis/js/ldavis.v3.0.0.js\", function(){\n",
       "        new LDAvis(\"#\" + \"ldavis_el77331404293668455127611122443\", ldavis_el77331404293668455127611122443_data);\n",
       "      });\n",
       "    });\n",
       "}else{\n",
       "    // require.js not available: dynamically load d3 & LDAvis\n",
       "    LDAvis_load_lib(\"https://d3js.org/d3.v5.js\", function(){\n",
       "         LDAvis_load_lib(\"https://cdn.jsdelivr.net/gh/bmabey/pyLDAvis@3.2.2/pyLDAvis/js/ldavis.v3.0.0.js\", function(){\n",
       "                 new LDAvis(\"#\" + \"ldavis_el77331404293668455127611122443\", ldavis_el77331404293668455127611122443_data);\n",
       "            })\n",
       "         });\n",
       "}\n",
       "</script>"
      ],
      "text/plain": [
       "PreparedData(topic_coordinates=             x        y  topics  cluster     Freq\n",
       "topic                                            \n",
       "1      0.04341 -0.11056       1        1 62.07400\n",
       "2      0.13935  0.05458       2        1 18.17230\n",
       "0     -0.09101  0.14536       3        1 12.06984\n",
       "3     -0.09175 -0.08938       4        1  7.68385, topic_info=    Term     Freq    Total Category  logprob  loglift\n",
       "481   蛋糕 26.00000 26.00000  Default 30.00000 30.00000\n",
       "536   這樣 57.00000 57.00000  Default 29.00000 29.00000\n",
       "40    今天 29.00000 29.00000  Default 28.00000 28.00000\n",
       "418   知道 64.00000 64.00000  Default 27.00000 27.00000\n",
       "562   開始 65.00000 65.00000  Default 26.00000 26.00000\n",
       "..   ...      ...      ...      ...      ...      ...\n",
       "224   影片  2.80608 20.82704   Topic4 -5.03710  0.56160\n",
       "327   朋友  2.70736 51.75193   Topic4 -5.07300 -0.38440\n",
       "39    什麼  2.63342 68.62992   Topic4 -5.10060 -0.69440\n",
       "227   後來  2.58408 32.45188   Topic4 -5.11960  0.03570\n",
       "398   發現  2.56074 40.38171   Topic4 -5.12860 -0.19200\n",
       "\n",
       "[236 rows x 6 columns], token_table=      Topic    Freq Term\n",
       "term                    \n",
       "0         1 0.62239   一下\n",
       "0         2 0.02706   一下\n",
       "0         3 0.27060   一下\n",
       "0         4 0.08118   一下\n",
       "4         1 0.58175   一樣\n",
       "...     ...     ...  ...\n",
       "585       2 0.34748   顏色\n",
       "585       3 0.59567   顏色\n",
       "588       2 0.87448   風格\n",
       "594       2 0.87556   黑色\n",
       "594       3 0.09728   黑色\n",
       "\n",
       "[377 rows x 3 columns], R=30, lambda_step=0.01, plot_opts={'xlab': 'PC1', 'ylab': 'PC2'}, topic_order=[2, 3, 1, 4])"
      ]
     },
     "execution_count": 26,
     "metadata": {},
     "output_type": "execute_result"
    }
   ],
   "source": [
    "import pyLDAvis\n",
    "import pyLDAvis.sklearn\n",
    "import dill\n",
    "#import warnings\n",
    "\n",
    "#warnings.filterwanrings('ignore')\n",
    "pyLDAvis.enable_notebook()\n",
    "#cv_matrix2 = np.matrix(cv_matrix)\n",
    "pyLDAvis.sklearn.prepare(lda, cv_matrix, cv, mds=\"mmds\")"
   ]
  },
  {
   "cell_type": "markdown",
   "metadata": {
    "tags": [
     "remove-input",
     "remove-output"
    ]
   },
   "source": [
    "### Clustering documents using topic model features"
   ]
  },
  {
   "cell_type": "code",
   "execution_count": 27,
   "metadata": {
    "scrolled": true,
    "tags": [
     "remove-input",
     "remove-output"
    ]
   },
   "outputs": [
    {
     "name": "stderr",
     "output_type": "stream",
     "text": [
      "/Users/alvinchen/opt/anaconda3/envs/python-notes/lib/python3.7/site-packages/ipykernel/ipkernel.py:287: DeprecationWarning: `should_run_async` will not call `transform_cell` automatically in the future. Please pass the result to `transformed_cell` argument and any exception that happen during thetransform in `preprocessing_exc_tuple` in IPython 7.17 and above.\n",
      "  and should_run_async(code)\n"
     ]
    },
    {
     "data": {
      "text/html": [
       "<div>\n",
       "<style scoped>\n",
       "    .dataframe tbody tr th:only-of-type {\n",
       "        vertical-align: middle;\n",
       "    }\n",
       "\n",
       "    .dataframe tbody tr th {\n",
       "        vertical-align: top;\n",
       "    }\n",
       "\n",
       "    .dataframe thead th {\n",
       "        text-align: right;\n",
       "    }\n",
       "</style>\n",
       "<table border=\"1\" class=\"dataframe\">\n",
       "  <thead>\n",
       "    <tr style=\"text-align: right;\">\n",
       "      <th></th>\n",
       "      <th>ID</th>\n",
       "      <th>title</th>\n",
       "      <th>content</th>\n",
       "      <th>Normalized</th>\n",
       "      <th>ClusterLabels</th>\n",
       "    </tr>\n",
       "  </thead>\n",
       "  <tbody>\n",
       "    <tr>\n",
       "      <th>90</th>\n",
       "      <td>235444293</td>\n",
       "      <td>球場上端火鍋</td>\n",
       "      <td>https://www.dcard.tw/v2/vivid/videos/7d1d1171-e0c7-4225-9e07-517ee6b898ab?r=0.7625\\n幹真的不是套好的嗎XDDD\\n笑到瘋</td>\n",
       "      <td>套好 笑 瘋</td>\n",
       "      <td>2</td>\n",
       "    </tr>\n",
       "    <tr>\n",
       "      <th>91</th>\n",
       "      <td>235442238</td>\n",
       "      <td>#問 特殊形狀美妝蛋</td>\n",
       "      <td>https://i.imgur.com/PxSaXkZ.jpg\\nhttps://i.imgur.com/Tq1GPx8.jpg\\n小紅書上好多好可愛的美妝蛋\\n被燒到不行\\n想請問各位水水有用過嗎？</td>\n",
       "      <td>小紅 書 上 好多 可愛 美妝蛋 燒 不行 想 請問 水水 有 用</td>\n",
       "      <td>0</td>\n",
       "    </tr>\n",
       "    <tr>\n",
       "      <th>92</th>\n",
       "      <td>235446475</td>\n",
       "      <td>問這個很漂亮的人是誰</td>\n",
       "      <td>最近的合作舞台，剛好三團都沒什麼在追，想問板上的各位這位是誰🙏\\nhttps://i.imgur.com/gPVxus5.jpg</td>\n",
       "      <td>最近 合作 舞台 團 沒 什麼 追 想 問 板 上 這 位</td>\n",
       "      <td>2</td>\n",
       "    </tr>\n",
       "    <tr>\n",
       "      <th>93</th>\n",
       "      <td>235443651</td>\n",
       "      <td>更）市北這樣是偷偷放榜嗎⋯⋯</td>\n",
       "      <td>我有一一看完大家的回覆了\\n謝謝很多戰友或是其他朋友的加油\\n也看到有通過市北初試的留言\\n真的很恭喜\\n希望你可以唸到自己想唸的事物\\n唸輔導諮商向來是自己的夢想\\n我從指考填志願時與這個領域錯過之後也還是很努力的想擠身進去\\n我覺得我已經盡我所能\\n若結果還是不如預期\\n那真的就是真的不適合吧\\n期許自己能遇到自己喜歡以及適合自己的地方\\n不管是研究所或工作都是\\n——————————...</td>\n",
       "      <td>有 看完 回覆 謝謝 很多 戰友 其他 朋友 加油 看到 有 通過 市北 初試 留言 恭喜 希望 唸到 想 唸 事物 唸 輔導 諮商 夢想 指考 填 志願 時 這 個 領域 錯過 之後 努力 想 擠 身 進去 覺得 盡 能 結果 不如 預期 那 適合 期許 遇到 喜歡 適合 地方 研究所 工作 正文 開始 手賤 登入 市北 招生 系統 看到 這 個 複試 名單 明天 星期二 出來 這 個 ...</td>\n",
       "      <td>1</td>\n",
       "    </tr>\n",
       "    <tr>\n",
       "      <th>94</th>\n",
       "      <td>235445249</td>\n",
       "      <td>女友有罪惡感（微西斯）</td>\n",
       "      <td>前幾天跟女友做了  做完之後他哭了  我趕緊安撫他的情緒  並詢問說是不是我弄痛你了  他跟我說是因為怕如果父母知道的話會對他失望所以他有罪惡感（女友父母有跟他說要等結婚之後才可以做  不可以隨便給別人）我跟他說每個人本來就都有慾望  你不要太自責\\n\\n我跟女友都是對方的第一任  我們已經交往了快三年直到前一陣子才做  但這次並不是第一次  上個月的時侯我就有戴在外面磨一磨然後不小心滑進...</td>\n",
       "      <td>前 天 女友 做 做完 之後 哭 安撫 情緒 詢問 說 弄痛 說 怕 父母 知道 失望 有 罪惡感 女友 父母 有 說 等 結婚 之後 做 隨便 說 每 個 人 有 慾望 自責 女友 任 交往 三 年 前 一陣子 做 這 次 次 上 個 月 時侯 有 戴 外面 磨 磨 小心 滑進去 這 次 個 出去 住 弄 弄 之後 說 想要 進去 想 住 外面 怕 聽到 主動 之前 說 想要 導致 有 ...</td>\n",
       "      <td>0</td>\n",
       "    </tr>\n",
       "    <tr>\n",
       "      <th>95</th>\n",
       "      <td>235444562</td>\n",
       "      <td>主題：💟愛情塔羅💟 他要的感情關係vs 我要的感情關係為何？兩個人的近期發展（曖昧/交往中/斷聯/復合）</td>\n",
       "      <td>🤗感謝我們之間的連結帶領你來到這裡！ \\n\\n主題：💟愛情塔羅💟 他要的感情關係vs 我要的感情關係為何？兩個人的近期發展（曖昧/交往中/斷聯/復合）\\n\\n本次的大眾占卜適合處在曖昧、交往中、剛斷聯、分手、期待的你，有時候一份感情的重要核心正是在於雙方要的是不是一樣的東西，不見得得要完全相同，但至少如果理解彼此的感情需求，在相處上也能夠更融洽嘍！\\n\\n⭐️請閉上眼睛，深呼吸，腦子專心裡...</td>\n",
       "      <td>感謝 之間 連結 帶領 來到 這裡 主題 愛情 塔羅 感情 關係 感情 關係 何 個 人 近期 發展 曖昧 交往 中 斷聯 復合 本 次 占卜 適合 處在 曖昧 交往 中 斷聯 分手 期待 份 感情 重要 核心 在於 一樣 東西 相同 理解 感情 需求 相處 上 融洽 請 閉上 眼睛 深呼吸 腦子 專心 裡 想 感情 關係 什麼 相同 想想 樣子 有 個 人 相處 點滴 張開 眼睛 組 牌...</td>\n",
       "      <td>1</td>\n",
       "    </tr>\n",
       "    <tr>\n",
       "      <th>96</th>\n",
       "      <td>235441027</td>\n",
       "      <td>#分享 老花古董包 LV 方盒子｜Celine 化妝箱</td>\n",
       "      <td>近期購入的兩款古董包 可能因為是新歡 所以都讓我愛不釋手(๑•̀ •́)و✧\\n不過正是古董包的緣故 包況總有些不盡理想的狀況 帶有小瑕疵的部分 我自己都可以接受\\n為了比較包包的容量 文內有帶到一小部分的what’s in my bag 也有實揹照的部分*ˊᵕˋ\\n\\n\\n\\n𓎘𓎘𓎘 Louis Vuitton monogram 開口笑方盒子\\n（名字是參考小紅書介紹）\\n\\n購入價格：...</td>\n",
       "      <td>近期 購入 款 古董包 新歡 讓 愛不釋手 古董包 緣故 包況 有 些 理想 狀況 帶有 小 瑕疵 部分 接受 包包 容量 文 內 有 帶到 小 部分 有 實 揹照 部分 開口 笑 方 盒子 名字 參考 小紅 書 介紹 購入 價格 購入 方式 代購 賣場 尺寸 公分 容量 暗層 這 款 愛 想 買給 媽媽 當作 生日 禮物 藏 房間 每 天 看 好 喜歡 後來 購入 送給 媽媽 這 款 留...</td>\n",
       "      <td>0</td>\n",
       "    </tr>\n",
       "    <tr>\n",
       "      <th>97</th>\n",
       "      <td>235447320</td>\n",
       "      <td>在公車上遇到的超尷尬事件</td>\n",
       "      <td>剛剛在公車上有一個阿伯下車前跟我說：妹妹你很有愛心欸 讓位置給別人 不像有些人都在裝睡\\n講完這句話還瞄了一眼旁邊的女生\\n我當下就笑笑的\\n可是阿伯\\n那個女生\\n-\\n-\\n-\\n是我朋友(^_^;)\\n幸好阿伯講完就下車了⋯\\nhttps://i.imgur.com/htuMwVw.jpg</td>\n",
       "      <td>公車 上 有 個 阿伯 下車 前 說 妹妹 有 愛心 讓 位置 給 有 些 人 裝睡 講完 這 句 話 瞄 眼 旁邊 女生 笑笑 阿伯 那 個 女生 朋友 阿伯 講完 下車</td>\n",
       "      <td>2</td>\n",
       "    </tr>\n",
       "    <tr>\n",
       "      <th>98</th>\n",
       "      <td>235440749</td>\n",
       "      <td>#大眾占卜 🥺。他現在對我的想法是?他的下一步是什麼?我能為這段關係做什麼樣的努力❣</td>\n",
       "      <td>大家好這裡是金魚🙏\\n這次的占卜適合斷聯、曖昧、復合的族群\\n\\n再上圖之前先置入我的IG\\nhttps://www.instagram.com/goldenfishtarot\\n\\n【大眾占卜集合多人能量請選擇有感應的部分聆聽即可】\\n喜歡有聲版請點連結\\n喜歡文字下面附上文案\\nhttps://youtu.be/xkJHmyl_M7g\\n\\nhttps://i.imgur.com/Ux...</td>\n",
       "      <td>好 這裡 金魚 這 次 占卜 適合 斷聯 曖昧 復合 族群 上 圖 之前 置入 占卜 集合 多 人 能量 請 選擇 有 感應 部分 聆聽 喜歡 請 點 連結 喜歡 文字 下面 附上 文案 組 這 個 對象 之前 感情 坎坷 劈腿 騙 錢 這 有 可能 關 久 遇見 願意 心房 打開 相處 過程 中 知道 什麼 無私 愛 這 種 感情 原生 家庭 感受到 防備 讓 受傷 熱情 有 正向 感染...</td>\n",
       "      <td>1</td>\n",
       "    </tr>\n",
       "    <tr>\n",
       "      <th>99</th>\n",
       "      <td>235442177</td>\n",
       "      <td>所以，你要當我女朋友嗎？</td>\n",
       "      <td>「所以，你要當我女朋友嗎？」我看進她的眼睛，隱約反射出自己的倒影。躺在床上的我們呼吸有些紊亂，午後的陽光肆無忌憚的灑在身上，有點溫暖。\\n\\n我們的故事，從英國開始。\\n\\n\\n大學畢業後我跑到英國念碩士，人生地不熟的地方，一個認識的人也沒有，頭幾週的生活常常是一個人吃飯、逛街、看劇度過，再加上那時還沒走出前女友劈腿的陰影，那段時間說實在還滿煎熬的。\\n\\n幸好後來認識了跟我住在同個宿舍的...</td>\n",
       "      <td>當 女朋友 看進 眼睛 反射出 倒影 躺 床 上 呼吸 紊亂 午後 陽光 肆無忌憚 灑 身 上 溫暖 故事 英國 開始 大學 畢業 後 跑到 英國 念 碩士 人生地不熟 地方 個 認識 人 沒有 週 生活 個 人 吃飯 逛街 看劇 度過 加上 那時 走出 前 女友 劈腿 陰影 那 段 時間 說 實在 煎熬 後來 認識 住在 同 個 宿舍 台灣人 知道 身邊 有 有 這樣 朋友 人脈 感覺 ...</td>\n",
       "      <td>3</td>\n",
       "    </tr>\n",
       "  </tbody>\n",
       "</table>\n",
       "</div>"
      ],
      "text/plain": [
       "           ID                                                 title  \\\n",
       "90  235444293                                                球場上端火鍋   \n",
       "91  235442238                                            #問 特殊形狀美妝蛋   \n",
       "92  235446475                                            問這個很漂亮的人是誰   \n",
       "93  235443651                                        更）市北這樣是偷偷放榜嗎⋯⋯   \n",
       "94  235445249                                           女友有罪惡感（微西斯）   \n",
       "95  235444562  主題：💟愛情塔羅💟 他要的感情關係vs 我要的感情關係為何？兩個人的近期發展（曖昧/交往中/斷聯/復合）   \n",
       "96  235441027                           #分享 老花古董包 LV 方盒子｜Celine 化妝箱   \n",
       "97  235447320                                          在公車上遇到的超尷尬事件   \n",
       "98  235440749            #大眾占卜 🥺。他現在對我的想法是?他的下一步是什麼?我能為這段關係做什麼樣的努力❣   \n",
       "99  235442177                                          所以，你要當我女朋友嗎？   \n",
       "\n",
       "                                                                                                                                                                                                    content  \\\n",
       "90                                                                                                   https://www.dcard.tw/v2/vivid/videos/7d1d1171-e0c7-4225-9e07-517ee6b898ab?r=0.7625\\n幹真的不是套好的嗎XDDD\\n笑到瘋   \n",
       "91                                                                                                     https://i.imgur.com/PxSaXkZ.jpg\\nhttps://i.imgur.com/Tq1GPx8.jpg\\n小紅書上好多好可愛的美妝蛋\\n被燒到不行\\n想請問各位水水有用過嗎？   \n",
       "92                                                                                                                                         最近的合作舞台，剛好三團都沒什麼在追，想問板上的各位這位是誰🙏\\nhttps://i.imgur.com/gPVxus5.jpg   \n",
       "93  我有一一看完大家的回覆了\\n謝謝很多戰友或是其他朋友的加油\\n也看到有通過市北初試的留言\\n真的很恭喜\\n希望你可以唸到自己想唸的事物\\n唸輔導諮商向來是自己的夢想\\n我從指考填志願時與這個領域錯過之後也還是很努力的想擠身進去\\n我覺得我已經盡我所能\\n若結果還是不如預期\\n那真的就是真的不適合吧\\n期許自己能遇到自己喜歡以及適合自己的地方\\n不管是研究所或工作都是\\n——————————...   \n",
       "94  前幾天跟女友做了  做完之後他哭了  我趕緊安撫他的情緒  並詢問說是不是我弄痛你了  他跟我說是因為怕如果父母知道的話會對他失望所以他有罪惡感（女友父母有跟他說要等結婚之後才可以做  不可以隨便給別人）我跟他說每個人本來就都有慾望  你不要太自責\\n\\n我跟女友都是對方的第一任  我們已經交往了快三年直到前一陣子才做  但這次並不是第一次  上個月的時侯我就有戴在外面磨一磨然後不小心滑進...   \n",
       "95  🤗感謝我們之間的連結帶領你來到這裡！ \\n\\n主題：💟愛情塔羅💟 他要的感情關係vs 我要的感情關係為何？兩個人的近期發展（曖昧/交往中/斷聯/復合）\\n\\n本次的大眾占卜適合處在曖昧、交往中、剛斷聯、分手、期待的你，有時候一份感情的重要核心正是在於雙方要的是不是一樣的東西，不見得得要完全相同，但至少如果理解彼此的感情需求，在相處上也能夠更融洽嘍！\\n\\n⭐️請閉上眼睛，深呼吸，腦子專心裡...   \n",
       "96  近期購入的兩款古董包 可能因為是新歡 所以都讓我愛不釋手(๑•̀ •́)و✧\\n不過正是古董包的緣故 包況總有些不盡理想的狀況 帶有小瑕疵的部分 我自己都可以接受\\n為了比較包包的容量 文內有帶到一小部分的what’s in my bag 也有實揹照的部分*ˊᵕˋ\\n\\n\\n\\n𓎘𓎘𓎘 Louis Vuitton monogram 開口笑方盒子\\n（名字是參考小紅書介紹）\\n\\n購入價格：...   \n",
       "97                                                     剛剛在公車上有一個阿伯下車前跟我說：妹妹你很有愛心欸 讓位置給別人 不像有些人都在裝睡\\n講完這句話還瞄了一眼旁邊的女生\\n我當下就笑笑的\\n可是阿伯\\n那個女生\\n-\\n-\\n-\\n是我朋友(^_^;)\\n幸好阿伯講完就下車了⋯\\nhttps://i.imgur.com/htuMwVw.jpg   \n",
       "98  大家好這裡是金魚🙏\\n這次的占卜適合斷聯、曖昧、復合的族群\\n\\n再上圖之前先置入我的IG\\nhttps://www.instagram.com/goldenfishtarot\\n\\n【大眾占卜集合多人能量請選擇有感應的部分聆聽即可】\\n喜歡有聲版請點連結\\n喜歡文字下面附上文案\\nhttps://youtu.be/xkJHmyl_M7g\\n\\nhttps://i.imgur.com/Ux...   \n",
       "99  「所以，你要當我女朋友嗎？」我看進她的眼睛，隱約反射出自己的倒影。躺在床上的我們呼吸有些紊亂，午後的陽光肆無忌憚的灑在身上，有點溫暖。\\n\\n我們的故事，從英國開始。\\n\\n\\n大學畢業後我跑到英國念碩士，人生地不熟的地方，一個認識的人也沒有，頭幾週的生活常常是一個人吃飯、逛街、看劇度過，再加上那時還沒走出前女友劈腿的陰影，那段時間說實在還滿煎熬的。\\n\\n幸好後來認識了跟我住在同個宿舍的...   \n",
       "\n",
       "                                                                                                                                                                                                 Normalized  \\\n",
       "90                                                                                                                                                                                                   套好 笑 瘋   \n",
       "91                                                                                                                                                                        小紅 書 上 好多 可愛 美妝蛋 燒 不行 想 請問 水水 有 用   \n",
       "92                                                                                                                                                                            最近 合作 舞台 團 沒 什麼 追 想 問 板 上 這 位   \n",
       "93  有 看完 回覆 謝謝 很多 戰友 其他 朋友 加油 看到 有 通過 市北 初試 留言 恭喜 希望 唸到 想 唸 事物 唸 輔導 諮商 夢想 指考 填 志願 時 這 個 領域 錯過 之後 努力 想 擠 身 進去 覺得 盡 能 結果 不如 預期 那 適合 期許 遇到 喜歡 適合 地方 研究所 工作 正文 開始 手賤 登入 市北 招生 系統 看到 這 個 複試 名單 明天 星期二 出來 這 個 ...   \n",
       "94  前 天 女友 做 做完 之後 哭 安撫 情緒 詢問 說 弄痛 說 怕 父母 知道 失望 有 罪惡感 女友 父母 有 說 等 結婚 之後 做 隨便 說 每 個 人 有 慾望 自責 女友 任 交往 三 年 前 一陣子 做 這 次 次 上 個 月 時侯 有 戴 外面 磨 磨 小心 滑進去 這 次 個 出去 住 弄 弄 之後 說 想要 進去 想 住 外面 怕 聽到 主動 之前 說 想要 導致 有 ...   \n",
       "95  感謝 之間 連結 帶領 來到 這裡 主題 愛情 塔羅 感情 關係 感情 關係 何 個 人 近期 發展 曖昧 交往 中 斷聯 復合 本 次 占卜 適合 處在 曖昧 交往 中 斷聯 分手 期待 份 感情 重要 核心 在於 一樣 東西 相同 理解 感情 需求 相處 上 融洽 請 閉上 眼睛 深呼吸 腦子 專心 裡 想 感情 關係 什麼 相同 想想 樣子 有 個 人 相處 點滴 張開 眼睛 組 牌...   \n",
       "96  近期 購入 款 古董包 新歡 讓 愛不釋手 古董包 緣故 包況 有 些 理想 狀況 帶有 小 瑕疵 部分 接受 包包 容量 文 內 有 帶到 小 部分 有 實 揹照 部分 開口 笑 方 盒子 名字 參考 小紅 書 介紹 購入 價格 購入 方式 代購 賣場 尺寸 公分 容量 暗層 這 款 愛 想 買給 媽媽 當作 生日 禮物 藏 房間 每 天 看 好 喜歡 後來 購入 送給 媽媽 這 款 留...   \n",
       "97                                                                                                                   公車 上 有 個 阿伯 下車 前 說 妹妹 有 愛心 讓 位置 給 有 些 人 裝睡 講完 這 句 話 瞄 眼 旁邊 女生 笑笑 阿伯 那 個 女生 朋友 阿伯 講完 下車   \n",
       "98  好 這裡 金魚 這 次 占卜 適合 斷聯 曖昧 復合 族群 上 圖 之前 置入 占卜 集合 多 人 能量 請 選擇 有 感應 部分 聆聽 喜歡 請 點 連結 喜歡 文字 下面 附上 文案 組 這 個 對象 之前 感情 坎坷 劈腿 騙 錢 這 有 可能 關 久 遇見 願意 心房 打開 相處 過程 中 知道 什麼 無私 愛 這 種 感情 原生 家庭 感受到 防備 讓 受傷 熱情 有 正向 感染...   \n",
       "99  當 女朋友 看進 眼睛 反射出 倒影 躺 床 上 呼吸 紊亂 午後 陽光 肆無忌憚 灑 身 上 溫暖 故事 英國 開始 大學 畢業 後 跑到 英國 念 碩士 人生地不熟 地方 個 認識 人 沒有 週 生活 個 人 吃飯 逛街 看劇 度過 加上 那時 走出 前 女友 劈腿 陰影 那 段 時間 說 實在 煎熬 後來 認識 住在 同 個 宿舍 台灣人 知道 身邊 有 有 這樣 朋友 人脈 感覺 ...   \n",
       "\n",
       "    ClusterLabels  \n",
       "90              2  \n",
       "91              0  \n",
       "92              2  \n",
       "93              1  \n",
       "94              0  \n",
       "95              1  \n",
       "96              0  \n",
       "97              2  \n",
       "98              1  \n",
       "99              3  "
      ]
     },
     "execution_count": 27,
     "metadata": {},
     "output_type": "execute_result"
    }
   ],
   "source": [
    "from sklearn.cluster import KMeans\n",
    "\n",
    "km = KMeans(n_clusters=num_of_topic, random_state=0)\n",
    "km.fit_transform(features)\n",
    "cluster_labels = km.labels_\n",
    "corpus_df2['ClusterLabels'] = cluster_labels\n",
    "corpus_df2.tail(10)"
   ]
  },
  {
   "cell_type": "code",
   "execution_count": 28,
   "metadata": {
    "tags": [
     "remove-input",
     "remove-output"
    ]
   },
   "outputs": [
    {
     "name": "stderr",
     "output_type": "stream",
     "text": [
      "/Users/alvinchen/opt/anaconda3/envs/python-notes/lib/python3.7/site-packages/ipykernel/ipkernel.py:287: DeprecationWarning: `should_run_async` will not call `transform_cell` automatically in the future. Please pass the result to `transformed_cell` argument and any exception that happen during thetransform in `preprocessing_exc_tuple` in IPython 7.17 and above.\n",
      "  and should_run_async(code)\n"
     ]
    },
    {
     "data": {
      "text/plain": [
       "array([1, 0, 1, 1, 3, 1, 0, 1, 0, 1, 2, 1, 1, 1, 2, 1, 0, 1, 1, 1, 0, 1,\n",
       "       1, 3, 0, 1, 1, 1, 1, 1, 0, 3, 1, 0, 2, 1, 1, 1, 0, 1, 3, 1, 2, 0,\n",
       "       3, 1, 2, 2, 1, 2, 0, 2, 1, 1, 1, 1, 2, 2, 1, 1, 2, 1, 1, 2, 1, 3,\n",
       "       3, 1, 0, 0, 3, 0, 0, 3, 3, 3, 3, 2, 1, 2, 2, 0, 2, 0, 1, 2, 2, 1,\n",
       "       1, 2, 0, 2, 1, 0, 1, 0, 2, 1, 3], dtype=int32)"
      ]
     },
     "execution_count": 28,
     "metadata": {},
     "output_type": "execute_result"
    }
   ],
   "source": [
    "cluster_labels"
   ]
  },
  {
   "cell_type": "markdown",
   "metadata": {
    "tags": [
     "remove-input",
     "remove-output"
    ]
   },
   "source": [
    "### Grid Search for Topic Number"
   ]
  },
  {
   "cell_type": "code",
   "execution_count": 29,
   "metadata": {
    "tags": [
     "remove-input",
     "remove-output"
    ]
   },
   "outputs": [
    {
     "name": "stderr",
     "output_type": "stream",
     "text": [
      "/Users/alvinchen/opt/anaconda3/envs/python-notes/lib/python3.7/site-packages/ipykernel/ipkernel.py:287: DeprecationWarning: `should_run_async` will not call `transform_cell` automatically in the future. Please pass the result to `transformed_cell` argument and any exception that happen during thetransform in `preprocessing_exc_tuple` in IPython 7.17 and above.\n",
      "  and should_run_async(code)\n",
      "[Parallel(n_jobs=-1)]: Using backend LokyBackend with 16 concurrent workers.\n"
     ]
    },
    {
     "name": "stdout",
     "output_type": "stream",
     "text": [
      "Fitting 5 folds for each of 6 candidates, totalling 30 fits\n"
     ]
    },
    {
     "name": "stderr",
     "output_type": "stream",
     "text": [
      "[Parallel(n_jobs=-1)]: Done  30 out of  30 | elapsed:    1.0s remaining:    0.0s\n",
      "[Parallel(n_jobs=-1)]: Done  30 out of  30 | elapsed:    1.0s finished\n"
     ]
    },
    {
     "name": "stdout",
     "output_type": "stream",
     "text": [
      "Best Model's Params:  {'n_components': 3}\n",
      "Best Log Likelihood Score:  -8347.914065184827\n",
      "CPU times: user 376 ms, sys: 5.26 ms, total: 381 ms\n",
      "Wall time: 1.36 s\n"
     ]
    }
   ],
   "source": [
    "%%time\n",
    "from sklearn.decomposition import LatentDirichletAllocation\n",
    "from sklearn.model_selection import GridSearchCV\n",
    "\n",
    "# Options to try with our LDA\n",
    "# Beware it will try *all* of the combinations, so it'll take ages\n",
    "search_params = {\n",
    "  'n_components': [3,4,5,6,7,8],\n",
    "#  'learning_decay': [.5, .7]\n",
    "}\n",
    "\n",
    "# Set up LDA with the options we'll keep static\n",
    "model = LatentDirichletAllocation(learning_method='online')\n",
    "\n",
    "# Try all of the options\n",
    "gridsearch = GridSearchCV(model, param_grid=search_params, n_jobs=-1, verbose=1)\n",
    "gridsearch.fit(cv_matrix)\n",
    "\n",
    "# What did we find?\n",
    "print(\"Best Model's Params: \", gridsearch.best_params_)\n",
    "print(\"Best Log Likelihood Score: \", gridsearch.best_score_)"
   ]
  },
  {
   "cell_type": "code",
   "execution_count": 30,
   "metadata": {
    "tags": [
     "remove-input",
     "remove-output"
    ]
   },
   "outputs": [
    {
     "name": "stderr",
     "output_type": "stream",
     "text": [
      "/Users/alvinchen/opt/anaconda3/envs/python-notes/lib/python3.7/site-packages/ipykernel/ipkernel.py:287: DeprecationWarning: `should_run_async` will not call `transform_cell` automatically in the future. Please pass the result to `transformed_cell` argument and any exception that happen during thetransform in `preprocessing_exc_tuple` in IPython 7.17 and above.\n",
      "  and should_run_async(code)\n"
     ]
    },
    {
     "name": "stdout",
     "output_type": "stream",
     "text": [
      "Topic 0: 知道 蛋糕 電話 開始 男友 故事 後來 工作 台灣 時間\n",
      "Topic 1: 衣服 穿搭 洋裝 草莓 包包 朋友 鞋子 謝謝 覺得 這樣\n",
      "Topic 2: 什麼 時候 覺得 這樣 開始 現在 感情 看到 朋友 關係\n",
      "Topic 3: 覺得 分享 當時 東西 發現 什麼 唇膏 喜歡 顏色 小孩\n",
      "Topic 4: 看到 眼影 部分 今天 影片 腮紅 一下 喜歡 分享 覺得\n",
      "Topic 5: 覺得 這樣 成員 公司 男生 現在 希望 粉底 最近 其他\n",
      "CPU times: user 192 ms, sys: 16.6 ms, total: 209 ms\n",
      "Wall time: 218 ms\n"
     ]
    }
   ],
   "source": [
    "%%time\n",
    "\n",
    "from sklearn.decomposition import LatentDirichletAllocation\n",
    "\n",
    "# Use LDA to look for 5 topics\n",
    "n_topics = 6\n",
    "model = LatentDirichletAllocation(learning_method='online', n_components=n_topics, n_jobs=-1)\n",
    "dt_matrix = model.fit_transform(cv_matrix)\n",
    "\n",
    "# Print the top 10 words per topic\n",
    "n_words = 10\n",
    "feature_names = cv.get_feature_names()\n",
    "\n",
    "topic_list = []\n",
    "for topic_idx, topic in enumerate(model.components_):\n",
    "    top_n = [feature_names[i]\n",
    "             for i in topic.argsort()\n",
    "             [-n_words:]][::-1]\n",
    "    top_features = ' '.join(top_n)\n",
    "    topic_list.append(f\"topic_{'_'.join(top_n[:3])}\") \n",
    "\n",
    "    print(f\"Topic {topic_idx}: {top_features}\")\n"
   ]
  },
  {
   "cell_type": "code",
   "execution_count": 31,
   "metadata": {
    "tags": [
     "remove-input",
     "remove-output"
    ]
   },
   "outputs": [
    {
     "name": "stderr",
     "output_type": "stream",
     "text": [
      "/Users/alvinchen/opt/anaconda3/envs/python-notes/lib/python3.7/site-packages/ipykernel/ipkernel.py:287: DeprecationWarning: `should_run_async` will not call `transform_cell` automatically in the future. Please pass the result to `transformed_cell` argument and any exception that happen during thetransform in `preprocessing_exc_tuple` in IPython 7.17 and above.\n",
      "  and should_run_async(code)\n"
     ]
    }
   ],
   "source": [
    "# Set it up as a dataframe\n",
    "features = pd.DataFrame(dt_matrix, columns = [\"T\"+str(n) for n in range(1,n_topics+1)])"
   ]
  },
  {
   "cell_type": "code",
   "execution_count": 32,
   "metadata": {
    "scrolled": true,
    "tags": [
     "remove-input",
     "remove-output"
    ]
   },
   "outputs": [
    {
     "name": "stderr",
     "output_type": "stream",
     "text": [
      "/Users/alvinchen/opt/anaconda3/envs/python-notes/lib/python3.7/site-packages/ipykernel/ipkernel.py:287: DeprecationWarning: `should_run_async` will not call `transform_cell` automatically in the future. Please pass the result to `transformed_cell` argument and any exception that happen during thetransform in `preprocessing_exc_tuple` in IPython 7.17 and above.\n",
      "  and should_run_async(code)\n"
     ]
    },
    {
     "data": {
      "text/plain": [
       "<matplotlib.legend.Legend at 0x7fb842874b38>"
      ]
     },
     "execution_count": 32,
     "metadata": {},
     "output_type": "execute_result"
    },
    {
     "data": {
      "image/png": "[encoded data removed]",
      "text/plain": [
       "<Figure size 720x360 with 1 Axes>"
      ]
     },
     "metadata": {
      "needs_background": "light"
     },
     "output_type": "display_data"
    }
   ],
   "source": [
    "x_axis = corpus_df2.index\n",
    "y_axis = features\n",
    "\n",
    "fig, ax = plt.subplots(figsize=(10,5))\n",
    "\n",
    "# Plot a stackplot - https://matplotlib.org/3.1.1/gallery/lines_bars_and_markers/stackplot_demo.html\n",
    "ax.stackplot(x_axis, y_axis.T, baseline='wiggle', labels=y_axis.columns)\n",
    "\n",
    "# Move the legend off of the chart\n",
    "ax.legend(loc=(1.04,0))"
   ]
  },
  {
   "cell_type": "code",
   "execution_count": 33,
   "metadata": {
    "tags": [
     "remove-input",
     "remove-output"
    ]
   },
   "outputs": [
    {
     "name": "stderr",
     "output_type": "stream",
     "text": [
      "/Users/alvinchen/opt/anaconda3/envs/python-notes/lib/python3.7/site-packages/ipykernel/ipkernel.py:287: DeprecationWarning: `should_run_async` will not call `transform_cell` automatically in the future. Please pass the result to `transformed_cell` argument and any exception that happen during thetransform in `preprocessing_exc_tuple` in IPython 7.17 and above.\n",
      "  and should_run_async(code)\n"
     ]
    }
   ],
   "source": [
    "from tmtoolkit.topicmod.evaluate import metric_coherence_gensim"
   ]
  },
  {
   "cell_type": "code",
   "execution_count": 34,
   "metadata": {
    "tags": [
     "remove-input",
     "remove-output"
    ]
   },
   "outputs": [
    {
     "name": "stderr",
     "output_type": "stream",
     "text": [
      "/Users/alvinchen/opt/anaconda3/envs/python-notes/lib/python3.7/site-packages/ipykernel/ipkernel.py:287: DeprecationWarning: `should_run_async` will not call `transform_cell` automatically in the future. Please pass the result to `transformed_cell` argument and any exception that happen during thetransform in `preprocessing_exc_tuple` in IPython 7.17 and above.\n",
      "  and should_run_async(code)\n"
     ]
    },
    {
     "data": {
      "text/plain": [
       "array([[8.49582379, 4.52772043, 7.48770036, ..., 0.31483115, 1.1311762 ,\n",
       "        0.32507559],\n",
       "       [1.93607657, 4.46877838, 0.36138032, ..., 0.33626278, 1.21153257,\n",
       "        4.41269208],\n",
       "       [8.81095816, 5.58759511, 0.36069879, ..., 1.95370213, 1.12009182,\n",
       "        0.40042778],\n",
       "       [4.36357876, 2.08944413, 0.36780104, ..., 1.16027289, 0.36138835,\n",
       "        1.13049407],\n",
       "       [8.51098995, 1.16156096, 1.98328365, ..., 0.30378938, 1.10104461,\n",
       "        1.12660272],\n",
       "       [2.12962293, 1.82097317, 0.33782667, ..., 0.31385082, 0.31352604,\n",
       "        3.48763459]])"
      ]
     },
     "execution_count": 34,
     "metadata": {},
     "output_type": "execute_result"
    }
   ],
   "source": [
    "model.components_"
   ]
  },
  {
   "cell_type": "code",
   "execution_count": 35,
   "metadata": {
    "tags": [
     "remove-input",
     "remove-output"
    ]
   },
   "outputs": [
    {
     "name": "stderr",
     "output_type": "stream",
     "text": [
      "/Users/alvinchen/opt/anaconda3/envs/python-notes/lib/python3.7/site-packages/ipykernel/ipkernel.py:287: DeprecationWarning: `should_run_async` will not call `transform_cell` automatically in the future. Please pass the result to `transformed_cell` argument and any exception that happen during thetransform in `preprocessing_exc_tuple` in IPython 7.17 and above.\n",
      "  and should_run_async(code)\n"
     ]
    }
   ],
   "source": [
    "# # lda_model - LatentDirichletAllocation()\n",
    "# # vect - CountVectorizer()\n",
    "# # texts - the list of tokenized words\n",
    "# norm_corpus\n",
    "# norm_corpus_tokens = [doc.split() for doc in norm_corpus]\n",
    "\n",
    "\n",
    "# metric_coherence_gensim(measure='c_v', \n",
    "#                         top_n=5, \n",
    "#                         topic_word_distrib= model.components_, \n",
    "#                         dtm=cv.fit_transform(norm_corpus), \n",
    "#                         vocab=np.array(cv.get_feature_names()), \n",
    "#                         texts=norm_corpus_tokens)"
   ]
  },
  {
   "cell_type": "code",
   "execution_count": 36,
   "metadata": {
    "tags": [
     "remove-input",
     "remove-output"
    ]
   },
   "outputs": [
    {
     "name": "stderr",
     "output_type": "stream",
     "text": [
      "/Users/alvinchen/opt/anaconda3/envs/python-notes/lib/python3.7/site-packages/ipykernel/ipkernel.py:287: DeprecationWarning: `should_run_async` will not call `transform_cell` automatically in the future. Please pass the result to `transformed_cell` argument and any exception that happen during thetransform in `preprocessing_exc_tuple` in IPython 7.17 and above.\n",
      "  and should_run_async(code)\n"
     ]
    },
    {
     "name": "stdout",
     "output_type": "stream",
     "text": [
      "2\n"
     ]
    },
    {
     "name": "stderr",
     "output_type": "stream",
     "text": [
      "/Users/alvinchen/opt/anaconda3/envs/python-notes/lib/python3.7/site-packages/scipy/sparse/sparsetools.py:21: DeprecationWarning: `scipy.sparse.sparsetools` is deprecated!\n",
      "scipy.sparse.sparsetools is a private module for scipy.sparse, and should not be used.\n",
      "  _deprecated()\n"
     ]
    },
    {
     "name": "stdout",
     "output_type": "stream",
     "text": [
      "3\n",
      "4\n",
      "5\n",
      "6\n",
      "7\n",
      "8\n",
      "9\n",
      "CPU times: user 2min 9s, sys: 12.1 s, total: 2min 21s\n",
      "Wall time: 2min 18s\n"
     ]
    },
    {
     "data": {
      "text/html": [
       "<div>\n",
       "<style scoped>\n",
       "    .dataframe tbody tr th:only-of-type {\n",
       "        vertical-align: middle;\n",
       "    }\n",
       "\n",
       "    .dataframe tbody tr th {\n",
       "        vertical-align: top;\n",
       "    }\n",
       "\n",
       "    .dataframe thead th {\n",
       "        text-align: right;\n",
       "    }\n",
       "</style>\n",
       "<table border=\"1\" class=\"dataframe\">\n",
       "  <thead>\n",
       "    <tr style=\"text-align: right;\">\n",
       "      <th></th>\n",
       "      <th>TOPIC_NUMBER</th>\n",
       "      <th>COHERENCE_SCORE</th>\n",
       "    </tr>\n",
       "  </thead>\n",
       "  <tbody>\n",
       "    <tr>\n",
       "      <th>4</th>\n",
       "      <td>6</td>\n",
       "      <td>0.57030</td>\n",
       "    </tr>\n",
       "    <tr>\n",
       "      <th>0</th>\n",
       "      <td>2</td>\n",
       "      <td>0.52050</td>\n",
       "    </tr>\n",
       "    <tr>\n",
       "      <th>7</th>\n",
       "      <td>9</td>\n",
       "      <td>0.50830</td>\n",
       "    </tr>\n",
       "    <tr>\n",
       "      <th>1</th>\n",
       "      <td>3</td>\n",
       "      <td>0.46030</td>\n",
       "    </tr>\n",
       "    <tr>\n",
       "      <th>2</th>\n",
       "      <td>4</td>\n",
       "      <td>0.45760</td>\n",
       "    </tr>\n",
       "    <tr>\n",
       "      <th>3</th>\n",
       "      <td>5</td>\n",
       "      <td>0.44900</td>\n",
       "    </tr>\n",
       "    <tr>\n",
       "      <th>5</th>\n",
       "      <td>7</td>\n",
       "      <td>0.44880</td>\n",
       "    </tr>\n",
       "    <tr>\n",
       "      <th>6</th>\n",
       "      <td>8</td>\n",
       "      <td>0.39560</td>\n",
       "    </tr>\n",
       "  </tbody>\n",
       "</table>\n",
       "</div>"
      ],
      "text/plain": [
       "  TOPIC_NUMBER  COHERENCE_SCORE\n",
       "4            6          0.57030\n",
       "0            2          0.52050\n",
       "7            9          0.50830\n",
       "1            3          0.46030\n",
       "2            4          0.45760\n",
       "3            5          0.44900\n",
       "5            7          0.44880\n",
       "6            8          0.39560"
      ]
     },
     "execution_count": 36,
     "metadata": {},
     "output_type": "execute_result"
    }
   ],
   "source": [
    "%%time\n",
    "\n",
    "import tmtoolkit\n",
    "from tmtoolkit.topicmod.evaluate import metric_coherence_gensim\n",
    "def topic_model_coherence_generator(topic_num_start=2,\n",
    "                                    topic_num_end=6,\n",
    "                                    norm_corpus='',\n",
    "                                    cv_matrix='',\n",
    "                                    cv=''):\n",
    "    norm_corpus_tokens = [doc.split() for doc in norm_corpus]\n",
    "    models = []\n",
    "    coherence_scores = []\n",
    "\n",
    "    for i in range(topic_num_start, topic_num_end):\n",
    "        print(i)\n",
    "        cur_lda = LatentDirichletAllocation(n_components=i,\n",
    "                                            max_iter=1000,\n",
    "                                            random_state=0,\n",
    "                                           learning_method=\"online\",\n",
    "                                           n_jobs=-1)\n",
    "        cur_lda.fit_transform(cv_matrix)\n",
    "        cur_coherence_score = metric_coherence_gensim(\n",
    "            measure='c_v',\n",
    "            top_n=5,\n",
    "            topic_word_distrib=cur_lda.components_,\n",
    "            dtm=cv.fit_transform(norm_corpus),\n",
    "            vocab=np.array(cv.get_feature_names()),\n",
    "            texts=norm_corpus_tokens)\n",
    "        models.append(cur_lda)\n",
    "        coherence_scores.append(np.mean(cur_coherence_score))\n",
    "    return models, coherence_scores\n",
    "\n",
    "\n",
    "ts = 2\n",
    "te = 10\n",
    "models, coherence_scores = topic_model_coherence_generator(\n",
    "    ts, te, norm_corpus=norm_corpus, cv=cv, cv_matrix=cv_matrix)\n",
    "\n",
    "coherence_df = pd.DataFrame({\n",
    "    'TOPIC_NUMBER': [str(i) for i in range(ts, te)],\n",
    "    'COHERENCE_SCORE': np.round(coherence_scores, 4)\n",
    "})\n",
    "\n",
    "coherence_df.sort_values(by=[\"COHERENCE_SCORE\"], ascending=False)"
   ]
  },
  {
   "cell_type": "code",
   "execution_count": null,
   "metadata": {
    "tags": [
     "remove-input",
     "remove-output"
    ]
   },
   "outputs": [],
   "source": []
  },
  {
   "cell_type": "code",
   "execution_count": 38,
   "metadata": {
    "tags": [
     "remove-input",
     "remove-output"
    ]
   },
   "outputs": [
    {
     "name": "stderr",
     "output_type": "stream",
     "text": [
      "/Users/alvinchen/opt/anaconda3/envs/python-notes/lib/python3.7/site-packages/ipykernel/ipkernel.py:287: DeprecationWarning: `should_run_async` will not call `transform_cell` automatically in the future. Please pass the result to `transformed_cell` argument and any exception that happen during thetransform in `preprocessing_exc_tuple` in IPython 7.17 and above.\n"
     ]
    },
    {
     "data": {
      "image/png": "[encoded data removed]",
      "text/plain": [
       "<Figure size 960x720 with 1 Axes>"
      ]
     },
     "metadata": {},
     "output_type": "display_data"
    },
    {
     "data": {
      "text/plain": [
       "<ggplot: (8776832969399)>"
      ]
     },
     "execution_count": 38,
     "metadata": {},
     "output_type": "execute_result"
    }
   ],
   "source": [
    "import plotnine\n",
    "from plotnine import ggplot, aes, geom_point, geom_line, labs\n",
    "plotnine.options.dpi = 150\n",
    "\n",
    "g = (ggplot(coherence_df) + aes(x=\"TOPIC_NUMBER\", y=\"COHERENCE_SCORE\") +\n",
    "     geom_point(stat=\"identity\") + geom_line(group=1, color=\"lightgrey\") +\n",
    "     labs(x=\"Number of Topics\", y=\"Average Coherence Score\"))\n",
    "g"
   ]
  }
 ],
 "metadata": {
  "celltoolbar": "Tags",
  "kernelspec": {
   "display_name": "python-notes",
   "language": "python",
   "name": "python-notes"
  },
  "language_info": {
   "codemirror_mode": {
    "name": "ipython",
    "version": 3
   },
   "file_extension": ".py",
   "mimetype": "text/x-python",
   "name": "python",
   "nbconvert_exporter": "python",
   "pygments_lexer": "ipython3",
   "version": "3.7.0"
  },
  "toc": {
   "base_numbering": 1,
   "nav_menu": {},
   "number_sections": false,
   "sideBar": true,
   "skip_h1_title": false,
   "title_cell": "Table of Contents",
   "title_sidebar": "Contents",
   "toc_cell": false,
   "toc_position": {
    "height": "calc(100% - 180px)",
    "left": "10px",
    "top": "150px",
    "width": "256px"
   },
   "toc_section_display": true,
   "toc_window_display": true
  },
  "varInspector": {
   "cols": {
    "lenName": 16,
    "lenType": 16,
    "lenVar": 40
   },
   "kernels_config": {
    "python": {
     "delete_cmd_postfix": "",
     "delete_cmd_prefix": "del ",
     "library": "var_list.py",
     "varRefreshCmd": "print(var_dic_list())"
    },
    "r": {
     "delete_cmd_postfix": ") ",
     "delete_cmd_prefix": "rm(",
     "library": "var_list.r",
     "varRefreshCmd": "cat(var_dic_list()) "
    }
   },
   "types_to_exclude": [
    "module",
    "function",
    "builtin_function_or_method",
    "instance",
    "_Feature"
   ],
   "window_display": false
  }
 },
 "nbformat": 4,
 "nbformat_minor": 4
}
