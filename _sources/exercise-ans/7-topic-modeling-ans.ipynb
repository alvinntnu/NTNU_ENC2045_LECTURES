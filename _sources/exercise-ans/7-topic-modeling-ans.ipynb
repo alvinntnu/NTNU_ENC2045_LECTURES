{
 "cells": [
  {
   "cell_type": "markdown",
   "metadata": {},
   "source": [
    "# Assignment VII: Topic Modeling"
   ]
  },
  {
   "cell_type": "markdown",
   "metadata": {},
   "source": [
    "## Question 1\n",
    "\n",
    "Perform an analysis of Topic Modeling on the corpus, `nltk.corpus.movive_reviews`, and provide the topic distributions of the movie reviews. Please report your topic distributions of positive and negative reviews respectively. (But please note that the topic modeling analysis should take the entire corpus as the input.)\n",
    "\n",
    "Some heuristics for data preprocessing/vectorization:\n",
    "\n",
    "- Include in the bag-of-words representation only words whose lengths are >= 3\n",
    "- Include in the bag-of-words representation only words that are nouns (`NN` or `NNS`) or verbs (`VB.`)\n",
    "- Lemmatize all words in the bag-of-words representation using WordNet\n",
    "- Remove words on the stopwords list in `nltk.corpus.stopwords.words('english')`\n",
    "- Play with the `min_df` and `max_df` to find a better structure of CountVectorizer for the topic modeling\n",
    "\n",
    "\n",
    ":::{warning}\n",
    "\n",
    "As this is an unsupervised learning, it is ok if you get different results. Please base your interpretations of the topics by examining closely their respective associated words in your LDA model.\n",
    "\n",
    ":::"
   ]
  },
  {
   "cell_type": "code",
   "execution_count": 1,
   "metadata": {
    "tags": [
     "remove-input",
     "remove-output"
    ]
   },
   "outputs": [],
   "source": [
    "import nltk, random, re\n",
    "from nltk.corpus import movie_reviews\n",
    "import pandas as pd\n",
    "import matplotlib.pyplot as plt\n",
    "import numpy as np"
   ]
  },
  {
   "cell_type": "code",
   "execution_count": 2,
   "metadata": {
    "tags": [
     "remove-input",
     "remove-output"
    ]
   },
   "outputs": [
    {
     "name": "stdout",
     "output_type": "stream",
     "text": [
      "2000\n",
      "['neg', 'pos']\n",
      "['plot', ':', 'two', 'teen', 'couples', 'go', 'to', ...]\n",
      "['neg/cv000_29416.txt', 'neg/cv001_19502.txt', 'neg/cv002_17424.txt', 'neg/cv003_12683.txt', 'neg/cv004_12641.txt', 'neg/cv005_29357.txt', 'neg/cv006_17022.txt', 'neg/cv007_4992.txt', 'neg/cv008_29326.txt', 'neg/cv009_29417.txt']\n",
      "Number of Reviews/Documents: 2000\n",
      "Corpus Size (words): 1583820\n",
      "Sample Text of Doc 1:\n",
      "------------------------------\n",
      "most movies seem to release a third movie just so it can be called a trilogy . rocky iii seems to kind of fit in that category , but manages to be slightly unique . the rocky formula of \" rocky loses fight / rocky trains / rocky wins fight\n",
      "Counter({'pos': 1000, 'neg': 1000})\n"
     ]
    }
   ],
   "source": [
    "print(len(movie_reviews.fileids()))\n",
    "print(movie_reviews.categories())\n",
    "print(movie_reviews.words()[:100])\n",
    "print(movie_reviews.fileids()[:10])\n",
    "documents = [(list(movie_reviews.words(fileid)), category)\n",
    "             for category in movie_reviews.categories()\n",
    "             for fileid in movie_reviews.fileids(category)]\n",
    "random.seed(123)\n",
    "random.shuffle(documents)\n",
    "print('Number of Reviews/Documents: {}'.format(len(documents)))\n",
    "print('Corpus Size (words): {}'.format(np.sum([len(d) for (d,l) in documents])))\n",
    "print('Sample Text of Doc 1:')\n",
    "print('-'*30)\n",
    "print(' '.join(documents[0][0][:50])) # first 50 words of the first document\n",
    "## Check Sentiment Distribution of the Current Dataset\n",
    "from collections import Counter\n",
    "sentiment_distr = Counter([label for (words, label) in documents])\n",
    "print(sentiment_distr)"
   ]
  },
  {
   "cell_type": "code",
   "execution_count": 3,
   "metadata": {
    "tags": [
     "remove-input",
     "remove-output"
    ]
   },
   "outputs": [],
   "source": [
    "## Data Preprocessing\n",
    "\n",
    "\n",
    "## POS Tagging\n",
    "corpus_pos = [nltk.pos_tag(words) for (words,tag) in documents]\n",
    "corpus_sentiment = [tag for (_,tag) in documents]"
   ]
  },
  {
   "cell_type": "code",
   "execution_count": 4,
   "metadata": {
    "tags": [
     "remove-input",
     "remove-output"
    ]
   },
   "outputs": [],
   "source": [
    "## POS Filtering and Word Lengths Cutoff\n",
    "norm_corpus = [[(w,t) for (w,t) in doc if len(w)>=3 and re.match(r'^(VB.+?|NN|NNS)$', t)] for doc in corpus_pos]"
   ]
  },
  {
   "cell_type": "code",
   "execution_count": 5,
   "metadata": {
    "tags": [
     "remove-input",
     "remove-output"
    ]
   },
   "outputs": [
    {
     "data": {
      "text/plain": [
       "[[('movies', 'NNS'),\n",
       "  ('seem', 'VBP'),\n",
       "  ('movie', 'NN'),\n",
       "  ('called', 'VBN'),\n",
       "  ('trilogy', 'NN'),\n",
       "  ('iii', 'NN'),\n",
       "  ('seems', 'VBZ'),\n",
       "  ('kind', 'NN'),\n",
       "  ('fit', 'NN'),\n",
       "  ('category', 'NN'),\n",
       "  ('manages', 'VBZ'),\n",
       "  ('formula', 'NN'),\n",
       "  ('loses', 'NNS'),\n",
       "  ('fight', 'VBD'),\n",
       "  ('trains', 'NNS'),\n",
       "  ('wins', 'NNS'),\n",
       "  ('carried', 'VBN'),\n",
       "  ('letter', 'NN'),\n",
       "  ('tradition', 'NN'),\n",
       "  ('showing', 'VBG'),\n",
       "  ('minutes', 'NNS'),\n",
       "  ('rocky', 'NN'),\n",
       "  ('film', 'NN'),\n",
       "  ('used', 'VBN'),\n",
       "  ('movie', 'NN'),\n",
       "  ('begins', 'VBZ'),\n",
       "  ('series', 'NN'),\n",
       "  ('clips', 'NNS'),\n",
       "  ('showing', 'VBG'),\n",
       "  ('rocky', 'NN'),\n",
       "  ('stallone', 'NN'),\n",
       "  ('has', 'VBZ'),\n",
       "  ('become', 'VBN'),\n",
       "  ('showing', 'VBG'),\n",
       "  ('appearance', 'NN'),\n",
       "  ('street', 'NN'),\n",
       "  ('moves', 'VBZ'),\n",
       "  ('being', 'VBG'),\n",
       "  ('fight', 'NN'),\n",
       "  ('thunderlips', 'NNS'),\n",
       "  ('hogan', 'NN'),\n",
       "  ('ass', 'NN'),\n",
       "  ('known', 'VBN'),\n",
       "  ('clubber', 'NN'),\n",
       "  ('lang', 'NN'),\n",
       "  ('trash', 'NN'),\n",
       "  ('talks', 'NNS'),\n",
       "  ('decision', 'NN'),\n",
       "  ('boxing', 'VBG'),\n",
       "  ('pities', 'VBZ'),\n",
       "  ('fool', 'NN'),\n",
       "  ('coming', 'VBG'),\n",
       "  ('fighting', 'VBG'),\n",
       "  ('trainer', 'NN'),\n",
       "  ('meredith', 'NN'),\n",
       "  ('tells', 'VBZ'),\n",
       "  ('stallion', 'NN'),\n",
       "  ('doesn', 'NN'),\n",
       "  ('listen', 'NN'),\n",
       "  ('gets', 'VBZ'),\n",
       "  ('ass', 'NN'),\n",
       "  ('kicked', 'VBD'),\n",
       "  ('line', 'NN'),\n",
       "  ('things', 'NNS'),\n",
       "  ('happen', 'VBP'),\n",
       "  ('trainer', 'NN'),\n",
       "  ('dies', 'NNS'),\n",
       "  ('causing', 'VBG'),\n",
       "  ('rocky', 'NN'),\n",
       "  ('opponent', 'NN'),\n",
       "  ('apollo', 'NN'),\n",
       "  ('creed', 'NN'),\n",
       "  ('wife', 'NN'),\n",
       "  ('complains', 'NNS'),\n",
       "  ('husband', 'NN'),\n",
       "  ('fight', 'NN'),\n",
       "  ('ensues', 'NNS'),\n",
       "  ('clubber', 'NN'),\n",
       "  ('rocky', 'NN'),\n",
       "  ('guess', 'NN'),\n",
       "  ('wins', 'VBZ'),\n",
       "  ('winner', 'NN'),\n",
       "  ('name', 'NN'),\n",
       "  ('rhymes', 'VBZ'),\n",
       "  ('movie', 'NN'),\n",
       "  ('entertaning', 'VBG'),\n",
       "  ('clubber', 'NN'),\n",
       "  ('lang', 'NN'),\n",
       "  ('performance', 'NN'),\n",
       "  ('aspect', 'NN'),\n",
       "  ('has', 'VBZ'),\n",
       "  ('been', 'VBN'),\n",
       "  ('toned', 'VBN'),\n",
       "  ('action', 'NN'),\n",
       "  ('seems', 'VBZ'),\n",
       "  ('point', 'NN'),\n",
       "  ('film', 'NN'),\n",
       "  ('like', 'VBP'),\n",
       "  ('fighting', 'VBG'),\n",
       "  ('scenes', 'NNS'),\n",
       "  ('match', 'NN'),\n",
       "  ('liked', 'VBD'),\n",
       "  ('films', 'NNS'),\n",
       "  ('rent', 'NN'),\n",
       "  ('seeing', 'VBG'),\n",
       "  ('are', 'VBP'),\n",
       "  ('fan', 'NN'),\n",
       "  ('series', 'NN'),\n",
       "  ('stand', 'VBP'),\n",
       "  ('shouting', 'VBG'),\n",
       "  ('adrianne', 'NN'),\n",
       "  ('time', 'NN'),\n",
       "  ('see', 'VBP'),\n",
       "  ('something', 'NN')]]"
      ]
     },
     "execution_count": 5,
     "metadata": {},
     "output_type": "execute_result"
    }
   ],
   "source": [
    "norm_corpus[:1]"
   ]
  },
  {
   "cell_type": "code",
   "execution_count": 6,
   "metadata": {
    "tags": [
     "remove-input",
     "remove-output"
    ]
   },
   "outputs": [],
   "source": [
    "## Remove Digits and Symbols\n",
    "## Lemmatizae Words\n",
    "\n",
    "from nltk.stem import PorterStemmer, WordNetLemmatizer\n",
    "from nltk.corpus import wordnet\n",
    "stop_words = nltk.corpus.stopwords.words('english')\n",
    "\n",
    "ps=PorterStemmer()\n",
    "wnl = WordNetLemmatizer()\n",
    "\n",
    "def get_wordnet_pos(tag):\n",
    "    if tag.startswith('J'):\n",
    "        return wordnet.ADJ\n",
    "    elif tag.startswith('V'):\n",
    "        return wordnet.VERB\n",
    "    elif tag.startswith('R'):\n",
    "        return wordnet.ADV\n",
    "    return wordnet.NOUN\n",
    "\n",
    "\n",
    "norm_corpus2 = [' '.join([wnl.lemmatize(w, pos = get_wordnet_pos(t[0])) for (w, t) in doc if not re.match(r'[^a-z]+', w) and w not in stop_words]) for doc in norm_corpus]"
   ]
  },
  {
   "cell_type": "code",
   "execution_count": 7,
   "metadata": {
    "tags": [
     "remove-input",
     "remove-output"
    ]
   },
   "outputs": [
    {
     "data": {
      "text/plain": [
       "'movie seem movie call trilogy iii seem kind fit category manage formula loses fight train win carry letter tradition show minute rocky film use movie begin series clip show rocky stallone become show appearance street move fight thunderlips hogan as know clubber lang trash talk decision box pity fool come fight trainer meredith tell stallion listen get as kick line thing happen trainer dy cause rocky opponent apollo creed wife complains husband fight ensues clubber rocky guess win winner name rhyme movie entertaning clubber lang performance aspect tone action seem point film like fight scene match like film rent see fan series stand shout adrianne time see something'"
      ]
     },
     "execution_count": 7,
     "metadata": {},
     "output_type": "execute_result"
    }
   ],
   "source": [
    "norm_corpus2[0]"
   ]
  },
  {
   "cell_type": "code",
   "execution_count": 8,
   "metadata": {
    "tags": [
     "remove-input",
     "remove-output"
    ]
   },
   "outputs": [],
   "source": [
    "# ## normalize corpus\n",
    "# stop_words = nltk.corpus.stopwords.words('english')\n",
    "\n",
    "# def normalize_document(doc):\n",
    "#     # lower case and remove special characters\\whitespaces\n",
    "#     doc = re.sub(r'[^a-zA-Z\\s]', '', doc, re.I|re.A)\n",
    "#     doc = doc.lower()\n",
    "#     doc = doc.strip()\n",
    "#     # tokeanize document\n",
    "#     tokens = wpt.tokenize(doc)\n",
    "#     # filter stopwords out of document\n",
    "#     filtered_tokens = [token for token in tokens if token not in stop_words]\n",
    "#     # re-create document from filtered tokens\n",
    "#     doc = ' '.join(filtered_tokens)\n",
    "#     return doc\n",
    "\n",
    "# normalize_corpus = np.vectorize(normalize_document)\n",
    "# a"
   ]
  },
  {
   "cell_type": "code",
   "execution_count": 9,
   "metadata": {
    "tags": [
     "remove-input",
     "remove-output"
    ]
   },
   "outputs": [
    {
     "data": {
      "text/plain": [
       "['movie seem movie call trilogy iii seem kind fit category manage formula loses fight train win carry letter tradition show minute rocky film use movie begin series clip show rocky stallone become show appearance street move fight thunderlips hogan as know clubber lang trash talk decision box pity fool come fight trainer meredith tell stallion listen get as kick line thing happen trainer dy cause rocky opponent apollo creed wife complains husband fight ensues clubber rocky guess win winner name rhyme movie entertaning clubber lang performance aspect tone action seem point film like fight scene match like film rent see fan series stand shout adrianne time see something',\n",
       " 'happen put lawrence suit life get lawrence coma comedian think get put layer clothing go jogging degree heat end coma happen put lawrence suit movie get audience coma momma house lawrence play agent master disguise naughty man escape jail seek girlfriend nia thing worth look movie flee aunt momma ella mitchell fbi follow order sum money steal bank robbery send man jail momma call emergency sense chance criminal lawrence go momma comedy begin momma house definition gimmick movie plot sum martin lawrence dress woman description script plot chalkboard lawrence woman middle board circle sort clich situation point woman play basketball woman take dump woman kung leave board movie slip coma paul giamatti part negotiator play lawrence partner enjoy work life comedy hell performer planet make material work awful']"
      ]
     },
     "execution_count": 9,
     "metadata": {},
     "output_type": "execute_result"
    }
   ],
   "source": [
    "norm_corpus2[:2]"
   ]
  },
  {
   "cell_type": "code",
   "execution_count": null,
   "metadata": {
    "tags": [
     "remove-input",
     "remove-output"
    ]
   },
   "outputs": [],
   "source": []
  },
  {
   "cell_type": "code",
   "execution_count": 10,
   "metadata": {
    "tags": [
     "remove-input",
     "remove-output"
    ]
   },
   "outputs": [
    {
     "data": {
      "text/plain": [
       "<2000x2671 sparse matrix of type '<class 'numpy.int64'>'\n",
       "\twith 241055 stored elements in Compressed Sparse Row format>"
      ]
     },
     "execution_count": 10,
     "metadata": {},
     "output_type": "execute_result"
    }
   ],
   "source": [
    "from sklearn.feature_extraction.text import CountVectorizer\n",
    "# get bag of words features in sparse format\n",
    "cv = CountVectorizer(min_df=20, max_df=0.6)\n",
    "cv_matrix = cv.fit_transform(norm_corpus2)\n",
    "cv_matrix"
   ]
  },
  {
   "cell_type": "code",
   "execution_count": 11,
   "metadata": {
    "tags": [
     "remove-input",
     "remove-output"
    ]
   },
   "outputs": [
    {
     "data": {
      "text/html": [
       "<div>\n",
       "<style scoped>\n",
       "    .dataframe tbody tr th:only-of-type {\n",
       "        vertical-align: middle;\n",
       "    }\n",
       "\n",
       "    .dataframe tbody tr th {\n",
       "        vertical-align: top;\n",
       "    }\n",
       "\n",
       "    .dataframe thead th {\n",
       "        text-align: right;\n",
       "    }\n",
       "</style>\n",
       "<table border=\"1\" class=\"dataframe\">\n",
       "  <thead>\n",
       "    <tr style=\"text-align: right;\">\n",
       "      <th></th>\n",
       "      <th>abandon</th>\n",
       "      <th>ability</th>\n",
       "      <th>absence</th>\n",
       "      <th>absorb</th>\n",
       "      <th>abuse</th>\n",
       "      <th>abyss</th>\n",
       "      <th>academy</th>\n",
       "      <th>accent</th>\n",
       "      <th>accept</th>\n",
       "      <th>accident</th>\n",
       "      <th>...</th>\n",
       "      <th>write</th>\n",
       "      <th>writer</th>\n",
       "      <th>writing</th>\n",
       "      <th>yawn</th>\n",
       "      <th>yeah</th>\n",
       "      <th>year</th>\n",
       "      <th>yell</th>\n",
       "      <th>york</th>\n",
       "      <th>youth</th>\n",
       "      <th>zone</th>\n",
       "    </tr>\n",
       "  </thead>\n",
       "  <tbody>\n",
       "    <tr>\n",
       "      <th>0</th>\n",
       "      <td>0</td>\n",
       "      <td>0</td>\n",
       "      <td>0</td>\n",
       "      <td>0</td>\n",
       "      <td>0</td>\n",
       "      <td>0</td>\n",
       "      <td>0</td>\n",
       "      <td>0</td>\n",
       "      <td>0</td>\n",
       "      <td>0</td>\n",
       "      <td>...</td>\n",
       "      <td>0</td>\n",
       "      <td>0</td>\n",
       "      <td>0</td>\n",
       "      <td>0</td>\n",
       "      <td>0</td>\n",
       "      <td>0</td>\n",
       "      <td>0</td>\n",
       "      <td>0</td>\n",
       "      <td>0</td>\n",
       "      <td>0</td>\n",
       "    </tr>\n",
       "    <tr>\n",
       "      <th>1</th>\n",
       "      <td>0</td>\n",
       "      <td>0</td>\n",
       "      <td>0</td>\n",
       "      <td>0</td>\n",
       "      <td>0</td>\n",
       "      <td>0</td>\n",
       "      <td>0</td>\n",
       "      <td>0</td>\n",
       "      <td>0</td>\n",
       "      <td>0</td>\n",
       "      <td>...</td>\n",
       "      <td>0</td>\n",
       "      <td>0</td>\n",
       "      <td>0</td>\n",
       "      <td>0</td>\n",
       "      <td>0</td>\n",
       "      <td>0</td>\n",
       "      <td>0</td>\n",
       "      <td>0</td>\n",
       "      <td>0</td>\n",
       "      <td>0</td>\n",
       "    </tr>\n",
       "    <tr>\n",
       "      <th>2</th>\n",
       "      <td>0</td>\n",
       "      <td>1</td>\n",
       "      <td>0</td>\n",
       "      <td>0</td>\n",
       "      <td>0</td>\n",
       "      <td>0</td>\n",
       "      <td>0</td>\n",
       "      <td>0</td>\n",
       "      <td>0</td>\n",
       "      <td>0</td>\n",
       "      <td>...</td>\n",
       "      <td>0</td>\n",
       "      <td>0</td>\n",
       "      <td>0</td>\n",
       "      <td>0</td>\n",
       "      <td>1</td>\n",
       "      <td>0</td>\n",
       "      <td>0</td>\n",
       "      <td>0</td>\n",
       "      <td>0</td>\n",
       "      <td>0</td>\n",
       "    </tr>\n",
       "    <tr>\n",
       "      <th>3</th>\n",
       "      <td>0</td>\n",
       "      <td>0</td>\n",
       "      <td>0</td>\n",
       "      <td>0</td>\n",
       "      <td>0</td>\n",
       "      <td>0</td>\n",
       "      <td>0</td>\n",
       "      <td>0</td>\n",
       "      <td>0</td>\n",
       "      <td>0</td>\n",
       "      <td>...</td>\n",
       "      <td>1</td>\n",
       "      <td>0</td>\n",
       "      <td>0</td>\n",
       "      <td>0</td>\n",
       "      <td>0</td>\n",
       "      <td>3</td>\n",
       "      <td>0</td>\n",
       "      <td>1</td>\n",
       "      <td>0</td>\n",
       "      <td>0</td>\n",
       "    </tr>\n",
       "    <tr>\n",
       "      <th>4</th>\n",
       "      <td>0</td>\n",
       "      <td>0</td>\n",
       "      <td>0</td>\n",
       "      <td>0</td>\n",
       "      <td>0</td>\n",
       "      <td>0</td>\n",
       "      <td>0</td>\n",
       "      <td>0</td>\n",
       "      <td>0</td>\n",
       "      <td>0</td>\n",
       "      <td>...</td>\n",
       "      <td>0</td>\n",
       "      <td>0</td>\n",
       "      <td>0</td>\n",
       "      <td>0</td>\n",
       "      <td>0</td>\n",
       "      <td>1</td>\n",
       "      <td>0</td>\n",
       "      <td>0</td>\n",
       "      <td>0</td>\n",
       "      <td>0</td>\n",
       "    </tr>\n",
       "    <tr>\n",
       "      <th>...</th>\n",
       "      <td>...</td>\n",
       "      <td>...</td>\n",
       "      <td>...</td>\n",
       "      <td>...</td>\n",
       "      <td>...</td>\n",
       "      <td>...</td>\n",
       "      <td>...</td>\n",
       "      <td>...</td>\n",
       "      <td>...</td>\n",
       "      <td>...</td>\n",
       "      <td>...</td>\n",
       "      <td>...</td>\n",
       "      <td>...</td>\n",
       "      <td>...</td>\n",
       "      <td>...</td>\n",
       "      <td>...</td>\n",
       "      <td>...</td>\n",
       "      <td>...</td>\n",
       "      <td>...</td>\n",
       "      <td>...</td>\n",
       "      <td>...</td>\n",
       "    </tr>\n",
       "    <tr>\n",
       "      <th>1995</th>\n",
       "      <td>0</td>\n",
       "      <td>0</td>\n",
       "      <td>0</td>\n",
       "      <td>0</td>\n",
       "      <td>0</td>\n",
       "      <td>0</td>\n",
       "      <td>0</td>\n",
       "      <td>0</td>\n",
       "      <td>0</td>\n",
       "      <td>0</td>\n",
       "      <td>...</td>\n",
       "      <td>1</td>\n",
       "      <td>1</td>\n",
       "      <td>0</td>\n",
       "      <td>0</td>\n",
       "      <td>1</td>\n",
       "      <td>3</td>\n",
       "      <td>0</td>\n",
       "      <td>0</td>\n",
       "      <td>0</td>\n",
       "      <td>0</td>\n",
       "    </tr>\n",
       "    <tr>\n",
       "      <th>1996</th>\n",
       "      <td>0</td>\n",
       "      <td>0</td>\n",
       "      <td>0</td>\n",
       "      <td>0</td>\n",
       "      <td>0</td>\n",
       "      <td>0</td>\n",
       "      <td>0</td>\n",
       "      <td>0</td>\n",
       "      <td>0</td>\n",
       "      <td>0</td>\n",
       "      <td>...</td>\n",
       "      <td>1</td>\n",
       "      <td>0</td>\n",
       "      <td>0</td>\n",
       "      <td>0</td>\n",
       "      <td>0</td>\n",
       "      <td>2</td>\n",
       "      <td>0</td>\n",
       "      <td>0</td>\n",
       "      <td>0</td>\n",
       "      <td>0</td>\n",
       "    </tr>\n",
       "    <tr>\n",
       "      <th>1997</th>\n",
       "      <td>0</td>\n",
       "      <td>0</td>\n",
       "      <td>0</td>\n",
       "      <td>0</td>\n",
       "      <td>0</td>\n",
       "      <td>0</td>\n",
       "      <td>0</td>\n",
       "      <td>0</td>\n",
       "      <td>0</td>\n",
       "      <td>0</td>\n",
       "      <td>...</td>\n",
       "      <td>2</td>\n",
       "      <td>1</td>\n",
       "      <td>0</td>\n",
       "      <td>0</td>\n",
       "      <td>0</td>\n",
       "      <td>0</td>\n",
       "      <td>0</td>\n",
       "      <td>0</td>\n",
       "      <td>0</td>\n",
       "      <td>0</td>\n",
       "    </tr>\n",
       "    <tr>\n",
       "      <th>1998</th>\n",
       "      <td>0</td>\n",
       "      <td>0</td>\n",
       "      <td>0</td>\n",
       "      <td>0</td>\n",
       "      <td>0</td>\n",
       "      <td>0</td>\n",
       "      <td>0</td>\n",
       "      <td>0</td>\n",
       "      <td>0</td>\n",
       "      <td>0</td>\n",
       "      <td>...</td>\n",
       "      <td>0</td>\n",
       "      <td>0</td>\n",
       "      <td>0</td>\n",
       "      <td>0</td>\n",
       "      <td>0</td>\n",
       "      <td>1</td>\n",
       "      <td>0</td>\n",
       "      <td>0</td>\n",
       "      <td>0</td>\n",
       "      <td>0</td>\n",
       "    </tr>\n",
       "    <tr>\n",
       "      <th>1999</th>\n",
       "      <td>0</td>\n",
       "      <td>0</td>\n",
       "      <td>0</td>\n",
       "      <td>0</td>\n",
       "      <td>0</td>\n",
       "      <td>0</td>\n",
       "      <td>0</td>\n",
       "      <td>0</td>\n",
       "      <td>0</td>\n",
       "      <td>0</td>\n",
       "      <td>...</td>\n",
       "      <td>2</td>\n",
       "      <td>0</td>\n",
       "      <td>0</td>\n",
       "      <td>0</td>\n",
       "      <td>0</td>\n",
       "      <td>1</td>\n",
       "      <td>0</td>\n",
       "      <td>0</td>\n",
       "      <td>0</td>\n",
       "      <td>0</td>\n",
       "    </tr>\n",
       "  </tbody>\n",
       "</table>\n",
       "<p>2000 rows × 2671 columns</p>\n",
       "</div>"
      ],
      "text/plain": [
       "      abandon  ability  absence  absorb  abuse  abyss  academy  accent  \\\n",
       "0           0        0        0       0      0      0        0       0   \n",
       "1           0        0        0       0      0      0        0       0   \n",
       "2           0        1        0       0      0      0        0       0   \n",
       "3           0        0        0       0      0      0        0       0   \n",
       "4           0        0        0       0      0      0        0       0   \n",
       "...       ...      ...      ...     ...    ...    ...      ...     ...   \n",
       "1995        0        0        0       0      0      0        0       0   \n",
       "1996        0        0        0       0      0      0        0       0   \n",
       "1997        0        0        0       0      0      0        0       0   \n",
       "1998        0        0        0       0      0      0        0       0   \n",
       "1999        0        0        0       0      0      0        0       0   \n",
       "\n",
       "      accept  accident  ...  write  writer  writing  yawn  yeah  year  yell  \\\n",
       "0          0         0  ...      0       0        0     0     0     0     0   \n",
       "1          0         0  ...      0       0        0     0     0     0     0   \n",
       "2          0         0  ...      0       0        0     0     1     0     0   \n",
       "3          0         0  ...      1       0        0     0     0     3     0   \n",
       "4          0         0  ...      0       0        0     0     0     1     0   \n",
       "...      ...       ...  ...    ...     ...      ...   ...   ...   ...   ...   \n",
       "1995       0         0  ...      1       1        0     0     1     3     0   \n",
       "1996       0         0  ...      1       0        0     0     0     2     0   \n",
       "1997       0         0  ...      2       1        0     0     0     0     0   \n",
       "1998       0         0  ...      0       0        0     0     0     1     0   \n",
       "1999       0         0  ...      2       0        0     0     0     1     0   \n",
       "\n",
       "      york  youth  zone  \n",
       "0        0      0     0  \n",
       "1        0      0     0  \n",
       "2        0      0     0  \n",
       "3        1      0     0  \n",
       "4        0      0     0  \n",
       "...    ...    ...   ...  \n",
       "1995     0      0     0  \n",
       "1996     0      0     0  \n",
       "1997     0      0     0  \n",
       "1998     0      0     0  \n",
       "1999     0      0     0  \n",
       "\n",
       "[2000 rows x 2671 columns]"
      ]
     },
     "execution_count": 11,
     "metadata": {},
     "output_type": "execute_result"
    }
   ],
   "source": [
    "\n",
    "vocab = cv.get_feature_names()\n",
    "# show document feature vectors\n",
    "pd.DataFrame(cv_matrix.toarray(), columns=vocab)"
   ]
  },
  {
   "cell_type": "code",
   "execution_count": 12,
   "metadata": {
    "tags": [
     "remove-input",
     "remove-output"
    ]
   },
   "outputs": [
    {
     "name": "stdout",
     "output_type": "stream",
     "text": [
      "CPU times: user 4min 41s, sys: 20.2 s, total: 5min 1s\n",
      "Wall time: 14min 53s\n"
     ]
    }
   ],
   "source": [
    "%%time\n",
    "from sklearn.decomposition import LatentDirichletAllocation\n",
    "\n",
    "num_of_topic = 4\n",
    "lda = LatentDirichletAllocation(n_components=num_of_topic, max_iter=1000, random_state=0,\n",
    "                               max_doc_update_iter=50, learning_method='online',\n",
    "                               batch_size=50, learning_offset = 50, n_jobs = -1)\n",
    "doc_topic_matrix = lda.fit_transform(cv_matrix)"
   ]
  },
  {
   "cell_type": "code",
   "execution_count": 13,
   "metadata": {
    "tags": [
     "remove-input",
     "remove-output"
    ]
   },
   "outputs": [],
   "source": [
    "topic_word_matrix = lda.components_"
   ]
  },
  {
   "cell_type": "code",
   "execution_count": 14,
   "metadata": {
    "tags": [
     "remove-input",
     "remove-output"
    ]
   },
   "outputs": [
    {
     "data": {
      "text/html": [
       "<div>\n",
       "<style scoped>\n",
       "    .dataframe tbody tr th:only-of-type {\n",
       "        vertical-align: middle;\n",
       "    }\n",
       "\n",
       "    .dataframe tbody tr th {\n",
       "        vertical-align: top;\n",
       "    }\n",
       "\n",
       "    .dataframe thead th {\n",
       "        text-align: right;\n",
       "    }\n",
       "</style>\n",
       "<table border=\"1\" class=\"dataframe\">\n",
       "  <thead>\n",
       "    <tr style=\"text-align: right;\">\n",
       "      <th></th>\n",
       "      <th>0</th>\n",
       "      <th>1</th>\n",
       "      <th>2</th>\n",
       "      <th>3</th>\n",
       "    </tr>\n",
       "  </thead>\n",
       "  <tbody>\n",
       "    <tr>\n",
       "      <th>abandon</th>\n",
       "      <td>38.372332</td>\n",
       "      <td>0.277083</td>\n",
       "      <td>19.148534</td>\n",
       "      <td>12.180082</td>\n",
       "    </tr>\n",
       "    <tr>\n",
       "      <th>ability</th>\n",
       "      <td>60.175386</td>\n",
       "      <td>0.266181</td>\n",
       "      <td>65.400346</td>\n",
       "      <td>62.075002</td>\n",
       "    </tr>\n",
       "    <tr>\n",
       "      <th>absence</th>\n",
       "      <td>12.659379</td>\n",
       "      <td>6.344827</td>\n",
       "      <td>6.897791</td>\n",
       "      <td>2.178752</td>\n",
       "    </tr>\n",
       "    <tr>\n",
       "      <th>absorb</th>\n",
       "      <td>20.410531</td>\n",
       "      <td>0.276773</td>\n",
       "      <td>7.103845</td>\n",
       "      <td>2.205141</td>\n",
       "    </tr>\n",
       "    <tr>\n",
       "      <th>abuse</th>\n",
       "      <td>13.406716</td>\n",
       "      <td>0.258951</td>\n",
       "      <td>29.133532</td>\n",
       "      <td>0.260695</td>\n",
       "    </tr>\n",
       "    <tr>\n",
       "      <th>...</th>\n",
       "      <td>...</td>\n",
       "      <td>...</td>\n",
       "      <td>...</td>\n",
       "      <td>...</td>\n",
       "    </tr>\n",
       "    <tr>\n",
       "      <th>year</th>\n",
       "      <td>665.076112</td>\n",
       "      <td>48.295147</td>\n",
       "      <td>643.953045</td>\n",
       "      <td>376.499673</td>\n",
       "    </tr>\n",
       "    <tr>\n",
       "      <th>yell</th>\n",
       "      <td>4.737740</td>\n",
       "      <td>4.688164</td>\n",
       "      <td>27.708165</td>\n",
       "      <td>1.865288</td>\n",
       "    </tr>\n",
       "    <tr>\n",
       "      <th>york</th>\n",
       "      <td>83.837184</td>\n",
       "      <td>0.260956</td>\n",
       "      <td>108.441622</td>\n",
       "      <td>71.343064</td>\n",
       "    </tr>\n",
       "    <tr>\n",
       "      <th>youth</th>\n",
       "      <td>23.456108</td>\n",
       "      <td>2.729870</td>\n",
       "      <td>19.220925</td>\n",
       "      <td>9.635706</td>\n",
       "    </tr>\n",
       "    <tr>\n",
       "      <th>zone</th>\n",
       "      <td>7.247424</td>\n",
       "      <td>0.256150</td>\n",
       "      <td>10.314256</td>\n",
       "      <td>9.128202</td>\n",
       "    </tr>\n",
       "  </tbody>\n",
       "</table>\n",
       "<p>2671 rows × 4 columns</p>\n",
       "</div>"
      ],
      "text/plain": [
       "                  0          1           2           3\n",
       "abandon   38.372332   0.277083   19.148534   12.180082\n",
       "ability   60.175386   0.266181   65.400346   62.075002\n",
       "absence   12.659379   6.344827    6.897791    2.178752\n",
       "absorb    20.410531   0.276773    7.103845    2.205141\n",
       "abuse     13.406716   0.258951   29.133532    0.260695\n",
       "...             ...        ...         ...         ...\n",
       "year     665.076112  48.295147  643.953045  376.499673\n",
       "yell       4.737740   4.688164   27.708165    1.865288\n",
       "york      83.837184   0.260956  108.441622   71.343064\n",
       "youth     23.456108   2.729870   19.220925    9.635706\n",
       "zone       7.247424   0.256150   10.314256    9.128202\n",
       "\n",
       "[2671 rows x 4 columns]"
      ]
     },
     "execution_count": 14,
     "metadata": {},
     "output_type": "execute_result"
    }
   ],
   "source": [
    "## Topic By Word (transpose)\n",
    "pd.DataFrame(np.transpose(topic_word_matrix), index=vocab)\n"
   ]
  },
  {
   "cell_type": "code",
   "execution_count": 15,
   "metadata": {
    "tags": [
     "remove-input",
     "remove-output"
    ]
   },
   "outputs": [],
   "source": [
    "## This function sorts the words importances under each topic\n",
    "## and the selectional criteria include (a) ranks based on weights, or (b) cutoff on weights\n",
    "def get_topics_meanings(tw_m, vocab, display_weights=False, topn = 5, weight_cutoff=0.6):\n",
    "    for i, topic_weights in enumerate(tw_m): ## for each topic row\n",
    "        topic = [(token, np.round(weight,2)) for token, weight in zip(vocab, topic_weights)] ## zip (word, importance_weight)\n",
    "        topic = sorted(topic, key=lambda x: -x[1]) ## rank words according to weights                  \n",
    "        if display_weights:\n",
    "            topic = [item for item in topic if item[1] > weight_cutoff] ## output words whose weights > 0.6\n",
    "            print(f\"Topic #{i} :\\n{topic}\")\n",
    "            print(\"=\"*20)\n",
    "        else:\n",
    "            topic_topn = topic[:topn]\n",
    "            topic_topn = ' '.join([word for word,weight in topic_topn])\n",
    "            print(f\"Topic #{i} :\\n{topic_topn}\")\n",
    "            print('='*20)"
   ]
  },
  {
   "cell_type": "code",
   "execution_count": 16,
   "metadata": {
    "tags": [
     "remove-input",
     "remove-output"
    ]
   },
   "outputs": [],
   "source": [
    "## Permanent Setting Version\n",
    "plt.rcParams['font.sans-serif']=[\"PingFang HK\"]\n",
    "def plot_top_words(model, feature_names, n_top_words, title, fig_grid=[2,2]):\n",
    "    fig, axes = plt.subplots(fig_grid[0], fig_grid[1], figsize=(30, 15), sharex=True)\n",
    "    axes = axes.flatten()\n",
    "    for topic_idx, topic in enumerate(model.components_):\n",
    "        top_features_ind = topic.argsort()[:-n_top_words - 1:-1]\n",
    "        top_features = [feature_names[i] for i in top_features_ind]\n",
    "        weights = topic[top_features_ind]\n",
    "\n",
    "        ax = axes[topic_idx]\n",
    "        ax.barh(top_features, weights, height=0.7)\n",
    "        ax.set_title(f'Topic {topic_idx +1}',\n",
    "                     fontdict={'fontsize': 30})\n",
    "        ax.invert_yaxis()\n",
    "        ax.tick_params(axis='both', which='major', labelsize=20)\n",
    "        for i in 'top right left'.split():\n",
    "            ax.spines[i].set_visible(False)\n",
    "        fig.suptitle(title, fontsize=40)\n",
    "\n",
    "    plt.subplots_adjust(top=0.90, bottom=0.05, wspace=0.90, hspace=0.3)\n",
    "    plt.show()"
   ]
  },
  {
   "cell_type": "code",
   "execution_count": 17,
   "metadata": {
    "tags": [
     "hide-input"
    ]
   },
   "outputs": [
    {
     "data": {
      "image/png": "[encoded data removed]",
      "text/plain": [
       "<Figure size 2160x1080 with 4 Axes>"
      ]
     },
     "metadata": {
      "needs_background": "light"
     },
     "output_type": "display_data"
    }
   ],
   "source": [
    "plot_top_words(lda, vocab, 20, \"Words Associated with Topics\", fig_grid=[2,2])"
   ]
  },
  {
   "cell_type": "code",
   "execution_count": 18,
   "metadata": {
    "tags": [
     "remove-input",
     "remove-output"
    ]
   },
   "outputs": [
    {
     "name": "stdout",
     "output_type": "stream",
     "text": [
      "Topic #0 :\n",
      "life story love year man scene world way family take\n",
      "====================\n",
      "Topic #1 :\n",
      "horror scream killer vampire murphy sequel murder witch summer wood\n",
      "====================\n",
      "Topic #2 :\n",
      "scene play go thing plot way see end seem comedy\n",
      "====================\n",
      "Topic #3 :\n",
      "action effect star scene look alien war plot go see\n",
      "====================\n"
     ]
    }
   ],
   "source": [
    "get_topics_meanings(topic_word_matrix, vocab, display_weights=False, topn=10)\n"
   ]
  },
  {
   "cell_type": "code",
   "execution_count": 19,
   "metadata": {
    "tags": [
     "remove-input",
     "remove-output"
    ]
   },
   "outputs": [],
   "source": [
    "topics = ['LOVE_FAMILY (T0)', \"HORROR(T1)\", \"PLOT(T2)\",\"EFFECT(T3)\"]\n",
    "doc_topic_label = [topics[np.argmax(i)] for i in doc_topic_matrix]\n",
    "\n",
    "doc_topic_df = pd.DataFrame({\"REVIEW_SENTIMENT\": corpus_sentiment, \"TOPIC\": doc_topic_label})"
   ]
  },
  {
   "cell_type": "code",
   "execution_count": 20,
   "metadata": {
    "tags": [
     "remove-input",
     "remove-output"
    ]
   },
   "outputs": [],
   "source": [
    "import plotnine\n",
    "from plotnine import ggplot, aes, geom_line, geom_bar, labs\n",
    "from plotnine import scale_fill_brewer\n",
    "plotnine.options.dpi=200\n",
    "\n",
    "g =(\n",
    "    ggplot(doc_topic_df)\n",
    "    + aes(x=\"TOPIC\", fill=\"REVIEW_SENTIMENT\") \n",
    "    + geom_bar(position=\"dodge\")\n",
    "    + labs(y = \"Number of Documents\")\n",
    "    + scale_fill_brewer(palette=18, name=\"Review Sentiments\", labels=[\"Negative Reviews\",\"Positive Reviews\"])\n",
    "    \n",
    ")\n"
   ]
  },
  {
   "cell_type": "code",
   "execution_count": 21,
   "metadata": {
    "tags": [
     "hide-input"
    ]
   },
   "outputs": [
    {
     "data": {
      "image/png": "[encoded data removed]",
      "text/plain": [
       "<Figure size 1280x960 with 1 Axes>"
      ]
     },
     "metadata": {},
     "output_type": "display_data"
    },
    {
     "data": {
      "text/plain": [
       "<ggplot: (8790600018531)>"
      ]
     },
     "execution_count": 21,
     "metadata": {},
     "output_type": "execute_result"
    }
   ],
   "source": [
    "g"
   ]
  },
  {
   "cell_type": "markdown",
   "metadata": {},
   "source": [
    "## Question 2\n",
    "\n",
    "Use the `demo_data/dcard-top100.csv` dataset (the same one used in the previous Assignment) and perform topic modeling on the dataset to explore the main topics of this small corpus.\n",
    "\n",
    "To increase the interpretability of the topic modeling results, please word-segment the corpus data using `ckip-transformers` and then include word tokens whose POS indicate they are either nouns or verbs. However, please exclude pronouns and numerals. Also, before word segmentation, please preprocess the texts by removing alphabets, digits, and symbols first.\n",
    "\n",
    "Please report (a) the meanings of the topics and their associated top 20 words in the corpus, and (b) the distribution of the topics in the entire corpus."
   ]
  },
  {
   "cell_type": "markdown",
   "metadata": {
    "tags": [
     "remove-input",
     "remove-output"
    ]
   },
   "source": [
    "### Import necessary dependencies and settings"
   ]
  },
  {
   "cell_type": "code",
   "execution_count": 1,
   "metadata": {
    "tags": [
     "remove-input",
     "remove-output"
    ]
   },
   "outputs": [],
   "source": [
    "import warnings\n",
    "warnings.filterwarnings(\"ignore\", category=DeprecationWarning)\n"
   ]
  },
  {
   "cell_type": "code",
   "execution_count": 2,
   "metadata": {
    "tags": [
     "remove-input",
     "remove-output"
    ]
   },
   "outputs": [],
   "source": [
    "import pandas as pd\n",
    "import numpy as np\n",
    "import re\n",
    "import matplotlib.pyplot as plt\n",
    "import random\n",
    "\n",
    "pd.options.display.max_colwidth = 200\n",
    "%matplotlib inline"
   ]
  },
  {
   "cell_type": "markdown",
   "metadata": {
    "tags": [
     "remove-input",
     "remove-output"
    ]
   },
   "source": [
    "### Sample corpus of text documents"
   ]
  },
  {
   "cell_type": "code",
   "execution_count": 3,
   "metadata": {
    "tags": [
     "remove-input",
     "remove-output"
    ]
   },
   "outputs": [
    {
     "data": {
      "text/html": [
       "<div>\n",
       "<style scoped>\n",
       "    .dataframe tbody tr th:only-of-type {\n",
       "        vertical-align: middle;\n",
       "    }\n",
       "\n",
       "    .dataframe tbody tr th {\n",
       "        vertical-align: top;\n",
       "    }\n",
       "\n",
       "    .dataframe thead th {\n",
       "        text-align: right;\n",
       "    }\n",
       "</style>\n",
       "<table border=\"1\" class=\"dataframe\">\n",
       "  <thead>\n",
       "    <tr style=\"text-align: right;\">\n",
       "      <th></th>\n",
       "      <th>ID</th>\n",
       "      <th>title</th>\n",
       "      <th>content</th>\n",
       "    </tr>\n",
       "  </thead>\n",
       "  <tbody>\n",
       "    <tr>\n",
       "      <th>0</th>\n",
       "      <td>235443715</td>\n",
       "      <td>三更 21歲這年我差點被活活燒死</td>\n",
       "      <td>部分回應在B117 \\n謝謝各位的留言，我都有看完\\n好的不好的，我都接受謝謝大家🙇‍♀️\\n\\n\\n（第三次更新在這邊）\\nB258 這邊也有講到怎麼逃生\\n很多人好奇我是怎麼踹門的，\\n在這邊跟大家說一下，\\n因為這台車本來就很老舊，\\n加上我文章說的我有停在路邊檢查，\\n之前有在練空手道，所以比較知道怎麼施力😥\\n謝謝大家的關心，其他比較有問題的我會在留言一一回覆！\\n\\n後續處理的...</td>\n",
       "    </tr>\n",
       "    <tr>\n",
       "      <th>1</th>\n",
       "      <td>235442609</td>\n",
       "      <td>超狂學經歷！195公分帥家教徵學生</td>\n",
       "      <td>https://i.imgur.com/REIEzSd.jpg\\n\\n身高195公分的男大生楊承翰在家教社團PO文徵學生的文章被網友推爆了，網友們看到他的學經歷及成績不禁大讚根本就是學霸王，而他不只擁有高顏質，還是籃球系隊成員，超乎常人的學經歷及證書考試成績，瞬間讓網友都跪著朝聖，直呼「天哪好厲害的帥哥」、「這個當家教太可惜了」。\\n\\n21歲台大學生楊承翰日前在臉書社團「家教補教學校兼全...</td>\n",
       "    </tr>\n",
       "    <tr>\n",
       "      <th>2</th>\n",
       "      <td>235441998</td>\n",
       "      <td>我的模特界時間管理大師前男友</td>\n",
       "      <td>看過這麼多在Dcard、PTT上的感情渣事和創作文\\n從沒想過如此荒謬像八點檔的事情居然會發生在自己的身上\\n\\n本來以為與我交往一年的男友，是因為遠距離的關係分手，但就在我難過發文之後，我的IG私訊被各種匿名爆料塞爆，才發現交往一年的他幾乎是個我完全不認識的人（除了我被無數次劈腿，還有他幻謊症的部分，可能還有妄想症...）\\n\\n \\n接下來的故事全部都是真真切切發生的事情，因為整段故事...</td>\n",
       "    </tr>\n",
       "    <tr>\n",
       "      <th>3</th>\n",
       "      <td>235441259</td>\n",
       "      <td>豆皮加爆</td>\n",
       "      <td>剛剛吃小火鍋，跟店員說不要金針菇（怕卡牙縫），於是店員幫我換其他配料..…\\n\\n沒想到餐一上桌竟是豆皮加爆~\\n\\n真是超開心的~有人也跟我一樣喜歡吃豆皮的嗎？\\n\\nhttps://i.imgur.com/XIma4y2.jpg</td>\n",
       "    </tr>\n",
       "    <tr>\n",
       "      <th>4</th>\n",
       "      <td>235442693</td>\n",
       "      <td>這樣女生該追嗎</td>\n",
       "      <td>已經約好見面，到了當天晚上七點半才回，我是被耍了嗎 \\n如下圖\\n\\n\\nhttps://i.imgur.com/81HRQpQ.jpg\\nhttps://i.imgur.com/6lmTX1P.jpg\\nhttps://i.imgur.com/bV4X0Fz.jpg</td>\n",
       "    </tr>\n",
       "  </tbody>\n",
       "</table>\n",
       "</div>"
      ],
      "text/plain": [
       "          ID              title  \\\n",
       "0  235443715   三更 21歲這年我差點被活活燒死   \n",
       "1  235442609  超狂學經歷！195公分帥家教徵學生   \n",
       "2  235441998     我的模特界時間管理大師前男友   \n",
       "3  235441259               豆皮加爆   \n",
       "4  235442693            這樣女生該追嗎   \n",
       "\n",
       "                                                                                                                                                                                                   content  \n",
       "0  部分回應在B117 \\n謝謝各位的留言，我都有看完\\n好的不好的，我都接受謝謝大家🙇‍♀️\\n\\n\\n（第三次更新在這邊）\\nB258 這邊也有講到怎麼逃生\\n很多人好奇我是怎麼踹門的，\\n在這邊跟大家說一下，\\n因為這台車本來就很老舊，\\n加上我文章說的我有停在路邊檢查，\\n之前有在練空手道，所以比較知道怎麼施力😥\\n謝謝大家的關心，其他比較有問題的我會在留言一一回覆！\\n\\n後續處理的...  \n",
       "1  https://i.imgur.com/REIEzSd.jpg\\n\\n身高195公分的男大生楊承翰在家教社團PO文徵學生的文章被網友推爆了，網友們看到他的學經歷及成績不禁大讚根本就是學霸王，而他不只擁有高顏質，還是籃球系隊成員，超乎常人的學經歷及證書考試成績，瞬間讓網友都跪著朝聖，直呼「天哪好厲害的帥哥」、「這個當家教太可惜了」。\\n\\n21歲台大學生楊承翰日前在臉書社團「家教補教學校兼全...  \n",
       "2  看過這麼多在Dcard、PTT上的感情渣事和創作文\\n從沒想過如此荒謬像八點檔的事情居然會發生在自己的身上\\n\\n本來以為與我交往一年的男友，是因為遠距離的關係分手，但就在我難過發文之後，我的IG私訊被各種匿名爆料塞爆，才發現交往一年的他幾乎是個我完全不認識的人（除了我被無數次劈腿，還有他幻謊症的部分，可能還有妄想症...）\\n\\n \\n接下來的故事全部都是真真切切發生的事情，因為整段故事...  \n",
       "3                                                                                     剛剛吃小火鍋，跟店員說不要金針菇（怕卡牙縫），於是店員幫我換其他配料..…\\n\\n沒想到餐一上桌竟是豆皮加爆~\\n\\n真是超開心的~有人也跟我一樣喜歡吃豆皮的嗎？\\n\\nhttps://i.imgur.com/XIma4y2.jpg  \n",
       "4                                                                   已經約好見面，到了當天晚上七點半才回，我是被耍了嗎 \\n如下圖\\n\\n\\nhttps://i.imgur.com/81HRQpQ.jpg\\nhttps://i.imgur.com/6lmTX1P.jpg\\nhttps://i.imgur.com/bV4X0Fz.jpg  "
      ]
     },
     "execution_count": 3,
     "metadata": {},
     "output_type": "execute_result"
    }
   ],
   "source": [
    "corpus_df = pd.read_csv('../../../RepositoryData/data/dcard-top100.csv')\n",
    "corpus_df.head()"
   ]
  },
  {
   "cell_type": "code",
   "execution_count": 4,
   "metadata": {
    "tags": [
     "remove-input",
     "remove-output"
    ]
   },
   "outputs": [],
   "source": [
    "corpus = corpus_df['content']\n",
    "# remove url first\n",
    "corpus = [re.sub(r'(?:http(s)?:\\/\\/)?[\\w.-]+(?:\\.[\\w\\.-]+)+[\\w\\-\\._~:/?#[\\]@!\\$&\\'\\(\\)\\*\\+,;=.]+', '\\n', doc) for doc in corpus]\n",
    "\n",
    "corpus = [re.sub(r'\\n+','\\n', doc) for doc in corpus] "
   ]
  },
  {
   "cell_type": "code",
   "execution_count": 5,
   "metadata": {
    "scrolled": true,
    "tags": [
     "remove-input",
     "remove-output"
    ]
   },
   "outputs": [
    {
     "data": {
      "text/plain": [
       "ID                                                                                    235443810\n",
       "title                                                                                 優質cosplay\n",
       "content    https://megapx-assets.dcard.tw/images/57a22cb7-3880-4e83-97a1-510a691bd1d9/1280.jpeg\n",
       "Name: 65, dtype: object"
      ]
     },
     "execution_count": 5,
     "metadata": {},
     "output_type": "execute_result"
    }
   ],
   "source": [
    "corpus_df.iloc[65,]"
   ]
  },
  {
   "cell_type": "code",
   "execution_count": 6,
   "metadata": {
    "tags": [
     "remove-input",
     "remove-output"
    ]
   },
   "outputs": [
    {
     "data": {
      "text/plain": [
       "array([], dtype='<U4276')"
      ]
     },
     "execution_count": 6,
     "metadata": {},
     "output_type": "execute_result"
    }
   ],
   "source": [
    "## check each doc integrity, i.e., no empty strings\n",
    "\n",
    "corpus_line_num = [len(doc) for doc in corpus]\n",
    "corpus[np.argmin(corpus_line_num)]\n",
    "\n",
    "ind =[i for i in range(len(corpus_line_num)) if corpus_line_num[i]==0]\n",
    "np.array(corpus)[ind]"
   ]
  },
  {
   "cell_type": "code",
   "execution_count": 7,
   "metadata": {
    "tags": [
     "remove-input",
     "remove-output"
    ]
   },
   "outputs": [],
   "source": [
    "## Perform the word segmentation in Google Colab.\n",
    "## Load results\n",
    "import pickle\n",
    "with open('dcard_seg.pickle', 'rb') as f:\n",
    "    dcard_seg = pickle.load(f)"
   ]
  },
  {
   "cell_type": "code",
   "execution_count": 8,
   "metadata": {
    "tags": [
     "remove-input",
     "remove-output"
    ]
   },
   "outputs": [],
   "source": [
    "## Prepare words for topic modeling\n",
    "## From each document, keep only words tagged as N and V excluding numerals pronouns\n",
    "norm_words = [[(w,p) for (w,p) in text if re.match(r'^[NV](?!(h|eu))',p)] for text in dcard_seg]\n",
    "norm_corpus = [' '.join([w for w,p in text]) for text in norm_words]\n",
    "\n",
    "# norm_corpus = [' '.join([w for (w,t) in doc if t in ['Na','VC']]) for doc in dcard_seg]# if len(doc)>0]"
   ]
  },
  {
   "cell_type": "code",
   "execution_count": 9,
   "metadata": {
    "tags": [
     "remove-input",
     "remove-output"
    ]
   },
   "outputs": [
    {
     "data": {
      "text/plain": [
       "''"
      ]
     },
     "execution_count": 9,
     "metadata": {},
     "output_type": "execute_result"
    }
   ],
   "source": [
    "norm_corpus[65]"
   ]
  },
  {
   "cell_type": "code",
   "execution_count": 10,
   "metadata": {
    "tags": [
     "remove-input",
     "remove-output"
    ]
   },
   "outputs": [
    {
     "data": {
      "text/plain": [
       "[(65, '')]"
      ]
     },
     "execution_count": 10,
     "metadata": {},
     "output_type": "execute_result"
    }
   ],
   "source": [
    "# check any zero documents\n",
    "[(i,doc) for i, doc in enumerate(norm_corpus) if len(doc)==0]"
   ]
  },
  {
   "cell_type": "code",
   "execution_count": 11,
   "metadata": {
    "tags": [
     "remove-input",
     "remove-output"
    ]
   },
   "outputs": [],
   "source": [
    "### Remove Empty Document\n",
    "\n",
    "\n",
    "corpus_df2 = corpus_df.drop(index=[65])\n",
    "del norm_corpus[65]"
   ]
  },
  {
   "cell_type": "code",
   "execution_count": 12,
   "metadata": {
    "tags": [
     "remove-input",
     "remove-output"
    ]
   },
   "outputs": [
    {
     "data": {
      "text/html": [
       "<div>\n",
       "<style scoped>\n",
       "    .dataframe tbody tr th:only-of-type {\n",
       "        vertical-align: middle;\n",
       "    }\n",
       "\n",
       "    .dataframe tbody tr th {\n",
       "        vertical-align: top;\n",
       "    }\n",
       "\n",
       "    .dataframe thead th {\n",
       "        text-align: right;\n",
       "    }\n",
       "</style>\n",
       "<table border=\"1\" class=\"dataframe\">\n",
       "  <thead>\n",
       "    <tr style=\"text-align: right;\">\n",
       "      <th></th>\n",
       "      <th>ID</th>\n",
       "      <th>title</th>\n",
       "      <th>content</th>\n",
       "    </tr>\n",
       "  </thead>\n",
       "  <tbody>\n",
       "    <tr>\n",
       "      <th>0</th>\n",
       "      <td>235443715</td>\n",
       "      <td>三更 21歲這年我差點被活活燒死</td>\n",
       "      <td>部分回應在B117 \\n謝謝各位的留言，我都有看完\\n好的不好的，我都接受謝謝大家🙇‍♀️\\n\\n\\n（第三次更新在這邊）\\nB258 這邊也有講到怎麼逃生\\n很多人好奇我是怎麼踹門的，\\n在這邊跟大家說一下，\\n因為這台車本來就很老舊，\\n加上我文章說的我有停在路邊檢查，\\n之前有在練空手道，所以比較知道怎麼施力😥\\n謝謝大家的關心，其他比較有問題的我會在留言一一回覆！\\n\\n後續處理的...</td>\n",
       "    </tr>\n",
       "    <tr>\n",
       "      <th>1</th>\n",
       "      <td>235442609</td>\n",
       "      <td>超狂學經歷！195公分帥家教徵學生</td>\n",
       "      <td>https://i.imgur.com/REIEzSd.jpg\\n\\n身高195公分的男大生楊承翰在家教社團PO文徵學生的文章被網友推爆了，網友們看到他的學經歷及成績不禁大讚根本就是學霸王，而他不只擁有高顏質，還是籃球系隊成員，超乎常人的學經歷及證書考試成績，瞬間讓網友都跪著朝聖，直呼「天哪好厲害的帥哥」、「這個當家教太可惜了」。\\n\\n21歲台大學生楊承翰日前在臉書社團「家教補教學校兼全...</td>\n",
       "    </tr>\n",
       "    <tr>\n",
       "      <th>2</th>\n",
       "      <td>235441998</td>\n",
       "      <td>我的模特界時間管理大師前男友</td>\n",
       "      <td>看過這麼多在Dcard、PTT上的感情渣事和創作文\\n從沒想過如此荒謬像八點檔的事情居然會發生在自己的身上\\n\\n本來以為與我交往一年的男友，是因為遠距離的關係分手，但就在我難過發文之後，我的IG私訊被各種匿名爆料塞爆，才發現交往一年的他幾乎是個我完全不認識的人（除了我被無數次劈腿，還有他幻謊症的部分，可能還有妄想症...）\\n\\n \\n接下來的故事全部都是真真切切發生的事情，因為整段故事...</td>\n",
       "    </tr>\n",
       "    <tr>\n",
       "      <th>3</th>\n",
       "      <td>235441259</td>\n",
       "      <td>豆皮加爆</td>\n",
       "      <td>剛剛吃小火鍋，跟店員說不要金針菇（怕卡牙縫），於是店員幫我換其他配料..…\\n\\n沒想到餐一上桌竟是豆皮加爆~\\n\\n真是超開心的~有人也跟我一樣喜歡吃豆皮的嗎？\\n\\nhttps://i.imgur.com/XIma4y2.jpg</td>\n",
       "    </tr>\n",
       "    <tr>\n",
       "      <th>4</th>\n",
       "      <td>235442693</td>\n",
       "      <td>這樣女生該追嗎</td>\n",
       "      <td>已經約好見面，到了當天晚上七點半才回，我是被耍了嗎 \\n如下圖\\n\\n\\nhttps://i.imgur.com/81HRQpQ.jpg\\nhttps://i.imgur.com/6lmTX1P.jpg\\nhttps://i.imgur.com/bV4X0Fz.jpg</td>\n",
       "    </tr>\n",
       "    <tr>\n",
       "      <th>5</th>\n",
       "      <td>235441122</td>\n",
       "      <td>深夜被約砲哥開導4小時哭了</td>\n",
       "      <td>嗨！巨砲哥 答應你的文來了😆\\n這是一段與約砲小哥哥談心的奇幻旅程\\n\\n可憐的我情人節當天被前男友提分手\\n原本說好228連假要一起出去玩直接泡湯\\n昨天晚上一整個很鬱卒 \\n但又不想一直丟負能量給身邊朋友\\n所以就上wootalk找人聊聊\\n結果就遇到這個傳說中的暖男(?)巨砲哥\\nhttps://i.imgur.com/nlzrqS3.jpg\\n\\n劈頭就問胸部多大⋯\\n本來想按離開...</td>\n",
       "    </tr>\n",
       "    <tr>\n",
       "      <th>6</th>\n",
       "      <td>235442321</td>\n",
       "      <td>這樣真很暴露？？？</td>\n",
       "      <td>https://i.imgur.com/HCTwyAH.jpg\\n（圖片非本人）\\n今天逛街買了一件此類型的白色，但他有點透，所以裡面有配一件白色小可愛，但男友說還是太暴露！？想問各位男性朋友 可以接受女友穿這件衣服嗎？🤔</td>\n",
       "    </tr>\n",
       "    <tr>\n",
       "      <th>7</th>\n",
       "      <td>235442924</td>\n",
       "      <td>泳衣+裙會很怪嗎</td>\n",
       "      <td>https://i.imgur.com/RWJLK2v.jpg\\n\\n因為馬鞍很寬\\n想請問女孩們會覺得加這種裙式沙龍好嗎？\\n怕會不會很奇怪\\n看模特兒穿又覺得蠻好看的\\n怕實際穿出去會怪怪的</td>\n",
       "    </tr>\n",
       "    <tr>\n",
       "      <th>8</th>\n",
       "      <td>235441419</td>\n",
       "      <td>關於一個860的訂製蛋糕：）</td>\n",
       "      <td>手機排版請見諒😖🙏🏻（圖多）\\n先說這不是我第一次訂購訂製蛋糕\\n也了解訂製蛋糕不可能跟圖上一樣完美\\n看到這間的ig上照片都很漂亮才選擇這間的\\n\\nhttps://i.imgur.com/fETTnah.jpg\\n這張是訂購時給的參考圖\\n\\nhttps://i.imgur.com/XsBjPYR.jpg\\n這張是我拿到後打開的樣子\\n\\n以下附上對話記錄\\nhttps://i.img...</td>\n",
       "    </tr>\n",
       "    <tr>\n",
       "      <th>9</th>\n",
       "      <td>235440762</td>\n",
       "      <td>有女生提醒我男友吃早餐</td>\n",
       "      <td>https://i.imgur.com/6Yk9etg.jpg\\n想在這裡問大家有沒有接到這種電話⋯\\n我男友前幾個月有接到一次，電話內容就只有女生用嗲嗲的聲音提醒我男友吃早餐這樣而已。電話掛了之後男友也有跟我說是他不認識的。\\n\\n但因為自己心裡存有懷疑，隔天在上班的時候有叫男同事用我手機打過去問（男友有給我她的手機號碼截圖\\n\\n男同事一開始就問她是不是那位提醒自己吃早餐的那個女生，後...</td>\n",
       "    </tr>\n",
       "  </tbody>\n",
       "</table>\n",
       "</div>"
      ],
      "text/plain": [
       "          ID              title  \\\n",
       "0  235443715   三更 21歲這年我差點被活活燒死   \n",
       "1  235442609  超狂學經歷！195公分帥家教徵學生   \n",
       "2  235441998     我的模特界時間管理大師前男友   \n",
       "3  235441259               豆皮加爆   \n",
       "4  235442693            這樣女生該追嗎   \n",
       "5  235441122      深夜被約砲哥開導4小時哭了   \n",
       "6  235442321          這樣真很暴露？？？   \n",
       "7  235442924           泳衣+裙會很怪嗎   \n",
       "8  235441419     關於一個860的訂製蛋糕：）   \n",
       "9  235440762        有女生提醒我男友吃早餐   \n",
       "\n",
       "                                                                                                                                                                                                   content  \n",
       "0  部分回應在B117 \\n謝謝各位的留言，我都有看完\\n好的不好的，我都接受謝謝大家🙇‍♀️\\n\\n\\n（第三次更新在這邊）\\nB258 這邊也有講到怎麼逃生\\n很多人好奇我是怎麼踹門的，\\n在這邊跟大家說一下，\\n因為這台車本來就很老舊，\\n加上我文章說的我有停在路邊檢查，\\n之前有在練空手道，所以比較知道怎麼施力😥\\n謝謝大家的關心，其他比較有問題的我會在留言一一回覆！\\n\\n後續處理的...  \n",
       "1  https://i.imgur.com/REIEzSd.jpg\\n\\n身高195公分的男大生楊承翰在家教社團PO文徵學生的文章被網友推爆了，網友們看到他的學經歷及成績不禁大讚根本就是學霸王，而他不只擁有高顏質，還是籃球系隊成員，超乎常人的學經歷及證書考試成績，瞬間讓網友都跪著朝聖，直呼「天哪好厲害的帥哥」、「這個當家教太可惜了」。\\n\\n21歲台大學生楊承翰日前在臉書社團「家教補教學校兼全...  \n",
       "2  看過這麼多在Dcard、PTT上的感情渣事和創作文\\n從沒想過如此荒謬像八點檔的事情居然會發生在自己的身上\\n\\n本來以為與我交往一年的男友，是因為遠距離的關係分手，但就在我難過發文之後，我的IG私訊被各種匿名爆料塞爆，才發現交往一年的他幾乎是個我完全不認識的人（除了我被無數次劈腿，還有他幻謊症的部分，可能還有妄想症...）\\n\\n \\n接下來的故事全部都是真真切切發生的事情，因為整段故事...  \n",
       "3                                                                                     剛剛吃小火鍋，跟店員說不要金針菇（怕卡牙縫），於是店員幫我換其他配料..…\\n\\n沒想到餐一上桌竟是豆皮加爆~\\n\\n真是超開心的~有人也跟我一樣喜歡吃豆皮的嗎？\\n\\nhttps://i.imgur.com/XIma4y2.jpg  \n",
       "4                                                                   已經約好見面，到了當天晚上七點半才回，我是被耍了嗎 \\n如下圖\\n\\n\\nhttps://i.imgur.com/81HRQpQ.jpg\\nhttps://i.imgur.com/6lmTX1P.jpg\\nhttps://i.imgur.com/bV4X0Fz.jpg  \n",
       "5  嗨！巨砲哥 答應你的文來了😆\\n這是一段與約砲小哥哥談心的奇幻旅程\\n\\n可憐的我情人節當天被前男友提分手\\n原本說好228連假要一起出去玩直接泡湯\\n昨天晚上一整個很鬱卒 \\n但又不想一直丟負能量給身邊朋友\\n所以就上wootalk找人聊聊\\n結果就遇到這個傳說中的暖男(?)巨砲哥\\nhttps://i.imgur.com/nlzrqS3.jpg\\n\\n劈頭就問胸部多大⋯\\n本來想按離開...  \n",
       "6                                                                                          https://i.imgur.com/HCTwyAH.jpg\\n（圖片非本人）\\n今天逛街買了一件此類型的白色，但他有點透，所以裡面有配一件白色小可愛，但男友說還是太暴露！？想問各位男性朋友 可以接受女友穿這件衣服嗎？🤔  \n",
       "7                                                                                                        https://i.imgur.com/RWJLK2v.jpg\\n\\n因為馬鞍很寬\\n想請問女孩們會覺得加這種裙式沙龍好嗎？\\n怕會不會很奇怪\\n看模特兒穿又覺得蠻好看的\\n怕實際穿出去會怪怪的  \n",
       "8  手機排版請見諒😖🙏🏻（圖多）\\n先說這不是我第一次訂購訂製蛋糕\\n也了解訂製蛋糕不可能跟圖上一樣完美\\n看到這間的ig上照片都很漂亮才選擇這間的\\n\\nhttps://i.imgur.com/fETTnah.jpg\\n這張是訂購時給的參考圖\\n\\nhttps://i.imgur.com/XsBjPYR.jpg\\n這張是我拿到後打開的樣子\\n\\n以下附上對話記錄\\nhttps://i.img...  \n",
       "9  https://i.imgur.com/6Yk9etg.jpg\\n想在這裡問大家有沒有接到這種電話⋯\\n我男友前幾個月有接到一次，電話內容就只有女生用嗲嗲的聲音提醒我男友吃早餐這樣而已。電話掛了之後男友也有跟我說是他不認識的。\\n\\n但因為自己心裡存有懷疑，隔天在上班的時候有叫男同事用我手機打過去問（男友有給我她的手機號碼截圖\\n\\n男同事一開始就問她是不是那位提醒自己吃早餐的那個女生，後...  "
      ]
     },
     "execution_count": 12,
     "metadata": {},
     "output_type": "execute_result"
    }
   ],
   "source": [
    "corpus_df2.iloc[0:10]"
   ]
  },
  {
   "cell_type": "code",
   "execution_count": 13,
   "metadata": {
    "tags": [
     "remove-input",
     "remove-output"
    ]
   },
   "outputs": [
    {
     "name": "stdout",
     "output_type": "stream",
     "text": [
      "(100, 3)\n",
      "(99, 3)\n",
      "99\n"
     ]
    }
   ],
   "source": [
    "print(corpus_df.shape)\n",
    "print(corpus_df2.shape)\n",
    "print(len(norm_corpus))"
   ]
  },
  {
   "cell_type": "code",
   "execution_count": 14,
   "metadata": {
    "tags": [
     "remove-input",
     "remove-output"
    ]
   },
   "outputs": [
    {
     "data": {
      "text/html": [
       "<div>\n",
       "<style scoped>\n",
       "    .dataframe tbody tr th:only-of-type {\n",
       "        vertical-align: middle;\n",
       "    }\n",
       "\n",
       "    .dataframe tbody tr th {\n",
       "        vertical-align: top;\n",
       "    }\n",
       "\n",
       "    .dataframe thead th {\n",
       "        text-align: right;\n",
       "    }\n",
       "</style>\n",
       "<table border=\"1\" class=\"dataframe\">\n",
       "  <thead>\n",
       "    <tr style=\"text-align: right;\">\n",
       "      <th></th>\n",
       "      <th>ID</th>\n",
       "      <th>title</th>\n",
       "      <th>content</th>\n",
       "      <th>Normalized</th>\n",
       "    </tr>\n",
       "  </thead>\n",
       "  <tbody>\n",
       "    <tr>\n",
       "      <th>0</th>\n",
       "      <td>235443715</td>\n",
       "      <td>三更 21歲這年我差點被活活燒死</td>\n",
       "      <td>部分回應在B117 \\n謝謝各位的留言，我都有看完\\n好的不好的，我都接受謝謝大家🙇‍♀️\\n\\n\\n（第三次更新在這邊）\\nB258 這邊也有講到怎麼逃生\\n很多人好奇我是怎麼踹門的，\\n在這邊跟大家說一下，\\n因為這台車本來就很老舊，\\n加上我文章說的我有停在路邊檢查，\\n之前有在練空手道，所以比較知道怎麼施力😥\\n謝謝大家的關心，其他比較有問題的我會在留言一一回覆！\\n\\n後續處理的...</td>\n",
       "      <td>部分 回應 謝謝 各位 留言 有 看完 好 好 接受 謝謝 次 更新 這邊 這邊 有 講到 逃生 很多 人 好奇 踹 門 這邊 說 一下 這 台 車 老舊 文章 說 有 停 路 邊 檢查 之前 有 練 空手道 知道 施力 謝謝 關心 其他 有 問題 留言 回覆 處理 部分 租 車 公司 有 很多 間 公司 當時 租 車 地方 新莊 中原路 平台 上 訂 租 車 公司 平台 講 家人 主動 ...</td>\n",
       "    </tr>\n",
       "    <tr>\n",
       "      <th>1</th>\n",
       "      <td>235442609</td>\n",
       "      <td>超狂學經歷！195公分帥家教徵學生</td>\n",
       "      <td>https://i.imgur.com/REIEzSd.jpg\\n\\n身高195公分的男大生楊承翰在家教社團PO文徵學生的文章被網友推爆了，網友們看到他的學經歷及成績不禁大讚根本就是學霸王，而他不只擁有高顏質，還是籃球系隊成員，超乎常人的學經歷及證書考試成績，瞬間讓網友都跪著朝聖，直呼「天哪好厲害的帥哥」、「這個當家教太可惜了」。\\n\\n21歲台大學生楊承翰日前在臉書社團「家教補教學校兼全...</td>\n",
       "      <td>身高 公分 男 大生 楊承翰 家教 社團 學生 文章 網友 推爆 網友 們 看到 學經歷 成績 大讚 學霸王 擁有 高顏質 籃球 系隊 成員 超乎 常人 學經歷 證書 考試 成績 瞬間 讓 網友 跪 朝聖 呼 天 厲害 帥哥 這 個 當 家教 可惜 歲 台大 學生 楊承翰 日前 臉書 社團 家教 補教 學校 兼 全職 打工 師訓 交流 發文 想 時薪 元 找 家教 學生 授課 內容 為 英...</td>\n",
       "    </tr>\n",
       "    <tr>\n",
       "      <th>2</th>\n",
       "      <td>235441998</td>\n",
       "      <td>我的模特界時間管理大師前男友</td>\n",
       "      <td>看過這麼多在Dcard、PTT上的感情渣事和創作文\\n從沒想過如此荒謬像八點檔的事情居然會發生在自己的身上\\n\\n本來以為與我交往一年的男友，是因為遠距離的關係分手，但就在我難過發文之後，我的IG私訊被各種匿名爆料塞爆，才發現交往一年的他幾乎是個我完全不認識的人（除了我被無數次劈腿，還有他幻謊症的部分，可能還有妄想症...）\\n\\n \\n接下來的故事全部都是真真切切發生的事情，因為整段故事...</td>\n",
       "      <td>看過 這麼多 上 感情 渣事 創作 文 想 如此 荒謬 八點檔 事情 發生 身 上 以為 交往 年 男友 遠 距離 關係 分手 難過 發文 之後 私訊 各 種 匿名 爆料 塞爆 發現 交往 年 個 認識 人 無數 次 劈腿 有 幻謊症 部分 有 妄想症 故事 全部 真真切切 發生 事情 整 段 故事 複雜 牽扯 太多 人 確定 分成 篇 今天 認識到 在一起 故事 開始 講起 整 篇 故事...</td>\n",
       "    </tr>\n",
       "    <tr>\n",
       "      <th>3</th>\n",
       "      <td>235441259</td>\n",
       "      <td>豆皮加爆</td>\n",
       "      <td>剛剛吃小火鍋，跟店員說不要金針菇（怕卡牙縫），於是店員幫我換其他配料..…\\n\\n沒想到餐一上桌竟是豆皮加爆~\\n\\n真是超開心的~有人也跟我一樣喜歡吃豆皮的嗎？\\n\\nhttps://i.imgur.com/XIma4y2.jpg</td>\n",
       "      <td>吃 小 火鍋 店員 說 要 金針菇 怕 卡 牙縫 店員 換 其他 配料 餐 上桌 竟是 豆皮 加 爆 開心 有 人 一樣 喜歡 吃 豆皮</td>\n",
       "    </tr>\n",
       "    <tr>\n",
       "      <th>4</th>\n",
       "      <td>235442693</td>\n",
       "      <td>這樣女生該追嗎</td>\n",
       "      <td>已經約好見面，到了當天晚上七點半才回，我是被耍了嗎 \\n如下圖\\n\\n\\nhttps://i.imgur.com/81HRQpQ.jpg\\nhttps://i.imgur.com/6lmTX1P.jpg\\nhttps://i.imgur.com/bV4X0Fz.jpg</td>\n",
       "      <td>約好 見面 到 當天 晚上 七點半 回 耍 下圖</td>\n",
       "    </tr>\n",
       "    <tr>\n",
       "      <th>...</th>\n",
       "      <td>...</td>\n",
       "      <td>...</td>\n",
       "      <td>...</td>\n",
       "      <td>...</td>\n",
       "    </tr>\n",
       "    <tr>\n",
       "      <th>95</th>\n",
       "      <td>235444562</td>\n",
       "      <td>主題：💟愛情塔羅💟 他要的感情關係vs 我要的感情關係為何？兩個人的近期發展（曖昧/交往中/斷聯/復合）</td>\n",
       "      <td>🤗感謝我們之間的連結帶領你來到這裡！ \\n\\n主題：💟愛情塔羅💟 他要的感情關係vs 我要的感情關係為何？兩個人的近期發展（曖昧/交往中/斷聯/復合）\\n\\n本次的大眾占卜適合處在曖昧、交往中、剛斷聯、分手、期待的你，有時候一份感情的重要核心正是在於雙方要的是不是一樣的東西，不見得得要完全相同，但至少如果理解彼此的感情需求，在相處上也能夠更融洽嘍！\\n\\n⭐️請閉上眼睛，深呼吸，腦子專心裡...</td>\n",
       "      <td>感謝 之間 連結 帶領 來到 這裡 主題 愛情 塔羅 感情 關係 感情 關係 何 個 人 近期 發展 曖昧 交往 中 斷聯 復合 本 次 占卜 適合 處在 曖昧 交往 中 斷聯 分手 期待 份 感情 重要 核心 在於 一樣 東西 相同 理解 感情 需求 相處 上 融洽 請 閉上 眼睛 深呼吸 腦子 專心 裡 想 感情 關係 什麼 相同 想想 樣子 有 個 人 相處 點滴 張開 眼睛 組 牌...</td>\n",
       "    </tr>\n",
       "    <tr>\n",
       "      <th>96</th>\n",
       "      <td>235441027</td>\n",
       "      <td>#分享 老花古董包 LV 方盒子｜Celine 化妝箱</td>\n",
       "      <td>近期購入的兩款古董包 可能因為是新歡 所以都讓我愛不釋手(๑•̀ •́)و✧\\n不過正是古董包的緣故 包況總有些不盡理想的狀況 帶有小瑕疵的部分 我自己都可以接受\\n為了比較包包的容量 文內有帶到一小部分的what’s in my bag 也有實揹照的部分*ˊᵕˋ\\n\\n\\n\\n𓎘𓎘𓎘 Louis Vuitton monogram 開口笑方盒子\\n（名字是參考小紅書介紹）\\n\\n購入價格：...</td>\n",
       "      <td>近期 購入 款 古董包 新歡 讓 愛不釋手 古董包 緣故 包況 有 些 理想 狀況 帶有 小 瑕疵 部分 接受 包包 容量 文 內 有 帶到 小 部分 有 實 揹照 部分 開口 笑 方 盒子 名字 參考 小紅 書 介紹 購入 價格 購入 方式 代購 賣場 尺寸 公分 容量 暗層 這 款 愛 想 買給 媽媽 當作 生日 禮物 藏 房間 每 天 看 好 喜歡 後來 購入 送給 媽媽 這 款 留...</td>\n",
       "    </tr>\n",
       "    <tr>\n",
       "      <th>97</th>\n",
       "      <td>235447320</td>\n",
       "      <td>在公車上遇到的超尷尬事件</td>\n",
       "      <td>剛剛在公車上有一個阿伯下車前跟我說：妹妹你很有愛心欸 讓位置給別人 不像有些人都在裝睡\\n講完這句話還瞄了一眼旁邊的女生\\n我當下就笑笑的\\n可是阿伯\\n那個女生\\n-\\n-\\n-\\n是我朋友(^_^;)\\n幸好阿伯講完就下車了⋯\\nhttps://i.imgur.com/htuMwVw.jpg</td>\n",
       "      <td>公車 上 有 個 阿伯 下車 前 說 妹妹 有 愛心 讓 位置 給 有 些 人 裝睡 講完 這 句 話 瞄 眼 旁邊 女生 笑笑 阿伯 那 個 女生 朋友 阿伯 講完 下車</td>\n",
       "    </tr>\n",
       "    <tr>\n",
       "      <th>98</th>\n",
       "      <td>235440749</td>\n",
       "      <td>#大眾占卜 🥺。他現在對我的想法是?他的下一步是什麼?我能為這段關係做什麼樣的努力❣</td>\n",
       "      <td>大家好這裡是金魚🙏\\n這次的占卜適合斷聯、曖昧、復合的族群\\n\\n再上圖之前先置入我的IG\\nhttps://www.instagram.com/goldenfishtarot\\n\\n【大眾占卜集合多人能量請選擇有感應的部分聆聽即可】\\n喜歡有聲版請點連結\\n喜歡文字下面附上文案\\nhttps://youtu.be/xkJHmyl_M7g\\n\\nhttps://i.imgur.com/Ux...</td>\n",
       "      <td>好 這裡 金魚 這 次 占卜 適合 斷聯 曖昧 復合 族群 上 圖 之前 置入 占卜 集合 多 人 能量 請 選擇 有 感應 部分 聆聽 喜歡 請 點 連結 喜歡 文字 下面 附上 文案 組 這 個 對象 之前 感情 坎坷 劈腿 騙 錢 這 有 可能 關 久 遇見 願意 心房 打開 相處 過程 中 知道 什麼 無私 愛 這 種 感情 原生 家庭 感受到 防備 讓 受傷 熱情 有 正向 感染...</td>\n",
       "    </tr>\n",
       "    <tr>\n",
       "      <th>99</th>\n",
       "      <td>235442177</td>\n",
       "      <td>所以，你要當我女朋友嗎？</td>\n",
       "      <td>「所以，你要當我女朋友嗎？」我看進她的眼睛，隱約反射出自己的倒影。躺在床上的我們呼吸有些紊亂，午後的陽光肆無忌憚的灑在身上，有點溫暖。\\n\\n我們的故事，從英國開始。\\n\\n\\n大學畢業後我跑到英國念碩士，人生地不熟的地方，一個認識的人也沒有，頭幾週的生活常常是一個人吃飯、逛街、看劇度過，再加上那時還沒走出前女友劈腿的陰影，那段時間說實在還滿煎熬的。\\n\\n幸好後來認識了跟我住在同個宿舍的...</td>\n",
       "      <td>當 女朋友 看進 眼睛 反射出 倒影 躺 床 上 呼吸 紊亂 午後 陽光 肆無忌憚 灑 身 上 溫暖 故事 英國 開始 大學 畢業 後 跑到 英國 念 碩士 人生地不熟 地方 個 認識 人 沒有 週 生活 個 人 吃飯 逛街 看劇 度過 加上 那時 走出 前 女友 劈腿 陰影 那 段 時間 說 實在 煎熬 後來 認識 住在 同 個 宿舍 台灣人 知道 身邊 有 有 這樣 朋友 人脈 感覺 ...</td>\n",
       "    </tr>\n",
       "  </tbody>\n",
       "</table>\n",
       "<p>99 rows × 4 columns</p>\n",
       "</div>"
      ],
      "text/plain": [
       "           ID                                                 title  \\\n",
       "0   235443715                                      三更 21歲這年我差點被活活燒死   \n",
       "1   235442609                                     超狂學經歷！195公分帥家教徵學生   \n",
       "2   235441998                                        我的模特界時間管理大師前男友   \n",
       "3   235441259                                                  豆皮加爆   \n",
       "4   235442693                                               這樣女生該追嗎   \n",
       "..        ...                                                   ...   \n",
       "95  235444562  主題：💟愛情塔羅💟 他要的感情關係vs 我要的感情關係為何？兩個人的近期發展（曖昧/交往中/斷聯/復合）   \n",
       "96  235441027                           #分享 老花古董包 LV 方盒子｜Celine 化妝箱   \n",
       "97  235447320                                          在公車上遇到的超尷尬事件   \n",
       "98  235440749            #大眾占卜 🥺。他現在對我的想法是?他的下一步是什麼?我能為這段關係做什麼樣的努力❣   \n",
       "99  235442177                                          所以，你要當我女朋友嗎？   \n",
       "\n",
       "                                                                                                                                                                                                    content  \\\n",
       "0   部分回應在B117 \\n謝謝各位的留言，我都有看完\\n好的不好的，我都接受謝謝大家🙇‍♀️\\n\\n\\n（第三次更新在這邊）\\nB258 這邊也有講到怎麼逃生\\n很多人好奇我是怎麼踹門的，\\n在這邊跟大家說一下，\\n因為這台車本來就很老舊，\\n加上我文章說的我有停在路邊檢查，\\n之前有在練空手道，所以比較知道怎麼施力😥\\n謝謝大家的關心，其他比較有問題的我會在留言一一回覆！\\n\\n後續處理的...   \n",
       "1   https://i.imgur.com/REIEzSd.jpg\\n\\n身高195公分的男大生楊承翰在家教社團PO文徵學生的文章被網友推爆了，網友們看到他的學經歷及成績不禁大讚根本就是學霸王，而他不只擁有高顏質，還是籃球系隊成員，超乎常人的學經歷及證書考試成績，瞬間讓網友都跪著朝聖，直呼「天哪好厲害的帥哥」、「這個當家教太可惜了」。\\n\\n21歲台大學生楊承翰日前在臉書社團「家教補教學校兼全...   \n",
       "2   看過這麼多在Dcard、PTT上的感情渣事和創作文\\n從沒想過如此荒謬像八點檔的事情居然會發生在自己的身上\\n\\n本來以為與我交往一年的男友，是因為遠距離的關係分手，但就在我難過發文之後，我的IG私訊被各種匿名爆料塞爆，才發現交往一年的他幾乎是個我完全不認識的人（除了我被無數次劈腿，還有他幻謊症的部分，可能還有妄想症...）\\n\\n \\n接下來的故事全部都是真真切切發生的事情，因為整段故事...   \n",
       "3                                                                                      剛剛吃小火鍋，跟店員說不要金針菇（怕卡牙縫），於是店員幫我換其他配料..…\\n\\n沒想到餐一上桌竟是豆皮加爆~\\n\\n真是超開心的~有人也跟我一樣喜歡吃豆皮的嗎？\\n\\nhttps://i.imgur.com/XIma4y2.jpg   \n",
       "4                                                                    已經約好見面，到了當天晚上七點半才回，我是被耍了嗎 \\n如下圖\\n\\n\\nhttps://i.imgur.com/81HRQpQ.jpg\\nhttps://i.imgur.com/6lmTX1P.jpg\\nhttps://i.imgur.com/bV4X0Fz.jpg   \n",
       "..                                                                                                                                                                                                      ...   \n",
       "95  🤗感謝我們之間的連結帶領你來到這裡！ \\n\\n主題：💟愛情塔羅💟 他要的感情關係vs 我要的感情關係為何？兩個人的近期發展（曖昧/交往中/斷聯/復合）\\n\\n本次的大眾占卜適合處在曖昧、交往中、剛斷聯、分手、期待的你，有時候一份感情的重要核心正是在於雙方要的是不是一樣的東西，不見得得要完全相同，但至少如果理解彼此的感情需求，在相處上也能夠更融洽嘍！\\n\\n⭐️請閉上眼睛，深呼吸，腦子專心裡...   \n",
       "96  近期購入的兩款古董包 可能因為是新歡 所以都讓我愛不釋手(๑•̀ •́)و✧\\n不過正是古董包的緣故 包況總有些不盡理想的狀況 帶有小瑕疵的部分 我自己都可以接受\\n為了比較包包的容量 文內有帶到一小部分的what’s in my bag 也有實揹照的部分*ˊᵕˋ\\n\\n\\n\\n𓎘𓎘𓎘 Louis Vuitton monogram 開口笑方盒子\\n（名字是參考小紅書介紹）\\n\\n購入價格：...   \n",
       "97                                                     剛剛在公車上有一個阿伯下車前跟我說：妹妹你很有愛心欸 讓位置給別人 不像有些人都在裝睡\\n講完這句話還瞄了一眼旁邊的女生\\n我當下就笑笑的\\n可是阿伯\\n那個女生\\n-\\n-\\n-\\n是我朋友(^_^;)\\n幸好阿伯講完就下車了⋯\\nhttps://i.imgur.com/htuMwVw.jpg   \n",
       "98  大家好這裡是金魚🙏\\n這次的占卜適合斷聯、曖昧、復合的族群\\n\\n再上圖之前先置入我的IG\\nhttps://www.instagram.com/goldenfishtarot\\n\\n【大眾占卜集合多人能量請選擇有感應的部分聆聽即可】\\n喜歡有聲版請點連結\\n喜歡文字下面附上文案\\nhttps://youtu.be/xkJHmyl_M7g\\n\\nhttps://i.imgur.com/Ux...   \n",
       "99  「所以，你要當我女朋友嗎？」我看進她的眼睛，隱約反射出自己的倒影。躺在床上的我們呼吸有些紊亂，午後的陽光肆無忌憚的灑在身上，有點溫暖。\\n\\n我們的故事，從英國開始。\\n\\n\\n大學畢業後我跑到英國念碩士，人生地不熟的地方，一個認識的人也沒有，頭幾週的生活常常是一個人吃飯、逛街、看劇度過，再加上那時還沒走出前女友劈腿的陰影，那段時間說實在還滿煎熬的。\\n\\n幸好後來認識了跟我住在同個宿舍的...   \n",
       "\n",
       "                                                                                                                                                                                                 Normalized  \n",
       "0   部分 回應 謝謝 各位 留言 有 看完 好 好 接受 謝謝 次 更新 這邊 這邊 有 講到 逃生 很多 人 好奇 踹 門 這邊 說 一下 這 台 車 老舊 文章 說 有 停 路 邊 檢查 之前 有 練 空手道 知道 施力 謝謝 關心 其他 有 問題 留言 回覆 處理 部分 租 車 公司 有 很多 間 公司 當時 租 車 地方 新莊 中原路 平台 上 訂 租 車 公司 平台 講 家人 主動 ...  \n",
       "1   身高 公分 男 大生 楊承翰 家教 社團 學生 文章 網友 推爆 網友 們 看到 學經歷 成績 大讚 學霸王 擁有 高顏質 籃球 系隊 成員 超乎 常人 學經歷 證書 考試 成績 瞬間 讓 網友 跪 朝聖 呼 天 厲害 帥哥 這 個 當 家教 可惜 歲 台大 學生 楊承翰 日前 臉書 社團 家教 補教 學校 兼 全職 打工 師訓 交流 發文 想 時薪 元 找 家教 學生 授課 內容 為 英...  \n",
       "2   看過 這麼多 上 感情 渣事 創作 文 想 如此 荒謬 八點檔 事情 發生 身 上 以為 交往 年 男友 遠 距離 關係 分手 難過 發文 之後 私訊 各 種 匿名 爆料 塞爆 發現 交往 年 個 認識 人 無數 次 劈腿 有 幻謊症 部分 有 妄想症 故事 全部 真真切切 發生 事情 整 段 故事 複雜 牽扯 太多 人 確定 分成 篇 今天 認識到 在一起 故事 開始 講起 整 篇 故事...  \n",
       "3                                                                                                                                      吃 小 火鍋 店員 說 要 金針菇 怕 卡 牙縫 店員 換 其他 配料 餐 上桌 竟是 豆皮 加 爆 開心 有 人 一樣 喜歡 吃 豆皮  \n",
       "4                                                                                                                                                                                  約好 見面 到 當天 晚上 七點半 回 耍 下圖  \n",
       "..                                                                                                                                                                                                      ...  \n",
       "95  感謝 之間 連結 帶領 來到 這裡 主題 愛情 塔羅 感情 關係 感情 關係 何 個 人 近期 發展 曖昧 交往 中 斷聯 復合 本 次 占卜 適合 處在 曖昧 交往 中 斷聯 分手 期待 份 感情 重要 核心 在於 一樣 東西 相同 理解 感情 需求 相處 上 融洽 請 閉上 眼睛 深呼吸 腦子 專心 裡 想 感情 關係 什麼 相同 想想 樣子 有 個 人 相處 點滴 張開 眼睛 組 牌...  \n",
       "96  近期 購入 款 古董包 新歡 讓 愛不釋手 古董包 緣故 包況 有 些 理想 狀況 帶有 小 瑕疵 部分 接受 包包 容量 文 內 有 帶到 小 部分 有 實 揹照 部分 開口 笑 方 盒子 名字 參考 小紅 書 介紹 購入 價格 購入 方式 代購 賣場 尺寸 公分 容量 暗層 這 款 愛 想 買給 媽媽 當作 生日 禮物 藏 房間 每 天 看 好 喜歡 後來 購入 送給 媽媽 這 款 留...  \n",
       "97                                                                                                                   公車 上 有 個 阿伯 下車 前 說 妹妹 有 愛心 讓 位置 給 有 些 人 裝睡 講完 這 句 話 瞄 眼 旁邊 女生 笑笑 阿伯 那 個 女生 朋友 阿伯 講完 下車  \n",
       "98  好 這裡 金魚 這 次 占卜 適合 斷聯 曖昧 復合 族群 上 圖 之前 置入 占卜 集合 多 人 能量 請 選擇 有 感應 部分 聆聽 喜歡 請 點 連結 喜歡 文字 下面 附上 文案 組 這 個 對象 之前 感情 坎坷 劈腿 騙 錢 這 有 可能 關 久 遇見 願意 心房 打開 相處 過程 中 知道 什麼 無私 愛 這 種 感情 原生 家庭 感受到 防備 讓 受傷 熱情 有 正向 感染...  \n",
       "99  當 女朋友 看進 眼睛 反射出 倒影 躺 床 上 呼吸 紊亂 午後 陽光 肆無忌憚 灑 身 上 溫暖 故事 英國 開始 大學 畢業 後 跑到 英國 念 碩士 人生地不熟 地方 個 認識 人 沒有 週 生活 個 人 吃飯 逛街 看劇 度過 加上 那時 走出 前 女友 劈腿 陰影 那 段 時間 說 實在 煎熬 後來 認識 住在 同 個 宿舍 台灣人 知道 身邊 有 有 這樣 朋友 人脈 感覺 ...  \n",
       "\n",
       "[99 rows x 4 columns]"
      ]
     },
     "execution_count": 14,
     "metadata": {},
     "output_type": "execute_result"
    }
   ],
   "source": [
    "corpus_df2['Normalized'] = norm_corpus\n",
    "corpus_df2"
   ]
  },
  {
   "cell_type": "code",
   "execution_count": 15,
   "metadata": {
    "tags": [
     "remove-input",
     "remove-output"
    ]
   },
   "outputs": [
    {
     "data": {
      "text/plain": [
       "'晚上 好 今天 分享 個 春天 日系 妝容 給 剛好 剪 頭髮 換 個 髮型 喜歡 次 頭髮 打 薄 有 日系 感覺 這 次 分享 個 妝容 剛好 剪 頭髮 前後 覺得 好看 變 回去 囉嗦 有 興趣 看 下去 今天 分享 個 妝 附上 久違 素顏 給 對比 組 分享 封面 妝容 剪完 髮 這 組 分享 大愛 橘色 妝容 讓 整體 柔和 眼線筆 睫毛膏 選擇 帶有 顏色 附上 彩妝品 眼妝 教學 眼影 這 個 打底色 腮紅 做 打底 腮紅 不均 上 眼睛 好用 斑駁 不均 手 上 眼影 這 盤 發色 好 沾取 量 少 慢慢 堆疊 艾杜紗  眼線筆 失手 眼線 膠筆 鉛 丹橘 芯 細 好 畫 試 手 上 感覺 持 妝 不錯 之後 出門 更新 持久性 艾杜紗 睫毛 底膏 勃根地粉 低調 粉色 明顯 擦 感覺 溫溫柔柔 沒 什麼 濃密 作用 上 睫毛膏 艾杜紗 愛 潤唇蜜 亮橘 上 嘴 薄 透 自然感 橘 嚇人 日常 建議 裸色 打底 畫 唇型 疊加 這 個 眼妝 部分 眼影 塗 整 個 眼窩 塗 雙眼皮 折 後 疊擦 眼尾處 最後 眼 中 疊擦 美 眼影 塗滿 整 個 眼下 中間 處 疊加 一點 亮 橘 這 個 眼妝 完成 剪髮 前 組 今年 春天 日本 流行 紫粉色 為 基底 整體 給 人 感覺 成熟 沈穩 附上 彩妝品 眼妝 教學 眼影 這 盤 組合 裡 攜帶型 迷你 眼影 排 眼影 這 顆 單色 眼影 閃片 美 隨便 擦 隨便 美  拿來 打亮 眼頭 眼下 金 上眼 混 白色 珠光 那 種 嚇人 金色 大 亮片 細緻 推 新手 買 直接 塗 打 底色 手 上 眼皮 中央 瞬間 升級 妝感 眼線 阻力 經典 復古 棕 眼線 說 這 隻 摯愛 眼線液 眼線筆 暈 用 很多 拿 這 隻 畫 內 眼線 暈 眼妝 乾淨 整 天 秘密 棕色 上 眼 黑色 死黑 深 深 咖啡 腮紅 倩碧 小花 腮紅 紫羅蘭 小花 腮紅 發色 好 需要 上 層 紅  細白 管 擦起來 偏 粉 乾燥 玫瑰色 粉顏 色調 恰到好處 眼妝 部分 眼影 塗 整 個 眼窩 塗 雙眼皮 折中 後方 暈染 開 小 刷子 沾取 打亮 眼頭 眼下 想要 加強 眼皮 閃度 疊  中央 眼影 塗 中後 部分 之後 尾 地方 疊擦 這 個 眼妝 鬆散 小 刷子 完成 今天 個 日系 妝容 分享 這 希望 喜歡 有 問題 留言 謝謝 觀看 妝容 實拍 小 影片 習慣 這 個 髮型'"
      ]
     },
     "execution_count": 15,
     "metadata": {},
     "output_type": "execute_result"
    }
   ],
   "source": [
    "## check `norm_corpus`\n",
    "len(norm_corpus)\n",
    "norm_corpus[10]"
   ]
  },
  {
   "cell_type": "markdown",
   "metadata": {
    "tags": [
     "remove-input",
     "remove-output"
    ]
   },
   "source": [
    "### Bag of Words Model"
   ]
  },
  {
   "cell_type": "markdown",
   "metadata": {
    "tags": [
     "remove-input",
     "remove-output"
    ]
   },
   "source": [
    "- Bag-of-words model is the simplest way to vectorize texts into numeric representations.\n",
    "- In short, it is a method to represent a text using its word frequency list.\n",
    "- The sequential order of words in the text is therefore naively ignored."
   ]
  },
  {
   "cell_type": "code",
   "execution_count": 16,
   "metadata": {
    "tags": [
     "remove-input",
     "remove-output"
    ]
   },
   "outputs": [
    {
     "data": {
      "text/plain": [
       "<99x595 sparse matrix of type '<class 'numpy.int64'>'\n",
       "\twith 3587 stored elements in Compressed Sparse Row format>"
      ]
     },
     "execution_count": 16,
     "metadata": {},
     "output_type": "execute_result"
    }
   ],
   "source": [
    "from sklearn.feature_extraction.text import CountVectorizer\n",
    "# get bag of words features in sparse format\n",
    "cv = CountVectorizer(min_df=3, max_df=0.7,token_pattern=r'[^\\s]{2,}') ## include two-syllable words\n",
    "cv_matrix = cv.fit_transform(norm_corpus)\n",
    "cv_matrix"
   ]
  },
  {
   "cell_type": "code",
   "execution_count": 17,
   "metadata": {
    "tags": [
     "remove-input",
     "remove-output"
    ]
   },
   "outputs": [
    {
     "data": {
      "text/html": [
       "<div>\n",
       "<style scoped>\n",
       "    .dataframe tbody tr th:only-of-type {\n",
       "        vertical-align: middle;\n",
       "    }\n",
       "\n",
       "    .dataframe tbody tr th {\n",
       "        vertical-align: top;\n",
       "    }\n",
       "\n",
       "    .dataframe thead th {\n",
       "        text-align: right;\n",
       "    }\n",
       "</style>\n",
       "<table border=\"1\" class=\"dataframe\">\n",
       "  <thead>\n",
       "    <tr style=\"text-align: right;\">\n",
       "      <th></th>\n",
       "      <th>一下</th>\n",
       "      <th>一些</th>\n",
       "      <th>一切</th>\n",
       "      <th>一半</th>\n",
       "      <th>一樣</th>\n",
       "      <th>一陣子</th>\n",
       "      <th>一點</th>\n",
       "      <th>一點點</th>\n",
       "      <th>上來</th>\n",
       "      <th>上班</th>\n",
       "      <th>...</th>\n",
       "      <th>顏色</th>\n",
       "      <th>願意</th>\n",
       "      <th>類似</th>\n",
       "      <th>風格</th>\n",
       "      <th>食物</th>\n",
       "      <th>香氣</th>\n",
       "      <th>驕傲</th>\n",
       "      <th>體重</th>\n",
       "      <th>麻煩</th>\n",
       "      <th>黑色</th>\n",
       "    </tr>\n",
       "  </thead>\n",
       "  <tbody>\n",
       "    <tr>\n",
       "      <th>0</th>\n",
       "      <td>1</td>\n",
       "      <td>0</td>\n",
       "      <td>0</td>\n",
       "      <td>0</td>\n",
       "      <td>0</td>\n",
       "      <td>0</td>\n",
       "      <td>1</td>\n",
       "      <td>0</td>\n",
       "      <td>0</td>\n",
       "      <td>0</td>\n",
       "      <td>...</td>\n",
       "      <td>0</td>\n",
       "      <td>0</td>\n",
       "      <td>0</td>\n",
       "      <td>0</td>\n",
       "      <td>0</td>\n",
       "      <td>0</td>\n",
       "      <td>0</td>\n",
       "      <td>0</td>\n",
       "      <td>0</td>\n",
       "      <td>0</td>\n",
       "    </tr>\n",
       "    <tr>\n",
       "      <th>1</th>\n",
       "      <td>0</td>\n",
       "      <td>0</td>\n",
       "      <td>0</td>\n",
       "      <td>0</td>\n",
       "      <td>0</td>\n",
       "      <td>0</td>\n",
       "      <td>0</td>\n",
       "      <td>0</td>\n",
       "      <td>0</td>\n",
       "      <td>0</td>\n",
       "      <td>...</td>\n",
       "      <td>0</td>\n",
       "      <td>0</td>\n",
       "      <td>0</td>\n",
       "      <td>0</td>\n",
       "      <td>0</td>\n",
       "      <td>0</td>\n",
       "      <td>0</td>\n",
       "      <td>0</td>\n",
       "      <td>0</td>\n",
       "      <td>0</td>\n",
       "    </tr>\n",
       "    <tr>\n",
       "      <th>2</th>\n",
       "      <td>4</td>\n",
       "      <td>1</td>\n",
       "      <td>3</td>\n",
       "      <td>0</td>\n",
       "      <td>2</td>\n",
       "      <td>1</td>\n",
       "      <td>0</td>\n",
       "      <td>0</td>\n",
       "      <td>0</td>\n",
       "      <td>0</td>\n",
       "      <td>...</td>\n",
       "      <td>0</td>\n",
       "      <td>1</td>\n",
       "      <td>0</td>\n",
       "      <td>0</td>\n",
       "      <td>2</td>\n",
       "      <td>0</td>\n",
       "      <td>0</td>\n",
       "      <td>0</td>\n",
       "      <td>0</td>\n",
       "      <td>0</td>\n",
       "    </tr>\n",
       "    <tr>\n",
       "      <th>3</th>\n",
       "      <td>0</td>\n",
       "      <td>0</td>\n",
       "      <td>0</td>\n",
       "      <td>0</td>\n",
       "      <td>1</td>\n",
       "      <td>0</td>\n",
       "      <td>0</td>\n",
       "      <td>0</td>\n",
       "      <td>0</td>\n",
       "      <td>0</td>\n",
       "      <td>...</td>\n",
       "      <td>0</td>\n",
       "      <td>0</td>\n",
       "      <td>0</td>\n",
       "      <td>0</td>\n",
       "      <td>0</td>\n",
       "      <td>0</td>\n",
       "      <td>0</td>\n",
       "      <td>0</td>\n",
       "      <td>0</td>\n",
       "      <td>0</td>\n",
       "    </tr>\n",
       "    <tr>\n",
       "      <th>4</th>\n",
       "      <td>0</td>\n",
       "      <td>0</td>\n",
       "      <td>0</td>\n",
       "      <td>0</td>\n",
       "      <td>0</td>\n",
       "      <td>0</td>\n",
       "      <td>0</td>\n",
       "      <td>0</td>\n",
       "      <td>0</td>\n",
       "      <td>0</td>\n",
       "      <td>...</td>\n",
       "      <td>0</td>\n",
       "      <td>0</td>\n",
       "      <td>0</td>\n",
       "      <td>0</td>\n",
       "      <td>0</td>\n",
       "      <td>0</td>\n",
       "      <td>0</td>\n",
       "      <td>0</td>\n",
       "      <td>0</td>\n",
       "      <td>0</td>\n",
       "    </tr>\n",
       "    <tr>\n",
       "      <th>...</th>\n",
       "      <td>...</td>\n",
       "      <td>...</td>\n",
       "      <td>...</td>\n",
       "      <td>...</td>\n",
       "      <td>...</td>\n",
       "      <td>...</td>\n",
       "      <td>...</td>\n",
       "      <td>...</td>\n",
       "      <td>...</td>\n",
       "      <td>...</td>\n",
       "      <td>...</td>\n",
       "      <td>...</td>\n",
       "      <td>...</td>\n",
       "      <td>...</td>\n",
       "      <td>...</td>\n",
       "      <td>...</td>\n",
       "      <td>...</td>\n",
       "      <td>...</td>\n",
       "      <td>...</td>\n",
       "      <td>...</td>\n",
       "      <td>...</td>\n",
       "    </tr>\n",
       "    <tr>\n",
       "      <th>94</th>\n",
       "      <td>0</td>\n",
       "      <td>0</td>\n",
       "      <td>0</td>\n",
       "      <td>0</td>\n",
       "      <td>1</td>\n",
       "      <td>0</td>\n",
       "      <td>0</td>\n",
       "      <td>0</td>\n",
       "      <td>0</td>\n",
       "      <td>0</td>\n",
       "      <td>...</td>\n",
       "      <td>0</td>\n",
       "      <td>0</td>\n",
       "      <td>0</td>\n",
       "      <td>0</td>\n",
       "      <td>0</td>\n",
       "      <td>0</td>\n",
       "      <td>0</td>\n",
       "      <td>0</td>\n",
       "      <td>0</td>\n",
       "      <td>0</td>\n",
       "    </tr>\n",
       "    <tr>\n",
       "      <th>95</th>\n",
       "      <td>0</td>\n",
       "      <td>1</td>\n",
       "      <td>0</td>\n",
       "      <td>0</td>\n",
       "      <td>1</td>\n",
       "      <td>0</td>\n",
       "      <td>0</td>\n",
       "      <td>0</td>\n",
       "      <td>0</td>\n",
       "      <td>0</td>\n",
       "      <td>...</td>\n",
       "      <td>0</td>\n",
       "      <td>0</td>\n",
       "      <td>0</td>\n",
       "      <td>0</td>\n",
       "      <td>0</td>\n",
       "      <td>0</td>\n",
       "      <td>0</td>\n",
       "      <td>0</td>\n",
       "      <td>0</td>\n",
       "      <td>0</td>\n",
       "    </tr>\n",
       "    <tr>\n",
       "      <th>96</th>\n",
       "      <td>0</td>\n",
       "      <td>0</td>\n",
       "      <td>0</td>\n",
       "      <td>0</td>\n",
       "      <td>0</td>\n",
       "      <td>0</td>\n",
       "      <td>0</td>\n",
       "      <td>0</td>\n",
       "      <td>0</td>\n",
       "      <td>0</td>\n",
       "      <td>...</td>\n",
       "      <td>0</td>\n",
       "      <td>0</td>\n",
       "      <td>0</td>\n",
       "      <td>0</td>\n",
       "      <td>0</td>\n",
       "      <td>0</td>\n",
       "      <td>0</td>\n",
       "      <td>0</td>\n",
       "      <td>0</td>\n",
       "      <td>0</td>\n",
       "    </tr>\n",
       "    <tr>\n",
       "      <th>97</th>\n",
       "      <td>1</td>\n",
       "      <td>2</td>\n",
       "      <td>0</td>\n",
       "      <td>0</td>\n",
       "      <td>0</td>\n",
       "      <td>0</td>\n",
       "      <td>0</td>\n",
       "      <td>0</td>\n",
       "      <td>0</td>\n",
       "      <td>0</td>\n",
       "      <td>...</td>\n",
       "      <td>0</td>\n",
       "      <td>4</td>\n",
       "      <td>0</td>\n",
       "      <td>0</td>\n",
       "      <td>0</td>\n",
       "      <td>0</td>\n",
       "      <td>0</td>\n",
       "      <td>0</td>\n",
       "      <td>1</td>\n",
       "      <td>0</td>\n",
       "    </tr>\n",
       "    <tr>\n",
       "      <th>98</th>\n",
       "      <td>1</td>\n",
       "      <td>0</td>\n",
       "      <td>0</td>\n",
       "      <td>1</td>\n",
       "      <td>0</td>\n",
       "      <td>0</td>\n",
       "      <td>0</td>\n",
       "      <td>0</td>\n",
       "      <td>0</td>\n",
       "      <td>0</td>\n",
       "      <td>...</td>\n",
       "      <td>0</td>\n",
       "      <td>0</td>\n",
       "      <td>0</td>\n",
       "      <td>0</td>\n",
       "      <td>0</td>\n",
       "      <td>0</td>\n",
       "      <td>0</td>\n",
       "      <td>0</td>\n",
       "      <td>0</td>\n",
       "      <td>0</td>\n",
       "    </tr>\n",
       "  </tbody>\n",
       "</table>\n",
       "<p>99 rows × 595 columns</p>\n",
       "</div>"
      ],
      "text/plain": [
       "    一下  一些  一切  一半  一樣  一陣子  一點  一點點  上來  上班  ...  顏色  願意  類似  風格  食物  香氣  驕傲  \\\n",
       "0    1   0   0   0   0    0   1    0   0   0  ...   0   0   0   0   0   0   0   \n",
       "1    0   0   0   0   0    0   0    0   0   0  ...   0   0   0   0   0   0   0   \n",
       "2    4   1   3   0   2    1   0    0   0   0  ...   0   1   0   0   2   0   0   \n",
       "3    0   0   0   0   1    0   0    0   0   0  ...   0   0   0   0   0   0   0   \n",
       "4    0   0   0   0   0    0   0    0   0   0  ...   0   0   0   0   0   0   0   \n",
       "..  ..  ..  ..  ..  ..  ...  ..  ...  ..  ..  ...  ..  ..  ..  ..  ..  ..  ..   \n",
       "94   0   0   0   0   1    0   0    0   0   0  ...   0   0   0   0   0   0   0   \n",
       "95   0   1   0   0   1    0   0    0   0   0  ...   0   0   0   0   0   0   0   \n",
       "96   0   0   0   0   0    0   0    0   0   0  ...   0   0   0   0   0   0   0   \n",
       "97   1   2   0   0   0    0   0    0   0   0  ...   0   4   0   0   0   0   0   \n",
       "98   1   0   0   1   0    0   0    0   0   0  ...   0   0   0   0   0   0   0   \n",
       "\n",
       "    體重  麻煩  黑色  \n",
       "0    0   0   0  \n",
       "1    0   0   0  \n",
       "2    0   0   0  \n",
       "3    0   0   0  \n",
       "4    0   0   0  \n",
       "..  ..  ..  ..  \n",
       "94   0   0   0  \n",
       "95   0   0   0  \n",
       "96   0   0   0  \n",
       "97   0   1   0  \n",
       "98   0   0   0  \n",
       "\n",
       "[99 rows x 595 columns]"
      ]
     },
     "execution_count": 17,
     "metadata": {},
     "output_type": "execute_result"
    }
   ],
   "source": [
    "# get all unique words in the corpus\n",
    "vocab = np.array(cv.get_feature_names())\n",
    "# show document feature vectors\n",
    "pd.DataFrame(cv_matrix.toarray(), columns=vocab)"
   ]
  },
  {
   "cell_type": "markdown",
   "metadata": {
    "tags": [
     "remove-input",
     "remove-output"
    ]
   },
   "source": [
    "### Latent Dirichlet Allocation"
   ]
  },
  {
   "cell_type": "code",
   "execution_count": 18,
   "metadata": {
    "tags": [
     "remove-input",
     "remove-output"
    ]
   },
   "outputs": [],
   "source": [
    "num_of_topic = 4"
   ]
  },
  {
   "cell_type": "code",
   "execution_count": 19,
   "metadata": {
    "tags": [
     "remove-input",
     "remove-output"
    ]
   },
   "outputs": [
    {
     "name": "stdout",
     "output_type": "stream",
     "text": [
      "CPU times: user 6.04 s, sys: 448 ms, total: 6.49 s\n",
      "Wall time: 19.7 s\n"
     ]
    }
   ],
   "source": [
    "%%time\n",
    "from sklearn.decomposition import LatentDirichletAllocation\n",
    "\n",
    "\n",
    "# lda = LatentDirichletAllocation(n_components=num_of_topic, max_iter=1000, random_state=0,\n",
    "#                                max_doc_update_iter=50, learning_method='online',\n",
    "#                                batch_size=50, learning_offset = 50, n_jobs = -1)\n",
    "\n",
    "lda = LatentDirichletAllocation(n_components=num_of_topic, max_iter=1000,\n",
    "                                random_state=0, \n",
    "                                learning_method='online',\n",
    "                                n_jobs = -1)\n",
    "\n",
    "\n",
    "dt_matrix = lda.fit_transform(cv_matrix) # document matrix"
   ]
  },
  {
   "cell_type": "code",
   "execution_count": 20,
   "metadata": {
    "tags": [
     "remove-input",
     "remove-output"
    ]
   },
   "outputs": [
    {
     "data": {
      "text/html": [
       "<div>\n",
       "<style scoped>\n",
       "    .dataframe tbody tr th:only-of-type {\n",
       "        vertical-align: middle;\n",
       "    }\n",
       "\n",
       "    .dataframe tbody tr th {\n",
       "        vertical-align: top;\n",
       "    }\n",
       "\n",
       "    .dataframe thead th {\n",
       "        text-align: right;\n",
       "    }\n",
       "</style>\n",
       "<table border=\"1\" class=\"dataframe\">\n",
       "  <thead>\n",
       "    <tr style=\"text-align: right;\">\n",
       "      <th></th>\n",
       "      <th>T1</th>\n",
       "      <th>T2</th>\n",
       "      <th>T3</th>\n",
       "      <th>T4</th>\n",
       "    </tr>\n",
       "  </thead>\n",
       "  <tbody>\n",
       "    <tr>\n",
       "      <th>0</th>\n",
       "      <td>0.001886</td>\n",
       "      <td>0.994282</td>\n",
       "      <td>0.001932</td>\n",
       "      <td>0.001899</td>\n",
       "    </tr>\n",
       "    <tr>\n",
       "      <th>1</th>\n",
       "      <td>0.003442</td>\n",
       "      <td>0.003491</td>\n",
       "      <td>0.989540</td>\n",
       "      <td>0.003527</td>\n",
       "    </tr>\n",
       "    <tr>\n",
       "      <th>2</th>\n",
       "      <td>0.000773</td>\n",
       "      <td>0.997617</td>\n",
       "      <td>0.000828</td>\n",
       "      <td>0.000783</td>\n",
       "    </tr>\n",
       "    <tr>\n",
       "      <th>3</th>\n",
       "      <td>0.036872</td>\n",
       "      <td>0.888035</td>\n",
       "      <td>0.037443</td>\n",
       "      <td>0.037651</td>\n",
       "    </tr>\n",
       "    <tr>\n",
       "      <th>4</th>\n",
       "      <td>0.063807</td>\n",
       "      <td>0.066335</td>\n",
       "      <td>0.066129</td>\n",
       "      <td>0.803729</td>\n",
       "    </tr>\n",
       "    <tr>\n",
       "      <th>...</th>\n",
       "      <td>...</td>\n",
       "      <td>...</td>\n",
       "      <td>...</td>\n",
       "      <td>...</td>\n",
       "    </tr>\n",
       "    <tr>\n",
       "      <th>94</th>\n",
       "      <td>0.004961</td>\n",
       "      <td>0.984974</td>\n",
       "      <td>0.005043</td>\n",
       "      <td>0.005021</td>\n",
       "    </tr>\n",
       "    <tr>\n",
       "      <th>95</th>\n",
       "      <td>0.004143</td>\n",
       "      <td>0.004099</td>\n",
       "      <td>0.987740</td>\n",
       "      <td>0.004018</td>\n",
       "    </tr>\n",
       "    <tr>\n",
       "      <th>96</th>\n",
       "      <td>0.032050</td>\n",
       "      <td>0.033314</td>\n",
       "      <td>0.031599</td>\n",
       "      <td>0.903038</td>\n",
       "    </tr>\n",
       "    <tr>\n",
       "      <th>97</th>\n",
       "      <td>0.001458</td>\n",
       "      <td>0.995596</td>\n",
       "      <td>0.001482</td>\n",
       "      <td>0.001465</td>\n",
       "    </tr>\n",
       "    <tr>\n",
       "      <th>98</th>\n",
       "      <td>0.002762</td>\n",
       "      <td>0.002856</td>\n",
       "      <td>0.002833</td>\n",
       "      <td>0.991549</td>\n",
       "    </tr>\n",
       "  </tbody>\n",
       "</table>\n",
       "<p>99 rows × 4 columns</p>\n",
       "</div>"
      ],
      "text/plain": [
       "          T1        T2        T3        T4\n",
       "0   0.001886  0.994282  0.001932  0.001899\n",
       "1   0.003442  0.003491  0.989540  0.003527\n",
       "2   0.000773  0.997617  0.000828  0.000783\n",
       "3   0.036872  0.888035  0.037443  0.037651\n",
       "4   0.063807  0.066335  0.066129  0.803729\n",
       "..       ...       ...       ...       ...\n",
       "94  0.004961  0.984974  0.005043  0.005021\n",
       "95  0.004143  0.004099  0.987740  0.004018\n",
       "96  0.032050  0.033314  0.031599  0.903038\n",
       "97  0.001458  0.995596  0.001482  0.001465\n",
       "98  0.002762  0.002856  0.002833  0.991549\n",
       "\n",
       "[99 rows x 4 columns]"
      ]
     },
     "execution_count": 20,
     "metadata": {},
     "output_type": "execute_result"
    }
   ],
   "source": [
    "features = pd.DataFrame(dt_matrix, columns = [\"T\"+str(n) for n in range(1,num_of_topic+1)])\n",
    "features"
   ]
  },
  {
   "cell_type": "markdown",
   "metadata": {
    "tags": [
     "remove-input",
     "remove-output"
    ]
   },
   "source": [
    "### Show topics and their weights"
   ]
  },
  {
   "cell_type": "code",
   "execution_count": 21,
   "metadata": {
    "tags": [
     "remove-input",
     "remove-output"
    ]
   },
   "outputs": [],
   "source": [
    "# tt_matrix = lda.components_ # topic matrix\n",
    "# for topic_weights in tt_matrix:\n",
    "#     topic = [(token, weight) for token, weight in zip(vocab, topic_weights)]\n",
    "#     topic = sorted(topic, key=lambda x: -x[1])\n",
    "#     topic = [item for item in topic if item[1] > 0.6]\n",
    "#     print(topic)\n",
    "#     print()\n"
   ]
  },
  {
   "cell_type": "code",
   "execution_count": 22,
   "metadata": {
    "tags": [
     "remove-input",
     "remove-output"
    ]
   },
   "outputs": [],
   "source": [
    "topic_terms = lda.components_\n",
    "top_terms = 20\n",
    "topic_keywords_idxs = np.argsort(-np.absolute(topic_terms), axis=1)[:,:top_terms]\n",
    "topic_keywords = vocab[topic_keywords_idxs]\n",
    "topics = [', '.join(w) for w in topic_keywords]\n",
    "pd.set_option('display.max_colwidth', None)\n",
    "topics_df = pd.DataFrame(topics,\n",
    "                        columns = ['Keywords per Topic'],\n",
    "                        index = [\"Topic\"+str(n) for n in range(1,num_of_topic+1)])"
   ]
  },
  {
   "cell_type": "code",
   "execution_count": 23,
   "metadata": {
    "scrolled": true,
    "tags": [
     "remove-input",
     "remove-output"
    ]
   },
   "outputs": [
    {
     "data": {
      "text/html": [
       "<div>\n",
       "<style scoped>\n",
       "    .dataframe tbody tr th:only-of-type {\n",
       "        vertical-align: middle;\n",
       "    }\n",
       "\n",
       "    .dataframe tbody tr th {\n",
       "        vertical-align: top;\n",
       "    }\n",
       "\n",
       "    .dataframe thead th {\n",
       "        text-align: right;\n",
       "    }\n",
       "</style>\n",
       "<table border=\"1\" class=\"dataframe\">\n",
       "  <thead>\n",
       "    <tr style=\"text-align: right;\">\n",
       "      <th></th>\n",
       "      <th>Keywords per Topic</th>\n",
       "    </tr>\n",
       "  </thead>\n",
       "  <tbody>\n",
       "    <tr>\n",
       "      <th>Topic1</th>\n",
       "      <td>顏色, 唇膏, 眼影, 味道, 分享, 感覺, 一下, 腮紅, 今天, 妝容, 眼妝, 喜歡, 什麼, 粉底, 附上, 唇釉, 質地, 頭髮, 妝感, 乾淨</td>\n",
       "    </tr>\n",
       "    <tr>\n",
       "      <th>Topic2</th>\n",
       "      <td>覺得, 時候, 什麼, 開始, 知道, 看到, 朋友, 現在, 這樣, 喜歡, 很多, 感情, 發現, 時間, 想要, 工作, 男友, 最後, 後來, 希望</td>\n",
       "    </tr>\n",
       "    <tr>\n",
       "      <th>Topic3</th>\n",
       "      <td>蛋糕, 草莓, 故事, 男友, 店家, 工作, 現在, 大學, 發現, 搭配, 喜歡, 覺得, 知道, 學生, 女友, 分享, 可愛, 當天, 購入, 穿搭</td>\n",
       "    </tr>\n",
       "    <tr>\n",
       "      <th>Topic4</th>\n",
       "      <td>這樣, 看到, 知道, 沒有, 訊息, 部分, 覺得, 開始, 直接, 現在, 公司, 見面, 韓網, 今天, 感覺, 男生, 原文, 成功, 翻譯, 什麼</td>\n",
       "    </tr>\n",
       "  </tbody>\n",
       "</table>\n",
       "</div>"
      ],
      "text/plain": [
       "                                                                    Keywords per Topic\n",
       "Topic1  顏色, 唇膏, 眼影, 味道, 分享, 感覺, 一下, 腮紅, 今天, 妝容, 眼妝, 喜歡, 什麼, 粉底, 附上, 唇釉, 質地, 頭髮, 妝感, 乾淨\n",
       "Topic2  覺得, 時候, 什麼, 開始, 知道, 看到, 朋友, 現在, 這樣, 喜歡, 很多, 感情, 發現, 時間, 想要, 工作, 男友, 最後, 後來, 希望\n",
       "Topic3  蛋糕, 草莓, 故事, 男友, 店家, 工作, 現在, 大學, 發現, 搭配, 喜歡, 覺得, 知道, 學生, 女友, 分享, 可愛, 當天, 購入, 穿搭\n",
       "Topic4  這樣, 看到, 知道, 沒有, 訊息, 部分, 覺得, 開始, 直接, 現在, 公司, 見面, 韓網, 今天, 感覺, 男生, 原文, 成功, 翻譯, 什麼"
      ]
     },
     "execution_count": 23,
     "metadata": {},
     "output_type": "execute_result"
    }
   ],
   "source": [
    "topics_df"
   ]
  },
  {
   "cell_type": "code",
   "execution_count": 24,
   "metadata": {
    "tags": [
     "remove-input",
     "remove-output"
    ]
   },
   "outputs": [],
   "source": [
    "pd.options.display.float_format = '{:,.5f}'.format\n",
    "pd.set_option('display.max_colwidth', 200)\n",
    "\n",
    "\n",
    "dt_df = pd.DataFrame(dt_matrix,\n",
    "                    columns=[\"Topic\"+str(n) for n in range(1,num_of_topic+1)])\n",
    "\n",
    "max_contrib_topics = dt_df.max(axis=0)\n",
    "dominant_topics = max_contrib_topics.index\n",
    "contrib_perc = max_contrib_topics.values\n",
    "document_numbers = [dt_df[dt_df[t]==max_contrib_topics.loc[t]].index[0]\n",
    "                    for t in dominant_topics]\n",
    "documents = [norm_corpus[i] for i in document_numbers]\n",
    "\n",
    "documents_df = pd.DataFrame({'Dominant Topic': dominant_topics,\n",
    "                            'Contribution%': contrib_perc,\n",
    "                            'DOCID': document_numbers,\n",
    "                            'Topic': topics_df['Keywords per Topic'],\n",
    "                            'Text': documents})"
   ]
  },
  {
   "cell_type": "code",
   "execution_count": 25,
   "metadata": {
    "tags": [
     "remove-input",
     "remove-output"
    ]
   },
   "outputs": [
    {
     "data": {
      "text/html": [
       "<div>\n",
       "<style scoped>\n",
       "    .dataframe tbody tr th:only-of-type {\n",
       "        vertical-align: middle;\n",
       "    }\n",
       "\n",
       "    .dataframe tbody tr th {\n",
       "        vertical-align: top;\n",
       "    }\n",
       "\n",
       "    .dataframe thead th {\n",
       "        text-align: right;\n",
       "    }\n",
       "</style>\n",
       "<table border=\"1\" class=\"dataframe\">\n",
       "  <thead>\n",
       "    <tr style=\"text-align: right;\">\n",
       "      <th></th>\n",
       "      <th>Dominant Topic</th>\n",
       "      <th>Contribution%</th>\n",
       "      <th>DOCID</th>\n",
       "      <th>Topic</th>\n",
       "      <th>Text</th>\n",
       "    </tr>\n",
       "  </thead>\n",
       "  <tbody>\n",
       "    <tr>\n",
       "      <th>Topic1</th>\n",
       "      <td>Topic1</td>\n",
       "      <td>0.99307</td>\n",
       "      <td>10</td>\n",
       "      <td>顏色, 唇膏, 眼影, 味道, 分享, 感覺, 一下, 腮紅, 今天, 妝容, 眼妝, 喜歡, 什麼, 粉底, 附上, 唇釉, 質地, 頭髮, 妝感, 乾淨</td>\n",
       "      <td>晚上 好 今天 分享 個 春天 日系 妝容 給 剛好 剪 頭髮 換 個 髮型 喜歡 次 頭髮 打 薄 有 日系 感覺 這 次 分享 個 妝容 剛好 剪 頭髮 前後 覺得 好看 變 回去 囉嗦 有 興趣 看 下去 今天 分享 個 妝 附上 久違 素顏 給 對比 組 分享 封面 妝容 剪完 髮 這 組 分享 大愛 橘色 妝容 讓 整體 柔和 眼線筆 睫毛膏 選擇 帶有 顏色 附上 彩妝品 眼妝...</td>\n",
       "    </tr>\n",
       "    <tr>\n",
       "      <th>Topic2</th>\n",
       "      <td>Topic2</td>\n",
       "      <td>0.99846</td>\n",
       "      <td>39</td>\n",
       "      <td>覺得, 時候, 什麼, 開始, 知道, 看到, 朋友, 現在, 這樣, 喜歡, 很多, 感情, 發現, 時間, 想要, 工作, 男友, 最後, 後來, 希望</td>\n",
       "      <td>好 今天 想要 分享 個 故事 次 這裡 發文 有 違反 版 內 規則 刪除 謝謝 單身 年 前 段 戀情 遇上 個 情緒 勒索 男子 感情 恐懼 解脫 時候 放 鞭炮 心情 慶祝 這時 決定 當 新 時代 獨立 女性 讓 活 漂亮 讓 生活 過 精彩 飛往 距離 台灣 多 公里 遠 地方 工作 國外 生活 新鮮 挑戰 有 待 國外 遊子 們 人 國外 打拼 時候 所有 情緒 加倍 放大 ...</td>\n",
       "    </tr>\n",
       "    <tr>\n",
       "      <th>Topic3</th>\n",
       "      <td>Topic3</td>\n",
       "      <td>0.99490</td>\n",
       "      <td>33</td>\n",
       "      <td>蛋糕, 草莓, 故事, 男友, 店家, 工作, 現在, 大學, 發現, 搭配, 喜歡, 覺得, 知道, 學生, 女友, 分享, 可愛, 當天, 購入, 穿搭</td>\n",
       "      <td>大年初三 吃到 發霉 檸檬 蛋糕 跪 求 心理 陰影 面積 知道 喜歡 吃 甜點 男友 簡稱 特別 初二 時候 新竹 帶 艾  蛋糕 蛋塔 巧克力 蛋糕 有 喜歡 檸檬 蛋糕 家 拜年 初三 下午茶 時間 興高采烈 捧 檸檬 蛋糕 分享給 家人 切 塊 給 弟弟 爸爸 切片 蛋糕 盛起 時 發現 蛋糕 盤子 上 有 綠綠 當時 以為是 小心 製作 蛋糕 時 沾染到 食用 色素 不疑 有 吃...</td>\n",
       "    </tr>\n",
       "    <tr>\n",
       "      <th>Topic4</th>\n",
       "      <td>Topic4</td>\n",
       "      <td>0.99293</td>\n",
       "      <td>66</td>\n",
       "      <td>這樣, 看到, 知道, 沒有, 訊息, 部分, 覺得, 開始, 直接, 現在, 公司, 見面, 韓網, 今天, 感覺, 男生, 原文, 成功, 翻譯, 什麼</td>\n",
       "      <td>訊息 凍結 今天 離開 天 個 南部 讀書 個 一樣 北部 北部人 當初 遊戲 相遇 找 後來 聊 聊 發現 學長 火象 星座 合 聊 個 月 後 發現 有 感覺 南下 讀書 見面 機會 更少 南下 找 約出來 吃 個 飯 提升 感情 這 次 約 見面 約 見面 失敗 生氣 這 次 順利 等到 知道 喜歡 人 多 地方 努力 找 一些 人 約會 景點 有 些 地方 無聊 無聊 有 好 努力...</td>\n",
       "    </tr>\n",
       "  </tbody>\n",
       "</table>\n",
       "</div>"
      ],
      "text/plain": [
       "       Dominant Topic  Contribution%  DOCID  \\\n",
       "Topic1         Topic1        0.99307     10   \n",
       "Topic2         Topic2        0.99846     39   \n",
       "Topic3         Topic3        0.99490     33   \n",
       "Topic4         Topic4        0.99293     66   \n",
       "\n",
       "                                                                                 Topic  \\\n",
       "Topic1  顏色, 唇膏, 眼影, 味道, 分享, 感覺, 一下, 腮紅, 今天, 妝容, 眼妝, 喜歡, 什麼, 粉底, 附上, 唇釉, 質地, 頭髮, 妝感, 乾淨   \n",
       "Topic2  覺得, 時候, 什麼, 開始, 知道, 看到, 朋友, 現在, 這樣, 喜歡, 很多, 感情, 發現, 時間, 想要, 工作, 男友, 最後, 後來, 希望   \n",
       "Topic3  蛋糕, 草莓, 故事, 男友, 店家, 工作, 現在, 大學, 發現, 搭配, 喜歡, 覺得, 知道, 學生, 女友, 分享, 可愛, 當天, 購入, 穿搭   \n",
       "Topic4  這樣, 看到, 知道, 沒有, 訊息, 部分, 覺得, 開始, 直接, 現在, 公司, 見面, 韓網, 今天, 感覺, 男生, 原文, 成功, 翻譯, 什麼   \n",
       "\n",
       "                                                                                                                                                                                                           Text  \n",
       "Topic1  晚上 好 今天 分享 個 春天 日系 妝容 給 剛好 剪 頭髮 換 個 髮型 喜歡 次 頭髮 打 薄 有 日系 感覺 這 次 分享 個 妝容 剛好 剪 頭髮 前後 覺得 好看 變 回去 囉嗦 有 興趣 看 下去 今天 分享 個 妝 附上 久違 素顏 給 對比 組 分享 封面 妝容 剪完 髮 這 組 分享 大愛 橘色 妝容 讓 整體 柔和 眼線筆 睫毛膏 選擇 帶有 顏色 附上 彩妝品 眼妝...  \n",
       "Topic2  好 今天 想要 分享 個 故事 次 這裡 發文 有 違反 版 內 規則 刪除 謝謝 單身 年 前 段 戀情 遇上 個 情緒 勒索 男子 感情 恐懼 解脫 時候 放 鞭炮 心情 慶祝 這時 決定 當 新 時代 獨立 女性 讓 活 漂亮 讓 生活 過 精彩 飛往 距離 台灣 多 公里 遠 地方 工作 國外 生活 新鮮 挑戰 有 待 國外 遊子 們 人 國外 打拼 時候 所有 情緒 加倍 放大 ...  \n",
       "Topic3  大年初三 吃到 發霉 檸檬 蛋糕 跪 求 心理 陰影 面積 知道 喜歡 吃 甜點 男友 簡稱 特別 初二 時候 新竹 帶 艾  蛋糕 蛋塔 巧克力 蛋糕 有 喜歡 檸檬 蛋糕 家 拜年 初三 下午茶 時間 興高采烈 捧 檸檬 蛋糕 分享給 家人 切 塊 給 弟弟 爸爸 切片 蛋糕 盛起 時 發現 蛋糕 盤子 上 有 綠綠 當時 以為是 小心 製作 蛋糕 時 沾染到 食用 色素 不疑 有 吃...  \n",
       "Topic4  訊息 凍結 今天 離開 天 個 南部 讀書 個 一樣 北部 北部人 當初 遊戲 相遇 找 後來 聊 聊 發現 學長 火象 星座 合 聊 個 月 後 發現 有 感覺 南下 讀書 見面 機會 更少 南下 找 約出來 吃 個 飯 提升 感情 這 次 約 見面 約 見面 失敗 生氣 這 次 順利 等到 知道 喜歡 人 多 地方 努力 找 一些 人 約會 景點 有 些 地方 無聊 無聊 有 好 努力...  "
      ]
     },
     "execution_count": 25,
     "metadata": {},
     "output_type": "execute_result"
    }
   ],
   "source": [
    "documents_df"
   ]
  },
  {
   "cell_type": "code",
   "execution_count": 26,
   "metadata": {
    "tags": [
     "remove-input",
     "remove-output"
    ]
   },
   "outputs": [
    {
     "data": {
      "text/html": [
       "\n",
       "<link rel=\"stylesheet\" type=\"text/css\" href=\"https://cdn.jsdelivr.net/gh/bmabey/pyLDAvis@3.2.2/pyLDAvis/js/ldavis.v1.0.0.css\">\n",
       "\n",
       "\n",
       "<div id=\"ldavis_el521861405532651329122858161025\"></div>\n",
       "<script type=\"text/javascript\">\n",
       "\n",
       "var ldavis_el521861405532651329122858161025_data = {\"mdsDat\": {\"x\": [0.07897076267273118, 0.10161029514399797, -0.15524712491331852, -0.025333932903410638], \"y\": [0.04668977217089308, -0.10512601686058688, -0.07351834226035703, 0.13195458695005086], \"topics\": [1, 2, 3, 4], \"cluster\": [1, 1, 1, 1], \"Freq\": [63.74948321306144, 14.209056625638542, 11.219433008382763, 10.82202715291725]}, \"tinfo\": {\"Term\": [\"\\u86cb\\u7cd5\", \"\\u984f\\u8272\", \"\\u7537\\u53cb\", \"\\u4e00\\u4e0b\", \"\\u611f\\u89ba\", \"\\u9019\\u6a23\", \"\\u8349\\u8393\", \"\\u4eca\\u5929\", \"\\u5507\\u818f\", \"\\u773c\\u5f71\", \"\\u770b\\u5230\", \"\\u5206\\u4eab\", \"\\u6545\\u4e8b\", \"\\u5de5\\u4f5c\", \"\\u77e5\\u9053\", \"\\u76f4\\u63a5\", \"\\u6c92\\u6709\", \"\\u5473\\u9053\", \"\\u90e8\\u5206\", \"\\u5e97\\u5bb6\", \"\\u958b\\u59cb\", \"\\u516c\\u53f8\", \"\\u73fe\\u5728\", \"\\u8a0a\\u606f\", \"\\u898b\\u9762\", \"\\u816e\\u7d05\", \"\\u599d\\u5bb9\", \"\\u559c\\u6b61\", \"\\u773c\\u599d\", \"\\u9644\\u4e0a\", \"\\u59ca\\u59ca\", \"\\u5c0d\\u8c61\", \"\\u611f\\u60c5\", \"\\u8ddd\\u96e2\", \"\\u804a\\u5929\", \"\\u56de\\u4f86\", \"\\u6628\\u5929\", \"\\u672a\\u4f86\", \"\\u51fa\\u73fe\", \"\\u5168\\u90e8\", \"\\u5360\\u535c\", \"\\u76f8\\u8655\", \"\\u896f\\u886b\", \"\\u4ee5\\u5f8c\", \"\\u5e33\\u865f\", \"\\u75ab\\u60c5\", \"\\u56de\\u5bb6\", \"\\u6709\\u7684\", \"\\u65e9\\u4e0a\", \"\\u65e5\\u672c\", \"\\u56de\\u5230\", \"\\u5206\\u624b\", \"\\u4e4b\\u9593\", \"\\u8f9b\\u82e6\", \"\\u95dc\\u4fc2\", \"\\u60f3\\u6cd5\", \"\\u5728\\u4e00\\u8d77\", \"\\u6c7a\\u5b9a\", \"\\u4ee5\\u4f86\", \"\\u4e0b\\u5348\", \"\\u6642\\u5019\", \"\\u51fa\\u53bb\", \"\\u751f\\u65e5\", \"\\u7d50\\u679c\", \"\\u5f88\\u591a\", \"\\u8863\\u670d\", \"\\u53f0\\u7063\", \"\\u958b\\u59cb\", \"\\u89ba\\u5f97\", \"\\u4ec0\\u9ebc\", \"\\u670b\\u53cb\", \"\\u60f3\\u8981\", \"\\u6700\\u5f8c\", \"\\u4e8b\\u60c5\", \"\\u5f8c\\u4f86\", \"\\u770b\\u5230\", \"\\u77e5\\u9053\", \"\\u767c\\u73fe\", \"\\u6642\\u9593\", \"\\u5e0c\\u671b\", \"\\u5973\\u751f\", \"\\u73fe\\u5728\", \"\\u9019\\u6a23\", \"\\u5de5\\u4f5c\", \"\\u559c\\u6b61\", \"\\u7537\\u53cb\", \"\\u4e4b\\u5f8c\", \"\\u4e4b\\u524d\", \"\\u4e00\\u6a23\", \"\\u4e00\\u4e0b\", \"\\u7576\\u6642\", \"\\u96fb\\u8a71\", \"\\u6c92\\u6709\", \"\\u8349\\u8393\", \"\\u86cb\\u7cd5\", \"\\u5c3a\\u5bf8\", \"\\u5973\\u5b50\", \"\\u5e97\\u5bb6\", \"\\u505a\\u5b8c\", \"\\u5927\\u5b78\", \"\\u5403\\u5230\", \"\\u63d0\\u4f9b\", \"\\u74b0\\u5883\", \"\\u5b78\\u751f\", \"\\u5bf6\\u5bf6\", \"\\u597d\\u7269\", \"\\u725b\\u5976\", \"\\u5931\\u671b\", \"\\u642d\\u914d\", \"\\u7da0\\u8272\", \"\\u7533\\u8acb\", \"\\u9999\\u6c23\", \"\\u7576\\u4f5c\", \"\\u554f\\u865f\", \"\\u5c0f\\u59d0\", \"\\u53ef\\u80fd\", \"\\u6559\\u5b78\", \"\\u62ff\\u5230\", \"\\u98a8\\u683c\", \"\\u4e7e\\u8106\", \"\\u540c\\u6a23\", \"\\u53c3\\u8003\", \"\\u7559\\u5b78\", \"\\u6545\\u4e8b\", \"\\u8cfc\\u5165\", \"\\u4ee5\\u5916\", \"\\u9032\\u53bb\", \"\\u8003\\u8a66\", \"\\u7db2\\u53cb\", \"\\u5c6c\\u65bc\", \"\\u4e3b\\u52d5\", \"\\u5973\\u53cb\", \"\\u7537\\u53cb\", \"\\u7576\\u5929\", \"\\u5de5\\u4f5c\", \"\\u806f\\u7d61\", \"\\u5bb6\\u4eba\", \"\\u53ef\\u611b\", \"\\u73fe\\u5728\", \"\\u63a5\\u53d7\", \"\\u767c\\u73fe\", \"\\u6240\\u6709\", \"\\u7a7f\\u642d\", \"\\u559c\\u6b61\", \"\\u5206\\u4eab\", \"\\u77e5\\u9053\", \"\\u89ba\\u5f97\", \"\\u4e4b\\u5f8c\", \"\\u4e00\\u6a23\", \"\\u9019\\u6a23\", \"\\u554f\\u984c\", \"\\u958b\\u59cb\", \"\\u4e00\\u4e9b\", \"\\u5abd\\u5abd\", \"\\u5507\\u818f\", \"\\u773c\\u5f71\", \"\\u816e\\u7d05\", \"\\u599d\\u5bb9\", \"\\u773c\\u599d\", \"\\u7c89\\u5e95\", \"\\u5507\\u91c9\", \"\\u8cea\\u5730\", \"\\u599d\\u611f\", \"\\u97d3\\u570b\", \"\\u776b\\u6bdb\\u818f\", \"\\u5473\\u9053\", \"\\u8cea\\u611f\", \"\\u64e6\\u8d77\\u4f86\", \"\\u690d\\u6751\\u79c0\", \"\\u5fc3\\u5f97\", \"\\u982d\\u9aee\", \"\\u76ae\\u819a\", \"\\u4e7e\\u6de8\", \"\\u71d2\\u5230\", \"\\u5305\\u88dd\", \"\\u5316\\u599d\", \"\\u65b0\\u6b61\", \"\\u6ed1\\u9806\", \"\\u5e73\\u6642\", \"\\u8981\\u6c42\", \"\\u984f\\u8272\", \"\\u5bb9\\u6613\", \"\\u7d93\\u5178\", \"\\u5fcd\\u4e0d\\u4f4f\", \"\\u8868\\u793a\", \"\\u4ee5\\u524d\", \"\\u5206\\u4eab\", \"\\u7db2\\u53cb\", \"\\u4eca\\u5929\", \"\\u9644\\u4e0a\", \"\\u611f\\u89ba\", \"\\u4e00\\u4e0b\", \"\\u4e00\\u9ede\", \"\\u559c\\u6b61\", \"\\u90e8\\u5206\", \"\\u4ec0\\u9ebc\", \"\\u4e4b\\u524d\", \"\\u97d3\\u7db2\", \"\\u539f\\u6587\", \"\\u5fae\\u535a\", \"\\u5c08\\u696d\", \"\\u80f8\\u90e8\", \"\\u6210\\u529f\", \"\\u7ffb\\u8b6f\", \"\\u904b\\u52d5\", \"\\u8212\\u670d\", \"\\u8a0a\\u606f\", \"\\u7761\\u89ba\", \"\\u570b\\u4e2d\", \"\\u7acb\\u5834\", \"\\u904e\\u4f86\", \"\\u4eba\\u54e1\", \"\\u5783\\u573e\", \"\\u59b9\\u59b9\", \"\\u87a2\\u5e55\", \"\\u9738\\u51cc\", \"\\u7562\\u696d\", \"\\u8eab\\u6750\", \"\\u610f\\u5916\", \"\\u6d17\\u6fa1\", \"\\u600e\\u9ebc\\u6a23\", \"\\u4f86\\u6e90\", \"\\u9072\\u5230\", \"\\u5bbf\\u820d\", \"\\u5617\\u8a66\", \"\\u51fa\\u9053\", \"\\u6709\\u8da3\", \"\\u898b\\u9762\", \"\\u773c\\u775b\", \"\\u7537\\u751f\", \"\\u90e8\\u5206\", \"\\u6c92\\u6709\", \"\\u76f4\\u63a5\", \"\\u76ee\\u524d\", \"\\u9019\\u6a23\", \"\\u516c\\u53f8\", \"\\u770b\\u5230\", \"\\u77e5\\u9053\", \"\\u4eca\\u5929\", \"\\u611f\\u89ba\", \"\\u958b\\u59cb\", \"\\u89ba\\u5f97\", \"\\u73fe\\u5728\", \"\\u96e2\\u958b\", \"\\u767c\\u6587\", \"\\u90a3\\u4e9b\", \"\\u6e96\\u5099\", \"\\u751f\\u6c23\", \"\\u8b8a\\u6210\", \"\\u559c\\u6b61\", \"\\u6642\\u9593\", \"\\u4ec0\\u9ebc\", \"\\u670b\\u53cb\", \"\\u4e00\\u4e0b\"], \"Freq\": [26.0, 20.0, 39.0, 36.0, 35.0, 57.0, 14.0, 29.0, 12.0, 12.0, 61.0, 36.0, 25.0, 37.0, 64.0, 29.0, 32.0, 12.0, 31.0, 13.0, 65.0, 27.0, 58.0, 13.0, 15.0, 9.0, 9.0, 51.0, 9.0, 18.0, 18.38306111656284, 15.5181885577151, 30.797914928930997, 12.653297905189923, 12.65328058059849, 11.680178911327578, 11.679616174556806, 10.74335410371152, 10.73278534432117, 10.73174581045366, 9.78838678343829, 9.788384184375245, 8.833397085472601, 8.82086424909819, 8.820810587318634, 8.816655948032205, 9.686233744645772, 7.8784358261867675, 7.870731783063941, 17.42861514475378, 7.832948693429985, 17.428689727733214, 6.923483820208044, 6.9201230323340175, 25.071238071380535, 6.906569111512519, 15.519060573587675, 14.562059761096156, 5.968508182616601, 5.968500257811309, 63.33789995174352, 13.610194803573528, 13.606426733961134, 13.510060741169404, 32.62821297638483, 18.384492968893092, 22.20771949525656, 53.44880371478949, 67.80499802500456, 53.50335893967287, 41.352690038918105, 27.909607126301452, 26.645920469503928, 21.247130474017595, 25.91582552865609, 44.50495486112829, 45.11519401115596, 30.47686221074131, 28.473120343462888, 25.66455451959258, 20.29676963506345, 39.28262348163757, 38.952660520057506, 26.973570116270714, 32.63417827780924, 26.967949823844577, 24.35457656705666, 23.19554171061029, 23.205338294732492, 23.44299962249668, 20.290474367588672, 20.289982137711924, 20.97404544551552, 13.809943149224667, 24.871585663066874, 5.31238991709842, 3.6014350343541257, 11.27224302258447, 2.7458073812506028, 8.290317782948572, 3.4211086784301434, 4.46512555053914, 2.764201179940459, 6.385032469099689, 3.6118743395974957, 3.6123042663858427, 3.6213680034747715, 3.614718679858097, 7.002745414813667, 1.9148086530450197, 1.9135873425156815, 1.9131095529924997, 1.91532312892816, 1.9137971922279604, 1.9136998171333737, 1.9132662899885704, 3.6133596393258647, 2.7729398912253695, 1.8793811578802238, 1.8781069855207102, 1.878033573322377, 2.7689760777449863, 2.7650706294671767, 12.120522514420273, 5.3245233450491805, 2.7635781516477342, 3.6020304551298468, 2.76295110658363, 4.463518096250835, 3.507258547826684, 4.464781031949381, 6.170274287527771, 12.116197548713284, 5.327505468274084, 10.416683818624573, 3.6136037446655678, 4.465105002906812, 5.662109311941109, 10.40142154714772, 4.471580165622073, 7.032871228917036, 5.307802547926929, 5.317172558292292, 6.8695146796889315, 6.0009976916462, 6.525553568127292, 6.693928800996521, 5.312281529221555, 4.849850660292475, 5.204304439038501, 4.6358973227518385, 4.52989753307577, 4.466695841663441, 4.465420544538985, 11.660959998349737, 11.660642224825896, 9.205035170621766, 8.387030909997295, 8.385199876558339, 6.750471612926344, 5.932922479370532, 5.932277575114643, 5.93101239790362, 5.087194046311121, 4.295331794989625, 10.638796611518169, 3.4774709082474455, 2.6595847661313377, 2.6595763607215925, 2.658961272800328, 5.9322042103412285, 2.656273388175026, 5.86259150976555, 3.479323954666929, 5.11592798656575, 5.114140909794554, 2.6604437371999037, 2.5703295391549705, 2.6072073674276304, 3.9803476401903697, 11.95988223354723, 3.3451344158382588, 1.8460784002241841, 1.8419167979857343, 4.938499899721694, 5.618707366923668, 10.407072229458684, 4.2856596378587914, 9.006775735179168, 6.554898579720213, 9.743586411052695, 9.56337814559627, 4.123486704370059, 7.4367937509433375, 5.622409159649014, 6.861485252769877, 5.006294315887915, 6.664694002559302, 5.047558938820178, 3.429750461302621, 2.6224329123587817, 3.4373807093133464, 5.0439860715098295, 5.003378140070227, 2.622940692556748, 2.539599061218156, 8.285750874092901, 2.583745284951766, 3.864693074462082, 1.8176828920781525, 1.8185808810158086, 1.818572811269111, 1.8183534506520143, 1.818144151773972, 1.8149052517301816, 2.629807968004936, 2.629074283755256, 2.199604357507093, 2.632894561442415, 2.5807795200639907, 2.628762092789564, 1.7423574897748664, 2.626961011248151, 4.242048300134031, 2.464587740914547, 2.401683287905572, 1.530420243093643, 6.664923226923867, 4.081407243810712, 5.057552610115095, 8.279604532600825, 8.295202088624993, 7.480963049296597, 3.1286921108666674, 11.342442846166415, 6.6748759819781736, 10.429052846777067, 10.2905577906577, 6.168550718234461, 6.128467269313983, 7.634500991167153, 8.169413904943834, 6.981548228832797, 3.4376595982818583, 3.7886240191358818, 3.4341793266196867, 3.313953821327854, 3.435985536937744, 3.4434932841315375, 4.5705823329371125, 4.245550600211231, 4.67825486919068, 3.911001030458999, 3.646278847598415], \"Total\": [26.0, 20.0, 39.0, 36.0, 35.0, 57.0, 14.0, 29.0, 12.0, 12.0, 61.0, 36.0, 25.0, 37.0, 64.0, 29.0, 32.0, 12.0, 31.0, 13.0, 65.0, 27.0, 58.0, 13.0, 15.0, 9.0, 9.0, 51.0, 9.0, 18.0, 19.00215920429902, 16.13726247612663, 32.22462294233619, 13.272363224370782, 13.272360840643522, 12.314799479868967, 12.314936520856994, 11.362428077798725, 11.360833313267923, 11.360727901416404, 10.40746115448311, 10.407460802849315, 9.452491186947517, 9.45059332205652, 9.450585920404015, 9.450095863715912, 10.395794691762614, 8.49752507467817, 8.496337995152016, 18.865602356984045, 8.491017046853171, 18.897293756538932, 7.542560207527703, 7.542042663489458, 27.345196821061467, 7.5399975622443955, 16.955961273723055, 16.032162508984193, 6.5875921053885715, 6.587591036526622, 70.54190130517024, 15.077576329815093, 15.077073766890685, 15.020237995559295, 37.486311763064776, 20.70213914247917, 25.372171964526135, 65.81876729080025, 85.13157361857797, 68.27143230054267, 51.85372142456287, 33.53273360530496, 32.50549729159307, 25.14047995390592, 32.43767054608463, 61.99750449232236, 64.66637176589362, 40.592130695867, 37.641536027287046, 33.186193271167056, 24.972909268606127, 58.291043561067184, 57.99338932884468, 37.79682593471585, 51.511069041378626, 39.496035832297196, 35.563604086071216, 33.742172667816085, 34.55371858522177, 36.866474076981426, 27.56432822568569, 27.585429848684896, 32.39262141360795, 14.458655793313321, 26.46279471091116, 5.958047255158286, 4.257519308431675, 13.817040673483852, 3.407275363536995, 11.099372303052792, 5.2364405342174525, 7.0176013918042965, 4.362667911246363, 10.089675632711387, 5.873589897143789, 5.894873528152652, 6.019539534453964, 6.0550268964417935, 12.28664449158607, 3.365823077432119, 3.365761966258763, 3.376871489773308, 3.5124845994169136, 3.5126729328663213, 3.512690952911938, 3.512744857628588, 6.702502606720925, 5.179837273047766, 3.511315117075093, 3.5114678479446, 3.511480084671192, 5.180585187723698, 5.317024467552338, 25.025211136399374, 10.59539343661392, 5.317712648706659, 7.121932236766672, 5.317789402327074, 9.199811133844472, 7.133970572032025, 9.882544888140968, 15.108286249664497, 39.496035832297196, 13.248349519624714, 37.79682593471585, 7.930655876853363, 11.792438053851718, 17.787873977856616, 58.291043561067184, 12.609859231989814, 40.592130695867, 20.134097621081445, 20.281955611676953, 51.511069041378626, 36.29519051203454, 64.66637176589362, 85.13157361857797, 35.563604086071216, 34.55371858522177, 57.99338932884468, 27.399414221307424, 65.81876729080025, 20.901330311264648, 23.107554631349274, 12.314506986144933, 12.314519325879305, 9.859535644928767, 9.04118713849336, 9.041140854103446, 7.404539048401183, 6.586145406894942, 6.586170409657609, 6.586381640113528, 5.769503293858561, 4.949509793234682, 12.354721903570223, 4.131213016747124, 3.312802725424223, 3.3128029387318874, 3.312904890136697, 7.394125057777237, 3.313147969330321, 7.552680668615161, 4.981334199988891, 7.4679089521651525, 7.67751415210059, 4.162804755116606, 4.166376895514588, 4.276504279445502, 6.8073897389126765, 20.85834152620445, 5.95652087254817, 3.3026575717716575, 3.302320886880713, 9.175503652293482, 11.413068884733722, 36.29519051203454, 9.199811133844472, 29.70980296577379, 18.1496544436439, 35.32504377962918, 36.866474076981426, 9.606335850529398, 51.511069041378626, 31.48637821766804, 68.27143230054267, 33.742172667816085, 7.320555812971036, 5.704940146396652, 4.089437259415973, 3.2818833876525613, 5.043400488367599, 7.405635851969317, 7.622990385312181, 4.13189204968773, 4.1009133000460825, 13.605424111186476, 4.243641624781887, 6.538815402578251, 3.323518614757984, 3.4282713608915896, 3.42827715811068, 3.4283209171047404, 3.4283552559698105, 3.42894872574056, 5.053826582450353, 5.08570162495382, 4.313852586923009, 5.1899057697842785, 5.094206411328416, 5.190655455183298, 3.4417637040256803, 5.1909920293209115, 8.716727612904847, 5.115555743565339, 5.231500124781169, 3.3385311479336375, 15.915213050132458, 9.537534116158715, 12.388070776993636, 31.48637821766804, 32.39262141360795, 29.463105947903493, 7.827880347016244, 57.99338932884468, 27.268360905294323, 61.99750449232236, 64.66637176589362, 29.70980296577379, 35.32504377962918, 65.81876729080025, 85.13157361857797, 58.291043561067184, 10.668264753230487, 14.287968295561615, 10.773785540022896, 9.615427797227948, 11.41331889007434, 12.47324249564939, 51.511069041378626, 37.641536027287046, 68.27143230054267, 51.85372142456287, 36.866474076981426], \"Category\": [\"Default\", \"Default\", \"Default\", \"Default\", \"Default\", \"Default\", \"Default\", \"Default\", \"Default\", \"Default\", \"Default\", \"Default\", \"Default\", \"Default\", \"Default\", \"Default\", \"Default\", \"Default\", \"Default\", \"Default\", \"Default\", \"Default\", \"Default\", \"Default\", \"Default\", \"Default\", \"Default\", \"Default\", \"Default\", \"Default\", \"Topic1\", \"Topic1\", \"Topic1\", \"Topic1\", \"Topic1\", \"Topic1\", \"Topic1\", \"Topic1\", \"Topic1\", \"Topic1\", \"Topic1\", \"Topic1\", \"Topic1\", \"Topic1\", \"Topic1\", \"Topic1\", \"Topic1\", \"Topic1\", \"Topic1\", \"Topic1\", \"Topic1\", \"Topic1\", \"Topic1\", \"Topic1\", \"Topic1\", \"Topic1\", \"Topic1\", \"Topic1\", \"Topic1\", \"Topic1\", \"Topic1\", \"Topic1\", \"Topic1\", \"Topic1\", \"Topic1\", \"Topic1\", \"Topic1\", \"Topic1\", \"Topic1\", \"Topic1\", \"Topic1\", \"Topic1\", \"Topic1\", \"Topic1\", \"Topic1\", \"Topic1\", \"Topic1\", \"Topic1\", \"Topic1\", \"Topic1\", \"Topic1\", \"Topic1\", \"Topic1\", \"Topic1\", \"Topic1\", \"Topic1\", \"Topic1\", \"Topic1\", \"Topic1\", \"Topic1\", \"Topic1\", \"Topic1\", \"Topic1\", \"Topic2\", \"Topic2\", \"Topic2\", \"Topic2\", \"Topic2\", \"Topic2\", \"Topic2\", \"Topic2\", \"Topic2\", \"Topic2\", \"Topic2\", \"Topic2\", \"Topic2\", \"Topic2\", \"Topic2\", \"Topic2\", \"Topic2\", \"Topic2\", \"Topic2\", \"Topic2\", \"Topic2\", \"Topic2\", \"Topic2\", \"Topic2\", \"Topic2\", \"Topic2\", \"Topic2\", \"Topic2\", \"Topic2\", \"Topic2\", \"Topic2\", \"Topic2\", \"Topic2\", \"Topic2\", \"Topic2\", \"Topic2\", \"Topic2\", \"Topic2\", \"Topic2\", \"Topic2\", \"Topic2\", \"Topic2\", \"Topic2\", \"Topic2\", \"Topic2\", \"Topic2\", \"Topic2\", \"Topic2\", \"Topic2\", \"Topic2\", \"Topic2\", \"Topic2\", \"Topic2\", \"Topic2\", \"Topic2\", \"Topic2\", \"Topic2\", \"Topic2\", \"Topic2\", \"Topic2\", \"Topic2\", \"Topic3\", \"Topic3\", \"Topic3\", \"Topic3\", \"Topic3\", \"Topic3\", \"Topic3\", \"Topic3\", \"Topic3\", \"Topic3\", \"Topic3\", \"Topic3\", \"Topic3\", \"Topic3\", \"Topic3\", \"Topic3\", \"Topic3\", \"Topic3\", \"Topic3\", \"Topic3\", \"Topic3\", \"Topic3\", \"Topic3\", \"Topic3\", \"Topic3\", \"Topic3\", \"Topic3\", \"Topic3\", \"Topic3\", \"Topic3\", \"Topic3\", \"Topic3\", \"Topic3\", \"Topic3\", \"Topic3\", \"Topic3\", \"Topic3\", \"Topic3\", \"Topic3\", \"Topic3\", \"Topic3\", \"Topic3\", \"Topic3\", \"Topic4\", \"Topic4\", \"Topic4\", \"Topic4\", \"Topic4\", \"Topic4\", \"Topic4\", \"Topic4\", \"Topic4\", \"Topic4\", \"Topic4\", \"Topic4\", \"Topic4\", \"Topic4\", \"Topic4\", \"Topic4\", \"Topic4\", \"Topic4\", \"Topic4\", \"Topic4\", \"Topic4\", \"Topic4\", \"Topic4\", \"Topic4\", \"Topic4\", \"Topic4\", \"Topic4\", \"Topic4\", \"Topic4\", \"Topic4\", \"Topic4\", \"Topic4\", \"Topic4\", \"Topic4\", \"Topic4\", \"Topic4\", \"Topic4\", \"Topic4\", \"Topic4\", \"Topic4\", \"Topic4\", \"Topic4\", \"Topic4\", \"Topic4\", \"Topic4\", \"Topic4\", \"Topic4\", \"Topic4\", \"Topic4\", \"Topic4\", \"Topic4\", \"Topic4\", \"Topic4\", \"Topic4\", \"Topic4\", \"Topic4\", \"Topic4\"], \"logprob\": [30.0, 29.0, 28.0, 27.0, 26.0, 25.0, 24.0, 23.0, 22.0, 21.0, 20.0, 19.0, 18.0, 17.0, 16.0, 15.0, 14.0, 13.0, 12.0, 11.0, 10.0, 9.0, 8.0, 7.0, 6.0, 5.0, 4.0, 3.0, 2.0, 1.0, -5.2733, -5.4428, -4.7573, -5.6468, -5.6469, -5.7269, -5.7269, -5.8105, -5.8115, -5.8116, -5.9036, -5.9036, -6.0062, -6.0076, -6.0077, -6.0081, -5.9141, -6.1206, -6.1216, -5.3267, -6.1264, -5.3266, -6.2498, -6.2503, -4.963, -6.2523, -5.4427, -5.5063, -6.3983, -6.3983, -4.0363, -5.5739, -5.5742, -5.5813, -4.6996, -5.2733, -5.0843, -4.206, -3.9681, -4.205, -4.4626, -4.8558, -4.9021, -5.1285, -4.9299, -4.3892, -4.3755, -4.7678, -4.8358, -4.9397, -5.1743, -4.514, -4.5224, -4.8899, -4.6994, -4.8901, -4.992, -5.0408, -5.0404, -5.0302, -5.1746, -5.1746, -5.1415, -4.0583, -3.47, -5.0136, -5.4024, -4.2613, -5.6736, -4.5686, -5.4537, -5.1874, -5.6669, -4.8297, -5.3995, -5.3993, -5.3968, -5.3987, -4.7374, -6.0341, -6.0347, -6.035, -6.0338, -6.0346, -6.0346, -6.0349, -5.399, -5.6638, -6.0527, -6.0534, -6.0535, -5.6652, -5.6666, -4.1888, -5.0114, -5.6672, -5.4022, -5.6674, -5.1877, -5.4289, -5.1875, -4.8639, -4.1891, -5.0108, -4.3403, -5.399, -5.1874, -4.9499, -4.3417, -5.1859, -4.7331, -5.0145, -5.0127, -4.7566, -4.8918, -4.808, -4.7825, -5.0137, -5.1047, -5.0342, -5.1499, -5.173, -5.187, -5.1873, -3.9912, -3.9912, -4.2277, -4.3208, -4.321, -4.5378, -4.6669, -4.667, -4.6673, -4.8207, -4.9899, -4.0829, -5.2011, -5.4693, -5.4693, -5.4695, -4.6671, -5.4705, -4.6789, -5.2006, -4.8151, -4.8154, -5.469, -5.5034, -5.4892, -5.0661, -3.9659, -5.2399, -5.8344, -5.8366, -4.8504, -4.7214, -4.105, -4.9922, -4.2495, -4.5672, -4.1708, -4.1895, -5.0308, -4.441, -4.7207, -4.5215, -4.8368, -4.5146, -4.7925, -5.1789, -5.4473, -5.1767, -4.7932, -4.8013, -5.4471, -5.4794, -4.2969, -5.4621, -5.0595, -5.8138, -5.8133, -5.8133, -5.8135, -5.8136, -5.8154, -5.4445, -5.4448, -5.6231, -5.4433, -5.4633, -5.4449, -5.8562, -5.4456, -4.9663, -5.5094, -5.5352, -5.9858, -4.5145, -5.0049, -4.7905, -4.2976, -4.2957, -4.399, -5.2708, -3.9828, -4.513, -4.0668, -4.0802, -4.5919, -4.5984, -4.3787, -4.311, -4.4681, -5.1766, -5.0794, -5.1776, -5.2132, -5.1771, -5.1749, -4.8917, -4.9655, -4.8685, -5.0476, -5.1177], \"loglift\": [30.0, 29.0, 28.0, 27.0, 26.0, 25.0, 24.0, 23.0, 22.0, 21.0, 20.0, 19.0, 18.0, 17.0, 16.0, 15.0, 14.0, 13.0, 12.0, 11.0, 10.0, 9.0, 8.0, 7.0, 6.0, 5.0, 4.0, 3.0, 2.0, 1.0, 0.4171, 0.4111, 0.4049, 0.4024, 0.4024, 0.3973, 0.3972, 0.3942, 0.3933, 0.3933, 0.3889, 0.3889, 0.3825, 0.3813, 0.3812, 0.3808, 0.3795, 0.3746, 0.3737, 0.371, 0.3695, 0.3693, 0.3646, 0.3641, 0.3634, 0.3625, 0.3617, 0.354, 0.3515, 0.3515, 0.3425, 0.3478, 0.3476, 0.3442, 0.3114, 0.3315, 0.317, 0.242, 0.2226, 0.2065, 0.2239, 0.2667, 0.2514, 0.282, 0.2257, 0.1187, 0.0902, 0.1636, 0.1711, 0.1932, 0.2429, 0.0555, 0.0522, 0.1128, -0.0062, 0.0687, 0.0716, 0.0754, 0.0521, -0.0025, 0.1438, 0.143, 0.0156, 1.9054, 1.8893, 1.8366, 1.7839, 1.7477, 1.7355, 1.6595, 1.5256, 1.4992, 1.495, 1.4937, 1.4651, 1.4616, 1.4431, 1.4354, 1.3891, 1.3872, 1.3866, 1.3831, 1.3449, 1.344, 1.3439, 1.3437, 1.3334, 1.3264, 1.3262, 1.3255, 1.3255, 1.3249, 1.2974, 1.2263, 1.2632, 1.2968, 1.2696, 1.2965, 1.228, 1.2413, 1.1567, 1.0558, 0.7696, 1.0403, 0.6625, 1.1653, 0.9801, 0.8066, 0.2278, 0.9146, 0.1983, 0.6181, 0.6125, -0.0634, 0.1515, -0.3422, -0.5917, 0.05, -0.0123, -0.4596, 0.1746, -0.7249, 0.4081, 0.3075, 2.133, 2.133, 2.1188, 2.1124, 2.1122, 2.095, 2.0831, 2.083, 2.0827, 2.0617, 2.0458, 2.038, 2.0153, 1.9679, 1.9679, 1.9676, 1.9672, 1.9665, 1.9342, 1.8287, 1.8093, 1.7812, 1.7398, 1.7045, 1.6927, 1.6509, 1.6313, 1.6105, 1.6059, 1.6037, 1.568, 1.4789, 0.9383, 1.4236, 0.994, 1.1691, 0.8995, 0.8382, 1.3418, 0.2522, 0.4647, -0.11, 0.2795, 2.1297, 2.1012, 2.0477, 1.9993, 1.8402, 1.8395, 1.8025, 1.7691, 1.7444, 1.7277, 1.7274, 1.6977, 1.6201, 1.5896, 1.5896, 1.5894, 1.5893, 1.5874, 1.5704, 1.5638, 1.55, 1.545, 1.5436, 1.5432, 1.5428, 1.5425, 1.5034, 1.4933, 1.4451, 1.4436, 1.3532, 1.3748, 1.3277, 0.8878, 0.8613, 0.8528, 1.3065, 0.5918, 0.8162, 0.4411, 0.3856, 0.6516, 0.4719, 0.0694, -0.1202, 0.1014, 1.0911, 0.8962, 1.0802, 1.1584, 1.0231, 0.9365, -0.1986, 0.0413, -0.457, -0.361, -0.09]}, \"token.table\": {\"Topic\": [1, 3, 4, 1, 2, 3, 4, 1, 2, 3, 4, 1, 3, 4, 1, 1, 2, 1, 2, 3, 4, 1, 2, 3, 4, 1, 1, 3, 1, 2, 1, 2, 4, 1, 4, 1, 2, 3, 4, 1, 2, 3, 4, 1, 1, 3, 1, 2, 1, 1, 4, 2, 1, 1, 2, 4, 1, 2, 1, 1, 4, 1, 2, 3, 4, 1, 2, 2, 3, 1, 3, 1, 4, 1, 2, 3, 1, 2, 3, 4, 1, 2, 1, 2, 1, 2, 1, 2, 2, 3, 3, 3, 1, 2, 1, 2, 3, 4, 1, 2, 3, 4, 1, 2, 4, 1, 1, 1, 3, 4, 1, 3, 1, 4, 1, 2, 4, 1, 2, 3, 1, 2, 4, 2, 1, 3, 4, 2, 3, 3, 3, 1, 4, 1, 1, 2, 3, 2, 3, 1, 2, 1, 2, 3, 1, 4, 2, 4, 4, 1, 1, 2, 2, 1, 2, 1, 2, 1, 2, 3, 4, 1, 1, 3, 1, 2, 1, 2, 3, 1, 2, 4, 4, 3, 3, 4, 1, 4, 1, 1, 2, 3, 4, 1, 4, 1, 4, 1, 2, 3, 4, 2, 4, 1, 2, 4, 1, 2, 3, 1, 2, 3, 1, 2, 1, 2, 4, 3, 1, 2, 4, 2, 3, 4, 2, 3, 1, 3, 1, 1, 1, 2, 3, 4, 1, 2, 3, 4, 1, 2, 3, 4, 1, 2, 4, 1, 2, 3, 4, 1, 3, 1, 2, 1, 2, 3, 4, 1, 2, 4, 1, 2, 4, 2, 3, 2, 3, 1, 2, 4, 1, 2, 3, 4, 1, 2, 1, 2, 1, 2, 4, 2, 4, 1, 2, 1, 4, 1, 2, 1, 2, 4, 1, 2, 1, 2, 4, 1, 2, 3, 4, 1, 1, 2, 3, 4, 1, 2, 4, 3, 1, 3, 4, 1, 3, 4, 1, 1, 2, 3, 4, 3, 3, 1, 3, 4, 1, 4, 3, 1, 2, 3, 4, 1, 2, 2, 4, 3, 1, 4, 3, 4, 2, 4, 2, 3, 1, 4, 1, 2, 1, 1, 2, 4, 1, 4, 3, 3, 4, 2, 1, 2, 1, 4, 1, 2, 2, 3, 1, 1, 2, 3, 1, 4, 1, 2, 3, 4, 1, 2, 4, 1, 2, 4, 3, 3, 1, 2, 3, 1, 1, 4, 1, 1, 2, 3, 4, 1, 2, 2, 4, 1, 4, 1, 4, 1, 4, 1, 2, 3, 4, 1, 2, 4, 1, 2, 4, 1, 2, 3, 4, 1, 2, 4, 1, 2, 4, 1, 3, 4, 3, 4, 3, 4, 1, 3, 1, 2, 2, 3], \"Freq\": [0.6238730601677113, 0.27124915659465704, 0.10849966263786283, 0.6698138248384498, 0.19137537852527137, 0.04784384463131784, 0.09568768926263568, 0.6656302401512535, 0.1447022261198377, 0.08682133567190263, 0.08682133567190263, 0.41639185452584015, 0.41639185452584015, 0.10409796363146004, 0.9108033523531485, 0.505942553926569, 0.4047540431412552, 0.6816395679800972, 0.1185460118226256, 0.148182514778282, 0.0296365029556564, 0.6748472382583913, 0.14059317463716486, 0.08435590478229892, 0.08435590478229892, 0.928066837705026, 0.13240332060581575, 0.7944199236348944, 0.284781192168779, 0.569562384337558, 0.835306248667594, 0.03977648803179019, 0.11932946409537057, 0.2916917022400543, 0.5833834044801086, 0.7909604087736529, 0.04394224493186961, 0.10253190484102907, 0.07323707488644934, 0.4375660119650146, 0.03365892399730881, 0.30293031597577935, 0.2019535439838529, 0.9108032045718301, 0.43809426285756226, 0.5257131154290747, 0.37610155571050413, 0.5641523335657561, 0.9523211605132885, 0.2905487087420742, 0.5810974174841484, 0.880468902544403, 0.9682478178734102, 0.6967782209568391, 0.03667253794509679, 0.25670776561567754, 0.9285311971736303, 0.0663236569409736, 0.9682388339553826, 0.38229952256450705, 0.38229952256450705, 0.49593347620070133, 0.1653111587335671, 0.2755185978892785, 0.0551037195778557, 0.8995997108907501, 0.052917630052397066, 0.2678125848628812, 0.6695314621572029, 0.2605009851336834, 0.6512524628342086, 0.9608491304041435, 0.8764333843463887, 0.19302838651696624, 0.5790851595508987, 0.19302838651696624, 0.5059626581121345, 0.33730843874142297, 0.056218073123570494, 0.11243614624714099, 0.28467766391524607, 0.5693553278304921, 0.8670917109800097, 0.11823977877000132, 0.19096941776871387, 0.5729082533061417, 0.28478019976970426, 0.5695603995394085, 0.08094071301686068, 0.8903478431854674, 0.9744604484370519, 0.9110032696391254, 0.2846834929160358, 0.5693669858320716, 0.6934454819557588, 0.18248565314625234, 0.03649713062925047, 0.1094913918877514, 0.6406390046669627, 0.135893122202083, 0.135893122202083, 0.09706651585863071, 0.19548218221604988, 0.19548218221604988, 0.39096436443209975, 0.9744373036374997, 0.9421721751182744, 0.9619274232035159, 0.30586579936350566, 0.6117315987270113, 0.9436209331756068, 0.058976308323475425, 0.29168797909517535, 0.5833759581903507, 0.09009518490743464, 0.7207614792594771, 0.09009518490743464, 0.16515203269991172, 0.6606081307996469, 0.16515203269991172, 0.4633219072186593, 0.3971330633302794, 0.1323776877767598, 0.9395142359256765, 0.8008678438255628, 0.08008678438255627, 0.12013017657383442, 0.6785556943498207, 0.33927784717491033, 0.8848395545248204, 0.910970594758396, 0.2916850575093394, 0.5833701150186787, 0.9472607721299223, 0.735690135594731, 0.17310356131640728, 0.04327589032910182, 0.5946672835098492, 0.2973336417549246, 0.5936007438015429, 0.33920042502945313, 0.1678832361032599, 0.1678832361032599, 0.5036497083097796, 0.45888780487738573, 0.45888780487738573, 0.6810145192372251, 0.34050725961861256, 0.9141092615560041, 0.9914940668326059, 0.2846820324944965, 0.569364064988993, 0.8392011318257271, 0.4205231812647478, 0.5606975750196638, 0.7143456978804372, 0.2645724806964582, 0.7834583432800475, 0.0602660264061575, 0.0602660264061575, 0.09039903960923625, 0.9523219063665471, 0.2338358469103792, 0.7015075407311376, 0.14474879587191058, 0.7961183772955082, 0.8803213345868521, 0.05335280815677892, 0.05335280815677892, 0.801537211590501, 0.09248506287582704, 0.09248506287582704, 0.7335972677151282, 0.9055496911280825, 0.605634663774043, 0.3028173318870215, 0.38530779345079336, 0.57796169017619, 0.9283822630197699, 0.8350049933170474, 0.08946482071254079, 0.029821606904180262, 0.059643213808360525, 0.3853634514221886, 0.5780451771332829, 0.9619972918060959, 0.03103217070342245, 0.5095535086181555, 0.028308528256564196, 0.28308528256564197, 0.16985116953938517, 0.2700645886427372, 0.6751614716068429, 0.6953378424738178, 0.24833494374064924, 0.049666988748129845, 0.19305625781012417, 0.5791687734303725, 0.19305625781012417, 0.5551211850360531, 0.3172121057348875, 0.07930302643372188, 0.28499766349450345, 0.5699953269890069, 0.3255567460049171, 0.5697243055086049, 0.08138918650122927, 0.9055776177000799, 0.47951643383123754, 0.47951643383123754, 0.0399597028192698, 0.5967920095978785, 0.29839600479893924, 0.14919800239946962, 0.2402226524726809, 0.7206679574180427, 0.9011109042964961, 0.053006523782146826, 0.9415821268603927, 0.974426460069558, 0.8930862201666023, 0.056703886994704904, 0.014175971748676226, 0.028351943497352452, 0.7438591235942732, 0.053132794542448084, 0.07969919181367212, 0.10626558908489617, 0.8306287320509025, 0.06152805422599278, 0.09229208133898917, 0.03076402711299639, 0.9414505905771612, 0.2995329250167229, 0.5990658500334458, 0.7906857767122282, 0.07714007577680275, 0.038570037888401375, 0.07714007577680275, 0.9681029375660577, 0.9055775593909532, 0.9356192585743948, 0.06237461723829299, 0.6482957872368436, 0.030871227963659216, 0.06174245592731843, 0.24696982370927373, 0.19630142936026618, 0.19630142936026618, 0.5889042880807985, 0.41599813178912004, 0.20799906589456002, 0.31199859884184, 0.2400166919792047, 0.720050075937614, 0.2007494297415801, 0.6022482892247404, 0.16612566364525266, 0.6645026545810107, 0.16612566364525266, 0.669056472786297, 0.17155294174007615, 0.03431058834801523, 0.12008705921805331, 0.22921753852089827, 0.6876526155626949, 0.928562147831634, 0.06632586770225958, 0.4380846665336127, 0.26285079992016763, 0.26285079992016763, 0.5942190862127765, 0.29710954310638826, 0.6836129102840549, 0.30382796012624663, 0.5650597357741909, 0.4036140969815649, 0.37615023444131124, 0.5642253516619669, 0.19662970298794916, 0.19662970298794916, 0.5898891089638475, 0.2846987571606731, 0.5693975143213462, 0.4528866022980621, 0.37740550191505173, 0.1509622007660207, 0.7255754552132744, 0.14511509104265488, 0.07255754552132744, 0.07255754552132744, 0.9523712912327084, 0.5599116567528432, 0.0699889570941054, 0.0699889570941054, 0.2799558283764216, 0.7390595045323535, 0.1724472177242158, 0.07390595045323535, 0.9054832527164137, 0.38324551053511074, 0.12774850351170358, 0.38324551053511074, 0.6109335530282348, 0.13576301178405217, 0.23758527062209134, 0.9608491628680685, 0.7258356665883657, 0.04838904443922438, 0.06451872591896585, 0.1612968147974146, 0.8848440842915405, 0.9744594719813112, 0.4193956164437835, 0.10484890411094587, 0.4193956164437835, 0.23564666586363725, 0.7069399975909118, 0.8081608415983872, 0.6958794620936802, 0.10824791632568359, 0.04639196413957868, 0.15463988046526228, 0.7395736529156012, 0.24652455097186707, 0.3008859332273724, 0.6017718664547448, 0.9453660726539712, 0.9320757769709823, 0.06657684121221302, 0.6055729231799021, 0.30278646158995104, 0.5942082973433815, 0.29710414867169077, 0.4347915345006062, 0.4347915345006062, 0.2623642296405828, 0.655910574101457, 0.3760961272977069, 0.5641441909465603, 0.9794790961522475, 0.37827892756712406, 0.5043719034228321, 0.12609297585570803, 0.19827891961117503, 0.594836758833525, 0.9128218938616173, 0.24384812036595918, 0.7315443610978776, 0.968278116591901, 0.03778890366359072, 0.9447225915897681, 0.2916345737377648, 0.5832691474755296, 0.86947536561888, 0.09660837395765332, 0.43594337178430215, 0.5449292147303777, 0.9521299541043381, 0.2937983686415836, 0.1468991843207918, 0.5875967372831672, 0.5654966711190269, 0.4398307442036876, 0.7987635739551346, 0.08222566202479327, 0.023493046292798078, 0.09397218517119231, 0.2940003903818898, 0.07350009759547245, 0.5880007807637796, 0.5612013077146193, 0.16034323077560553, 0.2405148461634083, 0.9109998112411303, 0.7261789667680147, 0.3775225548659118, 0.4719031935823897, 0.09438063871647795, 0.9794789202370029, 0.4636227037666493, 0.4636227037666493, 0.9281305227675982, 0.6724904416062855, 0.08621672328285711, 0.034486689313142846, 0.18967679122228565, 0.4212339994633237, 0.561645332617765, 0.2420198756343539, 0.7260596269030617, 0.29169219549176245, 0.5833843909835249, 0.38528281081981186, 0.5779242162297178, 0.6497252032719711, 0.2784536585451305, 0.4446367220522092, 0.12703906344348836, 0.19055859516523255, 0.25407812688697673, 0.8052414559184249, 0.07596617508664386, 0.12154588013863017, 0.9142373398733346, 0.03656949359493338, 0.03656949359493338, 0.3305848063736128, 0.22038987091574186, 0.3856822741025483, 0.11019493545787093, 0.5624157385279667, 0.09373595642132777, 0.28120786926398333, 0.7250204223645069, 0.1450040844729014, 0.10875306335467604, 0.1978698682444994, 0.1978698682444994, 0.5936096047334982, 0.8666257293452504, 0.9562115471610702, 0.8114550339785127, 0.13524250566308546, 0.38353960164807716, 0.5753094024721157, 0.2847935792310759, 0.5695871584621518, 0.5922641729354828, 0.2961320864677414], \"Term\": [\"\\u4e00\\u4e0b\", \"\\u4e00\\u4e0b\", \"\\u4e00\\u4e0b\", \"\\u4e00\\u4e9b\", \"\\u4e00\\u4e9b\", \"\\u4e00\\u4e9b\", \"\\u4e00\\u4e9b\", \"\\u4e00\\u6a23\", \"\\u4e00\\u6a23\", \"\\u4e00\\u6a23\", \"\\u4e00\\u6a23\", \"\\u4e00\\u9ede\", \"\\u4e00\\u9ede\", \"\\u4e00\\u9ede\", \"\\u4e0b\\u5348\", \"\\u4e3b\\u52d5\", \"\\u4e3b\\u52d5\", \"\\u4e4b\\u524d\", \"\\u4e4b\\u524d\", \"\\u4e4b\\u524d\", \"\\u4e4b\\u524d\", \"\\u4e4b\\u5f8c\", \"\\u4e4b\\u5f8c\", \"\\u4e4b\\u5f8c\", \"\\u4e4b\\u5f8c\", \"\\u4e4b\\u9593\", \"\\u4e7e\\u6de8\", \"\\u4e7e\\u6de8\", \"\\u4e7e\\u8106\", \"\\u4e7e\\u8106\", \"\\u4e8b\\u60c5\", \"\\u4e8b\\u60c5\", \"\\u4e8b\\u60c5\", \"\\u4eba\\u54e1\", \"\\u4eba\\u54e1\", \"\\u4ec0\\u9ebc\", \"\\u4ec0\\u9ebc\", \"\\u4ec0\\u9ebc\", \"\\u4ec0\\u9ebc\", \"\\u4eca\\u5929\", \"\\u4eca\\u5929\", \"\\u4eca\\u5929\", \"\\u4eca\\u5929\", \"\\u4ee5\\u4f86\", \"\\u4ee5\\u524d\", \"\\u4ee5\\u524d\", \"\\u4ee5\\u5916\", \"\\u4ee5\\u5916\", \"\\u4ee5\\u5f8c\", \"\\u4f86\\u6e90\", \"\\u4f86\\u6e90\", \"\\u505a\\u5b8c\", \"\\u5168\\u90e8\", \"\\u516c\\u53f8\", \"\\u516c\\u53f8\", \"\\u516c\\u53f8\", \"\\u51fa\\u53bb\", \"\\u51fa\\u53bb\", \"\\u51fa\\u73fe\", \"\\u51fa\\u9053\", \"\\u51fa\\u9053\", \"\\u5206\\u4eab\", \"\\u5206\\u4eab\", \"\\u5206\\u4eab\", \"\\u5206\\u4eab\", \"\\u5206\\u624b\", \"\\u5206\\u624b\", \"\\u5305\\u88dd\", \"\\u5305\\u88dd\", \"\\u5316\\u599d\", \"\\u5316\\u599d\", \"\\u5360\\u535c\", \"\\u539f\\u6587\", \"\\u53c3\\u8003\", \"\\u53c3\\u8003\", \"\\u53c3\\u8003\", \"\\u53ef\\u611b\", \"\\u53ef\\u611b\", \"\\u53ef\\u611b\", \"\\u53ef\\u611b\", \"\\u53ef\\u80fd\", \"\\u53ef\\u80fd\", \"\\u53f0\\u7063\", \"\\u53f0\\u7063\", \"\\u5403\\u5230\", \"\\u5403\\u5230\", \"\\u540c\\u6a23\", \"\\u540c\\u6a23\", \"\\u5473\\u9053\", \"\\u5473\\u9053\", \"\\u5507\\u818f\", \"\\u5507\\u91c9\", \"\\u554f\\u865f\", \"\\u554f\\u865f\", \"\\u554f\\u984c\", \"\\u554f\\u984c\", \"\\u554f\\u984c\", \"\\u554f\\u984c\", \"\\u559c\\u6b61\", \"\\u559c\\u6b61\", \"\\u559c\\u6b61\", \"\\u559c\\u6b61\", \"\\u5617\\u8a66\", \"\\u5617\\u8a66\", \"\\u5617\\u8a66\", \"\\u56de\\u4f86\", \"\\u56de\\u5230\", \"\\u56de\\u5bb6\", \"\\u570b\\u4e2d\", \"\\u570b\\u4e2d\", \"\\u5728\\u4e00\\u8d77\", \"\\u5728\\u4e00\\u8d77\", \"\\u5783\\u573e\", \"\\u5783\\u573e\", \"\\u5927\\u5b78\", \"\\u5927\\u5b78\", \"\\u5927\\u5b78\", \"\\u5931\\u671b\", \"\\u5931\\u671b\", \"\\u5931\\u671b\", \"\\u5973\\u53cb\", \"\\u5973\\u53cb\", \"\\u5973\\u53cb\", \"\\u5973\\u5b50\", \"\\u5973\\u751f\", \"\\u5973\\u751f\", \"\\u5973\\u751f\", \"\\u597d\\u7269\", \"\\u597d\\u7269\", \"\\u599d\\u5bb9\", \"\\u599d\\u611f\", \"\\u59b9\\u59b9\", \"\\u59b9\\u59b9\", \"\\u59ca\\u59ca\", \"\\u5abd\\u5abd\", \"\\u5abd\\u5abd\", \"\\u5abd\\u5abd\", \"\\u5b78\\u751f\", \"\\u5b78\\u751f\", \"\\u5bb6\\u4eba\", \"\\u5bb6\\u4eba\", \"\\u5bb9\\u6613\", \"\\u5bb9\\u6613\", \"\\u5bb9\\u6613\", \"\\u5bbf\\u820d\", \"\\u5bbf\\u820d\", \"\\u5bf6\\u5bf6\", \"\\u5bf6\\u5bf6\", \"\\u5c08\\u696d\", \"\\u5c0d\\u8c61\", \"\\u5c0f\\u59d0\", \"\\u5c0f\\u59d0\", \"\\u5c3a\\u5bf8\", \"\\u5c6c\\u65bc\", \"\\u5c6c\\u65bc\", \"\\u5de5\\u4f5c\", \"\\u5de5\\u4f5c\", \"\\u5e0c\\u671b\", \"\\u5e0c\\u671b\", \"\\u5e0c\\u671b\", \"\\u5e0c\\u671b\", \"\\u5e33\\u865f\", \"\\u5e73\\u6642\", \"\\u5e73\\u6642\", \"\\u5e97\\u5bb6\", \"\\u5e97\\u5bb6\", \"\\u5f88\\u591a\", \"\\u5f88\\u591a\", \"\\u5f88\\u591a\", \"\\u5f8c\\u4f86\", \"\\u5f8c\\u4f86\", \"\\u5f8c\\u4f86\", \"\\u5fae\\u535a\", \"\\u5fc3\\u5f97\", \"\\u5fcd\\u4e0d\\u4f4f\", \"\\u5fcd\\u4e0d\\u4f4f\", \"\\u600e\\u9ebc\\u6a23\", \"\\u600e\\u9ebc\\u6a23\", \"\\u60f3\\u6cd5\", \"\\u60f3\\u8981\", \"\\u60f3\\u8981\", \"\\u60f3\\u8981\", \"\\u60f3\\u8981\", \"\\u610f\\u5916\", \"\\u610f\\u5916\", \"\\u611f\\u60c5\", \"\\u611f\\u60c5\", \"\\u611f\\u89ba\", \"\\u611f\\u89ba\", \"\\u611f\\u89ba\", \"\\u611f\\u89ba\", \"\\u6210\\u529f\", \"\\u6210\\u529f\", \"\\u6240\\u6709\", \"\\u6240\\u6709\", \"\\u6240\\u6709\", \"\\u62ff\\u5230\", \"\\u62ff\\u5230\", \"\\u62ff\\u5230\", \"\\u63a5\\u53d7\", \"\\u63a5\\u53d7\", \"\\u63a5\\u53d7\", \"\\u63d0\\u4f9b\", \"\\u63d0\\u4f9b\", \"\\u642d\\u914d\", \"\\u642d\\u914d\", \"\\u642d\\u914d\", \"\\u64e6\\u8d77\\u4f86\", \"\\u6545\\u4e8b\", \"\\u6545\\u4e8b\", \"\\u6545\\u4e8b\", \"\\u6559\\u5b78\", \"\\u6559\\u5b78\", \"\\u6559\\u5b78\", \"\\u65b0\\u6b61\", \"\\u65b0\\u6b61\", \"\\u65e5\\u672c\", \"\\u65e5\\u672c\", \"\\u65e9\\u4e0a\", \"\\u6628\\u5929\", \"\\u6642\\u5019\", \"\\u6642\\u5019\", \"\\u6642\\u5019\", \"\\u6642\\u5019\", \"\\u6642\\u9593\", \"\\u6642\\u9593\", \"\\u6642\\u9593\", \"\\u6642\\u9593\", \"\\u6700\\u5f8c\", \"\\u6700\\u5f8c\", \"\\u6700\\u5f8c\", \"\\u6700\\u5f8c\", \"\\u6709\\u7684\", \"\\u6709\\u8da3\", \"\\u6709\\u8da3\", \"\\u670b\\u53cb\", \"\\u670b\\u53cb\", \"\\u670b\\u53cb\", \"\\u670b\\u53cb\", \"\\u672a\\u4f86\", \"\\u690d\\u6751\\u79c0\", \"\\u6c7a\\u5b9a\", \"\\u6c7a\\u5b9a\", \"\\u6c92\\u6709\", \"\\u6c92\\u6709\", \"\\u6c92\\u6709\", \"\\u6c92\\u6709\", \"\\u6d17\\u6fa1\", \"\\u6d17\\u6fa1\", \"\\u6d17\\u6fa1\", \"\\u6e96\\u5099\", \"\\u6e96\\u5099\", \"\\u6e96\\u5099\", \"\\u6ed1\\u9806\", \"\\u6ed1\\u9806\", \"\\u71d2\\u5230\", \"\\u71d2\\u5230\", \"\\u725b\\u5976\", \"\\u725b\\u5976\", \"\\u725b\\u5976\", \"\\u73fe\\u5728\", \"\\u73fe\\u5728\", \"\\u73fe\\u5728\", \"\\u73fe\\u5728\", \"\\u74b0\\u5883\", \"\\u74b0\\u5883\", \"\\u751f\\u65e5\", \"\\u751f\\u65e5\", \"\\u751f\\u6c23\", \"\\u751f\\u6c23\", \"\\u751f\\u6c23\", \"\\u7533\\u8acb\", \"\\u7533\\u8acb\", \"\\u7537\\u53cb\", \"\\u7537\\u53cb\", \"\\u7537\\u751f\", \"\\u7537\\u751f\", \"\\u7559\\u5b78\", \"\\u7559\\u5b78\", \"\\u7562\\u696d\", \"\\u7562\\u696d\", \"\\u7562\\u696d\", \"\\u7576\\u4f5c\", \"\\u7576\\u4f5c\", \"\\u7576\\u5929\", \"\\u7576\\u5929\", \"\\u7576\\u5929\", \"\\u7576\\u6642\", \"\\u7576\\u6642\", \"\\u7576\\u6642\", \"\\u7576\\u6642\", \"\\u75ab\\u60c5\", \"\\u767c\\u6587\", \"\\u767c\\u6587\", \"\\u767c\\u6587\", \"\\u767c\\u6587\", \"\\u767c\\u73fe\", \"\\u767c\\u73fe\", \"\\u767c\\u73fe\", \"\\u76ae\\u819a\", \"\\u76ee\\u524d\", \"\\u76ee\\u524d\", \"\\u76ee\\u524d\", \"\\u76f4\\u63a5\", \"\\u76f4\\u63a5\", \"\\u76f4\\u63a5\", \"\\u76f8\\u8655\", \"\\u770b\\u5230\", \"\\u770b\\u5230\", \"\\u770b\\u5230\", \"\\u770b\\u5230\", \"\\u773c\\u599d\", \"\\u773c\\u5f71\", \"\\u773c\\u775b\", \"\\u773c\\u775b\", \"\\u773c\\u775b\", \"\\u7761\\u89ba\", \"\\u7761\\u89ba\", \"\\u776b\\u6bdb\\u818f\", \"\\u77e5\\u9053\", \"\\u77e5\\u9053\", \"\\u77e5\\u9053\", \"\\u77e5\\u9053\", \"\\u7a7f\\u642d\", \"\\u7a7f\\u642d\", \"\\u7acb\\u5834\", \"\\u7acb\\u5834\", \"\\u7c89\\u5e95\", \"\\u7d50\\u679c\", \"\\u7d50\\u679c\", \"\\u7d93\\u5178\", \"\\u7d93\\u5178\", \"\\u7da0\\u8272\", \"\\u7da0\\u8272\", \"\\u7db2\\u53cb\", \"\\u7db2\\u53cb\", \"\\u7ffb\\u8b6f\", \"\\u7ffb\\u8b6f\", \"\\u8003\\u8a66\", \"\\u8003\\u8a66\", \"\\u804a\\u5929\", \"\\u806f\\u7d61\", \"\\u806f\\u7d61\", \"\\u806f\\u7d61\", \"\\u80f8\\u90e8\", \"\\u80f8\\u90e8\", \"\\u816e\\u7d05\", \"\\u8212\\u670d\", \"\\u8212\\u670d\", \"\\u8349\\u8393\", \"\\u86cb\\u7cd5\", \"\\u86cb\\u7cd5\", \"\\u87a2\\u5e55\", \"\\u87a2\\u5e55\", \"\\u8863\\u670d\", \"\\u8863\\u670d\", \"\\u8868\\u793a\", \"\\u8868\\u793a\", \"\\u896f\\u886b\", \"\\u8981\\u6c42\", \"\\u8981\\u6c42\", \"\\u8981\\u6c42\", \"\\u898b\\u9762\", \"\\u898b\\u9762\", \"\\u89ba\\u5f97\", \"\\u89ba\\u5f97\", \"\\u89ba\\u5f97\", \"\\u89ba\\u5f97\", \"\\u8a0a\\u606f\", \"\\u8a0a\\u606f\", \"\\u8a0a\\u606f\", \"\\u8b8a\\u6210\", \"\\u8b8a\\u6210\", \"\\u8b8a\\u6210\", \"\\u8cea\\u5730\", \"\\u8cea\\u611f\", \"\\u8cfc\\u5165\", \"\\u8cfc\\u5165\", \"\\u8cfc\\u5165\", \"\\u8ddd\\u96e2\", \"\\u8eab\\u6750\", \"\\u8eab\\u6750\", \"\\u8f9b\\u82e6\", \"\\u9019\\u6a23\", \"\\u9019\\u6a23\", \"\\u9019\\u6a23\", \"\\u9019\\u6a23\", \"\\u9032\\u53bb\", \"\\u9032\\u53bb\", \"\\u904b\\u52d5\", \"\\u904b\\u52d5\", \"\\u904e\\u4f86\", \"\\u904e\\u4f86\", \"\\u9072\\u5230\", \"\\u9072\\u5230\", \"\\u90a3\\u4e9b\", \"\\u90a3\\u4e9b\", \"\\u90e8\\u5206\", \"\\u90e8\\u5206\", \"\\u90e8\\u5206\", \"\\u90e8\\u5206\", \"\\u958b\\u59cb\", \"\\u958b\\u59cb\", \"\\u958b\\u59cb\", \"\\u95dc\\u4fc2\", \"\\u95dc\\u4fc2\", \"\\u95dc\\u4fc2\", \"\\u9644\\u4e0a\", \"\\u9644\\u4e0a\", \"\\u9644\\u4e0a\", \"\\u9644\\u4e0a\", \"\\u96e2\\u958b\", \"\\u96e2\\u958b\", \"\\u96e2\\u958b\", \"\\u96fb\\u8a71\", \"\\u96fb\\u8a71\", \"\\u96fb\\u8a71\", \"\\u9738\\u51cc\", \"\\u9738\\u51cc\", \"\\u9738\\u51cc\", \"\\u97d3\\u570b\", \"\\u97d3\\u7db2\", \"\\u982d\\u9aee\", \"\\u982d\\u9aee\", \"\\u984f\\u8272\", \"\\u984f\\u8272\", \"\\u98a8\\u683c\", \"\\u98a8\\u683c\", \"\\u9999\\u6c23\", \"\\u9999\\u6c23\"]}, \"R\": 30, \"lambda.step\": 0.01, \"plot.opts\": {\"xlab\": \"PC1\", \"ylab\": \"PC2\"}, \"topic.order\": [2, 3, 1, 4]};\n",
       "\n",
       "function LDAvis_load_lib(url, callback){\n",
       "  var s = document.createElement('script');\n",
       "  s.src = url;\n",
       "  s.async = true;\n",
       "  s.onreadystatechange = s.onload = callback;\n",
       "  s.onerror = function(){console.warn(\"failed to load library \" + url);};\n",
       "  document.getElementsByTagName(\"head\")[0].appendChild(s);\n",
       "}\n",
       "\n",
       "if(typeof(LDAvis) !== \"undefined\"){\n",
       "   // already loaded: just create the visualization\n",
       "   !function(LDAvis){\n",
       "       new LDAvis(\"#\" + \"ldavis_el521861405532651329122858161025\", ldavis_el521861405532651329122858161025_data);\n",
       "   }(LDAvis);\n",
       "}else if(typeof define === \"function\" && define.amd){\n",
       "   // require.js is available: use it to load d3/LDAvis\n",
       "   require.config({paths: {d3: \"https://d3js.org/d3.v5\"}});\n",
       "   require([\"d3\"], function(d3){\n",
       "      window.d3 = d3;\n",
       "      LDAvis_load_lib(\"https://cdn.jsdelivr.net/gh/bmabey/pyLDAvis@3.2.2/pyLDAvis/js/ldavis.v3.0.0.js\", function(){\n",
       "        new LDAvis(\"#\" + \"ldavis_el521861405532651329122858161025\", ldavis_el521861405532651329122858161025_data);\n",
       "      });\n",
       "    });\n",
       "}else{\n",
       "    // require.js not available: dynamically load d3 & LDAvis\n",
       "    LDAvis_load_lib(\"https://d3js.org/d3.v5.js\", function(){\n",
       "         LDAvis_load_lib(\"https://cdn.jsdelivr.net/gh/bmabey/pyLDAvis@3.2.2/pyLDAvis/js/ldavis.v3.0.0.js\", function(){\n",
       "                 new LDAvis(\"#\" + \"ldavis_el521861405532651329122858161025\", ldavis_el521861405532651329122858161025_data);\n",
       "            })\n",
       "         });\n",
       "}\n",
       "</script>"
      ],
      "text/plain": [
       "PreparedData(topic_coordinates=             x        y  topics  cluster     Freq\n",
       "topic                                            \n",
       "1      0.07897  0.04669       1        1 63.74948\n",
       "2      0.10161 -0.10513       2        1 14.20906\n",
       "0     -0.15525 -0.07352       3        1 11.21943\n",
       "3     -0.02533  0.13195       4        1 10.82203, topic_info=    Term     Freq    Total Category  logprob  loglift\n",
       "481   蛋糕 26.00000 26.00000  Default 30.00000 30.00000\n",
       "585   顏色 20.00000 20.00000  Default 29.00000 29.00000\n",
       "383   男友 39.00000 39.00000  Default 28.00000 28.00000\n",
       "0     一下 36.00000 36.00000  Default 27.00000 27.00000\n",
       "253   感覺 35.00000 35.00000  Default 26.00000 26.00000\n",
       "..   ...      ...      ...      ...      ...      ...\n",
       "130   喜歡  4.57058 51.51107   Topic4 -4.89170 -0.19860\n",
       "314   時間  4.24555 37.64154   Topic4 -4.96550  0.04130\n",
       "39    什麼  4.67825 68.27143   Topic4 -4.86850 -0.45700\n",
       "327   朋友  3.91100 51.85372   Topic4 -5.04760 -0.36100\n",
       "0     一下  3.64628 36.86647   Topic4 -5.11770 -0.09000\n",
       "\n",
       "[254 rows x 6 columns], token_table=      Topic    Freq Term\n",
       "term                    \n",
       "0         1 0.62387   一下\n",
       "0         3 0.27125   一下\n",
       "0         4 0.10850   一下\n",
       "1         1 0.66981   一些\n",
       "1         2 0.19138   一些\n",
       "...     ...     ...  ...\n",
       "585       3 0.57531   顏色\n",
       "588       1 0.28479   風格\n",
       "588       2 0.56959   風格\n",
       "590       2 0.59226   香氣\n",
       "590       3 0.29613   香氣\n",
       "\n",
       "[430 rows x 3 columns], R=30, lambda_step=0.01, plot_opts={'xlab': 'PC1', 'ylab': 'PC2'}, topic_order=[2, 3, 1, 4])"
      ]
     },
     "execution_count": 26,
     "metadata": {},
     "output_type": "execute_result"
    }
   ],
   "source": [
    "import pyLDAvis\n",
    "import pyLDAvis.sklearn\n",
    "import dill\n",
    "#import warnings\n",
    "\n",
    "#warnings.filterwanrings('ignore')\n",
    "pyLDAvis.enable_notebook()\n",
    "#cv_matrix2 = np.matrix(cv_matrix)\n",
    "pyLDAvis.sklearn.prepare(lda, cv_matrix, cv, mds=\"mmds\")"
   ]
  },
  {
   "cell_type": "markdown",
   "metadata": {
    "tags": [
     "remove-input",
     "remove-output"
    ]
   },
   "source": [
    "### Clustering documents using topic model features"
   ]
  },
  {
   "cell_type": "code",
   "execution_count": 27,
   "metadata": {
    "scrolled": true,
    "tags": [
     "remove-input",
     "remove-output"
    ]
   },
   "outputs": [
    {
     "name": "stderr",
     "output_type": "stream",
     "text": [
      "/Users/Alvin/opt/anaconda3/envs/python-notes/lib/python3.7/site-packages/ipykernel/ipkernel.py:287: DeprecationWarning: `should_run_async` will not call `transform_cell` automatically in the future. Please pass the result to `transformed_cell` argument and any exception that happen during thetransform in `preprocessing_exc_tuple` in IPython 7.17 and above.\n",
      "  and should_run_async(code)\n"
     ]
    },
    {
     "data": {
      "text/html": [
       "<div>\n",
       "<style scoped>\n",
       "    .dataframe tbody tr th:only-of-type {\n",
       "        vertical-align: middle;\n",
       "    }\n",
       "\n",
       "    .dataframe tbody tr th {\n",
       "        vertical-align: top;\n",
       "    }\n",
       "\n",
       "    .dataframe thead th {\n",
       "        text-align: right;\n",
       "    }\n",
       "</style>\n",
       "<table border=\"1\" class=\"dataframe\">\n",
       "  <thead>\n",
       "    <tr style=\"text-align: right;\">\n",
       "      <th></th>\n",
       "      <th>ID</th>\n",
       "      <th>title</th>\n",
       "      <th>content</th>\n",
       "      <th>Normalized</th>\n",
       "      <th>ClusterLabels</th>\n",
       "    </tr>\n",
       "  </thead>\n",
       "  <tbody>\n",
       "    <tr>\n",
       "      <th>90</th>\n",
       "      <td>235444293</td>\n",
       "      <td>球場上端火鍋</td>\n",
       "      <td>https://www.dcard.tw/v2/vivid/videos/7d1d1171-e0c7-4225-9e07-517ee6b898ab?r=0.7625\\n幹真的不是套好的嗎XDDD\\n笑到瘋</td>\n",
       "      <td>套好 笑 瘋</td>\n",
       "      <td>2</td>\n",
       "    </tr>\n",
       "    <tr>\n",
       "      <th>91</th>\n",
       "      <td>235442238</td>\n",
       "      <td>#問 特殊形狀美妝蛋</td>\n",
       "      <td>https://i.imgur.com/PxSaXkZ.jpg\\nhttps://i.imgur.com/Tq1GPx8.jpg\\n小紅書上好多好可愛的美妝蛋\\n被燒到不行\\n想請問各位水水有用過嗎？</td>\n",
       "      <td>小紅 書 上 好多 可愛 美妝蛋 燒 不行 想 請問 水水 有 用</td>\n",
       "      <td>3</td>\n",
       "    </tr>\n",
       "    <tr>\n",
       "      <th>92</th>\n",
       "      <td>235446475</td>\n",
       "      <td>問這個很漂亮的人是誰</td>\n",
       "      <td>最近的合作舞台，剛好三團都沒什麼在追，想問板上的各位這位是誰🙏\\nhttps://i.imgur.com/gPVxus5.jpg</td>\n",
       "      <td>最近 合作 舞台 團 沒 什麼 追 想 問 板 上 這 位</td>\n",
       "      <td>2</td>\n",
       "    </tr>\n",
       "    <tr>\n",
       "      <th>93</th>\n",
       "      <td>235443651</td>\n",
       "      <td>更）市北這樣是偷偷放榜嗎⋯⋯</td>\n",
       "      <td>我有一一看完大家的回覆了\\n謝謝很多戰友或是其他朋友的加油\\n也看到有通過市北初試的留言\\n真的很恭喜\\n希望你可以唸到自己想唸的事物\\n唸輔導諮商向來是自己的夢想\\n我從指考填志願時與這個領域錯過之後也還是很努力的想擠身進去\\n我覺得我已經盡我所能\\n若結果還是不如預期\\n那真的就是真的不適合吧\\n期許自己能遇到自己喜歡以及適合自己的地方\\n不管是研究所或工作都是\\n——————————...</td>\n",
       "      <td>有 看完 回覆 謝謝 很多 戰友 其他 朋友 加油 看到 有 通過 市北 初試 留言 恭喜 希望 唸到 想 唸 事物 唸 輔導 諮商 夢想 指考 填 志願 時 這 個 領域 錯過 之後 努力 想 擠 身 進去 覺得 盡 能 結果 不如 預期 那 適合 期許 遇到 喜歡 適合 地方 研究所 工作 正文 開始 手賤 登入 市北 招生 系統 看到 這 個 複試 名單 明天 星期二 出來 這 個 ...</td>\n",
       "      <td>0</td>\n",
       "    </tr>\n",
       "    <tr>\n",
       "      <th>94</th>\n",
       "      <td>235445249</td>\n",
       "      <td>女友有罪惡感（微西斯）</td>\n",
       "      <td>前幾天跟女友做了  做完之後他哭了  我趕緊安撫他的情緒  並詢問說是不是我弄痛你了  他跟我說是因為怕如果父母知道的話會對他失望所以他有罪惡感（女友父母有跟他說要等結婚之後才可以做  不可以隨便給別人）我跟他說每個人本來就都有慾望  你不要太自責\\n\\n我跟女友都是對方的第一任  我們已經交往了快三年直到前一陣子才做  但這次並不是第一次  上個月的時侯我就有戴在外面磨一磨然後不小心滑進...</td>\n",
       "      <td>前 天 女友 做 做完 之後 哭 安撫 情緒 詢問 說 弄痛 說 怕 父母 知道 失望 有 罪惡感 女友 父母 有 說 等 結婚 之後 做 隨便 說 每 個 人 有 慾望 自責 女友 任 交往 三 年 前 一陣子 做 這 次 次 上 個 月 時侯 有 戴 外面 磨 磨 小心 滑進去 這 次 個 出去 住 弄 弄 之後 說 想要 進去 想 住 外面 怕 聽到 主動 之前 說 想要 導致 有 ...</td>\n",
       "      <td>3</td>\n",
       "    </tr>\n",
       "    <tr>\n",
       "      <th>95</th>\n",
       "      <td>235444562</td>\n",
       "      <td>主題：💟愛情塔羅💟 他要的感情關係vs 我要的感情關係為何？兩個人的近期發展（曖昧/交往中/斷聯/復合）</td>\n",
       "      <td>🤗感謝我們之間的連結帶領你來到這裡！ \\n\\n主題：💟愛情塔羅💟 他要的感情關係vs 我要的感情關係為何？兩個人的近期發展（曖昧/交往中/斷聯/復合）\\n\\n本次的大眾占卜適合處在曖昧、交往中、剛斷聯、分手、期待的你，有時候一份感情的重要核心正是在於雙方要的是不是一樣的東西，不見得得要完全相同，但至少如果理解彼此的感情需求，在相處上也能夠更融洽嘍！\\n\\n⭐️請閉上眼睛，深呼吸，腦子專心裡...</td>\n",
       "      <td>感謝 之間 連結 帶領 來到 這裡 主題 愛情 塔羅 感情 關係 感情 關係 何 個 人 近期 發展 曖昧 交往 中 斷聯 復合 本 次 占卜 適合 處在 曖昧 交往 中 斷聯 分手 期待 份 感情 重要 核心 在於 一樣 東西 相同 理解 感情 需求 相處 上 融洽 請 閉上 眼睛 深呼吸 腦子 專心 裡 想 感情 關係 什麼 相同 想想 樣子 有 個 人 相處 點滴 張開 眼睛 組 牌...</td>\n",
       "      <td>0</td>\n",
       "    </tr>\n",
       "    <tr>\n",
       "      <th>96</th>\n",
       "      <td>235441027</td>\n",
       "      <td>#分享 老花古董包 LV 方盒子｜Celine 化妝箱</td>\n",
       "      <td>近期購入的兩款古董包 可能因為是新歡 所以都讓我愛不釋手(๑•̀ •́)و✧\\n不過正是古董包的緣故 包況總有些不盡理想的狀況 帶有小瑕疵的部分 我自己都可以接受\\n為了比較包包的容量 文內有帶到一小部分的what’s in my bag 也有實揹照的部分*ˊᵕˋ\\n\\n\\n\\n𓎘𓎘𓎘 Louis Vuitton monogram 開口笑方盒子\\n（名字是參考小紅書介紹）\\n\\n購入價格：...</td>\n",
       "      <td>近期 購入 款 古董包 新歡 讓 愛不釋手 古董包 緣故 包況 有 些 理想 狀況 帶有 小 瑕疵 部分 接受 包包 容量 文 內 有 帶到 小 部分 有 實 揹照 部分 開口 笑 方 盒子 名字 參考 小紅 書 介紹 購入 價格 購入 方式 代購 賣場 尺寸 公分 容量 暗層 這 款 愛 想 買給 媽媽 當作 生日 禮物 藏 房間 每 天 看 好 喜歡 後來 購入 送給 媽媽 這 款 留...</td>\n",
       "      <td>3</td>\n",
       "    </tr>\n",
       "    <tr>\n",
       "      <th>97</th>\n",
       "      <td>235447320</td>\n",
       "      <td>在公車上遇到的超尷尬事件</td>\n",
       "      <td>剛剛在公車上有一個阿伯下車前跟我說：妹妹你很有愛心欸 讓位置給別人 不像有些人都在裝睡\\n講完這句話還瞄了一眼旁邊的女生\\n我當下就笑笑的\\n可是阿伯\\n那個女生\\n-\\n-\\n-\\n是我朋友(^_^;)\\n幸好阿伯講完就下車了⋯\\nhttps://i.imgur.com/htuMwVw.jpg</td>\n",
       "      <td>公車 上 有 個 阿伯 下車 前 說 妹妹 有 愛心 讓 位置 給 有 些 人 裝睡 講完 這 句 話 瞄 眼 旁邊 女生 笑笑 阿伯 那 個 女生 朋友 阿伯 講完 下車</td>\n",
       "      <td>1</td>\n",
       "    </tr>\n",
       "    <tr>\n",
       "      <th>98</th>\n",
       "      <td>235440749</td>\n",
       "      <td>#大眾占卜 🥺。他現在對我的想法是?他的下一步是什麼?我能為這段關係做什麼樣的努力❣</td>\n",
       "      <td>大家好這裡是金魚🙏\\n這次的占卜適合斷聯、曖昧、復合的族群\\n\\n再上圖之前先置入我的IG\\nhttps://www.instagram.com/goldenfishtarot\\n\\n【大眾占卜集合多人能量請選擇有感應的部分聆聽即可】\\n喜歡有聲版請點連結\\n喜歡文字下面附上文案\\nhttps://youtu.be/xkJHmyl_M7g\\n\\nhttps://i.imgur.com/Ux...</td>\n",
       "      <td>好 這裡 金魚 這 次 占卜 適合 斷聯 曖昧 復合 族群 上 圖 之前 置入 占卜 集合 多 人 能量 請 選擇 有 感應 部分 聆聽 喜歡 請 點 連結 喜歡 文字 下面 附上 文案 組 這 個 對象 之前 感情 坎坷 劈腿 騙 錢 這 有 可能 關 久 遇見 願意 心房 打開 相處 過程 中 知道 什麼 無私 愛 這 種 感情 原生 家庭 感受到 防備 讓 受傷 熱情 有 正向 感染...</td>\n",
       "      <td>0</td>\n",
       "    </tr>\n",
       "    <tr>\n",
       "      <th>99</th>\n",
       "      <td>235442177</td>\n",
       "      <td>所以，你要當我女朋友嗎？</td>\n",
       "      <td>「所以，你要當我女朋友嗎？」我看進她的眼睛，隱約反射出自己的倒影。躺在床上的我們呼吸有些紊亂，午後的陽光肆無忌憚的灑在身上，有點溫暖。\\n\\n我們的故事，從英國開始。\\n\\n\\n大學畢業後我跑到英國念碩士，人生地不熟的地方，一個認識的人也沒有，頭幾週的生活常常是一個人吃飯、逛街、看劇度過，再加上那時還沒走出前女友劈腿的陰影，那段時間說實在還滿煎熬的。\\n\\n幸好後來認識了跟我住在同個宿舍的...</td>\n",
       "      <td>當 女朋友 看進 眼睛 反射出 倒影 躺 床 上 呼吸 紊亂 午後 陽光 肆無忌憚 灑 身 上 溫暖 故事 英國 開始 大學 畢業 後 跑到 英國 念 碩士 人生地不熟 地方 個 認識 人 沒有 週 生活 個 人 吃飯 逛街 看劇 度過 加上 那時 走出 前 女友 劈腿 陰影 那 段 時間 說 實在 煎熬 後來 認識 住在 同 個 宿舍 台灣人 知道 身邊 有 有 這樣 朋友 人脈 感覺 ...</td>\n",
       "      <td>1</td>\n",
       "    </tr>\n",
       "  </tbody>\n",
       "</table>\n",
       "</div>"
      ],
      "text/plain": [
       "           ID                                                 title  \\\n",
       "90  235444293                                                球場上端火鍋   \n",
       "91  235442238                                            #問 特殊形狀美妝蛋   \n",
       "92  235446475                                            問這個很漂亮的人是誰   \n",
       "93  235443651                                        更）市北這樣是偷偷放榜嗎⋯⋯   \n",
       "94  235445249                                           女友有罪惡感（微西斯）   \n",
       "95  235444562  主題：💟愛情塔羅💟 他要的感情關係vs 我要的感情關係為何？兩個人的近期發展（曖昧/交往中/斷聯/復合）   \n",
       "96  235441027                           #分享 老花古董包 LV 方盒子｜Celine 化妝箱   \n",
       "97  235447320                                          在公車上遇到的超尷尬事件   \n",
       "98  235440749            #大眾占卜 🥺。他現在對我的想法是?他的下一步是什麼?我能為這段關係做什麼樣的努力❣   \n",
       "99  235442177                                          所以，你要當我女朋友嗎？   \n",
       "\n",
       "                                                                                                                                                                                                    content  \\\n",
       "90                                                                                                   https://www.dcard.tw/v2/vivid/videos/7d1d1171-e0c7-4225-9e07-517ee6b898ab?r=0.7625\\n幹真的不是套好的嗎XDDD\\n笑到瘋   \n",
       "91                                                                                                     https://i.imgur.com/PxSaXkZ.jpg\\nhttps://i.imgur.com/Tq1GPx8.jpg\\n小紅書上好多好可愛的美妝蛋\\n被燒到不行\\n想請問各位水水有用過嗎？   \n",
       "92                                                                                                                                         最近的合作舞台，剛好三團都沒什麼在追，想問板上的各位這位是誰🙏\\nhttps://i.imgur.com/gPVxus5.jpg   \n",
       "93  我有一一看完大家的回覆了\\n謝謝很多戰友或是其他朋友的加油\\n也看到有通過市北初試的留言\\n真的很恭喜\\n希望你可以唸到自己想唸的事物\\n唸輔導諮商向來是自己的夢想\\n我從指考填志願時與這個領域錯過之後也還是很努力的想擠身進去\\n我覺得我已經盡我所能\\n若結果還是不如預期\\n那真的就是真的不適合吧\\n期許自己能遇到自己喜歡以及適合自己的地方\\n不管是研究所或工作都是\\n——————————...   \n",
       "94  前幾天跟女友做了  做完之後他哭了  我趕緊安撫他的情緒  並詢問說是不是我弄痛你了  他跟我說是因為怕如果父母知道的話會對他失望所以他有罪惡感（女友父母有跟他說要等結婚之後才可以做  不可以隨便給別人）我跟他說每個人本來就都有慾望  你不要太自責\\n\\n我跟女友都是對方的第一任  我們已經交往了快三年直到前一陣子才做  但這次並不是第一次  上個月的時侯我就有戴在外面磨一磨然後不小心滑進...   \n",
       "95  🤗感謝我們之間的連結帶領你來到這裡！ \\n\\n主題：💟愛情塔羅💟 他要的感情關係vs 我要的感情關係為何？兩個人的近期發展（曖昧/交往中/斷聯/復合）\\n\\n本次的大眾占卜適合處在曖昧、交往中、剛斷聯、分手、期待的你，有時候一份感情的重要核心正是在於雙方要的是不是一樣的東西，不見得得要完全相同，但至少如果理解彼此的感情需求，在相處上也能夠更融洽嘍！\\n\\n⭐️請閉上眼睛，深呼吸，腦子專心裡...   \n",
       "96  近期購入的兩款古董包 可能因為是新歡 所以都讓我愛不釋手(๑•̀ •́)و✧\\n不過正是古董包的緣故 包況總有些不盡理想的狀況 帶有小瑕疵的部分 我自己都可以接受\\n為了比較包包的容量 文內有帶到一小部分的what’s in my bag 也有實揹照的部分*ˊᵕˋ\\n\\n\\n\\n𓎘𓎘𓎘 Louis Vuitton monogram 開口笑方盒子\\n（名字是參考小紅書介紹）\\n\\n購入價格：...   \n",
       "97                                                     剛剛在公車上有一個阿伯下車前跟我說：妹妹你很有愛心欸 讓位置給別人 不像有些人都在裝睡\\n講完這句話還瞄了一眼旁邊的女生\\n我當下就笑笑的\\n可是阿伯\\n那個女生\\n-\\n-\\n-\\n是我朋友(^_^;)\\n幸好阿伯講完就下車了⋯\\nhttps://i.imgur.com/htuMwVw.jpg   \n",
       "98  大家好這裡是金魚🙏\\n這次的占卜適合斷聯、曖昧、復合的族群\\n\\n再上圖之前先置入我的IG\\nhttps://www.instagram.com/goldenfishtarot\\n\\n【大眾占卜集合多人能量請選擇有感應的部分聆聽即可】\\n喜歡有聲版請點連結\\n喜歡文字下面附上文案\\nhttps://youtu.be/xkJHmyl_M7g\\n\\nhttps://i.imgur.com/Ux...   \n",
       "99  「所以，你要當我女朋友嗎？」我看進她的眼睛，隱約反射出自己的倒影。躺在床上的我們呼吸有些紊亂，午後的陽光肆無忌憚的灑在身上，有點溫暖。\\n\\n我們的故事，從英國開始。\\n\\n\\n大學畢業後我跑到英國念碩士，人生地不熟的地方，一個認識的人也沒有，頭幾週的生活常常是一個人吃飯、逛街、看劇度過，再加上那時還沒走出前女友劈腿的陰影，那段時間說實在還滿煎熬的。\\n\\n幸好後來認識了跟我住在同個宿舍的...   \n",
       "\n",
       "                                                                                                                                                                                                 Normalized  \\\n",
       "90                                                                                                                                                                                                   套好 笑 瘋   \n",
       "91                                                                                                                                                                        小紅 書 上 好多 可愛 美妝蛋 燒 不行 想 請問 水水 有 用   \n",
       "92                                                                                                                                                                            最近 合作 舞台 團 沒 什麼 追 想 問 板 上 這 位   \n",
       "93  有 看完 回覆 謝謝 很多 戰友 其他 朋友 加油 看到 有 通過 市北 初試 留言 恭喜 希望 唸到 想 唸 事物 唸 輔導 諮商 夢想 指考 填 志願 時 這 個 領域 錯過 之後 努力 想 擠 身 進去 覺得 盡 能 結果 不如 預期 那 適合 期許 遇到 喜歡 適合 地方 研究所 工作 正文 開始 手賤 登入 市北 招生 系統 看到 這 個 複試 名單 明天 星期二 出來 這 個 ...   \n",
       "94  前 天 女友 做 做完 之後 哭 安撫 情緒 詢問 說 弄痛 說 怕 父母 知道 失望 有 罪惡感 女友 父母 有 說 等 結婚 之後 做 隨便 說 每 個 人 有 慾望 自責 女友 任 交往 三 年 前 一陣子 做 這 次 次 上 個 月 時侯 有 戴 外面 磨 磨 小心 滑進去 這 次 個 出去 住 弄 弄 之後 說 想要 進去 想 住 外面 怕 聽到 主動 之前 說 想要 導致 有 ...   \n",
       "95  感謝 之間 連結 帶領 來到 這裡 主題 愛情 塔羅 感情 關係 感情 關係 何 個 人 近期 發展 曖昧 交往 中 斷聯 復合 本 次 占卜 適合 處在 曖昧 交往 中 斷聯 分手 期待 份 感情 重要 核心 在於 一樣 東西 相同 理解 感情 需求 相處 上 融洽 請 閉上 眼睛 深呼吸 腦子 專心 裡 想 感情 關係 什麼 相同 想想 樣子 有 個 人 相處 點滴 張開 眼睛 組 牌...   \n",
       "96  近期 購入 款 古董包 新歡 讓 愛不釋手 古董包 緣故 包況 有 些 理想 狀況 帶有 小 瑕疵 部分 接受 包包 容量 文 內 有 帶到 小 部分 有 實 揹照 部分 開口 笑 方 盒子 名字 參考 小紅 書 介紹 購入 價格 購入 方式 代購 賣場 尺寸 公分 容量 暗層 這 款 愛 想 買給 媽媽 當作 生日 禮物 藏 房間 每 天 看 好 喜歡 後來 購入 送給 媽媽 這 款 留...   \n",
       "97                                                                                                                   公車 上 有 個 阿伯 下車 前 說 妹妹 有 愛心 讓 位置 給 有 些 人 裝睡 講完 這 句 話 瞄 眼 旁邊 女生 笑笑 阿伯 那 個 女生 朋友 阿伯 講完 下車   \n",
       "98  好 這裡 金魚 這 次 占卜 適合 斷聯 曖昧 復合 族群 上 圖 之前 置入 占卜 集合 多 人 能量 請 選擇 有 感應 部分 聆聽 喜歡 請 點 連結 喜歡 文字 下面 附上 文案 組 這 個 對象 之前 感情 坎坷 劈腿 騙 錢 這 有 可能 關 久 遇見 願意 心房 打開 相處 過程 中 知道 什麼 無私 愛 這 種 感情 原生 家庭 感受到 防備 讓 受傷 熱情 有 正向 感染...   \n",
       "99  當 女朋友 看進 眼睛 反射出 倒影 躺 床 上 呼吸 紊亂 午後 陽光 肆無忌憚 灑 身 上 溫暖 故事 英國 開始 大學 畢業 後 跑到 英國 念 碩士 人生地不熟 地方 個 認識 人 沒有 週 生活 個 人 吃飯 逛街 看劇 度過 加上 那時 走出 前 女友 劈腿 陰影 那 段 時間 說 實在 煎熬 後來 認識 住在 同 個 宿舍 台灣人 知道 身邊 有 有 這樣 朋友 人脈 感覺 ...   \n",
       "\n",
       "    ClusterLabels  \n",
       "90              2  \n",
       "91              3  \n",
       "92              2  \n",
       "93              0  \n",
       "94              3  \n",
       "95              0  \n",
       "96              3  \n",
       "97              1  \n",
       "98              0  \n",
       "99              1  "
      ]
     },
     "execution_count": 27,
     "metadata": {},
     "output_type": "execute_result"
    }
   ],
   "source": [
    "from sklearn.cluster import KMeans\n",
    "\n",
    "km = KMeans(n_clusters=num_of_topic, random_state=0)\n",
    "km.fit_transform(features)\n",
    "cluster_labels = km.labels_\n",
    "corpus_df2['ClusterLabels'] = cluster_labels\n",
    "corpus_df2.tail(10)"
   ]
  },
  {
   "cell_type": "code",
   "execution_count": 28,
   "metadata": {
    "tags": [
     "remove-input",
     "remove-output"
    ]
   },
   "outputs": [
    {
     "name": "stderr",
     "output_type": "stream",
     "text": [
      "/Users/Alvin/opt/anaconda3/envs/python-notes/lib/python3.7/site-packages/ipykernel/ipkernel.py:287: DeprecationWarning: `should_run_async` will not call `transform_cell` automatically in the future. Please pass the result to `transformed_cell` argument and any exception that happen during thetransform in `preprocessing_exc_tuple` in IPython 7.17 and above.\n",
      "  and should_run_async(code)\n"
     ]
    },
    {
     "data": {
      "text/plain": [
       "array([0, 3, 0, 0, 1, 0, 3, 0, 3, 0, 2, 0, 0, 0, 2, 0, 0, 0, 0, 3, 0, 1,\n",
       "       0, 1, 3, 0, 0, 0, 0, 0, 3, 1, 0, 3, 2, 1, 1, 0, 1, 0, 1, 0, 1, 3,\n",
       "       1, 0, 2, 2, 1, 2, 0, 2, 0, 0, 1, 0, 2, 2, 0, 0, 2, 0, 0, 2, 0, 1,\n",
       "       1, 1, 0, 0, 1, 0, 0, 1, 1, 1, 3, 2, 0, 2, 2, 3, 2, 3, 0, 2, 2, 3,\n",
       "       0, 2, 3, 2, 0, 3, 0, 3, 1, 0, 1], dtype=int32)"
      ]
     },
     "execution_count": 28,
     "metadata": {},
     "output_type": "execute_result"
    }
   ],
   "source": [
    "cluster_labels"
   ]
  },
  {
   "cell_type": "markdown",
   "metadata": {
    "tags": [
     "remove-input",
     "remove-output"
    ]
   },
   "source": [
    "### Grid Search for Topic Number"
   ]
  },
  {
   "cell_type": "code",
   "execution_count": 29,
   "metadata": {
    "tags": [
     "remove-input",
     "remove-output"
    ]
   },
   "outputs": [
    {
     "name": "stderr",
     "output_type": "stream",
     "text": [
      "/Users/Alvin/opt/anaconda3/envs/python-notes/lib/python3.7/site-packages/ipykernel/ipkernel.py:287: DeprecationWarning: `should_run_async` will not call `transform_cell` automatically in the future. Please pass the result to `transformed_cell` argument and any exception that happen during thetransform in `preprocessing_exc_tuple` in IPython 7.17 and above.\n",
      "  and should_run_async(code)\n",
      "[Parallel(n_jobs=-1)]: Using backend LokyBackend with 4 concurrent workers.\n"
     ]
    },
    {
     "name": "stdout",
     "output_type": "stream",
     "text": [
      "Fitting 5 folds for each of 6 candidates, totalling 30 fits\n"
     ]
    },
    {
     "name": "stderr",
     "output_type": "stream",
     "text": [
      "[Parallel(n_jobs=-1)]: Done  30 out of  30 | elapsed:    4.8s finished\n"
     ]
    },
    {
     "name": "stdout",
     "output_type": "stream",
     "text": [
      "Best Model's Params:  {'n_components': 3}\n",
      "Best Log Likelihood Score:  -8407.435322531066\n",
      "CPU times: user 830 ms, sys: 11.4 ms, total: 841 ms\n",
      "Wall time: 5.57 s\n"
     ]
    }
   ],
   "source": [
    "%%time\n",
    "from sklearn.decomposition import LatentDirichletAllocation\n",
    "from sklearn.model_selection import GridSearchCV\n",
    "\n",
    "# Options to try with our LDA\n",
    "# Beware it will try *all* of the combinations, so it'll take ages\n",
    "search_params = {\n",
    "  'n_components': [3,4,5,6,7,8],\n",
    "#  'learning_decay': [.5, .7]\n",
    "}\n",
    "\n",
    "# Set up LDA with the options we'll keep static\n",
    "model = LatentDirichletAllocation(learning_method='online')\n",
    "\n",
    "# Try all of the options\n",
    "gridsearch = GridSearchCV(model, param_grid=search_params, n_jobs=-1, verbose=1)\n",
    "gridsearch.fit(cv_matrix)\n",
    "\n",
    "# What did we find?\n",
    "print(\"Best Model's Params: \", gridsearch.best_params_)\n",
    "print(\"Best Log Likelihood Score: \", gridsearch.best_score_)"
   ]
  },
  {
   "cell_type": "code",
   "execution_count": 30,
   "metadata": {
    "tags": [
     "remove-input",
     "remove-output"
    ]
   },
   "outputs": [
    {
     "name": "stderr",
     "output_type": "stream",
     "text": [
      "/Users/Alvin/opt/anaconda3/envs/python-notes/lib/python3.7/site-packages/ipykernel/ipkernel.py:287: DeprecationWarning: `should_run_async` will not call `transform_cell` automatically in the future. Please pass the result to `transformed_cell` argument and any exception that happen during thetransform in `preprocessing_exc_tuple` in IPython 7.17 and above.\n",
      "  and should_run_async(code)\n"
     ]
    },
    {
     "name": "stdout",
     "output_type": "stream",
     "text": [
      "Topic 0: 時候 覺得 什麼 朋友 感覺 喜歡 這樣 聊天 之前 看到\n",
      "Topic 1: 覺得 知道 男友 開始 之後 故事 時間 時候 什麼 台灣\n",
      "Topic 2: 寶寶 原文 其他 女生 可愛 唇膏 包裝 翻譯 韓網 霸凌\n",
      "Topic 3: 覺得 什麼 喜歡 現在 看到 這樣 時候 蛋糕 感情 發現\n",
      "Topic 4: 穿搭 洋裝 包包 購入 鞋子 黑色 整體 顏色 部分 男生\n",
      "Topic 5: 學生 大學 一下 網友 粉底 昨天 開始 公司 教學 這樣\n",
      "CPU times: user 91.6 ms, sys: 7.86 ms, total: 99.5 ms\n",
      "Wall time: 371 ms\n"
     ]
    }
   ],
   "source": [
    "%%time\n",
    "\n",
    "from sklearn.decomposition import LatentDirichletAllocation\n",
    "\n",
    "# Use LDA to look for 5 topics\n",
    "n_topics = 6\n",
    "model = LatentDirichletAllocation(learning_method='online', n_components=n_topics, n_jobs=-1)\n",
    "dt_matrix = model.fit_transform(cv_matrix)\n",
    "\n",
    "# Print the top 10 words per topic\n",
    "n_words = 10\n",
    "feature_names = cv.get_feature_names()\n",
    "\n",
    "topic_list = []\n",
    "for topic_idx, topic in enumerate(model.components_):\n",
    "    top_n = [feature_names[i]\n",
    "             for i in topic.argsort()\n",
    "             [-n_words:]][::-1]\n",
    "    top_features = ' '.join(top_n)\n",
    "    topic_list.append(f\"topic_{'_'.join(top_n[:3])}\") \n",
    "\n",
    "    print(f\"Topic {topic_idx}: {top_features}\")\n"
   ]
  },
  {
   "cell_type": "code",
   "execution_count": 31,
   "metadata": {
    "tags": [
     "remove-input",
     "remove-output"
    ]
   },
   "outputs": [
    {
     "name": "stderr",
     "output_type": "stream",
     "text": [
      "/Users/Alvin/opt/anaconda3/envs/python-notes/lib/python3.7/site-packages/ipykernel/ipkernel.py:287: DeprecationWarning: `should_run_async` will not call `transform_cell` automatically in the future. Please pass the result to `transformed_cell` argument and any exception that happen during thetransform in `preprocessing_exc_tuple` in IPython 7.17 and above.\n",
      "  and should_run_async(code)\n"
     ]
    }
   ],
   "source": [
    "# Set it up as a dataframe\n",
    "features = pd.DataFrame(dt_matrix, columns = [\"T\"+str(n) for n in range(1,n_topics+1)])"
   ]
  },
  {
   "cell_type": "code",
   "execution_count": 32,
   "metadata": {
    "scrolled": false,
    "tags": [
     "remove-input",
     "remove-output"
    ]
   },
   "outputs": [
    {
     "name": "stderr",
     "output_type": "stream",
     "text": [
      "/Users/Alvin/opt/anaconda3/envs/python-notes/lib/python3.7/site-packages/ipykernel/ipkernel.py:287: DeprecationWarning: `should_run_async` will not call `transform_cell` automatically in the future. Please pass the result to `transformed_cell` argument and any exception that happen during thetransform in `preprocessing_exc_tuple` in IPython 7.17 and above.\n",
      "  and should_run_async(code)\n"
     ]
    },
    {
     "data": {
      "text/plain": [
       "<matplotlib.legend.Legend at 0x7fd5089317f0>"
      ]
     },
     "execution_count": 32,
     "metadata": {},
     "output_type": "execute_result"
    },
    {
     "data": {
      "image/png": "[encoded data removed]",
      "text/plain": [
       "<Figure size 720x360 with 1 Axes>"
      ]
     },
     "metadata": {
      "needs_background": "light"
     },
     "output_type": "display_data"
    }
   ],
   "source": [
    "x_axis = corpus_df2.index\n",
    "y_axis = features\n",
    "\n",
    "fig, ax = plt.subplots(figsize=(10,5))\n",
    "\n",
    "# Plot a stackplot - https://matplotlib.org/3.1.1/gallery/lines_bars_and_markers/stackplot_demo.html\n",
    "ax.stackplot(x_axis, y_axis.T, baseline='wiggle', labels=y_axis.columns)\n",
    "\n",
    "# Move the legend off of the chart\n",
    "ax.legend(loc=(1.04,0))"
   ]
  },
  {
   "cell_type": "code",
   "execution_count": 33,
   "metadata": {
    "tags": [
     "remove-input",
     "remove-output"
    ]
   },
   "outputs": [
    {
     "name": "stderr",
     "output_type": "stream",
     "text": [
      "/Users/Alvin/opt/anaconda3/envs/python-notes/lib/python3.7/site-packages/ipykernel/ipkernel.py:287: DeprecationWarning: `should_run_async` will not call `transform_cell` automatically in the future. Please pass the result to `transformed_cell` argument and any exception that happen during thetransform in `preprocessing_exc_tuple` in IPython 7.17 and above.\n",
      "  and should_run_async(code)\n"
     ]
    }
   ],
   "source": [
    "from tmtoolkit.topicmod.evaluate import metric_coherence_gensim"
   ]
  },
  {
   "cell_type": "code",
   "execution_count": 34,
   "metadata": {
    "tags": [
     "remove-input",
     "remove-output"
    ]
   },
   "outputs": [
    {
     "name": "stderr",
     "output_type": "stream",
     "text": [
      "/Users/Alvin/opt/anaconda3/envs/python-notes/lib/python3.7/site-packages/ipykernel/ipkernel.py:287: DeprecationWarning: `should_run_async` will not call `transform_cell` automatically in the future. Please pass the result to `transformed_cell` argument and any exception that happen during thetransform in `preprocessing_exc_tuple` in IPython 7.17 and above.\n",
      "  and should_run_async(code)\n"
     ]
    },
    {
     "data": {
      "text/plain": [
       "array([[ 5.51870976,  5.18051755,  0.57225687, ...,  1.12309893,\n",
       "         0.3588376 ,  0.32093471],\n",
       "       [10.99675984,  2.92959315,  6.35394869, ...,  0.34906011,\n",
       "         0.50078474,  1.44454982],\n",
       "       [ 2.06376147,  0.34608744,  0.43750405, ...,  0.36053577,\n",
       "         0.33339879,  0.35437642],\n",
       "       [ 9.81670414,  8.86364007,  2.75036414, ...,  1.92068613,\n",
       "         2.69053756,  0.95645138],\n",
       "       [ 0.63875935,  1.95519396,  0.35593888, ...,  0.33340654,\n",
       "         0.99356356,  7.38141494],\n",
       "       [ 5.15111543,  0.36844968,  0.33164456, ...,  0.30369486,\n",
       "         0.32395427,  0.37351427]])"
      ]
     },
     "execution_count": 34,
     "metadata": {},
     "output_type": "execute_result"
    }
   ],
   "source": [
    "model.components_"
   ]
  },
  {
   "cell_type": "code",
   "execution_count": 35,
   "metadata": {
    "tags": [
     "remove-input",
     "remove-output"
    ]
   },
   "outputs": [
    {
     "name": "stderr",
     "output_type": "stream",
     "text": [
      "/Users/Alvin/opt/anaconda3/envs/python-notes/lib/python3.7/site-packages/ipykernel/ipkernel.py:287: DeprecationWarning: `should_run_async` will not call `transform_cell` automatically in the future. Please pass the result to `transformed_cell` argument and any exception that happen during thetransform in `preprocessing_exc_tuple` in IPython 7.17 and above.\n",
      "  and should_run_async(code)\n"
     ]
    }
   ],
   "source": [
    "# # lda_model - LatentDirichletAllocation()\n",
    "# # vect - CountVectorizer()\n",
    "# # texts - the list of tokenized words\n",
    "# norm_corpus\n",
    "# norm_corpus_tokens = [doc.split() for doc in norm_corpus]\n",
    "\n",
    "\n",
    "# metric_coherence_gensim(measure='c_v', \n",
    "#                         top_n=5, \n",
    "#                         topic_word_distrib= model.components_, \n",
    "#                         dtm=cv.fit_transform(norm_corpus), \n",
    "#                         vocab=np.array(cv.get_feature_names()), \n",
    "#                         texts=norm_corpus_tokens)"
   ]
  },
  {
   "cell_type": "code",
   "execution_count": 36,
   "metadata": {
    "tags": [
     "remove-input",
     "remove-output"
    ]
   },
   "outputs": [
    {
     "name": "stderr",
     "output_type": "stream",
     "text": [
      "/Users/Alvin/opt/anaconda3/envs/python-notes/lib/python3.7/site-packages/ipykernel/ipkernel.py:287: DeprecationWarning: `should_run_async` will not call `transform_cell` automatically in the future. Please pass the result to `transformed_cell` argument and any exception that happen during thetransform in `preprocessing_exc_tuple` in IPython 7.17 and above.\n",
      "  and should_run_async(code)\n"
     ]
    },
    {
     "name": "stdout",
     "output_type": "stream",
     "text": [
      "2\n"
     ]
    },
    {
     "name": "stderr",
     "output_type": "stream",
     "text": [
      "/Users/Alvin/opt/anaconda3/envs/python-notes/lib/python3.7/site-packages/scipy/sparse/sparsetools.py:21: DeprecationWarning: `scipy.sparse.sparsetools` is deprecated!\n",
      "scipy.sparse.sparsetools is a private module for scipy.sparse, and should not be used.\n",
      "  _deprecated()\n"
     ]
    },
    {
     "name": "stdout",
     "output_type": "stream",
     "text": [
      "3\n",
      "4\n",
      "5\n",
      "6\n",
      "7\n",
      "8\n",
      "9\n",
      "CPU times: user 52.3 s, sys: 3.5 s, total: 55.8 s\n",
      "Wall time: 2min 55s\n"
     ]
    },
    {
     "data": {
      "text/html": [
       "<div>\n",
       "<style scoped>\n",
       "    .dataframe tbody tr th:only-of-type {\n",
       "        vertical-align: middle;\n",
       "    }\n",
       "\n",
       "    .dataframe tbody tr th {\n",
       "        vertical-align: top;\n",
       "    }\n",
       "\n",
       "    .dataframe thead th {\n",
       "        text-align: right;\n",
       "    }\n",
       "</style>\n",
       "<table border=\"1\" class=\"dataframe\">\n",
       "  <thead>\n",
       "    <tr style=\"text-align: right;\">\n",
       "      <th></th>\n",
       "      <th>TOPIC_NUMBER</th>\n",
       "      <th>COHERENCE_SCORE</th>\n",
       "    </tr>\n",
       "  </thead>\n",
       "  <tbody>\n",
       "    <tr>\n",
       "      <th>4</th>\n",
       "      <td>6</td>\n",
       "      <td>0.52640</td>\n",
       "    </tr>\n",
       "    <tr>\n",
       "      <th>3</th>\n",
       "      <td>5</td>\n",
       "      <td>0.52340</td>\n",
       "    </tr>\n",
       "    <tr>\n",
       "      <th>0</th>\n",
       "      <td>2</td>\n",
       "      <td>0.52050</td>\n",
       "    </tr>\n",
       "    <tr>\n",
       "      <th>7</th>\n",
       "      <td>9</td>\n",
       "      <td>0.51430</td>\n",
       "    </tr>\n",
       "    <tr>\n",
       "      <th>2</th>\n",
       "      <td>4</td>\n",
       "      <td>0.47870</td>\n",
       "    </tr>\n",
       "    <tr>\n",
       "      <th>5</th>\n",
       "      <td>7</td>\n",
       "      <td>0.47220</td>\n",
       "    </tr>\n",
       "    <tr>\n",
       "      <th>6</th>\n",
       "      <td>8</td>\n",
       "      <td>0.42520</td>\n",
       "    </tr>\n",
       "    <tr>\n",
       "      <th>1</th>\n",
       "      <td>3</td>\n",
       "      <td>0.41520</td>\n",
       "    </tr>\n",
       "  </tbody>\n",
       "</table>\n",
       "</div>"
      ],
      "text/plain": [
       "  TOPIC_NUMBER  COHERENCE_SCORE\n",
       "4            6          0.52640\n",
       "3            5          0.52340\n",
       "0            2          0.52050\n",
       "7            9          0.51430\n",
       "2            4          0.47870\n",
       "5            7          0.47220\n",
       "6            8          0.42520\n",
       "1            3          0.41520"
      ]
     },
     "execution_count": 36,
     "metadata": {},
     "output_type": "execute_result"
    }
   ],
   "source": [
    "%%time\n",
    "\n",
    "import tmtoolkit\n",
    "from tmtoolkit.topicmod.evaluate import metric_coherence_gensim\n",
    "def topic_model_coherence_generator(topic_num_start=2,\n",
    "                                    topic_num_end=6,\n",
    "                                    norm_corpus='',\n",
    "                                    cv_matrix='',\n",
    "                                    cv=''):\n",
    "    norm_corpus_tokens = [doc.split() for doc in norm_corpus]\n",
    "    models = []\n",
    "    coherence_scores = []\n",
    "\n",
    "    for i in range(topic_num_start, topic_num_end):\n",
    "        print(i)\n",
    "        cur_lda = LatentDirichletAllocation(n_components=i,\n",
    "                                            max_iter=1000,\n",
    "                                            random_state=0,\n",
    "                                           learning_method=\"online\",\n",
    "                                           n_jobs=-1)\n",
    "        cur_lda.fit_transform(cv_matrix)\n",
    "        cur_coherence_score = metric_coherence_gensim(\n",
    "            measure='c_v',\n",
    "            top_n=5,\n",
    "            topic_word_distrib=cur_lda.components_,\n",
    "            dtm=cv.fit_transform(norm_corpus),\n",
    "            vocab=np.array(cv.get_feature_names()),\n",
    "            texts=norm_corpus_tokens)\n",
    "        models.append(cur_lda)\n",
    "        coherence_scores.append(np.mean(cur_coherence_score))\n",
    "    return models, coherence_scores\n",
    "\n",
    "\n",
    "ts = 2\n",
    "te = 10\n",
    "models, coherence_scores = topic_model_coherence_generator(\n",
    "    ts, te, norm_corpus=norm_corpus, cv=cv, cv_matrix=cv_matrix)\n",
    "\n",
    "coherence_df = pd.DataFrame({\n",
    "    'TOPIC_NUMBER': [str(i) for i in range(ts, te)],\n",
    "    'COHERENCE_SCORE': np.round(coherence_scores, 4)\n",
    "})\n",
    "\n",
    "coherence_df.sort_values(by=[\"COHERENCE_SCORE\"], ascending=False)"
   ]
  },
  {
   "cell_type": "code",
   "execution_count": null,
   "metadata": {
    "tags": [
     "remove-input",
     "remove-output"
    ]
   },
   "outputs": [],
   "source": []
  },
  {
   "cell_type": "code",
   "execution_count": 37,
   "metadata": {
    "tags": [
     "remove-input",
     "remove-output"
    ]
   },
   "outputs": [
    {
     "name": "stderr",
     "output_type": "stream",
     "text": [
      "/Users/Alvin/opt/anaconda3/envs/python-notes/lib/python3.7/site-packages/ipykernel/ipkernel.py:287: DeprecationWarning: `should_run_async` will not call `transform_cell` automatically in the future. Please pass the result to `transformed_cell` argument and any exception that happen during thetransform in `preprocessing_exc_tuple` in IPython 7.17 and above.\n",
      "  and should_run_async(code)\n",
      "/Users/Alvin/opt/anaconda3/envs/python-notes/lib/python3.7/site-packages/patsy/constraint.py:13: DeprecationWarning: Using or importing the ABCs from 'collections' instead of from 'collections.abc' is deprecated, and in 3.8 it will stop working\n",
      "  from collections import Mapping\n"
     ]
    },
    {
     "data": {
      "image/png": "[encoded data removed]",
      "text/plain": [
       "<Figure size 960x720 with 1 Axes>"
      ]
     },
     "metadata": {},
     "output_type": "display_data"
    },
    {
     "data": {
      "text/plain": [
       "<ggplot: (-9223363252273244174)>"
      ]
     },
     "execution_count": 37,
     "metadata": {},
     "output_type": "execute_result"
    }
   ],
   "source": [
    "import plotnine\n",
    "from plotnine import ggplot, aes, geom_point, geom_line, labs\n",
    "plotnine.options.dpi = 150\n",
    "\n",
    "g = (ggplot(coherence_df) + aes(x=\"TOPIC_NUMBER\", y=\"COHERENCE_SCORE\") +\n",
    "     geom_point(stat=\"identity\") + geom_line(group=1, color=\"lightgrey\") +\n",
    "     labs(x=\"Number of Topics\", y=\"Average Coherence Score\"))\n",
    "g"
   ]
  }
 ],
 "metadata": {
  "celltoolbar": "Tags",
  "kernelspec": {
   "display_name": "python-notes",
   "language": "python",
   "name": "python-notes"
  },
  "language_info": {
   "codemirror_mode": {
    "name": "ipython",
    "version": 3
   },
   "file_extension": ".py",
   "mimetype": "text/x-python",
   "name": "python",
   "nbconvert_exporter": "python",
   "pygments_lexer": "ipython3",
   "version": "3.7.0"
  },
  "toc": {
   "base_numbering": 1,
   "nav_menu": {},
   "number_sections": false,
   "sideBar": true,
   "skip_h1_title": false,
   "title_cell": "Table of Contents",
   "title_sidebar": "Contents",
   "toc_cell": false,
   "toc_position": {
    "height": "calc(100% - 180px)",
    "left": "10px",
    "top": "150px",
    "width": "165px"
   },
   "toc_section_display": true,
   "toc_window_display": true
  },
  "varInspector": {
   "cols": {
    "lenName": 16,
    "lenType": 16,
    "lenVar": 40
   },
   "kernels_config": {
    "python": {
     "delete_cmd_postfix": "",
     "delete_cmd_prefix": "del ",
     "library": "var_list.py",
     "varRefreshCmd": "print(var_dic_list())"
    },
    "r": {
     "delete_cmd_postfix": ") ",
     "delete_cmd_prefix": "rm(",
     "library": "var_list.r",
     "varRefreshCmd": "cat(var_dic_list()) "
    }
   },
   "types_to_exclude": [
    "module",
    "function",
    "builtin_function_or_method",
    "instance",
    "_Feature"
   ],
   "window_display": false
  }
 },
 "nbformat": 4,
 "nbformat_minor": 4
}
