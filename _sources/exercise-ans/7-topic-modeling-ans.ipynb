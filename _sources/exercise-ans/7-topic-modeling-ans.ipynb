{
 "cells": [
  {
   "cell_type": "markdown",
   "metadata": {},
   "source": [
    "# Assignment VII: Topic Modeling"
   ]
  },
  {
   "cell_type": "markdown",
   "metadata": {},
   "source": [
    "## Question 1\n",
    "\n",
    "Perform an analysis of Topic Modeling on the corpus, `nltk.corpus.movive_reviews`, and provide the topic distributions of the movie reviews. Please report your topic distributions of positive and negative reviews respectively. (But please note that the topic modeling analysis should take the entire corpus as the input.)\n",
    "\n",
    "Some heuristics for data preprocessing/vectorization:\n",
    "\n",
    "- Include in the bag-of-words representation only words whose lengths are >= 3\n",
    "- Include in the bag-of-words representation only words that are nouns (`NN` or `NNS`) or verbs (`VB.`)\n",
    "- Lemmatize all words in the bag-of-words representation using WordNet\n",
    "- Remove words on the stopwords list in `nltk.corpus.stopwords.words('english')`\n",
    "- Play with the `min_df` and `max_df` to find a better structure of CountVectorizer for the topic modeling\n",
    "\n",
    "\n",
    ":::{warning}\n",
    "\n",
    "As this is an unsupervised learning, it is ok if you get different results. Please base your interpretations of the topics by examining closely their respective associated words in your LDA model.\n",
    "\n",
    ":::"
   ]
  },
  {
   "cell_type": "code",
   "execution_count": 1,
   "metadata": {
    "tags": [
     "remove-input",
     "remove-output"
    ]
   },
   "outputs": [],
   "source": [
    "import nltk, random, re\n",
    "from nltk.corpus import movie_reviews\n",
    "import pandas as pd\n",
    "import matplotlib.pyplot as plt\n",
    "import numpy as np"
   ]
  },
  {
   "cell_type": "code",
   "execution_count": 2,
   "metadata": {
    "tags": [
     "remove-input",
     "remove-output"
    ]
   },
   "outputs": [
    {
     "name": "stdout",
     "output_type": "stream",
     "text": [
      "2000\n",
      "['neg', 'pos']\n",
      "['plot', ':', 'two', 'teen', 'couples', 'go', 'to', ...]\n",
      "['neg/cv000_29416.txt', 'neg/cv001_19502.txt', 'neg/cv002_17424.txt', 'neg/cv003_12683.txt', 'neg/cv004_12641.txt', 'neg/cv005_29357.txt', 'neg/cv006_17022.txt', 'neg/cv007_4992.txt', 'neg/cv008_29326.txt', 'neg/cv009_29417.txt']\n",
      "Number of Reviews/Documents: 2000\n",
      "Corpus Size (words): 1583820\n",
      "Sample Text of Doc 1:\n",
      "------------------------------\n",
      "most movies seem to release a third movie just so it can be called a trilogy . rocky iii seems to kind of fit in that category , but manages to be slightly unique . the rocky formula of \" rocky loses fight / rocky trains / rocky wins fight\n",
      "Counter({'pos': 1000, 'neg': 1000})\n"
     ]
    }
   ],
   "source": [
    "print(len(movie_reviews.fileids()))\n",
    "print(movie_reviews.categories())\n",
    "print(movie_reviews.words()[:100])\n",
    "print(movie_reviews.fileids()[:10])\n",
    "documents = [(list(movie_reviews.words(fileid)), category)\n",
    "             for category in movie_reviews.categories()\n",
    "             for fileid in movie_reviews.fileids(category)]\n",
    "random.seed(123)\n",
    "random.shuffle(documents)\n",
    "print('Number of Reviews/Documents: {}'.format(len(documents)))\n",
    "print('Corpus Size (words): {}'.format(np.sum([len(d) for (d,l) in documents])))\n",
    "print('Sample Text of Doc 1:')\n",
    "print('-'*30)\n",
    "print(' '.join(documents[0][0][:50])) # first 50 words of the first document\n",
    "## Check Sentiment Distribution of the Current Dataset\n",
    "from collections import Counter\n",
    "sentiment_distr = Counter([label for (words, label) in documents])\n",
    "print(sentiment_distr)"
   ]
  },
  {
   "cell_type": "code",
   "execution_count": 68,
   "metadata": {
    "tags": [
     "remove-input",
     "remove-output"
    ]
   },
   "outputs": [],
   "source": [
    "## Data Preprocessing\n",
    "\n",
    "\n",
    "## POS Tagging\n",
    "corpus_pos = [nltk.pos_tag(words) for (words,tag) in documents]\n",
    "corpus_sentiment = [tag for (_,tag) in documents]"
   ]
  },
  {
   "cell_type": "code",
   "execution_count": 4,
   "metadata": {
    "tags": [
     "remove-input",
     "remove-output"
    ]
   },
   "outputs": [],
   "source": [
    "## POS Filtering and Word Lengths Cutoff\n",
    "norm_corpus = [[(w,t) for (w,t) in doc if len(w)>=3 and re.match(r'^(VB.+?|NN|NNS)$', t)] for doc in corpus_pos]"
   ]
  },
  {
   "cell_type": "code",
   "execution_count": 5,
   "metadata": {
    "tags": [
     "remove-input",
     "remove-output"
    ]
   },
   "outputs": [
    {
     "data": {
      "text/plain": [
       "[[('movies', 'NNS'),\n",
       "  ('seem', 'VBP'),\n",
       "  ('movie', 'NN'),\n",
       "  ('called', 'VBN'),\n",
       "  ('trilogy', 'NN'),\n",
       "  ('iii', 'NN'),\n",
       "  ('seems', 'VBZ'),\n",
       "  ('kind', 'NN'),\n",
       "  ('fit', 'NN'),\n",
       "  ('category', 'NN'),\n",
       "  ('manages', 'VBZ'),\n",
       "  ('formula', 'NN'),\n",
       "  ('loses', 'NNS'),\n",
       "  ('fight', 'VBD'),\n",
       "  ('trains', 'NNS'),\n",
       "  ('wins', 'NNS'),\n",
       "  ('carried', 'VBN'),\n",
       "  ('letter', 'NN'),\n",
       "  ('tradition', 'NN'),\n",
       "  ('showing', 'VBG'),\n",
       "  ('minutes', 'NNS'),\n",
       "  ('rocky', 'NN'),\n",
       "  ('film', 'NN'),\n",
       "  ('used', 'VBN'),\n",
       "  ('movie', 'NN'),\n",
       "  ('begins', 'VBZ'),\n",
       "  ('series', 'NN'),\n",
       "  ('clips', 'NNS'),\n",
       "  ('showing', 'VBG'),\n",
       "  ('rocky', 'NN'),\n",
       "  ('stallone', 'NN'),\n",
       "  ('has', 'VBZ'),\n",
       "  ('become', 'VBN'),\n",
       "  ('showing', 'VBG'),\n",
       "  ('appearance', 'NN'),\n",
       "  ('street', 'NN'),\n",
       "  ('moves', 'VBZ'),\n",
       "  ('being', 'VBG'),\n",
       "  ('fight', 'NN'),\n",
       "  ('thunderlips', 'NNS'),\n",
       "  ('hogan', 'NN'),\n",
       "  ('ass', 'NN'),\n",
       "  ('known', 'VBN'),\n",
       "  ('clubber', 'NN'),\n",
       "  ('lang', 'NN'),\n",
       "  ('trash', 'NN'),\n",
       "  ('talks', 'NNS'),\n",
       "  ('decision', 'NN'),\n",
       "  ('boxing', 'VBG'),\n",
       "  ('pities', 'VBZ'),\n",
       "  ('fool', 'NN'),\n",
       "  ('coming', 'VBG'),\n",
       "  ('fighting', 'VBG'),\n",
       "  ('trainer', 'NN'),\n",
       "  ('meredith', 'NN'),\n",
       "  ('tells', 'VBZ'),\n",
       "  ('stallion', 'NN'),\n",
       "  ('doesn', 'NN'),\n",
       "  ('listen', 'NN'),\n",
       "  ('gets', 'VBZ'),\n",
       "  ('ass', 'NN'),\n",
       "  ('kicked', 'VBD'),\n",
       "  ('line', 'NN'),\n",
       "  ('things', 'NNS'),\n",
       "  ('happen', 'VBP'),\n",
       "  ('trainer', 'NN'),\n",
       "  ('dies', 'NNS'),\n",
       "  ('causing', 'VBG'),\n",
       "  ('rocky', 'NN'),\n",
       "  ('opponent', 'NN'),\n",
       "  ('apollo', 'NN'),\n",
       "  ('creed', 'NN'),\n",
       "  ('wife', 'NN'),\n",
       "  ('complains', 'NNS'),\n",
       "  ('husband', 'NN'),\n",
       "  ('fight', 'NN'),\n",
       "  ('ensues', 'NNS'),\n",
       "  ('clubber', 'NN'),\n",
       "  ('rocky', 'NN'),\n",
       "  ('guess', 'NN'),\n",
       "  ('wins', 'VBZ'),\n",
       "  ('winner', 'NN'),\n",
       "  ('name', 'NN'),\n",
       "  ('rhymes', 'VBZ'),\n",
       "  ('movie', 'NN'),\n",
       "  ('entertaning', 'VBG'),\n",
       "  ('clubber', 'NN'),\n",
       "  ('lang', 'NN'),\n",
       "  ('performance', 'NN'),\n",
       "  ('aspect', 'NN'),\n",
       "  ('has', 'VBZ'),\n",
       "  ('been', 'VBN'),\n",
       "  ('toned', 'VBN'),\n",
       "  ('action', 'NN'),\n",
       "  ('seems', 'VBZ'),\n",
       "  ('point', 'NN'),\n",
       "  ('film', 'NN'),\n",
       "  ('like', 'VBP'),\n",
       "  ('fighting', 'VBG'),\n",
       "  ('scenes', 'NNS'),\n",
       "  ('match', 'NN'),\n",
       "  ('liked', 'VBD'),\n",
       "  ('films', 'NNS'),\n",
       "  ('rent', 'NN'),\n",
       "  ('seeing', 'VBG'),\n",
       "  ('are', 'VBP'),\n",
       "  ('fan', 'NN'),\n",
       "  ('series', 'NN'),\n",
       "  ('stand', 'VBP'),\n",
       "  ('shouting', 'VBG'),\n",
       "  ('adrianne', 'NN'),\n",
       "  ('time', 'NN'),\n",
       "  ('see', 'VBP'),\n",
       "  ('something', 'NN')]]"
      ]
     },
     "execution_count": 5,
     "metadata": {},
     "output_type": "execute_result"
    }
   ],
   "source": [
    "norm_corpus[:1]"
   ]
  },
  {
   "cell_type": "code",
   "execution_count": 6,
   "metadata": {
    "tags": [
     "remove-input",
     "remove-output"
    ]
   },
   "outputs": [],
   "source": [
    "## Remove Digits and Symbols\n",
    "## Lemmatizae Words\n",
    "\n",
    "from nltk.stem import PorterStemmer, WordNetLemmatizer\n",
    "from nltk.corpus import wordnet\n",
    "stop_words = nltk.corpus.stopwords.words('english')\n",
    "\n",
    "ps=PorterStemmer()\n",
    "wnl = WordNetLemmatizer()\n",
    "\n",
    "def get_wordnet_pos(tag):\n",
    "    if tag.startswith('J'):\n",
    "        return wordnet.ADJ\n",
    "    elif tag.startswith('V'):\n",
    "        return wordnet.VERB\n",
    "    elif tag.startswith('R'):\n",
    "        return wordnet.ADV\n",
    "    return wordnet.NOUN\n",
    "\n",
    "\n",
    "norm_corpus2 = [' '.join([wnl.lemmatize(w, pos = get_wordnet_pos(t[0])) for (w, t) in doc if not re.match(r'[^a-z]+', w) and w not in stop_words]) for doc in norm_corpus]"
   ]
  },
  {
   "cell_type": "code",
   "execution_count": 7,
   "metadata": {
    "tags": [
     "remove-input",
     "remove-output"
    ]
   },
   "outputs": [
    {
     "data": {
      "text/plain": [
       "'movie seem movie call trilogy iii seem kind fit category manage formula loses fight train win carry letter tradition show minute rocky film use movie begin series clip show rocky stallone become show appearance street move fight thunderlips hogan as know clubber lang trash talk decision box pity fool come fight trainer meredith tell stallion listen get as kick line thing happen trainer dy cause rocky opponent apollo creed wife complains husband fight ensues clubber rocky guess win winner name rhyme movie entertaning clubber lang performance aspect tone action seem point film like fight scene match like film rent see fan series stand shout adrianne time see something'"
      ]
     },
     "execution_count": 7,
     "metadata": {},
     "output_type": "execute_result"
    }
   ],
   "source": [
    "norm_corpus2[0]"
   ]
  },
  {
   "cell_type": "code",
   "execution_count": 8,
   "metadata": {
    "tags": [
     "remove-input",
     "remove-output"
    ]
   },
   "outputs": [],
   "source": [
    "# ## normalize corpus\n",
    "# stop_words = nltk.corpus.stopwords.words('english')\n",
    "\n",
    "# def normalize_document(doc):\n",
    "#     # lower case and remove special characters\\whitespaces\n",
    "#     doc = re.sub(r'[^a-zA-Z\\s]', '', doc, re.I|re.A)\n",
    "#     doc = doc.lower()\n",
    "#     doc = doc.strip()\n",
    "#     # tokeanize document\n",
    "#     tokens = wpt.tokenize(doc)\n",
    "#     # filter stopwords out of document\n",
    "#     filtered_tokens = [token for token in tokens if token not in stop_words]\n",
    "#     # re-create document from filtered tokens\n",
    "#     doc = ' '.join(filtered_tokens)\n",
    "#     return doc\n",
    "\n",
    "# normalize_corpus = np.vectorize(normalize_document)\n",
    "# a"
   ]
  },
  {
   "cell_type": "code",
   "execution_count": 9,
   "metadata": {
    "tags": [
     "remove-input",
     "remove-output"
    ]
   },
   "outputs": [
    {
     "data": {
      "text/plain": [
       "['movie seem movie call trilogy iii seem kind fit category manage formula loses fight train win carry letter tradition show minute rocky film use movie begin series clip show rocky stallone become show appearance street move fight thunderlips hogan as know clubber lang trash talk decision box pity fool come fight trainer meredith tell stallion listen get as kick line thing happen trainer dy cause rocky opponent apollo creed wife complains husband fight ensues clubber rocky guess win winner name rhyme movie entertaning clubber lang performance aspect tone action seem point film like fight scene match like film rent see fan series stand shout adrianne time see something',\n",
       " 'happen put lawrence suit life get lawrence coma comedian think get put layer clothing go jogging degree heat end coma happen put lawrence suit movie get audience coma momma house lawrence play agent master disguise naughty man escape jail seek girlfriend nia thing worth look movie flee aunt momma ella mitchell fbi follow order sum money steal bank robbery send man jail momma call emergency sense chance criminal lawrence go momma comedy begin momma house definition gimmick movie plot sum martin lawrence dress woman description script plot chalkboard lawrence woman middle board circle sort clich situation point woman play basketball woman take dump woman kung leave board movie slip coma paul giamatti part negotiator play lawrence partner enjoy work life comedy hell performer planet make material work awful']"
      ]
     },
     "execution_count": 9,
     "metadata": {},
     "output_type": "execute_result"
    }
   ],
   "source": [
    "norm_corpus2[:2]"
   ]
  },
  {
   "cell_type": "code",
   "execution_count": null,
   "metadata": {
    "tags": [
     "remove-input",
     "remove-output"
    ]
   },
   "outputs": [],
   "source": []
  },
  {
   "cell_type": "code",
   "execution_count": 55,
   "metadata": {
    "tags": [
     "remove-input",
     "remove-output"
    ]
   },
   "outputs": [
    {
     "data": {
      "text/plain": [
       "<2000x2671 sparse matrix of type '<class 'numpy.int64'>'\n",
       "\twith 241055 stored elements in Compressed Sparse Row format>"
      ]
     },
     "execution_count": 55,
     "metadata": {},
     "output_type": "execute_result"
    }
   ],
   "source": [
    "from sklearn.feature_extraction.text import CountVectorizer\n",
    "# get bag of words features in sparse format\n",
    "cv = CountVectorizer(min_df=20, max_df=0.6)\n",
    "cv_matrix = cv.fit_transform(norm_corpus2)\n",
    "cv_matrix"
   ]
  },
  {
   "cell_type": "code",
   "execution_count": 56,
   "metadata": {
    "tags": [
     "remove-input",
     "remove-output"
    ]
   },
   "outputs": [
    {
     "data": {
      "text/html": [
       "<div>\n",
       "<style scoped>\n",
       "    .dataframe tbody tr th:only-of-type {\n",
       "        vertical-align: middle;\n",
       "    }\n",
       "\n",
       "    .dataframe tbody tr th {\n",
       "        vertical-align: top;\n",
       "    }\n",
       "\n",
       "    .dataframe thead th {\n",
       "        text-align: right;\n",
       "    }\n",
       "</style>\n",
       "<table border=\"1\" class=\"dataframe\">\n",
       "  <thead>\n",
       "    <tr style=\"text-align: right;\">\n",
       "      <th></th>\n",
       "      <th>abandon</th>\n",
       "      <th>ability</th>\n",
       "      <th>absence</th>\n",
       "      <th>absorb</th>\n",
       "      <th>abuse</th>\n",
       "      <th>abyss</th>\n",
       "      <th>academy</th>\n",
       "      <th>accent</th>\n",
       "      <th>accept</th>\n",
       "      <th>accident</th>\n",
       "      <th>...</th>\n",
       "      <th>write</th>\n",
       "      <th>writer</th>\n",
       "      <th>writing</th>\n",
       "      <th>yawn</th>\n",
       "      <th>yeah</th>\n",
       "      <th>year</th>\n",
       "      <th>yell</th>\n",
       "      <th>york</th>\n",
       "      <th>youth</th>\n",
       "      <th>zone</th>\n",
       "    </tr>\n",
       "  </thead>\n",
       "  <tbody>\n",
       "    <tr>\n",
       "      <th>0</th>\n",
       "      <td>0</td>\n",
       "      <td>0</td>\n",
       "      <td>0</td>\n",
       "      <td>0</td>\n",
       "      <td>0</td>\n",
       "      <td>0</td>\n",
       "      <td>0</td>\n",
       "      <td>0</td>\n",
       "      <td>0</td>\n",
       "      <td>0</td>\n",
       "      <td>...</td>\n",
       "      <td>0</td>\n",
       "      <td>0</td>\n",
       "      <td>0</td>\n",
       "      <td>0</td>\n",
       "      <td>0</td>\n",
       "      <td>0</td>\n",
       "      <td>0</td>\n",
       "      <td>0</td>\n",
       "      <td>0</td>\n",
       "      <td>0</td>\n",
       "    </tr>\n",
       "    <tr>\n",
       "      <th>1</th>\n",
       "      <td>0</td>\n",
       "      <td>0</td>\n",
       "      <td>0</td>\n",
       "      <td>0</td>\n",
       "      <td>0</td>\n",
       "      <td>0</td>\n",
       "      <td>0</td>\n",
       "      <td>0</td>\n",
       "      <td>0</td>\n",
       "      <td>0</td>\n",
       "      <td>...</td>\n",
       "      <td>0</td>\n",
       "      <td>0</td>\n",
       "      <td>0</td>\n",
       "      <td>0</td>\n",
       "      <td>0</td>\n",
       "      <td>0</td>\n",
       "      <td>0</td>\n",
       "      <td>0</td>\n",
       "      <td>0</td>\n",
       "      <td>0</td>\n",
       "    </tr>\n",
       "    <tr>\n",
       "      <th>2</th>\n",
       "      <td>0</td>\n",
       "      <td>1</td>\n",
       "      <td>0</td>\n",
       "      <td>0</td>\n",
       "      <td>0</td>\n",
       "      <td>0</td>\n",
       "      <td>0</td>\n",
       "      <td>0</td>\n",
       "      <td>0</td>\n",
       "      <td>0</td>\n",
       "      <td>...</td>\n",
       "      <td>0</td>\n",
       "      <td>0</td>\n",
       "      <td>0</td>\n",
       "      <td>0</td>\n",
       "      <td>1</td>\n",
       "      <td>0</td>\n",
       "      <td>0</td>\n",
       "      <td>0</td>\n",
       "      <td>0</td>\n",
       "      <td>0</td>\n",
       "    </tr>\n",
       "    <tr>\n",
       "      <th>3</th>\n",
       "      <td>0</td>\n",
       "      <td>0</td>\n",
       "      <td>0</td>\n",
       "      <td>0</td>\n",
       "      <td>0</td>\n",
       "      <td>0</td>\n",
       "      <td>0</td>\n",
       "      <td>0</td>\n",
       "      <td>0</td>\n",
       "      <td>0</td>\n",
       "      <td>...</td>\n",
       "      <td>1</td>\n",
       "      <td>0</td>\n",
       "      <td>0</td>\n",
       "      <td>0</td>\n",
       "      <td>0</td>\n",
       "      <td>3</td>\n",
       "      <td>0</td>\n",
       "      <td>1</td>\n",
       "      <td>0</td>\n",
       "      <td>0</td>\n",
       "    </tr>\n",
       "    <tr>\n",
       "      <th>4</th>\n",
       "      <td>0</td>\n",
       "      <td>0</td>\n",
       "      <td>0</td>\n",
       "      <td>0</td>\n",
       "      <td>0</td>\n",
       "      <td>0</td>\n",
       "      <td>0</td>\n",
       "      <td>0</td>\n",
       "      <td>0</td>\n",
       "      <td>0</td>\n",
       "      <td>...</td>\n",
       "      <td>0</td>\n",
       "      <td>0</td>\n",
       "      <td>0</td>\n",
       "      <td>0</td>\n",
       "      <td>0</td>\n",
       "      <td>1</td>\n",
       "      <td>0</td>\n",
       "      <td>0</td>\n",
       "      <td>0</td>\n",
       "      <td>0</td>\n",
       "    </tr>\n",
       "    <tr>\n",
       "      <th>...</th>\n",
       "      <td>...</td>\n",
       "      <td>...</td>\n",
       "      <td>...</td>\n",
       "      <td>...</td>\n",
       "      <td>...</td>\n",
       "      <td>...</td>\n",
       "      <td>...</td>\n",
       "      <td>...</td>\n",
       "      <td>...</td>\n",
       "      <td>...</td>\n",
       "      <td>...</td>\n",
       "      <td>...</td>\n",
       "      <td>...</td>\n",
       "      <td>...</td>\n",
       "      <td>...</td>\n",
       "      <td>...</td>\n",
       "      <td>...</td>\n",
       "      <td>...</td>\n",
       "      <td>...</td>\n",
       "      <td>...</td>\n",
       "      <td>...</td>\n",
       "    </tr>\n",
       "    <tr>\n",
       "      <th>1995</th>\n",
       "      <td>0</td>\n",
       "      <td>0</td>\n",
       "      <td>0</td>\n",
       "      <td>0</td>\n",
       "      <td>0</td>\n",
       "      <td>0</td>\n",
       "      <td>0</td>\n",
       "      <td>0</td>\n",
       "      <td>0</td>\n",
       "      <td>0</td>\n",
       "      <td>...</td>\n",
       "      <td>1</td>\n",
       "      <td>1</td>\n",
       "      <td>0</td>\n",
       "      <td>0</td>\n",
       "      <td>1</td>\n",
       "      <td>3</td>\n",
       "      <td>0</td>\n",
       "      <td>0</td>\n",
       "      <td>0</td>\n",
       "      <td>0</td>\n",
       "    </tr>\n",
       "    <tr>\n",
       "      <th>1996</th>\n",
       "      <td>0</td>\n",
       "      <td>0</td>\n",
       "      <td>0</td>\n",
       "      <td>0</td>\n",
       "      <td>0</td>\n",
       "      <td>0</td>\n",
       "      <td>0</td>\n",
       "      <td>0</td>\n",
       "      <td>0</td>\n",
       "      <td>0</td>\n",
       "      <td>...</td>\n",
       "      <td>1</td>\n",
       "      <td>0</td>\n",
       "      <td>0</td>\n",
       "      <td>0</td>\n",
       "      <td>0</td>\n",
       "      <td>2</td>\n",
       "      <td>0</td>\n",
       "      <td>0</td>\n",
       "      <td>0</td>\n",
       "      <td>0</td>\n",
       "    </tr>\n",
       "    <tr>\n",
       "      <th>1997</th>\n",
       "      <td>0</td>\n",
       "      <td>0</td>\n",
       "      <td>0</td>\n",
       "      <td>0</td>\n",
       "      <td>0</td>\n",
       "      <td>0</td>\n",
       "      <td>0</td>\n",
       "      <td>0</td>\n",
       "      <td>0</td>\n",
       "      <td>0</td>\n",
       "      <td>...</td>\n",
       "      <td>2</td>\n",
       "      <td>1</td>\n",
       "      <td>0</td>\n",
       "      <td>0</td>\n",
       "      <td>0</td>\n",
       "      <td>0</td>\n",
       "      <td>0</td>\n",
       "      <td>0</td>\n",
       "      <td>0</td>\n",
       "      <td>0</td>\n",
       "    </tr>\n",
       "    <tr>\n",
       "      <th>1998</th>\n",
       "      <td>0</td>\n",
       "      <td>0</td>\n",
       "      <td>0</td>\n",
       "      <td>0</td>\n",
       "      <td>0</td>\n",
       "      <td>0</td>\n",
       "      <td>0</td>\n",
       "      <td>0</td>\n",
       "      <td>0</td>\n",
       "      <td>0</td>\n",
       "      <td>...</td>\n",
       "      <td>0</td>\n",
       "      <td>0</td>\n",
       "      <td>0</td>\n",
       "      <td>0</td>\n",
       "      <td>0</td>\n",
       "      <td>1</td>\n",
       "      <td>0</td>\n",
       "      <td>0</td>\n",
       "      <td>0</td>\n",
       "      <td>0</td>\n",
       "    </tr>\n",
       "    <tr>\n",
       "      <th>1999</th>\n",
       "      <td>0</td>\n",
       "      <td>0</td>\n",
       "      <td>0</td>\n",
       "      <td>0</td>\n",
       "      <td>0</td>\n",
       "      <td>0</td>\n",
       "      <td>0</td>\n",
       "      <td>0</td>\n",
       "      <td>0</td>\n",
       "      <td>0</td>\n",
       "      <td>...</td>\n",
       "      <td>2</td>\n",
       "      <td>0</td>\n",
       "      <td>0</td>\n",
       "      <td>0</td>\n",
       "      <td>0</td>\n",
       "      <td>1</td>\n",
       "      <td>0</td>\n",
       "      <td>0</td>\n",
       "      <td>0</td>\n",
       "      <td>0</td>\n",
       "    </tr>\n",
       "  </tbody>\n",
       "</table>\n",
       "<p>2000 rows × 2671 columns</p>\n",
       "</div>"
      ],
      "text/plain": [
       "      abandon  ability  absence  absorb  abuse  abyss  academy  accent  \\\n",
       "0           0        0        0       0      0      0        0       0   \n",
       "1           0        0        0       0      0      0        0       0   \n",
       "2           0        1        0       0      0      0        0       0   \n",
       "3           0        0        0       0      0      0        0       0   \n",
       "4           0        0        0       0      0      0        0       0   \n",
       "...       ...      ...      ...     ...    ...    ...      ...     ...   \n",
       "1995        0        0        0       0      0      0        0       0   \n",
       "1996        0        0        0       0      0      0        0       0   \n",
       "1997        0        0        0       0      0      0        0       0   \n",
       "1998        0        0        0       0      0      0        0       0   \n",
       "1999        0        0        0       0      0      0        0       0   \n",
       "\n",
       "      accept  accident  ...  write  writer  writing  yawn  yeah  year  yell  \\\n",
       "0          0         0  ...      0       0        0     0     0     0     0   \n",
       "1          0         0  ...      0       0        0     0     0     0     0   \n",
       "2          0         0  ...      0       0        0     0     1     0     0   \n",
       "3          0         0  ...      1       0        0     0     0     3     0   \n",
       "4          0         0  ...      0       0        0     0     0     1     0   \n",
       "...      ...       ...  ...    ...     ...      ...   ...   ...   ...   ...   \n",
       "1995       0         0  ...      1       1        0     0     1     3     0   \n",
       "1996       0         0  ...      1       0        0     0     0     2     0   \n",
       "1997       0         0  ...      2       1        0     0     0     0     0   \n",
       "1998       0         0  ...      0       0        0     0     0     1     0   \n",
       "1999       0         0  ...      2       0        0     0     0     1     0   \n",
       "\n",
       "      york  youth  zone  \n",
       "0        0      0     0  \n",
       "1        0      0     0  \n",
       "2        0      0     0  \n",
       "3        1      0     0  \n",
       "4        0      0     0  \n",
       "...    ...    ...   ...  \n",
       "1995     0      0     0  \n",
       "1996     0      0     0  \n",
       "1997     0      0     0  \n",
       "1998     0      0     0  \n",
       "1999     0      0     0  \n",
       "\n",
       "[2000 rows x 2671 columns]"
      ]
     },
     "execution_count": 56,
     "metadata": {},
     "output_type": "execute_result"
    }
   ],
   "source": [
    "\n",
    "vocab = cv.get_feature_names()\n",
    "# show document feature vectors\n",
    "pd.DataFrame(cv_matrix.toarray(), columns=vocab)"
   ]
  },
  {
   "cell_type": "code",
   "execution_count": 57,
   "metadata": {
    "tags": [
     "remove-input",
     "remove-output"
    ]
   },
   "outputs": [
    {
     "name": "stdout",
     "output_type": "stream",
     "text": [
      "CPU times: user 12min 1s, sys: 1min 35s, total: 13min 36s\n",
      "Wall time: 13min 54s\n"
     ]
    }
   ],
   "source": [
    "%%time\n",
    "from sklearn.decomposition import LatentDirichletAllocation\n",
    "\n",
    "num_of_topic = 4\n",
    "lda = LatentDirichletAllocation(n_components=num_of_topic, max_iter=1000, random_state=0,\n",
    "                               max_doc_update_iter=50, learning_method='online',\n",
    "                               batch_size=50, learning_offset = 50, n_jobs = -1)\n",
    "doc_topic_matrix = lda.fit_transform(cv_matrix)"
   ]
  },
  {
   "cell_type": "code",
   "execution_count": 58,
   "metadata": {
    "tags": [
     "remove-input",
     "remove-output"
    ]
   },
   "outputs": [],
   "source": [
    "topic_word_matrix = lda.components_"
   ]
  },
  {
   "cell_type": "code",
   "execution_count": 59,
   "metadata": {
    "tags": [
     "remove-input",
     "remove-output"
    ]
   },
   "outputs": [
    {
     "data": {
      "text/html": [
       "<div>\n",
       "<style scoped>\n",
       "    .dataframe tbody tr th:only-of-type {\n",
       "        vertical-align: middle;\n",
       "    }\n",
       "\n",
       "    .dataframe tbody tr th {\n",
       "        vertical-align: top;\n",
       "    }\n",
       "\n",
       "    .dataframe thead th {\n",
       "        text-align: right;\n",
       "    }\n",
       "</style>\n",
       "<table border=\"1\" class=\"dataframe\">\n",
       "  <thead>\n",
       "    <tr style=\"text-align: right;\">\n",
       "      <th></th>\n",
       "      <th>0</th>\n",
       "      <th>1</th>\n",
       "      <th>2</th>\n",
       "      <th>3</th>\n",
       "    </tr>\n",
       "  </thead>\n",
       "  <tbody>\n",
       "    <tr>\n",
       "      <th>abandon</th>\n",
       "      <td>37.107265</td>\n",
       "      <td>0.274329</td>\n",
       "      <td>18.977441</td>\n",
       "      <td>13.618996</td>\n",
       "    </tr>\n",
       "    <tr>\n",
       "      <th>ability</th>\n",
       "      <td>58.722038</td>\n",
       "      <td>0.265969</td>\n",
       "      <td>66.084282</td>\n",
       "      <td>62.844625</td>\n",
       "    </tr>\n",
       "    <tr>\n",
       "      <th>absence</th>\n",
       "      <td>12.121370</td>\n",
       "      <td>6.289134</td>\n",
       "      <td>7.056388</td>\n",
       "      <td>2.613858</td>\n",
       "    </tr>\n",
       "    <tr>\n",
       "      <th>absorb</th>\n",
       "      <td>20.603472</td>\n",
       "      <td>0.278708</td>\n",
       "      <td>7.198531</td>\n",
       "      <td>1.915579</td>\n",
       "    </tr>\n",
       "    <tr>\n",
       "      <th>abuse</th>\n",
       "      <td>12.022173</td>\n",
       "      <td>0.257693</td>\n",
       "      <td>30.520087</td>\n",
       "      <td>0.259942</td>\n",
       "    </tr>\n",
       "    <tr>\n",
       "      <th>...</th>\n",
       "      <td>...</td>\n",
       "      <td>...</td>\n",
       "      <td>...</td>\n",
       "      <td>...</td>\n",
       "    </tr>\n",
       "    <tr>\n",
       "      <th>year</th>\n",
       "      <td>659.363828</td>\n",
       "      <td>41.142744</td>\n",
       "      <td>643.055696</td>\n",
       "      <td>390.261709</td>\n",
       "    </tr>\n",
       "    <tr>\n",
       "      <th>yell</th>\n",
       "      <td>4.035173</td>\n",
       "      <td>5.411376</td>\n",
       "      <td>27.661542</td>\n",
       "      <td>1.891266</td>\n",
       "    </tr>\n",
       "    <tr>\n",
       "      <th>york</th>\n",
       "      <td>83.191363</td>\n",
       "      <td>0.261298</td>\n",
       "      <td>107.206096</td>\n",
       "      <td>73.224069</td>\n",
       "    </tr>\n",
       "    <tr>\n",
       "      <th>youth</th>\n",
       "      <td>23.797296</td>\n",
       "      <td>2.254523</td>\n",
       "      <td>19.183804</td>\n",
       "      <td>9.806986</td>\n",
       "    </tr>\n",
       "    <tr>\n",
       "      <th>zone</th>\n",
       "      <td>6.308083</td>\n",
       "      <td>0.258919</td>\n",
       "      <td>10.538366</td>\n",
       "      <td>9.840664</td>\n",
       "    </tr>\n",
       "  </tbody>\n",
       "</table>\n",
       "<p>2671 rows × 4 columns</p>\n",
       "</div>"
      ],
      "text/plain": [
       "                  0          1           2           3\n",
       "abandon   37.107265   0.274329   18.977441   13.618996\n",
       "ability   58.722038   0.265969   66.084282   62.844625\n",
       "absence   12.121370   6.289134    7.056388    2.613858\n",
       "absorb    20.603472   0.278708    7.198531    1.915579\n",
       "abuse     12.022173   0.257693   30.520087    0.259942\n",
       "...             ...        ...         ...         ...\n",
       "year     659.363828  41.142744  643.055696  390.261709\n",
       "yell       4.035173   5.411376   27.661542    1.891266\n",
       "york      83.191363   0.261298  107.206096   73.224069\n",
       "youth     23.797296   2.254523   19.183804    9.806986\n",
       "zone       6.308083   0.258919   10.538366    9.840664\n",
       "\n",
       "[2671 rows x 4 columns]"
      ]
     },
     "execution_count": 59,
     "metadata": {},
     "output_type": "execute_result"
    }
   ],
   "source": [
    "## Topic By Word (transpose)\n",
    "pd.DataFrame(np.transpose(topic_word_matrix), index=vocab)\n"
   ]
  },
  {
   "cell_type": "code",
   "execution_count": 60,
   "metadata": {
    "tags": [
     "remove-input",
     "remove-output"
    ]
   },
   "outputs": [],
   "source": [
    "## This function sorts the words importances under each topic\n",
    "## and the selectional criteria include (a) ranks based on weights, or (b) cutoff on weights\n",
    "def get_topics_meanings(tw_m, vocab, display_weights=False, topn = 5, weight_cutoff=0.6):\n",
    "    for i, topic_weights in enumerate(tw_m): ## for each topic row\n",
    "        topic = [(token, np.round(weight,2)) for token, weight in zip(vocab, topic_weights)] ## zip (word, importance_weight)\n",
    "        topic = sorted(topic, key=lambda x: -x[1]) ## rank words according to weights                  \n",
    "        if display_weights:\n",
    "            topic = [item for item in topic if item[1] > weight_cutoff] ## output words whose weights > 0.6\n",
    "            print(f\"Topic #{i} :\\n{topic}\")\n",
    "            print(\"=\"*20)\n",
    "        else:\n",
    "            topic_topn = topic[:topn]\n",
    "            topic_topn = ' '.join([word for word,weight in topic_topn])\n",
    "            print(f\"Topic #{i} :\\n{topic_topn}\")\n",
    "            print('='*20)"
   ]
  },
  {
   "cell_type": "code",
   "execution_count": 61,
   "metadata": {
    "tags": [
     "remove-input",
     "remove-output"
    ]
   },
   "outputs": [],
   "source": [
    "## Permanent Setting Version\n",
    "plt.rcParams['font.sans-serif']=[\"PingFang HK\"]\n",
    "def plot_top_words(model, feature_names, n_top_words, title, fig_grid=[2,2]):\n",
    "    fig, axes = plt.subplots(fig_grid[0], fig_grid[1], figsize=(30, 15), sharex=True)\n",
    "    axes = axes.flatten()\n",
    "    for topic_idx, topic in enumerate(model.components_):\n",
    "        top_features_ind = topic.argsort()[:-n_top_words - 1:-1]\n",
    "        top_features = [feature_names[i] for i in top_features_ind]\n",
    "        weights = topic[top_features_ind]\n",
    "\n",
    "        ax = axes[topic_idx]\n",
    "        ax.barh(top_features, weights, height=0.7)\n",
    "        ax.set_title(f'Topic {topic_idx +1}',\n",
    "                     fontdict={'fontsize': 30})\n",
    "        ax.invert_yaxis()\n",
    "        ax.tick_params(axis='both', which='major', labelsize=20)\n",
    "        for i in 'top right left'.split():\n",
    "            ax.spines[i].set_visible(False)\n",
    "        fig.suptitle(title, fontsize=40)\n",
    "\n",
    "    plt.subplots_adjust(top=0.90, bottom=0.05, wspace=0.90, hspace=0.3)\n",
    "    plt.show()"
   ]
  },
  {
   "cell_type": "code",
   "execution_count": 113,
   "metadata": {
    "tags": [
     "hide-input"
    ]
   },
   "outputs": [
    {
     "data": {
      "image/png": "[encoded data removed]",
      "text/plain": [
       "<Figure size 2160x1080 with 4 Axes>"
      ]
     },
     "metadata": {
      "needs_background": "light"
     },
     "output_type": "display_data"
    }
   ],
   "source": [
    "plot_top_words(lda, vocab, 20, \"Words Associated with Topics\", fig_grid=[2,2])"
   ]
  },
  {
   "cell_type": "code",
   "execution_count": 64,
   "metadata": {
    "tags": [
     "remove-input",
     "remove-output"
    ]
   },
   "outputs": [
    {
     "name": "stdout",
     "output_type": "stream",
     "text": [
      "Topic #0 :\n",
      "life story love year man scene way family world take\n",
      "====================\n",
      "Topic #1 :\n",
      "horror scream killer vampire murphy sequel murder summer ghost blood\n",
      "====================\n",
      "Topic #2 :\n",
      "scene play go plot thing way see end seem comedy\n",
      "====================\n",
      "Topic #3 :\n",
      "action effect star scene look alien war plot go see\n",
      "====================\n"
     ]
    }
   ],
   "source": [
    "get_topics_meanings(topic_word_matrix, vocab, display_weights=False, topn=10)\n"
   ]
  },
  {
   "cell_type": "code",
   "execution_count": 119,
   "metadata": {
    "tags": [
     "remove-input",
     "remove-output"
    ]
   },
   "outputs": [],
   "source": [
    "topics = ['LOVE_FAMILY', \"HORROR\", \"PLOT\",\"EFFECT\"]\n",
    "doc_topic_label = [topics[np.argmax(i)] for i in doc_topic_matrix]\n",
    "\n",
    "doc_topic_df = pd.DataFrame({\"REVIEW_SENTIMENT\": corpus_sentiment, \"TOPIC\": doc_topic_label})"
   ]
  },
  {
   "cell_type": "code",
   "execution_count": 124,
   "metadata": {
    "tags": [
     "remove-input",
     "remove-output"
    ]
   },
   "outputs": [],
   "source": [
    "import plotnine\n",
    "from plotnine import ggplot, aes, geom_line, geom_bar, labs\n",
    "from plotnine import scale_fill_brewer\n",
    "plotnine.options.dpi=200\n",
    "\n",
    "g =(\n",
    "    ggplot(doc_topic_df)\n",
    "    + aes(x=\"TOPIC\", fill=\"REVIEW_SENTIMENT\") \n",
    "    + geom_bar(position=\"dodge\")\n",
    "    + labs(y = \"Number of Documents\")\n",
    "    + scale_fill_brewer(palette=18, name=\"Review Sentiments\", labels=[\"Negative Reviews\",\"Positive Reviews\"])\n",
    "    \n",
    ")\n"
   ]
  },
  {
   "cell_type": "code",
   "execution_count": 125,
   "metadata": {
    "tags": [
     "hide-input"
    ]
   },
   "outputs": [
    {
     "data": {
      "image/png": "[encoded data removed]",
      "text/plain": [
       "<Figure size 1280x960 with 1 Axes>"
      ]
     },
     "metadata": {},
     "output_type": "display_data"
    },
    {
     "data": {
      "text/plain": [
       "<ggplot: (8787676008810)>"
      ]
     },
     "execution_count": 125,
     "metadata": {},
     "output_type": "execute_result"
    }
   ],
   "source": [
    "g"
   ]
  },
  {
   "cell_type": "markdown",
   "metadata": {},
   "source": [
    "## Question 2\n",
    "\n",
    "Use the `demo_data/dcard-top100.csv` dataset (the same one used in the previous Assignment) and perform topic modeling on the dataset to explore the main topics of this small corpus.\n",
    "\n",
    "To increase the interpretability of the topic modeling results, please word-segment the corpus data using `ckip-transformers` and then include word tokens whose POS indicate they are either nouns or verbs. However, please exclude pronouns and numerals. Also, before word segmentation, please preprocess the texts by removing alphabets, digits, and symbols first.\n",
    "\n",
    "Please report (a) the meanings of the topics and their associated top 20 words in the corpus, and (b) the distribution of the topics in the entire corpus."
   ]
  },
  {
   "cell_type": "markdown",
   "metadata": {
    "tags": [
     "remove-input",
     "remove-output"
    ]
   },
   "source": [
    "### Import necessary dependencies and settings"
   ]
  },
  {
   "cell_type": "code",
   "execution_count": 1,
   "metadata": {
    "tags": [
     "remove-input",
     "remove-output"
    ]
   },
   "outputs": [],
   "source": [
    "import warnings\n",
    "warnings.filterwarnings(\"ignore\", category=DeprecationWarning)"
   ]
  },
  {
   "cell_type": "code",
   "execution_count": 2,
   "metadata": {
    "tags": [
     "remove-input",
     "remove-output"
    ]
   },
   "outputs": [],
   "source": [
    "import pandas as pd\n",
    "import numpy as np\n",
    "import re\n",
    "import matplotlib.pyplot as plt\n",
    "import random\n",
    "\n",
    "pd.options.display.max_colwidth = 200\n",
    "%matplotlib inline"
   ]
  },
  {
   "cell_type": "markdown",
   "metadata": {
    "tags": [
     "remove-input",
     "remove-output"
    ]
   },
   "source": [
    "### Sample corpus of text documents"
   ]
  },
  {
   "cell_type": "code",
   "execution_count": 3,
   "metadata": {
    "tags": [
     "remove-input",
     "remove-output"
    ]
   },
   "outputs": [
    {
     "data": {
      "text/html": [
       "<div>\n",
       "<style scoped>\n",
       "    .dataframe tbody tr th:only-of-type {\n",
       "        vertical-align: middle;\n",
       "    }\n",
       "\n",
       "    .dataframe tbody tr th {\n",
       "        vertical-align: top;\n",
       "    }\n",
       "\n",
       "    .dataframe thead th {\n",
       "        text-align: right;\n",
       "    }\n",
       "</style>\n",
       "<table border=\"1\" class=\"dataframe\">\n",
       "  <thead>\n",
       "    <tr style=\"text-align: right;\">\n",
       "      <th></th>\n",
       "      <th>ID</th>\n",
       "      <th>title</th>\n",
       "      <th>content</th>\n",
       "    </tr>\n",
       "  </thead>\n",
       "  <tbody>\n",
       "    <tr>\n",
       "      <th>0</th>\n",
       "      <td>235443715</td>\n",
       "      <td>三更 21歲這年我差點被活活燒死</td>\n",
       "      <td>部分回應在B117 \\n謝謝各位的留言，我都有看完\\n好的不好的，我都接受謝謝大家🙇‍♀️\\n\\n\\n（第三次更新在這邊）\\nB258 這邊也有講到怎麼逃生\\n很多人好奇我是怎麼踹門的，\\n在這邊跟大家說一下，\\n因為這台車本來就很老舊，\\n加上我文章說的我有停在路邊檢查，\\n之前有在練空手道，所以比較知道怎麼施力😥\\n謝謝大家的關心，其他比較有問題的我會在留言一一回覆！\\n\\n後續處理的...</td>\n",
       "    </tr>\n",
       "    <tr>\n",
       "      <th>1</th>\n",
       "      <td>235442609</td>\n",
       "      <td>超狂學經歷！195公分帥家教徵學生</td>\n",
       "      <td>https://i.imgur.com/REIEzSd.jpg\\n\\n身高195公分的男大生楊承翰在家教社團PO文徵學生的文章被網友推爆了，網友們看到他的學經歷及成績不禁大讚根本就是學霸王，而他不只擁有高顏質，還是籃球系隊成員，超乎常人的學經歷及證書考試成績，瞬間讓網友都跪著朝聖，直呼「天哪好厲害的帥哥」、「這個當家教太可惜了」。\\n\\n21歲台大學生楊承翰日前在臉書社團「家教補教學校兼全...</td>\n",
       "    </tr>\n",
       "    <tr>\n",
       "      <th>2</th>\n",
       "      <td>235441998</td>\n",
       "      <td>我的模特界時間管理大師前男友</td>\n",
       "      <td>看過這麼多在Dcard、PTT上的感情渣事和創作文\\n從沒想過如此荒謬像八點檔的事情居然會發生在自己的身上\\n\\n本來以為與我交往一年的男友，是因為遠距離的關係分手，但就在我難過發文之後，我的IG私訊被各種匿名爆料塞爆，才發現交往一年的他幾乎是個我完全不認識的人（除了我被無數次劈腿，還有他幻謊症的部分，可能還有妄想症...）\\n\\n \\n接下來的故事全部都是真真切切發生的事情，因為整段故事...</td>\n",
       "    </tr>\n",
       "    <tr>\n",
       "      <th>3</th>\n",
       "      <td>235441259</td>\n",
       "      <td>豆皮加爆</td>\n",
       "      <td>剛剛吃小火鍋，跟店員說不要金針菇（怕卡牙縫），於是店員幫我換其他配料..…\\n\\n沒想到餐一上桌竟是豆皮加爆~\\n\\n真是超開心的~有人也跟我一樣喜歡吃豆皮的嗎？\\n\\nhttps://i.imgur.com/XIma4y2.jpg</td>\n",
       "    </tr>\n",
       "    <tr>\n",
       "      <th>4</th>\n",
       "      <td>235442693</td>\n",
       "      <td>這樣女生該追嗎</td>\n",
       "      <td>已經約好見面，到了當天晚上七點半才回，我是被耍了嗎 \\n如下圖\\n\\n\\nhttps://i.imgur.com/81HRQpQ.jpg\\nhttps://i.imgur.com/6lmTX1P.jpg\\nhttps://i.imgur.com/bV4X0Fz.jpg</td>\n",
       "    </tr>\n",
       "  </tbody>\n",
       "</table>\n",
       "</div>"
      ],
      "text/plain": [
       "          ID              title  \\\n",
       "0  235443715   三更 21歲這年我差點被活活燒死   \n",
       "1  235442609  超狂學經歷！195公分帥家教徵學生   \n",
       "2  235441998     我的模特界時間管理大師前男友   \n",
       "3  235441259               豆皮加爆   \n",
       "4  235442693            這樣女生該追嗎   \n",
       "\n",
       "                                                                                                                                                                                                   content  \n",
       "0  部分回應在B117 \\n謝謝各位的留言，我都有看完\\n好的不好的，我都接受謝謝大家🙇‍♀️\\n\\n\\n（第三次更新在這邊）\\nB258 這邊也有講到怎麼逃生\\n很多人好奇我是怎麼踹門的，\\n在這邊跟大家說一下，\\n因為這台車本來就很老舊，\\n加上我文章說的我有停在路邊檢查，\\n之前有在練空手道，所以比較知道怎麼施力😥\\n謝謝大家的關心，其他比較有問題的我會在留言一一回覆！\\n\\n後續處理的...  \n",
       "1  https://i.imgur.com/REIEzSd.jpg\\n\\n身高195公分的男大生楊承翰在家教社團PO文徵學生的文章被網友推爆了，網友們看到他的學經歷及成績不禁大讚根本就是學霸王，而他不只擁有高顏質，還是籃球系隊成員，超乎常人的學經歷及證書考試成績，瞬間讓網友都跪著朝聖，直呼「天哪好厲害的帥哥」、「這個當家教太可惜了」。\\n\\n21歲台大學生楊承翰日前在臉書社團「家教補教學校兼全...  \n",
       "2  看過這麼多在Dcard、PTT上的感情渣事和創作文\\n從沒想過如此荒謬像八點檔的事情居然會發生在自己的身上\\n\\n本來以為與我交往一年的男友，是因為遠距離的關係分手，但就在我難過發文之後，我的IG私訊被各種匿名爆料塞爆，才發現交往一年的他幾乎是個我完全不認識的人（除了我被無數次劈腿，還有他幻謊症的部分，可能還有妄想症...）\\n\\n \\n接下來的故事全部都是真真切切發生的事情，因為整段故事...  \n",
       "3                                                                                     剛剛吃小火鍋，跟店員說不要金針菇（怕卡牙縫），於是店員幫我換其他配料..…\\n\\n沒想到餐一上桌竟是豆皮加爆~\\n\\n真是超開心的~有人也跟我一樣喜歡吃豆皮的嗎？\\n\\nhttps://i.imgur.com/XIma4y2.jpg  \n",
       "4                                                                   已經約好見面，到了當天晚上七點半才回，我是被耍了嗎 \\n如下圖\\n\\n\\nhttps://i.imgur.com/81HRQpQ.jpg\\nhttps://i.imgur.com/6lmTX1P.jpg\\nhttps://i.imgur.com/bV4X0Fz.jpg  "
      ]
     },
     "execution_count": 3,
     "metadata": {},
     "output_type": "execute_result"
    }
   ],
   "source": [
    "corpus_df = pd.read_csv('../../../RepositoryData/data/dcard-top100.csv')\n",
    "corpus_df.head()"
   ]
  },
  {
   "cell_type": "code",
   "execution_count": 4,
   "metadata": {
    "tags": [
     "remove-input",
     "remove-output"
    ]
   },
   "outputs": [],
   "source": [
    "corpus = corpus_df['content']\n",
    "# remove url first\n",
    "corpus = [re.sub(r'(?:http(s)?:\\/\\/)?[\\w.-]+(?:\\.[\\w\\.-]+)+[\\w\\-\\._~:/?#[\\]@!\\$&\\'\\(\\)\\*\\+,;=.]+', '\\n', doc) for doc in corpus]\n",
    "\n",
    "corpus = [re.sub(r'\\n+','\\n', doc) for doc in corpus] "
   ]
  },
  {
   "cell_type": "code",
   "execution_count": 5,
   "metadata": {
    "scrolled": true,
    "tags": [
     "remove-input",
     "remove-output"
    ]
   },
   "outputs": [
    {
     "data": {
      "text/plain": [
       "ID                                                                                    235443810\n",
       "title                                                                                 優質cosplay\n",
       "content    https://megapx-assets.dcard.tw/images/57a22cb7-3880-4e83-97a1-510a691bd1d9/1280.jpeg\n",
       "Name: 65, dtype: object"
      ]
     },
     "execution_count": 5,
     "metadata": {},
     "output_type": "execute_result"
    }
   ],
   "source": [
    "corpus_df.iloc[65,]"
   ]
  },
  {
   "cell_type": "code",
   "execution_count": 201,
   "metadata": {
    "tags": [
     "remove-input",
     "remove-output"
    ]
   },
   "outputs": [
    {
     "data": {
      "text/plain": [
       "array([], dtype='<U4276')"
      ]
     },
     "execution_count": 201,
     "metadata": {},
     "output_type": "execute_result"
    }
   ],
   "source": [
    "## check each doc integrity, i.e., no empty strings\n",
    "\n",
    "corpus_line_num = [len(doc) for doc in corpus]\n",
    "corpus[np.argmin(corpus_line_num)]\n",
    "\n",
    "ind =[i for i in range(len(corpus_line_num)) if corpus_line_num[i]==0]\n",
    "np.array(corpus)[ind]"
   ]
  },
  {
   "cell_type": "code",
   "execution_count": 6,
   "metadata": {
    "tags": [
     "remove-input",
     "remove-output"
    ]
   },
   "outputs": [],
   "source": [
    "## Perform the word segmentation in Google Colab.\n",
    "## Load results\n",
    "import pickle\n",
    "with open('dcard_seg.pickle', 'rb') as f:\n",
    "    dcard_seg = pickle.load(f)"
   ]
  },
  {
   "cell_type": "code",
   "execution_count": 7,
   "metadata": {
    "tags": [
     "remove-input",
     "remove-output"
    ]
   },
   "outputs": [],
   "source": [
    "## Prepare words for topic modeling\n",
    "## From each document, keep only words tagged as N and V excluding numerals pronouns\n",
    "norm_words = [[(w,p) for (w,p) in text if re.match(r'^[NV](?!(h|eu))',p)] for text in dcard_seg]\n",
    "norm_corpus = [' '.join([w for w,p in text]) for text in norm_words]\n",
    "\n",
    "# norm_corpus = [' '.join([w for (w,t) in doc if t in ['Na','VC']]) for doc in dcard_seg]# if len(doc)>0]"
   ]
  },
  {
   "cell_type": "code",
   "execution_count": 9,
   "metadata": {
    "tags": [
     "remove-input",
     "remove-output"
    ]
   },
   "outputs": [
    {
     "data": {
      "text/plain": [
       "''"
      ]
     },
     "execution_count": 9,
     "metadata": {},
     "output_type": "execute_result"
    }
   ],
   "source": [
    "norm_corpus[65]"
   ]
  },
  {
   "cell_type": "code",
   "execution_count": 11,
   "metadata": {
    "tags": [
     "remove-input",
     "remove-output"
    ]
   },
   "outputs": [
    {
     "data": {
      "text/plain": [
       "[(65, '')]"
      ]
     },
     "execution_count": 11,
     "metadata": {},
     "output_type": "execute_result"
    }
   ],
   "source": [
    "# check any zero documents\n",
    "[(i,doc) for i, doc in enumerate(norm_corpus) if len(doc)==0]"
   ]
  },
  {
   "cell_type": "code",
   "execution_count": 12,
   "metadata": {
    "tags": [
     "remove-input",
     "remove-output"
    ]
   },
   "outputs": [],
   "source": [
    "### Remove Empty Document\n",
    "\n",
    "\n",
    "corpus_df2 = corpus_df.drop(index=[65])\n",
    "del norm_corpus[65]"
   ]
  },
  {
   "cell_type": "code",
   "execution_count": 13,
   "metadata": {
    "tags": [
     "remove-input",
     "remove-output"
    ]
   },
   "outputs": [
    {
     "data": {
      "text/html": [
       "<div>\n",
       "<style scoped>\n",
       "    .dataframe tbody tr th:only-of-type {\n",
       "        vertical-align: middle;\n",
       "    }\n",
       "\n",
       "    .dataframe tbody tr th {\n",
       "        vertical-align: top;\n",
       "    }\n",
       "\n",
       "    .dataframe thead th {\n",
       "        text-align: right;\n",
       "    }\n",
       "</style>\n",
       "<table border=\"1\" class=\"dataframe\">\n",
       "  <thead>\n",
       "    <tr style=\"text-align: right;\">\n",
       "      <th></th>\n",
       "      <th>ID</th>\n",
       "      <th>title</th>\n",
       "      <th>content</th>\n",
       "    </tr>\n",
       "  </thead>\n",
       "  <tbody>\n",
       "    <tr>\n",
       "      <th>0</th>\n",
       "      <td>235443715</td>\n",
       "      <td>三更 21歲這年我差點被活活燒死</td>\n",
       "      <td>部分回應在B117 \\n謝謝各位的留言，我都有看完\\n好的不好的，我都接受謝謝大家🙇‍♀️\\n\\n\\n（第三次更新在這邊）\\nB258 這邊也有講到怎麼逃生\\n很多人好奇我是怎麼踹門的，\\n在這邊跟大家說一下，\\n因為這台車本來就很老舊，\\n加上我文章說的我有停在路邊檢查，\\n之前有在練空手道，所以比較知道怎麼施力😥\\n謝謝大家的關心，其他比較有問題的我會在留言一一回覆！\\n\\n後續處理的...</td>\n",
       "    </tr>\n",
       "    <tr>\n",
       "      <th>1</th>\n",
       "      <td>235442609</td>\n",
       "      <td>超狂學經歷！195公分帥家教徵學生</td>\n",
       "      <td>https://i.imgur.com/REIEzSd.jpg\\n\\n身高195公分的男大生楊承翰在家教社團PO文徵學生的文章被網友推爆了，網友們看到他的學經歷及成績不禁大讚根本就是學霸王，而他不只擁有高顏質，還是籃球系隊成員，超乎常人的學經歷及證書考試成績，瞬間讓網友都跪著朝聖，直呼「天哪好厲害的帥哥」、「這個當家教太可惜了」。\\n\\n21歲台大學生楊承翰日前在臉書社團「家教補教學校兼全...</td>\n",
       "    </tr>\n",
       "    <tr>\n",
       "      <th>2</th>\n",
       "      <td>235441998</td>\n",
       "      <td>我的模特界時間管理大師前男友</td>\n",
       "      <td>看過這麼多在Dcard、PTT上的感情渣事和創作文\\n從沒想過如此荒謬像八點檔的事情居然會發生在自己的身上\\n\\n本來以為與我交往一年的男友，是因為遠距離的關係分手，但就在我難過發文之後，我的IG私訊被各種匿名爆料塞爆，才發現交往一年的他幾乎是個我完全不認識的人（除了我被無數次劈腿，還有他幻謊症的部分，可能還有妄想症...）\\n\\n \\n接下來的故事全部都是真真切切發生的事情，因為整段故事...</td>\n",
       "    </tr>\n",
       "    <tr>\n",
       "      <th>3</th>\n",
       "      <td>235441259</td>\n",
       "      <td>豆皮加爆</td>\n",
       "      <td>剛剛吃小火鍋，跟店員說不要金針菇（怕卡牙縫），於是店員幫我換其他配料..…\\n\\n沒想到餐一上桌竟是豆皮加爆~\\n\\n真是超開心的~有人也跟我一樣喜歡吃豆皮的嗎？\\n\\nhttps://i.imgur.com/XIma4y2.jpg</td>\n",
       "    </tr>\n",
       "    <tr>\n",
       "      <th>4</th>\n",
       "      <td>235442693</td>\n",
       "      <td>這樣女生該追嗎</td>\n",
       "      <td>已經約好見面，到了當天晚上七點半才回，我是被耍了嗎 \\n如下圖\\n\\n\\nhttps://i.imgur.com/81HRQpQ.jpg\\nhttps://i.imgur.com/6lmTX1P.jpg\\nhttps://i.imgur.com/bV4X0Fz.jpg</td>\n",
       "    </tr>\n",
       "    <tr>\n",
       "      <th>5</th>\n",
       "      <td>235441122</td>\n",
       "      <td>深夜被約砲哥開導4小時哭了</td>\n",
       "      <td>嗨！巨砲哥 答應你的文來了😆\\n這是一段與約砲小哥哥談心的奇幻旅程\\n\\n可憐的我情人節當天被前男友提分手\\n原本說好228連假要一起出去玩直接泡湯\\n昨天晚上一整個很鬱卒 \\n但又不想一直丟負能量給身邊朋友\\n所以就上wootalk找人聊聊\\n結果就遇到這個傳說中的暖男(?)巨砲哥\\nhttps://i.imgur.com/nlzrqS3.jpg\\n\\n劈頭就問胸部多大⋯\\n本來想按離開...</td>\n",
       "    </tr>\n",
       "    <tr>\n",
       "      <th>6</th>\n",
       "      <td>235442321</td>\n",
       "      <td>這樣真很暴露？？？</td>\n",
       "      <td>https://i.imgur.com/HCTwyAH.jpg\\n（圖片非本人）\\n今天逛街買了一件此類型的白色，但他有點透，所以裡面有配一件白色小可愛，但男友說還是太暴露！？想問各位男性朋友 可以接受女友穿這件衣服嗎？🤔</td>\n",
       "    </tr>\n",
       "    <tr>\n",
       "      <th>7</th>\n",
       "      <td>235442924</td>\n",
       "      <td>泳衣+裙會很怪嗎</td>\n",
       "      <td>https://i.imgur.com/RWJLK2v.jpg\\n\\n因為馬鞍很寬\\n想請問女孩們會覺得加這種裙式沙龍好嗎？\\n怕會不會很奇怪\\n看模特兒穿又覺得蠻好看的\\n怕實際穿出去會怪怪的</td>\n",
       "    </tr>\n",
       "    <tr>\n",
       "      <th>8</th>\n",
       "      <td>235441419</td>\n",
       "      <td>關於一個860的訂製蛋糕：）</td>\n",
       "      <td>手機排版請見諒😖🙏🏻（圖多）\\n先說這不是我第一次訂購訂製蛋糕\\n也了解訂製蛋糕不可能跟圖上一樣完美\\n看到這間的ig上照片都很漂亮才選擇這間的\\n\\nhttps://i.imgur.com/fETTnah.jpg\\n這張是訂購時給的參考圖\\n\\nhttps://i.imgur.com/XsBjPYR.jpg\\n這張是我拿到後打開的樣子\\n\\n以下附上對話記錄\\nhttps://i.img...</td>\n",
       "    </tr>\n",
       "    <tr>\n",
       "      <th>9</th>\n",
       "      <td>235440762</td>\n",
       "      <td>有女生提醒我男友吃早餐</td>\n",
       "      <td>https://i.imgur.com/6Yk9etg.jpg\\n想在這裡問大家有沒有接到這種電話⋯\\n我男友前幾個月有接到一次，電話內容就只有女生用嗲嗲的聲音提醒我男友吃早餐這樣而已。電話掛了之後男友也有跟我說是他不認識的。\\n\\n但因為自己心裡存有懷疑，隔天在上班的時候有叫男同事用我手機打過去問（男友有給我她的手機號碼截圖\\n\\n男同事一開始就問她是不是那位提醒自己吃早餐的那個女生，後...</td>\n",
       "    </tr>\n",
       "  </tbody>\n",
       "</table>\n",
       "</div>"
      ],
      "text/plain": [
       "          ID              title  \\\n",
       "0  235443715   三更 21歲這年我差點被活活燒死   \n",
       "1  235442609  超狂學經歷！195公分帥家教徵學生   \n",
       "2  235441998     我的模特界時間管理大師前男友   \n",
       "3  235441259               豆皮加爆   \n",
       "4  235442693            這樣女生該追嗎   \n",
       "5  235441122      深夜被約砲哥開導4小時哭了   \n",
       "6  235442321          這樣真很暴露？？？   \n",
       "7  235442924           泳衣+裙會很怪嗎   \n",
       "8  235441419     關於一個860的訂製蛋糕：）   \n",
       "9  235440762        有女生提醒我男友吃早餐   \n",
       "\n",
       "                                                                                                                                                                                                   content  \n",
       "0  部分回應在B117 \\n謝謝各位的留言，我都有看完\\n好的不好的，我都接受謝謝大家🙇‍♀️\\n\\n\\n（第三次更新在這邊）\\nB258 這邊也有講到怎麼逃生\\n很多人好奇我是怎麼踹門的，\\n在這邊跟大家說一下，\\n因為這台車本來就很老舊，\\n加上我文章說的我有停在路邊檢查，\\n之前有在練空手道，所以比較知道怎麼施力😥\\n謝謝大家的關心，其他比較有問題的我會在留言一一回覆！\\n\\n後續處理的...  \n",
       "1  https://i.imgur.com/REIEzSd.jpg\\n\\n身高195公分的男大生楊承翰在家教社團PO文徵學生的文章被網友推爆了，網友們看到他的學經歷及成績不禁大讚根本就是學霸王，而他不只擁有高顏質，還是籃球系隊成員，超乎常人的學經歷及證書考試成績，瞬間讓網友都跪著朝聖，直呼「天哪好厲害的帥哥」、「這個當家教太可惜了」。\\n\\n21歲台大學生楊承翰日前在臉書社團「家教補教學校兼全...  \n",
       "2  看過這麼多在Dcard、PTT上的感情渣事和創作文\\n從沒想過如此荒謬像八點檔的事情居然會發生在自己的身上\\n\\n本來以為與我交往一年的男友，是因為遠距離的關係分手，但就在我難過發文之後，我的IG私訊被各種匿名爆料塞爆，才發現交往一年的他幾乎是個我完全不認識的人（除了我被無數次劈腿，還有他幻謊症的部分，可能還有妄想症...）\\n\\n \\n接下來的故事全部都是真真切切發生的事情，因為整段故事...  \n",
       "3                                                                                     剛剛吃小火鍋，跟店員說不要金針菇（怕卡牙縫），於是店員幫我換其他配料..…\\n\\n沒想到餐一上桌竟是豆皮加爆~\\n\\n真是超開心的~有人也跟我一樣喜歡吃豆皮的嗎？\\n\\nhttps://i.imgur.com/XIma4y2.jpg  \n",
       "4                                                                   已經約好見面，到了當天晚上七點半才回，我是被耍了嗎 \\n如下圖\\n\\n\\nhttps://i.imgur.com/81HRQpQ.jpg\\nhttps://i.imgur.com/6lmTX1P.jpg\\nhttps://i.imgur.com/bV4X0Fz.jpg  \n",
       "5  嗨！巨砲哥 答應你的文來了😆\\n這是一段與約砲小哥哥談心的奇幻旅程\\n\\n可憐的我情人節當天被前男友提分手\\n原本說好228連假要一起出去玩直接泡湯\\n昨天晚上一整個很鬱卒 \\n但又不想一直丟負能量給身邊朋友\\n所以就上wootalk找人聊聊\\n結果就遇到這個傳說中的暖男(?)巨砲哥\\nhttps://i.imgur.com/nlzrqS3.jpg\\n\\n劈頭就問胸部多大⋯\\n本來想按離開...  \n",
       "6                                                                                          https://i.imgur.com/HCTwyAH.jpg\\n（圖片非本人）\\n今天逛街買了一件此類型的白色，但他有點透，所以裡面有配一件白色小可愛，但男友說還是太暴露！？想問各位男性朋友 可以接受女友穿這件衣服嗎？🤔  \n",
       "7                                                                                                        https://i.imgur.com/RWJLK2v.jpg\\n\\n因為馬鞍很寬\\n想請問女孩們會覺得加這種裙式沙龍好嗎？\\n怕會不會很奇怪\\n看模特兒穿又覺得蠻好看的\\n怕實際穿出去會怪怪的  \n",
       "8  手機排版請見諒😖🙏🏻（圖多）\\n先說這不是我第一次訂購訂製蛋糕\\n也了解訂製蛋糕不可能跟圖上一樣完美\\n看到這間的ig上照片都很漂亮才選擇這間的\\n\\nhttps://i.imgur.com/fETTnah.jpg\\n這張是訂購時給的參考圖\\n\\nhttps://i.imgur.com/XsBjPYR.jpg\\n這張是我拿到後打開的樣子\\n\\n以下附上對話記錄\\nhttps://i.img...  \n",
       "9  https://i.imgur.com/6Yk9etg.jpg\\n想在這裡問大家有沒有接到這種電話⋯\\n我男友前幾個月有接到一次，電話內容就只有女生用嗲嗲的聲音提醒我男友吃早餐這樣而已。電話掛了之後男友也有跟我說是他不認識的。\\n\\n但因為自己心裡存有懷疑，隔天在上班的時候有叫男同事用我手機打過去問（男友有給我她的手機號碼截圖\\n\\n男同事一開始就問她是不是那位提醒自己吃早餐的那個女生，後...  "
      ]
     },
     "execution_count": 13,
     "metadata": {},
     "output_type": "execute_result"
    }
   ],
   "source": [
    "corpus_df2.iloc[0:10]"
   ]
  },
  {
   "cell_type": "code",
   "execution_count": 14,
   "metadata": {
    "tags": [
     "remove-input",
     "remove-output"
    ]
   },
   "outputs": [
    {
     "name": "stdout",
     "output_type": "stream",
     "text": [
      "(100, 3)\n",
      "(99, 3)\n",
      "99\n"
     ]
    }
   ],
   "source": [
    "print(corpus_df.shape)\n",
    "print(corpus_df2.shape)\n",
    "print(len(norm_corpus))"
   ]
  },
  {
   "cell_type": "code",
   "execution_count": 15,
   "metadata": {
    "tags": [
     "remove-input",
     "remove-output"
    ]
   },
   "outputs": [
    {
     "data": {
      "text/html": [
       "<div>\n",
       "<style scoped>\n",
       "    .dataframe tbody tr th:only-of-type {\n",
       "        vertical-align: middle;\n",
       "    }\n",
       "\n",
       "    .dataframe tbody tr th {\n",
       "        vertical-align: top;\n",
       "    }\n",
       "\n",
       "    .dataframe thead th {\n",
       "        text-align: right;\n",
       "    }\n",
       "</style>\n",
       "<table border=\"1\" class=\"dataframe\">\n",
       "  <thead>\n",
       "    <tr style=\"text-align: right;\">\n",
       "      <th></th>\n",
       "      <th>ID</th>\n",
       "      <th>title</th>\n",
       "      <th>content</th>\n",
       "      <th>Normalized</th>\n",
       "    </tr>\n",
       "  </thead>\n",
       "  <tbody>\n",
       "    <tr>\n",
       "      <th>0</th>\n",
       "      <td>235443715</td>\n",
       "      <td>三更 21歲這年我差點被活活燒死</td>\n",
       "      <td>部分回應在B117 \\n謝謝各位的留言，我都有看完\\n好的不好的，我都接受謝謝大家🙇‍♀️\\n\\n\\n（第三次更新在這邊）\\nB258 這邊也有講到怎麼逃生\\n很多人好奇我是怎麼踹門的，\\n在這邊跟大家說一下，\\n因為這台車本來就很老舊，\\n加上我文章說的我有停在路邊檢查，\\n之前有在練空手道，所以比較知道怎麼施力😥\\n謝謝大家的關心，其他比較有問題的我會在留言一一回覆！\\n\\n後續處理的...</td>\n",
       "      <td>部分 回應 謝謝 各位 留言 有 看完 好 好 接受 謝謝 次 更新 這邊 這邊 有 講到 逃生 很多 人 好奇 踹 門 這邊 說 一下 這 台 車 老舊 文章 說 有 停 路 邊 檢查 之前 有 練 空手道 知道 施力 謝謝 關心 其他 有 問題 留言 回覆 處理 部分 租 車 公司 有 很多 間 公司 當時 租 車 地方 新莊 中原路 平台 上 訂 租 車 公司 平台 講 家人 主動 ...</td>\n",
       "    </tr>\n",
       "    <tr>\n",
       "      <th>1</th>\n",
       "      <td>235442609</td>\n",
       "      <td>超狂學經歷！195公分帥家教徵學生</td>\n",
       "      <td>https://i.imgur.com/REIEzSd.jpg\\n\\n身高195公分的男大生楊承翰在家教社團PO文徵學生的文章被網友推爆了，網友們看到他的學經歷及成績不禁大讚根本就是學霸王，而他不只擁有高顏質，還是籃球系隊成員，超乎常人的學經歷及證書考試成績，瞬間讓網友都跪著朝聖，直呼「天哪好厲害的帥哥」、「這個當家教太可惜了」。\\n\\n21歲台大學生楊承翰日前在臉書社團「家教補教學校兼全...</td>\n",
       "      <td>身高 公分 男 大生 楊承翰 家教 社團 學生 文章 網友 推爆 網友 們 看到 學經歷 成績 大讚 學霸王 擁有 高顏質 籃球 系隊 成員 超乎 常人 學經歷 證書 考試 成績 瞬間 讓 網友 跪 朝聖 呼 天 厲害 帥哥 這 個 當 家教 可惜 歲 台大 學生 楊承翰 日前 臉書 社團 家教 補教 學校 兼 全職 打工 師訓 交流 發文 想 時薪 元 找 家教 學生 授課 內容 為 英...</td>\n",
       "    </tr>\n",
       "    <tr>\n",
       "      <th>2</th>\n",
       "      <td>235441998</td>\n",
       "      <td>我的模特界時間管理大師前男友</td>\n",
       "      <td>看過這麼多在Dcard、PTT上的感情渣事和創作文\\n從沒想過如此荒謬像八點檔的事情居然會發生在自己的身上\\n\\n本來以為與我交往一年的男友，是因為遠距離的關係分手，但就在我難過發文之後，我的IG私訊被各種匿名爆料塞爆，才發現交往一年的他幾乎是個我完全不認識的人（除了我被無數次劈腿，還有他幻謊症的部分，可能還有妄想症...）\\n\\n \\n接下來的故事全部都是真真切切發生的事情，因為整段故事...</td>\n",
       "      <td>看過 這麼多 上 感情 渣事 創作 文 想 如此 荒謬 八點檔 事情 發生 身 上 以為 交往 年 男友 遠 距離 關係 分手 難過 發文 之後 私訊 各 種 匿名 爆料 塞爆 發現 交往 年 個 認識 人 無數 次 劈腿 有 幻謊症 部分 有 妄想症 故事 全部 真真切切 發生 事情 整 段 故事 複雜 牽扯 太多 人 確定 分成 篇 今天 認識到 在一起 故事 開始 講起 整 篇 故事...</td>\n",
       "    </tr>\n",
       "    <tr>\n",
       "      <th>3</th>\n",
       "      <td>235441259</td>\n",
       "      <td>豆皮加爆</td>\n",
       "      <td>剛剛吃小火鍋，跟店員說不要金針菇（怕卡牙縫），於是店員幫我換其他配料..…\\n\\n沒想到餐一上桌竟是豆皮加爆~\\n\\n真是超開心的~有人也跟我一樣喜歡吃豆皮的嗎？\\n\\nhttps://i.imgur.com/XIma4y2.jpg</td>\n",
       "      <td>吃 小 火鍋 店員 說 要 金針菇 怕 卡 牙縫 店員 換 其他 配料 餐 上桌 竟是 豆皮 加 爆 開心 有 人 一樣 喜歡 吃 豆皮</td>\n",
       "    </tr>\n",
       "    <tr>\n",
       "      <th>4</th>\n",
       "      <td>235442693</td>\n",
       "      <td>這樣女生該追嗎</td>\n",
       "      <td>已經約好見面，到了當天晚上七點半才回，我是被耍了嗎 \\n如下圖\\n\\n\\nhttps://i.imgur.com/81HRQpQ.jpg\\nhttps://i.imgur.com/6lmTX1P.jpg\\nhttps://i.imgur.com/bV4X0Fz.jpg</td>\n",
       "      <td>約好 見面 到 當天 晚上 七點半 回 耍 下圖</td>\n",
       "    </tr>\n",
       "    <tr>\n",
       "      <th>...</th>\n",
       "      <td>...</td>\n",
       "      <td>...</td>\n",
       "      <td>...</td>\n",
       "      <td>...</td>\n",
       "    </tr>\n",
       "    <tr>\n",
       "      <th>95</th>\n",
       "      <td>235444562</td>\n",
       "      <td>主題：💟愛情塔羅💟 他要的感情關係vs 我要的感情關係為何？兩個人的近期發展（曖昧/交往中/斷聯/復合）</td>\n",
       "      <td>🤗感謝我們之間的連結帶領你來到這裡！ \\n\\n主題：💟愛情塔羅💟 他要的感情關係vs 我要的感情關係為何？兩個人的近期發展（曖昧/交往中/斷聯/復合）\\n\\n本次的大眾占卜適合處在曖昧、交往中、剛斷聯、分手、期待的你，有時候一份感情的重要核心正是在於雙方要的是不是一樣的東西，不見得得要完全相同，但至少如果理解彼此的感情需求，在相處上也能夠更融洽嘍！\\n\\n⭐️請閉上眼睛，深呼吸，腦子專心裡...</td>\n",
       "      <td>感謝 之間 連結 帶領 來到 這裡 主題 愛情 塔羅 感情 關係 感情 關係 何 個 人 近期 發展 曖昧 交往 中 斷聯 復合 本 次 占卜 適合 處在 曖昧 交往 中 斷聯 分手 期待 份 感情 重要 核心 在於 一樣 東西 相同 理解 感情 需求 相處 上 融洽 請 閉上 眼睛 深呼吸 腦子 專心 裡 想 感情 關係 什麼 相同 想想 樣子 有 個 人 相處 點滴 張開 眼睛 組 牌...</td>\n",
       "    </tr>\n",
       "    <tr>\n",
       "      <th>96</th>\n",
       "      <td>235441027</td>\n",
       "      <td>#分享 老花古董包 LV 方盒子｜Celine 化妝箱</td>\n",
       "      <td>近期購入的兩款古董包 可能因為是新歡 所以都讓我愛不釋手(๑•̀ •́)و✧\\n不過正是古董包的緣故 包況總有些不盡理想的狀況 帶有小瑕疵的部分 我自己都可以接受\\n為了比較包包的容量 文內有帶到一小部分的what’s in my bag 也有實揹照的部分*ˊᵕˋ\\n\\n\\n\\n𓎘𓎘𓎘 Louis Vuitton monogram 開口笑方盒子\\n（名字是參考小紅書介紹）\\n\\n購入價格：...</td>\n",
       "      <td>近期 購入 款 古董包 新歡 讓 愛不釋手 古董包 緣故 包況 有 些 理想 狀況 帶有 小 瑕疵 部分 接受 包包 容量 文 內 有 帶到 小 部分 有 實 揹照 部分 開口 笑 方 盒子 名字 參考 小紅 書 介紹 購入 價格 購入 方式 代購 賣場 尺寸 公分 容量 暗層 這 款 愛 想 買給 媽媽 當作 生日 禮物 藏 房間 每 天 看 好 喜歡 後來 購入 送給 媽媽 這 款 留...</td>\n",
       "    </tr>\n",
       "    <tr>\n",
       "      <th>97</th>\n",
       "      <td>235447320</td>\n",
       "      <td>在公車上遇到的超尷尬事件</td>\n",
       "      <td>剛剛在公車上有一個阿伯下車前跟我說：妹妹你很有愛心欸 讓位置給別人 不像有些人都在裝睡\\n講完這句話還瞄了一眼旁邊的女生\\n我當下就笑笑的\\n可是阿伯\\n那個女生\\n-\\n-\\n-\\n是我朋友(^_^;)\\n幸好阿伯講完就下車了⋯\\nhttps://i.imgur.com/htuMwVw.jpg</td>\n",
       "      <td>公車 上 有 個 阿伯 下車 前 說 妹妹 有 愛心 讓 位置 給 有 些 人 裝睡 講完 這 句 話 瞄 眼 旁邊 女生 笑笑 阿伯 那 個 女生 朋友 阿伯 講完 下車</td>\n",
       "    </tr>\n",
       "    <tr>\n",
       "      <th>98</th>\n",
       "      <td>235440749</td>\n",
       "      <td>#大眾占卜 🥺。他現在對我的想法是?他的下一步是什麼?我能為這段關係做什麼樣的努力❣</td>\n",
       "      <td>大家好這裡是金魚🙏\\n這次的占卜適合斷聯、曖昧、復合的族群\\n\\n再上圖之前先置入我的IG\\nhttps://www.instagram.com/goldenfishtarot\\n\\n【大眾占卜集合多人能量請選擇有感應的部分聆聽即可】\\n喜歡有聲版請點連結\\n喜歡文字下面附上文案\\nhttps://youtu.be/xkJHmyl_M7g\\n\\nhttps://i.imgur.com/Ux...</td>\n",
       "      <td>好 這裡 金魚 這 次 占卜 適合 斷聯 曖昧 復合 族群 上 圖 之前 置入 占卜 集合 多 人 能量 請 選擇 有 感應 部分 聆聽 喜歡 請 點 連結 喜歡 文字 下面 附上 文案 組 這 個 對象 之前 感情 坎坷 劈腿 騙 錢 這 有 可能 關 久 遇見 願意 心房 打開 相處 過程 中 知道 什麼 無私 愛 這 種 感情 原生 家庭 感受到 防備 讓 受傷 熱情 有 正向 感染...</td>\n",
       "    </tr>\n",
       "    <tr>\n",
       "      <th>99</th>\n",
       "      <td>235442177</td>\n",
       "      <td>所以，你要當我女朋友嗎？</td>\n",
       "      <td>「所以，你要當我女朋友嗎？」我看進她的眼睛，隱約反射出自己的倒影。躺在床上的我們呼吸有些紊亂，午後的陽光肆無忌憚的灑在身上，有點溫暖。\\n\\n我們的故事，從英國開始。\\n\\n\\n大學畢業後我跑到英國念碩士，人生地不熟的地方，一個認識的人也沒有，頭幾週的生活常常是一個人吃飯、逛街、看劇度過，再加上那時還沒走出前女友劈腿的陰影，那段時間說實在還滿煎熬的。\\n\\n幸好後來認識了跟我住在同個宿舍的...</td>\n",
       "      <td>當 女朋友 看進 眼睛 反射出 倒影 躺 床 上 呼吸 紊亂 午後 陽光 肆無忌憚 灑 身 上 溫暖 故事 英國 開始 大學 畢業 後 跑到 英國 念 碩士 人生地不熟 地方 個 認識 人 沒有 週 生活 個 人 吃飯 逛街 看劇 度過 加上 那時 走出 前 女友 劈腿 陰影 那 段 時間 說 實在 煎熬 後來 認識 住在 同 個 宿舍 台灣人 知道 身邊 有 有 這樣 朋友 人脈 感覺 ...</td>\n",
       "    </tr>\n",
       "  </tbody>\n",
       "</table>\n",
       "<p>99 rows × 4 columns</p>\n",
       "</div>"
      ],
      "text/plain": [
       "           ID                                                 title  \\\n",
       "0   235443715                                      三更 21歲這年我差點被活活燒死   \n",
       "1   235442609                                     超狂學經歷！195公分帥家教徵學生   \n",
       "2   235441998                                        我的模特界時間管理大師前男友   \n",
       "3   235441259                                                  豆皮加爆   \n",
       "4   235442693                                               這樣女生該追嗎   \n",
       "..        ...                                                   ...   \n",
       "95  235444562  主題：💟愛情塔羅💟 他要的感情關係vs 我要的感情關係為何？兩個人的近期發展（曖昧/交往中/斷聯/復合）   \n",
       "96  235441027                           #分享 老花古董包 LV 方盒子｜Celine 化妝箱   \n",
       "97  235447320                                          在公車上遇到的超尷尬事件   \n",
       "98  235440749            #大眾占卜 🥺。他現在對我的想法是?他的下一步是什麼?我能為這段關係做什麼樣的努力❣   \n",
       "99  235442177                                          所以，你要當我女朋友嗎？   \n",
       "\n",
       "                                                                                                                                                                                                    content  \\\n",
       "0   部分回應在B117 \\n謝謝各位的留言，我都有看完\\n好的不好的，我都接受謝謝大家🙇‍♀️\\n\\n\\n（第三次更新在這邊）\\nB258 這邊也有講到怎麼逃生\\n很多人好奇我是怎麼踹門的，\\n在這邊跟大家說一下，\\n因為這台車本來就很老舊，\\n加上我文章說的我有停在路邊檢查，\\n之前有在練空手道，所以比較知道怎麼施力😥\\n謝謝大家的關心，其他比較有問題的我會在留言一一回覆！\\n\\n後續處理的...   \n",
       "1   https://i.imgur.com/REIEzSd.jpg\\n\\n身高195公分的男大生楊承翰在家教社團PO文徵學生的文章被網友推爆了，網友們看到他的學經歷及成績不禁大讚根本就是學霸王，而他不只擁有高顏質，還是籃球系隊成員，超乎常人的學經歷及證書考試成績，瞬間讓網友都跪著朝聖，直呼「天哪好厲害的帥哥」、「這個當家教太可惜了」。\\n\\n21歲台大學生楊承翰日前在臉書社團「家教補教學校兼全...   \n",
       "2   看過這麼多在Dcard、PTT上的感情渣事和創作文\\n從沒想過如此荒謬像八點檔的事情居然會發生在自己的身上\\n\\n本來以為與我交往一年的男友，是因為遠距離的關係分手，但就在我難過發文之後，我的IG私訊被各種匿名爆料塞爆，才發現交往一年的他幾乎是個我完全不認識的人（除了我被無數次劈腿，還有他幻謊症的部分，可能還有妄想症...）\\n\\n \\n接下來的故事全部都是真真切切發生的事情，因為整段故事...   \n",
       "3                                                                                      剛剛吃小火鍋，跟店員說不要金針菇（怕卡牙縫），於是店員幫我換其他配料..…\\n\\n沒想到餐一上桌竟是豆皮加爆~\\n\\n真是超開心的~有人也跟我一樣喜歡吃豆皮的嗎？\\n\\nhttps://i.imgur.com/XIma4y2.jpg   \n",
       "4                                                                    已經約好見面，到了當天晚上七點半才回，我是被耍了嗎 \\n如下圖\\n\\n\\nhttps://i.imgur.com/81HRQpQ.jpg\\nhttps://i.imgur.com/6lmTX1P.jpg\\nhttps://i.imgur.com/bV4X0Fz.jpg   \n",
       "..                                                                                                                                                                                                      ...   \n",
       "95  🤗感謝我們之間的連結帶領你來到這裡！ \\n\\n主題：💟愛情塔羅💟 他要的感情關係vs 我要的感情關係為何？兩個人的近期發展（曖昧/交往中/斷聯/復合）\\n\\n本次的大眾占卜適合處在曖昧、交往中、剛斷聯、分手、期待的你，有時候一份感情的重要核心正是在於雙方要的是不是一樣的東西，不見得得要完全相同，但至少如果理解彼此的感情需求，在相處上也能夠更融洽嘍！\\n\\n⭐️請閉上眼睛，深呼吸，腦子專心裡...   \n",
       "96  近期購入的兩款古董包 可能因為是新歡 所以都讓我愛不釋手(๑•̀ •́)و✧\\n不過正是古董包的緣故 包況總有些不盡理想的狀況 帶有小瑕疵的部分 我自己都可以接受\\n為了比較包包的容量 文內有帶到一小部分的what’s in my bag 也有實揹照的部分*ˊᵕˋ\\n\\n\\n\\n𓎘𓎘𓎘 Louis Vuitton monogram 開口笑方盒子\\n（名字是參考小紅書介紹）\\n\\n購入價格：...   \n",
       "97                                                     剛剛在公車上有一個阿伯下車前跟我說：妹妹你很有愛心欸 讓位置給別人 不像有些人都在裝睡\\n講完這句話還瞄了一眼旁邊的女生\\n我當下就笑笑的\\n可是阿伯\\n那個女生\\n-\\n-\\n-\\n是我朋友(^_^;)\\n幸好阿伯講完就下車了⋯\\nhttps://i.imgur.com/htuMwVw.jpg   \n",
       "98  大家好這裡是金魚🙏\\n這次的占卜適合斷聯、曖昧、復合的族群\\n\\n再上圖之前先置入我的IG\\nhttps://www.instagram.com/goldenfishtarot\\n\\n【大眾占卜集合多人能量請選擇有感應的部分聆聽即可】\\n喜歡有聲版請點連結\\n喜歡文字下面附上文案\\nhttps://youtu.be/xkJHmyl_M7g\\n\\nhttps://i.imgur.com/Ux...   \n",
       "99  「所以，你要當我女朋友嗎？」我看進她的眼睛，隱約反射出自己的倒影。躺在床上的我們呼吸有些紊亂，午後的陽光肆無忌憚的灑在身上，有點溫暖。\\n\\n我們的故事，從英國開始。\\n\\n\\n大學畢業後我跑到英國念碩士，人生地不熟的地方，一個認識的人也沒有，頭幾週的生活常常是一個人吃飯、逛街、看劇度過，再加上那時還沒走出前女友劈腿的陰影，那段時間說實在還滿煎熬的。\\n\\n幸好後來認識了跟我住在同個宿舍的...   \n",
       "\n",
       "                                                                                                                                                                                                 Normalized  \n",
       "0   部分 回應 謝謝 各位 留言 有 看完 好 好 接受 謝謝 次 更新 這邊 這邊 有 講到 逃生 很多 人 好奇 踹 門 這邊 說 一下 這 台 車 老舊 文章 說 有 停 路 邊 檢查 之前 有 練 空手道 知道 施力 謝謝 關心 其他 有 問題 留言 回覆 處理 部分 租 車 公司 有 很多 間 公司 當時 租 車 地方 新莊 中原路 平台 上 訂 租 車 公司 平台 講 家人 主動 ...  \n",
       "1   身高 公分 男 大生 楊承翰 家教 社團 學生 文章 網友 推爆 網友 們 看到 學經歷 成績 大讚 學霸王 擁有 高顏質 籃球 系隊 成員 超乎 常人 學經歷 證書 考試 成績 瞬間 讓 網友 跪 朝聖 呼 天 厲害 帥哥 這 個 當 家教 可惜 歲 台大 學生 楊承翰 日前 臉書 社團 家教 補教 學校 兼 全職 打工 師訓 交流 發文 想 時薪 元 找 家教 學生 授課 內容 為 英...  \n",
       "2   看過 這麼多 上 感情 渣事 創作 文 想 如此 荒謬 八點檔 事情 發生 身 上 以為 交往 年 男友 遠 距離 關係 分手 難過 發文 之後 私訊 各 種 匿名 爆料 塞爆 發現 交往 年 個 認識 人 無數 次 劈腿 有 幻謊症 部分 有 妄想症 故事 全部 真真切切 發生 事情 整 段 故事 複雜 牽扯 太多 人 確定 分成 篇 今天 認識到 在一起 故事 開始 講起 整 篇 故事...  \n",
       "3                                                                                                                                      吃 小 火鍋 店員 說 要 金針菇 怕 卡 牙縫 店員 換 其他 配料 餐 上桌 竟是 豆皮 加 爆 開心 有 人 一樣 喜歡 吃 豆皮  \n",
       "4                                                                                                                                                                                  約好 見面 到 當天 晚上 七點半 回 耍 下圖  \n",
       "..                                                                                                                                                                                                      ...  \n",
       "95  感謝 之間 連結 帶領 來到 這裡 主題 愛情 塔羅 感情 關係 感情 關係 何 個 人 近期 發展 曖昧 交往 中 斷聯 復合 本 次 占卜 適合 處在 曖昧 交往 中 斷聯 分手 期待 份 感情 重要 核心 在於 一樣 東西 相同 理解 感情 需求 相處 上 融洽 請 閉上 眼睛 深呼吸 腦子 專心 裡 想 感情 關係 什麼 相同 想想 樣子 有 個 人 相處 點滴 張開 眼睛 組 牌...  \n",
       "96  近期 購入 款 古董包 新歡 讓 愛不釋手 古董包 緣故 包況 有 些 理想 狀況 帶有 小 瑕疵 部分 接受 包包 容量 文 內 有 帶到 小 部分 有 實 揹照 部分 開口 笑 方 盒子 名字 參考 小紅 書 介紹 購入 價格 購入 方式 代購 賣場 尺寸 公分 容量 暗層 這 款 愛 想 買給 媽媽 當作 生日 禮物 藏 房間 每 天 看 好 喜歡 後來 購入 送給 媽媽 這 款 留...  \n",
       "97                                                                                                                   公車 上 有 個 阿伯 下車 前 說 妹妹 有 愛心 讓 位置 給 有 些 人 裝睡 講完 這 句 話 瞄 眼 旁邊 女生 笑笑 阿伯 那 個 女生 朋友 阿伯 講完 下車  \n",
       "98  好 這裡 金魚 這 次 占卜 適合 斷聯 曖昧 復合 族群 上 圖 之前 置入 占卜 集合 多 人 能量 請 選擇 有 感應 部分 聆聽 喜歡 請 點 連結 喜歡 文字 下面 附上 文案 組 這 個 對象 之前 感情 坎坷 劈腿 騙 錢 這 有 可能 關 久 遇見 願意 心房 打開 相處 過程 中 知道 什麼 無私 愛 這 種 感情 原生 家庭 感受到 防備 讓 受傷 熱情 有 正向 感染...  \n",
       "99  當 女朋友 看進 眼睛 反射出 倒影 躺 床 上 呼吸 紊亂 午後 陽光 肆無忌憚 灑 身 上 溫暖 故事 英國 開始 大學 畢業 後 跑到 英國 念 碩士 人生地不熟 地方 個 認識 人 沒有 週 生活 個 人 吃飯 逛街 看劇 度過 加上 那時 走出 前 女友 劈腿 陰影 那 段 時間 說 實在 煎熬 後來 認識 住在 同 個 宿舍 台灣人 知道 身邊 有 有 這樣 朋友 人脈 感覺 ...  \n",
       "\n",
       "[99 rows x 4 columns]"
      ]
     },
     "execution_count": 15,
     "metadata": {},
     "output_type": "execute_result"
    }
   ],
   "source": [
    "corpus_df2['Normalized'] = norm_corpus\n",
    "corpus_df2"
   ]
  },
  {
   "cell_type": "code",
   "execution_count": 16,
   "metadata": {
    "tags": [
     "remove-input",
     "remove-output"
    ]
   },
   "outputs": [
    {
     "data": {
      "text/plain": [
       "'晚上 好 今天 分享 個 春天 日系 妝容 給 剛好 剪 頭髮 換 個 髮型 喜歡 次 頭髮 打 薄 有 日系 感覺 這 次 分享 個 妝容 剛好 剪 頭髮 前後 覺得 好看 變 回去 囉嗦 有 興趣 看 下去 今天 分享 個 妝 附上 久違 素顏 給 對比 組 分享 封面 妝容 剪完 髮 這 組 分享 大愛 橘色 妝容 讓 整體 柔和 眼線筆 睫毛膏 選擇 帶有 顏色 附上 彩妝品 眼妝 教學 眼影 這 個 打底色 腮紅 做 打底 腮紅 不均 上 眼睛 好用 斑駁 不均 手 上 眼影 這 盤 發色 好 沾取 量 少 慢慢 堆疊 艾杜紗  眼線筆 失手 眼線 膠筆 鉛 丹橘 芯 細 好 畫 試 手 上 感覺 持 妝 不錯 之後 出門 更新 持久性 艾杜紗 睫毛 底膏 勃根地粉 低調 粉色 明顯 擦 感覺 溫溫柔柔 沒 什麼 濃密 作用 上 睫毛膏 艾杜紗 愛 潤唇蜜 亮橘 上 嘴 薄 透 自然感 橘 嚇人 日常 建議 裸色 打底 畫 唇型 疊加 這 個 眼妝 部分 眼影 塗 整 個 眼窩 塗 雙眼皮 折 後 疊擦 眼尾處 最後 眼 中 疊擦 美 眼影 塗滿 整 個 眼下 中間 處 疊加 一點 亮 橘 這 個 眼妝 完成 剪髮 前 組 今年 春天 日本 流行 紫粉色 為 基底 整體 給 人 感覺 成熟 沈穩 附上 彩妝品 眼妝 教學 眼影 這 盤 組合 裡 攜帶型 迷你 眼影 排 眼影 這 顆 單色 眼影 閃片 美 隨便 擦 隨便 美  拿來 打亮 眼頭 眼下 金 上眼 混 白色 珠光 那 種 嚇人 金色 大 亮片 細緻 推 新手 買 直接 塗 打 底色 手 上 眼皮 中央 瞬間 升級 妝感 眼線 阻力 經典 復古 棕 眼線 說 這 隻 摯愛 眼線液 眼線筆 暈 用 很多 拿 這 隻 畫 內 眼線 暈 眼妝 乾淨 整 天 秘密 棕色 上 眼 黑色 死黑 深 深 咖啡 腮紅 倩碧 小花 腮紅 紫羅蘭 小花 腮紅 發色 好 需要 上 層 紅  細白 管 擦起來 偏 粉 乾燥 玫瑰色 粉顏 色調 恰到好處 眼妝 部分 眼影 塗 整 個 眼窩 塗 雙眼皮 折中 後方 暈染 開 小 刷子 沾取 打亮 眼頭 眼下 想要 加強 眼皮 閃度 疊  中央 眼影 塗 中後 部分 之後 尾 地方 疊擦 這 個 眼妝 鬆散 小 刷子 完成 今天 個 日系 妝容 分享 這 希望 喜歡 有 問題 留言 謝謝 觀看 妝容 實拍 小 影片 習慣 這 個 髮型'"
      ]
     },
     "execution_count": 16,
     "metadata": {},
     "output_type": "execute_result"
    }
   ],
   "source": [
    "## check `norm_corpus`\n",
    "len(norm_corpus)\n",
    "norm_corpus[10]"
   ]
  },
  {
   "cell_type": "markdown",
   "metadata": {
    "tags": [
     "remove-input",
     "remove-output"
    ]
   },
   "source": [
    "### Bag of Words Model"
   ]
  },
  {
   "cell_type": "markdown",
   "metadata": {
    "tags": [
     "remove-input",
     "remove-output"
    ]
   },
   "source": [
    "- Bag-of-words model is the simplest way to vectorize texts into numeric representations.\n",
    "- In short, it is a method to represent a text using its word frequency list.\n",
    "- The sequential order of words in the text is therefore naively ignored."
   ]
  },
  {
   "cell_type": "code",
   "execution_count": 20,
   "metadata": {
    "tags": [
     "remove-input",
     "remove-output"
    ]
   },
   "outputs": [
    {
     "data": {
      "text/plain": [
       "<99x377 sparse matrix of type '<class 'numpy.int64'>'\n",
       "\twith 2933 stored elements in Compressed Sparse Row format>"
      ]
     },
     "execution_count": 20,
     "metadata": {},
     "output_type": "execute_result"
    }
   ],
   "source": [
    "from sklearn.feature_extraction.text import CountVectorizer\n",
    "# get bag of words features in sparse format\n",
    "cv = CountVectorizer(min_df=4, max_df=1.0,token_pattern=r'[^\\s]{2,}') ## include two-syllable words\n",
    "cv_matrix = cv.fit_transform(norm_corpus)\n",
    "cv_matrix"
   ]
  },
  {
   "cell_type": "code",
   "execution_count": 21,
   "metadata": {
    "tags": [
     "remove-input",
     "remove-output"
    ]
   },
   "outputs": [
    {
     "data": {
      "text/plain": [
       "array([[1, 0, 0, ..., 0, 0, 0],\n",
       "       [0, 0, 0, ..., 0, 0, 0],\n",
       "       [4, 1, 3, ..., 0, 0, 0],\n",
       "       ...,\n",
       "       [0, 0, 0, ..., 0, 0, 0],\n",
       "       [1, 2, 0, ..., 0, 1, 0],\n",
       "       [1, 0, 0, ..., 0, 0, 0]])"
      ]
     },
     "execution_count": 21,
     "metadata": {},
     "output_type": "execute_result"
    }
   ],
   "source": [
    "# view dense representation \n",
    "# warning might give a memory error if data is too big\n",
    "cv_matrix = cv_matrix.toarray()\n",
    "cv_matrix"
   ]
  },
  {
   "cell_type": "code",
   "execution_count": 22,
   "metadata": {
    "tags": [
     "remove-input",
     "remove-output"
    ]
   },
   "outputs": [
    {
     "data": {
      "text/html": [
       "<div>\n",
       "<style scoped>\n",
       "    .dataframe tbody tr th:only-of-type {\n",
       "        vertical-align: middle;\n",
       "    }\n",
       "\n",
       "    .dataframe tbody tr th {\n",
       "        vertical-align: top;\n",
       "    }\n",
       "\n",
       "    .dataframe thead th {\n",
       "        text-align: right;\n",
       "    }\n",
       "</style>\n",
       "<table border=\"1\" class=\"dataframe\">\n",
       "  <thead>\n",
       "    <tr style=\"text-align: right;\">\n",
       "      <th></th>\n",
       "      <th>一下</th>\n",
       "      <th>一些</th>\n",
       "      <th>一切</th>\n",
       "      <th>一半</th>\n",
       "      <th>一樣</th>\n",
       "      <th>一陣子</th>\n",
       "      <th>一點</th>\n",
       "      <th>一點點</th>\n",
       "      <th>上來</th>\n",
       "      <th>上班</th>\n",
       "      <th>...</th>\n",
       "      <th>需要</th>\n",
       "      <th>露出</th>\n",
       "      <th>韓國</th>\n",
       "      <th>韓網</th>\n",
       "      <th>頭髮</th>\n",
       "      <th>顏色</th>\n",
       "      <th>願意</th>\n",
       "      <th>類似</th>\n",
       "      <th>麻煩</th>\n",
       "      <th>黑色</th>\n",
       "    </tr>\n",
       "  </thead>\n",
       "  <tbody>\n",
       "    <tr>\n",
       "      <th>0</th>\n",
       "      <td>1</td>\n",
       "      <td>0</td>\n",
       "      <td>0</td>\n",
       "      <td>0</td>\n",
       "      <td>0</td>\n",
       "      <td>0</td>\n",
       "      <td>1</td>\n",
       "      <td>0</td>\n",
       "      <td>0</td>\n",
       "      <td>0</td>\n",
       "      <td>...</td>\n",
       "      <td>1</td>\n",
       "      <td>0</td>\n",
       "      <td>0</td>\n",
       "      <td>0</td>\n",
       "      <td>0</td>\n",
       "      <td>0</td>\n",
       "      <td>0</td>\n",
       "      <td>0</td>\n",
       "      <td>0</td>\n",
       "      <td>0</td>\n",
       "    </tr>\n",
       "    <tr>\n",
       "      <th>1</th>\n",
       "      <td>0</td>\n",
       "      <td>0</td>\n",
       "      <td>0</td>\n",
       "      <td>0</td>\n",
       "      <td>0</td>\n",
       "      <td>0</td>\n",
       "      <td>0</td>\n",
       "      <td>0</td>\n",
       "      <td>0</td>\n",
       "      <td>0</td>\n",
       "      <td>...</td>\n",
       "      <td>0</td>\n",
       "      <td>0</td>\n",
       "      <td>0</td>\n",
       "      <td>0</td>\n",
       "      <td>0</td>\n",
       "      <td>0</td>\n",
       "      <td>0</td>\n",
       "      <td>0</td>\n",
       "      <td>0</td>\n",
       "      <td>0</td>\n",
       "    </tr>\n",
       "    <tr>\n",
       "      <th>2</th>\n",
       "      <td>4</td>\n",
       "      <td>1</td>\n",
       "      <td>3</td>\n",
       "      <td>0</td>\n",
       "      <td>2</td>\n",
       "      <td>1</td>\n",
       "      <td>0</td>\n",
       "      <td>0</td>\n",
       "      <td>0</td>\n",
       "      <td>0</td>\n",
       "      <td>...</td>\n",
       "      <td>0</td>\n",
       "      <td>0</td>\n",
       "      <td>0</td>\n",
       "      <td>0</td>\n",
       "      <td>0</td>\n",
       "      <td>0</td>\n",
       "      <td>1</td>\n",
       "      <td>0</td>\n",
       "      <td>0</td>\n",
       "      <td>0</td>\n",
       "    </tr>\n",
       "    <tr>\n",
       "      <th>3</th>\n",
       "      <td>0</td>\n",
       "      <td>0</td>\n",
       "      <td>0</td>\n",
       "      <td>0</td>\n",
       "      <td>1</td>\n",
       "      <td>0</td>\n",
       "      <td>0</td>\n",
       "      <td>0</td>\n",
       "      <td>0</td>\n",
       "      <td>0</td>\n",
       "      <td>...</td>\n",
       "      <td>0</td>\n",
       "      <td>0</td>\n",
       "      <td>0</td>\n",
       "      <td>0</td>\n",
       "      <td>0</td>\n",
       "      <td>0</td>\n",
       "      <td>0</td>\n",
       "      <td>0</td>\n",
       "      <td>0</td>\n",
       "      <td>0</td>\n",
       "    </tr>\n",
       "    <tr>\n",
       "      <th>4</th>\n",
       "      <td>0</td>\n",
       "      <td>0</td>\n",
       "      <td>0</td>\n",
       "      <td>0</td>\n",
       "      <td>0</td>\n",
       "      <td>0</td>\n",
       "      <td>0</td>\n",
       "      <td>0</td>\n",
       "      <td>0</td>\n",
       "      <td>0</td>\n",
       "      <td>...</td>\n",
       "      <td>0</td>\n",
       "      <td>0</td>\n",
       "      <td>0</td>\n",
       "      <td>0</td>\n",
       "      <td>0</td>\n",
       "      <td>0</td>\n",
       "      <td>0</td>\n",
       "      <td>0</td>\n",
       "      <td>0</td>\n",
       "      <td>0</td>\n",
       "    </tr>\n",
       "    <tr>\n",
       "      <th>...</th>\n",
       "      <td>...</td>\n",
       "      <td>...</td>\n",
       "      <td>...</td>\n",
       "      <td>...</td>\n",
       "      <td>...</td>\n",
       "      <td>...</td>\n",
       "      <td>...</td>\n",
       "      <td>...</td>\n",
       "      <td>...</td>\n",
       "      <td>...</td>\n",
       "      <td>...</td>\n",
       "      <td>...</td>\n",
       "      <td>...</td>\n",
       "      <td>...</td>\n",
       "      <td>...</td>\n",
       "      <td>...</td>\n",
       "      <td>...</td>\n",
       "      <td>...</td>\n",
       "      <td>...</td>\n",
       "      <td>...</td>\n",
       "      <td>...</td>\n",
       "    </tr>\n",
       "    <tr>\n",
       "      <th>94</th>\n",
       "      <td>0</td>\n",
       "      <td>0</td>\n",
       "      <td>0</td>\n",
       "      <td>0</td>\n",
       "      <td>1</td>\n",
       "      <td>0</td>\n",
       "      <td>0</td>\n",
       "      <td>0</td>\n",
       "      <td>0</td>\n",
       "      <td>0</td>\n",
       "      <td>...</td>\n",
       "      <td>1</td>\n",
       "      <td>0</td>\n",
       "      <td>0</td>\n",
       "      <td>0</td>\n",
       "      <td>0</td>\n",
       "      <td>0</td>\n",
       "      <td>0</td>\n",
       "      <td>0</td>\n",
       "      <td>0</td>\n",
       "      <td>0</td>\n",
       "    </tr>\n",
       "    <tr>\n",
       "      <th>95</th>\n",
       "      <td>0</td>\n",
       "      <td>1</td>\n",
       "      <td>0</td>\n",
       "      <td>0</td>\n",
       "      <td>1</td>\n",
       "      <td>0</td>\n",
       "      <td>0</td>\n",
       "      <td>0</td>\n",
       "      <td>0</td>\n",
       "      <td>0</td>\n",
       "      <td>...</td>\n",
       "      <td>0</td>\n",
       "      <td>0</td>\n",
       "      <td>0</td>\n",
       "      <td>0</td>\n",
       "      <td>0</td>\n",
       "      <td>0</td>\n",
       "      <td>0</td>\n",
       "      <td>0</td>\n",
       "      <td>0</td>\n",
       "      <td>0</td>\n",
       "    </tr>\n",
       "    <tr>\n",
       "      <th>96</th>\n",
       "      <td>0</td>\n",
       "      <td>0</td>\n",
       "      <td>0</td>\n",
       "      <td>0</td>\n",
       "      <td>0</td>\n",
       "      <td>0</td>\n",
       "      <td>0</td>\n",
       "      <td>0</td>\n",
       "      <td>0</td>\n",
       "      <td>0</td>\n",
       "      <td>...</td>\n",
       "      <td>0</td>\n",
       "      <td>0</td>\n",
       "      <td>0</td>\n",
       "      <td>0</td>\n",
       "      <td>0</td>\n",
       "      <td>0</td>\n",
       "      <td>0</td>\n",
       "      <td>0</td>\n",
       "      <td>0</td>\n",
       "      <td>0</td>\n",
       "    </tr>\n",
       "    <tr>\n",
       "      <th>97</th>\n",
       "      <td>1</td>\n",
       "      <td>2</td>\n",
       "      <td>0</td>\n",
       "      <td>0</td>\n",
       "      <td>0</td>\n",
       "      <td>0</td>\n",
       "      <td>0</td>\n",
       "      <td>0</td>\n",
       "      <td>0</td>\n",
       "      <td>0</td>\n",
       "      <td>...</td>\n",
       "      <td>2</td>\n",
       "      <td>0</td>\n",
       "      <td>0</td>\n",
       "      <td>0</td>\n",
       "      <td>0</td>\n",
       "      <td>0</td>\n",
       "      <td>4</td>\n",
       "      <td>0</td>\n",
       "      <td>1</td>\n",
       "      <td>0</td>\n",
       "    </tr>\n",
       "    <tr>\n",
       "      <th>98</th>\n",
       "      <td>1</td>\n",
       "      <td>0</td>\n",
       "      <td>0</td>\n",
       "      <td>1</td>\n",
       "      <td>0</td>\n",
       "      <td>0</td>\n",
       "      <td>0</td>\n",
       "      <td>0</td>\n",
       "      <td>0</td>\n",
       "      <td>0</td>\n",
       "      <td>...</td>\n",
       "      <td>0</td>\n",
       "      <td>1</td>\n",
       "      <td>0</td>\n",
       "      <td>0</td>\n",
       "      <td>1</td>\n",
       "      <td>0</td>\n",
       "      <td>0</td>\n",
       "      <td>0</td>\n",
       "      <td>0</td>\n",
       "      <td>0</td>\n",
       "    </tr>\n",
       "  </tbody>\n",
       "</table>\n",
       "<p>99 rows × 377 columns</p>\n",
       "</div>"
      ],
      "text/plain": [
       "    一下  一些  一切  一半  一樣  一陣子  一點  一點點  上來  上班  ...  需要  露出  韓國  韓網  頭髮  顏色  願意  \\\n",
       "0    1   0   0   0   0    0   1    0   0   0  ...   1   0   0   0   0   0   0   \n",
       "1    0   0   0   0   0    0   0    0   0   0  ...   0   0   0   0   0   0   0   \n",
       "2    4   1   3   0   2    1   0    0   0   0  ...   0   0   0   0   0   0   1   \n",
       "3    0   0   0   0   1    0   0    0   0   0  ...   0   0   0   0   0   0   0   \n",
       "4    0   0   0   0   0    0   0    0   0   0  ...   0   0   0   0   0   0   0   \n",
       "..  ..  ..  ..  ..  ..  ...  ..  ...  ..  ..  ...  ..  ..  ..  ..  ..  ..  ..   \n",
       "94   0   0   0   0   1    0   0    0   0   0  ...   1   0   0   0   0   0   0   \n",
       "95   0   1   0   0   1    0   0    0   0   0  ...   0   0   0   0   0   0   0   \n",
       "96   0   0   0   0   0    0   0    0   0   0  ...   0   0   0   0   0   0   0   \n",
       "97   1   2   0   0   0    0   0    0   0   0  ...   2   0   0   0   0   0   4   \n",
       "98   1   0   0   1   0    0   0    0   0   0  ...   0   1   0   0   1   0   0   \n",
       "\n",
       "    類似  麻煩  黑色  \n",
       "0    0   0   0  \n",
       "1    0   0   0  \n",
       "2    0   0   0  \n",
       "3    0   0   0  \n",
       "4    0   0   0  \n",
       "..  ..  ..  ..  \n",
       "94   0   0   0  \n",
       "95   0   0   0  \n",
       "96   0   0   0  \n",
       "97   0   1   0  \n",
       "98   0   0   0  \n",
       "\n",
       "[99 rows x 377 columns]"
      ]
     },
     "execution_count": 22,
     "metadata": {},
     "output_type": "execute_result"
    }
   ],
   "source": [
    "# get all unique words in the corpus\n",
    "vocab = np.array(cv.get_feature_names())\n",
    "# show document feature vectors\n",
    "pd.DataFrame(cv_matrix, columns=vocab)"
   ]
  },
  {
   "cell_type": "markdown",
   "metadata": {
    "tags": [
     "remove-input",
     "remove-output"
    ]
   },
   "source": [
    "### Latent Dirichlet Allocation"
   ]
  },
  {
   "cell_type": "code",
   "execution_count": 23,
   "metadata": {
    "tags": [
     "remove-input",
     "remove-output"
    ]
   },
   "outputs": [],
   "source": [
    "num_of_topic = 4"
   ]
  },
  {
   "cell_type": "code",
   "execution_count": 24,
   "metadata": {
    "tags": [
     "remove-input",
     "remove-output"
    ]
   },
   "outputs": [
    {
     "name": "stdout",
     "output_type": "stream",
     "text": [
      "CPU times: user 9.25 s, sys: 815 ms, total: 10.1 s\n",
      "Wall time: 24.8 s\n"
     ]
    }
   ],
   "source": [
    "%%time\n",
    "from sklearn.decomposition import LatentDirichletAllocation\n",
    "\n",
    "\n",
    "lda = LatentDirichletAllocation(n_components=num_of_topic, max_iter=1000, random_state=0,\n",
    "                               max_doc_update_iter=50, learning_method='online',\n",
    "                               batch_size=50, learning_offset = 50, n_jobs = -1)\n",
    "dt_matrix = lda.fit_transform(cv_matrix) # document matrix"
   ]
  },
  {
   "cell_type": "code",
   "execution_count": 25,
   "metadata": {
    "tags": [
     "remove-input",
     "remove-output"
    ]
   },
   "outputs": [
    {
     "data": {
      "text/html": [
       "<div>\n",
       "<style scoped>\n",
       "    .dataframe tbody tr th:only-of-type {\n",
       "        vertical-align: middle;\n",
       "    }\n",
       "\n",
       "    .dataframe tbody tr th {\n",
       "        vertical-align: top;\n",
       "    }\n",
       "\n",
       "    .dataframe thead th {\n",
       "        text-align: right;\n",
       "    }\n",
       "</style>\n",
       "<table border=\"1\" class=\"dataframe\">\n",
       "  <thead>\n",
       "    <tr style=\"text-align: right;\">\n",
       "      <th></th>\n",
       "      <th>T1</th>\n",
       "      <th>T2</th>\n",
       "      <th>T3</th>\n",
       "      <th>T4</th>\n",
       "    </tr>\n",
       "  </thead>\n",
       "  <tbody>\n",
       "    <tr>\n",
       "      <th>0</th>\n",
       "      <td>0.087294</td>\n",
       "      <td>0.002218</td>\n",
       "      <td>0.908357</td>\n",
       "      <td>0.002131</td>\n",
       "    </tr>\n",
       "    <tr>\n",
       "      <th>1</th>\n",
       "      <td>0.005206</td>\n",
       "      <td>0.005343</td>\n",
       "      <td>0.005233</td>\n",
       "      <td>0.984218</td>\n",
       "    </tr>\n",
       "    <tr>\n",
       "      <th>2</th>\n",
       "      <td>0.000869</td>\n",
       "      <td>0.000862</td>\n",
       "      <td>0.997422</td>\n",
       "      <td>0.000847</td>\n",
       "    </tr>\n",
       "    <tr>\n",
       "      <th>3</th>\n",
       "      <td>0.038770</td>\n",
       "      <td>0.038391</td>\n",
       "      <td>0.887069</td>\n",
       "      <td>0.035770</td>\n",
       "    </tr>\n",
       "    <tr>\n",
       "      <th>4</th>\n",
       "      <td>0.062732</td>\n",
       "      <td>0.062526</td>\n",
       "      <td>0.812185</td>\n",
       "      <td>0.062556</td>\n",
       "    </tr>\n",
       "    <tr>\n",
       "      <th>...</th>\n",
       "      <td>...</td>\n",
       "      <td>...</td>\n",
       "      <td>...</td>\n",
       "      <td>...</td>\n",
       "    </tr>\n",
       "    <tr>\n",
       "      <th>94</th>\n",
       "      <td>0.006802</td>\n",
       "      <td>0.006168</td>\n",
       "      <td>0.980847</td>\n",
       "      <td>0.006183</td>\n",
       "    </tr>\n",
       "    <tr>\n",
       "      <th>95</th>\n",
       "      <td>0.783094</td>\n",
       "      <td>0.004929</td>\n",
       "      <td>0.207008</td>\n",
       "      <td>0.004969</td>\n",
       "    </tr>\n",
       "    <tr>\n",
       "      <th>96</th>\n",
       "      <td>0.051065</td>\n",
       "      <td>0.052222</td>\n",
       "      <td>0.846661</td>\n",
       "      <td>0.050052</td>\n",
       "    </tr>\n",
       "    <tr>\n",
       "      <th>97</th>\n",
       "      <td>0.001853</td>\n",
       "      <td>0.001833</td>\n",
       "      <td>0.994514</td>\n",
       "      <td>0.001800</td>\n",
       "    </tr>\n",
       "    <tr>\n",
       "      <th>98</th>\n",
       "      <td>0.003470</td>\n",
       "      <td>0.003395</td>\n",
       "      <td>0.989566</td>\n",
       "      <td>0.003569</td>\n",
       "    </tr>\n",
       "  </tbody>\n",
       "</table>\n",
       "<p>99 rows × 4 columns</p>\n",
       "</div>"
      ],
      "text/plain": [
       "          T1        T2        T3        T4\n",
       "0   0.087294  0.002218  0.908357  0.002131\n",
       "1   0.005206  0.005343  0.005233  0.984218\n",
       "2   0.000869  0.000862  0.997422  0.000847\n",
       "3   0.038770  0.038391  0.887069  0.035770\n",
       "4   0.062732  0.062526  0.812185  0.062556\n",
       "..       ...       ...       ...       ...\n",
       "94  0.006802  0.006168  0.980847  0.006183\n",
       "95  0.783094  0.004929  0.207008  0.004969\n",
       "96  0.051065  0.052222  0.846661  0.050052\n",
       "97  0.001853  0.001833  0.994514  0.001800\n",
       "98  0.003470  0.003395  0.989566  0.003569\n",
       "\n",
       "[99 rows x 4 columns]"
      ]
     },
     "execution_count": 25,
     "metadata": {},
     "output_type": "execute_result"
    }
   ],
   "source": [
    "features = pd.DataFrame(dt_matrix, columns = [\"T\"+str(n) for n in range(1,num_of_topic+1)])\n",
    "features"
   ]
  },
  {
   "cell_type": "markdown",
   "metadata": {
    "tags": [
     "remove-input",
     "remove-output"
    ]
   },
   "source": [
    "### Show topics and their weights"
   ]
  },
  {
   "cell_type": "code",
   "execution_count": 156,
   "metadata": {
    "tags": [
     "remove-input",
     "remove-output"
    ]
   },
   "outputs": [],
   "source": [
    "# tt_matrix = lda.components_ # topic matrix\n",
    "# for topic_weights in tt_matrix:\n",
    "#     topic = [(token, weight) for token, weight in zip(vocab, topic_weights)]\n",
    "#     topic = sorted(topic, key=lambda x: -x[1])\n",
    "#     topic = [item for item in topic if item[1] > 0.6]\n",
    "#     print(topic)\n",
    "#     print()\n"
   ]
  },
  {
   "cell_type": "code",
   "execution_count": 27,
   "metadata": {
    "tags": [
     "remove-input",
     "remove-output"
    ]
   },
   "outputs": [],
   "source": [
    "topic_terms = lda.components_\n",
    "top_terms = 20\n",
    "topic_keywords_idxs = np.argsort(-np.absolute(topic_terms), axis=1)[:,:top_terms]\n",
    "topic_keywords = vocab[topic_keywords_idxs]\n",
    "topics = [', '.join(w) for w in topic_keywords]\n",
    "pd.set_option('display.max_colwidth', None)\n",
    "topics_df = pd.DataFrame(topics,\n",
    "                        columns = ['Keywords per Topic'],\n",
    "                        index = [\"Topic\"+str(n) for n in range(1,num_of_topic+1)])"
   ]
  },
  {
   "cell_type": "code",
   "execution_count": 28,
   "metadata": {
    "scrolled": true,
    "tags": [
     "remove-input",
     "remove-output"
    ]
   },
   "outputs": [
    {
     "data": {
      "text/html": [
       "<div>\n",
       "<style scoped>\n",
       "    .dataframe tbody tr th:only-of-type {\n",
       "        vertical-align: middle;\n",
       "    }\n",
       "\n",
       "    .dataframe tbody tr th {\n",
       "        vertical-align: top;\n",
       "    }\n",
       "\n",
       "    .dataframe thead th {\n",
       "        text-align: right;\n",
       "    }\n",
       "</style>\n",
       "<table border=\"1\" class=\"dataframe\">\n",
       "  <thead>\n",
       "    <tr style=\"text-align: right;\">\n",
       "      <th></th>\n",
       "      <th>Keywords per Topic</th>\n",
       "    </tr>\n",
       "  </thead>\n",
       "  <tbody>\n",
       "    <tr>\n",
       "      <th>Topic1</th>\n",
       "      <td>分享, 顏色, 部分, 穿搭, 覺得, 衣服, 包包, 喜歡, 感覺, 一下, 洋裝, 這樣, 直接, 唇膏, 之前, 什麼, 味道, 整體, 搭配, 購入</td>\n",
       "    </tr>\n",
       "    <tr>\n",
       "      <th>Topic2</th>\n",
       "      <td>姊姊, 成員, 現在, 舞台, 這樣, 粉絲, 看到, 希望, 想要, 昨天, 公司, 其他, 文章, 翻譯, 孩子, 謝謝, 最近, 溫暖, 最後, 繼續</td>\n",
       "    </tr>\n",
       "    <tr>\n",
       "      <th>Topic3</th>\n",
       "      <td>覺得, 時候, 開始, 什麼, 知道, 看到, 現在, 朋友, 男友, 發現, 工作, 這樣, 時間, 喜歡, 感情, 後來, 很多, 之後, 電話, 關係</td>\n",
       "    </tr>\n",
       "    <tr>\n",
       "      <th>Topic4</th>\n",
       "      <td>大學, 粉底, 男生, 公司, 牛奶, 教學, 貼文, 台灣, 附上, 看到, 歡迎, 考試, 問題, 分享, 以上, 變成, 發文, 文章, 經驗, 經歷</td>\n",
       "    </tr>\n",
       "  </tbody>\n",
       "</table>\n",
       "</div>"
      ],
      "text/plain": [
       "                                                                    Keywords per Topic\n",
       "Topic1  分享, 顏色, 部分, 穿搭, 覺得, 衣服, 包包, 喜歡, 感覺, 一下, 洋裝, 這樣, 直接, 唇膏, 之前, 什麼, 味道, 整體, 搭配, 購入\n",
       "Topic2  姊姊, 成員, 現在, 舞台, 這樣, 粉絲, 看到, 希望, 想要, 昨天, 公司, 其他, 文章, 翻譯, 孩子, 謝謝, 最近, 溫暖, 最後, 繼續\n",
       "Topic3  覺得, 時候, 開始, 什麼, 知道, 看到, 現在, 朋友, 男友, 發現, 工作, 這樣, 時間, 喜歡, 感情, 後來, 很多, 之後, 電話, 關係\n",
       "Topic4  大學, 粉底, 男生, 公司, 牛奶, 教學, 貼文, 台灣, 附上, 看到, 歡迎, 考試, 問題, 分享, 以上, 變成, 發文, 文章, 經驗, 經歷"
      ]
     },
     "execution_count": 28,
     "metadata": {},
     "output_type": "execute_result"
    }
   ],
   "source": [
    "topics_df"
   ]
  },
  {
   "cell_type": "code",
   "execution_count": 29,
   "metadata": {
    "tags": [
     "remove-input",
     "remove-output"
    ]
   },
   "outputs": [],
   "source": [
    "pd.options.display.float_format = '{:,.5f}'.format\n",
    "pd.set_option('display.max_colwidth', 200)\n",
    "\n",
    "\n",
    "dt_df = pd.DataFrame(dt_matrix,\n",
    "                    columns=[\"Topic\"+str(n) for n in range(1,num_of_topic+1)])\n",
    "\n",
    "max_contrib_topics = dt_df.max(axis=0)\n",
    "dominant_topics = max_contrib_topics.index\n",
    "contrib_perc = max_contrib_topics.values\n",
    "document_numbers = [dt_df[dt_df[t]==max_contrib_topics.loc[t]].index[0]\n",
    "                    for t in dominant_topics]\n",
    "documents = [norm_corpus[i] for i in document_numbers]\n",
    "\n",
    "documents_df = pd.DataFrame({'Dominant Topic': dominant_topics,\n",
    "                            'Contribution%': contrib_perc,\n",
    "                            'DOCID': document_numbers,\n",
    "                            'Topic': topics_df['Keywords per Topic'],\n",
    "                            'Text': documents})"
   ]
  },
  {
   "cell_type": "code",
   "execution_count": 30,
   "metadata": {
    "tags": [
     "remove-input",
     "remove-output"
    ]
   },
   "outputs": [
    {
     "data": {
      "text/html": [
       "<div>\n",
       "<style scoped>\n",
       "    .dataframe tbody tr th:only-of-type {\n",
       "        vertical-align: middle;\n",
       "    }\n",
       "\n",
       "    .dataframe tbody tr th {\n",
       "        vertical-align: top;\n",
       "    }\n",
       "\n",
       "    .dataframe thead th {\n",
       "        text-align: right;\n",
       "    }\n",
       "</style>\n",
       "<table border=\"1\" class=\"dataframe\">\n",
       "  <thead>\n",
       "    <tr style=\"text-align: right;\">\n",
       "      <th></th>\n",
       "      <th>Dominant Topic</th>\n",
       "      <th>Contribution%</th>\n",
       "      <th>DOCID</th>\n",
       "      <th>Topic</th>\n",
       "      <th>Text</th>\n",
       "    </tr>\n",
       "  </thead>\n",
       "  <tbody>\n",
       "    <tr>\n",
       "      <th>Topic1</th>\n",
       "      <td>Topic1</td>\n",
       "      <td>0.99369</td>\n",
       "      <td>71</td>\n",
       "      <td>分享, 顏色, 部分, 穿搭, 覺得, 衣服, 包包, 喜歡, 感覺, 一下, 洋裝, 這樣, 直接, 唇膏, 之前, 什麼, 味道, 整體, 搭配, 購入</td>\n",
       "      <td>阿囉 好 分享 近期 穿搭 話說 週 有 乖乖 上課 直接 寒假 放 好 開始 進入 主題 以下 近期 穿搭 有 任何 問題 建議 歡迎 底下 留言 告訴 謝謝 套 套 走 大地 色系 路線 洋裝 上面 搭配 腰帶 修身 比例 好 帽子 包包 選用 奶茶色 提高 整體 色彩 一致性 底部 配 咖啡色 馬丁鞋 完成 這 段 買 套 洋裝 小 故事 直接 跳過 沒關係 話 好多 想 分享 這 ...</td>\n",
       "    </tr>\n",
       "    <tr>\n",
       "      <th>Topic2</th>\n",
       "      <td>Topic2</td>\n",
       "      <td>0.98996</td>\n",
       "      <td>32</td>\n",
       "      <td>姊姊, 成員, 現在, 舞台, 這樣, 粉絲, 看到, 希望, 想要, 昨天, 公司, 其他, 文章, 翻譯, 孩子, 謝謝, 最近, 溫暖, 最後, 繼續</td>\n",
       "      <td>好 前 成員 李玹珠 弟弟 年 前 想 說出 事實 姊姊 未來 著想 忍 這樣 現在 覺得 鼓起 勇氣 寫 這 篇 文章 之前 姊姊 說 想要 演戲 退出 這 事實 妹姊 團隊 裡 受到 大 折磨 有 霸凌 這 件 事 得到 恐慌 障礙 呼吸 困難 等 過 辛苦 結果 姊姊 試圖 自殺 想到 那 時候 現在 父母 覺得 心 撕碎 一様 這樣 退隊 姊姊 寄 信 公司 說 演戲 退出 讓 姊...</td>\n",
       "    </tr>\n",
       "    <tr>\n",
       "      <th>Topic3</th>\n",
       "      <td>Topic3</td>\n",
       "      <td>0.99831</td>\n",
       "      <td>39</td>\n",
       "      <td>覺得, 時候, 開始, 什麼, 知道, 看到, 現在, 朋友, 男友, 發現, 工作, 這樣, 時間, 喜歡, 感情, 後來, 很多, 之後, 電話, 關係</td>\n",
       "      <td>好 今天 想要 分享 個 故事 次 這裡 發文 有 違反 版 內 規則 刪除 謝謝 單身 年 前 段 戀情 遇上 個 情緒 勒索 男子 感情 恐懼 解脫 時候 放 鞭炮 心情 慶祝 這時 決定 當 新 時代 獨立 女性 讓 活 漂亮 讓 生活 過 精彩 飛往 距離 台灣 多 公里 遠 地方 工作 國外 生活 新鮮 挑戰 有 待 國外 遊子 們 人 國外 打拼 時候 所有 情緒 加倍 放大 ...</td>\n",
       "    </tr>\n",
       "    <tr>\n",
       "      <th>Topic4</th>\n",
       "      <td>Topic4</td>\n",
       "      <td>0.98422</td>\n",
       "      <td>1</td>\n",
       "      <td>大學, 粉底, 男生, 公司, 牛奶, 教學, 貼文, 台灣, 附上, 看到, 歡迎, 考試, 問題, 分享, 以上, 變成, 發文, 文章, 經驗, 經歷</td>\n",
       "      <td>身高 公分 男 大生 楊承翰 家教 社團 學生 文章 網友 推爆 網友 們 看到 學經歷 成績 大讚 學霸王 擁有 高顏質 籃球 系隊 成員 超乎 常人 學經歷 證書 考試 成績 瞬間 讓 網友 跪 朝聖 呼 天 厲害 帥哥 這 個 當 家教 可惜 歲 台大 學生 楊承翰 日前 臉書 社團 家教 補教 學校 兼 全職 打工 師訓 交流 發文 想 時薪 元 找 家教 學生 授課 內容 為 英...</td>\n",
       "    </tr>\n",
       "  </tbody>\n",
       "</table>\n",
       "</div>"
      ],
      "text/plain": [
       "       Dominant Topic  Contribution%  DOCID  \\\n",
       "Topic1         Topic1        0.99369     71   \n",
       "Topic2         Topic2        0.98996     32   \n",
       "Topic3         Topic3        0.99831     39   \n",
       "Topic4         Topic4        0.98422      1   \n",
       "\n",
       "                                                                                 Topic  \\\n",
       "Topic1  分享, 顏色, 部分, 穿搭, 覺得, 衣服, 包包, 喜歡, 感覺, 一下, 洋裝, 這樣, 直接, 唇膏, 之前, 什麼, 味道, 整體, 搭配, 購入   \n",
       "Topic2  姊姊, 成員, 現在, 舞台, 這樣, 粉絲, 看到, 希望, 想要, 昨天, 公司, 其他, 文章, 翻譯, 孩子, 謝謝, 最近, 溫暖, 最後, 繼續   \n",
       "Topic3  覺得, 時候, 開始, 什麼, 知道, 看到, 現在, 朋友, 男友, 發現, 工作, 這樣, 時間, 喜歡, 感情, 後來, 很多, 之後, 電話, 關係   \n",
       "Topic4  大學, 粉底, 男生, 公司, 牛奶, 教學, 貼文, 台灣, 附上, 看到, 歡迎, 考試, 問題, 分享, 以上, 變成, 發文, 文章, 經驗, 經歷   \n",
       "\n",
       "                                                                                                                                                                                                           Text  \n",
       "Topic1  阿囉 好 分享 近期 穿搭 話說 週 有 乖乖 上課 直接 寒假 放 好 開始 進入 主題 以下 近期 穿搭 有 任何 問題 建議 歡迎 底下 留言 告訴 謝謝 套 套 走 大地 色系 路線 洋裝 上面 搭配 腰帶 修身 比例 好 帽子 包包 選用 奶茶色 提高 整體 色彩 一致性 底部 配 咖啡色 馬丁鞋 完成 這 段 買 套 洋裝 小 故事 直接 跳過 沒關係 話 好多 想 分享 這 ...  \n",
       "Topic2  好 前 成員 李玹珠 弟弟 年 前 想 說出 事實 姊姊 未來 著想 忍 這樣 現在 覺得 鼓起 勇氣 寫 這 篇 文章 之前 姊姊 說 想要 演戲 退出 這 事實 妹姊 團隊 裡 受到 大 折磨 有 霸凌 這 件 事 得到 恐慌 障礙 呼吸 困難 等 過 辛苦 結果 姊姊 試圖 自殺 想到 那 時候 現在 父母 覺得 心 撕碎 一様 這樣 退隊 姊姊 寄 信 公司 說 演戲 退出 讓 姊...  \n",
       "Topic3  好 今天 想要 分享 個 故事 次 這裡 發文 有 違反 版 內 規則 刪除 謝謝 單身 年 前 段 戀情 遇上 個 情緒 勒索 男子 感情 恐懼 解脫 時候 放 鞭炮 心情 慶祝 這時 決定 當 新 時代 獨立 女性 讓 活 漂亮 讓 生活 過 精彩 飛往 距離 台灣 多 公里 遠 地方 工作 國外 生活 新鮮 挑戰 有 待 國外 遊子 們 人 國外 打拼 時候 所有 情緒 加倍 放大 ...  \n",
       "Topic4  身高 公分 男 大生 楊承翰 家教 社團 學生 文章 網友 推爆 網友 們 看到 學經歷 成績 大讚 學霸王 擁有 高顏質 籃球 系隊 成員 超乎 常人 學經歷 證書 考試 成績 瞬間 讓 網友 跪 朝聖 呼 天 厲害 帥哥 這 個 當 家教 可惜 歲 台大 學生 楊承翰 日前 臉書 社團 家教 補教 學校 兼 全職 打工 師訓 交流 發文 想 時薪 元 找 家教 學生 授課 內容 為 英...  "
      ]
     },
     "execution_count": 30,
     "metadata": {},
     "output_type": "execute_result"
    }
   ],
   "source": [
    "documents_df"
   ]
  },
  {
   "cell_type": "code",
   "execution_count": 31,
   "metadata": {
    "tags": [
     "remove-input",
     "remove-output"
    ]
   },
   "outputs": [
    {
     "data": {
      "text/html": [
       "\n",
       "<link rel=\"stylesheet\" type=\"text/css\" href=\"https://cdn.jsdelivr.net/gh/bmabey/pyLDAvis@3.2.2/pyLDAvis/js/ldavis.v1.0.0.css\">\n",
       "\n",
       "\n",
       "<div id=\"ldavis_el713140360077627584319258101\"></div>\n",
       "<script type=\"text/javascript\">\n",
       "\n",
       "var ldavis_el713140360077627584319258101_data = {\"mdsDat\": {\"x\": [-0.10051200602312073, -0.0875681297127278, 0.08872797600779134, 0.0993521597280572], \"y\": [-0.08348311838830844, 0.1547705886345021, -0.1271505645954319, 0.055863094349238224], \"topics\": [1, 2, 3, 4], \"cluster\": [1, 1, 1, 1], \"Freq\": [67.53480625245196, 20.935922859038524, 8.541983870035287, 2.9872870184742246]}, \"tinfo\": {\"Term\": [\"\\u73fe\\u5728\", \"\\u516c\\u53f8\", \"\\u770b\\u5230\", \"\\u53f0\\u7063\", \"\\u59ca\\u59ca\", \"\\u9019\\u6a23\", \"\\u5206\\u4eab\", \"\\u5e0c\\u671b\", \"\\u60f3\\u8981\", \"\\u5927\\u5b78\", \"\\u984f\\u8272\", \"\\u7537\\u751f\", \"\\u6210\\u54e1\", \"\\u7a7f\\u642d\", \"\\u90e8\\u5206\", \"\\u9644\\u4e0a\", \"\\u554f\\u984c\", \"\\u8b8a\\u6210\", \"\\u5305\\u5305\", \"\\u5176\\u4ed6\", \"\\u821e\\u53f0\", \"\\u77e5\\u9053\", \"\\u8863\\u670d\", \"\\u611f\\u89ba\", \"\\u8b1d\\u8b1d\", \"\\u6628\\u5929\", \"\\u767c\\u6587\", \"\\u6587\\u7ae0\", \"\\u4ee5\\u4e0a\", \"\\u7d93\\u9a57\", \"\\u611f\\u60c5\", \"\\u96fb\\u8a71\", \"\\u95dc\\u4fc2\", \"\\u6240\\u6709\", \"\\u5206\\u624b\", \"\\u7537\\u53cb\", \"\\u898b\\u9762\", \"\\u5728\\u4e00\\u8d77\", \"\\u6c7a\\u5b9a\", \"\\u5de5\\u4f5c\", \"\\u8a8d\\u8b58\", \"\\u51fa\\u53bb\", \"\\u751f\\u65e5\", \"\\u5c0f\\u5b69\", \"\\u8a0a\\u606f\", \"\\u751f\\u6d3b\", \"\\u7576\\u5929\", \"\\u804a\\u5929\", \"\\u958b\\u5fc3\", \"\\u8ddd\\u96e2\", \"\\u623f\\u9593\", \"\\u614b\\u5ea6\", \"\\u540c\\u4e8b\", \"\\u9858\\u610f\", \"\\u9019\\u908a\", \"\\u55ae\\u8eab\", \"\\u4e00\\u5207\", \"\\u9694\\u5929\", \"\\u9019\\u88e1\", \"\\u767c\\u751f\", \"\\u767c\\u73fe\", \"\\u5973\\u751f\", \"\\u958b\\u59cb\", \"\\u5f8c\\u4f86\", \"\\u6545\\u4e8b\", \"\\u6642\\u5019\", \"\\u77e5\\u9053\", \"\\u4ec0\\u9ebc\", \"\\u53f0\\u7063\", \"\\u4e8b\\u60c5\", \"\\u6642\\u9593\", \"\\u5f71\\u7247\", \"\\u670b\\u53cb\", \"\\u770b\\u5230\", \"\\u89ba\\u5f97\", \"\\u73fe\\u5728\", \"\\u665a\\u4e0a\", \"\\u7576\\u6642\", \"\\u4e4b\\u5f8c\", \"\\u5f88\\u591a\", \"\\u6c92\\u6709\", \"\\u4e00\\u6a23\", \"\\u9019\\u6a23\", \"\\u559c\\u6b61\", \"\\u60f3\\u8981\", \"\\u611f\\u89ba\", \"\\u984f\\u8272\", \"\\u7a7f\\u642d\", \"\\u5305\\u5305\", \"\\u6d0b\\u88dd\", \"\\u5507\\u818f\", \"\\u8cfc\\u5165\", \"\\u9ed1\\u8272\", \"\\u80cc\\u5fc3\", \"\\u599d\\u5bb9\", \"\\u8863\\u670d\", \"\\u4e0a\\u8863\", \"\\u8cea\\u5730\", \"\\u5fd8\\u8a18\", \"\\u71d2\\u5230\", \"\\u597d\\u5947\", \"\\u6574\\u9ad4\", \"\\u65b0\\u6b61\", \"\\u6ed1\\u9806\", \"\\u4e56\\u4e56\", \"\\u642d\\u914d\", \"\\u5473\\u9053\", \"\\u8fd1\\u671f\", \"\\u5305\\u88dd\", \"\\u896f\\u886b\", \"\\u5916\\u5957\", \"\\u982d\\u9aee\", \"\\u4e7e\\u6de8\", \"\\u5496\\u5561\", \"\\u597d\\u770b\", \"\\u6eab\\u67d4\", \"\\u5206\\u4eab\", \"\\u90e8\\u5206\", \"\\u76f4\\u63a5\", \"\\u611f\\u89ba\", \"\\u4e00\\u4e0b\", \"\\u4e4b\\u524d\", \"\\u559c\\u6b61\", \"\\u89ba\\u5f97\", \"\\u9019\\u6a23\", \"\\u4eca\\u5929\", \"\\u88e1\\u9762\", \"\\u8b1d\\u8b1d\", \"\\u4ec0\\u9ebc\", \"\\u7279\\u5225\", \"\\u4e00\\u6a23\", \"\\u6c92\\u6709\", \"\\u7c89\\u7d72\", \"\\u6210\\u54e1\", \"\\u821e\\u53f0\", \"\\u59ca\\u59ca\", \"\\u5b69\\u5b50\", \"\\u7ffb\\u8b6f\", \"\\u6eab\\u6696\", \"\\u8f9b\\u82e6\", \"\\u6628\\u5929\", \"\\u51fa\\u9053\", \"\\u5225\\u7684\", \"\\u5e6b\\u5fd9\", \"\\u5f62\\u8c61\", \"\\u6587\\u7ae0\", \"\\u767d\\u8272\", \"\\u6700\\u8fd1\", \"\\u53d7\\u5230\", \"\\u5f97\\u5230\", \"\\u7e7c\\u7e8c\", \"\\u64d4\\u5fc3\", \"\\u597d\\u7b11\", \"\\u5404\\u4f4d\", \"\\u6d3b\\u52d5\", \"\\u5716\\u7247\", \"\\u767c\\u6587\", \"\\u9023\\u7d50\", \"\\u7167\\u9867\", \"\\u6b61\\u8fce\", \"\\u60f3\\u5230\", \"\\u6a23\\u5b50\", \"\\u516c\\u53f8\", \"\\u5e0c\\u671b\", \"\\u5176\\u4ed6\", \"\\u60f3\\u8981\", \"\\u73fe\\u5728\", \"\\u9644\\u4e0a\", \"\\u9019\\u6a23\", \"\\u8b1d\\u8b1d\", \"\\u770b\\u5230\", \"\\u6700\\u5f8c\", \"\\u89ba\\u5f97\", \"\\u670b\\u53cb\", \"\\u559c\\u6b61\", \"\\u6642\\u5019\", \"\\u4e4b\\u524d\", \"\\u5927\\u5b78\", \"\\u725b\\u5976\", \"\\u7c89\\u5e95\", \"\\u6559\\u5b78\", \"\\u8cbc\\u6587\", \"\\u7537\\u751f\", \"\\u8003\\u8a66\", \"\\u600e\\u9ebc\\u6a23\", \"\\u53c3\\u8003\", \"\\u6b61\\u8fce\", \"\\u66f4\\u591a\", \"\\u9577\\u5927\", \"\\u7d44\\u5408\", \"\\u53b2\\u5bb3\", \"\\u7d93\\u6b77\", \"\\u53f0\\u5317\", \"\\u4e0a\\u73ed\", \"\\u5c0f\\u6642\", \"\\u5716\\u7247\", \"\\u53d7\\u5230\", \"\\u80cc\\u666f\", \"\\u77ac\\u9593\", \"\\u62dc\\u8a17\", \"\\u7562\\u696d\", \"\\u7d93\\u9a57\", \"\\u5496\\u5561\", \"\\u5e6b\\u5fd9\", \"\\u600e\\u6a23\", \"\\u5bb9\\u6613\", \"\\u516c\\u53f8\", \"\\u8b8a\\u6210\", \"\\u9644\\u4e0a\", \"\\u6587\\u7ae0\", \"\\u767c\\u6587\", \"\\u53f0\\u7063\", \"\\u6210\\u54e1\", \"\\u4ee5\\u4e0a\", \"\\u6d3b\\u52d5\", \"\\u554f\\u984c\", \"\\u5206\\u4eab\", \"\\u770b\\u5230\", \"\\u77e5\\u9053\", \"\\u4e00\\u4e9b\"], \"Freq\": [59.0, 26.0, 63.0, 24.0, 17.0, 59.0, 36.0, 32.0, 33.0, 9.0, 21.0, 11.0, 13.0, 20.0, 33.0, 18.0, 27.0, 12.0, 18.0, 26.0, 11.0, 66.0, 19.0, 37.0, 25.0, 11.0, 13.0, 13.0, 14.0, 9.0, 32.21124241840093, 27.861034045412914, 27.344283408322706, 20.278466715803148, 18.337515375346392, 39.53148321895192, 16.508693982387065, 16.481818879764962, 15.480056318399376, 37.54945588205898, 14.706185270075586, 14.601468974765883, 14.554304039162448, 13.75615198083203, 14.681538148805787, 13.684055006501797, 13.58732521450859, 12.757272222218552, 12.80248270276874, 12.661932093139576, 12.715337656683669, 12.573108507937649, 11.661811620363025, 11.789941154637027, 11.71434270804856, 10.827409723316876, 10.732400186941147, 10.708087349447377, 10.78251036943299, 9.812068815508125, 39.045181743779125, 23.892181583959843, 60.17864127632978, 30.06387034890953, 23.934317292903568, 60.561789000580184, 55.94270831229715, 57.86577119000273, 22.096024044860357, 22.79946725292021, 32.883869832605455, 19.55505946630917, 42.488426105594755, 48.67672643688775, 63.46496560347064, 45.245953297719, 17.21947449775173, 23.41242187154778, 28.40928386156954, 28.90915872678564, 26.19945821339032, 26.380445165134756, 35.426096463467466, 32.56487204771637, 23.929940627333007, 21.129526010934388, 21.234912170515194, 19.475983177901558, 17.690916183130625, 14.028664738381144, 13.128188930054952, 10.38093796339738, 10.33633108237021, 10.222277539210175, 9.298450394741828, 18.40225822412502, 7.47562634880283, 6.6205930063273115, 5.690594389469976, 4.7725570310178425, 4.739868758193827, 11.09407049190184, 3.8971422801058213, 3.871812940518277, 3.847058583821897, 10.89059700058348, 11.170460850078136, 7.537183175959655, 6.604891513345176, 7.295464003760025, 5.72290617516953, 6.488501720164824, 6.417664607332846, 4.738303038136912, 9.146334635085205, 5.589787453414227, 23.827884623652007, 19.750310195851817, 13.417056428813316, 15.072434455928892, 14.200033626627066, 13.089250112310008, 16.577802866170025, 18.680735501772666, 14.005394711862564, 9.77170455943482, 7.706849988096508, 8.830301452791037, 11.196378876272139, 7.7787759428128505, 7.808994374448446, 7.606564254146468, 8.70507919139275, 12.024384115128836, 9.504303331631675, 14.646701541264518, 5.265719815314723, 5.710137177503549, 4.879808628463654, 4.413583337296659, 6.937601572691462, 3.097544337463962, 3.338095319828805, 2.6466343606099154, 2.285077621331379, 5.727127640321872, 3.949403583814781, 5.069300028930492, 1.901732237297376, 1.647267032134115, 4.840565053275941, 1.904864346935828, 1.5765980097045058, 2.7604293752613067, 3.451288915755515, 1.590632303439962, 4.291768038287888, 2.531664705303146, 1.8282761538139565, 2.15901672211157, 2.5478448743033817, 3.169310665409646, 6.348912356068076, 7.670976698981907, 6.189726850111397, 7.139836833231415, 10.794577350556503, 4.295264754652876, 8.90810618115411, 5.096134552523759, 7.90287473142043, 4.860934422802226, 4.544827023401811, 4.0908326232228, 4.047928617335942, 3.6497930293910255, 3.492534726548412, 6.557416544736597, 3.3506808298458393, 3.439832744192105, 2.731375772196777, 2.1076012677138527, 3.3832831414882123, 1.4612387245066318, 1.412234584660887, 1.1875700759786643, 1.4707611627626767, 1.1584487065144864, 0.8133718747678673, 0.8168739901932643, 0.8021143569933341, 1.440186874623835, 0.801058480054012, 0.8004667613700257, 1.4394458673656507, 0.8199436510677941, 0.7998899869497779, 0.8034158002121368, 0.8016556777280223, 0.8022501642377677, 0.8022101664152571, 1.4411337100105746, 0.8156126897092469, 0.7996442541057656, 0.8085747845568309, 0.819724595522862, 3.364809111892437, 1.4437607130345433, 1.860295678649534, 1.4414969654202534, 1.4423574729657491, 2.075850316781199, 1.433775604305635, 1.4452325049867714, 1.0571494368989365, 1.4570787492990995, 1.4534007904754835, 1.4856025504395785, 1.2842798798764088, 0.8578339008206336], \"Total\": [59.0, 26.0, 63.0, 24.0, 17.0, 59.0, 36.0, 32.0, 33.0, 9.0, 21.0, 11.0, 13.0, 20.0, 33.0, 18.0, 27.0, 12.0, 18.0, 26.0, 11.0, 66.0, 19.0, 37.0, 25.0, 11.0, 13.0, 13.0, 14.0, 9.0, 32.816843561866364, 28.463855839172506, 27.947111787759017, 20.887985700354065, 18.94033401237232, 40.972388705692396, 17.112541249599616, 17.11046710671915, 16.089722400693685, 39.08440470478288, 15.309014988279095, 15.211995027130506, 15.186122749122998, 14.359049684659288, 15.327618537613617, 14.286873104528532, 14.190550099539346, 13.3609440956443, 13.40869070320553, 13.264732433766916, 13.33592267199905, 13.191001581568125, 12.266536084083343, 12.40899633910338, 12.336539972925426, 11.436678498556514, 11.340477319837849, 11.316392805886865, 11.409873264953191, 10.414889446010132, 41.832751775688244, 25.692216248775434, 67.55975312398641, 33.26288777845569, 26.378420981984164, 70.95634768383533, 66.80477893226971, 70.10962105720304, 24.626495978520232, 25.51209323492668, 38.70234696602277, 21.68878811575704, 52.807768609497614, 63.15498222835585, 86.8537573358271, 59.63179243178508, 18.881864361838872, 28.21505347390516, 36.64617463845884, 37.538639901882526, 34.18802590517011, 35.97279646255288, 59.142994448884664, 53.35206484834388, 33.466822061874645, 37.217101495896166, 21.867852984293236, 20.091485035697545, 18.313843479981458, 14.644122027388297, 13.743837600687984, 10.997385876168916, 10.95171455525822, 10.837668323974965, 9.914611223404417, 19.852813378696812, 8.091188396567295, 7.236535552082643, 6.313491402293734, 5.390435614338907, 5.368153442749702, 12.784291000655855, 4.512843221246639, 4.490169637583108, 4.467466897505576, 12.744223182861807, 13.302570026081728, 9.158018113163056, 8.211399646206326, 9.123264644462964, 7.20129424554772, 8.169673249554059, 8.14952217780312, 6.021705997926132, 11.94265439701808, 7.317442044102821, 36.9681774009171, 33.34795532761776, 30.85026330000149, 37.217101495896166, 37.811507606501664, 34.3269019603796, 53.35206484834388, 86.8537573358271, 59.142994448884664, 31.153298489677216, 14.608799246715192, 25.303646188457847, 70.10962105720304, 22.511694627798455, 35.97279646255288, 34.18802590517011, 9.342395609951408, 13.927233665127515, 11.09319704139995, 17.163223614767706, 6.926868299276732, 7.84475431142123, 6.95145872817029, 6.962020820702553, 11.585149808005674, 5.276423503810256, 6.158503304670391, 5.971008131815201, 5.379454740830233, 13.649811455590022, 9.777749599278138, 13.454310205962491, 5.066886290894771, 4.510056373989942, 13.678305305004743, 5.399088190497241, 4.494831378358688, 8.068408209996237, 10.36501012550789, 5.144482507309571, 13.96988888822542, 8.246273141485196, 6.333386850619502, 7.5118538137214275, 8.880286315338488, 11.063235778556209, 26.09504380444533, 32.893763477025985, 26.777272279329978, 33.466822061874645, 59.63179243178508, 18.35898807224348, 59.142994448884664, 25.303646188457847, 63.15498222835585, 32.37869589125602, 86.8537573358271, 52.807768609497614, 53.35206484834388, 70.95634768383533, 34.3269019603796, 9.156554600853436, 4.895972947022793, 6.83149663044117, 6.108942484165578, 5.6350419428217045, 11.571817939742967, 5.004160231083767, 4.870273868120954, 5.079568620278257, 7.5118538137214275, 5.958156335905823, 4.201031851138189, 4.293462433671004, 4.247602962998517, 7.7338713136441, 4.329579642603773, 4.35393699077062, 8.765930916177743, 5.144482507309571, 5.066886290894771, 5.1750705483299235, 5.229536450469474, 5.243300131766453, 5.346456947692592, 9.811880279449124, 6.021705997926132, 5.971008131815201, 6.157864678747781, 6.311962093398278, 26.09504380444533, 12.730078273086233, 18.35898807224348, 13.649811455590022, 13.96988888822542, 24.626495978520232, 13.927233665127515, 14.335047955068163, 10.36501012550789, 27.753049978577913, 36.9681774009171, 63.15498222835585, 66.80477893226971, 21.379491858221073], \"Category\": [\"Default\", \"Default\", \"Default\", \"Default\", \"Default\", \"Default\", \"Default\", \"Default\", \"Default\", \"Default\", \"Default\", \"Default\", \"Default\", \"Default\", \"Default\", \"Default\", \"Default\", \"Default\", \"Default\", \"Default\", \"Default\", \"Default\", \"Default\", \"Default\", \"Default\", \"Default\", \"Default\", \"Default\", \"Default\", \"Default\", \"Topic1\", \"Topic1\", \"Topic1\", \"Topic1\", \"Topic1\", \"Topic1\", \"Topic1\", \"Topic1\", \"Topic1\", \"Topic1\", \"Topic1\", \"Topic1\", \"Topic1\", \"Topic1\", \"Topic1\", \"Topic1\", \"Topic1\", \"Topic1\", \"Topic1\", \"Topic1\", \"Topic1\", \"Topic1\", \"Topic1\", \"Topic1\", \"Topic1\", \"Topic1\", \"Topic1\", \"Topic1\", \"Topic1\", \"Topic1\", \"Topic1\", \"Topic1\", \"Topic1\", \"Topic1\", \"Topic1\", \"Topic1\", \"Topic1\", \"Topic1\", \"Topic1\", \"Topic1\", \"Topic1\", \"Topic1\", \"Topic1\", \"Topic1\", \"Topic1\", \"Topic1\", \"Topic1\", \"Topic1\", \"Topic1\", \"Topic1\", \"Topic1\", \"Topic1\", \"Topic1\", \"Topic1\", \"Topic1\", \"Topic1\", \"Topic2\", \"Topic2\", \"Topic2\", \"Topic2\", \"Topic2\", \"Topic2\", \"Topic2\", \"Topic2\", \"Topic2\", \"Topic2\", \"Topic2\", \"Topic2\", \"Topic2\", \"Topic2\", \"Topic2\", \"Topic2\", \"Topic2\", \"Topic2\", \"Topic2\", \"Topic2\", \"Topic2\", \"Topic2\", \"Topic2\", \"Topic2\", \"Topic2\", \"Topic2\", \"Topic2\", \"Topic2\", \"Topic2\", \"Topic2\", \"Topic2\", \"Topic2\", \"Topic2\", \"Topic2\", \"Topic2\", \"Topic2\", \"Topic2\", \"Topic2\", \"Topic2\", \"Topic2\", \"Topic2\", \"Topic2\", \"Topic2\", \"Topic2\", \"Topic2\", \"Topic2\", \"Topic3\", \"Topic3\", \"Topic3\", \"Topic3\", \"Topic3\", \"Topic3\", \"Topic3\", \"Topic3\", \"Topic3\", \"Topic3\", \"Topic3\", \"Topic3\", \"Topic3\", \"Topic3\", \"Topic3\", \"Topic3\", \"Topic3\", \"Topic3\", \"Topic3\", \"Topic3\", \"Topic3\", \"Topic3\", \"Topic3\", \"Topic3\", \"Topic3\", \"Topic3\", \"Topic3\", \"Topic3\", \"Topic3\", \"Topic3\", \"Topic3\", \"Topic3\", \"Topic3\", \"Topic3\", \"Topic3\", \"Topic3\", \"Topic3\", \"Topic3\", \"Topic3\", \"Topic3\", \"Topic3\", \"Topic3\", \"Topic3\", \"Topic3\", \"Topic3\", \"Topic4\", \"Topic4\", \"Topic4\", \"Topic4\", \"Topic4\", \"Topic4\", \"Topic4\", \"Topic4\", \"Topic4\", \"Topic4\", \"Topic4\", \"Topic4\", \"Topic4\", \"Topic4\", \"Topic4\", \"Topic4\", \"Topic4\", \"Topic4\", \"Topic4\", \"Topic4\", \"Topic4\", \"Topic4\", \"Topic4\", \"Topic4\", \"Topic4\", \"Topic4\", \"Topic4\", \"Topic4\", \"Topic4\", \"Topic4\", \"Topic4\", \"Topic4\", \"Topic4\", \"Topic4\", \"Topic4\", \"Topic4\", \"Topic4\", \"Topic4\", \"Topic4\", \"Topic4\", \"Topic4\", \"Topic4\", \"Topic4\"], \"logprob\": [30.0, 29.0, 28.0, 27.0, 26.0, 25.0, 24.0, 23.0, 22.0, 21.0, 20.0, 19.0, 18.0, 17.0, 16.0, 15.0, 14.0, 13.0, 12.0, 11.0, 10.0, 9.0, 8.0, 7.0, 6.0, 5.0, 4.0, 3.0, 2.0, 1.0, -4.589, -4.7341, -4.7528, -5.0517, -5.1524, -4.3842, -5.2574, -5.259, -5.3217, -4.4356, -5.373, -5.3802, -5.3834, -5.4398, -5.3747, -5.4451, -5.4522, -5.5152, -5.5117, -5.5227, -5.5185, -5.5297, -5.605, -5.5941, -5.6005, -5.6792, -5.688, -5.6903, -5.6834, -5.7777, -4.3966, -4.8877, -3.964, -4.658, -4.886, -3.9576, -4.037, -4.0032, -4.9659, -4.9346, -4.5683, -5.0881, -4.3121, -4.1761, -3.9108, -4.2492, -5.2153, -4.908, -4.7146, -4.6971, -4.7956, -4.7887, -4.4939, -4.5781, -4.8862, -5.0106, -3.8345, -3.9209, -4.0171, -4.249, -4.3154, -4.5502, -4.5545, -4.5656, -4.6603, -3.9777, -4.8785, -4.9999, -5.1513, -5.3272, -5.3341, -4.4837, -5.5299, -5.5364, -5.5428, -4.5022, -4.4769, -4.8703, -5.0023, -4.9029, -5.1456, -5.0201, -5.0311, -5.3344, -4.6768, -5.1692, -3.7193, -3.907, -4.2936, -4.1773, -4.2369, -4.3183, -4.0821, -3.9626, -4.2507, -4.6106, -4.848, -4.7119, -4.4745, -4.8387, -4.8348, -4.8611, -3.8297, -3.5067, -3.7419, -3.3094, -4.3324, -4.2514, -4.4085, -4.509, -4.0567, -4.863, -4.7883, -5.0204, -5.1673, -4.2484, -4.6201, -4.3704, -5.3509, -5.4945, -4.4166, -5.3492, -5.5384, -4.9783, -4.7549, -5.5295, -4.537, -5.0648, -5.3903, -5.224, -5.0584, -4.8401, -4.1454, -3.9562, -4.1708, -4.028, -3.6146, -4.5361, -3.8067, -4.3652, -3.9264, -4.4124, -4.4797, -4.5849, -4.5954, -4.699, -4.743, -3.0624, -3.7339, -3.7076, -3.9382, -4.1975, -3.7242, -4.5637, -4.5978, -4.7711, -4.5572, -4.7959, -5.1496, -5.1453, -5.1635, -4.5782, -5.1648, -5.1656, -4.5788, -5.1415, -5.1663, -5.1619, -5.1641, -5.1634, -5.1634, -4.5776, -5.1468, -5.1666, -5.1555, -5.1418, -3.7297, -4.5758, -4.3223, -4.5773, -4.5767, -4.2127, -4.5827, -4.5748, -4.8874, -4.5666, -4.5691, -4.5472, -4.6928, -5.0964], \"loglift\": [30.0, 29.0, 28.0, 27.0, 26.0, 25.0, 24.0, 23.0, 22.0, 21.0, 20.0, 19.0, 18.0, 17.0, 16.0, 15.0, 14.0, 13.0, 12.0, 11.0, 10.0, 9.0, 8.0, 7.0, 6.0, 5.0, 4.0, 3.0, 2.0, 1.0, 0.3739, 0.3711, 0.3707, 0.3629, 0.3602, 0.3567, 0.3566, 0.3551, 0.3539, 0.3525, 0.3524, 0.3516, 0.35, 0.3496, 0.3495, 0.3494, 0.3491, 0.3463, 0.3463, 0.346, 0.3449, 0.3446, 0.342, 0.3414, 0.3408, 0.3378, 0.3374, 0.3373, 0.336, 0.3329, 0.3236, 0.3199, 0.2768, 0.2914, 0.2953, 0.2341, 0.2151, 0.2006, 0.2841, 0.2801, 0.2296, 0.289, 0.1751, 0.1321, 0.0788, 0.1165, 0.3004, 0.2059, 0.1379, 0.1313, 0.1264, 0.0824, -0.12, -0.1012, 0.0571, -0.1736, 1.5343, 1.5326, 1.5291, 1.5208, 1.5179, 1.506, 1.5059, 1.5052, 1.4995, 1.4878, 1.4846, 1.4747, 1.4598, 1.442, 1.4392, 1.4219, 1.417, 1.4155, 1.4142, 1.4065, 1.389, 1.3689, 1.346, 1.3401, 1.3339, 1.3333, 1.3248, 1.324, 1.2969, 1.2944, 1.1245, 1.0399, 0.7311, 0.6598, 0.5843, 0.5996, 0.3949, 0.027, 0.1232, 0.4043, 0.9242, 0.5109, -0.2708, 0.5011, 0.0362, 0.0608, 2.3895, 2.3133, 2.3056, 2.3016, 2.186, 2.1426, 2.1063, 2.0044, 1.9474, 1.9275, 1.8477, 1.6465, 1.604, 1.5917, 1.5536, 1.4841, 1.4802, 1.453, 1.4214, 1.4184, 1.4125, 1.3876, 1.3605, 1.2864, 1.28, 1.2793, 1.2177, 1.2133, 1.2116, 1.2101, 1.0467, 1.0043, 0.9955, 0.9153, 0.751, 1.0076, 0.5672, 0.8577, 0.3818, 0.5639, -0.4901, -0.0977, -0.1185, -0.5072, 0.1749, 3.1769, 3.1316, 2.8247, 2.7059, 2.5274, 2.2811, 2.2798, 2.2728, 2.0575, 1.8801, 1.8731, 1.8689, 1.8514, 1.8439, 1.83, 1.8235, 1.8172, 1.7042, 1.6744, 1.6648, 1.6481, 1.6354, 1.6335, 1.614, 1.5926, 1.5116, 1.5003, 1.4806, 1.4696, 1.4624, 1.3341, 1.2214, 1.2628, 1.2402, 1.0374, 1.2373, 1.2164, 1.2279, 0.5639, 0.2747, -0.239, -0.4408, 0.295]}, \"token.table\": {\"Topic\": [1, 2, 3, 4, 1, 2, 4, 1, 1, 2, 3, 1, 4, 2, 1, 2, 3, 1, 2, 3, 2, 1, 2, 1, 2, 3, 1, 2, 4, 1, 2, 3, 4, 1, 2, 4, 1, 3, 4, 1, 2, 3, 1, 1, 3, 1, 2, 3, 4, 1, 1, 2, 3, 2, 1, 2, 2, 4, 1, 2, 4, 1, 3, 4, 1, 4, 1, 4, 1, 2, 3, 1, 2, 3, 4, 2, 4, 2, 1, 2, 3, 4, 1, 2, 3, 1, 1, 3, 4, 1, 2, 3, 1, 4, 1, 2, 2, 1, 2, 1, 3, 2, 1, 2, 3, 1, 3, 1, 4, 1, 1, 4, 1, 3, 1, 2, 3, 4, 1, 3, 4, 1, 3, 1, 2, 1, 2, 3, 1, 2, 1, 3, 2, 1, 3, 4, 1, 2, 3, 4, 1, 3, 4, 1, 2, 3, 1, 1, 2, 4, 1, 3, 4, 1, 1, 1, 4, 1, 2, 1, 3, 1, 2, 3, 2, 4, 1, 2, 1, 2, 3, 4, 2, 1, 3, 1, 2, 3, 1, 2, 4, 1, 2, 1, 2, 3, 4, 1, 2, 3, 1, 2, 3, 1, 2, 3, 1, 3, 2, 3, 4, 1, 1, 2, 2, 1, 2, 3, 4, 1, 3, 1, 2, 2, 1, 2, 3, 2, 3, 4, 1, 2, 1, 2, 3, 1, 1, 1, 3, 1, 2, 4, 1, 4, 1, 1, 2, 3, 1, 2, 3, 4, 1, 2, 1, 1, 2, 3, 1, 2, 1, 2, 3, 4, 1, 2, 4, 1, 2, 3, 4, 2, 2, 4, 3, 1, 2, 4, 1, 3, 4, 1, 4, 1, 3, 1, 3, 1, 4, 1, 2, 1, 2, 3, 4, 1, 3, 2, 3, 1, 2, 3, 1, 2, 1, 1, 2, 3, 1, 1, 1, 2, 3, 4, 1, 4, 1, 4, 2, 2, 1, 1, 3, 1, 2, 1, 2, 3, 4, 1, 1, 1, 3, 1, 2, 1, 2, 3, 4, 1, 2, 3, 1, 1, 1, 2, 3, 4, 1, 1, 1, 2, 2, 1, 2], \"Freq\": [0.5289395019139891, 0.3702576513397924, 0.07934092528709837, 0.026446975095699456, 0.7016069464827827, 0.23386898216092755, 0.04677379643218551, 0.9699768087148983, 0.7227683849117928, 0.22239027228055167, 0.055597568070137916, 0.689031560713748, 0.22967718690458266, 0.8651386739393889, 0.5243700704705525, 0.37871171756206573, 0.0873950117450921, 0.7640633784082612, 0.13643988900147522, 0.08186393340088513, 0.8953619784476552, 0.12270658060465228, 0.7362394836279137, 0.9015332371282038, 0.039197097266443645, 0.039197097266443645, 0.827275902014608, 0.15689715383035668, 0.014263377620941516, 0.5456886051932198, 0.3209932971724822, 0.09629798915174467, 0.03209932971724822, 0.48831367861069114, 0.4185545816663067, 0.06975909694438445, 0.6131432512588607, 0.22992871922207278, 0.11496435961103639, 0.6348667565038993, 0.14938041329503515, 0.22407061994255273, 0.9860639563218097, 0.37904463099971847, 0.5685669464995776, 0.24345262960615227, 0.6492070122830728, 0.0811508765353841, 0.027050292178461364, 0.9503528284264645, 0.16237711510873679, 0.16237711510873679, 0.4871313453262104, 0.9828630467261275, 0.12178191819734421, 0.8524734273814095, 0.7062807014058124, 0.23542690046860415, 0.39373422223606863, 0.39373422223606863, 0.19686711111803432, 0.3947197322335837, 0.3947197322335837, 0.19735986611679185, 0.6929079143110127, 0.23096930477033759, 0.8933467440592799, 0.08121334036902544, 0.4957607369250676, 0.1239401842312669, 0.3718205526938007, 0.978271283575386, 0.8269078815922648, 0.07517344378111498, 0.07517344378111498, 0.8303294783441759, 0.16606589566883517, 0.9458784640579027, 0.6846094398513232, 0.2161924546898915, 0.03603207578164858, 0.03603207578164858, 0.6185327614555178, 0.3186380892346607, 0.07497366805521427, 0.9618177166900661, 0.5831490331121606, 0.38876602207477373, 0.19438301103738687, 0.9351001290734443, 0.8331835633170477, 0.13886392721950797, 0.21842276786222517, 0.7644796875177882, 0.9341350612812124, 0.038922294220050516, 0.9314189792307567, 0.16746695780624557, 0.753601310128105, 0.6674332688972787, 0.4449555125981858, 0.9077511762392269, 0.058264112992128865, 0.058264112992128865, 0.873961694881933, 0.14436538371956845, 0.7218269185978423, 0.7921467090604889, 0.15842934181209778, 0.9749948852783145, 0.7985461061621335, 0.11407801516601908, 0.9722547979693247, 0.025585652578140123, 0.577617091862115, 0.1520044978584513, 0.24320719657352208, 0.03040089957169026, 0.334951813135782, 0.5024277197036731, 0.167475906567891, 0.5576773380450447, 0.3717848920300298, 0.9221354320608571, 0.09221354320608571, 0.7725373129074311, 0.1331960884323157, 0.07991765305938943, 0.9019060581814831, 0.0901906058181483, 0.4434534369756994, 0.4434534369756994, 0.9503457940593947, 0.6495758203009767, 0.32478791015048836, 0.16239395507524418, 0.20532726230153858, 0.20532726230153858, 0.20532726230153858, 0.20532726230153858, 0.5630449089646741, 0.3378269453788045, 0.11260898179293483, 0.7171281442745878, 0.059760678689548985, 0.20916237541342145, 0.9751090149689001, 0.5642567302645967, 0.40304052161756904, 0.026869368107837938, 0.9855203124351821, 0.8616212155646439, 0.07180176796372033, 0.9748106913738803, 0.9574882081454598, 0.7628783208052619, 0.19071958020131546, 0.07846692463333357, 0.8631361709666694, 0.5556493789599884, 0.370432919306659, 0.9098345961038165, 0.03790977483765902, 0.03790977483765902, 0.49108335980835, 0.49108335980835, 0.07822099793791445, 0.860430977317059, 0.14652217039825394, 0.36630542599563487, 0.43956651119476187, 0.07326108519912697, 0.8863591762212892, 0.34526959653433953, 0.6042217939350941, 0.859683481339845, 0.09865220277670352, 0.05637268730097344, 0.8526614685401656, 0.12919113159699477, 0.025838226319398958, 0.9003348225696289, 0.052960871915860526, 0.33567430715896757, 0.33567430715896757, 0.16783715357948378, 0.16783715357948378, 0.6176901029976648, 0.2161915360491827, 0.1544225257494162, 0.22297687165489186, 0.37162811942481977, 0.37162811942481977, 0.7953375252527938, 0.11361964646468482, 0.07574643097645656, 0.6327262782890383, 0.27116840498101635, 0.5324917256368134, 0.2662458628184067, 0.13312293140920334, 0.932272144070882, 0.76050018424925, 0.23400005669207694, 0.9560149781472987, 0.2894353178312017, 0.2894353178312017, 0.2894353178312017, 0.09647843927706723, 0.2877093971507222, 0.7192734928768054, 0.13665977727912546, 0.8199586636747528, 0.8908349400698927, 0.3157868052548171, 0.3157868052548171, 0.3157868052548171, 0.9275688196144439, 0.2042494945990445, 0.6127484837971335, 0.6218989832383462, 0.3553708475647693, 0.7546310141771622, 0.05030873427847748, 0.1844653590210841, 0.9877438927501263, 0.9799205114772385, 0.9762672195493133, 0.024406680488732832, 0.51850107141707, 0.17283369047235667, 0.259250535708535, 0.7481590217847557, 0.18703975544618892, 0.9865720427888464, 0.8151676912918726, 0.07088414706885848, 0.07088414706885848, 0.429495184106806, 0.14316506136893534, 0.2863301227378707, 0.07158253068446767, 0.9322838767366353, 0.047809429576237704, 0.9601638166049786, 0.2045460440250642, 0.4090920880501284, 0.4090920880501284, 0.5510487814863861, 0.42139024466606, 0.7758691123184194, 0.07917031758351217, 0.1266725081336195, 0.015834063516702437, 0.5736646122297665, 0.19122153740992215, 0.19122153740992215, 0.8382633831746651, 0.10478292289683314, 0.04490696695578563, 0.014968988985261876, 0.9456742478837055, 0.43914242548726307, 0.43914242548726307, 0.9633503413635478, 0.23291225099761226, 0.4658245019952245, 0.23291225099761226, 0.6465067489782248, 0.12930134979564498, 0.12930134979564498, 0.815338117889179, 0.10191726473614737, 0.5848677757669941, 0.36554235985437133, 0.25494743628722527, 0.7648423088616759, 0.5995011873051636, 0.1998337291017212, 0.9729851354020732, 0.9227076988394372, 0.38646816141384416, 0.19323408070692208, 0.19323408070692208, 0.19323408070692208, 0.09014533828868157, 0.9014533828868156, 0.9066725031181231, 0.0503706946176735, 0.3422594776996649, 0.5476151643194639, 0.13690379107986597, 0.10960988626005866, 0.7672692038204106, 0.9934234636482031, 0.7253572203722332, 0.21875852677892746, 0.05756803336287565, 0.9786256073107737, 0.9798148353427256, 0.4347199576722506, 0.355679965368205, 0.1975999807601139, 0.03951999615202278, 0.8640952368106061, 0.07855411243732782, 0.5323829051213367, 0.3549219367475578, 0.9673137027545496, 0.9093070037371127, 0.9800423841876366, 0.28727291278025446, 0.5745458255605089, 0.10919393122434146, 0.8735514497947316, 0.5917860657232927, 0.2367144262893171, 0.15217355975741814, 0.016908173306379795, 0.9640773165980584, 0.9727200678906712, 0.6063345118713197, 0.36380070712279183, 0.38982899767872115, 0.5997369195057248, 0.23803675750020062, 0.23803675750020062, 0.23803675750020062, 0.23803675750020062, 0.8881027124223994, 0.08881027124223993, 0.014801711873706656, 0.9695204615982509, 0.966110566453101, 0.3268153983427473, 0.3268153983427473, 0.21787693222849822, 0.10893846611424911, 0.9720411962262148, 0.9837036892755008, 0.1224039162220576, 0.7344234973323456, 0.9603137543993652, 0.9670403368711984, 0.9130990357303208], \"Term\": [\"\\u4e00\\u4e0b\", \"\\u4e00\\u4e0b\", \"\\u4e00\\u4e0b\", \"\\u4e00\\u4e0b\", \"\\u4e00\\u4e9b\", \"\\u4e00\\u4e9b\", \"\\u4e00\\u4e9b\", \"\\u4e00\\u5207\", \"\\u4e00\\u6a23\", \"\\u4e00\\u6a23\", \"\\u4e00\\u6a23\", \"\\u4e0a\\u73ed\", \"\\u4e0a\\u73ed\", \"\\u4e0a\\u8863\", \"\\u4e4b\\u524d\", \"\\u4e4b\\u524d\", \"\\u4e4b\\u524d\", \"\\u4e4b\\u5f8c\", \"\\u4e4b\\u5f8c\", \"\\u4e4b\\u5f8c\", \"\\u4e56\\u4e56\", \"\\u4e7e\\u6de8\", \"\\u4e7e\\u6de8\", \"\\u4e8b\\u60c5\", \"\\u4e8b\\u60c5\", \"\\u4e8b\\u60c5\", \"\\u4ec0\\u9ebc\", \"\\u4ec0\\u9ebc\", \"\\u4ec0\\u9ebc\", \"\\u4eca\\u5929\", \"\\u4eca\\u5929\", \"\\u4eca\\u5929\", \"\\u4eca\\u5929\", \"\\u4ee5\\u4e0a\", \"\\u4ee5\\u4e0a\", \"\\u4ee5\\u4e0a\", \"\\u516c\\u53f8\", \"\\u516c\\u53f8\", \"\\u516c\\u53f8\", \"\\u5176\\u4ed6\", \"\\u5176\\u4ed6\", \"\\u5176\\u4ed6\", \"\\u51fa\\u53bb\", \"\\u51fa\\u9053\", \"\\u51fa\\u9053\", \"\\u5206\\u4eab\", \"\\u5206\\u4eab\", \"\\u5206\\u4eab\", \"\\u5206\\u4eab\", \"\\u5206\\u624b\", \"\\u5225\\u7684\", \"\\u5225\\u7684\", \"\\u5225\\u7684\", \"\\u5305\\u5305\", \"\\u5305\\u88dd\", \"\\u5305\\u88dd\", \"\\u53b2\\u5bb3\", \"\\u53b2\\u5bb3\", \"\\u53c3\\u8003\", \"\\u53c3\\u8003\", \"\\u53c3\\u8003\", \"\\u53d7\\u5230\", \"\\u53d7\\u5230\", \"\\u53d7\\u5230\", \"\\u53f0\\u5317\", \"\\u53f0\\u5317\", \"\\u53f0\\u7063\", \"\\u53f0\\u7063\", \"\\u5404\\u4f4d\", \"\\u5404\\u4f4d\", \"\\u5404\\u4f4d\", \"\\u540c\\u4e8b\", \"\\u5473\\u9053\", \"\\u5473\\u9053\", \"\\u5473\\u9053\", \"\\u5496\\u5561\", \"\\u5496\\u5561\", \"\\u5507\\u818f\", \"\\u554f\\u984c\", \"\\u554f\\u984c\", \"\\u554f\\u984c\", \"\\u554f\\u984c\", \"\\u559c\\u6b61\", \"\\u559c\\u6b61\", \"\\u559c\\u6b61\", \"\\u55ae\\u8eab\", \"\\u5716\\u7247\", \"\\u5716\\u7247\", \"\\u5716\\u7247\", \"\\u5728\\u4e00\\u8d77\", \"\\u5916\\u5957\", \"\\u5916\\u5957\", \"\\u5927\\u5b78\", \"\\u5927\\u5b78\", \"\\u5973\\u751f\", \"\\u5973\\u751f\", \"\\u597d\\u5947\", \"\\u597d\\u770b\", \"\\u597d\\u770b\", \"\\u597d\\u7b11\", \"\\u597d\\u7b11\", \"\\u599d\\u5bb9\", \"\\u59ca\\u59ca\", \"\\u59ca\\u59ca\", \"\\u59ca\\u59ca\", \"\\u5b69\\u5b50\", \"\\u5b69\\u5b50\", \"\\u5bb9\\u6613\", \"\\u5bb9\\u6613\", \"\\u5c0f\\u5b69\", \"\\u5c0f\\u6642\", \"\\u5c0f\\u6642\", \"\\u5de5\\u4f5c\", \"\\u5de5\\u4f5c\", \"\\u5e0c\\u671b\", \"\\u5e0c\\u671b\", \"\\u5e0c\\u671b\", \"\\u5e0c\\u671b\", \"\\u5e6b\\u5fd9\", \"\\u5e6b\\u5fd9\", \"\\u5e6b\\u5fd9\", \"\\u5f62\\u8c61\", \"\\u5f62\\u8c61\", \"\\u5f71\\u7247\", \"\\u5f71\\u7247\", \"\\u5f88\\u591a\", \"\\u5f88\\u591a\", \"\\u5f88\\u591a\", \"\\u5f8c\\u4f86\", \"\\u5f8c\\u4f86\", \"\\u5f97\\u5230\", \"\\u5f97\\u5230\", \"\\u5fd8\\u8a18\", \"\\u600e\\u6a23\", \"\\u600e\\u6a23\", \"\\u600e\\u6a23\", \"\\u600e\\u9ebc\\u6a23\", \"\\u600e\\u9ebc\\u6a23\", \"\\u600e\\u9ebc\\u6a23\", \"\\u600e\\u9ebc\\u6a23\", \"\\u60f3\\u5230\", \"\\u60f3\\u5230\", \"\\u60f3\\u5230\", \"\\u60f3\\u8981\", \"\\u60f3\\u8981\", \"\\u60f3\\u8981\", \"\\u611f\\u60c5\", \"\\u611f\\u89ba\", \"\\u611f\\u89ba\", \"\\u611f\\u89ba\", \"\\u614b\\u5ea6\", \"\\u6210\\u54e1\", \"\\u6210\\u54e1\", \"\\u623f\\u9593\", \"\\u6240\\u6709\", \"\\u62dc\\u8a17\", \"\\u62dc\\u8a17\", \"\\u642d\\u914d\", \"\\u642d\\u914d\", \"\\u64d4\\u5fc3\", \"\\u64d4\\u5fc3\", \"\\u6545\\u4e8b\", \"\\u6545\\u4e8b\", \"\\u6545\\u4e8b\", \"\\u6559\\u5b78\", \"\\u6559\\u5b78\", \"\\u6574\\u9ad4\", \"\\u6574\\u9ad4\", \"\\u6587\\u7ae0\", \"\\u6587\\u7ae0\", \"\\u6587\\u7ae0\", \"\\u6587\\u7ae0\", \"\\u65b0\\u6b61\", \"\\u6628\\u5929\", \"\\u6628\\u5929\", \"\\u6642\\u5019\", \"\\u6642\\u5019\", \"\\u6642\\u5019\", \"\\u6642\\u9593\", \"\\u6642\\u9593\", \"\\u6642\\u9593\", \"\\u665a\\u4e0a\", \"\\u665a\\u4e0a\", \"\\u66f4\\u591a\", \"\\u66f4\\u591a\", \"\\u66f4\\u591a\", \"\\u66f4\\u591a\", \"\\u6700\\u5f8c\", \"\\u6700\\u5f8c\", \"\\u6700\\u5f8c\", \"\\u6700\\u8fd1\", \"\\u6700\\u8fd1\", \"\\u6700\\u8fd1\", \"\\u670b\\u53cb\", \"\\u670b\\u53cb\", \"\\u670b\\u53cb\", \"\\u6a23\\u5b50\", \"\\u6a23\\u5b50\", \"\\u6b61\\u8fce\", \"\\u6b61\\u8fce\", \"\\u6b61\\u8fce\", \"\\u6c7a\\u5b9a\", \"\\u6c92\\u6709\", \"\\u6c92\\u6709\", \"\\u6d0b\\u88dd\", \"\\u6d3b\\u52d5\", \"\\u6d3b\\u52d5\", \"\\u6d3b\\u52d5\", \"\\u6d3b\\u52d5\", \"\\u6eab\\u6696\", \"\\u6eab\\u6696\", \"\\u6eab\\u67d4\", \"\\u6eab\\u67d4\", \"\\u6ed1\\u9806\", \"\\u7167\\u9867\", \"\\u7167\\u9867\", \"\\u7167\\u9867\", \"\\u71d2\\u5230\", \"\\u725b\\u5976\", \"\\u725b\\u5976\", \"\\u7279\\u5225\", \"\\u7279\\u5225\", \"\\u73fe\\u5728\", \"\\u73fe\\u5728\", \"\\u73fe\\u5728\", \"\\u751f\\u65e5\", \"\\u751f\\u6d3b\", \"\\u7537\\u53cb\", \"\\u7537\\u53cb\", \"\\u7537\\u751f\", \"\\u7537\\u751f\", \"\\u7537\\u751f\", \"\\u7562\\u696d\", \"\\u7562\\u696d\", \"\\u7576\\u5929\", \"\\u7576\\u6642\", \"\\u7576\\u6642\", \"\\u7576\\u6642\", \"\\u767c\\u6587\", \"\\u767c\\u6587\", \"\\u767c\\u6587\", \"\\u767c\\u6587\", \"\\u767c\\u73fe\", \"\\u767c\\u73fe\", \"\\u767c\\u751f\", \"\\u767d\\u8272\", \"\\u767d\\u8272\", \"\\u767d\\u8272\", \"\\u76f4\\u63a5\", \"\\u76f4\\u63a5\", \"\\u770b\\u5230\", \"\\u770b\\u5230\", \"\\u770b\\u5230\", \"\\u770b\\u5230\", \"\\u77ac\\u9593\", \"\\u77ac\\u9593\", \"\\u77ac\\u9593\", \"\\u77e5\\u9053\", \"\\u77e5\\u9053\", \"\\u77e5\\u9053\", \"\\u77e5\\u9053\", \"\\u7a7f\\u642d\", \"\\u7c89\\u5e95\", \"\\u7c89\\u5e95\", \"\\u7c89\\u7d72\", \"\\u7d44\\u5408\", \"\\u7d44\\u5408\", \"\\u7d44\\u5408\", \"\\u7d93\\u6b77\", \"\\u7d93\\u6b77\", \"\\u7d93\\u6b77\", \"\\u7d93\\u9a57\", \"\\u7d93\\u9a57\", \"\\u7e7c\\u7e8c\", \"\\u7e7c\\u7e8c\", \"\\u7ffb\\u8b6f\", \"\\u7ffb\\u8b6f\", \"\\u8003\\u8a66\", \"\\u8003\\u8a66\", \"\\u804a\\u5929\", \"\\u80cc\\u5fc3\", \"\\u80cc\\u666f\", \"\\u80cc\\u666f\", \"\\u80cc\\u666f\", \"\\u80cc\\u666f\", \"\\u821e\\u53f0\", \"\\u821e\\u53f0\", \"\\u8863\\u670d\", \"\\u8863\\u670d\", \"\\u88e1\\u9762\", \"\\u88e1\\u9762\", \"\\u88e1\\u9762\", \"\\u896f\\u886b\", \"\\u896f\\u886b\", \"\\u898b\\u9762\", \"\\u89ba\\u5f97\", \"\\u89ba\\u5f97\", \"\\u89ba\\u5f97\", \"\\u8a0a\\u606f\", \"\\u8a8d\\u8b58\", \"\\u8b1d\\u8b1d\", \"\\u8b1d\\u8b1d\", \"\\u8b1d\\u8b1d\", \"\\u8b1d\\u8b1d\", \"\\u8b8a\\u6210\", \"\\u8b8a\\u6210\", \"\\u8cbc\\u6587\", \"\\u8cbc\\u6587\", \"\\u8cea\\u5730\", \"\\u8cfc\\u5165\", \"\\u8ddd\\u96e2\", \"\\u8f9b\\u82e6\", \"\\u8f9b\\u82e6\", \"\\u8fd1\\u671f\", \"\\u8fd1\\u671f\", \"\\u9019\\u6a23\", \"\\u9019\\u6a23\", \"\\u9019\\u6a23\", \"\\u9019\\u6a23\", \"\\u9019\\u88e1\", \"\\u9019\\u908a\", \"\\u9023\\u7d50\", \"\\u9023\\u7d50\", \"\\u90e8\\u5206\", \"\\u90e8\\u5206\", \"\\u9577\\u5927\", \"\\u9577\\u5927\", \"\\u9577\\u5927\", \"\\u9577\\u5927\", \"\\u958b\\u59cb\", \"\\u958b\\u59cb\", \"\\u958b\\u59cb\", \"\\u958b\\u5fc3\", \"\\u95dc\\u4fc2\", \"\\u9644\\u4e0a\", \"\\u9644\\u4e0a\", \"\\u9644\\u4e0a\", \"\\u9644\\u4e0a\", \"\\u9694\\u5929\", \"\\u96fb\\u8a71\", \"\\u982d\\u9aee\", \"\\u982d\\u9aee\", \"\\u984f\\u8272\", \"\\u9858\\u610f\", \"\\u9ed1\\u8272\"]}, \"R\": 30, \"lambda.step\": 0.01, \"plot.opts\": {\"xlab\": \"PC1\", \"ylab\": \"PC2\"}, \"topic.order\": [3, 1, 2, 4]};\n",
       "\n",
       "function LDAvis_load_lib(url, callback){\n",
       "  var s = document.createElement('script');\n",
       "  s.src = url;\n",
       "  s.async = true;\n",
       "  s.onreadystatechange = s.onload = callback;\n",
       "  s.onerror = function(){console.warn(\"failed to load library \" + url);};\n",
       "  document.getElementsByTagName(\"head\")[0].appendChild(s);\n",
       "}\n",
       "\n",
       "if(typeof(LDAvis) !== \"undefined\"){\n",
       "   // already loaded: just create the visualization\n",
       "   !function(LDAvis){\n",
       "       new LDAvis(\"#\" + \"ldavis_el713140360077627584319258101\", ldavis_el713140360077627584319258101_data);\n",
       "   }(LDAvis);\n",
       "}else if(typeof define === \"function\" && define.amd){\n",
       "   // require.js is available: use it to load d3/LDAvis\n",
       "   require.config({paths: {d3: \"https://d3js.org/d3.v5\"}});\n",
       "   require([\"d3\"], function(d3){\n",
       "      window.d3 = d3;\n",
       "      LDAvis_load_lib(\"https://cdn.jsdelivr.net/gh/bmabey/pyLDAvis@3.2.2/pyLDAvis/js/ldavis.v3.0.0.js\", function(){\n",
       "        new LDAvis(\"#\" + \"ldavis_el713140360077627584319258101\", ldavis_el713140360077627584319258101_data);\n",
       "      });\n",
       "    });\n",
       "}else{\n",
       "    // require.js not available: dynamically load d3 & LDAvis\n",
       "    LDAvis_load_lib(\"https://d3js.org/d3.v5.js\", function(){\n",
       "         LDAvis_load_lib(\"https://cdn.jsdelivr.net/gh/bmabey/pyLDAvis@3.2.2/pyLDAvis/js/ldavis.v3.0.0.js\", function(){\n",
       "                 new LDAvis(\"#\" + \"ldavis_el713140360077627584319258101\", ldavis_el713140360077627584319258101_data);\n",
       "            })\n",
       "         });\n",
       "}\n",
       "</script>"
      ],
      "text/plain": [
       "PreparedData(topic_coordinates=             x        y  topics  cluster     Freq\n",
       "topic                                            \n",
       "2     -0.10051 -0.08348       1        1 67.53481\n",
       "0     -0.08757  0.15477       2        1 20.93592\n",
       "1      0.08873 -0.12715       3        1  8.54198\n",
       "3      0.09935  0.05586       4        1  2.98729, topic_info=    Term     Freq    Total Category  logprob  loglift\n",
       "248   現在 59.00000 59.00000  Default 30.00000 30.00000\n",
       "39    公司 26.00000 26.00000  Default 29.00000 29.00000\n",
       "269   看到 63.00000 63.00000  Default 28.00000 28.00000\n",
       "73    台灣 24.00000 24.00000  Default 27.00000 27.00000\n",
       "119   姊姊 17.00000 17.00000  Default 26.00000 26.00000\n",
       "..   ...      ...      ...      ...      ...      ...\n",
       "86    問題  1.45708 27.75305   Topic4 -4.56660  0.56390\n",
       "48    分享  1.45340 36.96818   Topic4 -4.56910  0.27470\n",
       "269   看到  1.48560 63.15498   Topic4 -4.54720 -0.23900\n",
       "274   知道  1.28428 66.80478   Topic4 -4.69280 -0.44080\n",
       "1     一些  0.85783 21.37949   Topic4 -5.09640  0.29500\n",
       "\n",
       "[220 rows x 6 columns], token_table=      Topic    Freq Term\n",
       "term                    \n",
       "0         1 0.52894   一下\n",
       "0         2 0.37026   一下\n",
       "0         3 0.07934   一下\n",
       "0         4 0.02645   一下\n",
       "1         1 0.70161   一些\n",
       "...     ...     ...  ...\n",
       "371       1 0.12240   頭髮\n",
       "371       2 0.73442   頭髮\n",
       "372       2 0.96031   顏色\n",
       "373       1 0.96704   願意\n",
       "376       2 0.91310   黑色\n",
       "\n",
       "[345 rows x 3 columns], R=30, lambda_step=0.01, plot_opts={'xlab': 'PC1', 'ylab': 'PC2'}, topic_order=[3, 1, 2, 4])"
      ]
     },
     "execution_count": 31,
     "metadata": {},
     "output_type": "execute_result"
    }
   ],
   "source": [
    "import pyLDAvis\n",
    "import pyLDAvis.sklearn\n",
    "import dill\n",
    "#import warnings\n",
    "\n",
    "#warnings.filterwanrings('ignore')\n",
    "pyLDAvis.enable_notebook()\n",
    "cv_matrix2 = np.matrix(cv_matrix)\n",
    "pyLDAvis.sklearn.prepare(lda, cv_matrix2, cv, mds=\"mmds\")"
   ]
  },
  {
   "cell_type": "markdown",
   "metadata": {
    "tags": [
     "remove-input",
     "remove-output"
    ]
   },
   "source": [
    "### Clustering documents using topic model features"
   ]
  },
  {
   "cell_type": "code",
   "execution_count": 32,
   "metadata": {
    "scrolled": true,
    "tags": [
     "remove-input",
     "remove-output"
    ]
   },
   "outputs": [
    {
     "name": "stderr",
     "output_type": "stream",
     "text": [
      "/Users/Alvin/.local/lib/python3.7/site-packages/ipykernel/ipkernel.py:287: DeprecationWarning: `should_run_async` will not call `transform_cell` automatically in the future. Please pass the result to `transformed_cell` argument and any exception that happen during thetransform in `preprocessing_exc_tuple` in IPython 7.17 and above.\n",
      "  and should_run_async(code)\n"
     ]
    },
    {
     "data": {
      "text/html": [
       "<div>\n",
       "<style scoped>\n",
       "    .dataframe tbody tr th:only-of-type {\n",
       "        vertical-align: middle;\n",
       "    }\n",
       "\n",
       "    .dataframe tbody tr th {\n",
       "        vertical-align: top;\n",
       "    }\n",
       "\n",
       "    .dataframe thead th {\n",
       "        text-align: right;\n",
       "    }\n",
       "</style>\n",
       "<table border=\"1\" class=\"dataframe\">\n",
       "  <thead>\n",
       "    <tr style=\"text-align: right;\">\n",
       "      <th></th>\n",
       "      <th>ID</th>\n",
       "      <th>title</th>\n",
       "      <th>content</th>\n",
       "      <th>Normalized</th>\n",
       "      <th>ClusterLabels</th>\n",
       "    </tr>\n",
       "  </thead>\n",
       "  <tbody>\n",
       "    <tr>\n",
       "      <th>90</th>\n",
       "      <td>235444293</td>\n",
       "      <td>球場上端火鍋</td>\n",
       "      <td>https://www.dcard.tw/v2/vivid/videos/7d1d1171-e0c7-4225-9e07-517ee6b898ab?r=0.7625\\n幹真的不是套好的嗎XDDD\\n笑到瘋</td>\n",
       "      <td>套好 笑 瘋</td>\n",
       "      <td>2</td>\n",
       "    </tr>\n",
       "    <tr>\n",
       "      <th>91</th>\n",
       "      <td>235442238</td>\n",
       "      <td>#問 特殊形狀美妝蛋</td>\n",
       "      <td>https://i.imgur.com/PxSaXkZ.jpg\\nhttps://i.imgur.com/Tq1GPx8.jpg\\n小紅書上好多好可愛的美妝蛋\\n被燒到不行\\n想請問各位水水有用過嗎？</td>\n",
       "      <td>小紅 書 上 好多 可愛 美妝蛋 燒 不行 想 請問 水水 有 用</td>\n",
       "      <td>1</td>\n",
       "    </tr>\n",
       "    <tr>\n",
       "      <th>92</th>\n",
       "      <td>235446475</td>\n",
       "      <td>問這個很漂亮的人是誰</td>\n",
       "      <td>最近的合作舞台，剛好三團都沒什麼在追，想問板上的各位這位是誰🙏\\nhttps://i.imgur.com/gPVxus5.jpg</td>\n",
       "      <td>最近 合作 舞台 團 沒 什麼 追 想 問 板 上 這 位</td>\n",
       "      <td>2</td>\n",
       "    </tr>\n",
       "    <tr>\n",
       "      <th>93</th>\n",
       "      <td>235443651</td>\n",
       "      <td>更）市北這樣是偷偷放榜嗎⋯⋯</td>\n",
       "      <td>我有一一看完大家的回覆了\\n謝謝很多戰友或是其他朋友的加油\\n也看到有通過市北初試的留言\\n真的很恭喜\\n希望你可以唸到自己想唸的事物\\n唸輔導諮商向來是自己的夢想\\n我從指考填志願時與這個領域錯過之後也還是很努力的想擠身進去\\n我覺得我已經盡我所能\\n若結果還是不如預期\\n那真的就是真的不適合吧\\n期許自己能遇到自己喜歡以及適合自己的地方\\n不管是研究所或工作都是\\n——————————...</td>\n",
       "      <td>有 看完 回覆 謝謝 很多 戰友 其他 朋友 加油 看到 有 通過 市北 初試 留言 恭喜 希望 唸到 想 唸 事物 唸 輔導 諮商 夢想 指考 填 志願 時 這 個 領域 錯過 之後 努力 想 擠 身 進去 覺得 盡 能 結果 不如 預期 那 適合 期許 遇到 喜歡 適合 地方 研究所 工作 正文 開始 手賤 登入 市北 招生 系統 看到 這 個 複試 名單 明天 星期二 出來 這 個 ...</td>\n",
       "      <td>1</td>\n",
       "    </tr>\n",
       "    <tr>\n",
       "      <th>94</th>\n",
       "      <td>235445249</td>\n",
       "      <td>女友有罪惡感（微西斯）</td>\n",
       "      <td>前幾天跟女友做了  做完之後他哭了  我趕緊安撫他的情緒  並詢問說是不是我弄痛你了  他跟我說是因為怕如果父母知道的話會對他失望所以他有罪惡感（女友父母有跟他說要等結婚之後才可以做  不可以隨便給別人）我跟他說每個人本來就都有慾望  你不要太自責\\n\\n我跟女友都是對方的第一任  我們已經交往了快三年直到前一陣子才做  但這次並不是第一次  上個月的時侯我就有戴在外面磨一磨然後不小心滑進...</td>\n",
       "      <td>前 天 女友 做 做完 之後 哭 安撫 情緒 詢問 說 弄痛 說 怕 父母 知道 失望 有 罪惡感 女友 父母 有 說 等 結婚 之後 做 隨便 說 每 個 人 有 慾望 自責 女友 任 交往 三 年 前 一陣子 做 這 次 次 上 個 月 時侯 有 戴 外面 磨 磨 小心 滑進去 這 次 個 出去 住 弄 弄 之後 說 想要 進去 想 住 外面 怕 聽到 主動 之前 說 想要 導致 有 ...</td>\n",
       "      <td>1</td>\n",
       "    </tr>\n",
       "    <tr>\n",
       "      <th>95</th>\n",
       "      <td>235444562</td>\n",
       "      <td>主題：💟愛情塔羅💟 他要的感情關係vs 我要的感情關係為何？兩個人的近期發展（曖昧/交往中/斷聯/復合）</td>\n",
       "      <td>🤗感謝我們之間的連結帶領你來到這裡！ \\n\\n主題：💟愛情塔羅💟 他要的感情關係vs 我要的感情關係為何？兩個人的近期發展（曖昧/交往中/斷聯/復合）\\n\\n本次的大眾占卜適合處在曖昧、交往中、剛斷聯、分手、期待的你，有時候一份感情的重要核心正是在於雙方要的是不是一樣的東西，不見得得要完全相同，但至少如果理解彼此的感情需求，在相處上也能夠更融洽嘍！\\n\\n⭐️請閉上眼睛，深呼吸，腦子專心裡...</td>\n",
       "      <td>感謝 之間 連結 帶領 來到 這裡 主題 愛情 塔羅 感情 關係 感情 關係 何 個 人 近期 發展 曖昧 交往 中 斷聯 復合 本 次 占卜 適合 處在 曖昧 交往 中 斷聯 分手 期待 份 感情 重要 核心 在於 一樣 東西 相同 理解 感情 需求 相處 上 融洽 請 閉上 眼睛 深呼吸 腦子 專心 裡 想 感情 關係 什麼 相同 想想 樣子 有 個 人 相處 點滴 張開 眼睛 組 牌...</td>\n",
       "      <td>1</td>\n",
       "    </tr>\n",
       "    <tr>\n",
       "      <th>96</th>\n",
       "      <td>235441027</td>\n",
       "      <td>#分享 老花古董包 LV 方盒子｜Celine 化妝箱</td>\n",
       "      <td>近期購入的兩款古董包 可能因為是新歡 所以都讓我愛不釋手(๑•̀ •́)و✧\\n不過正是古董包的緣故 包況總有些不盡理想的狀況 帶有小瑕疵的部分 我自己都可以接受\\n為了比較包包的容量 文內有帶到一小部分的what’s in my bag 也有實揹照的部分*ˊᵕˋ\\n\\n\\n\\n𓎘𓎘𓎘 Louis Vuitton monogram 開口笑方盒子\\n（名字是參考小紅書介紹）\\n\\n購入價格：...</td>\n",
       "      <td>近期 購入 款 古董包 新歡 讓 愛不釋手 古董包 緣故 包況 有 些 理想 狀況 帶有 小 瑕疵 部分 接受 包包 容量 文 內 有 帶到 小 部分 有 實 揹照 部分 開口 笑 方 盒子 名字 參考 小紅 書 介紹 購入 價格 購入 方式 代購 賣場 尺寸 公分 容量 暗層 這 款 愛 想 買給 媽媽 當作 生日 禮物 藏 房間 每 天 看 好 喜歡 後來 購入 送給 媽媽 這 款 留...</td>\n",
       "      <td>0</td>\n",
       "    </tr>\n",
       "    <tr>\n",
       "      <th>97</th>\n",
       "      <td>235447320</td>\n",
       "      <td>在公車上遇到的超尷尬事件</td>\n",
       "      <td>剛剛在公車上有一個阿伯下車前跟我說：妹妹你很有愛心欸 讓位置給別人 不像有些人都在裝睡\\n講完這句話還瞄了一眼旁邊的女生\\n我當下就笑笑的\\n可是阿伯\\n那個女生\\n-\\n-\\n-\\n是我朋友(^_^;)\\n幸好阿伯講完就下車了⋯\\nhttps://i.imgur.com/htuMwVw.jpg</td>\n",
       "      <td>公車 上 有 個 阿伯 下車 前 說 妹妹 有 愛心 讓 位置 給 有 些 人 裝睡 講完 這 句 話 瞄 眼 旁邊 女生 笑笑 阿伯 那 個 女生 朋友 阿伯 講完 下車</td>\n",
       "      <td>1</td>\n",
       "    </tr>\n",
       "    <tr>\n",
       "      <th>98</th>\n",
       "      <td>235440749</td>\n",
       "      <td>#大眾占卜 🥺。他現在對我的想法是?他的下一步是什麼?我能為這段關係做什麼樣的努力❣</td>\n",
       "      <td>大家好這裡是金魚🙏\\n這次的占卜適合斷聯、曖昧、復合的族群\\n\\n再上圖之前先置入我的IG\\nhttps://www.instagram.com/goldenfishtarot\\n\\n【大眾占卜集合多人能量請選擇有感應的部分聆聽即可】\\n喜歡有聲版請點連結\\n喜歡文字下面附上文案\\nhttps://youtu.be/xkJHmyl_M7g\\n\\nhttps://i.imgur.com/Ux...</td>\n",
       "      <td>好 這裡 金魚 這 次 占卜 適合 斷聯 曖昧 復合 族群 上 圖 之前 置入 占卜 集合 多 人 能量 請 選擇 有 感應 部分 聆聽 喜歡 請 點 連結 喜歡 文字 下面 附上 文案 組 這 個 對象 之前 感情 坎坷 劈腿 騙 錢 這 有 可能 關 久 遇見 願意 心房 打開 相處 過程 中 知道 什麼 無私 愛 這 種 感情 原生 家庭 感受到 防備 讓 受傷 熱情 有 正向 感染...</td>\n",
       "      <td>1</td>\n",
       "    </tr>\n",
       "    <tr>\n",
       "      <th>99</th>\n",
       "      <td>235442177</td>\n",
       "      <td>所以，你要當我女朋友嗎？</td>\n",
       "      <td>「所以，你要當我女朋友嗎？」我看進她的眼睛，隱約反射出自己的倒影。躺在床上的我們呼吸有些紊亂，午後的陽光肆無忌憚的灑在身上，有點溫暖。\\n\\n我們的故事，從英國開始。\\n\\n\\n大學畢業後我跑到英國念碩士，人生地不熟的地方，一個認識的人也沒有，頭幾週的生活常常是一個人吃飯、逛街、看劇度過，再加上那時還沒走出前女友劈腿的陰影，那段時間說實在還滿煎熬的。\\n\\n幸好後來認識了跟我住在同個宿舍的...</td>\n",
       "      <td>當 女朋友 看進 眼睛 反射出 倒影 躺 床 上 呼吸 紊亂 午後 陽光 肆無忌憚 灑 身 上 溫暖 故事 英國 開始 大學 畢業 後 跑到 英國 念 碩士 人生地不熟 地方 個 認識 人 沒有 週 生活 個 人 吃飯 逛街 看劇 度過 加上 那時 走出 前 女友 劈腿 陰影 那 段 時間 說 實在 煎熬 後來 認識 住在 同 個 宿舍 台灣人 知道 身邊 有 有 這樣 朋友 人脈 感覺 ...</td>\n",
       "      <td>1</td>\n",
       "    </tr>\n",
       "  </tbody>\n",
       "</table>\n",
       "</div>"
      ],
      "text/plain": [
       "           ID                                                 title  \\\n",
       "90  235444293                                                球場上端火鍋   \n",
       "91  235442238                                            #問 特殊形狀美妝蛋   \n",
       "92  235446475                                            問這個很漂亮的人是誰   \n",
       "93  235443651                                        更）市北這樣是偷偷放榜嗎⋯⋯   \n",
       "94  235445249                                           女友有罪惡感（微西斯）   \n",
       "95  235444562  主題：💟愛情塔羅💟 他要的感情關係vs 我要的感情關係為何？兩個人的近期發展（曖昧/交往中/斷聯/復合）   \n",
       "96  235441027                           #分享 老花古董包 LV 方盒子｜Celine 化妝箱   \n",
       "97  235447320                                          在公車上遇到的超尷尬事件   \n",
       "98  235440749            #大眾占卜 🥺。他現在對我的想法是?他的下一步是什麼?我能為這段關係做什麼樣的努力❣   \n",
       "99  235442177                                          所以，你要當我女朋友嗎？   \n",
       "\n",
       "                                                                                                                                                                                                    content  \\\n",
       "90                                                                                                   https://www.dcard.tw/v2/vivid/videos/7d1d1171-e0c7-4225-9e07-517ee6b898ab?r=0.7625\\n幹真的不是套好的嗎XDDD\\n笑到瘋   \n",
       "91                                                                                                     https://i.imgur.com/PxSaXkZ.jpg\\nhttps://i.imgur.com/Tq1GPx8.jpg\\n小紅書上好多好可愛的美妝蛋\\n被燒到不行\\n想請問各位水水有用過嗎？   \n",
       "92                                                                                                                                         最近的合作舞台，剛好三團都沒什麼在追，想問板上的各位這位是誰🙏\\nhttps://i.imgur.com/gPVxus5.jpg   \n",
       "93  我有一一看完大家的回覆了\\n謝謝很多戰友或是其他朋友的加油\\n也看到有通過市北初試的留言\\n真的很恭喜\\n希望你可以唸到自己想唸的事物\\n唸輔導諮商向來是自己的夢想\\n我從指考填志願時與這個領域錯過之後也還是很努力的想擠身進去\\n我覺得我已經盡我所能\\n若結果還是不如預期\\n那真的就是真的不適合吧\\n期許自己能遇到自己喜歡以及適合自己的地方\\n不管是研究所或工作都是\\n——————————...   \n",
       "94  前幾天跟女友做了  做完之後他哭了  我趕緊安撫他的情緒  並詢問說是不是我弄痛你了  他跟我說是因為怕如果父母知道的話會對他失望所以他有罪惡感（女友父母有跟他說要等結婚之後才可以做  不可以隨便給別人）我跟他說每個人本來就都有慾望  你不要太自責\\n\\n我跟女友都是對方的第一任  我們已經交往了快三年直到前一陣子才做  但這次並不是第一次  上個月的時侯我就有戴在外面磨一磨然後不小心滑進...   \n",
       "95  🤗感謝我們之間的連結帶領你來到這裡！ \\n\\n主題：💟愛情塔羅💟 他要的感情關係vs 我要的感情關係為何？兩個人的近期發展（曖昧/交往中/斷聯/復合）\\n\\n本次的大眾占卜適合處在曖昧、交往中、剛斷聯、分手、期待的你，有時候一份感情的重要核心正是在於雙方要的是不是一樣的東西，不見得得要完全相同，但至少如果理解彼此的感情需求，在相處上也能夠更融洽嘍！\\n\\n⭐️請閉上眼睛，深呼吸，腦子專心裡...   \n",
       "96  近期購入的兩款古董包 可能因為是新歡 所以都讓我愛不釋手(๑•̀ •́)و✧\\n不過正是古董包的緣故 包況總有些不盡理想的狀況 帶有小瑕疵的部分 我自己都可以接受\\n為了比較包包的容量 文內有帶到一小部分的what’s in my bag 也有實揹照的部分*ˊᵕˋ\\n\\n\\n\\n𓎘𓎘𓎘 Louis Vuitton monogram 開口笑方盒子\\n（名字是參考小紅書介紹）\\n\\n購入價格：...   \n",
       "97                                                     剛剛在公車上有一個阿伯下車前跟我說：妹妹你很有愛心欸 讓位置給別人 不像有些人都在裝睡\\n講完這句話還瞄了一眼旁邊的女生\\n我當下就笑笑的\\n可是阿伯\\n那個女生\\n-\\n-\\n-\\n是我朋友(^_^;)\\n幸好阿伯講完就下車了⋯\\nhttps://i.imgur.com/htuMwVw.jpg   \n",
       "98  大家好這裡是金魚🙏\\n這次的占卜適合斷聯、曖昧、復合的族群\\n\\n再上圖之前先置入我的IG\\nhttps://www.instagram.com/goldenfishtarot\\n\\n【大眾占卜集合多人能量請選擇有感應的部分聆聽即可】\\n喜歡有聲版請點連結\\n喜歡文字下面附上文案\\nhttps://youtu.be/xkJHmyl_M7g\\n\\nhttps://i.imgur.com/Ux...   \n",
       "99  「所以，你要當我女朋友嗎？」我看進她的眼睛，隱約反射出自己的倒影。躺在床上的我們呼吸有些紊亂，午後的陽光肆無忌憚的灑在身上，有點溫暖。\\n\\n我們的故事，從英國開始。\\n\\n\\n大學畢業後我跑到英國念碩士，人生地不熟的地方，一個認識的人也沒有，頭幾週的生活常常是一個人吃飯、逛街、看劇度過，再加上那時還沒走出前女友劈腿的陰影，那段時間說實在還滿煎熬的。\\n\\n幸好後來認識了跟我住在同個宿舍的...   \n",
       "\n",
       "                                                                                                                                                                                                 Normalized  \\\n",
       "90                                                                                                                                                                                                   套好 笑 瘋   \n",
       "91                                                                                                                                                                        小紅 書 上 好多 可愛 美妝蛋 燒 不行 想 請問 水水 有 用   \n",
       "92                                                                                                                                                                            最近 合作 舞台 團 沒 什麼 追 想 問 板 上 這 位   \n",
       "93  有 看完 回覆 謝謝 很多 戰友 其他 朋友 加油 看到 有 通過 市北 初試 留言 恭喜 希望 唸到 想 唸 事物 唸 輔導 諮商 夢想 指考 填 志願 時 這 個 領域 錯過 之後 努力 想 擠 身 進去 覺得 盡 能 結果 不如 預期 那 適合 期許 遇到 喜歡 適合 地方 研究所 工作 正文 開始 手賤 登入 市北 招生 系統 看到 這 個 複試 名單 明天 星期二 出來 這 個 ...   \n",
       "94  前 天 女友 做 做完 之後 哭 安撫 情緒 詢問 說 弄痛 說 怕 父母 知道 失望 有 罪惡感 女友 父母 有 說 等 結婚 之後 做 隨便 說 每 個 人 有 慾望 自責 女友 任 交往 三 年 前 一陣子 做 這 次 次 上 個 月 時侯 有 戴 外面 磨 磨 小心 滑進去 這 次 個 出去 住 弄 弄 之後 說 想要 進去 想 住 外面 怕 聽到 主動 之前 說 想要 導致 有 ...   \n",
       "95  感謝 之間 連結 帶領 來到 這裡 主題 愛情 塔羅 感情 關係 感情 關係 何 個 人 近期 發展 曖昧 交往 中 斷聯 復合 本 次 占卜 適合 處在 曖昧 交往 中 斷聯 分手 期待 份 感情 重要 核心 在於 一樣 東西 相同 理解 感情 需求 相處 上 融洽 請 閉上 眼睛 深呼吸 腦子 專心 裡 想 感情 關係 什麼 相同 想想 樣子 有 個 人 相處 點滴 張開 眼睛 組 牌...   \n",
       "96  近期 購入 款 古董包 新歡 讓 愛不釋手 古董包 緣故 包況 有 些 理想 狀況 帶有 小 瑕疵 部分 接受 包包 容量 文 內 有 帶到 小 部分 有 實 揹照 部分 開口 笑 方 盒子 名字 參考 小紅 書 介紹 購入 價格 購入 方式 代購 賣場 尺寸 公分 容量 暗層 這 款 愛 想 買給 媽媽 當作 生日 禮物 藏 房間 每 天 看 好 喜歡 後來 購入 送給 媽媽 這 款 留...   \n",
       "97                                                                                                                   公車 上 有 個 阿伯 下車 前 說 妹妹 有 愛心 讓 位置 給 有 些 人 裝睡 講完 這 句 話 瞄 眼 旁邊 女生 笑笑 阿伯 那 個 女生 朋友 阿伯 講完 下車   \n",
       "98  好 這裡 金魚 這 次 占卜 適合 斷聯 曖昧 復合 族群 上 圖 之前 置入 占卜 集合 多 人 能量 請 選擇 有 感應 部分 聆聽 喜歡 請 點 連結 喜歡 文字 下面 附上 文案 組 這 個 對象 之前 感情 坎坷 劈腿 騙 錢 這 有 可能 關 久 遇見 願意 心房 打開 相處 過程 中 知道 什麼 無私 愛 這 種 感情 原生 家庭 感受到 防備 讓 受傷 熱情 有 正向 感染...   \n",
       "99  當 女朋友 看進 眼睛 反射出 倒影 躺 床 上 呼吸 紊亂 午後 陽光 肆無忌憚 灑 身 上 溫暖 故事 英國 開始 大學 畢業 後 跑到 英國 念 碩士 人生地不熟 地方 個 認識 人 沒有 週 生活 個 人 吃飯 逛街 看劇 度過 加上 那時 走出 前 女友 劈腿 陰影 那 段 時間 說 實在 煎熬 後來 認識 住在 同 個 宿舍 台灣人 知道 身邊 有 有 這樣 朋友 人脈 感覺 ...   \n",
       "\n",
       "    ClusterLabels  \n",
       "90              2  \n",
       "91              1  \n",
       "92              2  \n",
       "93              1  \n",
       "94              1  \n",
       "95              1  \n",
       "96              0  \n",
       "97              1  \n",
       "98              1  \n",
       "99              1  "
      ]
     },
     "execution_count": 32,
     "metadata": {},
     "output_type": "execute_result"
    }
   ],
   "source": [
    "from sklearn.cluster import KMeans\n",
    "\n",
    "km = KMeans(n_clusters=num_of_topic, random_state=0)\n",
    "km.fit_transform(features)\n",
    "cluster_labels = km.labels_\n",
    "corpus_df2['ClusterLabels'] = cluster_labels\n",
    "corpus_df2.tail(10)"
   ]
  },
  {
   "cell_type": "code",
   "execution_count": 33,
   "metadata": {
    "tags": [
     "remove-input",
     "remove-output"
    ]
   },
   "outputs": [
    {
     "name": "stderr",
     "output_type": "stream",
     "text": [
      "/Users/Alvin/.local/lib/python3.7/site-packages/ipykernel/ipkernel.py:287: DeprecationWarning: `should_run_async` will not call `transform_cell` automatically in the future. Please pass the result to `transformed_cell` argument and any exception that happen during thetransform in `preprocessing_exc_tuple` in IPython 7.17 and above.\n",
      "  and should_run_async(code)\n"
     ]
    },
    {
     "data": {
      "text/plain": [
       "array([1, 3, 1, 1, 1, 1, 2, 1, 1, 1, 0, 2, 1, 2, 1, 1, 0, 1, 1, 1, 1, 1,\n",
       "       1, 0, 1, 2, 1, 1, 2, 1, 0, 1, 2, 1, 0, 2, 3, 1, 3, 1, 1, 1, 3, 0,\n",
       "       1, 1, 0, 0, 1, 0, 0, 0, 2, 1, 1, 1, 3, 2, 1, 1, 0, 2, 1, 0, 1, 0,\n",
       "       1, 1, 0, 1, 1, 0, 0, 1, 1, 1, 1, 2, 2, 0, 0, 3, 1, 0, 2, 0, 0, 1,\n",
       "       1, 2, 1, 2, 1, 1, 1, 0, 1, 1, 1], dtype=int32)"
      ]
     },
     "execution_count": 33,
     "metadata": {},
     "output_type": "execute_result"
    }
   ],
   "source": [
    "cluster_labels"
   ]
  },
  {
   "cell_type": "markdown",
   "metadata": {
    "tags": [
     "remove-input",
     "remove-output"
    ]
   },
   "source": [
    "### Grid Search for Topic Number"
   ]
  },
  {
   "cell_type": "code",
   "execution_count": 34,
   "metadata": {
    "tags": [
     "remove-input",
     "remove-output"
    ]
   },
   "outputs": [
    {
     "name": "stderr",
     "output_type": "stream",
     "text": [
      "/Users/Alvin/.local/lib/python3.7/site-packages/ipykernel/ipkernel.py:287: DeprecationWarning: `should_run_async` will not call `transform_cell` automatically in the future. Please pass the result to `transformed_cell` argument and any exception that happen during thetransform in `preprocessing_exc_tuple` in IPython 7.17 and above.\n",
      "  and should_run_async(code)\n",
      "[Parallel(n_jobs=-1)]: Using backend LokyBackend with 4 concurrent workers.\n"
     ]
    },
    {
     "name": "stdout",
     "output_type": "stream",
     "text": [
      "Fitting 5 folds for each of 4 candidates, totalling 20 fits\n"
     ]
    },
    {
     "name": "stderr",
     "output_type": "stream",
     "text": [
      "[Parallel(n_jobs=-1)]: Done  20 out of  20 | elapsed:    2.7s finished\n"
     ]
    },
    {
     "name": "stdout",
     "output_type": "stream",
     "text": [
      "Best Model's Params:  {'learning_decay': 0.5, 'n_components': 4}\n",
      "Best Log Likelihood Score:  -6762.398104277998\n"
     ]
    }
   ],
   "source": [
    "%%time\n",
    "from sklearn.decomposition import LatentDirichletAllocation\n",
    "from sklearn.model_selection import GridSearchCV\n",
    "\n",
    "# Options to try with our LDA\n",
    "# Beware it will try *all* of the combinations, so it'll take ages\n",
    "search_params = {\n",
    "  'n_components': [4, 6],\n",
    "  'learning_decay': [.5, .7]\n",
    "}\n",
    "\n",
    "# Set up LDA with the options we'll keep static\n",
    "model = LatentDirichletAllocation(learning_method='online')\n",
    "\n",
    "# Try all of the options\n",
    "gridsearch = GridSearchCV(model, param_grid=search_params, n_jobs=-1, verbose=1)\n",
    "gridsearch.fit(cv_matrix)\n",
    "\n",
    "# What did we find?\n",
    "print(\"Best Model's Params: \", gridsearch.best_params_)\n",
    "print(\"Best Log Likelihood Score: \", gridsearch.best_score_)"
   ]
  },
  {
   "cell_type": "code",
   "execution_count": 35,
   "metadata": {
    "tags": [
     "remove-input",
     "remove-output"
    ]
   },
   "outputs": [
    {
     "name": "stderr",
     "output_type": "stream",
     "text": [
      "/Users/Alvin/.local/lib/python3.7/site-packages/ipykernel/ipkernel.py:287: DeprecationWarning: `should_run_async` will not call `transform_cell` automatically in the future. Please pass the result to `transformed_cell` argument and any exception that happen during thetransform in `preprocessing_exc_tuple` in IPython 7.17 and above.\n",
      "  and should_run_async(code)\n"
     ]
    },
    {
     "name": "stdout",
     "output_type": "stream",
     "text": [
      "Topic 0: 開始 時候 什麼 朋友 看到 知道 發現 喜歡 覺得 之後\n",
      "Topic 1: 覺得 這樣 工作 現在 知道 很多 喜歡 分享 什麼 故事\n",
      "Topic 2: 覺得 粉底 現在 表示 要求 成功 知道 之前 這樣 可愛\n",
      "Topic 3: 男友 媽媽 什麼 女生 今天 大學 看到 白色 認識 沒有\n",
      "CPU times: user 643 ms, sys: 7.83 ms, total: 651 ms\n",
      "Wall time: 648 ms\n"
     ]
    }
   ],
   "source": [
    "%%time\n",
    "\n",
    "from sklearn.decomposition import LatentDirichletAllocation\n",
    "\n",
    "# Use LDA to look for 5 topics\n",
    "n_topics = 4\n",
    "model = LatentDirichletAllocation(learning_method='online', n_components=n_topics, learning_decay=0.5)\n",
    "dt_matrix = model.fit_transform(cv_matrix)\n",
    "\n",
    "# Print the top 10 words per topic\n",
    "n_words = 10\n",
    "feature_names = cv.get_feature_names()\n",
    "\n",
    "topic_list = []\n",
    "for topic_idx, topic in enumerate(model.components_):\n",
    "    top_n = [feature_names[i]\n",
    "             for i in topic.argsort()\n",
    "             [-n_words:]][::-1]\n",
    "    top_features = ' '.join(top_n)\n",
    "    topic_list.append(f\"topic_{'_'.join(top_n[:3])}\") \n",
    "\n",
    "    print(f\"Topic {topic_idx}: {top_features}\")\n"
   ]
  },
  {
   "cell_type": "code",
   "execution_count": 36,
   "metadata": {
    "tags": [
     "remove-input",
     "remove-output"
    ]
   },
   "outputs": [
    {
     "name": "stderr",
     "output_type": "stream",
     "text": [
      "/Users/Alvin/.local/lib/python3.7/site-packages/ipykernel/ipkernel.py:287: DeprecationWarning: `should_run_async` will not call `transform_cell` automatically in the future. Please pass the result to `transformed_cell` argument and any exception that happen during thetransform in `preprocessing_exc_tuple` in IPython 7.17 and above.\n",
      "  and should_run_async(code)\n"
     ]
    }
   ],
   "source": [
    "# Set it up as a dataframe\n",
    "features = pd.DataFrame(dt_matrix, columns = [\"T\"+str(n) for n in range(1,n_topics+1)])"
   ]
  },
  {
   "cell_type": "code",
   "execution_count": 37,
   "metadata": {
    "scrolled": true,
    "tags": [
     "remove-input",
     "remove-output"
    ]
   },
   "outputs": [
    {
     "name": "stderr",
     "output_type": "stream",
     "text": [
      "/Users/Alvin/.local/lib/python3.7/site-packages/ipykernel/ipkernel.py:287: DeprecationWarning: `should_run_async` will not call `transform_cell` automatically in the future. Please pass the result to `transformed_cell` argument and any exception that happen during thetransform in `preprocessing_exc_tuple` in IPython 7.17 and above.\n",
      "  and should_run_async(code)\n"
     ]
    },
    {
     "data": {
      "text/plain": [
       "<matplotlib.legend.Legend at 0x7fa811338278>"
      ]
     },
     "execution_count": 37,
     "metadata": {},
     "output_type": "execute_result"
    },
    {
     "data": {
      "image/png": "[encoded data removed]",
      "text/plain": [
       "<Figure size 720x360 with 1 Axes>"
      ]
     },
     "metadata": {
      "needs_background": "light"
     },
     "output_type": "display_data"
    }
   ],
   "source": [
    "x_axis = corpus_df2.index\n",
    "y_axis = features\n",
    "\n",
    "fig, ax = plt.subplots(figsize=(10,5))\n",
    "\n",
    "# Plot a stackplot - https://matplotlib.org/3.1.1/gallery/lines_bars_and_markers/stackplot_demo.html\n",
    "ax.stackplot(x_axis, y_axis.T, baseline='wiggle', labels=y_axis.columns)\n",
    "\n",
    "# Move the legend off of the chart\n",
    "ax.legend(loc=(1.04,0))"
   ]
  },
  {
   "cell_type": "code",
   "execution_count": 307,
   "metadata": {
    "tags": [
     "remove-input",
     "remove-output"
    ]
   },
   "outputs": [],
   "source": [
    "from tmtoolkit.topicmod.evaluate import metric_coherence_gensim"
   ]
  },
  {
   "cell_type": "code",
   "execution_count": 310,
   "metadata": {
    "tags": [
     "remove-input",
     "remove-output"
    ]
   },
   "outputs": [
    {
     "data": {
      "text/plain": [
       "array([[1.99622656, 4.43427231, 2.12298073, ..., 2.10537896, 4.59528939,\n",
       "        1.20741198],\n",
       "       [2.18366783, 0.65372205, 0.46146093, ..., 0.60133333, 2.12917148,\n",
       "        1.24868343],\n",
       "       [1.22940268, 2.75627593, 2.02141124, ..., 7.50715219, 1.86656863,\n",
       "        0.50491256]])"
      ]
     },
     "execution_count": 310,
     "metadata": {},
     "output_type": "execute_result"
    }
   ],
   "source": [
    "model.components_"
   ]
  },
  {
   "cell_type": "code",
   "execution_count": 334,
   "metadata": {
    "tags": [
     "remove-input",
     "remove-output"
    ]
   },
   "outputs": [
    {
     "data": {
      "text/plain": [
       "[0.514889678590938, 0.21459892616206094, 0.24997943126350197]"
      ]
     },
     "execution_count": 334,
     "metadata": {},
     "output_type": "execute_result"
    }
   ],
   "source": [
    "# lda_model - LatentDirichletAllocation()\n",
    "# vect - CountVectorizer()\n",
    "# texts - the list of tokenized words\n",
    "norm_corpus\n",
    "norm_corpus_tokens = [doc.split() for doc in norm_corpus]\n",
    "\n",
    "\n",
    "metric_coherence_gensim(measure='c_v', \n",
    "                        top_n=5, \n",
    "                        topic_word_distrib= model.components_, \n",
    "                        dtm=cv.fit_transform(norm_corpus), \n",
    "                        vocab=np.array(cv.get_feature_names()), \n",
    "                        texts=norm_corpus_tokens)"
   ]
  }
 ],
 "metadata": {
  "celltoolbar": "Tags",
  "kernelspec": {
   "display_name": "python-notes",
   "language": "python",
   "name": "python-notes"
  },
  "language_info": {
   "codemirror_mode": {
    "name": "ipython",
    "version": 3
   },
   "file_extension": ".py",
   "mimetype": "text/x-python",
   "name": "python",
   "nbconvert_exporter": "python",
   "pygments_lexer": "ipython3",
   "version": "3.7.6"
  },
  "toc": {
   "base_numbering": 1,
   "nav_menu": {},
   "number_sections": false,
   "sideBar": true,
   "skip_h1_title": false,
   "title_cell": "Table of Contents",
   "title_sidebar": "Contents",
   "toc_cell": false,
   "toc_position": {
    "height": "calc(100% - 180px)",
    "left": "10px",
    "top": "150px",
    "width": "256px"
   },
   "toc_section_display": true,
   "toc_window_display": true
  },
  "varInspector": {
   "cols": {
    "lenName": 16,
    "lenType": 16,
    "lenVar": 40
   },
   "kernels_config": {
    "python": {
     "delete_cmd_postfix": "",
     "delete_cmd_prefix": "del ",
     "library": "var_list.py",
     "varRefreshCmd": "print(var_dic_list())"
    },
    "r": {
     "delete_cmd_postfix": ") ",
     "delete_cmd_prefix": "rm(",
     "library": "var_list.r",
     "varRefreshCmd": "cat(var_dic_list()) "
    }
   },
   "types_to_exclude": [
    "module",
    "function",
    "builtin_function_or_method",
    "instance",
    "_Feature"
   ],
   "window_display": false
  }
 },
 "nbformat": 4,
 "nbformat_minor": 4
}
