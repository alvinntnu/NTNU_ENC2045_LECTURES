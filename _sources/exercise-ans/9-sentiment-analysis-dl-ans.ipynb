{
 "cells": [
  {
   "cell_type": "markdown",
   "metadata": {
    "slideshow": {
     "slide_type": "slide"
    }
   },
   "source": [
    "# Assignment IX: Sentiment Analysis Using Deep Learning"
   ]
  },
  {
   "cell_type": "markdown",
   "metadata": {},
   "source": [
    "## Question 1\n",
    "\n",
    "Build a movie review classifier using the dataset in `demo_data/movie_reviews.csv`. The objective of the classifier is to automatically classify a movie review into either positive or negative category.\n",
    "\n",
    "The dataset is the famous IMBd moview reviews dataset. You can take a look at the SOTA classification performance on this dataset [here](https://paperswithcode.com/sota/sentiment-analysis-on-imdb).\n",
    "\n",
    "In your experiments, please include the following strategies in your considerations:\n",
    "\n",
    "- Please use sequence models for this task (you may experiment with networks of different topologies).\n",
    "- For embedding layers, please try both self-trained embedding layer along with the sentiment classifier, as well as pre-trained embeddings (either provided in `spacy`, or available on [GloVe](https://nlp.stanford.edu/projects/glove/) website).\n",
    "- Please include dropout and regularization layers to avoid overfitting."
   ]
  },
  {
   "cell_type": "markdown",
   "metadata": {
    "tags": [
     "remove-input",
     "remove-output"
    ]
   },
   "source": [
    "- This tutorial uses Sarkar's book example.\n",
    "- Simple Multilayer Deep Neural Network on Sentiment Classification\n",
    "- Use the average text embeddings based on word embeddings\n",
    "- Use both self-trained word embeddings and spacy embeddings."
   ]
  },
  {
   "cell_type": "code",
   "execution_count": 45,
   "metadata": {
    "slideshow": {
     "slide_type": "subslide"
    },
    "tags": [
     "remove-input",
     "remove-output"
    ]
   },
   "outputs": [
    {
     "name": "stdout",
     "output_type": "stream",
     "text": [
      "CPU times: user 1.17 ms, sys: 2.15 ms, total: 3.32 ms\n",
      "Wall time: 83.8 ms\n"
     ]
    }
   ],
   "source": [
    "%%time\n",
    "\n",
    "## loading packages\n",
    "\n",
    "import pandas as pd\n",
    "import numpy as np\n",
    "import nltk\n",
    "import gensim\n",
    "import tensorflow\n",
    "from tensorflow import keras\n",
    "from keras.preprocessing.text import Tokenizer\n",
    "from keras.preprocessing import sequence\n",
    "from keras.models import Sequential\n",
    "from keras.layers import Dropout, Activation, Dense\n",
    "from sklearn.preprocessing import LabelEncoder\n",
    "from keras.layers.normalization import BatchNormalization\n",
    "\n",
    "np.set_printoptions(precision=2, linewidth=80)"
   ]
  },
  {
   "cell_type": "code",
   "execution_count": 38,
   "metadata": {
    "slideshow": {
     "slide_type": "subslide"
    },
    "tags": [
     "remove-input",
     "remove-output"
    ]
   },
   "outputs": [
    {
     "name": "stdout",
     "output_type": "stream",
     "text": [
      "2.4.1\n",
      "                                              review sentiment\n",
      "0  One of the other reviewers has mentioned that ...  positive\n",
      "1  A wonderful little production. <br /><br />The...  positive\n",
      "2  I thought this was a wonderful way to spend ti...  positive\n",
      "3  Basically there's a family where a little boy ...  negative\n",
      "4  Petter Mattei's \"Love in the Time of Money\" is...  positive\n",
      "(50000,)\n",
      "(50000,)\n"
     ]
    }
   ],
   "source": [
    "print(tensorflow.__version__)\n",
    "\n",
    "## Loading the raw data and look at the structure of the data quickly\n",
    "dataset = pd.read_csv('../../../RepositoryData/data/movie_reviews.csv')\n",
    "\n",
    "# take a peek at the data\n",
    "print(dataset.head())\n",
    "\n",
    "## split reviews and sentiments\n",
    "reviews = np.array(dataset['review'])\n",
    "sentiments = np.array([0 if l==\"negative\" else 1 for l in dataset['sentiment']])\n",
    "\n",
    "print(reviews.shape)\n",
    "print(sentiments.shape)\n",
    "\n",
    "# build train and test datasets\n",
    "train_reviews = reviews[:35000]\n",
    "train_sentiments = sentiments[:35000]\n",
    "test_reviews = reviews[35000:]\n",
    "test_sentiments = sentiments[35000:]"
   ]
  },
  {
   "cell_type": "code",
   "execution_count": 4,
   "metadata": {
    "tags": [
     "remove-input",
     "remove-output"
    ]
   },
   "outputs": [],
   "source": [
    "import TAWP\n",
    "import re\n",
    "from TAWP.contractions import CONTRACTION_MAP\n",
    "\n",
    "def expand_contractions(text, contraction_mapping=CONTRACTION_MAP):\n",
    "    ## create a regex pattern of all contracted forms\n",
    "    contractions_pattern = re.compile('({})'.format('|'.join(\n",
    "        contraction_mapping.keys())),\n",
    "                                      flags=re.IGNORECASE | re.DOTALL)\n",
    "\n",
    "    def expand_match(contraction):\n",
    "        match = contraction.group(0)  # the whole matched contraction\n",
    "\n",
    "        # if the matched contraction (=keys) exists in the dict,\n",
    "        # get its corresponding uncontracted form (=values)\n",
    "        expanded_contraction = contraction_mapping.get(match)\\\n",
    "                                if contraction_mapping.get(match)\\\n",
    "                                else contraction_mapping.get(match.lower())\n",
    "\n",
    "        return expanded_contraction\n",
    "\n",
    "    # find each contraction in the pattern,\n",
    "    # find it from text,\n",
    "    # and replace it using the output of\n",
    "    # expand_match\n",
    "    expanded_text = contractions_pattern.sub(expand_match, text)\n",
    "    expanded_text = re.sub(\"'\", \"\", expanded_text)\n",
    "    return expanded_text"
   ]
  },
  {
   "cell_type": "code",
   "execution_count": 5,
   "metadata": {
    "tags": [
     "remove-input",
     "remove-output"
    ]
   },
   "outputs": [],
   "source": [
    "def normalize(text):\n",
    "    text = expand_contractions(text)\n",
    "    text = re.sub(r'<.+?>',\"\", text)\n",
    "    text = re.sub(r'\\s+',' ', text)\n",
    "    return text\n",
    "    \n",
    "normalize_corpus = np.vectorize(normalize)"
   ]
  },
  {
   "cell_type": "code",
   "execution_count": 6,
   "metadata": {
    "tags": [
     "remove-input",
     "remove-output"
    ]
   },
   "outputs": [
    {
     "name": "stdout",
     "output_type": "stream",
     "text": [
      "Okay, last night, August 18th, 2004, I had the distinct displeasure of meeting Mr. Van Bebble at a showing of the film The Manson Family at the Three Penny in Chicago as part of the Chicago Underground Film Festival. Here's what I have to say about it. First of all, the film is an obvious rip off of every Kenneth Anger, Roman Polanski, Oliver Stone and Terry Gilliam movie I've ever seen. Second of all, in a short Q & A session after the show Mr. Van Bebble immediately stated that he never made any contact with the actual Manson Family members or Charlie himself, calling them liars and saying he wanted nothing to do with them, that the film was based on his (Van Bebble's) take on the trial having seen it all from his living room on TV and in the news (and I'm assuming from the Autobiography and the book Helter Skelter which were directly mimicked through the narrative). So I had second dibs on questions, I asked if he was trying to present the outsider, Mtv, sex drugs and rock 'n roll version and not necessarily the true story. This question obviously pissed off the by now sloshed director who started shouting \"f*** you, shut the f*** up, this is the truth! All those other movies are bullsh**!\"<br /><br />Well anyway, I didn't even think about how ridiculous this was until the next day when I read the tagline for the film, \"You've heard the laws side of the story...now hear the story as it is told by the Manson Family.\" Excuse me, if this guy has never even spoken to the family and considers them to be liars that he doesn't want to have anything to do with, how in God's name can he tell the story for them!? This is the most ridiculous statement I have ever heard! The film was obviously catered to the sex drugs and rock 'n roll audience that it had no trouble in attracting to the small, dimly lit theatre, and was even more obviously spawned by the sex drugs and rock 'n roll mind of a man who couldn't even watch his own film without getting up every ten minutes to go get more beer or to shout some sort of Rocky Horroresque call line to the actors on screen. This film accomplishes little more than warping the public's image of actual events (which helped shape the state of America and much of the world today) into some sort of Slasher/Comic Book/Porno/Rape fantasy dreamed up by an obviously shallow individual.<br /><br />The film was definitely very impressive to look at. The soundtrack was refreshing as it contained actual samples of Charlie's work with the Family off of his Lie album. The editing was nice and choppy to simulate the nauseating uncertainty of most modern music videos. All in all this film would have made a much better addition to the catalogues at Mtv than to the Underground Film Festival or for that matter the minds of any intellectual observers. I felt like I was at a midnight Rocky Horror viewing the way the audience was dressed and behaving (probably the best part of the experience). The cast was very good with the exception of Charlie who resembled some sort of stoned Dungeons and Dragons enthusiast more than the actual role he was portraying. The descriptions the film gave of him as full of energy, throwing ten things at you and being very physical about it all the while did not match at all the slow, lethargic, and chubby representation that was actually presented.<br /><br />All in all the film basically explains itself as Sadie (or maybe it was Linda) declares at the end, \"You can write a bunch of bullsh** books or make a bunch of bullsh** movies...etc. etc.\" Case in point. Even the disclaimer \"Based on a True Story\" is a dead giveaway, signalling that somewhere beneath this psychedelic garbage heap lay the foundation of an actual story with content that will make and has made a difference in the world. All you have to do is a little bit of alchemy to separate the truth from the the crap, or actually, maybe you could just avoid it all together and go read a book instead.<br /><br />All I can say is this, when the film ended I got a free beer so I'm glad I went, but not so glad I spent fifteen dollars on my ticket to be told to shut the f*** up for asking the director a question. Peace.\n"
     ]
    }
   ],
   "source": [
    "print(train_reviews[101])"
   ]
  },
  {
   "cell_type": "code",
   "execution_count": 7,
   "metadata": {
    "tags": [
     "remove-input",
     "remove-output"
    ]
   },
   "outputs": [
    {
     "name": "stdout",
     "output_type": "stream",
     "text": [
      "A wonderful little production. The filming technique is very unassuming- very old-time-BBC fashion and gives a comforting, and sometimes discomforting, sense of realism to the entire piece. The actors are extremely well chosen- Michael Sheen not only \"has got all the polari\" but he has all the voices down pat too! You can truly see the seamless editing guided by the references to Williams diary entries, not only is it well worth the watching but it is a terrificly written and performed piece. A masterful production about one of the great masters of comedy and his life. The realism really comes home with the little things: the fantasy of the guard which, rather than use the traditional dream techniques remains solid then disappears. It plays on our knowledge and our senses, particularly with the scenes concerning Orton and Halliwell and the sets (particularly of their flat with Halliwells murals decorating every surface) are terribly well done.\n"
     ]
    }
   ],
   "source": [
    "print(normalize_corpus(train_reviews[1]))"
   ]
  },
  {
   "cell_type": "code",
   "execution_count": 8,
   "metadata": {
    "slideshow": {
     "slide_type": "subslide"
    },
    "tags": [
     "remove-input",
     "remove-output"
    ]
   },
   "outputs": [
    {
     "name": "stdout",
     "output_type": "stream",
     "text": [
      "CPU times: user 1min 46s, sys: 979 ms, total: 1min 47s\n",
      "Wall time: 1min 49s\n"
     ]
    }
   ],
   "source": [
    "%%time\n",
    "## Processing is ignored\n",
    "norm_train_reviews = normalize_corpus(train_reviews)\n",
    "norm_test_reviews = normalize_corpus(test_reviews)"
   ]
  },
  {
   "cell_type": "code",
   "execution_count": 62,
   "metadata": {
    "tags": [
     "remove-input",
     "remove-output"
    ]
   },
   "outputs": [
    {
     "name": "stdout",
     "output_type": "stream",
     "text": [
      "Vocabulary Size: 10001\n"
     ]
    }
   ],
   "source": [
    "NUM_WORDS = 10000\n",
    "\n",
    "tokenizer=Tokenizer(num_words=NUM_WORDS)\n",
    "tokenizer.fit_on_texts(train_reviews)\n",
    "\n",
    "# vocab_size = len(tokenizer.word_index) + 1\n",
    "VOCAB_SIZE = tokenizer.num_words + 1\n",
    "print('Vocabulary Size: %d' % vocab_size)"
   ]
  },
  {
   "cell_type": "code",
   "execution_count": 51,
   "metadata": {
    "tags": [
     "remove-input",
     "remove-output"
    ]
   },
   "outputs": [
    {
     "data": {
      "text/plain": [
       "[('the', 1),\n",
       " ('and', 2),\n",
       " ('a', 3),\n",
       " ('of', 4),\n",
       " ('to', 5),\n",
       " ('is', 6),\n",
       " ('br', 7),\n",
       " ('in', 8),\n",
       " ('it', 9),\n",
       " ('i', 10)]"
      ]
     },
     "execution_count": 51,
     "metadata": {},
     "output_type": "execute_result"
    }
   ],
   "source": [
    "list(tokenizer.word_index.items())[:10]"
   ]
  },
  {
   "cell_type": "code",
   "execution_count": 59,
   "metadata": {
    "tags": [
     "remove-input",
     "remove-output"
    ]
   },
   "outputs": [],
   "source": [
    "def reviews_to_sequences(reviews, MAX_LEN = 200):\n",
    "    reviews_int = tokenizer.texts_to_sequences(reviews)\n",
    "    reviews_pad = sequence.pad_sequences(reviews_int,\n",
    "                           maxlen = MAX_LEN, \n",
    "                           truncating='pre', \n",
    "                           padding='pre')\n",
    "    return np.array(reviews_pad).astype('float32')\n",
    "\n",
    "\n",
    "X_train = reviews_to_sequences(train_reviews)\n",
    "X_test = reviews_to_sequences(test_reviews)\n",
    "y_train = keras.utils.to_categorical(train_sentiments, num_classes) ## sequences to one-hot\n",
    "y_test = keras.utils.to_categorical(test_sentiments, num_classes) ## sequences to one-hot\n"
   ]
  },
  {
   "cell_type": "code",
   "execution_count": 73,
   "metadata": {
    "tags": [
     "remove-input",
     "remove-output"
    ]
   },
   "outputs": [
    {
     "name": "stdout",
     "output_type": "stream",
     "text": [
      "(35000, 200)\n",
      "[[0. 1.]\n",
      " [0. 1.]\n",
      " [0. 1.]\n",
      " [1. 0.]\n",
      " [0. 1.]\n",
      " [0. 1.]\n",
      " [0. 1.]\n",
      " [1. 0.]\n",
      " [1. 0.]\n",
      " [0. 1.]]\n"
     ]
    }
   ],
   "source": [
    "print(X_train.shape)\n",
    "print(y_train[:10])"
   ]
  },
  {
   "cell_type": "code",
   "execution_count": 92,
   "metadata": {
    "tags": [
     "remove-input",
     "remove-output"
    ]
   },
   "outputs": [],
   "source": [
    "import matplotlib.pyplot as plt\n",
    "import matplotlib\n",
    "import pandas as pd\n",
    "# Plotting results\n",
    "def plot1(history):\n",
    "\n",
    "    matplotlib.rcParams['figure.dpi'] = 100\n",
    "    acc = history.history['accuracy']\n",
    "    val_acc = history.history['val_accuracy']\n",
    "    loss = history.history['loss']\n",
    "    val_loss = history.history['val_loss']\n",
    "\n",
    "    epochs = range(1, len(acc)+1)\n",
    "    ## Accuracy plot\n",
    "    plt.plot(epochs, acc, 'bo', label='Training acc')\n",
    "    plt.plot(epochs, val_acc, 'b', label='Validation acc')\n",
    "    plt.title('Training and validation accuracy')\n",
    "    plt.legend()\n",
    "    ## Loss plot\n",
    "    plt.figure()\n",
    "\n",
    "    plt.plot(epochs, loss, 'bo', label='Training loss')\n",
    "    plt.plot(epochs, val_loss, 'b', label='Validation loss')\n",
    "    plt.title('Training and validation loss')\n",
    "    plt.legend()\n",
    "    plt.show()\n",
    "\n",
    "    \n",
    "def plot2(history):\n",
    "    pd.DataFrame(history.history).plot(figsize=(8,5))\n",
    "    plt.grid(True)\n",
    "    #plt.gca().set_ylim(0,1)\n",
    "    plt.show()"
   ]
  },
  {
   "cell_type": "code",
   "execution_count": 82,
   "metadata": {
    "tags": [
     "remove-input",
     "remove-output"
    ]
   },
   "outputs": [],
   "source": [
    "def build_model_lstm():\n",
    "    model = Sequential()\n",
    "#     model.add(Input(shape=(MAX_LEN,)))\n",
    "    model.add(Embedding(VOCAB_SIZE, EMBED_DIM, mask_zero=True))\n",
    "    model.add(SpatialDropout1D(0.2))\n",
    "    model.add(LSTM(LSTM_DIM, dropout=0.2, recurrent_dropout=0.2))\n",
    "    model.add(Dense(2, activation=\"softmax\"))\n",
    "    return model\n",
    "def build_model_lstm_pretrained_emb(train_emb=False):\n",
    "    model = Sequential()\n",
    "#     model.add(Input(shape=(MAX_LEN,)))\n",
    "\n",
    "    model.add(Embedding(VOCAB_SIZE, EMBED_DIM, mask_zero=True,\n",
    "                        weights=[embedding_matrix], trainable=train_emb))\n",
    "    model.add(SpatialDropout1D(0.2))\n",
    "    model.add(LSTM(LSTM_DIM, dropout=0.2, recurrent_dropout=0.2))\n",
    "    model.add(Dense(2, activation=\"softmax\"))\n",
    "    return model\n",
    "\n",
    "def build_model_bilstm_pretrain_emb(train_emb=False):\n",
    "    model = Sequential()\n",
    "    model.add(Embedding(VOCAB_SIZE, EMBED_DIM, mask_zero=True, \n",
    "                       weights=[embedding_matrix], trainable=train_emb))\n",
    "    model.add(Bidirectional(LSTM(LSTM_DIM, return_sequences=True, dropout=0.5)))\n",
    "    model.add(Bidirectional(LSTM(LSTM_DIM, dropout=0.25)))\n",
    "    model.add(Dense(2, activation=\"softmax\"))\n",
    "    return model"
   ]
  },
  {
   "cell_type": "code",
   "execution_count": 60,
   "metadata": {
    "tags": [
     "remove-input",
     "remove-output"
    ]
   },
   "outputs": [],
   "source": [
    "### Using Spacy embeddings\n",
    "\n",
    "import spacy\n",
    "nlp = spacy.load('en_core_web_lg', disable=['parser', 'tag','entity'])"
   ]
  },
  {
   "cell_type": "code",
   "execution_count": 64,
   "metadata": {
    "tags": [
     "remove-input",
     "remove-output"
    ]
   },
   "outputs": [],
   "source": [
    "w2id = tokenizer.word_index\n",
    "id2w = {id:w for (w,id) in w2id.items()}"
   ]
  },
  {
   "cell_type": "code",
   "execution_count": 65,
   "metadata": {
    "tags": [
     "remove-input",
     "remove-output"
    ]
   },
   "outputs": [],
   "source": [
    "## initialize word embedding matrix\n",
    "EMBED_DIM = 300\n",
    "embedding_matrix = np.zeros((VOCAB_SIZE, EMBED_DIM))\n",
    "embedding_matrix.shape\n",
    "unk_cnt = 0\n",
    "unk_set = set()\n",
    "len(w2id)\n",
    "spacy_w2v = {}\n",
    "spacy_w2v = {nlp.vocab.strings[wid]:wvec for (wid, wvec) in nlp.vocab.vectors.items()}"
   ]
  },
  {
   "cell_type": "code",
   "execution_count": 66,
   "metadata": {
    "tags": [
     "remove-input",
     "remove-output"
    ]
   },
   "outputs": [
    {
     "data": {
      "text/plain": [
       "array([ 0.27, -0.06, -0.19,  0.02, -0.02,  0.01, -0.14,  0.18,  0.18,  2.59],\n",
       "      dtype=float32)"
      ]
     },
     "execution_count": 66,
     "metadata": {},
     "output_type": "execute_result"
    }
   ],
   "source": [
    "spacy_w2v['the'][:10]"
   ]
  },
  {
   "cell_type": "code",
   "execution_count": 67,
   "metadata": {
    "tags": [
     "remove-input",
     "remove-output"
    ]
   },
   "outputs": [
    {
     "data": {
      "text/plain": [
       "array([ 0.27, -0.06, -0.19,  0.02, -0.02,  0.01, -0.14,  0.18,  0.18,  2.59],\n",
       "      dtype=float32)"
      ]
     },
     "execution_count": 67,
     "metadata": {},
     "output_type": "execute_result"
    }
   ],
   "source": [
    "nlp('the').vector[:10]"
   ]
  },
  {
   "cell_type": "code",
   "execution_count": 68,
   "metadata": {
    "tags": [
     "remove-input",
     "remove-output"
    ]
   },
   "outputs": [
    {
     "name": "stdout",
     "output_type": "stream",
     "text": [
      "Total Unkown Words in IMDB: 195\n",
      "CPU times: user 30.2 ms, sys: 8.25 ms, total: 38.4 ms\n",
      "Wall time: 37.4 ms\n"
     ]
    }
   ],
   "source": [
    "%%time\n",
    "unk_cnt = 0\n",
    "unk_set = set()\n",
    "\n",
    "for word in list(w2id.keys())[:10000]:\n",
    "    cur_word_vec = spacy_w2v.get(word)\n",
    "    \n",
    "    if cur_word_vec is not None:\n",
    "        cur_word_id = w2id[word]\n",
    "        embedding_matrix[cur_word_id]=cur_word_vec\n",
    "\n",
    "    else:\n",
    "        unk_cnt +=1\n",
    "        unk_set.add(word)\n",
    "print(\"Total Unkown Words in IMDB:\", unk_cnt)"
   ]
  },
  {
   "cell_type": "code",
   "execution_count": null,
   "metadata": {
    "tags": [
     "remove-input",
     "remove-output"
    ]
   },
   "outputs": [],
   "source": [
    "## Using GloVe Embeddings"
   ]
  },
  {
   "cell_type": "code",
   "execution_count": 87,
   "metadata": {
    "tags": [
     "remove-input",
     "remove-output"
    ]
   },
   "outputs": [
    {
     "name": "stdout",
     "output_type": "stream",
     "text": [
      "400000\n"
     ]
    }
   ],
   "source": [
    "glove_file = \"../../../RepositoryData/data/glove/glove.6B/glove.6B.50d.txt\"\n",
    "glove_w2v = {}\n",
    "with open(glove_file,'r') as file:\n",
    "    for line in file:\n",
    "        tokens = line.split()\n",
    "        word = tokens[0]\n",
    "        vector = np.array(tokens[1:], dtype=np.float32)\n",
    "        \n",
    "        if vector.shape[0]==50:\n",
    "            glove_w2v[word] = vector\n",
    "        else:\n",
    "            print(\"There was an issue with \" + word)\n",
    "\n",
    "print(len(glove_w2v))"
   ]
  },
  {
   "cell_type": "code",
   "execution_count": 89,
   "metadata": {
    "tags": [
     "remove-input",
     "remove-output"
    ]
   },
   "outputs": [
    {
     "name": "stdout",
     "output_type": "stream",
     "text": [
      "Total Unkown Words in IMDB (GloVe): 184\n",
      "CPU times: user 22.1 ms, sys: 2.23 ms, total: 24.3 ms\n",
      "Wall time: 22.4 ms\n"
     ]
    }
   ],
   "source": [
    "%%time\n",
    "## initialize word embedding matrix\n",
    "EMBED_DIM = 50\n",
    "embedding_matrix_glove = np.zeros((VOCAB_SIZE, EMBED_DIM))\n",
    "embedding_matrix_glove.shape\n",
    "unk_cnt = 0\n",
    "unk_set = set()\n",
    "\n",
    "for word in list(w2id.keys())[:10000]:\n",
    "    cur_word_vec = glove_w2v.get(word)\n",
    "    \n",
    "    if cur_word_vec is not None:\n",
    "        cur_word_id = w2id[word]\n",
    "        embedding_matrix_glove[cur_word_id]=cur_word_vec\n",
    "\n",
    "    else:\n",
    "        unk_cnt +=1\n",
    "        unk_set.add(word)\n",
    "print(\"Total Unkown Words in IMDB (GloVe):\", unk_cnt)"
   ]
  },
  {
   "cell_type": "code",
   "execution_count": 83,
   "metadata": {
    "tags": [
     "remove-input",
     "remove-output"
    ]
   },
   "outputs": [],
   "source": [
    "## Model Building\n",
    "\n",
    "from keras.models import Sequential\n",
    "from keras.layers import Dense, Embedding, Dropout, SpatialDropout1D, Input, Bidirectional, LSTM\n",
    "\n",
    "LSTM_DIM = 64 # total LSTM units\n",
    "model1 = build_model_lstm()\n",
    "model2_1 = build_model_lstm_pretrained_emb(train_emb=False)\n",
    "model2_2 = build_model_lstm_pretrained_emb(train_emb=True)\n",
    "model3_1 = build_model_bilstm_pretrain_emb(train_emb=False)\n",
    "model3_2 = build_model_bilstm_pretrain_emb(train_emb=True)\n",
    "\n",
    "model1.compile(loss=\"categorical_crossentropy\", optimizer=\"adam\",\n",
    "              metrics=[\"accuracy\", \"Precision\", \"Recall\"])\n",
    "model2_1.compile(loss=\"categorical_crossentropy\", optimizer=\"adam\",\n",
    "              metrics=[\"accuracy\", \"Precision\", \"Recall\"])\n",
    "model2_2.compile(loss=\"categorical_crossentropy\", optimizer=\"adam\",\n",
    "              metrics=[\"accuracy\", \"Precision\", \"Recall\"])\n",
    "model3_1.compile(loss=\"categorical_crossentropy\", optimizer=\"adam\",\n",
    "              metrics=[\"accuracy\", \"Precision\", \"Recall\"])\n",
    "model3_2.compile(loss=\"categorical_crossentropy\", optimizer=\"adam\",\n",
    "              metrics=[\"accuracy\", \"Precision\", \"Recall\"])"
   ]
  },
  {
   "cell_type": "code",
   "execution_count": 75,
   "metadata": {
    "tags": [
     "remove-input",
     "remove-output"
    ]
   },
   "outputs": [],
   "source": [
    "EPOCH= 10\n",
    "BATCH_SIZE = 256"
   ]
  },
  {
   "cell_type": "code",
   "execution_count": 81,
   "metadata": {
    "tags": [
     "remove-input",
     "remove-output"
    ]
   },
   "outputs": [
    {
     "name": "stdout",
     "output_type": "stream",
     "text": [
      "(35000, 200)\n",
      "(35000, 2)\n"
     ]
    }
   ],
   "source": [
    "print(X_train.shape)\n",
    "print(y_train.shape)"
   ]
  },
  {
   "cell_type": "code",
   "execution_count": 84,
   "metadata": {
    "tags": [
     "remove-input",
     "remove-output"
    ]
   },
   "outputs": [
    {
     "name": "stdout",
     "output_type": "stream",
     "text": [
      "Epoch 1/10\n",
      "110/110 [==============================] - 108s 950ms/step - loss: 0.5505 - accuracy: 0.6854 - precision: 0.6854 - recall: 0.6854 - val_loss: 0.2941 - val_accuracy: 0.8789 - val_precision: 0.8789 - val_recall: 0.8789\n",
      "Epoch 2/10\n",
      "110/110 [==============================] - 94s 856ms/step - loss: 0.2328 - accuracy: 0.9103 - precision: 0.9103 - recall: 0.9103 - val_loss: 0.2995 - val_accuracy: 0.8806 - val_precision: 0.8806 - val_recall: 0.8806\n",
      "Epoch 3/10\n",
      "110/110 [==============================] - 93s 847ms/step - loss: 0.1613 - accuracy: 0.9425 - precision: 0.9425 - recall: 0.9425 - val_loss: 0.3269 - val_accuracy: 0.8761 - val_precision: 0.8761 - val_recall: 0.8761\n",
      "Epoch 4/10\n",
      "110/110 [==============================] - 97s 879ms/step - loss: 0.1191 - accuracy: 0.9585 - precision: 0.9585 - recall: 0.9585 - val_loss: 0.3472 - val_accuracy: 0.8687 - val_precision: 0.8687 - val_recall: 0.8687\n",
      "Epoch 5/10\n",
      "110/110 [==============================] - 100s 906ms/step - loss: 0.0961 - accuracy: 0.9676 - precision: 0.9676 - recall: 0.9676 - val_loss: 0.4318 - val_accuracy: 0.8696 - val_precision: 0.8696 - val_recall: 0.8696\n",
      "Epoch 6/10\n",
      "110/110 [==============================] - 95s 864ms/step - loss: 0.0718 - accuracy: 0.9776 - precision: 0.9776 - recall: 0.9776 - val_loss: 0.5271 - val_accuracy: 0.8674 - val_precision: 0.8674 - val_recall: 0.8674\n",
      "Epoch 7/10\n",
      "110/110 [==============================] - 95s 863ms/step - loss: 0.0491 - accuracy: 0.9843 - precision: 0.9843 - recall: 0.9843 - val_loss: 0.6444 - val_accuracy: 0.8630 - val_precision: 0.8630 - val_recall: 0.8630\n",
      "Epoch 8/10\n",
      "110/110 [==============================] - 96s 870ms/step - loss: 0.0571 - accuracy: 0.9828 - precision: 0.9828 - recall: 0.9828 - val_loss: 0.6434 - val_accuracy: 0.8631 - val_precision: 0.8631 - val_recall: 0.8631\n",
      "Epoch 9/10\n",
      "110/110 [==============================] - 95s 862ms/step - loss: 0.0586 - accuracy: 0.9796 - precision: 0.9796 - recall: 0.9796 - val_loss: 0.6003 - val_accuracy: 0.8641 - val_precision: 0.8641 - val_recall: 0.8641\n",
      "Epoch 10/10\n",
      "110/110 [==============================] - 96s 869ms/step - loss: 0.0401 - accuracy: 0.9881 - precision: 0.9881 - recall: 0.9881 - val_loss: 0.6364 - val_accuracy: 0.8614 - val_precision: 0.8614 - val_recall: 0.8614\n"
     ]
    }
   ],
   "source": [
    "## Model fitting\n",
    "history1 = model1.fit(X_train, y_train,\n",
    "                   epochs=EPOCH,\n",
    "                   batch_size= BATCH_SIZE,\n",
    "                   validation_split=0.2)"
   ]
  },
  {
   "cell_type": "code",
   "execution_count": 85,
   "metadata": {
    "scrolled": false,
    "tags": [
     "remove-input",
     "remove-output"
    ]
   },
   "outputs": [
    {
     "name": "stdout",
     "output_type": "stream",
     "text": [
      "Epoch 1/10\n",
      "110/110 [==============================] - 72s 631ms/step - loss: 0.5914 - accuracy: 0.6749 - precision: 0.6749 - recall: 0.6749 - val_loss: 0.4497 - val_accuracy: 0.8114 - val_precision: 0.8114 - val_recall: 0.8114\n",
      "Epoch 2/10\n",
      "110/110 [==============================] - 69s 624ms/step - loss: 0.4381 - accuracy: 0.8005 - precision: 0.8005 - recall: 0.8005 - val_loss: 0.3674 - val_accuracy: 0.8436 - val_precision: 0.8436 - val_recall: 0.8436\n",
      "Epoch 3/10\n",
      "110/110 [==============================] - 67s 605ms/step - loss: 0.4047 - accuracy: 0.8185 - precision: 0.8185 - recall: 0.8185 - val_loss: 0.4159 - val_accuracy: 0.8387 - val_precision: 0.8387 - val_recall: 0.8387\n",
      "Epoch 4/10\n",
      "110/110 [==============================] - 67s 613ms/step - loss: 0.3609 - accuracy: 0.8424 - precision: 0.8424 - recall: 0.8424 - val_loss: 0.3186 - val_accuracy: 0.8666 - val_precision: 0.8666 - val_recall: 0.8666\n",
      "Epoch 5/10\n",
      "110/110 [==============================] - 70s 633ms/step - loss: 0.3333 - accuracy: 0.8537 - precision: 0.8537 - recall: 0.8537 - val_loss: 0.3276 - val_accuracy: 0.8671 - val_precision: 0.8671 - val_recall: 0.8671\n",
      "Epoch 6/10\n",
      "110/110 [==============================] - 70s 633ms/step - loss: 0.3136 - accuracy: 0.8661 - precision: 0.8661 - recall: 0.8661 - val_loss: 0.3086 - val_accuracy: 0.8704 - val_precision: 0.8704 - val_recall: 0.8704\n",
      "Epoch 7/10\n",
      "110/110 [==============================] - 69s 631ms/step - loss: 0.3100 - accuracy: 0.8701 - precision: 0.8701 - recall: 0.8701 - val_loss: 0.2856 - val_accuracy: 0.8823 - val_precision: 0.8823 - val_recall: 0.8823\n",
      "Epoch 8/10\n",
      "110/110 [==============================] - 69s 628ms/step - loss: 0.2950 - accuracy: 0.8782 - precision: 0.8782 - recall: 0.8782 - val_loss: 0.2882 - val_accuracy: 0.8821 - val_precision: 0.8821 - val_recall: 0.8821\n",
      "Epoch 9/10\n",
      "110/110 [==============================] - 70s 633ms/step - loss: 0.2751 - accuracy: 0.8845 - precision: 0.8845 - recall: 0.8845 - val_loss: 0.2682 - val_accuracy: 0.8874 - val_precision: 0.8874 - val_recall: 0.8874\n",
      "Epoch 10/10\n",
      "110/110 [==============================] - 69s 631ms/step - loss: 0.2803 - accuracy: 0.8826 - precision: 0.8826 - recall: 0.8826 - val_loss: 0.2666 - val_accuracy: 0.8920 - val_precision: 0.8920 - val_recall: 0.8920\n",
      "Epoch 1/10\n",
      "110/110 [==============================] - 95s 839ms/step - loss: 0.5951 - accuracy: 0.6600 - precision: 0.6600 - recall: 0.6600 - val_loss: 0.3901 - val_accuracy: 0.8399 - val_precision: 0.8399 - val_recall: 0.8399\n",
      "Epoch 2/10\n",
      "110/110 [==============================] - 96s 870ms/step - loss: 0.3689 - accuracy: 0.8423 - precision: 0.8423 - recall: 0.8423 - val_loss: 0.3005 - val_accuracy: 0.8759 - val_precision: 0.8759 - val_recall: 0.8759\n",
      "Epoch 3/10\n",
      "110/110 [==============================] - 90s 814ms/step - loss: 0.2839 - accuracy: 0.8844 - precision: 0.8844 - recall: 0.8844 - val_loss: 0.2827 - val_accuracy: 0.8826 - val_precision: 0.8826 - val_recall: 0.8826\n",
      "Epoch 4/10\n",
      "110/110 [==============================] - 89s 809ms/step - loss: 0.2422 - accuracy: 0.9041 - precision: 0.9041 - recall: 0.9041 - val_loss: 0.2937 - val_accuracy: 0.8849 - val_precision: 0.8849 - val_recall: 0.8849\n",
      "Epoch 5/10\n",
      "110/110 [==============================] - 88s 797ms/step - loss: 0.2032 - accuracy: 0.9195 - precision: 0.9195 - recall: 0.9195 - val_loss: 0.2842 - val_accuracy: 0.8919 - val_precision: 0.8919 - val_recall: 0.8919\n",
      "Epoch 6/10\n",
      "110/110 [==============================] - 88s 802ms/step - loss: 0.1677 - accuracy: 0.9367 - precision: 0.9367 - recall: 0.9367 - val_loss: 0.2786 - val_accuracy: 0.8931 - val_precision: 0.8931 - val_recall: 0.8931\n",
      "Epoch 7/10\n",
      "110/110 [==============================] - 92s 836ms/step - loss: 0.1488 - accuracy: 0.9445 - precision: 0.9445 - recall: 0.9445 - val_loss: 0.2931 - val_accuracy: 0.8913 - val_precision: 0.8913 - val_recall: 0.8913\n",
      "Epoch 8/10\n",
      "110/110 [==============================] - 89s 808ms/step - loss: 0.1286 - accuracy: 0.9544 - precision: 0.9544 - recall: 0.9544 - val_loss: 0.3373 - val_accuracy: 0.8914 - val_precision: 0.8914 - val_recall: 0.8914\n",
      "Epoch 9/10\n",
      "110/110 [==============================] - 89s 812ms/step - loss: 0.1097 - accuracy: 0.9612 - precision: 0.9612 - recall: 0.9612 - val_loss: 0.3927 - val_accuracy: 0.8863 - val_precision: 0.8863 - val_recall: 0.8863\n",
      "Epoch 10/10\n",
      "110/110 [==============================] - 89s 814ms/step - loss: 0.0859 - accuracy: 0.9696 - precision: 0.9696 - recall: 0.9696 - val_loss: 0.3883 - val_accuracy: 0.8891 - val_precision: 0.8891 - val_recall: 0.8891\n",
      "Epoch 1/10\n",
      "110/110 [==============================] - 180s 2s/step - loss: 0.5632 - accuracy: 0.6877 - precision: 0.6877 - recall: 0.6877 - val_loss: 0.4038 - val_accuracy: 0.8300 - val_precision: 0.8300 - val_recall: 0.8300\n",
      "Epoch 2/10\n",
      "110/110 [==============================] - 161s 1s/step - loss: 0.3872 - accuracy: 0.8305 - precision: 0.8305 - recall: 0.8305 - val_loss: 0.3760 - val_accuracy: 0.8443 - val_precision: 0.8443 - val_recall: 0.8443\n",
      "Epoch 3/10\n",
      "110/110 [==============================] - 161s 1s/step - loss: 0.3583 - accuracy: 0.8426 - precision: 0.8426 - recall: 0.8426 - val_loss: 0.3281 - val_accuracy: 0.8653 - val_precision: 0.8653 - val_recall: 0.8653\n",
      "Epoch 4/10\n",
      "110/110 [==============================] - 160s 1s/step - loss: 0.3193 - accuracy: 0.8642 - precision: 0.8642 - recall: 0.8642 - val_loss: 0.2916 - val_accuracy: 0.8764 - val_precision: 0.8764 - val_recall: 0.8764\n",
      "Epoch 5/10\n",
      "110/110 [==============================] - 160s 1s/step - loss: 0.3055 - accuracy: 0.8700 - precision: 0.8700 - recall: 0.8700 - val_loss: 0.2846 - val_accuracy: 0.8786 - val_precision: 0.8786 - val_recall: 0.8786\n",
      "Epoch 6/10\n",
      "110/110 [==============================] - 159s 1s/step - loss: 0.2948 - accuracy: 0.8748 - precision: 0.8748 - recall: 0.8748 - val_loss: 0.2854 - val_accuracy: 0.8831 - val_precision: 0.8831 - val_recall: 0.8831\n",
      "Epoch 7/10\n",
      "110/110 [==============================] - 160s 1s/step - loss: 0.2793 - accuracy: 0.8835 - precision: 0.8835 - recall: 0.8835 - val_loss: 0.2908 - val_accuracy: 0.8756 - val_precision: 0.8756 - val_recall: 0.8756\n",
      "Epoch 8/10\n",
      "110/110 [==============================] - 160s 1s/step - loss: 0.2680 - accuracy: 0.8898 - precision: 0.8898 - recall: 0.8898 - val_loss: 0.3139 - val_accuracy: 0.8746 - val_precision: 0.8746 - val_recall: 0.8746\n",
      "Epoch 9/10\n",
      "110/110 [==============================] - 159s 1s/step - loss: 0.2602 - accuracy: 0.8926 - precision: 0.8926 - recall: 0.8926 - val_loss: 0.2968 - val_accuracy: 0.8739 - val_precision: 0.8739 - val_recall: 0.8739\n",
      "Epoch 10/10\n",
      "110/110 [==============================] - 161s 1s/step - loss: 0.2485 - accuracy: 0.8964 - precision: 0.8964 - recall: 0.8964 - val_loss: 0.3286 - val_accuracy: 0.8629 - val_precision: 0.8629 - val_recall: 0.8629\n",
      "Epoch 1/10\n",
      "110/110 [==============================] - 209s 2s/step - loss: 0.5685 - accuracy: 0.6718 - precision: 0.6718 - recall: 0.6718 - val_loss: 0.3602 - val_accuracy: 0.8637 - val_precision: 0.8637 - val_recall: 0.8637\n",
      "Epoch 2/10\n",
      "110/110 [==============================] - 192s 2s/step - loss: 0.3002 - accuracy: 0.8747 - precision: 0.8747 - recall: 0.8747 - val_loss: 0.3376 - val_accuracy: 0.8814 - val_precision: 0.8814 - val_recall: 0.8814\n",
      "Epoch 3/10\n",
      "110/110 [==============================] - 192s 2s/step - loss: 0.2432 - accuracy: 0.9032 - precision: 0.9032 - recall: 0.9032 - val_loss: 0.3058 - val_accuracy: 0.8927 - val_precision: 0.8927 - val_recall: 0.8927\n",
      "Epoch 4/10\n",
      "110/110 [==============================] - 191s 2s/step - loss: 0.2138 - accuracy: 0.9174 - precision: 0.9174 - recall: 0.9174 - val_loss: 0.3465 - val_accuracy: 0.8860 - val_precision: 0.8860 - val_recall: 0.8860\n",
      "Epoch 5/10\n",
      "110/110 [==============================] - 191s 2s/step - loss: 0.1879 - accuracy: 0.9290 - precision: 0.9290 - recall: 0.9290 - val_loss: 0.3440 - val_accuracy: 0.8830 - val_precision: 0.8830 - val_recall: 0.8830\n",
      "Epoch 6/10\n",
      "110/110 [==============================] - 191s 2s/step - loss: 0.1704 - accuracy: 0.9338 - precision: 0.9338 - recall: 0.9338 - val_loss: 0.3493 - val_accuracy: 0.8900 - val_precision: 0.8900 - val_recall: 0.8900\n",
      "Epoch 7/10\n",
      "110/110 [==============================] - 191s 2s/step - loss: 0.1355 - accuracy: 0.9492 - precision: 0.9492 - recall: 0.9492 - val_loss: 0.3669 - val_accuracy: 0.8934 - val_precision: 0.8934 - val_recall: 0.8934\n",
      "Epoch 8/10\n",
      "110/110 [==============================] - 192s 2s/step - loss: 0.1209 - accuracy: 0.9582 - precision: 0.9582 - recall: 0.9582 - val_loss: 0.3839 - val_accuracy: 0.8936 - val_precision: 0.8936 - val_recall: 0.8936\n",
      "Epoch 9/10\n",
      "110/110 [==============================] - 193s 2s/step - loss: 0.1027 - accuracy: 0.9629 - precision: 0.9629 - recall: 0.9629 - val_loss: 0.3863 - val_accuracy: 0.8921 - val_precision: 0.8921 - val_recall: 0.8921\n",
      "Epoch 10/10\n",
      "110/110 [==============================] - 191s 2s/step - loss: 0.0878 - accuracy: 0.9685 - precision: 0.9685 - recall: 0.9685 - val_loss: 0.4229 - val_accuracy: 0.8911 - val_precision: 0.8911 - val_recall: 0.8911\n"
     ]
    }
   ],
   "source": [
    "## Model fitting\n",
    "history2_1 = model2_1.fit(X_train, y_train,\n",
    "                   epochs=EPOCH,\n",
    "                   batch_size= BATCH_SIZE,\n",
    "                   validation_split=0.2)\n",
    "## Model fitting\n",
    "history2_2 = model2_2.fit(X_train, y_train,\n",
    "                   epochs=EPOCH,\n",
    "                   batch_size= BATCH_SIZE,\n",
    "                   validation_split=0.2)\n",
    "## Model fitting\n",
    "history3_1 = model3_1.fit(X_train, y_train,\n",
    "                   epochs=EPOCH,\n",
    "                   batch_size= BATCH_SIZE,\n",
    "                   validation_split=0.2)\n",
    "## Model fitting\n",
    "history3_2 = model3_2.fit(X_train, y_train,\n",
    "                   epochs=EPOCH,\n",
    "                   batch_size= BATCH_SIZE,\n",
    "                   validation_split=0.2)"
   ]
  },
  {
   "cell_type": "code",
   "execution_count": 96,
   "metadata": {
    "scrolled": false,
    "tags": [
     "remove-input",
     "remove-output"
    ]
   },
   "outputs": [
    {
     "data": {
      "image/png": "[encoded data removed]",
      "text/plain": [
       "<Figure size 600x400 with 1 Axes>"
      ]
     },
     "metadata": {
      "needs_background": "light"
     },
     "output_type": "display_data"
    },
    {
     "data": {
      "image/png": "[encoded data removed]",
      "text/plain": [
       "<Figure size 600x400 with 1 Axes>"
      ]
     },
     "metadata": {
      "needs_background": "light"
     },
     "output_type": "display_data"
    },
    {
     "data": {
      "image/png": "[encoded data removed]",
      "text/plain": [
       "<Figure size 600x400 with 1 Axes>"
      ]
     },
     "metadata": {
      "needs_background": "light"
     },
     "output_type": "display_data"
    },
    {
     "data": {
      "image/png": "[encoded data removed]",
      "text/plain": [
       "<Figure size 600x400 with 1 Axes>"
      ]
     },
     "metadata": {
      "needs_background": "light"
     },
     "output_type": "display_data"
    },
    {
     "data": {
      "image/png": "[encoded data removed]",
      "text/plain": [
       "<Figure size 600x400 with 1 Axes>"
      ]
     },
     "metadata": {
      "needs_background": "light"
     },
     "output_type": "display_data"
    },
    {
     "data": {
      "image/png": "[encoded data removed]",
      "text/plain": [
       "<Figure size 600x400 with 1 Axes>"
      ]
     },
     "metadata": {
      "needs_background": "light"
     },
     "output_type": "display_data"
    }
   ],
   "source": [
    "plot1(history1)\n",
    "plot1(history2_1)\n",
    "plot1(history3_1)"
   ]
  },
  {
   "cell_type": "markdown",
   "metadata": {
    "tags": [
     "remove-input",
     "remove-output"
    ]
   },
   "source": [
    "### Not Used\n",
    "\n",
    "\n",
    "The following codes are from Sarkar's book. I am not going to use the following codes."
   ]
  },
  {
   "cell_type": "code",
   "execution_count": 9,
   "metadata": {
    "tags": [
     "remove-input",
     "remove-output"
    ]
   },
   "outputs": [],
   "source": [
    "# from nltk.tokenize.toktok import ToktokTokenizer\n",
    "\n",
    "# tokenizer = ToktokTokenizer()\n",
    "\n",
    "# # tokenize train reviews & encode train labels\n",
    "# tokenized_train = [tokenizer.tokenize(text)\n",
    "#                    for text in norm_train_reviews]"
   ]
  },
  {
   "cell_type": "code",
   "execution_count": 40,
   "metadata": {
    "tags": [
     "remove-input",
     "remove-output"
    ]
   },
   "outputs": [
    {
     "name": "stdout",
     "output_type": "stream",
     "text": [
      "[[0. 1.]\n",
      " [0. 1.]\n",
      " [0. 1.]\n",
      " [1. 0.]\n",
      " [0. 1.]]\n"
     ]
    }
   ],
   "source": [
    "\n",
    "## Convert sentiments into one-hot encodings\n",
    "## labels to integers to one-hot\n",
    "#le = LabelEncoder() ## label to sequences\n",
    "#num_classes=2 \n",
    "#y_tr = le.fit_transform(train_sentiments)\n",
    "y_train = keras.utils.to_categorical(train_sentiments, num_classes) ## sequences to one-hot\n",
    "\n",
    "#print(y_tr[:5])\n",
    "print(y_train[:5])"
   ]
  },
  {
   "cell_type": "code",
   "execution_count": 41,
   "metadata": {
    "tags": [
     "remove-input",
     "remove-output"
    ]
   },
   "outputs": [
    {
     "name": "stdout",
     "output_type": "stream",
     "text": [
      "Sentiment class label map: {'negative': 0, 'positive': 1}\n",
      "Sample test label transformation:\n",
      "----------------------------------- \n",
      "Actual Labels: [0 1 0] \n",
      "Encoded Labels: [0 1 0] \n",
      "One hot encoded Labels:\n",
      " [[1. 0.]\n",
      " [0. 1.]\n",
      " [1. 0.]]\n"
     ]
    }
   ],
   "source": [
    "# tokenize test reviews & encode test labels\n",
    "tokenized_test = [tokenizer.tokenize(text)\n",
    "                   for text in norm_test_reviews]\n",
    "\n",
    "#y_ts = le.fit_transform(test_sentiments)\n",
    "y_test = keras.utils.to_categorical(test_sentiments, num_classes)\n",
    "\n",
    "\n",
    "\n",
    "# print class label encoding map and encoded labels\n",
    "print('Sentiment class label map:', dict(zip(le.classes_, le.transform(le.classes_))))\n",
    "print('Sample test label transformation:\\n'+'-'*35,\n",
    "      '\\nActual Labels:', test_sentiments[:3], '\\nEncoded Labels:', y_ts[:3], \n",
    "      '\\nOne hot encoded Labels:\\n', y_test[:3])"
   ]
  },
  {
   "cell_type": "code",
   "execution_count": 12,
   "metadata": {
    "tags": [
     "remove-input",
     "remove-output"
    ]
   },
   "outputs": [
    {
     "data": {
      "text/plain": [
       "<seaborn.axisgrid.FacetGrid at 0x7ff630a27e80>"
      ]
     },
     "execution_count": 12,
     "metadata": {},
     "output_type": "execute_result"
    },
    {
     "data": {
      "image/png": "[encoded data removed]",
      "text/plain": [
       "<Figure size 360x360 with 1 Axes>"
      ]
     },
     "metadata": {
      "needs_background": "light"
     },
     "output_type": "display_data"
    }
   ],
   "source": [
    "tokenized_train_len = [len(text) for text in tokenized_train]\n",
    "import seaborn as sns\n",
    "sns.displot(tokenized_train_len)"
   ]
  },
  {
   "cell_type": "code",
   "execution_count": 13,
   "metadata": {
    "scrolled": true,
    "tags": [
     "remove-input",
     "remove-output"
    ]
   },
   "outputs": [
    {
     "name": "stdout",
     "output_type": "stream",
     "text": [
      "8\n",
      "2594\n"
     ]
    }
   ],
   "source": [
    "## min and max text lengths in training set\n",
    "print(np.amin(tokenized_train_len))\n",
    "print(np.amax(tokenized_train_len))"
   ]
  },
  {
   "cell_type": "markdown",
   "metadata": {
    "tags": [
     "remove-input",
     "remove-output"
    ]
   },
   "source": [
    "## Training Word Embeddings"
   ]
  },
  {
   "cell_type": "markdown",
   "metadata": {
    "tags": [
     "remove-input",
     "remove-output"
    ]
   },
   "source": [
    "- Training the word embeddings using skip-gram on the training set\n",
    "- Compute the average of embeddings for each document in the training and testing set"
   ]
  },
  {
   "cell_type": "code",
   "execution_count": 14,
   "metadata": {
    "tags": [
     "remove-input",
     "remove-output"
    ]
   },
   "outputs": [
    {
     "name": "stdout",
     "output_type": "stream",
     "text": [
      "CPU times: user 50.1 s, sys: 408 ms, total: 50.5 s\n",
      "Wall time: 16.9 s\n"
     ]
    }
   ],
   "source": [
    "%%time\n",
    "# build word2vec model\n",
    "embed_dim = 96\n",
    "w2v_model = gensim.models.Word2Vec(tokenized_train,\n",
    "                                   size=embed_dim,\n",
    "                                   window=5,\n",
    "                                   max_vocab_size=20000,\n",
    "                                   min_count=10,\n",
    "                                   sample=1e-3,\n",
    "                                   workers=4,\n",
    "                                   sg=0)  # `sg=0` for BOW; `sg=1` for skipgram\n",
    "\n",
    "## takes 5mins"
   ]
  },
  {
   "cell_type": "code",
   "execution_count": 15,
   "metadata": {
    "tags": [
     "remove-input",
     "remove-output"
    ]
   },
   "outputs": [],
   "source": [
    "## This model uses the document word vector averaging scheme\n",
    "## Use the average word vector representations to represent one document (movie reivew)\n",
    "\n",
    "def averaged_word2vec_vectorizer(corpus, model, num_features):\n",
    "    vocabulary = set(model.wv.index2word)\n",
    "    \n",
    "    def average_word_vectors(words, model, vocabulary, num_features):\n",
    "        feature_vector = np.zeros((num_features,), dtype=\"float64\")\n",
    "        nwords = 0.\n",
    "        \n",
    "        for word in words:\n",
    "            if word in vocabulary: \n",
    "                nwords = nwords + 1.\n",
    "                feature_vector = np.add(feature_vector, model.wv[word])\n",
    "        if nwords:\n",
    "            feature_vector = np.divide(feature_vector, nwords)\n",
    "\n",
    "        return feature_vector\n",
    "    \n",
    "    # For each text in the corpus\n",
    "    # Find the embeddings of each word in the corpus\n",
    "    # and add all word vectors together and take the average\n",
    "    features = [average_word_vectors(tokenized_sentence, model, vocabulary, num_features)\n",
    "                    for tokenized_sentence in corpus]\n",
    "    return np.array(features)"
   ]
  },
  {
   "cell_type": "code",
   "execution_count": 16,
   "metadata": {
    "tags": [
     "remove-input",
     "remove-output"
    ]
   },
   "outputs": [
    {
     "name": "stdout",
     "output_type": "stream",
     "text": [
      "CPU times: user 54.7 s, sys: 605 ms, total: 55.3 s\n",
      "Wall time: 55.4 s\n"
     ]
    }
   ],
   "source": [
    "%%time\n",
    "# generate averaged word vector features from word2vec model\n",
    "avg_wv_train_features = averaged_word2vec_vectorizer(corpus=tokenized_train, model=w2v_model,\n",
    "                                                     num_features=embed_dim)\n",
    "avg_wv_test_features = averaged_word2vec_vectorizer(corpus=tokenized_test, model=w2v_model,\n",
    "                                                    num_features=embed_dim)"
   ]
  },
  {
   "cell_type": "markdown",
   "metadata": {
    "tags": [
     "remove-input",
     "remove-output"
    ]
   },
   "source": [
    "## Loading Pre-trained Word Embeddings"
   ]
  },
  {
   "cell_type": "markdown",
   "metadata": {
    "tags": [
     "remove-input",
     "remove-output"
    ]
   },
   "source": [
    "- Load the GloVe embeddings from `spacy`. (The embedding dimension size of the small language model is 96).\n",
    "- `spacy` computes the average embeddings for each document."
   ]
  },
  {
   "cell_type": "code",
   "execution_count": 17,
   "metadata": {
    "tags": [
     "remove-input",
     "remove-output"
    ]
   },
   "outputs": [
    {
     "name": "stdout",
     "output_type": "stream",
     "text": [
      "CPU times: user 1.87 s, sys: 428 ms, total: 2.3 s\n",
      "Wall time: 28.6 s\n"
     ]
    }
   ],
   "source": [
    "%%time\n",
    "# Use the N-dimensional word vectors trained on the Common Crawl using the GloVe model\n",
    "# Provided by spaCy\n",
    "\n",
    "import spacy\n",
    "#nlp = spacy.load('en', parse=False, tag=False, entity=False)\n",
    "nlp_vec = spacy.load('en_core_web_sm', disable=['parser', 'tag','entity'])"
   ]
  },
  {
   "cell_type": "markdown",
   "metadata": {
    "tags": [
     "remove-input",
     "remove-output"
    ]
   },
   "source": [
    "- spacy will automatically compute the average embeddings for the document."
   ]
  },
  {
   "cell_type": "code",
   "execution_count": 18,
   "metadata": {
    "tags": [
     "remove-input",
     "remove-output"
    ]
   },
   "outputs": [
    {
     "data": {
      "text/plain": [
       "array([ 0.18,  0.04,  0.03, -0.11,  0.1 ,  0.11, -0.09,  0.09,  0.19, -0.28,\n",
       "       -0.04, -0.  , -0.18, -0.08,  0.01,  0.04,  0.09, -0.17,  0.15,  0.  ,\n",
       "       -0.12,  0.16,  0.08,  0.09, -0.3 , -0.02, -0.08,  0.22,  0.05,  0.25,\n",
       "       -0.17,  0.01,  0.06, -0.27,  0.24, -0.06,  0.23, -0.07,  0.04,  0.17,\n",
       "        0.01, -0.06, -0.01, -0.03, -0.02, -0.12,  0.1 ,  0.03, -0.07, -0.03,\n",
       "        0.26,  0.02, -0.22, -0.17,  0.03,  0.15,  0.13,  0.04,  0.16,  0.14,\n",
       "       -0.04, -0.2 , -0.06, -0.06,  0.1 , -0.09, -0.07, -0.19,  0.05,  0.15,\n",
       "        0.19, -0.06,  0.04, -0.17, -0.17, -0.03, -0.15, -0.19, -0.09, -0.02,\n",
       "       -0.03,  0.22,  0.16,  0.06, -0.07, -0.16, -0.14, -0.25, -0.15, -0.25,\n",
       "       -0.16,  0.12,  0.18,  0.07,  0.14, -0.1 ], dtype=float32)"
      ]
     },
     "execution_count": 18,
     "metadata": {},
     "output_type": "execute_result"
    }
   ],
   "source": [
    "doc =nlp_vec(str(norm_train_reviews[0]))\n",
    "doc.vector"
   ]
  },
  {
   "cell_type": "code",
   "execution_count": 19,
   "metadata": {
    "tags": [
     "remove-input",
     "remove-output"
    ]
   },
   "outputs": [
    {
     "name": "stdout",
     "output_type": "stream",
     "text": [
      "CPU times: user 1min 57s, sys: 29 s, total: 2min 26s\n",
      "Wall time: 5min 34s\n"
     ]
    }
   ],
   "source": [
    "%%time\n",
    "\n",
    "train_docs = nlp_vec.pipe([str(item) for item in norm_train_reviews], n_process=4)\n",
    "train_glove_features = np.array([doc.vector for doc in train_docs])"
   ]
  },
  {
   "cell_type": "code",
   "execution_count": 20,
   "metadata": {
    "tags": [
     "remove-input",
     "remove-output"
    ]
   },
   "outputs": [
    {
     "name": "stdout",
     "output_type": "stream",
     "text": [
      "CPU times: user 48.7 s, sys: 17.6 s, total: 1min 6s\n",
      "Wall time: 2min 28s\n"
     ]
    }
   ],
   "source": [
    "%%time\n",
    "\n",
    "test_docs = nlp_vec.pipe([str(item) for item in norm_test_reviews], n_process=4)\n",
    "test_glove_features = np.array([doc.vector for doc in test_docs])"
   ]
  },
  {
   "cell_type": "code",
   "execution_count": 21,
   "metadata": {
    "tags": [
     "remove-input",
     "remove-output"
    ]
   },
   "outputs": [
    {
     "name": "stdout",
     "output_type": "stream",
     "text": [
      "Word2Vec model:> Train features shape: (35000, 96)  Test features shape: (15000, 96)\n",
      "GloVe model:> Train features shape: (35000, 96)  Test features shape: (15000, 96)\n"
     ]
    }
   ],
   "source": [
    "print('Word2Vec model:> Train features shape:', avg_wv_train_features.shape, ' Test features shape:', avg_wv_test_features.shape)\n",
    "print('GloVe model:> Train features shape:', train_glove_features.shape, ' Test features shape:', test_glove_features.shape)"
   ]
  },
  {
   "cell_type": "markdown",
   "metadata": {
    "tags": [
     "remove-input",
     "remove-output"
    ]
   },
   "source": [
    "## Building Model\n",
    "\n",
    "- A simple fully-connected 4 layer deep neural network\n",
    "    - input layer (not counted as one layer), i.e., the word embedding layer\n",
    "    - three dense hidden layers (with 512 neurons)\n",
    "    - one output layer (with 2 neurons for classification)\n",
    "- (aka. multi-layered perceptron or deep ANN)"
   ]
  },
  {
   "cell_type": "code",
   "execution_count": 22,
   "metadata": {
    "tags": [
     "remove-input",
     "remove-output"
    ]
   },
   "outputs": [],
   "source": [
    "import matplotlib.pyplot as plt\n",
    "import matplotlib\n",
    "import pandas as pd\n",
    "# Plotting results\n",
    "def plot(history):\n",
    "\n",
    "    matplotlib.rcParams['figure.dpi'] = 100\n",
    "    acc = history.history['accuracy']\n",
    "    val_acc = history.history['val_accuracy']\n",
    "    loss = history.history['loss']\n",
    "    val_loss = history.history['val_loss']\n",
    "\n",
    "    epochs = range(1, len(acc)+1)\n",
    "    ## Accuracy plot\n",
    "    plt.plot(epochs, acc, 'bo', label='Training acc')\n",
    "    plt.plot(epochs, val_acc, 'b', label='Validation acc')\n",
    "    plt.title('Training and validation accuracy')\n",
    "    plt.legend()\n",
    "    ## Loss plot\n",
    "    plt.figure()\n",
    "\n",
    "    plt.plot(epochs, loss, 'bo', label='Training loss')\n",
    "    plt.plot(epochs, val_loss, 'b', label='Validation loss')\n",
    "    plt.title('Training and validation loss')\n",
    "    plt.legend()\n",
    "    plt.show()\n",
    "\n",
    "    \n",
    "def plot2(history):\n",
    "    pd.DataFrame(history.history).plot(figsize=(8,5))\n",
    "    plt.grid(True)\n",
    "    #plt.gca().set_ylim(0,1)\n",
    "    plt.show()"
   ]
  },
  {
   "cell_type": "code",
   "execution_count": 23,
   "metadata": {
    "tags": [
     "remove-input",
     "remove-output"
    ]
   },
   "outputs": [],
   "source": [
    "def construct_deepnn_architecture(num_input_features):\n",
    "    dnn_model = Sequential()\n",
    "    dnn_model.add(Dense(512, input_shape=(num_input_features,), kernel_initializer='glorot_uniform'))\n",
    "    dnn_model.add(BatchNormalization()) # improve  stability of the network.\n",
    "    dnn_model.add(Activation('relu')) # relu better than sigmoid, to present vanishing gradient problem\n",
    "    dnn_model.add(Dropout(0.2)) # prevents overfitting\n",
    "    \n",
    "    dnn_model.add(Dense(512, kernel_initializer='glorot_uniform'))\n",
    "    dnn_model.add(BatchNormalization())\n",
    "    dnn_model.add(Activation('relu'))\n",
    "    dnn_model.add(Dropout(0.2))\n",
    "    \n",
    "    dnn_model.add(Dense(512, kernel_initializer='glorot_uniform'))\n",
    "    dnn_model.add(BatchNormalization())\n",
    "    dnn_model.add(Activation('relu'))\n",
    "    dnn_model.add(Dropout(0.2))\n",
    "    \n",
    "    dnn_model.add(Dense(2))\n",
    "    dnn_model.add(Activation('softmax'))\n",
    "\n",
    "    dnn_model.compile(loss='categorical_crossentropy', optimizer='adam',                 \n",
    "                      metrics=['accuracy'])\n",
    "    return dnn_model"
   ]
  },
  {
   "cell_type": "code",
   "execution_count": 24,
   "metadata": {
    "tags": [
     "remove-input",
     "remove-output"
    ]
   },
   "outputs": [],
   "source": [
    "w2v_dnn = construct_deepnn_architecture(num_input_features=embed_dim)"
   ]
  },
  {
   "cell_type": "markdown",
   "metadata": {
    "tags": [
     "remove-input",
     "remove-output"
    ]
   },
   "source": [
    "## Model Visualization\n",
    "\n",
    "- To make this work, install `pip3 install pydot`\n",
    "- and also install `!brew install graphviz` in terminal for mac\n",
    "    - that is, install [graphvis](https://graphviz.gitlab.io/download/)\n"
   ]
  },
  {
   "cell_type": "code",
   "execution_count": 25,
   "metadata": {
    "tags": [
     "remove-input",
     "remove-output"
    ]
   },
   "outputs": [],
   "source": [
    "from keras.utils import plot_model"
   ]
  },
  {
   "cell_type": "code",
   "execution_count": 26,
   "metadata": {
    "tags": [
     "remove-input",
     "remove-output"
    ]
   },
   "outputs": [
    {
     "data": {
      "image/png": "[encoded data removed]",
      "text/plain": [
       "<IPython.core.display.Image object>"
      ]
     },
     "execution_count": 26,
     "metadata": {},
     "output_type": "execute_result"
    }
   ],
   "source": [
    "plot_model(w2v_dnn)"
   ]
  },
  {
   "cell_type": "markdown",
   "metadata": {
    "tags": [
     "remove-input",
     "remove-output"
    ]
   },
   "source": [
    "## Model Fitting"
   ]
  },
  {
   "cell_type": "markdown",
   "metadata": {
    "tags": [
     "remove-input",
     "remove-output"
    ]
   },
   "source": [
    "### Fitting using self-trained word embeddings"
   ]
  },
  {
   "cell_type": "code",
   "execution_count": 27,
   "metadata": {
    "tags": [
     "remove-input",
     "remove-output"
    ]
   },
   "outputs": [
    {
     "name": "stdout",
     "output_type": "stream",
     "text": [
      "Epoch 1/10\n",
      "247/247 [==============================] - 10s 17ms/step - loss: 0.5071 - accuracy: 0.7677 - val_loss: 0.4319 - val_accuracy: 0.8289\n",
      "Epoch 2/10\n",
      "247/247 [==============================] - 2s 10ms/step - loss: 0.3934 - accuracy: 0.8242 - val_loss: 0.3856 - val_accuracy: 0.8240\n",
      "Epoch 3/10\n",
      "247/247 [==============================] - 2s 10ms/step - loss: 0.3675 - accuracy: 0.8375 - val_loss: 0.3663 - val_accuracy: 0.8400\n",
      "Epoch 4/10\n",
      "247/247 [==============================] - 2s 10ms/step - loss: 0.3616 - accuracy: 0.8386 - val_loss: 0.3763 - val_accuracy: 0.8369\n",
      "Epoch 5/10\n",
      "247/247 [==============================] - 2s 10ms/step - loss: 0.3531 - accuracy: 0.8485 - val_loss: 0.3745 - val_accuracy: 0.8294\n",
      "Epoch 6/10\n",
      "247/247 [==============================] - 2s 10ms/step - loss: 0.3502 - accuracy: 0.8476 - val_loss: 0.4002 - val_accuracy: 0.8157\n",
      "Epoch 7/10\n",
      "247/247 [==============================] - 3s 10ms/step - loss: 0.3498 - accuracy: 0.8477 - val_loss: 0.3826 - val_accuracy: 0.8254\n",
      "Epoch 8/10\n",
      "247/247 [==============================] - 2s 10ms/step - loss: 0.3359 - accuracy: 0.8519 - val_loss: 0.4307 - val_accuracy: 0.8000\n",
      "Epoch 9/10\n",
      "247/247 [==============================] - 2s 10ms/step - loss: 0.3318 - accuracy: 0.8556 - val_loss: 0.4055 - val_accuracy: 0.8120\n",
      "Epoch 10/10\n",
      "247/247 [==============================] - 3s 10ms/step - loss: 0.3338 - accuracy: 0.8530 - val_loss: 0.3838 - val_accuracy: 0.8246\n"
     ]
    }
   ],
   "source": [
    "batch_size = 128\n",
    "history =w2v_dnn.fit(avg_wv_train_features, y_train, epochs=10, batch_size=batch_size, \n",
    "            shuffle=True, validation_split=0.1, verbose=1)"
   ]
  },
  {
   "cell_type": "code",
   "execution_count": 28,
   "metadata": {
    "tags": [
     "remove-input",
     "remove-output"
    ]
   },
   "outputs": [
    {
     "data": {
      "image/png": "[encoded data removed]",
      "text/plain": [
       "<Figure size 576x360 with 1 Axes>"
      ]
     },
     "metadata": {
      "needs_background": "light"
     },
     "output_type": "display_data"
    }
   ],
   "source": [
    "plot2(history)"
   ]
  },
  {
   "cell_type": "code",
   "execution_count": 29,
   "metadata": {
    "tags": [
     "remove-input",
     "remove-output"
    ]
   },
   "outputs": [
    {
     "name": "stderr",
     "output_type": "stream",
     "text": [
      "/Users/Alvin/opt/anaconda3/envs/python-notes/lib/python3.7/site-packages/tensorflow/python/keras/engine/sequential.py:450: UserWarning: `model.predict_classes()` is deprecated and will be removed after 2021-01-01. Please use instead:* `np.argmax(model.predict(x), axis=-1)`,   if your model does multi-class classification   (e.g. if it uses a `softmax` last-layer activation).* `(model.predict(x) > 0.5).astype(\"int32\")`,   if your model does binary classification   (e.g. if it uses a `sigmoid` last-layer activation).\n",
      "  warnings.warn('`model.predict_classes()` is deprecated and '\n"
     ]
    }
   ],
   "source": [
    "y_pred = w2v_dnn.predict_classes(avg_wv_test_features)\n",
    "predictions = le.inverse_transform(y_pred) "
   ]
  },
  {
   "cell_type": "code",
   "execution_count": 30,
   "metadata": {
    "tags": [
     "remove-input",
     "remove-output"
    ]
   },
   "outputs": [],
   "source": [
    "# functions from Text Analytics with Python book\n",
    "def get_metrics(true_labels, predicted_labels):\n",
    "    \n",
    "    print('Accuracy:', np.round(\n",
    "                        metrics.accuracy_score(true_labels, \n",
    "                                               predicted_labels),\n",
    "                        4))\n",
    "    print('Precision:', np.round(\n",
    "                        metrics.precision_score(true_labels, \n",
    "                                               predicted_labels,\n",
    "                                               average='weighted'),\n",
    "                        4))\n",
    "    print('Recall:', np.round(\n",
    "                        metrics.recall_score(true_labels, \n",
    "                                               predicted_labels,\n",
    "                                               average='weighted'),\n",
    "                        4))\n",
    "    print('F1 Score:', np.round(\n",
    "                        metrics.f1_score(true_labels, \n",
    "                                               predicted_labels,\n",
    "                                               average='weighted'),\n",
    "                        4))\n",
    "\n",
    "def display_confusion_matrix(true_labels, predicted_labels, classes=[1,0]):\n",
    "    \n",
    "    total_classes = len(classes)\n",
    "    level_labels = [total_classes*[0], list(range(total_classes))]\n",
    "\n",
    "    cm = metrics.confusion_matrix(y_true=true_labels, y_pred=predicted_labels, \n",
    "                                  labels=classes)\n",
    "    cm_frame = pd.DataFrame(data=cm, \n",
    "                            columns=pd.MultiIndex(levels=[['Predicted:'], classes], \n",
    "                                                  codes=level_labels), \n",
    "                            index=pd.MultiIndex(levels=[['Actual:'], classes], \n",
    "                                                codes=level_labels)) \n",
    "    print(cm_frame) \n",
    "def display_classification_report(true_labels, predicted_labels, classes=[1,0]):\n",
    "\n",
    "    report = metrics.classification_report(y_true=true_labels, \n",
    "                                           y_pred=predicted_labels, \n",
    "                                           labels=classes) \n",
    "    print(report)\n",
    "    \n",
    "    \n",
    "    \n",
    "def display_model_performance_metrics(true_labels, predicted_labels, classes=[1,0]):\n",
    "    print('Model Performance metrics:')\n",
    "    print('-'*30)\n",
    "    get_metrics(true_labels=true_labels, predicted_labels=predicted_labels)\n",
    "    print('\\nModel Classification report:')\n",
    "    print('-'*30)\n",
    "    display_classification_report(true_labels=true_labels, predicted_labels=predicted_labels, \n",
    "                                  classes=classes)\n",
    "    print('\\nPrediction Confusion Matrix:')\n",
    "    print('-'*30)\n",
    "    display_confusion_matrix(true_labels=true_labels, predicted_labels=predicted_labels, \n",
    "                             classes=classes)\n",
    "from sklearn import metrics"
   ]
  },
  {
   "cell_type": "code",
   "execution_count": 31,
   "metadata": {
    "tags": [
     "remove-input",
     "remove-output"
    ]
   },
   "outputs": [
    {
     "name": "stdout",
     "output_type": "stream",
     "text": [
      "Model Performance metrics:\n",
      "------------------------------\n",
      "Accuracy: 0.8216\n",
      "Precision: 0.8253\n",
      "Recall: 0.8216\n",
      "F1 Score: 0.8211\n",
      "\n",
      "Model Classification report:\n",
      "------------------------------\n",
      "              precision    recall  f1-score   support\n",
      "\n",
      "    negative       0.79      0.87      0.83      7490\n",
      "    positive       0.86      0.77      0.81      7510\n",
      "\n",
      "    accuracy                           0.82     15000\n",
      "   macro avg       0.83      0.82      0.82     15000\n",
      "weighted avg       0.83      0.82      0.82     15000\n",
      "\n",
      "\n",
      "Prediction Confusion Matrix:\n",
      "------------------------------\n",
      "                 Predicted:         \n",
      "                   negative positive\n",
      "Actual: negative       6548      942\n",
      "        positive       1734     5776\n"
     ]
    }
   ],
   "source": [
    "display_model_performance_metrics(true_labels=test_sentiments, predicted_labels=predictions, \n",
    "                                      classes=['negative', 'positive'])  "
   ]
  },
  {
   "cell_type": "markdown",
   "metadata": {
    "tags": [
     "remove-input",
     "remove-output"
    ]
   },
   "source": [
    "### Fitting using pre-trained word embedding model"
   ]
  },
  {
   "cell_type": "code",
   "execution_count": 32,
   "metadata": {
    "tags": [
     "remove-input",
     "remove-output"
    ]
   },
   "outputs": [],
   "source": [
    "glove_dnn = construct_deepnn_architecture(num_input_features=96)"
   ]
  },
  {
   "cell_type": "code",
   "execution_count": 33,
   "metadata": {
    "tags": [
     "remove-input",
     "remove-output"
    ]
   },
   "outputs": [
    {
     "name": "stdout",
     "output_type": "stream",
     "text": [
      "Epoch 1/10\n",
      "247/247 [==============================] - 4s 11ms/step - loss: 0.7172 - accuracy: 0.6316 - val_loss: 0.6476 - val_accuracy: 0.6120\n",
      "Epoch 2/10\n",
      "247/247 [==============================] - 2s 10ms/step - loss: 0.5890 - accuracy: 0.6921 - val_loss: 0.6032 - val_accuracy: 0.6734\n",
      "Epoch 3/10\n",
      "247/247 [==============================] - 2s 10ms/step - loss: 0.5716 - accuracy: 0.7039 - val_loss: 0.5850 - val_accuracy: 0.6883\n",
      "Epoch 4/10\n",
      "247/247 [==============================] - 3s 11ms/step - loss: 0.5606 - accuracy: 0.7137 - val_loss: 0.6039 - val_accuracy: 0.6743\n",
      "Epoch 5/10\n",
      "247/247 [==============================] - 2s 10ms/step - loss: 0.5480 - accuracy: 0.7221 - val_loss: 0.6082 - val_accuracy: 0.6817\n",
      "Epoch 6/10\n",
      "247/247 [==============================] - 2s 10ms/step - loss: 0.5381 - accuracy: 0.7284 - val_loss: 0.5864 - val_accuracy: 0.6897\n",
      "Epoch 7/10\n",
      "247/247 [==============================] - 2s 10ms/step - loss: 0.5367 - accuracy: 0.7302 - val_loss: 0.5882 - val_accuracy: 0.6957\n",
      "Epoch 8/10\n",
      "247/247 [==============================] - 2s 10ms/step - loss: 0.5330 - accuracy: 0.7346 - val_loss: 0.6167 - val_accuracy: 0.6869\n",
      "Epoch 9/10\n",
      "247/247 [==============================] - 2s 10ms/step - loss: 0.5178 - accuracy: 0.7461 - val_loss: 0.6080 - val_accuracy: 0.6766\n",
      "Epoch 10/10\n",
      "247/247 [==============================] - 2s 10ms/step - loss: 0.5100 - accuracy: 0.7491 - val_loss: 0.5948 - val_accuracy: 0.6894\n"
     ]
    }
   ],
   "source": [
    "batch_size = 128\n",
    "history2=glove_dnn.fit(train_glove_features, y_train, epochs=10, batch_size=batch_size, \n",
    "              shuffle=True, validation_split=0.1, verbose=1)"
   ]
  },
  {
   "cell_type": "code",
   "execution_count": 34,
   "metadata": {
    "tags": [
     "remove-input",
     "remove-output"
    ]
   },
   "outputs": [
    {
     "data": {
      "image/png": "[encoded data removed]",
      "text/plain": [
       "<Figure size 576x360 with 1 Axes>"
      ]
     },
     "metadata": {
      "needs_background": "light"
     },
     "output_type": "display_data"
    }
   ],
   "source": [
    "plot2(history2)"
   ]
  },
  {
   "cell_type": "code",
   "execution_count": 35,
   "metadata": {
    "tags": [
     "remove-input",
     "remove-output"
    ]
   },
   "outputs": [
    {
     "name": "stderr",
     "output_type": "stream",
     "text": [
      "/Users/Alvin/opt/anaconda3/envs/python-notes/lib/python3.7/site-packages/tensorflow/python/keras/engine/sequential.py:450: UserWarning: `model.predict_classes()` is deprecated and will be removed after 2021-01-01. Please use instead:* `np.argmax(model.predict(x), axis=-1)`,   if your model does multi-class classification   (e.g. if it uses a `softmax` last-layer activation).* `(model.predict(x) > 0.5).astype(\"int32\")`,   if your model does binary classification   (e.g. if it uses a `sigmoid` last-layer activation).\n",
      "  warnings.warn('`model.predict_classes()` is deprecated and '\n"
     ]
    }
   ],
   "source": [
    "y_pred = glove_dnn.predict_classes(test_glove_features)\n",
    "predictions = le.inverse_transform(y_pred) "
   ]
  },
  {
   "cell_type": "code",
   "execution_count": 36,
   "metadata": {
    "scrolled": true,
    "tags": [
     "remove-input",
     "remove-output"
    ]
   },
   "outputs": [
    {
     "name": "stdout",
     "output_type": "stream",
     "text": [
      "Model Performance metrics:\n",
      "------------------------------\n",
      "Accuracy: 0.7011\n",
      "Precision: 0.7012\n",
      "Recall: 0.7011\n",
      "F1 Score: 0.701\n",
      "\n",
      "Model Classification report:\n",
      "------------------------------\n",
      "              precision    recall  f1-score   support\n",
      "\n",
      "    negative       0.71      0.69      0.70      7490\n",
      "    positive       0.70      0.72      0.71      7510\n",
      "\n",
      "    accuracy                           0.70     15000\n",
      "   macro avg       0.70      0.70      0.70     15000\n",
      "weighted avg       0.70      0.70      0.70     15000\n",
      "\n",
      "\n",
      "Prediction Confusion Matrix:\n",
      "------------------------------\n",
      "                 Predicted:         \n",
      "                   negative positive\n",
      "Actual: negative       5134     2356\n",
      "        positive       2128     5382\n"
     ]
    }
   ],
   "source": [
    "display_model_performance_metrics(true_labels=test_sentiments, predicted_labels=predictions, \n",
    "                                      classes=['negative', 'positive'])  "
   ]
  },
  {
   "cell_type": "markdown",
   "metadata": {
    "tags": [
     "remove-input",
     "remove-output"
    ]
   },
   "source": [
    "## References\n",
    "\n",
    "- [State of Arts on this dataset](https://paperswithcode.com/sota/sentiment-analysis-on-imdb)"
   ]
  }
 ],
 "metadata": {
  "celltoolbar": "Tags",
  "kernelspec": {
   "display_name": "python-notes",
   "language": "python",
   "name": "python-notes"
  },
  "language_info": {
   "codemirror_mode": {
    "name": "ipython",
    "version": 3
   },
   "file_extension": ".py",
   "mimetype": "text/x-python",
   "name": "python",
   "nbconvert_exporter": "python",
   "pygments_lexer": "ipython3",
   "version": "3.7.0"
  },
  "toc": {
   "base_numbering": 1,
   "nav_menu": {
    "height": "231px",
    "width": "327px"
   },
   "number_sections": false,
   "sideBar": true,
   "skip_h1_title": false,
   "title_cell": "Table of Contents",
   "title_sidebar": "Contents",
   "toc_cell": false,
   "toc_position": {},
   "toc_section_display": true,
   "toc_window_display": true
  },
  "varInspector": {
   "cols": {
    "lenName": 16,
    "lenType": 16,
    "lenVar": 40
   },
   "kernels_config": {
    "python": {
     "delete_cmd_postfix": "",
     "delete_cmd_prefix": "del ",
     "library": "var_list.py",
     "varRefreshCmd": "print(var_dic_list())"
    },
    "r": {
     "delete_cmd_postfix": ") ",
     "delete_cmd_prefix": "rm(",
     "library": "var_list.r",
     "varRefreshCmd": "cat(var_dic_list()) "
    }
   },
   "types_to_exclude": [
    "module",
    "function",
    "builtin_function_or_method",
    "instance",
    "_Feature"
   ],
   "window_display": false
  }
 },
 "nbformat": 4,
 "nbformat_minor": 4
}
