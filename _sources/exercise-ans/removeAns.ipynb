{
 "cells": [
  {
   "cell_type": "code",
   "execution_count": 1,
   "metadata": {},
   "outputs": [],
   "source": [
    "import os\n",
    "\n",
    "def perform_post_exec_cleanup(input_nb_name,tag_to_del='injected-parameters'):\n",
    "\n",
    "    import json\n",
    "    from traitlets.config import Config\n",
    "    from nbconvert import NotebookExporter\n",
    "    import nbformat\n",
    "\n",
    "    output_nb_name = '../exercise/'+os.path.basename(input_nb_name).replace(\"-ans\",\"\")\n",
    "    \n",
    "    c = Config()\n",
    "    c.TagRemovePreprocessor.enabled=True # to enable the preprocessor\n",
    "    c.TagRemovePreprocessor.remove_cell_tags = [tag_to_del]\n",
    "    c.preprocessors = ['TagRemovePreprocessor'] # previously: c.NotebookExporter.preprocessors\n",
    "\n",
    "    nb_body, resources = NotebookExporter(config=c).from_filename(input_nb_name)\n",
    "    nbformat.write(nbformat.from_dict(json.loads(nb_body)), output_nb_name, 4)\n"
   ]
  },
  {
   "cell_type": "code",
   "execution_count": null,
   "metadata": {},
   "outputs": [],
   "source": [
    "## create exercise 1\n",
    "perform_post_exec_cleanup('1-python-basics-ans.ipynb',\"remove-input\")"
   ]
  },
  {
   "cell_type": "code",
   "execution_count": 5,
   "metadata": {},
   "outputs": [],
   "source": [
    "perform_post_exec_cleanup('2-journal-review-ans.ipynb', \"remove-input\")"
   ]
  },
  {
   "cell_type": "code",
   "execution_count": 8,
   "metadata": {},
   "outputs": [],
   "source": [
    "perform_post_exec_cleanup('3-preprocessing-ans.ipynb', \"remove-input\")"
   ]
  },
  {
   "cell_type": "code",
   "execution_count": 9,
   "metadata": {},
   "outputs": [],
   "source": [
    "perform_post_exec_cleanup('4-chinese-nlp-ans.ipynb', \"remove-input\")"
   ]
  }
 ],
 "metadata": {
  "kernelspec": {
   "display_name": "Python 3",
   "language": "python",
   "name": "python3"
  },
  "language_info": {
   "codemirror_mode": {
    "name": "ipython",
    "version": 3
   },
   "file_extension": ".py",
   "mimetype": "text/x-python",
   "name": "python",
   "nbconvert_exporter": "python",
   "pygments_lexer": "ipython3",
   "version": "3.7.6"
  },
  "toc": {
   "base_numbering": 1,
   "nav_menu": {},
   "number_sections": false,
   "sideBar": true,
   "skip_h1_title": false,
   "title_cell": "Table of Contents",
   "title_sidebar": "Contents",
   "toc_cell": false,
   "toc_position": {},
   "toc_section_display": true,
   "toc_window_display": false
  },
  "varInspector": {
   "cols": {
    "lenName": 16,
    "lenType": 16,
    "lenVar": 40
   },
   "kernels_config": {
    "python": {
     "delete_cmd_postfix": "",
     "delete_cmd_prefix": "del ",
     "library": "var_list.py",
     "varRefreshCmd": "print(var_dic_list())"
    },
    "r": {
     "delete_cmd_postfix": ") ",
     "delete_cmd_prefix": "rm(",
     "library": "var_list.r",
     "varRefreshCmd": "cat(var_dic_list()) "
    }
   },
   "types_to_exclude": [
    "module",
    "function",
    "builtin_function_or_method",
    "instance",
    "_Feature"
   ],
   "window_display": false
  }
 },
 "nbformat": 4,
 "nbformat_minor": 4
}
