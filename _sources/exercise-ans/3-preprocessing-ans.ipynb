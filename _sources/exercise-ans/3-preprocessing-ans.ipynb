{
 "cells": [
  {
   "cell_type": "markdown",
   "metadata": {},
   "source": [
    "# Preprocessing"
   ]
  },
  {
   "cell_type": "markdown",
   "metadata": {},
   "source": [
    "## Question 1\n",
    "\n",
    "Please use the `grutenberg` corpus provided in `nltk` and extract the text written by Lewis Caroll, i.e., `carroll-alice.txt`, as your corpus data.\n",
    "\n",
    "With this corpus data, please perform text preprocessing on the **sentences** of the corpus.\n",
    "\n",
    "In particular, please:\n",
    "\n",
    "- pos-tag all the sentences to get the parts-of-speech of each word\n",
    "- lemmatize all words using `WordNetLemmatizer` on a sentential basis\n",
    "\n",
    "Please provide your output as shown below:\n",
    "\n",
    "- it is a data frame\n",
    "- the column `alice_sents` includes the original sentence texts\n",
    "- the column `alice_sents_pos` includes the annotations of the word/postag for each sentence\n",
    "- the column `sents_lem` includes the lemmatized version of the sentences\n",
    "\n",
    "\n",
    "```{note}\n",
    "Please note that the lemmatized form of the BE verbs (e.g., *was*) should be *be*.\n",
    "```\n"
   ]
  },
  {
   "cell_type": "code",
   "execution_count": 4,
   "metadata": {
    "tags": [
     "remove-input",
     "remove-output"
    ]
   },
   "outputs": [],
   "source": [
    "import nltk\n",
    "from nltk.corpus import gutenberg\n",
    "from nltk.stem import WordNetLemmatizer\n",
    "import pandas as pd\n",
    "\n",
    "# download guterberg if you don't have it\n",
    "# nltk.download('gutenberg')\n",
    "\n",
    "# print(gutenberg.fileids())\n",
    "\n",
    "alice = gutenberg.sents('carroll-alice.txt')\n",
    "\n",
    "# Step1: pos_tag each sentence in Alice\n",
    "alice_tag = [nltk.pos_tag(s) for s in alice]\n",
    "#alice_tag[:5]\n",
    "\n",
    "# Step2: merge word tokens into a long-string sentence\n",
    "alice_sents = [' '.join(s) for s in alice]\n",
    "alice_sents_pos = [\n",
    "    \" \".join([(w + \"/\" + t) for (w, t) in s]) for s in alice_tag\n",
    "]\n",
    "\n",
    "# print(len(alice_sents))\n",
    "# print(len(alice_sents_pos))\n",
    "\n",
    "# Step3:Lemmatize each word of each sentence\n",
    "wnl = WordNetLemmatizer()\n",
    "\n",
    "alice_tag_lem = list()\n",
    "for s in alice_tag:\n",
    "    sl = list()\n",
    "    for (w, t) in s:\n",
    "        if t[0].lower() not in ['v', 'n', 'a']:\n",
    "            sl.append(wnl.lemmatize(w))\n",
    "        else:  # if n, v, a, specify the pos\n",
    "            sl.append(wnl.lemmatize(w, t[0].lower()))\n",
    "    alice_tag_lem.append(sl)\n",
    "\n",
    "alice_sents_lem = [' '.join(s) for s in alice_tag_lem]\n",
    "\n",
    "alice_sents_df = pd.DataFrame({\n",
    "    \"sents\": alice_sents,\n",
    "    \"sents_pos\": alice_sents_pos,\n",
    "    \"sents_lem\": alice_sents_lem\n",
    "})"
   ]
  },
  {
   "cell_type": "code",
   "execution_count": 5,
   "metadata": {},
   "outputs": [
    {
     "data": {
      "text/html": [
       "<div>\n",
       "<style scoped>\n",
       "    .dataframe tbody tr th:only-of-type {\n",
       "        vertical-align: middle;\n",
       "    }\n",
       "\n",
       "    .dataframe tbody tr th {\n",
       "        vertical-align: top;\n",
       "    }\n",
       "\n",
       "    .dataframe thead th {\n",
       "        text-align: right;\n",
       "    }\n",
       "</style>\n",
       "<table border=\"1\" class=\"dataframe\">\n",
       "  <thead>\n",
       "    <tr style=\"text-align: right;\">\n",
       "      <th></th>\n",
       "      <th>sents</th>\n",
       "      <th>sents_pos</th>\n",
       "      <th>sents_lem</th>\n",
       "    </tr>\n",
       "  </thead>\n",
       "  <tbody>\n",
       "    <tr>\n",
       "      <th>0</th>\n",
       "      <td>[ Alice ' s Adventures in Wonderland by Lewis ...</td>\n",
       "      <td>[/JJ Alice/NNP '/POS s/NN Adventures/NNS in/IN...</td>\n",
       "      <td>[ Alice ' s Adventures in Wonderland by Lewis ...</td>\n",
       "    </tr>\n",
       "    <tr>\n",
       "      <th>1</th>\n",
       "      <td>CHAPTER I .</td>\n",
       "      <td>CHAPTER/NN I/PRP ./.</td>\n",
       "      <td>CHAPTER I .</td>\n",
       "    </tr>\n",
       "    <tr>\n",
       "      <th>2</th>\n",
       "      <td>Down the Rabbit - Hole</td>\n",
       "      <td>Down/IN the/DT Rabbit/NNP -/: Hole/NN</td>\n",
       "      <td>Down the Rabbit - Hole</td>\n",
       "    </tr>\n",
       "    <tr>\n",
       "      <th>3</th>\n",
       "      <td>Alice was beginning to get very tired of sitti...</td>\n",
       "      <td>Alice/NNP was/VBD beginning/VBG to/TO get/VB v...</td>\n",
       "      <td>Alice be begin to get very tired of sit by her...</td>\n",
       "    </tr>\n",
       "    <tr>\n",
       "      <th>4</th>\n",
       "      <td>So she was considering in her own mind ( as we...</td>\n",
       "      <td>So/IN she/PRP was/VBD considering/VBG in/IN he...</td>\n",
       "      <td>So she be consider in her own mind ( a well a ...</td>\n",
       "    </tr>\n",
       "    <tr>\n",
       "      <th>...</th>\n",
       "      <td>...</td>\n",
       "      <td>...</td>\n",
       "      <td>...</td>\n",
       "    </tr>\n",
       "    <tr>\n",
       "      <th>1698</th>\n",
       "      <td>But her sister sat still just as she left her ...</td>\n",
       "      <td>But/CC her/PRP$ sister/NN sat/VBD still/RB jus...</td>\n",
       "      <td>But her sister sit still just a she leave her ...</td>\n",
       "    </tr>\n",
       "    <tr>\n",
       "      <th>1699</th>\n",
       "      <td>First , she dreamed of little Alice herself , ...</td>\n",
       "      <td>First/RB ,/, she/PRP dreamed/VBD of/IN little/...</td>\n",
       "      <td>First , she dream of little Alice herself , an...</td>\n",
       "    </tr>\n",
       "    <tr>\n",
       "      <th>1700</th>\n",
       "      <td>The long grass rustled at her feet as the Whit...</td>\n",
       "      <td>The/DT long/JJ grass/NN rustled/VBD at/IN her/...</td>\n",
       "      <td>The long grass rustle at her foot a the White ...</td>\n",
       "    </tr>\n",
       "    <tr>\n",
       "      <th>1701</th>\n",
       "      <td>So she sat on , with closed eyes , and half be...</td>\n",
       "      <td>So/IN she/PRP sat/VBD on/IN ,/, with/IN closed...</td>\n",
       "      <td>So she sit on , with closed eye , and half bel...</td>\n",
       "    </tr>\n",
       "    <tr>\n",
       "      <th>1702</th>\n",
       "      <td>Lastly , she pictured to herself how this same...</td>\n",
       "      <td>Lastly/RB ,/, she/PRP pictured/VBD to/TO herse...</td>\n",
       "      <td>Lastly , she picture to herself how this same ...</td>\n",
       "    </tr>\n",
       "  </tbody>\n",
       "</table>\n",
       "<p>1703 rows × 3 columns</p>\n",
       "</div>"
      ],
      "text/plain": [
       "                                                  sents  \\\n",
       "0     [ Alice ' s Adventures in Wonderland by Lewis ...   \n",
       "1                                           CHAPTER I .   \n",
       "2                                Down the Rabbit - Hole   \n",
       "3     Alice was beginning to get very tired of sitti...   \n",
       "4     So she was considering in her own mind ( as we...   \n",
       "...                                                 ...   \n",
       "1698  But her sister sat still just as she left her ...   \n",
       "1699  First , she dreamed of little Alice herself , ...   \n",
       "1700  The long grass rustled at her feet as the Whit...   \n",
       "1701  So she sat on , with closed eyes , and half be...   \n",
       "1702  Lastly , she pictured to herself how this same...   \n",
       "\n",
       "                                              sents_pos  \\\n",
       "0     [/JJ Alice/NNP '/POS s/NN Adventures/NNS in/IN...   \n",
       "1                                  CHAPTER/NN I/PRP ./.   \n",
       "2                 Down/IN the/DT Rabbit/NNP -/: Hole/NN   \n",
       "3     Alice/NNP was/VBD beginning/VBG to/TO get/VB v...   \n",
       "4     So/IN she/PRP was/VBD considering/VBG in/IN he...   \n",
       "...                                                 ...   \n",
       "1698  But/CC her/PRP$ sister/NN sat/VBD still/RB jus...   \n",
       "1699  First/RB ,/, she/PRP dreamed/VBD of/IN little/...   \n",
       "1700  The/DT long/JJ grass/NN rustled/VBD at/IN her/...   \n",
       "1701  So/IN she/PRP sat/VBD on/IN ,/, with/IN closed...   \n",
       "1702  Lastly/RB ,/, she/PRP pictured/VBD to/TO herse...   \n",
       "\n",
       "                                              sents_lem  \n",
       "0     [ Alice ' s Adventures in Wonderland by Lewis ...  \n",
       "1                                           CHAPTER I .  \n",
       "2                                Down the Rabbit - Hole  \n",
       "3     Alice be begin to get very tired of sit by her...  \n",
       "4     So she be consider in her own mind ( a well a ...  \n",
       "...                                                 ...  \n",
       "1698  But her sister sit still just a she leave her ...  \n",
       "1699  First , she dream of little Alice herself , an...  \n",
       "1700  The long grass rustle at her foot a the White ...  \n",
       "1701  So she sit on , with closed eye , and half bel...  \n",
       "1702  Lastly , she picture to herself how this same ...  \n",
       "\n",
       "[1703 rows x 3 columns]"
      ]
     },
     "execution_count": 5,
     "metadata": {},
     "output_type": "execute_result"
    }
   ],
   "source": [
    "alice_sents_df"
   ]
  },
  {
   "cell_type": "markdown",
   "metadata": {},
   "source": [
    "## Question 2\n",
    "\n",
    "Based on the output of the previous question, please create a lemma frequnecy list of `carroll-alice.txt` using the lemmatized forms by including only lemmas which are:\n",
    "- consisting of only alphabets or hyphens\n",
    "- at least 5-character long\n",
    "\n",
    "The casing is irrelevant.\n",
    "\n",
    "The expected output is provided as follows.\n"
   ]
  },
  {
   "cell_type": "code",
   "execution_count": null,
   "metadata": {
    "tags": [
     "remove-input",
     "remove-output"
    ]
   },
   "outputs": [],
   "source": [
    "import re\n",
    "alice_words = sum(alice_tag_lem, [])\n",
    "alice_wf = nltk.FreqDist([w.lower() for w in alice_words if len(w)>=5 and re.match(r'^[a-zA-Z-]+$', w)])"
   ]
  },
  {
   "cell_type": "code",
   "execution_count": 12,
   "metadata": {},
   "outputs": [
    {
     "data": {
      "text/plain": [
       "[('alice', 398),\n",
       " ('little', 128),\n",
       " ('think', 118),\n",
       " ('there', 99),\n",
       " ('about', 94),\n",
       " ('begin', 92),\n",
       " ('would', 83),\n",
       " ('again', 83),\n",
       " ('herself', 83),\n",
       " ('thing', 80),\n",
       " ('could', 77),\n",
       " ('queen', 75),\n",
       " ('turtle', 61),\n",
       " ('hatter', 57),\n",
       " ('quite', 55),\n",
       " ('gryphon', 55),\n",
       " ('rabbit', 52),\n",
       " ('their', 52),\n",
       " ('first', 51),\n",
       " ('voice', 51)]"
      ]
     },
     "execution_count": 12,
     "metadata": {},
     "output_type": "execute_result"
    }
   ],
   "source": [
    "# Top 20 frequent lemmas\n",
    "alice_wf.most_common(20)"
   ]
  },
  {
   "cell_type": "markdown",
   "metadata": {},
   "source": [
    "## Question 3\n",
    "\n",
    "Please identify top verbs that co-occcur with the name *Alice* in the text, with the name being the **subject** of the verb. \n",
    "\n",
    "Please use the `en_core_web-sm` model in `spacy` for English dependency parsing.\n",
    "\n",
    "To simply the matter, please identify all the verbs that have a dependency relation of `nsubj` with the noun `Alice` (where `Alice` is the **dependent**, and the verb is the **head**)."
   ]
  },
  {
   "cell_type": "code",
   "execution_count": 35,
   "metadata": {
    "tags": [
     "remove-input",
     "remove-output"
    ]
   },
   "outputs": [],
   "source": [
    "import spacy\n",
    "from spacy import displacy\n",
    "# load language model\n",
    "nlp = spacy.load('en_core_web_sm') \n",
    "alice_docs = nlp.pipe(alice_sents)\n",
    "\n",
    "np_chunks = []\n",
    "for d in alice_docs:\n",
    "    for chunk in d.noun_chunks:\n",
    "        np_chunks.append((chunk.text, chunk.root.text, chunk.root.dep_,\n",
    "                chunk.root.head.text))\n",
    "\n",
    "np_chunks_targets = [head for (text, root, dep, head) in np_chunks if root.lower()==\"alice\" and dep == \"nsubj\" ]"
   ]
  },
  {
   "cell_type": "code",
   "execution_count": 36,
   "metadata": {},
   "outputs": [
    {
     "data": {
      "text/plain": [
       "[('said', 127),\n",
       " ('thought', 32),\n",
       " ('replied', 13),\n",
       " ('was', 10),\n",
       " ('began', 8),\n",
       " ('went', 7),\n",
       " ('looked', 7),\n",
       " ('felt', 5),\n",
       " ('like', 5),\n",
       " ('think', 4),\n",
       " ('had', 4),\n",
       " ('ventured', 4),\n",
       " ('beginning', 3),\n",
       " ('been', 3),\n",
       " ('heard', 3),\n",
       " ('hear', 3),\n",
       " ('waited', 3),\n",
       " ('remarked', 3),\n",
       " ('asked', 3),\n",
       " ('see', 3)]"
      ]
     },
     "execution_count": 36,
     "metadata": {},
     "output_type": "execute_result"
    }
   ],
   "source": [
    "nltk.FreqDist(np_chunks_targets).most_common(20)"
   ]
  }
 ],
 "metadata": {
  "celltoolbar": "Tags",
  "kernelspec": {
   "display_name": "python-notes",
   "language": "python",
   "name": "python-notes"
  },
  "language_info": {
   "codemirror_mode": {
    "name": "ipython",
    "version": 3
   },
   "file_extension": ".py",
   "mimetype": "text/x-python",
   "name": "python",
   "nbconvert_exporter": "python",
   "pygments_lexer": "ipython3",
   "version": "3.7.0"
  },
  "toc": {
   "base_numbering": 1,
   "nav_menu": {},
   "number_sections": false,
   "sideBar": true,
   "skip_h1_title": false,
   "title_cell": "Table of Contents",
   "title_sidebar": "Contents",
   "toc_cell": false,
   "toc_position": {},
   "toc_section_display": true,
   "toc_window_display": true
  },
  "varInspector": {
   "cols": {
    "lenName": 16,
    "lenType": 16,
    "lenVar": 40
   },
   "kernels_config": {
    "python": {
     "delete_cmd_postfix": "",
     "delete_cmd_prefix": "del ",
     "library": "var_list.py",
     "varRefreshCmd": "print(var_dic_list())"
    },
    "r": {
     "delete_cmd_postfix": ") ",
     "delete_cmd_prefix": "rm(",
     "library": "var_list.r",
     "varRefreshCmd": "cat(var_dic_list()) "
    }
   },
   "types_to_exclude": [
    "module",
    "function",
    "builtin_function_or_method",
    "instance",
    "_Feature"
   ],
   "window_display": false
  }
 },
 "nbformat": 4,
 "nbformat_minor": 4
}
