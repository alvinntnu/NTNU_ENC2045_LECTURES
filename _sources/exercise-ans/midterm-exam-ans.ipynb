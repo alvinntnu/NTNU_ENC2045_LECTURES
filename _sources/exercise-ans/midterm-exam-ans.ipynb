{
 "cells": [
  {
   "cell_type": "markdown",
   "metadata": {},
   "source": [
    "# Midterm Exam"
   ]
  },
  {
   "cell_type": "markdown",
   "metadata": {},
   "source": [
    "## Question 1\n",
    "\n",
    "Use the data, Chinese-Names, to build a classifier to determine the gender of a name based on the bag-of-words model. "
   ]
  },
  {
   "cell_type": "code",
   "execution_count": 33,
   "metadata": {},
   "outputs": [
    {
     "data": {
      "text/plain": [
       "'漢字'"
      ]
     },
     "execution_count": 33,
     "metadata": {},
     "output_type": "execute_result"
    }
   ],
   "source": [
    "import opencc\n",
    "converter = opencc.OpenCC('s2t.json')\n",
    "converter.convert('汉字') "
   ]
  },
  {
   "cell_type": "code",
   "execution_count": 34,
   "metadata": {},
   "outputs": [],
   "source": [
    "with open('../../../RepositoryData/data/ParseNames-master/Chinese_Names_Corpus/Chinese_Names_Corpus_Gender（120W）.txt', 'r') as f:\n",
    "    name_gender = [l.split(',') for l in f.readlines() if len(l.split(','))==2]"
   ]
  },
  {
   "cell_type": "code",
   "execution_count": 35,
   "metadata": {},
   "outputs": [],
   "source": [
    "len(name_gender)\n",
    "name_gender = [(converter.convert(n),g.replace('\\n','')) for (n, g) in name_gender[1:]]\n"
   ]
  },
  {
   "cell_type": "code",
   "execution_count": 36,
   "metadata": {},
   "outputs": [
    {
     "name": "stdout",
     "output_type": "stream",
     "text": [
      "[('阿安', '男'), ('阿奧', '未知'), ('阿貝貝', '女'), ('阿彬', '未知'), ('阿彬彬', '男'), ('阿斌', '男'), ('阿斌斌', '男'), ('阿濱', '男'), ('阿冰', '女'), ('阿冰冰', '女')]\n",
      "1163760\n"
     ]
    }
   ],
   "source": [
    "print(name_gender[:10])\n",
    "print(len(name_gender))\n"
   ]
  },
  {
   "cell_type": "code",
   "execution_count": 37,
   "metadata": {},
   "outputs": [
    {
     "name": "stdout",
     "output_type": "stream",
     "text": [
      "915645\n"
     ]
    }
   ],
   "source": [
    "name_gender = [(n, g) for (n,g) in name_gender if g in ['男','女'] and len(n)==3]\n",
    "print(len(name_gender))"
   ]
  },
  {
   "cell_type": "code",
   "execution_count": 38,
   "metadata": {},
   "outputs": [],
   "source": [
    "######################################\n",
    "### Generate Data Sets for ENC2045 ###\n",
    "######################################\n",
    "with open('../../../RepositoryData/data/ParseNames-master/English_Names_Corpus/English_Cn_Name_Corpus_Gender（48W）.txt', 'r') as f:\n",
    "    zh_en_gender = [l.split('|') for l in f.readlines() if len(l.split('|'))==3]\n",
    "zh_en_gender[1]\n",
    "#print(len(en_zh_gender))\n",
    "\n",
    "zh_en_gender = [(converter.convert(zh), en, gender.replace('\\n','')) for (zh, en, gender) in zh_en_gender]\n",
    "zh_en_gender = [(z, e, g) for (z, e, g) in zh_en_gender if g in ['F','M']]\n",
    "with open('../../../RepositoryData/data/_ENC2045_DATA/english_chinese_name_gender.txt', 'w') as f:\n",
    "     f.writelines([zh+'|'+en+'|'+g+'\\n' for (zh,en,g) in zh_en_gender])"
   ]
  },
  {
   "cell_type": "code",
   "execution_count": 39,
   "metadata": {},
   "outputs": [],
   "source": [
    "######################################\n",
    "### Generate Data Sets for ENC2045 ###\n",
    "######################################\n",
    "with open('../../../RepositoryData/data/_ENC2045_DATA/chinese_name_gender.txt', 'w') as f:\n",
    "     f.writelines([n+','+g+'\\n' for (n,g) in name_gender])\n"
   ]
  },
  {
   "cell_type": "code",
   "execution_count": 21,
   "metadata": {},
   "outputs": [],
   "source": [
    "# ## convert char into pinyin\n",
    "# from pypinyin import lazy_pinyin,Style \n",
    "# style = Style.TONE3\n",
    "\n",
    "# name_pinyin=['_'.join(lazy_pinyin(n, style=style)) for n, g in name_gender]"
   ]
  },
  {
   "cell_type": "code",
   "execution_count": 22,
   "metadata": {},
   "outputs": [],
   "source": [
    "# print(name_pinyin[-5:])\n",
    "# print(name_gender[-5:])"
   ]
  },
  {
   "cell_type": "code",
   "execution_count": 23,
   "metadata": {},
   "outputs": [],
   "source": [
    "import nltk\n",
    "import numpy as np\n",
    "import random"
   ]
  },
  {
   "cell_type": "code",
   "execution_count": 24,
   "metadata": {},
   "outputs": [
    {
     "name": "stdout",
     "output_type": "stream",
     "text": [
      "Counter({'男': 594170, '女': 321475})\n"
     ]
    }
   ],
   "source": [
    "from collections import Counter\n",
    "random.shuffle(name_gender)\n",
    "\n",
    "print(Counter([label for (words,label) in name_gender]))"
   ]
  },
  {
   "cell_type": "code",
   "execution_count": 25,
   "metadata": {},
   "outputs": [
    {
     "name": "stdout",
     "output_type": "stream",
     "text": [
      "Counter({'男': 397661, '女': 215821})\n",
      "Counter({'男': 196509, '女': 105654})\n"
     ]
    }
   ],
   "source": [
    "from sklearn.model_selection import train_test_split\n",
    "train, test = train_test_split(name_gender, test_size = 0.33, random_state=42)\n",
    "\n",
    "from collections import Counter\n",
    "## Sentiment Distrubtion for Train and Test\n",
    "print(Counter([label for (words, label) in train]))\n",
    "print(Counter([label for (words, label) in test]))"
   ]
  },
  {
   "cell_type": "code",
   "execution_count": 26,
   "metadata": {},
   "outputs": [],
   "source": [
    "X_train = [name for (name, gender) in train]\n",
    "X_test = [name for (name, gender) in test]\n",
    "y_train = [gender for (name, gender) in train]\n",
    "y_test = [gender for (name, gender) in test]"
   ]
  },
  {
   "cell_type": "code",
   "execution_count": 27,
   "metadata": {},
   "outputs": [
    {
     "data": {
      "text/plain": [
       "['黃躍宏', '張兆楓', '楊鳳森', '田亞華', '何澤華', '劉院芳', '祁京梅', '張樹永', '任志民', '史寶平']"
      ]
     },
     "execution_count": 27,
     "metadata": {},
     "output_type": "execute_result"
    }
   ],
   "source": [
    "X_train[:10]"
   ]
  },
  {
   "cell_type": "code",
   "execution_count": 28,
   "metadata": {},
   "outputs": [
    {
     "data": {
      "text/plain": [
       "['男', '男', '男', '女', '男', '女', '女', '男', '男', '男']"
      ]
     },
     "execution_count": 28,
     "metadata": {},
     "output_type": "execute_result"
    }
   ],
   "source": [
    "y_train[:10]"
   ]
  },
  {
   "cell_type": "code",
   "execution_count": 29,
   "metadata": {},
   "outputs": [],
   "source": [
    "from sklearn.feature_extraction.text import CountVectorizer"
   ]
  },
  {
   "cell_type": "code",
   "execution_count": 30,
   "metadata": {},
   "outputs": [],
   "source": [
    "cv = CountVectorizer(analyzer='char', \n",
    "                     ngram_range=(1,2),\n",
    "                    min_df = 100)"
   ]
  },
  {
   "cell_type": "code",
   "execution_count": 31,
   "metadata": {},
   "outputs": [],
   "source": [
    "X_train_bow = cv.fit_transform(X_train)\n",
    "X_test_bow=cv.transform(X_test)"
   ]
  },
  {
   "cell_type": "code",
   "execution_count": 32,
   "metadata": {},
   "outputs": [
    {
     "name": "stdout",
     "output_type": "stream",
     "text": [
      "(613482, 2072)\n",
      "(302163, 2072)\n"
     ]
    }
   ],
   "source": [
    "print(X_train_bow.shape)\n",
    "print(X_test_bow.shape)"
   ]
  },
  {
   "cell_type": "code",
   "execution_count": 33,
   "metadata": {},
   "outputs": [],
   "source": [
    "# get all unique words in the corpus\n",
    "vocab = cv.get_feature_names()\n",
    "# show document feature vectors\n",
    "import pandas as pd\n",
    "pd.options.display.max_colwidth = 200\n",
    "X_train_bow_df = pd.DataFrame(X_train_bow.toarray(), columns=vocab)"
   ]
  },
  {
   "cell_type": "code",
   "execution_count": 34,
   "metadata": {},
   "outputs": [
    {
     "data": {
      "text/html": [
       "<div>\n",
       "<style scoped>\n",
       "    .dataframe tbody tr th:only-of-type {\n",
       "        vertical-align: middle;\n",
       "    }\n",
       "\n",
       "    .dataframe tbody tr th {\n",
       "        vertical-align: top;\n",
       "    }\n",
       "\n",
       "    .dataframe thead th {\n",
       "        text-align: right;\n",
       "    }\n",
       "</style>\n",
       "<table border=\"1\" class=\"dataframe\">\n",
       "  <thead>\n",
       "    <tr style=\"text-align: right;\">\n",
       "      <th></th>\n",
       "      <th>一</th>\n",
       "      <th>一凡</th>\n",
       "      <th>一鳴</th>\n",
       "      <th>丁</th>\n",
       "      <th>三</th>\n",
       "      <th>上</th>\n",
       "      <th>世</th>\n",
       "      <th>世偉</th>\n",
       "      <th>世傑</th>\n",
       "      <th>世平</th>\n",
       "      <th>...</th>\n",
       "      <th>黎明</th>\n",
       "      <th>黨</th>\n",
       "      <th>鼎</th>\n",
       "      <th>齊</th>\n",
       "      <th>齡</th>\n",
       "      <th>龍</th>\n",
       "      <th>龍飛</th>\n",
       "      <th>龍龍</th>\n",
       "      <th>龐</th>\n",
       "      <th>龔</th>\n",
       "    </tr>\n",
       "  </thead>\n",
       "  <tbody>\n",
       "    <tr>\n",
       "      <th>0</th>\n",
       "      <td>0</td>\n",
       "      <td>0</td>\n",
       "      <td>0</td>\n",
       "      <td>0</td>\n",
       "      <td>0</td>\n",
       "      <td>0</td>\n",
       "      <td>0</td>\n",
       "      <td>0</td>\n",
       "      <td>0</td>\n",
       "      <td>0</td>\n",
       "      <td>...</td>\n",
       "      <td>0</td>\n",
       "      <td>0</td>\n",
       "      <td>0</td>\n",
       "      <td>0</td>\n",
       "      <td>0</td>\n",
       "      <td>0</td>\n",
       "      <td>0</td>\n",
       "      <td>0</td>\n",
       "      <td>0</td>\n",
       "      <td>0</td>\n",
       "    </tr>\n",
       "    <tr>\n",
       "      <th>1</th>\n",
       "      <td>0</td>\n",
       "      <td>0</td>\n",
       "      <td>0</td>\n",
       "      <td>0</td>\n",
       "      <td>0</td>\n",
       "      <td>0</td>\n",
       "      <td>0</td>\n",
       "      <td>0</td>\n",
       "      <td>0</td>\n",
       "      <td>0</td>\n",
       "      <td>...</td>\n",
       "      <td>0</td>\n",
       "      <td>0</td>\n",
       "      <td>0</td>\n",
       "      <td>0</td>\n",
       "      <td>0</td>\n",
       "      <td>0</td>\n",
       "      <td>0</td>\n",
       "      <td>0</td>\n",
       "      <td>0</td>\n",
       "      <td>0</td>\n",
       "    </tr>\n",
       "    <tr>\n",
       "      <th>2</th>\n",
       "      <td>0</td>\n",
       "      <td>0</td>\n",
       "      <td>0</td>\n",
       "      <td>0</td>\n",
       "      <td>0</td>\n",
       "      <td>0</td>\n",
       "      <td>0</td>\n",
       "      <td>0</td>\n",
       "      <td>0</td>\n",
       "      <td>0</td>\n",
       "      <td>...</td>\n",
       "      <td>0</td>\n",
       "      <td>0</td>\n",
       "      <td>0</td>\n",
       "      <td>0</td>\n",
       "      <td>0</td>\n",
       "      <td>0</td>\n",
       "      <td>0</td>\n",
       "      <td>0</td>\n",
       "      <td>0</td>\n",
       "      <td>0</td>\n",
       "    </tr>\n",
       "    <tr>\n",
       "      <th>3</th>\n",
       "      <td>0</td>\n",
       "      <td>0</td>\n",
       "      <td>0</td>\n",
       "      <td>0</td>\n",
       "      <td>0</td>\n",
       "      <td>0</td>\n",
       "      <td>0</td>\n",
       "      <td>0</td>\n",
       "      <td>0</td>\n",
       "      <td>0</td>\n",
       "      <td>...</td>\n",
       "      <td>0</td>\n",
       "      <td>0</td>\n",
       "      <td>0</td>\n",
       "      <td>0</td>\n",
       "      <td>0</td>\n",
       "      <td>0</td>\n",
       "      <td>0</td>\n",
       "      <td>0</td>\n",
       "      <td>0</td>\n",
       "      <td>0</td>\n",
       "    </tr>\n",
       "    <tr>\n",
       "      <th>4</th>\n",
       "      <td>0</td>\n",
       "      <td>0</td>\n",
       "      <td>0</td>\n",
       "      <td>0</td>\n",
       "      <td>0</td>\n",
       "      <td>0</td>\n",
       "      <td>0</td>\n",
       "      <td>0</td>\n",
       "      <td>0</td>\n",
       "      <td>0</td>\n",
       "      <td>...</td>\n",
       "      <td>0</td>\n",
       "      <td>0</td>\n",
       "      <td>0</td>\n",
       "      <td>0</td>\n",
       "      <td>0</td>\n",
       "      <td>0</td>\n",
       "      <td>0</td>\n",
       "      <td>0</td>\n",
       "      <td>0</td>\n",
       "      <td>0</td>\n",
       "    </tr>\n",
       "  </tbody>\n",
       "</table>\n",
       "<p>5 rows × 2072 columns</p>\n",
       "</div>"
      ],
      "text/plain": [
       "   一  一凡  一鳴  丁  三  上  世  世偉  世傑  世平  ...  黎明  黨  鼎  齊  齡  龍  龍飛  龍龍  龐  龔\n",
       "0  0   0   0  0  0  0  0   0   0   0  ...   0  0  0  0  0  0   0   0  0  0\n",
       "1  0   0   0  0  0  0  0   0   0   0  ...   0  0  0  0  0  0   0   0  0  0\n",
       "2  0   0   0  0  0  0  0   0   0   0  ...   0  0  0  0  0  0   0   0  0  0\n",
       "3  0   0   0  0  0  0  0   0   0   0  ...   0  0  0  0  0  0   0   0  0  0\n",
       "4  0   0   0  0  0  0  0   0   0   0  ...   0  0  0  0  0  0   0   0  0  0\n",
       "\n",
       "[5 rows x 2072 columns]"
      ]
     },
     "execution_count": 34,
     "metadata": {},
     "output_type": "execute_result"
    }
   ],
   "source": [
    "X_train_bow_df.head()"
   ]
  },
  {
   "cell_type": "code",
   "execution_count": 35,
   "metadata": {
    "scrolled": true
   },
   "outputs": [
    {
     "name": "stdout",
     "output_type": "stream",
     "text": [
      "CPU times: user 24.9 s, sys: 26.7 s, total: 51.6 s\n",
      "Wall time: 1min 7s\n"
     ]
    },
    {
     "data": {
      "text/plain": [
       "GaussianNB()"
      ]
     },
     "execution_count": 35,
     "metadata": {},
     "output_type": "execute_result"
    }
   ],
   "source": [
    "%%time\n",
    "from sklearn.naive_bayes import GaussianNB\n",
    "model_gnb = GaussianNB()\n",
    "model_gnb.fit(X_train_bow.toarray(), y_train)"
   ]
  },
  {
   "cell_type": "code",
   "execution_count": 36,
   "metadata": {},
   "outputs": [
    {
     "data": {
      "text/plain": [
       "array(['男', '女', '男', '男', '女', '男', '女', '男', '男', '女'], dtype='<U1')"
      ]
     },
     "execution_count": 36,
     "metadata": {},
     "output_type": "execute_result"
    }
   ],
   "source": [
    "model_gnb.predict(X_test_bow[:10].toarray())"
   ]
  },
  {
   "cell_type": "code",
   "execution_count": 37,
   "metadata": {},
   "outputs": [
    {
     "data": {
      "text/plain": [
       "0.9407273557649348"
      ]
     },
     "execution_count": 37,
     "metadata": {},
     "output_type": "execute_result"
    }
   ],
   "source": [
    "model_gnb.score(X_test_bow.toarray(), y_test)"
   ]
  },
  {
   "cell_type": "code",
   "execution_count": 38,
   "metadata": {},
   "outputs": [
    {
     "data": {
      "text/plain": [
       "array(['男', '女', '男', '男'], dtype='<U1')"
      ]
     },
     "execution_count": 38,
     "metadata": {},
     "output_type": "execute_result"
    }
   ],
   "source": [
    "test_name = [\"陳正賢\",'陳純音','張純應','陳英永']\n",
    "test_name_bow = cv.transform(test_name)\n",
    "model_gnb.predict(test_name_bow.toarray())"
   ]
  },
  {
   "cell_type": "code",
   "execution_count": 44,
   "metadata": {},
   "outputs": [
    {
     "data": {
      "text/plain": [
       "<sklearn.metrics._plot.confusion_matrix.ConfusionMatrixDisplay at 0x7fc6dd5e5208>"
      ]
     },
     "execution_count": 44,
     "metadata": {},
     "output_type": "execute_result"
    },
    {
     "data": {
      "image/png": "[encoded data removed]",
      "text/plain": [
       "<Figure size 1800x1200 with 2 Axes>"
      ]
     },
     "metadata": {
      "needs_background": "light"
     },
     "output_type": "display_data"
    }
   ],
   "source": [
    "import matplotlib\n",
    "matplotlib.rcParams['font.sans-serif']=[\"PingFang HK\"]\n",
    "matplotlib.rcParams['figure.dpi']=300\n",
    "from sklearn.metrics import confusion_matrix, plot_confusion_matrix\n",
    "plot_confusion_matrix(model_gnb, X_test_bow.toarray(),y_test, normalize=\"all\")"
   ]
  },
  {
   "cell_type": "code",
   "execution_count": 23,
   "metadata": {},
   "outputs": [],
   "source": [
    "from sklearn.inspection import permutation_importance"
   ]
  },
  {
   "cell_type": "code",
   "execution_count": 24,
   "metadata": {},
   "outputs": [
    {
     "name": "stdout",
     "output_type": "stream",
     "text": [
      "CPU times: user 4min 25s, sys: 18.5 s, total: 4min 44s\n",
      "Wall time: 4min 45s\n"
     ]
    }
   ],
   "source": [
    "%%time\n",
    "importances = permutation_importance(model_gnb, X_test_bow.toarray()[:1000,], y_test[:1000])"
   ]
  },
  {
   "cell_type": "code",
   "execution_count": 25,
   "metadata": {},
   "outputs": [],
   "source": [
    "## importances values: the larger, the more important.\n",
    "## if shuffling a feature made the model perform worse, it means this feature was important, thus get a positive value assigned to it."
   ]
  },
  {
   "cell_type": "code",
   "execution_count": 26,
   "metadata": {},
   "outputs": [
    {
     "name": "stdout",
     "output_type": "stream",
     "text": [
      "萍       0.015+/-0.003\n",
      "麗       0.013+/-0.002\n",
      "玲       0.009+/-0.001\n",
      "莉       0.008+/-0.001\n",
      "芳       0.007+/-0.001\n",
      "娟       0.007+/-0.001\n",
      "蘭       0.007+/-0.001\n",
      "琴       0.007+/-0.001\n",
      "潔       0.007+/-0.001\n",
      "翠       0.006+/-0.001\n",
      "靜       0.006+/-0.001\n",
      "賽       0.006+/-0.001\n",
      "珍       0.005+/-0.002\n",
      "娜       0.005+/-0.001\n",
      "美       0.005+/-0.001\n",
      "璐       0.005+/-0.001\n",
      "瓊       0.004+/-0.001\n",
      "豔       0.004+/-0.001\n",
      "蓮       0.004+/-0.001\n",
      "香       0.004+/-0.002\n",
      "瑤       0.004+/-0.001\n",
      "燕       0.004+/-0.000\n",
      "穎       0.004+/-0.000\n",
      "霞       0.004+/-0.001\n",
      "花       0.003+/-0.001\n",
      "倩       0.003+/-0.001\n",
      "鳳       0.003+/-0.001\n",
      "月       0.003+/-0.001\n",
      "丹       0.003+/-0.001\n",
      "秀       0.003+/-0.001\n",
      "強       0.003+/-0.001\n",
      "麗娜      0.003+/-0.000\n",
      "琪       0.003+/-0.001\n",
      "勇       0.003+/-0.001\n",
      "芸       0.003+/-0.001\n",
      "風       0.003+/-0.000\n",
      "巧       0.003+/-0.000\n",
      "慧       0.003+/-0.001\n",
      "亞       0.002+/-0.000\n",
      "仙       0.002+/-0.001\n",
      "芝       0.002+/-0.000\n",
      "妮       0.002+/-0.001\n",
      "松       0.002+/-0.000\n",
      "虹       0.002+/-0.001\n",
      "婷       0.002+/-0.001\n",
      "國       0.002+/-0.000\n",
      "男       0.002+/-0.001\n",
      "亮       0.002+/-0.001\n",
      "菊       0.002+/-0.001\n",
      "俠       0.002+/-0.001\n",
      "森       0.002+/-0.000\n",
      "綺       0.002+/-0.000\n",
      "志遠      0.002+/-0.001\n",
      "衛紅      0.002+/-0.000\n",
      "瑩       0.002+/-0.001\n",
      "娣       0.002+/-0.000\n",
      "斯       0.002+/-0.001\n",
      "生       0.002+/-0.001\n",
      "影       0.002+/-0.001\n",
      "舒       0.002+/-0.000\n",
      "耀       0.002+/-0.000\n",
      "峯       0.002+/-0.000\n",
      "露       0.002+/-0.000\n",
      "淑       0.002+/-0.000\n",
      "改       0.002+/-0.000\n",
      "圓       0.002+/-0.000\n",
      "英       0.001+/-0.000\n",
      "細       0.001+/-0.000\n",
      "國華      0.001+/-0.000\n",
      "翔       0.001+/-0.000\n",
      "國榮      0.001+/-0.000\n",
      "濤       0.001+/-0.000\n",
      "奎       0.001+/-0.000\n",
      "鈞       0.001+/-0.000\n",
      "良       0.001+/-0.000\n",
      "韋       0.001+/-0.000\n",
      "南       0.001+/-0.000\n",
      "貞       0.001+/-0.000\n",
      "霄       0.001+/-0.000\n",
      "恆       0.001+/-0.000\n",
      "紅       0.001+/-0.000\n",
      "陳家      0.001+/-0.000\n",
      "梅       0.001+/-0.000\n",
      "黨       0.001+/-0.000\n",
      "秋       0.001+/-0.000\n",
      "飛       0.001+/-0.000\n",
      "欽       0.001+/-0.000\n",
      "冉       0.001+/-0.000\n",
      "劉亞      0.001+/-0.000\n",
      "馬志      0.001+/-0.000\n",
      "張曉      0.001+/-0.000\n",
      "魁       0.001+/-0.000\n",
      "宗       0.001+/-0.000\n",
      "軒       0.001+/-0.000\n",
      "光       0.001+/-0.000\n",
      "合       0.001+/-0.000\n",
      "吉       0.001+/-0.000\n",
      "妍妍      0.001+/-0.000\n",
      "妍       0.001+/-0.000\n",
      "健       0.001+/-0.000\n",
      "初       0.001+/-0.000\n",
      "孝       0.001+/-0.000\n",
      "貝       0.001+/-0.000\n",
      "劉       0.001+/-0.000\n",
      "義       0.001+/-0.000\n",
      "劉國      0.001+/-0.000\n",
      "壽       0.001+/-0.000\n",
      "祺       0.001+/-0.000\n",
      "劍       0.001+/-0.000\n",
      "水       0.001+/-0.000\n",
      "志       0.001+/-0.000\n",
      "潮       0.001+/-0.000\n",
      "棟       0.001+/-0.000\n",
      "曉光      0.001+/-0.000\n",
      "麗芳      0.001+/-0.000\n",
      "海軍      0.001+/-0.000\n",
      "魯       0.001+/-0.000\n",
      "柳       0.001+/-0.000\n",
      "晨       0.001+/-0.000\n",
      "敏       0.001+/-0.000\n",
      "柏       0.001+/-0.000\n",
      "麟       0.001+/-0.000\n",
      "江       0.001+/-0.000\n",
      "文       0.001+/-0.000\n",
      "正       0.001+/-0.000\n",
      "順       0.001+/-0.000\n",
      "龍       0.001+/-0.000\n",
      "俐       0.001+/-0.000\n",
      "園       0.001+/-0.000\n",
      "燕飛      0.001+/-0.000\n",
      "園園      0.001+/-0.000\n",
      "奇       0.001+/-0.000\n",
      "法       0.001+/-0.000\n",
      "紅紅      0.001+/-0.000\n",
      "玉玲      0.001+/-0.000\n"
     ]
    }
   ],
   "source": [
    "feature_names = cv.get_feature_names()\n",
    "for i in importances.importances_mean.argsort()[::-1]:\n",
    "    if importances.importances_mean[i] - 2*importances.importances_std[i] > 0:\n",
    "        print(f\"{feature_names[i]:<8}\"\n",
    "             f\"{importances.importances_mean[i]:.3f}\"\n",
    "             f\"+/-{importances.importances_std[i]:.3f}\")"
   ]
  },
  {
   "cell_type": "code",
   "execution_count": null,
   "metadata": {},
   "outputs": [],
   "source": []
  }
 ],
 "metadata": {
  "kernelspec": {
   "display_name": "python-notes",
   "language": "python",
   "name": "python-notes"
  },
  "language_info": {
   "codemirror_mode": {
    "name": "ipython",
    "version": 3
   },
   "file_extension": ".py",
   "mimetype": "text/x-python",
   "name": "python",
   "nbconvert_exporter": "python",
   "pygments_lexer": "ipython3",
   "version": "3.7.0"
  },
  "toc": {
   "base_numbering": 1,
   "nav_menu": {},
   "number_sections": false,
   "sideBar": true,
   "skip_h1_title": false,
   "title_cell": "Table of Contents",
   "title_sidebar": "Contents",
   "toc_cell": false,
   "toc_position": {},
   "toc_section_display": true,
   "toc_window_display": false
  },
  "varInspector": {
   "cols": {
    "lenName": 16,
    "lenType": 16,
    "lenVar": 40
   },
   "kernels_config": {
    "python": {
     "delete_cmd_postfix": "",
     "delete_cmd_prefix": "del ",
     "library": "var_list.py",
     "varRefreshCmd": "print(var_dic_list())"
    },
    "r": {
     "delete_cmd_postfix": ") ",
     "delete_cmd_prefix": "rm(",
     "library": "var_list.r",
     "varRefreshCmd": "cat(var_dic_list()) "
    }
   },
   "types_to_exclude": [
    "module",
    "function",
    "builtin_function_or_method",
    "instance",
    "_Feature"
   ],
   "window_display": false
  }
 },
 "nbformat": 4,
 "nbformat_minor": 4
}
