{
 "cells": [
  {
   "cell_type": "markdown",
   "metadata": {},
   "source": [
    "# Unused Codes"
   ]
  },
  {
   "cell_type": "markdown",
   "metadata": {},
   "source": [
    "## Chinese snownlp"
   ]
  },
  {
   "cell_type": "code",
   "execution_count": 81,
   "metadata": {},
   "outputs": [],
   "source": [
    "from snownlp import SnowNLP"
   ]
  },
  {
   "cell_type": "code",
   "execution_count": 86,
   "metadata": {
    "scrolled": true
   },
   "outputs": [
    {
     "name": "stdout",
     "output_type": "stream",
     "text": [
      "0.30907956381758117\n"
     ]
    }
   ],
   "source": [
    "text = \"我今天很快樂。我今天很憤怒。太糟糕了！！！！！！！！！！！\"\n",
    "s = SnowNLP(text)\n",
    "print(s.sentiments)"
   ]
  },
  {
   "cell_type": "markdown",
   "metadata": {},
   "source": [
    "## Latent Semantic Indexing"
   ]
  },
  {
   "cell_type": "code",
   "execution_count": 61,
   "metadata": {},
   "outputs": [],
   "source": [
    "from sklearn.decomposition import TruncatedSVD\n",
    "word_doc_matrix = np.transpose(tv_matrix)\n",
    "svd = TruncatedSVD(n_components=3, algorithm='randomized', n_iter=20, random_state=None, tol=0.0)\n",
    "word_topic_matrix = svd.fit_transform(word_doc_matrix)"
   ]
  },
  {
   "cell_type": "code",
   "execution_count": 52,
   "metadata": {},
   "outputs": [
    {
     "data": {
      "text/plain": [
       "(20, 8)"
      ]
     },
     "execution_count": 52,
     "metadata": {},
     "output_type": "execute_result"
    }
   ],
   "source": [
    "word_doc_matrix.shape"
   ]
  },
  {
   "cell_type": "code",
   "execution_count": 53,
   "metadata": {},
   "outputs": [
    {
     "data": {
      "text/plain": [
       "(20, 3)"
      ]
     },
     "execution_count": 53,
     "metadata": {},
     "output_type": "execute_result"
    }
   ],
   "source": [
    "word_topic_matrix.shape"
   ]
  },
  {
   "cell_type": "code",
   "execution_count": 54,
   "metadata": {},
   "outputs": [
    {
     "data": {
      "text/plain": [
       "(3, 8)"
      ]
     },
     "execution_count": 54,
     "metadata": {},
     "output_type": "execute_result"
    }
   ],
   "source": [
    "svd.components_.shape"
   ]
  },
  {
   "cell_type": "code",
   "execution_count": 55,
   "metadata": {},
   "outputs": [],
   "source": [
    "topic_document_matrix = svd.components_"
   ]
  },
  {
   "cell_type": "code",
   "execution_count": 57,
   "metadata": {},
   "outputs": [
    {
     "data": {
      "text/html": [
       "<div>\n",
       "<style scoped>\n",
       "    .dataframe tbody tr th:only-of-type {\n",
       "        vertical-align: middle;\n",
       "    }\n",
       "\n",
       "    .dataframe tbody tr th {\n",
       "        vertical-align: top;\n",
       "    }\n",
       "\n",
       "    .dataframe thead th {\n",
       "        text-align: right;\n",
       "    }\n",
       "</style>\n",
       "<table border=\"1\" class=\"dataframe\">\n",
       "  <thead>\n",
       "    <tr style=\"text-align: right;\">\n",
       "      <th></th>\n",
       "      <th>0</th>\n",
       "      <th>1</th>\n",
       "      <th>2</th>\n",
       "      <th>sent</th>\n",
       "    </tr>\n",
       "  </thead>\n",
       "  <tbody>\n",
       "    <tr>\n",
       "      <th>0</th>\n",
       "      <td>0.325401</td>\n",
       "      <td>0.495890</td>\n",
       "      <td>-0.090850</td>\n",
       "      <td>sky blue beautiful</td>\n",
       "    </tr>\n",
       "    <tr>\n",
       "      <th>1</th>\n",
       "      <td>0.305785</td>\n",
       "      <td>0.477531</td>\n",
       "      <td>0.038835</td>\n",
       "      <td>love blue beautiful sky</td>\n",
       "    </tr>\n",
       "    <tr>\n",
       "      <th>2</th>\n",
       "      <td>0.454128</td>\n",
       "      <td>-0.334286</td>\n",
       "      <td>0.011847</td>\n",
       "      <td>quick brown fox jumps lazy dog</td>\n",
       "    </tr>\n",
       "    <tr>\n",
       "      <th>3</th>\n",
       "      <td>0.011490</td>\n",
       "      <td>0.028501</td>\n",
       "      <td>0.696026</td>\n",
       "      <td>kings breakfast sausages ham bacon eggs toast beans</td>\n",
       "    </tr>\n",
       "    <tr>\n",
       "      <th>4</th>\n",
       "      <td>0.041171</td>\n",
       "      <td>0.082868</td>\n",
       "      <td>0.704611</td>\n",
       "      <td>love green eggs ham sausages bacon</td>\n",
       "    </tr>\n",
       "    <tr>\n",
       "      <th>5</th>\n",
       "      <td>0.524452</td>\n",
       "      <td>-0.247205</td>\n",
       "      <td>-0.004549</td>\n",
       "      <td>brown fox quick blue dog lazy</td>\n",
       "    </tr>\n",
       "    <tr>\n",
       "      <th>6</th>\n",
       "      <td>0.292680</td>\n",
       "      <td>0.472925</td>\n",
       "      <td>-0.094965</td>\n",
       "      <td>sky blue sky beautiful today</td>\n",
       "    </tr>\n",
       "    <tr>\n",
       "      <th>7</th>\n",
       "      <td>0.481497</td>\n",
       "      <td>-0.349088</td>\n",
       "      <td>0.011383</td>\n",
       "      <td>dog lazy brown fox quick</td>\n",
       "    </tr>\n",
       "  </tbody>\n",
       "</table>\n",
       "</div>"
      ],
      "text/plain": [
       "          0         1         2  \\\n",
       "0  0.325401  0.495890 -0.090850   \n",
       "1  0.305785  0.477531  0.038835   \n",
       "2  0.454128 -0.334286  0.011847   \n",
       "3  0.011490  0.028501  0.696026   \n",
       "4  0.041171  0.082868  0.704611   \n",
       "5  0.524452 -0.247205 -0.004549   \n",
       "6  0.292680  0.472925 -0.094965   \n",
       "7  0.481497 -0.349088  0.011383   \n",
       "\n",
       "                                                  sent  \n",
       "0                                   sky blue beautiful  \n",
       "1                              love blue beautiful sky  \n",
       "2                       quick brown fox jumps lazy dog  \n",
       "3  kings breakfast sausages ham bacon eggs toast beans  \n",
       "4                   love green eggs ham sausages bacon  \n",
       "5                        brown fox quick blue dog lazy  \n",
       "6                         sky blue sky beautiful today  \n",
       "7                             dog lazy brown fox quick  "
      ]
     },
     "execution_count": 57,
     "metadata": {},
     "output_type": "execute_result"
    }
   ],
   "source": [
    "document_topic_df = pd.DataFrame(np.transpose(topic_document_matrix))\n",
    "document_topic_df['sent']=norm_corpus\n",
    "document_topic_df"
   ]
  },
  {
   "cell_type": "code",
   "execution_count": 58,
   "metadata": {},
   "outputs": [],
   "source": [
    "topic_names = ['animal','weather','food']"
   ]
  },
  {
   "cell_type": "code",
   "execution_count": 59,
   "metadata": {
    "scrolled": true
   },
   "outputs": [
    {
     "data": {
      "text/html": [
       "<div>\n",
       "<style scoped>\n",
       "    .dataframe tbody tr th:only-of-type {\n",
       "        vertical-align: middle;\n",
       "    }\n",
       "\n",
       "    .dataframe tbody tr th {\n",
       "        vertical-align: top;\n",
       "    }\n",
       "\n",
       "    .dataframe thead th {\n",
       "        text-align: right;\n",
       "    }\n",
       "</style>\n",
       "<table border=\"1\" class=\"dataframe\">\n",
       "  <thead>\n",
       "    <tr style=\"text-align: right;\">\n",
       "      <th></th>\n",
       "      <th>animal</th>\n",
       "      <th>weather</th>\n",
       "      <th>food</th>\n",
       "    </tr>\n",
       "  </thead>\n",
       "  <tbody>\n",
       "    <tr>\n",
       "      <th>sky</th>\n",
       "      <td>0.019934</td>\n",
       "      <td>0.041849</td>\n",
       "      <td>0.501545</td>\n",
       "    </tr>\n",
       "    <tr>\n",
       "      <th>blue</th>\n",
       "      <td>0.004403</td>\n",
       "      <td>0.010922</td>\n",
       "      <td>0.266728</td>\n",
       "    </tr>\n",
       "    <tr>\n",
       "      <th>beautiful</th>\n",
       "      <td>0.451967</td>\n",
       "      <td>0.704163</td>\n",
       "      <td>-0.069712</td>\n",
       "    </tr>\n",
       "    <tr>\n",
       "      <th>ham</th>\n",
       "      <td>0.587725</td>\n",
       "      <td>0.527154</td>\n",
       "      <td>-0.062783</td>\n",
       "    </tr>\n",
       "    <tr>\n",
       "      <th>quick</th>\n",
       "      <td>0.004403</td>\n",
       "      <td>0.010922</td>\n",
       "      <td>0.266728</td>\n",
       "    </tr>\n",
       "    <tr>\n",
       "      <th>brown</th>\n",
       "      <td>0.606421</td>\n",
       "      <td>-0.386190</td>\n",
       "      <td>0.007703</td>\n",
       "    </tr>\n",
       "    <tr>\n",
       "      <th>today</th>\n",
       "      <td>0.606421</td>\n",
       "      <td>-0.386190</td>\n",
       "      <td>0.007703</td>\n",
       "    </tr>\n",
       "    <tr>\n",
       "      <th>love</th>\n",
       "      <td>0.019934</td>\n",
       "      <td>0.041849</td>\n",
       "      <td>0.501545</td>\n",
       "    </tr>\n",
       "    <tr>\n",
       "      <th>bacon</th>\n",
       "      <td>0.606421</td>\n",
       "      <td>-0.386190</td>\n",
       "      <td>0.007703</td>\n",
       "    </tr>\n",
       "    <tr>\n",
       "      <th>lazy</th>\n",
       "      <td>0.019383</td>\n",
       "      <td>0.039013</td>\n",
       "      <td>0.331720</td>\n",
       "    </tr>\n",
       "    <tr>\n",
       "      <th>beans</th>\n",
       "      <td>0.019934</td>\n",
       "      <td>0.041849</td>\n",
       "      <td>0.501545</td>\n",
       "    </tr>\n",
       "    <tr>\n",
       "      <th>dog</th>\n",
       "      <td>0.238848</td>\n",
       "      <td>-0.175817</td>\n",
       "      <td>0.006231</td>\n",
       "    </tr>\n",
       "    <tr>\n",
       "      <th>eggs</th>\n",
       "      <td>0.004403</td>\n",
       "      <td>0.010922</td>\n",
       "      <td>0.266728</td>\n",
       "    </tr>\n",
       "    <tr>\n",
       "      <th>kings</th>\n",
       "      <td>0.606421</td>\n",
       "      <td>-0.386190</td>\n",
       "      <td>0.007703</td>\n",
       "    </tr>\n",
       "    <tr>\n",
       "      <th>breakfast</th>\n",
       "      <td>0.191001</td>\n",
       "      <td>0.305607</td>\n",
       "      <td>0.300201</td>\n",
       "    </tr>\n",
       "    <tr>\n",
       "      <th>toast</th>\n",
       "      <td>0.606421</td>\n",
       "      <td>-0.386190</td>\n",
       "      <td>0.007703</td>\n",
       "    </tr>\n",
       "    <tr>\n",
       "      <th>fox</th>\n",
       "      <td>0.019934</td>\n",
       "      <td>0.041849</td>\n",
       "      <td>0.501545</td>\n",
       "    </tr>\n",
       "    <tr>\n",
       "      <th>green</th>\n",
       "      <td>0.557574</td>\n",
       "      <td>0.874807</td>\n",
       "      <td>-0.103978</td>\n",
       "    </tr>\n",
       "    <tr>\n",
       "      <th>sausages</th>\n",
       "      <td>0.004403</td>\n",
       "      <td>0.010922</td>\n",
       "      <td>0.266728</td>\n",
       "    </tr>\n",
       "    <tr>\n",
       "      <th>jumps</th>\n",
       "      <td>0.146028</td>\n",
       "      <td>0.235959</td>\n",
       "      <td>-0.047381</td>\n",
       "    </tr>\n",
       "  </tbody>\n",
       "</table>\n",
       "</div>"
      ],
      "text/plain": [
       "             animal   weather      food\n",
       "sky        0.019934  0.041849  0.501545\n",
       "blue       0.004403  0.010922  0.266728\n",
       "beautiful  0.451967  0.704163 -0.069712\n",
       "ham        0.587725  0.527154 -0.062783\n",
       "quick      0.004403  0.010922  0.266728\n",
       "brown      0.606421 -0.386190  0.007703\n",
       "today      0.606421 -0.386190  0.007703\n",
       "love       0.019934  0.041849  0.501545\n",
       "bacon      0.606421 -0.386190  0.007703\n",
       "lazy       0.019383  0.039013  0.331720\n",
       "beans      0.019934  0.041849  0.501545\n",
       "dog        0.238848 -0.175817  0.006231\n",
       "eggs       0.004403  0.010922  0.266728\n",
       "kings      0.606421 -0.386190  0.007703\n",
       "breakfast  0.191001  0.305607  0.300201\n",
       "toast      0.606421 -0.386190  0.007703\n",
       "fox        0.019934  0.041849  0.501545\n",
       "green      0.557574  0.874807 -0.103978\n",
       "sausages   0.004403  0.010922  0.266728\n",
       "jumps      0.146028  0.235959 -0.047381"
      ]
     },
     "execution_count": 59,
     "metadata": {},
     "output_type": "execute_result"
    }
   ],
   "source": [
    "pd.DataFrame(word_topic_matrix,\n",
    "             index=feature_names,\n",
    "            columns=topic_names)"
   ]
  },
  {
   "cell_type": "code",
   "execution_count": 60,
   "metadata": {},
   "outputs": [
    {
     "data": {
      "text/plain": [
       "<matplotlib.lines.Line2D at 0x7fab9ac970b8>"
      ]
     },
     "execution_count": 60,
     "metadata": {},
     "output_type": "execute_result"
    },
    {
     "data": {
      "image/png": "[encoded data removed]",
      "text/plain": [
       "<Figure size 1050x600 with 1 Axes>"
      ]
     },
     "metadata": {
      "needs_background": "light"
     },
     "output_type": "display_data"
    }
   ],
   "source": [
    "Z3 = linkage(cosine_similarity(word_topic_matrix), 'ward')\n",
    "plt.figure(figsize=(7, 4))\n",
    "plt.title('Hierarchical Clustering Dendrogram')\n",
    "plt.xlabel('Data point')\n",
    "plt.ylabel('Distance')\n",
    "dendrogram(Z3, labels=feature_names, leaf_rotation=90)\n",
    "plt.axhline(y=1.0, c='k', ls='--', lw=0.5)"
   ]
  },
  {
   "cell_type": "code",
   "execution_count": 81,
   "metadata": {},
   "outputs": [
    {
     "name": "stderr",
     "output_type": "stream",
     "text": [
      "/Users/Alvin/.local/lib/python3.7/site-packages/ipykernel/ipkernel.py:287: DeprecationWarning: `should_run_async` will not call `transform_cell` automatically in the future. Please pass the result to `transformed_cell` argument and any exception that happen during thetransform in `preprocessing_exc_tuple` in IPython 7.17 and above.\n",
      "  and should_run_async(code)\n"
     ]
    }
   ],
   "source": [
    "from sklearn.decomposition import TruncatedSVD, LatentDirichletAllocation\n",
    "#svd = TruncatedSVD(n_components=3, algorithm='randomized', n_iter=20, random_state=None, tol=0.0)\n",
    "lds = LatentDirichletAllocation(n_components=3)\n",
    "#tv_matrix = tv.fit_transform(norm_corpus)\n",
    "#doc_topic_matrix = svd.fit_transform(tv_matrix)\n",
    "doc_topic_matrix=lds.fit_transform(tv_matrix)"
   ]
  },
  {
   "cell_type": "code",
   "execution_count": 83,
   "metadata": {},
   "outputs": [
    {
     "name": "stderr",
     "output_type": "stream",
     "text": [
      "/Users/Alvin/.local/lib/python3.7/site-packages/ipykernel/ipkernel.py:287: DeprecationWarning: `should_run_async` will not call `transform_cell` automatically in the future. Please pass the result to `transformed_cell` argument and any exception that happen during thetransform in `preprocessing_exc_tuple` in IPython 7.17 and above.\n",
      "  and should_run_async(code)\n"
     ]
    }
   ],
   "source": [
    "topic_word_matrix = lds.components_"
   ]
  },
  {
   "cell_type": "code",
   "execution_count": 84,
   "metadata": {
    "scrolled": true
   },
   "outputs": [
    {
     "name": "stderr",
     "output_type": "stream",
     "text": [
      "/Users/Alvin/.local/lib/python3.7/site-packages/ipykernel/ipkernel.py:287: DeprecationWarning: `should_run_async` will not call `transform_cell` automatically in the future. Please pass the result to `transformed_cell` argument and any exception that happen during thetransform in `preprocessing_exc_tuple` in IPython 7.17 and above.\n",
      "  and should_run_async(code)\n"
     ]
    },
    {
     "data": {
      "text/html": [
       "<div>\n",
       "<style scoped>\n",
       "    .dataframe tbody tr th:only-of-type {\n",
       "        vertical-align: middle;\n",
       "    }\n",
       "\n",
       "    .dataframe tbody tr th {\n",
       "        vertical-align: top;\n",
       "    }\n",
       "\n",
       "    .dataframe thead th {\n",
       "        text-align: right;\n",
       "    }\n",
       "</style>\n",
       "<table border=\"1\" class=\"dataframe\">\n",
       "  <thead>\n",
       "    <tr style=\"text-align: right;\">\n",
       "      <th></th>\n",
       "      <th>0</th>\n",
       "      <th>1</th>\n",
       "      <th>2</th>\n",
       "    </tr>\n",
       "  </thead>\n",
       "  <tbody>\n",
       "    <tr>\n",
       "      <th>sky</th>\n",
       "      <td>0.335124</td>\n",
       "      <td>0.336652</td>\n",
       "      <td>1.043941</td>\n",
       "    </tr>\n",
       "    <tr>\n",
       "      <th>blue</th>\n",
       "      <td>0.334849</td>\n",
       "      <td>0.336577</td>\n",
       "      <td>0.711788</td>\n",
       "    </tr>\n",
       "    <tr>\n",
       "      <th>beautiful</th>\n",
       "      <td>1.784931</td>\n",
       "      <td>0.335858</td>\n",
       "      <td>0.334178</td>\n",
       "    </tr>\n",
       "    <tr>\n",
       "      <th>ham</th>\n",
       "      <td>1.739686</td>\n",
       "      <td>0.339337</td>\n",
       "      <td>0.561710</td>\n",
       "    </tr>\n",
       "    <tr>\n",
       "      <th>quick</th>\n",
       "      <td>0.334849</td>\n",
       "      <td>0.336577</td>\n",
       "      <td>0.711788</td>\n",
       "    </tr>\n",
       "    <tr>\n",
       "      <th>brown</th>\n",
       "      <td>0.335897</td>\n",
       "      <td>0.336560</td>\n",
       "      <td>1.571470</td>\n",
       "    </tr>\n",
       "    <tr>\n",
       "      <th>today</th>\n",
       "      <td>0.335897</td>\n",
       "      <td>0.336560</td>\n",
       "      <td>1.571470</td>\n",
       "    </tr>\n",
       "    <tr>\n",
       "      <th>love</th>\n",
       "      <td>0.335124</td>\n",
       "      <td>0.336652</td>\n",
       "      <td>1.043941</td>\n",
       "    </tr>\n",
       "    <tr>\n",
       "      <th>bacon</th>\n",
       "      <td>0.335897</td>\n",
       "      <td>0.336560</td>\n",
       "      <td>1.571470</td>\n",
       "    </tr>\n",
       "    <tr>\n",
       "      <th>lazy</th>\n",
       "      <td>0.335492</td>\n",
       "      <td>0.336986</td>\n",
       "      <td>0.798305</td>\n",
       "    </tr>\n",
       "    <tr>\n",
       "      <th>beans</th>\n",
       "      <td>0.335124</td>\n",
       "      <td>0.336652</td>\n",
       "      <td>1.043941</td>\n",
       "    </tr>\n",
       "    <tr>\n",
       "      <th>dog</th>\n",
       "      <td>0.334987</td>\n",
       "      <td>0.336683</td>\n",
       "      <td>0.854280</td>\n",
       "    </tr>\n",
       "    <tr>\n",
       "      <th>eggs</th>\n",
       "      <td>0.334849</td>\n",
       "      <td>0.336577</td>\n",
       "      <td>0.711788</td>\n",
       "    </tr>\n",
       "    <tr>\n",
       "      <th>kings</th>\n",
       "      <td>0.335897</td>\n",
       "      <td>0.336560</td>\n",
       "      <td>1.571470</td>\n",
       "    </tr>\n",
       "    <tr>\n",
       "      <th>breakfast</th>\n",
       "      <td>0.920071</td>\n",
       "      <td>0.339630</td>\n",
       "      <td>0.706358</td>\n",
       "    </tr>\n",
       "    <tr>\n",
       "      <th>toast</th>\n",
       "      <td>0.335897</td>\n",
       "      <td>0.336560</td>\n",
       "      <td>1.571470</td>\n",
       "    </tr>\n",
       "    <tr>\n",
       "      <th>fox</th>\n",
       "      <td>0.335124</td>\n",
       "      <td>0.336652</td>\n",
       "      <td>1.043941</td>\n",
       "    </tr>\n",
       "    <tr>\n",
       "      <th>green</th>\n",
       "      <td>2.145830</td>\n",
       "      <td>0.335805</td>\n",
       "      <td>0.334156</td>\n",
       "    </tr>\n",
       "    <tr>\n",
       "      <th>sausages</th>\n",
       "      <td>0.334849</td>\n",
       "      <td>0.336577</td>\n",
       "      <td>0.711788</td>\n",
       "    </tr>\n",
       "    <tr>\n",
       "      <th>jumps</th>\n",
       "      <td>0.828628</td>\n",
       "      <td>0.336079</td>\n",
       "      <td>0.334228</td>\n",
       "    </tr>\n",
       "  </tbody>\n",
       "</table>\n",
       "</div>"
      ],
      "text/plain": [
       "                  0         1         2\n",
       "sky        0.335124  0.336652  1.043941\n",
       "blue       0.334849  0.336577  0.711788\n",
       "beautiful  1.784931  0.335858  0.334178\n",
       "ham        1.739686  0.339337  0.561710\n",
       "quick      0.334849  0.336577  0.711788\n",
       "brown      0.335897  0.336560  1.571470\n",
       "today      0.335897  0.336560  1.571470\n",
       "love       0.335124  0.336652  1.043941\n",
       "bacon      0.335897  0.336560  1.571470\n",
       "lazy       0.335492  0.336986  0.798305\n",
       "beans      0.335124  0.336652  1.043941\n",
       "dog        0.334987  0.336683  0.854280\n",
       "eggs       0.334849  0.336577  0.711788\n",
       "kings      0.335897  0.336560  1.571470\n",
       "breakfast  0.920071  0.339630  0.706358\n",
       "toast      0.335897  0.336560  1.571470\n",
       "fox        0.335124  0.336652  1.043941\n",
       "green      2.145830  0.335805  0.334156\n",
       "sausages   0.334849  0.336577  0.711788\n",
       "jumps      0.828628  0.336079  0.334228"
      ]
     },
     "execution_count": 84,
     "metadata": {},
     "output_type": "execute_result"
    }
   ],
   "source": [
    "pd.DataFrame(np.transpose(topic_word_matrix),index=feature_names)"
   ]
  },
  {
   "cell_type": "code",
   "execution_count": 86,
   "metadata": {
    "scrolled": false
   },
   "outputs": [
    {
     "name": "stderr",
     "output_type": "stream",
     "text": [
      "/Users/Alvin/.local/lib/python3.7/site-packages/ipykernel/ipkernel.py:287: DeprecationWarning: `should_run_async` will not call `transform_cell` automatically in the future. Please pass the result to `transformed_cell` argument and any exception that happen during thetransform in `preprocessing_exc_tuple` in IPython 7.17 and above.\n",
      "  and should_run_async(code)\n"
     ]
    },
    {
     "data": {
      "text/html": [
       "\n",
       "<link rel=\"stylesheet\" type=\"text/css\" href=\"https://cdn.jsdelivr.net/gh/bmabey/pyLDAvis@3.2.2/pyLDAvis/js/ldavis.v1.0.0.css\">\n",
       "\n",
       "\n",
       "<div id=\"ldavis_el673971403750135158161172022533\"></div>\n",
       "<script type=\"text/javascript\">\n",
       "\n",
       "var ldavis_el673971403750135158161172022533_data = {\"mdsDat\": {\"x\": [-0.04159176804957852, 0.052326361617181696, -0.010734593567603177], \"y\": [0.03979671728691956, -0.04884317270038423, 0.00904645541346467], \"topics\": [1, 2, 3], \"cluster\": [1, 1, 1], \"Freq\": [58.26742159662582, 31.24829476313234, 10.48428364024185]}, \"tinfo\": {\"Term\": [\"sky\", \"beautiful\", \"blue\", \"today\", \"love\", \"toast\", \"kings\", \"beans\", \"breakfast\", \"green\", \"jumps\", \"sausages\", \"bacon\", \"eggs\", \"ham\", \"dog\", \"brown\", \"fox\", \"quick\", \"lazy\", \"lazy\", \"quick\", \"fox\", \"brown\", \"dog\", \"ham\", \"eggs\", \"bacon\", \"sausages\", \"jumps\", \"green\", \"breakfast\", \"beans\", \"kings\", \"toast\", \"love\", \"today\", \"blue\", \"beautiful\", \"sky\", \"sky\", \"beautiful\", \"blue\", \"today\", \"love\", \"toast\", \"kings\", \"beans\", \"breakfast\", \"green\", \"jumps\", \"bacon\", \"sausages\", \"eggs\", \"ham\", \"dog\", \"brown\", \"fox\", \"quick\", \"lazy\", \"toast\", \"kings\", \"beans\", \"breakfast\", \"today\", \"green\", \"jumps\", \"bacon\", \"sausages\", \"eggs\", \"ham\", \"love\", \"beautiful\", \"dog\", \"brown\", \"quick\", \"fox\", \"lazy\", \"blue\", \"sky\"], \"Freq\": [1.0, 1.0, 1.0, 0.0, 0.0, 0.0, 0.0, 0.0, 0.0, 0.0, 0.0, 0.0, 0.0, 0.0, 0.0, 1.0, 1.0, 1.0, 1.0, 1.0, 0.8759725616549326, 0.8759725616549322, 0.8759725616549322, 0.8759725616549319, 0.8759725616549309, 0.5819162867841216, 0.5819162867841211, 0.5819162867841183, 0.5819162867841186, 0.47619456601089416, 0.4449931960237882, 0.3967667054597027, 0.3967667054597016, 0.396766705459701, 0.39676670545970083, 0.3937397107328953, 0.18630600096898486, 0.3131096841178092, 0.1862781153408048, 0.18626630545868825, 0.9689112933412388, 0.8059535692672904, 0.7855241506735785, 0.3741523217257136, 0.41544139380811057, 0.1511952845703494, 0.15119528457034936, 0.15119528457034928, 0.15119528457034917, 0.15148559666873013, 0.15125724767893903, 0.1513193511943965, 0.1513193511943965, 0.1513193511943962, 0.15131935119439616, 0.1516681423950119, 0.1516681423950117, 0.15166814239501164, 0.15166814239501164, 0.1516681423950116, 0.09423498426286443, 0.09423498426286432, 0.09423498426286407, 0.09423498426286363, 0.09409545305457534, 0.0943494908643691, 0.09426451386978422, 0.09425592793844698, 0.09425592793844698, 0.09425592793844582, 0.09425592793844562, 0.09508973278107245, 0.0940335349816284, 0.0942302101160439, 0.09423021011604349, 0.09423021011604339, 0.09423021011604338, 0.09423021011604325, 0.09500753614738792, 0.09401889837768937], \"Total\": [1.0, 1.0, 1.0, 0.0, 0.0, 0.0, 0.0, 0.0, 0.0, 0.0, 0.0, 0.0, 0.0, 0.0, 0.0, 1.0, 1.0, 1.0, 1.0, 1.0, 1.1218709141659875, 1.1218709141659873, 1.1218709141659873, 1.121870914165987, 1.1218709141659866, 0.8274915659169633, 0.8274915659169632, 0.8274915659169617, 0.8274915659169619, 0.7217163275596173, 0.6908282835568874, 0.6421969742929154, 0.6421969742929149, 0.6421969742929147, 0.6421969742929147, 0.9042708373220784, 0.6545537757492738, 1.1936413709387756, 1.0862652195897236, 1.2491964971776164, 1.2491964971776164, 1.0862652195897236, 1.1936413709387756, 0.6545537757492738, 0.9042708373220784, 0.6421969742929147, 0.6421969742929147, 0.6421969742929149, 0.6421969742929154, 0.6908282835568874, 0.7217163275596173, 0.8274915659169617, 0.8274915659169619, 0.8274915659169632, 0.8274915659169633, 1.1218709141659866, 1.121870914165987, 1.1218709141659873, 1.1218709141659873, 1.1218709141659875, 0.6421969742929147, 0.6421969742929147, 0.6421969742929149, 0.6421969742929154, 0.6545537757492738, 0.6908282835568874, 0.7217163275596173, 0.8274915659169617, 0.8274915659169619, 0.8274915659169632, 0.8274915659169633, 0.9042708373220784, 1.0862652195897236, 1.1218709141659866, 1.121870914165987, 1.1218709141659873, 1.1218709141659873, 1.1218709141659875, 1.1936413709387756, 1.2491964971776164], \"Category\": [\"Default\", \"Default\", \"Default\", \"Default\", \"Default\", \"Default\", \"Default\", \"Default\", \"Default\", \"Default\", \"Default\", \"Default\", \"Default\", \"Default\", \"Default\", \"Default\", \"Default\", \"Default\", \"Default\", \"Default\", \"Topic1\", \"Topic1\", \"Topic1\", \"Topic1\", \"Topic1\", \"Topic1\", \"Topic1\", \"Topic1\", \"Topic1\", \"Topic1\", \"Topic1\", \"Topic1\", \"Topic1\", \"Topic1\", \"Topic1\", \"Topic1\", \"Topic1\", \"Topic1\", \"Topic1\", \"Topic1\", \"Topic2\", \"Topic2\", \"Topic2\", \"Topic2\", \"Topic2\", \"Topic2\", \"Topic2\", \"Topic2\", \"Topic2\", \"Topic2\", \"Topic2\", \"Topic2\", \"Topic2\", \"Topic2\", \"Topic2\", \"Topic2\", \"Topic2\", \"Topic2\", \"Topic2\", \"Topic2\", \"Topic3\", \"Topic3\", \"Topic3\", \"Topic3\", \"Topic3\", \"Topic3\", \"Topic3\", \"Topic3\", \"Topic3\", \"Topic3\", \"Topic3\", \"Topic3\", \"Topic3\", \"Topic3\", \"Topic3\", \"Topic3\", \"Topic3\", \"Topic3\", \"Topic3\", \"Topic3\"], \"logprob\": [20.0, 19.0, 18.0, 17.0, 16.0, 15.0, 14.0, 13.0, 12.0, 11.0, 10.0, 9.0, 8.0, 7.0, 6.0, 5.0, 4.0, 3.0, 2.0, 1.0, -2.482, -2.482, -2.482, -2.482, -2.482, -2.891, -2.891, -2.891, -2.891, -3.0915, -3.1593, -3.274, -3.274, -3.274, -3.274, -3.2817, -4.03, -3.5108, -4.0301, -4.0302, -1.7581, -1.9423, -1.9679, -2.7096, -2.6049, -3.6157, -3.6157, -3.6157, -3.6157, -3.6138, -3.6153, -3.6149, -3.6149, -3.6149, -3.6149, -3.6126, -3.6126, -3.6126, -3.6126, -3.6126, -2.9964, -2.9964, -2.9964, -2.9964, -2.9979, -2.9952, -2.9961, -2.9962, -2.9962, -2.9962, -2.9962, -2.9874, -2.9985, -2.9965, -2.9965, -2.9965, -2.9965, -2.9965, -2.9882, -2.9987], \"loglift\": [20.0, 19.0, 18.0, 17.0, 16.0, 15.0, 14.0, 13.0, 12.0, 11.0, 10.0, 9.0, 8.0, 7.0, 6.0, 5.0, 4.0, 3.0, 2.0, 1.0, 0.2927, 0.2927, 0.2927, 0.2927, 0.2927, 0.1881, 0.1881, 0.1881, 0.1881, 0.1243, 0.1003, 0.0586, 0.0586, 0.0586, 0.0586, -0.2913, -0.7164, -0.7981, -1.2231, -1.363, 0.9091, 0.8647, 0.7448, 0.6039, 0.3854, -0.2831, -0.2831, -0.2831, -0.2831, -0.3542, -0.3994, -0.5358, -0.5358, -0.5358, -0.5358, -0.8379, -0.8379, -0.8379, -0.8379, -0.8379, 0.3362, 0.3362, 0.3362, 0.3362, 0.3156, 0.2644, 0.2198, 0.0829, 0.0829, 0.0829, 0.0829, 0.003, -0.1916, -0.2217, -0.2217, -0.2217, -0.2217, -0.2217, -0.2755, -0.3315]}, \"token.table\": {\"Topic\": [1, 2, 2, 1, 1, 1, 1, 1, 1, 1, 1, 2], \"Freq\": [1.2084715315398749, 0.9205854905100382, 0.8377725708464004, 0.8913681488421621, 0.8913681488421624, 1.2084715315398726, 0.8913681488421619, 1.2084715315398726, 0.8913681488421618, 0.8913681488421619, 1.2084715315398744, 0.8005145725747385], \"Term\": [\"bacon\", \"beautiful\", \"blue\", \"brown\", \"dog\", \"eggs\", \"fox\", \"ham\", \"lazy\", \"quick\", \"sausages\", \"sky\"]}, \"R\": 20, \"lambda.step\": 0.01, \"plot.opts\": {\"xlab\": \"PC1\", \"ylab\": \"PC2\"}, \"topic.order\": [3, 1, 2]};\n",
       "\n",
       "function LDAvis_load_lib(url, callback){\n",
       "  var s = document.createElement('script');\n",
       "  s.src = url;\n",
       "  s.async = true;\n",
       "  s.onreadystatechange = s.onload = callback;\n",
       "  s.onerror = function(){console.warn(\"failed to load library \" + url);};\n",
       "  document.getElementsByTagName(\"head\")[0].appendChild(s);\n",
       "}\n",
       "\n",
       "if(typeof(LDAvis) !== \"undefined\"){\n",
       "   // already loaded: just create the visualization\n",
       "   !function(LDAvis){\n",
       "       new LDAvis(\"#\" + \"ldavis_el673971403750135158161172022533\", ldavis_el673971403750135158161172022533_data);\n",
       "   }(LDAvis);\n",
       "}else if(typeof define === \"function\" && define.amd){\n",
       "   // require.js is available: use it to load d3/LDAvis\n",
       "   require.config({paths: {d3: \"https://d3js.org/d3.v5\"}});\n",
       "   require([\"d3\"], function(d3){\n",
       "      window.d3 = d3;\n",
       "      LDAvis_load_lib(\"https://cdn.jsdelivr.net/gh/bmabey/pyLDAvis@3.2.2/pyLDAvis/js/ldavis.v3.0.0.js\", function(){\n",
       "        new LDAvis(\"#\" + \"ldavis_el673971403750135158161172022533\", ldavis_el673971403750135158161172022533_data);\n",
       "      });\n",
       "    });\n",
       "}else{\n",
       "    // require.js not available: dynamically load d3 & LDAvis\n",
       "    LDAvis_load_lib(\"https://d3js.org/d3.v5.js\", function(){\n",
       "         LDAvis_load_lib(\"https://cdn.jsdelivr.net/gh/bmabey/pyLDAvis@3.2.2/pyLDAvis/js/ldavis.v3.0.0.js\", function(){\n",
       "                 new LDAvis(\"#\" + \"ldavis_el673971403750135158161172022533\", ldavis_el673971403750135158161172022533_data);\n",
       "            })\n",
       "         });\n",
       "}\n",
       "</script>"
      ],
      "text/plain": [
       "PreparedData(topic_coordinates=              x         y  topics  cluster       Freq\n",
       "topic                                                \n",
       "2     -0.041592  0.039797       1        1  58.267422\n",
       "0      0.052326 -0.048843       2        1  31.248295\n",
       "1     -0.010735  0.009046       3        1  10.484284, topic_info=         Term      Freq     Total Category  logprob  loglift\n",
       "17        sky  1.000000  1.000000  Default  20.0000  20.0000\n",
       "2   beautiful  1.000000  1.000000  Default  19.0000  19.0000\n",
       "3        blue  1.000000  1.000000  Default  18.0000  18.0000\n",
       "19      today  0.000000  0.000000  Default  17.0000  17.0000\n",
       "14       love  0.000000  0.000000  Default  16.0000  16.0000\n",
       "..        ...       ...       ...      ...      ...      ...\n",
       "15      quick  0.094230  1.121871   Topic3  -2.9965  -0.2217\n",
       "8         fox  0.094230  1.121871   Topic3  -2.9965  -0.2217\n",
       "13       lazy  0.094230  1.121871   Topic3  -2.9965  -0.2217\n",
       "3        blue  0.095008  1.193641   Topic3  -2.9882  -0.2755\n",
       "17        sky  0.094019  1.249196   Topic3  -2.9987  -0.3315\n",
       "\n",
       "[80 rows x 6 columns], token_table=      Topic      Freq       Term\n",
       "term                            \n",
       "0         1  1.208472      bacon\n",
       "2         2  0.920585  beautiful\n",
       "3         2  0.837773       blue\n",
       "5         1  0.891368      brown\n",
       "6         1  0.891368        dog\n",
       "7         1  1.208472       eggs\n",
       "8         1  0.891368        fox\n",
       "10        1  1.208472        ham\n",
       "13        1  0.891368       lazy\n",
       "15        1  0.891368      quick\n",
       "16        1  1.208472   sausages\n",
       "17        2  0.800515        sky, R=20, lambda_step=0.01, plot_opts={'xlab': 'PC1', 'ylab': 'PC2'}, topic_order=[3, 1, 2])"
      ]
     },
     "execution_count": 86,
     "metadata": {},
     "output_type": "execute_result"
    }
   ],
   "source": [
    "import pyLDAvis\n",
    "import pyLDAvis.sklearn\n",
    "import dill\n",
    "pyLDAvis.enable_notebook()\n",
    "pyLDAvis.sklearn.prepare(lds, tv_matrix, tv, mds=\"mmds\")"
   ]
  },
  {
   "cell_type": "code",
   "execution_count": null,
   "metadata": {},
   "outputs": [],
   "source": []
  },
  {
   "cell_type": "markdown",
   "metadata": {},
   "source": [
    "## Word Co-occurrence Matrix"
   ]
  },
  {
   "cell_type": "code",
   "execution_count": 99,
   "metadata": {},
   "outputs": [
    {
     "name": "stderr",
     "output_type": "stream",
     "text": [
      "/Users/Alvin/.local/lib/python3.7/site-packages/ipykernel/ipkernel.py:287: DeprecationWarning: `should_run_async` will not call `transform_cell` automatically in the future. Please pass the result to `transformed_cell` argument and any exception that happen during thetransform in `preprocessing_exc_tuple` in IPython 7.17 and above.\n",
      "  and should_run_async(code)\n"
     ]
    }
   ],
   "source": [
    "cv = CountVectorizer(min_df=0., max_df=1.)\n",
    "cv_matrix = cv.fit_transform(norm_corpus)"
   ]
  },
  {
   "cell_type": "code",
   "execution_count": null,
   "metadata": {},
   "outputs": [],
   "source": [
    "# Create a co-occurrence matrix of unique words and initialize them to zero\n",
    "uniq_wrds = cv.get_feature_names()\n",
    "n = len(uniq_wrds)\n",
    "co_mat = np.zeros((n,n))\n",
    "co_mat"
   ]
  },
  {
   "cell_type": "code",
   "execution_count": 100,
   "metadata": {},
   "outputs": [
    {
     "name": "stderr",
     "output_type": "stream",
     "text": [
      "/Users/Alvin/.local/lib/python3.7/site-packages/ipykernel/ipkernel.py:287: DeprecationWarning: `should_run_async` will not call `transform_cell` automatically in the future. Please pass the result to `transformed_cell` argument and any exception that happen during thetransform in `preprocessing_exc_tuple` in IPython 7.17 and above.\n",
      "  and should_run_async(code)\n"
     ]
    }
   ],
   "source": [
    "window_len = 2\n",
    "def update_co_mat(x):   \n",
    "    # Get all the words in the sentence and store it in an array wrd_lst\n",
    "    wrd_list = x.split(' ')\n",
    "    \n",
    "    # Consider each word as a focus word\n",
    "    for focus_wrd_indx, focus_wrd in enumerate(wrd_list):\n",
    "        focus_wrd = focus_wrd.lower()\n",
    "        # Get the indices of all the context words for the given focus word\n",
    "        for contxt_wrd_indx in range((max(0,focus_wrd_indx - window_len)),(min(len(wrd_list),focus_wrd_indx + window_len +1))):                        \n",
    "            # If context words are in the unique words list\n",
    "            if wrd_list[contxt_wrd_indx] in uniq_wrds:\n",
    "                \n",
    "                # To identify the row number, get the index of the focus_wrd in the uniq_wrds list\n",
    "                co_mat_row_indx = uniq_wrds.index(focus_wrd)\n",
    "                \n",
    "                # To identify the column number, get the index of the context words in the uniq_wrds list\n",
    "                co_mat_col_indx = uniq_wrds.index(wrd_list[contxt_wrd_indx])\n",
    "                                \n",
    "                # Update the respective columns of the corresponding focus word row\n",
    "                co_mat[co_mat_row_indx][co_mat_col_indx] += 1"
   ]
  },
  {
   "cell_type": "code",
   "execution_count": 103,
   "metadata": {},
   "outputs": [
    {
     "name": "stdout",
     "output_type": "stream",
     "text": [
      "\n",
      "Co-occurrence Matrix: \n",
      "[[2. 0. 0. 0. 0. 0. 0. 1. 0. 0. 2. 0. 0. 0. 0. 0. 2. 0. 1. 0.]\n",
      " [0. 1. 0. 0. 0. 0. 0. 1. 0. 0. 0. 0. 0. 0. 0. 0. 0. 0. 1. 0.]\n",
      " [0. 0. 3. 3. 0. 0. 0. 0. 0. 0. 0. 0. 0. 0. 1. 0. 0. 3. 0. 1.]\n",
      " [0. 0. 3. 4. 0. 0. 1. 0. 1. 0. 0. 0. 0. 1. 1. 1. 0. 4. 0. 0.]\n",
      " [0. 0. 0. 0. 1. 0. 0. 0. 0. 0. 1. 0. 1. 0. 0. 0. 1. 0. 0. 0.]\n",
      " [0. 0. 0. 0. 0. 3. 1. 0. 3. 0. 0. 1. 0. 1. 0. 3. 0. 0. 0. 0.]\n",
      " [0. 0. 0. 1. 0. 1. 3. 0. 0. 0. 0. 1. 0. 3. 0. 1. 0. 0. 0. 0.]\n",
      " [1. 1. 0. 0. 0. 0. 0. 2. 0. 1. 2. 0. 0. 0. 1. 0. 1. 0. 1. 0.]\n",
      " [0. 0. 0. 1. 0. 3. 0. 0. 3. 0. 0. 1. 0. 2. 0. 3. 0. 0. 0. 0.]\n",
      " [0. 0. 0. 0. 0. 0. 0. 1. 0. 1. 1. 0. 0. 0. 1. 0. 0. 0. 0. 0.]\n",
      " [2. 0. 0. 0. 1. 0. 0. 2. 0. 1. 2. 0. 0. 0. 0. 0. 2. 0. 0. 0.]\n",
      " [0. 0. 0. 0. 0. 1. 1. 0. 1. 0. 0. 1. 0. 1. 0. 0. 0. 0. 0. 0.]\n",
      " [0. 0. 0. 0. 1. 0. 0. 0. 0. 0. 0. 0. 1. 0. 0. 0. 1. 0. 0. 0.]\n",
      " [0. 0. 0. 1. 0. 1. 3. 0. 2. 0. 0. 1. 0. 3. 0. 0. 0. 0. 0. 0.]\n",
      " [0. 0. 1. 1. 0. 0. 0. 1. 0. 1. 0. 0. 0. 0. 2. 0. 0. 0. 0. 0.]\n",
      " [0. 0. 0. 1. 0. 3. 1. 0. 3. 0. 0. 0. 0. 0. 0. 3. 0. 0. 0. 0.]\n",
      " [2. 0. 0. 0. 1. 0. 0. 1. 0. 0. 2. 0. 1. 0. 0. 0. 2. 0. 0. 0.]\n",
      " [0. 0. 3. 4. 0. 0. 0. 0. 0. 0. 0. 0. 0. 0. 0. 0. 0. 6. 0. 1.]\n",
      " [1. 1. 0. 0. 0. 0. 0. 1. 0. 0. 0. 0. 0. 0. 0. 0. 0. 0. 1. 0.]\n",
      " [0. 0. 1. 0. 0. 0. 0. 0. 0. 0. 0. 0. 0. 0. 0. 0. 0. 1. 0. 1.]]\n"
     ]
    },
    {
     "name": "stderr",
     "output_type": "stream",
     "text": [
      "/Users/Alvin/.local/lib/python3.7/site-packages/ipykernel/ipkernel.py:287: DeprecationWarning: `should_run_async` will not call `transform_cell` automatically in the future. Please pass the result to `transformed_cell` argument and any exception that happen during thetransform in `preprocessing_exc_tuple` in IPython 7.17 and above.\n",
      "  and should_run_async(code)\n"
     ]
    }
   ],
   "source": [
    "for sent in norm_corpus:\n",
    "    update_co_mat(sent)\n",
    "print()\n",
    "print(\"Co-occurrence Matrix: \")\n",
    "print(co_mat)"
   ]
  },
  {
   "cell_type": "code",
   "execution_count": 20,
   "metadata": {},
   "outputs": [
    {
     "ename": "NameError",
     "evalue": "name 'plt' is not defined",
     "output_type": "error",
     "traceback": [
      "\u001b[0;31m---------------------------------------------------------------------------\u001b[0m",
      "\u001b[0;31mNameError\u001b[0m                                 Traceback (most recent call last)",
      "\u001b[0;32m<ipython-input-20-07fac951ef6a>\u001b[0m in \u001b[0;36m<module>\u001b[0;34m\u001b[0m\n\u001b[1;32m      1\u001b[0m \u001b[0;32mimport\u001b[0m \u001b[0mseaborn\u001b[0m \u001b[0;32mas\u001b[0m \u001b[0msns\u001b[0m\u001b[0;34m\u001b[0m\u001b[0m\n\u001b[0;32m----> 2\u001b[0;31m \u001b[0mplt\u001b[0m\u001b[0;34m.\u001b[0m\u001b[0mfigure\u001b[0m\u001b[0;34m(\u001b[0m\u001b[0mfigsize\u001b[0m\u001b[0;34m=\u001b[0m\u001b[0;34m(\u001b[0m\u001b[0;36m15\u001b[0m\u001b[0;34m,\u001b[0m\u001b[0;36m10\u001b[0m\u001b[0;34m)\u001b[0m\u001b[0;34m)\u001b[0m\u001b[0;34m\u001b[0m\u001b[0m\n\u001b[0m\u001b[1;32m      3\u001b[0m \u001b[0mdf_cm1\u001b[0m \u001b[0;34m=\u001b[0m \u001b[0mpd\u001b[0m\u001b[0;34m.\u001b[0m\u001b[0mDataFrame\u001b[0m\u001b[0;34m(\u001b[0m\u001b[0mco_mat\u001b[0m\u001b[0;34m,\u001b[0m \u001b[0mindex\u001b[0m\u001b[0;34m=\u001b[0m\u001b[0muniq_wrds\u001b[0m\u001b[0;34m,\u001b[0m \u001b[0mcolumns\u001b[0m\u001b[0;34m=\u001b[0m\u001b[0muniq_wrds\u001b[0m\u001b[0;34m)\u001b[0m\u001b[0;34m\u001b[0m\u001b[0m\n\u001b[1;32m      4\u001b[0m cf_hm1 = sns.heatmap(df_cm1, annot=True, xticklabels=uniq_wrds, yticklabels=uniq_wrds, linewidths=.5, \n\u001b[1;32m      5\u001b[0m                      linecolor='black', cmap=\"Blues\", fontsize=4)\n",
      "\u001b[0;31mNameError\u001b[0m: name 'plt' is not defined"
     ]
    }
   ],
   "source": [
    "import seaborn as sns\n",
    "plt.figure(figsize=(15,10))\n",
    "df_cm1 = pd.DataFrame(co_mat, index=uniq_wrds, columns=uniq_wrds)\n",
    "cf_hm1 = sns.heatmap(df_cm1, annot=True, xticklabels=uniq_wrds, yticklabels=uniq_wrds, linewidths=.5, \n",
    "                     linecolor='black', cmap=\"Blues\", fontsize=4)\n",
    "plt.yticks(rotation=0)\n",
    "plt.title('Co-occurrence Matrix')"
   ]
  },
  {
   "cell_type": "code",
   "execution_count": 111,
   "metadata": {},
   "outputs": [
    {
     "name": "stderr",
     "output_type": "stream",
     "text": [
      "/Users/Alvin/.local/lib/python3.7/site-packages/ipykernel/ipkernel.py:287: DeprecationWarning: `should_run_async` will not call `transform_cell` automatically in the future. Please pass the result to `transformed_cell` argument and any exception that happen during thetransform in `preprocessing_exc_tuple` in IPython 7.17 and above.\n",
      "  and should_run_async(code)\n"
     ]
    }
   ],
   "source": [
    "from sklearn.decomposition import LatentDirichletAllocation\n",
    "\n",
    "lda = LatentDirichletAllocation(n_components=3, max_iter=10000, random_state=0)\n",
    "\n",
    "\n",
    "word_topic_matrix=lda.fit_transform(co_mat)"
   ]
  },
  {
   "cell_type": "code",
   "execution_count": 114,
   "metadata": {
    "scrolled": true
   },
   "outputs": [
    {
     "name": "stderr",
     "output_type": "stream",
     "text": [
      "/Users/Alvin/.local/lib/python3.7/site-packages/ipykernel/ipkernel.py:287: DeprecationWarning: `should_run_async` will not call `transform_cell` automatically in the future. Please pass the result to `transformed_cell` argument and any exception that happen during thetransform in `preprocessing_exc_tuple` in IPython 7.17 and above.\n",
      "  and should_run_async(code)\n"
     ]
    },
    {
     "data": {
      "text/html": [
       "<div>\n",
       "<style scoped>\n",
       "    .dataframe tbody tr th:only-of-type {\n",
       "        vertical-align: middle;\n",
       "    }\n",
       "\n",
       "    .dataframe tbody tr th {\n",
       "        vertical-align: top;\n",
       "    }\n",
       "\n",
       "    .dataframe thead th {\n",
       "        text-align: right;\n",
       "    }\n",
       "</style>\n",
       "<table border=\"1\" class=\"dataframe\">\n",
       "  <thead>\n",
       "    <tr style=\"text-align: right;\">\n",
       "      <th></th>\n",
       "      <th>0</th>\n",
       "      <th>1</th>\n",
       "      <th>2</th>\n",
       "    </tr>\n",
       "  </thead>\n",
       "  <tbody>\n",
       "    <tr>\n",
       "      <th>sky</th>\n",
       "      <td>0.595865</td>\n",
       "      <td>0.367056</td>\n",
       "      <td>0.037079</td>\n",
       "    </tr>\n",
       "    <tr>\n",
       "      <th>blue</th>\n",
       "      <td>0.084586</td>\n",
       "      <td>0.832039</td>\n",
       "      <td>0.083374</td>\n",
       "    </tr>\n",
       "    <tr>\n",
       "      <th>beautiful</th>\n",
       "      <td>0.943782</td>\n",
       "      <td>0.027867</td>\n",
       "      <td>0.028351</td>\n",
       "    </tr>\n",
       "    <tr>\n",
       "      <th>ham</th>\n",
       "      <td>0.686289</td>\n",
       "      <td>0.019690</td>\n",
       "      <td>0.294022</td>\n",
       "    </tr>\n",
       "    <tr>\n",
       "      <th>quick</th>\n",
       "      <td>0.866018</td>\n",
       "      <td>0.067210</td>\n",
       "      <td>0.066771</td>\n",
       "    </tr>\n",
       "    <tr>\n",
       "      <th>brown</th>\n",
       "      <td>0.025653</td>\n",
       "      <td>0.025692</td>\n",
       "      <td>0.948655</td>\n",
       "    </tr>\n",
       "    <tr>\n",
       "      <th>today</th>\n",
       "      <td>0.031192</td>\n",
       "      <td>0.030377</td>\n",
       "      <td>0.938431</td>\n",
       "    </tr>\n",
       "    <tr>\n",
       "      <th>love</th>\n",
       "      <td>0.548977</td>\n",
       "      <td>0.420677</td>\n",
       "      <td>0.030346</td>\n",
       "    </tr>\n",
       "    <tr>\n",
       "      <th>bacon</th>\n",
       "      <td>0.024332</td>\n",
       "      <td>0.023861</td>\n",
       "      <td>0.951807</td>\n",
       "    </tr>\n",
       "    <tr>\n",
       "      <th>lazy</th>\n",
       "      <td>0.852744</td>\n",
       "      <td>0.080497</td>\n",
       "      <td>0.066759</td>\n",
       "    </tr>\n",
       "    <tr>\n",
       "      <th>beans</th>\n",
       "      <td>0.922705</td>\n",
       "      <td>0.046953</td>\n",
       "      <td>0.030342</td>\n",
       "    </tr>\n",
       "    <tr>\n",
       "      <th>dog</th>\n",
       "      <td>0.055586</td>\n",
       "      <td>0.055688</td>\n",
       "      <td>0.888726</td>\n",
       "    </tr>\n",
       "    <tr>\n",
       "      <th>eggs</th>\n",
       "      <td>0.832526</td>\n",
       "      <td>0.083986</td>\n",
       "      <td>0.083488</td>\n",
       "    </tr>\n",
       "    <tr>\n",
       "      <th>kings</th>\n",
       "      <td>0.028510</td>\n",
       "      <td>0.027843</td>\n",
       "      <td>0.943647</td>\n",
       "    </tr>\n",
       "    <tr>\n",
       "      <th>breakfast</th>\n",
       "      <td>0.898988</td>\n",
       "      <td>0.052768</td>\n",
       "      <td>0.048244</td>\n",
       "    </tr>\n",
       "    <tr>\n",
       "      <th>toast</th>\n",
       "      <td>0.028507</td>\n",
       "      <td>0.027834</td>\n",
       "      <td>0.943658</td>\n",
       "    </tr>\n",
       "    <tr>\n",
       "      <th>fox</th>\n",
       "      <td>0.924545</td>\n",
       "      <td>0.042077</td>\n",
       "      <td>0.033378</td>\n",
       "    </tr>\n",
       "    <tr>\n",
       "      <th>green</th>\n",
       "      <td>0.955018</td>\n",
       "      <td>0.022281</td>\n",
       "      <td>0.022701</td>\n",
       "    </tr>\n",
       "    <tr>\n",
       "      <th>sausages</th>\n",
       "      <td>0.068405</td>\n",
       "      <td>0.864894</td>\n",
       "      <td>0.066701</td>\n",
       "    </tr>\n",
       "    <tr>\n",
       "      <th>jumps</th>\n",
       "      <td>0.832829</td>\n",
       "      <td>0.083726</td>\n",
       "      <td>0.083445</td>\n",
       "    </tr>\n",
       "  </tbody>\n",
       "</table>\n",
       "</div>"
      ],
      "text/plain": [
       "                  0         1         2\n",
       "sky        0.595865  0.367056  0.037079\n",
       "blue       0.084586  0.832039  0.083374\n",
       "beautiful  0.943782  0.027867  0.028351\n",
       "ham        0.686289  0.019690  0.294022\n",
       "quick      0.866018  0.067210  0.066771\n",
       "brown      0.025653  0.025692  0.948655\n",
       "today      0.031192  0.030377  0.938431\n",
       "love       0.548977  0.420677  0.030346\n",
       "bacon      0.024332  0.023861  0.951807\n",
       "lazy       0.852744  0.080497  0.066759\n",
       "beans      0.922705  0.046953  0.030342\n",
       "dog        0.055586  0.055688  0.888726\n",
       "eggs       0.832526  0.083986  0.083488\n",
       "kings      0.028510  0.027843  0.943647\n",
       "breakfast  0.898988  0.052768  0.048244\n",
       "toast      0.028507  0.027834  0.943658\n",
       "fox        0.924545  0.042077  0.033378\n",
       "green      0.955018  0.022281  0.022701\n",
       "sausages   0.068405  0.864894  0.066701\n",
       "jumps      0.832829  0.083726  0.083445"
      ]
     },
     "execution_count": 114,
     "metadata": {},
     "output_type": "execute_result"
    }
   ],
   "source": [
    "topic_doc_matrix = lda.components_\n",
    "pd.DataFrame(word_topic_matrix, index=feature_names)"
   ]
  },
  {
   "cell_type": "code",
   "execution_count": 115,
   "metadata": {
    "scrolled": true
   },
   "outputs": [
    {
     "name": "stderr",
     "output_type": "stream",
     "text": [
      "/Users/Alvin/.local/lib/python3.7/site-packages/ipykernel/ipkernel.py:287: DeprecationWarning: `should_run_async` will not call `transform_cell` automatically in the future. Please pass the result to `transformed_cell` argument and any exception that happen during thetransform in `preprocessing_exc_tuple` in IPython 7.17 and above.\n",
      "  and should_run_async(code)\n"
     ]
    },
    {
     "data": {
      "text/plain": [
       "<matplotlib.lines.Line2D at 0x7fab887f4c18>"
      ]
     },
     "execution_count": 115,
     "metadata": {},
     "output_type": "execute_result"
    },
    {
     "data": {
      "image/png": "[encoded data removed]",
      "text/plain": [
       "<Figure size 1050x600 with 1 Axes>"
      ]
     },
     "metadata": {
      "needs_background": "light"
     },
     "output_type": "display_data"
    }
   ],
   "source": [
    "Z3 = linkage(cosine_similarity(word_topic_matrix), 'ward')\n",
    "plt.figure(figsize=(7, 4))\n",
    "plt.title('Hierarchical Clustering Dendrogram')\n",
    "plt.xlabel('Data point')\n",
    "plt.ylabel('Distance')\n",
    "dendrogram(Z3, labels=feature_names, leaf_rotation=90)\n",
    "plt.axhline(y=1.0, c='k', ls='--', lw=0.5)"
   ]
  },
  {
   "cell_type": "markdown",
   "metadata": {},
   "source": [
    "## Testing Vectorizer"
   ]
  },
  {
   "cell_type": "code",
   "execution_count": 6,
   "metadata": {},
   "outputs": [],
   "source": [
    "import pickle\n",
    "with open('chinese_songs_words.pickle', 'rb') as f:\n",
    "    documents_word_pos = pickle.load(f)"
   ]
  },
  {
   "cell_type": "code",
   "execution_count": 7,
   "metadata": {},
   "outputs": [],
   "source": [
    "import unicodedata\n",
    "import re\n",
    "documents_words = [[unicodedata.normalize('NFKC',w) for (w,p) in d \n",
    "                    if re.match(r'^[nv]', p[0].lower()) and \n",
    "                    not re.match(r'[0-9a-zA-Z]', unicodedata.normalize('NFKC',w)) and\n",
    "                    unicodedata.category(unicodedata.normalize('NFKC',w)[0])[0] not in ['P','S']\n",
    "                                         ] for d in documents_word_pos]\n",
    "\n",
    "[(w,p) for (w,p) in documents_word_pos[0] if w in ['(','...'] and re.match(r'^[nv]', p[0].lower())]\n",
    "\n",
    "unicodedata.category('(') \n",
    "documents_norm = [' '.join(d) for d in documents_words]\n"
   ]
  },
  {
   "cell_type": "code",
   "execution_count": 13,
   "metadata": {},
   "outputs": [
    {
     "data": {
      "text/plain": [
       "'鳥群 離開 森林 整 座 天空 灰心 蝴蝶 吸引 玫瑰 盛開 安靜 遠方 風雨 不停 城市 蒼白 孤寂 徘徊 無助 人群 焦慮 何時 放晴 故事 裡 毀壞 有 風景 誰 摧毀不了 我們 夢境 弦月 旁 流星 劃過 天際 我 許下 願望 誰 說明 隕石 浩瀚 宇宙 間 旅行 璀璨 夜空 裡 漫天 水晶 我 禱告 有 回音 我 相信 背後 支撐 你 我 行 仰望 太陽 升起 聽見 鳥群 回來 聲音 我 守候 人 你 給 我 堅定 信心 雙手 彈奏出 黎明 愛 如此 動聽 鳥群 離開 森林 整 座 天空 灰心 蝴蝶 吸引 玫瑰 盛開 安靜 遠方 風雨 不停 城市 蒼白 孤寂 徘徊 無助 人群 焦慮 何時 放晴 故事 裡 毀壞 有 風景 誰 摧毀不了 我們 夢境 弦月 旁 流星 劃過 天際 我 許下 願望 誰 說明 隕石 浩瀚 宇宙 間 旅行 璀璨 夜空 裡 漫天 水晶 我 禱告 有 回音 我 相'"
      ]
     },
     "execution_count": 13,
     "metadata": {},
     "output_type": "execute_result"
    }
   ],
   "source": [
    "documents_norm[0][:400]"
   ]
  },
  {
   "cell_type": "code",
   "execution_count": 55,
   "metadata": {},
   "outputs": [
    {
     "name": "stdout",
     "output_type": "stream",
     "text": [
      "(3, 1)\n"
     ]
    },
    {
     "data": {
      "text/html": [
       "<div>\n",
       "<style scoped>\n",
       "    .dataframe tbody tr th:only-of-type {\n",
       "        vertical-align: middle;\n",
       "    }\n",
       "\n",
       "    .dataframe tbody tr th {\n",
       "        vertical-align: top;\n",
       "    }\n",
       "\n",
       "    .dataframe thead th {\n",
       "        text-align: right;\n",
       "    }\n",
       "</style>\n",
       "<table border=\"1\" class=\"dataframe\">\n",
       "  <thead>\n",
       "    <tr style=\"text-align: right;\">\n",
       "      <th></th>\n",
       "      <th>灰心</th>\n",
       "    </tr>\n",
       "  </thead>\n",
       "  <tbody>\n",
       "    <tr>\n",
       "      <th>0</th>\n",
       "      <td>1</td>\n",
       "    </tr>\n",
       "    <tr>\n",
       "      <th>1</th>\n",
       "      <td>0</td>\n",
       "    </tr>\n",
       "    <tr>\n",
       "      <th>2</th>\n",
       "      <td>0</td>\n",
       "    </tr>\n",
       "  </tbody>\n",
       "</table>\n",
       "</div>"
      ],
      "text/plain": [
       "   灰心\n",
       "0   1\n",
       "1   0\n",
       "2   0"
      ]
     },
     "execution_count": 55,
     "metadata": {},
     "output_type": "execute_result"
    }
   ],
   "source": [
    "from sklearn.feature_extraction.text import CountVectorizer\n",
    "\n",
    "texts=['鳥群 離開 森林 整 座 天空 灰心',\n",
    "      '吸引 玫瑰 盛開 安靜 遠方 風雨',\n",
    "      '隕石 浩瀚 宇宙 間 旅行']\n",
    "\n",
    "cv = CountVectorizer(ngram_range=(1,2), token_pattern = '[^\\s]*心[^\\s]*')\n",
    "m = cv.fit_transform(texts)\n",
    "\n",
    "print(m.shape)\n",
    "\n",
    "import pandas as pd\n",
    "\n",
    "m_df = pd.DataFrame(m.toarray(), columns= cv.get_feature_names())\n",
    "m_df"
   ]
  },
  {
   "cell_type": "code",
   "execution_count": 40,
   "metadata": {},
   "outputs": [
    {
     "name": "stdout",
     "output_type": "stream",
     "text": [
      "{'遠方', '整', '玫瑰', '隕石', '座', '森林', '鳥群', '浩瀚', '天空', '宇宙', '間', '風雨', '離開', '盛開', '旅行', '安靜', '灰心', '吸引'}\n",
      "18\n"
     ]
    }
   ],
   "source": [
    "vocab = set([w for t in texts for w in t.split(' ')])\n",
    "print(vocab)\n",
    "print(len(vocab))"
   ]
  },
  {
   "cell_type": "code",
   "execution_count": null,
   "metadata": {},
   "outputs": [],
   "source": []
  },
  {
   "cell_type": "code",
   "execution_count": 72,
   "metadata": {},
   "outputs": [
    {
     "name": "stdout",
     "output_type": "stream",
     "text": [
      "鳥群 離開 森林 整 座 天空 灰心\n",
      "['鳥群_離開', '離開_森林', '座_天空', '天空_灰心']\n"
     ]
    }
   ],
   "source": [
    "def myTokenizer(text, stopwords=['個','整']):\n",
    "#     words = [w in text.split(' ')]\n",
    "    bigrams = ['_'.join(b) for b in zip(text.split(\" \")[:-1], text.split(\" \")[1:]) if b[0] not in stopwords and b[1] not in stopwords]\n",
    "    return bigrams\n",
    "print(texts[0])\n",
    "print(myTokenizer(texts[0]))"
   ]
  },
  {
   "cell_type": "code",
   "execution_count": 73,
   "metadata": {},
   "outputs": [
    {
     "data": {
      "text/html": [
       "<div>\n",
       "<style scoped>\n",
       "    .dataframe tbody tr th:only-of-type {\n",
       "        vertical-align: middle;\n",
       "    }\n",
       "\n",
       "    .dataframe tbody tr th {\n",
       "        vertical-align: top;\n",
       "    }\n",
       "\n",
       "    .dataframe thead th {\n",
       "        text-align: right;\n",
       "    }\n",
       "</style>\n",
       "<table border=\"1\" class=\"dataframe\">\n",
       "  <thead>\n",
       "    <tr style=\"text-align: right;\">\n",
       "      <th></th>\n",
       "      <th>吸引_玫瑰</th>\n",
       "      <th>天空_灰心</th>\n",
       "      <th>宇宙_間</th>\n",
       "      <th>安靜_遠方</th>\n",
       "      <th>座_天空</th>\n",
       "      <th>浩瀚_宇宙</th>\n",
       "      <th>玫瑰_盛開</th>\n",
       "      <th>盛開_安靜</th>\n",
       "      <th>遠方_風雨</th>\n",
       "      <th>間_旅行</th>\n",
       "      <th>隕石_浩瀚</th>\n",
       "      <th>離開_森林</th>\n",
       "      <th>鳥群_離開</th>\n",
       "    </tr>\n",
       "  </thead>\n",
       "  <tbody>\n",
       "    <tr>\n",
       "      <th>0</th>\n",
       "      <td>0</td>\n",
       "      <td>1</td>\n",
       "      <td>0</td>\n",
       "      <td>0</td>\n",
       "      <td>1</td>\n",
       "      <td>0</td>\n",
       "      <td>0</td>\n",
       "      <td>0</td>\n",
       "      <td>0</td>\n",
       "      <td>0</td>\n",
       "      <td>0</td>\n",
       "      <td>1</td>\n",
       "      <td>1</td>\n",
       "    </tr>\n",
       "    <tr>\n",
       "      <th>1</th>\n",
       "      <td>1</td>\n",
       "      <td>0</td>\n",
       "      <td>0</td>\n",
       "      <td>1</td>\n",
       "      <td>0</td>\n",
       "      <td>0</td>\n",
       "      <td>1</td>\n",
       "      <td>1</td>\n",
       "      <td>1</td>\n",
       "      <td>0</td>\n",
       "      <td>0</td>\n",
       "      <td>0</td>\n",
       "      <td>0</td>\n",
       "    </tr>\n",
       "    <tr>\n",
       "      <th>2</th>\n",
       "      <td>0</td>\n",
       "      <td>0</td>\n",
       "      <td>1</td>\n",
       "      <td>0</td>\n",
       "      <td>0</td>\n",
       "      <td>1</td>\n",
       "      <td>0</td>\n",
       "      <td>0</td>\n",
       "      <td>0</td>\n",
       "      <td>1</td>\n",
       "      <td>1</td>\n",
       "      <td>0</td>\n",
       "      <td>0</td>\n",
       "    </tr>\n",
       "  </tbody>\n",
       "</table>\n",
       "</div>"
      ],
      "text/plain": [
       "   吸引_玫瑰  天空_灰心  宇宙_間  安靜_遠方  座_天空  浩瀚_宇宙  玫瑰_盛開  盛開_安靜  遠方_風雨  間_旅行  隕石_浩瀚  \\\n",
       "0      0      1     0      0     1      0      0      0      0     0      0   \n",
       "1      1      0     0      1     0      0      1      1      1     0      0   \n",
       "2      0      0     1      0     0      1      0      0      0     1      1   \n",
       "\n",
       "   離開_森林  鳥群_離開  \n",
       "0      1      1  \n",
       "1      0      0  \n",
       "2      0      0  "
      ]
     },
     "execution_count": 73,
     "metadata": {},
     "output_type": "execute_result"
    }
   ],
   "source": [
    "cv1 = CountVectorizer(tokenizer=myTokenizer)\n",
    "m1= cv1.fit_transform(texts)\n",
    "pd.DataFrame(m1.toarray(), columns= cv1.get_feature_names())"
   ]
  },
  {
   "cell_type": "code",
   "execution_count": 18,
   "metadata": {},
   "outputs": [
    {
     "data": {
      "text/plain": [
       "['A', 'n']"
      ]
     },
     "execution_count": 18,
     "metadata": {},
     "output_type": "execute_result"
    }
   ],
   "source": [
    "from sklearn.feature_extraction.text import CountVectorizer\n",
    "\n",
    "\n",
    "names= ['Alvin', 'Alvis', 'Vincent', 'Vivian']\n",
    "\n",
    "# def myVectorizer(name):\n",
    "#     ngrams = [c1+'_'+c2 for (c1,c2) in zip(name[:-1],name[1:])]\n",
    "#     return ngrams\n",
    "\n",
    "def myVectorizer(name):\n",
    "    return [name[0], name[len(name)-1]]\n",
    "\n",
    "myVectorizer(names[0])\n",
    "    "
   ]
  },
  {
   "cell_type": "code",
   "execution_count": 19,
   "metadata": {},
   "outputs": [
    {
     "data": {
      "text/html": [
       "<div>\n",
       "<style scoped>\n",
       "    .dataframe tbody tr th:only-of-type {\n",
       "        vertical-align: middle;\n",
       "    }\n",
       "\n",
       "    .dataframe tbody tr th {\n",
       "        vertical-align: top;\n",
       "    }\n",
       "\n",
       "    .dataframe thead th {\n",
       "        text-align: right;\n",
       "    }\n",
       "</style>\n",
       "<table border=\"1\" class=\"dataframe\">\n",
       "  <thead>\n",
       "    <tr style=\"text-align: right;\">\n",
       "      <th></th>\n",
       "      <th>a</th>\n",
       "      <th>n</th>\n",
       "      <th>s</th>\n",
       "      <th>t</th>\n",
       "      <th>v</th>\n",
       "    </tr>\n",
       "  </thead>\n",
       "  <tbody>\n",
       "    <tr>\n",
       "      <th>Alvin</th>\n",
       "      <td>1</td>\n",
       "      <td>1</td>\n",
       "      <td>0</td>\n",
       "      <td>0</td>\n",
       "      <td>0</td>\n",
       "    </tr>\n",
       "    <tr>\n",
       "      <th>Alvis</th>\n",
       "      <td>1</td>\n",
       "      <td>0</td>\n",
       "      <td>1</td>\n",
       "      <td>0</td>\n",
       "      <td>0</td>\n",
       "    </tr>\n",
       "    <tr>\n",
       "      <th>Vincent</th>\n",
       "      <td>0</td>\n",
       "      <td>0</td>\n",
       "      <td>0</td>\n",
       "      <td>1</td>\n",
       "      <td>1</td>\n",
       "    </tr>\n",
       "    <tr>\n",
       "      <th>Vivian</th>\n",
       "      <td>0</td>\n",
       "      <td>1</td>\n",
       "      <td>0</td>\n",
       "      <td>0</td>\n",
       "      <td>1</td>\n",
       "    </tr>\n",
       "  </tbody>\n",
       "</table>\n",
       "</div>"
      ],
      "text/plain": [
       "         a  n  s  t  v\n",
       "Alvin    1  1  0  0  0\n",
       "Alvis    1  0  1  0  0\n",
       "Vincent  0  0  0  1  1\n",
       "Vivian   0  1  0  0  1"
      ]
     },
     "execution_count": 19,
     "metadata": {},
     "output_type": "execute_result"
    }
   ],
   "source": [
    "cv = CountVectorizer(tokenizer=myVectorizer, lowercase=True)\n",
    "names_cv = cv.fit_transform(names)\n",
    "\n",
    "import pandas as pd\n",
    "\n",
    "names_cv_df =pd.DataFrame(names_cv.toarray(), columns=cv.get_feature_names(), index=names)\n",
    "names_cv_df"
   ]
  }
 ],
 "metadata": {
  "kernelspec": {
   "display_name": "python-notes",
   "language": "python",
   "name": "python-notes"
  },
  "language_info": {
   "codemirror_mode": {
    "name": "ipython",
    "version": 3
   },
   "file_extension": ".py",
   "mimetype": "text/x-python",
   "name": "python",
   "nbconvert_exporter": "python",
   "pygments_lexer": "ipython3",
   "version": "3.7.0"
  },
  "toc": {
   "base_numbering": 1,
   "nav_menu": {},
   "number_sections": false,
   "sideBar": true,
   "skip_h1_title": false,
   "title_cell": "Table of Contents",
   "title_sidebar": "Contents",
   "toc_cell": false,
   "toc_position": {},
   "toc_section_display": true,
   "toc_window_display": false
  },
  "varInspector": {
   "cols": {
    "lenName": 16,
    "lenType": 16,
    "lenVar": 40
   },
   "kernels_config": {
    "python": {
     "delete_cmd_postfix": "",
     "delete_cmd_prefix": "del ",
     "library": "var_list.py",
     "varRefreshCmd": "print(var_dic_list())"
    },
    "r": {
     "delete_cmd_postfix": ") ",
     "delete_cmd_prefix": "rm(",
     "library": "var_list.r",
     "varRefreshCmd": "cat(var_dic_list()) "
    }
   },
   "types_to_exclude": [
    "module",
    "function",
    "builtin_function_or_method",
    "instance",
    "_Feature"
   ],
   "window_display": false
  }
 },
 "nbformat": 4,
 "nbformat_minor": 4
}
