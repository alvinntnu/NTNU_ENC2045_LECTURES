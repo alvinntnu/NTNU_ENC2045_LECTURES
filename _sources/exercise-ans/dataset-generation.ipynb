{
 "cells": [
  {
   "cell_type": "markdown",
   "metadata": {},
   "source": [
    "# Dataset Generation"
   ]
  },
  {
   "cell_type": "markdown",
   "metadata": {},
   "source": [
    "- In this notebook, I keep all the codes of generating datasets for student assignments as well as exams."
   ]
  },
  {
   "cell_type": "markdown",
   "metadata": {},
   "source": [
    "## Song Lyrics"
   ]
  },
  {
   "cell_type": "code",
   "execution_count": 1,
   "metadata": {},
   "outputs": [],
   "source": [
    "import pandas as pd"
   ]
  },
  {
   "cell_type": "code",
   "execution_count": 2,
   "metadata": {},
   "outputs": [],
   "source": [
    "song_raw = pd.read_csv('../../../RepositoryData/data/data-chinese-songs-mojim-exam.csv')"
   ]
  },
  {
   "cell_type": "code",
   "execution_count": 3,
   "metadata": {},
   "outputs": [
    {
     "data": {
      "text/html": [
       "<div>\n",
       "<style scoped>\n",
       "    .dataframe tbody tr th:only-of-type {\n",
       "        vertical-align: middle;\n",
       "    }\n",
       "\n",
       "    .dataframe tbody tr th {\n",
       "        vertical-align: top;\n",
       "    }\n",
       "\n",
       "    .dataframe thead th {\n",
       "        text-align: right;\n",
       "    }\n",
       "</style>\n",
       "<table border=\"1\" class=\"dataframe\">\n",
       "  <thead>\n",
       "    <tr style=\"text-align: right;\">\n",
       "      <th></th>\n",
       "      <th>artist</th>\n",
       "      <th>title</th>\n",
       "      <th>lyricist</th>\n",
       "      <th>composer</th>\n",
       "      <th>arranger</th>\n",
       "      <th>lyric</th>\n",
       "      <th>gender</th>\n",
       "      <th>lines</th>\n",
       "    </tr>\n",
       "  </thead>\n",
       "  <tbody>\n",
       "    <tr>\n",
       "      <th>0</th>\n",
       "      <td>鄧紫棋</td>\n",
       "      <td>平凡天使</td>\n",
       "      <td>作詞：鄧紫棋</td>\n",
       "      <td>作曲：鄧紫棋</td>\n",
       "      <td>NaN</td>\n",
       "      <td>別怕漫長的黑夜\\n抬頭看看星星 此刻正連成線\\n也許是一場考驗\\n看散落的心靈 此刻是否並肩...</td>\n",
       "      <td>female</td>\n",
       "      <td>19</td>\n",
       "    </tr>\n",
       "    <tr>\n",
       "      <th>1</th>\n",
       "      <td>鄧紫棋</td>\n",
       "      <td>摩天動物園</td>\n",
       "      <td>作詞：G.E.M.鄧紫棋</td>\n",
       "      <td>作曲：G.E.M.鄧紫棋</td>\n",
       "      <td>NaN</td>\n",
       "      <td>傳說在伊甸 原始的愛沒有欺騙\\n簡樸過每一天 人們彼此真心一片\\n心跟著獨特節奏跳\\n臉掛著...</td>\n",
       "      <td>female</td>\n",
       "      <td>77</td>\n",
       "    </tr>\n",
       "    <tr>\n",
       "      <th>2</th>\n",
       "      <td>鄧紫棋</td>\n",
       "      <td>Fly Away</td>\n",
       "      <td>作詞：G.E.M.鄧紫棋</td>\n",
       "      <td>作曲：G.E.M.鄧紫棋</td>\n",
       "      <td>NaN</td>\n",
       "      <td>活在璀璨的世界  說孤獨  通常不被誰理解\\n心如刀割  還得笑著\\n心痛不敢太直接  我不...</td>\n",
       "      <td>female</td>\n",
       "      <td>41</td>\n",
       "    </tr>\n",
       "    <tr>\n",
       "      <th>3</th>\n",
       "      <td>鄧紫棋</td>\n",
       "      <td>透明</td>\n",
       "      <td>作詞：G.E.M.鄧紫棋</td>\n",
       "      <td>作曲：G.E.M.鄧紫棋</td>\n",
       "      <td>NaN</td>\n",
       "      <td>愛著你  也愛著我\\n這是一種折磨  這是一種折磨\\n今夜無數的街燈  沿路陪著我\\n卻把我...</td>\n",
       "      <td>female</td>\n",
       "      <td>46</td>\n",
       "    </tr>\n",
       "    <tr>\n",
       "      <th>4</th>\n",
       "      <td>鄧紫棋</td>\n",
       "      <td>很久以後</td>\n",
       "      <td>作詞：G.E.M.鄧紫棋</td>\n",
       "      <td>作曲：G.E.M.鄧紫棋</td>\n",
       "      <td>NaN</td>\n",
       "      <td>也許是不甘心  也許是可惜\\n也許無法相信  突然身邊再也不是你\\n能給的都已經給你  能做...</td>\n",
       "      <td>female</td>\n",
       "      <td>34</td>\n",
       "    </tr>\n",
       "    <tr>\n",
       "      <th>5</th>\n",
       "      <td>鄧紫棋</td>\n",
       "      <td>Walk On Water</td>\n",
       "      <td>作詞：G.E.M.鄧紫棋</td>\n",
       "      <td>作曲：G.E.M.鄧紫棋</td>\n",
       "      <td>編曲：T-Ma 馬敬恆</td>\n",
       "      <td>誰在追  讓你我跑得狼狽\\n誰的嘴  把你我咬得自卑\\n誰判的罪  讓你我一直羞愧\\n別後退...</td>\n",
       "      <td>female</td>\n",
       "      <td>53</td>\n",
       "    </tr>\n",
       "    <tr>\n",
       "      <th>6</th>\n",
       "      <td>鄧紫棋</td>\n",
       "      <td>螢火</td>\n",
       "      <td>作詞：G.E.M.鄧紫棋</td>\n",
       "      <td>作曲：G.E.M.鄧紫棋、Johann Sebastian Bach</td>\n",
       "      <td>NaN</td>\n",
       "      <td>媽媽  再累你從不說\\n再痛你也撐過  再錯你原諒我\\n媽媽  謝謝你愛著我\\n白天總悄悄陪...</td>\n",
       "      <td>female</td>\n",
       "      <td>47</td>\n",
       "    </tr>\n",
       "    <tr>\n",
       "      <th>7</th>\n",
       "      <td>鄧紫棋</td>\n",
       "      <td>灰狼</td>\n",
       "      <td>作詞：G.E.M.鄧紫棋</td>\n",
       "      <td>作曲：G.E.M.鄧紫棋</td>\n",
       "      <td>NaN</td>\n",
       "      <td>每個孩子生來本善良   卻天生會說謊\\n每個殺手應該都心狠   卻有人不太冷\\n玫瑰雖然漂亮...</td>\n",
       "      <td>female</td>\n",
       "      <td>40</td>\n",
       "    </tr>\n",
       "    <tr>\n",
       "      <th>8</th>\n",
       "      <td>鄧紫棋</td>\n",
       "      <td>句號</td>\n",
       "      <td>作詞：G.E.M.鄧紫棋</td>\n",
       "      <td>作曲：G.E.M.鄧紫棋</td>\n",
       "      <td>NaN</td>\n",
       "      <td>可惜我們終於來到 一個句號\\n窗外不願飛的蜂鳥 也在哀悼\\n城市再也不會聽到 我們爭吵\\n你...</td>\n",
       "      <td>female</td>\n",
       "      <td>46</td>\n",
       "    </tr>\n",
       "    <tr>\n",
       "      <th>9</th>\n",
       "      <td>鄧紫棋</td>\n",
       "      <td>WALK ON WATER</td>\n",
       "      <td>作詞：G.E.M. 鄧紫棋</td>\n",
       "      <td>作曲：G.E.M. 鄧紫棋</td>\n",
       "      <td>編曲：T - Ma 馬敬恆</td>\n",
       "      <td>誰在追 讓你我跑得狼狽\\n誰的嘴 把你我咬得自卑\\n誰判的罪 讓你我一直羞愧\\n別後退 是時...</td>\n",
       "      <td>female</td>\n",
       "      <td>51</td>\n",
       "    </tr>\n",
       "  </tbody>\n",
       "</table>\n",
       "</div>"
      ],
      "text/plain": [
       "  artist          title       lyricist                            composer  \\\n",
       "0    鄧紫棋           平凡天使         作詞：鄧紫棋                              作曲：鄧紫棋   \n",
       "1    鄧紫棋          摩天動物園   作詞：G.E.M.鄧紫棋                        作曲：G.E.M.鄧紫棋   \n",
       "2    鄧紫棋       Fly Away   作詞：G.E.M.鄧紫棋                        作曲：G.E.M.鄧紫棋   \n",
       "3    鄧紫棋             透明   作詞：G.E.M.鄧紫棋                        作曲：G.E.M.鄧紫棋   \n",
       "4    鄧紫棋           很久以後   作詞：G.E.M.鄧紫棋                        作曲：G.E.M.鄧紫棋   \n",
       "5    鄧紫棋  Walk On Water   作詞：G.E.M.鄧紫棋                        作曲：G.E.M.鄧紫棋   \n",
       "6    鄧紫棋             螢火   作詞：G.E.M.鄧紫棋  作曲：G.E.M.鄧紫棋、Johann Sebastian Bach   \n",
       "7    鄧紫棋             灰狼   作詞：G.E.M.鄧紫棋                        作曲：G.E.M.鄧紫棋   \n",
       "8    鄧紫棋             句號   作詞：G.E.M.鄧紫棋                        作曲：G.E.M.鄧紫棋   \n",
       "9    鄧紫棋  WALK ON WATER  作詞：G.E.M. 鄧紫棋                       作曲：G.E.M. 鄧紫棋   \n",
       "\n",
       "        arranger                                              lyric  gender  \\\n",
       "0            NaN  別怕漫長的黑夜\\n抬頭看看星星 此刻正連成線\\n也許是一場考驗\\n看散落的心靈 此刻是否並肩...  female   \n",
       "1            NaN  傳說在伊甸 原始的愛沒有欺騙\\n簡樸過每一天 人們彼此真心一片\\n心跟著獨特節奏跳\\n臉掛著...  female   \n",
       "2            NaN  活在璀璨的世界  說孤獨  通常不被誰理解\\n心如刀割  還得笑著\\n心痛不敢太直接  我不...  female   \n",
       "3            NaN  愛著你  也愛著我\\n這是一種折磨  這是一種折磨\\n今夜無數的街燈  沿路陪著我\\n卻把我...  female   \n",
       "4            NaN  也許是不甘心  也許是可惜\\n也許無法相信  突然身邊再也不是你\\n能給的都已經給你  能做...  female   \n",
       "5    編曲：T-Ma 馬敬恆  誰在追  讓你我跑得狼狽\\n誰的嘴  把你我咬得自卑\\n誰判的罪  讓你我一直羞愧\\n別後退...  female   \n",
       "6            NaN  媽媽  再累你從不說\\n再痛你也撐過  再錯你原諒我\\n媽媽  謝謝你愛著我\\n白天總悄悄陪...  female   \n",
       "7            NaN  每個孩子生來本善良   卻天生會說謊\\n每個殺手應該都心狠   卻有人不太冷\\n玫瑰雖然漂亮...  female   \n",
       "8            NaN  可惜我們終於來到 一個句號\\n窗外不願飛的蜂鳥 也在哀悼\\n城市再也不會聽到 我們爭吵\\n你...  female   \n",
       "9  編曲：T - Ma 馬敬恆  誰在追 讓你我跑得狼狽\\n誰的嘴 把你我咬得自卑\\n誰判的罪 讓你我一直羞愧\\n別後退 是時...  female   \n",
       "\n",
       "   lines  \n",
       "0     19  \n",
       "1     77  \n",
       "2     41  \n",
       "3     46  \n",
       "4     34  \n",
       "5     53  \n",
       "6     47  \n",
       "7     40  \n",
       "8     46  \n",
       "9     51  "
      ]
     },
     "execution_count": 3,
     "metadata": {},
     "output_type": "execute_result"
    }
   ],
   "source": [
    "song_raw.head(10)"
   ]
  },
  {
   "cell_type": "code",
   "execution_count": null,
   "metadata": {},
   "outputs": [],
   "source": [
    "## Assignment 5:\n",
    "# artists = ['周杰倫','林俊傑','張惠妹','鄧紫棋', '蔡依林','田馥甄','周興哲','陳奕迅','高爾宣']\n",
    "# for art in artists:\n",
    "#     cur_df = song_raw[song_raw.artist.str.contains(art)]\n",
    "#     cur_df\n",
    "\n",
    "#     cur_lyric_all = '/n'.join([song for song in cur_df.lyric])\n",
    "#     cur_f = '../../../RepositoryData/data/ChineseSongLyrics/'+art+'.txt'\n",
    "#     with open(cur_f, 'w') as f:\n",
    "#         f.write(cur_lyric_all)"
   ]
  },
  {
   "cell_type": "code",
   "execution_count": 26,
   "metadata": {},
   "outputs": [],
   "source": [
    "## Midterm Exam Amei\n",
    "amei_df = song_raw[song_raw.artist.str.contains('張惠妹')]\n",
    "jay_df = song_raw[song_raw.artist.str.contains('周杰倫')]\n",
    "\n",
    "amei_df[['title','lyric']].to_csv('../../../RepositoryData/data/ChineseSongLyrics2/amei.csv', index=False)\n",
    "jay_df[['title','lyric']].to_csv('../../../RepositoryData/data/ChineseSongLyrics2/jay.csv', index=False)\n",
    "import os"
   ]
  },
  {
   "cell_type": "code",
   "execution_count": 21,
   "metadata": {},
   "outputs": [],
   "source": [
    "song_dir = '../../../RepositoryData/data/ChineseSongLyrics2/amei/'\n",
    "if not os.path.isdir(song_dir):\n",
    "    os.mkdir(song_dir)\n",
    "for i, s in enumerate(amei_df.lyric):\n",
    "    cur_f = song_dir+list(amei_df.title)[i]+'.txt'\n",
    "    with open(cur_f, 'w') as f:\n",
    "        f.write(s)    "
   ]
  },
  {
   "cell_type": "code",
   "execution_count": null,
   "metadata": {},
   "outputs": [],
   "source": [
    "song_dir = '../../../RepositoryData/data/ChineseSongLyrics2/jay/'\n",
    "if not os.path.isdir(song_dir):\n",
    "    os.mkdir(song_dir)\n",
    "for i, s in enumerate(jay_df.lyric):\n",
    "    cur_f = song_dir+list(jay_df.title)[i]+'.txt'\n",
    "    with open(cur_f, 'w') as f:\n",
    "        f.write(s)    "
   ]
  },
  {
   "cell_type": "markdown",
   "metadata": {},
   "source": [
    "## Apple Daily News"
   ]
  },
  {
   "cell_type": "code",
   "execution_count": null,
   "metadata": {},
   "outputs": [],
   "source": []
  },
  {
   "cell_type": "markdown",
   "metadata": {},
   "source": [
    "## Chinese Name Gender "
   ]
  },
  {
   "cell_type": "code",
   "execution_count": 27,
   "metadata": {},
   "outputs": [
    {
     "data": {
      "text/plain": [
       "'漢字'"
      ]
     },
     "execution_count": 27,
     "metadata": {},
     "output_type": "execute_result"
    }
   ],
   "source": [
    "import opencc\n",
    "converter = opencc.OpenCC('s2t.json')\n",
    "converter.convert('汉字') "
   ]
  },
  {
   "cell_type": "code",
   "execution_count": 28,
   "metadata": {},
   "outputs": [],
   "source": [
    "with open('../../../RepositoryData/data/ParseNames-master/Chinese_Names_Corpus/Chinese_Names_Corpus_Gender（120W）.txt', 'r') as f:\n",
    "    name_gender = [l.split(',') for l in f.readlines() if len(l.split(','))==2]"
   ]
  },
  {
   "cell_type": "code",
   "execution_count": 29,
   "metadata": {},
   "outputs": [],
   "source": [
    "len(name_gender)\n",
    "name_gender = [(converter.convert(n),g.replace('\\n','')) for (n, g) in name_gender[1:]]\n"
   ]
  },
  {
   "cell_type": "code",
   "execution_count": 30,
   "metadata": {},
   "outputs": [
    {
     "name": "stdout",
     "output_type": "stream",
     "text": [
      "[('阿安', '男'), ('阿奧', '未知'), ('阿貝貝', '女'), ('阿彬', '未知'), ('阿彬彬', '男'), ('阿斌', '男'), ('阿斌斌', '男'), ('阿濱', '男'), ('阿冰', '女'), ('阿冰冰', '女')]\n",
      "1163760\n"
     ]
    }
   ],
   "source": [
    "print(name_gender[:10])\n",
    "print(len(name_gender))\n"
   ]
  },
  {
   "cell_type": "code",
   "execution_count": 31,
   "metadata": {},
   "outputs": [
    {
     "name": "stdout",
     "output_type": "stream",
     "text": [
      "915645\n"
     ]
    }
   ],
   "source": [
    "name_gender = [(n, g) for (n,g) in name_gender if g in ['男','女'] and len(n)==3]\n",
    "print(len(name_gender))"
   ]
  },
  {
   "cell_type": "code",
   "execution_count": 55,
   "metadata": {},
   "outputs": [],
   "source": [
    "name_gender_male = [(n, g) for (n,g) in name_gender if g in ['男']]\n",
    "name_gender_female = [(n, g) for (n,g) in name_gender if g in ['女']]"
   ]
  },
  {
   "cell_type": "code",
   "execution_count": 56,
   "metadata": {},
   "outputs": [
    {
     "name": "stdout",
     "output_type": "stream",
     "text": [
      "594170\n",
      "321475\n"
     ]
    }
   ],
   "source": [
    "print(len(name_gender_male))\n",
    "print(len(name_gender_female))"
   ]
  },
  {
   "cell_type": "code",
   "execution_count": 57,
   "metadata": {},
   "outputs": [
    {
     "data": {
      "text/plain": [
       "Counter({'女': 321475, '男': 594170})"
      ]
     },
     "execution_count": 57,
     "metadata": {},
     "output_type": "execute_result"
    }
   ],
   "source": [
    "from collections import Counter\n",
    "\n",
    "gender_dist  = Counter([g for (n,g) in name_gender])\n",
    "gender_dist"
   ]
  },
  {
   "cell_type": "code",
   "execution_count": 58,
   "metadata": {},
   "outputs": [],
   "source": [
    "import random\n",
    "random.seed(123)\n",
    "SIZE=300000\n",
    "name_gender_male = random.sample(name_gender_male,SIZE)\n",
    "name_gender_female = random.sample(name_gender_female,SIZE)"
   ]
  },
  {
   "cell_type": "code",
   "execution_count": 59,
   "metadata": {},
   "outputs": [
    {
     "name": "stdout",
     "output_type": "stream",
     "text": [
      "300000\n",
      "300000\n"
     ]
    }
   ],
   "source": [
    "print(len(name_gender_male))\n",
    "print(len(name_gender_female))"
   ]
  },
  {
   "cell_type": "code",
   "execution_count": 38,
   "metadata": {},
   "outputs": [],
   "source": [
    "######################################\n",
    "### Generate Data Sets for ENC2045 ###\n",
    "######################################\n",
    "with open('../../../RepositoryData/data/ParseNames-master/English_Names_Corpus/English_Cn_Name_Corpus_Gender（48W）.txt', 'r') as f:\n",
    "    zh_en_gender = [l.split('|') for l in f.readlines() if len(l.split('|'))==3]\n",
    "zh_en_gender[1]\n",
    "#print(len(en_zh_gender))\n",
    "\n",
    "zh_en_gender = [(converter.convert(zh), en, gender.replace('\\n','')) for (zh, en, gender) in zh_en_gender]\n",
    "zh_en_gender = [(z, e, g) for (z, e, g) in zh_en_gender if g in ['F','M']]\n",
    "with open('../../../RepositoryData/data/_ENC2045_DATA/english_chinese_name_gender.txt', 'w') as f:\n",
    "     f.writelines([zh+'|'+en+'|'+g+'\\n' for (zh,en,g) in zh_en_gender])"
   ]
  },
  {
   "cell_type": "code",
   "execution_count": 72,
   "metadata": {},
   "outputs": [
    {
     "name": "stdout",
     "output_type": "stream",
     "text": [
      "600000\n",
      "Counter({'男': 300000, '女': 300000})\n",
      "Counter({'男': 240078, '女': 239922})\n",
      "Counter({'女': 60078, '男': 59922})\n"
     ]
    }
   ],
   "source": [
    "######################################\n",
    "### Generate Data Sets for ENC2045 ###\n",
    "######################################\n",
    "# with open('../../../RepositoryData/data/_ENC2045_DATA/chinese_name_gender.txt', 'w') as f:\n",
    "#      f.writelines([n+','+g+'\\n' for (n,g) in name_gender2])\n",
    "\n",
    "name_gender2 = name_gender_male + name_gender_female\n",
    "print(len(name_gender2))\n",
    "\n",
    "from collections import Counter\n",
    "random.seed(123)\n",
    "random.shuffle(name_gender2)\n",
    "\n",
    "print(Counter([label for (words,label) in name_gender2]))\n",
    "\n",
    "# from sklearn.model_selection import train_test_split\n",
    "train, test = train_test_split(name_gender2, test_size = 0.2, random_state=123)\n",
    "\n",
    "from collections import Counter\n",
    "## Sentiment Distrubtion for Train and Test\n",
    "print(Counter([label for (words, label) in train]))\n",
    "print(Counter([label for (words, label) in test]))\n",
    "\n",
    "with open('../../../RepositoryData/data/_ENC2045_DATA/chinese_name_gender_train.txt', 'w') as f:\n",
    "     f.writelines([n+','+g+'\\n' for (n,g) in train])\n",
    "with open('../../../RepositoryData/data/_ENC2045_DATA/chinese_name_gender_test.txt', 'w') as f:\n",
    "     f.writelines([n+','+g+'\\n' for (n,g) in test])"
   ]
  },
  {
   "cell_type": "code",
   "execution_count": 71,
   "metadata": {},
   "outputs": [
    {
     "name": "stdout",
     "output_type": "stream",
     "text": [
      "Counter({'男': 300000, '女': 300000})\n",
      "Counter({'女': 240151, '男': 239849})\n",
      "Counter({'男': 60151, '女': 59849})\n"
     ]
    }
   ],
   "source": [
    "\n",
    "\n"
   ]
  },
  {
   "cell_type": "code",
   "execution_count": 21,
   "metadata": {},
   "outputs": [],
   "source": [
    "# ## convert char into pinyin\n",
    "# from pypinyin import lazy_pinyin,Style \n",
    "# style = Style.TONE3\n",
    "\n",
    "# name_pinyin=['_'.join(lazy_pinyin(n, style=style)) for n, g in name_gender]"
   ]
  },
  {
   "cell_type": "code",
   "execution_count": 22,
   "metadata": {},
   "outputs": [],
   "source": [
    "# print(name_pinyin[-5:])\n",
    "# print(name_gender[-5:])"
   ]
  },
  {
   "cell_type": "code",
   "execution_count": null,
   "metadata": {},
   "outputs": [],
   "source": []
  }
 ],
 "metadata": {
  "kernelspec": {
   "display_name": "python-notes",
   "language": "python",
   "name": "python-notes"
  },
  "language_info": {
   "codemirror_mode": {
    "name": "ipython",
    "version": 3
   },
   "file_extension": ".py",
   "mimetype": "text/x-python",
   "name": "python",
   "nbconvert_exporter": "python",
   "pygments_lexer": "ipython3",
   "version": "3.7.0"
  },
  "toc": {
   "base_numbering": 1,
   "nav_menu": {},
   "number_sections": false,
   "sideBar": true,
   "skip_h1_title": true,
   "title_cell": "Table of Contents",
   "title_sidebar": "Contents",
   "toc_cell": false,
   "toc_position": {},
   "toc_section_display": true,
   "toc_window_display": false
  },
  "varInspector": {
   "cols": {
    "lenName": 16,
    "lenType": 16,
    "lenVar": 40
   },
   "kernels_config": {
    "python": {
     "delete_cmd_postfix": "",
     "delete_cmd_prefix": "del ",
     "library": "var_list.py",
     "varRefreshCmd": "print(var_dic_list())"
    },
    "r": {
     "delete_cmd_postfix": ") ",
     "delete_cmd_prefix": "rm(",
     "library": "var_list.r",
     "varRefreshCmd": "cat(var_dic_list()) "
    }
   },
   "types_to_exclude": [
    "module",
    "function",
    "builtin_function_or_method",
    "instance",
    "_Feature"
   ],
   "window_display": false
  }
 },
 "nbformat": 4,
 "nbformat_minor": 4
}
