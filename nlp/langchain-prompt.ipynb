{
 "cells": [
  {
   "cell_type": "markdown",
   "metadata": {},
   "source": [
    "# LangChain Application: Prompt Engineering\n",
    "\n"
   ]
  },
  {
   "cell_type": "markdown",
   "metadata": {},
   "source": [
    "## Prompt and LLM\n",
    "\n",
    "## The importance of \"Prompt\" in LLM\n",
    "\n",
    "- In LangChain, **prompt templates** are a structured, reusable, and dynamic way to interact with various language models ¹. They are text strings or templates that take inputs and produce a prompt for the language model. Prompt templates offer a versatile approach to language model interactions, from setting the context and defining instructions to dynamically adjusting the content based on user needs ¹. \n",
    "\n",
    "- **Prompt engineering** is the process of designing and optimizing prompts to achieve the desired output from a language model ². It involves creating prompts that are tailored to specific tasks and use cases, and fine-tuning them to improve the model's performance ². Prompt engineering can include rule-based prompts, data augmentation, and prompt tuning ². \n",
    "\n",
    "- **Prompt design** is the process of creating prompts that are clear, concise, and effective in conveying the desired information to the language model ³. It involves crafting high-quality prompts that provide clear instructions and contextual cues to the model ³. Good prompt design is essential for obtaining accurate and relevant outputs from language models ³.\n",
    "\n"
   ]
  },
  {
   "cell_type": "markdown",
   "metadata": {},
   "source": [
    "### Benefits of Prompt Templates\n",
    "\n",
    "There are several benefits of using prompt templates in LangChain:\n",
    "\n",
    "1. **Reusability**: Prompt templates are designed to be reusable across different language models, making it easier to create prompts for various tasks and use cases.\n",
    "\n",
    "2. **Flexibility**: Prompt templates offer a versatile approach to language model interactions, from setting the context and defining instructions to dynamically adjusting the content based on user needs.\n",
    "\n",
    "3. **Efficiency**: Prompt templates can save time and effort by providing a structured, reusable, and dynamic way to interact with language models.\n",
    "\n",
    "4. **Consistency**: Prompt templates can help ensure consistency in the prompts used for different tasks and use cases, which can improve the accuracy and relevance of the model's outputs.\n",
    "\n",
    "5. **Customizability**: Prompt templates can be customized to suit specific tasks and use cases, allowing users to fine-tune the prompts to achieve the desired output from the language model.\n"
   ]
  },
  {
   "cell_type": "markdown",
   "metadata": {},
   "source": [
    "## Environment\n",
    "\n",
    "- Create a python environment with the following packages installed:\n",
    "\n",
    "```\n",
    "python-dotenv\n",
    "langchain\n",
    "openai\n",
    "youtube-transcript-api\n",
    "faiss-cpu\n",
    "streamlit\n",
    "```"
   ]
  },
  {
   "cell_type": "markdown",
   "metadata": {},
   "source": [
    "## Import"
   ]
  },
  {
   "cell_type": "code",
   "execution_count": 1,
   "metadata": {},
   "outputs": [],
   "source": [
    "from langchain.chat_models import ChatOpenAI\n",
    "from langchain.document_loaders import YoutubeLoader\n",
    "from langchain.text_splitter import RecursiveCharacterTextSplitter\n",
    "from langchain.embeddings.openai import OpenAIEmbeddings\n",
    "from langchain.vectorstores import FAISS\n",
    "from langchain.llms import OpenAI\n",
    "from langchain.prompts import ChatPromptTemplate\n",
    "from langchain import PromptTemplate\n",
    "from langchain.chains import LLMChain\n",
    "from dotenv import load_dotenv\n",
    "\n",
    "import tiktoken\n",
    "import os\n"
   ]
  },
  {
   "cell_type": "markdown",
   "metadata": {},
   "source": [
    "## Environment Variables and OPENAI API\n",
    "- Save personal API key in `.env` file and use `load_dotenv()` to load environment variables.\n",
    "- Specify `OPENAI_API_KEY` in the self-defined `.env`."
   ]
  },
  {
   "cell_type": "code",
   "execution_count": 2,
   "metadata": {},
   "outputs": [
    {
     "data": {
      "text/plain": [
       "True"
      ]
     },
     "execution_count": 2,
     "metadata": {},
     "output_type": "execute_result"
    }
   ],
   "source": [
    "load_dotenv('/Users/alvinchen/.env')"
   ]
  },
  {
   "cell_type": "markdown",
   "metadata": {},
   "source": [
    "## Prompt Template for Proofreading"
   ]
  },
  {
   "cell_type": "code",
   "execution_count": 3,
   "metadata": {},
   "outputs": [],
   "source": [
    "llm = ChatOpenAI(model='gpt-4', temperature= 0.6)"
   ]
  },
  {
   "cell_type": "code",
   "execution_count": 4,
   "metadata": {},
   "outputs": [
    {
     "name": "stdout",
     "output_type": "stream",
     "text": [
      "[HumanMessage(content='Revise the draft delimited by triple backticks    by following the instructions below.    The revision should remain within 50-word.    The language style should be concise, simple, and easy-to-understand.    The genre should follow the conventions in academic journals.    In the revision, reduce the use of passive voice constructions.    Original Draft: ```This current study aims to investigate the prosodic properties of the speech genres (i.e., entertaining and informative) within Taiwan Mandarin YouTube content and the effectiveness of different feature modes on automatic speech genre classification models. We established a corpus consisting of 5049 utterances, each of which was an inter-pausal unit in speech. All the utterances were recorded with their corresponding transcripts, speech genres, four durational features (i.e., utterance duration, pause duration, speech rate, duration-based PVI), and three pitch-related features (i.e., f0 mean, f0 range, f0-based PVI). Based on the transcript of each utterance, we also utilized the naïve TF-IDF technique to acquire the textual features. An utterance-based analytical framework was adopted. First, we used the binary logistic model fitting on the seven proposed durational and pitch-related features to investigate which prosodic features can effectively characterize the entertaining and informative speech. Second, we built three types of automatic speech genre classification models—namely, prosody-mode, text-mode, and multimodal (prosody + text) models—to study the potentiality of prosodic features in speech genre classification and whether multimodal (prosody + text) features can further improve the performance of speech genre classification. \\nAccording to the results of our logistic model, six of the seven proposed prosodic features—utterance duration, dur-PVI, speech rate, f0 mean, f0 range, and f0-PVI—showed statistical significance in the logistic model. Our analysis suggested that in comparison to entertaining speech, informative speech tended to have longer utterance duration, slower speech rate, more isochoric rhythm, and more perceptible intonation at a lower pitch level. Additionally, we fed the seven proposed prosodic features into the prosody-mode and multimodal speech genre classification models. Our results showed that (1) the prosody-mode model attained 0.733 accuracy, showing the potentiality of prosodic features in speech genre classification; (2) the multimodal (prosody + text) model outperformed the other single-mode ones, amounting to 0.846 accuracy. We conclude that prosodic features can complement the absent or underrepresented information of textual features in speech genre classification and further improve the already high-performing text-mode classification results. The inherent multimodality of speech makes it necessary to include both prosodic and textual features in the task of speech genre classification. \\n    ```')]\n"
     ]
    }
   ],
   "source": [
    "proofreading_instruction = \"\"\"Revise the draft delimited by triple backticks\\\n",
    "    by following the instructions below.\\\n",
    "    The revision should remain within {word_limit}-word.\\\n",
    "    The language style should be {language_style}.\\\n",
    "    The genre should follow the conventions in {genre}.\\\n",
    "    In the revision, reduce the use of {avoid_structure}.\\\n",
    "    Original Draft: ```{draft}```\"\"\"\n",
    "\n",
    "proofreading_template = ChatPromptTemplate.from_template(proofreading_instruction)\n",
    "\n",
    "original_text = \"\"\"This current study aims to investigate the prosodic properties of the speech genres (i.e., entertaining and informative) within Taiwan Mandarin YouTube content and the effectiveness of different feature modes on automatic speech genre classification models. We established a corpus consisting of 5049 utterances, each of which was an inter-pausal unit in speech. All the utterances were recorded with their corresponding transcripts, speech genres, four durational features (i.e., utterance duration, pause duration, speech rate, duration-based PVI), and three pitch-related features (i.e., f0 mean, f0 range, f0-based PVI). Based on the transcript of each utterance, we also utilized the naïve TF-IDF technique to acquire the textual features. An utterance-based analytical framework was adopted. First, we used the binary logistic model fitting on the seven proposed durational and pitch-related features to investigate which prosodic features can effectively characterize the entertaining and informative speech. Second, we built three types of automatic speech genre classification models—namely, prosody-mode, text-mode, and multimodal (prosody + text) models—to study the potentiality of prosodic features in speech genre classification and whether multimodal (prosody + text) features can further improve the performance of speech genre classification. \n",
    "According to the results of our logistic model, six of the seven proposed prosodic features—utterance duration, dur-PVI, speech rate, f0 mean, f0 range, and f0-PVI—showed statistical significance in the logistic model. Our analysis suggested that in comparison to entertaining speech, informative speech tended to have longer utterance duration, slower speech rate, more isochoric rhythm, and more perceptible intonation at a lower pitch level. Additionally, we fed the seven proposed prosodic features into the prosody-mode and multimodal speech genre classification models. Our results showed that (1) the prosody-mode model attained 0.733 accuracy, showing the potentiality of prosodic features in speech genre classification; (2) the multimodal (prosody + text) model outperformed the other single-mode ones, amounting to 0.846 accuracy. We conclude that prosodic features can complement the absent or underrepresented information of textual features in speech genre classification and further improve the already high-performing text-mode classification results. The inherent multimodality of speech makes it necessary to include both prosodic and textual features in the task of speech genre classification. \n",
    "    \"\"\"\n",
    "\n",
    "proofreading_messages = proofreading_template.format_messages(\n",
    "    word_limit=\"50\", \n",
    "    language_style=\"concise, simple, and easy-to-understand\", \n",
    "    genre=\"academic journals\", \n",
    "    avoid_structure = \"passive voice constructions\",\n",
    "    draft= original_text\n",
    ")\n",
    "\n",
    "print(proofreading_messages)"
   ]
  },
  {
   "cell_type": "code",
   "execution_count": 5,
   "metadata": {},
   "outputs": [],
   "source": [
    "response_revision = llm(proofreading_messages)\n"
   ]
  },
  {
   "cell_type": "code",
   "execution_count": 6,
   "metadata": {},
   "outputs": [
    {
     "name": "stdout",
     "output_type": "stream",
     "text": [
      "```The present study explores the prosodic properties of entertaining and informative speech genres in Taiwan Mandarin YouTube content to determine their impact on automatic speech genre classification. Our corpus contains 5049 utterances, each an inter-pausal speech unit, annotated with transcripts, speech genres, four durational, and three pitch-related features. We used the naïve TF-IDF technique to acquire textual features. Our binary logistic model analysis showed that six of the seven prosodic features significantly characterized entertaining and informative speech. Furthermore, our models demonstrated that prosodic features enhance speech genre classification accuracy, suggesting the necessity of including both prosodic and textual features in this task.```\n"
     ]
    }
   ],
   "source": [
    "print(response_revision.content)"
   ]
  },
  {
   "cell_type": "markdown",
   "metadata": {},
   "source": [
    "## Proofreading Documents"
   ]
  },
  {
   "cell_type": "code",
   "execution_count": 26,
   "metadata": {},
   "outputs": [],
   "source": [
    "import docx\n",
    "\n",
    "doc = docx.Document('/Users/alvinchen/Dropbox/NTNUad/論文指導/Zale/thesis-final-data-all/NTNU_ENG_thesis_zale_2023.docx')"
   ]
  },
  {
   "cell_type": "code",
   "execution_count": 27,
   "metadata": {},
   "outputs": [
    {
     "data": {
      "text/plain": [
       "669"
      ]
     },
     "execution_count": 27,
     "metadata": {},
     "output_type": "execute_result"
    }
   ],
   "source": [
    "all_paras = doc.paragraphs\n",
    "len(all_paras)"
   ]
  },
  {
   "cell_type": "code",
   "execution_count": 59,
   "metadata": {},
   "outputs": [
    {
     "data": {
      "text/plain": [
       "['I would like to express my sincere gratitude to my advisor, Dr. Alvin Cheng-Hsien Chen, for his constant encouragement and strong support throughout my graduate studies. It was Dr. Chen that inspired me to probe into linguistic phenomena with a computational approach. His linguistics courses gave me a solid grounding in the basic techniques of coding. Additionally, he spent a great amount of time reading my manuscripts, always providing me with insightful and constructive suggestions in every revision. Had it not been for Dr. Chen’s assistance and guidance, this research could have never been accomplished. ',\n",
       " '\\tMany thanks also go to my committee members, Dr. Li-Hsin Ning and Dr. Grace Chen-Hsiu Kuo, for their helpful comments and encouraging remarks at the proposal hearing and oral defense. They enlightened me to conduct the more comprehensive acoustic-prosodic analysis of this research. I particularly appreciate Dr. Ning’s instructions on acoustic phonetics and statistical analysis in my graduate studies. ',\n",
       " 'Special thanks also go to Robin Lin, who is the kindest senior fellow I met at NTNU. I appreciate her for spending time on the rehearsal of my thesis presentations and listening to my worries about my future career. Without her encouragement, I could have been overwhelmed by uncertainties. ',\n",
       " 'I am also extremely grateful for my friends in the graduate program—Linda Chen, Mike Wu, Natasha Lin, Kim Wang, Maggie Maa, and Phoebe Shen—for the unforgettable memories we made together. I miss the time we hung out with each other and prepared for class presentations. It is really nice to meet them at NTNU. ',\n",
       " '\\tFinally, I would like to express my deepest gratitude to my loving parents. Without their constant and unconditional support, I would never have the courage to keep challenging myself and to explore the world. They are the best parents always being there and giving me much love and care. I hope I always do them proud. ',\n",
       " '本研究旨在分析YouTube臺灣華語創作內容中，娛樂型和知識型言語體裁之韻律特質，以及不同特徵模組(feature mode)對於自動化言語體裁分類模型之成效。我們建立了一個由5049語句所組成的語料庫。在此研究中，單一語句定義為言語中兩間隔停頓間之單位，每個語句紀錄了其文本、言語體裁、時長特徵［包含：語句時長、停頓時長、語速、時長成對變異指數(duration-based PVI)］、基頻特徵［包含：平均值、全距、基頻成對變異指數(f0-based PVI)］。我們也進一步將每個語句的文本以TF-IDF方法轉換成文字特徵。本研究是以每個單一語句為分析單位。首先，我們運用所提出的七個時長及基頻特徵，建立了羅吉斯迴歸模型，以分析娛樂型及知識型言語體裁分別具有特定哪些韻律特質。再者，我們建立了三種自動化言語體裁分類模型，包含了韻律特徵模型、文字特徵模型、多模態特徵（結合韻律及文字特徵）模型，以研究韻律特徵於言語體裁分類之潛力、多模態特徵是否能進一步提升言語體裁分類之結果。',\n",
       " '根據羅吉斯回歸模型的結果顯示，在我們所提出的七個韻律特徵中，有六個韻律特徵（排除停頓時長，包含：語句時長、語速、時長成對變異指數、基頻全距、基頻成對變異指數、基頻平均值）於模型中呈現統計顯著性，顯示娛樂型及知識型言語體裁具有不同韻律特質。此統計分析結果也顯示，與娛樂型言語體裁相比，知識型言語體裁通常具有較長的語句時長、較慢的語速、較低的音高、較明顯的語調變化，其節奏也更具等時性。再者，我們也運用提出的七個韻律特徵來訓練韻律特徵分類模型以及多模態特徵分類模型。研究結果顯示，以七個韻律特徵為本的模型分類準確率達0.733，展現了韻律特徵於言語體裁分類之潛力；此外，多模態特徵分類模型表現優於任何其他以單一特徵模組為本之模型，分類結果達到0.846準確率。我們認為在言語體裁分類任務中，韻律特徵能夠彌補文字特徵所缺乏或無法完全呈現的訊息，甚至能夠進一步提升原本就具不錯表現的文字特徵模型。總而言之，言語的多模態現象，使得進行言語體裁分類任務時必須同時考量韻律特徵及文字特徵。',\n",
       " 'This current study aims to investigate the prosodic properties of the speech genres (i.e., entertaining and informative) within Taiwan Mandarin YouTube content and the effectiveness of different feature modes on automatic speech genre classification models. We established a corpus consisting of 5049 utterances, each of which was an inter-pausal unit in speech. All the utterances were recorded with their corresponding transcripts, speech genres, four durational features (i.e., utterance duration, pause duration, speech rate, duration-based PVI), and three pitch-related features (i.e., f0 mean, f0 range, f0-based PVI). Based on the transcript of each utterance, we also utilized the naïve TF-IDF technique to acquire the textual features. An utterance-based analytical framework was adopted. First, we used the binary logistic model fitting on the seven proposed durational and pitch-related features to investigate which prosodic features can effectively characterize the entertaining and informative speech. Second, we built three types of automatic speech genre classification models—namely, prosody-mode, text-mode, and multimodal (prosody + text) models—to study the potentiality of prosodic features in speech genre classification and whether multimodal (prosody + text) features can further improve the performance of speech genre classification. ',\n",
       " 'According to the results of our logistic model, six of the seven proposed prosodic features—utterance duration, dur-PVI, speech rate, f0 mean, f0 range, and f0-PVI—showed statistical significance in the logistic model. Our analysis suggested that in comparison to entertaining speech, informative speech tended to have longer utterance duration, slower speech rate, more isochoric rhythm, and more perceptible intonation at a lower pitch level. Additionally, we fed the seven proposed prosodic features into the prosody-mode and multimodal speech genre classification models. Our results showed that (1) the prosody-mode model attained 0.733 accuracy, showing the potentiality of prosodic features in speech genre classification; (2) the multimodal (prosody + text) model outperformed the other single-mode ones, amounting to 0.846 accuracy. We conclude that prosodic features can complement the absent or underrepresented information of textual features in speech genre classification and further improve the already high-performing text-mode classification results. The inherent multimodality of speech makes it necessary to include both prosodic and textual features in the task of speech genre classification. ',\n",
       " 'In recent decades, because of the prevalence of online multimedia, it becomes much easier for people to express thoughts and share information to the public. Among so many multimedia websites, YouTube, an American online video sharing platform, is one of the most popular social media around the globe. A new type of professional career, YouTuber, even arose thanks to the YouTube Partner Program, which allows channels meeting metrics to make profits by running advertisements on the created videos (Kyncl & Peyvan, 2017). Popular YouTubers can be seen as online influencers with their individual channels subscribed by more than 100,000 audience, awarded Silver Creator Awards by YouTube. To earn fame and fortune, it may be necessary for YouTubers to produce intriguing videos with a combination of audio-visual cues so that they can engage and retain the audience. ']"
      ]
     },
     "execution_count": 59,
     "metadata": {},
     "output_type": "execute_result"
    }
   ],
   "source": [
    "original_texts = [p.text for p in all_paras if len(p.text) > 150]\n",
    "original_texts[:10]"
   ]
  },
  {
   "cell_type": "code",
   "execution_count": 49,
   "metadata": {},
   "outputs": [],
   "source": [
    "proofreading_messages = proofreading_template.format_messages(\n",
    "    word_limit=\"50\", \n",
    "    language_style=\"concise, simple, and easy-to-understand\", \n",
    "    genre=\"academic journals\", \n",
    "    avoid_structure = \"passive voice constructions\",\n",
    "    draft= original_texts[0]\n",
    ")\n"
   ]
  },
  {
   "cell_type": "code",
   "execution_count": 58,
   "metadata": {},
   "outputs": [],
   "source": [
    "def reviseParagraph(original_text: str):\n",
    "    proofreading_messages = proofreading_template.format_messages(\n",
    "    word_limit=\"50\", \n",
    "    language_style=\"concise, simple, and easy-to-understand\", \n",
    "    genre=\"academic journals\", \n",
    "    avoid_structure = \"passive voice constructions\",\n",
    "    draft= original_text\n",
    ")\n",
    "\n",
    "    response_revision = llm(proofreading_messages)\n",
    "    textwrap.wrap(original_text, width= 100)\n",
    "    \n",
    "    return response_revision.content\n",
    "\n",
    "\n",
    "\n",
    "    "
   ]
  },
  {
   "cell_type": "code",
   "execution_count": null,
   "metadata": {},
   "outputs": [],
   "source": [
    "import textwrap"
   ]
  },
  {
   "cell_type": "code",
   "execution_count": 62,
   "metadata": {},
   "outputs": [],
   "source": [
    "out = reviseParagraph(original_text=original_texts[7])"
   ]
  },
  {
   "cell_type": "code",
   "execution_count": 63,
   "metadata": {},
   "outputs": [
    {
     "data": {
      "text/plain": [
       "['```This study examines the prosodic characteristics of entertaining',\n",
       " 'and informative speech genres in Taiwan Mandarin YouTube content,',\n",
       " 'utilizing a corpus of 5049 inter-pausal unit utterances. We recorded',\n",
       " 'these utterances with corresponding transcripts and four durational',\n",
       " 'and three pitch-related features. We used the naïve TF-IDF technique',\n",
       " 'to identify textual features. Our analysis involved a binary logistic',\n",
       " 'model to evaluate the effectiveness of prosodic features in',\n",
       " 'characterizing speech genres and built three automatic speech genre',\n",
       " 'classification models to assess the potential of prosodic features and',\n",
       " 'multimodal features in enhancing genre classification performance.```']"
      ]
     },
     "execution_count": 63,
     "metadata": {},
     "output_type": "execute_result"
    }
   ],
   "source": [
    "textwrap.wrap(out)"
   ]
  },
  {
   "cell_type": "code",
   "execution_count": 61,
   "metadata": {},
   "outputs": [
    {
     "data": {
      "text/plain": [
       "['This current study aims to investigate the prosodic properties of the speech genres (i.e.,',\n",
       " 'entertaining and informative) within Taiwan Mandarin YouTube content and the effectiveness of',\n",
       " 'different feature modes on automatic speech genre classification models. We established a corpus',\n",
       " 'consisting of 5049 utterances, each of which was an inter-pausal unit in speech. All the utterances',\n",
       " 'were recorded with their corresponding transcripts, speech genres, four durational features (i.e.,',\n",
       " 'utterance duration, pause duration, speech rate, duration-based PVI), and three pitch-related',\n",
       " 'features (i.e., f0 mean, f0 range, f0-based PVI). Based on the transcript of each utterance, we also',\n",
       " 'utilized the naïve TF-IDF technique to acquire the textual features. An utterance-based analytical',\n",
       " 'framework was adopted. First, we used the binary logistic model fitting on the seven proposed',\n",
       " 'durational and pitch-related features to investigate which prosodic features can effectively',\n",
       " 'characterize the entertaining and informative speech. Second, we built three types of automatic',\n",
       " 'speech genre classification models—namely, prosody-mode, text-mode, and multimodal (prosody + text)',\n",
       " 'models—to study the potentiality of prosodic features in speech genre classification and whether',\n",
       " 'multimodal (prosody + text) features can further improve the performance of speech genre',\n",
       " 'classification.']"
      ]
     },
     "execution_count": 61,
     "metadata": {},
     "output_type": "execute_result"
    }
   ],
   "source": [
    "\n",
    "textwrap.wrap(original_texts[7], width= 100)\n"
   ]
  },
  {
   "cell_type": "code",
   "execution_count": 57,
   "metadata": {},
   "outputs": [
    {
     "data": {
      "text/plain": [
       "['```I sincerely thank my advisor, Dr. Alvin Cheng-Hsien Chen, for his consistent encouragement and',\n",
       " 'robust support during my graduate studies. Dr. Chen inspired my exploration of linguistic phenomena',\n",
       " 'through a computational approach. His linguistics courses equipped me with fundamental coding',\n",
       " 'techniques. He invested substantial time in reviewing my manuscripts, offering insightful and',\n",
       " \"constructive suggestions for each revision. Without Dr. Chen's guidance, this research would not\",\n",
       " 'have been possible.```']"
      ]
     },
     "execution_count": 57,
     "metadata": {},
     "output_type": "execute_result"
    }
   ],
   "source": [
    "\n",
    "textwrap.wrap(response_revision.content, width= 100)\n"
   ]
  },
  {
   "cell_type": "markdown",
   "metadata": {},
   "source": [
    "## Resources\n",
    "\n",
    "- [OPENAI API Models](https://platform.openai.com/docs/models): For more detail information about the models supported by OPENAI."
   ]
  }
 ],
 "metadata": {
  "kernelspec": {
   "display_name": "langchain",
   "language": "python",
   "name": "python3"
  },
  "language_info": {
   "codemirror_mode": {
    "name": "ipython",
    "version": 3
   },
   "file_extension": ".py",
   "mimetype": "text/x-python",
   "name": "python",
   "nbconvert_exporter": "python",
   "pygments_lexer": "ipython3",
   "version": "3.8.18"
  }
 },
 "nbformat": 4,
 "nbformat_minor": 2
}
