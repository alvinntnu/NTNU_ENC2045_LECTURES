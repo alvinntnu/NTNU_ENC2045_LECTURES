{
 "cells": [
  {
   "cell_type": "markdown",
   "metadata": {
    "slideshow": {
     "slide_type": "slide"
    }
   },
   "source": [
    "# Classification Models"
   ]
  },
  {
   "cell_type": "markdown",
   "metadata": {
    "slideshow": {
     "slide_type": "subslide"
    }
   },
   "source": [
    "- Before the era of deep learning, probability-based classifiers are commonly used in many ML NLP tasks.\n",
    "- There are two types of probability-based models:\n",
    "    - **Generative**:\n",
    "        - Training is based on the **joint** probability of the data and the class, i.e., $P(c,d)$\n",
    "        - Examples: n-gram models, Naive Bayes, HMM, probablistic context-free grammars.\n",
    "    \n",
    "    - **Distriminative**: \n",
    "        - Training is based on the **conditional** Probablity of the class given the data, i.e., $P(c|d)$.\n",
    "        - Examples: Logistic regression, maximum entropy models, CRF, SVM, perceptron."
   ]
  },
  {
   "cell_type": "markdown",
   "metadata": {
    "slideshow": {
     "slide_type": "subslide"
    }
   },
   "source": [
    "    \n",
    "- Strengths of discriminative models:\n",
    "    - They give high accuracy performance.\n",
    "    - They make it easier to include linguistically relevant features.\n",
    "- Other classification models:\n",
    "    - Tree-based methods (Decision tree)\n",
    "    - Neural Network"
   ]
  },
  {
   "cell_type": "markdown",
   "metadata": {
    "slideshow": {
     "slide_type": "slide"
    }
   },
   "source": [
    "## Naive Bayes"
   ]
  },
  {
   "cell_type": "markdown",
   "metadata": {
    "slideshow": {
     "slide_type": "subslide"
    }
   },
   "source": [
    "![](../images/naive-bayes.png)"
   ]
  },
  {
   "cell_type": "markdown",
   "metadata": {
    "slideshow": {
     "slide_type": "subslide"
    }
   },
   "source": [
    "````{margin}\n",
    "```{note}\n",
    "In Bayes, the $P(Y)$ is referred to as the **prior probability** of Y and the $P(Y|X)$ is referred to as the **posterior probability** of Y.\n",
    "```\n",
    "````\n",
    "\n",
    "- Naive Bayes features the Bayes Theorem:\n",
    "\n",
    "$$\n",
    "P(Y|X) = P(Y) \\frac{P(X|Y)}{P(X)} \n",
    "$$ (naive_bayes1)"
   ]
  },
  {
   "cell_type": "markdown",
   "metadata": {
    "slideshow": {
     "slide_type": "subslide"
    }
   },
   "source": [
    "- In naive bayes, given a document $d$ and a class $c$, the goal is to find the **maximum joint probability** $P(c,d)$. And according bayes rule, the goal (of finding the maximum joint probability) can be reformulated as finding the maximum of the **posterior probability** of the class, $P(c|d)$:\n",
    "\n",
    "$$\n",
    "P(c,d) = P(d|c)\\times P(c) = P(c|d) \\times P(d)\\\\\n",
    "P(c|d) = \\frac{P(d|c)\\times P(c)}{P(d)}\n",
    "$$ (navie_bayes2)"
   ]
  },
  {
   "cell_type": "markdown",
   "metadata": {
    "slideshow": {
     "slide_type": "subslide"
    }
   },
   "source": [
    "- Because the $P(d)$ is a constant for all classes estimation, we can drop the denominator. And now the goal is to find out the class $c$ that maximizes the **posterior probability** of the class, i.e., $P(c|d)$.\n",
    "\n",
    "$$\n",
    "C_{MAP} = \\underset{c \\in C}{\\arg\\max}P(c|d)\\\\\n",
    "C_{MAP}= \\underset{c \\in C}{\\arg\\max}\\frac{P(d|c)\\times P(c)}{P(d)} \\\\\n",
    "= \\underset{c \\in C}{\\arg\\max}P(d|c)\\times P(c) \\\\\n",
    "$$ (naive_bayes3)\n"
   ]
  },
  {
   "cell_type": "markdown",
   "metadata": {
    "slideshow": {
     "slide_type": "subslide"
    }
   },
   "source": [
    "\n",
    "- In naive Bayes, the probabilities $P(C=c_i)$ and $P(X_i|C=c_i)$ are parameters. \n",
    "- The standard, maximum likelihood, approach is to calculate the probabilities using MLE estimators. \n",
    "- For example, for $P(C=c_i)$, we count the cases where $C=c_i$ and divide by the sample size, same for conditional probabilities $P(X_i|C=c_i)$. \n",
    "- To get the Bayesian maximum posterior estimate $P(C=c_i|X_i)$, we would need to assume prior distributions for the parameters, i.e., $P(X_i|C=C_i)$.\n"
   ]
  },
  {
   "cell_type": "markdown",
   "metadata": {
    "slideshow": {
     "slide_type": "subslide"
    }
   },
   "source": [
    "- A document needs to be vectorized through feature engineering into a numeric representation, i.e., a set of **n** features from the document, $\\{x_1, x_2, ..., x_n\\}$\n",
    "- Given a class $c$ and a set of **n** features from the document, $\\{x_1, x_2, ..., x_n\\}$, we can denote the posterior probability of each class $c$ as follows:\n",
    "\n",
    "$$\n",
    "C_{MAP}= \\underset{c \\in C}{\\arg\\max}P(c|d)\\\\\\\\\n",
    "\\underset{c \\in C}{\\arg\\max}  P(d|c) \\times P(c) \\\\\n",
    "= \\underset{c \\in C}{\\arg\\max} P(x_1,x_2,...,x_n|c) \\times P(c) \\\\\n",
    "$$ (naive_bayes4)"
   ]
  },
  {
   "cell_type": "markdown",
   "metadata": {
    "slideshow": {
     "slide_type": "subslide"
    }
   },
   "source": [
    "- Important assumptions in Naive Bayes:\n",
    "    - Independence Assumption: Assume features are independent of each other.\n",
    "    - Conditional Independence: Assume the feature probabilities $P(x_i|C=c_i)$ are independent given the label $c$.\n",
    "\n",
    "$$\n",
    "P(x_1,x_2,...,x_n|c)=P(x_1|c)\\times P(x_2|c)\\times P(x_3|c) \\times ... \\times P(x_n|c)\n",
    "$$ (naive_bayes5)"
   ]
  },
  {
   "cell_type": "markdown",
   "metadata": {
    "slideshow": {
     "slide_type": "subslide"
    }
   },
   "source": [
    "- Then we can simply the equation:\n",
    "\n",
    "$$\n",
    "C_{MAP} = \\underset{c \\in C}{\\arg\\max} P(x_1,x_2,...,x_n|c) \\times P(c) \\\\\n",
    "= \\underset{c \\in C}{\\arg\\max} P(c) \\prod_{x\\in X}P(x|c)\n",
    "$$ (naive_bayes6)"
   ]
  },
  {
   "cell_type": "markdown",
   "metadata": {
    "slideshow": {
     "slide_type": "subslide"
    }
   },
   "source": [
    "- Multinomial Naive Bayes is an extension of the Naive Bayes for predicting and classifying data points, where the number of distinct labels or outcomes are more than two.\n",
    "\n",
    "- In Naive Bayes, each feature $x_i$ of the document is in the form of a probability value of an observed event given the class, $P(x_i|C=c_i)$\n",
    "    - For example, the probability of observing the word '好看' (**$x_i$**) when the document class is **$c_i$**."
   ]
  },
  {
   "cell_type": "markdown",
   "metadata": {
    "slideshow": {
     "slide_type": "subslide"
    }
   },
   "source": [
    "- Issues of Smoothing\n",
    "    - For unseen features in a new document, e.g., $P(x|c)$, this would render the entire posterior probability of the class to be zero. \n",
    "    - Laplace smoothing (Add-one)\n",
    "    - Lidstone smooting (Self-defined $\\alpha$ < 1)"
   ]
  },
  {
   "cell_type": "markdown",
   "metadata": {
    "slideshow": {
     "slide_type": "slide"
    }
   },
   "source": [
    "## Logistic Regression"
   ]
  },
  {
   "cell_type": "markdown",
   "metadata": {
    "slideshow": {
     "slide_type": "subslide"
    }
   },
   "source": [
    "- Logistic Regression is also a form of probabilistic statistical classification model.\n",
    "- The model is trained by maximizing directly the probability of the class given the observed data, i.e., $P(c|d)$.\n",
    "- Logistic Regression is similar to linear regression, whose predicted values are both numeric."
   ]
  },
  {
   "cell_type": "markdown",
   "metadata": {
    "slideshow": {
     "slide_type": "subslide"
    }
   },
   "source": [
    "- A document needs to be vectorized through feature engineering into a numeric representation, i.e., a set of **n** features from the document, $\\{x_1, x_2, ..., x_n\\}$\n",
    "\n",
    "- Then the logistic regression models the probability of the class given these observed values:\n",
    "\n",
    "$$\n",
    "y = \\beta_0 + \\beta_1x_1 + \\beta_2 x_2 + ... + \\beta_ix_i\n",
    "= \\sum_{i}\\beta_ix_i\n",
    "$$"
   ]
  },
  {
   "cell_type": "markdown",
   "metadata": {
    "slideshow": {
     "slide_type": "subslide"
    }
   },
   "source": [
    "- Each feature $x_i$ of the document is a function that chracterizes the relevant linguistic properties of the document. These features can be all manually annotated or created automatically.\n",
    "- These features are often in simple forms that are of binary values or numeric values within a range:\n",
    "    $$ \n",
    "    x_1 = f_1(x_1) = [Contains('好看') ] = \\{0, 1\\} \\\\\n",
    "    x_2 = f_2(x_2) = [Contains('絕配') ] = \\{0, 1\\} \\\\\n",
    "    ...\n",
    "    $$\n"
   ]
  },
  {
   "cell_type": "markdown",
   "metadata": {
    "slideshow": {
     "slide_type": "subslide"
    }
   },
   "source": [
    "- But so far the $y$ is not a probability value yet. It could be any number ($-\\infty$ to $\\infty$) based on the current linear model. In order to make sure the predicted values of the model are within the range of 0 and 1, the dependent variable $y$ often needs to be transformed with a so-called **link function**.\n",
    "- That is, link functions transform the predicted $y$ into a range more appropriate for linear modeling."
   ]
  },
  {
   "cell_type": "markdown",
   "metadata": {
    "slideshow": {
     "slide_type": "subslide"
    }
   },
   "source": [
    "- For binary logistic regression, the **inverse logit transformation** is used, transforming y from the range of $-\\infty$ to $\\infty$ to into probability values ranging from 0 to 1.\n",
    "\n",
    "$$\n",
    "y = \\beta_0 + \\beta_1x_1 + \\beta_2 x_2 + ... + \\beta_ix_i\n",
    "= \\sum_{i}\\beta_ix_i\n",
    "$$\n",
    "\n",
    "$$\n",
    "Probability_{class} = P(c|d) = P(c|x_1,x_2,...,x_i)\\\\\n",
    "= \\frac{1}{1+e^y}\\\\\n",
    "= \\frac{1}{1+e^{\\sum_{i}\\beta_ix_i}}\n",
    "$$"
   ]
  },
  {
   "cell_type": "markdown",
   "metadata": {
    "slideshow": {
     "slide_type": "subslide"
    }
   },
   "source": [
    "- And we can re-formulate the model equation as:\n",
    "\n",
    "$$\n",
    "P(c|d) = P(c|x_1,x_2,...,x_i)\\\\= \\frac{1}{1+e^{\\sum_{i}\\beta_ix_i}}\n",
    "$$\n",
    "- The model will then determine the class of the document by choosing the class that maximizes the conditional probability of $P(c|d)$.\n",
    "\n",
    "   "
   ]
  },
  {
   "cell_type": "markdown",
   "metadata": {
    "slideshow": {
     "slide_type": "slide"
    }
   },
   "source": [
    "## Support Vector Machine (SVM)"
   ]
  },
  {
   "cell_type": "markdown",
   "metadata": {
    "slideshow": {
     "slide_type": "subslide"
    }
   },
   "source": [
    "![](../images/svm/svm.001.png)\n",
    "- To understand what SVM is, we probably need to introduce the idea of **support vectors**.\n",
    "- Given a linearly separable dataset, it is easy to find a hyperplane (in 2D, that would be a line) that separates data into two distinct sub-groups.\n",
    "    - The shortest distance between the observations and the threshold (hyperplane) is called the **margin**.\n",
    "    - A hyperplane that gives us the largest margin to make classification is referred to as **Maximum Margin Classifier**.\n",
    "    "
   ]
  },
  {
   "cell_type": "markdown",
   "metadata": {
    "slideshow": {
     "slide_type": "subslide"
    }
   },
   "source": [
    "- Issues with Maximum Margin Classifier:\n",
    "    - Maximum Margin Classifier is very sensitive to outliers.\n",
    "    - The classifier may be too biased toward the class with fewer outliers.\n",
    " \n",
    "![](../images/svm/svm.002.png)\n",
    "    "
   ]
  },
  {
   "cell_type": "markdown",
   "metadata": {
    "slideshow": {
     "slide_type": "subslide"
    }
   },
   "source": [
    "- If we choose a hyperplane which allows misclassifications, we may be able to find a better classifier. \n",
    "    - When we allow misclassifications, the distance between the observations and the hyperplane is called a **soft margin**.\n",
    "    - A classifier allowing misclassifications (i.e., based on soft margins) is referred to as **soft margin classifier**, or **support vector classifier**.\n",
    "    - The observations on the edge and within the **soft margin** are called **support vectors**.\n",
    "![](../images/svm/svm.003.png)"
   ]
  },
  {
   "cell_type": "markdown",
   "metadata": {
    "slideshow": {
     "slide_type": "subslide"
    }
   },
   "source": [
    "- Support Vector Classifiers can deal with observations with outliers and the assumption is that the observations are linearly separable.\n",
    "- What if the observations are not linearly separable in the first place? This is where **Support Vector Machine** comes in!\n",
    "![](../images/svm.004.png)"
   ]
  },
  {
   "cell_type": "markdown",
   "metadata": {
    "slideshow": {
     "slide_type": "subslide"
    }
   },
   "source": [
    "- Intuition of Support Vector Machine:\n",
    "    - Start with data in a relatively low dimension\n",
    "    - Move the data into a higher dimension (when no obvious linear classifier found)\n",
    "    - Find a **Support Vector Classifier** that separates the higher dimensional data into two groups\n",
    "    "
   ]
  },
  {
   "cell_type": "markdown",
   "metadata": {
    "slideshow": {
     "slide_type": "subslide"
    }
   },
   "source": [
    "![](../images/svm-kernel.gif)"
   ]
  },
  {
   "cell_type": "markdown",
   "metadata": {
    "slideshow": {
     "slide_type": "subslide"
    }
   },
   "source": [
    "- The mathematical tricks of moving data into a higher dimension are the **kernel functions**. This process is called the **Kernel Tricks**. SVM uses these kernel functions to find support vector classifiers in higher dimensions.\n",
    "    - Polynomial Kernel\n",
    "    - Radial Basis Function Kernel (RBF)\n"
   ]
  },
  {
   "cell_type": "markdown",
   "metadata": {
    "slideshow": {
     "slide_type": "subslide"
    }
   },
   "source": [
    "- SVM has a **cost function (C)**, which controls the compromise of the misclassifications and margin sizes. A smaller C creates a softer (larger) margin, allowing more misclassifications; a larger C creates a narrower margin, allowing fewer misclassifications. A model of larger C often has higher generalizability.\n",
    "\n"
   ]
  },
  {
   "cell_type": "markdown",
   "metadata": {
    "slideshow": {
     "slide_type": "slide"
    }
   },
   "source": [
    "## Other Discriminative Models"
   ]
  },
  {
   "cell_type": "markdown",
   "metadata": {
    "slideshow": {
     "slide_type": "subslide"
    }
   },
   "source": [
    "There are many more ways to learn the weights (i.e., $\\beta_i$) in the discriminative models. Different algorithms may prioritize different link functions to train the model parameters.\n",
    "\n",
    "In this course, we will not cover all the details of these variants. Please refer to machine learning courses for more details on these algorithms."
   ]
  },
  {
   "cell_type": "markdown",
   "metadata": {
    "slideshow": {
     "slide_type": "subslide"
    }
   },
   "source": [
    "- **Maximum Entropy Model (Maxent)**\n",
    "    - Maxent is very similar to logistic regression, and differs in mainly its way of parameterization (e.g., feature functions, link functions)\n",
    "    - Maxent uses a *softmax* function to transform values into probabilities.\n",
    "    \n",
    "$$\n",
    "p(c|d,\\beta) = \\frac{e^{\\sum_{i}\\beta_ix_i}}{\\sum_{c'}{e^{\\sum_{i}\\beta_ix_i}}}\\\\\n",
    "= \\frac{y_c}{\\sum_{c'}{y_{c'}}}\n",
    "$$"
   ]
  },
  {
   "cell_type": "markdown",
   "metadata": {
    "slideshow": {
     "slide_type": "subslide"
    }
   },
   "source": [
    "- **Perceptron**\n",
    "    - finds a currently misclassified example, and nudge weights in the direction of its correct classification."
   ]
  },
  {
   "cell_type": "markdown",
   "metadata": {
    "slideshow": {
     "slide_type": "slide"
    }
   },
   "source": [
    "## Other Classification Models"
   ]
  },
  {
   "cell_type": "markdown",
   "metadata": {
    "hide_input": false,
    "slideshow": {
     "slide_type": "subslide"
    }
   },
   "source": [
    "- There are other classification models that are not probabilistic\n",
    "    - **Decision Tree**\n",
    "        - It uses a split condition to predict class labels based on one or multiple input features.\n",
    "        - The classification process starts from the root node of the tree; at each node, the classifier will check which input feature will most effectively split the data into sub-groups. \n"
   ]
  },
  {
   "cell_type": "markdown",
   "metadata": {
    "slideshow": {
     "slide_type": "slide"
    }
   },
   "source": [
    "## Emsemble Methods"
   ]
  },
  {
   "cell_type": "markdown",
   "metadata": {
    "slideshow": {
     "slide_type": "subslide"
    }
   },
   "source": [
    "- Bagging \n",
    "    - Take subsets of data (e.g., bootstrap samples) and train a model on each subset in parallel\n",
    "    - The subsets are allowed to simultaneously vote on the outcome\n",
    "    - The final outcome is often an average aggregation.\n",
    "    - Example: **Random Forests**\n",
    "   "
   ]
  },
  {
   "cell_type": "markdown",
   "metadata": {
    "slideshow": {
     "slide_type": "subslide"
    }
   },
   "source": [
    "- Boosting\n",
    "    - Utilize sequential modeling by improving one model from the errors of the previous model\n",
    "    - Often use the output of one model as an input into the next in a form of sequential processing\n",
    "    - Example: **Gradient boosting machines**"
   ]
  },
  {
   "cell_type": "markdown",
   "metadata": {
    "slideshow": {
     "slide_type": "slide"
    }
   },
   "source": [
    "## Conclusion\n",
    "\n",
    "- Feature engineering is a lot more important than algorithm selection.\n",
    "- With good feature representations of the data, usually it does not really mather which machine learning algorithm we choose.\n",
    "- Generally, discriminative models out-perform generative models.\n",
    "- Maybe one day the optimal algorithm can be determined *automatically* via machine learning as well!!\n",
    "- Please see [Google's AutoML effort: Google AI Introduces Model Search, An Open Source Platform for Finding Optimal Machine Learning Models](https://www.marktechpost.com/2021/02/28/google-ai-introduces-model-search-an-open-source-platform-for-finding-optimal-machine-learning-ml-models/?fbclid=IwAR3FkqJzXGIqG-X25BXslDZ077F9s4onOaQzlosc9u7qeto9LNd7prt_PNE)."
   ]
  },
  {
   "cell_type": "markdown",
   "metadata": {},
   "source": [
    "## References\n",
    "\n",
    "- NLTK Book, Chapter 6.\n",
    "- Sarkar (2020), Chapter 5."
   ]
  }
 ],
 "metadata": {
  "celltoolbar": "Slideshow",
  "kernelspec": {
   "display_name": "python-notes",
   "language": "python",
   "name": "python-notes"
  },
  "language_info": {
   "codemirror_mode": {
    "name": "ipython",
    "version": 3
   },
   "file_extension": ".py",
   "mimetype": "text/x-python",
   "name": "python",
   "nbconvert_exporter": "python",
   "pygments_lexer": "ipython3",
   "version": "3.7.0"
  },
  "toc": {
   "base_numbering": 1,
   "nav_menu": {},
   "number_sections": false,
   "sideBar": true,
   "skip_h1_title": false,
   "title_cell": "Table of Contents",
   "title_sidebar": "Contents",
   "toc_cell": false,
   "toc_position": {},
   "toc_section_display": true,
   "toc_window_display": false
  },
  "varInspector": {
   "cols": {
    "lenName": 16,
    "lenType": 16,
    "lenVar": 40
   },
   "kernels_config": {
    "python": {
     "delete_cmd_postfix": "",
     "delete_cmd_prefix": "del ",
     "library": "var_list.py",
     "varRefreshCmd": "print(var_dic_list())"
    },
    "r": {
     "delete_cmd_postfix": ") ",
     "delete_cmd_prefix": "rm(",
     "library": "var_list.r",
     "varRefreshCmd": "cat(var_dic_list()) "
    }
   },
   "types_to_exclude": [
    "module",
    "function",
    "builtin_function_or_method",
    "instance",
    "_Feature"
   ],
   "window_display": false
  }
 },
 "nbformat": 4,
 "nbformat_minor": 4
}
