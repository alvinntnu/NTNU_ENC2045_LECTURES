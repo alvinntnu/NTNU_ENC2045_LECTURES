{
 "cells": [
  {
   "cell_type": "markdown",
   "metadata": {},
   "source": [
    "# Large Language Model (Under Construction...)"
   ]
  },
  {
   "cell_type": "markdown",
   "metadata": {},
   "source": [
    "## LLM\n",
    "\n",
    "-  🏆 [LMSYS Chatbot Arena Leaderboard](https://huggingface.co/spaces/lmsys/chatbot-arena-leaderboard): Check which LLMs are now on the top of the list!\n",
    "-  ⚔️ [Chatbot Arena: Benchmarking LLMs in the Wild](https://chat.lmsys.org/)\n"
   ]
  },
  {
   "cell_type": "markdown",
   "metadata": {},
   "source": [
    "\n",
    "## Topics to be covered\n",
    "- Transfer Learning based on BERT\n",
    "- Langchain: An Introduction\n",
    "    - Large Language Models (OpenAI)\n",
    "    - LLM and Prompt Engeering\n",
    "    - LLM and Retrieval-Augmented Generation (RAG)\n",
    "- Multimodal Processing (A YouTube-based Application)"
   ]
  }
 ],
 "metadata": {
  "language_info": {
   "name": "python"
  }
 },
 "nbformat": 4,
 "nbformat_minor": 2
}
