{
 "cells": [
  {
   "cell_type": "markdown",
   "metadata": {},
   "source": [
    "# Large Language Model (Under Construction...)"
   ]
  },
  {
   "cell_type": "markdown",
   "metadata": {},
   "source": [
    "## LLM\n",
    "\n",
    "-  🏆 [LMSYS Chatbot Arena Leaderboard](https://huggingface.co/spaces/lmsys/chatbot-arena-leaderboard): Check which LLMs are now on the top of the list!\n",
    "-  ⚔️ [Chatbot Arena: Benchmarking LLMs in the Wild](https://chat.lmsys.org/)\n",
    "- It is a very challenging task to properly evaluate an LLM. Please check the following articles for more details: \n",
    "    - [LLM Benchmarking: How to Evaluate Language Model Performance](https://medium.com/@luv-bansal/benchmarking-llms-how-to-evaluate-language-model-performance-b5d061cc8679)\n",
    "    - [Evaluating Large Language Model (LLM) systems: Metrics, challenges, and best practices](https://medium.com/data-science-at-microsoft/evaluating-llm-systems-metrics-challenges-and-best-practices-664ac25be7e5)\n",
    "    - [LLM 評估方法指南：趨勢、指標與未來方向](https://medium.com/@cch.chichieh/llm-%E8%A9%95%E4%BC%B0%E6%96%B9%E6%B3%95%E6%8C%87%E5%8D%97-%E8%B6%A8%E5%8B%A2-%E6%8C%87%E6%A8%99%E8%88%87%E6%9C%AA%E4%BE%86%E6%96%B9%E5%90%91-e81616d30e53)\n"
   ]
  },
  {
   "cell_type": "markdown",
   "metadata": {},
   "source": [
    "\n",
    "## Topics to be covered\n",
    "- Transfer Learning based on BERT (X)\n",
    "- Langchain: An Introduction\n",
    "    - Leveraging Large Language Models (OpenAI)\n",
    "    - LLM and Prompt Engeering\n",
    "    - LLM and Retrieval-Augmented Generation (RAG)\n",
    "- Multimodal Processing (A YouTube-based Application)"
   ]
  }
 ],
 "metadata": {
  "language_info": {
   "name": "python"
  }
 },
 "nbformat": 4,
 "nbformat_minor": 2
}
