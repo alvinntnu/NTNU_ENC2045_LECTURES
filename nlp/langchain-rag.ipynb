{
 "cells": [
  {
   "cell_type": "code",
   "execution_count": null,
   "metadata": {},
   "outputs": [],
   "source": [
    "# LLM and RAG"
   ]
  },
  {
   "cell_type": "markdown",
   "metadata": {},
   "source": [
    "## What is Retrieval-Augmented Generation?\n",
    "\n",
    "- Retrieval-Augmented Generation (RAG) is a technique used to enhance the capabilities of Large Language Models (LLMs) by providing them with additional information from an external knowledge source. \n",
    "- The goal of RAG is to enable LLMs to generate more accurate and contextual responses while minimizing factual inaccuracies, known as **hallucinations**, especially when prompted with queries that require knowledge beyond their pre-trained data. \n",
    "- Unlike traditional **fine-tuning** methods, which are computationally expensive and less adaptable to evolving information, RAG combines a generative model with a retriever module. \n",
    "- This approach allows the model to access non-parametric knowledge stored in an external knowledge source, such as a **vector database**, which can be updated more easily. \n",
    "- In essence, RAG operates similarly to an **open-book exam for humans**, where reference materials can be used to supplement reasoning skills. \n",
    "\n",
    "## General Pipeline\n",
    "\n",
    "- The RAG workflow involves three main steps: \n",
    "    - Retrieval: Relevant context is retrieved from the external knowledge source based on the user query.\n",
    "    - Augmentation: The retrieved context and the query are combined into a prompt template. \n",
    "    - Generation: The augmented prompt is inputted into the LLM to generate a response, leveraging both parametric knowledge learned during training and non-parametric knowledge retrieved during runtime."
   ]
  },
  {
   "cell_type": "markdown",
   "metadata": {},
   "source": [
    "## References\n",
    "\n",
    "1. https://medium.com/towards-data-science/retrieval-augmented-generation-rag-from-theory-to-langchain-implementation-4e9bd5f6a4f2\n"
   ]
  }
 ],
 "metadata": {
  "language_info": {
   "name": "python"
  }
 },
 "nbformat": 4,
 "nbformat_minor": 2
}
