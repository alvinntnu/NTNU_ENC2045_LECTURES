{
 "cells": [
  {
   "cell_type": "markdown",
   "metadata": {
    "slideshow": {
     "slide_type": "slide"
    }
   },
   "source": [
    "# Chinese Word Segmentation"
   ]
  },
  {
   "cell_type": "markdown",
   "metadata": {
    "slideshow": {
     "slide_type": "subslide"
    }
   },
   "source": [
    "- Natural language processing methods are connected to the characteristics of the target language.\n",
    "- To deal with the Chinese language, the most intimidating task is to find out a basic **linguistic unit** to work with.\n",
    "- In this tutorial, we talk about a few segmentation methods in python."
   ]
  },
  {
   "cell_type": "markdown",
   "metadata": {
    "slideshow": {
     "slide_type": "slide"
    }
   },
   "source": [
    "## Segmentation using `jieba`"
   ]
  },
  {
   "cell_type": "markdown",
   "metadata": {
    "slideshow": {
     "slide_type": "subslide"
    }
   },
   "source": [
    "- [`jieba`](https://github.com/fxsjy/jieba)"
   ]
  },
  {
   "cell_type": "code",
   "execution_count": 24,
   "metadata": {
    "scrolled": false,
    "slideshow": {
     "slide_type": "subslide"
    }
   },
   "outputs": [
    {
     "name": "stdout",
     "output_type": "stream",
     "text": [
      "\n",
      " | 高速公路 | 局說 | ， | 目前 | 在 | 國道 | 3 | 號 | 北向 | 水上 | 系統 | 至 | 中埔 | 路段 | 車多 | 壅塞 | ， | 已回 | 堵約 | 3 | 公里 | 。 | 另外 | ， | 國道 | 1 | 號 | 北向 | 仁德 | 至 | 永康 | 路段 | 路段 | ， | 已回 | 堵 | 約 | 有 | 7 | 公里 | 。 | 建議 | 駕駛人 | 提前 | 避開 | 壅塞 | 路段 | 改道 | 行駛 | ， | 行經車 | 多 | 路段 | 請 | 保持 | 行車 | 安全 | 距離 | ， | 小心 | 行駛 | 。 | \n",
      " | 國道 | 車多 | 壅塞 | 路段 | 還有國 | 1 | 內湖 | - | 五堵 | 北向 | 路段 | 、 | 楊梅 | - | 新竹 | 南向 | 路段 | ； | 國 | 3 | 三鶯 | - | 關 | 西服 | 務區 | 南向 | 路段 | 、 | 快官 | - | 霧峰 | 南向 | 路段 | 、 | 水上 | 系統 | - | 中埔 | 北向 | 路段 | ； | 國 | 6 | 霧峰 | 系統 | - | 東 | 草屯 | 東向 | 路段 | 、 | 國 | 10 | 燕巢 | - | 燕巢 | 系統 | 東向 | 路段 | 。 | \n",
      "\n"
     ]
    }
   ],
   "source": [
    "import jieba\n",
    "text = \"\"\"\n",
    "高速公路局說，目前在國道3號北向水上系統至中埔路段車多壅塞，已回堵約3公里。另外，國道1號北向仁德至永康路段路段，已回堵約有7公里。建議駕駛人提前避開壅塞路段改道行駛，行經車多路段請保持行車安全距離，小心行駛。\n",
    "國道車多壅塞路段還有國1內湖-五堵北向路段、楊梅-新竹南向路段；國3三鶯-關西服務區南向路段、快官-霧峰南向路段、水上系統-中埔北向路段；國6霧峰系統-東草屯東向路段、國10燕巢-燕巢系統東向路段。\n",
    "\"\"\"\n",
    "text_jb = jieba.lcut(text)  \n",
    "print(' | '.join(text_jb))"
   ]
  },
  {
   "cell_type": "markdown",
   "metadata": {
    "slideshow": {
     "slide_type": "subslide"
    }
   },
   "source": [
    "- initialize traditional Chinese dictionary\n",
    "    - Download the traditional chinese dictionary from [`jieba-tw`](https://raw.githubusercontent.com/ldkrsi/jieba-zh_TW/master/jieba/dict.txt)\n",
    "    \n",
    "```\n",
    "jieba.set_dictionary(file_path)\n",
    "```"
   ]
  },
  {
   "cell_type": "markdown",
   "metadata": {
    "slideshow": {
     "slide_type": "subslide"
    }
   },
   "source": [
    "- Add own project-specific dictionary\n",
    "\n",
    "```\n",
    "jieba.load_userdict(file_path)\n",
    "```"
   ]
  },
  {
   "cell_type": "markdown",
   "metadata": {
    "slideshow": {
     "slide_type": "subslide"
    }
   },
   "source": [
    "- Add add-hoc words to dictionary\n",
    "\n",
    "```\n",
    "jieba.add_word(word, freq=None, tag=None)\n",
    "```"
   ]
  },
  {
   "cell_type": "markdown",
   "metadata": {
    "slideshow": {
     "slide_type": "subslide"
    }
   },
   "source": [
    "- Remove words\n",
    "\n",
    "```\n",
    "jieba.del_word(word)\n",
    "```"
   ]
  },
  {
   "cell_type": "markdown",
   "metadata": {
    "slideshow": {
     "slide_type": "subslide"
    }
   },
   "source": [
    "- Word segmentation\n",
    "    - `jieba.cut()` returns a `generator` object\n",
    "    - `jieba.lcut()` resuts a `List` object\n",
    "    \n",
    "```\n",
    "# full\n",
    "\n",
    "jieba.cut(TEXT, cut_all=True)\n",
    "jieba.lcut(TEXT, cut_all=True\n",
    "\n",
    "# default\n",
    "jieba.cut(TEXT, cut_all=False)\n",
    "jieba.lcut(TEXT, cut_all=False)\n",
    "```"
   ]
  },
  {
   "cell_type": "markdown",
   "metadata": {
    "slideshow": {
     "slide_type": "slide"
    }
   },
   "source": [
    "## Segmentation using CKIP Transformer"
   ]
  },
  {
   "cell_type": "markdown",
   "metadata": {
    "slideshow": {
     "slide_type": "subslide"
    }
   },
   "source": [
    "- For more detail on the installation of `ckip-transformers`, please read their [documentation](https://github.com/ckiplab/ckip-transformers).\n",
    "\n",
    "```\n",
    "pip install -U transformers\n",
    "```"
   ]
  },
  {
   "cell_type": "code",
   "execution_count": 2,
   "metadata": {
    "slideshow": {
     "slide_type": "subslide"
    }
   },
   "outputs": [],
   "source": [
    "import ckip_transformers\n",
    "from ckip_transformers.nlp import CkipWordSegmenter, CkipPosTagger, CkipNerChunker"
   ]
  },
  {
   "cell_type": "markdown",
   "metadata": {
    "slideshow": {
     "slide_type": "subslide"
    }
   },
   "source": [
    "- When initializing the models, `level` specifies three levels of segmentation resolution. Level 1 is the fastest while Level 3 is the most accurate\n",
    "- `device = 0` for GPU computing."
   ]
  },
  {
   "cell_type": "code",
   "execution_count": 3,
   "metadata": {
    "slideshow": {
     "slide_type": "subslide"
    }
   },
   "outputs": [
    {
     "name": "stdout",
     "output_type": "stream",
     "text": [
      "CPU times: user 11.9 s, sys: 995 ms, total: 12.9 s\n",
      "Wall time: 1min\n"
     ]
    }
   ],
   "source": [
    "%%time\n",
    "\n",
    "# Initialize drivers\n",
    "ws_driver  = CkipWordSegmenter(level=3, device = -1)\n",
    "pos_driver = CkipPosTagger(level=3, device = -1)\n",
    "ner_driver = CkipNerChunker(level=3, device = -1)"
   ]
  },
  {
   "cell_type": "code",
   "execution_count": 4,
   "metadata": {
    "slideshow": {
     "slide_type": "subslide"
    }
   },
   "outputs": [],
   "source": [
    "# Input text\n",
    "text = \"\"\"\n",
    "高速公路局說，目前在國道3號北向水上系統至中埔路段車多壅塞，已回堵約3公里。另外，國道1號北向仁德至永康路段路段，已回堵約有7公里。建議駕駛人提前避開壅塞路段改道行駛，行經車多路段請保持行車安全距離，小心行駛。\n",
    "國道車多壅塞路段還有國1內湖-五堵北向路段、楊梅-新竹南向路段；國3三鶯-關西服務區南向路段、快官-霧峰南向路段、水上系統-中埔北向路段；國6霧峰系統-東草屯東向路段、國10燕巢-燕巢系統東向路段。\n",
    "\"\"\"\n",
    "\n",
    "\n",
    "# paragraph breaks\n",
    "text = [p for p in text.split('\\n') if len(p)!=0]"
   ]
  },
  {
   "cell_type": "code",
   "execution_count": 5,
   "metadata": {
    "slideshow": {
     "slide_type": "subslide"
    }
   },
   "outputs": [
    {
     "name": "stderr",
     "output_type": "stream",
     "text": [
      "Tokenization: 100%|██████████| 2/2 [00:00<00:00, 3267.86it/s]\n",
      "Inference: 100%|██████████| 1/1 [00:00<00:00,  1.18it/s]\n",
      "Tokenization: 100%|██████████| 2/2 [00:00<00:00, 5622.39it/s]\n",
      "Inference: 100%|██████████| 1/1 [00:01<00:00,  1.69s/it]\n",
      "Tokenization: 100%|██████████| 2/2 [00:00<00:00, 3830.41it/s]\n",
      "Inference: 100%|██████████| 1/1 [00:00<00:00,  1.20it/s]\n"
     ]
    }
   ],
   "source": [
    "# Run pipeline\n",
    "ws  = ws_driver(text)\n",
    "pos = pos_driver(ws)\n",
    "ner = ner_driver(text)"
   ]
  },
  {
   "cell_type": "markdown",
   "metadata": {
    "slideshow": {
     "slide_type": "subslide"
    }
   },
   "source": [
    "- When doing the word segmentation, there are a few parameters to consider in `ws_driver()`:\n",
    "    - `use_delim`: by default, ckip transformer breaks the texts into sentences using the following delimiters `'，,。：:；;！!？?'`, and concatenate them back in the outputs.\n",
    "    - `delim_set`: to specify self-defined sentence delimiters\n",
    "    - `batch_size`\n",
    "    - `max_length`"
   ]
  },
  {
   "cell_type": "code",
   "execution_count": 6,
   "metadata": {
    "slideshow": {
     "slide_type": "subslide"
    }
   },
   "outputs": [
    {
     "name": "stderr",
     "output_type": "stream",
     "text": [
      "Tokenization: 100%|██████████| 2/2 [00:00<00:00, 2496.61it/s]\n",
      "Inference: 100%|██████████| 1/1 [00:01<00:00,  1.68s/it]\n",
      "Tokenization: 100%|██████████| 2/2 [00:00<00:00, 3514.29it/s]\n",
      "Inference: 100%|██████████| 1/1 [00:01<00:00,  1.68s/it]\n"
     ]
    }
   ],
   "source": [
    "# Enable sentence segmentation\n",
    "ws  = ws_driver(text, use_delim=True)\n",
    "ner = ner_driver(text, use_delim=True)"
   ]
  },
  {
   "cell_type": "code",
   "execution_count": 7,
   "metadata": {
    "slideshow": {
     "slide_type": "subslide"
    }
   },
   "outputs": [
    {
     "name": "stderr",
     "output_type": "stream",
     "text": [
      "Tokenization: 100%|██████████| 2/2 [00:00<00:00, 2528.21it/s]\n",
      "Inference: 100%|██████████| 1/1 [00:00<00:00,  1.19it/s]\n",
      "Tokenization: 100%|██████████| 2/2 [00:00<00:00, 5729.92it/s]\n",
      "Inference: 100%|██████████| 1/1 [00:00<00:00,  1.19it/s]\n"
     ]
    }
   ],
   "source": [
    "# Disable sentence segmentation\n",
    "pos = pos_driver(ws, use_delim=False)\n",
    "\n",
    "# Use new line characters and tabs for sentence segmentation\n",
    "pos = pos_driver(ws, delim_set='\\n\\t')"
   ]
  },
  {
   "cell_type": "markdown",
   "metadata": {
    "slideshow": {
     "slide_type": "subslide"
    }
   },
   "source": [
    "- A quick comparison of the results based on `jieba` and `ckip-transomers`:"
   ]
  },
  {
   "cell_type": "code",
   "execution_count": 26,
   "metadata": {
    "code_folding": [],
    "slideshow": {
     "slide_type": "subslide"
    }
   },
   "outputs": [
    {
     "name": "stdout",
     "output_type": "stream",
     "text": [
      "\n",
      " | 高速公路 | 局說 | ， | 目前 | 在 | 國道 | 3 | 號 | 北向 | 水上 | 系統 | 至 | 中埔 | 路段 | 車多 | 壅塞 | ， | 已回 | 堵約 | 3 | 公里 | 。 | 另外 | ， | 國道 | 1 | 號 | 北向 | 仁德 | 至 | 永康 | 路段 | 路段 | ， | 已回 | 堵 | 約 | 有 | 7 | 公里 | 。 | 建議 | 駕駛人 | 提前 | 避開 | 壅塞 | 路段 | 改道 | 行駛 | ， | 行經車 | 多 | 路段 | 請 | 保持 | 行車 | 安全 | 距離 | ， | 小心 | 行駛 | 。 | \n",
      " | 國道 | 車多 | 壅塞 | 路段 | 還有國 | 1 | 內湖 | - | 五堵 | 北向 | 路段 | 、 | 楊梅 | - | 新竹 | 南向 | 路段 | ； | 國 | 3 | 三鶯 | - | 關 | 西服 | 務區 | 南向 | 路段 | 、 | 快官 | - | 霧峰 | 南向 | 路段 | 、 | 水上 | 系統 | - | 中埔 | 北向 | 路段 | ； | 國 | 6 | 霧峰 | 系統 | - | 東 | 草屯 | 東向 | 路段 | 、 | 國 | 10 | 燕巢 | - | 燕巢 | 系統 | 東向 | 路段 | 。 | \n",
      "\n"
     ]
    }
   ],
   "source": [
    "print(' | '.join(text_jb))"
   ]
  },
  {
   "cell_type": "code",
   "execution_count": 11,
   "metadata": {
    "slideshow": {
     "slide_type": "subslide"
    }
   },
   "outputs": [
    {
     "name": "stdout",
     "output_type": "stream",
     "text": [
      "高速 | 公路局 | 說 | ， | 目前 | 在 | 國道 | 3號 | 北向 | 水上 | 系統 | 至 | 中埔 | 路段 | 車 | 多 | 壅塞 | ， | 已 | 回堵 | 約 | 3 | 公里 | 。 | 另外 | ， | 國道 | 1號 | 北 | 向 | 仁德 | 至 | 永康 | 路段 | 路段 | ， | 已 | 回堵 | 約 | 有 | 7 | 公里 | 。 | 建議 | 駕駛人 | 提前 | 避開 | 壅塞 | 路段 | 改道 | 行駛 | ， | 行經 | 車 | 多 | 路段 | 請 | 保持 | 行車 | 安全 | 距離 | ， | 小心 | 行駛 | 。\n",
      "\n",
      "國道 | 車 | 多 | 壅塞 | 路段 | 還 | 有 | 國1 | 內湖 | - | 五堵 | 北向 | 路段 | 、 | 楊梅 | - | 新竹 | 南向 | 路段 | ； | 國3 | 三鶯 | - | 關西 | 服務區 | 南向 | 路段 | 、 | 快官 | - | 霧峰 | 南向 | 路段 | 、 | 水上 | 系統 | - | 中埔 | 北向 | 路段 | ； | 國6 | 霧峰 | 系統 | - | 東 | 草屯 | 東向 | 路段 | 、 | 國10 | 燕巢 | - | 燕巢 | 系統 | 東向 | 路段 | 。\n"
     ]
    }
   ],
   "source": [
    "print( '\\n\\n'.join([' | '.join(p) for p in ws]))"
   ]
  },
  {
   "cell_type": "code",
   "execution_count": 12,
   "metadata": {
    "slideshow": {
     "slide_type": "subslide"
    }
   },
   "outputs": [],
   "source": [
    "# Pack word segmentation and part-of-speech results\n",
    "def pack_ws_pos_sentece(sentence_ws, sentence_pos):\n",
    "   assert len(sentence_ws) == len(sentence_pos)\n",
    "   res = []\n",
    "   for word_ws, word_pos in zip(sentence_ws, sentence_pos):\n",
    "      res.append(f'{word_ws}({word_pos})')\n",
    "   return '\\u3000'.join(res)"
   ]
  },
  {
   "cell_type": "code",
   "execution_count": 13,
   "metadata": {
    "scrolled": true,
    "slideshow": {
     "slide_type": "subslide"
    }
   },
   "outputs": [
    {
     "name": "stdout",
     "output_type": "stream",
     "text": [
      "高速公路局說，目前在國道3號北向水上系統至中埔路段車多壅塞，已回堵約3公里。另外，國道1號北向仁德至永康路段路段，已回堵約有7公里。建議駕駛人提前避開壅塞路段改道行駛，行經車多路段請保持行車安全距離，小心行駛。\n",
      "高速(VH)　公路局(Nc)　說(VE)　，(COMMACATEGORY)　目前(Nd)　在(P)　國道(Nc)　3號(Neu)　北向(Nc)　水上(Nc)　系統(Na)　至(Caa)　中埔(Nc)　路段(Na)　車(Na)　多(D)　壅塞(VH)　，(COMMACATEGORY)　已(D)　回堵(VC)　約(Da)　3(Neu)　公里(Nf)　。(PERIODCATEGORY)　另外(Cbb)　，(COMMACATEGORY)　國道(Nc)　1號(Nc)　北(Ncd)　向(P)　仁德(Nc)　至(Caa)　永康(Nc)　路段(Na)　路段(Na)　，(COMMACATEGORY)　已(D)　回堵(VC)　約(Da)　有(V_2)　7(Neu)　公里(Nf)　。(PERIODCATEGORY)　建議(VE)　駕駛人(Na)　提前(VB)　避開(VC)　壅塞(VH)　路段(Na)　改道(VA)　行駛(VA)　，(COMMACATEGORY)　行經(VCL)　車(Na)　多(VH)　路段(Na)　請(VF)　保持(VJ)　行車(VA)　安全(VH)　距離(Na)　，(COMMACATEGORY)　小心(VK)　行駛(VA)　。(PERIODCATEGORY)\n",
      "NerToken(word='高速公路局', ner='ORG', idx=(0, 5))\n",
      "NerToken(word='國道3號', ner='FAC', idx=(10, 14))\n",
      "NerToken(word='中埔', ner='GPE', idx=(21, 23))\n",
      "NerToken(word='3公里', ner='QUANTITY', idx=(34, 37))\n",
      "NerToken(word='國道1號', ner='FAC', idx=(41, 45))\n",
      "NerToken(word='仁德', ner='GPE', idx=(47, 49))\n",
      "NerToken(word='永康路段', ner='FAC', idx=(50, 54))\n",
      "NerToken(word='7公里', ner='QUANTITY', idx=(62, 65))\n",
      "\n",
      "國道車多壅塞路段還有國1內湖-五堵北向路段、楊梅-新竹南向路段；國3三鶯-關西服務區南向路段、快官-霧峰南向路段、水上系統-中埔北向路段；國6霧峰系統-東草屯東向路段、國10燕巢-燕巢系統東向路段。\n",
      "國道(Na)　車(Na)　多(VH)　壅塞(VH)　路段(Na)　還(D)　有(V_2)　國1(Na)　內湖(Nc)　-(DASHCATEGORY)　五堵(Nc)　北向(Na)　路段(Na)　、(PAUSECATEGORY)　楊梅(Nc)　-(DASHCATEGORY)　新竹(Nc)　南向(Na)　路段(Na)　；(SEMICOLONCATEGORY)　國3(Na)　三鶯(Nc)　-(DASHCATEGORY)　關西(Nc)　服務區(Nc)　南向(A)　路段(Na)　、(PAUSECATEGORY)　快官(Na)　-(DASHCATEGORY)　霧峰(Nc)　南向(Nc)　路段(Na)　、(PAUSECATEGORY)　水上(Nc)　系統(Na)　-(DASHCATEGORY)　中埔(Nc)　北向(Na)　路段(Na)　；(SEMICOLONCATEGORY)　國6(Na)　霧峰(Nc)　系統(Na)　-(DASHCATEGORY)　東(Ncd)　草屯(Nc)　東向(Na)　路段(Na)　、(PAUSECATEGORY)　國10(Na)　燕巢(Nc)　-(DASHCATEGORY)　燕巢(Nc)　系統(Na)　東向(VH)　路段(Na)　。(PERIODCATEGORY)\n",
      "NerToken(word='國道', ner='FAC', idx=(0, 2))\n",
      "NerToken(word='國3三鶯-關西服務區', ner='FAC', idx=(32, 42))\n",
      "NerToken(word='中埔', ner='GPE', idx=(62, 64))\n",
      "NerToken(word='國6霧峰系統', ner='FAC', idx=(69, 75))\n",
      "NerToken(word='東草屯東向路段', ner='FAC', idx=(76, 83))\n",
      "NerToken(word='國10燕巢-燕巢系統', ner='FAC', idx=(84, 94))\n",
      "\n"
     ]
    }
   ],
   "source": [
    "# Show results\n",
    "for sentence, sentence_ws, sentence_pos, sentence_ner in zip(text, ws, pos, ner):\n",
    "   print(sentence)\n",
    "   print(pack_ws_pos_sentece(sentence_ws, sentence_pos))\n",
    "   for entity in sentence_ner:\n",
    "      print(entity)\n",
    "   print()"
   ]
  },
  {
   "cell_type": "markdown",
   "metadata": {
    "slideshow": {
     "slide_type": "slide"
    }
   },
   "source": [
    "## Challenges of Word Segmentation"
   ]
  },
  {
   "cell_type": "code",
   "execution_count": 14,
   "metadata": {
    "slideshow": {
     "slide_type": "subslide"
    }
   },
   "outputs": [
    {
     "name": "stderr",
     "output_type": "stream",
     "text": [
      "Tokenization: 100%|██████████| 5/5 [00:00<00:00, 14285.78it/s]\n",
      "Inference: 100%|██████████| 1/1 [00:00<00:00,  1.98it/s]\n",
      "Tokenization: 100%|██████████| 5/5 [00:00<00:00, 16994.75it/s]\n",
      "Inference: 100%|██████████| 1/1 [00:00<00:00,  2.02it/s]\n",
      "Tokenization: 100%|██████████| 5/5 [00:00<00:00, 14747.90it/s]\n",
      "Inference: 100%|██████████| 1/1 [00:00<00:00,  1.93it/s]\n"
     ]
    }
   ],
   "source": [
    "text2 = [\n",
    "    \"女人沒有她男人甚麼也不是\",\n",
    "    \"女人沒有了男人將會一無所有\",\n",
    "    \"下雨天留客天留我不留\",\n",
    "    \"行路人等不得在此大小便\",\n",
    "    \"兒的生活好痛苦一點也沒有糧食多病少掙了很多錢\",\n",
    "]\n",
    "ws2  = ws_driver(text2)\n",
    "pos2 = pos_driver(ws2)\n",
    "ner2 = ner_driver(text2)"
   ]
  },
  {
   "cell_type": "code",
   "execution_count": 15,
   "metadata": {
    "slideshow": {
     "slide_type": "subslide"
    }
   },
   "outputs": [
    {
     "name": "stdout",
     "output_type": "stream",
     "text": [
      "女人沒有她男人甚麼也不是\n",
      "女人(Na)　沒有(VJ)　她(Nh)　男人(Na)　甚麼(Nep)　也(D)　不(D)　是(SHI)\n",
      "\n",
      "女人沒有了男人將會一無所有\n",
      "女人(Na)　沒有(VJ)　了(Di)　男人(Na)　將(D)　會(D)　一無所有(VH)\n",
      "\n",
      "下雨天留客天留我不留\n",
      "下雨天(Nd)　留(VC)　客(Na)　天(Na)　留(VC)　我(Nh)　不(D)　留(VC)\n",
      "\n",
      "行路人等不得在此大小便\n",
      "行路人(Na)　等(Cab)　不得(D)　在(P)　此(Nep)　大小便(VA)\n",
      "\n",
      "兒的生活好痛苦一點也沒有糧食多病少掙了很多錢\n",
      "兒(Na)　的(DE)　生活(Na)　好(Dfa)　痛苦(VH)　一點(Neqa)　也(D)　沒有(VJ)　糧食(Na)　多(VH)　病(Na)　少(VH)　掙(VC)　了(Di)　很多(Neqa)　錢(Na)\n",
      "\n"
     ]
    }
   ],
   "source": [
    "# Show results\n",
    "for sentence, sentence_ws, sentence_pos, sentence_ner in zip(text2, ws2, pos2, ner2):\n",
    "   print(sentence)\n",
    "   print(pack_ws_pos_sentece(sentence_ws, sentence_pos))\n",
    "   for entity in sentence_ner:\n",
    "      print(entity)\n",
    "   print()"
   ]
  },
  {
   "cell_type": "markdown",
   "metadata": {
    "slideshow": {
     "slide_type": "subslide"
    }
   },
   "source": [
    "```{tip}\n",
    "It is still not clear to me how we can include user-defined dictionary in the `ckip-transformers`. However, I know that it is possible to use self-defined dictionary in the `ckiptagger`. \n",
    "\n",
    "If you know where and how to incorporate self-defined dictionary in the `ckip-transformers`, please let me know. Thanks!\n",
    "\n",
    "```"
   ]
  },
  {
   "cell_type": "markdown",
   "metadata": {
    "slideshow": {
     "slide_type": "slide"
    }
   },
   "source": [
    "## Other Modules for Chinese Word Segmentation"
   ]
  },
  {
   "cell_type": "markdown",
   "metadata": {
    "slideshow": {
     "slide_type": "subslide"
    }
   },
   "source": [
    "- You can try other modules and check their segmentation results and qualities:\n",
    "    - [`ckiptagger`](https://github.com/ckiplab/ckiptagger) (Probably the predecessor of `ckip-transformers`?) \n",
    "    - [`pkuseg`](https://github.com/lancopku/pkuseg-python)\n",
    "    - [`pyhanlp`](https://github.com/hankcs/pyhanlp)\n",
    "    - [`snownlp`](https://github.com/isnowfy/snownlp)\n",
    "- When you play with other segmenters, please note a few important issues for determining the segmenter for your project:\n",
    "    - Most of the segmenters were trained based on the simplified Chinese.\n",
    "    - It is important to know if the segmenter allows users to add self-defined dictionary to improve segmentation performance.\n",
    "    - The documentation of the tagsets (i.e., POS, NER) needs to be well-maintained so that users can easily utilize the segmentation results for later downstream projects.\n",
    "    "
   ]
  },
  {
   "cell_type": "markdown",
   "metadata": {
    "slideshow": {
     "slide_type": "slide"
    }
   },
   "source": [
    "## Chinese NLP Using `spacy` "
   ]
  },
  {
   "cell_type": "markdown",
   "metadata": {
    "slideshow": {
     "slide_type": "subslide"
    }
   },
   "source": [
    "- `spacy 3+` starts to support transformer-based NLP. Please make sure you have the most recent version of the module.\n",
    "\n",
    "```\n",
    "$ pip show spacy\n",
    "```\n",
    "\n",
    "\n",
    "- Documentation of [`spacy`](https://spacy.io/usage#quickstart)\n",
    "- Installation steps:\n",
    "\n",
    "```\n",
    "$ pip install -U pip setuptools wheel\n",
    "$ pip install -U spacy\n",
    "$ python -m spacy download zh_core_web_trf\n",
    "$ python -m spacy download zh_core_web_sm\n",
    "$ python -m spacy download en_core_web_trf\n",
    "$ python -m spacy download en_core_web_sm\n",
    "```\n",
    "\n",
    "- `spacy` provides a good API to help users install the package. Please set up the relevant parameters according to the API and find your own installation codes."
   ]
  },
  {
   "cell_type": "markdown",
   "metadata": {
    "slideshow": {
     "slide_type": "subslide"
    }
   },
   "source": [
    "---\n",
    "![](../images/spacy-install.png)\n",
    "\n",
    "---"
   ]
  },
  {
   "cell_type": "code",
   "execution_count": 16,
   "metadata": {
    "slideshow": {
     "slide_type": "subslide"
    }
   },
   "outputs": [],
   "source": [
    "import spacy\n",
    "from spacy import displacy\n",
    "# load language model\n",
    "nlp_zh = spacy.load('zh_core_web_trf')## disable=[\"parser\"]\n",
    "# parse text \n",
    "doc = nlp_zh('這是一個中文的句子')"
   ]
  },
  {
   "cell_type": "markdown",
   "metadata": {
    "slideshow": {
     "slide_type": "subslide"
    }
   },
   "source": [
    "```{note}\n",
    "For more information on POS tags, see spaCy [POS tag scheme documentation](https://spacy.io/api/annotation#pos-tagging).\n",
    "\n",
    "```"
   ]
  },
  {
   "cell_type": "code",
   "execution_count": 17,
   "metadata": {
    "slideshow": {
     "slide_type": "subslide"
    }
   },
   "outputs": [
    {
     "name": "stdout",
     "output_type": "stream",
     "text": [
      "('這', 'PRON', 'PN', 'ROOT', True, False)\n",
      "('是', 'VERB', 'VC', 'cop', True, True)\n",
      "('一', 'NUM', 'CD', 'dep', True, True)\n",
      "('個', 'NUM', 'M', 'mark:clf', True, False)\n",
      "('中文', 'NOUN', 'NN', 'nmod:assmod', True, False)\n",
      "('的', 'PART', 'DEG', 'case', True, True)\n",
      "('句子', 'NOUN', 'NN', 'ROOT', True, False)\n"
     ]
    }
   ],
   "source": [
    "# parts of speech tagging\n",
    "for token in doc:\n",
    "    print(((token.text, \n",
    "            token.pos_, \n",
    "            token.tag_,\n",
    "            token.dep_,\n",
    "            token.is_alpha,\n",
    "            token.is_stop,\n",
    "            )))"
   ]
  },
  {
   "cell_type": "code",
   "execution_count": 18,
   "metadata": {
    "slideshow": {
     "slide_type": "subslide"
    }
   },
   "outputs": [
    {
     "data": {
      "text/plain": [
       "'這_PN | 是_VC | 一_CD | 個_M | 中文_NN | 的_DEG | 句子_NN'"
      ]
     },
     "execution_count": 18,
     "metadata": {},
     "output_type": "execute_result"
    }
   ],
   "source": [
    "' | '.join([token.text+\"_\"+token.tag_ for token in doc])"
   ]
  },
  {
   "cell_type": "code",
   "execution_count": 19,
   "metadata": {
    "slideshow": {
     "slide_type": "subslide"
    }
   },
   "outputs": [],
   "source": [
    "## Check meaning of a POS tag (Not working??)\n",
    "spacy.explain('VC')"
   ]
  },
  {
   "cell_type": "markdown",
   "metadata": {
    "slideshow": {
     "slide_type": "slide"
    }
   },
   "source": [
    "### Visualizing linguistic features"
   ]
  },
  {
   "cell_type": "code",
   "execution_count": 20,
   "metadata": {
    "slideshow": {
     "slide_type": "subslide"
    }
   },
   "outputs": [
    {
     "data": {
      "text/html": [
       "<span class=\"tex2jax_ignore\"><svg xmlns=\"http://www.w3.org/2000/svg\" xmlns:xlink=\"http://www.w3.org/1999/xlink\" xml:lang=\"zh\" id=\"05ec526e581a4aa9b0ad3ededbc2d45d-0\" class=\"displacy\" width=\"1275\" height=\"399.5\" direction=\"ltr\" style=\"max-width: none; height: 399.5px; color: #000000; background: #ffffff; font-family: Arial; direction: ltr\">\n",
       "<text class=\"displacy-token\" fill=\"currentColor\" text-anchor=\"middle\" y=\"309.5\">\n",
       "    <tspan class=\"displacy-word\" fill=\"currentColor\" x=\"50\">這</tspan>\n",
       "    <tspan class=\"displacy-tag\" dy=\"2em\" fill=\"currentColor\" x=\"50\">PRON</tspan>\n",
       "</text>\n",
       "\n",
       "<text class=\"displacy-token\" fill=\"currentColor\" text-anchor=\"middle\" y=\"309.5\">\n",
       "    <tspan class=\"displacy-word\" fill=\"currentColor\" x=\"225\">是</tspan>\n",
       "    <tspan class=\"displacy-tag\" dy=\"2em\" fill=\"currentColor\" x=\"225\">VERB</tspan>\n",
       "</text>\n",
       "\n",
       "<text class=\"displacy-token\" fill=\"currentColor\" text-anchor=\"middle\" y=\"309.5\">\n",
       "    <tspan class=\"displacy-word\" fill=\"currentColor\" x=\"400\">一</tspan>\n",
       "    <tspan class=\"displacy-tag\" dy=\"2em\" fill=\"currentColor\" x=\"400\">NUM</tspan>\n",
       "</text>\n",
       "\n",
       "<text class=\"displacy-token\" fill=\"currentColor\" text-anchor=\"middle\" y=\"309.5\">\n",
       "    <tspan class=\"displacy-word\" fill=\"currentColor\" x=\"575\">個</tspan>\n",
       "    <tspan class=\"displacy-tag\" dy=\"2em\" fill=\"currentColor\" x=\"575\">NUM</tspan>\n",
       "</text>\n",
       "\n",
       "<text class=\"displacy-token\" fill=\"currentColor\" text-anchor=\"middle\" y=\"309.5\">\n",
       "    <tspan class=\"displacy-word\" fill=\"currentColor\" x=\"750\">中文</tspan>\n",
       "    <tspan class=\"displacy-tag\" dy=\"2em\" fill=\"currentColor\" x=\"750\">NOUN</tspan>\n",
       "</text>\n",
       "\n",
       "<text class=\"displacy-token\" fill=\"currentColor\" text-anchor=\"middle\" y=\"309.5\">\n",
       "    <tspan class=\"displacy-word\" fill=\"currentColor\" x=\"925\">的</tspan>\n",
       "    <tspan class=\"displacy-tag\" dy=\"2em\" fill=\"currentColor\" x=\"925\">PART</tspan>\n",
       "</text>\n",
       "\n",
       "<text class=\"displacy-token\" fill=\"currentColor\" text-anchor=\"middle\" y=\"309.5\">\n",
       "    <tspan class=\"displacy-word\" fill=\"currentColor\" x=\"1100\">句子</tspan>\n",
       "    <tspan class=\"displacy-tag\" dy=\"2em\" fill=\"currentColor\" x=\"1100\">NOUN</tspan>\n",
       "</text>\n",
       "\n",
       "<g class=\"displacy-arrow\">\n",
       "    <path class=\"displacy-arc\" id=\"arrow-05ec526e581a4aa9b0ad3ededbc2d45d-0-0\" stroke-width=\"2px\" d=\"M245,264.5 C245,2.0 1100.0,2.0 1100.0,264.5\" fill=\"none\" stroke=\"currentColor\"/>\n",
       "    <text dy=\"1.25em\" style=\"font-size: 0.8em; letter-spacing: 1px\">\n",
       "        <textPath xlink:href=\"#arrow-05ec526e581a4aa9b0ad3ededbc2d45d-0-0\" class=\"displacy-label\" startOffset=\"50%\" side=\"left\" fill=\"currentColor\" text-anchor=\"middle\">cop</textPath>\n",
       "    </text>\n",
       "    <path class=\"displacy-arrowhead\" d=\"M245,266.5 L237,254.5 253,254.5\" fill=\"currentColor\"/>\n",
       "</g>\n",
       "\n",
       "<g class=\"displacy-arrow\">\n",
       "    <path class=\"displacy-arc\" id=\"arrow-05ec526e581a4aa9b0ad3ededbc2d45d-0-1\" stroke-width=\"2px\" d=\"M245,264.5 C245,177.0 390.0,177.0 390.0,264.5\" fill=\"none\" stroke=\"currentColor\"/>\n",
       "    <text dy=\"1.25em\" style=\"font-size: 0.8em; letter-spacing: 1px\">\n",
       "        <textPath xlink:href=\"#arrow-05ec526e581a4aa9b0ad3ededbc2d45d-0-1\" class=\"displacy-label\" startOffset=\"50%\" side=\"left\" fill=\"currentColor\" text-anchor=\"middle\">dep</textPath>\n",
       "    </text>\n",
       "    <path class=\"displacy-arrowhead\" d=\"M390.0,266.5 L398.0,254.5 382.0,254.5\" fill=\"currentColor\"/>\n",
       "</g>\n",
       "\n",
       "<g class=\"displacy-arrow\">\n",
       "    <path class=\"displacy-arc\" id=\"arrow-05ec526e581a4aa9b0ad3ededbc2d45d-0-2\" stroke-width=\"2px\" d=\"M420,264.5 C420,177.0 565.0,177.0 565.0,264.5\" fill=\"none\" stroke=\"currentColor\"/>\n",
       "    <text dy=\"1.25em\" style=\"font-size: 0.8em; letter-spacing: 1px\">\n",
       "        <textPath xlink:href=\"#arrow-05ec526e581a4aa9b0ad3ededbc2d45d-0-2\" class=\"displacy-label\" startOffset=\"50%\" side=\"left\" fill=\"currentColor\" text-anchor=\"middle\">mark:clf</textPath>\n",
       "    </text>\n",
       "    <path class=\"displacy-arrowhead\" d=\"M565.0,266.5 L573.0,254.5 557.0,254.5\" fill=\"currentColor\"/>\n",
       "</g>\n",
       "\n",
       "<g class=\"displacy-arrow\">\n",
       "    <path class=\"displacy-arc\" id=\"arrow-05ec526e581a4aa9b0ad3ededbc2d45d-0-3\" stroke-width=\"2px\" d=\"M770,264.5 C770,89.5 1095.0,89.5 1095.0,264.5\" fill=\"none\" stroke=\"currentColor\"/>\n",
       "    <text dy=\"1.25em\" style=\"font-size: 0.8em; letter-spacing: 1px\">\n",
       "        <textPath xlink:href=\"#arrow-05ec526e581a4aa9b0ad3ededbc2d45d-0-3\" class=\"displacy-label\" startOffset=\"50%\" side=\"left\" fill=\"currentColor\" text-anchor=\"middle\">nmod:assmod</textPath>\n",
       "    </text>\n",
       "    <path class=\"displacy-arrowhead\" d=\"M770,266.5 L762,254.5 778,254.5\" fill=\"currentColor\"/>\n",
       "</g>\n",
       "\n",
       "<g class=\"displacy-arrow\">\n",
       "    <path class=\"displacy-arc\" id=\"arrow-05ec526e581a4aa9b0ad3ededbc2d45d-0-4\" stroke-width=\"2px\" d=\"M770,264.5 C770,177.0 915.0,177.0 915.0,264.5\" fill=\"none\" stroke=\"currentColor\"/>\n",
       "    <text dy=\"1.25em\" style=\"font-size: 0.8em; letter-spacing: 1px\">\n",
       "        <textPath xlink:href=\"#arrow-05ec526e581a4aa9b0ad3ededbc2d45d-0-4\" class=\"displacy-label\" startOffset=\"50%\" side=\"left\" fill=\"currentColor\" text-anchor=\"middle\">case</textPath>\n",
       "    </text>\n",
       "    <path class=\"displacy-arrowhead\" d=\"M915.0,266.5 L923.0,254.5 907.0,254.5\" fill=\"currentColor\"/>\n",
       "</g>\n",
       "</svg></span>"
      ],
      "text/plain": [
       "<IPython.core.display.HTML object>"
      ]
     },
     "metadata": {},
     "output_type": "display_data"
    }
   ],
   "source": [
    "# Visualize\n",
    "displacy.render(doc, style=\"dep\")"
   ]
  },
  {
   "cell_type": "code",
   "execution_count": 21,
   "metadata": {
    "slideshow": {
     "slide_type": "subslide"
    }
   },
   "outputs": [
    {
     "data": {
      "text/html": [
       "<span class=\"tex2jax_ignore\"><svg xmlns=\"http://www.w3.org/2000/svg\" xmlns:xlink=\"http://www.w3.org/1999/xlink\" xml:lang=\"zh\" id=\"8c18d1e87056423289f66743f35271f5-0\" class=\"displacy\" width=\"890\" height=\"317.0\" direction=\"ltr\" style=\"max-width: none; height: 317.0px; color: white; background: #09a3d5; font-family: Source Sans Pro; direction: ltr\">\n",
       "<text class=\"displacy-token\" fill=\"currentColor\" text-anchor=\"middle\" y=\"227.0\">\n",
       "    <tspan class=\"displacy-word\" fill=\"currentColor\" x=\"50\">這</tspan>\n",
       "    <tspan class=\"displacy-tag\" dy=\"2em\" fill=\"currentColor\" x=\"50\">PRON</tspan>\n",
       "</text>\n",
       "\n",
       "<text class=\"displacy-token\" fill=\"currentColor\" text-anchor=\"middle\" y=\"227.0\">\n",
       "    <tspan class=\"displacy-word\" fill=\"currentColor\" x=\"170\">是</tspan>\n",
       "    <tspan class=\"displacy-tag\" dy=\"2em\" fill=\"currentColor\" x=\"170\">VERB</tspan>\n",
       "</text>\n",
       "\n",
       "<text class=\"displacy-token\" fill=\"currentColor\" text-anchor=\"middle\" y=\"227.0\">\n",
       "    <tspan class=\"displacy-word\" fill=\"currentColor\" x=\"290\">一</tspan>\n",
       "    <tspan class=\"displacy-tag\" dy=\"2em\" fill=\"currentColor\" x=\"290\">NUM</tspan>\n",
       "</text>\n",
       "\n",
       "<text class=\"displacy-token\" fill=\"currentColor\" text-anchor=\"middle\" y=\"227.0\">\n",
       "    <tspan class=\"displacy-word\" fill=\"currentColor\" x=\"410\">個</tspan>\n",
       "    <tspan class=\"displacy-tag\" dy=\"2em\" fill=\"currentColor\" x=\"410\">NUM</tspan>\n",
       "</text>\n",
       "\n",
       "<text class=\"displacy-token\" fill=\"currentColor\" text-anchor=\"middle\" y=\"227.0\">\n",
       "    <tspan class=\"displacy-word\" fill=\"currentColor\" x=\"530\">中文</tspan>\n",
       "    <tspan class=\"displacy-tag\" dy=\"2em\" fill=\"currentColor\" x=\"530\">NOUN</tspan>\n",
       "</text>\n",
       "\n",
       "<text class=\"displacy-token\" fill=\"currentColor\" text-anchor=\"middle\" y=\"227.0\">\n",
       "    <tspan class=\"displacy-word\" fill=\"currentColor\" x=\"650\">的</tspan>\n",
       "    <tspan class=\"displacy-tag\" dy=\"2em\" fill=\"currentColor\" x=\"650\">PART</tspan>\n",
       "</text>\n",
       "\n",
       "<text class=\"displacy-token\" fill=\"currentColor\" text-anchor=\"middle\" y=\"227.0\">\n",
       "    <tspan class=\"displacy-word\" fill=\"currentColor\" x=\"770\">句子</tspan>\n",
       "    <tspan class=\"displacy-tag\" dy=\"2em\" fill=\"currentColor\" x=\"770\">NOUN</tspan>\n",
       "</text>\n",
       "\n",
       "<g class=\"displacy-arrow\">\n",
       "    <path class=\"displacy-arc\" id=\"arrow-8c18d1e87056423289f66743f35271f5-0-0\" stroke-width=\"2px\" d=\"M182,182.0 182,122.0 770.0,122.0 770.0,182.0\" fill=\"none\" stroke=\"currentColor\"/>\n",
       "    <text dy=\"1.25em\" style=\"font-size: 0.8em; letter-spacing: 1px\">\n",
       "        <textPath xlink:href=\"#arrow-8c18d1e87056423289f66743f35271f5-0-0\" class=\"displacy-label\" startOffset=\"50%\" side=\"left\" fill=\"currentColor\" text-anchor=\"middle\">cop</textPath>\n",
       "    </text>\n",
       "    <path class=\"displacy-arrowhead\" d=\"M182,184.0 L178,176.0 186,176.0\" fill=\"currentColor\"/>\n",
       "</g>\n",
       "\n",
       "<g class=\"displacy-arrow\">\n",
       "    <path class=\"displacy-arc\" id=\"arrow-8c18d1e87056423289f66743f35271f5-0-1\" stroke-width=\"2px\" d=\"M182,182.0 182,162.0 284.0,162.0 284.0,182.0\" fill=\"none\" stroke=\"currentColor\"/>\n",
       "    <text dy=\"1.25em\" style=\"font-size: 0.8em; letter-spacing: 1px\">\n",
       "        <textPath xlink:href=\"#arrow-8c18d1e87056423289f66743f35271f5-0-1\" class=\"displacy-label\" startOffset=\"50%\" side=\"left\" fill=\"currentColor\" text-anchor=\"middle\">dep</textPath>\n",
       "    </text>\n",
       "    <path class=\"displacy-arrowhead\" d=\"M284.0,184.0 L288.0,176.0 280.0,176.0\" fill=\"currentColor\"/>\n",
       "</g>\n",
       "\n",
       "<g class=\"displacy-arrow\">\n",
       "    <path class=\"displacy-arc\" id=\"arrow-8c18d1e87056423289f66743f35271f5-0-2\" stroke-width=\"2px\" d=\"M302,182.0 302,162.0 404.0,162.0 404.0,182.0\" fill=\"none\" stroke=\"currentColor\"/>\n",
       "    <text dy=\"1.25em\" style=\"font-size: 0.8em; letter-spacing: 1px\">\n",
       "        <textPath xlink:href=\"#arrow-8c18d1e87056423289f66743f35271f5-0-2\" class=\"displacy-label\" startOffset=\"50%\" side=\"left\" fill=\"currentColor\" text-anchor=\"middle\">mark:clf</textPath>\n",
       "    </text>\n",
       "    <path class=\"displacy-arrowhead\" d=\"M404.0,184.0 L408.0,176.0 400.0,176.0\" fill=\"currentColor\"/>\n",
       "</g>\n",
       "\n",
       "<g class=\"displacy-arrow\">\n",
       "    <path class=\"displacy-arc\" id=\"arrow-8c18d1e87056423289f66743f35271f5-0-3\" stroke-width=\"2px\" d=\"M542,182.0 542,142.0 767.0,142.0 767.0,182.0\" fill=\"none\" stroke=\"currentColor\"/>\n",
       "    <text dy=\"1.25em\" style=\"font-size: 0.8em; letter-spacing: 1px\">\n",
       "        <textPath xlink:href=\"#arrow-8c18d1e87056423289f66743f35271f5-0-3\" class=\"displacy-label\" startOffset=\"50%\" side=\"left\" fill=\"currentColor\" text-anchor=\"middle\">nmod:assmod</textPath>\n",
       "    </text>\n",
       "    <path class=\"displacy-arrowhead\" d=\"M542,184.0 L538,176.0 546,176.0\" fill=\"currentColor\"/>\n",
       "</g>\n",
       "\n",
       "<g class=\"displacy-arrow\">\n",
       "    <path class=\"displacy-arc\" id=\"arrow-8c18d1e87056423289f66743f35271f5-0-4\" stroke-width=\"2px\" d=\"M542,182.0 542,162.0 644.0,162.0 644.0,182.0\" fill=\"none\" stroke=\"currentColor\"/>\n",
       "    <text dy=\"1.25em\" style=\"font-size: 0.8em; letter-spacing: 1px\">\n",
       "        <textPath xlink:href=\"#arrow-8c18d1e87056423289f66743f35271f5-0-4\" class=\"displacy-label\" startOffset=\"50%\" side=\"left\" fill=\"currentColor\" text-anchor=\"middle\">case</textPath>\n",
       "    </text>\n",
       "    <path class=\"displacy-arrowhead\" d=\"M644.0,184.0 L648.0,176.0 640.0,176.0\" fill=\"currentColor\"/>\n",
       "</g>\n",
       "</svg></span>"
      ],
      "text/plain": [
       "<IPython.core.display.HTML object>"
      ]
     },
     "metadata": {},
     "output_type": "display_data"
    }
   ],
   "source": [
    "options = {\"compact\": True, \"bg\": \"#09a3d5\",\n",
    "           \"color\": \"white\", \"font\": \"Source Sans Pro\",\n",
    "          \"distance\": 120}\n",
    "displacy.render(doc, style=\"dep\", options=options)"
   ]
  },
  {
   "cell_type": "code",
   "execution_count": 22,
   "metadata": {
    "slideshow": {
     "slide_type": "subslide"
    }
   },
   "outputs": [],
   "source": [
    "doc2 = nlp_zh.pipe(text)"
   ]
  },
  {
   "cell_type": "code",
   "execution_count": 23,
   "metadata": {
    "slideshow": {
     "slide_type": "subslide"
    }
   },
   "outputs": [
    {
     "name": "stdout",
     "output_type": "stream",
     "text": [
      "高速_JJ | 公路_NN | 局說_VV | ，_PU | 目前_NT | 在_P | 國道_NN | 3_OD | 號_NN | 北向_NN | 水上_NR | 系統_NN | 至_CC | 中埔_NR | 路段_NN | 車多_AD | 壅塞_VV | ，_PU | 已_AD | 回_VV | 堵約_AD | 3_CD | 公里_M | 。_PU | 另外_AD | ，_PU | 國道_NN | 1_OD | 號_NN | 北向_NN | 仁德_NR | 至_CC | 永康_NR | 路段_NN | 路段_NN | ，_PU | 已_AD | 回_VV | 堵約_AD | 有_VE | 7_CD | 公里_M | 。_PU | 建議_VV | 駕駛人_NN | 提前_AD | 避開_VV | 壅塞_JJ | 路段_NN | 改道_VV | 行駛_VV | ，_PU | 行經_VV | 車_NN | 多_VA | 路段_NN | 請_VV | 保持_VV | 行車_NN | 安全_JJ | 距離_NN | ，_PU | 小心_AD | 行駛_VV | 。_PU\n",
      "\n",
      "國道_NN | 車多_AD | 壅塞_VA | 路段_NN | 還_VV | 有_VE | 國_NN | 1內湖_NR | -_PU | 五_NR | 堵北_NR | 向_JJ | 路段_NN | 、_PU | 楊梅_NR | -_PU | 新竹_NR | 南向_JJ | 路段_NN | ；_PU | 國3三_NR | 鶯_NR | -_PU | 關西_NR | 服務_NN | 區南_NN | 向_JJ | 路段_NN | 、_PU | 快官_NR | -_PU | 霧峰_NR | 南向_JJ | 路段_NN | 、_PU | 水上_NR | 系統_NN | -_PU | 中_NR | 埔北_NR | 向_JJ | 路段_NN | ；_PU | 國6_OD | 霧峰_NR | 系統_NN | -_PU | 東草_NR | 屯東_NR | 向_JJ | 路段_NN | 、_PU | 國10_NR | 燕巢_NR | -_PU | 燕巢_NR | 系_NN | 統東_NN | 向_JJ | 路段_NN | 。_PU\n",
      "\n"
     ]
    }
   ],
   "source": [
    "for d in doc2:\n",
    "    print(' | '.join([token.text+\"_\"+token.tag_ for token in d])+'\\n')"
   ]
  },
  {
   "cell_type": "markdown",
   "metadata": {
    "slideshow": {
     "slide_type": "subslide"
    }
   },
   "source": [
    "```{tip}\n",
    "Please read the [documentation of `spacy`](https://spacy.io/usage/linguistic-features) very carefully for additional ways to extract other useful linguistic properties.\n",
    "\n",
    "You may need that for the assignments.\n",
    "\n",
    "```"
   ]
  },
  {
   "cell_type": "markdown",
   "metadata": {
    "slideshow": {
     "slide_type": "slide"
    }
   },
   "source": [
    "## Conclusion"
   ]
  },
  {
   "cell_type": "markdown",
   "metadata": {
    "slideshow": {
     "slide_type": "subslide"
    }
   },
   "source": [
    "- Different segmenters have very different behaviors.\n",
    "- The choice of a proper segmenter may boil down to the following crucial questions:\n",
    "    - How do we evaluate the segmenter's performance?\n",
    "    - What is the objective of getting the word boundaries?\n",
    "    - What is a word in Chinese?"
   ]
  }
 ],
 "metadata": {
  "celltoolbar": "Slideshow",
  "kernelspec": {
   "display_name": "python-notes",
   "language": "python",
   "name": "python-notes"
  },
  "language_info": {
   "codemirror_mode": {
    "name": "ipython",
    "version": 3
   },
   "file_extension": ".py",
   "mimetype": "text/x-python",
   "name": "python",
   "nbconvert_exporter": "python",
   "pygments_lexer": "ipython3",
   "version": "3.7.0"
  },
  "toc": {
   "base_numbering": 1,
   "nav_menu": {},
   "number_sections": false,
   "sideBar": true,
   "skip_h1_title": false,
   "title_cell": "Table of Contents",
   "title_sidebar": "Contents",
   "toc_cell": false,
   "toc_position": {
    "height": "calc(100% - 180px)",
    "left": "10px",
    "top": "150px",
    "width": "165px"
   },
   "toc_section_display": true,
   "toc_window_display": false
  },
  "varInspector": {
   "cols": {
    "lenName": 16,
    "lenType": 16,
    "lenVar": 40
   },
   "kernels_config": {
    "python": {
     "delete_cmd_postfix": "",
     "delete_cmd_prefix": "del ",
     "library": "var_list.py",
     "varRefreshCmd": "print(var_dic_list())"
    },
    "r": {
     "delete_cmd_postfix": ") ",
     "delete_cmd_prefix": "rm(",
     "library": "var_list.r",
     "varRefreshCmd": "cat(var_dic_list()) "
    }
   },
   "types_to_exclude": [
    "module",
    "function",
    "builtin_function_or_method",
    "instance",
    "_Feature"
   ],
   "window_display": false
  }
 },
 "nbformat": 4,
 "nbformat_minor": 4
}
