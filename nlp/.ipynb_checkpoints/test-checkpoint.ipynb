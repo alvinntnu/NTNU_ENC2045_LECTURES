{
 "cells": [
  {
   "cell_type": "markdown",
   "metadata": {
    "id": "5Zbl7xHo2krD"
   },
   "source": [
    "# Google Colab"
   ]
  },
  {
   "cell_type": "markdown",
   "metadata": {
    "id": "MCdhAoTp2krL"
   },
   "source": [
    "- As we are working with more and more data, we may need GPU computing for quicker processing.\n",
    "- This lecture note shows how we can capitalize on the free GPU computing provided by Google Colab and speed up the Chinese word segmentation of `ckip-transformers`.\n",
    "- "
   ]
  },
  {
   "cell_type": "markdown",
   "metadata": {
    "id": "VRJzH_XU2krM"
   },
   "source": [
    "## Setup Google Drive"
   ]
  },
  {
   "cell_type": "markdown",
   "metadata": {
    "id": "k7-itI8Q2krM"
   },
   "source": [
    "- Create a working directory under your Google Drive, named `ENC2045_DEMO_DATA`.\n",
    "- Save the corpus files needed in that Google Drive directory."
   ]
  },
  {
   "cell_type": "markdown",
   "metadata": {
    "id": "u6ZDiqI42krN"
   },
   "source": [
    "## Run Notebook in Google Colab"
   ]
  },
  {
   "cell_type": "markdown",
   "metadata": {
    "id": "YDk4haec2krN"
   },
   "source": [
    "- Click on the button on top of the lecture notes website to open this notebook in Google Colab."
   ]
  },
  {
   "cell_type": "markdown",
   "metadata": {
    "id": "lOVRwJrT2krT"
   },
   "source": [
    "## Setting Google Colab Environment"
   ]
  },
  {
   "cell_type": "markdown",
   "metadata": {
    "id": "7JytQ18V2krT"
   },
   "source": [
    "- GPU Setting:\n",
    "    - [Runtime] -> [Change runtime type]\n",
    "    - For [Hardware accelerator], choose [GPU]"
   ]
  },
  {
   "cell_type": "markdown",
   "metadata": {
    "id": "uzIfdRSO2krX"
   },
   "source": [
    "- Install modules that are not installed in the current Google Colab"
   ]
  },
  {
   "cell_type": "code",
   "execution_count": null,
   "metadata": {
    "colab": {
     "base_uri": "https://localhost:8080/"
    },
    "executionInfo": {
     "elapsed": 7558,
     "status": "ok",
     "timestamp": 1616583138475,
     "user": {
      "displayName": "Alvin Chen",
      "photoUrl": "",
      "userId": "12962786962925949010"
     },
     "user_tz": -480
    },
    "id": "KCimeBx82krX",
    "outputId": "78529ffc-b387-4f3a-9461-ed935bb009cd"
   },
   "outputs": [],
   "source": [
    "## Google Drive Setting\n",
    "!pip install ckip-transformers"
   ]
  },
  {
   "cell_type": "markdown",
   "metadata": {
    "id": "KdzK7il_2krT"
   },
   "source": [
    "- Mount Our Google Drive\n",
    "    - After we run the above codes, get the authorization code and copy-paste it to the box."
   ]
  },
  {
   "cell_type": "code",
   "execution_count": null,
   "metadata": {
    "colab": {
     "base_uri": "https://localhost:8080/"
    },
    "executionInfo": {
     "elapsed": 20296,
     "status": "ok",
     "timestamp": 1616583238402,
     "user": {
      "displayName": "Alvin Chen",
      "photoUrl": "",
      "userId": "12962786962925949010"
     },
     "user_tz": -480
    },
    "id": "IFKR7rT12krV",
    "outputId": "05918b10-bc2c-43cb-d652-bba8d9069d0b"
   },
   "outputs": [],
   "source": [
    "from google.colab import drive\n",
    "drive.mount('/content/drive')"
   ]
  },
  {
   "cell_type": "markdown",
   "metadata": {
    "id": "H8sDx0r02krW"
   },
   "source": [
    "- Change Colab working directory to the `ENC2045` of the Google Drive"
   ]
  },
  {
   "cell_type": "code",
   "execution_count": null,
   "metadata": {
    "colab": {
     "base_uri": "https://localhost:8080/"
    },
    "executionInfo": {
     "elapsed": 714,
     "status": "ok",
     "timestamp": 1616583241311,
     "user": {
      "displayName": "Alvin Chen",
      "photoUrl": "",
      "userId": "12962786962925949010"
     },
     "user_tz": -480
    },
    "id": "62EwQTs02krW",
    "outputId": "9362aeda-e432-4e75-cfec-636616b71811"
   },
   "outputs": [],
   "source": [
    "import os\n",
    "os.chdir('/content/drive/MyDrive/ENC2045_demo_data')\n",
    "print(os.getcwd())\n"
   ]
  },
  {
   "cell_type": "markdown",
   "metadata": {
    "id": "U-zJpXzN2krX"
   },
   "source": [
    "## Try `ckip-transformers` with GPU"
   ]
  },
  {
   "cell_type": "markdown",
   "metadata": {
    "id": "J7CeRi7j2krX"
   },
   "source": [
    "### Initialize the `ckip-transformers`"
   ]
  },
  {
   "cell_type": "code",
   "execution_count": null,
   "metadata": {
    "colab": {
     "base_uri": "https://localhost:8080/",
     "height": 511,
     "referenced_widgets": [
      "23649078e8b0411783fb5de22d81fa54",
      "bb0d902942f544cbad07e4578fdba639",
      "ab6bce4c175c47d79396fd701b4e5f38",
      "cc8e8a93a5e34a0ebdac915ca0984ed5",
      "2cf81d3c15664f17a7e586c9095d6024",
      "bc3fb4ab27b64d89b74944f613dfb37e",
      "b0082e3c15b9415f826339b299d9be18",
      "ecbfa3b4939b481fae6e781b77199a04",
      "f771259e26ce451ba1c0826d5ba1495a",
      "bac7d75cacff4f6e9116954170707b00",
      "caa1157eaf5c485082c69b63eed12856",
      "32ae25dbe87f423f8249a8544cf85761",
      "c9cfd287a22b423cb38a8efb013bbb37",
      "8c631b293a264b51a82f6bac515087d7",
      "d2936778da6a4fcdaf086210293ea8da",
      "ee762948d6fe426983b2768963b46c23",
      "d78419edf7a3419290ca87b2a0c86567",
      "7a71af74d3694561981c9644bd3b4941",
      "3b7e2ee7fb714d95ae77f41ff8c35aca",
      "ce50fbe2047741d389074fef352a2334",
      "a3aac083a063431c87c61fb369cf6730",
      "599668ea2e52462b86ed4ace6377dd2f",
      "ef043578b9ef4a6eb13602717f4f279f",
      "b10b4ba349f64b8eabcae330d101c84a",
      "1a2b7cad96ee4d2ca263eb37d1b166f6",
      "d6ddc709725d4d3091310d02d16de724",
      "fb228d864315403fbd432168d4166829",
      "b82ff0d2312549218ca1ffc3098a9b2e",
      "ff7e73242eb346ea84c0cfb7761a5f81",
      "8be16261687e462aa263f449b0914042",
      "34c5ef2eb6204570a82013a2053ccf20",
      "165f8e622a2246f6b8c847e8c535cab2",
      "f1613c1dc84d4d31a995a9017f14e0ca",
      "79340fab2033421682294a1b90b461b3",
      "f12c48aa125f47c6a81f31d9285e5d5b",
      "8b74ec5511fa47748b1b02a476dd3e76",
      "26fa123cc4dc472d80d2a30e2d24569d",
      "129becd7481a482e9ed6dd2d10e13f9d",
      "ba12debed0474564b1d839d6481d49df",
      "7e37b036b294432c9185bd56f263c2a6",
      "498f01afe6ea40a7ba27eb2f9093336d",
      "9c896a7053fc43fbb822482b0dd3b516",
      "2b5be1e9fcc749dfbddaf398718d2df2",
      "617a8a6766664840a6b1f1c0ce97029c",
      "f3d106fc8301440f8f5bba805a14b05d",
      "246c05e531214cb18a0a6635b24c719e",
      "ee80fb40bde940b98a07200b97d17dd3",
      "08485d9b9228424b83b66de06b9eedc3",
      "07c33d1df81c44c0a816dda0f61107e4",
      "75e0e530b62f44b59e3eacc5d7350a17",
      "c6d3ce798b3f47dc94b4124d2a366695",
      "8efc9f9b9be84428b0ce6a9c40592b8d",
      "e3950a35e7bd4ad590cfad81ee45df80",
      "605cf5d8cf3b40ca9597672e51ea583e",
      "f7214a2c7665413d890651bba7edc216",
      "b6f1cd085c16469c865f34cbeadde60b",
      "fdf26dbff7a7477dab8950bd84761f15",
      "b03f01b54ebe483f935174df22a2d6c6",
      "c6e33145051442d2be8803151b9e5fc3",
      "b6e58df89f0b456d8f51653f45c2e721",
      "67e32d355fa346b29afe9efe26963042",
      "f064924aed7d42da8d3811d320a11222",
      "e1f2df4fd3ea4028b82a46d3fdd1dee7",
      "21b05158df8442dea2d76afa7b4c8366",
      "f1c5b127851547ddbc79e35e5eb2edae",
      "e963f0e6f833495fa1a6185e9eda2df8",
      "7cc6d244fadd4632a33959e603a7a91c",
      "5a563497d1e3423e96e8f6321e72a921",
      "5669570e874d472bae79382c59e8d338",
      "658eaf6a3be0464490e8f6bf0205dc1d",
      "b5ace38f053340cfbbbec8c5336712b0",
      "3445e6e4c6404e8b82634535c0cd30ac",
      "4ac33c9c5c5b482e8500124cb7d0848a",
      "9156434b89274a328fe4c9e4163ea6ee",
      "6b55f487ce7348968e9a6402eb69a863",
      "d3149aecc0ea4700b45db85c4130a2c2",
      "238b0b001c25446abce67cbd695eacc6",
      "f7391aace3d24601bbd257e61a321ab5",
      "5951a727100d4a83970183af2e1eb16d",
      "083ac95604ef4626971c62a926208d8a"
     ]
    },
    "executionInfo": {
     "elapsed": 38242,
     "status": "ok",
     "timestamp": 1616583191424,
     "user": {
      "displayName": "Alvin Chen",
      "photoUrl": "",
      "userId": "12962786962925949010"
     },
     "user_tz": -480
    },
    "id": "5-ZXcxsH2krY",
    "outputId": "065bbdad-ae2f-4e6e-f8dd-2905a516c43a"
   },
   "outputs": [],
   "source": [
    "import ckip_transformers\n",
    "from ckip_transformers.nlp import CkipWordSegmenter, CkipPosTagger\n",
    "# Initialize drivers\n",
    "ws_driver = CkipWordSegmenter(level=3, device=0)\n",
    "pos_driver = CkipPosTagger(level=3, device=0)\n"
   ]
  },
  {
   "cell_type": "code",
   "execution_count": null,
   "metadata": {
    "executionInfo": {
     "elapsed": 616,
     "status": "ok",
     "timestamp": 1616583199764,
     "user": {
      "displayName": "Alvin Chen",
      "photoUrl": "",
      "userId": "12962786962925949010"
     },
     "user_tz": -480
    },
    "id": "wdDb208F2krY"
   },
   "outputs": [],
   "source": [
    "def my_tokenizer(doc):\n",
    "    # `doc`: a list of corpus documents (each element is a document long string)\n",
    "    cur_ws = ws_driver(doc, use_delim = True, delim_set='\\n')\n",
    "    cur_pos = pos_driver(cur_ws)\n",
    "    doc_seg = [[(x,y) for (x,y) in zip(w,p)]  for (w,p) in zip(cur_ws, cur_pos)]\n",
    "    return doc_seg"
   ]
  },
  {
   "cell_type": "markdown",
   "metadata": {
    "id": "hfUgFpWK2krY"
   },
   "source": [
    "### Tokenization Chinese Texts"
   ]
  },
  {
   "cell_type": "code",
   "execution_count": null,
   "metadata": {
    "colab": {
     "base_uri": "https://localhost:8080/"
    },
    "executionInfo": {
     "elapsed": 805,
     "status": "ok",
     "timestamp": 1616583260974,
     "user": {
      "displayName": "Alvin Chen",
      "photoUrl": "",
      "userId": "12962786962925949010"
     },
     "user_tz": -480
    },
    "id": "OSrPYnK52krY",
    "outputId": "d46f2189-9a49-4f5a-ecfb-eb449810f5f8"
   },
   "outputs": [],
   "source": [
    "import pandas as pd\n",
    "\n",
    "df = pd.read_csv('dcard-top100.csv')\n",
    "df.head()\n",
    "corpus = df['content']\n",
    "corpus[:10]"
   ]
  },
  {
   "cell_type": "code",
   "execution_count": null,
   "metadata": {
    "colab": {
     "base_uri": "https://localhost:8080/"
    },
    "executionInfo": {
     "elapsed": 254765,
     "status": "ok",
     "timestamp": 1616583519004,
     "user": {
      "displayName": "Alvin Chen",
      "photoUrl": "",
      "userId": "12962786962925949010"
     },
     "user_tz": -480
    },
    "id": "1KLwqAAs3eGO",
    "outputId": "8c275250-2cc6-4401-c1df-6241f867ad98"
   },
   "outputs": [],
   "source": [
    "%%time\n",
    "corpus_seg = my_tokenizer(corpus)"
   ]
  },
  {
   "cell_type": "code",
   "execution_count": null,
   "metadata": {},
   "outputs": [],
   "source": []
  }
 ],
 "metadata": {
  "kernelspec": {
   "display_name": "Python 3",
   "language": "python",
   "name": "python3"
  },
  "language_info": {
   "codemirror_mode": {
    "name": "ipython",
    "version": 3
   },
   "file_extension": ".py",
   "mimetype": "text/x-python",
   "name": "python",
   "nbconvert_exporter": "python",
   "pygments_lexer": "ipython3",
   "version": "3.7.6"
  },
  "toc": {
   "base_numbering": 1,
   "nav_menu": {},
   "number_sections": false,
   "sideBar": true,
   "skip_h1_title": false,
   "title_cell": "Table of Contents",
   "title_sidebar": "Contents",
   "toc_cell": false,
   "toc_position": {},
   "toc_section_display": true,
   "toc_window_display": false
  },
  "varInspector": {
   "cols": {
    "lenName": 16,
    "lenType": 16,
    "lenVar": 40
   },
   "kernels_config": {
    "python": {
     "delete_cmd_postfix": "",
     "delete_cmd_prefix": "del ",
     "library": "var_list.py",
     "varRefreshCmd": "print(var_dic_list())"
    },
    "r": {
     "delete_cmd_postfix": ") ",
     "delete_cmd_prefix": "rm(",
     "library": "var_list.r",
     "varRefreshCmd": "cat(var_dic_list()) "
    }
   },
   "types_to_exclude": [
    "module",
    "function",
    "builtin_function_or_method",
    "instance",
    "_Feature"
   ],
   "window_display": false
  }
 },
 "nbformat": 4,
 "nbformat_minor": 4
}
