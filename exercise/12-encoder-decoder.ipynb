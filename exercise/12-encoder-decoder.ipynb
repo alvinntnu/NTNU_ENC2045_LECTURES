{
 "cells": [
  {
   "cell_type": "markdown",
   "id": "8cb7372e",
   "metadata": {},
   "source": [
    "# Assignment XII: Encoder-Decoder Sequence Models"
   ]
  },
  {
   "cell_type": "markdown",
   "id": "91858516",
   "metadata": {},
   "source": [
    "## Question 1\n",
    "\n",
    "Please download the dataset, `demo_data/data-student-version.csv`, which includes a two-column data frame. The first column, `INPUT`, includes dates representations in variable ways, and the second column, `OUTPUT`, includes their uniform representations.\n",
    "\n",
    "Please create a Sequence Model using Encoder-Decoder architecture as shown in the Number Addition examples in our lecture, whose objective is to perform date conversion, i.e., to convert the dates in variable formats (INPUT) to dates in a consistent format (OUTPUT).\n",
    "\n",
    "In particular, please compare the effectiveness of different network architectures, including:\n",
    "\n",
    "- Simple RNN based Model\n",
    "- GRU/LSRM based Moel\n",
    "- Bi-directional Sequence Model\n",
    "- Peeky Sequence Model\n",
    "- Attention-based Sequence Model\n",
    " \n",
    "In your report, please present:\n",
    "\n",
    "- (a) the training histories of each model in one graph for comparison of their respective effectiveness.\n",
    "- (b) translations of a few sequences for quick model evaluation\n",
    "- (c) the attention plot from the attention-based model on one random input sequence"
   ]
  },
  {
   "cell_type": "code",
   "execution_count": 58,
   "id": "290cc4b4",
   "metadata": {
    "scrolled": false,
    "tags": [
     "hide-input"
    ]
   },
   "outputs": [
    {
     "name": "stdout",
     "output_type": "stream",
     "text": [
      "-\n",
      "Input sentence: June 16, 2015                \n",
      "Decoded sentence: 2015-06-16__\n",
      "-\n",
      "Input sentence: 12/16/83                     \n",
      "Decoded sentence: 1983-12-16__\n",
      "-\n",
      "Input sentence: SEPTEMBER 9, 1998            \n",
      "Decoded sentence: 1998-09-09__\n",
      "-\n",
      "Input sentence: April 17, 2013               \n",
      "Decoded sentence: 2013-04-17__\n",
      "-\n",
      "Input sentence: January 26, 1990             \n",
      "Decoded sentence: 1990-01-26__\n",
      "-\n",
      "Input sentence: Sunday, May 29, 2011         \n",
      "Decoded sentence: 2011-05-29__\n",
      "-\n",
      "Input sentence: January 3, 1974              \n",
      "Decoded sentence: 1974-01-03__\n",
      "-\n",
      "Input sentence: 10/24/79                     \n",
      "Decoded sentence: 1979-10-24__\n",
      "-\n",
      "Input sentence: jun 14, 1991                 \n",
      "Decoded sentence: 1991-06-14__\n",
      "-\n",
      "Input sentence: November 2, 2014             \n",
      "Decoded sentence: 2014-11-02__\n",
      "-\n",
      "Input sentence: june 20, 1995                \n",
      "Decoded sentence: 1995-06-20__\n",
      "-\n",
      "Input sentence: September 4, 1996            \n",
      "Decoded sentence: 1996-09-04__\n",
      "-\n",
      "Input sentence: OCT 4, 1980                  \n",
      "Decoded sentence: 1980-10-04__\n",
      "-\n",
      "Input sentence: june 19, 1995                \n",
      "Decoded sentence: 1995-06-19__\n",
      "-\n",
      "Input sentence: 9/19/94                      \n",
      "Decoded sentence: 1994-09-19__\n",
      "-\n",
      "Input sentence: Monday, June 30, 2014        \n",
      "Decoded sentence: 2014-06-30__\n",
      "-\n",
      "Input sentence: 12/20/86                     \n",
      "Decoded sentence: 1986-12-20__\n",
      "-\n",
      "Input sentence: Tuesday, July 17, 2012       \n",
      "Decoded sentence: 2012-07-17__\n",
      "-\n",
      "Input sentence: friday, december 26, 1980    \n",
      "Decoded sentence: 1980-12-26__\n",
      "-\n",
      "Input sentence: Jul 30, 1994                 \n",
      "Decoded sentence: 1994-07-30__\n"
     ]
    }
   ],
   "source": [
    "for seq_index in range(20):\n",
    "    # Take one sequence (part of the training set)\n",
    "    # for trying out decoding.\n",
    "\n",
    "    decoded_sentence, _ = decode_sequence(\n",
    "        encoder_input_onehot[seq_index:seq_index + 1, :, :])\n",
    "    print('-')\n",
    "    print('Input sentence:', tr_input_texts[seq_index])\n",
    "    print('Decoded sentence:', decoded_sentence)"
   ]
  },
  {
   "cell_type": "markdown",
   "id": "871e0f61",
   "metadata": {},
   "source": [
    "![](../images/exercise/enc-dec-1.png)\n",
    "![](../images/exercise/enc-dec-2.png)\n",
    "![](../images/exercise/enc-dec-3.png)"
   ]
  }
 ],
 "metadata": {
  "celltoolbar": "Tags",
  "kernelspec": {
   "display_name": "python-notes",
   "language": "python",
   "name": "python-notes"
  },
  "language_info": {
   "codemirror_mode": {
    "name": "ipython",
    "version": 3
   },
   "file_extension": ".py",
   "mimetype": "text/x-python",
   "name": "python",
   "nbconvert_exporter": "python",
   "pygments_lexer": "ipython3",
   "version": "3.7.0"
  },
  "toc": {
   "base_numbering": 1,
   "nav_menu": {},
   "number_sections": false,
   "sideBar": true,
   "skip_h1_title": true,
   "title_cell": "Table of Contents",
   "title_sidebar": "Contents",
   "toc_cell": false,
   "toc_position": {},
   "toc_section_display": true,
   "toc_window_display": false
  },
  "varInspector": {
   "cols": {
    "lenName": 16,
    "lenType": 16,
    "lenVar": 40
   },
   "kernels_config": {
    "python": {
     "delete_cmd_postfix": "",
     "delete_cmd_prefix": "del ",
     "library": "var_list.py",
     "varRefreshCmd": "print(var_dic_list())"
    },
    "r": {
     "delete_cmd_postfix": ") ",
     "delete_cmd_prefix": "rm(",
     "library": "var_list.r",
     "varRefreshCmd": "cat(var_dic_list()) "
    }
   },
   "types_to_exclude": [
    "module",
    "function",
    "builtin_function_or_method",
    "instance",
    "_Feature"
   ],
   "window_display": false
  }
 },
 "nbformat": 4,
 "nbformat_minor": 5
}
